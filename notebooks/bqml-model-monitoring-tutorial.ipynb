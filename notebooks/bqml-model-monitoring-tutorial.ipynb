{
  "cells": [
    {
      "cell_type": "markdown",
      "metadata": {
        "id": "9-yDEAcXq1-s"
      },
      "source": [
        "\u003c!--- header table ---\u003e\n",
        "\u003ctable align=\"left\"\u003e\n",
        "  \u003ctd style=\"text-align: center\"\u003e\n",
        "    \u003ca href=\"https://colab.research.google.com/github/GoogleCloudPlatform/bigquery-ml-utils/blob/master/notebooks/bqml-model-monitoring-tutorial.ipynb\"\u003e\n",
        "      \u003cimg src=\"https://cloud.google.com/ml-engine/images/colab-logo-32px.png\" alt=\"Google Colaboratory logo\"\u003e\n",
        "      \u003cbr\u003eRun in\u003cbr\u003eColab\n",
        "    \u003c/a\u003e\n",
        "  \u003c/td\u003e\n",
        "  \u003ctd style=\"text-align: center\"\u003e\n",
        "    \u003ca href=\"https://console.cloud.google.com/vertex-ai/colab/import/https%3A%2F%2Fraw.githubusercontent.com%2FGoogleCloudPlatform%2Fbigquery-ml-utils%2Fmaster%2Fnotebooks%2Fbqml-model-monitoring-tutorial.ipynb\"\u003e\n",
        "      \u003cimg width=\"32px\" src=\"https://lh3.googleusercontent.com/JmcxdQi-qOpctIvWKgPtrzZdJJK-J3sWE1RsfjZNwshCFgE_9fULcNpuXYTilIR2hjwN\" alt=\"Google Cloud Colab Enterprise logo\"\u003e\n",
        "      \u003cbr\u003eRun in\u003cbr\u003eColab Enterprise\n",
        "    \u003c/a\u003e\n",
        "  \u003c/td\u003e      \n",
        "  \u003ctd style=\"text-align: center\"\u003e\n",
        "    \u003ca href=\"https://github.com/GoogleCloudPlatform/bigquery-ml-utils/blob/master/notebooks/bqml-model-monitoring-tutorial.ipynb\"\u003e\n",
        "      \u003cimg src=\"https://cloud.google.com/ml-engine/images/github-logo-32px.png\" alt=\"GitHub logo\"\u003e\n",
        "      \u003cbr\u003eView on\u003cbr\u003eGitHub\n",
        "    \u003c/a\u003e\n",
        "  \u003c/td\u003e\n",
        "  \u003ctd style=\"text-align: center\"\u003e\n",
        "    \u003ca href=\"https://console.cloud.google.com/vertex-ai/workbench/deploy-notebook?download_url=https://raw.githubusercontent.com/GoogleCloudPlatform/bigquery-ml-utils/master/notebooks/bqml-model-monitoring-tutorial.ipynb\"\u003e\n",
        "      \u003cimg src=\"https://lh3.googleusercontent.com/UiNooY4LUgW_oTvpsNhPpQzsstV5W8F7rYgxgGBD85cWJoLmrOzhVs_ksK_vgx40SHs7jCqkTkCk=e14-rj-sc0xffffff-h130-w32\" alt=\"Vertex AI logo\"\u003e\n",
        "      \u003cbr\u003eOpen in\u003cbr\u003eVertex AI Workbench\n",
        "    \u003c/a\u003e\n",
        "  \u003c/td\u003e\n",
        "\u003c/table\u003e"
      ]
    },
    {
      "cell_type": "markdown",
      "metadata": {
        "id": "jwgBsT4ZeFWn"
      },
      "source": [
        "# BigQuery ML (BQML) - Model Monitoring Tutorial \n",
        "---\n",
        "**UPDATES:**\n",
        "- **Now With Vertex AI Model Monitoring Integration For [Monitoring visualization](https://cloud.google.com/bigquery/docs/model-monitoring-overview#monitoring_visualization)** - March 2025\n",
        "---\n",
        "\n",
        "This notebook provides an in-depth look at model monitoring with BigQuery ML that accompanies the [blog announcing these features](https://cloud.google.com/blog/products/data-analytics/monitor-ml-model-skew-and-drift-in-bigquery). It complements the introductory notebook, ['BigQuery ML (BQML) - Model Monitoring Introduction'](./bqml-model-monitoring-introduction.ipynb), and delves deeper into various monitoring techniques and tools.\n",
        "\n",
        "**Key Areas Covered:**\n",
        "\n",
        "* **Data Preparation and Understanding:**\n",
        "    * Employing `ML.DESCRIBE_DATA` to analyze feature distributions and identify potential data quality issues.\n",
        "    * Splitting data into training, evaluation, and test sets while preserving data balance.\n",
        "* **Model Training and Evaluation:**\n",
        "    * Training a random forest model using `CREATE MODEL` with the `TRANSFORM` clause for incorporating feature engineering.\n",
        "    * Evaluating model performance using `ML.EVALUATE` and `ML.CONFUSION_MATRIX` on different data splits.\n",
        "* **Model Serving and Data Drift Simulation:**\n",
        "    * Generating predictions with `ML.PREDICT` and simulating data drift over time to represent real-world scenarios.\n",
        "* **Model Monitoring Techniques:**\n",
        "    * Implementing `ML.VALIDATE_DATA_SKEW` to detect changes between training and serving data distributions.\n",
        "    * Using `ML.VALIDATE_DATA_DRIFT` to identify gradual shifts in the serving data distribution over time.\n",
        "    * Understanding the metrics used for monitoring: L-infinity distance and Jensen-Shannon divergence.\n",
        "* **TensorFlow Data Validation (TFDV) Integration:**\n",
        "    * Leveraging `ML.TFDV_DESCRIBE` and `ML.TFDV_VALIDATE` to generate descriptive statistics and detect anomalies.\n",
        "    * Visualizing feature distributions using `tfdv.visualize_statistics` for comparative analysis.\n",
        "* **Monitoring Feature Attributions and Drift:**\n",
        "    * Employing `ML.EXPLAIN_PREDICT` to obtain feature attributions and understand feature importance for predictions.\n",
        "    * Monitoring drift in feature attributions over time to gain insights into model behavior changes. \n",
        "* **Continuous Monitoring and Automation:**\n",
        "    * Building a BigQuery SQL job using procedural language to automate skew and drift detection.\n",
        "    * Incorporating alerting mechanisms and model retraining when anomalies are detected.\n",
        "    * Discussing options for automating monitoring jobs:\n",
        "        * BigQuery Scheduled Queries\n",
        "        * Dataform\n",
        "        * Workflows\n",
        "        * Cloud Composer\n",
        "        * Vertex AI Pipelines\n",
        "* **Model Monitoring for Online Inference with Vertex AI:**\n",
        "    * Deploying the trained BigQuery ML model to Vertex AI for online predictions. \n",
        "    * Enabling request-response logging to BigQuery for continuous monitoring of online predictions.\n",
        "\n",
        "**Target Audience:**\n",
        "\n",
        "This tutorial is designed for data scientists, machine learning engineers, and individuals with a basic understanding of BigQuery, SQL, and machine learning concepts who want to delve deeper into model monitoring with BigQuery ML. \n"
      ]
    },
    {
      "cell_type": "markdown",
      "metadata": {
        "id": "J_-1oCZ7oQe_"
      },
      "source": [
        "---\n",
        "## Colab Setup\n",
        "\n",
        "When running this notebook in [Colab](https://colab.google/) or [Colab Enterprise](https://cloud.google.com/colab/docs/introduction), this section will authenticate to GCP (follow prompts in the popup) and set the current project for the session."
      ]
    },
    {
      "cell_type": "code",
      "execution_count": 177,
      "metadata": {
        "executionInfo": {
          "elapsed": 178,
          "status": "ok",
          "timestamp": 1710716382256,
          "user": {
            "displayName": "Mike Henderson",
            "userId": "07691629187611687318"
          },
          "user_tz": 240
        },
        "id": "bUeb3Vz9c-cz",
        "tags": []
      },
      "outputs": [],
      "source": [
        "PROJECT_ID = 'statmike-mlops-349915' # replace with project ID"
      ]
    },
    {
      "cell_type": "code",
      "execution_count": 178,
      "metadata": {
        "colab": {
          "base_uri": "https://localhost:8080/"
        },
        "executionInfo": {
          "elapsed": 1769,
          "status": "ok",
          "timestamp": 1710716384851,
          "user": {
            "displayName": "Mike Henderson",
            "userId": "07691629187611687318"
          },
          "user_tz": 240
        },
        "id": "ztC0h14fc-fr",
        "outputId": "16d1144f-1671-4919-edba-31bc197ffc7b",
        "tags": []
      },
      "outputs": [
        {
          "name": "stdout",
          "output_type": "stream",
          "text": [
            "Not a Colab Environment\n"
          ]
        }
      ],
      "source": [
        "try:\n",
        "    from google.colab import auth\n",
        "    auth.authenticate_user(project_id = PROJECT_ID)\n",
        "    print('Colab authorized to GCP')\n",
        "except Exception:\n",
        "    print('Not a Colab Environment')\n",
        "    pass"
      ]
    },
    {
      "cell_type": "markdown",
      "metadata": {
        "id": "bQQGWBZqq1-s"
      },
      "source": [
        "---\n",
        "## Installs\n",
        "\n",
        "The list `packages` contains tuples of package import names and install names.  If the import name is not found then the install name is used to install quitely for the current user."
      ]
    },
    {
      "cell_type": "code",
      "execution_count": 179,
      "metadata": {
        "tags": [],
        "id": "Fzd008d4q1-s"
      },
      "outputs": [],
      "source": [
        "# tuples of (import name, install name, min_version)\n",
        "packages = [\n",
        "    ('tensorflow_data_validation', 'tensorflow-data-validation'),\n",
        "    ('tensorflow_metadata', 'tensorflow-metadata'),\n",
        "    ('google.cloud.aiplatform', 'google-cloud-aiplatform'),\n",
        "    ('google.cloud.bigquery', 'google-cloud-bigquery'),\n",
        "    ('google.cloud.bigquery_datatransfer', 'google-cloud-bigquery-datatransfer'),\n",
        "    ('numpy', 'numpy'),\n",
        "    ('pandas', 'pandas')\n",
        "]\n",
        "\n",
        "import importlib\n",
        "install = False\n",
        "for package in packages:\n",
        "    if not importlib.util.find_spec(package[0]):\n",
        "        print(f'installing package {package[1]}')\n",
        "        install = True\n",
        "        !pip install {package[1]} -U -q --user\n",
        "    elif len(package) == 3:\n",
        "        if importlib.metadata.version(package[0]) \u003c package[2]:\n",
        "            print(f'updating package {package[1]}')\n",
        "            install = True\n",
        "            !pip install {package[1]} -U -q --user"
      ]
    },
    {
      "cell_type": "markdown",
      "metadata": {
        "id": "t5_y3wGaq1-s"
      },
      "source": [
        "### API Enablement"
      ]
    },
    {
      "cell_type": "code",
      "execution_count": 180,
      "metadata": {
        "tags": [],
        "id": "7jniwrP6q1-s"
      },
      "outputs": [],
      "source": [
        "!gcloud services enable aiplatform.googleapis.com"
      ]
    },
    {
      "cell_type": "markdown",
      "metadata": {
        "id": "mxmtsmlaq1-s"
      },
      "source": [
        "### Restart Kernel (If Installs Occured)\n",
        "After a kernel restart the code submission can start with the next cell after this one."
      ]
    },
    {
      "cell_type": "code",
      "execution_count": 181,
      "metadata": {
        "tags": [],
        "id": "NrDFayS1q1-s"
      },
      "outputs": [],
      "source": [
        "if install:\n",
        "    import IPython\n",
        "    app = IPython.Application.instance()\n",
        "    app.kernel.do_shutdown(True)\n",
        "    IPython.display.display(IPython.display.Markdown(\"\"\"\u003cdiv class=\\\"alert alert-block alert-warning\\\"\u003e\n",
        "        \u003cb\u003e⚠️ The kernel is going to restart. Please wait until it is finished before continuing to the next step. The previous cells do not need to be run again⚠️\u003c/b\u003e\n",
        "        \u003c/div\u003e\"\"\"))"
      ]
    },
    {
      "cell_type": "markdown",
      "metadata": {
        "id": "yt5uZFvRoWLp"
      },
      "source": [
        "---\n",
        "## Setup"
      ]
    },
    {
      "cell_type": "markdown",
      "metadata": {
        "id": "C9QpLV8Cq1-s"
      },
      "source": [
        "Packages:"
      ]
    },
    {
      "cell_type": "code",
      "execution_count": 182,
      "metadata": {
        "tags": [],
        "id": "s2zzBBzrq1-s"
      },
      "outputs": [],
      "source": [
        "import json\n",
        "\n",
        "from IPython.display import Image, display, HTML"
      ]
    },
    {
      "cell_type": "markdown",
      "metadata": {
        "id": "TF4B3XCpq1-s"
      },
      "source": [
        "Clients:"
      ]
    },
    {
      "cell_type": "code",
      "execution_count": 183,
      "metadata": {
        "colab": {
          "base_uri": "https://localhost:8080/"
        },
        "executionInfo": {
          "elapsed": 159,
          "status": "ok",
          "timestamp": 1710716582376,
          "user": {
            "displayName": "Mike Henderson",
            "userId": "07691629187611687318"
          },
          "user_tz": 240
        },
        "id": "14nUE43Oc-ip",
        "outputId": "55b2c2b1-b6ad-42cc-b3cc-d6e3afcaa071",
        "tags": []
      },
      "outputs": [
        {
          "name": "stdout",
          "output_type": "stream",
          "text": [
            "The google.cloud.bigquery extension is already loaded. To reload it, use:\n",
            "  %reload_ext google.cloud.bigquery\n"
          ]
        }
      ],
      "source": [
        "%load_ext google.cloud.bigquery"
      ]
    },
    {
      "cell_type": "markdown",
      "metadata": {
        "id": "nvjRi9moq1-s"
      },
      "source": [
        "Prepare the code below for your environment.\n",
        "\n",
        "This notebook takes advantage of the [BigQuery IPython magic](https://cloud.google.com/python/docs/reference/bigquery/latest/magics) for legibility and ease of copy/pasting to BigQuery SQL editor.  If this notebook is being used from an environment that can run notebooks it needs further preparation: Colab, Colab Enterprise, Vertex AI Workbench Instances, or BigQuery Studio with a Python Notebook.  The SQL code in these cells uses the fully qualified [BigQuery table](https://cloud.google.com/bigquery/docs/tables-intro) names in the form `projectname.datasetname.tablename`.  Prepare for your environment by:\n",
        "- Edit \u003e Find\n",
        "    - Find: `statmike-mlops-349915`\n",
        "    - Replace: `\u003cyour project id\u003e`\n",
        "    - Replace All"
      ]
    },
    {
      "cell_type": "markdown",
      "metadata": {
        "id": "bpu9HmYiq1-s"
      },
      "source": [
        "---\n",
        "## BigQuery Source Data\n",
        "\n",
        "This project will uses the following data source as a tutorial.  It is good for examples like this because it is small, has few columns, but contains categorial and numerical data types.\n",
        "\n",
        "The source table is a BigQuery Public Dataset table.  The following cell uses the [BigQuery IPython magic](https://cloud.google.com/python/docs/reference/bigquery/latest/magics) to retrieve 5 rows of the table for review.  This data is known as [Palmer Penguins](https://allisonhorst.github.io/palmerpenguins/) data: \n",
        "\n",
        "```\n",
        "@Manual{,\n",
        "  title = {palmerpenguins: Palmer Archipelago (Antarctica) penguin data},\n",
        "  author = {Allison Marie Horst and Alison Presmanes Hill and Kristen B Gorman},\n",
        "  year = {2020},\n",
        "  note = {R package version 0.1.0},\n",
        "  doi = {10.5281/zenodo.3960218},\n",
        "  url = {https://allisonhorst.github.io/palmerpenguins/},\n",
        "}\n",
        "```\n",
        "\n",
        "\n",
        "There are 334 observations of 4 numerical features (culman length, culmen depth, flipper length, body mass) and 2  categorical features (island, sex) that represent 3 species of penguins."
      ]
    },
    {
      "cell_type": "code",
      "execution_count": 184,
      "metadata": {
        "tags": [],
        "id": "zQ8NFrz9q1-s"
      },
      "outputs": [
        {
          "data": {
            "application/vnd.jupyter.widget-view+json": {
              "model_id": "127e40610a0e409291f7bcbba80b31b5",
              "version_major": 2,
              "version_minor": 0
            },
            "text/plain": [
              "Query is running:   0%|          |"
            ]
          },
          "metadata": {},
          "output_type": "display_data"
        },
        {
          "data": {
            "application/vnd.jupyter.widget-view+json": {
              "model_id": "ee3c9bec001d4eb787687fd44d9256d4",
              "version_major": 2,
              "version_minor": 0
            },
            "text/plain": [
              "Downloading:   0%|          |"
            ]
          },
          "metadata": {},
          "output_type": "display_data"
        },
        {
          "data": {
            "text/html": [
              "\u003cdiv\u003e\n",
              "\u003cstyle scoped\u003e\n",
              "    .dataframe tbody tr th:only-of-type {\n",
              "        vertical-align: middle;\n",
              "    }\n",
              "\n",
              "    .dataframe tbody tr th {\n",
              "        vertical-align: top;\n",
              "    }\n",
              "\n",
              "    .dataframe thead th {\n",
              "        text-align: right;\n",
              "    }\n",
              "\u003c/style\u003e\n",
              "\u003ctable border=\"1\" class=\"dataframe\"\u003e\n",
              "  \u003cthead\u003e\n",
              "    \u003ctr style=\"text-align: right;\"\u003e\n",
              "      \u003cth\u003e\u003c/th\u003e\n",
              "      \u003cth\u003especies\u003c/th\u003e\n",
              "      \u003cth\u003eisland\u003c/th\u003e\n",
              "      \u003cth\u003eculmen_length_mm\u003c/th\u003e\n",
              "      \u003cth\u003eculmen_depth_mm\u003c/th\u003e\n",
              "      \u003cth\u003eflipper_length_mm\u003c/th\u003e\n",
              "      \u003cth\u003ebody_mass_g\u003c/th\u003e\n",
              "      \u003cth\u003esex\u003c/th\u003e\n",
              "    \u003c/tr\u003e\n",
              "  \u003c/thead\u003e\n",
              "  \u003ctbody\u003e\n",
              "    \u003ctr\u003e\n",
              "      \u003cth\u003e0\u003c/th\u003e\n",
              "      \u003ctd\u003eAdelie Penguin (Pygoscelis adeliae)\u003c/td\u003e\n",
              "      \u003ctd\u003eDream\u003c/td\u003e\n",
              "      \u003ctd\u003e36.6\u003c/td\u003e\n",
              "      \u003ctd\u003e18.4\u003c/td\u003e\n",
              "      \u003ctd\u003e184.0\u003c/td\u003e\n",
              "      \u003ctd\u003e3475.0\u003c/td\u003e\n",
              "      \u003ctd\u003eFEMALE\u003c/td\u003e\n",
              "    \u003c/tr\u003e\n",
              "    \u003ctr\u003e\n",
              "      \u003cth\u003e1\u003c/th\u003e\n",
              "      \u003ctd\u003eAdelie Penguin (Pygoscelis adeliae)\u003c/td\u003e\n",
              "      \u003ctd\u003eDream\u003c/td\u003e\n",
              "      \u003ctd\u003e39.8\u003c/td\u003e\n",
              "      \u003ctd\u003e19.1\u003c/td\u003e\n",
              "      \u003ctd\u003e184.0\u003c/td\u003e\n",
              "      \u003ctd\u003e4650.0\u003c/td\u003e\n",
              "      \u003ctd\u003eMALE\u003c/td\u003e\n",
              "    \u003c/tr\u003e\n",
              "    \u003ctr\u003e\n",
              "      \u003cth\u003e2\u003c/th\u003e\n",
              "      \u003ctd\u003eAdelie Penguin (Pygoscelis adeliae)\u003c/td\u003e\n",
              "      \u003ctd\u003eDream\u003c/td\u003e\n",
              "      \u003ctd\u003e40.9\u003c/td\u003e\n",
              "      \u003ctd\u003e18.9\u003c/td\u003e\n",
              "      \u003ctd\u003e184.0\u003c/td\u003e\n",
              "      \u003ctd\u003e3900.0\u003c/td\u003e\n",
              "      \u003ctd\u003eMALE\u003c/td\u003e\n",
              "    \u003c/tr\u003e\n",
              "    \u003ctr\u003e\n",
              "      \u003cth\u003e3\u003c/th\u003e\n",
              "      \u003ctd\u003eChinstrap penguin (Pygoscelis antarctica)\u003c/td\u003e\n",
              "      \u003ctd\u003eDream\u003c/td\u003e\n",
              "      \u003ctd\u003e46.5\u003c/td\u003e\n",
              "      \u003ctd\u003e17.9\u003c/td\u003e\n",
              "      \u003ctd\u003e192.0\u003c/td\u003e\n",
              "      \u003ctd\u003e3500.0\u003c/td\u003e\n",
              "      \u003ctd\u003eFEMALE\u003c/td\u003e\n",
              "    \u003c/tr\u003e\n",
              "    \u003ctr\u003e\n",
              "      \u003cth\u003e4\u003c/th\u003e\n",
              "      \u003ctd\u003eAdelie Penguin (Pygoscelis adeliae)\u003c/td\u003e\n",
              "      \u003ctd\u003eDream\u003c/td\u003e\n",
              "      \u003ctd\u003e37.3\u003c/td\u003e\n",
              "      \u003ctd\u003e16.8\u003c/td\u003e\n",
              "      \u003ctd\u003e192.0\u003c/td\u003e\n",
              "      \u003ctd\u003e3000.0\u003c/td\u003e\n",
              "      \u003ctd\u003eFEMALE\u003c/td\u003e\n",
              "    \u003c/tr\u003e\n",
              "  \u003c/tbody\u003e\n",
              "\u003c/table\u003e\n",
              "\u003c/div\u003e"
            ],
            "text/plain": [
              "                                     species island  culmen_length_mm  \\\n",
              "0        Adelie Penguin (Pygoscelis adeliae)  Dream              36.6   \n",
              "1        Adelie Penguin (Pygoscelis adeliae)  Dream              39.8   \n",
              "2        Adelie Penguin (Pygoscelis adeliae)  Dream              40.9   \n",
              "3  Chinstrap penguin (Pygoscelis antarctica)  Dream              46.5   \n",
              "4        Adelie Penguin (Pygoscelis adeliae)  Dream              37.3   \n",
              "\n",
              "   culmen_depth_mm  flipper_length_mm  body_mass_g     sex  \n",
              "0             18.4              184.0       3475.0  FEMALE  \n",
              "1             19.1              184.0       4650.0    MALE  \n",
              "2             18.9              184.0       3900.0    MALE  \n",
              "3             17.9              192.0       3500.0  FEMALE  \n",
              "4             16.8              192.0       3000.0  FEMALE  "
            ]
          },
          "execution_count": 184,
          "metadata": {},
          "output_type": "execute_result"
        }
      ],
      "source": [
        "%%bigquery\n",
        "SELECT *\n",
        "FROM `bigquery-public-data.ml_datasets.penguins`\n",
        "LIMIT 5"
      ]
    },
    {
      "cell_type": "markdown",
      "metadata": {
        "id": "-1RSi-H4q1-s"
      },
      "source": [
        "---\n",
        "## **Goal: Train, Serve, And Monitor A Model**\n",
        "\n",
        "**Train A Model**\n",
        "\n",
        "In this workflow our goal is to train and operationalize a machine leanring model that can classify unidentified penguins into the correct `species` using only measurements (`culmen_length_mm`, `culmen_depth_mm`, `flipper_length_mm`, `body_mass_g`), location (`island`) and gender (`sex`).  That means serving predictions, monitoring features, and potentially retraining the model.\n",
        "\n",
        "**Operationalize The Model**\n",
        "\n",
        "Taking a trained model to production introduces challenges. The model needs to be regularly evaluated to understand it's performance once put into production. This can be challenging as actual values used to assess the accuracy of predictions may arrive later than the predictions. Continuous monitoring bridges this gap with early signals in two key ways. First, monitoring the distributions of each of the models features for shift (called **skew**) from the training data to the current data. Then, also monitoring for any gradual **drift** in the distribution over time. Setting thresholds and getting alerts for features on each of this distribution changes gives early signals that the model needs to be carefully considered for evaluation and re-training to ensure effectiveness. If the evaluation can be automated then this can even extend to **continuous training**. "
      ]
    },
    {
      "cell_type": "markdown",
      "metadata": {
        "id": "Ljg_SM1tq1-s"
      },
      "source": [
        "---\n",
        "## Data Preparation"
      ]
    },
    {
      "cell_type": "markdown",
      "metadata": {
        "tags": [],
        "id": "8qY-wOqIq1-s"
      },
      "source": [
        "### Understand The Data Source With `ML.DESCRIBE_DATA`\n",
        "\n",
        "Reviewing a few records, like above, gives a good sense of how the data is arranged. Before proceeding with machine learning techniques it is important to understand more about these raw columns.  Are they ready to use a features in a model or is some form of feature engineering needed first?  For this, the distribution of values is an important starting point.  \n",
        "\n",
        "While SQL could be used to look at the distribution, it would be a time consuming process and requires different techniques for different data types like numerical, string, boolean, dates, times, array and struct version of these, and arrays of structs.\n",
        "\n",
        "To make this process fast and simple, the new [`ML.DESCRIBE_DATA`](https://cloud.google.com/bigquery/docs/reference/standard-sql/bigqueryml-syntax-describe-data)\n",
        "\n",
        "function is used to get a single row for each column the describes the data distribution:"
      ]
    },
    {
      "cell_type": "code",
      "execution_count": 185,
      "metadata": {
        "tags": [],
        "id": "9WOS7086q1-s"
      },
      "outputs": [
        {
          "data": {
            "application/vnd.jupyter.widget-view+json": {
              "model_id": "42f2ccd1b3eb46d68dbb346c7c2570ef",
              "version_major": 2,
              "version_minor": 0
            },
            "text/plain": [
              "Query is running:   0%|          |"
            ]
          },
          "metadata": {},
          "output_type": "display_data"
        },
        {
          "data": {
            "application/vnd.jupyter.widget-view+json": {
              "model_id": "e9a584c064564f9f98c131bec7fea23a",
              "version_major": 2,
              "version_minor": 0
            },
            "text/plain": [
              "Downloading:   0%|          |"
            ]
          },
          "metadata": {},
          "output_type": "display_data"
        },
        {
          "data": {
            "text/html": [
              "\u003cdiv\u003e\n",
              "\u003cstyle scoped\u003e\n",
              "    .dataframe tbody tr th:only-of-type {\n",
              "        vertical-align: middle;\n",
              "    }\n",
              "\n",
              "    .dataframe tbody tr th {\n",
              "        vertical-align: top;\n",
              "    }\n",
              "\n",
              "    .dataframe thead th {\n",
              "        text-align: right;\n",
              "    }\n",
              "\u003c/style\u003e\n",
              "\u003ctable border=\"1\" class=\"dataframe\"\u003e\n",
              "  \u003cthead\u003e\n",
              "    \u003ctr style=\"text-align: right;\"\u003e\n",
              "      \u003cth\u003e\u003c/th\u003e\n",
              "      \u003cth\u003ename\u003c/th\u003e\n",
              "      \u003cth\u003enum_rows\u003c/th\u003e\n",
              "      \u003cth\u003enum_nulls\u003c/th\u003e\n",
              "      \u003cth\u003enum_zeros\u003c/th\u003e\n",
              "      \u003cth\u003emin\u003c/th\u003e\n",
              "      \u003cth\u003emax\u003c/th\u003e\n",
              "      \u003cth\u003emean\u003c/th\u003e\n",
              "      \u003cth\u003estddev\u003c/th\u003e\n",
              "      \u003cth\u003emedian\u003c/th\u003e\n",
              "      \u003cth\u003equantiles\u003c/th\u003e\n",
              "      \u003cth\u003eunique\u003c/th\u003e\n",
              "      \u003cth\u003eavg_string_length\u003c/th\u003e\n",
              "      \u003cth\u003enum_values\u003c/th\u003e\n",
              "      \u003cth\u003etop_values\u003c/th\u003e\n",
              "      \u003cth\u003emin_array_length\u003c/th\u003e\n",
              "      \u003cth\u003emax_array_length\u003c/th\u003e\n",
              "      \u003cth\u003eavg_array_length\u003c/th\u003e\n",
              "      \u003cth\u003etotal_array_length\u003c/th\u003e\n",
              "      \u003cth\u003earray_length_quantiles\u003c/th\u003e\n",
              "      \u003cth\u003edimension\u003c/th\u003e\n",
              "    \u003c/tr\u003e\n",
              "  \u003c/thead\u003e\n",
              "  \u003ctbody\u003e\n",
              "    \u003ctr\u003e\n",
              "      \u003cth\u003e0\u003c/th\u003e\n",
              "      \u003ctd\u003ebody_mass_g\u003c/td\u003e\n",
              "      \u003ctd\u003e344\u003c/td\u003e\n",
              "      \u003ctd\u003e2\u003c/td\u003e\n",
              "      \u003ctd\u003e0\u003c/td\u003e\n",
              "      \u003ctd\u003e2700\u003c/td\u003e\n",
              "      \u003ctd\u003e6300\u003c/td\u003e\n",
              "      \u003ctd\u003e4201.754386\u003c/td\u003e\n",
              "      \u003ctd\u003e800.781229\u003c/td\u003e\n",
              "      \u003ctd\u003e4000.0\u003c/td\u003e\n",
              "      \u003ctd\u003e[2700.0, 4000.0, 6300.0]\u003c/td\u003e\n",
              "      \u003ctd\u003e\u0026lt;NA\u0026gt;\u003c/td\u003e\n",
              "      \u003ctd\u003eNaN\u003c/td\u003e\n",
              "      \u003ctd\u003e342\u003c/td\u003e\n",
              "      \u003ctd\u003e[]\u003c/td\u003e\n",
              "      \u003ctd\u003e\u0026lt;NA\u0026gt;\u003c/td\u003e\n",
              "      \u003ctd\u003e\u0026lt;NA\u0026gt;\u003c/td\u003e\n",
              "      \u003ctd\u003eNaN\u003c/td\u003e\n",
              "      \u003ctd\u003e\u0026lt;NA\u0026gt;\u003c/td\u003e\n",
              "      \u003ctd\u003e[]\u003c/td\u003e\n",
              "      \u003ctd\u003e\u0026lt;NA\u0026gt;\u003c/td\u003e\n",
              "    \u003c/tr\u003e\n",
              "    \u003ctr\u003e\n",
              "      \u003cth\u003e1\u003c/th\u003e\n",
              "      \u003ctd\u003eculmen_depth_mm\u003c/td\u003e\n",
              "      \u003ctd\u003e344\u003c/td\u003e\n",
              "      \u003ctd\u003e2\u003c/td\u003e\n",
              "      \u003ctd\u003e0\u003c/td\u003e\n",
              "      \u003ctd\u003e13.1\u003c/td\u003e\n",
              "      \u003ctd\u003e21.5\u003c/td\u003e\n",
              "      \u003ctd\u003e17.151170\u003c/td\u003e\n",
              "      \u003ctd\u003e1.971904\u003c/td\u003e\n",
              "      \u003ctd\u003e17.3\u003c/td\u003e\n",
              "      \u003ctd\u003e[13.1, 17.3, 21.5]\u003c/td\u003e\n",
              "      \u003ctd\u003e\u0026lt;NA\u0026gt;\u003c/td\u003e\n",
              "      \u003ctd\u003eNaN\u003c/td\u003e\n",
              "      \u003ctd\u003e342\u003c/td\u003e\n",
              "      \u003ctd\u003e[]\u003c/td\u003e\n",
              "      \u003ctd\u003e\u0026lt;NA\u0026gt;\u003c/td\u003e\n",
              "      \u003ctd\u003e\u0026lt;NA\u0026gt;\u003c/td\u003e\n",
              "      \u003ctd\u003eNaN\u003c/td\u003e\n",
              "      \u003ctd\u003e\u0026lt;NA\u0026gt;\u003c/td\u003e\n",
              "      \u003ctd\u003e[]\u003c/td\u003e\n",
              "      \u003ctd\u003e\u0026lt;NA\u0026gt;\u003c/td\u003e\n",
              "    \u003c/tr\u003e\n",
              "    \u003ctr\u003e\n",
              "      \u003cth\u003e2\u003c/th\u003e\n",
              "      \u003ctd\u003eculmen_length_mm\u003c/td\u003e\n",
              "      \u003ctd\u003e344\u003c/td\u003e\n",
              "      \u003ctd\u003e2\u003c/td\u003e\n",
              "      \u003ctd\u003e0\u003c/td\u003e\n",
              "      \u003ctd\u003e32.1\u003c/td\u003e\n",
              "      \u003ctd\u003e59.6\u003c/td\u003e\n",
              "      \u003ctd\u003e43.921930\u003c/td\u003e\n",
              "      \u003ctd\u003e5.451596\u003c/td\u003e\n",
              "      \u003ctd\u003e44.1\u003c/td\u003e\n",
              "      \u003ctd\u003e[32.1, 44.1, 59.6]\u003c/td\u003e\n",
              "      \u003ctd\u003e\u0026lt;NA\u0026gt;\u003c/td\u003e\n",
              "      \u003ctd\u003eNaN\u003c/td\u003e\n",
              "      \u003ctd\u003e342\u003c/td\u003e\n",
              "      \u003ctd\u003e[]\u003c/td\u003e\n",
              "      \u003ctd\u003e\u0026lt;NA\u0026gt;\u003c/td\u003e\n",
              "      \u003ctd\u003e\u0026lt;NA\u0026gt;\u003c/td\u003e\n",
              "      \u003ctd\u003eNaN\u003c/td\u003e\n",
              "      \u003ctd\u003e\u0026lt;NA\u0026gt;\u003c/td\u003e\n",
              "      \u003ctd\u003e[]\u003c/td\u003e\n",
              "      \u003ctd\u003e\u0026lt;NA\u0026gt;\u003c/td\u003e\n",
              "    \u003c/tr\u003e\n",
              "    \u003ctr\u003e\n",
              "      \u003cth\u003e3\u003c/th\u003e\n",
              "      \u003ctd\u003eflipper_length_mm\u003c/td\u003e\n",
              "      \u003ctd\u003e344\u003c/td\u003e\n",
              "      \u003ctd\u003e2\u003c/td\u003e\n",
              "      \u003ctd\u003e0\u003c/td\u003e\n",
              "      \u003ctd\u003e172\u003c/td\u003e\n",
              "      \u003ctd\u003e231\u003c/td\u003e\n",
              "      \u003ctd\u003e200.915205\u003c/td\u003e\n",
              "      \u003ctd\u003e14.041141\u003c/td\u003e\n",
              "      \u003ctd\u003e197.0\u003c/td\u003e\n",
              "      \u003ctd\u003e[172.0, 197.0, 231.0]\u003c/td\u003e\n",
              "      \u003ctd\u003e\u0026lt;NA\u0026gt;\u003c/td\u003e\n",
              "      \u003ctd\u003eNaN\u003c/td\u003e\n",
              "      \u003ctd\u003e342\u003c/td\u003e\n",
              "      \u003ctd\u003e[]\u003c/td\u003e\n",
              "      \u003ctd\u003e\u0026lt;NA\u0026gt;\u003c/td\u003e\n",
              "      \u003ctd\u003e\u0026lt;NA\u0026gt;\u003c/td\u003e\n",
              "      \u003ctd\u003eNaN\u003c/td\u003e\n",
              "      \u003ctd\u003e\u0026lt;NA\u0026gt;\u003c/td\u003e\n",
              "      \u003ctd\u003e[]\u003c/td\u003e\n",
              "      \u003ctd\u003e\u0026lt;NA\u0026gt;\u003c/td\u003e\n",
              "    \u003c/tr\u003e\n",
              "    \u003ctr\u003e\n",
              "      \u003cth\u003e4\u003c/th\u003e\n",
              "      \u003ctd\u003eisland\u003c/td\u003e\n",
              "      \u003ctd\u003e344\u003c/td\u003e\n",
              "      \u003ctd\u003e0\u003c/td\u003e\n",
              "      \u003ctd\u003e\u0026lt;NA\u0026gt;\u003c/td\u003e\n",
              "      \u003ctd\u003eBiscoe\u003c/td\u003e\n",
              "      \u003ctd\u003eTorgersen\u003c/td\u003e\n",
              "      \u003ctd\u003eNaN\u003c/td\u003e\n",
              "      \u003ctd\u003eNaN\u003c/td\u003e\n",
              "      \u003ctd\u003eNaN\u003c/td\u003e\n",
              "      \u003ctd\u003e[]\u003c/td\u003e\n",
              "      \u003ctd\u003e3\u003c/td\u003e\n",
              "      \u003ctd\u003e6.093023\u003c/td\u003e\n",
              "      \u003ctd\u003e344\u003c/td\u003e\n",
              "      \u003ctd\u003e[{'value': 'Biscoe', 'count': 168}]\u003c/td\u003e\n",
              "      \u003ctd\u003e\u0026lt;NA\u0026gt;\u003c/td\u003e\n",
              "      \u003ctd\u003e\u0026lt;NA\u0026gt;\u003c/td\u003e\n",
              "      \u003ctd\u003eNaN\u003c/td\u003e\n",
              "      \u003ctd\u003e\u0026lt;NA\u0026gt;\u003c/td\u003e\n",
              "      \u003ctd\u003e[]\u003c/td\u003e\n",
              "      \u003ctd\u003e\u0026lt;NA\u0026gt;\u003c/td\u003e\n",
              "    \u003c/tr\u003e\n",
              "    \u003ctr\u003e\n",
              "      \u003cth\u003e5\u003c/th\u003e\n",
              "      \u003ctd\u003esex\u003c/td\u003e\n",
              "      \u003ctd\u003e344\u003c/td\u003e\n",
              "      \u003ctd\u003e10\u003c/td\u003e\n",
              "      \u003ctd\u003e\u0026lt;NA\u0026gt;\u003c/td\u003e\n",
              "      \u003ctd\u003e.\u003c/td\u003e\n",
              "      \u003ctd\u003eMALE\u003c/td\u003e\n",
              "      \u003ctd\u003eNaN\u003c/td\u003e\n",
              "      \u003ctd\u003eNaN\u003c/td\u003e\n",
              "      \u003ctd\u003eNaN\u003c/td\u003e\n",
              "      \u003ctd\u003e[]\u003c/td\u003e\n",
              "      \u003ctd\u003e3\u003c/td\u003e\n",
              "      \u003ctd\u003e4.979042\u003c/td\u003e\n",
              "      \u003ctd\u003e334\u003c/td\u003e\n",
              "      \u003ctd\u003e[{'value': 'MALE', 'count': 168}]\u003c/td\u003e\n",
              "      \u003ctd\u003e\u0026lt;NA\u0026gt;\u003c/td\u003e\n",
              "      \u003ctd\u003e\u0026lt;NA\u0026gt;\u003c/td\u003e\n",
              "      \u003ctd\u003eNaN\u003c/td\u003e\n",
              "      \u003ctd\u003e\u0026lt;NA\u0026gt;\u003c/td\u003e\n",
              "      \u003ctd\u003e[]\u003c/td\u003e\n",
              "      \u003ctd\u003e\u0026lt;NA\u0026gt;\u003c/td\u003e\n",
              "    \u003c/tr\u003e\n",
              "    \u003ctr\u003e\n",
              "      \u003cth\u003e6\u003c/th\u003e\n",
              "      \u003ctd\u003especies\u003c/td\u003e\n",
              "      \u003ctd\u003e344\u003c/td\u003e\n",
              "      \u003ctd\u003e0\u003c/td\u003e\n",
              "      \u003ctd\u003e\u0026lt;NA\u0026gt;\u003c/td\u003e\n",
              "      \u003ctd\u003eAdelie Penguin (Pygoscelis adeliae)\u003c/td\u003e\n",
              "      \u003ctd\u003eGentoo penguin (Pygoscelis papua)\u003c/td\u003e\n",
              "      \u003ctd\u003eNaN\u003c/td\u003e\n",
              "      \u003ctd\u003eNaN\u003c/td\u003e\n",
              "      \u003ctd\u003eNaN\u003c/td\u003e\n",
              "      \u003ctd\u003e[]\u003c/td\u003e\n",
              "      \u003ctd\u003e3\u003c/td\u003e\n",
              "      \u003ctd\u003e35.465116\u003c/td\u003e\n",
              "      \u003ctd\u003e344\u003c/td\u003e\n",
              "      \u003ctd\u003e[{'value': 'Adelie Penguin (Pygoscelis adeliae)', 'count': 152}]\u003c/td\u003e\n",
              "      \u003ctd\u003e\u0026lt;NA\u0026gt;\u003c/td\u003e\n",
              "      \u003ctd\u003e\u0026lt;NA\u0026gt;\u003c/td\u003e\n",
              "      \u003ctd\u003eNaN\u003c/td\u003e\n",
              "      \u003ctd\u003e\u0026lt;NA\u0026gt;\u003c/td\u003e\n",
              "      \u003ctd\u003e[]\u003c/td\u003e\n",
              "      \u003ctd\u003e\u0026lt;NA\u0026gt;\u003c/td\u003e\n",
              "    \u003c/tr\u003e\n",
              "  \u003c/tbody\u003e\n",
              "\u003c/table\u003e\n",
              "\u003c/div\u003e"
            ],
            "text/plain": [
              "                name  num_rows  num_nulls  num_zeros  \\\n",
              "0        body_mass_g       344          2          0   \n",
              "1    culmen_depth_mm       344          2          0   \n",
              "2   culmen_length_mm       344          2          0   \n",
              "3  flipper_length_mm       344          2          0   \n",
              "4             island       344          0       \u003cNA\u003e   \n",
              "5                sex       344         10       \u003cNA\u003e   \n",
              "6            species       344          0       \u003cNA\u003e   \n",
              "\n",
              "                                   min                                max  \\\n",
              "0                                 2700                               6300   \n",
              "1                                 13.1                               21.5   \n",
              "2                                 32.1                               59.6   \n",
              "3                                  172                                231   \n",
              "4                               Biscoe                          Torgersen   \n",
              "5                                    .                               MALE   \n",
              "6  Adelie Penguin (Pygoscelis adeliae)  Gentoo penguin (Pygoscelis papua)   \n",
              "\n",
              "          mean      stddev  median                 quantiles  unique  \\\n",
              "0  4201.754386  800.781229  4000.0  [2700.0, 4000.0, 6300.0]    \u003cNA\u003e   \n",
              "1    17.151170    1.971904    17.3        [13.1, 17.3, 21.5]    \u003cNA\u003e   \n",
              "2    43.921930    5.451596    44.1        [32.1, 44.1, 59.6]    \u003cNA\u003e   \n",
              "3   200.915205   14.041141   197.0     [172.0, 197.0, 231.0]    \u003cNA\u003e   \n",
              "4          NaN         NaN     NaN                        []       3   \n",
              "5          NaN         NaN     NaN                        []       3   \n",
              "6          NaN         NaN     NaN                        []       3   \n",
              "\n",
              "   avg_string_length  num_values  \\\n",
              "0                NaN         342   \n",
              "1                NaN         342   \n",
              "2                NaN         342   \n",
              "3                NaN         342   \n",
              "4           6.093023         344   \n",
              "5           4.979042         334   \n",
              "6          35.465116         344   \n",
              "\n",
              "                                                         top_values  \\\n",
              "0                                                                []   \n",
              "1                                                                []   \n",
              "2                                                                []   \n",
              "3                                                                []   \n",
              "4                               [{'value': 'Biscoe', 'count': 168}]   \n",
              "5                                 [{'value': 'MALE', 'count': 168}]   \n",
              "6  [{'value': 'Adelie Penguin (Pygoscelis adeliae)', 'count': 152}]   \n",
              "\n",
              "   min_array_length  max_array_length  avg_array_length  total_array_length  \\\n",
              "0              \u003cNA\u003e              \u003cNA\u003e               NaN                \u003cNA\u003e   \n",
              "1              \u003cNA\u003e              \u003cNA\u003e               NaN                \u003cNA\u003e   \n",
              "2              \u003cNA\u003e              \u003cNA\u003e               NaN                \u003cNA\u003e   \n",
              "3              \u003cNA\u003e              \u003cNA\u003e               NaN                \u003cNA\u003e   \n",
              "4              \u003cNA\u003e              \u003cNA\u003e               NaN                \u003cNA\u003e   \n",
              "5              \u003cNA\u003e              \u003cNA\u003e               NaN                \u003cNA\u003e   \n",
              "6              \u003cNA\u003e              \u003cNA\u003e               NaN                \u003cNA\u003e   \n",
              "\n",
              "  array_length_quantiles  dimension  \n",
              "0                     []       \u003cNA\u003e  \n",
              "1                     []       \u003cNA\u003e  \n",
              "2                     []       \u003cNA\u003e  \n",
              "3                     []       \u003cNA\u003e  \n",
              "4                     []       \u003cNA\u003e  \n",
              "5                     []       \u003cNA\u003e  \n",
              "6                     []       \u003cNA\u003e  "
            ]
          },
          "execution_count": 185,
          "metadata": {},
          "output_type": "execute_result"
        }
      ],
      "source": [
        "%%bigquery\n",
        "SELECT *\n",
        "FROM ML.DESCRIBE_DATA(\n",
        "  TABLE `bigquery-public-data.ml_datasets.penguins`\n",
        ")"
      ]
    },
    {
      "cell_type": "markdown",
      "metadata": {
        "id": "DK_IthcXq1-s"
      },
      "source": [
        "Some observations:\n",
        "- All columns have `num_rows` and `num_nulls`\n",
        "- Numerical columns have `min`, `max`, `stddev`, `median`, and `quantiles` showing the distribution of the data in the column\n",
        "- Categorical (string) columns have `min`, `max` values representing the class levels and a `unique` column show how many class levels\n",
        "\n",
        "Data quality observation:\n",
        "- The column `sex` has both missing values (10 indicated in `num_nulls`) as well as a `min` values of `.`.  This appears to be a data quality issue that needs fixing."
      ]
    },
    {
      "cell_type": "markdown",
      "metadata": {
        "tags": [],
        "id": "N0wIlTnEq1-s"
      },
      "source": [
        "### Create A BigQuery Dataset\n",
        "\n",
        "Create a new [BigQuery Dataset](https://cloud.google.com/bigquery/docs/datasets) as a working location for this workflow:"
      ]
    },
    {
      "cell_type": "code",
      "execution_count": 186,
      "metadata": {
        "tags": [],
        "id": "Bxg5QxvGq1-s"
      },
      "outputs": [
        {
          "data": {
            "application/vnd.jupyter.widget-view+json": {
              "model_id": "2537124ea6cf4b98b80da9c53ddc9b55",
              "version_major": 2,
              "version_minor": 0
            },
            "text/plain": [
              "Query is running:   0%|          |"
            ]
          },
          "metadata": {},
          "output_type": "display_data"
        },
        {
          "data": {
            "text/html": [
              "\u003cdiv\u003e\n",
              "\u003cstyle scoped\u003e\n",
              "    .dataframe tbody tr th:only-of-type {\n",
              "        vertical-align: middle;\n",
              "    }\n",
              "\n",
              "    .dataframe tbody tr th {\n",
              "        vertical-align: top;\n",
              "    }\n",
              "\n",
              "    .dataframe thead th {\n",
              "        text-align: right;\n",
              "    }\n",
              "\u003c/style\u003e\n",
              "\u003ctable border=\"1\" class=\"dataframe\"\u003e\n",
              "  \u003cthead\u003e\n",
              "    \u003ctr style=\"text-align: right;\"\u003e\n",
              "      \u003cth\u003e\u003c/th\u003e\n",
              "    \u003c/tr\u003e\n",
              "  \u003c/thead\u003e\n",
              "  \u003ctbody\u003e\n",
              "  \u003c/tbody\u003e\n",
              "\u003c/table\u003e\n",
              "\u003c/div\u003e"
            ],
            "text/plain": [
              "Empty DataFrame\n",
              "Columns: []\n",
              "Index: []"
            ]
          },
          "execution_count": 186,
          "metadata": {},
          "output_type": "execute_result"
        }
      ],
      "source": [
        "%%bigquery\n",
        "CREATE SCHEMA IF NOT EXISTS `statmike-mlops-349915.bqml_model_monitoring`\n",
        "    OPTIONS(\n",
        "        location = 'US'\n",
        "    )"
      ]
    },
    {
      "cell_type": "markdown",
      "metadata": {
        "id": "Dz5gkkX5q1-s"
      },
      "source": [
        "### Prepare The Source Data\n",
        "\n",
        "Make a copy of the table source in the new BigQuery dataset with fixes applied to the data quality issue identified for the `sex` column with values of `.`.\n",
        "\n",
        "\u003e Note: A copy is being made in this case because the source project is `bigquery-public` which is not editable."
      ]
    },
    {
      "cell_type": "code",
      "execution_count": 187,
      "metadata": {
        "tags": [],
        "id": "xgVszl6rq1-s"
      },
      "outputs": [
        {
          "data": {
            "application/vnd.jupyter.widget-view+json": {
              "model_id": "4b8bafff872a433d838476636a1bb794",
              "version_major": 2,
              "version_minor": 0
            },
            "text/plain": [
              "Query is running:   0%|          |"
            ]
          },
          "metadata": {},
          "output_type": "display_data"
        },
        {
          "data": {
            "text/html": [
              "\u003cdiv\u003e\n",
              "\u003cstyle scoped\u003e\n",
              "    .dataframe tbody tr th:only-of-type {\n",
              "        vertical-align: middle;\n",
              "    }\n",
              "\n",
              "    .dataframe tbody tr th {\n",
              "        vertical-align: top;\n",
              "    }\n",
              "\n",
              "    .dataframe thead th {\n",
              "        text-align: right;\n",
              "    }\n",
              "\u003c/style\u003e\n",
              "\u003ctable border=\"1\" class=\"dataframe\"\u003e\n",
              "  \u003cthead\u003e\n",
              "    \u003ctr style=\"text-align: right;\"\u003e\n",
              "      \u003cth\u003e\u003c/th\u003e\n",
              "    \u003c/tr\u003e\n",
              "  \u003c/thead\u003e\n",
              "  \u003ctbody\u003e\n",
              "  \u003c/tbody\u003e\n",
              "\u003c/table\u003e\n",
              "\u003c/div\u003e"
            ],
            "text/plain": [
              "Empty DataFrame\n",
              "Columns: []\n",
              "Index: []"
            ]
          },
          "execution_count": 187,
          "metadata": {},
          "output_type": "execute_result"
        }
      ],
      "source": [
        "%%bigquery\n",
        "CREATE OR REPLACE TABLE `statmike-mlops-349915.bqml_model_monitoring.training` AS\n",
        "    SELECT * EXCEPT(sex),\n",
        "        CASE WHEN sex = '.' THEN NULL ELSE sex END AS sex\n",
        "    FROM `bigquery-public-data.ml_datasets.penguins`"
      ]
    },
    {
      "cell_type": "markdown",
      "metadata": {
        "id": "8w-GHOxiq1-s"
      },
      "source": [
        "### Split The Data\n",
        "\n",
        "Depending on the ML technique, it may be desired to split the data into partitions for training, evaluation, and testing (in this case monitoring examples). \n",
        "\n",
        "The following cell creates a version with a new column column named `splits` with values [`TRAIN`, `EVAL`, `TEST`].  The data is first grouped (stratified) by the values of `species` and `island` to preserve any imbalance across the groups. "
      ]
    },
    {
      "cell_type": "code",
      "execution_count": 188,
      "metadata": {
        "tags": [],
        "id": "8wRv1h58q1-s"
      },
      "outputs": [
        {
          "data": {
            "application/vnd.jupyter.widget-view+json": {
              "model_id": "3be6440ff8134913aeba76b6d4de2cf7",
              "version_major": 2,
              "version_minor": 0
            },
            "text/plain": [
              "Query is running:   0%|          |"
            ]
          },
          "metadata": {},
          "output_type": "display_data"
        },
        {
          "data": {
            "text/html": [
              "\u003cdiv\u003e\n",
              "\u003cstyle scoped\u003e\n",
              "    .dataframe tbody tr th:only-of-type {\n",
              "        vertical-align: middle;\n",
              "    }\n",
              "\n",
              "    .dataframe tbody tr th {\n",
              "        vertical-align: top;\n",
              "    }\n",
              "\n",
              "    .dataframe thead th {\n",
              "        text-align: right;\n",
              "    }\n",
              "\u003c/style\u003e\n",
              "\u003ctable border=\"1\" class=\"dataframe\"\u003e\n",
              "  \u003cthead\u003e\n",
              "    \u003ctr style=\"text-align: right;\"\u003e\n",
              "      \u003cth\u003e\u003c/th\u003e\n",
              "    \u003c/tr\u003e\n",
              "  \u003c/thead\u003e\n",
              "  \u003ctbody\u003e\n",
              "  \u003c/tbody\u003e\n",
              "\u003c/table\u003e\n",
              "\u003c/div\u003e"
            ],
            "text/plain": [
              "Empty DataFrame\n",
              "Columns: []\n",
              "Index: []"
            ]
          },
          "execution_count": 188,
          "metadata": {},
          "output_type": "execute_result"
        }
      ],
      "source": [
        "%%bigquery\n",
        "CREATE OR REPLACE TABLE `statmike-mlops-349915.bqml_model_monitoring.training_split` AS\n",
        "    WITH\n",
        "        # randomized numbering within groups (species, island)\n",
        "        RANDOM AS (\n",
        "            SELECT *,\n",
        "                ROW_NUMBER() OVER (PARTITION BY species, island ORDER BY RAND()) AS sequence\n",
        "            FROM `statmike-mlops-349915.bqml_model_monitoring.training`\n",
        "        ),\n",
        "        # get group sizes\n",
        "        GROUP_SIZES AS (\n",
        "            SELECT species, island, COUNT(*) AS count\n",
        "            FROM `statmike-mlops-349915.bqml_model_monitoring.training`\n",
        "            GROUP BY species, island\n",
        "        )\n",
        "    SELECT\n",
        "        * EXCEPT(sequence, count),\n",
        "        CASE\n",
        "            WHEN sequence \u003c= CEIL(.2 * count) AND species is not Null THEN 'TEST'\n",
        "            WHEN sequence \u003c= CEIL(.3 * count) THEN 'EVAL'\n",
        "            ELSE 'TRAIN'\n",
        "        END AS splits\n",
        "    FROM RANDOM\n",
        "    LEFT OUTER JOIN GROUP_SIZES USING(species, island)"
      ]
    },
    {
      "cell_type": "markdown",
      "metadata": {
        "id": "CISFvuNeq1-s"
      },
      "source": [
        "Review the data by `splits`:"
      ]
    },
    {
      "cell_type": "code",
      "execution_count": 189,
      "metadata": {
        "tags": [],
        "id": "EsBp4w_kq1-s"
      },
      "outputs": [
        {
          "data": {
            "application/vnd.jupyter.widget-view+json": {
              "model_id": "dd1f0b5506354c229a14e862ac4963bb",
              "version_major": 2,
              "version_minor": 0
            },
            "text/plain": [
              "Query is running:   0%|          |"
            ]
          },
          "metadata": {},
          "output_type": "display_data"
        },
        {
          "data": {
            "application/vnd.jupyter.widget-view+json": {
              "model_id": "3d3a45154ea44018a34be3f998b5cd96",
              "version_major": 2,
              "version_minor": 0
            },
            "text/plain": [
              "Downloading:   0%|          |"
            ]
          },
          "metadata": {},
          "output_type": "display_data"
        },
        {
          "data": {
            "text/html": [
              "\u003cdiv\u003e\n",
              "\u003cstyle scoped\u003e\n",
              "    .dataframe tbody tr th:only-of-type {\n",
              "        vertical-align: middle;\n",
              "    }\n",
              "\n",
              "    .dataframe tbody tr th {\n",
              "        vertical-align: top;\n",
              "    }\n",
              "\n",
              "    .dataframe thead th {\n",
              "        text-align: right;\n",
              "    }\n",
              "\u003c/style\u003e\n",
              "\u003ctable border=\"1\" class=\"dataframe\"\u003e\n",
              "  \u003cthead\u003e\n",
              "    \u003ctr style=\"text-align: right;\"\u003e\n",
              "      \u003cth\u003e\u003c/th\u003e\n",
              "      \u003cth\u003especies\u003c/th\u003e\n",
              "      \u003cth\u003eisland\u003c/th\u003e\n",
              "      \u003cth\u003ecount\u003c/th\u003e\n",
              "      \u003cth\u003eTRAIN_PCT\u003c/th\u003e\n",
              "      \u003cth\u003eEVAL_PCT\u003c/th\u003e\n",
              "      \u003cth\u003eTEST_PCT\u003c/th\u003e\n",
              "    \u003c/tr\u003e\n",
              "  \u003c/thead\u003e\n",
              "  \u003ctbody\u003e\n",
              "    \u003ctr\u003e\n",
              "      \u003cth\u003e0\u003c/th\u003e\n",
              "      \u003ctd\u003eGentoo penguin (Pygoscelis papua)\u003c/td\u003e\n",
              "      \u003ctd\u003eBiscoe\u003c/td\u003e\n",
              "      \u003ctd\u003e124\u003c/td\u003e\n",
              "      \u003ctd\u003e69.354839\u003c/td\u003e\n",
              "      \u003ctd\u003e10.483871\u003c/td\u003e\n",
              "      \u003ctd\u003e20.161290\u003c/td\u003e\n",
              "    \u003c/tr\u003e\n",
              "    \u003ctr\u003e\n",
              "      \u003cth\u003e1\u003c/th\u003e\n",
              "      \u003ctd\u003eAdelie Penguin (Pygoscelis adeliae)\u003c/td\u003e\n",
              "      \u003ctd\u003eTorgersen\u003c/td\u003e\n",
              "      \u003ctd\u003e52\u003c/td\u003e\n",
              "      \u003ctd\u003e69.230769\u003c/td\u003e\n",
              "      \u003ctd\u003e9.615385\u003c/td\u003e\n",
              "      \u003ctd\u003e21.153846\u003c/td\u003e\n",
              "    \u003c/tr\u003e\n",
              "    \u003ctr\u003e\n",
              "      \u003cth\u003e2\u003c/th\u003e\n",
              "      \u003ctd\u003eAdelie Penguin (Pygoscelis adeliae)\u003c/td\u003e\n",
              "      \u003ctd\u003eDream\u003c/td\u003e\n",
              "      \u003ctd\u003e56\u003c/td\u003e\n",
              "      \u003ctd\u003e69.642857\u003c/td\u003e\n",
              "      \u003ctd\u003e8.928571\u003c/td\u003e\n",
              "      \u003ctd\u003e21.428571\u003c/td\u003e\n",
              "    \u003c/tr\u003e\n",
              "    \u003ctr\u003e\n",
              "      \u003cth\u003e3\u003c/th\u003e\n",
              "      \u003ctd\u003eAdelie Penguin (Pygoscelis adeliae)\u003c/td\u003e\n",
              "      \u003ctd\u003eBiscoe\u003c/td\u003e\n",
              "      \u003ctd\u003e44\u003c/td\u003e\n",
              "      \u003ctd\u003e68.181818\u003c/td\u003e\n",
              "      \u003ctd\u003e11.363636\u003c/td\u003e\n",
              "      \u003ctd\u003e20.454545\u003c/td\u003e\n",
              "    \u003c/tr\u003e\n",
              "    \u003ctr\u003e\n",
              "      \u003cth\u003e4\u003c/th\u003e\n",
              "      \u003ctd\u003eChinstrap penguin (Pygoscelis antarctica)\u003c/td\u003e\n",
              "      \u003ctd\u003eDream\u003c/td\u003e\n",
              "      \u003ctd\u003e68\u003c/td\u003e\n",
              "      \u003ctd\u003e69.117647\u003c/td\u003e\n",
              "      \u003ctd\u003e10.294118\u003c/td\u003e\n",
              "      \u003ctd\u003e20.588235\u003c/td\u003e\n",
              "    \u003c/tr\u003e\n",
              "  \u003c/tbody\u003e\n",
              "\u003c/table\u003e\n",
              "\u003c/div\u003e"
            ],
            "text/plain": [
              "                                     species     island  count  TRAIN_PCT  \\\n",
              "0          Gentoo penguin (Pygoscelis papua)     Biscoe    124  69.354839   \n",
              "1        Adelie Penguin (Pygoscelis adeliae)  Torgersen     52  69.230769   \n",
              "2        Adelie Penguin (Pygoscelis adeliae)      Dream     56  69.642857   \n",
              "3        Adelie Penguin (Pygoscelis adeliae)     Biscoe     44  68.181818   \n",
              "4  Chinstrap penguin (Pygoscelis antarctica)      Dream     68  69.117647   \n",
              "\n",
              "    EVAL_PCT   TEST_PCT  \n",
              "0  10.483871  20.161290  \n",
              "1   9.615385  21.153846  \n",
              "2   8.928571  21.428571  \n",
              "3  11.363636  20.454545  \n",
              "4  10.294118  20.588235  "
            ]
          },
          "execution_count": 189,
          "metadata": {},
          "output_type": "execute_result"
        }
      ],
      "source": [
        "%%bigquery\n",
        "SELECT species, island,\n",
        "    COUNT(*) as count,\n",
        "    100 * COUNTIF(splits = 'TRAIN')/COUNT(*) AS TRAIN_PCT,\n",
        "    100 * COUNTIF(splits = 'EVAL')/COUNT(*) AS EVAL_PCT,\n",
        "    100 * COUNTIF(splits = 'TEST')/COUNT(*) AS TEST_PCT\n",
        "FROM `statmike-mlops-349915.bqml_model_monitoring.training_split`\n",
        "GROUP BY species, island"
      ]
    },
    {
      "cell_type": "markdown",
      "metadata": {
        "id": "B2T6TUjZq1-s"
      },
      "source": [
        "### Review the Training Split With: `ML.DESCRIBE_DATA`\n",
        "\n",
        "Use [`ML.DESCRIBE_DATA`](https://cloud.google.com/bigquery/docs/reference/standard-sql/bigqueryml-syntax-describe-data) to first review the training split of the source data.  This time, some of the additional parameters of the function are useful:\n",
        "- `top_k`: get the top 3 most frequent categories for string columns (default = 1)\n",
        "- `num_quantiles`: get 4 quantiles for numerical columns (default = 2)"
      ]
    },
    {
      "cell_type": "code",
      "execution_count": 190,
      "metadata": {
        "tags": [],
        "id": "2ICLVpMoq1-s"
      },
      "outputs": [
        {
          "data": {
            "application/vnd.jupyter.widget-view+json": {
              "model_id": "ecc00c4102774d258cc59f9a6c88b6cf",
              "version_major": 2,
              "version_minor": 0
            },
            "text/plain": [
              "Query is running:   0%|          |"
            ]
          },
          "metadata": {},
          "output_type": "display_data"
        },
        {
          "data": {
            "application/vnd.jupyter.widget-view+json": {
              "model_id": "1ea73a6f686248cd89eca36aea4a40a9",
              "version_major": 2,
              "version_minor": 0
            },
            "text/plain": [
              "Downloading:   0%|          |"
            ]
          },
          "metadata": {},
          "output_type": "display_data"
        },
        {
          "data": {
            "text/html": [
              "\u003cdiv\u003e\n",
              "\u003cstyle scoped\u003e\n",
              "    .dataframe tbody tr th:only-of-type {\n",
              "        vertical-align: middle;\n",
              "    }\n",
              "\n",
              "    .dataframe tbody tr th {\n",
              "        vertical-align: top;\n",
              "    }\n",
              "\n",
              "    .dataframe thead th {\n",
              "        text-align: right;\n",
              "    }\n",
              "\u003c/style\u003e\n",
              "\u003ctable border=\"1\" class=\"dataframe\"\u003e\n",
              "  \u003cthead\u003e\n",
              "    \u003ctr style=\"text-align: right;\"\u003e\n",
              "      \u003cth\u003e\u003c/th\u003e\n",
              "      \u003cth\u003ename\u003c/th\u003e\n",
              "      \u003cth\u003enum_rows\u003c/th\u003e\n",
              "      \u003cth\u003enum_nulls\u003c/th\u003e\n",
              "      \u003cth\u003enum_zeros\u003c/th\u003e\n",
              "      \u003cth\u003emin\u003c/th\u003e\n",
              "      \u003cth\u003emax\u003c/th\u003e\n",
              "      \u003cth\u003emean\u003c/th\u003e\n",
              "      \u003cth\u003estddev\u003c/th\u003e\n",
              "      \u003cth\u003emedian\u003c/th\u003e\n",
              "      \u003cth\u003equantiles\u003c/th\u003e\n",
              "      \u003cth\u003eunique\u003c/th\u003e\n",
              "      \u003cth\u003eavg_string_length\u003c/th\u003e\n",
              "      \u003cth\u003enum_values\u003c/th\u003e\n",
              "      \u003cth\u003etop_values\u003c/th\u003e\n",
              "      \u003cth\u003emin_array_length\u003c/th\u003e\n",
              "      \u003cth\u003emax_array_length\u003c/th\u003e\n",
              "      \u003cth\u003eavg_array_length\u003c/th\u003e\n",
              "      \u003cth\u003etotal_array_length\u003c/th\u003e\n",
              "      \u003cth\u003earray_length_quantiles\u003c/th\u003e\n",
              "      \u003cth\u003edimension\u003c/th\u003e\n",
              "    \u003c/tr\u003e\n",
              "  \u003c/thead\u003e\n",
              "  \u003ctbody\u003e\n",
              "    \u003ctr\u003e\n",
              "      \u003cth\u003e0\u003c/th\u003e\n",
              "      \u003ctd\u003ebody_mass_g\u003c/td\u003e\n",
              "      \u003ctd\u003e238\u003c/td\u003e\n",
              "      \u003ctd\u003e2\u003c/td\u003e\n",
              "      \u003ctd\u003e0\u003c/td\u003e\n",
              "      \u003ctd\u003e2700\u003c/td\u003e\n",
              "      \u003ctd\u003e6300\u003c/td\u003e\n",
              "      \u003ctd\u003e4219.279661\u003c/td\u003e\n",
              "      \u003ctd\u003e798.952645\u003c/td\u003e\n",
              "      \u003ctd\u003e4000.0\u003c/td\u003e\n",
              "      \u003ctd\u003e[2700.0, 3600.0, 4000.0, 4800.0, 6300.0]\u003c/td\u003e\n",
              "      \u003ctd\u003e\u0026lt;NA\u0026gt;\u003c/td\u003e\n",
              "      \u003ctd\u003eNaN\u003c/td\u003e\n",
              "      \u003ctd\u003e236\u003c/td\u003e\n",
              "      \u003ctd\u003e[]\u003c/td\u003e\n",
              "      \u003ctd\u003e\u0026lt;NA\u0026gt;\u003c/td\u003e\n",
              "      \u003ctd\u003e\u0026lt;NA\u0026gt;\u003c/td\u003e\n",
              "      \u003ctd\u003eNaN\u003c/td\u003e\n",
              "      \u003ctd\u003e\u0026lt;NA\u0026gt;\u003c/td\u003e\n",
              "      \u003ctd\u003e[]\u003c/td\u003e\n",
              "      \u003ctd\u003e\u0026lt;NA\u0026gt;\u003c/td\u003e\n",
              "    \u003c/tr\u003e\n",
              "    \u003ctr\u003e\n",
              "      \u003cth\u003e1\u003c/th\u003e\n",
              "      \u003ctd\u003eculmen_depth_mm\u003c/td\u003e\n",
              "      \u003ctd\u003e238\u003c/td\u003e\n",
              "      \u003ctd\u003e2\u003c/td\u003e\n",
              "      \u003ctd\u003e0\u003c/td\u003e\n",
              "      \u003ctd\u003e13.1\u003c/td\u003e\n",
              "      \u003ctd\u003e21.5\u003c/td\u003e\n",
              "      \u003ctd\u003e17.191949\u003c/td\u003e\n",
              "      \u003ctd\u003e1.964143\u003c/td\u003e\n",
              "      \u003ctd\u003e17.3\u003c/td\u003e\n",
              "      \u003ctd\u003e[13.1, 15.6, 17.3, 18.7, 21.5]\u003c/td\u003e\n",
              "      \u003ctd\u003e\u0026lt;NA\u0026gt;\u003c/td\u003e\n",
              "      \u003ctd\u003eNaN\u003c/td\u003e\n",
              "      \u003ctd\u003e236\u003c/td\u003e\n",
              "      \u003ctd\u003e[]\u003c/td\u003e\n",
              "      \u003ctd\u003e\u0026lt;NA\u0026gt;\u003c/td\u003e\n",
              "      \u003ctd\u003e\u0026lt;NA\u0026gt;\u003c/td\u003e\n",
              "      \u003ctd\u003eNaN\u003c/td\u003e\n",
              "      \u003ctd\u003e\u0026lt;NA\u0026gt;\u003c/td\u003e\n",
              "      \u003ctd\u003e[]\u003c/td\u003e\n",
              "      \u003ctd\u003e\u0026lt;NA\u0026gt;\u003c/td\u003e\n",
              "    \u003c/tr\u003e\n",
              "    \u003ctr\u003e\n",
              "      \u003cth\u003e2\u003c/th\u003e\n",
              "      \u003ctd\u003eculmen_length_mm\u003c/td\u003e\n",
              "      \u003ctd\u003e238\u003c/td\u003e\n",
              "      \u003ctd\u003e2\u003c/td\u003e\n",
              "      \u003ctd\u003e0\u003c/td\u003e\n",
              "      \u003ctd\u003e33.5\u003c/td\u003e\n",
              "      \u003ctd\u003e58\u003c/td\u003e\n",
              "      \u003ctd\u003e44.061017\u003c/td\u003e\n",
              "      \u003ctd\u003e5.446209\u003c/td\u003e\n",
              "      \u003ctd\u003e44.5\u003c/td\u003e\n",
              "      \u003ctd\u003e[33.5, 39.3, 44.5, 48.7, 58.0]\u003c/td\u003e\n",
              "      \u003ctd\u003e\u0026lt;NA\u0026gt;\u003c/td\u003e\n",
              "      \u003ctd\u003eNaN\u003c/td\u003e\n",
              "      \u003ctd\u003e236\u003c/td\u003e\n",
              "      \u003ctd\u003e[]\u003c/td\u003e\n",
              "      \u003ctd\u003e\u0026lt;NA\u0026gt;\u003c/td\u003e\n",
              "      \u003ctd\u003e\u0026lt;NA\u0026gt;\u003c/td\u003e\n",
              "      \u003ctd\u003eNaN\u003c/td\u003e\n",
              "      \u003ctd\u003e\u0026lt;NA\u0026gt;\u003c/td\u003e\n",
              "      \u003ctd\u003e[]\u003c/td\u003e\n",
              "      \u003ctd\u003e\u0026lt;NA\u0026gt;\u003c/td\u003e\n",
              "    \u003c/tr\u003e\n",
              "    \u003ctr\u003e\n",
              "      \u003cth\u003e3\u003c/th\u003e\n",
              "      \u003ctd\u003eflipper_length_mm\u003c/td\u003e\n",
              "      \u003ctd\u003e238\u003c/td\u003e\n",
              "      \u003ctd\u003e2\u003c/td\u003e\n",
              "      \u003ctd\u003e0\u003c/td\u003e\n",
              "      \u003ctd\u003e172\u003c/td\u003e\n",
              "      \u003ctd\u003e231\u003c/td\u003e\n",
              "      \u003ctd\u003e201.233051\u003c/td\u003e\n",
              "      \u003ctd\u003e13.942099\u003c/td\u003e\n",
              "      \u003ctd\u003e197.0\u003c/td\u003e\n",
              "      \u003ctd\u003e[172.0, 190.0, 197.0, 213.0, 231.0]\u003c/td\u003e\n",
              "      \u003ctd\u003e\u0026lt;NA\u0026gt;\u003c/td\u003e\n",
              "      \u003ctd\u003eNaN\u003c/td\u003e\n",
              "      \u003ctd\u003e236\u003c/td\u003e\n",
              "      \u003ctd\u003e[]\u003c/td\u003e\n",
              "      \u003ctd\u003e\u0026lt;NA\u0026gt;\u003c/td\u003e\n",
              "      \u003ctd\u003e\u0026lt;NA\u0026gt;\u003c/td\u003e\n",
              "      \u003ctd\u003eNaN\u003c/td\u003e\n",
              "      \u003ctd\u003e\u0026lt;NA\u0026gt;\u003c/td\u003e\n",
              "      \u003ctd\u003e[]\u003c/td\u003e\n",
              "      \u003ctd\u003e\u0026lt;NA\u0026gt;\u003c/td\u003e\n",
              "    \u003c/tr\u003e\n",
              "    \u003ctr\u003e\n",
              "      \u003cth\u003e4\u003c/th\u003e\n",
              "      \u003ctd\u003eisland\u003c/td\u003e\n",
              "      \u003ctd\u003e238\u003c/td\u003e\n",
              "      \u003ctd\u003e0\u003c/td\u003e\n",
              "      \u003ctd\u003e\u0026lt;NA\u0026gt;\u003c/td\u003e\n",
              "      \u003ctd\u003eBiscoe\u003c/td\u003e\n",
              "      \u003ctd\u003eTorgersen\u003c/td\u003e\n",
              "      \u003ctd\u003eNaN\u003c/td\u003e\n",
              "      \u003ctd\u003eNaN\u003c/td\u003e\n",
              "      \u003ctd\u003eNaN\u003c/td\u003e\n",
              "      \u003ctd\u003e[]\u003c/td\u003e\n",
              "      \u003ctd\u003e3\u003c/td\u003e\n",
              "      \u003ctd\u003e6.092437\u003c/td\u003e\n",
              "      \u003ctd\u003e238\u003c/td\u003e\n",
              "      \u003ctd\u003e[{'value': 'Biscoe', 'count': 116}, {'value': 'Dream', 'count': 86}, {'value': 'Torgersen', 'count': 36}]\u003c/td\u003e\n",
              "      \u003ctd\u003e\u0026lt;NA\u0026gt;\u003c/td\u003e\n",
              "      \u003ctd\u003e\u0026lt;NA\u0026gt;\u003c/td\u003e\n",
              "      \u003ctd\u003eNaN\u003c/td\u003e\n",
              "      \u003ctd\u003e\u0026lt;NA\u0026gt;\u003c/td\u003e\n",
              "      \u003ctd\u003e[]\u003c/td\u003e\n",
              "      \u003ctd\u003e\u0026lt;NA\u0026gt;\u003c/td\u003e\n",
              "    \u003c/tr\u003e\n",
              "    \u003ctr\u003e\n",
              "      \u003cth\u003e5\u003c/th\u003e\n",
              "      \u003ctd\u003esex\u003c/td\u003e\n",
              "      \u003ctd\u003e238\u003c/td\u003e\n",
              "      \u003ctd\u003e7\u003c/td\u003e\n",
              "      \u003ctd\u003e\u0026lt;NA\u0026gt;\u003c/td\u003e\n",
              "      \u003ctd\u003eFEMALE\u003c/td\u003e\n",
              "      \u003ctd\u003eMALE\u003c/td\u003e\n",
              "      \u003ctd\u003eNaN\u003c/td\u003e\n",
              "      \u003ctd\u003eNaN\u003c/td\u003e\n",
              "      \u003ctd\u003eNaN\u003c/td\u003e\n",
              "      \u003ctd\u003e[]\u003c/td\u003e\n",
              "      \u003ctd\u003e2\u003c/td\u003e\n",
              "      \u003ctd\u003e4.961039\u003c/td\u003e\n",
              "      \u003ctd\u003e231\u003c/td\u003e\n",
              "      \u003ctd\u003e[{'value': 'MALE', 'count': 120}, {'value': 'FEMALE', 'count': 111}, {'value': None, 'count': 7}]\u003c/td\u003e\n",
              "      \u003ctd\u003e\u0026lt;NA\u0026gt;\u003c/td\u003e\n",
              "      \u003ctd\u003e\u0026lt;NA\u0026gt;\u003c/td\u003e\n",
              "      \u003ctd\u003eNaN\u003c/td\u003e\n",
              "      \u003ctd\u003e\u0026lt;NA\u0026gt;\u003c/td\u003e\n",
              "      \u003ctd\u003e[]\u003c/td\u003e\n",
              "      \u003ctd\u003e\u0026lt;NA\u0026gt;\u003c/td\u003e\n",
              "    \u003c/tr\u003e\n",
              "    \u003ctr\u003e\n",
              "      \u003cth\u003e6\u003c/th\u003e\n",
              "      \u003ctd\u003especies\u003c/td\u003e\n",
              "      \u003ctd\u003e238\u003c/td\u003e\n",
              "      \u003ctd\u003e0\u003c/td\u003e\n",
              "      \u003ctd\u003e\u0026lt;NA\u0026gt;\u003c/td\u003e\n",
              "      \u003ctd\u003eAdelie Penguin (Pygoscelis adeliae)\u003c/td\u003e\n",
              "      \u003ctd\u003eGentoo penguin (Pygoscelis papua)\u003c/td\u003e\n",
              "      \u003ctd\u003eNaN\u003c/td\u003e\n",
              "      \u003ctd\u003eNaN\u003c/td\u003e\n",
              "      \u003ctd\u003eNaN\u003c/td\u003e\n",
              "      \u003ctd\u003e[]\u003c/td\u003e\n",
              "      \u003ctd\u003e3\u003c/td\u003e\n",
              "      \u003ctd\u003e35.462185\u003c/td\u003e\n",
              "      \u003ctd\u003e238\u003c/td\u003e\n",
              "      \u003ctd\u003e[{'value': 'Adelie Penguin (Pygoscelis adeliae)', 'count': 105}, {'value': 'Gentoo penguin (Pygoscelis papua)', 'count': 86}, {'value': 'Chinstrap penguin (Pygoscelis antarctica)', 'count': 47}]\u003c/td\u003e\n",
              "      \u003ctd\u003e\u0026lt;NA\u0026gt;\u003c/td\u003e\n",
              "      \u003ctd\u003e\u0026lt;NA\u0026gt;\u003c/td\u003e\n",
              "      \u003ctd\u003eNaN\u003c/td\u003e\n",
              "      \u003ctd\u003e\u0026lt;NA\u0026gt;\u003c/td\u003e\n",
              "      \u003ctd\u003e[]\u003c/td\u003e\n",
              "      \u003ctd\u003e\u0026lt;NA\u0026gt;\u003c/td\u003e\n",
              "    \u003c/tr\u003e\n",
              "  \u003c/tbody\u003e\n",
              "\u003c/table\u003e\n",
              "\u003c/div\u003e"
            ],
            "text/plain": [
              "                name  num_rows  num_nulls  num_zeros  \\\n",
              "0        body_mass_g       238          2          0   \n",
              "1    culmen_depth_mm       238          2          0   \n",
              "2   culmen_length_mm       238          2          0   \n",
              "3  flipper_length_mm       238          2          0   \n",
              "4             island       238          0       \u003cNA\u003e   \n",
              "5                sex       238          7       \u003cNA\u003e   \n",
              "6            species       238          0       \u003cNA\u003e   \n",
              "\n",
              "                                   min                                max  \\\n",
              "0                                 2700                               6300   \n",
              "1                                 13.1                               21.5   \n",
              "2                                 33.5                                 58   \n",
              "3                                  172                                231   \n",
              "4                               Biscoe                          Torgersen   \n",
              "5                               FEMALE                               MALE   \n",
              "6  Adelie Penguin (Pygoscelis adeliae)  Gentoo penguin (Pygoscelis papua)   \n",
              "\n",
              "          mean      stddev  median                                 quantiles  \\\n",
              "0  4219.279661  798.952645  4000.0  [2700.0, 3600.0, 4000.0, 4800.0, 6300.0]   \n",
              "1    17.191949    1.964143    17.3            [13.1, 15.6, 17.3, 18.7, 21.5]   \n",
              "2    44.061017    5.446209    44.5            [33.5, 39.3, 44.5, 48.7, 58.0]   \n",
              "3   201.233051   13.942099   197.0       [172.0, 190.0, 197.0, 213.0, 231.0]   \n",
              "4          NaN         NaN     NaN                                        []   \n",
              "5          NaN         NaN     NaN                                        []   \n",
              "6          NaN         NaN     NaN                                        []   \n",
              "\n",
              "   unique  avg_string_length  num_values  \\\n",
              "0    \u003cNA\u003e                NaN         236   \n",
              "1    \u003cNA\u003e                NaN         236   \n",
              "2    \u003cNA\u003e                NaN         236   \n",
              "3    \u003cNA\u003e                NaN         236   \n",
              "4       3           6.092437         238   \n",
              "5       2           4.961039         231   \n",
              "6       3          35.462185         238   \n",
              "\n",
              "                                                                                                                                                                                           top_values  \\\n",
              "0                                                                                                                                                                                                  []   \n",
              "1                                                                                                                                                                                                  []   \n",
              "2                                                                                                                                                                                                  []   \n",
              "3                                                                                                                                                                                                  []   \n",
              "4                                                                                           [{'value': 'Biscoe', 'count': 116}, {'value': 'Dream', 'count': 86}, {'value': 'Torgersen', 'count': 36}]   \n",
              "5                                                                                                   [{'value': 'MALE', 'count': 120}, {'value': 'FEMALE', 'count': 111}, {'value': None, 'count': 7}]   \n",
              "6  [{'value': 'Adelie Penguin (Pygoscelis adeliae)', 'count': 105}, {'value': 'Gentoo penguin (Pygoscelis papua)', 'count': 86}, {'value': 'Chinstrap penguin (Pygoscelis antarctica)', 'count': 47}]   \n",
              "\n",
              "   min_array_length  max_array_length  avg_array_length  total_array_length  \\\n",
              "0              \u003cNA\u003e              \u003cNA\u003e               NaN                \u003cNA\u003e   \n",
              "1              \u003cNA\u003e              \u003cNA\u003e               NaN                \u003cNA\u003e   \n",
              "2              \u003cNA\u003e              \u003cNA\u003e               NaN                \u003cNA\u003e   \n",
              "3              \u003cNA\u003e              \u003cNA\u003e               NaN                \u003cNA\u003e   \n",
              "4              \u003cNA\u003e              \u003cNA\u003e               NaN                \u003cNA\u003e   \n",
              "5              \u003cNA\u003e              \u003cNA\u003e               NaN                \u003cNA\u003e   \n",
              "6              \u003cNA\u003e              \u003cNA\u003e               NaN                \u003cNA\u003e   \n",
              "\n",
              "  array_length_quantiles  dimension  \n",
              "0                     []       \u003cNA\u003e  \n",
              "1                     []       \u003cNA\u003e  \n",
              "2                     []       \u003cNA\u003e  \n",
              "3                     []       \u003cNA\u003e  \n",
              "4                     []       \u003cNA\u003e  \n",
              "5                     []       \u003cNA\u003e  \n",
              "6                     []       \u003cNA\u003e  "
            ]
          },
          "execution_count": 190,
          "metadata": {},
          "output_type": "execute_result"
        }
      ],
      "source": [
        "%%bigquery\n",
        "SELECT *\n",
        "FROM ML.DESCRIBE_DATA(\n",
        "    (\n",
        "        SELECT * EXCEPT(splits)\n",
        "        FROM `statmike-mlops-349915.bqml_model_monitoring.training_split`\n",
        "        WHERE splits = 'TRAIN'\n",
        "    ),\n",
        "    STRUCT(3 AS top_k, 4 AS num_quantiles)\n",
        ")"
      ]
    },
    {
      "cell_type": "markdown",
      "metadata": {
        "tags": [],
        "id": "c-Pvxe34q1-s"
      },
      "source": [
        "---\n",
        "## Model Training\n",
        "\n",
        "Create a model trained to classify `species` for the traning records.  Here, directly in BigQuery, the [`CREATE MODEL` statement for random forest](https://cloud.google.com/bigquery/docs/reference/standard-sql/bigqueryml-syntax-create-random-forest) is used.  This uses the `TRANSFORM` clause within the model to embed user specified transfomations within the model for use during serving and model monitoring which will both be show later in this introduction.\n",
        "\n",
        "From reviewing the training data above, the following transformations will be tried:\n",
        "- Apply [`ML.ROBUST_SCALER`](https://cloud.google.com/bigquery/docs/reference/standard-sql/bigqueryml-syntax-robust-scaler) to `body_mass_g`\n",
        "- Apply [`ML.STANDARD_SCALER`](https://cloud.google.com/bigquery/docs/reference/standard-sql/bigqueryml-syntax-standard-scaler) to `culmen_depth_mm` and `culmen_length_mm`\n",
        "- Apply [`ML.QUANTILE_BUCKATIZE`](https://cloud.google.com/bigquery/docs/reference/standard-sql/bigqueryml-syntax-quantile-bucketize) to `flipper_length_mm`\n",
        "- Apply [`ML.IMPUTER`](https://cloud.google.com/bigquery/docs/reference/standard-sql/bigqueryml-syntax-imputer) to `island`, and `sex`"
      ]
    },
    {
      "cell_type": "code",
      "execution_count": 191,
      "metadata": {
        "tags": [],
        "id": "i3vwWFqPq1-s"
      },
      "outputs": [
        {
          "data": {
            "application/vnd.jupyter.widget-view+json": {
              "model_id": "0cc8077dcbd64210b8b735b269720167",
              "version_major": 2,
              "version_minor": 0
            },
            "text/plain": [
              "Query is running:   0%|          |"
            ]
          },
          "metadata": {},
          "output_type": "display_data"
        },
        {
          "data": {
            "text/html": [
              "\u003cdiv\u003e\n",
              "\u003cstyle scoped\u003e\n",
              "    .dataframe tbody tr th:only-of-type {\n",
              "        vertical-align: middle;\n",
              "    }\n",
              "\n",
              "    .dataframe tbody tr th {\n",
              "        vertical-align: top;\n",
              "    }\n",
              "\n",
              "    .dataframe thead th {\n",
              "        text-align: right;\n",
              "    }\n",
              "\u003c/style\u003e\n",
              "\u003ctable border=\"1\" class=\"dataframe\"\u003e\n",
              "  \u003cthead\u003e\n",
              "    \u003ctr style=\"text-align: right;\"\u003e\n",
              "      \u003cth\u003e\u003c/th\u003e\n",
              "    \u003c/tr\u003e\n",
              "  \u003c/thead\u003e\n",
              "  \u003ctbody\u003e\n",
              "  \u003c/tbody\u003e\n",
              "\u003c/table\u003e\n",
              "\u003c/div\u003e"
            ],
            "text/plain": [
              "Empty DataFrame\n",
              "Columns: []\n",
              "Index: []"
            ]
          },
          "execution_count": 191,
          "metadata": {},
          "output_type": "execute_result"
        }
      ],
      "source": [
        "%%bigquery\n",
        "CREATE OR REPLACE MODEL `statmike-mlops-349915.bqml_model_monitoring.classify_species_rf`\n",
        "    TRANSFORM(\n",
        "        ML.ROBUST_SCALER(body_mass_g) OVER() AS body_mass_g,\n",
        "        ML.STANDARD_SCALER(culmen_length_mm) OVER() AS culmen_length_mm,\n",
        "        ML.STANDARD_SCALER(culmen_depth_mm) OVER() AS culmen_depth_mm,\n",
        "        ML.QUANTILE_BUCKETIZE(flipper_length_mm, 3) OVER() AS flipper_length_mm,\n",
        "        ML.IMPUTER(sex, 'most_frequent') OVER() AS sex,\n",
        "        ML.IMPUTER(island, 'most_frequent') OVER() AS island,\n",
        "        species, split\n",
        "    )\n",
        "    OPTIONS(\n",
        "        MODEL_TYPE = 'RANDOM_FOREST_CLASSIFIER',\n",
        "        INPUT_LABEL_COLS = ['species'],\n",
        "        \n",
        "        # data specifics\n",
        "        DATA_SPLIT_METHOD = 'CUSTOM',\n",
        "        DATA_SPLIT_COL = 'split',\n",
        "        \n",
        "        # model specifics\n",
        "        AUTO_CLASS_WEIGHTS = FALSE,\n",
        "        NUM_PARALLEL_TREE= 150,\n",
        "        TREE_METHOD = 'HIST',\n",
        "        SUBSAMPLE = 0.85,\n",
        "        COLSAMPLE_BYTREE = 0.9,\n",
        "        ENABLE_GLOBAL_EXPLAIN = TRUE,\n",
        "        \n",
        "        # register model in Vertex AI For Online Serving\n",
        "        MODEL_REGISTRY = 'VERTEX_AI',\n",
        "        VERTEX_AI_MODEL_ID = 'classify_species_rf'\n",
        "    )\n",
        "AS\n",
        "    SELECT * EXCEPT(splits),\n",
        "        CASE WHEN splits = 'TRAIN' THEN FALSE\n",
        "        ELSE TRUE END AS split\n",
        "    FROM `statmike-mlops-349915.bqml_model_monitoring.training_split`\n",
        "    WHERE splits != 'TEST'"
      ]
    },
    {
      "cell_type": "code",
      "execution_count": 192,
      "metadata": {
        "tags": [],
        "id": "Y8qRNnDwq1-s"
      },
      "outputs": [
        {
          "data": {
            "application/vnd.jupyter.widget-view+json": {
              "model_id": "fcac472a2d42459ba4f85c8984af477b",
              "version_major": 2,
              "version_minor": 0
            },
            "text/plain": [
              "Query is running:   0%|          |"
            ]
          },
          "metadata": {},
          "output_type": "display_data"
        },
        {
          "data": {
            "application/vnd.jupyter.widget-view+json": {
              "model_id": "0b8ae8375de84329b584fda1bd77ea3e",
              "version_major": 2,
              "version_minor": 0
            },
            "text/plain": [
              "Downloading:   0%|          |"
            ]
          },
          "metadata": {},
          "output_type": "display_data"
        },
        {
          "data": {
            "text/html": [
              "\u003cdiv\u003e\n",
              "\u003cstyle scoped\u003e\n",
              "    .dataframe tbody tr th:only-of-type {\n",
              "        vertical-align: middle;\n",
              "    }\n",
              "\n",
              "    .dataframe tbody tr th {\n",
              "        vertical-align: top;\n",
              "    }\n",
              "\n",
              "    .dataframe thead th {\n",
              "        text-align: right;\n",
              "    }\n",
              "\u003c/style\u003e\n",
              "\u003ctable border=\"1\" class=\"dataframe\"\u003e\n",
              "  \u003cthead\u003e\n",
              "    \u003ctr style=\"text-align: right;\"\u003e\n",
              "      \u003cth\u003e\u003c/th\u003e\n",
              "      \u003cth\u003etraining_run\u003c/th\u003e\n",
              "      \u003cth\u003eiteration\u003c/th\u003e\n",
              "      \u003cth\u003eloss\u003c/th\u003e\n",
              "      \u003cth\u003eeval_loss\u003c/th\u003e\n",
              "      \u003cth\u003elearning_rate\u003c/th\u003e\n",
              "      \u003cth\u003eduration_ms\u003c/th\u003e\n",
              "    \u003c/tr\u003e\n",
              "  \u003c/thead\u003e\n",
              "  \u003ctbody\u003e\n",
              "    \u003ctr\u003e\n",
              "      \u003cth\u003e0\u003c/th\u003e\n",
              "      \u003ctd\u003e0\u003c/td\u003e\n",
              "      \u003ctd\u003e1\u003c/td\u003e\n",
              "      \u003ctd\u003e0.259281\u003c/td\u003e\n",
              "      \u003ctd\u003e0.299555\u003c/td\u003e\n",
              "      \u003ctd\u003e1.0\u003c/td\u003e\n",
              "      \u003ctd\u003e264461\u003c/td\u003e\n",
              "    \u003c/tr\u003e\n",
              "  \u003c/tbody\u003e\n",
              "\u003c/table\u003e\n",
              "\u003c/div\u003e"
            ],
            "text/plain": [
              "   training_run  iteration      loss  eval_loss  learning_rate  duration_ms\n",
              "0             0          1  0.259281   0.299555            1.0       264461"
            ]
          },
          "execution_count": 192,
          "metadata": {},
          "output_type": "execute_result"
        }
      ],
      "source": [
        "%%bigquery\n",
        "SELECT *\n",
        "FROM ML.TRAINING_INFO(MODEL `statmike-mlops-349915.bqml_model_monitoring.classify_species_rf`)\n",
        "ORDER BY iteration"
      ]
    },
    {
      "cell_type": "markdown",
      "metadata": {
        "id": "7QQRBp7Sq1-s"
      },
      "source": [
        "### Evaluation With `ML.EVALUATE`\n",
        "\n",
        "BigQuery ML models can be directly evaluated with the [`ML.EVALUATE` function](https://cloud.google.com/bigquery/docs/reference/standard-sql/bigqueryml-syntax-evaluate).  The evaluation of the model on evaluation data specified during training can be done by just specifying the model.  To evaluate the model on new data, like a `TEST` split or even the `TRAIN` split, the records can be specified with a query statement as seen in the following evaluations.\n",
        "\n",
        "\u003e An evaluation split with 10% of records was created above.  This set would normally be used for tuning model hyperparameters, like `BATCH_SIZE`, `DROPOUT`, `HIDDEN_UNITS`, `LEARN_RATE`, and/or `OPTIMIZER` in the case of the DNN used here.  This could also be done directly in the BigQuery `CREATE MODEL` statement with [hyperparameter tuning](https://cloud.google.com/bigquery/docs/hp-tuning-overview)."
      ]
    },
    {
      "cell_type": "code",
      "execution_count": 193,
      "metadata": {
        "tags": [],
        "id": "CJYuJezcq1-s"
      },
      "outputs": [
        {
          "data": {
            "application/vnd.jupyter.widget-view+json": {
              "model_id": "b726b5f42e1b41c0a6b2f7603bb17e74",
              "version_major": 2,
              "version_minor": 0
            },
            "text/plain": [
              "Query is running:   0%|          |"
            ]
          },
          "metadata": {},
          "output_type": "display_data"
        },
        {
          "data": {
            "application/vnd.jupyter.widget-view+json": {
              "model_id": "5296f0a3e6eb40429c496abe2630be69",
              "version_major": 2,
              "version_minor": 0
            },
            "text/plain": [
              "Downloading:   0%|          |"
            ]
          },
          "metadata": {},
          "output_type": "display_data"
        },
        {
          "data": {
            "text/html": [
              "\u003cdiv\u003e\n",
              "\u003cstyle scoped\u003e\n",
              "    .dataframe tbody tr th:only-of-type {\n",
              "        vertical-align: middle;\n",
              "    }\n",
              "\n",
              "    .dataframe tbody tr th {\n",
              "        vertical-align: top;\n",
              "    }\n",
              "\n",
              "    .dataframe thead th {\n",
              "        text-align: right;\n",
              "    }\n",
              "\u003c/style\u003e\n",
              "\u003ctable border=\"1\" class=\"dataframe\"\u003e\n",
              "  \u003cthead\u003e\n",
              "    \u003ctr style=\"text-align: right;\"\u003e\n",
              "      \u003cth\u003e\u003c/th\u003e\n",
              "      \u003cth\u003eprecision\u003c/th\u003e\n",
              "      \u003cth\u003erecall\u003c/th\u003e\n",
              "      \u003cth\u003eaccuracy\u003c/th\u003e\n",
              "      \u003cth\u003ef1_score\u003c/th\u003e\n",
              "      \u003cth\u003elog_loss\u003c/th\u003e\n",
              "      \u003cth\u003eroc_auc\u003c/th\u003e\n",
              "    \u003c/tr\u003e\n",
              "  \u003c/thead\u003e\n",
              "  \u003ctbody\u003e\n",
              "    \u003ctr\u003e\n",
              "      \u003cth\u003e0\u003c/th\u003e\n",
              "      \u003ctd\u003e0.979167\u003c/td\u003e\n",
              "      \u003ctd\u003e0.952381\u003c/td\u003e\n",
              "      \u003ctd\u003e0.971429\u003c/td\u003e\n",
              "      \u003ctd\u003e0.963606\u003c/td\u003e\n",
              "      \u003ctd\u003e0.347701\u003c/td\u003e\n",
              "      \u003ctd\u003e1.0\u003c/td\u003e\n",
              "    \u003c/tr\u003e\n",
              "  \u003c/tbody\u003e\n",
              "\u003c/table\u003e\n",
              "\u003c/div\u003e"
            ],
            "text/plain": [
              "   precision    recall  accuracy  f1_score  log_loss  roc_auc\n",
              "0   0.979167  0.952381  0.971429  0.963606  0.347701      1.0"
            ]
          },
          "execution_count": 193,
          "metadata": {},
          "output_type": "execute_result"
        }
      ],
      "source": [
        "%%bigquery\n",
        "SELECT *\n",
        "FROM ML.EVALUATE (\n",
        "    MODEL `statmike-mlops-349915.bqml_model_monitoring.classify_species_rf`\n",
        ")"
      ]
    },
    {
      "cell_type": "markdown",
      "metadata": {
        "id": "1qzya0piq1-s"
      },
      "source": [
        "### Evaluate The Model: Training Data Split (`TRAIN`)\n",
        "\n",
        "Evaluating the model on the training data is good for setting a baseline for the likely best possible performance of the model.  "
      ]
    },
    {
      "cell_type": "code",
      "execution_count": 194,
      "metadata": {
        "tags": [],
        "id": "AdJOzBRHq1-s"
      },
      "outputs": [
        {
          "data": {
            "application/vnd.jupyter.widget-view+json": {
              "model_id": "56160e4300e240fdb9761fc6d087698d",
              "version_major": 2,
              "version_minor": 0
            },
            "text/plain": [
              "Query is running:   0%|          |"
            ]
          },
          "metadata": {},
          "output_type": "display_data"
        },
        {
          "data": {
            "application/vnd.jupyter.widget-view+json": {
              "model_id": "bfb01b232579403888528c99b5890325",
              "version_major": 2,
              "version_minor": 0
            },
            "text/plain": [
              "Downloading:   0%|          |"
            ]
          },
          "metadata": {},
          "output_type": "display_data"
        },
        {
          "data": {
            "text/html": [
              "\u003cdiv\u003e\n",
              "\u003cstyle scoped\u003e\n",
              "    .dataframe tbody tr th:only-of-type {\n",
              "        vertical-align: middle;\n",
              "    }\n",
              "\n",
              "    .dataframe tbody tr th {\n",
              "        vertical-align: top;\n",
              "    }\n",
              "\n",
              "    .dataframe thead th {\n",
              "        text-align: right;\n",
              "    }\n",
              "\u003c/style\u003e\n",
              "\u003ctable border=\"1\" class=\"dataframe\"\u003e\n",
              "  \u003cthead\u003e\n",
              "    \u003ctr style=\"text-align: right;\"\u003e\n",
              "      \u003cth\u003e\u003c/th\u003e\n",
              "      \u003cth\u003eprecision\u003c/th\u003e\n",
              "      \u003cth\u003erecall\u003c/th\u003e\n",
              "      \u003cth\u003eaccuracy\u003c/th\u003e\n",
              "      \u003cth\u003ef1_score\u003c/th\u003e\n",
              "      \u003cth\u003elog_loss\u003c/th\u003e\n",
              "      \u003cth\u003eroc_auc\u003c/th\u003e\n",
              "    \u003c/tr\u003e\n",
              "  \u003c/thead\u003e\n",
              "  \u003ctbody\u003e\n",
              "    \u003ctr\u003e\n",
              "      \u003cth\u003e0\u003c/th\u003e\n",
              "      \u003ctd\u003e0.990741\u003c/td\u003e\n",
              "      \u003ctd\u003e0.98194\u003c/td\u003e\n",
              "      \u003ctd\u003e0.987395\u003c/td\u003e\n",
              "      \u003ctd\u003e0.986109\u003c/td\u003e\n",
              "      \u003ctd\u003e0.269386\u003c/td\u003e\n",
              "      \u003ctd\u003e1.0\u003c/td\u003e\n",
              "    \u003c/tr\u003e\n",
              "  \u003c/tbody\u003e\n",
              "\u003c/table\u003e\n",
              "\u003c/div\u003e"
            ],
            "text/plain": [
              "   precision   recall  accuracy  f1_score  log_loss  roc_auc\n",
              "0   0.990741  0.98194  0.987395  0.986109  0.269386      1.0"
            ]
          },
          "execution_count": 194,
          "metadata": {},
          "output_type": "execute_result"
        }
      ],
      "source": [
        "%%bigquery\n",
        "SELECT *\n",
        "FROM ML.EVALUATE (\n",
        "    MODEL `statmike-mlops-349915.bqml_model_monitoring.classify_species_rf`,\n",
        "    (\n",
        "        SELECT *\n",
        "        FROM `statmike-mlops-349915.bqml_model_monitoring.training_split`\n",
        "        WHERE splits = 'TRAIN'\n",
        "    )\n",
        ")"
      ]
    },
    {
      "cell_type": "markdown",
      "metadata": {
        "id": "rcTk3TJmq1-s"
      },
      "source": [
        "### Evaluate The Model: `TEST` Data Split\n",
        "\n",
        "Evaluating the model on the `TEST` split is a good gauge of performance in general as it represents data the model was not exposed to during training: "
      ]
    },
    {
      "cell_type": "code",
      "execution_count": 195,
      "metadata": {
        "tags": [],
        "id": "McHsGvXpq1-s"
      },
      "outputs": [
        {
          "data": {
            "application/vnd.jupyter.widget-view+json": {
              "model_id": "78c8cf919c174a1995fa1aa69bc28587",
              "version_major": 2,
              "version_minor": 0
            },
            "text/plain": [
              "Query is running:   0%|          |"
            ]
          },
          "metadata": {},
          "output_type": "display_data"
        },
        {
          "data": {
            "application/vnd.jupyter.widget-view+json": {
              "model_id": "abdff2d8596648a89f3e1ec2ae046256",
              "version_major": 2,
              "version_minor": 0
            },
            "text/plain": [
              "Downloading:   0%|          |"
            ]
          },
          "metadata": {},
          "output_type": "display_data"
        },
        {
          "data": {
            "text/html": [
              "\u003cdiv\u003e\n",
              "\u003cstyle scoped\u003e\n",
              "    .dataframe tbody tr th:only-of-type {\n",
              "        vertical-align: middle;\n",
              "    }\n",
              "\n",
              "    .dataframe tbody tr th {\n",
              "        vertical-align: top;\n",
              "    }\n",
              "\n",
              "    .dataframe thead th {\n",
              "        text-align: right;\n",
              "    }\n",
              "\u003c/style\u003e\n",
              "\u003ctable border=\"1\" class=\"dataframe\"\u003e\n",
              "  \u003cthead\u003e\n",
              "    \u003ctr style=\"text-align: right;\"\u003e\n",
              "      \u003cth\u003e\u003c/th\u003e\n",
              "      \u003cth\u003eprecision\u003c/th\u003e\n",
              "      \u003cth\u003erecall\u003c/th\u003e\n",
              "      \u003cth\u003eaccuracy\u003c/th\u003e\n",
              "      \u003cth\u003ef1_score\u003c/th\u003e\n",
              "      \u003cth\u003elog_loss\u003c/th\u003e\n",
              "      \u003cth\u003eroc_auc\u003c/th\u003e\n",
              "    \u003c/tr\u003e\n",
              "  \u003c/thead\u003e\n",
              "  \u003ctbody\u003e\n",
              "    \u003ctr\u003e\n",
              "      \u003cth\u003e0\u003c/th\u003e\n",
              "      \u003ctd\u003e0.989899\u003c/td\u003e\n",
              "      \u003ctd\u003e0.97619\u003c/td\u003e\n",
              "      \u003ctd\u003e0.985915\u003c/td\u003e\n",
              "      \u003ctd\u003e0.982526\u003c/td\u003e\n",
              "      \u003ctd\u003e0.297096\u003c/td\u003e\n",
              "      \u003ctd\u003e0.999788\u003c/td\u003e\n",
              "    \u003c/tr\u003e\n",
              "  \u003c/tbody\u003e\n",
              "\u003c/table\u003e\n",
              "\u003c/div\u003e"
            ],
            "text/plain": [
              "   precision   recall  accuracy  f1_score  log_loss   roc_auc\n",
              "0   0.989899  0.97619  0.985915  0.982526  0.297096  0.999788"
            ]
          },
          "execution_count": 195,
          "metadata": {},
          "output_type": "execute_result"
        }
      ],
      "source": [
        "%%bigquery\n",
        "SELECT *\n",
        "FROM ML.EVALUATE (\n",
        "    MODEL `statmike-mlops-349915.bqml_model_monitoring.classify_species_rf`,\n",
        "    (\n",
        "        SELECT *\n",
        "        FROM `statmike-mlops-349915.bqml_model_monitoring.training_split`\n",
        "        WHERE splits = 'TEST'\n",
        "    )\n",
        ")"
      ]
    },
    {
      "cell_type": "markdown",
      "metadata": {
        "id": "gXnnXu_Tq1-s"
      },
      "source": [
        "### Evaluate The Classification Performance with `ML.CONFUSION_MATRIX`\n",
        "\n",
        "This model is a classification model and reviewing the true versus predicted classification categories can be done with the [`ML.CONFUSION_MATRIX` function](https://cloud.google.com/bigquery/docs/reference/standard-sql/bigqueryml-syntax-confusion)."
      ]
    },
    {
      "cell_type": "code",
      "execution_count": 196,
      "metadata": {
        "tags": [],
        "id": "uGZb0fPfq1-s"
      },
      "outputs": [
        {
          "data": {
            "application/vnd.jupyter.widget-view+json": {
              "model_id": "f20803c98a644b98ab0ba0e6ba5773bb",
              "version_major": 2,
              "version_minor": 0
            },
            "text/plain": [
              "Query is running:   0%|          |"
            ]
          },
          "metadata": {},
          "output_type": "display_data"
        },
        {
          "data": {
            "application/vnd.jupyter.widget-view+json": {
              "model_id": "7c1ac0465d1645fd9e04b9b402b1a4b6",
              "version_major": 2,
              "version_minor": 0
            },
            "text/plain": [
              "Downloading:   0%|          |"
            ]
          },
          "metadata": {},
          "output_type": "display_data"
        },
        {
          "data": {
            "text/html": [
              "\u003cdiv\u003e\n",
              "\u003cstyle scoped\u003e\n",
              "    .dataframe tbody tr th:only-of-type {\n",
              "        vertical-align: middle;\n",
              "    }\n",
              "\n",
              "    .dataframe tbody tr th {\n",
              "        vertical-align: top;\n",
              "    }\n",
              "\n",
              "    .dataframe thead th {\n",
              "        text-align: right;\n",
              "    }\n",
              "\u003c/style\u003e\n",
              "\u003ctable border=\"1\" class=\"dataframe\"\u003e\n",
              "  \u003cthead\u003e\n",
              "    \u003ctr style=\"text-align: right;\"\u003e\n",
              "      \u003cth\u003e\u003c/th\u003e\n",
              "      \u003cth\u003eexpected_label\u003c/th\u003e\n",
              "      \u003cth\u003eAdelie Penguin _Pygoscelis adeliae_\u003c/th\u003e\n",
              "      \u003cth\u003eChinstrap penguin _Pygoscelis antarctica_\u003c/th\u003e\n",
              "      \u003cth\u003eGentoo penguin _Pygoscelis papua_\u003c/th\u003e\n",
              "    \u003c/tr\u003e\n",
              "  \u003c/thead\u003e\n",
              "  \u003ctbody\u003e\n",
              "    \u003ctr\u003e\n",
              "      \u003cth\u003e0\u003c/th\u003e\n",
              "      \u003ctd\u003eAdelie Penguin (Pygoscelis adeliae)\u003c/td\u003e\n",
              "      \u003ctd\u003e15\u003c/td\u003e\n",
              "      \u003ctd\u003e0\u003c/td\u003e\n",
              "      \u003ctd\u003e0\u003c/td\u003e\n",
              "    \u003c/tr\u003e\n",
              "    \u003ctr\u003e\n",
              "      \u003cth\u003e1\u003c/th\u003e\n",
              "      \u003ctd\u003eChinstrap penguin (Pygoscelis antarctica)\u003c/td\u003e\n",
              "      \u003ctd\u003e1\u003c/td\u003e\n",
              "      \u003ctd\u003e6\u003c/td\u003e\n",
              "      \u003ctd\u003e0\u003c/td\u003e\n",
              "    \u003c/tr\u003e\n",
              "    \u003ctr\u003e\n",
              "      \u003cth\u003e2\u003c/th\u003e\n",
              "      \u003ctd\u003eGentoo penguin (Pygoscelis papua)\u003c/td\u003e\n",
              "      \u003ctd\u003e0\u003c/td\u003e\n",
              "      \u003ctd\u003e0\u003c/td\u003e\n",
              "      \u003ctd\u003e13\u003c/td\u003e\n",
              "    \u003c/tr\u003e\n",
              "  \u003c/tbody\u003e\n",
              "\u003c/table\u003e\n",
              "\u003c/div\u003e"
            ],
            "text/plain": [
              "                              expected_label  \\\n",
              "0        Adelie Penguin (Pygoscelis adeliae)   \n",
              "1  Chinstrap penguin (Pygoscelis antarctica)   \n",
              "2          Gentoo penguin (Pygoscelis papua)   \n",
              "\n",
              "   Adelie Penguin _Pygoscelis adeliae_  \\\n",
              "0                                   15   \n",
              "1                                    1   \n",
              "2                                    0   \n",
              "\n",
              "   Chinstrap penguin _Pygoscelis antarctica_  \\\n",
              "0                                          0   \n",
              "1                                          6   \n",
              "2                                          0   \n",
              "\n",
              "   Gentoo penguin _Pygoscelis papua_  \n",
              "0                                  0  \n",
              "1                                  0  \n",
              "2                                 13  "
            ]
          },
          "execution_count": 196,
          "metadata": {},
          "output_type": "execute_result"
        }
      ],
      "source": [
        "%%bigquery\n",
        "SELECT *\n",
        "FROM ML.CONFUSION_MATRIX (\n",
        "    MODEL `statmike-mlops-349915.bqml_model_monitoring.classify_species_rf`\n",
        ")"
      ]
    },
    {
      "cell_type": "code",
      "execution_count": 197,
      "metadata": {
        "tags": [],
        "id": "Rn_0Fzrrq1-s"
      },
      "outputs": [
        {
          "data": {
            "application/vnd.jupyter.widget-view+json": {
              "model_id": "285aec8e8cad40909900b46baf6f6c50",
              "version_major": 2,
              "version_minor": 0
            },
            "text/plain": [
              "Query is running:   0%|          |"
            ]
          },
          "metadata": {},
          "output_type": "display_data"
        },
        {
          "data": {
            "application/vnd.jupyter.widget-view+json": {
              "model_id": "1f7613c91a744550937c653f2313d8a2",
              "version_major": 2,
              "version_minor": 0
            },
            "text/plain": [
              "Downloading:   0%|          |"
            ]
          },
          "metadata": {},
          "output_type": "display_data"
        },
        {
          "data": {
            "text/html": [
              "\u003cdiv\u003e\n",
              "\u003cstyle scoped\u003e\n",
              "    .dataframe tbody tr th:only-of-type {\n",
              "        vertical-align: middle;\n",
              "    }\n",
              "\n",
              "    .dataframe tbody tr th {\n",
              "        vertical-align: top;\n",
              "    }\n",
              "\n",
              "    .dataframe thead th {\n",
              "        text-align: right;\n",
              "    }\n",
              "\u003c/style\u003e\n",
              "\u003ctable border=\"1\" class=\"dataframe\"\u003e\n",
              "  \u003cthead\u003e\n",
              "    \u003ctr style=\"text-align: right;\"\u003e\n",
              "      \u003cth\u003e\u003c/th\u003e\n",
              "      \u003cth\u003eexpected_label\u003c/th\u003e\n",
              "      \u003cth\u003eAdelie Penguin _Pygoscelis adeliae_\u003c/th\u003e\n",
              "      \u003cth\u003eChinstrap penguin _Pygoscelis antarctica_\u003c/th\u003e\n",
              "      \u003cth\u003eGentoo penguin _Pygoscelis papua_\u003c/th\u003e\n",
              "    \u003c/tr\u003e\n",
              "  \u003c/thead\u003e\n",
              "  \u003ctbody\u003e\n",
              "    \u003ctr\u003e\n",
              "      \u003cth\u003e0\u003c/th\u003e\n",
              "      \u003ctd\u003eAdelie Penguin (Pygoscelis adeliae)\u003c/td\u003e\n",
              "      \u003ctd\u003e105\u003c/td\u003e\n",
              "      \u003ctd\u003e0\u003c/td\u003e\n",
              "      \u003ctd\u003e0\u003c/td\u003e\n",
              "    \u003c/tr\u003e\n",
              "    \u003ctr\u003e\n",
              "      \u003cth\u003e1\u003c/th\u003e\n",
              "      \u003ctd\u003eChinstrap penguin (Pygoscelis antarctica)\u003c/td\u003e\n",
              "      \u003ctd\u003e2\u003c/td\u003e\n",
              "      \u003ctd\u003e45\u003c/td\u003e\n",
              "      \u003ctd\u003e0\u003c/td\u003e\n",
              "    \u003c/tr\u003e\n",
              "    \u003ctr\u003e\n",
              "      \u003cth\u003e2\u003c/th\u003e\n",
              "      \u003ctd\u003eGentoo penguin (Pygoscelis papua)\u003c/td\u003e\n",
              "      \u003ctd\u003e1\u003c/td\u003e\n",
              "      \u003ctd\u003e0\u003c/td\u003e\n",
              "      \u003ctd\u003e85\u003c/td\u003e\n",
              "    \u003c/tr\u003e\n",
              "  \u003c/tbody\u003e\n",
              "\u003c/table\u003e\n",
              "\u003c/div\u003e"
            ],
            "text/plain": [
              "                              expected_label  \\\n",
              "0        Adelie Penguin (Pygoscelis adeliae)   \n",
              "1  Chinstrap penguin (Pygoscelis antarctica)   \n",
              "2          Gentoo penguin (Pygoscelis papua)   \n",
              "\n",
              "   Adelie Penguin _Pygoscelis adeliae_  \\\n",
              "0                                  105   \n",
              "1                                    2   \n",
              "2                                    1   \n",
              "\n",
              "   Chinstrap penguin _Pygoscelis antarctica_  \\\n",
              "0                                          0   \n",
              "1                                         45   \n",
              "2                                          0   \n",
              "\n",
              "   Gentoo penguin _Pygoscelis papua_  \n",
              "0                                  0  \n",
              "1                                  0  \n",
              "2                                 85  "
            ]
          },
          "execution_count": 197,
          "metadata": {},
          "output_type": "execute_result"
        }
      ],
      "source": [
        "%%bigquery\n",
        "SELECT *\n",
        "FROM ML.CONFUSION_MATRIX (\n",
        "    MODEL `statmike-mlops-349915.bqml_model_monitoring.classify_species_rf`,\n",
        "    (\n",
        "        SELECT *\n",
        "        FROM `statmike-mlops-349915.bqml_model_monitoring.training_split`\n",
        "        WHERE splits = 'TRAIN'\n",
        "    )\n",
        ")"
      ]
    },
    {
      "cell_type": "code",
      "execution_count": 198,
      "metadata": {
        "tags": [],
        "id": "dliOpgMRq1-s"
      },
      "outputs": [
        {
          "data": {
            "application/vnd.jupyter.widget-view+json": {
              "model_id": "dbdd98ba8b824cf0bbbb06fa6991eb42",
              "version_major": 2,
              "version_minor": 0
            },
            "text/plain": [
              "Query is running:   0%|          |"
            ]
          },
          "metadata": {},
          "output_type": "display_data"
        },
        {
          "data": {
            "application/vnd.jupyter.widget-view+json": {
              "model_id": "4956643c6bd241cfb4e9063c285e82d3",
              "version_major": 2,
              "version_minor": 0
            },
            "text/plain": [
              "Downloading:   0%|          |"
            ]
          },
          "metadata": {},
          "output_type": "display_data"
        },
        {
          "data": {
            "text/html": [
              "\u003cdiv\u003e\n",
              "\u003cstyle scoped\u003e\n",
              "    .dataframe tbody tr th:only-of-type {\n",
              "        vertical-align: middle;\n",
              "    }\n",
              "\n",
              "    .dataframe tbody tr th {\n",
              "        vertical-align: top;\n",
              "    }\n",
              "\n",
              "    .dataframe thead th {\n",
              "        text-align: right;\n",
              "    }\n",
              "\u003c/style\u003e\n",
              "\u003ctable border=\"1\" class=\"dataframe\"\u003e\n",
              "  \u003cthead\u003e\n",
              "    \u003ctr style=\"text-align: right;\"\u003e\n",
              "      \u003cth\u003e\u003c/th\u003e\n",
              "      \u003cth\u003eexpected_label\u003c/th\u003e\n",
              "      \u003cth\u003eAdelie Penguin _Pygoscelis adeliae_\u003c/th\u003e\n",
              "      \u003cth\u003eChinstrap penguin _Pygoscelis antarctica_\u003c/th\u003e\n",
              "      \u003cth\u003eGentoo penguin _Pygoscelis papua_\u003c/th\u003e\n",
              "    \u003c/tr\u003e\n",
              "  \u003c/thead\u003e\n",
              "  \u003ctbody\u003e\n",
              "    \u003ctr\u003e\n",
              "      \u003cth\u003e0\u003c/th\u003e\n",
              "      \u003ctd\u003eAdelie Penguin (Pygoscelis adeliae)\u003c/td\u003e\n",
              "      \u003ctd\u003e32\u003c/td\u003e\n",
              "      \u003ctd\u003e0\u003c/td\u003e\n",
              "      \u003ctd\u003e0\u003c/td\u003e\n",
              "    \u003c/tr\u003e\n",
              "    \u003ctr\u003e\n",
              "      \u003cth\u003e1\u003c/th\u003e\n",
              "      \u003ctd\u003eChinstrap penguin (Pygoscelis antarctica)\u003c/td\u003e\n",
              "      \u003ctd\u003e1\u003c/td\u003e\n",
              "      \u003ctd\u003e13\u003c/td\u003e\n",
              "      \u003ctd\u003e0\u003c/td\u003e\n",
              "    \u003c/tr\u003e\n",
              "    \u003ctr\u003e\n",
              "      \u003cth\u003e2\u003c/th\u003e\n",
              "      \u003ctd\u003eGentoo penguin (Pygoscelis papua)\u003c/td\u003e\n",
              "      \u003ctd\u003e0\u003c/td\u003e\n",
              "      \u003ctd\u003e0\u003c/td\u003e\n",
              "      \u003ctd\u003e25\u003c/td\u003e\n",
              "    \u003c/tr\u003e\n",
              "  \u003c/tbody\u003e\n",
              "\u003c/table\u003e\n",
              "\u003c/div\u003e"
            ],
            "text/plain": [
              "                              expected_label  \\\n",
              "0        Adelie Penguin (Pygoscelis adeliae)   \n",
              "1  Chinstrap penguin (Pygoscelis antarctica)   \n",
              "2          Gentoo penguin (Pygoscelis papua)   \n",
              "\n",
              "   Adelie Penguin _Pygoscelis adeliae_  \\\n",
              "0                                   32   \n",
              "1                                    1   \n",
              "2                                    0   \n",
              "\n",
              "   Chinstrap penguin _Pygoscelis antarctica_  \\\n",
              "0                                          0   \n",
              "1                                         13   \n",
              "2                                          0   \n",
              "\n",
              "   Gentoo penguin _Pygoscelis papua_  \n",
              "0                                  0  \n",
              "1                                  0  \n",
              "2                                 25  "
            ]
          },
          "execution_count": 198,
          "metadata": {},
          "output_type": "execute_result"
        }
      ],
      "source": [
        "%%bigquery\n",
        "SELECT *\n",
        "FROM ML.CONFUSION_MATRIX (\n",
        "    MODEL `statmike-mlops-349915.bqml_model_monitoring.classify_species_rf`,\n",
        "    (\n",
        "        SELECT *\n",
        "        FROM `statmike-mlops-349915.bqml_model_monitoring.training_split`\n",
        "        WHERE splits = 'TEST'\n",
        "    )\n",
        ")"
      ]
    },
    {
      "cell_type": "markdown",
      "metadata": {
        "tags": [],
        "id": "IYzBQCtSq1-s"
      },
      "source": [
        "---\n",
        "## Model Serving\n",
        "\n",
        "Once a version of the model is trusted to serve predictions we can put it into use.  At first, this means creating and using predictions from the model.  This is quickly followed by important considerations:\n",
        "\n",
        "\u003eHas the system that is being measured, that creates the data, or that records the data changed in a way that could impact the models ability to correctly predict/classify?\n",
        "\n",
        "It seems like a good idea to continously run evaluations to make sure the model accuracy does not degrade - and it is.  There can be a lag between new data and knowing the actual outcome which makes using using evaluations to monitor models a potentially reactive, or late signal.  To overcome this we can also monitor the model.  More on this later on below."
      ]
    },
    {
      "cell_type": "markdown",
      "metadata": {
        "id": "cCHKTtE9q1-s"
      },
      "source": [
        "### Predictions With `ML.PREDICT`\n",
        "\n",
        "Use [`ML.PREDICT`](https://cloud.google.com/bigquery/docs/reference/standard-sql/bigqueryml-syntax-predict) to serve predictions with the model directly in BigQuery."
      ]
    },
    {
      "cell_type": "code",
      "execution_count": 199,
      "metadata": {
        "tags": [],
        "id": "7vuONXzeq1-s"
      },
      "outputs": [
        {
          "data": {
            "application/vnd.jupyter.widget-view+json": {
              "model_id": "fc8f6e3875d748789469cf14078aff26",
              "version_major": 2,
              "version_minor": 0
            },
            "text/plain": [
              "Query is running:   0%|          |"
            ]
          },
          "metadata": {},
          "output_type": "display_data"
        },
        {
          "data": {
            "application/vnd.jupyter.widget-view+json": {
              "model_id": "cf005e5dd90840f1a2af1f9a48e8b2e3",
              "version_major": 2,
              "version_minor": 0
            },
            "text/plain": [
              "Downloading:   0%|          |"
            ]
          },
          "metadata": {},
          "output_type": "display_data"
        },
        {
          "data": {
            "text/html": [
              "\u003cdiv\u003e\n",
              "\u003cstyle scoped\u003e\n",
              "    .dataframe tbody tr th:only-of-type {\n",
              "        vertical-align: middle;\n",
              "    }\n",
              "\n",
              "    .dataframe tbody tr th {\n",
              "        vertical-align: top;\n",
              "    }\n",
              "\n",
              "    .dataframe thead th {\n",
              "        text-align: right;\n",
              "    }\n",
              "\u003c/style\u003e\n",
              "\u003ctable border=\"1\" class=\"dataframe\"\u003e\n",
              "  \u003cthead\u003e\n",
              "    \u003ctr style=\"text-align: right;\"\u003e\n",
              "      \u003cth\u003e\u003c/th\u003e\n",
              "      \u003cth\u003epredicted_species\u003c/th\u003e\n",
              "      \u003cth\u003epredicted_species_probs\u003c/th\u003e\n",
              "      \u003cth\u003especies\u003c/th\u003e\n",
              "      \u003cth\u003eisland\u003c/th\u003e\n",
              "      \u003cth\u003eculmen_length_mm\u003c/th\u003e\n",
              "      \u003cth\u003eculmen_depth_mm\u003c/th\u003e\n",
              "      \u003cth\u003eflipper_length_mm\u003c/th\u003e\n",
              "      \u003cth\u003ebody_mass_g\u003c/th\u003e\n",
              "      \u003cth\u003esex\u003c/th\u003e\n",
              "      \u003cth\u003esplits\u003c/th\u003e\n",
              "    \u003c/tr\u003e\n",
              "  \u003c/thead\u003e\n",
              "  \u003ctbody\u003e\n",
              "    \u003ctr\u003e\n",
              "      \u003cth\u003e0\u003c/th\u003e\n",
              "      \u003ctd\u003eAdelie Penguin (Pygoscelis adeliae)\u003c/td\u003e\n",
              "      \u003ctd\u003e[{'label': 'Gentoo penguin (Pygoscelis papua)', 'prob': 0.29104432463645935}, {'label': 'Chinstrap penguin (Pygoscelis antarctica)', 'prob': 0.22892171144485474}, {'label': 'Adelie Penguin (Pygoscelis adeliae)', 'prob': 0.48003390431404114}]\u003c/td\u003e\n",
              "      \u003ctd\u003eGentoo penguin (Pygoscelis papua)\u003c/td\u003e\n",
              "      \u003ctd\u003eBiscoe\u003c/td\u003e\n",
              "      \u003ctd\u003eNaN\u003c/td\u003e\n",
              "      \u003ctd\u003eNaN\u003c/td\u003e\n",
              "      \u003ctd\u003eNaN\u003c/td\u003e\n",
              "      \u003ctd\u003eNaN\u003c/td\u003e\n",
              "      \u003ctd\u003eNone\u003c/td\u003e\n",
              "      \u003ctd\u003eTRAIN\u003c/td\u003e\n",
              "    \u003c/tr\u003e\n",
              "    \u003ctr\u003e\n",
              "      \u003cth\u003e1\u003c/th\u003e\n",
              "      \u003ctd\u003eAdelie Penguin (Pygoscelis adeliae)\u003c/td\u003e\n",
              "      \u003ctd\u003e[{'label': 'Gentoo penguin (Pygoscelis papua)', 'prob': 0.1652742624282837}, {'label': 'Chinstrap penguin (Pygoscelis antarctica)', 'prob': 0.16703131794929504}, {'label': 'Adelie Penguin (Pygoscelis adeliae)', 'prob': 0.6676943898200989}]\u003c/td\u003e\n",
              "      \u003ctd\u003eAdelie Penguin (Pygoscelis adeliae)\u003c/td\u003e\n",
              "      \u003ctd\u003eTorgersen\u003c/td\u003e\n",
              "      \u003ctd\u003eNaN\u003c/td\u003e\n",
              "      \u003ctd\u003eNaN\u003c/td\u003e\n",
              "      \u003ctd\u003eNaN\u003c/td\u003e\n",
              "      \u003ctd\u003eNaN\u003c/td\u003e\n",
              "      \u003ctd\u003eNone\u003c/td\u003e\n",
              "      \u003ctd\u003eTRAIN\u003c/td\u003e\n",
              "    \u003c/tr\u003e\n",
              "    \u003ctr\u003e\n",
              "      \u003cth\u003e2\u003c/th\u003e\n",
              "      \u003ctd\u003eAdelie Penguin (Pygoscelis adeliae)\u003c/td\u003e\n",
              "      \u003ctd\u003e[{'label': 'Gentoo penguin (Pygoscelis papua)', 'prob': 0.0949418693780899}, {'label': 'Chinstrap penguin (Pygoscelis antarctica)', 'prob': 0.1072256788611412}, {'label': 'Adelie Penguin (Pygoscelis adeliae)', 'prob': 0.7978324294090271}]\u003c/td\u003e\n",
              "      \u003ctd\u003eAdelie Penguin (Pygoscelis adeliae)\u003c/td\u003e\n",
              "      \u003ctd\u003eDream\u003c/td\u003e\n",
              "      \u003ctd\u003e37.5\u003c/td\u003e\n",
              "      \u003ctd\u003e18.9\u003c/td\u003e\n",
              "      \u003ctd\u003e179.0\u003c/td\u003e\n",
              "      \u003ctd\u003e2975.0\u003c/td\u003e\n",
              "      \u003ctd\u003eNone\u003c/td\u003e\n",
              "      \u003ctd\u003eTRAIN\u003c/td\u003e\n",
              "    \u003c/tr\u003e\n",
              "    \u003ctr\u003e\n",
              "      \u003cth\u003e3\u003c/th\u003e\n",
              "      \u003ctd\u003eAdelie Penguin (Pygoscelis adeliae)\u003c/td\u003e\n",
              "      \u003ctd\u003e[{'label': 'Gentoo penguin (Pygoscelis papua)', 'prob': 0.0950072780251503}, {'label': 'Chinstrap penguin (Pygoscelis antarctica)', 'prob': 0.09691543877124786}, {'label': 'Adelie Penguin (Pygoscelis adeliae)', 'prob': 0.8080772757530212}]\u003c/td\u003e\n",
              "      \u003ctd\u003eAdelie Penguin (Pygoscelis adeliae)\u003c/td\u003e\n",
              "      \u003ctd\u003eTorgersen\u003c/td\u003e\n",
              "      \u003ctd\u003e37.8\u003c/td\u003e\n",
              "      \u003ctd\u003e17.3\u003c/td\u003e\n",
              "      \u003ctd\u003e180.0\u003c/td\u003e\n",
              "      \u003ctd\u003e3700.0\u003c/td\u003e\n",
              "      \u003ctd\u003eNone\u003c/td\u003e\n",
              "      \u003ctd\u003eTRAIN\u003c/td\u003e\n",
              "    \u003c/tr\u003e\n",
              "    \u003ctr\u003e\n",
              "      \u003cth\u003e4\u003c/th\u003e\n",
              "      \u003ctd\u003eAdelie Penguin (Pygoscelis adeliae)\u003c/td\u003e\n",
              "      \u003ctd\u003e[{'label': 'Gentoo penguin (Pygoscelis papua)', 'prob': 0.09489943832159042}, {'label': 'Chinstrap penguin (Pygoscelis antarctica)', 'prob': 0.09794053435325623}, {'label': 'Adelie Penguin (Pygoscelis adeliae)', 'prob': 0.8071600198745728}]\u003c/td\u003e\n",
              "      \u003ctd\u003eAdelie Penguin (Pygoscelis adeliae)\u003c/td\u003e\n",
              "      \u003ctd\u003eTorgersen\u003c/td\u003e\n",
              "      \u003ctd\u003e37.8\u003c/td\u003e\n",
              "      \u003ctd\u003e17.1\u003c/td\u003e\n",
              "      \u003ctd\u003e186.0\u003c/td\u003e\n",
              "      \u003ctd\u003e3300.0\u003c/td\u003e\n",
              "      \u003ctd\u003eNone\u003c/td\u003e\n",
              "      \u003ctd\u003eEVAL\u003c/td\u003e\n",
              "    \u003c/tr\u003e\n",
              "  \u003c/tbody\u003e\n",
              "\u003c/table\u003e\n",
              "\u003c/div\u003e"
            ],
            "text/plain": [
              "                     predicted_species  \\\n",
              "0  Adelie Penguin (Pygoscelis adeliae)   \n",
              "1  Adelie Penguin (Pygoscelis adeliae)   \n",
              "2  Adelie Penguin (Pygoscelis adeliae)   \n",
              "3  Adelie Penguin (Pygoscelis adeliae)   \n",
              "4  Adelie Penguin (Pygoscelis adeliae)   \n",
              "\n",
              "                                                                                                                                                                                                                             predicted_species_probs  \\\n",
              "0  [{'label': 'Gentoo penguin (Pygoscelis papua)', 'prob': 0.29104432463645935}, {'label': 'Chinstrap penguin (Pygoscelis antarctica)', 'prob': 0.22892171144485474}, {'label': 'Adelie Penguin (Pygoscelis adeliae)', 'prob': 0.48003390431404114}]   \n",
              "1    [{'label': 'Gentoo penguin (Pygoscelis papua)', 'prob': 0.1652742624282837}, {'label': 'Chinstrap penguin (Pygoscelis antarctica)', 'prob': 0.16703131794929504}, {'label': 'Adelie Penguin (Pygoscelis adeliae)', 'prob': 0.6676943898200989}]   \n",
              "2     [{'label': 'Gentoo penguin (Pygoscelis papua)', 'prob': 0.0949418693780899}, {'label': 'Chinstrap penguin (Pygoscelis antarctica)', 'prob': 0.1072256788611412}, {'label': 'Adelie Penguin (Pygoscelis adeliae)', 'prob': 0.7978324294090271}]   \n",
              "3    [{'label': 'Gentoo penguin (Pygoscelis papua)', 'prob': 0.0950072780251503}, {'label': 'Chinstrap penguin (Pygoscelis antarctica)', 'prob': 0.09691543877124786}, {'label': 'Adelie Penguin (Pygoscelis adeliae)', 'prob': 0.8080772757530212}]   \n",
              "4   [{'label': 'Gentoo penguin (Pygoscelis papua)', 'prob': 0.09489943832159042}, {'label': 'Chinstrap penguin (Pygoscelis antarctica)', 'prob': 0.09794053435325623}, {'label': 'Adelie Penguin (Pygoscelis adeliae)', 'prob': 0.8071600198745728}]   \n",
              "\n",
              "                               species     island  culmen_length_mm  \\\n",
              "0    Gentoo penguin (Pygoscelis papua)     Biscoe               NaN   \n",
              "1  Adelie Penguin (Pygoscelis adeliae)  Torgersen               NaN   \n",
              "2  Adelie Penguin (Pygoscelis adeliae)      Dream              37.5   \n",
              "3  Adelie Penguin (Pygoscelis adeliae)  Torgersen              37.8   \n",
              "4  Adelie Penguin (Pygoscelis adeliae)  Torgersen              37.8   \n",
              "\n",
              "   culmen_depth_mm  flipper_length_mm  body_mass_g   sex splits  \n",
              "0              NaN                NaN          NaN  None  TRAIN  \n",
              "1              NaN                NaN          NaN  None  TRAIN  \n",
              "2             18.9              179.0       2975.0  None  TRAIN  \n",
              "3             17.3              180.0       3700.0  None  TRAIN  \n",
              "4             17.1              186.0       3300.0  None   EVAL  "
            ]
          },
          "execution_count": 199,
          "metadata": {},
          "output_type": "execute_result"
        }
      ],
      "source": [
        "%%bigquery\n",
        "SELECT *\n",
        "FROM ML.PREDICT(\n",
        "    MODEL `statmike-mlops-349915.bqml_model_monitoring.classify_species_rf`,\n",
        "    (\n",
        "        SELECT *\n",
        "        FROM `statmike-mlops-349915.bqml_model_monitoring.training_split`\n",
        "        LIMIT 5\n",
        "    )\n",
        ")"
      ]
    },
    {
      "cell_type": "markdown",
      "metadata": {
        "tags": [],
        "id": "aIx3K_-gq1-s"
      },
      "source": [
        "---\n",
        "## Serving Data\n",
        "\n",
        "The data source for training and evaluation represents what is known about a system at a point-in-time.  In real world systems measurements can change for many reasons, for example:\n",
        "- training/serving skew due to measurement and data systems:\n",
        "    - the tool used for measurement may change resulting is slight shifts and variations\n",
        "    - the system reporting results might be updated and introduce errors like rearranging the order or parameters and format of the results\n",
        "    - the data processing systems might have changes that alter the calculations of measurements\n",
        "- the system, environment, or subjects being measured may:\n",
        "    - change behaviors\n",
        "    - short-term even forces change\n",
        "    - have environmental changes that impact them\n",
        "    - have seasonal changes that were not represented in the training data\n",
        "    - change in general due to upstream causes"
      ]
    },
    {
      "cell_type": "markdown",
      "metadata": {
        "id": "I06laRDLq1-s"
      },
      "source": [
        "### Introduce Changes Over Time\n",
        "\n",
        "To illustrate the impact of change over time, the following code creates a new set of data from the test split.  It creates a series of changes to measurements for each of the past 30 days.  In each case, the values of the parameters `flipper_length_mm` and `body_mass_g` are allowed to slightly increase which can accumulate over the timespan. This might mimic a potential growth season for the penguins that might not have been represented in the training data.\n",
        "\n",
        "This table of serving data could be sourced form where your features are coming from.  In the case of an online model, like [Vertex AI Prediction Endpoints](https://cloud.google.com/vertex-ai/docs/predictions/overview), then [prediction request could be logged to BigQuery](https://cloud.google.com/vertex-ai/docs/predictions/online-prediction-logging#enabling-and-disabling) for use in the model monitoring tasks below.  This online serving pattern is covered later in this tutorial."
      ]
    },
    {
      "cell_type": "code",
      "execution_count": 200,
      "metadata": {
        "tags": [],
        "id": "z-cM8rL6q1-s"
      },
      "outputs": [
        {
          "data": {
            "application/vnd.jupyter.widget-view+json": {
              "model_id": "883b2632c0514b62988adee83d7fb1ed",
              "version_major": 2,
              "version_minor": 0
            },
            "text/plain": [
              "Query is running:   0%|          |"
            ]
          },
          "metadata": {},
          "output_type": "display_data"
        },
        {
          "data": {
            "text/html": [
              "\u003cdiv\u003e\n",
              "\u003cstyle scoped\u003e\n",
              "    .dataframe tbody tr th:only-of-type {\n",
              "        vertical-align: middle;\n",
              "    }\n",
              "\n",
              "    .dataframe tbody tr th {\n",
              "        vertical-align: top;\n",
              "    }\n",
              "\n",
              "    .dataframe thead th {\n",
              "        text-align: right;\n",
              "    }\n",
              "\u003c/style\u003e\n",
              "\u003ctable border=\"1\" class=\"dataframe\"\u003e\n",
              "  \u003cthead\u003e\n",
              "    \u003ctr style=\"text-align: right;\"\u003e\n",
              "      \u003cth\u003e\u003c/th\u003e\n",
              "    \u003c/tr\u003e\n",
              "  \u003c/thead\u003e\n",
              "  \u003ctbody\u003e\n",
              "  \u003c/tbody\u003e\n",
              "\u003c/table\u003e\n",
              "\u003c/div\u003e"
            ],
            "text/plain": [
              "Empty DataFrame\n",
              "Columns: []\n",
              "Index: []"
            ]
          },
          "execution_count": 200,
          "metadata": {},
          "output_type": "execute_result"
        }
      ],
      "source": [
        "%%bigquery\n",
        "DECLARE counter INT64 DEFAULT 30;\n",
        "\n",
        "# actual data as starting point - add entity_id, and feature_timestamp:\n",
        "CREATE OR REPLACE TABLE `statmike-mlops-349915.bqml_model_monitoring.serving` AS\n",
        "    SELECT * EXCEPT(flipper_length_mm, body_mass_g),\n",
        "    TIMESTAMP_SUB(TIMESTAMP(CURRENT_DATE()), INTERVAL counter DAY) AS instance_timestamp,\n",
        "    flipper_length_mm as flipper_length_mm,\n",
        "    body_mass_g as body_mass_g\n",
        "    FROM `statmike-mlops-349915.bqml_model_monitoring.training`\n",
        "    WHERE RAND() \u003c= 0.20;\n",
        "\n",
        "LOOP\n",
        "    SET counter = counter - 1;\n",
        "    IF counter \u003c 0 THEN LEAVE;\n",
        "    END IF;\n",
        "    INSERT `statmike-mlops-349915.bqml_model_monitoring.serving`\n",
        "        SELECT * EXCEPT(instance_timestamp, flipper_length_mm, body_mass_g),\n",
        "            TIMESTAMP_ADD(instance_timestamp, INTERVAL 1 DAY) AS instance_timestamp,\n",
        "            CASE\n",
        "                WHEN RAND() \u003e= 0.75 THEN flipper_length_mm\n",
        "                ELSE flipper_length_mm + 6*(RAND()-0.1)\n",
        "            END AS flipper_length_mm,\n",
        "            CASE\n",
        "                WHEN RAND() \u003e= 0.75 THEN body_mass_g\n",
        "                ELSE body_mass_g + 120*(RAND()-0.1)\n",
        "            END AS body_mass_g,\n",
        "        FROM `statmike-mlops-349915.bqml_model_monitoring.serving`\n",
        "        WHERE instance_timestamp \u003e= (SELECT MAX(instance_timestamp) FROM `statmike-mlops-349915.bqml_model_monitoring.serving`);\n",
        "END LOOP;"
      ]
    },
    {
      "cell_type": "code",
      "execution_count": 201,
      "metadata": {
        "tags": [],
        "id": "uonVzHcgq1-s"
      },
      "outputs": [
        {
          "data": {
            "application/vnd.jupyter.widget-view+json": {
              "model_id": "521fbb5d37884761945c96387db928e2",
              "version_major": 2,
              "version_minor": 0
            },
            "text/plain": [
              "Query is running:   0%|          |"
            ]
          },
          "metadata": {},
          "output_type": "display_data"
        },
        {
          "data": {
            "application/vnd.jupyter.widget-view+json": {
              "model_id": "d526949c8c7a41f4a500738737310c00",
              "version_major": 2,
              "version_minor": 0
            },
            "text/plain": [
              "Downloading:   0%|          |"
            ]
          },
          "metadata": {},
          "output_type": "display_data"
        }
      ],
      "source": [
        "%%bigquery serve\n",
        "SELECT\n",
        "    DATE(instance_timestamp) AS DATE,\n",
        "    AVG(flipper_length_mm) AS flipper_length_mm,\n",
        "    AVG(body_mass_g) AS body_mass_g\n",
        "FROM `statmike-mlops-349915.bqml_model_monitoring.serving`\n",
        "GROUP BY DATE\n",
        "ORDER BY DATE"
      ]
    },
    {
      "cell_type": "code",
      "execution_count": 202,
      "metadata": {
        "tags": [],
        "id": "1zCk0KVsq1-s"
      },
      "outputs": [],
      "source": [
        "serve.set_index('DATE', inplace = True)"
      ]
    },
    {
      "cell_type": "code",
      "execution_count": 203,
      "metadata": {
        "tags": [],
        "id": "pBuKTCmwq1-s"
      },
      "outputs": [],
      "source": [
        "#serve"
      ]
    },
    {
      "cell_type": "code",
      "execution_count": 204,
      "metadata": {
        "tags": [],
        "id": "NriPGHpGq1-s"
      },
      "outputs": [
        {
          "data": {
            "text/plain": [
              "\u003cAxes: xlabel='DATE'\u003e"
            ]
          },
          "execution_count": 204,
          "metadata": {},
          "output_type": "execute_result"
        },
        {
          "data": {
            "image/png": "[encoded data removed]",
            "text/plain": [
              "\u003cFigure size 800x400 with 1 Axes\u003e"
            ]
          },
          "metadata": {},
          "output_type": "display_data"
        }
      ],
      "source": [
        "serve['flipper_length_mm'].plot(legend = True, figsize = (8, 4))"
      ]
    },
    {
      "cell_type": "code",
      "execution_count": 205,
      "metadata": {
        "tags": [],
        "id": "tBOxjquLq1-s"
      },
      "outputs": [
        {
          "data": {
            "text/plain": [
              "\u003cAxes: xlabel='DATE'\u003e"
            ]
          },
          "execution_count": 205,
          "metadata": {},
          "output_type": "execute_result"
        },
        {
          "data": {
            "image/png": "[encoded data removed]",
            "text/plain": [
              "\u003cFigure size 800x400 with 1 Axes\u003e"
            ]
          },
          "metadata": {},
          "output_type": "display_data"
        }
      ],
      "source": [
        "serve['body_mass_g'].plot(legend = True, figsize = (8, 4))"
      ]
    },
    {
      "cell_type": "markdown",
      "metadata": {
        "tags": [],
        "id": "jNgf8aDTq1-s"
      },
      "source": [
        "---\n",
        "## Monitoring With Evaluations\n",
        "\n",
        "It might seem like ongoing model evaluations are a great solution to model monitoring.  If the actual known values are available immediately then this could be possible to use for monitoring.  However, detecting a change in evaluation metrics means the model has realized a degradation.  It is a lagging signal.  To be more proactive we should monitor the inputs to the model, the features.  More on that in the next section.\n",
        "\n",
        "First, look at the evaluation metrics for the most recent days data which has the cumulative change of the past 30 days introduced above.  In this case, the actual known values is known. This may not be possible in many real-world examples where the actual known values are:\n",
        "- delayed by minutes, hours, days, or even longer\n",
        "- not always known for all instances\n",
        "- potentially in a different status that can change over a period of time before being confirmed as final\n",
        "\n",
        "In reviewing the evaluation for the most recent instances here, the `precision` has dropped and the `log_loss` has increased drastically.  The confusion matrix shows Chinstrap penguins's are now being misclassified much more often than when the model was trained.  \n",
        "\n",
        "The question becomes \"How soon could this have been noticed?\"."
      ]
    },
    {
      "cell_type": "code",
      "execution_count": 206,
      "metadata": {
        "tags": [],
        "id": "jru0oSuhq1-s"
      },
      "outputs": [
        {
          "data": {
            "application/vnd.jupyter.widget-view+json": {
              "model_id": "609ade3a5916452ca72c0388da42a58e",
              "version_major": 2,
              "version_minor": 0
            },
            "text/plain": [
              "Query is running:   0%|          |"
            ]
          },
          "metadata": {},
          "output_type": "display_data"
        },
        {
          "data": {
            "application/vnd.jupyter.widget-view+json": {
              "model_id": "d231354c5431403681266a8587d2e4c3",
              "version_major": 2,
              "version_minor": 0
            },
            "text/plain": [
              "Downloading:   0%|          |"
            ]
          },
          "metadata": {},
          "output_type": "display_data"
        },
        {
          "data": {
            "text/html": [
              "\u003cdiv\u003e\n",
              "\u003cstyle scoped\u003e\n",
              "    .dataframe tbody tr th:only-of-type {\n",
              "        vertical-align: middle;\n",
              "    }\n",
              "\n",
              "    .dataframe tbody tr th {\n",
              "        vertical-align: top;\n",
              "    }\n",
              "\n",
              "    .dataframe thead th {\n",
              "        text-align: right;\n",
              "    }\n",
              "\u003c/style\u003e\n",
              "\u003ctable border=\"1\" class=\"dataframe\"\u003e\n",
              "  \u003cthead\u003e\n",
              "    \u003ctr style=\"text-align: right;\"\u003e\n",
              "      \u003cth\u003e\u003c/th\u003e\n",
              "      \u003cth\u003eprecision\u003c/th\u003e\n",
              "      \u003cth\u003erecall\u003c/th\u003e\n",
              "      \u003cth\u003eaccuracy\u003c/th\u003e\n",
              "      \u003cth\u003ef1_score\u003c/th\u003e\n",
              "      \u003cth\u003elog_loss\u003c/th\u003e\n",
              "      \u003cth\u003eroc_auc\u003c/th\u003e\n",
              "    \u003c/tr\u003e\n",
              "  \u003c/thead\u003e\n",
              "  \u003ctbody\u003e\n",
              "    \u003ctr\u003e\n",
              "      \u003cth\u003e0\u003c/th\u003e\n",
              "      \u003ctd\u003e0.88547\u003c/td\u003e\n",
              "      \u003ctd\u003e0.853333\u003c/td\u003e\n",
              "      \u003ctd\u003e0.854839\u003c/td\u003e\n",
              "      \u003ctd\u003e0.855644\u003c/td\u003e\n",
              "      \u003ctd\u003e0.536699\u003c/td\u003e\n",
              "      \u003ctd\u003e0.999352\u003c/td\u003e\n",
              "    \u003c/tr\u003e\n",
              "  \u003c/tbody\u003e\n",
              "\u003c/table\u003e\n",
              "\u003c/div\u003e"
            ],
            "text/plain": [
              "   precision    recall  accuracy  f1_score  log_loss   roc_auc\n",
              "0    0.88547  0.853333  0.854839  0.855644  0.536699  0.999352"
            ]
          },
          "execution_count": 206,
          "metadata": {},
          "output_type": "execute_result"
        }
      ],
      "source": [
        "%%bigquery\n",
        "SELECT *\n",
        "FROM ML.EVALUATE (\n",
        "    MODEL `statmike-mlops-349915.bqml_model_monitoring.classify_species_rf`,\n",
        "    (\n",
        "        SELECT *\n",
        "        FROM `statmike-mlops-349915.bqml_model_monitoring.serving`\n",
        "        WHERE DATE(instance_timestamp) \u003e= CURRENT_DATE()\n",
        "    )\n",
        ")"
      ]
    },
    {
      "cell_type": "code",
      "execution_count": 207,
      "metadata": {
        "tags": [],
        "id": "_JT7-7Psq1-s"
      },
      "outputs": [
        {
          "data": {
            "application/vnd.jupyter.widget-view+json": {
              "model_id": "8905df60b4a444d0ab56d1d8b6533ff6",
              "version_major": 2,
              "version_minor": 0
            },
            "text/plain": [
              "Query is running:   0%|          |"
            ]
          },
          "metadata": {},
          "output_type": "display_data"
        },
        {
          "data": {
            "application/vnd.jupyter.widget-view+json": {
              "model_id": "98973b61654d4dafafe36842fb1e0561",
              "version_major": 2,
              "version_minor": 0
            },
            "text/plain": [
              "Downloading:   0%|          |"
            ]
          },
          "metadata": {},
          "output_type": "display_data"
        },
        {
          "data": {
            "text/html": [
              "\u003cdiv\u003e\n",
              "\u003cstyle scoped\u003e\n",
              "    .dataframe tbody tr th:only-of-type {\n",
              "        vertical-align: middle;\n",
              "    }\n",
              "\n",
              "    .dataframe tbody tr th {\n",
              "        vertical-align: top;\n",
              "    }\n",
              "\n",
              "    .dataframe thead th {\n",
              "        text-align: right;\n",
              "    }\n",
              "\u003c/style\u003e\n",
              "\u003ctable border=\"1\" class=\"dataframe\"\u003e\n",
              "  \u003cthead\u003e\n",
              "    \u003ctr style=\"text-align: right;\"\u003e\n",
              "      \u003cth\u003e\u003c/th\u003e\n",
              "      \u003cth\u003eexpected_label\u003c/th\u003e\n",
              "      \u003cth\u003eAdelie Penguin _Pygoscelis adeliae_\u003c/th\u003e\n",
              "      \u003cth\u003eChinstrap penguin _Pygoscelis antarctica_\u003c/th\u003e\n",
              "      \u003cth\u003eGentoo penguin _Pygoscelis papua_\u003c/th\u003e\n",
              "    \u003c/tr\u003e\n",
              "  \u003c/thead\u003e\n",
              "  \u003ctbody\u003e\n",
              "    \u003ctr\u003e\n",
              "      \u003cth\u003e0\u003c/th\u003e\n",
              "      \u003ctd\u003eAdelie Penguin (Pygoscelis adeliae)\u003c/td\u003e\n",
              "      \u003ctd\u003e19\u003c/td\u003e\n",
              "      \u003ctd\u003e1\u003c/td\u003e\n",
              "      \u003ctd\u003e5\u003c/td\u003e\n",
              "    \u003c/tr\u003e\n",
              "    \u003ctr\u003e\n",
              "      \u003cth\u003e1\u003c/th\u003e\n",
              "      \u003ctd\u003eChinstrap penguin (Pygoscelis antarctica)\u003c/td\u003e\n",
              "      \u003ctd\u003e0\u003c/td\u003e\n",
              "      \u003ctd\u003e12\u003c/td\u003e\n",
              "      \u003ctd\u003e3\u003c/td\u003e\n",
              "    \u003c/tr\u003e\n",
              "    \u003ctr\u003e\n",
              "      \u003cth\u003e2\u003c/th\u003e\n",
              "      \u003ctd\u003eGentoo penguin (Pygoscelis papua)\u003c/td\u003e\n",
              "      \u003ctd\u003e0\u003c/td\u003e\n",
              "      \u003ctd\u003e0\u003c/td\u003e\n",
              "      \u003ctd\u003e22\u003c/td\u003e\n",
              "    \u003c/tr\u003e\n",
              "  \u003c/tbody\u003e\n",
              "\u003c/table\u003e\n",
              "\u003c/div\u003e"
            ],
            "text/plain": [
              "                              expected_label  \\\n",
              "0        Adelie Penguin (Pygoscelis adeliae)   \n",
              "1  Chinstrap penguin (Pygoscelis antarctica)   \n",
              "2          Gentoo penguin (Pygoscelis papua)   \n",
              "\n",
              "   Adelie Penguin _Pygoscelis adeliae_  \\\n",
              "0                                   19   \n",
              "1                                    0   \n",
              "2                                    0   \n",
              "\n",
              "   Chinstrap penguin _Pygoscelis antarctica_  \\\n",
              "0                                          1   \n",
              "1                                         12   \n",
              "2                                          0   \n",
              "\n",
              "   Gentoo penguin _Pygoscelis papua_  \n",
              "0                                  5  \n",
              "1                                  3  \n",
              "2                                 22  "
            ]
          },
          "execution_count": 207,
          "metadata": {},
          "output_type": "execute_result"
        }
      ],
      "source": [
        "%%bigquery\n",
        "SELECT *\n",
        "FROM ML.CONFUSION_MATRIX (\n",
        "    MODEL `statmike-mlops-349915.bqml_model_monitoring.classify_species_rf`,\n",
        "    (\n",
        "        SELECT *\n",
        "        FROM `statmike-mlops-349915.bqml_model_monitoring.serving`\n",
        "        WHERE DATE(instance_timestamp) \u003e= CURRENT_DATE()\n",
        "    )\n",
        ")"
      ]
    },
    {
      "cell_type": "markdown",
      "metadata": {
        "id": "KOw0f8x4q1-s"
      },
      "source": [
        "### Evaluations: Over Time\n",
        "\n",
        "In this case, we know the actual identification of the `species` and are measuring the same penguins daily.  Reviewing the evaluations daily could give a good sense of how the model is performing on a daily basis.\n",
        "\n",
        "The result of the daily evaluations below shows that the log_loss starts to increase immediately and it takes more than a week for a noticable impact on precision/recall/accuracy/f1_score. \n",
        "\n",
        "What if the actual values where only known after a lag of days or weeks?  How quickly would evaluations be able to indicate the model's accuracy is possibly questionable?  The answer is a different approach - Model Monitoring.  This is covered in the section that follows."
      ]
    },
    {
      "cell_type": "code",
      "execution_count": 208,
      "metadata": {
        "tags": [],
        "id": "rr6eiEXsq1-s"
      },
      "outputs": [
        {
          "data": {
            "application/vnd.jupyter.widget-view+json": {
              "model_id": "4d2579bbc32647eeb5f8bfa2d8ba0103",
              "version_major": 2,
              "version_minor": 0
            },
            "text/plain": [
              "Query is running:   0%|          |"
            ]
          },
          "metadata": {},
          "output_type": "display_data"
        },
        {
          "data": {
            "application/vnd.jupyter.widget-view+json": {
              "model_id": "c6c6f96d9631412c992eeb20b85437c4",
              "version_major": 2,
              "version_minor": 0
            },
            "text/plain": [
              "Downloading:   0%|          |"
            ]
          },
          "metadata": {},
          "output_type": "display_data"
        }
      ],
      "source": [
        "%%bigquery evaluations\n",
        "DECLARE counter INT64 DEFAULT 30;\n",
        "DECLARE result STRUCT\u003cprecision FLOAT64, recall FLOAT64, accuracy FLOAT64, f1_score FLOAT64, log_loss FLOAT64, roc_auc FLOAT64, eval_date DATE\u003e;\n",
        "DECLARE results ARRAY\u003cSTRUCT\u003cprecision FLOAT64, recall FLOAT64, accuracy FLOAT64, f1_score FLOAT64, log_loss FLOAT64, roc_auc FLOAT64, eval_date DATE\u003e\u003e DEFAULT [];\n",
        "LOOP\n",
        "    IF counter \u003c 0 THEN LEAVE;\n",
        "    END IF;\n",
        "    SET result = (\n",
        "            SELECT AS STRUCT precision, recall, accuracy, f1_score, log_loss, roc_auc, DATE_SUB(CURRENT_DATE(), INTERVAL counter DAY) AS eval_date\n",
        "            FROM ML.EVALUATE (\n",
        "                MODEL `statmike-mlops-349915.bqml_model_monitoring.classify_species_rf`,\n",
        "                (\n",
        "                    SELECT *\n",
        "                    FROM `statmike-mlops-349915.bqml_model_monitoring.serving`\n",
        "                    WHERE DATE(instance_timestamp) = DATE_SUB(CURRENT_DATE(), INTERVAL counter DAY)\n",
        "                )\n",
        "            )\n",
        "    );\n",
        "    SET results = ARRAY_CONCAT(results,[result]);\n",
        "    SET counter = counter - 1;\n",
        "END LOOP;\n",
        "SELECT * FROM UNNEST(results);"
      ]
    },
    {
      "cell_type": "code",
      "execution_count": 209,
      "metadata": {
        "tags": [],
        "id": "uSj4E698q1-s"
      },
      "outputs": [
        {
          "data": {
            "text/html": [
              "\u003cdiv\u003e\n",
              "\u003cstyle scoped\u003e\n",
              "    .dataframe tbody tr th:only-of-type {\n",
              "        vertical-align: middle;\n",
              "    }\n",
              "\n",
              "    .dataframe tbody tr th {\n",
              "        vertical-align: top;\n",
              "    }\n",
              "\n",
              "    .dataframe thead th {\n",
              "        text-align: right;\n",
              "    }\n",
              "\u003c/style\u003e\n",
              "\u003ctable border=\"1\" class=\"dataframe\"\u003e\n",
              "  \u003cthead\u003e\n",
              "    \u003ctr style=\"text-align: right;\"\u003e\n",
              "      \u003cth\u003e\u003c/th\u003e\n",
              "      \u003cth\u003eprecision\u003c/th\u003e\n",
              "      \u003cth\u003erecall\u003c/th\u003e\n",
              "      \u003cth\u003eaccuracy\u003c/th\u003e\n",
              "      \u003cth\u003ef1_score\u003c/th\u003e\n",
              "      \u003cth\u003elog_loss\u003c/th\u003e\n",
              "      \u003cth\u003eroc_auc\u003c/th\u003e\n",
              "      \u003cth\u003eeval_date\u003c/th\u003e\n",
              "    \u003c/tr\u003e\n",
              "  \u003c/thead\u003e\n",
              "  \u003ctbody\u003e\n",
              "    \u003ctr\u003e\n",
              "      \u003cth\u003e0\u003c/th\u003e\n",
              "      \u003ctd\u003e0.987179\u003c/td\u003e\n",
              "      \u003ctd\u003e0.977778\u003c/td\u003e\n",
              "      \u003ctd\u003e0.983871\u003c/td\u003e\n",
              "      \u003ctd\u003e0.981970\u003c/td\u003e\n",
              "      \u003ctd\u003e0.276747\u003c/td\u003e\n",
              "      \u003ctd\u003e1.000000\u003c/td\u003e\n",
              "      \u003ctd\u003e2025-03-05\u003c/td\u003e\n",
              "    \u003c/tr\u003e\n",
              "    \u003ctr\u003e\n",
              "      \u003cth\u003e1\u003c/th\u003e\n",
              "      \u003ctd\u003e0.987179\u003c/td\u003e\n",
              "      \u003ctd\u003e0.977778\u003c/td\u003e\n",
              "      \u003ctd\u003e0.983871\u003c/td\u003e\n",
              "      \u003ctd\u003e0.981970\u003c/td\u003e\n",
              "      \u003ctd\u003e0.268171\u003c/td\u003e\n",
              "      \u003ctd\u003e1.000000\u003c/td\u003e\n",
              "      \u003ctd\u003e2025-03-06\u003c/td\u003e\n",
              "    \u003c/tr\u003e\n",
              "    \u003ctr\u003e\n",
              "      \u003cth\u003e2\u003c/th\u003e\n",
              "      \u003ctd\u003e0.987179\u003c/td\u003e\n",
              "      \u003ctd\u003e0.977778\u003c/td\u003e\n",
              "      \u003ctd\u003e0.983871\u003c/td\u003e\n",
              "      \u003ctd\u003e0.981970\u003c/td\u003e\n",
              "      \u003ctd\u003e0.272170\u003c/td\u003e\n",
              "      \u003ctd\u003e1.000000\u003c/td\u003e\n",
              "      \u003ctd\u003e2025-03-07\u003c/td\u003e\n",
              "    \u003c/tr\u003e\n",
              "    \u003ctr\u003e\n",
              "      \u003cth\u003e3\u003c/th\u003e\n",
              "      \u003ctd\u003e0.987179\u003c/td\u003e\n",
              "      \u003ctd\u003e0.977778\u003c/td\u003e\n",
              "      \u003ctd\u003e0.983871\u003c/td\u003e\n",
              "      \u003ctd\u003e0.981970\u003c/td\u003e\n",
              "      \u003ctd\u003e0.282952\u003c/td\u003e\n",
              "      \u003ctd\u003e0.999794\u003c/td\u003e\n",
              "      \u003ctd\u003e2025-03-08\u003c/td\u003e\n",
              "    \u003c/tr\u003e\n",
              "    \u003ctr\u003e\n",
              "      \u003cth\u003e4\u003c/th\u003e\n",
              "      \u003ctd\u003e0.987179\u003c/td\u003e\n",
              "      \u003ctd\u003e0.977778\u003c/td\u003e\n",
              "      \u003ctd\u003e0.983871\u003c/td\u003e\n",
              "      \u003ctd\u003e0.981970\u003c/td\u003e\n",
              "      \u003ctd\u003e0.284632\u003c/td\u003e\n",
              "      \u003ctd\u003e0.999794\u003c/td\u003e\n",
              "      \u003ctd\u003e2025-03-09\u003c/td\u003e\n",
              "    \u003c/tr\u003e\n",
              "    \u003ctr\u003e\n",
              "      \u003cth\u003e5\u003c/th\u003e\n",
              "      \u003ctd\u003e0.964444\u003c/td\u003e\n",
              "      \u003ctd\u003e0.964444\u003c/td\u003e\n",
              "      \u003ctd\u003e0.967742\u003c/td\u003e\n",
              "      \u003ctd\u003e0.964444\u003c/td\u003e\n",
              "      \u003ctd\u003e0.303671\u003c/td\u003e\n",
              "      \u003ctd\u003e0.999421\u003c/td\u003e\n",
              "      \u003ctd\u003e2025-03-10\u003c/td\u003e\n",
              "    \u003c/tr\u003e\n",
              "    \u003ctr\u003e\n",
              "      \u003cth\u003e6\u003c/th\u003e\n",
              "      \u003ctd\u003e0.964444\u003c/td\u003e\n",
              "      \u003ctd\u003e0.964444\u003c/td\u003e\n",
              "      \u003ctd\u003e0.967742\u003c/td\u003e\n",
              "      \u003ctd\u003e0.964444\u003c/td\u003e\n",
              "      \u003ctd\u003e0.322704\u003c/td\u003e\n",
              "      \u003ctd\u003e0.999048\u003c/td\u003e\n",
              "      \u003ctd\u003e2025-03-11\u003c/td\u003e\n",
              "    \u003c/tr\u003e\n",
              "    \u003ctr\u003e\n",
              "      \u003cth\u003e7\u003c/th\u003e\n",
              "      \u003ctd\u003e0.964444\u003c/td\u003e\n",
              "      \u003ctd\u003e0.964444\u003c/td\u003e\n",
              "      \u003ctd\u003e0.967742\u003c/td\u003e\n",
              "      \u003ctd\u003e0.964444\u003c/td\u003e\n",
              "      \u003ctd\u003e0.339235\u003c/td\u003e\n",
              "      \u003ctd\u003e0.998675\u003c/td\u003e\n",
              "      \u003ctd\u003e2025-03-12\u003c/td\u003e\n",
              "    \u003c/tr\u003e\n",
              "    \u003ctr\u003e\n",
              "      \u003cth\u003e8\u003c/th\u003e\n",
              "      \u003ctd\u003e0.964444\u003c/td\u003e\n",
              "      \u003ctd\u003e0.964444\u003c/td\u003e\n",
              "      \u003ctd\u003e0.967742\u003c/td\u003e\n",
              "      \u003ctd\u003e0.964444\u003c/td\u003e\n",
              "      \u003ctd\u003e0.349512\u003c/td\u003e\n",
              "      \u003ctd\u003e0.998675\u003c/td\u003e\n",
              "      \u003ctd\u003e2025-03-13\u003c/td\u003e\n",
              "    \u003c/tr\u003e\n",
              "    \u003ctr\u003e\n",
              "      \u003cth\u003e9\u003c/th\u003e\n",
              "      \u003ctd\u003e0.949396\u003c/td\u003e\n",
              "      \u003ctd\u003e0.951111\u003c/td\u003e\n",
              "      \u003ctd\u003e0.951613\u003c/td\u003e\n",
              "      \u003ctd\u003e0.949962\u003c/td\u003e\n",
              "      \u003ctd\u003e0.366621\u003c/td\u003e\n",
              "      \u003ctd\u003e0.998675\u003c/td\u003e\n",
              "      \u003ctd\u003e2025-03-14\u003c/td\u003e\n",
              "    \u003c/tr\u003e\n",
              "    \u003ctr\u003e\n",
              "      \u003cth\u003e10\u003c/th\u003e\n",
              "      \u003ctd\u003e0.921698\u003c/td\u003e\n",
              "      \u003ctd\u003e0.915556\u003c/td\u003e\n",
              "      \u003ctd\u003e0.919355\u003c/td\u003e\n",
              "      \u003ctd\u003e0.916463\u003c/td\u003e\n",
              "      \u003ctd\u003e0.381655\u003c/td\u003e\n",
              "      \u003ctd\u003e0.999048\u003c/td\u003e\n",
              "      \u003ctd\u003e2025-03-15\u003c/td\u003e\n",
              "    \u003c/tr\u003e\n",
              "    \u003ctr\u003e\n",
              "      \u003cth\u003e11\u003c/th\u003e\n",
              "      \u003ctd\u003e0.909757\u003c/td\u003e\n",
              "      \u003ctd\u003e0.902222\u003c/td\u003e\n",
              "      \u003ctd\u003e0.903226\u003c/td\u003e\n",
              "      \u003ctd\u003e0.902278\u003c/td\u003e\n",
              "      \u003ctd\u003e0.407581\u003c/td\u003e\n",
              "      \u003ctd\u003e0.998675\u003c/td\u003e\n",
              "      \u003ctd\u003e2025-03-16\u003c/td\u003e\n",
              "    \u003c/tr\u003e\n",
              "    \u003ctr\u003e\n",
              "      \u003cth\u003e12\u003c/th\u003e\n",
              "      \u003ctd\u003e0.909757\u003c/td\u003e\n",
              "      \u003ctd\u003e0.902222\u003c/td\u003e\n",
              "      \u003ctd\u003e0.903226\u003c/td\u003e\n",
              "      \u003ctd\u003e0.902278\u003c/td\u003e\n",
              "      \u003ctd\u003e0.426934\u003c/td\u003e\n",
              "      \u003ctd\u003e0.998675\u003c/td\u003e\n",
              "      \u003ctd\u003e2025-03-17\u003c/td\u003e\n",
              "    \u003c/tr\u003e\n",
              "    \u003ctr\u003e\n",
              "      \u003cth\u003e13\u003c/th\u003e\n",
              "      \u003ctd\u003e0.909757\u003c/td\u003e\n",
              "      \u003ctd\u003e0.902222\u003c/td\u003e\n",
              "      \u003ctd\u003e0.903226\u003c/td\u003e\n",
              "      \u003ctd\u003e0.902278\u003c/td\u003e\n",
              "      \u003ctd\u003e0.441953\u003c/td\u003e\n",
              "      \u003ctd\u003e0.998675\u003c/td\u003e\n",
              "      \u003ctd\u003e2025-03-18\u003c/td\u003e\n",
              "    \u003c/tr\u003e\n",
              "    \u003ctr\u003e\n",
              "      \u003cth\u003e14\u003c/th\u003e\n",
              "      \u003ctd\u003e0.909757\u003c/td\u003e\n",
              "      \u003ctd\u003e0.902222\u003c/td\u003e\n",
              "      \u003ctd\u003e0.903226\u003c/td\u003e\n",
              "      \u003ctd\u003e0.902278\u003c/td\u003e\n",
              "      \u003ctd\u003e0.458751\u003c/td\u003e\n",
              "      \u003ctd\u003e0.998675\u003c/td\u003e\n",
              "      \u003ctd\u003e2025-03-19\u003c/td\u003e\n",
              "    \u003c/tr\u003e\n",
              "    \u003ctr\u003e\n",
              "      \u003cth\u003e15\u003c/th\u003e\n",
              "      \u003ctd\u003e0.909757\u003c/td\u003e\n",
              "      \u003ctd\u003e0.902222\u003c/td\u003e\n",
              "      \u003ctd\u003e0.903226\u003c/td\u003e\n",
              "      \u003ctd\u003e0.902278\u003c/td\u003e\n",
              "      \u003ctd\u003e0.464803\u003c/td\u003e\n",
              "      \u003ctd\u003e0.998675\u003c/td\u003e\n",
              "      \u003ctd\u003e2025-03-20\u003c/td\u003e\n",
              "    \u003c/tr\u003e\n",
              "    \u003ctr\u003e\n",
              "      \u003cth\u003e16\u003c/th\u003e\n",
              "      \u003ctd\u003e0.897479\u003c/td\u003e\n",
              "      \u003ctd\u003e0.880000\u003c/td\u003e\n",
              "      \u003ctd\u003e0.887097\u003c/td\u003e\n",
              "      \u003ctd\u003e0.882906\u003c/td\u003e\n",
              "      \u003ctd\u003e0.474467\u003c/td\u003e\n",
              "      \u003ctd\u003e0.998675\u003c/td\u003e\n",
              "      \u003ctd\u003e2025-03-21\u003c/td\u003e\n",
              "    \u003c/tr\u003e\n",
              "    \u003ctr\u003e\n",
              "      \u003cth\u003e17\u003c/th\u003e\n",
              "      \u003ctd\u003e0.902930\u003c/td\u003e\n",
              "      \u003ctd\u003e0.880000\u003c/td\u003e\n",
              "      \u003ctd\u003e0.887097\u003c/td\u003e\n",
              "      \u003ctd\u003e0.883395\u003c/td\u003e\n",
              "      \u003ctd\u003e0.481243\u003c/td\u003e\n",
              "      \u003ctd\u003e0.999842\u003c/td\u003e\n",
              "      \u003ctd\u003e2025-03-22\u003c/td\u003e\n",
              "    \u003c/tr\u003e\n",
              "    \u003ctr\u003e\n",
              "      \u003cth\u003e18\u003c/th\u003e\n",
              "      \u003ctd\u003e0.902930\u003c/td\u003e\n",
              "      \u003ctd\u003e0.880000\u003c/td\u003e\n",
              "      \u003ctd\u003e0.887097\u003c/td\u003e\n",
              "      \u003ctd\u003e0.883395\u003c/td\u003e\n",
              "      \u003ctd\u003e0.494112\u003c/td\u003e\n",
              "      \u003ctd\u003e0.999352\u003c/td\u003e\n",
              "      \u003ctd\u003e2025-03-23\u003c/td\u003e\n",
              "    \u003c/tr\u003e\n",
              "    \u003ctr\u003e\n",
              "      \u003cth\u003e19\u003c/th\u003e\n",
              "      \u003ctd\u003e0.902930\u003c/td\u003e\n",
              "      \u003ctd\u003e0.880000\u003c/td\u003e\n",
              "      \u003ctd\u003e0.887097\u003c/td\u003e\n",
              "      \u003ctd\u003e0.883395\u003c/td\u003e\n",
              "      \u003ctd\u003e0.493617\u003c/td\u003e\n",
              "      \u003ctd\u003e0.999352\u003c/td\u003e\n",
              "      \u003ctd\u003e2025-03-24\u003c/td\u003e\n",
              "    \u003c/tr\u003e\n",
              "    \u003ctr\u003e\n",
              "      \u003cth\u003e20\u003c/th\u003e\n",
              "      \u003ctd\u003e0.902930\u003c/td\u003e\n",
              "      \u003ctd\u003e0.880000\u003c/td\u003e\n",
              "      \u003ctd\u003e0.887097\u003c/td\u003e\n",
              "      \u003ctd\u003e0.883395\u003c/td\u003e\n",
              "      \u003ctd\u003e0.497598\u003c/td\u003e\n",
              "      \u003ctd\u003e0.999352\u003c/td\u003e\n",
              "      \u003ctd\u003e2025-03-25\u003c/td\u003e\n",
              "    \u003c/tr\u003e\n",
              "    \u003ctr\u003e\n",
              "      \u003cth\u003e21\u003c/th\u003e\n",
              "      \u003ctd\u003e0.902930\u003c/td\u003e\n",
              "      \u003ctd\u003e0.880000\u003c/td\u003e\n",
              "      \u003ctd\u003e0.887097\u003c/td\u003e\n",
              "      \u003ctd\u003e0.883395\u003c/td\u003e\n",
              "      \u003ctd\u003e0.498886\u003c/td\u003e\n",
              "      \u003ctd\u003e0.999352\u003c/td\u003e\n",
              "      \u003ctd\u003e2025-03-26\u003c/td\u003e\n",
              "    \u003c/tr\u003e\n",
              "    \u003ctr\u003e\n",
              "      \u003cth\u003e22\u003c/th\u003e\n",
              "      \u003ctd\u003e0.902930\u003c/td\u003e\n",
              "      \u003ctd\u003e0.880000\u003c/td\u003e\n",
              "      \u003ctd\u003e0.887097\u003c/td\u003e\n",
              "      \u003ctd\u003e0.883395\u003c/td\u003e\n",
              "      \u003ctd\u003e0.501712\u003c/td\u003e\n",
              "      \u003ctd\u003e0.999352\u003c/td\u003e\n",
              "      \u003ctd\u003e2025-03-27\u003c/td\u003e\n",
              "    \u003c/tr\u003e\n",
              "    \u003ctr\u003e\n",
              "      \u003cth\u003e23\u003c/th\u003e\n",
              "      \u003ctd\u003e0.902930\u003c/td\u003e\n",
              "      \u003ctd\u003e0.880000\u003c/td\u003e\n",
              "      \u003ctd\u003e0.887097\u003c/td\u003e\n",
              "      \u003ctd\u003e0.883395\u003c/td\u003e\n",
              "      \u003ctd\u003e0.503746\u003c/td\u003e\n",
              "      \u003ctd\u003e0.999352\u003c/td\u003e\n",
              "      \u003ctd\u003e2025-03-28\u003c/td\u003e\n",
              "    \u003c/tr\u003e\n",
              "    \u003ctr\u003e\n",
              "      \u003cth\u003e24\u003c/th\u003e\n",
              "      \u003ctd\u003e0.902930\u003c/td\u003e\n",
              "      \u003ctd\u003e0.880000\u003c/td\u003e\n",
              "      \u003ctd\u003e0.887097\u003c/td\u003e\n",
              "      \u003ctd\u003e0.883395\u003c/td\u003e\n",
              "      \u003ctd\u003e0.503766\u003c/td\u003e\n",
              "      \u003ctd\u003e0.999352\u003c/td\u003e\n",
              "      \u003ctd\u003e2025-03-29\u003c/td\u003e\n",
              "    \u003c/tr\u003e\n",
              "    \u003ctr\u003e\n",
              "      \u003cth\u003e25\u003c/th\u003e\n",
              "      \u003ctd\u003e0.902930\u003c/td\u003e\n",
              "      \u003ctd\u003e0.880000\u003c/td\u003e\n",
              "      \u003ctd\u003e0.887097\u003c/td\u003e\n",
              "      \u003ctd\u003e0.883395\u003c/td\u003e\n",
              "      \u003ctd\u003e0.512886\u003c/td\u003e\n",
              "      \u003ctd\u003e0.999352\u003c/td\u003e\n",
              "      \u003ctd\u003e2025-03-30\u003c/td\u003e\n",
              "    \u003c/tr\u003e\n",
              "    \u003ctr\u003e\n",
              "      \u003cth\u003e26\u003c/th\u003e\n",
              "      \u003ctd\u003e0.902930\u003c/td\u003e\n",
              "      \u003ctd\u003e0.880000\u003c/td\u003e\n",
              "      \u003ctd\u003e0.887097\u003c/td\u003e\n",
              "      \u003ctd\u003e0.883395\u003c/td\u003e\n",
              "      \u003ctd\u003e0.521713\u003c/td\u003e\n",
              "      \u003ctd\u003e0.999352\u003c/td\u003e\n",
              "      \u003ctd\u003e2025-03-31\u003c/td\u003e\n",
              "    \u003c/tr\u003e\n",
              "    \u003ctr\u003e\n",
              "      \u003cth\u003e27\u003c/th\u003e\n",
              "      \u003ctd\u003e0.893899\u003c/td\u003e\n",
              "      \u003ctd\u003e0.866667\u003c/td\u003e\n",
              "      \u003ctd\u003e0.870968\u003c/td\u003e\n",
              "      \u003ctd\u003e0.869592\u003c/td\u003e\n",
              "      \u003ctd\u003e0.523431\u003c/td\u003e\n",
              "      \u003ctd\u003e0.999352\u003c/td\u003e\n",
              "      \u003ctd\u003e2025-04-01\u003c/td\u003e\n",
              "    \u003c/tr\u003e\n",
              "    \u003ctr\u003e\n",
              "      \u003cth\u003e28\u003c/th\u003e\n",
              "      \u003ctd\u003e0.893899\u003c/td\u003e\n",
              "      \u003ctd\u003e0.866667\u003c/td\u003e\n",
              "      \u003ctd\u003e0.870968\u003c/td\u003e\n",
              "      \u003ctd\u003e0.869592\u003c/td\u003e\n",
              "      \u003ctd\u003e0.529849\u003c/td\u003e\n",
              "      \u003ctd\u003e0.999352\u003c/td\u003e\n",
              "      \u003ctd\u003e2025-04-02\u003c/td\u003e\n",
              "    \u003c/tr\u003e\n",
              "    \u003ctr\u003e\n",
              "      \u003cth\u003e29\u003c/th\u003e\n",
              "      \u003ctd\u003e0.885470\u003c/td\u003e\n",
              "      \u003ctd\u003e0.853333\u003c/td\u003e\n",
              "      \u003ctd\u003e0.854839\u003c/td\u003e\n",
              "      \u003ctd\u003e0.855644\u003c/td\u003e\n",
              "      \u003ctd\u003e0.533176\u003c/td\u003e\n",
              "      \u003ctd\u003e0.999352\u003c/td\u003e\n",
              "      \u003ctd\u003e2025-04-03\u003c/td\u003e\n",
              "    \u003c/tr\u003e\n",
              "    \u003ctr\u003e\n",
              "      \u003cth\u003e30\u003c/th\u003e\n",
              "      \u003ctd\u003e0.885470\u003c/td\u003e\n",
              "      \u003ctd\u003e0.853333\u003c/td\u003e\n",
              "      \u003ctd\u003e0.854839\u003c/td\u003e\n",
              "      \u003ctd\u003e0.855644\u003c/td\u003e\n",
              "      \u003ctd\u003e0.536699\u003c/td\u003e\n",
              "      \u003ctd\u003e0.999352\u003c/td\u003e\n",
              "      \u003ctd\u003e2025-04-04\u003c/td\u003e\n",
              "    \u003c/tr\u003e\n",
              "  \u003c/tbody\u003e\n",
              "\u003c/table\u003e\n",
              "\u003c/div\u003e"
            ],
            "text/plain": [
              "    precision    recall  accuracy  f1_score  log_loss   roc_auc   eval_date\n",
              "0    0.987179  0.977778  0.983871  0.981970  0.276747  1.000000  2025-03-05\n",
              "1    0.987179  0.977778  0.983871  0.981970  0.268171  1.000000  2025-03-06\n",
              "2    0.987179  0.977778  0.983871  0.981970  0.272170  1.000000  2025-03-07\n",
              "3    0.987179  0.977778  0.983871  0.981970  0.282952  0.999794  2025-03-08\n",
              "4    0.987179  0.977778  0.983871  0.981970  0.284632  0.999794  2025-03-09\n",
              "5    0.964444  0.964444  0.967742  0.964444  0.303671  0.999421  2025-03-10\n",
              "6    0.964444  0.964444  0.967742  0.964444  0.322704  0.999048  2025-03-11\n",
              "7    0.964444  0.964444  0.967742  0.964444  0.339235  0.998675  2025-03-12\n",
              "8    0.964444  0.964444  0.967742  0.964444  0.349512  0.998675  2025-03-13\n",
              "9    0.949396  0.951111  0.951613  0.949962  0.366621  0.998675  2025-03-14\n",
              "10   0.921698  0.915556  0.919355  0.916463  0.381655  0.999048  2025-03-15\n",
              "11   0.909757  0.902222  0.903226  0.902278  0.407581  0.998675  2025-03-16\n",
              "12   0.909757  0.902222  0.903226  0.902278  0.426934  0.998675  2025-03-17\n",
              "13   0.909757  0.902222  0.903226  0.902278  0.441953  0.998675  2025-03-18\n",
              "14   0.909757  0.902222  0.903226  0.902278  0.458751  0.998675  2025-03-19\n",
              "15   0.909757  0.902222  0.903226  0.902278  0.464803  0.998675  2025-03-20\n",
              "16   0.897479  0.880000  0.887097  0.882906  0.474467  0.998675  2025-03-21\n",
              "17   0.902930  0.880000  0.887097  0.883395  0.481243  0.999842  2025-03-22\n",
              "18   0.902930  0.880000  0.887097  0.883395  0.494112  0.999352  2025-03-23\n",
              "19   0.902930  0.880000  0.887097  0.883395  0.493617  0.999352  2025-03-24\n",
              "20   0.902930  0.880000  0.887097  0.883395  0.497598  0.999352  2025-03-25\n",
              "21   0.902930  0.880000  0.887097  0.883395  0.498886  0.999352  2025-03-26\n",
              "22   0.902930  0.880000  0.887097  0.883395  0.501712  0.999352  2025-03-27\n",
              "23   0.902930  0.880000  0.887097  0.883395  0.503746  0.999352  2025-03-28\n",
              "24   0.902930  0.880000  0.887097  0.883395  0.503766  0.999352  2025-03-29\n",
              "25   0.902930  0.880000  0.887097  0.883395  0.512886  0.999352  2025-03-30\n",
              "26   0.902930  0.880000  0.887097  0.883395  0.521713  0.999352  2025-03-31\n",
              "27   0.893899  0.866667  0.870968  0.869592  0.523431  0.999352  2025-04-01\n",
              "28   0.893899  0.866667  0.870968  0.869592  0.529849  0.999352  2025-04-02\n",
              "29   0.885470  0.853333  0.854839  0.855644  0.533176  0.999352  2025-04-03\n",
              "30   0.885470  0.853333  0.854839  0.855644  0.536699  0.999352  2025-04-04"
            ]
          },
          "execution_count": 209,
          "metadata": {},
          "output_type": "execute_result"
        }
      ],
      "source": [
        "evaluations"
      ]
    },
    {
      "cell_type": "code",
      "execution_count": 210,
      "metadata": {
        "tags": [],
        "id": "SfpYYcdGq1-s"
      },
      "outputs": [],
      "source": [
        "evaluations.set_index('eval_date', inplace = True)"
      ]
    },
    {
      "cell_type": "code",
      "execution_count": 211,
      "metadata": {
        "tags": [],
        "id": "h71S8qt7q1-s"
      },
      "outputs": [
        {
          "data": {
            "text/plain": [
              "\u003cAxes: title={'center': 'Evaluation Metrics Over Last 30 days'}, xlabel='eval_date'\u003e"
            ]
          },
          "execution_count": 211,
          "metadata": {},
          "output_type": "execute_result"
        },
        {
          "data": {
            "image/png": "[encoded data removed]",
            "text/plain": [
              "\u003cFigure size 800x300 with 1 Axes\u003e"
            ]
          },
          "metadata": {},
          "output_type": "display_data"
        }
      ],
      "source": [
        "evaluations.plot(y = ['log_loss', 'f1_score', 'precision'], legend = True, title = 'Evaluation Metrics Over Last 30 days', figsize = (8, 3), grid = True)"
      ]
    },
    {
      "cell_type": "markdown",
      "metadata": {
        "tags": [],
        "id": "BK7fOIVLq1-s"
      },
      "source": [
        "---\n",
        "## **Model Monitoring**\n",
        "\n",
        "Reviewing model evaluations over time does show a pattern of deterioration in the example above.  But at what point is it actionable?  And what if each days evaluations are relying on actual values that took hours, days, weeks, or even months to be available?  \n",
        "\n",
        "Model monitoring takes a different approach.  It goes back to the source of the model, each input feature.  These features form a distribution at the input to the model (the training data) and this can be used to compare to over time.  By setting thresholds on these comparisons to the original training data, alerts can be used to notify that a models accuracy *could be* in question.  This comparison to the training data is called **skew** detection.\n",
        "\n",
        "Similarly, each days values could be compared to the previous days, or weeks values.  These comparisons are referred to as **drift** detection.  \n",
        "\n",
        "Both of these types of comparisons can be done directly in BigQuery with two functions built for these tasks:\n",
        "- [`ML.VALIDATE_DATA_SKEW`](https://cloud.google.com/bigquery/docs/reference/standard-sql/bigqueryml-syntax-validate-data-skew)\n",
        "- [`ML.VALIDATE_DATA_DRIFT`](https://cloud.google.com/bigquery/docs/reference/standard-sql/bigqueryml-syntax-validate-data-drift)"
      ]
    },
    {
      "cell_type": "markdown",
      "metadata": {
        "id": "5T0bllCvq1-s"
      },
      "source": [
        "### Monitoring Skew (Change from training) With `ML.VALIDATE_DATA_SKEW`\n",
        "\n",
        "Compare today, or any data, to the training data by directly comparing to the the model created in BigQuery.\n",
        "\n",
        "\u003e**NOTE:** By adding the `enable_visualization_link` argument to the `ML.VALIDATE_DATA_SKEW` function it adds the Vertex AI Model Monitoring console link in the `visualization_link` column of the output.  Read more about [Monitoring visualization](https://cloud.google.com/bigquery/docs/model-monitoring-overview#monitoring_visualization) in the BigQuery ML [Model monitoring overview](https://cloud.google.com/bigquery/docs/model-monitoring-overview)."
      ]
    },
    {
      "cell_type": "code",
      "execution_count": 212,
      "metadata": {
        "tags": [],
        "id": "j49nip26q1-s"
      },
      "outputs": [
        {
          "data": {
            "application/vnd.jupyter.widget-view+json": {
              "model_id": "0d2792fa17624d338f45f0bb580802df",
              "version_major": 2,
              "version_minor": 0
            },
            "text/plain": [
              "Query is running:   0%|          |"
            ]
          },
          "metadata": {},
          "output_type": "display_data"
        },
        {
          "data": {
            "application/vnd.jupyter.widget-view+json": {
              "model_id": "30148c3cc0b24e29b013833ae439ab75",
              "version_major": 2,
              "version_minor": 0
            },
            "text/plain": [
              "Downloading:   0%|          |"
            ]
          },
          "metadata": {},
          "output_type": "display_data"
        }
      ],
      "source": [
        "%%bigquery skew\n",
        "SELECT *\n",
        "FROM ML.VALIDATE_DATA_SKEW(\n",
        "    # base\n",
        "    MODEL `statmike-mlops-349915.bqml_model_monitoring.classify_species_rf`,\n",
        "    (# compare\n",
        "        SELECT *\n",
        "        FROM `statmike-mlops-349915.bqml_model_monitoring.serving`\n",
        "        WHERE DATE(instance_timestamp) \u003e= CURRENT_DATE()\n",
        "    )\n",
        "    ,STRUCT(TRUE AS enable_visualization_link)\n",
        ");"
      ]
    },
    {
      "cell_type": "code",
      "execution_count": 213,
      "metadata": {
        "tags": [],
        "id": "QY8aZr6wq1-s"
      },
      "outputs": [
        {
          "data": {
            "text/html": [
              "\u003cdiv\u003e\n",
              "\u003cstyle scoped\u003e\n",
              "    .dataframe tbody tr th:only-of-type {\n",
              "        vertical-align: middle;\n",
              "    }\n",
              "\n",
              "    .dataframe tbody tr th {\n",
              "        vertical-align: top;\n",
              "    }\n",
              "\n",
              "    .dataframe thead th {\n",
              "        text-align: right;\n",
              "    }\n",
              "\u003c/style\u003e\n",
              "\u003ctable border=\"1\" class=\"dataframe\"\u003e\n",
              "  \u003cthead\u003e\n",
              "    \u003ctr style=\"text-align: right;\"\u003e\n",
              "      \u003cth\u003e\u003c/th\u003e\n",
              "      \u003cth\u003einput\u003c/th\u003e\n",
              "      \u003cth\u003emetric\u003c/th\u003e\n",
              "      \u003cth\u003ethreshold\u003c/th\u003e\n",
              "      \u003cth\u003evalue\u003c/th\u003e\n",
              "      \u003cth\u003eis_anomaly\u003c/th\u003e\n",
              "      \u003cth\u003evisualization_link\u003c/th\u003e\n",
              "    \u003c/tr\u003e\n",
              "  \u003c/thead\u003e\n",
              "  \u003ctbody\u003e\n",
              "    \u003ctr\u003e\n",
              "      \u003cth\u003e0\u003c/th\u003e\n",
              "      \u003ctd\u003ebody_mass_g\u003c/td\u003e\n",
              "      \u003ctd\u003eJENSEN_SHANNON_DIVERGENCE\u003c/td\u003e\n",
              "      \u003ctd\u003e0.3\u003c/td\u003e\n",
              "      \u003ctd\u003e0.336908\u003c/td\u003e\n",
              "      \u003ctd\u003eTrue\u003c/td\u003e\n",
              "      \u003ctd\u003ehttps://console.cloud.google.com/vertex-ai/model-monitoring/locations/us-central1/model-monitors/bq396260862588505937/model-monitoring-jobs/bqjob10059792880909913383/feature-drift?project=statmike-mlops-349915\u0026amp;featureName=body_mass_g\u003c/td\u003e\n",
              "    \u003c/tr\u003e\n",
              "    \u003ctr\u003e\n",
              "      \u003cth\u003e1\u003c/th\u003e\n",
              "      \u003ctd\u003eculmen_depth_mm\u003c/td\u003e\n",
              "      \u003ctd\u003eJENSEN_SHANNON_DIVERGENCE\u003c/td\u003e\n",
              "      \u003ctd\u003e0.3\u003c/td\u003e\n",
              "      \u003ctd\u003e0.030751\u003c/td\u003e\n",
              "      \u003ctd\u003eFalse\u003c/td\u003e\n",
              "      \u003ctd\u003ehttps://console.cloud.google.com/vertex-ai/model-monitoring/locations/us-central1/model-monitors/bq396260862588505937/model-monitoring-jobs/bqjob10059792880909913383/feature-drift?project=statmike-mlops-349915\u0026amp;featureName=culmen_depth_mm\u003c/td\u003e\n",
              "    \u003c/tr\u003e\n",
              "    \u003ctr\u003e\n",
              "      \u003cth\u003e2\u003c/th\u003e\n",
              "      \u003ctd\u003eculmen_length_mm\u003c/td\u003e\n",
              "      \u003ctd\u003eJENSEN_SHANNON_DIVERGENCE\u003c/td\u003e\n",
              "      \u003ctd\u003e0.3\u003c/td\u003e\n",
              "      \u003ctd\u003e0.034209\u003c/td\u003e\n",
              "      \u003ctd\u003eFalse\u003c/td\u003e\n",
              "      \u003ctd\u003ehttps://console.cloud.google.com/vertex-ai/model-monitoring/locations/us-central1/model-monitors/bq396260862588505937/model-monitoring-jobs/bqjob10059792880909913383/feature-drift?project=statmike-mlops-349915\u0026amp;featureName=culmen_length_mm\u003c/td\u003e\n",
              "    \u003c/tr\u003e\n",
              "    \u003ctr\u003e\n",
              "      \u003cth\u003e3\u003c/th\u003e\n",
              "      \u003ctd\u003eflipper_length_mm\u003c/td\u003e\n",
              "      \u003ctd\u003eJENSEN_SHANNON_DIVERGENCE\u003c/td\u003e\n",
              "      \u003ctd\u003e0.3\u003c/td\u003e\n",
              "      \u003ctd\u003e0.855818\u003c/td\u003e\n",
              "      \u003ctd\u003eTrue\u003c/td\u003e\n",
              "      \u003ctd\u003ehttps://console.cloud.google.com/vertex-ai/model-monitoring/locations/us-central1/model-monitors/bq396260862588505937/model-monitoring-jobs/bqjob10059792880909913383/feature-drift?project=statmike-mlops-349915\u0026amp;featureName=flipper_length_mm\u003c/td\u003e\n",
              "    \u003c/tr\u003e\n",
              "    \u003ctr\u003e\n",
              "      \u003cth\u003e4\u003c/th\u003e\n",
              "      \u003ctd\u003eisland\u003c/td\u003e\n",
              "      \u003ctd\u003eL_INFTY\u003c/td\u003e\n",
              "      \u003ctd\u003e0.3\u003c/td\u003e\n",
              "      \u003ctd\u003e0.077121\u003c/td\u003e\n",
              "      \u003ctd\u003eFalse\u003c/td\u003e\n",
              "      \u003ctd\u003ehttps://console.cloud.google.com/vertex-ai/model-monitoring/locations/us-central1/model-monitors/bq396260862588505937/model-monitoring-jobs/bqjob10059792880909913383/feature-drift?project=statmike-mlops-349915\u0026amp;featureName=island\u003c/td\u003e\n",
              "    \u003c/tr\u003e\n",
              "    \u003ctr\u003e\n",
              "      \u003cth\u003e5\u003c/th\u003e\n",
              "      \u003ctd\u003esex\u003c/td\u003e\n",
              "      \u003ctd\u003eL_INFTY\u003c/td\u003e\n",
              "      \u003ctd\u003e0.3\u003c/td\u003e\n",
              "      \u003ctd\u003e0.005110\u003c/td\u003e\n",
              "      \u003ctd\u003eFalse\u003c/td\u003e\n",
              "      \u003ctd\u003ehttps://console.cloud.google.com/vertex-ai/model-monitoring/locations/us-central1/model-monitors/bq396260862588505937/model-monitoring-jobs/bqjob10059792880909913383/feature-drift?project=statmike-mlops-349915\u0026amp;featureName=sex\u003c/td\u003e\n",
              "    \u003c/tr\u003e\n",
              "  \u003c/tbody\u003e\n",
              "\u003c/table\u003e\n",
              "\u003c/div\u003e"
            ],
            "text/plain": [
              "               input                     metric  threshold     value  \\\n",
              "0        body_mass_g  JENSEN_SHANNON_DIVERGENCE        0.3  0.336908   \n",
              "1    culmen_depth_mm  JENSEN_SHANNON_DIVERGENCE        0.3  0.030751   \n",
              "2   culmen_length_mm  JENSEN_SHANNON_DIVERGENCE        0.3  0.034209   \n",
              "3  flipper_length_mm  JENSEN_SHANNON_DIVERGENCE        0.3  0.855818   \n",
              "4             island                    L_INFTY        0.3  0.077121   \n",
              "5                sex                    L_INFTY        0.3  0.005110   \n",
              "\n",
              "   is_anomaly  \\\n",
              "0        True   \n",
              "1       False   \n",
              "2       False   \n",
              "3        True   \n",
              "4       False   \n",
              "5       False   \n",
              "\n",
              "                                                                                                                                                                                                                                visualization_link  \n",
              "0        https://console.cloud.google.com/vertex-ai/model-monitoring/locations/us-central1/model-monitors/bq396260862588505937/model-monitoring-jobs/bqjob10059792880909913383/feature-drift?project=statmike-mlops-349915\u0026featureName=body_mass_g  \n",
              "1    https://console.cloud.google.com/vertex-ai/model-monitoring/locations/us-central1/model-monitors/bq396260862588505937/model-monitoring-jobs/bqjob10059792880909913383/feature-drift?project=statmike-mlops-349915\u0026featureName=culmen_depth_mm  \n",
              "2   https://console.cloud.google.com/vertex-ai/model-monitoring/locations/us-central1/model-monitors/bq396260862588505937/model-monitoring-jobs/bqjob10059792880909913383/feature-drift?project=statmike-mlops-349915\u0026featureName=culmen_length_mm  \n",
              "3  https://console.cloud.google.com/vertex-ai/model-monitoring/locations/us-central1/model-monitors/bq396260862588505937/model-monitoring-jobs/bqjob10059792880909913383/feature-drift?project=statmike-mlops-349915\u0026featureName=flipper_length_mm  \n",
              "4             https://console.cloud.google.com/vertex-ai/model-monitoring/locations/us-central1/model-monitors/bq396260862588505937/model-monitoring-jobs/bqjob10059792880909913383/feature-drift?project=statmike-mlops-349915\u0026featureName=island  \n",
              "5                https://console.cloud.google.com/vertex-ai/model-monitoring/locations/us-central1/model-monitors/bq396260862588505937/model-monitoring-jobs/bqjob10059792880909913383/feature-drift?project=statmike-mlops-349915\u0026featureName=sex  "
            ]
          },
          "execution_count": 213,
          "metadata": {},
          "output_type": "execute_result"
        }
      ],
      "source": [
        "skew"
      ]
    },
    {
      "cell_type": "code",
      "execution_count": 214,
      "metadata": {
        "tags": [],
        "id": "N832v8MZq1-s"
      },
      "outputs": [
        {
          "data": {
            "text/html": [
              "\u003ca href=\"https://console.cloud.google.com/vertex-ai/model-monitoring/locations/us-central1/model-monitors/bq396260862588505937/model-monitoring-jobs/bqjob10059792880909913383/feature-drift?project=statmike-mlops-349915\u0026featureName=body_mass_g\" target=\"_blank\" style=\"font-size: 18px;\"\u003eOpen Google Cloud Console in a new tab\u003c/a\u003e"
            ],
            "text/plain": [
              "\u003cIPython.core.display.HTML object\u003e"
            ]
          },
          "metadata": {},
          "output_type": "display_data"
        }
      ],
      "source": [
        "display(HTML(f'\u003ca href=\"{skew.visualization_link[0]}\" target=\"_blank\" style=\"font-size: 18px;\"\u003eOpen Google Cloud Console in a new tab\u003c/a\u003e'))"
      ]
    },
    {
      "cell_type": "code",
      "execution_count": 215,
      "metadata": {
        "tags": [],
        "id": "430xbmteq1-s"
      },
      "outputs": [
        {
          "data": {
            "text/html": [
              "\u003cdiv style=\"text-align: center;\"\u003e\u003cimg src=\"./resources/tutorial_skew.gif\" style=\"border: 2px solid black; width: auto; height: 600px;\"\u003e\u003c/div\u003e"
            ],
            "text/plain": [
              "\u003cIPython.core.display.HTML object\u003e"
            ]
          },
          "metadata": {},
          "output_type": "display_data"
        }
      ],
      "source": [
        "display(HTML('\u003cdiv style=\"text-align: center;\"\u003e\u003cimg src=\"./resources/tutorial_skew.gif\" style=\"border: 2px solid black; width: auto; height: 600px;\"\u003e\u003c/div\u003e'))"
      ]
    },
    {
      "cell_type": "markdown",
      "metadata": {
        "id": "_Nd6S_Lgq1-s"
      },
      "source": [
        "### Monitoring Drift (Change Over Time) With `ML.VALIDATE_DATA_DRIFT`\n",
        "\n",
        "Compare today to 5 days ago and set the a lower, more sensitive, threshold of `0.03` (default is `0.3`) for all features.\n",
        "\n",
        "\n",
        "\u003e**NOTE:** By adding the `MODEL` to the `ML.VALIDATE_DATA_DRIFT` function it adds the Vertex AI Model Monitoring console link in the `visualization_link` column of the output.  Read more about [Monitoring visualization](https://cloud.google.com/bigquery/docs/model-monitoring-overview#monitoring_visualization) in the BigQuery ML [Model monitoring overview](https://cloud.google.com/bigquery/docs/model-monitoring-overview)."
      ]
    },
    {
      "cell_type": "code",
      "execution_count": 216,
      "metadata": {
        "tags": [],
        "id": "ZyyXLPvKq1-s"
      },
      "outputs": [
        {
          "data": {
            "application/vnd.jupyter.widget-view+json": {
              "model_id": "b565070d14ab4e468278c193e59d7a2a",
              "version_major": 2,
              "version_minor": 0
            },
            "text/plain": [
              "Query is running:   0%|          |"
            ]
          },
          "metadata": {},
          "output_type": "display_data"
        },
        {
          "data": {
            "application/vnd.jupyter.widget-view+json": {
              "model_id": "d87abe7ce8f344678f47dbe87fa131b8",
              "version_major": 2,
              "version_minor": 0
            },
            "text/plain": [
              "Downloading:   0%|          |"
            ]
          },
          "metadata": {},
          "output_type": "display_data"
        }
      ],
      "source": [
        "%%bigquery drift\n",
        "SELECT *\n",
        "FROM ML.VALIDATE_DATA_DRIFT(\n",
        "    (# base\n",
        "        SELECT * EXCEPT(instance_timestamp, species)\n",
        "        FROM `statmike-mlops-349915.bqml_model_monitoring.serving`\n",
        "        WHERE DATE(instance_timestamp) = DATE_SUB(CURRENT_DATE(), INTERVAL 5 DAY)\n",
        "    ),\n",
        "    (# compare\n",
        "        SELECT * EXCEPT(instance_timestamp, species)\n",
        "        FROM `statmike-mlops-349915.bqml_model_monitoring.serving`\n",
        "        WHERE DATE(instance_timestamp) = CURRENT_DATE() \n",
        "    ),\n",
        "    STRUCT(\n",
        "        0.03 AS categorical_default_threshold,\n",
        "        0.03 AS numerical_default_threshold\n",
        "    )\n",
        "    , MODEL `statmike-mlops-349915.bqml_model_monitoring.classify_species_rf`\n",
        ");"
      ]
    },
    {
      "cell_type": "code",
      "execution_count": 217,
      "metadata": {
        "tags": [],
        "id": "BY0Q8atNq1-s"
      },
      "outputs": [
        {
          "data": {
            "text/html": [
              "\u003cdiv\u003e\n",
              "\u003cstyle scoped\u003e\n",
              "    .dataframe tbody tr th:only-of-type {\n",
              "        vertical-align: middle;\n",
              "    }\n",
              "\n",
              "    .dataframe tbody tr th {\n",
              "        vertical-align: top;\n",
              "    }\n",
              "\n",
              "    .dataframe thead th {\n",
              "        text-align: right;\n",
              "    }\n",
              "\u003c/style\u003e\n",
              "\u003ctable border=\"1\" class=\"dataframe\"\u003e\n",
              "  \u003cthead\u003e\n",
              "    \u003ctr style=\"text-align: right;\"\u003e\n",
              "      \u003cth\u003e\u003c/th\u003e\n",
              "      \u003cth\u003einput\u003c/th\u003e\n",
              "      \u003cth\u003emetric\u003c/th\u003e\n",
              "      \u003cth\u003ethreshold\u003c/th\u003e\n",
              "      \u003cth\u003evalue\u003c/th\u003e\n",
              "      \u003cth\u003eis_anomaly\u003c/th\u003e\n",
              "      \u003cth\u003evisualization_link\u003c/th\u003e\n",
              "    \u003c/tr\u003e\n",
              "  \u003c/thead\u003e\n",
              "  \u003ctbody\u003e\n",
              "    \u003ctr\u003e\n",
              "      \u003cth\u003e0\u003c/th\u003e\n",
              "      \u003ctd\u003ebody_mass_g\u003c/td\u003e\n",
              "      \u003ctd\u003eJENSEN_SHANNON_DIVERGENCE\u003c/td\u003e\n",
              "      \u003ctd\u003e0.03\u003c/td\u003e\n",
              "      \u003ctd\u003e0.068207\u003c/td\u003e\n",
              "      \u003ctd\u003eTrue\u003c/td\u003e\n",
              "      \u003ctd\u003ehttps://console.cloud.google.com/vertex-ai/model-monitoring/locations/us-central1/model-monitors/bq396260862588505937/model-monitoring-jobs/bqjob7964488141766726348/feature-drift?project=statmike-mlops-349915\u0026amp;featureName=body_mass_g\u003c/td\u003e\n",
              "    \u003c/tr\u003e\n",
              "    \u003ctr\u003e\n",
              "      \u003cth\u003e1\u003c/th\u003e\n",
              "      \u003ctd\u003eculmen_depth_mm\u003c/td\u003e\n",
              "      \u003ctd\u003eJENSEN_SHANNON_DIVERGENCE\u003c/td\u003e\n",
              "      \u003ctd\u003e0.03\u003c/td\u003e\n",
              "      \u003ctd\u003e0.000000\u003c/td\u003e\n",
              "      \u003ctd\u003eFalse\u003c/td\u003e\n",
              "      \u003ctd\u003ehttps://console.cloud.google.com/vertex-ai/model-monitoring/locations/us-central1/model-monitors/bq396260862588505937/model-monitoring-jobs/bqjob7964488141766726348/feature-drift?project=statmike-mlops-349915\u0026amp;featureName=culmen_depth_mm\u003c/td\u003e\n",
              "    \u003c/tr\u003e\n",
              "    \u003ctr\u003e\n",
              "      \u003cth\u003e2\u003c/th\u003e\n",
              "      \u003ctd\u003eculmen_length_mm\u003c/td\u003e\n",
              "      \u003ctd\u003eJENSEN_SHANNON_DIVERGENCE\u003c/td\u003e\n",
              "      \u003ctd\u003e0.03\u003c/td\u003e\n",
              "      \u003ctd\u003e0.000000\u003c/td\u003e\n",
              "      \u003ctd\u003eFalse\u003c/td\u003e\n",
              "      \u003ctd\u003ehttps://console.cloud.google.com/vertex-ai/model-monitoring/locations/us-central1/model-monitors/bq396260862588505937/model-monitoring-jobs/bqjob7964488141766726348/feature-drift?project=statmike-mlops-349915\u0026amp;featureName=culmen_length_mm\u003c/td\u003e\n",
              "    \u003c/tr\u003e\n",
              "    \u003ctr\u003e\n",
              "      \u003cth\u003e3\u003c/th\u003e\n",
              "      \u003ctd\u003eflipper_length_mm\u003c/td\u003e\n",
              "      \u003ctd\u003eJENSEN_SHANNON_DIVERGENCE\u003c/td\u003e\n",
              "      \u003ctd\u003e0.03\u003c/td\u003e\n",
              "      \u003ctd\u003e0.064533\u003c/td\u003e\n",
              "      \u003ctd\u003eTrue\u003c/td\u003e\n",
              "      \u003ctd\u003ehttps://console.cloud.google.com/vertex-ai/model-monitoring/locations/us-central1/model-monitors/bq396260862588505937/model-monitoring-jobs/bqjob7964488141766726348/feature-drift?project=statmike-mlops-349915\u0026amp;featureName=flipper_length_mm\u003c/td\u003e\n",
              "    \u003c/tr\u003e\n",
              "    \u003ctr\u003e\n",
              "      \u003cth\u003e4\u003c/th\u003e\n",
              "      \u003ctd\u003eisland\u003c/td\u003e\n",
              "      \u003ctd\u003eL_INFTY\u003c/td\u003e\n",
              "      \u003ctd\u003e0.03\u003c/td\u003e\n",
              "      \u003ctd\u003e0.000000\u003c/td\u003e\n",
              "      \u003ctd\u003eFalse\u003c/td\u003e\n",
              "      \u003ctd\u003ehttps://console.cloud.google.com/vertex-ai/model-monitoring/locations/us-central1/model-monitors/bq396260862588505937/model-monitoring-jobs/bqjob7964488141766726348/feature-drift?project=statmike-mlops-349915\u0026amp;featureName=island\u003c/td\u003e\n",
              "    \u003c/tr\u003e\n",
              "    \u003ctr\u003e\n",
              "      \u003cth\u003e5\u003c/th\u003e\n",
              "      \u003ctd\u003esex\u003c/td\u003e\n",
              "      \u003ctd\u003eL_INFTY\u003c/td\u003e\n",
              "      \u003ctd\u003e0.03\u003c/td\u003e\n",
              "      \u003ctd\u003e0.000000\u003c/td\u003e\n",
              "      \u003ctd\u003eFalse\u003c/td\u003e\n",
              "      \u003ctd\u003ehttps://console.cloud.google.com/vertex-ai/model-monitoring/locations/us-central1/model-monitors/bq396260862588505937/model-monitoring-jobs/bqjob7964488141766726348/feature-drift?project=statmike-mlops-349915\u0026amp;featureName=sex\u003c/td\u003e\n",
              "    \u003c/tr\u003e\n",
              "  \u003c/tbody\u003e\n",
              "\u003c/table\u003e\n",
              "\u003c/div\u003e"
            ],
            "text/plain": [
              "               input                     metric  threshold     value  \\\n",
              "0        body_mass_g  JENSEN_SHANNON_DIVERGENCE       0.03  0.068207   \n",
              "1    culmen_depth_mm  JENSEN_SHANNON_DIVERGENCE       0.03  0.000000   \n",
              "2   culmen_length_mm  JENSEN_SHANNON_DIVERGENCE       0.03  0.000000   \n",
              "3  flipper_length_mm  JENSEN_SHANNON_DIVERGENCE       0.03  0.064533   \n",
              "4             island                    L_INFTY       0.03  0.000000   \n",
              "5                sex                    L_INFTY       0.03  0.000000   \n",
              "\n",
              "   is_anomaly  \\\n",
              "0        True   \n",
              "1       False   \n",
              "2       False   \n",
              "3        True   \n",
              "4       False   \n",
              "5       False   \n",
              "\n",
              "                                                                                                                                                                                                                               visualization_link  \n",
              "0        https://console.cloud.google.com/vertex-ai/model-monitoring/locations/us-central1/model-monitors/bq396260862588505937/model-monitoring-jobs/bqjob7964488141766726348/feature-drift?project=statmike-mlops-349915\u0026featureName=body_mass_g  \n",
              "1    https://console.cloud.google.com/vertex-ai/model-monitoring/locations/us-central1/model-monitors/bq396260862588505937/model-monitoring-jobs/bqjob7964488141766726348/feature-drift?project=statmike-mlops-349915\u0026featureName=culmen_depth_mm  \n",
              "2   https://console.cloud.google.com/vertex-ai/model-monitoring/locations/us-central1/model-monitors/bq396260862588505937/model-monitoring-jobs/bqjob7964488141766726348/feature-drift?project=statmike-mlops-349915\u0026featureName=culmen_length_mm  \n",
              "3  https://console.cloud.google.com/vertex-ai/model-monitoring/locations/us-central1/model-monitors/bq396260862588505937/model-monitoring-jobs/bqjob7964488141766726348/feature-drift?project=statmike-mlops-349915\u0026featureName=flipper_length_mm  \n",
              "4             https://console.cloud.google.com/vertex-ai/model-monitoring/locations/us-central1/model-monitors/bq396260862588505937/model-monitoring-jobs/bqjob7964488141766726348/feature-drift?project=statmike-mlops-349915\u0026featureName=island  \n",
              "5                https://console.cloud.google.com/vertex-ai/model-monitoring/locations/us-central1/model-monitors/bq396260862588505937/model-monitoring-jobs/bqjob7964488141766726348/feature-drift?project=statmike-mlops-349915\u0026featureName=sex  "
            ]
          },
          "execution_count": 217,
          "metadata": {},
          "output_type": "execute_result"
        }
      ],
      "source": [
        "drift"
      ]
    },
    {
      "cell_type": "code",
      "execution_count": 218,
      "metadata": {
        "tags": [],
        "id": "wiaDH1ubq1-s"
      },
      "outputs": [
        {
          "data": {
            "text/html": [
              "\u003ca href=\"https://console.cloud.google.com/vertex-ai/model-monitoring/locations/us-central1/model-monitors/bq396260862588505937/model-monitoring-jobs/bqjob7964488141766726348/feature-drift?project=statmike-mlops-349915\u0026featureName=body_mass_g\" target=\"_blank\" style=\"font-size: 18px;\"\u003eOpen Google Cloud Console in a new tab\u003c/a\u003e"
            ],
            "text/plain": [
              "\u003cIPython.core.display.HTML object\u003e"
            ]
          },
          "metadata": {},
          "output_type": "display_data"
        }
      ],
      "source": [
        "display(HTML(f'\u003ca href=\"{drift.visualization_link[0]}\" target=\"_blank\" style=\"font-size: 18px;\"\u003eOpen Google Cloud Console in a new tab\u003c/a\u003e'))"
      ]
    },
    {
      "cell_type": "code",
      "execution_count": 219,
      "metadata": {
        "tags": [],
        "id": "NbgrH0apq1-s"
      },
      "outputs": [
        {
          "data": {
            "text/html": [
              "\u003cdiv style=\"text-align: center;\"\u003e\u003cimg src=\"./resources/tutorial_drift.gif\" style=\"border: 2px solid black; width: auto; height: 600px;\"\u003e\u003c/div\u003e"
            ],
            "text/plain": [
              "\u003cIPython.core.display.HTML object\u003e"
            ]
          },
          "metadata": {},
          "output_type": "display_data"
        }
      ],
      "source": [
        "display(HTML('\u003cdiv style=\"text-align: center;\"\u003e\u003cimg src=\"./resources/tutorial_drift.gif\" style=\"border: 2px solid black; width: auto; height: 600px;\"\u003e\u003c/div\u003e'))"
      ]
    },
    {
      "cell_type": "markdown",
      "metadata": {
        "id": "aSl04Krmq1-s"
      },
      "source": [
        "### Monitoring Skew (Manually) - As Drift from Training Data\n",
        "\n",
        "Since the `ML.VALIDATE_DATA_DRIFT` is comparing two tables, it could also be used for **skew** by comparing the training data to new data, like todays data:"
      ]
    },
    {
      "cell_type": "code",
      "execution_count": 220,
      "metadata": {
        "tags": [],
        "id": "IKzPtTnOq1-s"
      },
      "outputs": [
        {
          "data": {
            "application/vnd.jupyter.widget-view+json": {
              "model_id": "58c6d775965746c5aea80c5663aa683a",
              "version_major": 2,
              "version_minor": 0
            },
            "text/plain": [
              "Query is running:   0%|          |"
            ]
          },
          "metadata": {},
          "output_type": "display_data"
        },
        {
          "data": {
            "application/vnd.jupyter.widget-view+json": {
              "model_id": "edba5a62b2da4e2083a75606d1ecec98",
              "version_major": 2,
              "version_minor": 0
            },
            "text/plain": [
              "Downloading:   0%|          |"
            ]
          },
          "metadata": {},
          "output_type": "display_data"
        }
      ],
      "source": [
        "%%bigquery skew_manual\n",
        "SELECT *\n",
        "FROM ML.VALIDATE_DATA_DRIFT(\n",
        "    (# base\n",
        "        SELECT *\n",
        "        FROM `statmike-mlops-349915.bqml_model_monitoring.training_split`\n",
        "        WHERE splits = 'TRAIN'\n",
        "    ),\n",
        "    (# compare\n",
        "        SELECT * EXCEPT(instance_timestamp, species)\n",
        "        FROM `statmike-mlops-349915.bqml_model_monitoring.serving`\n",
        "        WHERE DATE(instance_timestamp) = CURRENT_DATE() \n",
        "    ),\n",
        "    STRUCT()\n",
        "    , MODEL `statmike-mlops-349915.bqml_model_monitoring.classify_species_rf`\n",
        ");"
      ]
    },
    {
      "cell_type": "code",
      "execution_count": 221,
      "metadata": {
        "tags": [],
        "id": "l0Sq-sAiq1-s"
      },
      "outputs": [
        {
          "data": {
            "text/html": [
              "\u003cdiv\u003e\n",
              "\u003cstyle scoped\u003e\n",
              "    .dataframe tbody tr th:only-of-type {\n",
              "        vertical-align: middle;\n",
              "    }\n",
              "\n",
              "    .dataframe tbody tr th {\n",
              "        vertical-align: top;\n",
              "    }\n",
              "\n",
              "    .dataframe thead th {\n",
              "        text-align: right;\n",
              "    }\n",
              "\u003c/style\u003e\n",
              "\u003ctable border=\"1\" class=\"dataframe\"\u003e\n",
              "  \u003cthead\u003e\n",
              "    \u003ctr style=\"text-align: right;\"\u003e\n",
              "      \u003cth\u003e\u003c/th\u003e\n",
              "      \u003cth\u003einput\u003c/th\u003e\n",
              "      \u003cth\u003emetric\u003c/th\u003e\n",
              "      \u003cth\u003ethreshold\u003c/th\u003e\n",
              "      \u003cth\u003evalue\u003c/th\u003e\n",
              "      \u003cth\u003eis_anomaly\u003c/th\u003e\n",
              "      \u003cth\u003evisualization_link\u003c/th\u003e\n",
              "    \u003c/tr\u003e\n",
              "  \u003c/thead\u003e\n",
              "  \u003ctbody\u003e\n",
              "    \u003ctr\u003e\n",
              "      \u003cth\u003e0\u003c/th\u003e\n",
              "      \u003ctd\u003ebody_mass_g\u003c/td\u003e\n",
              "      \u003ctd\u003eJENSEN_SHANNON_DIVERGENCE\u003c/td\u003e\n",
              "      \u003ctd\u003e0.3\u003c/td\u003e\n",
              "      \u003ctd\u003e0.336908\u003c/td\u003e\n",
              "      \u003ctd\u003eTrue\u003c/td\u003e\n",
              "      \u003ctd\u003ehttps://console.cloud.google.com/vertex-ai/model-monitoring/locations/us-central1/model-monitors/bq396260862588505937/model-monitoring-jobs/bqjob3471832248554495792/feature-drift?project=statmike-mlops-349915\u0026amp;featureName=body_mass_g\u003c/td\u003e\n",
              "    \u003c/tr\u003e\n",
              "    \u003ctr\u003e\n",
              "      \u003cth\u003e1\u003c/th\u003e\n",
              "      \u003ctd\u003eculmen_depth_mm\u003c/td\u003e\n",
              "      \u003ctd\u003eJENSEN_SHANNON_DIVERGENCE\u003c/td\u003e\n",
              "      \u003ctd\u003e0.3\u003c/td\u003e\n",
              "      \u003ctd\u003e0.030751\u003c/td\u003e\n",
              "      \u003ctd\u003eFalse\u003c/td\u003e\n",
              "      \u003ctd\u003ehttps://console.cloud.google.com/vertex-ai/model-monitoring/locations/us-central1/model-monitors/bq396260862588505937/model-monitoring-jobs/bqjob3471832248554495792/feature-drift?project=statmike-mlops-349915\u0026amp;featureName=culmen_depth_mm\u003c/td\u003e\n",
              "    \u003c/tr\u003e\n",
              "    \u003ctr\u003e\n",
              "      \u003cth\u003e2\u003c/th\u003e\n",
              "      \u003ctd\u003eculmen_length_mm\u003c/td\u003e\n",
              "      \u003ctd\u003eJENSEN_SHANNON_DIVERGENCE\u003c/td\u003e\n",
              "      \u003ctd\u003e0.3\u003c/td\u003e\n",
              "      \u003ctd\u003e0.034209\u003c/td\u003e\n",
              "      \u003ctd\u003eFalse\u003c/td\u003e\n",
              "      \u003ctd\u003ehttps://console.cloud.google.com/vertex-ai/model-monitoring/locations/us-central1/model-monitors/bq396260862588505937/model-monitoring-jobs/bqjob3471832248554495792/feature-drift?project=statmike-mlops-349915\u0026amp;featureName=culmen_length_mm\u003c/td\u003e\n",
              "    \u003c/tr\u003e\n",
              "    \u003ctr\u003e\n",
              "      \u003cth\u003e3\u003c/th\u003e\n",
              "      \u003ctd\u003eflipper_length_mm\u003c/td\u003e\n",
              "      \u003ctd\u003eJENSEN_SHANNON_DIVERGENCE\u003c/td\u003e\n",
              "      \u003ctd\u003e0.3\u003c/td\u003e\n",
              "      \u003ctd\u003e0.855818\u003c/td\u003e\n",
              "      \u003ctd\u003eTrue\u003c/td\u003e\n",
              "      \u003ctd\u003ehttps://console.cloud.google.com/vertex-ai/model-monitoring/locations/us-central1/model-monitors/bq396260862588505937/model-monitoring-jobs/bqjob3471832248554495792/feature-drift?project=statmike-mlops-349915\u0026amp;featureName=flipper_length_mm\u003c/td\u003e\n",
              "    \u003c/tr\u003e\n",
              "    \u003ctr\u003e\n",
              "      \u003cth\u003e4\u003c/th\u003e\n",
              "      \u003ctd\u003eisland\u003c/td\u003e\n",
              "      \u003ctd\u003eL_INFTY\u003c/td\u003e\n",
              "      \u003ctd\u003e0.3\u003c/td\u003e\n",
              "      \u003ctd\u003e0.077121\u003c/td\u003e\n",
              "      \u003ctd\u003eFalse\u003c/td\u003e\n",
              "      \u003ctd\u003ehttps://console.cloud.google.com/vertex-ai/model-monitoring/locations/us-central1/model-monitors/bq396260862588505937/model-monitoring-jobs/bqjob3471832248554495792/feature-drift?project=statmike-mlops-349915\u0026amp;featureName=island\u003c/td\u003e\n",
              "    \u003c/tr\u003e\n",
              "    \u003ctr\u003e\n",
              "      \u003cth\u003e5\u003c/th\u003e\n",
              "      \u003ctd\u003esex\u003c/td\u003e\n",
              "      \u003ctd\u003eL_INFTY\u003c/td\u003e\n",
              "      \u003ctd\u003e0.3\u003c/td\u003e\n",
              "      \u003ctd\u003e0.005110\u003c/td\u003e\n",
              "      \u003ctd\u003eFalse\u003c/td\u003e\n",
              "      \u003ctd\u003ehttps://console.cloud.google.com/vertex-ai/model-monitoring/locations/us-central1/model-monitors/bq396260862588505937/model-monitoring-jobs/bqjob3471832248554495792/feature-drift?project=statmike-mlops-349915\u0026amp;featureName=sex\u003c/td\u003e\n",
              "    \u003c/tr\u003e\n",
              "  \u003c/tbody\u003e\n",
              "\u003c/table\u003e\n",
              "\u003c/div\u003e"
            ],
            "text/plain": [
              "               input                     metric  threshold     value  \\\n",
              "0        body_mass_g  JENSEN_SHANNON_DIVERGENCE        0.3  0.336908   \n",
              "1    culmen_depth_mm  JENSEN_SHANNON_DIVERGENCE        0.3  0.030751   \n",
              "2   culmen_length_mm  JENSEN_SHANNON_DIVERGENCE        0.3  0.034209   \n",
              "3  flipper_length_mm  JENSEN_SHANNON_DIVERGENCE        0.3  0.855818   \n",
              "4             island                    L_INFTY        0.3  0.077121   \n",
              "5                sex                    L_INFTY        0.3  0.005110   \n",
              "\n",
              "   is_anomaly  \\\n",
              "0        True   \n",
              "1       False   \n",
              "2       False   \n",
              "3        True   \n",
              "4       False   \n",
              "5       False   \n",
              "\n",
              "                                                                                                                                                                                                                               visualization_link  \n",
              "0        https://console.cloud.google.com/vertex-ai/model-monitoring/locations/us-central1/model-monitors/bq396260862588505937/model-monitoring-jobs/bqjob3471832248554495792/feature-drift?project=statmike-mlops-349915\u0026featureName=body_mass_g  \n",
              "1    https://console.cloud.google.com/vertex-ai/model-monitoring/locations/us-central1/model-monitors/bq396260862588505937/model-monitoring-jobs/bqjob3471832248554495792/feature-drift?project=statmike-mlops-349915\u0026featureName=culmen_depth_mm  \n",
              "2   https://console.cloud.google.com/vertex-ai/model-monitoring/locations/us-central1/model-monitors/bq396260862588505937/model-monitoring-jobs/bqjob3471832248554495792/feature-drift?project=statmike-mlops-349915\u0026featureName=culmen_length_mm  \n",
              "3  https://console.cloud.google.com/vertex-ai/model-monitoring/locations/us-central1/model-monitors/bq396260862588505937/model-monitoring-jobs/bqjob3471832248554495792/feature-drift?project=statmike-mlops-349915\u0026featureName=flipper_length_mm  \n",
              "4             https://console.cloud.google.com/vertex-ai/model-monitoring/locations/us-central1/model-monitors/bq396260862588505937/model-monitoring-jobs/bqjob3471832248554495792/feature-drift?project=statmike-mlops-349915\u0026featureName=island  \n",
              "5                https://console.cloud.google.com/vertex-ai/model-monitoring/locations/us-central1/model-monitors/bq396260862588505937/model-monitoring-jobs/bqjob3471832248554495792/feature-drift?project=statmike-mlops-349915\u0026featureName=sex  "
            ]
          },
          "execution_count": 221,
          "metadata": {},
          "output_type": "execute_result"
        }
      ],
      "source": [
        "skew_manual"
      ]
    },
    {
      "cell_type": "code",
      "execution_count": 222,
      "metadata": {
        "tags": [],
        "id": "iBqtpyKXq1-s"
      },
      "outputs": [
        {
          "data": {
            "text/html": [
              "\u003ca href=\"https://console.cloud.google.com/vertex-ai/model-monitoring/locations/us-central1/model-monitors/bq396260862588505937/model-monitoring-jobs/bqjob3471832248554495792/feature-drift?project=statmike-mlops-349915\u0026featureName=body_mass_g\" target=\"_blank\" style=\"font-size: 18px;\"\u003eOpen Google Cloud Console in a new tab\u003c/a\u003e"
            ],
            "text/plain": [
              "\u003cIPython.core.display.HTML object\u003e"
            ]
          },
          "metadata": {},
          "output_type": "display_data"
        }
      ],
      "source": [
        "display(HTML(f'\u003ca href=\"{skew_manual.visualization_link[0]}\" target=\"_blank\" style=\"font-size: 18px;\"\u003eOpen Google Cloud Console in a new tab\u003c/a\u003e'))"
      ]
    },
    {
      "cell_type": "code",
      "execution_count": 223,
      "metadata": {
        "tags": [],
        "id": "nlHyVSziq1-s"
      },
      "outputs": [
        {
          "data": {
            "text/html": [
              "\u003cdiv style=\"text-align: center;\"\u003e\u003cimg src=\"./resources/tutorial_skew_manual.gif\" style=\"border: 2px solid black; width: auto; height: 600px;\"\u003e\u003c/div\u003e"
            ],
            "text/plain": [
              "\u003cIPython.core.display.HTML object\u003e"
            ]
          },
          "metadata": {},
          "output_type": "display_data"
        }
      ],
      "source": [
        "display(HTML('\u003cdiv style=\"text-align: center;\"\u003e\u003cimg src=\"./resources/tutorial_skew_manual.gif\" style=\"border: 2px solid black; width: auto; height: 600px;\"\u003e\u003c/div\u003e'))"
      ]
    },
    {
      "cell_type": "markdown",
      "metadata": {
        "id": "np1hVgzXq1-s"
      },
      "source": [
        "---\n",
        "### TensorFlow Data Validation (TFDV) In BigQuery\n",
        "\n",
        "BigQuery offers two functions that bring the power of the TensorFlow's [TFX platform](https://www.tensorflow.org/tfx) with built-in [TensorFlow Data Validation (TFDV)](https://www.tensorflow.org/tfx/data_validation/get_started) module directly inside of BigQuery.\n",
        "- [`ML.TFDV_DESCRIBE`](https://cloud.google.com/bigquery/docs/reference/standard-sql/bigqueryml-syntax-tfdv-describe) to generate descriptive statistics of any table\n",
        "- [`ML.TFDV_VALIDATE`](https://cloud.google.com/bigquery/docs/reference/standard-sql/bigqueryml-syntax-tfdv-validate) to compare statistics of two tables"
      ]
    },
    {
      "cell_type": "markdown",
      "metadata": {
        "id": "3uRKVWQ9q1-s"
      },
      "source": [
        "#### Generate Statistics with `ML.TFDV_DESCRIBE`\n",
        "\n",
        "Generate statistics for any table, in this case the training data features or a timespan of serving data features.  This is like using the TensorFlow's [TFX platform](https://www.tensorflow.org/tfx) with built-in [TensorFlow Data Validation (TFDV)](https://www.tensorflow.org/tfx/data_validation/get_started) module's [`tfdv.generate_statistics_from_csv()`](https://www.tensorflow.org/tfx/data_validation/api_docs/python/tfdv/generate_statistics_from_csv) method.\n",
        "\n",
        "The descriptions can be used in comparisons for skew or drift detection with the `ML.TFDV_VALIDATE` function, covered next, as well as in the visualization tool `tfdv.visualize_statistics` also covered below."
      ]
    },
    {
      "cell_type": "code",
      "execution_count": 224,
      "metadata": {
        "tags": [],
        "id": "_Z_mMZJoq1-s"
      },
      "outputs": [
        {
          "data": {
            "application/vnd.jupyter.widget-view+json": {
              "model_id": "50f93f96e79b412cb76cbb3349f6f44a",
              "version_major": 2,
              "version_minor": 0
            },
            "text/plain": [
              "Query is running:   0%|          |"
            ]
          },
          "metadata": {},
          "output_type": "display_data"
        },
        {
          "data": {
            "application/vnd.jupyter.widget-view+json": {
              "model_id": "ae7e67706abd485a958819bb39b59c3e",
              "version_major": 2,
              "version_minor": 0
            },
            "text/plain": [
              "Downloading:   0%|          |"
            ]
          },
          "metadata": {},
          "output_type": "display_data"
        }
      ],
      "source": [
        "%%bigquery train_describe\n",
        "SELECT *\n",
        "FROM ML.TFDV_DESCRIBE(\n",
        "    (\n",
        "        SELECT * EXCEPT(splits, species)\n",
        "        FROM `statmike-mlops-349915.bqml_model_monitoring.training_split`\n",
        "        WHERE splits = 'TRAIN'\n",
        "    )\n",
        ")"
      ]
    },
    {
      "cell_type": "code",
      "execution_count": 225,
      "metadata": {
        "tags": [],
        "id": "YiVeNJAiq1-s"
      },
      "outputs": [],
      "source": [
        "train_describe = json.loads(train_describe['dataset_feature_statistics_list'].iloc[0])"
      ]
    },
    {
      "cell_type": "code",
      "execution_count": 226,
      "metadata": {
        "tags": [],
        "id": "zTcF8wJCq1-s"
      },
      "outputs": [
        {
          "data": {
            "text/plain": [
              "{'name': 'body_mass_g',\n",
              " 'num_stats': {'common_stats': {'avg_num_values': 1,\n",
              "   'max_num_values': 1,\n",
              "   'min_num_values': 1,\n",
              "   'num_missing': 2,\n",
              "   'num_non_missing': 236,\n",
              "   'num_values_histogram': {'buckets': [{'high_value': 1,\n",
              "      'low_value': 1,\n",
              "      'sample_count': 23.6},\n",
              "     {'high_value': 1, 'low_value': 1, 'sample_count': 23.6},\n",
              "     {'high_value': 1, 'low_value': 1, 'sample_count': 23.6},\n",
              "     {'high_value': 1, 'low_value': 1, 'sample_count': 23.6},\n",
              "     {'high_value': 1, 'low_value': 1, 'sample_count': 23.6},\n",
              "     {'high_value': 1, 'low_value': 1, 'sample_count': 23.6},\n",
              "     {'high_value': 1, 'low_value': 1, 'sample_count': 23.6},\n",
              "     {'high_value': 1, 'low_value': 1, 'sample_count': 23.6},\n",
              "     {'high_value': 1, 'low_value': 1, 'sample_count': 23.6},\n",
              "     {'high_value': 1, 'low_value': 1, 'sample_count': 23.6}],\n",
              "    'type': 'QUANTILES'},\n",
              "   'tot_num_values': 236},\n",
              "  'histograms': [{'buckets': [{'high_value': 3300,\n",
              "      'low_value': 2700,\n",
              "      'sample_count': 23.6},\n",
              "     {'high_value': 3500, 'low_value': 3300, 'sample_count': 23.6},\n",
              "     {'high_value': 3700, 'low_value': 3500, 'sample_count': 23.6},\n",
              "     {'high_value': 3800, 'low_value': 3700, 'sample_count': 23.6},\n",
              "     {'high_value': 4000, 'low_value': 3800, 'sample_count': 23.6},\n",
              "     {'high_value': 4300, 'low_value': 4000, 'sample_count': 23.6},\n",
              "     {'high_value': 4650, 'low_value': 4300, 'sample_count': 23.6},\n",
              "     {'high_value': 5000, 'low_value': 4650, 'sample_count': 23.6},\n",
              "     {'high_value': 5500, 'low_value': 5000, 'sample_count': 23.6},\n",
              "     {'high_value': 6300, 'low_value': 5500, 'sample_count': 23.6}],\n",
              "    'type': 'QUANTILES'},\n",
              "   {'buckets': [{'high_value': 3060,\n",
              "      'low_value': 2700,\n",
              "      'sample_count': 9.062399999999997},\n",
              "     {'high_value': 3420,\n",
              "      'low_value': 3060,\n",
              "      'sample_count': 26.998400000000046},\n",
              "     {'high_value': 3780,\n",
              "      'low_value': 3420,\n",
              "      'sample_count': 48.94639999999985},\n",
              "     {'high_value': 4140,\n",
              "      'low_value': 3780,\n",
              "      'sample_count': 40.96959999999995},\n",
              "     {'high_value': 4500,\n",
              "      'low_value': 4140,\n",
              "      'sample_count': 30.963200000000057},\n",
              "     {'high_value': 4860,\n",
              "      'low_value': 4500,\n",
              "      'sample_count': 22.986400000000035},\n",
              "     {'high_value': 5220,\n",
              "      'low_value': 4860,\n",
              "      'sample_count': 21.00400000000003},\n",
              "     {'high_value': 5580,\n",
              "      'low_value': 5220,\n",
              "      'sample_count': 19.163200000000025},\n",
              "     {'high_value': 5940,\n",
              "      'low_value': 5580,\n",
              "      'sample_count': 12.106800000000005},\n",
              "     {'high_value': 6300,\n",
              "      'low_value': 5940,\n",
              "      'sample_count': 3.799599999999998}]}],\n",
              "  'max': 6300,\n",
              "  'mean': 4219.27966101695,\n",
              "  'median': 4000,\n",
              "  'min': 2700,\n",
              "  'std_dev': 798.9526447602364},\n",
              " 'type': 'FLOAT'}"
            ]
          },
          "execution_count": 226,
          "metadata": {},
          "output_type": "execute_result"
        }
      ],
      "source": [
        "train_describe['datasets'][0]['features'][0]"
      ]
    },
    {
      "cell_type": "code",
      "execution_count": 227,
      "metadata": {
        "tags": [],
        "id": "rnCoWxnGq1-s"
      },
      "outputs": [
        {
          "data": {
            "application/vnd.jupyter.widget-view+json": {
              "model_id": "6d2d84bbccdc4f35ae12517b048660f5",
              "version_major": 2,
              "version_minor": 0
            },
            "text/plain": [
              "Query is running:   0%|          |"
            ]
          },
          "metadata": {},
          "output_type": "display_data"
        },
        {
          "data": {
            "application/vnd.jupyter.widget-view+json": {
              "model_id": "42f07d94106d4e2da4059bdc39304637",
              "version_major": 2,
              "version_minor": 0
            },
            "text/plain": [
              "Downloading:   0%|          |"
            ]
          },
          "metadata": {},
          "output_type": "display_data"
        }
      ],
      "source": [
        "%%bigquery today_describe\n",
        "SELECT *\n",
        "FROM ML.TFDV_DESCRIBE(\n",
        "    (\n",
        "        SELECT * EXCEPT(instance_timestamp, species)\n",
        "        FROM `statmike-mlops-349915.bqml_model_monitoring.serving`\n",
        "        WHERE DATE(instance_timestamp) = CURRENT_DATE()\n",
        "    )\n",
        ")"
      ]
    },
    {
      "cell_type": "code",
      "execution_count": 228,
      "metadata": {
        "tags": [],
        "id": "iCK4awceq1-s"
      },
      "outputs": [],
      "source": [
        "today_describe = json.loads(today_describe['dataset_feature_statistics_list'].iloc[0])"
      ]
    },
    {
      "cell_type": "code",
      "execution_count": 229,
      "metadata": {
        "tags": [],
        "id": "FURnHEwsq1-s"
      },
      "outputs": [],
      "source": [
        "#today_describe['datasets'][0]['features'][0]"
      ]
    },
    {
      "cell_type": "markdown",
      "metadata": {
        "id": "w7zX9T6qq1-s"
      },
      "source": [
        "#### Visualize Statistics with `tfdv.visualize_statistics`\n",
        "\n",
        "Use the [`tfdv.visualize_statistics`](https://www.tensorflow.org/tfx/data_validation/api_docs/python/tfdv/visualize_statistics) tool to visualize the generated descriptions and directly compare them.  This presents visuals using [Facets Overview](https://pair-code.github.io/facets/)."
      ]
    },
    {
      "cell_type": "code",
      "execution_count": 230,
      "metadata": {
        "tags": [],
        "id": "HsTvU1Icq1-s"
      },
      "outputs": [],
      "source": [
        "import os\n",
        "os.environ['TF_CPP_MIN_LOG_LEVEL'] = '3'\n",
        "import tensorflow_data_validation as tfdv\n",
        "import tensorflow_metadata as tfmd\n",
        "from google.protobuf import json_format"
      ]
    },
    {
      "cell_type": "code",
      "execution_count": 231,
      "metadata": {
        "tags": [],
        "id": "mEHt5wGAq1-s"
      },
      "outputs": [
        {
          "data": {
            "text/html": [
              "\u003ciframe id='facets-iframe' width=\"100%\" height=\"500px\"\u003e\u003c/iframe\u003e\n",
              "        \u003cscript\u003e\n",
              "        facets_iframe = document.getElementById('facets-iframe');\n",
              "        facets_html = '\u003cscript src=\"https://cdnjs.cloudflare.com/ajax/libs/webcomponentsjs/1.3.3/webcomponents-lite.js\"\u003e\u003c\\/script\u003e\u003clink rel=\"import\" href=\"https://raw.githubusercontent.com/PAIR-code/facets/master/facets-dist/facets-jupyter.html\"\u003e\u003cfacets-overview proto-input=\"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\"\u003e\u003c/facets-overview\u003e';\n",
              "        facets_iframe.srcdoc = facets_html;\n",
              "         facets_iframe.id = \"\";\n",
              "         setTimeout(() =\u003e {\n",
              "           facets_iframe.setAttribute('height', facets_iframe.contentWindow.document.body.offsetHeight + 'px')\n",
              "         }, 1500)\n",
              "         \u003c/script\u003e"
            ],
            "text/plain": [
              "\u003cIPython.core.display.HTML object\u003e"
            ]
          },
          "metadata": {},
          "output_type": "display_data"
        }
      ],
      "source": [
        "tfdv.visualize_statistics(\n",
        "    lhs_statistics = json_format.ParseDict(train_describe, tfmd.proto.statistics_pb2.DatasetFeatureStatisticsList()),\n",
        "    rhs_statistics = json_format.ParseDict(today_describe, tfmd.proto.statistics_pb2.DatasetFeatureStatisticsList()),\n",
        "    lhs_name = 'Training Data Stats',\n",
        "    rhs_name = 'Serving Data Stats - For Today'\n",
        ")"
      ]
    },
    {
      "cell_type": "code",
      "execution_count": 232,
      "metadata": {
        "tags": [],
        "id": "CWvF46Drq1-s"
      },
      "outputs": [
        {
          "data": {
            "text/html": [
              "\u003cdiv style=\"text-align: center;\"\u003e\u003cimg src=\"./resources/tutorial_tfdv_visualize.gif\" style=\"border: 2px solid black; width: auto; height: 400px;\"\u003e\u003c/div\u003e"
            ],
            "text/plain": [
              "\u003cIPython.core.display.HTML object\u003e"
            ]
          },
          "metadata": {},
          "output_type": "display_data"
        }
      ],
      "source": [
        "display(HTML('\u003cdiv style=\"text-align: center;\"\u003e\u003cimg src=\"./resources/tutorial_tfdv_visualize.gif\" style=\"border: 2px solid black; width: auto; height: 400px;\"\u003e\u003c/div\u003e'))"
      ]
    },
    {
      "cell_type": "markdown",
      "metadata": {
        "id": "X1195Kjlq1-s"
      },
      "source": [
        "#### Compare And Detect Anomalies with `ML.TFDV_VALIDATE`\n",
        "\n",
        "Compare the distribution of any table to a base table and compute distance statistics to detect anomalies.  This is like using the TensorFlow's [TFX platform](https://www.tensorflow.org/tfx) with built-in [TensorFlow Data Validation (TFDV)](https://www.tensorflow.org/tfx/data_validation/get_started) module's [validate_statistics api](https://www.tensorflow.org/tfx/data_validation/api_docs/python/tfdv/validate_statistics).\n",
        "\n",
        "These comparison can be made to training data for **skew** detection or previous serving data for **drift** detection."
      ]
    },
    {
      "cell_type": "code",
      "execution_count": 233,
      "metadata": {
        "tags": [],
        "id": "iUC3Wf8Qq1-s"
      },
      "outputs": [
        {
          "data": {
            "application/vnd.jupyter.widget-view+json": {
              "model_id": "d7be5318f88e41449009a1512fc5b748",
              "version_major": 2,
              "version_minor": 0
            },
            "text/plain": [
              "Query is running:   0%|          |"
            ]
          },
          "metadata": {},
          "output_type": "display_data"
        },
        {
          "data": {
            "application/vnd.jupyter.widget-view+json": {
              "model_id": "b4843a4cdcac42b09dad645293f9dd65",
              "version_major": 2,
              "version_minor": 0
            },
            "text/plain": [
              "Downloading:   0%|          |"
            ]
          },
          "metadata": {},
          "output_type": "display_data"
        }
      ],
      "source": [
        "%%bigquery validate\n",
        "WITH\n",
        "    TRAIN AS (\n",
        "        SELECT * EXCEPT(splits, species)\n",
        "        FROM `statmike-mlops-349915.bqml_model_monitoring.training_split`\n",
        "        WHERE splits = 'TRAIN'\n",
        "    ),\n",
        "    SERVE AS (\n",
        "        SELECT * EXCEPT(instance_timestamp, species)\n",
        "        FROM `statmike-mlops-349915.bqml_model_monitoring.serving`\n",
        "        WHERE DATE(instance_timestamp) = CURRENT_DATE()\n",
        "    )\n",
        "SELECT ML.TFDV_VALIDATE(\n",
        "    (SELECT * FROM ML.TFDV_DESCRIBE(TABLE TRAIN)),\n",
        "    (SELECT * FROM ML.TFDV_DESCRIBE(TABLE SERVE)),\n",
        "    'SKEW'\n",
        ") as validate"
      ]
    },
    {
      "cell_type": "code",
      "execution_count": 234,
      "metadata": {
        "tags": [],
        "id": "8jAdsH_cq1-s"
      },
      "outputs": [],
      "source": [
        "validate = json.loads(validate['validate'].iloc[0])"
      ]
    },
    {
      "cell_type": "code",
      "execution_count": 235,
      "metadata": {
        "tags": [],
        "id": "lSpLMkbvq1-s"
      },
      "outputs": [],
      "source": [
        "#validate['anomaly_info']"
      ]
    },
    {
      "cell_type": "markdown",
      "metadata": {
        "id": "O8Q-6yzSq1-s"
      },
      "source": [
        "#### Display Anomalies with `tfdv.display_anomalies`\n",
        "\n",
        "Use the [`tfdv.display_anomalies`](https://www.tensorflow.org/tfx/data_validation/api_docs/python/tfdv/display_anomalies) tool to display a table of anomaly detections with descriptions."
      ]
    },
    {
      "cell_type": "code",
      "execution_count": 236,
      "metadata": {
        "tags": [],
        "id": "HrmSs0Daq1-s"
      },
      "outputs": [],
      "source": [
        "if 'generate_legacy_feature_spec' in validate['baseline'].keys():\n",
        "    del validate['baseline']['generate_legacy_feature_spec']"
      ]
    },
    {
      "cell_type": "code",
      "execution_count": 237,
      "metadata": {
        "tags": [],
        "id": "JmwarlJ7q1-s"
      },
      "outputs": [
        {
          "data": {
            "text/html": [
              "\u003cdiv\u003e\n",
              "\u003cstyle scoped\u003e\n",
              "    .dataframe tbody tr th:only-of-type {\n",
              "        vertical-align: middle;\n",
              "    }\n",
              "\n",
              "    .dataframe tbody tr th {\n",
              "        vertical-align: top;\n",
              "    }\n",
              "\n",
              "    .dataframe thead th {\n",
              "        text-align: right;\n",
              "    }\n",
              "\u003c/style\u003e\n",
              "\u003ctable border=\"1\" class=\"dataframe\"\u003e\n",
              "  \u003cthead\u003e\n",
              "    \u003ctr style=\"text-align: right;\"\u003e\n",
              "      \u003cth\u003e\u003c/th\u003e\n",
              "      \u003cth\u003eAnomaly short description\u003c/th\u003e\n",
              "      \u003cth\u003eAnomaly long description\u003c/th\u003e\n",
              "    \u003c/tr\u003e\n",
              "    \u003ctr\u003e\n",
              "      \u003cth\u003eFeature name\u003c/th\u003e\n",
              "      \u003cth\u003e\u003c/th\u003e\n",
              "      \u003cth\u003e\u003c/th\u003e\n",
              "    \u003c/tr\u003e\n",
              "  \u003c/thead\u003e\n",
              "  \u003ctbody\u003e\n",
              "    \u003ctr\u003e\n",
              "      \u003cth\u003e'body_mass_g'\u003c/th\u003e\n",
              "      \u003ctd\u003eHigh approximate Jensen-Shannon divergence between training and serving\u003c/td\u003e\n",
              "      \u003ctd\u003eThe approximate Jensen-Shannon divergence between training and serving is 0.336908 (up to six significant digits), above the threshold 0.3.\u003c/td\u003e\n",
              "    \u003c/tr\u003e\n",
              "    \u003ctr\u003e\n",
              "      \u003cth\u003e'flipper_length_mm'\u003c/th\u003e\n",
              "      \u003ctd\u003eHigh approximate Jensen-Shannon divergence between training and serving\u003c/td\u003e\n",
              "      \u003ctd\u003eThe approximate Jensen-Shannon divergence between training and serving is 0.855818 (up to six significant digits), above the threshold 0.3.\u003c/td\u003e\n",
              "    \u003c/tr\u003e\n",
              "  \u003c/tbody\u003e\n",
              "\u003c/table\u003e\n",
              "\u003c/div\u003e"
            ],
            "text/plain": [
              "                                                                   Anomaly short description  \\\n",
              "Feature name                                                                                   \n",
              "'body_mass_g'        High approximate Jensen-Shannon divergence between training and serving   \n",
              "'flipper_length_mm'  High approximate Jensen-Shannon divergence between training and serving   \n",
              "\n",
              "                                                                                                                                        Anomaly long description  \n",
              "Feature name                                                                                                                                                      \n",
              "'body_mass_g'        The approximate Jensen-Shannon divergence between training and serving is 0.336908 (up to six significant digits), above the threshold 0.3.  \n",
              "'flipper_length_mm'  The approximate Jensen-Shannon divergence between training and serving is 0.855818 (up to six significant digits), above the threshold 0.3.  "
            ]
          },
          "metadata": {},
          "output_type": "display_data"
        }
      ],
      "source": [
        "tfdv.display_anomalies(\n",
        "    anomalies = json_format.ParseDict(validate, tfmd.proto.anomalies_pb2.Anomalies())\n",
        ")"
      ]
    },
    {
      "cell_type": "markdown",
      "metadata": {
        "id": "zDdsVIbiq1-s"
      },
      "source": [
        "---\n",
        "## Understanding Monitoring Thresholds\n",
        "\n",
        "The `ML.VALIDATE_DATA_DRIFT`, `ML.VALIDATE_DATA_SKEW`, and `ML.TFDV_VALIDATE` functions use distance scores to quantify the change in the statistical distribution of features.  The methods of calculating the distance scores are:\n",
        "- [L-infinity distance](https://en.wikipedia.org/wiki/Chebyshev_distance) for categorical features\n",
        "- [Jensen-Shannon divergence](https://en.wikipedia.org/wiki/Jensen%E2%80%93Shannon_divergence) for numeric features.  Can also be use for categorical features.\n",
        "\n",
        "These methods are the same ones used by [TensorFlow Data Validation](https://www.tensorflow.org/tfx/guide/tfdv#training-serving_skew_detection) which is also used in [Vertex AI Model Monitoring](https://cloud.google.com/vertex-ai/docs/model-monitoring/overview#calculating-skew-and-drift).\n",
        "\n",
        "This section aims to provide intuition on how these two metrics work.  In the data used for this workflow the feature `island` has three possible values: `Biscoe`, `Dream`, and `Torgersen`.  The proportion of data in each of these categories forms a distribution.  This will be used to visually show how both methods of calculating distance scores work."
      ]
    },
    {
      "cell_type": "code",
      "execution_count": 238,
      "metadata": {
        "tags": [],
        "id": "4mk5Mavfq1-s"
      },
      "outputs": [],
      "source": [
        "import pandas as pd\n",
        "import numpy as np"
      ]
    },
    {
      "cell_type": "markdown",
      "metadata": {
        "id": "SRsEjKc2q1-s"
      },
      "source": [
        "### Retrieve Distributions: Training \u0026 Serving\n",
        "\n",
        "Use the `ML.TFDV_DESCRIBE` function to get the statistics for the distribution of the `island` feature at both training and for serving."
      ]
    },
    {
      "cell_type": "code",
      "execution_count": 239,
      "metadata": {
        "tags": [],
        "id": "wf3tPVM2q1-s"
      },
      "outputs": [
        {
          "data": {
            "application/vnd.jupyter.widget-view+json": {
              "model_id": "d4c362733731417289f43d1433d46329",
              "version_major": 2,
              "version_minor": 0
            },
            "text/plain": [
              "Query is running:   0%|          |"
            ]
          },
          "metadata": {},
          "output_type": "display_data"
        },
        {
          "data": {
            "application/vnd.jupyter.widget-view+json": {
              "model_id": "cef30759b0ca4d10b6043bc9a4828da8",
              "version_major": 2,
              "version_minor": 0
            },
            "text/plain": [
              "Downloading:   0%|          |"
            ]
          },
          "metadata": {},
          "output_type": "display_data"
        }
      ],
      "source": [
        "%%bigquery island_train\n",
        "SELECT *\n",
        "FROM ML.TFDV_DESCRIBE(\n",
        "    (\n",
        "        SELECT island\n",
        "        FROM `statmike-mlops-349915.bqml_model_monitoring.training_split`\n",
        "        WHERE splits = 'TRAIN'\n",
        "    )\n",
        ")"
      ]
    },
    {
      "cell_type": "code",
      "execution_count": 240,
      "metadata": {
        "tags": [],
        "id": "Zylkk3-0q1-s"
      },
      "outputs": [
        {
          "data": {
            "application/vnd.jupyter.widget-view+json": {
              "model_id": "8e6d858dbbda431e8fb00896cf7b4dd7",
              "version_major": 2,
              "version_minor": 0
            },
            "text/plain": [
              "Query is running:   0%|          |"
            ]
          },
          "metadata": {},
          "output_type": "display_data"
        },
        {
          "data": {
            "application/vnd.jupyter.widget-view+json": {
              "model_id": "3c884260cde74bd9bbc148d318b81937",
              "version_major": 2,
              "version_minor": 0
            },
            "text/plain": [
              "Downloading:   0%|          |"
            ]
          },
          "metadata": {},
          "output_type": "display_data"
        }
      ],
      "source": [
        "%%bigquery island_serve\n",
        "SELECT *\n",
        "FROM ML.TFDV_DESCRIBE(\n",
        "    (\n",
        "        SELECT island\n",
        "        FROM `statmike-mlops-349915.bqml_model_monitoring.serving`\n",
        "    )\n",
        ")"
      ]
    },
    {
      "cell_type": "code",
      "execution_count": 241,
      "metadata": {
        "tags": [],
        "id": "yCyDsO7Sq1-s"
      },
      "outputs": [],
      "source": [
        "island_train = json.loads(island_train['dataset_feature_statistics_list'].iloc[0])\n",
        "island_serve = json.loads(island_serve['dataset_feature_statistics_list'].iloc[0])"
      ]
    },
    {
      "cell_type": "code",
      "execution_count": 242,
      "metadata": {
        "tags": [],
        "id": "DK6STCK6q1-s"
      },
      "outputs": [
        {
          "data": {
            "text/plain": [
              "{'avg_length': 6.092437,\n",
              " 'common_stats': {'avg_num_values': 1,\n",
              "  'max_num_values': 1,\n",
              "  'min_num_values': 1,\n",
              "  'num_non_missing': 238,\n",
              "  'num_values_histogram': {'buckets': [{'high_value': 1,\n",
              "     'low_value': 1,\n",
              "     'sample_count': 23.8},\n",
              "    {'high_value': 1, 'low_value': 1, 'sample_count': 23.8},\n",
              "    {'high_value': 1, 'low_value': 1, 'sample_count': 23.8},\n",
              "    {'high_value': 1, 'low_value': 1, 'sample_count': 23.8},\n",
              "    {'high_value': 1, 'low_value': 1, 'sample_count': 23.8},\n",
              "    {'high_value': 1, 'low_value': 1, 'sample_count': 23.8},\n",
              "    {'high_value': 1, 'low_value': 1, 'sample_count': 23.8},\n",
              "    {'high_value': 1, 'low_value': 1, 'sample_count': 23.8},\n",
              "    {'high_value': 1, 'low_value': 1, 'sample_count': 23.8},\n",
              "    {'high_value': 1, 'low_value': 1, 'sample_count': 23.8}],\n",
              "   'type': 'QUANTILES'},\n",
              "  'tot_num_values': 238},\n",
              " 'rank_histogram': {'buckets': [{'label': 'Biscoe', 'sample_count': 116},\n",
              "   {'high_rank': 1, 'label': 'Dream', 'low_rank': 1, 'sample_count': 86},\n",
              "   {'high_rank': 2, 'label': 'Torgersen', 'low_rank': 2, 'sample_count': 36}]},\n",
              " 'top_values': [{'frequency': 116, 'value': 'Biscoe'},\n",
              "  {'frequency': 86, 'value': 'Dream'},\n",
              "  {'frequency': 36, 'value': 'Torgersen'}],\n",
              " 'unique': 3}"
            ]
          },
          "execution_count": 242,
          "metadata": {},
          "output_type": "execute_result"
        }
      ],
      "source": [
        "island_train['datasets'][0]['features'][0]['string_stats']"
      ]
    },
    {
      "cell_type": "code",
      "execution_count": 243,
      "metadata": {
        "tags": [],
        "id": "Ec64EDk1q1-s"
      },
      "outputs": [
        {
          "data": {
            "text/plain": [
              "[{'label': 'Biscoe', 'sample_count': 116},\n",
              " {'high_rank': 1, 'label': 'Dream', 'low_rank': 1, 'sample_count': 86},\n",
              " {'high_rank': 2, 'label': 'Torgersen', 'low_rank': 2, 'sample_count': 36}]"
            ]
          },
          "execution_count": 243,
          "metadata": {},
          "output_type": "execute_result"
        }
      ],
      "source": [
        "island_train_stats = island_train['datasets'][0]['features'][0]['string_stats']['rank_histogram']['buckets']\n",
        "island_train_stats"
      ]
    },
    {
      "cell_type": "code",
      "execution_count": 244,
      "metadata": {
        "tags": [],
        "id": "O6um2Irfq1-s"
      },
      "outputs": [
        {
          "data": {
            "text/plain": [
              "[{'label': 'Biscoe', 'sample_count': 1085},\n",
              " {'high_rank': 1, 'label': 'Dream', 'low_rank': 1, 'sample_count': 589},\n",
              " {'high_rank': 2, 'label': 'Torgersen', 'low_rank': 2, 'sample_count': 248}]"
            ]
          },
          "execution_count": 244,
          "metadata": {},
          "output_type": "execute_result"
        }
      ],
      "source": [
        "island_serve_stats = island_serve['datasets'][0]['features'][0]['string_stats']['rank_histogram']['buckets']\n",
        "island_serve_stats"
      ]
    },
    {
      "cell_type": "markdown",
      "metadata": {
        "id": "-9p7Xm6_q1-s"
      },
      "source": [
        "### Combine Distributions In DataFrame"
      ]
    },
    {
      "cell_type": "code",
      "execution_count": 245,
      "metadata": {
        "tags": [],
        "id": "yLs7ESpuq1-s"
      },
      "outputs": [
        {
          "data": {
            "text/html": [
              "\u003cdiv\u003e\n",
              "\u003cstyle scoped\u003e\n",
              "    .dataframe tbody tr th:only-of-type {\n",
              "        vertical-align: middle;\n",
              "    }\n",
              "\n",
              "    .dataframe tbody tr th {\n",
              "        vertical-align: top;\n",
              "    }\n",
              "\n",
              "    .dataframe thead th {\n",
              "        text-align: right;\n",
              "    }\n",
              "\u003c/style\u003e\n",
              "\u003ctable border=\"1\" class=\"dataframe\"\u003e\n",
              "  \u003cthead\u003e\n",
              "    \u003ctr style=\"text-align: right;\"\u003e\n",
              "      \u003cth\u003e\u003c/th\u003e\n",
              "      \u003cth\u003etrain_n\u003c/th\u003e\n",
              "      \u003cth\u003eserve_n\u003c/th\u003e\n",
              "      \u003cth\u003etrain_pct\u003c/th\u003e\n",
              "      \u003cth\u003eserve_pct\u003c/th\u003e\n",
              "    \u003c/tr\u003e\n",
              "  \u003c/thead\u003e\n",
              "  \u003ctbody\u003e\n",
              "    \u003ctr\u003e\n",
              "      \u003cth\u003eBiscoe\u003c/th\u003e\n",
              "      \u003ctd\u003e116\u003c/td\u003e\n",
              "      \u003ctd\u003e1085\u003c/td\u003e\n",
              "      \u003ctd\u003e0.487395\u003c/td\u003e\n",
              "      \u003ctd\u003e0.564516\u003c/td\u003e\n",
              "    \u003c/tr\u003e\n",
              "    \u003ctr\u003e\n",
              "      \u003cth\u003eDream\u003c/th\u003e\n",
              "      \u003ctd\u003e86\u003c/td\u003e\n",
              "      \u003ctd\u003e589\u003c/td\u003e\n",
              "      \u003ctd\u003e0.361345\u003c/td\u003e\n",
              "      \u003ctd\u003e0.306452\u003c/td\u003e\n",
              "    \u003c/tr\u003e\n",
              "    \u003ctr\u003e\n",
              "      \u003cth\u003eTorgersen\u003c/th\u003e\n",
              "      \u003ctd\u003e36\u003c/td\u003e\n",
              "      \u003ctd\u003e248\u003c/td\u003e\n",
              "      \u003ctd\u003e0.151261\u003c/td\u003e\n",
              "      \u003ctd\u003e0.129032\u003c/td\u003e\n",
              "    \u003c/tr\u003e\n",
              "  \u003c/tbody\u003e\n",
              "\u003c/table\u003e\n",
              "\u003c/div\u003e"
            ],
            "text/plain": [
              "           train_n  serve_n  train_pct  serve_pct\n",
              "Biscoe         116     1085   0.487395   0.564516\n",
              "Dream           86      589   0.361345   0.306452\n",
              "Torgersen       36      248   0.151261   0.129032"
            ]
          },
          "execution_count": 245,
          "metadata": {},
          "output_type": "execute_result"
        }
      ],
      "source": [
        "index = [i['label'] for i in island_train_stats]\n",
        "train = [i['sample_count'] for i in island_train_stats]\n",
        "serve = [island_serve_stats[index.index(k)]['sample_count'] for k in [i['label'] for i in island_serve_stats]]\n",
        "stats = pd.DataFrame(\n",
        "    {\n",
        "        'train_n': train,\n",
        "        'serve_n': serve,\n",
        "        'train_pct': [x/sum(train) for x in train],\n",
        "        'serve_pct': [x/sum(serve) for x in serve]\n",
        "    },\n",
        "    index = index\n",
        ")\n",
        "stats"
      ]
    },
    {
      "cell_type": "markdown",
      "metadata": {
        "id": "HR5Y-h_Hq1-s"
      },
      "source": [
        "### Visualize Distributions"
      ]
    },
    {
      "cell_type": "code",
      "execution_count": 246,
      "metadata": {
        "tags": [],
        "id": "fV2jpShYq1-s"
      },
      "outputs": [
        {
          "data": {
            "image/png": "[encoded data removed]",
            "text/plain": [
              "\u003cFigure size 640x480 with 1 Axes\u003e"
            ]
          },
          "metadata": {},
          "output_type": "display_data"
        }
      ],
      "source": [
        "ax = stats[['train_pct', 'serve_pct']].plot.bar(rot=0)\n",
        "for container in ax.containers:\n",
        "    ax.bar_label(container)"
      ]
    },
    {
      "cell_type": "markdown",
      "metadata": {
        "id": "PzkcBJEVq1-s"
      },
      "source": [
        "### L-Infinity Distance"
      ]
    },
    {
      "cell_type": "code",
      "execution_count": 247,
      "metadata": {
        "tags": [],
        "id": "GOT0x0Fvq1-s"
      },
      "outputs": [
        {
          "data": {
            "text/html": [
              "\u003cdiv\u003e\n",
              "\u003cstyle scoped\u003e\n",
              "    .dataframe tbody tr th:only-of-type {\n",
              "        vertical-align: middle;\n",
              "    }\n",
              "\n",
              "    .dataframe tbody tr th {\n",
              "        vertical-align: top;\n",
              "    }\n",
              "\n",
              "    .dataframe thead th {\n",
              "        text-align: right;\n",
              "    }\n",
              "\u003c/style\u003e\n",
              "\u003ctable border=\"1\" class=\"dataframe\"\u003e\n",
              "  \u003cthead\u003e\n",
              "    \u003ctr style=\"text-align: right;\"\u003e\n",
              "      \u003cth\u003e\u003c/th\u003e\n",
              "      \u003cth\u003etrain_n\u003c/th\u003e\n",
              "      \u003cth\u003eserve_n\u003c/th\u003e\n",
              "      \u003cth\u003etrain_pct\u003c/th\u003e\n",
              "      \u003cth\u003eserve_pct\u003c/th\u003e\n",
              "      \u003cth\u003eabs_change_pct\u003c/th\u003e\n",
              "    \u003c/tr\u003e\n",
              "  \u003c/thead\u003e\n",
              "  \u003ctbody\u003e\n",
              "    \u003ctr\u003e\n",
              "      \u003cth\u003eBiscoe\u003c/th\u003e\n",
              "      \u003ctd\u003e116\u003c/td\u003e\n",
              "      \u003ctd\u003e1085\u003c/td\u003e\n",
              "      \u003ctd\u003e0.487395\u003c/td\u003e\n",
              "      \u003ctd\u003e0.564516\u003c/td\u003e\n",
              "      \u003ctd\u003e0.077121\u003c/td\u003e\n",
              "    \u003c/tr\u003e\n",
              "    \u003ctr\u003e\n",
              "      \u003cth\u003eDream\u003c/th\u003e\n",
              "      \u003ctd\u003e86\u003c/td\u003e\n",
              "      \u003ctd\u003e589\u003c/td\u003e\n",
              "      \u003ctd\u003e0.361345\u003c/td\u003e\n",
              "      \u003ctd\u003e0.306452\u003c/td\u003e\n",
              "      \u003ctd\u003e0.054893\u003c/td\u003e\n",
              "    \u003c/tr\u003e\n",
              "    \u003ctr\u003e\n",
              "      \u003cth\u003eTorgersen\u003c/th\u003e\n",
              "      \u003ctd\u003e36\u003c/td\u003e\n",
              "      \u003ctd\u003e248\u003c/td\u003e\n",
              "      \u003ctd\u003e0.151261\u003c/td\u003e\n",
              "      \u003ctd\u003e0.129032\u003c/td\u003e\n",
              "      \u003ctd\u003e0.022228\u003c/td\u003e\n",
              "    \u003c/tr\u003e\n",
              "  \u003c/tbody\u003e\n",
              "\u003c/table\u003e\n",
              "\u003c/div\u003e"
            ],
            "text/plain": [
              "           train_n  serve_n  train_pct  serve_pct  abs_change_pct\n",
              "Biscoe         116     1085   0.487395   0.564516        0.077121\n",
              "Dream           86      589   0.361345   0.306452        0.054893\n",
              "Torgersen       36      248   0.151261   0.129032        0.022228"
            ]
          },
          "execution_count": 247,
          "metadata": {},
          "output_type": "execute_result"
        }
      ],
      "source": [
        "stats['abs_change_pct'] = abs(stats['train_pct'] - stats['serve_pct'])\n",
        "stats"
      ]
    },
    {
      "cell_type": "code",
      "execution_count": 248,
      "metadata": {
        "tags": [],
        "id": "EKjb7is-q1-s"
      },
      "outputs": [
        {
          "data": {
            "text/plain": [
              "[Text(0, 0, '0.0771212'), Text(0, 0, '0.0548929'), Text(0, 0, '0.0222282')]"
            ]
          },
          "execution_count": 248,
          "metadata": {},
          "output_type": "execute_result"
        },
        {
          "data": {
            "image/png": "[encoded data removed]",
            "text/plain": [
              "\u003cFigure size 640x480 with 1 Axes\u003e"
            ]
          },
          "metadata": {},
          "output_type": "display_data"
        }
      ],
      "source": [
        "ax = stats['abs_change_pct'].plot.bar()\n",
        "ax.bar_label(ax.containers[0])"
      ]
    },
    {
      "cell_type": "code",
      "execution_count": 249,
      "metadata": {
        "tags": [],
        "id": "Cg-TxrhDq1-s"
      },
      "outputs": [
        {
          "name": "stdout",
          "output_type": "stream",
          "text": [
            "The max change in percentage(L-Infinity Distance) is 0.07712117104906485\n"
          ]
        }
      ],
      "source": [
        "print(f\"The max change in percentage(L-Infinity Distance) is {max(stats['abs_change_pct'])}\")"
      ]
    },
    {
      "cell_type": "markdown",
      "metadata": {
        "id": "9nyVo6b1q1-s"
      },
      "source": [
        "### Jensen-Shannon Divergence"
      ]
    },
    {
      "cell_type": "code",
      "execution_count": 250,
      "metadata": {
        "tags": [],
        "id": "QmwbIPwPq1-s"
      },
      "outputs": [
        {
          "data": {
            "text/html": [
              "\u003cdiv\u003e\n",
              "\u003cstyle scoped\u003e\n",
              "    .dataframe tbody tr th:only-of-type {\n",
              "        vertical-align: middle;\n",
              "    }\n",
              "\n",
              "    .dataframe tbody tr th {\n",
              "        vertical-align: top;\n",
              "    }\n",
              "\n",
              "    .dataframe thead th {\n",
              "        text-align: right;\n",
              "    }\n",
              "\u003c/style\u003e\n",
              "\u003ctable border=\"1\" class=\"dataframe\"\u003e\n",
              "  \u003cthead\u003e\n",
              "    \u003ctr style=\"text-align: right;\"\u003e\n",
              "      \u003cth\u003e\u003c/th\u003e\n",
              "      \u003cth\u003etrain_n\u003c/th\u003e\n",
              "      \u003cth\u003eserve_n\u003c/th\u003e\n",
              "      \u003cth\u003etrain_pct\u003c/th\u003e\n",
              "      \u003cth\u003eserve_pct\u003c/th\u003e\n",
              "      \u003cth\u003eabs_change_pct\u003c/th\u003e\n",
              "      \u003cth\u003emix\u003c/th\u003e\n",
              "      \u003cth\u003etrain_kl\u003c/th\u003e\n",
              "      \u003cth\u003eserve_kl\u003c/th\u003e\n",
              "      \u003cth\u003eJSD\u003c/th\u003e\n",
              "    \u003c/tr\u003e\n",
              "  \u003c/thead\u003e\n",
              "  \u003ctbody\u003e\n",
              "    \u003ctr\u003e\n",
              "      \u003cth\u003eBiscoe\u003c/th\u003e\n",
              "      \u003ctd\u003e116\u003c/td\u003e\n",
              "      \u003ctd\u003e1085\u003c/td\u003e\n",
              "      \u003ctd\u003e0.487395\u003c/td\u003e\n",
              "      \u003ctd\u003e0.564516\u003c/td\u003e\n",
              "      \u003ctd\u003e0.077121\u003c/td\u003e\n",
              "      \u003ctd\u003e0.525956\u003c/td\u003e\n",
              "      \u003ctd\u003e-0.053540\u003c/td\u003e\n",
              "      \u003ctd\u003e0.057622\u003c/td\u003e\n",
              "      \u003ctd\u003e0.002041\u003c/td\u003e\n",
              "    \u003c/tr\u003e\n",
              "    \u003ctr\u003e\n",
              "      \u003cth\u003eDream\u003c/th\u003e\n",
              "      \u003ctd\u003e86\u003c/td\u003e\n",
              "      \u003ctd\u003e589\u003c/td\u003e\n",
              "      \u003ctd\u003e0.361345\u003c/td\u003e\n",
              "      \u003ctd\u003e0.306452\u003c/td\u003e\n",
              "      \u003ctd\u003e0.054893\u003c/td\u003e\n",
              "      \u003ctd\u003e0.333898\u003c/td\u003e\n",
              "      \u003ctd\u003e0.041181\u003c/td\u003e\n",
              "      \u003ctd\u003e-0.037923\u003c/td\u003e\n",
              "      \u003ctd\u003e0.001629\u003c/td\u003e\n",
              "    \u003c/tr\u003e\n",
              "    \u003ctr\u003e\n",
              "      \u003cth\u003eTorgersen\u003c/th\u003e\n",
              "      \u003ctd\u003e36\u003c/td\u003e\n",
              "      \u003ctd\u003e248\u003c/td\u003e\n",
              "      \u003ctd\u003e0.151261\u003c/td\u003e\n",
              "      \u003ctd\u003e0.129032\u003c/td\u003e\n",
              "      \u003ctd\u003e0.022228\u003c/td\u003e\n",
              "      \u003ctd\u003e0.140146\u003c/td\u003e\n",
              "      \u003ctd\u003e0.016654\u003c/td\u003e\n",
              "      \u003ctd\u003e-0.015381\u003c/td\u003e\n",
              "      \u003ctd\u003e0.000636\u003c/td\u003e\n",
              "    \u003c/tr\u003e\n",
              "  \u003c/tbody\u003e\n",
              "\u003c/table\u003e\n",
              "\u003c/div\u003e"
            ],
            "text/plain": [
              "           train_n  serve_n  train_pct  serve_pct  abs_change_pct       mix  \\\n",
              "Biscoe         116     1085   0.487395   0.564516        0.077121  0.525956   \n",
              "Dream           86      589   0.361345   0.306452        0.054893  0.333898   \n",
              "Torgersen       36      248   0.151261   0.129032        0.022228  0.140146   \n",
              "\n",
              "           train_kl  serve_kl       JSD  \n",
              "Biscoe    -0.053540  0.057622  0.002041  \n",
              "Dream      0.041181 -0.037923  0.001629  \n",
              "Torgersen  0.016654 -0.015381  0.000636  "
            ]
          },
          "execution_count": 250,
          "metadata": {},
          "output_type": "execute_result"
        }
      ],
      "source": [
        "stats['mix'] = (stats['train_pct'] + stats['serve_pct']) / 2\n",
        "stats['train_kl'] = stats['train_pct'] * np.log2(stats['train_pct'] / stats['mix'])\n",
        "stats['serve_kl'] = stats['serve_pct'] * np.log2(stats['serve_pct'] / stats['mix'])\n",
        "stats['JSD'] = (stats['train_kl'] + stats['serve_kl']) / 2\n",
        "stats"
      ]
    },
    {
      "cell_type": "code",
      "execution_count": 251,
      "metadata": {
        "tags": [],
        "id": "WxUmrtrgq1-s"
      },
      "outputs": [
        {
          "name": "stdout",
          "output_type": "stream",
          "text": [
            "The total for the Jansen-Shannon Divergence is 0.004306867357392606\n"
          ]
        }
      ],
      "source": [
        "print(f\"The total for the Jansen-Shannon Divergence is {sum(stats['JSD'])}\")"
      ]
    },
    {
      "cell_type": "markdown",
      "metadata": {
        "id": "u09cSLcTq1-s"
      },
      "source": [
        "### Verify Calculations with `ML.VALIDATE_DATA_DRIFT`"
      ]
    },
    {
      "cell_type": "code",
      "execution_count": 252,
      "metadata": {
        "tags": [],
        "id": "zDrd2kxjq1-s"
      },
      "outputs": [
        {
          "data": {
            "application/vnd.jupyter.widget-view+json": {
              "model_id": "ace05b9c3d0f47309536ccf3d3c679a6",
              "version_major": 2,
              "version_minor": 0
            },
            "text/plain": [
              "Query is running:   0%|          |"
            ]
          },
          "metadata": {},
          "output_type": "display_data"
        },
        {
          "data": {
            "application/vnd.jupyter.widget-view+json": {
              "model_id": "be262550e7244a2da900bd502bc769c8",
              "version_major": 2,
              "version_minor": 0
            },
            "text/plain": [
              "Downloading:   0%|          |"
            ]
          },
          "metadata": {},
          "output_type": "display_data"
        },
        {
          "data": {
            "text/html": [
              "\u003cdiv\u003e\n",
              "\u003cstyle scoped\u003e\n",
              "    .dataframe tbody tr th:only-of-type {\n",
              "        vertical-align: middle;\n",
              "    }\n",
              "\n",
              "    .dataframe tbody tr th {\n",
              "        vertical-align: top;\n",
              "    }\n",
              "\n",
              "    .dataframe thead th {\n",
              "        text-align: right;\n",
              "    }\n",
              "\u003c/style\u003e\n",
              "\u003ctable border=\"1\" class=\"dataframe\"\u003e\n",
              "  \u003cthead\u003e\n",
              "    \u003ctr style=\"text-align: right;\"\u003e\n",
              "      \u003cth\u003e\u003c/th\u003e\n",
              "      \u003cth\u003einput\u003c/th\u003e\n",
              "      \u003cth\u003emetric\u003c/th\u003e\n",
              "      \u003cth\u003ethreshold\u003c/th\u003e\n",
              "      \u003cth\u003evalue\u003c/th\u003e\n",
              "      \u003cth\u003eis_anomaly\u003c/th\u003e\n",
              "    \u003c/tr\u003e\n",
              "  \u003c/thead\u003e\n",
              "  \u003ctbody\u003e\n",
              "    \u003ctr\u003e\n",
              "      \u003cth\u003e0\u003c/th\u003e\n",
              "      \u003ctd\u003eisland\u003c/td\u003e\n",
              "      \u003ctd\u003eL_INFTY\u003c/td\u003e\n",
              "      \u003ctd\u003e0.3\u003c/td\u003e\n",
              "      \u003ctd\u003e0.077121\u003c/td\u003e\n",
              "      \u003ctd\u003eFalse\u003c/td\u003e\n",
              "    \u003c/tr\u003e\n",
              "  \u003c/tbody\u003e\n",
              "\u003c/table\u003e\n",
              "\u003c/div\u003e"
            ],
            "text/plain": [
              "    input   metric  threshold     value  is_anomaly\n",
              "0  island  L_INFTY        0.3  0.077121       False"
            ]
          },
          "execution_count": 252,
          "metadata": {},
          "output_type": "execute_result"
        }
      ],
      "source": [
        "%%bigquery\n",
        "SELECT *\n",
        "FROM ML.VALIDATE_DATA_DRIFT(\n",
        "    (\n",
        "        SELECT island\n",
        "        FROM `statmike-mlops-349915.bqml_model_monitoring.training_split`\n",
        "        WHERE splits = 'TRAIN'\n",
        "    ),\n",
        "    (\n",
        "        SELECT island\n",
        "        FROM `statmike-mlops-349915.bqml_model_monitoring.serving`\n",
        "    ),\n",
        "    STRUCT('L_INFTY' AS categorical_metric_type)\n",
        "    #, MODEL `statmike-mlops-349915.bqml_model_monitoring.classify_species_rf`\n",
        ")"
      ]
    },
    {
      "cell_type": "code",
      "execution_count": 253,
      "metadata": {
        "tags": [],
        "id": "GGDdSjF-q1-s"
      },
      "outputs": [
        {
          "name": "stdout",
          "output_type": "stream",
          "text": [
            "The max change in percentage(L-Infinity Distance) is 0.07712117104906485\n"
          ]
        }
      ],
      "source": [
        "print(f\"The max change in percentage(L-Infinity Distance) is {max(stats['abs_change_pct'])}\")"
      ]
    },
    {
      "cell_type": "code",
      "execution_count": 254,
      "metadata": {
        "tags": [],
        "id": "zt6QjKgKq1-s"
      },
      "outputs": [
        {
          "data": {
            "application/vnd.jupyter.widget-view+json": {
              "model_id": "07a65c07e6344d40aee8f2480b30443a",
              "version_major": 2,
              "version_minor": 0
            },
            "text/plain": [
              "Query is running:   0%|          |"
            ]
          },
          "metadata": {},
          "output_type": "display_data"
        },
        {
          "data": {
            "application/vnd.jupyter.widget-view+json": {
              "model_id": "d2356d660c774079b431c7953bdec210",
              "version_major": 2,
              "version_minor": 0
            },
            "text/plain": [
              "Downloading:   0%|          |"
            ]
          },
          "metadata": {},
          "output_type": "display_data"
        },
        {
          "data": {
            "text/html": [
              "\u003cdiv\u003e\n",
              "\u003cstyle scoped\u003e\n",
              "    .dataframe tbody tr th:only-of-type {\n",
              "        vertical-align: middle;\n",
              "    }\n",
              "\n",
              "    .dataframe tbody tr th {\n",
              "        vertical-align: top;\n",
              "    }\n",
              "\n",
              "    .dataframe thead th {\n",
              "        text-align: right;\n",
              "    }\n",
              "\u003c/style\u003e\n",
              "\u003ctable border=\"1\" class=\"dataframe\"\u003e\n",
              "  \u003cthead\u003e\n",
              "    \u003ctr style=\"text-align: right;\"\u003e\n",
              "      \u003cth\u003e\u003c/th\u003e\n",
              "      \u003cth\u003einput\u003c/th\u003e\n",
              "      \u003cth\u003emetric\u003c/th\u003e\n",
              "      \u003cth\u003ethreshold\u003c/th\u003e\n",
              "      \u003cth\u003evalue\u003c/th\u003e\n",
              "      \u003cth\u003eis_anomaly\u003c/th\u003e\n",
              "    \u003c/tr\u003e\n",
              "  \u003c/thead\u003e\n",
              "  \u003ctbody\u003e\n",
              "    \u003ctr\u003e\n",
              "      \u003cth\u003e0\u003c/th\u003e\n",
              "      \u003ctd\u003eisland\u003c/td\u003e\n",
              "      \u003ctd\u003eJENSEN_SHANNON_DIVERGENCE\u003c/td\u003e\n",
              "      \u003ctd\u003e0.3\u003c/td\u003e\n",
              "      \u003ctd\u003e0.004307\u003c/td\u003e\n",
              "      \u003ctd\u003eFalse\u003c/td\u003e\n",
              "    \u003c/tr\u003e\n",
              "  \u003c/tbody\u003e\n",
              "\u003c/table\u003e\n",
              "\u003c/div\u003e"
            ],
            "text/plain": [
              "    input                     metric  threshold     value  is_anomaly\n",
              "0  island  JENSEN_SHANNON_DIVERGENCE        0.3  0.004307       False"
            ]
          },
          "execution_count": 254,
          "metadata": {},
          "output_type": "execute_result"
        }
      ],
      "source": [
        "%%bigquery\n",
        "SELECT *\n",
        "FROM ML.VALIDATE_DATA_DRIFT(\n",
        "    (\n",
        "        SELECT island\n",
        "        FROM `statmike-mlops-349915.bqml_model_monitoring.training_split`\n",
        "        WHERE splits = 'TRAIN'\n",
        "    ),\n",
        "    (\n",
        "        SELECT island\n",
        "        FROM `statmike-mlops-349915.bqml_model_monitoring.serving`\n",
        "    ),\n",
        "    STRUCT('JENSEN_SHANNON_DIVERGENCE' AS categorical_metric_type)\n",
        "    #, MODEL `statmike-mlops-349915.bqml_model_monitoring.classify_species_rf`\n",
        ")"
      ]
    },
    {
      "cell_type": "code",
      "execution_count": 255,
      "metadata": {
        "tags": [],
        "id": "-22UZo0Pq1-s"
      },
      "outputs": [
        {
          "name": "stdout",
          "output_type": "stream",
          "text": [
            "The total for the Jansen-Shannon Divergence is 0.004306867357392606\n"
          ]
        }
      ],
      "source": [
        "print(f\"The total for the Jansen-Shannon Divergence is {sum(stats['JSD'])}\")"
      ]
    },
    {
      "cell_type": "markdown",
      "metadata": {
        "id": "kI3dQBLdq1-s"
      },
      "source": [
        "---\n",
        "## More Applications For Model Monitoring"
      ]
    },
    {
      "cell_type": "markdown",
      "metadata": {
        "id": "vKgK_J4Qq1-s"
      },
      "source": [
        "---\n",
        "### Monitoring Transformed Features\n",
        "\n",
        "The [`CREATE MODEL`](https://cloud.google.com/bigquery/docs/reference/standard-sql/bigqueryml-syntax-create) statement included a [`TRANSFORM`](https://cloud.google.com/bigquery/docs/reference/standard-sql/bigqueryml-syntax-create#transform).  This is available to be called directly for input data with the [`ML.TRANSFORM`](https://cloud.google.com/bigquery/docs/reference/standard-sql/bigqueryml-syntax-transform) function.  This can be useful for considering monitoring the transformed features."
      ]
    },
    {
      "cell_type": "markdown",
      "metadata": {
        "id": "KZPVczNJq1-s"
      },
      "source": [
        "#### Transformations With `ML.TRANSFORM`"
      ]
    },
    {
      "cell_type": "code",
      "execution_count": 256,
      "metadata": {
        "tags": [],
        "id": "EiNGySE4q1-s"
      },
      "outputs": [
        {
          "data": {
            "application/vnd.jupyter.widget-view+json": {
              "model_id": "6409bb667de34d46adc63d54804e7da4",
              "version_major": 2,
              "version_minor": 0
            },
            "text/plain": [
              "Query is running:   0%|          |"
            ]
          },
          "metadata": {},
          "output_type": "display_data"
        },
        {
          "data": {
            "application/vnd.jupyter.widget-view+json": {
              "model_id": "fce114e868af434a800de36a6eca073d",
              "version_major": 2,
              "version_minor": 0
            },
            "text/plain": [
              "Downloading:   0%|          |"
            ]
          },
          "metadata": {},
          "output_type": "display_data"
        },
        {
          "data": {
            "text/html": [
              "\u003cdiv\u003e\n",
              "\u003cstyle scoped\u003e\n",
              "    .dataframe tbody tr th:only-of-type {\n",
              "        vertical-align: middle;\n",
              "    }\n",
              "\n",
              "    .dataframe tbody tr th {\n",
              "        vertical-align: top;\n",
              "    }\n",
              "\n",
              "    .dataframe thead th {\n",
              "        text-align: right;\n",
              "    }\n",
              "\u003c/style\u003e\n",
              "\u003ctable border=\"1\" class=\"dataframe\"\u003e\n",
              "  \u003cthead\u003e\n",
              "    \u003ctr style=\"text-align: right;\"\u003e\n",
              "      \u003cth\u003e\u003c/th\u003e\n",
              "      \u003cth\u003ebody_mass_g\u003c/th\u003e\n",
              "      \u003cth\u003eculmen_length_mm\u003c/th\u003e\n",
              "      \u003cth\u003eculmen_depth_mm\u003c/th\u003e\n",
              "      \u003cth\u003eflipper_length_mm\u003c/th\u003e\n",
              "      \u003cth\u003esex\u003c/th\u003e\n",
              "      \u003cth\u003eisland\u003c/th\u003e\n",
              "      \u003cth\u003especies\u003c/th\u003e\n",
              "      \u003cth\u003einstance_timestamp\u003c/th\u003e\n",
              "    \u003c/tr\u003e\n",
              "  \u003c/thead\u003e\n",
              "  \u003ctbody\u003e\n",
              "    \u003ctr\u003e\n",
              "      \u003cth\u003e0\u003c/th\u003e\n",
              "      \u003ctd\u003e1.917539\u003c/td\u003e\n",
              "      \u003ctd\u003e0.154052\u003c/td\u003e\n",
              "      \u003ctd\u003e-1.981478\u003c/td\u003e\n",
              "      \u003ctd\u003ebin_3\u003c/td\u003e\n",
              "      \u003ctd\u003eFEMALE\u003c/td\u003e\n",
              "      \u003ctd\u003eBiscoe\u003c/td\u003e\n",
              "      \u003ctd\u003eGentoo penguin (Pygoscelis papua)\u003c/td\u003e\n",
              "      \u003ctd\u003e2025-04-03 00:00:00+00:00\u003c/td\u003e\n",
              "    \u003c/tr\u003e\n",
              "    \u003ctr\u003e\n",
              "      \u003cth\u003e1\u003c/th\u003e\n",
              "      \u003ctd\u003e1.198561\u003c/td\u003e\n",
              "      \u003ctd\u003e-0.139730\u003c/td\u003e\n",
              "      \u003ctd\u003e-1.930565\u003c/td\u003e\n",
              "      \u003ctd\u003ebin_3\u003c/td\u003e\n",
              "      \u003ctd\u003eFEMALE\u003c/td\u003e\n",
              "      \u003ctd\u003eBiscoe\u003c/td\u003e\n",
              "      \u003ctd\u003eGentoo penguin (Pygoscelis papua)\u003c/td\u003e\n",
              "      \u003ctd\u003e2025-04-03 00:00:00+00:00\u003c/td\u003e\n",
              "    \u003c/tr\u003e\n",
              "    \u003ctr\u003e\n",
              "      \u003cth\u003e2\u003c/th\u003e\n",
              "      \u003ctd\u003e1.420132\u003c/td\u003e\n",
              "      \u003ctd\u003e0.447834\u003c/td\u003e\n",
              "      \u003ctd\u003e-1.879652\u003c/td\u003e\n",
              "      \u003ctd\u003ebin_3\u003c/td\u003e\n",
              "      \u003ctd\u003eFEMALE\u003c/td\u003e\n",
              "      \u003ctd\u003eBiscoe\u003c/td\u003e\n",
              "      \u003ctd\u003eGentoo penguin (Pygoscelis papua)\u003c/td\u003e\n",
              "      \u003ctd\u003e2025-04-03 00:00:00+00:00\u003c/td\u003e\n",
              "    \u003c/tr\u003e\n",
              "    \u003ctr\u003e\n",
              "      \u003cth\u003e3\u003c/th\u003e\n",
              "      \u003ctd\u003e1.470907\u003c/td\u003e\n",
              "      \u003ctd\u003e0.576364\u003c/td\u003e\n",
              "      \u003ctd\u003e-1.777826\u003c/td\u003e\n",
              "      \u003ctd\u003ebin_3\u003c/td\u003e\n",
              "      \u003ctd\u003eFEMALE\u003c/td\u003e\n",
              "      \u003ctd\u003eBiscoe\u003c/td\u003e\n",
              "      \u003ctd\u003eGentoo penguin (Pygoscelis papua)\u003c/td\u003e\n",
              "      \u003ctd\u003e2025-04-03 00:00:00+00:00\u003c/td\u003e\n",
              "    \u003c/tr\u003e\n",
              "    \u003ctr\u003e\n",
              "      \u003cth\u003e4\u003c/th\u003e\n",
              "      \u003ctd\u003e1.498901\u003c/td\u003e\n",
              "      \u003ctd\u003e0.264220\u003c/td\u003e\n",
              "      \u003ctd\u003e-1.777826\u003c/td\u003e\n",
              "      \u003ctd\u003ebin_3\u003c/td\u003e\n",
              "      \u003ctd\u003eFEMALE\u003c/td\u003e\n",
              "      \u003ctd\u003eBiscoe\u003c/td\u003e\n",
              "      \u003ctd\u003eGentoo penguin (Pygoscelis papua)\u003c/td\u003e\n",
              "      \u003ctd\u003e2025-04-03 00:00:00+00:00\u003c/td\u003e\n",
              "    \u003c/tr\u003e\n",
              "  \u003c/tbody\u003e\n",
              "\u003c/table\u003e\n",
              "\u003c/div\u003e"
            ],
            "text/plain": [
              "   body_mass_g  culmen_length_mm  culmen_depth_mm flipper_length_mm     sex  \\\n",
              "0     1.917539          0.154052        -1.981478             bin_3  FEMALE   \n",
              "1     1.198561         -0.139730        -1.930565             bin_3  FEMALE   \n",
              "2     1.420132          0.447834        -1.879652             bin_3  FEMALE   \n",
              "3     1.470907          0.576364        -1.777826             bin_3  FEMALE   \n",
              "4     1.498901          0.264220        -1.777826             bin_3  FEMALE   \n",
              "\n",
              "   island                            species        instance_timestamp  \n",
              "0  Biscoe  Gentoo penguin (Pygoscelis papua) 2025-04-03 00:00:00+00:00  \n",
              "1  Biscoe  Gentoo penguin (Pygoscelis papua) 2025-04-03 00:00:00+00:00  \n",
              "2  Biscoe  Gentoo penguin (Pygoscelis papua) 2025-04-03 00:00:00+00:00  \n",
              "3  Biscoe  Gentoo penguin (Pygoscelis papua) 2025-04-03 00:00:00+00:00  \n",
              "4  Biscoe  Gentoo penguin (Pygoscelis papua) 2025-04-03 00:00:00+00:00  "
            ]
          },
          "execution_count": 256,
          "metadata": {},
          "output_type": "execute_result"
        }
      ],
      "source": [
        "%%bigquery\n",
        "SELECT *\n",
        "FROM ML.TRANSFORM(\n",
        "    MODEL `statmike-mlops-349915.bqml_model_monitoring.classify_species_rf`,\n",
        "    (\n",
        "        SELECT *\n",
        "        FROM `statmike-mlops-349915.bqml_model_monitoring.serving`\n",
        "        LIMIT 5\n",
        "    )\n",
        ")"
      ]
    },
    {
      "cell_type": "markdown",
      "metadata": {
        "id": "xBt7V2HKq1-s"
      },
      "source": [
        "#### Monitoring Skew (Manually) - As Drift from Training Data With `ML.VALIDATE_DATA_DRIFT`\n",
        "\n",
        "Compare today, or any data, to the training data by directly comparing to the the model created in BigQuery."
      ]
    },
    {
      "cell_type": "code",
      "execution_count": 257,
      "metadata": {
        "tags": [],
        "id": "RThow2slq1-s"
      },
      "outputs": [
        {
          "data": {
            "application/vnd.jupyter.widget-view+json": {
              "model_id": "d0f0d6ad61774703887d9b3b6ad43c6e",
              "version_major": 2,
              "version_minor": 0
            },
            "text/plain": [
              "Query is running:   0%|          |"
            ]
          },
          "metadata": {},
          "output_type": "display_data"
        },
        {
          "data": {
            "application/vnd.jupyter.widget-view+json": {
              "model_id": "0c62af97663e4f408dcfe4d8a6fbd1b4",
              "version_major": 2,
              "version_minor": 0
            },
            "text/plain": [
              "Downloading:   0%|          |"
            ]
          },
          "metadata": {},
          "output_type": "display_data"
        },
        {
          "data": {
            "text/html": [
              "\u003cdiv\u003e\n",
              "\u003cstyle scoped\u003e\n",
              "    .dataframe tbody tr th:only-of-type {\n",
              "        vertical-align: middle;\n",
              "    }\n",
              "\n",
              "    .dataframe tbody tr th {\n",
              "        vertical-align: top;\n",
              "    }\n",
              "\n",
              "    .dataframe thead th {\n",
              "        text-align: right;\n",
              "    }\n",
              "\u003c/style\u003e\n",
              "\u003ctable border=\"1\" class=\"dataframe\"\u003e\n",
              "  \u003cthead\u003e\n",
              "    \u003ctr style=\"text-align: right;\"\u003e\n",
              "      \u003cth\u003e\u003c/th\u003e\n",
              "      \u003cth\u003einput\u003c/th\u003e\n",
              "      \u003cth\u003emetric\u003c/th\u003e\n",
              "      \u003cth\u003ethreshold\u003c/th\u003e\n",
              "      \u003cth\u003evalue\u003c/th\u003e\n",
              "      \u003cth\u003eis_anomaly\u003c/th\u003e\n",
              "    \u003c/tr\u003e\n",
              "  \u003c/thead\u003e\n",
              "  \u003ctbody\u003e\n",
              "    \u003ctr\u003e\n",
              "      \u003cth\u003e0\u003c/th\u003e\n",
              "      \u003ctd\u003ebody_mass_g\u003c/td\u003e\n",
              "      \u003ctd\u003eJENSEN_SHANNON_DIVERGENCE\u003c/td\u003e\n",
              "      \u003ctd\u003e0.3\u003c/td\u003e\n",
              "      \u003ctd\u003e0.341964\u003c/td\u003e\n",
              "      \u003ctd\u003eTrue\u003c/td\u003e\n",
              "    \u003c/tr\u003e\n",
              "    \u003ctr\u003e\n",
              "      \u003cth\u003e1\u003c/th\u003e\n",
              "      \u003ctd\u003eculmen_depth_mm\u003c/td\u003e\n",
              "      \u003ctd\u003eJENSEN_SHANNON_DIVERGENCE\u003c/td\u003e\n",
              "      \u003ctd\u003e0.3\u003c/td\u003e\n",
              "      \u003ctd\u003e0.030779\u003c/td\u003e\n",
              "      \u003ctd\u003eFalse\u003c/td\u003e\n",
              "    \u003c/tr\u003e\n",
              "    \u003ctr\u003e\n",
              "      \u003cth\u003e2\u003c/th\u003e\n",
              "      \u003ctd\u003eculmen_length_mm\u003c/td\u003e\n",
              "      \u003ctd\u003eJENSEN_SHANNON_DIVERGENCE\u003c/td\u003e\n",
              "      \u003ctd\u003e0.3\u003c/td\u003e\n",
              "      \u003ctd\u003e0.035554\u003c/td\u003e\n",
              "      \u003ctd\u003eFalse\u003c/td\u003e\n",
              "    \u003c/tr\u003e\n",
              "    \u003ctr\u003e\n",
              "      \u003cth\u003e3\u003c/th\u003e\n",
              "      \u003ctd\u003eflipper_length_mm\u003c/td\u003e\n",
              "      \u003ctd\u003eL_INFTY\u003c/td\u003e\n",
              "      \u003ctd\u003e0.3\u003c/td\u003e\n",
              "      \u003ctd\u003e0.652542\u003c/td\u003e\n",
              "      \u003ctd\u003eTrue\u003c/td\u003e\n",
              "    \u003c/tr\u003e\n",
              "    \u003ctr\u003e\n",
              "      \u003cth\u003e4\u003c/th\u003e\n",
              "      \u003ctd\u003eisland\u003c/td\u003e\n",
              "      \u003ctd\u003eL_INFTY\u003c/td\u003e\n",
              "      \u003ctd\u003e0.3\u003c/td\u003e\n",
              "      \u003ctd\u003e0.077121\u003c/td\u003e\n",
              "      \u003ctd\u003eFalse\u003c/td\u003e\n",
              "    \u003c/tr\u003e\n",
              "    \u003ctr\u003e\n",
              "      \u003cth\u003e5\u003c/th\u003e\n",
              "      \u003ctd\u003esex\u003c/td\u003e\n",
              "      \u003ctd\u003eL_INFTY\u003c/td\u003e\n",
              "      \u003ctd\u003e0.3\u003c/td\u003e\n",
              "      \u003ctd\u003e0.001355\u003c/td\u003e\n",
              "      \u003ctd\u003eFalse\u003c/td\u003e\n",
              "    \u003c/tr\u003e\n",
              "    \u003ctr\u003e\n",
              "      \u003cth\u003e6\u003c/th\u003e\n",
              "      \u003ctd\u003especies\u003c/td\u003e\n",
              "      \u003ctd\u003eL_INFTY\u003c/td\u003e\n",
              "      \u003ctd\u003e0.3\u003c/td\u003e\n",
              "      \u003ctd\u003e0.044456\u003c/td\u003e\n",
              "      \u003ctd\u003eFalse\u003c/td\u003e\n",
              "    \u003c/tr\u003e\n",
              "  \u003c/tbody\u003e\n",
              "\u003c/table\u003e\n",
              "\u003c/div\u003e"
            ],
            "text/plain": [
              "               input                     metric  threshold     value  \\\n",
              "0        body_mass_g  JENSEN_SHANNON_DIVERGENCE        0.3  0.341964   \n",
              "1    culmen_depth_mm  JENSEN_SHANNON_DIVERGENCE        0.3  0.030779   \n",
              "2   culmen_length_mm  JENSEN_SHANNON_DIVERGENCE        0.3  0.035554   \n",
              "3  flipper_length_mm                    L_INFTY        0.3  0.652542   \n",
              "4             island                    L_INFTY        0.3  0.077121   \n",
              "5                sex                    L_INFTY        0.3  0.001355   \n",
              "6            species                    L_INFTY        0.3  0.044456   \n",
              "\n",
              "   is_anomaly  \n",
              "0        True  \n",
              "1       False  \n",
              "2       False  \n",
              "3        True  \n",
              "4       False  \n",
              "5       False  \n",
              "6       False  "
            ]
          },
          "execution_count": 257,
          "metadata": {},
          "output_type": "execute_result"
        }
      ],
      "source": [
        "%%bigquery\n",
        "SELECT *\n",
        "FROM ML.VALIDATE_DATA_DRIFT(\n",
        "    (\n",
        "        SELECT *\n",
        "        FROM ML.TRANSFORM(\n",
        "            MODEL `statmike-mlops-349915.bqml_model_monitoring.classify_species_rf`,\n",
        "            (\n",
        "                SELECT *\n",
        "                FROM `statmike-mlops-349915.bqml_model_monitoring.training_split`\n",
        "                WHERE splits = 'TRAIN'\n",
        "            )\n",
        "        )\n",
        "    ),\n",
        "    (\n",
        "        SELECT *\n",
        "        FROM ML.TRANSFORM(\n",
        "            MODEL `statmike-mlops-349915.bqml_model_monitoring.classify_species_rf`,\n",
        "            (\n",
        "                SELECT *\n",
        "                FROM `statmike-mlops-349915.bqml_model_monitoring.serving`\n",
        "                WHERE DATE(instance_timestamp) \u003e= CURRENT_DATE()\n",
        "            )\n",
        "        )\n",
        "    )\n",
        "    #, MODEL `statmike-mlops-349915.bqml_model_monitoring.classify_species_rf`\n",
        ");"
      ]
    },
    {
      "cell_type": "markdown",
      "metadata": {
        "id": "ZsfMcXkCq1-s"
      },
      "source": [
        "#### Monitoring Drift (Change Over Time) With `ML.VALIDATE_DATA_DRIFT`\n",
        "\n",
        "Compare today to 5 days ago and set the a lower, more sensitive, threshold of `0.03` (default is `0.3`) for all features."
      ]
    },
    {
      "cell_type": "code",
      "execution_count": 258,
      "metadata": {
        "tags": [],
        "id": "kVncvH4rq1-s"
      },
      "outputs": [
        {
          "data": {
            "application/vnd.jupyter.widget-view+json": {
              "model_id": "632d75b2c0f54c1db9e9bd2db037c86b",
              "version_major": 2,
              "version_minor": 0
            },
            "text/plain": [
              "Query is running:   0%|          |"
            ]
          },
          "metadata": {},
          "output_type": "display_data"
        },
        {
          "data": {
            "application/vnd.jupyter.widget-view+json": {
              "model_id": "71bbc87d2f8c4584a361d44112e06b75",
              "version_major": 2,
              "version_minor": 0
            },
            "text/plain": [
              "Downloading:   0%|          |"
            ]
          },
          "metadata": {},
          "output_type": "display_data"
        },
        {
          "data": {
            "text/html": [
              "\u003cdiv\u003e\n",
              "\u003cstyle scoped\u003e\n",
              "    .dataframe tbody tr th:only-of-type {\n",
              "        vertical-align: middle;\n",
              "    }\n",
              "\n",
              "    .dataframe tbody tr th {\n",
              "        vertical-align: top;\n",
              "    }\n",
              "\n",
              "    .dataframe thead th {\n",
              "        text-align: right;\n",
              "    }\n",
              "\u003c/style\u003e\n",
              "\u003ctable border=\"1\" class=\"dataframe\"\u003e\n",
              "  \u003cthead\u003e\n",
              "    \u003ctr style=\"text-align: right;\"\u003e\n",
              "      \u003cth\u003e\u003c/th\u003e\n",
              "      \u003cth\u003einput\u003c/th\u003e\n",
              "      \u003cth\u003emetric\u003c/th\u003e\n",
              "      \u003cth\u003ethreshold\u003c/th\u003e\n",
              "      \u003cth\u003evalue\u003c/th\u003e\n",
              "      \u003cth\u003eis_anomaly\u003c/th\u003e\n",
              "    \u003c/tr\u003e\n",
              "  \u003c/thead\u003e\n",
              "  \u003ctbody\u003e\n",
              "    \u003ctr\u003e\n",
              "      \u003cth\u003e0\u003c/th\u003e\n",
              "      \u003ctd\u003ebody_mass_g\u003c/td\u003e\n",
              "      \u003ctd\u003eJENSEN_SHANNON_DIVERGENCE\u003c/td\u003e\n",
              "      \u003ctd\u003e0.03\u003c/td\u003e\n",
              "      \u003ctd\u003e0.066610\u003c/td\u003e\n",
              "      \u003ctd\u003eTrue\u003c/td\u003e\n",
              "    \u003c/tr\u003e\n",
              "    \u003ctr\u003e\n",
              "      \u003cth\u003e1\u003c/th\u003e\n",
              "      \u003ctd\u003eculmen_depth_mm\u003c/td\u003e\n",
              "      \u003ctd\u003eJENSEN_SHANNON_DIVERGENCE\u003c/td\u003e\n",
              "      \u003ctd\u003e0.03\u003c/td\u003e\n",
              "      \u003ctd\u003e0.000000\u003c/td\u003e\n",
              "      \u003ctd\u003eFalse\u003c/td\u003e\n",
              "    \u003c/tr\u003e\n",
              "    \u003ctr\u003e\n",
              "      \u003cth\u003e2\u003c/th\u003e\n",
              "      \u003ctd\u003eculmen_length_mm\u003c/td\u003e\n",
              "      \u003ctd\u003eJENSEN_SHANNON_DIVERGENCE\u003c/td\u003e\n",
              "      \u003ctd\u003e0.03\u003c/td\u003e\n",
              "      \u003ctd\u003e0.000000\u003c/td\u003e\n",
              "      \u003ctd\u003eFalse\u003c/td\u003e\n",
              "    \u003c/tr\u003e\n",
              "    \u003ctr\u003e\n",
              "      \u003cth\u003e3\u003c/th\u003e\n",
              "      \u003ctd\u003eflipper_length_mm\u003c/td\u003e\n",
              "      \u003ctd\u003eL_INFTY\u003c/td\u003e\n",
              "      \u003ctd\u003e0.03\u003c/td\u003e\n",
              "      \u003ctd\u003e0.032787\u003c/td\u003e\n",
              "      \u003ctd\u003eTrue\u003c/td\u003e\n",
              "    \u003c/tr\u003e\n",
              "    \u003ctr\u003e\n",
              "      \u003cth\u003e4\u003c/th\u003e\n",
              "      \u003ctd\u003einstance_timestamp\u003c/td\u003e\n",
              "      \u003ctd\u003eL_INFTY\u003c/td\u003e\n",
              "      \u003ctd\u003e0.03\u003c/td\u003e\n",
              "      \u003ctd\u003e1.000000\u003c/td\u003e\n",
              "      \u003ctd\u003eTrue\u003c/td\u003e\n",
              "    \u003c/tr\u003e\n",
              "    \u003ctr\u003e\n",
              "      \u003cth\u003e5\u003c/th\u003e\n",
              "      \u003ctd\u003eisland\u003c/td\u003e\n",
              "      \u003ctd\u003eL_INFTY\u003c/td\u003e\n",
              "      \u003ctd\u003e0.03\u003c/td\u003e\n",
              "      \u003ctd\u003e0.000000\u003c/td\u003e\n",
              "      \u003ctd\u003eFalse\u003c/td\u003e\n",
              "    \u003c/tr\u003e\n",
              "    \u003ctr\u003e\n",
              "      \u003cth\u003e6\u003c/th\u003e\n",
              "      \u003ctd\u003esex\u003c/td\u003e\n",
              "      \u003ctd\u003eL_INFTY\u003c/td\u003e\n",
              "      \u003ctd\u003e0.03\u003c/td\u003e\n",
              "      \u003ctd\u003e0.000000\u003c/td\u003e\n",
              "      \u003ctd\u003eFalse\u003c/td\u003e\n",
              "    \u003c/tr\u003e\n",
              "    \u003ctr\u003e\n",
              "      \u003cth\u003e7\u003c/th\u003e\n",
              "      \u003ctd\u003especies\u003c/td\u003e\n",
              "      \u003ctd\u003eL_INFTY\u003c/td\u003e\n",
              "      \u003ctd\u003e0.03\u003c/td\u003e\n",
              "      \u003ctd\u003e0.000000\u003c/td\u003e\n",
              "      \u003ctd\u003eFalse\u003c/td\u003e\n",
              "    \u003c/tr\u003e\n",
              "  \u003c/tbody\u003e\n",
              "\u003c/table\u003e\n",
              "\u003c/div\u003e"
            ],
            "text/plain": [
              "                input                     metric  threshold     value  \\\n",
              "0         body_mass_g  JENSEN_SHANNON_DIVERGENCE       0.03  0.066610   \n",
              "1     culmen_depth_mm  JENSEN_SHANNON_DIVERGENCE       0.03  0.000000   \n",
              "2    culmen_length_mm  JENSEN_SHANNON_DIVERGENCE       0.03  0.000000   \n",
              "3   flipper_length_mm                    L_INFTY       0.03  0.032787   \n",
              "4  instance_timestamp                    L_INFTY       0.03  1.000000   \n",
              "5              island                    L_INFTY       0.03  0.000000   \n",
              "6                 sex                    L_INFTY       0.03  0.000000   \n",
              "7             species                    L_INFTY       0.03  0.000000   \n",
              "\n",
              "   is_anomaly  \n",
              "0        True  \n",
              "1       False  \n",
              "2       False  \n",
              "3        True  \n",
              "4        True  \n",
              "5       False  \n",
              "6       False  \n",
              "7       False  "
            ]
          },
          "execution_count": 258,
          "metadata": {},
          "output_type": "execute_result"
        }
      ],
      "source": [
        "%%bigquery\n",
        "SELECT *\n",
        "FROM ML.VALIDATE_DATA_DRIFT(\n",
        "    (\n",
        "        SELECT *\n",
        "        FROM ML.TRANSFORM(\n",
        "            MODEL `statmike-mlops-349915.bqml_model_monitoring.classify_species_rf`,\n",
        "            (\n",
        "                SELECT *\n",
        "                FROM `statmike-mlops-349915.bqml_model_monitoring.serving`\n",
        "                WHERE DATE(instance_timestamp) = DATE_SUB(CURRENT_DATE(), INTERVAL 5 DAY)\n",
        "            )\n",
        "        )\n",
        "    ),\n",
        "    (\n",
        "        SELECT *\n",
        "        FROM ML.TRANSFORM(\n",
        "            MODEL `statmike-mlops-349915.bqml_model_monitoring.classify_species_rf`,\n",
        "            (\n",
        "                SELECT *\n",
        "                FROM `statmike-mlops-349915.bqml_model_monitoring.serving`\n",
        "                WHERE DATE(instance_timestamp) \u003e= CURRENT_DATE()\n",
        "            )\n",
        "        )\n",
        "    ),\n",
        "    STRUCT(\n",
        "        0.03 AS categorical_default_threshold,\n",
        "        0.03 AS numerical_default_threshold\n",
        "    )\n",
        "    #, MODEL `statmike-mlops-349915.bqml_model_monitoring.classify_species_rf`\n",
        ")"
      ]
    },
    {
      "cell_type": "markdown",
      "metadata": {
        "tags": [],
        "id": "iV1nOrQVq1-s"
      },
      "source": [
        "---\n",
        "### Monitoring Feature Attributions\n",
        "\n",
        "BigQuery ML models, like the deep neural network classifier (`model_type = 'DNN_CLASSIFIER'`) used above, can also serve explanations using the BigQuery function [`ML.EXPLAIN_PREDICT`](https://cloud.google.com/bigquery/docs/reference/standard-sql/bigqueryml-syntax-explain-predict).  This function returns feature attributions for each feature used in the model to explain how much contribution was made to the final prediction for a given instance.\n",
        "\n",
        "**Feature Attributions**\n",
        "\n",
        "The feature attributions from `ML.EXPLAIN_PREDICT` are [local explanations](https://cloud.google.com/bigquery/docs/xai-overview#local_versus_global_explainability), specific to the instance being predicted.  The attribution values are given for each feature and they add up to the `prediction_value`. In this case the model is a classifier and the `prediction_value` is the logit value (log-odds) of the predicted class.  "
      ]
    },
    {
      "cell_type": "markdown",
      "metadata": {
        "id": "l5kFODR7q1-s"
      },
      "source": [
        "#### Serving Feature Attributions\n",
        "\n",
        "As an example, the following cell gets the feature attributions for a single penguin with for the latest values of the features:"
      ]
    },
    {
      "cell_type": "code",
      "execution_count": 259,
      "metadata": {
        "tags": [],
        "id": "HwBo5Kplq1-s"
      },
      "outputs": [
        {
          "data": {
            "application/vnd.jupyter.widget-view+json": {
              "model_id": "900965c158204731b46cb47df00e800e",
              "version_major": 2,
              "version_minor": 0
            },
            "text/plain": [
              "Query is running:   0%|          |"
            ]
          },
          "metadata": {},
          "output_type": "display_data"
        },
        {
          "data": {
            "application/vnd.jupyter.widget-view+json": {
              "model_id": "1f82509d3512495fb92837d0d3707596",
              "version_major": 2,
              "version_minor": 0
            },
            "text/plain": [
              "Downloading:   0%|          |"
            ]
          },
          "metadata": {},
          "output_type": "display_data"
        },
        {
          "data": {
            "text/html": [
              "\u003cdiv\u003e\n",
              "\u003cstyle scoped\u003e\n",
              "    .dataframe tbody tr th:only-of-type {\n",
              "        vertical-align: middle;\n",
              "    }\n",
              "\n",
              "    .dataframe tbody tr th {\n",
              "        vertical-align: top;\n",
              "    }\n",
              "\n",
              "    .dataframe thead th {\n",
              "        text-align: right;\n",
              "    }\n",
              "\u003c/style\u003e\n",
              "\u003ctable border=\"1\" class=\"dataframe\"\u003e\n",
              "  \u003cthead\u003e\n",
              "    \u003ctr style=\"text-align: right;\"\u003e\n",
              "      \u003cth\u003e\u003c/th\u003e\n",
              "      \u003cth\u003epredicted_species\u003c/th\u003e\n",
              "      \u003cth\u003eprobability\u003c/th\u003e\n",
              "      \u003cth\u003ebaseline_prediction_value\u003c/th\u003e\n",
              "      \u003cth\u003eprediction_value\u003c/th\u003e\n",
              "      \u003cth\u003eapproximation_error\u003c/th\u003e\n",
              "      \u003cth\u003efeature\u003c/th\u003e\n",
              "      \u003cth\u003eattribution\u003c/th\u003e\n",
              "    \u003c/tr\u003e\n",
              "  \u003c/thead\u003e\n",
              "  \u003ctbody\u003e\n",
              "    \u003ctr\u003e\n",
              "      \u003cth\u003e0\u003c/th\u003e\n",
              "      \u003ctd\u003eAdelie Penguin (Pygoscelis adeliae)\u003c/td\u003e\n",
              "      \u003ctd\u003e0.667694\u003c/td\u003e\n",
              "      \u003ctd\u003e0.727131\u003c/td\u003e\n",
              "      \u003ctd\u003e1.273003\u003c/td\u003e\n",
              "      \u003ctd\u003e0.0\u003c/td\u003e\n",
              "      \u003ctd\u003eisland\u003c/td\u003e\n",
              "      \u003ctd\u003e0.542401\u003c/td\u003e\n",
              "    \u003c/tr\u003e\n",
              "    \u003ctr\u003e\n",
              "      \u003cth\u003e1\u003c/th\u003e\n",
              "      \u003ctd\u003eAdelie Penguin (Pygoscelis adeliae)\u003c/td\u003e\n",
              "      \u003ctd\u003e0.667694\u003c/td\u003e\n",
              "      \u003ctd\u003e0.727131\u003c/td\u003e\n",
              "      \u003ctd\u003e1.273003\u003c/td\u003e\n",
              "      \u003ctd\u003e0.0\u003c/td\u003e\n",
              "      \u003ctd\u003eculmen_length_mm\u003c/td\u003e\n",
              "      \u003ctd\u003e-0.263258\u003c/td\u003e\n",
              "    \u003c/tr\u003e\n",
              "    \u003ctr\u003e\n",
              "      \u003cth\u003e2\u003c/th\u003e\n",
              "      \u003ctd\u003eAdelie Penguin (Pygoscelis adeliae)\u003c/td\u003e\n",
              "      \u003ctd\u003e0.667694\u003c/td\u003e\n",
              "      \u003ctd\u003e0.727131\u003c/td\u003e\n",
              "      \u003ctd\u003e1.273003\u003c/td\u003e\n",
              "      \u003ctd\u003e0.0\u003c/td\u003e\n",
              "      \u003ctd\u003eflipper_length_mm\u003c/td\u003e\n",
              "      \u003ctd\u003e0.155952\u003c/td\u003e\n",
              "    \u003c/tr\u003e\n",
              "    \u003ctr\u003e\n",
              "      \u003cth\u003e3\u003c/th\u003e\n",
              "      \u003ctd\u003eAdelie Penguin (Pygoscelis adeliae)\u003c/td\u003e\n",
              "      \u003ctd\u003e0.667694\u003c/td\u003e\n",
              "      \u003ctd\u003e0.727131\u003c/td\u003e\n",
              "      \u003ctd\u003e1.273003\u003c/td\u003e\n",
              "      \u003ctd\u003e0.0\u003c/td\u003e\n",
              "      \u003ctd\u003ebody_mass_g\u003c/td\u003e\n",
              "      \u003ctd\u003e0.065912\u003c/td\u003e\n",
              "    \u003c/tr\u003e\n",
              "    \u003ctr\u003e\n",
              "      \u003cth\u003e4\u003c/th\u003e\n",
              "      \u003ctd\u003eAdelie Penguin (Pygoscelis adeliae)\u003c/td\u003e\n",
              "      \u003ctd\u003e0.667694\u003c/td\u003e\n",
              "      \u003ctd\u003e0.727131\u003c/td\u003e\n",
              "      \u003ctd\u003e1.273003\u003c/td\u003e\n",
              "      \u003ctd\u003e0.0\u003c/td\u003e\n",
              "      \u003ctd\u003esex\u003c/td\u003e\n",
              "      \u003ctd\u003e0.030844\u003c/td\u003e\n",
              "    \u003c/tr\u003e\n",
              "    \u003ctr\u003e\n",
              "      \u003cth\u003e5\u003c/th\u003e\n",
              "      \u003ctd\u003eAdelie Penguin (Pygoscelis adeliae)\u003c/td\u003e\n",
              "      \u003ctd\u003e0.667694\u003c/td\u003e\n",
              "      \u003ctd\u003e0.727131\u003c/td\u003e\n",
              "      \u003ctd\u003e1.273003\u003c/td\u003e\n",
              "      \u003ctd\u003e0.0\u003c/td\u003e\n",
              "      \u003ctd\u003eculmen_depth_mm\u003c/td\u003e\n",
              "      \u003ctd\u003e0.014021\u003c/td\u003e\n",
              "    \u003c/tr\u003e\n",
              "  \u003c/tbody\u003e\n",
              "\u003c/table\u003e\n",
              "\u003c/div\u003e"
            ],
            "text/plain": [
              "                     predicted_species  probability  \\\n",
              "0  Adelie Penguin (Pygoscelis adeliae)     0.667694   \n",
              "1  Adelie Penguin (Pygoscelis adeliae)     0.667694   \n",
              "2  Adelie Penguin (Pygoscelis adeliae)     0.667694   \n",
              "3  Adelie Penguin (Pygoscelis adeliae)     0.667694   \n",
              "4  Adelie Penguin (Pygoscelis adeliae)     0.667694   \n",
              "5  Adelie Penguin (Pygoscelis adeliae)     0.667694   \n",
              "\n",
              "   baseline_prediction_value  prediction_value  approximation_error  \\\n",
              "0                   0.727131          1.273003                  0.0   \n",
              "1                   0.727131          1.273003                  0.0   \n",
              "2                   0.727131          1.273003                  0.0   \n",
              "3                   0.727131          1.273003                  0.0   \n",
              "4                   0.727131          1.273003                  0.0   \n",
              "5                   0.727131          1.273003                  0.0   \n",
              "\n",
              "             feature  attribution  \n",
              "0             island     0.542401  \n",
              "1   culmen_length_mm    -0.263258  \n",
              "2  flipper_length_mm     0.155952  \n",
              "3        body_mass_g     0.065912  \n",
              "4                sex     0.030844  \n",
              "5    culmen_depth_mm     0.014021  "
            ]
          },
          "execution_count": 259,
          "metadata": {},
          "output_type": "execute_result"
        }
      ],
      "source": [
        "%%bigquery\n",
        "WITH\n",
        "    EXPLAIN AS (\n",
        "        SELECT * EXCEPT(body_mass_g, sex, island, flipper_length_mm, culmen_depth_mm, culmen_length_mm)\n",
        "        FROM ML.EXPLAIN_PREDICT(\n",
        "            MODEL `statmike-mlops-349915.bqml_model_monitoring.classify_species_rf`,\n",
        "            (\n",
        "                SELECT * EXCEPT(instance_timestamp, species)\n",
        "                FROM `statmike-mlops-349915.bqml_model_monitoring.serving`\n",
        "                WHERE DATE(instance_timestamp) = CURRENT_DATE()\n",
        "                LIMIT 1\n",
        "            ), \n",
        "            STRUCT(10 AS top_k_features)\n",
        "        )\n",
        "    ),\n",
        "    ATTRIBUTIONS AS (\n",
        "        SELECT * EXCEPT(top_feature_attributions),\n",
        "        FROM EXPLAIN\n",
        "        JOIN UNNEST(top_feature_attributions)\n",
        "    )\n",
        "SELECT * \n",
        "FROM ATTRIBUTIONS"
      ]
    },
    {
      "cell_type": "markdown",
      "metadata": {
        "id": "oCIMKV54q1-s"
      },
      "source": [
        "#### Reviewing Feature Attributions\n",
        "\n",
        "Get attributions for all penguins:"
      ]
    },
    {
      "cell_type": "code",
      "execution_count": 260,
      "metadata": {
        "tags": [],
        "id": "KxSGNLzKq1-s"
      },
      "outputs": [
        {
          "data": {
            "application/vnd.jupyter.widget-view+json": {
              "model_id": "809b26de3e93457aade8486389bcb17c",
              "version_major": 2,
              "version_minor": 0
            },
            "text/plain": [
              "Query is running:   0%|          |"
            ]
          },
          "metadata": {},
          "output_type": "display_data"
        },
        {
          "data": {
            "application/vnd.jupyter.widget-view+json": {
              "model_id": "9a72763f2b534186aae593e43394bb30",
              "version_major": 2,
              "version_minor": 0
            },
            "text/plain": [
              "Downloading:   0%|          |"
            ]
          },
          "metadata": {},
          "output_type": "display_data"
        }
      ],
      "source": [
        "%%bigquery explain\n",
        "WITH\n",
        "    EXPLAIN AS (\n",
        "        SELECT * EXCEPT(body_mass_g, sex, island, flipper_length_mm, culmen_depth_mm, culmen_length_mm)\n",
        "        FROM ML.EXPLAIN_PREDICT(\n",
        "            MODEL `statmike-mlops-349915.bqml_model_monitoring.classify_species_rf`,\n",
        "            (\n",
        "                SELECT * EXCEPT(instance_timestamp, species)\n",
        "                FROM `statmike-mlops-349915.bqml_model_monitoring.serving`\n",
        "                WHERE DATE(instance_timestamp) = CURRENT_DATE()\n",
        "            ), \n",
        "            STRUCT(10 AS top_k_features)\n",
        "        )\n",
        "    ),\n",
        "    ATTRIBUTIONS AS (\n",
        "        SELECT * EXCEPT(top_feature_attributions),\n",
        "        FROM EXPLAIN\n",
        "        JOIN UNNEST(top_feature_attributions)\n",
        "    ),\n",
        "    PIVOT_ATTRIBUTION AS (\n",
        "        SELECT body_mass_g, sex, island, flipper_length_mm, culmen_depth_mm, culmen_length_mm\n",
        "        FROM ATTRIBUTIONS PIVOT(MAX(attribution) FOR feature IN ('body_mass_g', 'sex', 'island', 'flipper_length_mm', 'culmen_depth_mm', 'culmen_length_mm'))\n",
        "    )\n",
        "SELECT *\n",
        "FROM PIVOT_ATTRIBUTION"
      ]
    },
    {
      "cell_type": "code",
      "execution_count": 261,
      "metadata": {
        "tags": [],
        "id": "Ftkr_j4Wq1-s"
      },
      "outputs": [
        {
          "data": {
            "text/html": [
              "\u003cdiv\u003e\n",
              "\u003cstyle scoped\u003e\n",
              "    .dataframe tbody tr th:only-of-type {\n",
              "        vertical-align: middle;\n",
              "    }\n",
              "\n",
              "    .dataframe tbody tr th {\n",
              "        vertical-align: top;\n",
              "    }\n",
              "\n",
              "    .dataframe thead th {\n",
              "        text-align: right;\n",
              "    }\n",
              "\u003c/style\u003e\n",
              "\u003ctable border=\"1\" class=\"dataframe\"\u003e\n",
              "  \u003cthead\u003e\n",
              "    \u003ctr style=\"text-align: right;\"\u003e\n",
              "      \u003cth\u003e\u003c/th\u003e\n",
              "      \u003cth\u003ebody_mass_g\u003c/th\u003e\n",
              "      \u003cth\u003esex\u003c/th\u003e\n",
              "      \u003cth\u003eisland\u003c/th\u003e\n",
              "      \u003cth\u003eflipper_length_mm\u003c/th\u003e\n",
              "      \u003cth\u003eculmen_depth_mm\u003c/th\u003e\n",
              "      \u003cth\u003eculmen_length_mm\u003c/th\u003e\n",
              "    \u003c/tr\u003e\n",
              "  \u003c/thead\u003e\n",
              "  \u003ctbody\u003e\n",
              "    \u003ctr\u003e\n",
              "      \u003cth\u003e0\u003c/th\u003e\n",
              "      \u003ctd\u003e0.023054\u003c/td\u003e\n",
              "      \u003ctd\u003e-0.004572\u003c/td\u003e\n",
              "      \u003ctd\u003e-0.018050\u003c/td\u003e\n",
              "      \u003ctd\u003e-0.435511\u003c/td\u003e\n",
              "      \u003ctd\u003e0.029316\u003c/td\u003e\n",
              "      \u003ctd\u003e0.801638\u003c/td\u003e\n",
              "    \u003c/tr\u003e\n",
              "    \u003ctr\u003e\n",
              "      \u003cth\u003e1\u003c/th\u003e\n",
              "      \u003ctd\u003e0.020055\u003c/td\u003e\n",
              "      \u003ctd\u003e-0.003821\u003c/td\u003e\n",
              "      \u003ctd\u003e0.004275\u003c/td\u003e\n",
              "      \u003ctd\u003e-0.454922\u003c/td\u003e\n",
              "      \u003ctd\u003e0.047351\u003c/td\u003e\n",
              "      \u003ctd\u003e0.798744\u003c/td\u003e\n",
              "    \u003c/tr\u003e\n",
              "    \u003ctr\u003e\n",
              "      \u003cth\u003e2\u003c/th\u003e\n",
              "      \u003ctd\u003e0.016296\u003c/td\u003e\n",
              "      \u003ctd\u003e-0.003552\u003c/td\u003e\n",
              "      \u003ctd\u003e0.209386\u003c/td\u003e\n",
              "      \u003ctd\u003e-0.470392\u003c/td\u003e\n",
              "      \u003ctd\u003e0.051963\u003c/td\u003e\n",
              "      \u003ctd\u003e0.609958\u003c/td\u003e\n",
              "    \u003c/tr\u003e\n",
              "    \u003ctr\u003e\n",
              "      \u003cth\u003e3\u003c/th\u003e\n",
              "      \u003ctd\u003e0.020866\u003c/td\u003e\n",
              "      \u003ctd\u003e-0.003429\u003c/td\u003e\n",
              "      \u003ctd\u003e0.210675\u003c/td\u003e\n",
              "      \u003ctd\u003e-0.447005\u003c/td\u003e\n",
              "      \u003ctd\u003e0.107478\u003c/td\u003e\n",
              "      \u003ctd\u003e0.605660\u003c/td\u003e\n",
              "    \u003c/tr\u003e\n",
              "    \u003ctr\u003e\n",
              "      \u003cth\u003e4\u003c/th\u003e\n",
              "      \u003ctd\u003e0.009907\u003c/td\u003e\n",
              "      \u003ctd\u003e0.015670\u003c/td\u003e\n",
              "      \u003ctd\u003e0.019640\u003c/td\u003e\n",
              "      \u003ctd\u003e0.847510\u003c/td\u003e\n",
              "      \u003ctd\u003e-0.283384\u003c/td\u003e\n",
              "      \u003ctd\u003e-0.038304\u003c/td\u003e\n",
              "    \u003c/tr\u003e\n",
              "  \u003c/tbody\u003e\n",
              "\u003c/table\u003e\n",
              "\u003c/div\u003e"
            ],
            "text/plain": [
              "   body_mass_g       sex    island  flipper_length_mm  culmen_depth_mm  \\\n",
              "0     0.023054 -0.004572 -0.018050          -0.435511         0.029316   \n",
              "1     0.020055 -0.003821  0.004275          -0.454922         0.047351   \n",
              "2     0.016296 -0.003552  0.209386          -0.470392         0.051963   \n",
              "3     0.020866 -0.003429  0.210675          -0.447005         0.107478   \n",
              "4     0.009907  0.015670  0.019640           0.847510        -0.283384   \n",
              "\n",
              "   culmen_length_mm  \n",
              "0          0.801638  \n",
              "1          0.798744  \n",
              "2          0.609958  \n",
              "3          0.605660  \n",
              "4         -0.038304  "
            ]
          },
          "execution_count": 261,
          "metadata": {},
          "output_type": "execute_result"
        }
      ],
      "source": [
        "explain.head()"
      ]
    },
    {
      "cell_type": "markdown",
      "metadata": {
        "id": "6KczyUfmq1-s"
      },
      "source": [
        "#### Monitor Feature Attributions For Drift with `ML.VALIDATE_DATA_DRIFT`\n",
        "\n",
        "Compare yesterday to 25 days ago:"
      ]
    },
    {
      "cell_type": "code",
      "execution_count": 262,
      "metadata": {
        "tags": [],
        "id": "02XyWxd_q1-s"
      },
      "outputs": [
        {
          "data": {
            "application/vnd.jupyter.widget-view+json": {
              "model_id": "ca9586f43c0f4812af2997bcc5dec81b",
              "version_major": 2,
              "version_minor": 0
            },
            "text/plain": [
              "Query is running:   0%|          |"
            ]
          },
          "metadata": {},
          "output_type": "display_data"
        },
        {
          "data": {
            "application/vnd.jupyter.widget-view+json": {
              "model_id": "51d485a11f7440ab8da46103368e49bf",
              "version_major": 2,
              "version_minor": 0
            },
            "text/plain": [
              "Downloading:   0%|          |"
            ]
          },
          "metadata": {},
          "output_type": "display_data"
        },
        {
          "data": {
            "text/html": [
              "\u003cdiv\u003e\n",
              "\u003cstyle scoped\u003e\n",
              "    .dataframe tbody tr th:only-of-type {\n",
              "        vertical-align: middle;\n",
              "    }\n",
              "\n",
              "    .dataframe tbody tr th {\n",
              "        vertical-align: top;\n",
              "    }\n",
              "\n",
              "    .dataframe thead th {\n",
              "        text-align: right;\n",
              "    }\n",
              "\u003c/style\u003e\n",
              "\u003ctable border=\"1\" class=\"dataframe\"\u003e\n",
              "  \u003cthead\u003e\n",
              "    \u003ctr style=\"text-align: right;\"\u003e\n",
              "      \u003cth\u003e\u003c/th\u003e\n",
              "      \u003cth\u003einput\u003c/th\u003e\n",
              "      \u003cth\u003emetric\u003c/th\u003e\n",
              "      \u003cth\u003ethreshold\u003c/th\u003e\n",
              "      \u003cth\u003evalue\u003c/th\u003e\n",
              "      \u003cth\u003eis_anomaly\u003c/th\u003e\n",
              "    \u003c/tr\u003e\n",
              "  \u003c/thead\u003e\n",
              "  \u003ctbody\u003e\n",
              "    \u003ctr\u003e\n",
              "      \u003cth\u003e0\u003c/th\u003e\n",
              "      \u003ctd\u003ebody_mass_g\u003c/td\u003e\n",
              "      \u003ctd\u003eJENSEN_SHANNON_DIVERGENCE\u003c/td\u003e\n",
              "      \u003ctd\u003e0.3\u003c/td\u003e\n",
              "      \u003ctd\u003e0.210900\u003c/td\u003e\n",
              "      \u003ctd\u003eFalse\u003c/td\u003e\n",
              "    \u003c/tr\u003e\n",
              "    \u003ctr\u003e\n",
              "      \u003cth\u003e1\u003c/th\u003e\n",
              "      \u003ctd\u003eculmen_depth_mm\u003c/td\u003e\n",
              "      \u003ctd\u003eJENSEN_SHANNON_DIVERGENCE\u003c/td\u003e\n",
              "      \u003ctd\u003e0.3\u003c/td\u003e\n",
              "      \u003ctd\u003e0.231746\u003c/td\u003e\n",
              "      \u003ctd\u003eFalse\u003c/td\u003e\n",
              "    \u003c/tr\u003e\n",
              "    \u003ctr\u003e\n",
              "      \u003cth\u003e2\u003c/th\u003e\n",
              "      \u003ctd\u003eculmen_length_mm\u003c/td\u003e\n",
              "      \u003ctd\u003eJENSEN_SHANNON_DIVERGENCE\u003c/td\u003e\n",
              "      \u003ctd\u003e0.3\u003c/td\u003e\n",
              "      \u003ctd\u003e0.312302\u003c/td\u003e\n",
              "      \u003ctd\u003eTrue\u003c/td\u003e\n",
              "    \u003c/tr\u003e\n",
              "    \u003ctr\u003e\n",
              "      \u003cth\u003e3\u003c/th\u003e\n",
              "      \u003ctd\u003eflipper_length_mm\u003c/td\u003e\n",
              "      \u003ctd\u003eJENSEN_SHANNON_DIVERGENCE\u003c/td\u003e\n",
              "      \u003ctd\u003e0.3\u003c/td\u003e\n",
              "      \u003ctd\u003e0.451063\u003c/td\u003e\n",
              "      \u003ctd\u003eTrue\u003c/td\u003e\n",
              "    \u003c/tr\u003e\n",
              "    \u003ctr\u003e\n",
              "      \u003cth\u003e4\u003c/th\u003e\n",
              "      \u003ctd\u003eisland\u003c/td\u003e\n",
              "      \u003ctd\u003eJENSEN_SHANNON_DIVERGENCE\u003c/td\u003e\n",
              "      \u003ctd\u003e0.3\u003c/td\u003e\n",
              "      \u003ctd\u003e0.221322\u003c/td\u003e\n",
              "      \u003ctd\u003eFalse\u003c/td\u003e\n",
              "    \u003c/tr\u003e\n",
              "    \u003ctr\u003e\n",
              "      \u003cth\u003e5\u003c/th\u003e\n",
              "      \u003ctd\u003esex\u003c/td\u003e\n",
              "      \u003ctd\u003eJENSEN_SHANNON_DIVERGENCE\u003c/td\u003e\n",
              "      \u003ctd\u003e0.3\u003c/td\u003e\n",
              "      \u003ctd\u003e0.275663\u003c/td\u003e\n",
              "      \u003ctd\u003eFalse\u003c/td\u003e\n",
              "    \u003c/tr\u003e\n",
              "  \u003c/tbody\u003e\n",
              "\u003c/table\u003e\n",
              "\u003c/div\u003e"
            ],
            "text/plain": [
              "               input                     metric  threshold     value  \\\n",
              "0        body_mass_g  JENSEN_SHANNON_DIVERGENCE        0.3  0.210900   \n",
              "1    culmen_depth_mm  JENSEN_SHANNON_DIVERGENCE        0.3  0.231746   \n",
              "2   culmen_length_mm  JENSEN_SHANNON_DIVERGENCE        0.3  0.312302   \n",
              "3  flipper_length_mm  JENSEN_SHANNON_DIVERGENCE        0.3  0.451063   \n",
              "4             island  JENSEN_SHANNON_DIVERGENCE        0.3  0.221322   \n",
              "5                sex  JENSEN_SHANNON_DIVERGENCE        0.3  0.275663   \n",
              "\n",
              "   is_anomaly  \n",
              "0       False  \n",
              "1       False  \n",
              "2        True  \n",
              "3        True  \n",
              "4       False  \n",
              "5       False  "
            ]
          },
          "execution_count": 262,
          "metadata": {},
          "output_type": "execute_result"
        }
      ],
      "source": [
        "%%bigquery\n",
        "WITH\n",
        "    EXPLAIN_BASE AS (\n",
        "        SELECT * EXCEPT(body_mass_g, sex, island, flipper_length_mm, culmen_depth_mm, culmen_length_mm)\n",
        "        FROM ML.EXPLAIN_PREDICT(\n",
        "            MODEL `statmike-mlops-349915.bqml_model_monitoring.classify_species_rf`,\n",
        "            (\n",
        "                SELECT * EXCEPT(instance_timestamp, species)\n",
        "                FROM `statmike-mlops-349915.bqml_model_monitoring.serving`\n",
        "                WHERE DATE(instance_timestamp) = DATE_SUB(CURRENT_DATE(), INTERVAL 25 DAY)\n",
        "            ), \n",
        "            STRUCT(10 AS top_k_features)\n",
        "        )\n",
        "    ),\n",
        "    ATTRIBUTIONS_BASE AS (\n",
        "        SELECT * EXCEPT(top_feature_attributions),\n",
        "        FROM EXPLAIN_BASE\n",
        "        JOIN UNNEST(top_feature_attributions)\n",
        "    ),\n",
        "    PIVOT_ATTRIBUTION_BASE AS (\n",
        "        SELECT body_mass_g, sex, island, flipper_length_mm, culmen_depth_mm, culmen_length_mm\n",
        "        FROM ATTRIBUTIONS_BASE PIVOT(MAX(attribution) FOR feature IN ('body_mass_g', 'sex', 'island', 'flipper_length_mm', 'culmen_depth_mm', 'culmen_length_mm'))\n",
        "    ),\n",
        "    EXPLAIN_COMP AS (\n",
        "        SELECT * EXCEPT(body_mass_g, sex, island, flipper_length_mm, culmen_depth_mm, culmen_length_mm)\n",
        "        FROM ML.EXPLAIN_PREDICT(\n",
        "            MODEL `statmike-mlops-349915.bqml_model_monitoring.classify_species_rf`,\n",
        "            (\n",
        "                SELECT * EXCEPT(instance_timestamp, species)\n",
        "                FROM `statmike-mlops-349915.bqml_model_monitoring.serving`\n",
        "                WHERE DATE(instance_timestamp) = DATE_SUB(CURRENT_DATE(), INTERVAL 1 DAY)\n",
        "            ), \n",
        "            STRUCT(10 AS top_k_features)\n",
        "        )\n",
        "    ),\n",
        "    ATTRIBUTIONS_COMP AS (\n",
        "        SELECT * EXCEPT(top_feature_attributions),\n",
        "        FROM EXPLAIN_COMP\n",
        "        JOIN UNNEST(top_feature_attributions)\n",
        "    ),\n",
        "    PIVOT_ATTRIBUTION_COMP AS (\n",
        "        SELECT body_mass_g, sex, island, flipper_length_mm, culmen_depth_mm, culmen_length_mm\n",
        "        FROM ATTRIBUTIONS_COMP PIVOT(MAX(attribution) FOR feature IN ('body_mass_g', 'sex', 'island', 'flipper_length_mm', 'culmen_depth_mm', 'culmen_length_mm'))\n",
        "    )\n",
        "SELECT *\n",
        "FROM ML.VALIDATE_DATA_DRIFT(\n",
        "    TABLE PIVOT_ATTRIBUTION_BASE,\n",
        "    TABLE PIVOT_ATTRIBUTION_COMP\n",
        "    #, MODEL `statmike-mlops-349915.bqml_model_monitoring.classify_species_rf`\n",
        ");"
      ]
    },
    {
      "cell_type": "markdown",
      "metadata": {
        "id": "xyRC_eQCq1-s"
      },
      "source": [
        "---\n",
        "## Model Monitoring For Online Inference With Vertex AI\n",
        "\n",
        "The model trained above was trained using BigQuery ML's [`CREATE MODEL` statement](https://cloud.google.com/bigquery/docs/reference/standard-sql/bigqueryml-syntax-create) along with the training option `MODEL_REGISTRY = \"vertex_ai\"` which automatically registers the model in the [Vertex AI Model Registry](https://cloud.google.com/vertex-ai/docs/model-registry/introduction).  This means the BigQuery ML models can be managed directly in Vertex AI - [more information](https://cloud.google.com/bigquery/docs/managing-models-vertex).\n",
        "\n",
        "Models in the Vertex AI Model Registry can be used to [serve batch or online predictions](https://cloud.google.com/vertex-ai/docs/predictions/get-predictions).  In this section the [Vertex AI Python SDK](https://cloud.google.com/vertex-ai/docs/start/use-vertex-ai-python-sdk) is used to [deploy the model](https://cloud.google.com/vertex-ai/docs/general/deployment) created in this workflow and [get online predictions](https://cloud.google.com/vertex-ai/docs/predictions/get-online-predictions).\n",
        "\n",
        "The deployment of the model will include an extra setting to [setup logging of prediction request and responses to BigQuery](https://cloud.google.com/vertex-ai/docs/predictions/online-prediction-logging#enabling-and-disabling).  By logging the request and responses to BigQuery we can easily use the model monitoring functions covered in this tutorial."
      ]
    },
    {
      "cell_type": "markdown",
      "metadata": {
        "id": "ocSG3Ouiq1-s"
      },
      "source": [
        "### Setup Client"
      ]
    },
    {
      "cell_type": "code",
      "execution_count": 263,
      "metadata": {
        "tags": [],
        "id": "Un7BVWAAq1-s"
      },
      "outputs": [],
      "source": [
        "from google.cloud import aiplatform\n",
        "aiplatform.init(project = 'statmike-mlops-349915', location = 'us-central1')"
      ]
    },
    {
      "cell_type": "markdown",
      "metadata": {
        "id": "CU1fBdGlq1-s"
      },
      "source": [
        "### Get Model From Vertex AI Model Registry"
      ]
    },
    {
      "cell_type": "code",
      "execution_count": 264,
      "metadata": {
        "tags": [],
        "id": "p-XUaC1aq1-s"
      },
      "outputs": [
        {
          "data": {
            "text/plain": [
              "'projects/1026793852137/locations/us-central1/models/classify_species_rf@2'"
            ]
          },
          "execution_count": 264,
          "metadata": {},
          "output_type": "execute_result"
        }
      ],
      "source": [
        "model = aiplatform.Model(model_name = 'classify_species_rf')\n",
        "model.versioned_resource_name"
      ]
    },
    {
      "cell_type": "markdown",
      "metadata": {
        "id": "FDQoSjlcq1-s"
      },
      "source": [
        "### Deploy Model To Endpoint"
      ]
    },
    {
      "cell_type": "code",
      "execution_count": 265,
      "metadata": {
        "tags": [],
        "id": "_u4v7Jdlq1-s"
      },
      "outputs": [
        {
          "name": "stdout",
          "output_type": "stream",
          "text": [
            "Creating Endpoint\n",
            "Create Endpoint backing LRO: projects/1026793852137/locations/us-central1/endpoints/822158720157876224/operations/6356051423368577024\n",
            "Endpoint created. Resource name: projects/1026793852137/locations/us-central1/endpoints/822158720157876224\n",
            "To use this Endpoint in another session:\n",
            "endpoint = aiplatform.Endpoint('projects/1026793852137/locations/us-central1/endpoints/822158720157876224')\n",
            "Deploying model to Endpoint : projects/1026793852137/locations/us-central1/endpoints/822158720157876224\n",
            "Using default machine_type: n1-standard-2\n",
            "Deploy Endpoint model backing LRO: projects/1026793852137/locations/us-central1/endpoints/822158720157876224/operations/304339424089473024\n",
            "Endpoint model deployed. Resource name: projects/1026793852137/locations/us-central1/endpoints/822158720157876224\n"
          ]
        }
      ],
      "source": [
        "endpoint = model.deploy()"
      ]
    },
    {
      "cell_type": "code",
      "execution_count": 266,
      "metadata": {
        "tags": [],
        "id": "2q220Obuq1-s"
      },
      "outputs": [
        {
          "data": {
            "text/plain": [
              "'projects/1026793852137/locations/us-central1/endpoints/822158720157876224'"
            ]
          },
          "execution_count": 266,
          "metadata": {},
          "output_type": "execute_result"
        }
      ],
      "source": [
        "endpoint.resource_name"
      ]
    },
    {
      "cell_type": "markdown",
      "metadata": {
        "id": "qxTTbxJVq1-s"
      },
      "source": [
        "### Get Data For Predictions\n",
        "\n",
        "Get a sample of data from the serving table to use as online prediction requests."
      ]
    },
    {
      "cell_type": "code",
      "execution_count": 267,
      "metadata": {
        "tags": [],
        "id": "CUtT6-Ylq1-s"
      },
      "outputs": [
        {
          "data": {
            "application/vnd.jupyter.widget-view+json": {
              "model_id": "17f73e9c2966481aa95382e4e154be5a",
              "version_major": 2,
              "version_minor": 0
            },
            "text/plain": [
              "Query is running:   0%|          |"
            ]
          },
          "metadata": {},
          "output_type": "display_data"
        },
        {
          "data": {
            "application/vnd.jupyter.widget-view+json": {
              "model_id": "51335fed16214c1198e81b384d956690",
              "version_major": 2,
              "version_minor": 0
            },
            "text/plain": [
              "Downloading:   0%|          |"
            ]
          },
          "metadata": {},
          "output_type": "display_data"
        }
      ],
      "source": [
        "%%bigquery online\n",
        "SELECT * EXCEPT(species, instance_timestamp)\n",
        "FROM statmike-mlops-349915.bqml_model_monitoring.serving\n",
        "WHERE RAND() \u003c 0.1"
      ]
    },
    {
      "cell_type": "code",
      "execution_count": 268,
      "metadata": {
        "tags": [],
        "id": "ZOjmUiTaq1-s"
      },
      "outputs": [
        {
          "data": {
            "text/plain": [
              "{'island': 'Biscoe',\n",
              " 'culmen_length_mm': 46.2,\n",
              " 'culmen_depth_mm': 14.5,\n",
              " 'sex': 'FEMALE',\n",
              " 'flipper_length_mm': 266.497795903889,\n",
              " 'body_mass_g': 5729.719327284097}"
            ]
          },
          "execution_count": 268,
          "metadata": {},
          "output_type": "execute_result"
        }
      ],
      "source": [
        "import numpy as np\n",
        "online = online.dropna()\n",
        "online['sex'].replace(np.nan, '', inplace=True)\n",
        "online = online.to_dict(orient = 'records')\n",
        "online[0]"
      ]
    },
    {
      "cell_type": "markdown",
      "metadata": {
        "tags": [],
        "id": "CKNq1lOfq1-s"
      },
      "source": [
        "### Get Predictions"
      ]
    },
    {
      "cell_type": "code",
      "execution_count": 269,
      "metadata": {
        "tags": [],
        "id": "POEZe9Vuq1-s"
      },
      "outputs": [
        {
          "data": {
            "text/plain": [
              "Prediction(predictions=[{'species_probs': [0.8140458464622498, 0.09283263981342316, 0.09312155097723007], 'predicted_species': 'Gentoo penguin (Pygoscelis papua)', 'species_values': ['Gentoo penguin (Pygoscelis papua)', 'Chinstrap penguin (Pygoscelis antarctica)', 'Adelie Penguin (Pygoscelis adeliae)']}], deployed_model_id='455282476294602752', metadata=None, model_version_id='2', model_resource_name='projects/1026793852137/locations/us-central1/models/classify_species_rf', explanations=None)"
            ]
          },
          "execution_count": 269,
          "metadata": {},
          "output_type": "execute_result"
        }
      ],
      "source": [
        "endpoint.predict(instances = online[0:1])"
      ]
    },
    {
      "cell_type": "markdown",
      "metadata": {
        "id": "49sImN6hq1-s"
      },
      "source": [
        "### Enable Prediction request-response logging To BigQuery\n",
        "\n",
        "The endpoint can be enabled for logging both the request and response for predictions.  These logs are directed to a BigQuery table.  This is enable throught the `gcloud ai endpoints update` command - [reference](https://cloud.google.com/sdk/gcloud/reference/ai/endpoints/update)."
      ]
    },
    {
      "cell_type": "code",
      "execution_count": 270,
      "metadata": {
        "tags": [],
        "id": "B11AxqxGq1-s"
      },
      "outputs": [
        {
          "data": {
            "text/plain": [
              "'822158720157876224'"
            ]
          },
          "execution_count": 270,
          "metadata": {},
          "output_type": "execute_result"
        }
      ],
      "source": [
        "endpoint.name"
      ]
    },
    {
      "cell_type": "code",
      "execution_count": 271,
      "metadata": {
        "tags": [],
        "id": "47bG7P8Zq1-s"
      },
      "outputs": [
        {
          "name": "stdout",
          "output_type": "stream",
          "text": [
            "Using endpoint [https://us-central1-aiplatform.googleapis.com/]\n",
            "Updated Vertex AI endpoint [projects/1026793852137/locations/us-central1/endpoints/822158720157876224].\n"
          ]
        }
      ],
      "source": [
        "!gcloud ai endpoints update $endpoint.name \\\n",
        "--region=us-central1 \\\n",
        "--request-response-logging-table=bq://statmike-mlops-349915.bqml_model_monitoring.serving_online"
      ]
    },
    {
      "cell_type": "markdown",
      "metadata": {
        "id": "JbSKAFRCq1-s"
      },
      "source": [
        "### Send Prediction Requests To Endpoint\n",
        "\n",
        "These will get logged to the BigQuery table specified above."
      ]
    },
    {
      "cell_type": "code",
      "execution_count": 272,
      "metadata": {
        "tags": [],
        "id": "UbF2Vlqpq1-s"
      },
      "outputs": [],
      "source": [
        "for instance in online:\n",
        "    prediction = endpoint.predict(instances = [instance])"
      ]
    },
    {
      "cell_type": "code",
      "execution_count": 273,
      "metadata": {
        "tags": [],
        "id": "TVg6IdhLq1-s"
      },
      "outputs": [
        {
          "data": {
            "application/vnd.jupyter.widget-view+json": {
              "model_id": "bbbb3280a5e74c3e8fa94d2f0f6e995f",
              "version_major": 2,
              "version_minor": 0
            },
            "text/plain": [
              "Query is running:   0%|          |"
            ]
          },
          "metadata": {},
          "output_type": "display_data"
        },
        {
          "data": {
            "application/vnd.jupyter.widget-view+json": {
              "model_id": "898c3147b8a94f3baf56510784efc574",
              "version_major": 2,
              "version_minor": 0
            },
            "text/plain": [
              "Downloading:   0%|          |"
            ]
          },
          "metadata": {},
          "output_type": "display_data"
        },
        {
          "data": {
            "text/html": [
              "\u003cdiv\u003e\n",
              "\u003cstyle scoped\u003e\n",
              "    .dataframe tbody tr th:only-of-type {\n",
              "        vertical-align: middle;\n",
              "    }\n",
              "\n",
              "    .dataframe tbody tr th {\n",
              "        vertical-align: top;\n",
              "    }\n",
              "\n",
              "    .dataframe thead th {\n",
              "        text-align: right;\n",
              "    }\n",
              "\u003c/style\u003e\n",
              "\u003ctable border=\"1\" class=\"dataframe\"\u003e\n",
              "  \u003cthead\u003e\n",
              "    \u003ctr style=\"text-align: right;\"\u003e\n",
              "      \u003cth\u003e\u003c/th\u003e\n",
              "      \u003cth\u003eendpoint\u003c/th\u003e\n",
              "      \u003cth\u003edeployed_model_id\u003c/th\u003e\n",
              "      \u003cth\u003elogging_time\u003c/th\u003e\n",
              "      \u003cth\u003erequest_id\u003c/th\u003e\n",
              "      \u003cth\u003erequest_payload\u003c/th\u003e\n",
              "      \u003cth\u003eresponse_payload\u003c/th\u003e\n",
              "    \u003c/tr\u003e\n",
              "  \u003c/thead\u003e\n",
              "  \u003ctbody\u003e\n",
              "    \u003ctr\u003e\n",
              "      \u003cth\u003e0\u003c/th\u003e\n",
              "      \u003ctd\u003eprojects/1026793852137/locations/us-central1/endpoints/822158720157876224\u003c/td\u003e\n",
              "      \u003ctd\u003e455282476294602752\u003c/td\u003e\n",
              "      \u003ctd\u003e2025-04-04 11:17:22.686327+00:00\u003c/td\u003e\n",
              "      \u003ctd\u003e3168270330478093842.000000000\u003c/td\u003e\n",
              "      \u003ctd\u003e[{\"island\":\"Dream\",\"flipper_length_mm\":243.09741317391627,\"sex\":\"FEMALE\",\"culmen_depth_mm\":16.6,\"culmen_length_mm\":46.9,\"body_mass_g\":3667.2703271198634}]\u003c/td\u003e\n",
              "      \u003ctd\u003e[{\"predicted_species\":\"Chinstrap penguin (Pygoscelis antarctica)\",\"species_probs\":[0.3074018657207489,0.58729588985443115,0.1053022444248199],\"species_values\":[\"Gentoo penguin (Pygoscelis papua)\",\"Chinstrap penguin (Pygoscelis antarctica)\",\"Adelie Penguin (Pygoscelis adeliae)\"]}]\u003c/td\u003e\n",
              "    \u003c/tr\u003e\n",
              "    \u003ctr\u003e\n",
              "      \u003cth\u003e1\u003c/th\u003e\n",
              "      \u003ctd\u003eprojects/1026793852137/locations/us-central1/endpoints/822158720157876224\u003c/td\u003e\n",
              "      \u003ctd\u003e455282476294602752\u003c/td\u003e\n",
              "      \u003ctd\u003e2025-04-04 11:17:25.778920+00:00\u003c/td\u003e\n",
              "      \u003ctd\u003e4893201679555529950.000000000\u003c/td\u003e\n",
              "      \u003ctd\u003e[{\"culmen_depth_mm\":18.8,\"sex\":\"MALE\",\"culmen_length_mm\":40.6,\"body_mass_g\":4910.4824661230305,\"flipper_length_mm\":269.42434089218892,\"island\":\"Biscoe\"}]\u003c/td\u003e\n",
              "      \u003ctd\u003e[{\"predicted_species\":\"Adelie Penguin (Pygoscelis adeliae)\",\"species_probs\":[0.33490118384361273,0.150854766368866,0.514244019985199],\"species_values\":[\"Gentoo penguin (Pygoscelis papua)\",\"Chinstrap penguin (Pygoscelis antarctica)\",\"Adelie Penguin (Pygoscelis adeliae)\"]}]\u003c/td\u003e\n",
              "    \u003c/tr\u003e\n",
              "    \u003ctr\u003e\n",
              "      \u003cth\u003e2\u003c/th\u003e\n",
              "      \u003ctd\u003eprojects/1026793852137/locations/us-central1/endpoints/822158720157876224\u003c/td\u003e\n",
              "      \u003ctd\u003e455282476294602752\u003c/td\u003e\n",
              "      \u003ctd\u003e2025-04-04 11:17:25.808563+00:00\u003c/td\u003e\n",
              "      \u003ctd\u003e8109844857986070073.000000000\u003c/td\u003e\n",
              "      \u003ctd\u003e[{\"flipper_length_mm\":252.66509680144432,\"culmen_length_mm\":49.8,\"culmen_depth_mm\":17.3,\"body_mass_g\":4492.0576221666761,\"island\":\"Dream\",\"sex\":\"FEMALE\"}]\u003c/td\u003e\n",
              "      \u003ctd\u003e[{\"predicted_species\":\"Chinstrap penguin (Pygoscelis antarctica)\",\"species_probs\":[0.38663139939308172,0.49325951933860779,0.1201090589165688],\"species_values\":[\"Gentoo penguin (Pygoscelis papua)\",\"Chinstrap penguin (Pygoscelis antarctica)\",\"Adelie Penguin (Pygoscelis adeliae)\"]}]\u003c/td\u003e\n",
              "    \u003c/tr\u003e\n",
              "    \u003ctr\u003e\n",
              "      \u003cth\u003e3\u003c/th\u003e\n",
              "      \u003ctd\u003eprojects/1026793852137/locations/us-central1/endpoints/822158720157876224\u003c/td\u003e\n",
              "      \u003ctd\u003e455282476294602752\u003c/td\u003e\n",
              "      \u003ctd\u003e2025-04-04 11:17:25.882834+00:00\u003c/td\u003e\n",
              "      \u003ctd\u003e4267801821888245034.000000000\u003c/td\u003e\n",
              "      \u003ctd\u003e[{\"culmen_depth_mm\":19,\"culmen_length_mm\":38.7,\"sex\":\"FEMALE\",\"island\":\"Torgersen\",\"flipper_length_mm\":216.26468620750893,\"body_mass_g\":3891.0719247429224}]\u003c/td\u003e\n",
              "      \u003ctd\u003e[{\"predicted_species\":\"Adelie Penguin (Pygoscelis adeliae)\",\"species_probs\":[0.22473643720149991,0.14322459697723389,0.632038950920105],\"species_values\":[\"Gentoo penguin (Pygoscelis papua)\",\"Chinstrap penguin (Pygoscelis antarctica)\",\"Adelie Penguin (Pygoscelis adeliae)\"]}]\u003c/td\u003e\n",
              "    \u003c/tr\u003e\n",
              "    \u003ctr\u003e\n",
              "      \u003cth\u003e4\u003c/th\u003e\n",
              "      \u003ctd\u003eprojects/1026793852137/locations/us-central1/endpoints/822158720157876224\u003c/td\u003e\n",
              "      \u003ctd\u003e455282476294602752\u003c/td\u003e\n",
              "      \u003ctd\u003e2025-04-04 11:17:26.133604+00:00\u003c/td\u003e\n",
              "      \u003ctd\u003e1389273157619785037.000000000\u003c/td\u003e\n",
              "      \u003ctd\u003e[{\"island\":\"Dream\",\"flipper_length_mm\":209.12614034056205,\"culmen_depth_mm\":16.8,\"sex\":\"FEMALE\",\"body_mass_g\":4115.3868919517809,\"culmen_length_mm\":47.5}]\u003c/td\u003e\n",
              "      \u003ctd\u003e[{\"predicted_species\":\"Chinstrap penguin (Pygoscelis antarctica)\",\"species_probs\":[0.1126966625452042,0.76161128282547,0.1256920397281647],\"species_values\":[\"Gentoo penguin (Pygoscelis papua)\",\"Chinstrap penguin (Pygoscelis antarctica)\",\"Adelie Penguin (Pygoscelis adeliae)\"]}]\u003c/td\u003e\n",
              "    \u003c/tr\u003e\n",
              "  \u003c/tbody\u003e\n",
              "\u003c/table\u003e\n",
              "\u003c/div\u003e"
            ],
            "text/plain": [
              "                                                                    endpoint  \\\n",
              "0  projects/1026793852137/locations/us-central1/endpoints/822158720157876224   \n",
              "1  projects/1026793852137/locations/us-central1/endpoints/822158720157876224   \n",
              "2  projects/1026793852137/locations/us-central1/endpoints/822158720157876224   \n",
              "3  projects/1026793852137/locations/us-central1/endpoints/822158720157876224   \n",
              "4  projects/1026793852137/locations/us-central1/endpoints/822158720157876224   \n",
              "\n",
              "    deployed_model_id                     logging_time  \\\n",
              "0  455282476294602752 2025-04-04 11:17:22.686327+00:00   \n",
              "1  455282476294602752 2025-04-04 11:17:25.778920+00:00   \n",
              "2  455282476294602752 2025-04-04 11:17:25.808563+00:00   \n",
              "3  455282476294602752 2025-04-04 11:17:25.882834+00:00   \n",
              "4  455282476294602752 2025-04-04 11:17:26.133604+00:00   \n",
              "\n",
              "                      request_id  \\\n",
              "0  3168270330478093842.000000000   \n",
              "1  4893201679555529950.000000000   \n",
              "2  8109844857986070073.000000000   \n",
              "3  4267801821888245034.000000000   \n",
              "4  1389273157619785037.000000000   \n",
              "\n",
              "                                                                                                                                                request_payload  \\\n",
              "0    [{\"island\":\"Dream\",\"flipper_length_mm\":243.09741317391627,\"sex\":\"FEMALE\",\"culmen_depth_mm\":16.6,\"culmen_length_mm\":46.9,\"body_mass_g\":3667.2703271198634}]   \n",
              "1     [{\"culmen_depth_mm\":18.8,\"sex\":\"MALE\",\"culmen_length_mm\":40.6,\"body_mass_g\":4910.4824661230305,\"flipper_length_mm\":269.42434089218892,\"island\":\"Biscoe\"}]   \n",
              "2    [{\"flipper_length_mm\":252.66509680144432,\"culmen_length_mm\":49.8,\"culmen_depth_mm\":17.3,\"body_mass_g\":4492.0576221666761,\"island\":\"Dream\",\"sex\":\"FEMALE\"}]   \n",
              "3  [{\"culmen_depth_mm\":19,\"culmen_length_mm\":38.7,\"sex\":\"FEMALE\",\"island\":\"Torgersen\",\"flipper_length_mm\":216.26468620750893,\"body_mass_g\":3891.0719247429224}]   \n",
              "4    [{\"island\":\"Dream\",\"flipper_length_mm\":209.12614034056205,\"culmen_depth_mm\":16.8,\"sex\":\"FEMALE\",\"body_mass_g\":4115.3868919517809,\"culmen_length_mm\":47.5}]   \n",
              "\n",
              "                                                                                                                                                                                                                                                                            response_payload  \n",
              "0   [{\"predicted_species\":\"Chinstrap penguin (Pygoscelis antarctica)\",\"species_probs\":[0.3074018657207489,0.58729588985443115,0.1053022444248199],\"species_values\":[\"Gentoo penguin (Pygoscelis papua)\",\"Chinstrap penguin (Pygoscelis antarctica)\",\"Adelie Penguin (Pygoscelis adeliae)\"]}]  \n",
              "1           [{\"predicted_species\":\"Adelie Penguin (Pygoscelis adeliae)\",\"species_probs\":[0.33490118384361273,0.150854766368866,0.514244019985199],\"species_values\":[\"Gentoo penguin (Pygoscelis papua)\",\"Chinstrap penguin (Pygoscelis antarctica)\",\"Adelie Penguin (Pygoscelis adeliae)\"]}]  \n",
              "2  [{\"predicted_species\":\"Chinstrap penguin (Pygoscelis antarctica)\",\"species_probs\":[0.38663139939308172,0.49325951933860779,0.1201090589165688],\"species_values\":[\"Gentoo penguin (Pygoscelis papua)\",\"Chinstrap penguin (Pygoscelis antarctica)\",\"Adelie Penguin (Pygoscelis adeliae)\"]}]  \n",
              "3         [{\"predicted_species\":\"Adelie Penguin (Pygoscelis adeliae)\",\"species_probs\":[0.22473643720149991,0.14322459697723389,0.632038950920105],\"species_values\":[\"Gentoo penguin (Pygoscelis papua)\",\"Chinstrap penguin (Pygoscelis antarctica)\",\"Adelie Penguin (Pygoscelis adeliae)\"]}]  \n",
              "4      [{\"predicted_species\":\"Chinstrap penguin (Pygoscelis antarctica)\",\"species_probs\":[0.1126966625452042,0.76161128282547,0.1256920397281647],\"species_values\":[\"Gentoo penguin (Pygoscelis papua)\",\"Chinstrap penguin (Pygoscelis antarctica)\",\"Adelie Penguin (Pygoscelis adeliae)\"]}]  "
            ]
          },
          "execution_count": 273,
          "metadata": {},
          "output_type": "execute_result"
        }
      ],
      "source": [
        "%%bigquery\n",
        "SELECT *\n",
        "FROM `statmike-mlops-349915.bqml_model_monitoring.serving_online`\n",
        "LIMIT 5"
      ]
    },
    {
      "cell_type": "markdown",
      "metadata": {
        "id": "FYxQ6KQvq1-s"
      },
      "source": [
        "### Create A View Of All Serving Data\n",
        "\n",
        "Combine the batch serving data with the online serving data in a view."
      ]
    },
    {
      "cell_type": "code",
      "execution_count": 274,
      "metadata": {
        "tags": [],
        "id": "_Y6GoGa6q1-s"
      },
      "outputs": [
        {
          "data": {
            "application/vnd.jupyter.widget-view+json": {
              "model_id": "e3e2b5e79cd94de5a0f15cacfe42efba",
              "version_major": 2,
              "version_minor": 0
            },
            "text/plain": [
              "Query is running:   0%|          |"
            ]
          },
          "metadata": {},
          "output_type": "display_data"
        },
        {
          "data": {
            "application/vnd.jupyter.widget-view+json": {
              "model_id": "05007c804d66481ca8a1b45470f76fe3",
              "version_major": 2,
              "version_minor": 0
            },
            "text/plain": [
              "Downloading:   0%|          |"
            ]
          },
          "metadata": {},
          "output_type": "display_data"
        },
        {
          "data": {
            "text/html": [
              "\u003cdiv\u003e\n",
              "\u003cstyle scoped\u003e\n",
              "    .dataframe tbody tr th:only-of-type {\n",
              "        vertical-align: middle;\n",
              "    }\n",
              "\n",
              "    .dataframe tbody tr th {\n",
              "        vertical-align: top;\n",
              "    }\n",
              "\n",
              "    .dataframe thead th {\n",
              "        text-align: right;\n",
              "    }\n",
              "\u003c/style\u003e\n",
              "\u003ctable border=\"1\" class=\"dataframe\"\u003e\n",
              "  \u003cthead\u003e\n",
              "    \u003ctr style=\"text-align: right;\"\u003e\n",
              "      \u003cth\u003e\u003c/th\u003e\n",
              "      \u003cth\u003einstance_timestamp\u003c/th\u003e\n",
              "      \u003cth\u003eisland\u003c/th\u003e\n",
              "      \u003cth\u003esex\u003c/th\u003e\n",
              "      \u003cth\u003eflipper_length_mm\u003c/th\u003e\n",
              "      \u003cth\u003ebody_mass_g\u003c/th\u003e\n",
              "      \u003cth\u003eculmen_length_mm\u003c/th\u003e\n",
              "      \u003cth\u003eculmen_depth_mm\u003c/th\u003e\n",
              "    \u003c/tr\u003e\n",
              "  \u003c/thead\u003e\n",
              "  \u003ctbody\u003e\n",
              "    \u003ctr\u003e\n",
              "      \u003cth\u003e0\u003c/th\u003e\n",
              "      \u003ctd\u003e2025-04-04 11:17:22.686327+00:00\u003c/td\u003e\n",
              "      \u003ctd\u003eDream\u003c/td\u003e\n",
              "      \u003ctd\u003eFEMALE\u003c/td\u003e\n",
              "      \u003ctd\u003e243.097413\u003c/td\u003e\n",
              "      \u003ctd\u003e3667.270327\u003c/td\u003e\n",
              "      \u003ctd\u003e46.9\u003c/td\u003e\n",
              "      \u003ctd\u003e16.6\u003c/td\u003e\n",
              "    \u003c/tr\u003e\n",
              "    \u003ctr\u003e\n",
              "      \u003cth\u003e1\u003c/th\u003e\n",
              "      \u003ctd\u003e2025-04-04 11:17:25.778920+00:00\u003c/td\u003e\n",
              "      \u003ctd\u003eBiscoe\u003c/td\u003e\n",
              "      \u003ctd\u003eMALE\u003c/td\u003e\n",
              "      \u003ctd\u003e269.424341\u003c/td\u003e\n",
              "      \u003ctd\u003e4910.482466\u003c/td\u003e\n",
              "      \u003ctd\u003e40.6\u003c/td\u003e\n",
              "      \u003ctd\u003e18.8\u003c/td\u003e\n",
              "    \u003c/tr\u003e\n",
              "    \u003ctr\u003e\n",
              "      \u003cth\u003e2\u003c/th\u003e\n",
              "      \u003ctd\u003e2025-04-04 11:17:25.808563+00:00\u003c/td\u003e\n",
              "      \u003ctd\u003eDream\u003c/td\u003e\n",
              "      \u003ctd\u003eFEMALE\u003c/td\u003e\n",
              "      \u003ctd\u003e252.665097\u003c/td\u003e\n",
              "      \u003ctd\u003e4492.057622\u003c/td\u003e\n",
              "      \u003ctd\u003e49.8\u003c/td\u003e\n",
              "      \u003ctd\u003e17.3\u003c/td\u003e\n",
              "    \u003c/tr\u003e\n",
              "    \u003ctr\u003e\n",
              "      \u003cth\u003e3\u003c/th\u003e\n",
              "      \u003ctd\u003e2025-04-04 11:17:25.882834+00:00\u003c/td\u003e\n",
              "      \u003ctd\u003eTorgersen\u003c/td\u003e\n",
              "      \u003ctd\u003eFEMALE\u003c/td\u003e\n",
              "      \u003ctd\u003e216.264686\u003c/td\u003e\n",
              "      \u003ctd\u003e3891.071925\u003c/td\u003e\n",
              "      \u003ctd\u003e38.7\u003c/td\u003e\n",
              "      \u003ctd\u003e19.0\u003c/td\u003e\n",
              "    \u003c/tr\u003e\n",
              "    \u003ctr\u003e\n",
              "      \u003cth\u003e4\u003c/th\u003e\n",
              "      \u003ctd\u003e2025-04-04 11:17:26.133604+00:00\u003c/td\u003e\n",
              "      \u003ctd\u003eDream\u003c/td\u003e\n",
              "      \u003ctd\u003eFEMALE\u003c/td\u003e\n",
              "      \u003ctd\u003e209.126140\u003c/td\u003e\n",
              "      \u003ctd\u003e4115.386892\u003c/td\u003e\n",
              "      \u003ctd\u003e47.5\u003c/td\u003e\n",
              "      \u003ctd\u003e16.8\u003c/td\u003e\n",
              "    \u003c/tr\u003e\n",
              "  \u003c/tbody\u003e\n",
              "\u003c/table\u003e\n",
              "\u003c/div\u003e"
            ],
            "text/plain": [
              "                instance_timestamp     island     sex  flipper_length_mm  \\\n",
              "0 2025-04-04 11:17:22.686327+00:00      Dream  FEMALE         243.097413   \n",
              "1 2025-04-04 11:17:25.778920+00:00     Biscoe    MALE         269.424341   \n",
              "2 2025-04-04 11:17:25.808563+00:00      Dream  FEMALE         252.665097   \n",
              "3 2025-04-04 11:17:25.882834+00:00  Torgersen  FEMALE         216.264686   \n",
              "4 2025-04-04 11:17:26.133604+00:00      Dream  FEMALE         209.126140   \n",
              "\n",
              "   body_mass_g  culmen_length_mm  culmen_depth_mm  \n",
              "0  3667.270327              46.9             16.6  \n",
              "1  4910.482466              40.6             18.8  \n",
              "2  4492.057622              49.8             17.3  \n",
              "3  3891.071925              38.7             19.0  \n",
              "4  4115.386892              47.5             16.8  "
            ]
          },
          "execution_count": 274,
          "metadata": {},
          "output_type": "execute_result"
        }
      ],
      "source": [
        "%%bigquery\n",
        "SELECT\n",
        "    logging_time as instance_timestamp,\n",
        "    JSON_VALUE(request, \"$.island\") as island,\n",
        "    JSON_VALUE(request, \"$.sex\") as sex,\n",
        "    CAST(JSON_VALUE(request, \"$.flipper_length_mm\") AS FLOAT64) as flipper_length_mm,\n",
        "    CAST(JSON_VALUE(request, \"$.body_mass_g\") AS FLOAT64) as body_mass_g,\n",
        "    CAST(JSON_VALUE(request, \"$.culmen_length_mm\") AS FLOAT64) as culmen_length_mm,\n",
        "    CAST(JSON_VALUE(request, \"$.culmen_depth_mm\") AS FLOAT64) as culmen_depth_mm\n",
        "FROM `statmike-mlops-349915.bqml_model_monitoring.serving_online`,\n",
        "UNNEST(request_payload) as request\n",
        "LIMIT 5"
      ]
    },
    {
      "cell_type": "code",
      "execution_count": 275,
      "metadata": {
        "tags": [],
        "id": "jEtMaqisq1-s"
      },
      "outputs": [
        {
          "data": {
            "application/vnd.jupyter.widget-view+json": {
              "model_id": "c500b7f5a2214b578fbbcf1a9c8d110f",
              "version_major": 2,
              "version_minor": 0
            },
            "text/plain": [
              "Query is running:   0%|          |"
            ]
          },
          "metadata": {},
          "output_type": "display_data"
        },
        {
          "data": {
            "text/html": [
              "\u003cdiv\u003e\n",
              "\u003cstyle scoped\u003e\n",
              "    .dataframe tbody tr th:only-of-type {\n",
              "        vertical-align: middle;\n",
              "    }\n",
              "\n",
              "    .dataframe tbody tr th {\n",
              "        vertical-align: top;\n",
              "    }\n",
              "\n",
              "    .dataframe thead th {\n",
              "        text-align: right;\n",
              "    }\n",
              "\u003c/style\u003e\n",
              "\u003ctable border=\"1\" class=\"dataframe\"\u003e\n",
              "  \u003cthead\u003e\n",
              "    \u003ctr style=\"text-align: right;\"\u003e\n",
              "      \u003cth\u003e\u003c/th\u003e\n",
              "    \u003c/tr\u003e\n",
              "  \u003c/thead\u003e\n",
              "  \u003ctbody\u003e\n",
              "  \u003c/tbody\u003e\n",
              "\u003c/table\u003e\n",
              "\u003c/div\u003e"
            ],
            "text/plain": [
              "Empty DataFrame\n",
              "Columns: []\n",
              "Index: []"
            ]
          },
          "execution_count": 275,
          "metadata": {},
          "output_type": "execute_result"
        }
      ],
      "source": [
        "%%bigquery\n",
        "CREATE OR REPLACE VIEW `statmike-mlops-349915.bqml_model_monitoring.serving_all` AS\n",
        "WITH\n",
        "    BATCH AS (\n",
        "        SELECT instance_timestamp, island, sex, flipper_length_mm, body_mass_g, culmen_length_mm, culmen_depth_mm\n",
        "        FROM `statmike-mlops-349915.bqml_model_monitoring.serving`\n",
        "    ),\n",
        "    ONLINE AS (\n",
        "        SELECT\n",
        "            logging_time as instance_timestamp,\n",
        "            JSON_VALUE(request, \"$.island\") as island,\n",
        "            JSON_VALUE(request, \"$.sex\") as sex,\n",
        "            CAST(JSON_VALUE(request, \"$.flipper_length_mm\") AS FLOAT64) as flipper_length_mm,\n",
        "            CAST(JSON_VALUE(request, \"$.body_mass_g\") AS FLOAT64) as body_mass_g,\n",
        "            CAST(JSON_VALUE(request, \"$.culmen_length_mm\") AS FLOAT64) as culmen_length_mm,\n",
        "            CAST(JSON_VALUE(request, \"$.culmen_depth_mm\") AS FLOAT64) as culmen_depth_mm\n",
        "        FROM `statmike-mlops-349915.bqml_model_monitoring.serving_online`,\n",
        "        UNNEST(request_payload) as request\n",
        "    )\n",
        "SELECT * FROM BATCH\n",
        "UNION ALL\n",
        "SELECT * FROM ONLINE\n"
      ]
    },
    {
      "cell_type": "markdown",
      "metadata": {
        "id": "IIxp02Xwq1-s"
      },
      "source": [
        "### Monitoring Skew (Change from training) With `ML.VALIDATE_DATA_SKEW`\n",
        "\n",
        "Compare today, or any data, to the training data by directly comparing to the the model created in BigQuery."
      ]
    },
    {
      "cell_type": "code",
      "execution_count": 276,
      "metadata": {
        "tags": [],
        "id": "i5bHis7iq1-s"
      },
      "outputs": [
        {
          "data": {
            "application/vnd.jupyter.widget-view+json": {
              "model_id": "a0171d96b0884f05817140ce24138a1d",
              "version_major": 2,
              "version_minor": 0
            },
            "text/plain": [
              "Query is running:   0%|          |"
            ]
          },
          "metadata": {},
          "output_type": "display_data"
        },
        {
          "data": {
            "application/vnd.jupyter.widget-view+json": {
              "model_id": "49f1a28d7dae4c4b825cd32ca7b388d1",
              "version_major": 2,
              "version_minor": 0
            },
            "text/plain": [
              "Downloading:   0%|          |"
            ]
          },
          "metadata": {},
          "output_type": "display_data"
        }
      ],
      "source": [
        "%%bigquery c_skew\n",
        "SELECT *\n",
        "FROM ML.VALIDATE_DATA_SKEW(\n",
        "    MODEL `statmike-mlops-349915.bqml_model_monitoring.classify_species_rf`,\n",
        "    (\n",
        "        SELECT *\n",
        "        FROM `statmike-mlops-349915.bqml_model_monitoring.serving_all`\n",
        "        WHERE DATE(instance_timestamp) \u003e= CURRENT_DATE()\n",
        "    )\n",
        "    ,STRUCT(TRUE AS enable_visualization_link)\n",
        ");"
      ]
    },
    {
      "cell_type": "code",
      "execution_count": 277,
      "metadata": {
        "tags": [],
        "id": "A6WPyh5oq1-s"
      },
      "outputs": [
        {
          "data": {
            "text/html": [
              "\u003cdiv\u003e\n",
              "\u003cstyle scoped\u003e\n",
              "    .dataframe tbody tr th:only-of-type {\n",
              "        vertical-align: middle;\n",
              "    }\n",
              "\n",
              "    .dataframe tbody tr th {\n",
              "        vertical-align: top;\n",
              "    }\n",
              "\n",
              "    .dataframe thead th {\n",
              "        text-align: right;\n",
              "    }\n",
              "\u003c/style\u003e\n",
              "\u003ctable border=\"1\" class=\"dataframe\"\u003e\n",
              "  \u003cthead\u003e\n",
              "    \u003ctr style=\"text-align: right;\"\u003e\n",
              "      \u003cth\u003e\u003c/th\u003e\n",
              "      \u003cth\u003einput\u003c/th\u003e\n",
              "      \u003cth\u003emetric\u003c/th\u003e\n",
              "      \u003cth\u003ethreshold\u003c/th\u003e\n",
              "      \u003cth\u003evalue\u003c/th\u003e\n",
              "      \u003cth\u003eis_anomaly\u003c/th\u003e\n",
              "      \u003cth\u003evisualization_link\u003c/th\u003e\n",
              "    \u003c/tr\u003e\n",
              "  \u003c/thead\u003e\n",
              "  \u003ctbody\u003e\n",
              "    \u003ctr\u003e\n",
              "      \u003cth\u003e0\u003c/th\u003e\n",
              "      \u003ctd\u003ebody_mass_g\u003c/td\u003e\n",
              "      \u003ctd\u003eJENSEN_SHANNON_DIVERGENCE\u003c/td\u003e\n",
              "      \u003ctd\u003e0.3\u003c/td\u003e\n",
              "      \u003ctd\u003e0.123717\u003c/td\u003e\n",
              "      \u003ctd\u003eFalse\u003c/td\u003e\n",
              "      \u003ctd\u003ehttps://console.cloud.google.com/vertex-ai/model-monitoring/locations/us-central1/model-monitors/bq396260862588505937/model-monitoring-jobs/bqjob2721358214364961700/feature-drift?project=statmike-mlops-349915\u0026amp;featureName=body_mass_g\u003c/td\u003e\n",
              "    \u003c/tr\u003e\n",
              "    \u003ctr\u003e\n",
              "      \u003cth\u003e1\u003c/th\u003e\n",
              "      \u003ctd\u003eculmen_depth_mm\u003c/td\u003e\n",
              "      \u003ctd\u003eJENSEN_SHANNON_DIVERGENCE\u003c/td\u003e\n",
              "      \u003ctd\u003e0.3\u003c/td\u003e\n",
              "      \u003ctd\u003e0.033214\u003c/td\u003e\n",
              "      \u003ctd\u003eFalse\u003c/td\u003e\n",
              "      \u003ctd\u003ehttps://console.cloud.google.com/vertex-ai/model-monitoring/locations/us-central1/model-monitors/bq396260862588505937/model-monitoring-jobs/bqjob2721358214364961700/feature-drift?project=statmike-mlops-349915\u0026amp;featureName=culmen_depth_mm\u003c/td\u003e\n",
              "    \u003c/tr\u003e\n",
              "    \u003ctr\u003e\n",
              "      \u003cth\u003e2\u003c/th\u003e\n",
              "      \u003ctd\u003eculmen_length_mm\u003c/td\u003e\n",
              "      \u003ctd\u003eJENSEN_SHANNON_DIVERGENCE\u003c/td\u003e\n",
              "      \u003ctd\u003e0.3\u003c/td\u003e\n",
              "      \u003ctd\u003e0.034129\u003c/td\u003e\n",
              "      \u003ctd\u003eFalse\u003c/td\u003e\n",
              "      \u003ctd\u003ehttps://console.cloud.google.com/vertex-ai/model-monitoring/locations/us-central1/model-monitors/bq396260862588505937/model-monitoring-jobs/bqjob2721358214364961700/feature-drift?project=statmike-mlops-349915\u0026amp;featureName=culmen_length_mm\u003c/td\u003e\n",
              "    \u003c/tr\u003e\n",
              "    \u003ctr\u003e\n",
              "      \u003cth\u003e3\u003c/th\u003e\n",
              "      \u003ctd\u003eflipper_length_mm\u003c/td\u003e\n",
              "      \u003ctd\u003eJENSEN_SHANNON_DIVERGENCE\u003c/td\u003e\n",
              "      \u003ctd\u003e0.3\u003c/td\u003e\n",
              "      \u003ctd\u003e0.510171\u003c/td\u003e\n",
              "      \u003ctd\u003eTrue\u003c/td\u003e\n",
              "      \u003ctd\u003ehttps://console.cloud.google.com/vertex-ai/model-monitoring/locations/us-central1/model-monitors/bq396260862588505937/model-monitoring-jobs/bqjob2721358214364961700/feature-drift?project=statmike-mlops-349915\u0026amp;featureName=flipper_length_mm\u003c/td\u003e\n",
              "    \u003c/tr\u003e\n",
              "    \u003ctr\u003e\n",
              "      \u003cth\u003e4\u003c/th\u003e\n",
              "      \u003ctd\u003eisland\u003c/td\u003e\n",
              "      \u003ctd\u003eL_INFTY\u003c/td\u003e\n",
              "      \u003ctd\u003e0.3\u003c/td\u003e\n",
              "      \u003ctd\u003e0.119592\u003c/td\u003e\n",
              "      \u003ctd\u003eFalse\u003c/td\u003e\n",
              "      \u003ctd\u003ehttps://console.cloud.google.com/vertex-ai/model-monitoring/locations/us-central1/model-monitors/bq396260862588505937/model-monitoring-jobs/bqjob2721358214364961700/feature-drift?project=statmike-mlops-349915\u0026amp;featureName=island\u003c/td\u003e\n",
              "    \u003c/tr\u003e\n",
              "    \u003ctr\u003e\n",
              "      \u003cth\u003e5\u003c/th\u003e\n",
              "      \u003ctd\u003esex\u003c/td\u003e\n",
              "      \u003ctd\u003eL_INFTY\u003c/td\u003e\n",
              "      \u003ctd\u003e0.3\u003c/td\u003e\n",
              "      \u003ctd\u003e0.019481\u003c/td\u003e\n",
              "      \u003ctd\u003eFalse\u003c/td\u003e\n",
              "      \u003ctd\u003ehttps://console.cloud.google.com/vertex-ai/model-monitoring/locations/us-central1/model-monitors/bq396260862588505937/model-monitoring-jobs/bqjob2721358214364961700/feature-drift?project=statmike-mlops-349915\u0026amp;featureName=sex\u003c/td\u003e\n",
              "    \u003c/tr\u003e\n",
              "  \u003c/tbody\u003e\n",
              "\u003c/table\u003e\n",
              "\u003c/div\u003e"
            ],
            "text/plain": [
              "               input                     metric  threshold     value  \\\n",
              "0        body_mass_g  JENSEN_SHANNON_DIVERGENCE        0.3  0.123717   \n",
              "1    culmen_depth_mm  JENSEN_SHANNON_DIVERGENCE        0.3  0.033214   \n",
              "2   culmen_length_mm  JENSEN_SHANNON_DIVERGENCE        0.3  0.034129   \n",
              "3  flipper_length_mm  JENSEN_SHANNON_DIVERGENCE        0.3  0.510171   \n",
              "4             island                    L_INFTY        0.3  0.119592   \n",
              "5                sex                    L_INFTY        0.3  0.019481   \n",
              "\n",
              "   is_anomaly  \\\n",
              "0       False   \n",
              "1       False   \n",
              "2       False   \n",
              "3        True   \n",
              "4       False   \n",
              "5       False   \n",
              "\n",
              "                                                                                                                                                                                                                               visualization_link  \n",
              "0        https://console.cloud.google.com/vertex-ai/model-monitoring/locations/us-central1/model-monitors/bq396260862588505937/model-monitoring-jobs/bqjob2721358214364961700/feature-drift?project=statmike-mlops-349915\u0026featureName=body_mass_g  \n",
              "1    https://console.cloud.google.com/vertex-ai/model-monitoring/locations/us-central1/model-monitors/bq396260862588505937/model-monitoring-jobs/bqjob2721358214364961700/feature-drift?project=statmike-mlops-349915\u0026featureName=culmen_depth_mm  \n",
              "2   https://console.cloud.google.com/vertex-ai/model-monitoring/locations/us-central1/model-monitors/bq396260862588505937/model-monitoring-jobs/bqjob2721358214364961700/feature-drift?project=statmike-mlops-349915\u0026featureName=culmen_length_mm  \n",
              "3  https://console.cloud.google.com/vertex-ai/model-monitoring/locations/us-central1/model-monitors/bq396260862588505937/model-monitoring-jobs/bqjob2721358214364961700/feature-drift?project=statmike-mlops-349915\u0026featureName=flipper_length_mm  \n",
              "4             https://console.cloud.google.com/vertex-ai/model-monitoring/locations/us-central1/model-monitors/bq396260862588505937/model-monitoring-jobs/bqjob2721358214364961700/feature-drift?project=statmike-mlops-349915\u0026featureName=island  \n",
              "5                https://console.cloud.google.com/vertex-ai/model-monitoring/locations/us-central1/model-monitors/bq396260862588505937/model-monitoring-jobs/bqjob2721358214364961700/feature-drift?project=statmike-mlops-349915\u0026featureName=sex  "
            ]
          },
          "execution_count": 277,
          "metadata": {},
          "output_type": "execute_result"
        }
      ],
      "source": [
        "c_skew"
      ]
    },
    {
      "cell_type": "code",
      "execution_count": 278,
      "metadata": {
        "tags": [],
        "id": "G77Y9Ky-q1-s"
      },
      "outputs": [
        {
          "data": {
            "text/html": [
              "\u003ca href=\"https://console.cloud.google.com/vertex-ai/model-monitoring/locations/us-central1/model-monitors/bq396260862588505937/model-monitoring-jobs/bqjob2721358214364961700/feature-drift?project=statmike-mlops-349915\u0026featureName=body_mass_g\" target=\"_blank\" style=\"font-size: 18px;\"\u003eOpen Google Cloud Console in a new tab\u003c/a\u003e"
            ],
            "text/plain": [
              "\u003cIPython.core.display.HTML object\u003e"
            ]
          },
          "metadata": {},
          "output_type": "display_data"
        }
      ],
      "source": [
        "display(HTML(f'\u003ca href=\"{c_skew.visualization_link[0]}\" target=\"_blank\" style=\"font-size: 18px;\"\u003eOpen Google Cloud Console in a new tab\u003c/a\u003e'))"
      ]
    },
    {
      "cell_type": "markdown",
      "metadata": {
        "id": "tdAIGSCpq1-s"
      },
      "source": [
        "### Monitoring Drift (Change Over Time) With `ML.VALIDATE_DATA_DRIFT`\n",
        "\n",
        "Compare today to 5 days ago and set the a lower, more sensitive, threshold of `0.03` (default is `0.3`) for all features."
      ]
    },
    {
      "cell_type": "code",
      "execution_count": 279,
      "metadata": {
        "tags": [],
        "id": "oxPAaFclq1-s"
      },
      "outputs": [
        {
          "data": {
            "application/vnd.jupyter.widget-view+json": {
              "model_id": "abe8cbad523b4a0aa01428a3f39b7a3d",
              "version_major": 2,
              "version_minor": 0
            },
            "text/plain": [
              "Query is running:   0%|          |"
            ]
          },
          "metadata": {},
          "output_type": "display_data"
        },
        {
          "data": {
            "application/vnd.jupyter.widget-view+json": {
              "model_id": "e9540a64349e49f388dc44ea676eefbb",
              "version_major": 2,
              "version_minor": 0
            },
            "text/plain": [
              "Downloading:   0%|          |"
            ]
          },
          "metadata": {},
          "output_type": "display_data"
        }
      ],
      "source": [
        "%%bigquery c_drift\n",
        "SELECT *\n",
        "FROM ML.VALIDATE_DATA_DRIFT(\n",
        "    (\n",
        "        SELECT * EXCEPT(instance_timestamp)\n",
        "        FROM `statmike-mlops-349915.bqml_model_monitoring.serving_all`\n",
        "        WHERE DATE(instance_timestamp) = DATE_SUB(CURRENT_DATE(), INTERVAL 5 DAY)\n",
        "    ),\n",
        "    (\n",
        "        SELECT * EXCEPT(instance_timestamp)\n",
        "        FROM `statmike-mlops-349915.bqml_model_monitoring.serving_all`\n",
        "        WHERE DATE(instance_timestamp) = CURRENT_DATE() \n",
        "    ),\n",
        "    STRUCT(\n",
        "        0.03 AS categorical_default_threshold,\n",
        "        0.03 AS numerical_default_threshold\n",
        "    )\n",
        "    , MODEL `statmike-mlops-349915.bqml_model_monitoring.classify_species_logistic`\n",
        ");"
      ]
    },
    {
      "cell_type": "code",
      "execution_count": 280,
      "metadata": {
        "tags": [],
        "id": "C6nCiUoQq1-s"
      },
      "outputs": [
        {
          "data": {
            "text/html": [
              "\u003cdiv\u003e\n",
              "\u003cstyle scoped\u003e\n",
              "    .dataframe tbody tr th:only-of-type {\n",
              "        vertical-align: middle;\n",
              "    }\n",
              "\n",
              "    .dataframe tbody tr th {\n",
              "        vertical-align: top;\n",
              "    }\n",
              "\n",
              "    .dataframe thead th {\n",
              "        text-align: right;\n",
              "    }\n",
              "\u003c/style\u003e\n",
              "\u003ctable border=\"1\" class=\"dataframe\"\u003e\n",
              "  \u003cthead\u003e\n",
              "    \u003ctr style=\"text-align: right;\"\u003e\n",
              "      \u003cth\u003e\u003c/th\u003e\n",
              "      \u003cth\u003einput\u003c/th\u003e\n",
              "      \u003cth\u003emetric\u003c/th\u003e\n",
              "      \u003cth\u003ethreshold\u003c/th\u003e\n",
              "      \u003cth\u003evalue\u003c/th\u003e\n",
              "      \u003cth\u003eis_anomaly\u003c/th\u003e\n",
              "      \u003cth\u003evisualization_link\u003c/th\u003e\n",
              "    \u003c/tr\u003e\n",
              "  \u003c/thead\u003e\n",
              "  \u003ctbody\u003e\n",
              "    \u003ctr\u003e\n",
              "      \u003cth\u003e0\u003c/th\u003e\n",
              "      \u003ctd\u003ebody_mass_g\u003c/td\u003e\n",
              "      \u003ctd\u003eJENSEN_SHANNON_DIVERGENCE\u003c/td\u003e\n",
              "      \u003ctd\u003e0.03\u003c/td\u003e\n",
              "      \u003ctd\u003e0.070362\u003c/td\u003e\n",
              "      \u003ctd\u003eTrue\u003c/td\u003e\n",
              "      \u003ctd\u003ehttps://console.cloud.google.com/vertex-ai/model-monitoring/locations/us-central1/model-monitors/bq2962133377625510653/model-monitoring-jobs/bqjob7845495374246968496/feature-drift?project=statmike-mlops-349915\u0026amp;featureName=body_mass_g\u003c/td\u003e\n",
              "    \u003c/tr\u003e\n",
              "    \u003ctr\u003e\n",
              "      \u003cth\u003e1\u003c/th\u003e\n",
              "      \u003ctd\u003eculmen_depth_mm\u003c/td\u003e\n",
              "      \u003ctd\u003eJENSEN_SHANNON_DIVERGENCE\u003c/td\u003e\n",
              "      \u003ctd\u003e0.03\u003c/td\u003e\n",
              "      \u003ctd\u003e0.005810\u003c/td\u003e\n",
              "      \u003ctd\u003eFalse\u003c/td\u003e\n",
              "      \u003ctd\u003ehttps://console.cloud.google.com/vertex-ai/model-monitoring/locations/us-central1/model-monitors/bq2962133377625510653/model-monitoring-jobs/bqjob7845495374246968496/feature-drift?project=statmike-mlops-349915\u0026amp;featureName=culmen_depth_mm\u003c/td\u003e\n",
              "    \u003c/tr\u003e\n",
              "    \u003ctr\u003e\n",
              "      \u003cth\u003e2\u003c/th\u003e\n",
              "      \u003ctd\u003eculmen_length_mm\u003c/td\u003e\n",
              "      \u003ctd\u003eJENSEN_SHANNON_DIVERGENCE\u003c/td\u003e\n",
              "      \u003ctd\u003e0.03\u003c/td\u003e\n",
              "      \u003ctd\u003e0.003271\u003c/td\u003e\n",
              "      \u003ctd\u003eFalse\u003c/td\u003e\n",
              "      \u003ctd\u003ehttps://console.cloud.google.com/vertex-ai/model-monitoring/locations/us-central1/model-monitors/bq2962133377625510653/model-monitoring-jobs/bqjob7845495374246968496/feature-drift?project=statmike-mlops-349915\u0026amp;featureName=culmen_length_mm\u003c/td\u003e\n",
              "    \u003c/tr\u003e\n",
              "    \u003ctr\u003e\n",
              "      \u003cth\u003e3\u003c/th\u003e\n",
              "      \u003ctd\u003eflipper_length_mm\u003c/td\u003e\n",
              "      \u003ctd\u003eJENSEN_SHANNON_DIVERGENCE\u003c/td\u003e\n",
              "      \u003ctd\u003e0.03\u003c/td\u003e\n",
              "      \u003ctd\u003e0.103916\u003c/td\u003e\n",
              "      \u003ctd\u003eTrue\u003c/td\u003e\n",
              "      \u003ctd\u003ehttps://console.cloud.google.com/vertex-ai/model-monitoring/locations/us-central1/model-monitors/bq2962133377625510653/model-monitoring-jobs/bqjob7845495374246968496/feature-drift?project=statmike-mlops-349915\u0026amp;featureName=flipper_length_mm\u003c/td\u003e\n",
              "    \u003c/tr\u003e\n",
              "    \u003ctr\u003e\n",
              "      \u003cth\u003e4\u003c/th\u003e\n",
              "      \u003ctd\u003eisland\u003c/td\u003e\n",
              "      \u003ctd\u003eL_INFTY\u003c/td\u003e\n",
              "      \u003ctd\u003e0.03\u003c/td\u003e\n",
              "      \u003ctd\u003e0.042471\u003c/td\u003e\n",
              "      \u003ctd\u003eTrue\u003c/td\u003e\n",
              "      \u003ctd\u003ehttps://console.cloud.google.com/vertex-ai/model-monitoring/locations/us-central1/model-monitors/bq2962133377625510653/model-monitoring-jobs/bqjob7845495374246968496/feature-drift?project=statmike-mlops-349915\u0026amp;featureName=island\u003c/td\u003e\n",
              "    \u003c/tr\u003e\n",
              "    \u003ctr\u003e\n",
              "      \u003cth\u003e5\u003c/th\u003e\n",
              "      \u003ctd\u003esex\u003c/td\u003e\n",
              "      \u003ctd\u003eL_INFTY\u003c/td\u003e\n",
              "      \u003ctd\u003e0.03\u003c/td\u003e\n",
              "      \u003ctd\u003e0.024590\u003c/td\u003e\n",
              "      \u003ctd\u003eFalse\u003c/td\u003e\n",
              "      \u003ctd\u003ehttps://console.cloud.google.com/vertex-ai/model-monitoring/locations/us-central1/model-monitors/bq2962133377625510653/model-monitoring-jobs/bqjob7845495374246968496/feature-drift?project=statmike-mlops-349915\u0026amp;featureName=sex\u003c/td\u003e\n",
              "    \u003c/tr\u003e\n",
              "  \u003c/tbody\u003e\n",
              "\u003c/table\u003e\n",
              "\u003c/div\u003e"
            ],
            "text/plain": [
              "               input                     metric  threshold     value  \\\n",
              "0        body_mass_g  JENSEN_SHANNON_DIVERGENCE       0.03  0.070362   \n",
              "1    culmen_depth_mm  JENSEN_SHANNON_DIVERGENCE       0.03  0.005810   \n",
              "2   culmen_length_mm  JENSEN_SHANNON_DIVERGENCE       0.03  0.003271   \n",
              "3  flipper_length_mm  JENSEN_SHANNON_DIVERGENCE       0.03  0.103916   \n",
              "4             island                    L_INFTY       0.03  0.042471   \n",
              "5                sex                    L_INFTY       0.03  0.024590   \n",
              "\n",
              "   is_anomaly  \\\n",
              "0        True   \n",
              "1       False   \n",
              "2       False   \n",
              "3        True   \n",
              "4        True   \n",
              "5       False   \n",
              "\n",
              "                                                                                                                                                                                                                                visualization_link  \n",
              "0        https://console.cloud.google.com/vertex-ai/model-monitoring/locations/us-central1/model-monitors/bq2962133377625510653/model-monitoring-jobs/bqjob7845495374246968496/feature-drift?project=statmike-mlops-349915\u0026featureName=body_mass_g  \n",
              "1    https://console.cloud.google.com/vertex-ai/model-monitoring/locations/us-central1/model-monitors/bq2962133377625510653/model-monitoring-jobs/bqjob7845495374246968496/feature-drift?project=statmike-mlops-349915\u0026featureName=culmen_depth_mm  \n",
              "2   https://console.cloud.google.com/vertex-ai/model-monitoring/locations/us-central1/model-monitors/bq2962133377625510653/model-monitoring-jobs/bqjob7845495374246968496/feature-drift?project=statmike-mlops-349915\u0026featureName=culmen_length_mm  \n",
              "3  https://console.cloud.google.com/vertex-ai/model-monitoring/locations/us-central1/model-monitors/bq2962133377625510653/model-monitoring-jobs/bqjob7845495374246968496/feature-drift?project=statmike-mlops-349915\u0026featureName=flipper_length_mm  \n",
              "4             https://console.cloud.google.com/vertex-ai/model-monitoring/locations/us-central1/model-monitors/bq2962133377625510653/model-monitoring-jobs/bqjob7845495374246968496/feature-drift?project=statmike-mlops-349915\u0026featureName=island  \n",
              "5                https://console.cloud.google.com/vertex-ai/model-monitoring/locations/us-central1/model-monitors/bq2962133377625510653/model-monitoring-jobs/bqjob7845495374246968496/feature-drift?project=statmike-mlops-349915\u0026featureName=sex  "
            ]
          },
          "execution_count": 280,
          "metadata": {},
          "output_type": "execute_result"
        }
      ],
      "source": [
        "c_drift"
      ]
    },
    {
      "cell_type": "code",
      "execution_count": 281,
      "metadata": {
        "tags": [],
        "id": "7dyKc_GMq1-s"
      },
      "outputs": [
        {
          "data": {
            "text/html": [
              "\u003ca href=\"https://console.cloud.google.com/vertex-ai/model-monitoring/locations/us-central1/model-monitors/bq2962133377625510653/model-monitoring-jobs/bqjob7845495374246968496/feature-drift?project=statmike-mlops-349915\u0026featureName=body_mass_g\" target=\"_blank\" style=\"font-size: 18px;\"\u003eOpen Google Cloud Console in a new tab\u003c/a\u003e"
            ],
            "text/plain": [
              "\u003cIPython.core.display.HTML object\u003e"
            ]
          },
          "metadata": {},
          "output_type": "display_data"
        }
      ],
      "source": [
        "display(HTML(f'\u003ca href=\"{c_drift.visualization_link[0]}\" target=\"_blank\" style=\"font-size: 18px;\"\u003eOpen Google Cloud Console in a new tab\u003c/a\u003e'))"
      ]
    },
    {
      "cell_type": "markdown",
      "metadata": {
        "id": "AqUXYgbGq1-s"
      },
      "source": [
        "### Remove Endpoint \n",
        "To prevent ongoing cost for this demonstration, remove the endpoint.  "
      ]
    },
    {
      "cell_type": "code",
      "execution_count": 282,
      "metadata": {
        "tags": [],
        "id": "-rjioqLlq1-s"
      },
      "outputs": [
        {
          "name": "stdout",
          "output_type": "stream",
          "text": [
            "Undeploying Endpoint model: projects/1026793852137/locations/us-central1/endpoints/822158720157876224\n",
            "Undeploy Endpoint model backing LRO: projects/1026793852137/locations/us-central1/endpoints/822158720157876224/operations/519386306296414208\n",
            "Endpoint model undeployed. Resource name: projects/1026793852137/locations/us-central1/endpoints/822158720157876224\n",
            "Deleting Endpoint : projects/1026793852137/locations/us-central1/endpoints/822158720157876224\n",
            "Endpoint deleted. . Resource name: projects/1026793852137/locations/us-central1/endpoints/822158720157876224\n",
            "Deleting Endpoint resource: projects/1026793852137/locations/us-central1/endpoints/822158720157876224\n",
            "Delete Endpoint backing LRO: projects/1026793852137/locations/us-central1/operations/6269920080495116288\n",
            "Endpoint resource projects/1026793852137/locations/us-central1/endpoints/822158720157876224 deleted.\n"
          ]
        }
      ],
      "source": [
        "endpoint.delete(force = True)"
      ]
    },
    {
      "cell_type": "markdown",
      "metadata": {
        "id": "CvAb9g_6q1-s"
      },
      "source": [
        "---\n",
        "## Continous Monitoring\n",
        "\n",
        "The methods above can be combined into a job that runs both skew and drift detection.  The jobs can be scheduled or triggered to make the process of model monitoring continous - continous monitoring.  If the model quality can be evaluated with confidence then the automation can even be extended to retrain and update the model for continous training.   \n",
        "\n",
        "This section shows one of many ways to create a model monitoring job. For models created in BigQuery with BigQuery ML it also shows a retraining action as part of the job when alerts are detected.\n",
        "\n",
        "These types of jobs could be automated for continous monitoring with one of these methods:\n",
        "- [BigQuery Scheduled Queries](https://cloud.google.com/bigquery/docs/scheduling-queries)\n",
        "    - Featured below\n",
        "- [Dataform](https://cloud.google.com/dataform/docs/quickstart-create-workflow)\n",
        "- [Workflows](https://cloud.google.com/workflows/docs/tutorials/bigquery-parallel-jobs)\n",
        "- [Cloud Composer](https://cloud.google.com/composer/docs/data-analytics-googlecloud)\n",
        "- [Vertex AI Pipelines](https://cloud.google.com/vertex-ai/docs/pipelines/gcpc-list#bqml_components)\n",
        "\n",
        "This section will show how to:\n",
        "- Develop model monitoring jobs:\n",
        "    - with alterting and retraining\n",
        "- Build tables to capture continous monitoring results\n",
        "- Extend monitoring jobs to BigQuery Scheduled Queries\n",
        "- Backfill monitoring jobs for a past time period"
      ]
    },
    {
      "cell_type": "markdown",
      "metadata": {
        "id": "EKifljcVq1-s"
      },
      "source": [
        "### Model Monitoring Job: With Alerting And Retraining\n",
        "\n",
        "A BigQuery SQL job that uses the [procedural language](https://cloud.google.com/bigquery/docs/reference/standard-sql/procedural-language) to execute multiple statements (steps) as a single query.  In this case, monitoring skew and drift, detecting any feature level anomalies in either and reporting back the anomalies via a log note with a forced error.\n",
        "\n",
        "This job also includes retraining of the BigQuery ML model:\n",
        "In this case the example is simplified to retrain the model and directly implement it as a replacement with `CREATE OR REPLACE MODEL`.  In a production enviornment additional pre/post steps might take place as part of this workflow:\n",
        "- on skew/drift detection:\n",
        "    - Prior to retraining:\n",
        "        - ensure detection is not due to data errors, schema changes, or system changes\n",
        "    - After retrainning:\n",
        "        - evaluate the model and compare to current production version\n",
        "        - conditionally deploy the new version if it is better in any/all key metrics\n",
        "        - consider rollout strategies for the retrained model\n",
        "        - trigger human review before deployment of the replacement"
      ]
    },
    {
      "cell_type": "code",
      "execution_count": 283,
      "metadata": {
        "tags": [],
        "id": "cToBbH1jq1-s"
      },
      "outputs": [
        {
          "name": "stdout",
          "output_type": "stream",
          "text": [
            "Executing query with job ID: cf68b7bc-6e87-47fe-96f9-39f280c76e32\n",
            "Query executing: 40.32s"
          ]
        },
        {
          "name": "stderr",
          "output_type": "stream",
          "text": [
            "\n",
            "ERROR:\n",
            " 400 GET https://bigquery.googleapis.com/bigquery/v2/projects/statmike-mlops-349915/queries/cf68b7bc-6e87-47fe-96f9-39f280c76e32?maxResults=0\u0026location=US\u0026prettyPrint=false: Query error: \n",
            "\n",
            "Monitoring Report:\n",
            "\tDrift: not detected.\n",
            "\tSkew: not detected.\n",
            "\n",
            " at [167:9]\n",
            "\n",
            "Location: US\n",
            "Job ID: cf68b7bc-6e87-47fe-96f9-39f280c76e32\n",
            "\n"
          ]
        }
      ],
      "source": [
        "%%bigquery\n",
        "DECLARE drift_anomalies ARRAY\u003cSTRUCT\u003cinput STRING, visualization_link STRING\u003e\u003e;\n",
        "DECLARE drift STRING;\n",
        "DECLARE skew_anomalies ARRAY\u003cSTRUCT\u003cinput STRING, visualization_link STRING\u003e\u003e;\n",
        "DECLARE skew STRING;\n",
        "\n",
        "# Monitor Drift:\n",
        "SET drift_anomalies = (\n",
        "    SELECT ARRAY_AGG(STRUCT(input, visualization_link))\n",
        "    FROM ML.VALIDATE_DATA_DRIFT(\n",
        "        (# base\n",
        "            SELECT * EXCEPT(species, instance_timestamp)\n",
        "            FROM `statmike-mlops-349915.bqml_model_monitoring.serving`\n",
        "            WHERE DATE(instance_timestamp) = DATE_SUB(CURRENT_DATE(), INTERVAL 30 DAY)\n",
        "        ),\n",
        "        (# compare\n",
        "            SELECT * EXCEPT(species, instance_timestamp)\n",
        "            FROM `statmike-mlops-349915.bqml_model_monitoring.serving`\n",
        "            WHERE DATE(instance_timestamp) = DATE_SUB(CURRENT_DATE(), INTERVAL 29 DAY)\n",
        "        ),\n",
        "        STRUCT(\n",
        "            0.4 AS categorical_default_threshold,\n",
        "            0.4 AS numerical_default_threshold\n",
        "        )\n",
        "        , MODEL `statmike-mlops-349915.bqml_model_monitoring.classify_species_logistic`\n",
        "    )\n",
        "    WHERE is_anomaly = True\n",
        ");\n",
        "IF(ARRAY_LENGTH(drift_anomalies) \u003e 0) THEN\n",
        "    SET drift = CONCAT(\n",
        "        \"\\n\\tDrift: detected in the following features\",\n",
        "        (\n",
        "            SELECT STRING_AGG(\n",
        "                CONCAT(\n",
        "                    '\\n\\t\\t',\n",
        "                    da.input,\n",
        "                    ': ',\n",
        "                    da.visualization_link\n",
        "                )\n",
        "            )\n",
        "            FROM UNNEST(drift_anomalies) as da\n",
        "        )\n",
        "    );\n",
        "    ELSE SET drift = '\\n\\tDrift: not detected.';\n",
        "END IF;\n",
        "\n",
        "# Monitor Skew\n",
        "SET skew_anomalies = (\n",
        "    SELECT ARRAY_AGG(STRUCT(input, visualization_link))\n",
        "    FROM ML.VALIDATE_DATA_SKEW(\n",
        "        # base\n",
        "        MODEL `statmike-mlops-349915.bqml_model_monitoring.classify_species_rf`,\n",
        "        (# compare\n",
        "            SELECT * EXCEPT(species, instance_timestamp)\n",
        "            FROM `statmike-mlops-349915.bqml_model_monitoring.serving`\n",
        "            WHERE DATE(instance_timestamp) = DATE_SUB(CURRENT_DATE(), INTERVAL 30 DAY)\n",
        "        )\n",
        "        ,STRUCT(TRUE AS enable_visualization_link)\n",
        "    )\n",
        "    WHERE is_anomaly = True\n",
        ");\n",
        "IF(ARRAY_LENGTH(skew_anomalies) \u003e 0) THEN\n",
        "    SET skew = CONCAT(\n",
        "        \"\\n\\tSkew: detected in the following features\",\n",
        "        (\n",
        "            SELECT STRING_AGG(\n",
        "                CONCAT(\n",
        "                    '\\n\\t\\t',\n",
        "                    sa.input,\n",
        "                    ': ',\n",
        "                    sa.visualization_link\n",
        "                )\n",
        "            )\n",
        "            FROM UNNEST(skew_anomalies) as sa\n",
        "        )\n",
        "    );\n",
        "    ELSE SET skew = '\\n\\tSkew: not detected.';\n",
        "END IF;\n",
        "\n",
        "# Prepare Alert\n",
        "IF(ARRAY_LENGTH(drift_anomalies) \u003e 0 OR ARRAY_LENGTH(skew_anomalies) \u003e 0) THEN\n",
        "    BEGIN\n",
        "        DECLARE train_accuracy FLOAT64;\n",
        "        DECLARE recent_accuracy FLOAT64;\n",
        "        DECLARE retrain_accuracy FLOAT64;\n",
        "\n",
        "        # get current models evaluation metrics: accuracy\n",
        "        SET train_accuracy = (\n",
        "            SELECT accuracy\n",
        "            FROM ML.EVALUATE (\n",
        "                MODEL `statmike-mlops-349915.bqml_model_monitoring.classify_species_rf`\n",
        "            )\n",
        "        );\n",
        "\n",
        "        # get current models recent evaluation metrics: accuracy\n",
        "        SET recent_accuracy = (\n",
        "            SELECT accuracy\n",
        "            FROM ML.EVALUATE (\n",
        "                MODEL `statmike-mlops-349915.bqml_model_monitoring.classify_species_rf`,\n",
        "                (\n",
        "                    SELECT *\n",
        "                    FROM `statmike-mlops-349915.bqml_model_monitoring.serving`\n",
        "                    WHERE DATE(instance_timestamp) = DATE_SUB(CURRENT_DATE(), INTERVAL 30 DAY) \n",
        "                )\n",
        "            )\n",
        "        );\n",
        "\n",
        "        # retrain the model\n",
        "        CREATE OR REPLACE MODEL `statmike-mlops-349915.bqml_model_monitoring.classify_species_rf`\n",
        "            TRANSFORM(\n",
        "                ML.ROBUST_SCALER(body_mass_g) OVER() AS body_mass_g,\n",
        "                ML.STANDARD_SCALER(culmen_length_mm) OVER() AS culmen_length_mm,\n",
        "                ML.STANDARD_SCALER(culmen_depth_mm) OVER() AS culmen_depth_mm,\n",
        "                ML.QUANTILE_BUCKETIZE(flipper_length_mm, 3) OVER() AS flipper_length_mm,\n",
        "                ML.IMPUTER(sex, 'most_frequent') OVER() AS sex,\n",
        "                ML.IMPUTER(island, 'most_frequent') OVER() AS island,\n",
        "                species\n",
        "            )\n",
        "            OPTIONS(\n",
        "                MODEL_TYPE = 'RANDOM_FOREST_CLASSIFIER',\n",
        "                INPUT_LABEL_COLS = ['species'],\n",
        "\n",
        "                # data specifics\n",
        "                DATA_SPLIT_METHOD = 'AUTO_SPLIT',\n",
        "\n",
        "                # model specifics\n",
        "                AUTO_CLASS_WEIGHTS = FALSE,\n",
        "                NUM_PARALLEL_TREE= 150,\n",
        "                TREE_METHOD = 'HIST',\n",
        "                SUBSAMPLE = 0.85,\n",
        "                COLSAMPLE_BYTREE = 0.9,\n",
        "                ENABLE_GLOBAL_EXPLAIN = TRUE,\n",
        "\n",
        "                # register model in Vertex AI For Online Serving\n",
        "                MODEL_REGISTRY = 'VERTEX_AI'\n",
        "            )\n",
        "        AS\n",
        "            SELECT species, island, culmen_length_mm, culmen_depth_mm, sex, flipper_length_mm, body_mass_g\n",
        "            FROM `statmike-mlops-349915.bqml_model_monitoring.training`\n",
        "            UNION ALL\n",
        "            SELECT species, island, culmen_length_mm, culmen_depth_mm, sex, flipper_length_mm, body_mass_g\n",
        "            FROM `statmike-mlops-349915.bqml_model_monitoring.serving`\n",
        "            WHERE DATE(instance_timestamp) = DATE_SUB(CURRENT_DATE(), INTERVAL 30 DAY)\n",
        "        ;\n",
        "\n",
        "        # get retrained models evaluation metrics: accuracy\n",
        "        SET retrain_accuracy = (\n",
        "            SELECT accuracy\n",
        "            FROM ML.EVALUATE (\n",
        "                MODEL `statmike-mlops-349915.bqml_model_monitoring.classify_species_rf`\n",
        "            )\n",
        "        );\n",
        "\n",
        "        SELECT ERROR(\n",
        "            CONCAT(\n",
        "                \"\\n\\nMonitoring Report:\",\n",
        "                drift,\n",
        "                skew,\n",
        "                \"\\n\\nThe Model was retrained:\",\n",
        "                \"\\n\\taccuracy of prior model: \", train_accuracy,\n",
        "                \"\\n\\trecent accuracy of prior model: \", recent_accuracy,\n",
        "                \"\\n\\taccuracy after retraining: \", retrain_accuracy,\n",
        "                \"\\n\\n\"\n",
        "            )\n",
        "        );\n",
        "    END;\n",
        "    ELSE\n",
        "        SELECT ERROR(\n",
        "            CONCAT(\n",
        "                \"\\n\\nMonitoring Report:\",\n",
        "                drift,\n",
        "                skew,\n",
        "                \"\\n\\n\"\n",
        "            )\n",
        "        );\n",
        "END IF;"
      ]
    },
    {
      "cell_type": "markdown",
      "metadata": {
        "id": "AQGYoretq1-s"
      },
      "source": [
        "### From Job To Scheduled Query\n",
        "\n",
        "The model monitoring job created above can be modified and scheduled using [scheduled queries](https://cloud.google.com/bigquery/docs/scheduling-queries).  A key feature of the modification is making use of the parameter `@run_date` to parameterize the queries reference to dates (see [configuration options](https://cloud.google.com/bigquery/docs/scheduling-queries#configuration_options)).  This allows the query to run as though it is on different dates which will be helpful as we backfill the model monitoring runs after scheduling for today and forward.\n",
        "\n",
        "Note, the next cell is writing the content of the query to a file named `model_monitoring_job.sql`.\n",
        "Other modification to the job above:\n",
        "- Drift is set to compare the last weeks serving data to the prior week\n",
        "- Skew is set to compare the last weeks serving data to the baseline training data"
      ]
    },
    {
      "cell_type": "code",
      "execution_count": 284,
      "metadata": {
        "tags": [],
        "id": "IqDmdqzSq1-s"
      },
      "outputs": [
        {
          "name": "stdout",
          "output_type": "stream",
          "text": [
            "Overwriting model_monitoring_job.sql\n"
          ]
        }
      ],
      "source": [
        "%%writefile model_monitoring_job.sql\n",
        "DECLARE drift_anomalies ARRAY\u003cSTRUCT\u003cinput STRING, visualization_link STRING\u003e\u003e;\n",
        "DECLARE drift STRING;\n",
        "DECLARE skew_anomalies ARRAY\u003cSTRUCT\u003cinput STRING, visualization_link STRING\u003e\u003e;\n",
        "DECLARE skew STRING;\n",
        "\n",
        "# Monitor Drift:\n",
        "SET drift_anomalies = (\n",
        "    SELECT ARRAY_AGG(STRUCT(input, visualization_link))\n",
        "    FROM ML.VALIDATE_DATA_DRIFT(\n",
        "        (# base\n",
        "            SELECT * EXCEPT(instance_timestamp)\n",
        "            FROM `statmike-mlops-349915.bqml_model_monitoring.serving_all`\n",
        "            WHERE\n",
        "                DATE(instance_timestamp) \u003e= DATE_SUB(@run_date, INTERVAL 2 WEEK)\n",
        "                AND\n",
        "                DATE(instance_timestamp) \u003c DATE_SUB(@run_date, INTERVAL 1 WEEK)\n",
        "        ),\n",
        "        (# compare\n",
        "            SELECT * EXCEPT(instance_timestamp)\n",
        "            FROM `statmike-mlops-349915.bqml_model_monitoring.serving_all`\n",
        "            WHERE DATE(instance_timestamp) \u003e= DATE_SUB(@run_date, INTERVAL 1 WEEK)\n",
        "        ),\n",
        "        STRUCT(\n",
        "            0.4 AS categorical_default_threshold,\n",
        "            0.4 AS numerical_default_threshold\n",
        "        )\n",
        "        , MODEL `statmike-mlops-349915.bqml_model_monitoring.classify_species_logistic`\n",
        "    )\n",
        "    WHERE is_anomaly = True\n",
        ");\n",
        "IF(ARRAY_LENGTH(drift_anomalies) \u003e 0) THEN\n",
        "    SET drift = CONCAT(\n",
        "        \"\\n\\tDrift: detected in the following features\",\n",
        "        (\n",
        "            SELECT STRING_AGG(\n",
        "                CONCAT(\n",
        "                    '\\n\\t\\t',\n",
        "                    da.input,\n",
        "                    ': ',\n",
        "                    da.visualization_link\n",
        "                )\n",
        "            )\n",
        "            FROM UNNEST(drift_anomalies) as da\n",
        "        )\n",
        "    );\n",
        "    ELSE SET drift = '\\n\\tDrift: not detected.';\n",
        "END IF;\n",
        "\n",
        "# Monitor Skew\n",
        "SET skew_anomalies = (\n",
        "    SELECT ARRAY_AGG(STRUCT(input, visualization_link))\n",
        "    FROM ML.VALIDATE_DATA_SKEW(\n",
        "        # base\n",
        "        MODEL `statmike-mlops-349915.bqml_model_monitoring.classify_species_rf`,\n",
        "        (# compare\n",
        "            SELECT * EXCEPT(instance_timestamp)\n",
        "            FROM `statmike-mlops-349915.bqml_model_monitoring.serving_all`\n",
        "            WHERE DATE(instance_timestamp) \u003e= DATE_SUB(@run_date, INTERVAL 1 WEEK)\n",
        "        )\n",
        "        ,STRUCT(TRUE AS enable_visualization_link)\n",
        "    )\n",
        "    WHERE is_anomaly = True\n",
        ");\n",
        "IF(ARRAY_LENGTH(skew_anomalies) \u003e 0) THEN\n",
        "    SET skew = CONCAT(\n",
        "        \"\\n\\tSkew: detected in the following features\",\n",
        "        (\n",
        "            SELECT STRING_AGG(\n",
        "                CONCAT(\n",
        "                    '\\n\\t\\t',\n",
        "                    sa.input,\n",
        "                    ': ',\n",
        "                    sa.visualization_link\n",
        "                )\n",
        "            )\n",
        "            FROM UNNEST(skew_anomalies) as sa\n",
        "        )\n",
        "    );\n",
        "    ELSE SET skew = '\\n\\tSkew: not detected.';\n",
        "END IF;\n",
        "\n",
        "# Prepare Alert\n",
        "IF(ARRAY_LENGTH(drift_anomalies) \u003e 0 OR ARRAY_LENGTH(skew_anomalies) \u003e 0) THEN\n",
        "    BEGIN\n",
        "        DECLARE train_accuracy FLOAT64;\n",
        "        DECLARE recent_accuracy FLOAT64;\n",
        "        DECLARE retrain_accuracy FLOAT64;\n",
        "\n",
        "        # get current models evaluation metrics: accuracy\n",
        "        SET train_accuracy = (\n",
        "            SELECT accuracy\n",
        "            FROM ML.EVALUATE (\n",
        "                MODEL `statmike-mlops-349915.bqml_model_monitoring.classify_species_rf`\n",
        "            )\n",
        "        );\n",
        "\n",
        "        # get current models recent evaluation metrics: accuracy\n",
        "        SET recent_accuracy = (\n",
        "            SELECT accuracy\n",
        "            FROM ML.EVALUATE (\n",
        "                MODEL `statmike-mlops-349915.bqml_model_monitoring.classify_species_rf`,\n",
        "                (\n",
        "                    SELECT *\n",
        "                    FROM `statmike-mlops-349915.bqml_model_monitoring.serving`\n",
        "                    WHERE DATE(instance_timestamp) \u003e= DATE_SUB(@run_date, INTERVAL 1 WEEK) \n",
        "                )\n",
        "            )\n",
        "        );\n",
        "\n",
        "        # retrain the model\n",
        "        CREATE OR REPLACE MODEL `statmike-mlops-349915.bqml_model_monitoring.classify_species_rf`\n",
        "            TRANSFORM(\n",
        "                ML.ROBUST_SCALER(body_mass_g) OVER() AS body_mass_g,\n",
        "                ML.STANDARD_SCALER(culmen_length_mm) OVER() AS culmen_length_mm,\n",
        "                ML.STANDARD_SCALER(culmen_depth_mm) OVER() AS culmen_depth_mm,\n",
        "                ML.QUANTILE_BUCKETIZE(flipper_length_mm, 3) OVER() AS flipper_length_mm,\n",
        "                ML.IMPUTER(sex, 'most_frequent') OVER() AS sex,\n",
        "                ML.IMPUTER(island, 'most_frequent') OVER() AS island,\n",
        "                species\n",
        "            )\n",
        "            OPTIONS(\n",
        "                MODEL_TYPE = 'RANDOM_FOREST_CLASSIFIER',\n",
        "                INPUT_LABEL_COLS = ['species'],\n",
        "\n",
        "                # data specifics\n",
        "                DATA_SPLIT_METHOD = 'AUTO_SPLIT',\n",
        "\n",
        "                # model specifics\n",
        "                AUTO_CLASS_WEIGHTS = FALSE,\n",
        "                NUM_PARALLEL_TREE= 150,\n",
        "                TREE_METHOD = 'HIST',\n",
        "                SUBSAMPLE = 0.85,\n",
        "                COLSAMPLE_BYTREE = 0.9,\n",
        "                ENABLE_GLOBAL_EXPLAIN = TRUE,\n",
        "\n",
        "                # register model in Vertex AI For Online Serving\n",
        "                MODEL_REGISTRY = 'VERTEX_AI',\n",
        "                VERTEX_AI_MODEL_ID = 'classify_species_rf'\n",
        "            )\n",
        "        AS\n",
        "            SELECT species, island, culmen_length_mm, culmen_depth_mm, sex, flipper_length_mm, body_mass_g\n",
        "            FROM `statmike-mlops-349915.bqml_model_monitoring.training_split`\n",
        "            WHERE splits = 'TRAIN'\n",
        "            UNION ALL\n",
        "            SELECT species, island, culmen_length_mm, culmen_depth_mm, sex, flipper_length_mm, body_mass_g\n",
        "            FROM `statmike-mlops-349915.bqml_model_monitoring.serving`\n",
        "            WHERE DATE(instance_timestamp) \u003c @run_date\n",
        "        ;\n",
        "\n",
        "        # get retrained models evaluation metrics: accuracy\n",
        "        SET retrain_accuracy = (\n",
        "            SELECT accuracy\n",
        "            FROM ML.EVALUATE (\n",
        "                MODEL `statmike-mlops-349915.bqml_model_monitoring.classify_species_rf`\n",
        "            )\n",
        "        );\n",
        "\n",
        "        SELECT ERROR(\n",
        "            CONCAT(\n",
        "                \"\\n\\nMonitoring Report for \", @run_date, \":\",\n",
        "                \"\\n\\t\", drift,\n",
        "                \"\\n\\t\", skew,\n",
        "                \"\\n\\nThe Model was retrained:\",\n",
        "                \"\\n\\taccuracy of prior model: \", train_accuracy,\n",
        "                \"\\n\\trecent accuracy of prior model: \", recent_accuracy,\n",
        "                \"\\n\\taccuracy after retraining: \", retrain_accuracy,\n",
        "                \"\\n\\n\"\n",
        "            )\n",
        "        );\n",
        "    END;\n",
        "    # ELSE ... supressed alerts on runs without anomalies detected\n",
        "END IF;"
      ]
    },
    {
      "cell_type": "markdown",
      "metadata": {
        "id": "gaRHzKx3q1-s"
      },
      "source": [
        "### Schedule The Query\n",
        "\n",
        "The query can be scheduled in [a number of ways](https://cloud.google.com/bigquery/docs/scheduling-queries#set_up_scheduled_queries) including the console, bq cli, and Python. Here, the Python client will be used.\n",
        "- **References**\n",
        "    - [Python Client For BigQuery Data Transfer](https://cloud.google.com/python/docs/reference/bigquerydatatransfer/latest)\n",
        "    - [Set up schedule queries with Python client](https://cloud.google.com/bigquery/docs/scheduling-queries#python)"
      ]
    },
    {
      "cell_type": "code",
      "execution_count": 285,
      "metadata": {
        "tags": [],
        "id": "0mCTTbCeq1-s"
      },
      "outputs": [],
      "source": [
        "from google.cloud import bigquery_datatransfer\n",
        "from datetime import datetime, timezone, timedelta\n",
        "import time\n",
        "transfer_client = bigquery_datatransfer.DataTransferServiceClient()"
      ]
    },
    {
      "cell_type": "code",
      "execution_count": 286,
      "metadata": {
        "tags": [],
        "id": "F3ct23o7q1-s"
      },
      "outputs": [
        {
          "data": {
            "text/plain": [
              "datetime.datetime(2025, 4, 5, 11, 18, 58, 540979, tzinfo=datetime.timezone.utc)"
            ]
          },
          "execution_count": 286,
          "metadata": {},
          "output_type": "execute_result"
        }
      ],
      "source": [
        "start_time = datetime.now(timezone.utc) + timedelta(days=1) # start tomorrow\n",
        "start_time"
      ]
    },
    {
      "cell_type": "code",
      "execution_count": 287,
      "metadata": {
        "tags": [],
        "id": "Fo5FIuZrq1-s"
      },
      "outputs": [],
      "source": [
        "with open('model_monitoring_job.sql', 'r') as file:\n",
        "    query = file.read()"
      ]
    },
    {
      "cell_type": "code",
      "execution_count": 288,
      "metadata": {
        "tags": [],
        "id": "8whuNk26q1-s"
      },
      "outputs": [
        {
          "data": {
            "text/plain": [
              "'projects/statmike-mlops-349915/locations/us'"
            ]
          },
          "execution_count": 288,
          "metadata": {},
          "output_type": "execute_result"
        }
      ],
      "source": [
        "transfer_client.common_location_path('statmike-mlops-349915', 'us')"
      ]
    },
    {
      "cell_type": "code",
      "execution_count": 289,
      "metadata": {
        "tags": [],
        "id": "_qV_fOSrq1-s"
      },
      "outputs": [],
      "source": [
        "scheduled_query = transfer_client.create_transfer_config(\n",
        "    #parent = transfer_client.common_project_path('statmike-mlops-349915'),\n",
        "    parent = transfer_client.common_location_path('statmike-mlops-349915', 'us'),\n",
        "    transfer_config = bigquery_datatransfer.TransferConfig(\n",
        "        display_name = 'Continous Model Monitoring',\n",
        "        data_source_id = 'scheduled_query',\n",
        "        params = {'query': query},\n",
        "        schedule = 'every 24 hours',\n",
        "        schedule_options = bigquery_datatransfer.ScheduleOptions(\n",
        "            start_time=start_time.strftime(\"%Y-%m-%dT%H:%M:%SZ\")\n",
        "        ),\n",
        "        email_preferences = bigquery_datatransfer.EmailPreferences(\n",
        "            enable_failure_email = True\n",
        "        )\n",
        "    )\n",
        ")"
      ]
    },
    {
      "cell_type": "code",
      "execution_count": 290,
      "metadata": {
        "tags": [],
        "id": "kA3BSgbrq1-s"
      },
      "outputs": [
        {
          "data": {
            "text/plain": [
              "('Continous Model Monitoring',\n",
              " 'projects/1026793852137/locations/us/transferConfigs/67f5a114-0000-2a9a-8e28-14223bb815c2')"
            ]
          },
          "execution_count": 290,
          "metadata": {},
          "output_type": "execute_result"
        }
      ],
      "source": [
        "scheduled_query.display_name, scheduled_query.name"
      ]
    },
    {
      "cell_type": "code",
      "execution_count": 291,
      "metadata": {
        "tags": [],
        "id": "9t9mBtDrq1-s"
      },
      "outputs": [
        {
          "data": {
            "text/plain": [
              "'2025-04-06 11:18:00.000000'"
            ]
          },
          "execution_count": 291,
          "metadata": {},
          "output_type": "execute_result"
        }
      ],
      "source": [
        "scheduled_query.next_run_time.strftime(\"%Y-%m-%d %H:%M:%S.%f\")"
      ]
    },
    {
      "cell_type": "markdown",
      "metadata": {
        "id": "tc1Fe6ukq1-s"
      },
      "source": [
        "Take a moment to see the query in the console:\n",
        "- Console \u003e BigQuery \u003e Scheduled Queries"
      ]
    },
    {
      "cell_type": "markdown",
      "metadata": {
        "id": "tWWAt1Wuq1-s"
      },
      "source": [
        "### Backfill History With Scheduled Query\n",
        "\n",
        "While the client can use a start and end time to run a range of backfill dates, it will runs these backwards from most recent to the earliest time.  Due to the nature of the model monitoring job it is more desirable to run these in the order from earliest to most recent.  This is accomplished by launching each days job separately in the desired order."
      ]
    },
    {
      "cell_type": "code",
      "execution_count": 292,
      "metadata": {
        "tags": [],
        "id": "fiyktgVWq1-s"
      },
      "outputs": [],
      "source": [
        "# -30 days\n",
        "start_time = datetime.now(timezone.utc) + timedelta(days = -30)\n",
        "backfill_job = transfer_client.start_manual_transfer_runs(\n",
        "    request = bigquery_datatransfer.StartManualTransferRunsRequest(\n",
        "        parent = scheduled_query.name,\n",
        "        requested_run_time = start_time \n",
        "    )\n",
        ")"
      ]
    },
    {
      "cell_type": "code",
      "execution_count": 293,
      "metadata": {
        "tags": [],
        "id": "CBHHZevUq1-s"
      },
      "outputs": [
        {
          "data": {
            "text/plain": [
              "'projects/1026793852137/locations/us/transferConfigs/67f5a114-0000-2a9a-8e28-14223bb815c2/runs/67f40ebc-0000-2e26-8d2c-34c7e921a1ab'"
            ]
          },
          "execution_count": 293,
          "metadata": {},
          "output_type": "execute_result"
        }
      ],
      "source": [
        "backfill_job.runs[0].name"
      ]
    },
    {
      "cell_type": "code",
      "execution_count": 294,
      "metadata": {
        "tags": [],
        "id": "CHU6RuaVq1-s"
      },
      "outputs": [
        {
          "data": {
            "text/plain": [
              "'PENDING'"
            ]
          },
          "execution_count": 294,
          "metadata": {},
          "output_type": "execute_result"
        }
      ],
      "source": [
        "transfer_client.get_transfer_run(\n",
        "    name = backfill_job.runs[0].name\n",
        ").state.name"
      ]
    },
    {
      "cell_type": "markdown",
      "metadata": {
        "id": "_phK-NWHq1-s"
      },
      "source": [
        "**NOTE:** A State of 'FAILED' is actually the correct end state as the method of using SQL ERRORS to pass the results and trigger notification emails was used. A State of 'SUCCEEDED' will represent runs without an anomaly detected.  [Read more about TrasferState](https://cloud.google.com/python/docs/reference/bigquerydatatransfer/latest/google.cloud.bigquery_datatransfer_v1.types.TransferState)."
      ]
    },
    {
      "cell_type": "code",
      "execution_count": 295,
      "metadata": {
        "tags": [],
        "id": "pJRfWCbPq1-s"
      },
      "outputs": [],
      "source": [
        "while True:\n",
        "    state = transfer_client.get_transfer_run(\n",
        "        name = backfill_job.runs[0].name\n",
        "    ).state.name\n",
        "    if state in ['FAILED', 'SUCCEEDED', 'CANCELLED']:\n",
        "        break\n",
        "    else:\n",
        "        time.sleep(30)"
      ]
    },
    {
      "cell_type": "code",
      "execution_count": 296,
      "metadata": {
        "tags": [],
        "id": "PJXatrrrq1-s"
      },
      "outputs": [],
      "source": [
        "backfill_jobs =[backfill_job]"
      ]
    },
    {
      "cell_type": "code",
      "execution_count": null,
      "metadata": {
        "tags": [],
        "id": "NwYxHTaUq1-s"
      },
      "outputs": [],
      "source": [
        "# Loop From -29 to -0 days\n",
        "for days in range(30)[::-1]:\n",
        "    start_time = datetime.now(timezone.utc) + timedelta(days = -1*days)\n",
        "    print(start_time)\n",
        "    # start job\n",
        "    backfill_jobs.append(\n",
        "        transfer_client.start_manual_transfer_runs(\n",
        "            request = bigquery_datatransfer.StartManualTransferRunsRequest(\n",
        "                parent = scheduled_query.name,\n",
        "                requested_run_time = start_time \n",
        "            )\n",
        "        )\n",
        "    )\n",
        "    # monitor job before continuing:\n",
        "    while True:\n",
        "        state = transfer_client.get_transfer_run(\n",
        "            name = backfill_jobs[-1].runs[0].name\n",
        "        ).state.name\n",
        "        if state in ['FAILED', 'SUCCEEDED', 'CANCELLED']:\n",
        "            break\n",
        "        else:\n",
        "            time.sleep(10)    "
      ]
    },
    {
      "cell_type": "code",
      "execution_count": 298,
      "metadata": {
        "tags": [],
        "id": "Xr0POP8Kq1-s"
      },
      "outputs": [],
      "source": [
        "backfill_results = [transfer_client.get_transfer_run(name = j.runs[0].name) for j in backfill_jobs]"
      ]
    },
    {
      "cell_type": "code",
      "execution_count": 299,
      "metadata": {
        "tags": [],
        "id": "IXQa46lcq1-s"
      },
      "outputs": [
        {
          "data": {
            "text/html": [
              "\u003cstyle type=\"text/css\"\u003e\n",
              "#T_e24e5_row0_col0, #T_e24e5_row0_col1, #T_e24e5_row1_col0, #T_e24e5_row1_col1, #T_e24e5_row2_col0, #T_e24e5_row2_col1, #T_e24e5_row3_col0, #T_e24e5_row3_col1, #T_e24e5_row4_col0, #T_e24e5_row4_col1, #T_e24e5_row5_col0, #T_e24e5_row5_col1, #T_e24e5_row6_col0, #T_e24e5_row6_col1, #T_e24e5_row7_col0, #T_e24e5_row7_col1, #T_e24e5_row8_col0, #T_e24e5_row8_col1, #T_e24e5_row9_col0, #T_e24e5_row9_col1, #T_e24e5_row10_col0, #T_e24e5_row10_col1, #T_e24e5_row11_col0, #T_e24e5_row11_col1, #T_e24e5_row12_col0, #T_e24e5_row12_col1, #T_e24e5_row13_col0, #T_e24e5_row13_col1, #T_e24e5_row14_col0, #T_e24e5_row14_col1, #T_e24e5_row15_col0, #T_e24e5_row15_col1, #T_e24e5_row16_col0, #T_e24e5_row16_col1, #T_e24e5_row17_col0, #T_e24e5_row17_col1, #T_e24e5_row18_col0, #T_e24e5_row18_col1, #T_e24e5_row19_col0, #T_e24e5_row19_col1, #T_e24e5_row20_col0, #T_e24e5_row20_col1, #T_e24e5_row21_col0, #T_e24e5_row21_col1, #T_e24e5_row22_col0, #T_e24e5_row22_col1, #T_e24e5_row23_col0, #T_e24e5_row23_col1, #T_e24e5_row24_col0, #T_e24e5_row24_col1, #T_e24e5_row25_col0, #T_e24e5_row25_col1, #T_e24e5_row26_col0, #T_e24e5_row26_col1, #T_e24e5_row27_col0, #T_e24e5_row27_col1, #T_e24e5_row28_col0, #T_e24e5_row28_col1, #T_e24e5_row29_col0, #T_e24e5_row29_col1, #T_e24e5_row30_col0, #T_e24e5_row30_col1 {\n",
              "  text-align: left;\n",
              "  white-space: pre-wrap;\n",
              "}\n",
              "\u003c/style\u003e\n",
              "\u003ctable id=\"T_e24e5\"\u003e\n",
              "  \u003cthead\u003e\n",
              "    \u003ctr\u003e\n",
              "      \u003cth class=\"blank level0\" \u003e\u0026nbsp;\u003c/th\u003e\n",
              "      \u003cth id=\"T_e24e5_level0_col0\" class=\"col_heading level0 col0\" \u003eDate\u003c/th\u003e\n",
              "      \u003cth id=\"T_e24e5_level0_col1\" class=\"col_heading level0 col1\" \u003eResult\u003c/th\u003e\n",
              "    \u003c/tr\u003e\n",
              "  \u003c/thead\u003e\n",
              "  \u003ctbody\u003e\n",
              "    \u003ctr\u003e\n",
              "      \u003cth id=\"T_e24e5_level0_row0\" class=\"row_heading level0 row0\" \u003e0\u003c/th\u003e\n",
              "      \u003ctd id=\"T_e24e5_row0_col0\" class=\"data row0 col0\" \u003e2025-03-05 11:18:58.816701+00:00\u003c/td\u003e\n",
              "      \u003ctd id=\"T_e24e5_row0_col1\" class=\"data row0 col1\" \u003eQuery error: \n",
              "\n",
              "Monitoring Report for 2025-03-05:\n",
              "\t\n",
              "\tDrift: not detected.\n",
              "\t\n",
              "\tSkew: detected in the following features\n",
              "\t\tflipper_length_mm: https://console.cloud.google.com/vertex-ai/model-monitoring/locations/us-central1/model-monitors/bq396260862588505937/model-monitoring-jobs/bqjob13782790639958633152/feature-drift?project=statmike-mlops-349915\u0026featureName=flipper_length_mm\n",
              "\n",
              "The Model was retrained:\n",
              "\taccuracy of prior model: 0.97142857142857153\n",
              "\trecent accuracy of prior model: 0.9157127991675339\n",
              "\taccuracy after retraining: 0.98739495798319332\n",
              "\n",
              " at [158:9]; JobID: 1026793852137:scheduled_query_67f40ebc-0000-2e26-8d2c-34c7e921a1ab\u003c/td\u003e\n",
              "    \u003c/tr\u003e\n",
              "    \u003ctr\u003e\n",
              "      \u003cth id=\"T_e24e5_level0_row1\" class=\"row_heading level0 row1\" \u003e1\u003c/th\u003e\n",
              "      \u003ctd id=\"T_e24e5_row1_col0\" class=\"data row1 col0\" \u003e2025-03-06 11:25:46.200832+00:00\u003c/td\u003e\n",
              "      \u003ctd id=\"T_e24e5_row1_col1\" class=\"data row1 col1\" \u003eQuery error: \n",
              "\n",
              "Monitoring Report for 2025-03-06:\n",
              "\t\n",
              "\tDrift: not detected.\n",
              "\t\n",
              "\tSkew: detected in the following features\n",
              "\t\tflipper_length_mm: https://console.cloud.google.com/vertex-ai/model-monitoring/locations/us-central1/model-monitors/bq9495262413786679528/model-monitoring-jobs/bqjob18222407802400569388/feature-drift?project=statmike-mlops-349915\u0026featureName=flipper_length_mm\n",
              "\n",
              "The Model was retrained:\n",
              "\taccuracy of prior model: 0.98739495798319332\n",
              "\trecent accuracy of prior model: 0.921436004162331\n",
              "\taccuracy after retraining: 0.98333333333333339\n",
              "\n",
              " at [158:9]; JobID: 1026793852137:scheduled_query_67f8348d-0000-26c4-89bf-14c14ef56488\u003c/td\u003e\n",
              "    \u003c/tr\u003e\n",
              "    \u003ctr\u003e\n",
              "      \u003cth id=\"T_e24e5_level0_row2\" class=\"row_heading level0 row2\" \u003e2\u003c/th\u003e\n",
              "      \u003ctd id=\"T_e24e5_row2_col0\" class=\"data row2 col0\" \u003e2025-03-07 11:33:18.623051+00:00\u003c/td\u003e\n",
              "      \u003ctd id=\"T_e24e5_row2_col1\" class=\"data row2 col1\" \u003eQuery error: \n",
              "\n",
              "Monitoring Report for 2025-03-07:\n",
              "\t\n",
              "\tDrift: not detected.\n",
              "\t\n",
              "\tSkew: detected in the following features\n",
              "\t\tflipper_length_mm: https://console.cloud.google.com/vertex-ai/model-monitoring/locations/us-central1/model-monitors/bq4334487835272419365/model-monitoring-jobs/bqjob11350782262199499227/feature-drift?project=statmike-mlops-349915\u0026featureName=flipper_length_mm\n",
              "\n",
              "The Model was retrained:\n",
              "\taccuracy of prior model: 0.98333333333333339\n",
              "\trecent accuracy of prior model: 0.95161290322580649\n",
              "\taccuracy after retraining: 0.98342541436464082\n",
              "\n",
              " at [158:9]; JobID: 1026793852137:scheduled_query_67f80bc5-0000-2e60-8c04-ac3eb14248f0\u003c/td\u003e\n",
              "    \u003c/tr\u003e\n",
              "    \u003ctr\u003e\n",
              "      \u003cth id=\"T_e24e5_level0_row3\" class=\"row_heading level0 row3\" \u003e3\u003c/th\u003e\n",
              "      \u003ctd id=\"T_e24e5_row3_col0\" class=\"data row3 col0\" \u003e2025-03-08 11:40:51.031018+00:00\u003c/td\u003e\n",
              "      \u003ctd id=\"T_e24e5_row3_col1\" class=\"data row3 col1\" \u003eQuery error: \n",
              "\n",
              "Monitoring Report for 2025-03-08:\n",
              "\t\n",
              "\tDrift: not detected.\n",
              "\t\n",
              "\tSkew: detected in the following features\n",
              "\t\tflipper_length_mm: https://console.cloud.google.com/vertex-ai/model-monitoring/locations/us-central1/model-monitors/bq8660265405392394364/model-monitoring-jobs/bqjob16244444951646887204/feature-drift?project=statmike-mlops-349915\u0026featureName=flipper_length_mm\n",
              "\n",
              "The Model was retrained:\n",
              "\taccuracy of prior model: 0.98342541436464082\n",
              "\trecent accuracy of prior model: 0.96305931321540061\n",
              "\taccuracy after retraining: 0.99528301886792447\n",
              "\n",
              " at [158:9]; JobID: 1026793852137:scheduled_query_67f6e166-0000-27bf-8cf2-582429af8388\u003c/td\u003e\n",
              "    \u003c/tr\u003e\n",
              "    \u003ctr\u003e\n",
              "      \u003cth id=\"T_e24e5_level0_row4\" class=\"row_heading level0 row4\" \u003e4\u003c/th\u003e\n",
              "      \u003ctd id=\"T_e24e5_row4_col0\" class=\"data row4 col0\" \u003e2025-03-09 11:48:23.417334+00:00\u003c/td\u003e\n",
              "      \u003ctd id=\"T_e24e5_row4_col1\" class=\"data row4 col1\" \u003eQuery error: \n",
              "\n",
              "Monitoring Report for 2025-03-09:\n",
              "\t\n",
              "\tDrift: not detected.\n",
              "\t\n",
              "\tSkew: detected in the following features\n",
              "\t\tflipper_length_mm: https://console.cloud.google.com/vertex-ai/model-monitoring/locations/us-central1/model-monitors/bq8904206990166901913/model-monitoring-jobs/bqjob8385523710029550318/feature-drift?project=statmike-mlops-349915\u0026featureName=flipper_length_mm\n",
              "\n",
              "The Model was retrained:\n",
              "\taccuracy of prior model: 0.99528301886792447\n",
              "\trecent accuracy of prior model: 0.98491155046826229\n",
              "\taccuracy after retraining: 0.99588477366255157\n",
              "\n",
              " at [158:9]; JobID: 1026793852137:scheduled_query_67f65957-0000-2360-964e-c82add6fa3f4\u003c/td\u003e\n",
              "    \u003c/tr\u003e\n",
              "    \u003ctr\u003e\n",
              "      \u003cth id=\"T_e24e5_level0_row5\" class=\"row_heading level0 row5\" \u003e5\u003c/th\u003e\n",
              "      \u003ctd id=\"T_e24e5_row5_col0\" class=\"data row5 col0\" \u003e2025-03-10 11:55:55.683120+00:00\u003c/td\u003e\n",
              "      \u003ctd id=\"T_e24e5_row5_col1\" class=\"data row5 col1\" \u003eQuery error: \n",
              "\n",
              "Monitoring Report for 2025-03-10:\n",
              "\t\n",
              "\tDrift: not detected.\n",
              "\t\n",
              "\tSkew: detected in the following features\n",
              "\t\tflipper_length_mm: https://console.cloud.google.com/vertex-ai/model-monitoring/locations/us-central1/model-monitors/bq13021215319941926549/model-monitoring-jobs/bqjob17826485246628433956/feature-drift?project=statmike-mlops-349915\u0026featureName=flipper_length_mm\n",
              "\n",
              "The Model was retrained:\n",
              "\taccuracy of prior model: 0.99588477366255157\n",
              "\trecent accuracy of prior model: 0.99739854318418308\n",
              "\taccuracy after retraining: 0.98979591836734682\n",
              "\n",
              " at [158:9]; JobID: 1026793852137:scheduled_query_67f771fb-0000-21be-a53b-14c14ef4eec0\u003c/td\u003e\n",
              "    \u003c/tr\u003e\n",
              "    \u003ctr\u003e\n",
              "      \u003cth id=\"T_e24e5_level0_row6\" class=\"row_heading level0 row6\" \u003e6\u003c/th\u003e\n",
              "      \u003ctd id=\"T_e24e5_row6_col0\" class=\"data row6 col0\" \u003e2025-03-11 12:04:48.261759+00:00\u003c/td\u003e\n",
              "      \u003ctd id=\"T_e24e5_row6_col1\" class=\"data row6 col1\" \u003e\u003c/td\u003e\n",
              "    \u003c/tr\u003e\n",
              "    \u003ctr\u003e\n",
              "      \u003cth id=\"T_e24e5_level0_row7\" class=\"row_heading level0 row7\" \u003e7\u003c/th\u003e\n",
              "      \u003ctd id=\"T_e24e5_row7_col0\" class=\"data row7 col0\" \u003e2025-03-12 12:07:19.083110+00:00\u003c/td\u003e\n",
              "      \u003ctd id=\"T_e24e5_row7_col1\" class=\"data row7 col1\" \u003e\u003c/td\u003e\n",
              "    \u003c/tr\u003e\n",
              "    \u003ctr\u003e\n",
              "      \u003cth id=\"T_e24e5_level0_row8\" class=\"row_heading level0 row8\" \u003e8\u003c/th\u003e\n",
              "      \u003ctd id=\"T_e24e5_row8_col0\" class=\"data row8 col0\" \u003e2025-03-13 12:08:39.446612+00:00\u003c/td\u003e\n",
              "      \u003ctd id=\"T_e24e5_row8_col1\" class=\"data row8 col1\" \u003eQuery error: \n",
              "\n",
              "Monitoring Report for 2025-03-13:\n",
              "\t\n",
              "\tDrift: detected in the following features\n",
              "\t\tflipper_length_mm: https://console.cloud.google.com/vertex-ai/model-monitoring/locations/us-central1/model-monitors/bq2962133377625510653/model-monitoring-jobs/bqjob9387207478024676650/feature-drift?project=statmike-mlops-349915\u0026featureName=flipper_length_mm\n",
              "\t\n",
              "\tSkew: detected in the following features\n",
              "\t\tflipper_length_mm: https://console.cloud.google.com/vertex-ai/model-monitoring/locations/us-central1/model-monitors/bq15593530003012463870/model-monitoring-jobs/bqjob674581215456668443/feature-drift?project=statmike-mlops-349915\u0026featureName=flipper_length_mm\n",
              "\n",
              "The Model was retrained:\n",
              "\taccuracy of prior model: 0.98979591836734682\n",
              "\trecent accuracy of prior model: 0.9946236559139785\n",
              "\taccuracy after retraining: 0.979020979020979\n",
              "\n",
              " at [158:9]; JobID: 1026793852137:scheduled_query_67f88f0d-0000-26c4-89bf-14c14ef56488\u003c/td\u003e\n",
              "    \u003c/tr\u003e\n",
              "    \u003ctr\u003e\n",
              "      \u003cth id=\"T_e24e5_level0_row9\" class=\"row_heading level0 row9\" \u003e9\u003c/th\u003e\n",
              "      \u003ctd id=\"T_e24e5_row9_col0\" class=\"data row9 col0\" \u003e2025-03-14 12:18:42.949754+00:00\u003c/td\u003e\n",
              "      \u003ctd id=\"T_e24e5_row9_col1\" class=\"data row9 col1\" \u003e\u003c/td\u003e\n",
              "    \u003c/tr\u003e\n",
              "    \u003ctr\u003e\n",
              "      \u003cth id=\"T_e24e5_level0_row10\" class=\"row_heading level0 row10\" \u003e10\u003c/th\u003e\n",
              "      \u003ctd id=\"T_e24e5_row10_col0\" class=\"data row10 col0\" \u003e2025-03-15 12:21:13.882350+00:00\u003c/td\u003e\n",
              "      \u003ctd id=\"T_e24e5_row10_col1\" class=\"data row10 col1\" \u003eQuery error: \n",
              "\n",
              "Monitoring Report for 2025-03-15:\n",
              "\t\n",
              "\tDrift: not detected.\n",
              "\t\n",
              "\tSkew: detected in the following features\n",
              "\t\tflipper_length_mm: https://console.cloud.google.com/vertex-ai/model-monitoring/locations/us-central1/model-monitors/bq10744874824336651090/model-monitoring-jobs/bqjob16844108672180564924/feature-drift?project=statmike-mlops-349915\u0026featureName=flipper_length_mm\n",
              "\n",
              "The Model was retrained:\n",
              "\taccuracy of prior model: 0.979020979020979\n",
              "\trecent accuracy of prior model: 0.98099078341013823\n",
              "\taccuracy after retraining: 0.99431818181818177\n",
              "\n",
              " at [158:9]; JobID: 1026793852137:scheduled_query_67fbc4df-0000-282f-9f43-582429af92c0\u003c/td\u003e\n",
              "    \u003c/tr\u003e\n",
              "    \u003ctr\u003e\n",
              "      \u003cth id=\"T_e24e5_level0_row11\" class=\"row_heading level0 row11\" \u003e11\u003c/th\u003e\n",
              "      \u003ctd id=\"T_e24e5_row11_col0\" class=\"data row11 col0\" \u003e2025-03-16 12:31:16.899802+00:00\u003c/td\u003e\n",
              "      \u003ctd id=\"T_e24e5_row11_col1\" class=\"data row11 col1\" \u003eQuery error: \n",
              "\n",
              "Monitoring Report for 2025-03-16:\n",
              "\t\n",
              "\tDrift: not detected.\n",
              "\t\n",
              "\tSkew: detected in the following features\n",
              "\t\tflipper_length_mm: https://console.cloud.google.com/vertex-ai/model-monitoring/locations/us-central1/model-monitors/bq4562219504267892858/model-monitoring-jobs/bqjob5691650007320148388/feature-drift?project=statmike-mlops-349915\u0026featureName=flipper_length_mm\n",
              "\n",
              "The Model was retrained:\n",
              "\taccuracy of prior model: 0.99431818181818177\n",
              "\trecent accuracy of prior model: 1\n",
              "\taccuracy after retraining: 0.99468085106382986\n",
              "\n",
              " at [158:9]; JobID: 1026793852137:scheduled_query_67f77eae-0000-2ca8-bda8-582429ac6818\u003c/td\u003e\n",
              "    \u003c/tr\u003e\n",
              "    \u003ctr\u003e\n",
              "      \u003cth id=\"T_e24e5_level0_row12\" class=\"row_heading level0 row12\" \u003e12\u003c/th\u003e\n",
              "      \u003ctd id=\"T_e24e5_row12_col0\" class=\"data row12 col0\" \u003e2025-03-17 12:38:49.169061+00:00\u003c/td\u003e\n",
              "      \u003ctd id=\"T_e24e5_row12_col1\" class=\"data row12 col1\" \u003e\u003c/td\u003e\n",
              "    \u003c/tr\u003e\n",
              "    \u003ctr\u003e\n",
              "      \u003cth id=\"T_e24e5_level0_row13\" class=\"row_heading level0 row13\" \u003e13\u003c/th\u003e\n",
              "      \u003ctd id=\"T_e24e5_row13_col0\" class=\"data row13 col0\" \u003e2025-03-18 12:42:05.295127+00:00\u003c/td\u003e\n",
              "      \u003ctd id=\"T_e24e5_row13_col1\" class=\"data row13 col1\" \u003eQuery error: \n",
              "\n",
              "Monitoring Report for 2025-03-18:\n",
              "\t\n",
              "\tDrift: not detected.\n",
              "\t\n",
              "\tSkew: detected in the following features\n",
              "\t\tflipper_length_mm: https://console.cloud.google.com/vertex-ai/model-monitoring/locations/us-central1/model-monitors/bq12649088279738791136/model-monitoring-jobs/bqjob15569580900745045880/feature-drift?project=statmike-mlops-349915\u0026featureName=flipper_length_mm\n",
              "\n",
              "The Model was retrained:\n",
              "\taccuracy of prior model: 0.99468085106382986\n",
              "\trecent accuracy of prior model: 1\n",
              "\taccuracy after retraining: 0.99516908212560384\n",
              "\n",
              " at [158:9]; JobID: 1026793852137:scheduled_query_67f457ef-0000-2fcb-9177-582429adf188\u003c/td\u003e\n",
              "    \u003c/tr\u003e\n",
              "    \u003ctr\u003e\n",
              "      \u003cth id=\"T_e24e5_level0_row14\" class=\"row_heading level0 row14\" \u003e14\u003c/th\u003e\n",
              "      \u003ctd id=\"T_e24e5_row14_col0\" class=\"data row14 col0\" \u003e2025-03-19 12:49:37.583832+00:00\u003c/td\u003e\n",
              "      \u003ctd id=\"T_e24e5_row14_col1\" class=\"data row14 col1\" \u003e\u003c/td\u003e\n",
              "    \u003c/tr\u003e\n",
              "    \u003ctr\u003e\n",
              "      \u003cth id=\"T_e24e5_level0_row15\" class=\"row_heading level0 row15\" \u003e15\u003c/th\u003e\n",
              "      \u003ctd id=\"T_e24e5_row15_col0\" class=\"data row15 col0\" \u003e2025-03-20 12:52:08.468993+00:00\u003c/td\u003e\n",
              "      \u003ctd id=\"T_e24e5_row15_col1\" class=\"data row15 col1\" \u003e\u003c/td\u003e\n",
              "    \u003c/tr\u003e\n",
              "    \u003ctr\u003e\n",
              "      \u003cth id=\"T_e24e5_level0_row16\" class=\"row_heading level0 row16\" \u003e16\u003c/th\u003e\n",
              "      \u003ctd id=\"T_e24e5_row16_col0\" class=\"data row16 col0\" \u003e2025-03-21 12:53:29.079899+00:00\u003c/td\u003e\n",
              "      \u003ctd id=\"T_e24e5_row16_col1\" class=\"data row16 col1\" \u003eQuery error: \n",
              "\n",
              "Monitoring Report for 2025-03-21:\n",
              "\t\n",
              "\tDrift: not detected.\n",
              "\t\n",
              "\tSkew: detected in the following features\n",
              "\t\tflipper_length_mm: https://console.cloud.google.com/vertex-ai/model-monitoring/locations/us-central1/model-monitors/bq15773857859485485506/model-monitoring-jobs/bqjob16946220060083659486/feature-drift?project=statmike-mlops-349915\u0026featureName=flipper_length_mm\n",
              "\n",
              "The Model was retrained:\n",
              "\taccuracy of prior model: 0.99516908212560384\n",
              "\trecent accuracy of prior model: 1\n",
              "\taccuracy after retraining: 0.99576271186440679\n",
              "\n",
              " at [158:9]; JobID: 1026793852137:scheduled_query_67f9fba6-0000-29fe-bca4-582429afd834\u003c/td\u003e\n",
              "    \u003c/tr\u003e\n",
              "    \u003ctr\u003e\n",
              "      \u003cth id=\"T_e24e5_level0_row17\" class=\"row_heading level0 row17\" \u003e17\u003c/th\u003e\n",
              "      \u003ctd id=\"T_e24e5_row17_col0\" class=\"data row17 col0\" \u003e2025-03-22 12:59:51.198747+00:00\u003c/td\u003e\n",
              "      \u003ctd id=\"T_e24e5_row17_col1\" class=\"data row17 col1\" \u003e\u003c/td\u003e\n",
              "    \u003c/tr\u003e\n",
              "    \u003ctr\u003e\n",
              "      \u003cth id=\"T_e24e5_level0_row18\" class=\"row_heading level0 row18\" \u003e18\u003c/th\u003e\n",
              "      \u003ctd id=\"T_e24e5_row18_col0\" class=\"data row18 col0\" \u003e2025-03-23 13:02:22.093961+00:00\u003c/td\u003e\n",
              "      \u003ctd id=\"T_e24e5_row18_col1\" class=\"data row18 col1\" \u003e\u003c/td\u003e\n",
              "    \u003c/tr\u003e\n",
              "    \u003ctr\u003e\n",
              "      \u003cth id=\"T_e24e5_level0_row19\" class=\"row_heading level0 row19\" \u003e19\u003c/th\u003e\n",
              "      \u003ctd id=\"T_e24e5_row19_col0\" class=\"data row19 col0\" \u003e2025-03-24 13:03:42.673821+00:00\u003c/td\u003e\n",
              "      \u003ctd id=\"T_e24e5_row19_col1\" class=\"data row19 col1\" \u003e\u003c/td\u003e\n",
              "    \u003c/tr\u003e\n",
              "    \u003ctr\u003e\n",
              "      \u003cth id=\"T_e24e5_level0_row20\" class=\"row_heading level0 row20\" \u003e20\u003c/th\u003e\n",
              "      \u003ctd id=\"T_e24e5_row20_col0\" class=\"data row20 col0\" \u003e2025-03-25 13:05:03.265956+00:00\u003c/td\u003e\n",
              "      \u003ctd id=\"T_e24e5_row20_col1\" class=\"data row20 col1\" \u003eQuery error: \n",
              "\n",
              "Monitoring Report for 2025-03-25:\n",
              "\t\n",
              "\tDrift: not detected.\n",
              "\t\n",
              "\tSkew: detected in the following features\n",
              "\t\tflipper_length_mm: https://console.cloud.google.com/vertex-ai/model-monitoring/locations/us-central1/model-monitors/bq5958389383329287413/model-monitoring-jobs/bqjob8205285925914773477/feature-drift?project=statmike-mlops-349915\u0026featureName=flipper_length_mm\n",
              "\n",
              "The Model was retrained:\n",
              "\taccuracy of prior model: 0.99576271186440679\n",
              "\trecent accuracy of prior model: 1\n",
              "\taccuracy after retraining: 0.99650349650349657\n",
              "\n",
              " at [158:9]; JobID: 1026793852137:scheduled_query_67f99c37-0000-2d24-936b-14223bb5f566\u003c/td\u003e\n",
              "    \u003c/tr\u003e\n",
              "    \u003ctr\u003e\n",
              "      \u003cth id=\"T_e24e5_level0_row21\" class=\"row_heading level0 row21\" \u003e21\u003c/th\u003e\n",
              "      \u003ctd id=\"T_e24e5_row21_col0\" class=\"data row21 col0\" \u003e2025-03-26 13:12:35.489700+00:00\u003c/td\u003e\n",
              "      \u003ctd id=\"T_e24e5_row21_col1\" class=\"data row21 col1\" \u003e\u003c/td\u003e\n",
              "    \u003c/tr\u003e\n",
              "    \u003ctr\u003e\n",
              "      \u003cth id=\"T_e24e5_level0_row22\" class=\"row_heading level0 row22\" \u003e22\u003c/th\u003e\n",
              "      \u003ctd id=\"T_e24e5_row22_col0\" class=\"data row22 col0\" \u003e2025-03-27 13:16:20.956934+00:00\u003c/td\u003e\n",
              "      \u003ctd id=\"T_e24e5_row22_col1\" class=\"data row22 col1\" \u003e\u003c/td\u003e\n",
              "    \u003c/tr\u003e\n",
              "    \u003ctr\u003e\n",
              "      \u003cth id=\"T_e24e5_level0_row23\" class=\"row_heading level0 row23\" \u003e23\u003c/th\u003e\n",
              "      \u003ctd id=\"T_e24e5_row23_col0\" class=\"data row23 col0\" \u003e2025-03-28 13:19:35.777471+00:00\u003c/td\u003e\n",
              "      \u003ctd id=\"T_e24e5_row23_col1\" class=\"data row23 col1\" \u003e\u003c/td\u003e\n",
              "    \u003c/tr\u003e\n",
              "    \u003ctr\u003e\n",
              "      \u003cth id=\"T_e24e5_level0_row24\" class=\"row_heading level0 row24\" \u003e24\u003c/th\u003e\n",
              "      \u003ctd id=\"T_e24e5_row24_col0\" class=\"data row24 col0\" \u003e2025-03-29 13:20:56.473949+00:00\u003c/td\u003e\n",
              "      \u003ctd id=\"T_e24e5_row24_col1\" class=\"data row24 col1\" \u003e\u003c/td\u003e\n",
              "    \u003c/tr\u003e\n",
              "    \u003ctr\u003e\n",
              "      \u003cth id=\"T_e24e5_level0_row25\" class=\"row_heading level0 row25\" \u003e25\u003c/th\u003e\n",
              "      \u003ctd id=\"T_e24e5_row25_col0\" class=\"data row25 col0\" \u003e2025-03-30 13:22:16.987588+00:00\u003c/td\u003e\n",
              "      \u003ctd id=\"T_e24e5_row25_col1\" class=\"data row25 col1\" \u003e\u003c/td\u003e\n",
              "    \u003c/tr\u003e\n",
              "    \u003ctr\u003e\n",
              "      \u003cth id=\"T_e24e5_level0_row26\" class=\"row_heading level0 row26\" \u003e26\u003c/th\u003e\n",
              "      \u003ctd id=\"T_e24e5_row26_col0\" class=\"data row26 col0\" \u003e2025-03-31 13:23:37.537145+00:00\u003c/td\u003e\n",
              "      \u003ctd id=\"T_e24e5_row26_col1\" class=\"data row26 col1\" \u003e\u003c/td\u003e\n",
              "    \u003c/tr\u003e\n",
              "    \u003ctr\u003e\n",
              "      \u003cth id=\"T_e24e5_level0_row27\" class=\"row_heading level0 row27\" \u003e27\u003c/th\u003e\n",
              "      \u003ctd id=\"T_e24e5_row27_col0\" class=\"data row27 col0\" \u003e2025-04-01 13:24:58.082075+00:00\u003c/td\u003e\n",
              "      \u003ctd id=\"T_e24e5_row27_col1\" class=\"data row27 col1\" \u003e\u003c/td\u003e\n",
              "    \u003c/tr\u003e\n",
              "    \u003ctr\u003e\n",
              "      \u003cth id=\"T_e24e5_level0_row28\" class=\"row_heading level0 row28\" \u003e28\u003c/th\u003e\n",
              "      \u003ctd id=\"T_e24e5_row28_col0\" class=\"data row28 col0\" \u003e2025-04-02 13:26:18.680499+00:00\u003c/td\u003e\n",
              "      \u003ctd id=\"T_e24e5_row28_col1\" class=\"data row28 col1\" \u003e\u003c/td\u003e\n",
              "    \u003c/tr\u003e\n",
              "    \u003ctr\u003e\n",
              "      \u003cth id=\"T_e24e5_level0_row29\" class=\"row_heading level0 row29\" \u003e29\u003c/th\u003e\n",
              "      \u003ctd id=\"T_e24e5_row29_col0\" class=\"data row29 col0\" \u003e2025-04-03 13:27:42.168567+00:00\u003c/td\u003e\n",
              "      \u003ctd id=\"T_e24e5_row29_col1\" class=\"data row29 col1\" \u003e\u003c/td\u003e\n",
              "    \u003c/tr\u003e\n",
              "    \u003ctr\u003e\n",
              "      \u003cth id=\"T_e24e5_level0_row30\" class=\"row_heading level0 row30\" \u003e30\u003c/th\u003e\n",
              "      \u003ctd id=\"T_e24e5_row30_col0\" class=\"data row30 col0\" \u003e2025-04-04 13:29:09.578549+00:00\u003c/td\u003e\n",
              "      \u003ctd id=\"T_e24e5_row30_col1\" class=\"data row30 col1\" \u003e\u003c/td\u003e\n",
              "    \u003c/tr\u003e\n",
              "  \u003c/tbody\u003e\n",
              "\u003c/table\u003e\n"
            ],
            "text/plain": [
              "\u003cpandas.io.formats.style.Styler at 0x7f3336b6e290\u003e"
            ]
          },
          "execution_count": 299,
          "metadata": {},
          "output_type": "execute_result"
        }
      ],
      "source": [
        "pd.DataFrame(\n",
        "    {\n",
        "        'Date':[r.run_time for r in backfill_results],\n",
        "        'Result':[r.error_status.message for r in backfill_results]\n",
        "    }\n",
        ").style.set_properties(**{'text-align': 'left', 'white-space': 'pre-wrap'})"
      ]
    },
    {
      "cell_type": "markdown",
      "metadata": {
        "id": "hF1KBj-fq1-s"
      },
      "source": [
        "---\n",
        "## More Resources\n",
        "\n",
        "Did you also check out the ['BigQuery ML (BQML) - Model Monitoring Introduction'](./bqml-model-monitoring-introduction.ipynb) for quick overview of model monitoring with BigQuery?  If not, try it out also. \n",
        "\n",
        "Read more about model monitoring in the documentation for the model monitoring functions:\n",
        "* [BigQuery ML Documentation](https://cloud.google.com/bigquery-ml/docs/)\n",
        "* [BigQuery ML Model Monitoring](https://cloud.google.com/bigquery/docs/model-monitoring-overview)\n",
        "    - [`ML.DESCRIBE_DATA`](https://cloud.google.com/bigquery/docs/reference/standard-sql/bigqueryml-syntax-describe-data)\n",
        "    - [`ML.VALIDATE_DATA_SKEW`](https://cloud.google.com/bigquery/docs/reference/standard-sql/bigqueryml-syntax-validate-data-skew)\n",
        "    - [`ML.VALIDATE_DATA_DRIFT`](https://cloud.google.com/bigquery/docs/reference/standard-sql/bigqueryml-syntax-validate-data-drift)\n",
        "    - [`ML.TFDV_DESCRIBE`](https://cloud.google.com/bigquery/docs/reference/standard-sql/bigqueryml-syntax-tfdv-describe)\n",
        "    - [`ML.TFDV_VALIDATE`](https://cloud.google.com/bigquery/docs/reference/standard-sql/bigqueryml-syntax-tfdv-validate)"
      ]
    },
    {
      "cell_type": "markdown",
      "metadata": {
        "id": "A_SUyIiNq1-s"
      },
      "source": [
        "---\n",
        "## Remove Resources Created In This Notebook\n",
        "\n",
        "The content is contained within the BigQuery dataset named `bqml_model_monitoring` created above and Vertex AI (endpoint created above).\n",
        "\n",
        "The following will delete the Vertex AI and BigQuery resources created above and the BigQuery dataset if it is empty."
      ]
    },
    {
      "cell_type": "code",
      "execution_count": 300,
      "metadata": {
        "tags": [],
        "id": "oE9berBNq1-s"
      },
      "outputs": [],
      "source": [
        "# to remove resources change this flag to True:\n",
        "remove = False"
      ]
    },
    {
      "cell_type": "code",
      "execution_count": 301,
      "metadata": {
        "id": "e8lBbqnuq1-s"
      },
      "outputs": [],
      "source": [
        "if remove:\n",
        "    # client for BigQuery\n",
        "    from google.cloud import bigquery\n",
        "    bq = bigquery.Client(project = 'statmike-mlops-349915')\n",
        "    \n",
        "    # delete BigQuery table(s) and model(s) created above\n",
        "    bq.delete_table('statmike-mlops-349915.bqml_model_monitoring.training_split')\n",
        "    bq.delete_table('statmike-mlops-349915.bqml_model_monitoring.serving')\n",
        "    bq.delete_table('statmike-mlops-349915.bqml_model_monitoring.serving_online')\n",
        "    bq.delete_table('statmike-mlops-349915.bqml_model_monitoring.serving_all')\n",
        "    bq.delete_model('statmike-mlops-349915.bqml_model_monitoring.classify_species_rf')\n",
        "    \n",
        "    # delete BigQuery dataset - fails if other content was in the dataset than what this notebook created\n",
        "    bq.delete_dataset('statmike-mlops-349915.bqml_model_monitoring', delete_contents = False)\n",
        "    \n",
        "    # delete the scheduled query\n",
        "    transfer_client.delete_transfer_config(\n",
        "        name = scheduled_query.name\n",
        "    )"
      ]
    },
    {
      "cell_type": "code",
      "execution_count": null,
      "metadata": {
        "id": "u64qS-1Yq1-s"
      },
      "outputs": [],
      "source": []
    }
  ],
  "metadata": {
    "environment": {
      "kernel": "conda-base-py",
      "name": "workbench-notebooks.m128",
      "type": "gcloud",
      "uri": "us-docker.pkg.dev/deeplearning-platform-release/gcr.io/workbench-notebooks:m128"
    },
    "kernelspec": {
      "display_name": "Python 3 (ipykernel) (Local)",
      "language": "python",
      "name": "conda-base-py"
    },
    "language_info": {
      "codemirror_mode": {
        "name": "ipython",
        "version": 3
      },
      "file_extension": ".py",
      "mimetype": "text/x-python",
      "name": "python",
      "nbconvert_exporter": "python",
      "pygments_lexer": "ipython3",
      "version": "3.10.16"
    }
  },
  "nbformat": 4,
  "nbformat_minor": 4
}
