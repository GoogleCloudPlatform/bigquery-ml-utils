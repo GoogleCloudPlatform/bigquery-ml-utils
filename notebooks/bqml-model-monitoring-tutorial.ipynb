{
  "cells": [
    {
      "cell_type": "markdown",
      "metadata": {
        "id": "cW621uZrxLVM"
      },
      "source": [
        "\u003c!--- header table ---\u003e\n",
        "\u003ctable align=\"left\"\u003e\n",
        "  \u003ctd style=\"text-align: center\"\u003e\n",
        "    \u003ca href=\"https://colab.research.google.com/github/GoogleCloudPlatform/bigquery-ml-utils/blob/master/notebooks/bqml-model-monitoring-tutorial.ipynb\"\u003e\n",
        "      \u003cimg src=\"https://cloud.google.com/ml-engine/images/colab-logo-32px.png\" alt=\"Google Colaboratory logo\"\u003e\n",
        "      \u003cbr\u003eRun in\u003cbr\u003eColab\n",
        "    \u003c/a\u003e\n",
        "  \u003c/td\u003e\n",
        "  \u003ctd style=\"text-align: center\"\u003e\n",
        "    \u003ca href=\"https://console.cloud.google.com/vertex-ai/colab/import/https%3A%2F%2Fraw.githubusercontent.com%2FGoogleCloudPlatform%2Fbigquery-ml-utils%2Fmaster%2Fnotebooks%2Fbqml-model-monitoring-tutorial.ipynb\"\u003e\n",
        "      \u003cimg width=\"32px\" src=\"https://lh3.googleusercontent.com/JmcxdQi-qOpctIvWKgPtrzZdJJK-J3sWE1RsfjZNwshCFgE_9fULcNpuXYTilIR2hjwN\" alt=\"Google Cloud Colab Enterprise logo\"\u003e\n",
        "      \u003cbr\u003eRun in\u003cbr\u003eColab Enterprise\n",
        "    \u003c/a\u003e\n",
        "  \u003c/td\u003e      \n",
        "  \u003ctd style=\"text-align: center\"\u003e\n",
        "    \u003ca href=\"https://github.com/GoogleCloudPlatform/bigquery-ml-utils/blob/master/notebooks/bqml-model-monitoring-tutorial.ipynb\"\u003e\n",
        "      \u003cimg src=\"https://cloud.google.com/ml-engine/images/github-logo-32px.png\" alt=\"GitHub logo\"\u003e\n",
        "      \u003cbr\u003eView on\u003cbr\u003eGitHub\n",
        "    \u003c/a\u003e\n",
        "  \u003c/td\u003e\n",
        "  \u003ctd style=\"text-align: center\"\u003e\n",
        "    \u003ca href=\"https://console.cloud.google.com/vertex-ai/workbench/deploy-notebook?download_url=https://raw.githubusercontent.com/GoogleCloudPlatform/bigquery-ml-utils/master/notebooks/bqml-model-monitoring-tutorial.ipynb\"\u003e\n",
        "      \u003cimg src=\"https://lh3.googleusercontent.com/UiNooY4LUgW_oTvpsNhPpQzsstV5W8F7rYgxgGBD85cWJoLmrOzhVs_ksK_vgx40SHs7jCqkTkCk=e14-rj-sc0xffffff-h130-w32\" alt=\"Vertex AI logo\"\u003e\n",
        "      \u003cbr\u003eOpen in\u003cbr\u003eVertex AI Workbench\n",
        "    \u003c/a\u003e\n",
        "  \u003c/td\u003e\n",
        "\u003c/table\u003e"
      ]
    },
    {
      "cell_type": "markdown",
      "metadata": {
        "id": "jwgBsT4ZeFWn"
      },
      "source": [
        "# BigQuery ML (BQML) - Model Monitoring Tutorial \n",
        "\n",
        "This notebook provides an in-depth look at model monitoring with BigQuery ML that accompanies the [blog announcing these features](link here). It complements the introductory notebook, ['BigQuery ML (BQML) - Model Monitoring Introduction'](./bqml-model-monitoring-introduction.ipynb), and delves deeper into various monitoring techniques and tools.\n",
        "\n",
        "**Key Areas Covered:**\n",
        "\n",
        "* **Data Preparation and Understanding:**\n",
        "    * Employing `ML.DESCRIBE_DATA` to analyze feature distributions and identify potential data quality issues.\n",
        "    * Splitting data into training, evaluation, and test sets while preserving data balance.\n",
        "* **Model Training and Evaluation:**\n",
        "    * Training a random forest model using `CREATE MODEL` with the `TRANSFORM` clause for incorporating feature engineering.\n",
        "    * Evaluating model performance using `ML.EVALUATE` and `ML.CONFUSION_MATRIX` on different data splits.\n",
        "* **Model Serving and Data Drift Simulation:**\n",
        "    * Generating predictions with `ML.PREDICT` and simulating data drift over time to represent real-world scenarios.\n",
        "* **Model Monitoring Techniques:**\n",
        "    * Implementing `ML.VALIDATE_DATA_SKEW` to detect changes between training and serving data distributions.\n",
        "    * Using `ML.VALIDATE_DATA_DRIFT` to identify gradual shifts in the serving data distribution over time.\n",
        "    * Understanding the metrics used for monitoring: L-infinity distance and Jensen-Shannon divergence.\n",
        "* **TensorFlow Data Validation (TFDV) Integration:**\n",
        "    * Leveraging `ML.TFDV_DESCRIBE` and `ML.TFDV_VALIDATE` to generate descriptive statistics and detect anomalies.\n",
        "    * Visualizing feature distributions using `tfdv.visualize_statistics` for comparative analysis.\n",
        "* **Monitoring Feature Attributions and Drift:**\n",
        "    * Employing `ML.EXPLAIN_PREDICT` to obtain feature attributions and understand feature importance for predictions.\n",
        "    * Monitoring drift in feature attributions over time to gain insights into model behavior changes. \n",
        "* **Continuous Monitoring and Automation:**\n",
        "    * Building a BigQuery SQL job using procedural language to automate skew and drift detection.\n",
        "    * Incorporating alerting mechanisms and model retraining when anomalies are detected.\n",
        "    * Discussing options for automating monitoring jobs:\n",
        "        * BigQuery Scheduled Queries\n",
        "        * Dataform\n",
        "        * Workflows\n",
        "        * Cloud Composer\n",
        "        * Vertex AI Pipelines\n",
        "* **Model Monitoring for Online Inference with Vertex AI:**\n",
        "    * Deploying the trained BigQuery ML model to Vertex AI for online predictions. \n",
        "    * Enabling request-response logging to BigQuery for continuous monitoring of online predictions.\n",
        "\n",
        "**Target Audience:**\n",
        "\n",
        "This tutorial is designed for data scientists, machine learning engineers, and individuals with a basic understanding of BigQuery, SQL, and machine learning concepts who want to delve deeper into model monitoring with BigQuery ML. \n"
      ]
    },
    {
      "cell_type": "markdown",
      "metadata": {
        "id": "J_-1oCZ7oQe_"
      },
      "source": [
        "---\n",
        "## Colab Setup\n",
        "\n",
        "When running this notebook in [Colab](https://colab.google/) or [Colab Enterprise](https://cloud.google.com/colab/docs/introduction), this section will authenticate to GCP (follow prompts in the popup) and set the current project for the session."
      ]
    },
    {
      "cell_type": "code",
      "execution_count": 1,
      "metadata": {
        "executionInfo": {
          "elapsed": 178,
          "status": "ok",
          "timestamp": 1710716382256,
          "user": {
            "displayName": "Mike Henderson",
            "userId": "07691629187611687318"
          },
          "user_tz": 240
        },
        "id": "bUeb3Vz9c-cz",
        "tags": []
      },
      "outputs": [],
      "source": [
        "PROJECT_ID = 'statmike-mlops-349915' # replace with project ID"
      ]
    },
    {
      "cell_type": "code",
      "execution_count": 2,
      "metadata": {
        "colab": {
          "base_uri": "https://localhost:8080/"
        },
        "executionInfo": {
          "elapsed": 1769,
          "status": "ok",
          "timestamp": 1710716384851,
          "user": {
            "displayName": "Mike Henderson",
            "userId": "07691629187611687318"
          },
          "user_tz": 240
        },
        "id": "ztC0h14fc-fr",
        "outputId": "16d1144f-1671-4919-edba-31bc197ffc7b",
        "tags": []
      },
      "outputs": [
        {
          "name": "stdout",
          "output_type": "stream",
          "text": [
            "Not a Colab Environment\n"
          ]
        }
      ],
      "source": [
        "try:\n",
        "    from google.colab import auth\n",
        "    auth.authenticate_user(project_id = PROJECT_ID)\n",
        "    print('Colab authorized to GCP')\n",
        "except Exception:\n",
        "    print('Not a Colab Environment')\n",
        "    pass"
      ]
    },
    {
      "cell_type": "markdown",
      "metadata": {
        "id": "5vf7Uf0HxLVM"
      },
      "source": [
        "---\n",
        "## Installs\n",
        "\n",
        "The list `packages` contains tuples of package import names and install names.  If the import name is not found then the install name is used to install quitely for the current user."
      ]
    },
    {
      "cell_type": "code",
      "execution_count": 3,
      "metadata": {
        "tags": [],
        "id": "iB13Nen6xLVM"
      },
      "outputs": [],
      "source": [
        "# tuples of (import name, install name, min_version)\n",
        "packages = [\n",
        "    ('tensorflow_data_validation', 'tensorflow-data-validation'),\n",
        "    ('tensorflow_metadata', 'tensorflow-metadata'),\n",
        "    ('google.cloud.aiplatform', 'google-cloud-aiplatform'),\n",
        "    ('google.cloud.bigquery', 'google-cloud-bigquery'),\n",
        "    ('google.cloud.bigquery_datatransfer', 'google-cloud-bigquery-datatransfer'),\n",
        "    ('numpy', 'numpy'),\n",
        "    ('pandas', 'pandas')\n",
        "]\n",
        "\n",
        "import importlib\n",
        "install = False\n",
        "for package in packages:\n",
        "    if not importlib.util.find_spec(package[0]):\n",
        "        print(f'installing package {package[1]}')\n",
        "        install = True\n",
        "        !pip install {package[1]} -U -q --user\n",
        "    elif len(package) == 3:\n",
        "        if importlib.metadata.version(package[0]) \u003c package[2]:\n",
        "            print(f'updating package {package[1]}')\n",
        "            install = True\n",
        "            !pip install {package[1]} -U -q --user"
      ]
    },
    {
      "cell_type": "markdown",
      "metadata": {
        "id": "hiR5YHsYxLVM"
      },
      "source": [
        "### Restart Kernel (If Installs Occured)\n",
        "After a kernel restart the code submission can start with the next cell after this one."
      ]
    },
    {
      "cell_type": "code",
      "execution_count": 4,
      "metadata": {
        "tags": [],
        "id": "gLvha18ExLVM"
      },
      "outputs": [],
      "source": [
        "if install:\n",
        "    import IPython\n",
        "    app = IPython.Application.instance()\n",
        "    app.kernel.do_shutdown(True)"
      ]
    },
    {
      "cell_type": "markdown",
      "metadata": {
        "id": "yt5uZFvRoWLp"
      },
      "source": [
        "---\n",
        "## Setup"
      ]
    },
    {
      "cell_type": "markdown",
      "metadata": {
        "id": "sssVoM75xLVM"
      },
      "source": [
        "Packages:"
      ]
    },
    {
      "cell_type": "code",
      "execution_count": 5,
      "metadata": {
        "tags": [],
        "id": "tC6iY-CBxLVM"
      },
      "outputs": [],
      "source": [
        "import json"
      ]
    },
    {
      "cell_type": "markdown",
      "metadata": {
        "id": "y1HhwZO6xLVM"
      },
      "source": [
        "Clients:"
      ]
    },
    {
      "cell_type": "code",
      "execution_count": 6,
      "metadata": {
        "colab": {
          "base_uri": "https://localhost:8080/"
        },
        "executionInfo": {
          "elapsed": 159,
          "status": "ok",
          "timestamp": 1710716582376,
          "user": {
            "displayName": "Mike Henderson",
            "userId": "07691629187611687318"
          },
          "user_tz": 240
        },
        "id": "14nUE43Oc-ip",
        "outputId": "55b2c2b1-b6ad-42cc-b3cc-d6e3afcaa071",
        "tags": []
      },
      "outputs": [
        {
          "name": "stdout",
          "output_type": "stream",
          "text": [
            "The google.cloud.bigquery extension is already loaded. To reload it, use:\n",
            "  %reload_ext google.cloud.bigquery\n"
          ]
        }
      ],
      "source": [
        "%load_ext google.cloud.bigquery"
      ]
    },
    {
      "cell_type": "markdown",
      "metadata": {
        "id": "VE0zy4C_xLVM"
      },
      "source": [
        "Prepare the code below for your environment.\n",
        "\n",
        "This notebook takes advantage of the [BigQuery IPython magic](https://cloud.google.com/python/docs/reference/bigquery/latest/magics) for legibility and ease of copy/pasting to BigQuery SQL editor.  If this notebook is being used from an environment that can run notebooks it needs further preparation: Colab, Colab Enterprise, Vertex AI Workbench Instances, or BigQuery Studio with a Python Notebook.  The SQL code in these cells uses the fully qualified [BigQuery table](https://cloud.google.com/bigquery/docs/tables-intro) names in the form `projectname.datasetname.tablename`.  Prepare for your environment by:\n",
        "- Edit \u003e Find\n",
        "    - Find: `statmike-mlops-349915`\n",
        "    - Replace: `\u003cyour project id\u003e`\n",
        "    - Replace All"
      ]
    },
    {
      "cell_type": "markdown",
      "metadata": {
        "id": "by8oK6c0xLVM"
      },
      "source": [
        "---\n",
        "## BigQuery Source Data\n",
        "\n",
        "This project will uses the following data source as a tutorial.  It is good for examples like this because it is small, has few columns, but contains categorial and numerical data types.\n",
        "\n",
        "The source table is a BigQuery Public Dataset table.  The following cell uses the [BigQuery IPython magic](https://cloud.google.com/python/docs/reference/bigquery/latest/magics) to retrieve 5 rows of the table for review.  This data is known as [Palmer Penguins](https://allisonhorst.github.io/palmerpenguins/) data: \n",
        "\n",
        "```\n",
        "@Manual{,\n",
        "  title = {palmerpenguins: Palmer Archipelago (Antarctica) penguin data},\n",
        "  author = {Allison Marie Horst and Alison Presmanes Hill and Kristen B Gorman},\n",
        "  year = {2020},\n",
        "  note = {R package version 0.1.0},\n",
        "  doi = {10.5281/zenodo.3960218},\n",
        "  url = {https://allisonhorst.github.io/palmerpenguins/},\n",
        "}\n",
        "```\n",
        "\n",
        "\n",
        "There are 334 observations of 4 numerical features (culman length, culmen depth, flipper length, body mass) and 2  categorical features (island, sex) that represent 3 species of penguins."
      ]
    },
    {
      "cell_type": "code",
      "execution_count": 7,
      "metadata": {
        "tags": [],
        "id": "-VC85MI2xLVM"
      },
      "outputs": [
        {
          "data": {
            "application/vnd.jupyter.widget-view+json": {
              "model_id": "11ae24b896a74d1fbf5d1c451abf9618",
              "version_major": 2,
              "version_minor": 0
            },
            "text/plain": [
              "Query is running:   0%|          |"
            ]
          },
          "metadata": {},
          "output_type": "display_data"
        },
        {
          "data": {
            "application/vnd.jupyter.widget-view+json": {
              "model_id": "6cd18bd2de3842e7b3d48ace3c05cb26",
              "version_major": 2,
              "version_minor": 0
            },
            "text/plain": [
              "Downloading:   0%|          |"
            ]
          },
          "metadata": {},
          "output_type": "display_data"
        },
        {
          "data": {
            "text/html": [
              "\u003cdiv\u003e\n",
              "\u003cstyle scoped\u003e\n",
              "    .dataframe tbody tr th:only-of-type {\n",
              "        vertical-align: middle;\n",
              "    }\n",
              "\n",
              "    .dataframe tbody tr th {\n",
              "        vertical-align: top;\n",
              "    }\n",
              "\n",
              "    .dataframe thead th {\n",
              "        text-align: right;\n",
              "    }\n",
              "\u003c/style\u003e\n",
              "\u003ctable border=\"1\" class=\"dataframe\"\u003e\n",
              "  \u003cthead\u003e\n",
              "    \u003ctr style=\"text-align: right;\"\u003e\n",
              "      \u003cth\u003e\u003c/th\u003e\n",
              "      \u003cth\u003especies\u003c/th\u003e\n",
              "      \u003cth\u003eisland\u003c/th\u003e\n",
              "      \u003cth\u003eculmen_length_mm\u003c/th\u003e\n",
              "      \u003cth\u003eculmen_depth_mm\u003c/th\u003e\n",
              "      \u003cth\u003eflipper_length_mm\u003c/th\u003e\n",
              "      \u003cth\u003ebody_mass_g\u003c/th\u003e\n",
              "      \u003cth\u003esex\u003c/th\u003e\n",
              "    \u003c/tr\u003e\n",
              "  \u003c/thead\u003e\n",
              "  \u003ctbody\u003e\n",
              "    \u003ctr\u003e\n",
              "      \u003cth\u003e0\u003c/th\u003e\n",
              "      \u003ctd\u003eAdelie Penguin (Pygoscelis adeliae)\u003c/td\u003e\n",
              "      \u003ctd\u003eDream\u003c/td\u003e\n",
              "      \u003ctd\u003e36.6\u003c/td\u003e\n",
              "      \u003ctd\u003e18.4\u003c/td\u003e\n",
              "      \u003ctd\u003e184.0\u003c/td\u003e\n",
              "      \u003ctd\u003e3475.0\u003c/td\u003e\n",
              "      \u003ctd\u003eFEMALE\u003c/td\u003e\n",
              "    \u003c/tr\u003e\n",
              "    \u003ctr\u003e\n",
              "      \u003cth\u003e1\u003c/th\u003e\n",
              "      \u003ctd\u003eAdelie Penguin (Pygoscelis adeliae)\u003c/td\u003e\n",
              "      \u003ctd\u003eDream\u003c/td\u003e\n",
              "      \u003ctd\u003e39.8\u003c/td\u003e\n",
              "      \u003ctd\u003e19.1\u003c/td\u003e\n",
              "      \u003ctd\u003e184.0\u003c/td\u003e\n",
              "      \u003ctd\u003e4650.0\u003c/td\u003e\n",
              "      \u003ctd\u003eMALE\u003c/td\u003e\n",
              "    \u003c/tr\u003e\n",
              "    \u003ctr\u003e\n",
              "      \u003cth\u003e2\u003c/th\u003e\n",
              "      \u003ctd\u003eAdelie Penguin (Pygoscelis adeliae)\u003c/td\u003e\n",
              "      \u003ctd\u003eDream\u003c/td\u003e\n",
              "      \u003ctd\u003e40.9\u003c/td\u003e\n",
              "      \u003ctd\u003e18.9\u003c/td\u003e\n",
              "      \u003ctd\u003e184.0\u003c/td\u003e\n",
              "      \u003ctd\u003e3900.0\u003c/td\u003e\n",
              "      \u003ctd\u003eMALE\u003c/td\u003e\n",
              "    \u003c/tr\u003e\n",
              "    \u003ctr\u003e\n",
              "      \u003cth\u003e3\u003c/th\u003e\n",
              "      \u003ctd\u003eChinstrap penguin (Pygoscelis antarctica)\u003c/td\u003e\n",
              "      \u003ctd\u003eDream\u003c/td\u003e\n",
              "      \u003ctd\u003e46.5\u003c/td\u003e\n",
              "      \u003ctd\u003e17.9\u003c/td\u003e\n",
              "      \u003ctd\u003e192.0\u003c/td\u003e\n",
              "      \u003ctd\u003e3500.0\u003c/td\u003e\n",
              "      \u003ctd\u003eFEMALE\u003c/td\u003e\n",
              "    \u003c/tr\u003e\n",
              "    \u003ctr\u003e\n",
              "      \u003cth\u003e4\u003c/th\u003e\n",
              "      \u003ctd\u003eAdelie Penguin (Pygoscelis adeliae)\u003c/td\u003e\n",
              "      \u003ctd\u003eDream\u003c/td\u003e\n",
              "      \u003ctd\u003e37.3\u003c/td\u003e\n",
              "      \u003ctd\u003e16.8\u003c/td\u003e\n",
              "      \u003ctd\u003e192.0\u003c/td\u003e\n",
              "      \u003ctd\u003e3000.0\u003c/td\u003e\n",
              "      \u003ctd\u003eFEMALE\u003c/td\u003e\n",
              "    \u003c/tr\u003e\n",
              "  \u003c/tbody\u003e\n",
              "\u003c/table\u003e\n",
              "\u003c/div\u003e"
            ],
            "text/plain": [
              "                                     species island  culmen_length_mm  \\\n",
              "0        Adelie Penguin (Pygoscelis adeliae)  Dream              36.6   \n",
              "1        Adelie Penguin (Pygoscelis adeliae)  Dream              39.8   \n",
              "2        Adelie Penguin (Pygoscelis adeliae)  Dream              40.9   \n",
              "3  Chinstrap penguin (Pygoscelis antarctica)  Dream              46.5   \n",
              "4        Adelie Penguin (Pygoscelis adeliae)  Dream              37.3   \n",
              "\n",
              "   culmen_depth_mm  flipper_length_mm  body_mass_g     sex  \n",
              "0             18.4              184.0       3475.0  FEMALE  \n",
              "1             19.1              184.0       4650.0    MALE  \n",
              "2             18.9              184.0       3900.0    MALE  \n",
              "3             17.9              192.0       3500.0  FEMALE  \n",
              "4             16.8              192.0       3000.0  FEMALE  "
            ]
          },
          "execution_count": 7,
          "metadata": {},
          "output_type": "execute_result"
        }
      ],
      "source": [
        "%%bigquery\n",
        "SELECT *\n",
        "FROM `bigquery-public-data.ml_datasets.penguins`\n",
        "LIMIT 5"
      ]
    },
    {
      "cell_type": "markdown",
      "metadata": {
        "id": "rEON8kYExLVM"
      },
      "source": [
        "---\n",
        "## **Goal: Train, Serve, And Monitor A Model**\n",
        "\n",
        "**Train A Model**\n",
        "\n",
        "In this workflow our goal is to train and operationalize a machine leanring model that can classify unidentified penguins into the correct `species` using only measurements (`culmen_length_mm`, `culmen_depth_mm`, `flipper_length_mm`, `body_mass_g`), location (`island`) and gender (`sex`).  That means serving predictions, monitoring features, and potentially retraining the model.\n",
        "\n",
        "**Operationalize The Model**\n",
        "\n",
        "Taking a trained model to production introduces challenges. The model needs to be regularly evaluated to understand it's performance once put into production. This can be challenging as actual values used to assess the accuracy of predictions may arrive later than the predictions. Continuous monitoring bridges this gap with early signals in two key ways. First, monitoring the distributions of each of the models features for shift (called **skew**) from the training data to the current data. Then, also monitoring for any gradual **drift** in the distribution over time. Setting thresholds and getting alerts for features on each of this distribution changes gives early signals that the model needs to be carefully considered for evaluation and re-training to ensure effectiveness. If the evaluation can be automated then this can even extend to **continuous training**. "
      ]
    },
    {
      "cell_type": "markdown",
      "metadata": {
        "id": "paWh6AySxLVM"
      },
      "source": [
        "---\n",
        "## Data Preparation"
      ]
    },
    {
      "cell_type": "markdown",
      "metadata": {
        "tags": [],
        "id": "sb4RKEHbxLVM"
      },
      "source": [
        "### Understand The Data Source With `ML.DESCRIBE_DATA`\n",
        "\n",
        "Reviewing a few records, like above, gives a good sense of how the data is arranged. Before proceeding with machine learning techniques it is important to understand more about these raw columns.  Are they ready to use a features in a model or is some form of feature engineering needed first?  For this, the distribution of values is an important starting point.  \n",
        "\n",
        "While SQL could be used to look at the distribution, it would be a time consuming process and requires different techniques for different data types like numerical, string, boolean, dates, times, array and struct version of these, and arrays of structs.\n",
        "\n",
        "To make this process fast and simple, the new [`ML.DESCRIBE_DATA`](https://cloud.google.com/bigquery/docs/reference/standard-sql/bigqueryml-syntax-describe-data)\n",
        "\n",
        "function is used to get a single row for each column the describes the data distribution:"
      ]
    },
    {
      "cell_type": "code",
      "execution_count": 8,
      "metadata": {
        "tags": [],
        "id": "h3uGI-ppxLVM"
      },
      "outputs": [
        {
          "data": {
            "application/vnd.jupyter.widget-view+json": {
              "model_id": "890fe470362344238cde45efa1dc74d6",
              "version_major": 2,
              "version_minor": 0
            },
            "text/plain": [
              "Query is running:   0%|          |"
            ]
          },
          "metadata": {},
          "output_type": "display_data"
        },
        {
          "data": {
            "application/vnd.jupyter.widget-view+json": {
              "model_id": "8ad547d0cd604066b8f299cc23818f3e",
              "version_major": 2,
              "version_minor": 0
            },
            "text/plain": [
              "Downloading:   0%|          |"
            ]
          },
          "metadata": {},
          "output_type": "display_data"
        },
        {
          "data": {
            "text/html": [
              "\u003cdiv\u003e\n",
              "\u003cstyle scoped\u003e\n",
              "    .dataframe tbody tr th:only-of-type {\n",
              "        vertical-align: middle;\n",
              "    }\n",
              "\n",
              "    .dataframe tbody tr th {\n",
              "        vertical-align: top;\n",
              "    }\n",
              "\n",
              "    .dataframe thead th {\n",
              "        text-align: right;\n",
              "    }\n",
              "\u003c/style\u003e\n",
              "\u003ctable border=\"1\" class=\"dataframe\"\u003e\n",
              "  \u003cthead\u003e\n",
              "    \u003ctr style=\"text-align: right;\"\u003e\n",
              "      \u003cth\u003e\u003c/th\u003e\n",
              "      \u003cth\u003ename\u003c/th\u003e\n",
              "      \u003cth\u003enum_rows\u003c/th\u003e\n",
              "      \u003cth\u003enum_nulls\u003c/th\u003e\n",
              "      \u003cth\u003enum_zeros\u003c/th\u003e\n",
              "      \u003cth\u003emin\u003c/th\u003e\n",
              "      \u003cth\u003emax\u003c/th\u003e\n",
              "      \u003cth\u003emean\u003c/th\u003e\n",
              "      \u003cth\u003estddev\u003c/th\u003e\n",
              "      \u003cth\u003emedian\u003c/th\u003e\n",
              "      \u003cth\u003equantiles\u003c/th\u003e\n",
              "      \u003cth\u003eunique\u003c/th\u003e\n",
              "      \u003cth\u003eavg_string_length\u003c/th\u003e\n",
              "      \u003cth\u003enum_values\u003c/th\u003e\n",
              "      \u003cth\u003etop_values\u003c/th\u003e\n",
              "      \u003cth\u003emin_array_length\u003c/th\u003e\n",
              "      \u003cth\u003emax_array_length\u003c/th\u003e\n",
              "      \u003cth\u003eavg_array_length\u003c/th\u003e\n",
              "      \u003cth\u003etotal_array_length\u003c/th\u003e\n",
              "      \u003cth\u003earray_length_quantiles\u003c/th\u003e\n",
              "      \u003cth\u003edimension\u003c/th\u003e\n",
              "    \u003c/tr\u003e\n",
              "  \u003c/thead\u003e\n",
              "  \u003ctbody\u003e\n",
              "    \u003ctr\u003e\n",
              "      \u003cth\u003e0\u003c/th\u003e\n",
              "      \u003ctd\u003ebody_mass_g\u003c/td\u003e\n",
              "      \u003ctd\u003e344\u003c/td\u003e\n",
              "      \u003ctd\u003e2\u003c/td\u003e\n",
              "      \u003ctd\u003e0\u003c/td\u003e\n",
              "      \u003ctd\u003e2700\u003c/td\u003e\n",
              "      \u003ctd\u003e6300\u003c/td\u003e\n",
              "      \u003ctd\u003e4201.754386\u003c/td\u003e\n",
              "      \u003ctd\u003e800.781229\u003c/td\u003e\n",
              "      \u003ctd\u003e4000.0\u003c/td\u003e\n",
              "      \u003ctd\u003e[2700.0, 4000.0, 6300.0]\u003c/td\u003e\n",
              "      \u003ctd\u003e\u0026lt;NA\u0026gt;\u003c/td\u003e\n",
              "      \u003ctd\u003eNaN\u003c/td\u003e\n",
              "      \u003ctd\u003e342\u003c/td\u003e\n",
              "      \u003ctd\u003e[]\u003c/td\u003e\n",
              "      \u003ctd\u003e\u0026lt;NA\u0026gt;\u003c/td\u003e\n",
              "      \u003ctd\u003e\u0026lt;NA\u0026gt;\u003c/td\u003e\n",
              "      \u003ctd\u003eNaN\u003c/td\u003e\n",
              "      \u003ctd\u003e\u0026lt;NA\u0026gt;\u003c/td\u003e\n",
              "      \u003ctd\u003e[]\u003c/td\u003e\n",
              "      \u003ctd\u003e\u0026lt;NA\u0026gt;\u003c/td\u003e\n",
              "    \u003c/tr\u003e\n",
              "    \u003ctr\u003e\n",
              "      \u003cth\u003e1\u003c/th\u003e\n",
              "      \u003ctd\u003eculmen_depth_mm\u003c/td\u003e\n",
              "      \u003ctd\u003e344\u003c/td\u003e\n",
              "      \u003ctd\u003e2\u003c/td\u003e\n",
              "      \u003ctd\u003e0\u003c/td\u003e\n",
              "      \u003ctd\u003e13.1\u003c/td\u003e\n",
              "      \u003ctd\u003e21.5\u003c/td\u003e\n",
              "      \u003ctd\u003e17.151170\u003c/td\u003e\n",
              "      \u003ctd\u003e1.971904\u003c/td\u003e\n",
              "      \u003ctd\u003e17.3\u003c/td\u003e\n",
              "      \u003ctd\u003e[13.1, 17.3, 21.5]\u003c/td\u003e\n",
              "      \u003ctd\u003e\u0026lt;NA\u0026gt;\u003c/td\u003e\n",
              "      \u003ctd\u003eNaN\u003c/td\u003e\n",
              "      \u003ctd\u003e342\u003c/td\u003e\n",
              "      \u003ctd\u003e[]\u003c/td\u003e\n",
              "      \u003ctd\u003e\u0026lt;NA\u0026gt;\u003c/td\u003e\n",
              "      \u003ctd\u003e\u0026lt;NA\u0026gt;\u003c/td\u003e\n",
              "      \u003ctd\u003eNaN\u003c/td\u003e\n",
              "      \u003ctd\u003e\u0026lt;NA\u0026gt;\u003c/td\u003e\n",
              "      \u003ctd\u003e[]\u003c/td\u003e\n",
              "      \u003ctd\u003e\u0026lt;NA\u0026gt;\u003c/td\u003e\n",
              "    \u003c/tr\u003e\n",
              "    \u003ctr\u003e\n",
              "      \u003cth\u003e2\u003c/th\u003e\n",
              "      \u003ctd\u003eculmen_length_mm\u003c/td\u003e\n",
              "      \u003ctd\u003e344\u003c/td\u003e\n",
              "      \u003ctd\u003e2\u003c/td\u003e\n",
              "      \u003ctd\u003e0\u003c/td\u003e\n",
              "      \u003ctd\u003e32.1\u003c/td\u003e\n",
              "      \u003ctd\u003e59.6\u003c/td\u003e\n",
              "      \u003ctd\u003e43.921930\u003c/td\u003e\n",
              "      \u003ctd\u003e5.451596\u003c/td\u003e\n",
              "      \u003ctd\u003e44.1\u003c/td\u003e\n",
              "      \u003ctd\u003e[32.1, 44.1, 59.6]\u003c/td\u003e\n",
              "      \u003ctd\u003e\u0026lt;NA\u0026gt;\u003c/td\u003e\n",
              "      \u003ctd\u003eNaN\u003c/td\u003e\n",
              "      \u003ctd\u003e342\u003c/td\u003e\n",
              "      \u003ctd\u003e[]\u003c/td\u003e\n",
              "      \u003ctd\u003e\u0026lt;NA\u0026gt;\u003c/td\u003e\n",
              "      \u003ctd\u003e\u0026lt;NA\u0026gt;\u003c/td\u003e\n",
              "      \u003ctd\u003eNaN\u003c/td\u003e\n",
              "      \u003ctd\u003e\u0026lt;NA\u0026gt;\u003c/td\u003e\n",
              "      \u003ctd\u003e[]\u003c/td\u003e\n",
              "      \u003ctd\u003e\u0026lt;NA\u0026gt;\u003c/td\u003e\n",
              "    \u003c/tr\u003e\n",
              "    \u003ctr\u003e\n",
              "      \u003cth\u003e3\u003c/th\u003e\n",
              "      \u003ctd\u003eflipper_length_mm\u003c/td\u003e\n",
              "      \u003ctd\u003e344\u003c/td\u003e\n",
              "      \u003ctd\u003e2\u003c/td\u003e\n",
              "      \u003ctd\u003e0\u003c/td\u003e\n",
              "      \u003ctd\u003e172\u003c/td\u003e\n",
              "      \u003ctd\u003e231\u003c/td\u003e\n",
              "      \u003ctd\u003e200.915205\u003c/td\u003e\n",
              "      \u003ctd\u003e14.041141\u003c/td\u003e\n",
              "      \u003ctd\u003e197.0\u003c/td\u003e\n",
              "      \u003ctd\u003e[172.0, 197.0, 231.0]\u003c/td\u003e\n",
              "      \u003ctd\u003e\u0026lt;NA\u0026gt;\u003c/td\u003e\n",
              "      \u003ctd\u003eNaN\u003c/td\u003e\n",
              "      \u003ctd\u003e342\u003c/td\u003e\n",
              "      \u003ctd\u003e[]\u003c/td\u003e\n",
              "      \u003ctd\u003e\u0026lt;NA\u0026gt;\u003c/td\u003e\n",
              "      \u003ctd\u003e\u0026lt;NA\u0026gt;\u003c/td\u003e\n",
              "      \u003ctd\u003eNaN\u003c/td\u003e\n",
              "      \u003ctd\u003e\u0026lt;NA\u0026gt;\u003c/td\u003e\n",
              "      \u003ctd\u003e[]\u003c/td\u003e\n",
              "      \u003ctd\u003e\u0026lt;NA\u0026gt;\u003c/td\u003e\n",
              "    \u003c/tr\u003e\n",
              "    \u003ctr\u003e\n",
              "      \u003cth\u003e4\u003c/th\u003e\n",
              "      \u003ctd\u003eisland\u003c/td\u003e\n",
              "      \u003ctd\u003e344\u003c/td\u003e\n",
              "      \u003ctd\u003e0\u003c/td\u003e\n",
              "      \u003ctd\u003e\u0026lt;NA\u0026gt;\u003c/td\u003e\n",
              "      \u003ctd\u003eBiscoe\u003c/td\u003e\n",
              "      \u003ctd\u003eTorgersen\u003c/td\u003e\n",
              "      \u003ctd\u003eNaN\u003c/td\u003e\n",
              "      \u003ctd\u003eNaN\u003c/td\u003e\n",
              "      \u003ctd\u003eNaN\u003c/td\u003e\n",
              "      \u003ctd\u003e[]\u003c/td\u003e\n",
              "      \u003ctd\u003e3\u003c/td\u003e\n",
              "      \u003ctd\u003e6.093023\u003c/td\u003e\n",
              "      \u003ctd\u003e344\u003c/td\u003e\n",
              "      \u003ctd\u003e[{'value': 'Biscoe', 'count': 168}]\u003c/td\u003e\n",
              "      \u003ctd\u003e\u0026lt;NA\u0026gt;\u003c/td\u003e\n",
              "      \u003ctd\u003e\u0026lt;NA\u0026gt;\u003c/td\u003e\n",
              "      \u003ctd\u003eNaN\u003c/td\u003e\n",
              "      \u003ctd\u003e\u0026lt;NA\u0026gt;\u003c/td\u003e\n",
              "      \u003ctd\u003e[]\u003c/td\u003e\n",
              "      \u003ctd\u003e\u0026lt;NA\u0026gt;\u003c/td\u003e\n",
              "    \u003c/tr\u003e\n",
              "    \u003ctr\u003e\n",
              "      \u003cth\u003e5\u003c/th\u003e\n",
              "      \u003ctd\u003esex\u003c/td\u003e\n",
              "      \u003ctd\u003e344\u003c/td\u003e\n",
              "      \u003ctd\u003e10\u003c/td\u003e\n",
              "      \u003ctd\u003e\u0026lt;NA\u0026gt;\u003c/td\u003e\n",
              "      \u003ctd\u003e.\u003c/td\u003e\n",
              "      \u003ctd\u003eMALE\u003c/td\u003e\n",
              "      \u003ctd\u003eNaN\u003c/td\u003e\n",
              "      \u003ctd\u003eNaN\u003c/td\u003e\n",
              "      \u003ctd\u003eNaN\u003c/td\u003e\n",
              "      \u003ctd\u003e[]\u003c/td\u003e\n",
              "      \u003ctd\u003e3\u003c/td\u003e\n",
              "      \u003ctd\u003e4.979042\u003c/td\u003e\n",
              "      \u003ctd\u003e334\u003c/td\u003e\n",
              "      \u003ctd\u003e[{'value': 'MALE', 'count': 168}]\u003c/td\u003e\n",
              "      \u003ctd\u003e\u0026lt;NA\u0026gt;\u003c/td\u003e\n",
              "      \u003ctd\u003e\u0026lt;NA\u0026gt;\u003c/td\u003e\n",
              "      \u003ctd\u003eNaN\u003c/td\u003e\n",
              "      \u003ctd\u003e\u0026lt;NA\u0026gt;\u003c/td\u003e\n",
              "      \u003ctd\u003e[]\u003c/td\u003e\n",
              "      \u003ctd\u003e\u0026lt;NA\u0026gt;\u003c/td\u003e\n",
              "    \u003c/tr\u003e\n",
              "    \u003ctr\u003e\n",
              "      \u003cth\u003e6\u003c/th\u003e\n",
              "      \u003ctd\u003especies\u003c/td\u003e\n",
              "      \u003ctd\u003e344\u003c/td\u003e\n",
              "      \u003ctd\u003e0\u003c/td\u003e\n",
              "      \u003ctd\u003e\u0026lt;NA\u0026gt;\u003c/td\u003e\n",
              "      \u003ctd\u003eAdelie Penguin (Pygoscelis adeliae)\u003c/td\u003e\n",
              "      \u003ctd\u003eGentoo penguin (Pygoscelis papua)\u003c/td\u003e\n",
              "      \u003ctd\u003eNaN\u003c/td\u003e\n",
              "      \u003ctd\u003eNaN\u003c/td\u003e\n",
              "      \u003ctd\u003eNaN\u003c/td\u003e\n",
              "      \u003ctd\u003e[]\u003c/td\u003e\n",
              "      \u003ctd\u003e3\u003c/td\u003e\n",
              "      \u003ctd\u003e35.465116\u003c/td\u003e\n",
              "      \u003ctd\u003e344\u003c/td\u003e\n",
              "      \u003ctd\u003e[{'value': 'Adelie Penguin (Pygoscelis adeliae...\u003c/td\u003e\n",
              "      \u003ctd\u003e\u0026lt;NA\u0026gt;\u003c/td\u003e\n",
              "      \u003ctd\u003e\u0026lt;NA\u0026gt;\u003c/td\u003e\n",
              "      \u003ctd\u003eNaN\u003c/td\u003e\n",
              "      \u003ctd\u003e\u0026lt;NA\u0026gt;\u003c/td\u003e\n",
              "      \u003ctd\u003e[]\u003c/td\u003e\n",
              "      \u003ctd\u003e\u0026lt;NA\u0026gt;\u003c/td\u003e\n",
              "    \u003c/tr\u003e\n",
              "  \u003c/tbody\u003e\n",
              "\u003c/table\u003e\n",
              "\u003c/div\u003e"
            ],
            "text/plain": [
              "                name  num_rows  num_nulls  num_zeros  \\\n",
              "0        body_mass_g       344          2          0   \n",
              "1    culmen_depth_mm       344          2          0   \n",
              "2   culmen_length_mm       344          2          0   \n",
              "3  flipper_length_mm       344          2          0   \n",
              "4             island       344          0       \u003cNA\u003e   \n",
              "5                sex       344         10       \u003cNA\u003e   \n",
              "6            species       344          0       \u003cNA\u003e   \n",
              "\n",
              "                                   min                                max  \\\n",
              "0                                 2700                               6300   \n",
              "1                                 13.1                               21.5   \n",
              "2                                 32.1                               59.6   \n",
              "3                                  172                                231   \n",
              "4                               Biscoe                          Torgersen   \n",
              "5                                    .                               MALE   \n",
              "6  Adelie Penguin (Pygoscelis adeliae)  Gentoo penguin (Pygoscelis papua)   \n",
              "\n",
              "          mean      stddev  median                 quantiles  unique  \\\n",
              "0  4201.754386  800.781229  4000.0  [2700.0, 4000.0, 6300.0]    \u003cNA\u003e   \n",
              "1    17.151170    1.971904    17.3        [13.1, 17.3, 21.5]    \u003cNA\u003e   \n",
              "2    43.921930    5.451596    44.1        [32.1, 44.1, 59.6]    \u003cNA\u003e   \n",
              "3   200.915205   14.041141   197.0     [172.0, 197.0, 231.0]    \u003cNA\u003e   \n",
              "4          NaN         NaN     NaN                        []       3   \n",
              "5          NaN         NaN     NaN                        []       3   \n",
              "6          NaN         NaN     NaN                        []       3   \n",
              "\n",
              "   avg_string_length  num_values  \\\n",
              "0                NaN         342   \n",
              "1                NaN         342   \n",
              "2                NaN         342   \n",
              "3                NaN         342   \n",
              "4           6.093023         344   \n",
              "5           4.979042         334   \n",
              "6          35.465116         344   \n",
              "\n",
              "                                          top_values  min_array_length  \\\n",
              "0                                                 []              \u003cNA\u003e   \n",
              "1                                                 []              \u003cNA\u003e   \n",
              "2                                                 []              \u003cNA\u003e   \n",
              "3                                                 []              \u003cNA\u003e   \n",
              "4                [{'value': 'Biscoe', 'count': 168}]              \u003cNA\u003e   \n",
              "5                  [{'value': 'MALE', 'count': 168}]              \u003cNA\u003e   \n",
              "6  [{'value': 'Adelie Penguin (Pygoscelis adeliae...              \u003cNA\u003e   \n",
              "\n",
              "   max_array_length  avg_array_length  total_array_length  \\\n",
              "0              \u003cNA\u003e               NaN                \u003cNA\u003e   \n",
              "1              \u003cNA\u003e               NaN                \u003cNA\u003e   \n",
              "2              \u003cNA\u003e               NaN                \u003cNA\u003e   \n",
              "3              \u003cNA\u003e               NaN                \u003cNA\u003e   \n",
              "4              \u003cNA\u003e               NaN                \u003cNA\u003e   \n",
              "5              \u003cNA\u003e               NaN                \u003cNA\u003e   \n",
              "6              \u003cNA\u003e               NaN                \u003cNA\u003e   \n",
              "\n",
              "  array_length_quantiles  dimension  \n",
              "0                     []       \u003cNA\u003e  \n",
              "1                     []       \u003cNA\u003e  \n",
              "2                     []       \u003cNA\u003e  \n",
              "3                     []       \u003cNA\u003e  \n",
              "4                     []       \u003cNA\u003e  \n",
              "5                     []       \u003cNA\u003e  \n",
              "6                     []       \u003cNA\u003e  "
            ]
          },
          "execution_count": 8,
          "metadata": {},
          "output_type": "execute_result"
        }
      ],
      "source": [
        "%%bigquery\n",
        "SELECT *\n",
        "FROM ML.DESCRIBE_DATA(\n",
        "  TABLE `bigquery-public-data.ml_datasets.penguins`\n",
        ")"
      ]
    },
    {
      "cell_type": "markdown",
      "metadata": {
        "id": "_1uEtv59xLVM"
      },
      "source": [
        "Some observations:\n",
        "- All columns have `num_rows` and `num_nulls`\n",
        "- Numerical columns have `min`, `max`, `stddev`, `median`, and `quantiles` showing the distribution of the data in the column\n",
        "- Categorical (string) columns have `min`, `max` values representing the class levels and a `unique` column show how many class levels\n",
        "\n",
        "Data quality observation:\n",
        "- The column `sex` has both missing values (10 indicated in `num_nulls`) as well as a `min` values of `.`.  This appears to be a data quality issue that needs fixing."
      ]
    },
    {
      "cell_type": "markdown",
      "metadata": {
        "tags": [],
        "id": "Pa16jIwvxLVM"
      },
      "source": [
        "### Create A BigQuery Dataset\n",
        "\n",
        "Create a new [BigQuery Dataset](https://cloud.google.com/bigquery/docs/datasets) as a working location for this workflow:"
      ]
    },
    {
      "cell_type": "code",
      "execution_count": 9,
      "metadata": {
        "tags": [],
        "id": "pY6ROCpTxLVM"
      },
      "outputs": [
        {
          "data": {
            "application/vnd.jupyter.widget-view+json": {
              "model_id": "98e6634ab9bc49558c992df12f42eb6a",
              "version_major": 2,
              "version_minor": 0
            },
            "text/plain": [
              "Query is running:   0%|          |"
            ]
          },
          "metadata": {},
          "output_type": "display_data"
        },
        {
          "data": {
            "text/html": [
              "\u003cdiv\u003e\n",
              "\u003cstyle scoped\u003e\n",
              "    .dataframe tbody tr th:only-of-type {\n",
              "        vertical-align: middle;\n",
              "    }\n",
              "\n",
              "    .dataframe tbody tr th {\n",
              "        vertical-align: top;\n",
              "    }\n",
              "\n",
              "    .dataframe thead th {\n",
              "        text-align: right;\n",
              "    }\n",
              "\u003c/style\u003e\n",
              "\u003ctable border=\"1\" class=\"dataframe\"\u003e\n",
              "  \u003cthead\u003e\n",
              "    \u003ctr style=\"text-align: right;\"\u003e\n",
              "      \u003cth\u003e\u003c/th\u003e\n",
              "    \u003c/tr\u003e\n",
              "  \u003c/thead\u003e\n",
              "  \u003ctbody\u003e\n",
              "  \u003c/tbody\u003e\n",
              "\u003c/table\u003e\n",
              "\u003c/div\u003e"
            ],
            "text/plain": [
              "Empty DataFrame\n",
              "Columns: []\n",
              "Index: []"
            ]
          },
          "execution_count": 9,
          "metadata": {},
          "output_type": "execute_result"
        }
      ],
      "source": [
        "%%bigquery\n",
        "CREATE SCHEMA IF NOT EXISTS `statmike-mlops-349915.bqml_model_monitoring`\n",
        "    OPTIONS(\n",
        "        location = 'US'\n",
        "    )"
      ]
    },
    {
      "cell_type": "markdown",
      "metadata": {
        "id": "Ps7SPdc9xLVM"
      },
      "source": [
        "### Prepare The Source Data\n",
        "\n",
        "Make a copy of the table source in the new BigQuery dataset with fixes applied to the data quality issue identified for the `sex` column with values of `.`.\n",
        "\n",
        "\u003e Note: A copy is being made in this case because the source project is `bigquery-public` which is not editable."
      ]
    },
    {
      "cell_type": "code",
      "execution_count": 10,
      "metadata": {
        "tags": [],
        "id": "mQPXcAEPxLVM"
      },
      "outputs": [
        {
          "data": {
            "application/vnd.jupyter.widget-view+json": {
              "model_id": "ff1cbc3a9d754a0b843587da95212af8",
              "version_major": 2,
              "version_minor": 0
            },
            "text/plain": [
              "Query is running:   0%|          |"
            ]
          },
          "metadata": {},
          "output_type": "display_data"
        },
        {
          "data": {
            "text/html": [
              "\u003cdiv\u003e\n",
              "\u003cstyle scoped\u003e\n",
              "    .dataframe tbody tr th:only-of-type {\n",
              "        vertical-align: middle;\n",
              "    }\n",
              "\n",
              "    .dataframe tbody tr th {\n",
              "        vertical-align: top;\n",
              "    }\n",
              "\n",
              "    .dataframe thead th {\n",
              "        text-align: right;\n",
              "    }\n",
              "\u003c/style\u003e\n",
              "\u003ctable border=\"1\" class=\"dataframe\"\u003e\n",
              "  \u003cthead\u003e\n",
              "    \u003ctr style=\"text-align: right;\"\u003e\n",
              "      \u003cth\u003e\u003c/th\u003e\n",
              "    \u003c/tr\u003e\n",
              "  \u003c/thead\u003e\n",
              "  \u003ctbody\u003e\n",
              "  \u003c/tbody\u003e\n",
              "\u003c/table\u003e\n",
              "\u003c/div\u003e"
            ],
            "text/plain": [
              "Empty DataFrame\n",
              "Columns: []\n",
              "Index: []"
            ]
          },
          "execution_count": 10,
          "metadata": {},
          "output_type": "execute_result"
        }
      ],
      "source": [
        "%%bigquery\n",
        "CREATE OR REPLACE TABLE `statmike-mlops-349915.bqml_model_monitoring.training` AS\n",
        "    SELECT * EXCEPT(sex),\n",
        "        CASE WHEN sex = '.' THEN NULL ELSE sex END AS sex\n",
        "    FROM `bigquery-public-data.ml_datasets.penguins`"
      ]
    },
    {
      "cell_type": "markdown",
      "metadata": {
        "id": "idsnMeXMxLVM"
      },
      "source": [
        "### Split The Data\n",
        "\n",
        "Depending on the ML technique, it may be desired to split the data into partitions for training, evaluation, and testing (in this case monitoring examples). \n",
        "\n",
        "The following cell creates a version with a new column column named `splits` with values [`TRAIN`, `EVAL`, `TEST`].  The data is first grouped (stratified) by the values of `species` and `island` to preserve any imbalance across the groups. "
      ]
    },
    {
      "cell_type": "code",
      "execution_count": 11,
      "metadata": {
        "tags": [],
        "id": "3sJUHvFmxLVM"
      },
      "outputs": [
        {
          "data": {
            "application/vnd.jupyter.widget-view+json": {
              "model_id": "b0ed862680434424a60e0bff6ce2e8db",
              "version_major": 2,
              "version_minor": 0
            },
            "text/plain": [
              "Query is running:   0%|          |"
            ]
          },
          "metadata": {},
          "output_type": "display_data"
        },
        {
          "data": {
            "text/html": [
              "\u003cdiv\u003e\n",
              "\u003cstyle scoped\u003e\n",
              "    .dataframe tbody tr th:only-of-type {\n",
              "        vertical-align: middle;\n",
              "    }\n",
              "\n",
              "    .dataframe tbody tr th {\n",
              "        vertical-align: top;\n",
              "    }\n",
              "\n",
              "    .dataframe thead th {\n",
              "        text-align: right;\n",
              "    }\n",
              "\u003c/style\u003e\n",
              "\u003ctable border=\"1\" class=\"dataframe\"\u003e\n",
              "  \u003cthead\u003e\n",
              "    \u003ctr style=\"text-align: right;\"\u003e\n",
              "      \u003cth\u003e\u003c/th\u003e\n",
              "    \u003c/tr\u003e\n",
              "  \u003c/thead\u003e\n",
              "  \u003ctbody\u003e\n",
              "  \u003c/tbody\u003e\n",
              "\u003c/table\u003e\n",
              "\u003c/div\u003e"
            ],
            "text/plain": [
              "Empty DataFrame\n",
              "Columns: []\n",
              "Index: []"
            ]
          },
          "execution_count": 11,
          "metadata": {},
          "output_type": "execute_result"
        }
      ],
      "source": [
        "%%bigquery\n",
        "CREATE OR REPLACE TABLE `statmike-mlops-349915.bqml_model_monitoring.training_split` AS\n",
        "    WITH\n",
        "        # randomized numbering within groups (species, island)\n",
        "        RANDOM AS (\n",
        "            SELECT *,\n",
        "                ROW_NUMBER() OVER (PARTITION BY species, island ORDER BY RAND()) AS sequence\n",
        "            FROM `statmike-mlops-349915.bqml_model_monitoring.training`\n",
        "        ),\n",
        "        # get group sizes\n",
        "        GROUP_SIZES AS (\n",
        "            SELECT species, island, COUNT(*) AS count\n",
        "            FROM `statmike-mlops-349915.bqml_model_monitoring.training`\n",
        "            GROUP BY species, island\n",
        "        )\n",
        "    SELECT\n",
        "        * EXCEPT(sequence, count),\n",
        "        CASE\n",
        "            WHEN sequence \u003c= CEIL(.2 * count) AND species is not Null THEN 'TEST'\n",
        "            WHEN sequence \u003c= CEIL(.3 * count) THEN 'EVAL'\n",
        "            ELSE 'TRAIN'\n",
        "        END AS splits\n",
        "    FROM RANDOM\n",
        "    LEFT OUTER JOIN GROUP_SIZES USING(species, island)"
      ]
    },
    {
      "cell_type": "markdown",
      "metadata": {
        "id": "lh7iL1hzxLVM"
      },
      "source": [
        "Review the data by `splits`:"
      ]
    },
    {
      "cell_type": "code",
      "execution_count": 12,
      "metadata": {
        "tags": [],
        "id": "PtHxdKHVxLVM"
      },
      "outputs": [
        {
          "data": {
            "application/vnd.jupyter.widget-view+json": {
              "model_id": "d121ea34a0314a988fe8ff6607f1cd43",
              "version_major": 2,
              "version_minor": 0
            },
            "text/plain": [
              "Query is running:   0%|          |"
            ]
          },
          "metadata": {},
          "output_type": "display_data"
        },
        {
          "data": {
            "application/vnd.jupyter.widget-view+json": {
              "model_id": "2e10e8f9e5654630bb224d5fd1ad20ea",
              "version_major": 2,
              "version_minor": 0
            },
            "text/plain": [
              "Downloading:   0%|          |"
            ]
          },
          "metadata": {},
          "output_type": "display_data"
        },
        {
          "data": {
            "text/html": [
              "\u003cdiv\u003e\n",
              "\u003cstyle scoped\u003e\n",
              "    .dataframe tbody tr th:only-of-type {\n",
              "        vertical-align: middle;\n",
              "    }\n",
              "\n",
              "    .dataframe tbody tr th {\n",
              "        vertical-align: top;\n",
              "    }\n",
              "\n",
              "    .dataframe thead th {\n",
              "        text-align: right;\n",
              "    }\n",
              "\u003c/style\u003e\n",
              "\u003ctable border=\"1\" class=\"dataframe\"\u003e\n",
              "  \u003cthead\u003e\n",
              "    \u003ctr style=\"text-align: right;\"\u003e\n",
              "      \u003cth\u003e\u003c/th\u003e\n",
              "      \u003cth\u003especies\u003c/th\u003e\n",
              "      \u003cth\u003eisland\u003c/th\u003e\n",
              "      \u003cth\u003ecount\u003c/th\u003e\n",
              "      \u003cth\u003eTRAIN_PCT\u003c/th\u003e\n",
              "      \u003cth\u003eEVAL_PCT\u003c/th\u003e\n",
              "      \u003cth\u003eTEST_PCT\u003c/th\u003e\n",
              "    \u003c/tr\u003e\n",
              "  \u003c/thead\u003e\n",
              "  \u003ctbody\u003e\n",
              "    \u003ctr\u003e\n",
              "      \u003cth\u003e0\u003c/th\u003e\n",
              "      \u003ctd\u003eGentoo penguin (Pygoscelis papua)\u003c/td\u003e\n",
              "      \u003ctd\u003eBiscoe\u003c/td\u003e\n",
              "      \u003ctd\u003e124\u003c/td\u003e\n",
              "      \u003ctd\u003e69.354839\u003c/td\u003e\n",
              "      \u003ctd\u003e10.483871\u003c/td\u003e\n",
              "      \u003ctd\u003e20.161290\u003c/td\u003e\n",
              "    \u003c/tr\u003e\n",
              "    \u003ctr\u003e\n",
              "      \u003cth\u003e1\u003c/th\u003e\n",
              "      \u003ctd\u003eAdelie Penguin (Pygoscelis adeliae)\u003c/td\u003e\n",
              "      \u003ctd\u003eTorgersen\u003c/td\u003e\n",
              "      \u003ctd\u003e52\u003c/td\u003e\n",
              "      \u003ctd\u003e69.230769\u003c/td\u003e\n",
              "      \u003ctd\u003e9.615385\u003c/td\u003e\n",
              "      \u003ctd\u003e21.153846\u003c/td\u003e\n",
              "    \u003c/tr\u003e\n",
              "    \u003ctr\u003e\n",
              "      \u003cth\u003e2\u003c/th\u003e\n",
              "      \u003ctd\u003eAdelie Penguin (Pygoscelis adeliae)\u003c/td\u003e\n",
              "      \u003ctd\u003eDream\u003c/td\u003e\n",
              "      \u003ctd\u003e56\u003c/td\u003e\n",
              "      \u003ctd\u003e69.642857\u003c/td\u003e\n",
              "      \u003ctd\u003e8.928571\u003c/td\u003e\n",
              "      \u003ctd\u003e21.428571\u003c/td\u003e\n",
              "    \u003c/tr\u003e\n",
              "    \u003ctr\u003e\n",
              "      \u003cth\u003e3\u003c/th\u003e\n",
              "      \u003ctd\u003eAdelie Penguin (Pygoscelis adeliae)\u003c/td\u003e\n",
              "      \u003ctd\u003eBiscoe\u003c/td\u003e\n",
              "      \u003ctd\u003e44\u003c/td\u003e\n",
              "      \u003ctd\u003e68.181818\u003c/td\u003e\n",
              "      \u003ctd\u003e11.363636\u003c/td\u003e\n",
              "      \u003ctd\u003e20.454545\u003c/td\u003e\n",
              "    \u003c/tr\u003e\n",
              "    \u003ctr\u003e\n",
              "      \u003cth\u003e4\u003c/th\u003e\n",
              "      \u003ctd\u003eChinstrap penguin (Pygoscelis antarctica)\u003c/td\u003e\n",
              "      \u003ctd\u003eDream\u003c/td\u003e\n",
              "      \u003ctd\u003e68\u003c/td\u003e\n",
              "      \u003ctd\u003e69.117647\u003c/td\u003e\n",
              "      \u003ctd\u003e10.294118\u003c/td\u003e\n",
              "      \u003ctd\u003e20.588235\u003c/td\u003e\n",
              "    \u003c/tr\u003e\n",
              "  \u003c/tbody\u003e\n",
              "\u003c/table\u003e\n",
              "\u003c/div\u003e"
            ],
            "text/plain": [
              "                                     species     island  count  TRAIN_PCT  \\\n",
              "0          Gentoo penguin (Pygoscelis papua)     Biscoe    124  69.354839   \n",
              "1        Adelie Penguin (Pygoscelis adeliae)  Torgersen     52  69.230769   \n",
              "2        Adelie Penguin (Pygoscelis adeliae)      Dream     56  69.642857   \n",
              "3        Adelie Penguin (Pygoscelis adeliae)     Biscoe     44  68.181818   \n",
              "4  Chinstrap penguin (Pygoscelis antarctica)      Dream     68  69.117647   \n",
              "\n",
              "    EVAL_PCT   TEST_PCT  \n",
              "0  10.483871  20.161290  \n",
              "1   9.615385  21.153846  \n",
              "2   8.928571  21.428571  \n",
              "3  11.363636  20.454545  \n",
              "4  10.294118  20.588235  "
            ]
          },
          "execution_count": 12,
          "metadata": {},
          "output_type": "execute_result"
        }
      ],
      "source": [
        "%%bigquery\n",
        "SELECT species, island,\n",
        "    COUNT(*) as count,\n",
        "    100 * COUNTIF(splits = 'TRAIN')/COUNT(*) AS TRAIN_PCT,\n",
        "    100 * COUNTIF(splits = 'EVAL')/COUNT(*) AS EVAL_PCT,\n",
        "    100 * COUNTIF(splits = 'TEST')/COUNT(*) AS TEST_PCT\n",
        "FROM `statmike-mlops-349915.bqml_model_monitoring.training_split`\n",
        "GROUP BY species, island"
      ]
    },
    {
      "cell_type": "markdown",
      "metadata": {
        "id": "pzmN3a6ixLVM"
      },
      "source": [
        "### Review the Training Split With: `ML.DESCRIBE_DATA`\n",
        "\n",
        "Use [`ML.DESCRIBE_DATA`](https://cloud.google.com/bigquery/docs/reference/standard-sql/bigqueryml-syntax-describe-data) to first review the training split of the source data.  This time, some of the additional parameters of the function are useful:\n",
        "- `top_k`: get the top 3 most frequent categories for string columns (default = 1)\n",
        "- `num_quantiles`: get 4 quantiles for numerical columns (default = 2)"
      ]
    },
    {
      "cell_type": "code",
      "execution_count": 13,
      "metadata": {
        "tags": [],
        "id": "6BPzZK8yxLVM"
      },
      "outputs": [
        {
          "data": {
            "application/vnd.jupyter.widget-view+json": {
              "model_id": "223d32a801e443108c9b40f81a19403e",
              "version_major": 2,
              "version_minor": 0
            },
            "text/plain": [
              "Query is running:   0%|          |"
            ]
          },
          "metadata": {},
          "output_type": "display_data"
        },
        {
          "data": {
            "application/vnd.jupyter.widget-view+json": {
              "model_id": "b5fc95abdeae433c9f7da0c086d53803",
              "version_major": 2,
              "version_minor": 0
            },
            "text/plain": [
              "Downloading:   0%|          |"
            ]
          },
          "metadata": {},
          "output_type": "display_data"
        },
        {
          "data": {
            "text/html": [
              "\u003cdiv\u003e\n",
              "\u003cstyle scoped\u003e\n",
              "    .dataframe tbody tr th:only-of-type {\n",
              "        vertical-align: middle;\n",
              "    }\n",
              "\n",
              "    .dataframe tbody tr th {\n",
              "        vertical-align: top;\n",
              "    }\n",
              "\n",
              "    .dataframe thead th {\n",
              "        text-align: right;\n",
              "    }\n",
              "\u003c/style\u003e\n",
              "\u003ctable border=\"1\" class=\"dataframe\"\u003e\n",
              "  \u003cthead\u003e\n",
              "    \u003ctr style=\"text-align: right;\"\u003e\n",
              "      \u003cth\u003e\u003c/th\u003e\n",
              "      \u003cth\u003ename\u003c/th\u003e\n",
              "      \u003cth\u003enum_rows\u003c/th\u003e\n",
              "      \u003cth\u003enum_nulls\u003c/th\u003e\n",
              "      \u003cth\u003enum_zeros\u003c/th\u003e\n",
              "      \u003cth\u003emin\u003c/th\u003e\n",
              "      \u003cth\u003emax\u003c/th\u003e\n",
              "      \u003cth\u003emean\u003c/th\u003e\n",
              "      \u003cth\u003estddev\u003c/th\u003e\n",
              "      \u003cth\u003emedian\u003c/th\u003e\n",
              "      \u003cth\u003equantiles\u003c/th\u003e\n",
              "      \u003cth\u003eunique\u003c/th\u003e\n",
              "      \u003cth\u003eavg_string_length\u003c/th\u003e\n",
              "      \u003cth\u003enum_values\u003c/th\u003e\n",
              "      \u003cth\u003etop_values\u003c/th\u003e\n",
              "      \u003cth\u003emin_array_length\u003c/th\u003e\n",
              "      \u003cth\u003emax_array_length\u003c/th\u003e\n",
              "      \u003cth\u003eavg_array_length\u003c/th\u003e\n",
              "      \u003cth\u003etotal_array_length\u003c/th\u003e\n",
              "      \u003cth\u003earray_length_quantiles\u003c/th\u003e\n",
              "      \u003cth\u003edimension\u003c/th\u003e\n",
              "    \u003c/tr\u003e\n",
              "  \u003c/thead\u003e\n",
              "  \u003ctbody\u003e\n",
              "    \u003ctr\u003e\n",
              "      \u003cth\u003e0\u003c/th\u003e\n",
              "      \u003ctd\u003ebody_mass_g\u003c/td\u003e\n",
              "      \u003ctd\u003e238\u003c/td\u003e\n",
              "      \u003ctd\u003e1\u003c/td\u003e\n",
              "      \u003ctd\u003e0\u003c/td\u003e\n",
              "      \u003ctd\u003e2850\u003c/td\u003e\n",
              "      \u003ctd\u003e6300\u003c/td\u003e\n",
              "      \u003ctd\u003e4197.784810\u003c/td\u003e\n",
              "      \u003ctd\u003e794.428017\u003c/td\u003e\n",
              "      \u003ctd\u003e4050.0\u003c/td\u003e\n",
              "      \u003ctd\u003e[2850.0, 3550.0, 4050.0, 4750.0, 6300.0]\u003c/td\u003e\n",
              "      \u003ctd\u003e\u0026lt;NA\u0026gt;\u003c/td\u003e\n",
              "      \u003ctd\u003eNaN\u003c/td\u003e\n",
              "      \u003ctd\u003e237\u003c/td\u003e\n",
              "      \u003ctd\u003e[]\u003c/td\u003e\n",
              "      \u003ctd\u003e\u0026lt;NA\u0026gt;\u003c/td\u003e\n",
              "      \u003ctd\u003e\u0026lt;NA\u0026gt;\u003c/td\u003e\n",
              "      \u003ctd\u003eNaN\u003c/td\u003e\n",
              "      \u003ctd\u003e\u0026lt;NA\u0026gt;\u003c/td\u003e\n",
              "      \u003ctd\u003e[]\u003c/td\u003e\n",
              "      \u003ctd\u003e\u0026lt;NA\u0026gt;\u003c/td\u003e\n",
              "    \u003c/tr\u003e\n",
              "    \u003ctr\u003e\n",
              "      \u003cth\u003e1\u003c/th\u003e\n",
              "      \u003ctd\u003eculmen_depth_mm\u003c/td\u003e\n",
              "      \u003ctd\u003e238\u003c/td\u003e\n",
              "      \u003ctd\u003e1\u003c/td\u003e\n",
              "      \u003ctd\u003e0\u003c/td\u003e\n",
              "      \u003ctd\u003e13.1\u003c/td\u003e\n",
              "      \u003ctd\u003e21.2\u003c/td\u003e\n",
              "      \u003ctd\u003e17.135443\u003c/td\u003e\n",
              "      \u003ctd\u003e1.979603\u003c/td\u003e\n",
              "      \u003ctd\u003e17.3\u003c/td\u003e\n",
              "      \u003ctd\u003e[13.1, 15.6, 17.3, 18.6, 21.2]\u003c/td\u003e\n",
              "      \u003ctd\u003e\u0026lt;NA\u0026gt;\u003c/td\u003e\n",
              "      \u003ctd\u003eNaN\u003c/td\u003e\n",
              "      \u003ctd\u003e237\u003c/td\u003e\n",
              "      \u003ctd\u003e[]\u003c/td\u003e\n",
              "      \u003ctd\u003e\u0026lt;NA\u0026gt;\u003c/td\u003e\n",
              "      \u003ctd\u003e\u0026lt;NA\u0026gt;\u003c/td\u003e\n",
              "      \u003ctd\u003eNaN\u003c/td\u003e\n",
              "      \u003ctd\u003e\u0026lt;NA\u0026gt;\u003c/td\u003e\n",
              "      \u003ctd\u003e[]\u003c/td\u003e\n",
              "      \u003ctd\u003e\u0026lt;NA\u0026gt;\u003c/td\u003e\n",
              "    \u003c/tr\u003e\n",
              "    \u003ctr\u003e\n",
              "      \u003cth\u003e2\u003c/th\u003e\n",
              "      \u003ctd\u003eculmen_length_mm\u003c/td\u003e\n",
              "      \u003ctd\u003e238\u003c/td\u003e\n",
              "      \u003ctd\u003e1\u003c/td\u003e\n",
              "      \u003ctd\u003e0\u003c/td\u003e\n",
              "      \u003ctd\u003e32.1\u003c/td\u003e\n",
              "      \u003ctd\u003e58\u003c/td\u003e\n",
              "      \u003ctd\u003e43.796203\u003c/td\u003e\n",
              "      \u003ctd\u003e5.300938\u003c/td\u003e\n",
              "      \u003ctd\u003e43.8\u003c/td\u003e\n",
              "      \u003ctd\u003e[32.1, 39.6, 44.0, 48.2, 58.0]\u003c/td\u003e\n",
              "      \u003ctd\u003e\u0026lt;NA\u0026gt;\u003c/td\u003e\n",
              "      \u003ctd\u003eNaN\u003c/td\u003e\n",
              "      \u003ctd\u003e237\u003c/td\u003e\n",
              "      \u003ctd\u003e[]\u003c/td\u003e\n",
              "      \u003ctd\u003e\u0026lt;NA\u0026gt;\u003c/td\u003e\n",
              "      \u003ctd\u003e\u0026lt;NA\u0026gt;\u003c/td\u003e\n",
              "      \u003ctd\u003eNaN\u003c/td\u003e\n",
              "      \u003ctd\u003e\u0026lt;NA\u0026gt;\u003c/td\u003e\n",
              "      \u003ctd\u003e[]\u003c/td\u003e\n",
              "      \u003ctd\u003e\u0026lt;NA\u0026gt;\u003c/td\u003e\n",
              "    \u003c/tr\u003e\n",
              "    \u003ctr\u003e\n",
              "      \u003cth\u003e3\u003c/th\u003e\n",
              "      \u003ctd\u003eflipper_length_mm\u003c/td\u003e\n",
              "      \u003ctd\u003e238\u003c/td\u003e\n",
              "      \u003ctd\u003e1\u003c/td\u003e\n",
              "      \u003ctd\u003e0\u003c/td\u003e\n",
              "      \u003ctd\u003e172\u003c/td\u003e\n",
              "      \u003ctd\u003e231\u003c/td\u003e\n",
              "      \u003ctd\u003e200.565401\u003c/td\u003e\n",
              "      \u003ctd\u003e13.765706\u003c/td\u003e\n",
              "      \u003ctd\u003e197.0\u003c/td\u003e\n",
              "      \u003ctd\u003e[172.0, 190.0, 197.0, 213.0, 231.0]\u003c/td\u003e\n",
              "      \u003ctd\u003e\u0026lt;NA\u0026gt;\u003c/td\u003e\n",
              "      \u003ctd\u003eNaN\u003c/td\u003e\n",
              "      \u003ctd\u003e237\u003c/td\u003e\n",
              "      \u003ctd\u003e[]\u003c/td\u003e\n",
              "      \u003ctd\u003e\u0026lt;NA\u0026gt;\u003c/td\u003e\n",
              "      \u003ctd\u003e\u0026lt;NA\u0026gt;\u003c/td\u003e\n",
              "      \u003ctd\u003eNaN\u003c/td\u003e\n",
              "      \u003ctd\u003e\u0026lt;NA\u0026gt;\u003c/td\u003e\n",
              "      \u003ctd\u003e[]\u003c/td\u003e\n",
              "      \u003ctd\u003e\u0026lt;NA\u0026gt;\u003c/td\u003e\n",
              "    \u003c/tr\u003e\n",
              "    \u003ctr\u003e\n",
              "      \u003cth\u003e4\u003c/th\u003e\n",
              "      \u003ctd\u003eisland\u003c/td\u003e\n",
              "      \u003ctd\u003e238\u003c/td\u003e\n",
              "      \u003ctd\u003e0\u003c/td\u003e\n",
              "      \u003ctd\u003e\u0026lt;NA\u0026gt;\u003c/td\u003e\n",
              "      \u003ctd\u003eBiscoe\u003c/td\u003e\n",
              "      \u003ctd\u003eTorgersen\u003c/td\u003e\n",
              "      \u003ctd\u003eNaN\u003c/td\u003e\n",
              "      \u003ctd\u003eNaN\u003c/td\u003e\n",
              "      \u003ctd\u003eNaN\u003c/td\u003e\n",
              "      \u003ctd\u003e[]\u003c/td\u003e\n",
              "      \u003ctd\u003e3\u003c/td\u003e\n",
              "      \u003ctd\u003e6.092437\u003c/td\u003e\n",
              "      \u003ctd\u003e238\u003c/td\u003e\n",
              "      \u003ctd\u003e[{'value': 'Biscoe', 'count': 116}, {'value': ...\u003c/td\u003e\n",
              "      \u003ctd\u003e\u0026lt;NA\u0026gt;\u003c/td\u003e\n",
              "      \u003ctd\u003e\u0026lt;NA\u0026gt;\u003c/td\u003e\n",
              "      \u003ctd\u003eNaN\u003c/td\u003e\n",
              "      \u003ctd\u003e\u0026lt;NA\u0026gt;\u003c/td\u003e\n",
              "      \u003ctd\u003e[]\u003c/td\u003e\n",
              "      \u003ctd\u003e\u0026lt;NA\u0026gt;\u003c/td\u003e\n",
              "    \u003c/tr\u003e\n",
              "    \u003ctr\u003e\n",
              "      \u003cth\u003e5\u003c/th\u003e\n",
              "      \u003ctd\u003esex\u003c/td\u003e\n",
              "      \u003ctd\u003e238\u003c/td\u003e\n",
              "      \u003ctd\u003e5\u003c/td\u003e\n",
              "      \u003ctd\u003e\u0026lt;NA\u0026gt;\u003c/td\u003e\n",
              "      \u003ctd\u003eFEMALE\u003c/td\u003e\n",
              "      \u003ctd\u003eMALE\u003c/td\u003e\n",
              "      \u003ctd\u003eNaN\u003c/td\u003e\n",
              "      \u003ctd\u003eNaN\u003c/td\u003e\n",
              "      \u003ctd\u003eNaN\u003c/td\u003e\n",
              "      \u003ctd\u003e[]\u003c/td\u003e\n",
              "      \u003ctd\u003e2\u003c/td\u003e\n",
              "      \u003ctd\u003e5.055794\u003c/td\u003e\n",
              "      \u003ctd\u003e233\u003c/td\u003e\n",
              "      \u003ctd\u003e[{'value': 'FEMALE', 'count': 123}, {'value': ...\u003c/td\u003e\n",
              "      \u003ctd\u003e\u0026lt;NA\u0026gt;\u003c/td\u003e\n",
              "      \u003ctd\u003e\u0026lt;NA\u0026gt;\u003c/td\u003e\n",
              "      \u003ctd\u003eNaN\u003c/td\u003e\n",
              "      \u003ctd\u003e\u0026lt;NA\u0026gt;\u003c/td\u003e\n",
              "      \u003ctd\u003e[]\u003c/td\u003e\n",
              "      \u003ctd\u003e\u0026lt;NA\u0026gt;\u003c/td\u003e\n",
              "    \u003c/tr\u003e\n",
              "    \u003ctr\u003e\n",
              "      \u003cth\u003e6\u003c/th\u003e\n",
              "      \u003ctd\u003especies\u003c/td\u003e\n",
              "      \u003ctd\u003e238\u003c/td\u003e\n",
              "      \u003ctd\u003e0\u003c/td\u003e\n",
              "      \u003ctd\u003e\u0026lt;NA\u0026gt;\u003c/td\u003e\n",
              "      \u003ctd\u003eAdelie Penguin (Pygoscelis adeliae)\u003c/td\u003e\n",
              "      \u003ctd\u003eGentoo penguin (Pygoscelis papua)\u003c/td\u003e\n",
              "      \u003ctd\u003eNaN\u003c/td\u003e\n",
              "      \u003ctd\u003eNaN\u003c/td\u003e\n",
              "      \u003ctd\u003eNaN\u003c/td\u003e\n",
              "      \u003ctd\u003e[]\u003c/td\u003e\n",
              "      \u003ctd\u003e3\u003c/td\u003e\n",
              "      \u003ctd\u003e35.462185\u003c/td\u003e\n",
              "      \u003ctd\u003e238\u003c/td\u003e\n",
              "      \u003ctd\u003e[{'value': 'Adelie Penguin (Pygoscelis adeliae...\u003c/td\u003e\n",
              "      \u003ctd\u003e\u0026lt;NA\u0026gt;\u003c/td\u003e\n",
              "      \u003ctd\u003e\u0026lt;NA\u0026gt;\u003c/td\u003e\n",
              "      \u003ctd\u003eNaN\u003c/td\u003e\n",
              "      \u003ctd\u003e\u0026lt;NA\u0026gt;\u003c/td\u003e\n",
              "      \u003ctd\u003e[]\u003c/td\u003e\n",
              "      \u003ctd\u003e\u0026lt;NA\u0026gt;\u003c/td\u003e\n",
              "    \u003c/tr\u003e\n",
              "  \u003c/tbody\u003e\n",
              "\u003c/table\u003e\n",
              "\u003c/div\u003e"
            ],
            "text/plain": [
              "                name  num_rows  num_nulls  num_zeros  \\\n",
              "0        body_mass_g       238          1          0   \n",
              "1    culmen_depth_mm       238          1          0   \n",
              "2   culmen_length_mm       238          1          0   \n",
              "3  flipper_length_mm       238          1          0   \n",
              "4             island       238          0       \u003cNA\u003e   \n",
              "5                sex       238          5       \u003cNA\u003e   \n",
              "6            species       238          0       \u003cNA\u003e   \n",
              "\n",
              "                                   min                                max  \\\n",
              "0                                 2850                               6300   \n",
              "1                                 13.1                               21.2   \n",
              "2                                 32.1                                 58   \n",
              "3                                  172                                231   \n",
              "4                               Biscoe                          Torgersen   \n",
              "5                               FEMALE                               MALE   \n",
              "6  Adelie Penguin (Pygoscelis adeliae)  Gentoo penguin (Pygoscelis papua)   \n",
              "\n",
              "          mean      stddev  median                                 quantiles  \\\n",
              "0  4197.784810  794.428017  4050.0  [2850.0, 3550.0, 4050.0, 4750.0, 6300.0]   \n",
              "1    17.135443    1.979603    17.3            [13.1, 15.6, 17.3, 18.6, 21.2]   \n",
              "2    43.796203    5.300938    43.8            [32.1, 39.6, 44.0, 48.2, 58.0]   \n",
              "3   200.565401   13.765706   197.0       [172.0, 190.0, 197.0, 213.0, 231.0]   \n",
              "4          NaN         NaN     NaN                                        []   \n",
              "5          NaN         NaN     NaN                                        []   \n",
              "6          NaN         NaN     NaN                                        []   \n",
              "\n",
              "   unique  avg_string_length  num_values  \\\n",
              "0    \u003cNA\u003e                NaN         237   \n",
              "1    \u003cNA\u003e                NaN         237   \n",
              "2    \u003cNA\u003e                NaN         237   \n",
              "3    \u003cNA\u003e                NaN         237   \n",
              "4       3           6.092437         238   \n",
              "5       2           5.055794         233   \n",
              "6       3          35.462185         238   \n",
              "\n",
              "                                          top_values  min_array_length  \\\n",
              "0                                                 []              \u003cNA\u003e   \n",
              "1                                                 []              \u003cNA\u003e   \n",
              "2                                                 []              \u003cNA\u003e   \n",
              "3                                                 []              \u003cNA\u003e   \n",
              "4  [{'value': 'Biscoe', 'count': 116}, {'value': ...              \u003cNA\u003e   \n",
              "5  [{'value': 'FEMALE', 'count': 123}, {'value': ...              \u003cNA\u003e   \n",
              "6  [{'value': 'Adelie Penguin (Pygoscelis adeliae...              \u003cNA\u003e   \n",
              "\n",
              "   max_array_length  avg_array_length  total_array_length  \\\n",
              "0              \u003cNA\u003e               NaN                \u003cNA\u003e   \n",
              "1              \u003cNA\u003e               NaN                \u003cNA\u003e   \n",
              "2              \u003cNA\u003e               NaN                \u003cNA\u003e   \n",
              "3              \u003cNA\u003e               NaN                \u003cNA\u003e   \n",
              "4              \u003cNA\u003e               NaN                \u003cNA\u003e   \n",
              "5              \u003cNA\u003e               NaN                \u003cNA\u003e   \n",
              "6              \u003cNA\u003e               NaN                \u003cNA\u003e   \n",
              "\n",
              "  array_length_quantiles  dimension  \n",
              "0                     []       \u003cNA\u003e  \n",
              "1                     []       \u003cNA\u003e  \n",
              "2                     []       \u003cNA\u003e  \n",
              "3                     []       \u003cNA\u003e  \n",
              "4                     []       \u003cNA\u003e  \n",
              "5                     []       \u003cNA\u003e  \n",
              "6                     []       \u003cNA\u003e  "
            ]
          },
          "execution_count": 13,
          "metadata": {},
          "output_type": "execute_result"
        }
      ],
      "source": [
        "%%bigquery\n",
        "SELECT *\n",
        "FROM ML.DESCRIBE_DATA(\n",
        "    (\n",
        "        SELECT * EXCEPT(splits)\n",
        "        FROM `statmike-mlops-349915.bqml_model_monitoring.training_split`\n",
        "        WHERE splits = 'TRAIN'\n",
        "    ),\n",
        "    STRUCT(3 AS top_k, 4 AS num_quantiles)\n",
        ")"
      ]
    },
    {
      "cell_type": "markdown",
      "metadata": {
        "tags": [],
        "id": "iztbfD-zxLVM"
      },
      "source": [
        "---\n",
        "## Model Training\n",
        "\n",
        "Create a model trained to classify `species` for the traning records.  Here, directly in BigQuery, the [`CREATE MODEL` statement for random forest](https://cloud.google.com/bigquery/docs/reference/standard-sql/bigqueryml-syntax-create-random-forest) is used.  This uses the `TRANSFORM` clause within the model to embed user specified transfomations within the model for use during serving and model monitoring which will both be show later in this introduction.\n",
        "\n",
        "From reviewing the training data above, the following transformations will be tried:\n",
        "- Apply [`ML.ROBUST_SCALER`](https://cloud.google.com/bigquery/docs/reference/standard-sql/bigqueryml-syntax-robust-scaler) to `body_mass_g`\n",
        "- Apply [`ML.STANDARD_SCALER`](https://cloud.google.com/bigquery/docs/reference/standard-sql/bigqueryml-syntax-standard-scaler) to `culmen_depth_mm` and `culmen_length_mm`\n",
        "- Apply [`ML.QUANTILE_BUCKATIZE`](https://cloud.google.com/bigquery/docs/reference/standard-sql/bigqueryml-syntax-quantile-bucketize) to `flipper_length_mm`\n",
        "- Apply [`ML.IMPUTER`](https://cloud.google.com/bigquery/docs/reference/standard-sql/bigqueryml-syntax-imputer) to `island`, and `sex`"
      ]
    },
    {
      "cell_type": "code",
      "execution_count": 14,
      "metadata": {
        "tags": [],
        "id": "Q0qzamrSxLVM"
      },
      "outputs": [
        {
          "data": {
            "application/vnd.jupyter.widget-view+json": {
              "model_id": "6c23e91d8a93409bb313d64cc3fd6dec",
              "version_major": 2,
              "version_minor": 0
            },
            "text/plain": [
              "Query is running:   0%|          |"
            ]
          },
          "metadata": {},
          "output_type": "display_data"
        },
        {
          "data": {
            "text/html": [
              "\u003cdiv\u003e\n",
              "\u003cstyle scoped\u003e\n",
              "    .dataframe tbody tr th:only-of-type {\n",
              "        vertical-align: middle;\n",
              "    }\n",
              "\n",
              "    .dataframe tbody tr th {\n",
              "        vertical-align: top;\n",
              "    }\n",
              "\n",
              "    .dataframe thead th {\n",
              "        text-align: right;\n",
              "    }\n",
              "\u003c/style\u003e\n",
              "\u003ctable border=\"1\" class=\"dataframe\"\u003e\n",
              "  \u003cthead\u003e\n",
              "    \u003ctr style=\"text-align: right;\"\u003e\n",
              "      \u003cth\u003e\u003c/th\u003e\n",
              "    \u003c/tr\u003e\n",
              "  \u003c/thead\u003e\n",
              "  \u003ctbody\u003e\n",
              "  \u003c/tbody\u003e\n",
              "\u003c/table\u003e\n",
              "\u003c/div\u003e"
            ],
            "text/plain": [
              "Empty DataFrame\n",
              "Columns: []\n",
              "Index: []"
            ]
          },
          "execution_count": 14,
          "metadata": {},
          "output_type": "execute_result"
        }
      ],
      "source": [
        "%%bigquery\n",
        "CREATE OR REPLACE MODEL `statmike-mlops-349915.bqml_model_monitoring.classify_species_rf`\n",
        "    TRANSFORM(\n",
        "        ML.ROBUST_SCALER(body_mass_g) OVER() AS body_mass_g,\n",
        "        ML.STANDARD_SCALER(culmen_length_mm) OVER() AS culmen_length_mm,\n",
        "        ML.STANDARD_SCALER(culmen_depth_mm) OVER() AS culmen_depth_mm,\n",
        "        ML.QUANTILE_BUCKETIZE(flipper_length_mm, 3) OVER() AS flipper_length_mm,\n",
        "        ML.IMPUTER(sex, 'most_frequent') OVER() AS sex,\n",
        "        ML.IMPUTER(island, 'most_frequent') OVER() AS island,\n",
        "        species, split\n",
        "    )\n",
        "    OPTIONS(\n",
        "        MODEL_TYPE = 'RANDOM_FOREST_CLASSIFIER',\n",
        "        INPUT_LABEL_COLS = ['species'],\n",
        "        \n",
        "        # data specifics\n",
        "        DATA_SPLIT_METHOD = 'CUSTOM',\n",
        "        DATA_SPLIT_COL = 'split',\n",
        "        \n",
        "        # model specifics\n",
        "        AUTO_CLASS_WEIGHTS = FALSE,\n",
        "        NUM_PARALLEL_TREE= 150,\n",
        "        TREE_METHOD = 'HIST',\n",
        "        SUBSAMPLE = 0.85,\n",
        "        COLSAMPLE_BYTREE = 0.9,\n",
        "        ENABLE_GLOBAL_EXPLAIN = TRUE,\n",
        "        \n",
        "        # register model in Vertex AI For Online Serving\n",
        "        MODEL_REGISTRY = 'VERTEX_AI'\n",
        "    )\n",
        "AS\n",
        "    SELECT * EXCEPT(splits),\n",
        "        CASE WHEN splits = 'TRAIN' THEN FALSE\n",
        "        ELSE TRUE END AS split\n",
        "    FROM `statmike-mlops-349915.bqml_model_monitoring.training_split`\n",
        "    WHERE splits != 'TEST'"
      ]
    },
    {
      "cell_type": "code",
      "execution_count": 15,
      "metadata": {
        "tags": [],
        "id": "pdxu3114xLVM"
      },
      "outputs": [
        {
          "data": {
            "application/vnd.jupyter.widget-view+json": {
              "model_id": "78e39cb76e0f4bae8afb23e2baee6d75",
              "version_major": 2,
              "version_minor": 0
            },
            "text/plain": [
              "Query is running:   0%|          |"
            ]
          },
          "metadata": {},
          "output_type": "display_data"
        },
        {
          "data": {
            "application/vnd.jupyter.widget-view+json": {
              "model_id": "6c9ca06fce294a81b3b8b7c97714753b",
              "version_major": 2,
              "version_minor": 0
            },
            "text/plain": [
              "Downloading:   0%|          |"
            ]
          },
          "metadata": {},
          "output_type": "display_data"
        },
        {
          "data": {
            "text/html": [
              "\u003cdiv\u003e\n",
              "\u003cstyle scoped\u003e\n",
              "    .dataframe tbody tr th:only-of-type {\n",
              "        vertical-align: middle;\n",
              "    }\n",
              "\n",
              "    .dataframe tbody tr th {\n",
              "        vertical-align: top;\n",
              "    }\n",
              "\n",
              "    .dataframe thead th {\n",
              "        text-align: right;\n",
              "    }\n",
              "\u003c/style\u003e\n",
              "\u003ctable border=\"1\" class=\"dataframe\"\u003e\n",
              "  \u003cthead\u003e\n",
              "    \u003ctr style=\"text-align: right;\"\u003e\n",
              "      \u003cth\u003e\u003c/th\u003e\n",
              "      \u003cth\u003etraining_run\u003c/th\u003e\n",
              "      \u003cth\u003eiteration\u003c/th\u003e\n",
              "      \u003cth\u003eloss\u003c/th\u003e\n",
              "      \u003cth\u003eeval_loss\u003c/th\u003e\n",
              "      \u003cth\u003elearning_rate\u003c/th\u003e\n",
              "      \u003cth\u003eduration_ms\u003c/th\u003e\n",
              "    \u003c/tr\u003e\n",
              "  \u003c/thead\u003e\n",
              "  \u003ctbody\u003e\n",
              "    \u003ctr\u003e\n",
              "      \u003cth\u003e0\u003c/th\u003e\n",
              "      \u003ctd\u003e0\u003c/td\u003e\n",
              "      \u003ctd\u003e1\u003c/td\u003e\n",
              "      \u003ctd\u003e0.256961\u003c/td\u003e\n",
              "      \u003ctd\u003e0.262248\u003c/td\u003e\n",
              "      \u003ctd\u003e1.0\u003c/td\u003e\n",
              "      \u003ctd\u003e94391\u003c/td\u003e\n",
              "    \u003c/tr\u003e\n",
              "  \u003c/tbody\u003e\n",
              "\u003c/table\u003e\n",
              "\u003c/div\u003e"
            ],
            "text/plain": [
              "   training_run  iteration      loss  eval_loss  learning_rate  duration_ms\n",
              "0             0          1  0.256961   0.262248            1.0        94391"
            ]
          },
          "execution_count": 15,
          "metadata": {},
          "output_type": "execute_result"
        }
      ],
      "source": [
        "%%bigquery\n",
        "SELECT *\n",
        "FROM ML.TRAINING_INFO(MODEL `statmike-mlops-349915.bqml_model_monitoring.classify_species_rf`)\n",
        "ORDER BY iteration"
      ]
    },
    {
      "cell_type": "markdown",
      "metadata": {
        "id": "4YgK4WBSxLVM"
      },
      "source": [
        "### Evaluation With `ML.EVALUATE`\n",
        "\n",
        "BigQuery ML models can be directly evaluated with the [`ML.EVALUATE` function](https://cloud.google.com/bigquery/docs/reference/standard-sql/bigqueryml-syntax-evaluate).  The evaluation of the model on evaluation data specified during training can be done by just specifying the model.  To evaluate the model on new data, like a `TEST` split or even the `TRAIN` split, the records can be specified with a query statement as seen in the following evaluations.\n",
        "\n",
        "\u003e An evaluation split with 10% of records was created above.  This set would normally be used for tuning model hyperparameters, like `BATCH_SIZE`, `DROPOUT`, `HIDDEN_UNITS`, `LEARN_RATE`, and/or `OPTIMIZER` in the case of the DNN used here.  This could also be done directly in the BigQuery `CREATE MODEL` statement with [hyperparameter tuning](https://cloud.google.com/bigquery/docs/hp-tuning-overview)."
      ]
    },
    {
      "cell_type": "code",
      "execution_count": 16,
      "metadata": {
        "tags": [],
        "id": "2_szmP7kxLVM"
      },
      "outputs": [
        {
          "data": {
            "application/vnd.jupyter.widget-view+json": {
              "model_id": "7be41f867fb442c798b22b41df058ae6",
              "version_major": 2,
              "version_minor": 0
            },
            "text/plain": [
              "Query is running:   0%|          |"
            ]
          },
          "metadata": {},
          "output_type": "display_data"
        },
        {
          "data": {
            "application/vnd.jupyter.widget-view+json": {
              "model_id": "d56257fde8624b0c9bf747e7bf488e9b",
              "version_major": 2,
              "version_minor": 0
            },
            "text/plain": [
              "Downloading:   0%|          |"
            ]
          },
          "metadata": {},
          "output_type": "display_data"
        },
        {
          "data": {
            "text/html": [
              "\u003cdiv\u003e\n",
              "\u003cstyle scoped\u003e\n",
              "    .dataframe tbody tr th:only-of-type {\n",
              "        vertical-align: middle;\n",
              "    }\n",
              "\n",
              "    .dataframe tbody tr th {\n",
              "        vertical-align: top;\n",
              "    }\n",
              "\n",
              "    .dataframe thead th {\n",
              "        text-align: right;\n",
              "    }\n",
              "\u003c/style\u003e\n",
              "\u003ctable border=\"1\" class=\"dataframe\"\u003e\n",
              "  \u003cthead\u003e\n",
              "    \u003ctr style=\"text-align: right;\"\u003e\n",
              "      \u003cth\u003e\u003c/th\u003e\n",
              "      \u003cth\u003eprecision\u003c/th\u003e\n",
              "      \u003cth\u003erecall\u003c/th\u003e\n",
              "      \u003cth\u003eaccuracy\u003c/th\u003e\n",
              "      \u003cth\u003ef1_score\u003c/th\u003e\n",
              "      \u003cth\u003elog_loss\u003c/th\u003e\n",
              "      \u003cth\u003eroc_auc\u003c/th\u003e\n",
              "    \u003c/tr\u003e\n",
              "  \u003c/thead\u003e\n",
              "  \u003ctbody\u003e\n",
              "    \u003ctr\u003e\n",
              "      \u003cth\u003e0\u003c/th\u003e\n",
              "      \u003ctd\u003e1.0\u003c/td\u003e\n",
              "      \u003ctd\u003e1.0\u003c/td\u003e\n",
              "      \u003ctd\u003e1.0\u003c/td\u003e\n",
              "      \u003ctd\u003e1.0\u003c/td\u003e\n",
              "      \u003ctd\u003e0.278005\u003c/td\u003e\n",
              "      \u003ctd\u003e1.0\u003c/td\u003e\n",
              "    \u003c/tr\u003e\n",
              "  \u003c/tbody\u003e\n",
              "\u003c/table\u003e\n",
              "\u003c/div\u003e"
            ],
            "text/plain": [
              "   precision  recall  accuracy  f1_score  log_loss  roc_auc\n",
              "0        1.0     1.0       1.0       1.0  0.278005      1.0"
            ]
          },
          "execution_count": 16,
          "metadata": {},
          "output_type": "execute_result"
        }
      ],
      "source": [
        "%%bigquery\n",
        "SELECT *\n",
        "FROM ML.EVALUATE (\n",
        "    MODEL `statmike-mlops-349915.bqml_model_monitoring.classify_species_rf`\n",
        ")"
      ]
    },
    {
      "cell_type": "markdown",
      "metadata": {
        "id": "XPF4TtuhxLVM"
      },
      "source": [
        "### Evaluate The Model: Training Data Split (`TRAIN`)\n",
        "\n",
        "Evaluating the model on the training data is good for setting a baseline for the likely best possible performance of the model.  "
      ]
    },
    {
      "cell_type": "code",
      "execution_count": 17,
      "metadata": {
        "tags": [],
        "id": "620FggwHxLVM"
      },
      "outputs": [
        {
          "data": {
            "application/vnd.jupyter.widget-view+json": {
              "model_id": "b1042532d6ec4686acc1787b083e78ae",
              "version_major": 2,
              "version_minor": 0
            },
            "text/plain": [
              "Query is running:   0%|          |"
            ]
          },
          "metadata": {},
          "output_type": "display_data"
        },
        {
          "data": {
            "application/vnd.jupyter.widget-view+json": {
              "model_id": "94ce8eb82d514374bdcfd05f3d6c3fee",
              "version_major": 2,
              "version_minor": 0
            },
            "text/plain": [
              "Downloading:   0%|          |"
            ]
          },
          "metadata": {},
          "output_type": "display_data"
        },
        {
          "data": {
            "text/html": [
              "\u003cdiv\u003e\n",
              "\u003cstyle scoped\u003e\n",
              "    .dataframe tbody tr th:only-of-type {\n",
              "        vertical-align: middle;\n",
              "    }\n",
              "\n",
              "    .dataframe tbody tr th {\n",
              "        vertical-align: top;\n",
              "    }\n",
              "\n",
              "    .dataframe thead th {\n",
              "        text-align: right;\n",
              "    }\n",
              "\u003c/style\u003e\n",
              "\u003ctable border=\"1\" class=\"dataframe\"\u003e\n",
              "  \u003cthead\u003e\n",
              "    \u003ctr style=\"text-align: right;\"\u003e\n",
              "      \u003cth\u003e\u003c/th\u003e\n",
              "      \u003cth\u003eprecision\u003c/th\u003e\n",
              "      \u003cth\u003erecall\u003c/th\u003e\n",
              "      \u003cth\u003eaccuracy\u003c/th\u003e\n",
              "      \u003cth\u003ef1_score\u003c/th\u003e\n",
              "      \u003cth\u003elog_loss\u003c/th\u003e\n",
              "      \u003cth\u003eroc_auc\u003c/th\u003e\n",
              "    \u003c/tr\u003e\n",
              "  \u003c/thead\u003e\n",
              "  \u003ctbody\u003e\n",
              "    \u003ctr\u003e\n",
              "      \u003cth\u003e0\u003c/th\u003e\n",
              "      \u003ctd\u003e0.993769\u003c/td\u003e\n",
              "      \u003ctd\u003e0.989032\u003c/td\u003e\n",
              "      \u003ctd\u003e0.991597\u003c/td\u003e\n",
              "      \u003ctd\u003e0.991322\u003c/td\u003e\n",
              "      \u003ctd\u003e0.266515\u003c/td\u003e\n",
              "      \u003ctd\u003e1.0\u003c/td\u003e\n",
              "    \u003c/tr\u003e\n",
              "  \u003c/tbody\u003e\n",
              "\u003c/table\u003e\n",
              "\u003c/div\u003e"
            ],
            "text/plain": [
              "   precision    recall  accuracy  f1_score  log_loss  roc_auc\n",
              "0   0.993769  0.989032  0.991597  0.991322  0.266515      1.0"
            ]
          },
          "execution_count": 17,
          "metadata": {},
          "output_type": "execute_result"
        }
      ],
      "source": [
        "%%bigquery\n",
        "SELECT *\n",
        "FROM ML.EVALUATE (\n",
        "    MODEL `statmike-mlops-349915.bqml_model_monitoring.classify_species_rf`,\n",
        "    (\n",
        "        SELECT *\n",
        "        FROM `statmike-mlops-349915.bqml_model_monitoring.training_split`\n",
        "        WHERE splits = 'TRAIN'\n",
        "    )\n",
        ")"
      ]
    },
    {
      "cell_type": "markdown",
      "metadata": {
        "id": "WpxAwgrSxLVM"
      },
      "source": [
        "### Evaluate The Model: `TEST` Data Split\n",
        "\n",
        "Evaluating the model on the `TEST` split is a good gauge of performance in general as it represents data the model was not exposed to during training: "
      ]
    },
    {
      "cell_type": "code",
      "execution_count": 18,
      "metadata": {
        "tags": [],
        "id": "xF9s8JNSxLVM"
      },
      "outputs": [
        {
          "data": {
            "application/vnd.jupyter.widget-view+json": {
              "model_id": "938c0b8940b942c4bd6d9afbec2d13f4",
              "version_major": 2,
              "version_minor": 0
            },
            "text/plain": [
              "Query is running:   0%|          |"
            ]
          },
          "metadata": {},
          "output_type": "display_data"
        },
        {
          "data": {
            "application/vnd.jupyter.widget-view+json": {
              "model_id": "fe4c70a1c49a47fa93c640df97b5f40d",
              "version_major": 2,
              "version_minor": 0
            },
            "text/plain": [
              "Downloading:   0%|          |"
            ]
          },
          "metadata": {},
          "output_type": "display_data"
        },
        {
          "data": {
            "text/html": [
              "\u003cdiv\u003e\n",
              "\u003cstyle scoped\u003e\n",
              "    .dataframe tbody tr th:only-of-type {\n",
              "        vertical-align: middle;\n",
              "    }\n",
              "\n",
              "    .dataframe tbody tr th {\n",
              "        vertical-align: top;\n",
              "    }\n",
              "\n",
              "    .dataframe thead th {\n",
              "        text-align: right;\n",
              "    }\n",
              "\u003c/style\u003e\n",
              "\u003ctable border=\"1\" class=\"dataframe\"\u003e\n",
              "  \u003cthead\u003e\n",
              "    \u003ctr style=\"text-align: right;\"\u003e\n",
              "      \u003cth\u003e\u003c/th\u003e\n",
              "      \u003cth\u003eprecision\u003c/th\u003e\n",
              "      \u003cth\u003erecall\u003c/th\u003e\n",
              "      \u003cth\u003eaccuracy\u003c/th\u003e\n",
              "      \u003cth\u003ef1_score\u003c/th\u003e\n",
              "      \u003cth\u003elog_loss\u003c/th\u003e\n",
              "      \u003cth\u003eroc_auc\u003c/th\u003e\n",
              "    \u003c/tr\u003e\n",
              "  \u003c/thead\u003e\n",
              "  \u003ctbody\u003e\n",
              "    \u003ctr\u003e\n",
              "      \u003cth\u003e0\u003c/th\u003e\n",
              "      \u003ctd\u003e0.958333\u003c/td\u003e\n",
              "      \u003ctd\u003e0.979167\u003c/td\u003e\n",
              "      \u003ctd\u003e0.971831\u003c/td\u003e\n",
              "      \u003ctd\u003e0.967025\u003c/td\u003e\n",
              "      \u003ctd\u003e0.324351\u003c/td\u003e\n",
              "      \u003ctd\u003e0.99813\u003c/td\u003e\n",
              "    \u003c/tr\u003e\n",
              "  \u003c/tbody\u003e\n",
              "\u003c/table\u003e\n",
              "\u003c/div\u003e"
            ],
            "text/plain": [
              "   precision    recall  accuracy  f1_score  log_loss  roc_auc\n",
              "0   0.958333  0.979167  0.971831  0.967025  0.324351  0.99813"
            ]
          },
          "execution_count": 18,
          "metadata": {},
          "output_type": "execute_result"
        }
      ],
      "source": [
        "%%bigquery\n",
        "SELECT *\n",
        "FROM ML.EVALUATE (\n",
        "    MODEL `statmike-mlops-349915.bqml_model_monitoring.classify_species_rf`,\n",
        "    (\n",
        "        SELECT *\n",
        "        FROM `statmike-mlops-349915.bqml_model_monitoring.training_split`\n",
        "        WHERE splits = 'TEST'\n",
        "    )\n",
        ")"
      ]
    },
    {
      "cell_type": "markdown",
      "metadata": {
        "id": "iFyNGkghxLVM"
      },
      "source": [
        "### Evaluate The Classification Performance with `ML.CONFUSION_MATRIX`\n",
        "\n",
        "This model is a classification model and reviewing the true versus predicted classification categories can be done with the [`ML.CONFUSION_MATRIX` function](https://cloud.google.com/bigquery/docs/reference/standard-sql/bigqueryml-syntax-confusion)."
      ]
    },
    {
      "cell_type": "code",
      "execution_count": 19,
      "metadata": {
        "tags": [],
        "id": "fxxIUmPtxLVM"
      },
      "outputs": [
        {
          "data": {
            "application/vnd.jupyter.widget-view+json": {
              "model_id": "87150f14f9a04f3092a728bc5b6a6099",
              "version_major": 2,
              "version_minor": 0
            },
            "text/plain": [
              "Query is running:   0%|          |"
            ]
          },
          "metadata": {},
          "output_type": "display_data"
        },
        {
          "data": {
            "application/vnd.jupyter.widget-view+json": {
              "model_id": "7052d893088043d898b543ee755e14ff",
              "version_major": 2,
              "version_minor": 0
            },
            "text/plain": [
              "Downloading:   0%|          |"
            ]
          },
          "metadata": {},
          "output_type": "display_data"
        },
        {
          "data": {
            "text/html": [
              "\u003cdiv\u003e\n",
              "\u003cstyle scoped\u003e\n",
              "    .dataframe tbody tr th:only-of-type {\n",
              "        vertical-align: middle;\n",
              "    }\n",
              "\n",
              "    .dataframe tbody tr th {\n",
              "        vertical-align: top;\n",
              "    }\n",
              "\n",
              "    .dataframe thead th {\n",
              "        text-align: right;\n",
              "    }\n",
              "\u003c/style\u003e\n",
              "\u003ctable border=\"1\" class=\"dataframe\"\u003e\n",
              "  \u003cthead\u003e\n",
              "    \u003ctr style=\"text-align: right;\"\u003e\n",
              "      \u003cth\u003e\u003c/th\u003e\n",
              "      \u003cth\u003eexpected_label\u003c/th\u003e\n",
              "      \u003cth\u003eAdelie_Penguin__Pygoscelis_adeliae_\u003c/th\u003e\n",
              "      \u003cth\u003eChinstrap_penguin__Pygoscelis_antarctica_\u003c/th\u003e\n",
              "      \u003cth\u003eGentoo_penguin__Pygoscelis_papua_\u003c/th\u003e\n",
              "    \u003c/tr\u003e\n",
              "  \u003c/thead\u003e\n",
              "  \u003ctbody\u003e\n",
              "    \u003ctr\u003e\n",
              "      \u003cth\u003e0\u003c/th\u003e\n",
              "      \u003ctd\u003eAdelie Penguin (Pygoscelis adeliae)\u003c/td\u003e\n",
              "      \u003ctd\u003e15\u003c/td\u003e\n",
              "      \u003ctd\u003e0\u003c/td\u003e\n",
              "      \u003ctd\u003e0\u003c/td\u003e\n",
              "    \u003c/tr\u003e\n",
              "    \u003ctr\u003e\n",
              "      \u003cth\u003e1\u003c/th\u003e\n",
              "      \u003ctd\u003eChinstrap penguin (Pygoscelis antarctica)\u003c/td\u003e\n",
              "      \u003ctd\u003e0\u003c/td\u003e\n",
              "      \u003ctd\u003e7\u003c/td\u003e\n",
              "      \u003ctd\u003e0\u003c/td\u003e\n",
              "    \u003c/tr\u003e\n",
              "    \u003ctr\u003e\n",
              "      \u003cth\u003e2\u003c/th\u003e\n",
              "      \u003ctd\u003eGentoo penguin (Pygoscelis papua)\u003c/td\u003e\n",
              "      \u003ctd\u003e0\u003c/td\u003e\n",
              "      \u003ctd\u003e0\u003c/td\u003e\n",
              "      \u003ctd\u003e13\u003c/td\u003e\n",
              "    \u003c/tr\u003e\n",
              "  \u003c/tbody\u003e\n",
              "\u003c/table\u003e\n",
              "\u003c/div\u003e"
            ],
            "text/plain": [
              "                              expected_label  \\\n",
              "0        Adelie Penguin (Pygoscelis adeliae)   \n",
              "1  Chinstrap penguin (Pygoscelis antarctica)   \n",
              "2          Gentoo penguin (Pygoscelis papua)   \n",
              "\n",
              "   Adelie_Penguin__Pygoscelis_adeliae_  \\\n",
              "0                                   15   \n",
              "1                                    0   \n",
              "2                                    0   \n",
              "\n",
              "   Chinstrap_penguin__Pygoscelis_antarctica_  \\\n",
              "0                                          0   \n",
              "1                                          7   \n",
              "2                                          0   \n",
              "\n",
              "   Gentoo_penguin__Pygoscelis_papua_  \n",
              "0                                  0  \n",
              "1                                  0  \n",
              "2                                 13  "
            ]
          },
          "execution_count": 19,
          "metadata": {},
          "output_type": "execute_result"
        }
      ],
      "source": [
        "%%bigquery\n",
        "SELECT *\n",
        "FROM ML.CONFUSION_MATRIX (\n",
        "    MODEL `statmike-mlops-349915.bqml_model_monitoring.classify_species_rf`\n",
        ")"
      ]
    },
    {
      "cell_type": "code",
      "execution_count": 20,
      "metadata": {
        "tags": [],
        "id": "bcpiQk5jxLVM"
      },
      "outputs": [
        {
          "data": {
            "application/vnd.jupyter.widget-view+json": {
              "model_id": "83fb50cd023049a99c2ff9a61efb7790",
              "version_major": 2,
              "version_minor": 0
            },
            "text/plain": [
              "Query is running:   0%|          |"
            ]
          },
          "metadata": {},
          "output_type": "display_data"
        },
        {
          "data": {
            "application/vnd.jupyter.widget-view+json": {
              "model_id": "da1f023981954558aaab8e1565294698",
              "version_major": 2,
              "version_minor": 0
            },
            "text/plain": [
              "Downloading:   0%|          |"
            ]
          },
          "metadata": {},
          "output_type": "display_data"
        },
        {
          "data": {
            "text/html": [
              "\u003cdiv\u003e\n",
              "\u003cstyle scoped\u003e\n",
              "    .dataframe tbody tr th:only-of-type {\n",
              "        vertical-align: middle;\n",
              "    }\n",
              "\n",
              "    .dataframe tbody tr th {\n",
              "        vertical-align: top;\n",
              "    }\n",
              "\n",
              "    .dataframe thead th {\n",
              "        text-align: right;\n",
              "    }\n",
              "\u003c/style\u003e\n",
              "\u003ctable border=\"1\" class=\"dataframe\"\u003e\n",
              "  \u003cthead\u003e\n",
              "    \u003ctr style=\"text-align: right;\"\u003e\n",
              "      \u003cth\u003e\u003c/th\u003e\n",
              "      \u003cth\u003eexpected_label\u003c/th\u003e\n",
              "      \u003cth\u003eAdelie_Penguin__Pygoscelis_adeliae_\u003c/th\u003e\n",
              "      \u003cth\u003eChinstrap_penguin__Pygoscelis_antarctica_\u003c/th\u003e\n",
              "      \u003cth\u003eGentoo_penguin__Pygoscelis_papua_\u003c/th\u003e\n",
              "    \u003c/tr\u003e\n",
              "  \u003c/thead\u003e\n",
              "  \u003ctbody\u003e\n",
              "    \u003ctr\u003e\n",
              "      \u003cth\u003e0\u003c/th\u003e\n",
              "      \u003ctd\u003eAdelie Penguin (Pygoscelis adeliae)\u003c/td\u003e\n",
              "      \u003ctd\u003e105\u003c/td\u003e\n",
              "      \u003ctd\u003e0\u003c/td\u003e\n",
              "      \u003ctd\u003e0\u003c/td\u003e\n",
              "    \u003c/tr\u003e\n",
              "    \u003ctr\u003e\n",
              "      \u003cth\u003e1\u003c/th\u003e\n",
              "      \u003ctd\u003eChinstrap penguin (Pygoscelis antarctica)\u003c/td\u003e\n",
              "      \u003ctd\u003e1\u003c/td\u003e\n",
              "      \u003ctd\u003e46\u003c/td\u003e\n",
              "      \u003ctd\u003e0\u003c/td\u003e\n",
              "    \u003c/tr\u003e\n",
              "    \u003ctr\u003e\n",
              "      \u003cth\u003e2\u003c/th\u003e\n",
              "      \u003ctd\u003eGentoo penguin (Pygoscelis papua)\u003c/td\u003e\n",
              "      \u003ctd\u003e1\u003c/td\u003e\n",
              "      \u003ctd\u003e0\u003c/td\u003e\n",
              "      \u003ctd\u003e85\u003c/td\u003e\n",
              "    \u003c/tr\u003e\n",
              "  \u003c/tbody\u003e\n",
              "\u003c/table\u003e\n",
              "\u003c/div\u003e"
            ],
            "text/plain": [
              "                              expected_label  \\\n",
              "0        Adelie Penguin (Pygoscelis adeliae)   \n",
              "1  Chinstrap penguin (Pygoscelis antarctica)   \n",
              "2          Gentoo penguin (Pygoscelis papua)   \n",
              "\n",
              "   Adelie_Penguin__Pygoscelis_adeliae_  \\\n",
              "0                                  105   \n",
              "1                                    1   \n",
              "2                                    1   \n",
              "\n",
              "   Chinstrap_penguin__Pygoscelis_antarctica_  \\\n",
              "0                                          0   \n",
              "1                                         46   \n",
              "2                                          0   \n",
              "\n",
              "   Gentoo_penguin__Pygoscelis_papua_  \n",
              "0                                  0  \n",
              "1                                  0  \n",
              "2                                 85  "
            ]
          },
          "execution_count": 20,
          "metadata": {},
          "output_type": "execute_result"
        }
      ],
      "source": [
        "%%bigquery\n",
        "SELECT *\n",
        "FROM ML.CONFUSION_MATRIX (\n",
        "    MODEL `statmike-mlops-349915.bqml_model_monitoring.classify_species_rf`,\n",
        "    (\n",
        "        SELECT *\n",
        "        FROM `statmike-mlops-349915.bqml_model_monitoring.training_split`\n",
        "        WHERE splits = 'TRAIN'\n",
        "    )\n",
        ")"
      ]
    },
    {
      "cell_type": "code",
      "execution_count": 21,
      "metadata": {
        "tags": [],
        "id": "iG6msG8AxLVM"
      },
      "outputs": [
        {
          "data": {
            "application/vnd.jupyter.widget-view+json": {
              "model_id": "356d091d363540de990b59cd7a3bd6c0",
              "version_major": 2,
              "version_minor": 0
            },
            "text/plain": [
              "Query is running:   0%|          |"
            ]
          },
          "metadata": {},
          "output_type": "display_data"
        },
        {
          "data": {
            "application/vnd.jupyter.widget-view+json": {
              "model_id": "d80397bb089e4350b566b10bf2c3689b",
              "version_major": 2,
              "version_minor": 0
            },
            "text/plain": [
              "Downloading:   0%|          |"
            ]
          },
          "metadata": {},
          "output_type": "display_data"
        },
        {
          "data": {
            "text/html": [
              "\u003cdiv\u003e\n",
              "\u003cstyle scoped\u003e\n",
              "    .dataframe tbody tr th:only-of-type {\n",
              "        vertical-align: middle;\n",
              "    }\n",
              "\n",
              "    .dataframe tbody tr th {\n",
              "        vertical-align: top;\n",
              "    }\n",
              "\n",
              "    .dataframe thead th {\n",
              "        text-align: right;\n",
              "    }\n",
              "\u003c/style\u003e\n",
              "\u003ctable border=\"1\" class=\"dataframe\"\u003e\n",
              "  \u003cthead\u003e\n",
              "    \u003ctr style=\"text-align: right;\"\u003e\n",
              "      \u003cth\u003e\u003c/th\u003e\n",
              "      \u003cth\u003eexpected_label\u003c/th\u003e\n",
              "      \u003cth\u003eAdelie_Penguin__Pygoscelis_adeliae_\u003c/th\u003e\n",
              "      \u003cth\u003eChinstrap_penguin__Pygoscelis_antarctica_\u003c/th\u003e\n",
              "      \u003cth\u003eGentoo_penguin__Pygoscelis_papua_\u003c/th\u003e\n",
              "    \u003c/tr\u003e\n",
              "  \u003c/thead\u003e\n",
              "  \u003ctbody\u003e\n",
              "    \u003ctr\u003e\n",
              "      \u003cth\u003e0\u003c/th\u003e\n",
              "      \u003ctd\u003eAdelie Penguin (Pygoscelis adeliae)\u003c/td\u003e\n",
              "      \u003ctd\u003e30\u003c/td\u003e\n",
              "      \u003ctd\u003e2\u003c/td\u003e\n",
              "      \u003ctd\u003e0\u003c/td\u003e\n",
              "    \u003c/tr\u003e\n",
              "    \u003ctr\u003e\n",
              "      \u003cth\u003e1\u003c/th\u003e\n",
              "      \u003ctd\u003eChinstrap penguin (Pygoscelis antarctica)\u003c/td\u003e\n",
              "      \u003ctd\u003e0\u003c/td\u003e\n",
              "      \u003ctd\u003e14\u003c/td\u003e\n",
              "      \u003ctd\u003e0\u003c/td\u003e\n",
              "    \u003c/tr\u003e\n",
              "    \u003ctr\u003e\n",
              "      \u003cth\u003e2\u003c/th\u003e\n",
              "      \u003ctd\u003eGentoo penguin (Pygoscelis papua)\u003c/td\u003e\n",
              "      \u003ctd\u003e0\u003c/td\u003e\n",
              "      \u003ctd\u003e0\u003c/td\u003e\n",
              "      \u003ctd\u003e25\u003c/td\u003e\n",
              "    \u003c/tr\u003e\n",
              "  \u003c/tbody\u003e\n",
              "\u003c/table\u003e\n",
              "\u003c/div\u003e"
            ],
            "text/plain": [
              "                              expected_label  \\\n",
              "0        Adelie Penguin (Pygoscelis adeliae)   \n",
              "1  Chinstrap penguin (Pygoscelis antarctica)   \n",
              "2          Gentoo penguin (Pygoscelis papua)   \n",
              "\n",
              "   Adelie_Penguin__Pygoscelis_adeliae_  \\\n",
              "0                                   30   \n",
              "1                                    0   \n",
              "2                                    0   \n",
              "\n",
              "   Chinstrap_penguin__Pygoscelis_antarctica_  \\\n",
              "0                                          2   \n",
              "1                                         14   \n",
              "2                                          0   \n",
              "\n",
              "   Gentoo_penguin__Pygoscelis_papua_  \n",
              "0                                  0  \n",
              "1                                  0  \n",
              "2                                 25  "
            ]
          },
          "execution_count": 21,
          "metadata": {},
          "output_type": "execute_result"
        }
      ],
      "source": [
        "%%bigquery\n",
        "SELECT *\n",
        "FROM ML.CONFUSION_MATRIX (\n",
        "    MODEL `statmike-mlops-349915.bqml_model_monitoring.classify_species_rf`,\n",
        "    (\n",
        "        SELECT *\n",
        "        FROM `statmike-mlops-349915.bqml_model_monitoring.training_split`\n",
        "        WHERE splits = 'TEST'\n",
        "    )\n",
        ")"
      ]
    },
    {
      "cell_type": "markdown",
      "metadata": {
        "tags": [],
        "id": "VxqLgK_0xLVM"
      },
      "source": [
        "---\n",
        "## Model Serving\n",
        "\n",
        "Once a version of the model is trusted to serve predictions we can put it into use.  At first, this means creating and using predictions from the model.  This is quickly followed by important considerations:\n",
        "\n",
        "\u003eHas the system that is being measured, that creates the data, or that records the data changed in a way that could impact the models ability to correctly predict/classify?\n",
        "\n",
        "It seems like a good idea to continously run evaluations to make sure the model accuracy does not degrade - and it is.  There can be a lag between new data and knowing the actual outcome which makes using using evaluations to monitor models a potentially reactive, or late signal.  To overcome this we can also monitor the model.  More on this later on below."
      ]
    },
    {
      "cell_type": "markdown",
      "metadata": {
        "id": "BC2rgYkkxLVM"
      },
      "source": [
        "### Predictions With `ML.PREDICT`\n",
        "\n",
        "Use [`ML.PREDICT`](https://cloud.google.com/bigquery/docs/reference/standard-sql/bigqueryml-syntax-predict) to serve predictions with the model directly in BigQuery."
      ]
    },
    {
      "cell_type": "code",
      "execution_count": 22,
      "metadata": {
        "tags": [],
        "id": "-d2sgVkZxLVM"
      },
      "outputs": [
        {
          "data": {
            "application/vnd.jupyter.widget-view+json": {
              "model_id": "9a04c20d2138402382bd0541239e9d25",
              "version_major": 2,
              "version_minor": 0
            },
            "text/plain": [
              "Query is running:   0%|          |"
            ]
          },
          "metadata": {},
          "output_type": "display_data"
        },
        {
          "data": {
            "application/vnd.jupyter.widget-view+json": {
              "model_id": "599234341bbd4e2a85bb5012d006b779",
              "version_major": 2,
              "version_minor": 0
            },
            "text/plain": [
              "Downloading:   0%|          |"
            ]
          },
          "metadata": {},
          "output_type": "display_data"
        },
        {
          "data": {
            "text/html": [
              "\u003cdiv\u003e\n",
              "\u003cstyle scoped\u003e\n",
              "    .dataframe tbody tr th:only-of-type {\n",
              "        vertical-align: middle;\n",
              "    }\n",
              "\n",
              "    .dataframe tbody tr th {\n",
              "        vertical-align: top;\n",
              "    }\n",
              "\n",
              "    .dataframe thead th {\n",
              "        text-align: right;\n",
              "    }\n",
              "\u003c/style\u003e\n",
              "\u003ctable border=\"1\" class=\"dataframe\"\u003e\n",
              "  \u003cthead\u003e\n",
              "    \u003ctr style=\"text-align: right;\"\u003e\n",
              "      \u003cth\u003e\u003c/th\u003e\n",
              "      \u003cth\u003epredicted_species\u003c/th\u003e\n",
              "      \u003cth\u003epredicted_species_probs\u003c/th\u003e\n",
              "      \u003cth\u003especies\u003c/th\u003e\n",
              "      \u003cth\u003eisland\u003c/th\u003e\n",
              "      \u003cth\u003eculmen_length_mm\u003c/th\u003e\n",
              "      \u003cth\u003eculmen_depth_mm\u003c/th\u003e\n",
              "      \u003cth\u003eflipper_length_mm\u003c/th\u003e\n",
              "      \u003cth\u003ebody_mass_g\u003c/th\u003e\n",
              "      \u003cth\u003esex\u003c/th\u003e\n",
              "      \u003cth\u003esplits\u003c/th\u003e\n",
              "    \u003c/tr\u003e\n",
              "  \u003c/thead\u003e\n",
              "  \u003ctbody\u003e\n",
              "    \u003ctr\u003e\n",
              "      \u003cth\u003e0\u003c/th\u003e\n",
              "      \u003ctd\u003eAdelie Penguin (Pygoscelis adeliae)\u003c/td\u003e\n",
              "      \u003ctd\u003e[{'label': 'Gentoo penguin (Pygoscelis papua)'...\u003c/td\u003e\n",
              "      \u003ctd\u003eGentoo penguin (Pygoscelis papua)\u003c/td\u003e\n",
              "      \u003ctd\u003eBiscoe\u003c/td\u003e\n",
              "      \u003ctd\u003eNaN\u003c/td\u003e\n",
              "      \u003ctd\u003eNaN\u003c/td\u003e\n",
              "      \u003ctd\u003eNaN\u003c/td\u003e\n",
              "      \u003ctd\u003eNaN\u003c/td\u003e\n",
              "      \u003ctd\u003eNone\u003c/td\u003e\n",
              "      \u003ctd\u003eTRAIN\u003c/td\u003e\n",
              "    \u003c/tr\u003e\n",
              "    \u003ctr\u003e\n",
              "      \u003cth\u003e1\u003c/th\u003e\n",
              "      \u003ctd\u003eGentoo penguin (Pygoscelis papua)\u003c/td\u003e\n",
              "      \u003ctd\u003e[{'label': 'Gentoo penguin (Pygoscelis papua)'...\u003c/td\u003e\n",
              "      \u003ctd\u003eGentoo penguin (Pygoscelis papua)\u003c/td\u003e\n",
              "      \u003ctd\u003eBiscoe\u003c/td\u003e\n",
              "      \u003ctd\u003e46.5\u003c/td\u003e\n",
              "      \u003ctd\u003e13.5\u003c/td\u003e\n",
              "      \u003ctd\u003e210.0\u003c/td\u003e\n",
              "      \u003ctd\u003e4550.0\u003c/td\u003e\n",
              "      \u003ctd\u003eFEMALE\u003c/td\u003e\n",
              "      \u003ctd\u003eTRAIN\u003c/td\u003e\n",
              "    \u003c/tr\u003e\n",
              "    \u003ctr\u003e\n",
              "      \u003cth\u003e2\u003c/th\u003e\n",
              "      \u003ctd\u003eGentoo penguin (Pygoscelis papua)\u003c/td\u003e\n",
              "      \u003ctd\u003e[{'label': 'Gentoo penguin (Pygoscelis papua)'...\u003c/td\u003e\n",
              "      \u003ctd\u003eGentoo penguin (Pygoscelis papua)\u003c/td\u003e\n",
              "      \u003ctd\u003eBiscoe\u003c/td\u003e\n",
              "      \u003ctd\u003e42.0\u003c/td\u003e\n",
              "      \u003ctd\u003e13.5\u003c/td\u003e\n",
              "      \u003ctd\u003e210.0\u003c/td\u003e\n",
              "      \u003ctd\u003e4150.0\u003c/td\u003e\n",
              "      \u003ctd\u003eFEMALE\u003c/td\u003e\n",
              "      \u003ctd\u003eTRAIN\u003c/td\u003e\n",
              "    \u003c/tr\u003e\n",
              "    \u003ctr\u003e\n",
              "      \u003cth\u003e3\u003c/th\u003e\n",
              "      \u003ctd\u003eGentoo penguin (Pygoscelis papua)\u003c/td\u003e\n",
              "      \u003ctd\u003e[{'label': 'Gentoo penguin (Pygoscelis papua)'...\u003c/td\u003e\n",
              "      \u003ctd\u003eGentoo penguin (Pygoscelis papua)\u003c/td\u003e\n",
              "      \u003ctd\u003eBiscoe\u003c/td\u003e\n",
              "      \u003ctd\u003e47.5\u003c/td\u003e\n",
              "      \u003ctd\u003e14.0\u003c/td\u003e\n",
              "      \u003ctd\u003e212.0\u003c/td\u003e\n",
              "      \u003ctd\u003e4875.0\u003c/td\u003e\n",
              "      \u003ctd\u003eFEMALE\u003c/td\u003e\n",
              "      \u003ctd\u003eTRAIN\u003c/td\u003e\n",
              "    \u003c/tr\u003e\n",
              "    \u003ctr\u003e\n",
              "      \u003cth\u003e4\u003c/th\u003e\n",
              "      \u003ctd\u003eGentoo penguin (Pygoscelis papua)\u003c/td\u003e\n",
              "      \u003ctd\u003e[{'label': 'Gentoo penguin (Pygoscelis papua)'...\u003c/td\u003e\n",
              "      \u003ctd\u003eGentoo penguin (Pygoscelis papua)\u003c/td\u003e\n",
              "      \u003ctd\u003eBiscoe\u003c/td\u003e\n",
              "      \u003ctd\u003e43.3\u003c/td\u003e\n",
              "      \u003ctd\u003e14.0\u003c/td\u003e\n",
              "      \u003ctd\u003e208.0\u003c/td\u003e\n",
              "      \u003ctd\u003e4575.0\u003c/td\u003e\n",
              "      \u003ctd\u003eFEMALE\u003c/td\u003e\n",
              "      \u003ctd\u003eTRAIN\u003c/td\u003e\n",
              "    \u003c/tr\u003e\n",
              "  \u003c/tbody\u003e\n",
              "\u003c/table\u003e\n",
              "\u003c/div\u003e"
            ],
            "text/plain": [
              "                     predicted_species  \\\n",
              "0  Adelie Penguin (Pygoscelis adeliae)   \n",
              "1    Gentoo penguin (Pygoscelis papua)   \n",
              "2    Gentoo penguin (Pygoscelis papua)   \n",
              "3    Gentoo penguin (Pygoscelis papua)   \n",
              "4    Gentoo penguin (Pygoscelis papua)   \n",
              "\n",
              "                             predicted_species_probs  \\\n",
              "0  [{'label': 'Gentoo penguin (Pygoscelis papua)'...   \n",
              "1  [{'label': 'Gentoo penguin (Pygoscelis papua)'...   \n",
              "2  [{'label': 'Gentoo penguin (Pygoscelis papua)'...   \n",
              "3  [{'label': 'Gentoo penguin (Pygoscelis papua)'...   \n",
              "4  [{'label': 'Gentoo penguin (Pygoscelis papua)'...   \n",
              "\n",
              "                             species  island  culmen_length_mm  \\\n",
              "0  Gentoo penguin (Pygoscelis papua)  Biscoe               NaN   \n",
              "1  Gentoo penguin (Pygoscelis papua)  Biscoe              46.5   \n",
              "2  Gentoo penguin (Pygoscelis papua)  Biscoe              42.0   \n",
              "3  Gentoo penguin (Pygoscelis papua)  Biscoe              47.5   \n",
              "4  Gentoo penguin (Pygoscelis papua)  Biscoe              43.3   \n",
              "\n",
              "   culmen_depth_mm  flipper_length_mm  body_mass_g     sex splits  \n",
              "0              NaN                NaN          NaN    None  TRAIN  \n",
              "1             13.5              210.0       4550.0  FEMALE  TRAIN  \n",
              "2             13.5              210.0       4150.0  FEMALE  TRAIN  \n",
              "3             14.0              212.0       4875.0  FEMALE  TRAIN  \n",
              "4             14.0              208.0       4575.0  FEMALE  TRAIN  "
            ]
          },
          "execution_count": 22,
          "metadata": {},
          "output_type": "execute_result"
        }
      ],
      "source": [
        "%%bigquery\n",
        "SELECT *\n",
        "FROM ML.PREDICT(\n",
        "    MODEL `statmike-mlops-349915.bqml_model_monitoring.classify_species_rf`,\n",
        "    (\n",
        "        SELECT *\n",
        "        FROM `statmike-mlops-349915.bqml_model_monitoring.training_split`\n",
        "        LIMIT 5\n",
        "    )\n",
        ")"
      ]
    },
    {
      "cell_type": "markdown",
      "metadata": {
        "tags": [],
        "id": "FAezHP47xLVM"
      },
      "source": [
        "---\n",
        "## Serving Data\n",
        "\n",
        "The data source for training and evaluation represents what is known about a system at a point-in-time.  In real world systems measurements can change for many reasons, for example:\n",
        "- training/serving skew due to measurement and data systems:\n",
        "    - the tool used for measurement may change resulting is slight shifts and variations\n",
        "    - the system reporting results might be updated and introduce errors like rearranging the order or parameters and format of the results\n",
        "    - the data processing systems might have changes that alter the calculations of measurements\n",
        "- the system, environment, or subjects being measured may:\n",
        "    - change behaviors\n",
        "    - short-term even forces change\n",
        "    - have environmental changes that impact them\n",
        "    - have seasonal changes that were not represented in the training data\n",
        "    - change in general due to upstream causes"
      ]
    },
    {
      "cell_type": "markdown",
      "metadata": {
        "id": "ULeZZi6LxLVM"
      },
      "source": [
        "### Introduce Changes Over Time\n",
        "\n",
        "To illustrate the impact of change over time, the following code creates a new set of data from the test split.  It creates a series of changes to measurements for each of the past 30 days.  In each case, the values of the parameters `flipper_length_mm` and `body_mass_g` are allowed to slightly increase which can accumulate over the timespan. This might mimic a potential growth season for the penguins that might not have been represented in the training data.\n",
        "\n",
        "This table of serving data could be sourced form where your features are coming from.  In the case of an online model, like [Vertex AI Prediction Endpoints](https://cloud.google.com/vertex-ai/docs/predictions/overview), then [prediction request could be logged to BigQuery](https://cloud.google.com/vertex-ai/docs/predictions/online-prediction-logging#enabling-and-disabling) for use in the model monitoring tasks below.  This online serving pattern is covered later in this tutorial."
      ]
    },
    {
      "cell_type": "code",
      "execution_count": 23,
      "metadata": {
        "tags": [],
        "id": "UkiHOHGtxLVM"
      },
      "outputs": [
        {
          "data": {
            "application/vnd.jupyter.widget-view+json": {
              "model_id": "2dff9057d2fa44fc896acf5b031b1a38",
              "version_major": 2,
              "version_minor": 0
            },
            "text/plain": [
              "Query is running:   0%|          |"
            ]
          },
          "metadata": {},
          "output_type": "display_data"
        },
        {
          "data": {
            "text/html": [
              "\u003cdiv\u003e\n",
              "\u003cstyle scoped\u003e\n",
              "    .dataframe tbody tr th:only-of-type {\n",
              "        vertical-align: middle;\n",
              "    }\n",
              "\n",
              "    .dataframe tbody tr th {\n",
              "        vertical-align: top;\n",
              "    }\n",
              "\n",
              "    .dataframe thead th {\n",
              "        text-align: right;\n",
              "    }\n",
              "\u003c/style\u003e\n",
              "\u003ctable border=\"1\" class=\"dataframe\"\u003e\n",
              "  \u003cthead\u003e\n",
              "    \u003ctr style=\"text-align: right;\"\u003e\n",
              "      \u003cth\u003e\u003c/th\u003e\n",
              "    \u003c/tr\u003e\n",
              "  \u003c/thead\u003e\n",
              "  \u003ctbody\u003e\n",
              "  \u003c/tbody\u003e\n",
              "\u003c/table\u003e\n",
              "\u003c/div\u003e"
            ],
            "text/plain": [
              "Empty DataFrame\n",
              "Columns: []\n",
              "Index: []"
            ]
          },
          "execution_count": 23,
          "metadata": {},
          "output_type": "execute_result"
        }
      ],
      "source": [
        "%%bigquery\n",
        "DECLARE counter INT64 DEFAULT 30;\n",
        "\n",
        "# actual data as starting point - add entity_id, and feature_timestamp:\n",
        "CREATE OR REPLACE TABLE `statmike-mlops-349915.bqml_model_monitoring.serving` AS\n",
        "    SELECT * EXCEPT(flipper_length_mm, body_mass_g),\n",
        "    TIMESTAMP_SUB(TIMESTAMP(CURRENT_DATE()), INTERVAL counter DAY) AS instance_timestamp,\n",
        "    flipper_length_mm as flipper_length_mm,\n",
        "    body_mass_g as body_mass_g\n",
        "    FROM `statmike-mlops-349915.bqml_model_monitoring.training`\n",
        "    WHERE RAND() \u003c= 0.20;\n",
        "\n",
        "LOOP\n",
        "    SET counter = counter - 1;\n",
        "    IF counter \u003c 0 THEN LEAVE;\n",
        "    END IF;\n",
        "    INSERT `statmike-mlops-349915.bqml_model_monitoring.serving`\n",
        "        SELECT * EXCEPT(instance_timestamp, flipper_length_mm, body_mass_g),\n",
        "            TIMESTAMP_ADD(instance_timestamp, INTERVAL 1 DAY) AS instance_timestamp,\n",
        "            CASE\n",
        "                WHEN RAND() \u003e= 0.75 THEN flipper_length_mm\n",
        "                ELSE flipper_length_mm + 6*(RAND()-0.1)\n",
        "            END AS flipper_length_mm,\n",
        "            CASE\n",
        "                WHEN RAND() \u003e= 0.75 THEN body_mass_g\n",
        "                ELSE body_mass_g + 120*(RAND()-0.1)\n",
        "            END AS body_mass_g,\n",
        "        FROM `statmike-mlops-349915.bqml_model_monitoring.serving`\n",
        "        WHERE instance_timestamp \u003e= (SELECT MAX(instance_timestamp) FROM `statmike-mlops-349915.bqml_model_monitoring.serving`);\n",
        "END LOOP;"
      ]
    },
    {
      "cell_type": "code",
      "execution_count": 24,
      "metadata": {
        "tags": [],
        "id": "eEdammxNxLVM"
      },
      "outputs": [
        {
          "data": {
            "application/vnd.jupyter.widget-view+json": {
              "model_id": "c0868110a4b6408e98179f2cc3b659bb",
              "version_major": 2,
              "version_minor": 0
            },
            "text/plain": [
              "Query is running:   0%|          |"
            ]
          },
          "metadata": {},
          "output_type": "display_data"
        },
        {
          "data": {
            "application/vnd.jupyter.widget-view+json": {
              "model_id": "22b71a7f94c04e529dbbb6ca701026de",
              "version_major": 2,
              "version_minor": 0
            },
            "text/plain": [
              "Downloading:   0%|          |"
            ]
          },
          "metadata": {},
          "output_type": "display_data"
        }
      ],
      "source": [
        "%%bigquery serve\n",
        "SELECT\n",
        "    DATE(instance_timestamp) AS DATE,\n",
        "    AVG(flipper_length_mm) AS flipper_length_mm,\n",
        "    AVG(body_mass_g) AS body_mass_g\n",
        "FROM `statmike-mlops-349915.bqml_model_monitoring.serving`\n",
        "GROUP BY DATE\n",
        "ORDER BY DATE"
      ]
    },
    {
      "cell_type": "code",
      "execution_count": 25,
      "metadata": {
        "tags": [],
        "id": "-232Ad9AxLVM"
      },
      "outputs": [],
      "source": [
        "serve.set_index('DATE', inplace = True)"
      ]
    },
    {
      "cell_type": "code",
      "execution_count": 26,
      "metadata": {
        "tags": [],
        "id": "Px-AmCowxLVM"
      },
      "outputs": [],
      "source": [
        "#serve"
      ]
    },
    {
      "cell_type": "code",
      "execution_count": 27,
      "metadata": {
        "tags": [],
        "id": "D2rgx4g7xLVM"
      },
      "outputs": [
        {
          "data": {
            "text/plain": [
              "\u003cAxes: xlabel='DATE'\u003e"
            ]
          },
          "execution_count": 27,
          "metadata": {},
          "output_type": "execute_result"
        },
        {
          "data": {
            "image/png": "[encoded data removed]",
            "text/plain": [
              "\u003cFigure size 800x400 with 1 Axes\u003e"
            ]
          },
          "metadata": {},
          "output_type": "display_data"
        }
      ],
      "source": [
        "serve['flipper_length_mm'].plot(legend = True, figsize = (8, 4))"
      ]
    },
    {
      "cell_type": "code",
      "execution_count": 28,
      "metadata": {
        "tags": [],
        "id": "o4JOtUWsxLVM"
      },
      "outputs": [
        {
          "data": {
            "text/plain": [
              "\u003cAxes: xlabel='DATE'\u003e"
            ]
          },
          "execution_count": 28,
          "metadata": {},
          "output_type": "execute_result"
        },
        {
          "data": {
            "image/png": "[encoded data removed]",
            "text/plain": [
              "\u003cFigure size 800x400 with 1 Axes\u003e"
            ]
          },
          "metadata": {},
          "output_type": "display_data"
        }
      ],
      "source": [
        "serve['body_mass_g'].plot(legend = True, figsize = (8, 4))"
      ]
    },
    {
      "cell_type": "markdown",
      "metadata": {
        "tags": [],
        "id": "kQR3nLMQxLVM"
      },
      "source": [
        "---\n",
        "## Monitoring With Evaluations\n",
        "\n",
        "It might seem like ongoing model evaluations are a great solution to model monitoring.  If the actual known values are available immediately then this could be possible to use for monitoring.  However, detecting a change in evaluation metrics means the model has realized a degradation.  It is a lagging signal.  To be more proactive we should monitor the inputs to the model, the features.  More on that in the next section.\n",
        "\n",
        "First, look at the evaluation metrics for the most recent days data which has the cumulative change of the past 30 days introduced above.  In this case, the actual known values is known. This may not be possible in many real-world examples where the actual known values are:\n",
        "- delayed by minutes, hours, days, or even longer\n",
        "- not always known for all instances\n",
        "- potentially in a different status that can change over a period of time before being confirmed as final\n",
        "\n",
        "In reviewing the evaluation for the most recent instances here, the `precision` has dropped and the `log_loss` has increased drastically.  The confusion matrix shows Chinstrap penguins's are now being misclassified much more often than when the model was trained.  \n",
        "\n",
        "The question becomes \"How soon could this have been noticed?\"."
      ]
    },
    {
      "cell_type": "code",
      "execution_count": 29,
      "metadata": {
        "tags": [],
        "id": "N6Dmv3SDxLVM"
      },
      "outputs": [
        {
          "data": {
            "application/vnd.jupyter.widget-view+json": {
              "model_id": "87d1e674038e406a86a7531c9f879a5a",
              "version_major": 2,
              "version_minor": 0
            },
            "text/plain": [
              "Query is running:   0%|          |"
            ]
          },
          "metadata": {},
          "output_type": "display_data"
        },
        {
          "data": {
            "application/vnd.jupyter.widget-view+json": {
              "model_id": "032eb1e3d765418983a42f6e237e8c59",
              "version_major": 2,
              "version_minor": 0
            },
            "text/plain": [
              "Downloading:   0%|          |"
            ]
          },
          "metadata": {},
          "output_type": "display_data"
        },
        {
          "data": {
            "text/html": [
              "\u003cdiv\u003e\n",
              "\u003cstyle scoped\u003e\n",
              "    .dataframe tbody tr th:only-of-type {\n",
              "        vertical-align: middle;\n",
              "    }\n",
              "\n",
              "    .dataframe tbody tr th {\n",
              "        vertical-align: top;\n",
              "    }\n",
              "\n",
              "    .dataframe thead th {\n",
              "        text-align: right;\n",
              "    }\n",
              "\u003c/style\u003e\n",
              "\u003ctable border=\"1\" class=\"dataframe\"\u003e\n",
              "  \u003cthead\u003e\n",
              "    \u003ctr style=\"text-align: right;\"\u003e\n",
              "      \u003cth\u003e\u003c/th\u003e\n",
              "      \u003cth\u003eprecision\u003c/th\u003e\n",
              "      \u003cth\u003erecall\u003c/th\u003e\n",
              "      \u003cth\u003eaccuracy\u003c/th\u003e\n",
              "      \u003cth\u003ef1_score\u003c/th\u003e\n",
              "      \u003cth\u003elog_loss\u003c/th\u003e\n",
              "      \u003cth\u003eroc_auc\u003c/th\u003e\n",
              "    \u003c/tr\u003e\n",
              "  \u003c/thead\u003e\n",
              "  \u003ctbody\u003e\n",
              "    \u003ctr\u003e\n",
              "      \u003cth\u003e0\u003c/th\u003e\n",
              "      \u003ctd\u003e0.899338\u003c/td\u003e\n",
              "      \u003ctd\u003e0.8262\u003c/td\u003e\n",
              "      \u003ctd\u003e0.869565\u003c/td\u003e\n",
              "      \u003ctd\u003e0.845232\u003c/td\u003e\n",
              "      \u003ctd\u003e0.624126\u003c/td\u003e\n",
              "      \u003ctd\u003e0.983902\u003c/td\u003e\n",
              "    \u003c/tr\u003e\n",
              "  \u003c/tbody\u003e\n",
              "\u003c/table\u003e\n",
              "\u003c/div\u003e"
            ],
            "text/plain": [
              "   precision  recall  accuracy  f1_score  log_loss   roc_auc\n",
              "0   0.899338  0.8262  0.869565  0.845232  0.624126  0.983902"
            ]
          },
          "execution_count": 29,
          "metadata": {},
          "output_type": "execute_result"
        }
      ],
      "source": [
        "%%bigquery\n",
        "SELECT *\n",
        "FROM ML.EVALUATE (\n",
        "    MODEL `statmike-mlops-349915.bqml_model_monitoring.classify_species_rf`,\n",
        "    (\n",
        "        SELECT *\n",
        "        FROM `statmike-mlops-349915.bqml_model_monitoring.serving`\n",
        "        WHERE DATE(instance_timestamp) \u003e= CURRENT_DATE()\n",
        "    )\n",
        ")"
      ]
    },
    {
      "cell_type": "code",
      "execution_count": 30,
      "metadata": {
        "tags": [],
        "id": "napnxCvkxLVM"
      },
      "outputs": [
        {
          "data": {
            "application/vnd.jupyter.widget-view+json": {
              "model_id": "1954b8a0397640faaf9daf644f333327",
              "version_major": 2,
              "version_minor": 0
            },
            "text/plain": [
              "Query is running:   0%|          |"
            ]
          },
          "metadata": {},
          "output_type": "display_data"
        },
        {
          "data": {
            "application/vnd.jupyter.widget-view+json": {
              "model_id": "ed6b8477a83a4f21a2d099bbb64b138c",
              "version_major": 2,
              "version_minor": 0
            },
            "text/plain": [
              "Downloading:   0%|          |"
            ]
          },
          "metadata": {},
          "output_type": "display_data"
        },
        {
          "data": {
            "text/html": [
              "\u003cdiv\u003e\n",
              "\u003cstyle scoped\u003e\n",
              "    .dataframe tbody tr th:only-of-type {\n",
              "        vertical-align: middle;\n",
              "    }\n",
              "\n",
              "    .dataframe tbody tr th {\n",
              "        vertical-align: top;\n",
              "    }\n",
              "\n",
              "    .dataframe thead th {\n",
              "        text-align: right;\n",
              "    }\n",
              "\u003c/style\u003e\n",
              "\u003ctable border=\"1\" class=\"dataframe\"\u003e\n",
              "  \u003cthead\u003e\n",
              "    \u003ctr style=\"text-align: right;\"\u003e\n",
              "      \u003cth\u003e\u003c/th\u003e\n",
              "      \u003cth\u003eexpected_label\u003c/th\u003e\n",
              "      \u003cth\u003eAdelie_Penguin__Pygoscelis_adeliae_\u003c/th\u003e\n",
              "      \u003cth\u003eChinstrap_penguin__Pygoscelis_antarctica_\u003c/th\u003e\n",
              "      \u003cth\u003eGentoo_penguin__Pygoscelis_papua_\u003c/th\u003e\n",
              "    \u003c/tr\u003e\n",
              "  \u003c/thead\u003e\n",
              "  \u003ctbody\u003e\n",
              "    \u003ctr\u003e\n",
              "      \u003cth\u003e0\u003c/th\u003e\n",
              "      \u003ctd\u003eAdelie Penguin (Pygoscelis adeliae)\u003c/td\u003e\n",
              "      \u003ctd\u003e31\u003c/td\u003e\n",
              "      \u003ctd\u003e0\u003c/td\u003e\n",
              "      \u003ctd\u003e4\u003c/td\u003e\n",
              "    \u003c/tr\u003e\n",
              "    \u003ctr\u003e\n",
              "      \u003cth\u003e1\u003c/th\u003e\n",
              "      \u003ctd\u003eChinstrap penguin (Pygoscelis antarctica)\u003c/td\u003e\n",
              "      \u003ctd\u003e1\u003c/td\u003e\n",
              "      \u003ctd\u003e7\u003c/td\u003e\n",
              "      \u003ctd\u003e3\u003c/td\u003e\n",
              "    \u003c/tr\u003e\n",
              "    \u003ctr\u003e\n",
              "      \u003cth\u003e2\u003c/th\u003e\n",
              "      \u003ctd\u003eGentoo penguin (Pygoscelis papua)\u003c/td\u003e\n",
              "      \u003ctd\u003e1\u003c/td\u003e\n",
              "      \u003ctd\u003e0\u003c/td\u003e\n",
              "      \u003ctd\u003e22\u003c/td\u003e\n",
              "    \u003c/tr\u003e\n",
              "  \u003c/tbody\u003e\n",
              "\u003c/table\u003e\n",
              "\u003c/div\u003e"
            ],
            "text/plain": [
              "                              expected_label  \\\n",
              "0        Adelie Penguin (Pygoscelis adeliae)   \n",
              "1  Chinstrap penguin (Pygoscelis antarctica)   \n",
              "2          Gentoo penguin (Pygoscelis papua)   \n",
              "\n",
              "   Adelie_Penguin__Pygoscelis_adeliae_  \\\n",
              "0                                   31   \n",
              "1                                    1   \n",
              "2                                    1   \n",
              "\n",
              "   Chinstrap_penguin__Pygoscelis_antarctica_  \\\n",
              "0                                          0   \n",
              "1                                          7   \n",
              "2                                          0   \n",
              "\n",
              "   Gentoo_penguin__Pygoscelis_papua_  \n",
              "0                                  4  \n",
              "1                                  3  \n",
              "2                                 22  "
            ]
          },
          "execution_count": 30,
          "metadata": {},
          "output_type": "execute_result"
        }
      ],
      "source": [
        "%%bigquery\n",
        "SELECT *\n",
        "FROM ML.CONFUSION_MATRIX (\n",
        "    MODEL `statmike-mlops-349915.bqml_model_monitoring.classify_species_rf`,\n",
        "    (\n",
        "        SELECT *\n",
        "        FROM `statmike-mlops-349915.bqml_model_monitoring.serving`\n",
        "        WHERE DATE(instance_timestamp) \u003e= CURRENT_DATE()\n",
        "    )\n",
        ")"
      ]
    },
    {
      "cell_type": "markdown",
      "metadata": {
        "id": "OJfz6QzgxLVM"
      },
      "source": [
        "### Evaluations: Over Time\n",
        "\n",
        "In this case, we know the actual identification of the `species` and are measuring the same penguins daily.  Reviewing the evaluations daily could give a good sense of how the model is performing on a daily basis.\n",
        "\n",
        "The result of the daily evaluations below shows that the log_loss starts to increase immediately and it takes more than a week for a noticable impact on precision/recall/accuracy/f1_score. \n",
        "\n",
        "What if the actual values where only known after a lag of days or weeks?  How quickly would evaluations be able to indicate the model's accuracy is possibly questionable?  The answer is a different approach - Model Monitoring.  This is covered in the section that follows."
      ]
    },
    {
      "cell_type": "code",
      "execution_count": 31,
      "metadata": {
        "tags": [],
        "id": "ZNPTZfBrxLVM"
      },
      "outputs": [
        {
          "data": {
            "application/vnd.jupyter.widget-view+json": {
              "model_id": "c1d97e56f49642909e03af6c5dc0c44e",
              "version_major": 2,
              "version_minor": 0
            },
            "text/plain": [
              "Query is running:   0%|          |"
            ]
          },
          "metadata": {},
          "output_type": "display_data"
        },
        {
          "data": {
            "application/vnd.jupyter.widget-view+json": {
              "model_id": "a965ab76cad14700830c234d1da356c1",
              "version_major": 2,
              "version_minor": 0
            },
            "text/plain": [
              "Downloading:   0%|          |"
            ]
          },
          "metadata": {},
          "output_type": "display_data"
        }
      ],
      "source": [
        "%%bigquery evaluations\n",
        "DECLARE counter INT64 DEFAULT 30;\n",
        "DECLARE result STRUCT\u003cprecision FLOAT64, recall FLOAT64, accuracy FLOAT64, f1_score FLOAT64, log_loss FLOAT64, roc_auc FLOAT64, eval_date DATE\u003e;\n",
        "DECLARE results ARRAY\u003cSTRUCT\u003cprecision FLOAT64, recall FLOAT64, accuracy FLOAT64, f1_score FLOAT64, log_loss FLOAT64, roc_auc FLOAT64, eval_date DATE\u003e\u003e DEFAULT [];\n",
        "LOOP\n",
        "    IF counter \u003c 0 THEN LEAVE;\n",
        "    END IF;\n",
        "    SET result = (\n",
        "            SELECT AS STRUCT precision, recall, accuracy, f1_score, log_loss, roc_auc, DATE_SUB(CURRENT_DATE(), INTERVAL counter DAY) AS eval_date\n",
        "            FROM ML.EVALUATE (\n",
        "                MODEL `statmike-mlops-349915.bqml_model_monitoring.classify_species_rf`,\n",
        "                (\n",
        "                    SELECT *\n",
        "                    FROM `statmike-mlops-349915.bqml_model_monitoring.serving`\n",
        "                    WHERE DATE(instance_timestamp) = DATE_SUB(CURRENT_DATE(), INTERVAL counter DAY)\n",
        "                )\n",
        "            )\n",
        "    );\n",
        "    SET results = ARRAY_CONCAT(results,[result]);\n",
        "    SET counter = counter - 1;\n",
        "END LOOP;\n",
        "SELECT * FROM UNNEST(results);"
      ]
    },
    {
      "cell_type": "code",
      "execution_count": 32,
      "metadata": {
        "tags": [],
        "id": "RM8XMdp_xLVM"
      },
      "outputs": [
        {
          "data": {
            "text/html": [
              "\u003cdiv\u003e\n",
              "\u003cstyle scoped\u003e\n",
              "    .dataframe tbody tr th:only-of-type {\n",
              "        vertical-align: middle;\n",
              "    }\n",
              "\n",
              "    .dataframe tbody tr th {\n",
              "        vertical-align: top;\n",
              "    }\n",
              "\n",
              "    .dataframe thead th {\n",
              "        text-align: right;\n",
              "    }\n",
              "\u003c/style\u003e\n",
              "\u003ctable border=\"1\" class=\"dataframe\"\u003e\n",
              "  \u003cthead\u003e\n",
              "    \u003ctr style=\"text-align: right;\"\u003e\n",
              "      \u003cth\u003e\u003c/th\u003e\n",
              "      \u003cth\u003eprecision\u003c/th\u003e\n",
              "      \u003cth\u003erecall\u003c/th\u003e\n",
              "      \u003cth\u003eaccuracy\u003c/th\u003e\n",
              "      \u003cth\u003ef1_score\u003c/th\u003e\n",
              "      \u003cth\u003elog_loss\u003c/th\u003e\n",
              "      \u003cth\u003eroc_auc\u003c/th\u003e\n",
              "      \u003cth\u003eeval_date\u003c/th\u003e\n",
              "    \u003c/tr\u003e\n",
              "  \u003c/thead\u003e\n",
              "  \u003ctbody\u003e\n",
              "    \u003ctr\u003e\n",
              "      \u003cth\u003e0\u003c/th\u003e\n",
              "      \u003ctd\u003e0.981982\u003c/td\u003e\n",
              "      \u003ctd\u003e0.955204\u003c/td\u003e\n",
              "      \u003ctd\u003e0.971014\u003c/td\u003e\n",
              "      \u003ctd\u003e0.967460\u003c/td\u003e\n",
              "      \u003ctd\u003e0.342359\u003c/td\u003e\n",
              "      \u003ctd\u003e0.998511\u003c/td\u003e\n",
              "      \u003ctd\u003e2024-03-19\u003c/td\u003e\n",
              "    \u003c/tr\u003e\n",
              "    \u003ctr\u003e\n",
              "      \u003cth\u003e1\u003c/th\u003e\n",
              "      \u003ctd\u003e0.981982\u003c/td\u003e\n",
              "      \u003ctd\u003e0.955204\u003c/td\u003e\n",
              "      \u003ctd\u003e0.971014\u003c/td\u003e\n",
              "      \u003ctd\u003e0.967460\u003c/td\u003e\n",
              "      \u003ctd\u003e0.342535\u003c/td\u003e\n",
              "      \u003ctd\u003e0.998511\u003c/td\u003e\n",
              "      \u003ctd\u003e2024-03-20\u003c/td\u003e\n",
              "    \u003c/tr\u003e\n",
              "    \u003ctr\u003e\n",
              "      \u003cth\u003e2\u003c/th\u003e\n",
              "      \u003ctd\u003e0.981982\u003c/td\u003e\n",
              "      \u003ctd\u003e0.955204\u003c/td\u003e\n",
              "      \u003ctd\u003e0.971014\u003c/td\u003e\n",
              "      \u003ctd\u003e0.967460\u003c/td\u003e\n",
              "      \u003ctd\u003e0.347173\u003c/td\u003e\n",
              "      \u003ctd\u003e0.998715\u003c/td\u003e\n",
              "      \u003ctd\u003e2024-03-21\u003c/td\u003e\n",
              "    \u003c/tr\u003e\n",
              "    \u003ctr\u003e\n",
              "      \u003cth\u003e3\u003c/th\u003e\n",
              "      \u003ctd\u003e0.981982\u003c/td\u003e\n",
              "      \u003ctd\u003e0.955204\u003c/td\u003e\n",
              "      \u003ctd\u003e0.971014\u003c/td\u003e\n",
              "      \u003ctd\u003e0.967460\u003c/td\u003e\n",
              "      \u003ctd\u003e0.352256\u003c/td\u003e\n",
              "      \u003ctd\u003e0.998715\u003c/td\u003e\n",
              "      \u003ctd\u003e2024-03-22\u003c/td\u003e\n",
              "    \u003c/tr\u003e\n",
              "    \u003ctr\u003e\n",
              "      \u003cth\u003e4\u003c/th\u003e\n",
              "      \u003ctd\u003e0.981982\u003c/td\u003e\n",
              "      \u003ctd\u003e0.955204\u003c/td\u003e\n",
              "      \u003ctd\u003e0.971014\u003c/td\u003e\n",
              "      \u003ctd\u003e0.967460\u003c/td\u003e\n",
              "      \u003ctd\u003e0.365219\u003c/td\u003e\n",
              "      \u003ctd\u003e0.998113\u003c/td\u003e\n",
              "      \u003ctd\u003e2024-03-23\u003c/td\u003e\n",
              "    \u003c/tr\u003e\n",
              "    \u003ctr\u003e\n",
              "      \u003cth\u003e5\u003c/th\u003e\n",
              "      \u003ctd\u003e0.981982\u003c/td\u003e\n",
              "      \u003ctd\u003e0.955204\u003c/td\u003e\n",
              "      \u003ctd\u003e0.971014\u003c/td\u003e\n",
              "      \u003ctd\u003e0.967460\u003c/td\u003e\n",
              "      \u003ctd\u003e0.379829\u003c/td\u003e\n",
              "      \u003ctd\u003e0.996667\u003c/td\u003e\n",
              "      \u003ctd\u003e2024-03-24\u003c/td\u003e\n",
              "    \u003c/tr\u003e\n",
              "    \u003ctr\u003e\n",
              "      \u003cth\u003e6\u003c/th\u003e\n",
              "      \u003ctd\u003e0.981982\u003c/td\u003e\n",
              "      \u003ctd\u003e0.955204\u003c/td\u003e\n",
              "      \u003ctd\u003e0.971014\u003c/td\u003e\n",
              "      \u003ctd\u003e0.967460\u003c/td\u003e\n",
              "      \u003ctd\u003e0.392832\u003c/td\u003e\n",
              "      \u003ctd\u003e0.995250\u003c/td\u003e\n",
              "      \u003ctd\u003e2024-03-25\u003c/td\u003e\n",
              "    \u003c/tr\u003e\n",
              "    \u003ctr\u003e\n",
              "      \u003cth\u003e7\u003c/th\u003e\n",
              "      \u003ctd\u003e0.966989\u003c/td\u003e\n",
              "      \u003ctd\u003e0.945680\u003c/td\u003e\n",
              "      \u003ctd\u003e0.956522\u003c/td\u003e\n",
              "      \u003ctd\u003e0.955550\u003c/td\u003e\n",
              "      \u003ctd\u003e0.410668\u003c/td\u003e\n",
              "      \u003ctd\u003e0.994368\u003c/td\u003e\n",
              "      \u003ctd\u003e2024-03-26\u003c/td\u003e\n",
              "    \u003c/tr\u003e\n",
              "    \u003ctr\u003e\n",
              "      \u003cth\u003e8\u003c/th\u003e\n",
              "      \u003ctd\u003e0.966989\u003c/td\u003e\n",
              "      \u003ctd\u003e0.945680\u003c/td\u003e\n",
              "      \u003ctd\u003e0.956522\u003c/td\u003e\n",
              "      \u003ctd\u003e0.955550\u003c/td\u003e\n",
              "      \u003ctd\u003e0.434265\u003c/td\u003e\n",
              "      \u003ctd\u003e0.991149\u003c/td\u003e\n",
              "      \u003ctd\u003e2024-03-27\u003c/td\u003e\n",
              "    \u003c/tr\u003e\n",
              "    \u003ctr\u003e\n",
              "      \u003cth\u003e9\u003c/th\u003e\n",
              "      \u003ctd\u003e0.966989\u003c/td\u003e\n",
              "      \u003ctd\u003e0.945680\u003c/td\u003e\n",
              "      \u003ctd\u003e0.956522\u003c/td\u003e\n",
              "      \u003ctd\u003e0.955550\u003c/td\u003e\n",
              "      \u003ctd\u003e0.446073\u003c/td\u003e\n",
              "      \u003ctd\u003e0.989968\u003c/td\u003e\n",
              "      \u003ctd\u003e2024-03-28\u003c/td\u003e\n",
              "    \u003c/tr\u003e\n",
              "    \u003ctr\u003e\n",
              "      \u003cth\u003e10\u003c/th\u003e\n",
              "      \u003ctd\u003e0.940952\u003c/td\u003e\n",
              "      \u003ctd\u003e0.905854\u003c/td\u003e\n",
              "      \u003ctd\u003e0.927536\u003c/td\u003e\n",
              "      \u003ctd\u003e0.919841\u003c/td\u003e\n",
              "      \u003ctd\u003e0.470836\u003c/td\u003e\n",
              "      \u003ctd\u003e0.986984\u003c/td\u003e\n",
              "      \u003ctd\u003e2024-03-29\u003c/td\u003e\n",
              "    \u003c/tr\u003e\n",
              "    \u003ctr\u003e\n",
              "      \u003cth\u003e11\u003c/th\u003e\n",
              "      \u003ctd\u003e0.940952\u003c/td\u003e\n",
              "      \u003ctd\u003e0.905854\u003c/td\u003e\n",
              "      \u003ctd\u003e0.927536\u003c/td\u003e\n",
              "      \u003ctd\u003e0.919841\u003c/td\u003e\n",
              "      \u003ctd\u003e0.476310\u003c/td\u003e\n",
              "      \u003ctd\u003e0.986170\u003c/td\u003e\n",
              "      \u003ctd\u003e2024-03-30\u003c/td\u003e\n",
              "    \u003c/tr\u003e\n",
              "    \u003ctr\u003e\n",
              "      \u003cth\u003e12\u003c/th\u003e\n",
              "      \u003ctd\u003e0.940952\u003c/td\u003e\n",
              "      \u003ctd\u003e0.905854\u003c/td\u003e\n",
              "      \u003ctd\u003e0.927536\u003c/td\u003e\n",
              "      \u003ctd\u003e0.919841\u003c/td\u003e\n",
              "      \u003ctd\u003e0.484181\u003c/td\u003e\n",
              "      \u003ctd\u003e0.992104\u003c/td\u003e\n",
              "      \u003ctd\u003e2024-03-31\u003c/td\u003e\n",
              "    \u003c/tr\u003e\n",
              "    \u003ctr\u003e\n",
              "      \u003cth\u003e13\u003c/th\u003e\n",
              "      \u003ctd\u003e0.940952\u003c/td\u003e\n",
              "      \u003ctd\u003e0.905854\u003c/td\u003e\n",
              "      \u003ctd\u003e0.927536\u003c/td\u003e\n",
              "      \u003ctd\u003e0.919841\u003c/td\u003e\n",
              "      \u003ctd\u003e0.498877\u003c/td\u003e\n",
              "      \u003ctd\u003e0.991782\u003c/td\u003e\n",
              "      \u003ctd\u003e2024-04-01\u003c/td\u003e\n",
              "    \u003c/tr\u003e\n",
              "    \u003ctr\u003e\n",
              "      \u003cth\u003e14\u003c/th\u003e\n",
              "      \u003ctd\u003e0.940952\u003c/td\u003e\n",
              "      \u003ctd\u003e0.905854\u003c/td\u003e\n",
              "      \u003ctd\u003e0.927536\u003c/td\u003e\n",
              "      \u003ctd\u003e0.919841\u003c/td\u003e\n",
              "      \u003ctd\u003e0.504442\u003c/td\u003e\n",
              "      \u003ctd\u003e0.991474\u003c/td\u003e\n",
              "      \u003ctd\u003e2024-04-02\u003c/td\u003e\n",
              "    \u003c/tr\u003e\n",
              "    \u003ctr\u003e\n",
              "      \u003cth\u003e15\u003c/th\u003e\n",
              "      \u003ctd\u003e0.940952\u003c/td\u003e\n",
              "      \u003ctd\u003e0.905854\u003c/td\u003e\n",
              "      \u003ctd\u003e0.927536\u003c/td\u003e\n",
              "      \u003ctd\u003e0.919841\u003c/td\u003e\n",
              "      \u003ctd\u003e0.517814\u003c/td\u003e\n",
              "      \u003ctd\u003e0.990829\u003c/td\u003e\n",
              "      \u003ctd\u003e2024-04-03\u003c/td\u003e\n",
              "    \u003c/tr\u003e\n",
              "    \u003ctr\u003e\n",
              "      \u003cth\u003e16\u003c/th\u003e\n",
              "      \u003ctd\u003e0.940952\u003c/td\u003e\n",
              "      \u003ctd\u003e0.905854\u003c/td\u003e\n",
              "      \u003ctd\u003e0.927536\u003c/td\u003e\n",
              "      \u003ctd\u003e0.919841\u003c/td\u003e\n",
              "      \u003ctd\u003e0.524964\u003c/td\u003e\n",
              "      \u003ctd\u003e0.990199\u003c/td\u003e\n",
              "      \u003ctd\u003e2024-04-04\u003c/td\u003e\n",
              "    \u003c/tr\u003e\n",
              "    \u003ctr\u003e\n",
              "      \u003cth\u003e17\u003c/th\u003e\n",
              "      \u003ctd\u003e0.940952\u003c/td\u003e\n",
              "      \u003ctd\u003e0.905854\u003c/td\u003e\n",
              "      \u003ctd\u003e0.927536\u003c/td\u003e\n",
              "      \u003ctd\u003e0.919841\u003c/td\u003e\n",
              "      \u003ctd\u003e0.536792\u003c/td\u003e\n",
              "      \u003ctd\u003e0.990199\u003c/td\u003e\n",
              "      \u003ctd\u003e2024-04-05\u003c/td\u003e\n",
              "    \u003c/tr\u003e\n",
              "    \u003ctr\u003e\n",
              "      \u003cth\u003e18\u003c/th\u003e\n",
              "      \u003ctd\u003e0.940952\u003c/td\u003e\n",
              "      \u003ctd\u003e0.905854\u003c/td\u003e\n",
              "      \u003ctd\u003e0.927536\u003c/td\u003e\n",
              "      \u003ctd\u003e0.919841\u003c/td\u003e\n",
              "      \u003ctd\u003e0.539436\u003c/td\u003e\n",
              "      \u003ctd\u003e0.989232\u003c/td\u003e\n",
              "      \u003ctd\u003e2024-04-06\u003c/td\u003e\n",
              "    \u003c/tr\u003e\n",
              "    \u003ctr\u003e\n",
              "      \u003cth\u003e19\u003c/th\u003e\n",
              "      \u003ctd\u003e0.940952\u003c/td\u003e\n",
              "      \u003ctd\u003e0.905854\u003c/td\u003e\n",
              "      \u003ctd\u003e0.927536\u003c/td\u003e\n",
              "      \u003ctd\u003e0.919841\u003c/td\u003e\n",
              "      \u003ctd\u003e0.557831\u003c/td\u003e\n",
              "      \u003ctd\u003e0.988924\u003c/td\u003e\n",
              "      \u003ctd\u003e2024-04-07\u003c/td\u003e\n",
              "    \u003c/tr\u003e\n",
              "    \u003ctr\u003e\n",
              "      \u003cth\u003e20\u003c/th\u003e\n",
              "      \u003ctd\u003e0.940952\u003c/td\u003e\n",
              "      \u003ctd\u003e0.905854\u003c/td\u003e\n",
              "      \u003ctd\u003e0.927536\u003c/td\u003e\n",
              "      \u003ctd\u003e0.919841\u003c/td\u003e\n",
              "      \u003ctd\u003e0.567827\u003c/td\u003e\n",
              "      \u003ctd\u003e0.988924\u003c/td\u003e\n",
              "      \u003ctd\u003e2024-04-08\u003c/td\u003e\n",
              "    \u003c/tr\u003e\n",
              "    \u003ctr\u003e\n",
              "      \u003cth\u003e21\u003c/th\u003e\n",
              "      \u003ctd\u003e0.940952\u003c/td\u003e\n",
              "      \u003ctd\u003e0.905854\u003c/td\u003e\n",
              "      \u003ctd\u003e0.927536\u003c/td\u003e\n",
              "      \u003ctd\u003e0.919841\u003c/td\u003e\n",
              "      \u003ctd\u003e0.572287\u003c/td\u003e\n",
              "      \u003ctd\u003e0.988602\u003c/td\u003e\n",
              "      \u003ctd\u003e2024-04-09\u003c/td\u003e\n",
              "    \u003c/tr\u003e\n",
              "    \u003ctr\u003e\n",
              "      \u003cth\u003e22\u003c/th\u003e\n",
              "      \u003ctd\u003e0.918664\u003c/td\u003e\n",
              "      \u003ctd\u003e0.866027\u003c/td\u003e\n",
              "      \u003ctd\u003e0.898551\u003c/td\u003e\n",
              "      \u003ctd\u003e0.883214\u003c/td\u003e\n",
              "      \u003ctd\u003e0.578770\u003c/td\u003e\n",
              "      \u003ctd\u003e0.987730\u003c/td\u003e\n",
              "      \u003ctd\u003e2024-04-10\u003c/td\u003e\n",
              "    \u003c/tr\u003e\n",
              "    \u003ctr\u003e\n",
              "      \u003cth\u003e23\u003c/th\u003e\n",
              "      \u003ctd\u003e0.918664\u003c/td\u003e\n",
              "      \u003ctd\u003e0.866027\u003c/td\u003e\n",
              "      \u003ctd\u003e0.898551\u003c/td\u003e\n",
              "      \u003ctd\u003e0.883214\u003c/td\u003e\n",
              "      \u003ctd\u003e0.581189\u003c/td\u003e\n",
              "      \u003ctd\u003e0.987730\u003c/td\u003e\n",
              "      \u003ctd\u003e2024-04-11\u003c/td\u003e\n",
              "    \u003c/tr\u003e\n",
              "    \u003ctr\u003e\n",
              "      \u003cth\u003e24\u003c/th\u003e\n",
              "      \u003ctd\u003e0.908369\u003c/td\u003e\n",
              "      \u003ctd\u003e0.856503\u003c/td\u003e\n",
              "      \u003ctd\u003e0.884058\u003c/td\u003e\n",
              "      \u003ctd\u003e0.872205\u003c/td\u003e\n",
              "      \u003ctd\u003e0.583999\u003c/td\u003e\n",
              "      \u003ctd\u003e0.987730\u003c/td\u003e\n",
              "      \u003ctd\u003e2024-04-12\u003c/td\u003e\n",
              "    \u003c/tr\u003e\n",
              "    \u003ctr\u003e\n",
              "      \u003cth\u003e25\u003c/th\u003e\n",
              "      \u003ctd\u003e0.908369\u003c/td\u003e\n",
              "      \u003ctd\u003e0.856503\u003c/td\u003e\n",
              "      \u003ctd\u003e0.884058\u003c/td\u003e\n",
              "      \u003ctd\u003e0.872205\u003c/td\u003e\n",
              "      \u003ctd\u003e0.596816\u003c/td\u003e\n",
              "      \u003ctd\u003e0.987407\u003c/td\u003e\n",
              "      \u003ctd\u003e2024-04-13\u003c/td\u003e\n",
              "    \u003c/tr\u003e\n",
              "    \u003ctr\u003e\n",
              "      \u003cth\u003e26\u003c/th\u003e\n",
              "      \u003ctd\u003e0.908369\u003c/td\u003e\n",
              "      \u003ctd\u003e0.856503\u003c/td\u003e\n",
              "      \u003ctd\u003e0.884058\u003c/td\u003e\n",
              "      \u003ctd\u003e0.872205\u003c/td\u003e\n",
              "      \u003ctd\u003e0.601596\u003c/td\u003e\n",
              "      \u003ctd\u003e0.986455\u003c/td\u003e\n",
              "      \u003ctd\u003e2024-04-14\u003c/td\u003e\n",
              "    \u003c/tr\u003e\n",
              "    \u003ctr\u003e\n",
              "      \u003cth\u003e27\u003c/th\u003e\n",
              "      \u003ctd\u003e0.908369\u003c/td\u003e\n",
              "      \u003ctd\u003e0.856503\u003c/td\u003e\n",
              "      \u003ctd\u003e0.884058\u003c/td\u003e\n",
              "      \u003ctd\u003e0.872205\u003c/td\u003e\n",
              "      \u003ctd\u003e0.606968\u003c/td\u003e\n",
              "      \u003ctd\u003e0.986165\u003c/td\u003e\n",
              "      \u003ctd\u003e2024-04-15\u003c/td\u003e\n",
              "    \u003c/tr\u003e\n",
              "    \u003ctr\u003e\n",
              "      \u003cth\u003e28\u003c/th\u003e\n",
              "      \u003ctd\u003e0.899338\u003c/td\u003e\n",
              "      \u003ctd\u003e0.826200\u003c/td\u003e\n",
              "      \u003ctd\u003e0.869565\u003c/td\u003e\n",
              "      \u003ctd\u003e0.845232\u003c/td\u003e\n",
              "      \u003ctd\u003e0.619822\u003c/td\u003e\n",
              "      \u003ctd\u003e0.984532\u003c/td\u003e\n",
              "      \u003ctd\u003e2024-04-16\u003c/td\u003e\n",
              "    \u003c/tr\u003e\n",
              "    \u003ctr\u003e\n",
              "      \u003cth\u003e29\u003c/th\u003e\n",
              "      \u003ctd\u003e0.899338\u003c/td\u003e\n",
              "      \u003ctd\u003e0.826200\u003c/td\u003e\n",
              "      \u003ctd\u003e0.869565\u003c/td\u003e\n",
              "      \u003ctd\u003e0.845232\u003c/td\u003e\n",
              "      \u003ctd\u003e0.620190\u003c/td\u003e\n",
              "      \u003ctd\u003e0.984532\u003c/td\u003e\n",
              "      \u003ctd\u003e2024-04-17\u003c/td\u003e\n",
              "    \u003c/tr\u003e\n",
              "    \u003ctr\u003e\n",
              "      \u003cth\u003e30\u003c/th\u003e\n",
              "      \u003ctd\u003e0.899338\u003c/td\u003e\n",
              "      \u003ctd\u003e0.826200\u003c/td\u003e\n",
              "      \u003ctd\u003e0.869565\u003c/td\u003e\n",
              "      \u003ctd\u003e0.845232\u003c/td\u003e\n",
              "      \u003ctd\u003e0.624126\u003c/td\u003e\n",
              "      \u003ctd\u003e0.983902\u003c/td\u003e\n",
              "      \u003ctd\u003e2024-04-18\u003c/td\u003e\n",
              "    \u003c/tr\u003e\n",
              "  \u003c/tbody\u003e\n",
              "\u003c/table\u003e\n",
              "\u003c/div\u003e"
            ],
            "text/plain": [
              "    precision    recall  accuracy  f1_score  log_loss   roc_auc   eval_date\n",
              "0    0.981982  0.955204  0.971014  0.967460  0.342359  0.998511  2024-03-19\n",
              "1    0.981982  0.955204  0.971014  0.967460  0.342535  0.998511  2024-03-20\n",
              "2    0.981982  0.955204  0.971014  0.967460  0.347173  0.998715  2024-03-21\n",
              "3    0.981982  0.955204  0.971014  0.967460  0.352256  0.998715  2024-03-22\n",
              "4    0.981982  0.955204  0.971014  0.967460  0.365219  0.998113  2024-03-23\n",
              "5    0.981982  0.955204  0.971014  0.967460  0.379829  0.996667  2024-03-24\n",
              "6    0.981982  0.955204  0.971014  0.967460  0.392832  0.995250  2024-03-25\n",
              "7    0.966989  0.945680  0.956522  0.955550  0.410668  0.994368  2024-03-26\n",
              "8    0.966989  0.945680  0.956522  0.955550  0.434265  0.991149  2024-03-27\n",
              "9    0.966989  0.945680  0.956522  0.955550  0.446073  0.989968  2024-03-28\n",
              "10   0.940952  0.905854  0.927536  0.919841  0.470836  0.986984  2024-03-29\n",
              "11   0.940952  0.905854  0.927536  0.919841  0.476310  0.986170  2024-03-30\n",
              "12   0.940952  0.905854  0.927536  0.919841  0.484181  0.992104  2024-03-31\n",
              "13   0.940952  0.905854  0.927536  0.919841  0.498877  0.991782  2024-04-01\n",
              "14   0.940952  0.905854  0.927536  0.919841  0.504442  0.991474  2024-04-02\n",
              "15   0.940952  0.905854  0.927536  0.919841  0.517814  0.990829  2024-04-03\n",
              "16   0.940952  0.905854  0.927536  0.919841  0.524964  0.990199  2024-04-04\n",
              "17   0.940952  0.905854  0.927536  0.919841  0.536792  0.990199  2024-04-05\n",
              "18   0.940952  0.905854  0.927536  0.919841  0.539436  0.989232  2024-04-06\n",
              "19   0.940952  0.905854  0.927536  0.919841  0.557831  0.988924  2024-04-07\n",
              "20   0.940952  0.905854  0.927536  0.919841  0.567827  0.988924  2024-04-08\n",
              "21   0.940952  0.905854  0.927536  0.919841  0.572287  0.988602  2024-04-09\n",
              "22   0.918664  0.866027  0.898551  0.883214  0.578770  0.987730  2024-04-10\n",
              "23   0.918664  0.866027  0.898551  0.883214  0.581189  0.987730  2024-04-11\n",
              "24   0.908369  0.856503  0.884058  0.872205  0.583999  0.987730  2024-04-12\n",
              "25   0.908369  0.856503  0.884058  0.872205  0.596816  0.987407  2024-04-13\n",
              "26   0.908369  0.856503  0.884058  0.872205  0.601596  0.986455  2024-04-14\n",
              "27   0.908369  0.856503  0.884058  0.872205  0.606968  0.986165  2024-04-15\n",
              "28   0.899338  0.826200  0.869565  0.845232  0.619822  0.984532  2024-04-16\n",
              "29   0.899338  0.826200  0.869565  0.845232  0.620190  0.984532  2024-04-17\n",
              "30   0.899338  0.826200  0.869565  0.845232  0.624126  0.983902  2024-04-18"
            ]
          },
          "execution_count": 32,
          "metadata": {},
          "output_type": "execute_result"
        }
      ],
      "source": [
        "evaluations"
      ]
    },
    {
      "cell_type": "code",
      "execution_count": 33,
      "metadata": {
        "tags": [],
        "id": "fPxkpZ5wxLVM"
      },
      "outputs": [],
      "source": [
        "evaluations.set_index('eval_date', inplace = True)"
      ]
    },
    {
      "cell_type": "code",
      "execution_count": 34,
      "metadata": {
        "tags": [],
        "id": "235y6QQBxLVM"
      },
      "outputs": [
        {
          "data": {
            "text/plain": [
              "\u003cAxes: title={'center': 'Evaluation Metrics Over Last 30 days'}, xlabel='eval_date'\u003e"
            ]
          },
          "execution_count": 34,
          "metadata": {},
          "output_type": "execute_result"
        },
        {
          "data": {
            "image/png": "[encoded data removed]",
            "text/plain": [
              "\u003cFigure size 800x300 with 1 Axes\u003e"
            ]
          },
          "metadata": {},
          "output_type": "display_data"
        }
      ],
      "source": [
        "evaluations.plot(y = ['log_loss', 'f1_score', 'precision'], legend = True, title = 'Evaluation Metrics Over Last 30 days', figsize = (8, 3), grid = True)"
      ]
    },
    {
      "cell_type": "markdown",
      "metadata": {
        "tags": [],
        "id": "06zUgdOSxLVM"
      },
      "source": [
        "---\n",
        "## **Model Monitoring**\n",
        "\n",
        "Reviewing model evaluations over time does show a pattern of deterioration in the example above.  But at what point is it actionable?  And what if each days evaluations are relying on actual values that took hours, days, weeks, or even months to be available?  \n",
        "\n",
        "Model monitoring takes a different approach.  It goes back to the source of the model, each input feature.  These features form a distribution at the input to the model (the training data) and this can be used to compare to over time.  By setting thresholds on these comparisons to the original training data, alerts can be used to notify that a models accuracy *could be* in question.  This comparison to the training data is called **skew** detection.\n",
        "\n",
        "Similarly, each days values could be compared to the previous days, or weeks values.  These comparisons are referred to as **drift** detection.  \n",
        "\n",
        "Both of these types of comparisons can be done directly in BigQuery with two functions built for these tasks:\n",
        "- [`ML.VALIDATE_DATA_SKEW`](https://cloud.google.com/bigquery/docs/reference/standard-sql/bigqueryml-syntax-validate-data-skew)\n",
        "- [`ML.VALIDATE_DATA_DRIFT`](https://cloud.google.com/bigquery/docs/reference/standard-sql/bigqueryml-syntax-validate-data-drift)"
      ]
    },
    {
      "cell_type": "markdown",
      "metadata": {
        "id": "1lACvkTJxLVM"
      },
      "source": [
        "### Monitoring Skew (Change from training) With `ML.VALIDATE_DATA_SKEW`\n",
        "\n",
        "Compare today, or any data, to the training data by directly comparing to the the model created in BigQuery."
      ]
    },
    {
      "cell_type": "code",
      "execution_count": 35,
      "metadata": {
        "tags": [],
        "id": "NPuam-xjxLVM"
      },
      "outputs": [
        {
          "data": {
            "application/vnd.jupyter.widget-view+json": {
              "model_id": "7a138f013e844d69a7fbff00b39f419f",
              "version_major": 2,
              "version_minor": 0
            },
            "text/plain": [
              "Query is running:   0%|          |"
            ]
          },
          "metadata": {},
          "output_type": "display_data"
        },
        {
          "data": {
            "application/vnd.jupyter.widget-view+json": {
              "model_id": "3412ed003f824fab93ce7550140e16c9",
              "version_major": 2,
              "version_minor": 0
            },
            "text/plain": [
              "Downloading:   0%|          |"
            ]
          },
          "metadata": {},
          "output_type": "display_data"
        },
        {
          "data": {
            "text/html": [
              "\u003cdiv\u003e\n",
              "\u003cstyle scoped\u003e\n",
              "    .dataframe tbody tr th:only-of-type {\n",
              "        vertical-align: middle;\n",
              "    }\n",
              "\n",
              "    .dataframe tbody tr th {\n",
              "        vertical-align: top;\n",
              "    }\n",
              "\n",
              "    .dataframe thead th {\n",
              "        text-align: right;\n",
              "    }\n",
              "\u003c/style\u003e\n",
              "\u003ctable border=\"1\" class=\"dataframe\"\u003e\n",
              "  \u003cthead\u003e\n",
              "    \u003ctr style=\"text-align: right;\"\u003e\n",
              "      \u003cth\u003e\u003c/th\u003e\n",
              "      \u003cth\u003einput\u003c/th\u003e\n",
              "      \u003cth\u003emetric\u003c/th\u003e\n",
              "      \u003cth\u003ethreshold\u003c/th\u003e\n",
              "      \u003cth\u003evalue\u003c/th\u003e\n",
              "      \u003cth\u003eis_anomaly\u003c/th\u003e\n",
              "    \u003c/tr\u003e\n",
              "  \u003c/thead\u003e\n",
              "  \u003ctbody\u003e\n",
              "    \u003ctr\u003e\n",
              "      \u003cth\u003e0\u003c/th\u003e\n",
              "      \u003ctd\u003ebody_mass_g\u003c/td\u003e\n",
              "      \u003ctd\u003eJENSEN_SHANNON_DIVERGENCE\u003c/td\u003e\n",
              "      \u003ctd\u003e0.3\u003c/td\u003e\n",
              "      \u003ctd\u003e0.335210\u003c/td\u003e\n",
              "      \u003ctd\u003eTrue\u003c/td\u003e\n",
              "    \u003c/tr\u003e\n",
              "    \u003ctr\u003e\n",
              "      \u003cth\u003e1\u003c/th\u003e\n",
              "      \u003ctd\u003eculmen_depth_mm\u003c/td\u003e\n",
              "      \u003ctd\u003eJENSEN_SHANNON_DIVERGENCE\u003c/td\u003e\n",
              "      \u003ctd\u003e0.3\u003c/td\u003e\n",
              "      \u003ctd\u003e0.023026\u003c/td\u003e\n",
              "      \u003ctd\u003eFalse\u003c/td\u003e\n",
              "    \u003c/tr\u003e\n",
              "    \u003ctr\u003e\n",
              "      \u003cth\u003e2\u003c/th\u003e\n",
              "      \u003ctd\u003eculmen_length_mm\u003c/td\u003e\n",
              "      \u003ctd\u003eJENSEN_SHANNON_DIVERGENCE\u003c/td\u003e\n",
              "      \u003ctd\u003e0.3\u003c/td\u003e\n",
              "      \u003ctd\u003e0.061987\u003c/td\u003e\n",
              "      \u003ctd\u003eFalse\u003c/td\u003e\n",
              "    \u003c/tr\u003e\n",
              "    \u003ctr\u003e\n",
              "      \u003cth\u003e3\u003c/th\u003e\n",
              "      \u003ctd\u003eflipper_length_mm\u003c/td\u003e\n",
              "      \u003ctd\u003eJENSEN_SHANNON_DIVERGENCE\u003c/td\u003e\n",
              "      \u003ctd\u003e0.3\u003c/td\u003e\n",
              "      \u003ctd\u003e0.950948\u003c/td\u003e\n",
              "      \u003ctd\u003eTrue\u003c/td\u003e\n",
              "    \u003c/tr\u003e\n",
              "    \u003ctr\u003e\n",
              "      \u003cth\u003e4\u003c/th\u003e\n",
              "      \u003ctd\u003eisland\u003c/td\u003e\n",
              "      \u003ctd\u003eL_INFTY\u003c/td\u003e\n",
              "      \u003ctd\u003e0.3\u003c/td\u003e\n",
              "      \u003ctd\u003e0.042504\u003c/td\u003e\n",
              "      \u003ctd\u003eFalse\u003c/td\u003e\n",
              "    \u003c/tr\u003e\n",
              "    \u003ctr\u003e\n",
              "      \u003cth\u003e5\u003c/th\u003e\n",
              "      \u003ctd\u003esex\u003c/td\u003e\n",
              "      \u003ctd\u003eL_INFTY\u003c/td\u003e\n",
              "      \u003ctd\u003e0.3\u003c/td\u003e\n",
              "      \u003ctd\u003e0.112512\u003c/td\u003e\n",
              "      \u003ctd\u003eFalse\u003c/td\u003e\n",
              "    \u003c/tr\u003e\n",
              "  \u003c/tbody\u003e\n",
              "\u003c/table\u003e\n",
              "\u003c/div\u003e"
            ],
            "text/plain": [
              "               input                     metric  threshold     value  \\\n",
              "0        body_mass_g  JENSEN_SHANNON_DIVERGENCE        0.3  0.335210   \n",
              "1    culmen_depth_mm  JENSEN_SHANNON_DIVERGENCE        0.3  0.023026   \n",
              "2   culmen_length_mm  JENSEN_SHANNON_DIVERGENCE        0.3  0.061987   \n",
              "3  flipper_length_mm  JENSEN_SHANNON_DIVERGENCE        0.3  0.950948   \n",
              "4             island                    L_INFTY        0.3  0.042504   \n",
              "5                sex                    L_INFTY        0.3  0.112512   \n",
              "\n",
              "   is_anomaly  \n",
              "0        True  \n",
              "1       False  \n",
              "2       False  \n",
              "3        True  \n",
              "4       False  \n",
              "5       False  "
            ]
          },
          "execution_count": 35,
          "metadata": {},
          "output_type": "execute_result"
        }
      ],
      "source": [
        "%%bigquery\n",
        "SELECT *\n",
        "FROM ML.VALIDATE_DATA_SKEW(\n",
        "    MODEL `statmike-mlops-349915.bqml_model_monitoring.classify_species_rf`,\n",
        "    (\n",
        "        SELECT *\n",
        "        FROM `statmike-mlops-349915.bqml_model_monitoring.serving`\n",
        "        WHERE DATE(instance_timestamp) \u003e= CURRENT_DATE()\n",
        "    )\n",
        ");"
      ]
    },
    {
      "cell_type": "markdown",
      "metadata": {
        "id": "EV6yWpulxLVM"
      },
      "source": [
        "### Monitoring Drift (Change Over Time) With `ML.VALIDATE_DATA_DRIFT`\n",
        "\n",
        "Compare today to 5 days ago and set the a lower, more sensitive, threshold of `0.03` (default is `0.3`) for all features."
      ]
    },
    {
      "cell_type": "code",
      "execution_count": 36,
      "metadata": {
        "tags": [],
        "id": "XViVZouyxLVM"
      },
      "outputs": [
        {
          "data": {
            "application/vnd.jupyter.widget-view+json": {
              "model_id": "a069784d2b5f4cb1925cb95b5c3cf016",
              "version_major": 2,
              "version_minor": 0
            },
            "text/plain": [
              "Query is running:   0%|          |"
            ]
          },
          "metadata": {},
          "output_type": "display_data"
        },
        {
          "data": {
            "application/vnd.jupyter.widget-view+json": {
              "model_id": "052a2e5686764173a28727c7a6f3b999",
              "version_major": 2,
              "version_minor": 0
            },
            "text/plain": [
              "Downloading:   0%|          |"
            ]
          },
          "metadata": {},
          "output_type": "display_data"
        },
        {
          "data": {
            "text/html": [
              "\u003cdiv\u003e\n",
              "\u003cstyle scoped\u003e\n",
              "    .dataframe tbody tr th:only-of-type {\n",
              "        vertical-align: middle;\n",
              "    }\n",
              "\n",
              "    .dataframe tbody tr th {\n",
              "        vertical-align: top;\n",
              "    }\n",
              "\n",
              "    .dataframe thead th {\n",
              "        text-align: right;\n",
              "    }\n",
              "\u003c/style\u003e\n",
              "\u003ctable border=\"1\" class=\"dataframe\"\u003e\n",
              "  \u003cthead\u003e\n",
              "    \u003ctr style=\"text-align: right;\"\u003e\n",
              "      \u003cth\u003e\u003c/th\u003e\n",
              "      \u003cth\u003einput\u003c/th\u003e\n",
              "      \u003cth\u003emetric\u003c/th\u003e\n",
              "      \u003cth\u003ethreshold\u003c/th\u003e\n",
              "      \u003cth\u003evalue\u003c/th\u003e\n",
              "      \u003cth\u003eis_anomaly\u003c/th\u003e\n",
              "    \u003c/tr\u003e\n",
              "  \u003c/thead\u003e\n",
              "  \u003ctbody\u003e\n",
              "    \u003ctr\u003e\n",
              "      \u003cth\u003e0\u003c/th\u003e\n",
              "      \u003ctd\u003ebody_mass_g\u003c/td\u003e\n",
              "      \u003ctd\u003eJENSEN_SHANNON_DIVERGENCE\u003c/td\u003e\n",
              "      \u003ctd\u003e0.03\u003c/td\u003e\n",
              "      \u003ctd\u003e0.040365\u003c/td\u003e\n",
              "      \u003ctd\u003eTrue\u003c/td\u003e\n",
              "    \u003c/tr\u003e\n",
              "    \u003ctr\u003e\n",
              "      \u003cth\u003e1\u003c/th\u003e\n",
              "      \u003ctd\u003eculmen_depth_mm\u003c/td\u003e\n",
              "      \u003ctd\u003eJENSEN_SHANNON_DIVERGENCE\u003c/td\u003e\n",
              "      \u003ctd\u003e0.03\u003c/td\u003e\n",
              "      \u003ctd\u003e0.000000\u003c/td\u003e\n",
              "      \u003ctd\u003eFalse\u003c/td\u003e\n",
              "    \u003c/tr\u003e\n",
              "    \u003ctr\u003e\n",
              "      \u003cth\u003e2\u003c/th\u003e\n",
              "      \u003ctd\u003eculmen_length_mm\u003c/td\u003e\n",
              "      \u003ctd\u003eJENSEN_SHANNON_DIVERGENCE\u003c/td\u003e\n",
              "      \u003ctd\u003e0.03\u003c/td\u003e\n",
              "      \u003ctd\u003e0.000000\u003c/td\u003e\n",
              "      \u003ctd\u003eFalse\u003c/td\u003e\n",
              "    \u003c/tr\u003e\n",
              "    \u003ctr\u003e\n",
              "      \u003cth\u003e3\u003c/th\u003e\n",
              "      \u003ctd\u003eflipper_length_mm\u003c/td\u003e\n",
              "      \u003ctd\u003eJENSEN_SHANNON_DIVERGENCE\u003c/td\u003e\n",
              "      \u003ctd\u003e0.03\u003c/td\u003e\n",
              "      \u003ctd\u003e0.118338\u003c/td\u003e\n",
              "      \u003ctd\u003eTrue\u003c/td\u003e\n",
              "    \u003c/tr\u003e\n",
              "    \u003ctr\u003e\n",
              "      \u003cth\u003e4\u003c/th\u003e\n",
              "      \u003ctd\u003eisland\u003c/td\u003e\n",
              "      \u003ctd\u003eL_INFTY\u003c/td\u003e\n",
              "      \u003ctd\u003e0.03\u003c/td\u003e\n",
              "      \u003ctd\u003e0.000000\u003c/td\u003e\n",
              "      \u003ctd\u003eFalse\u003c/td\u003e\n",
              "    \u003c/tr\u003e\n",
              "    \u003ctr\u003e\n",
              "      \u003cth\u003e5\u003c/th\u003e\n",
              "      \u003ctd\u003esex\u003c/td\u003e\n",
              "      \u003ctd\u003eL_INFTY\u003c/td\u003e\n",
              "      \u003ctd\u003e0.03\u003c/td\u003e\n",
              "      \u003ctd\u003e0.000000\u003c/td\u003e\n",
              "      \u003ctd\u003eFalse\u003c/td\u003e\n",
              "    \u003c/tr\u003e\n",
              "  \u003c/tbody\u003e\n",
              "\u003c/table\u003e\n",
              "\u003c/div\u003e"
            ],
            "text/plain": [
              "               input                     metric  threshold     value  \\\n",
              "0        body_mass_g  JENSEN_SHANNON_DIVERGENCE       0.03  0.040365   \n",
              "1    culmen_depth_mm  JENSEN_SHANNON_DIVERGENCE       0.03  0.000000   \n",
              "2   culmen_length_mm  JENSEN_SHANNON_DIVERGENCE       0.03  0.000000   \n",
              "3  flipper_length_mm  JENSEN_SHANNON_DIVERGENCE       0.03  0.118338   \n",
              "4             island                    L_INFTY       0.03  0.000000   \n",
              "5                sex                    L_INFTY       0.03  0.000000   \n",
              "\n",
              "   is_anomaly  \n",
              "0        True  \n",
              "1       False  \n",
              "2       False  \n",
              "3        True  \n",
              "4       False  \n",
              "5       False  "
            ]
          },
          "execution_count": 36,
          "metadata": {},
          "output_type": "execute_result"
        }
      ],
      "source": [
        "%%bigquery\n",
        "SELECT *\n",
        "FROM ML.VALIDATE_DATA_DRIFT(\n",
        "    (\n",
        "        SELECT * EXCEPT(instance_timestamp, species)\n",
        "        FROM `statmike-mlops-349915.bqml_model_monitoring.serving`\n",
        "        WHERE DATE(instance_timestamp) = DATE_SUB(CURRENT_DATE(), INTERVAL 5 DAY)\n",
        "    ),\n",
        "    (\n",
        "        SELECT * EXCEPT(instance_timestamp, species)\n",
        "        FROM `statmike-mlops-349915.bqml_model_monitoring.serving`\n",
        "        WHERE DATE(instance_timestamp) = CURRENT_DATE() \n",
        "    ),\n",
        "    STRUCT(\n",
        "        0.03 AS categorical_default_threshold,\n",
        "        0.03 AS numerical_default_threshold\n",
        "    )\n",
        ");"
      ]
    },
    {
      "cell_type": "markdown",
      "metadata": {
        "id": "etL0IyVqxLVM"
      },
      "source": [
        "### Monitoring Skew (Manually) - As Drift from Training Data\n",
        "\n",
        "Since the `ML.VALIDATE_DATA_DRIFT` is comparing two tables, it could also be used for **skew** by comparing the training data to new data, like todays data:"
      ]
    },
    {
      "cell_type": "code",
      "execution_count": 37,
      "metadata": {
        "tags": [],
        "id": "MqJ7c8cdxLVM"
      },
      "outputs": [
        {
          "data": {
            "application/vnd.jupyter.widget-view+json": {
              "model_id": "500c1285bfee447fadb5d466877ee1b0",
              "version_major": 2,
              "version_minor": 0
            },
            "text/plain": [
              "Query is running:   0%|          |"
            ]
          },
          "metadata": {},
          "output_type": "display_data"
        },
        {
          "data": {
            "application/vnd.jupyter.widget-view+json": {
              "model_id": "d2675d30f46b4d73988df5b55877a547",
              "version_major": 2,
              "version_minor": 0
            },
            "text/plain": [
              "Downloading:   0%|          |"
            ]
          },
          "metadata": {},
          "output_type": "display_data"
        },
        {
          "data": {
            "text/html": [
              "\u003cdiv\u003e\n",
              "\u003cstyle scoped\u003e\n",
              "    .dataframe tbody tr th:only-of-type {\n",
              "        vertical-align: middle;\n",
              "    }\n",
              "\n",
              "    .dataframe tbody tr th {\n",
              "        vertical-align: top;\n",
              "    }\n",
              "\n",
              "    .dataframe thead th {\n",
              "        text-align: right;\n",
              "    }\n",
              "\u003c/style\u003e\n",
              "\u003ctable border=\"1\" class=\"dataframe\"\u003e\n",
              "  \u003cthead\u003e\n",
              "    \u003ctr style=\"text-align: right;\"\u003e\n",
              "      \u003cth\u003e\u003c/th\u003e\n",
              "      \u003cth\u003einput\u003c/th\u003e\n",
              "      \u003cth\u003emetric\u003c/th\u003e\n",
              "      \u003cth\u003ethreshold\u003c/th\u003e\n",
              "      \u003cth\u003evalue\u003c/th\u003e\n",
              "      \u003cth\u003eis_anomaly\u003c/th\u003e\n",
              "    \u003c/tr\u003e\n",
              "  \u003c/thead\u003e\n",
              "  \u003ctbody\u003e\n",
              "    \u003ctr\u003e\n",
              "      \u003cth\u003e0\u003c/th\u003e\n",
              "      \u003ctd\u003ebody_mass_g\u003c/td\u003e\n",
              "      \u003ctd\u003eJENSEN_SHANNON_DIVERGENCE\u003c/td\u003e\n",
              "      \u003ctd\u003e0.3\u003c/td\u003e\n",
              "      \u003ctd\u003e0.335210\u003c/td\u003e\n",
              "      \u003ctd\u003eTrue\u003c/td\u003e\n",
              "    \u003c/tr\u003e\n",
              "    \u003ctr\u003e\n",
              "      \u003cth\u003e1\u003c/th\u003e\n",
              "      \u003ctd\u003eculmen_depth_mm\u003c/td\u003e\n",
              "      \u003ctd\u003eJENSEN_SHANNON_DIVERGENCE\u003c/td\u003e\n",
              "      \u003ctd\u003e0.3\u003c/td\u003e\n",
              "      \u003ctd\u003e0.023026\u003c/td\u003e\n",
              "      \u003ctd\u003eFalse\u003c/td\u003e\n",
              "    \u003c/tr\u003e\n",
              "    \u003ctr\u003e\n",
              "      \u003cth\u003e2\u003c/th\u003e\n",
              "      \u003ctd\u003eculmen_length_mm\u003c/td\u003e\n",
              "      \u003ctd\u003eJENSEN_SHANNON_DIVERGENCE\u003c/td\u003e\n",
              "      \u003ctd\u003e0.3\u003c/td\u003e\n",
              "      \u003ctd\u003e0.061987\u003c/td\u003e\n",
              "      \u003ctd\u003eFalse\u003c/td\u003e\n",
              "    \u003c/tr\u003e\n",
              "    \u003ctr\u003e\n",
              "      \u003cth\u003e3\u003c/th\u003e\n",
              "      \u003ctd\u003eflipper_length_mm\u003c/td\u003e\n",
              "      \u003ctd\u003eJENSEN_SHANNON_DIVERGENCE\u003c/td\u003e\n",
              "      \u003ctd\u003e0.3\u003c/td\u003e\n",
              "      \u003ctd\u003e0.950948\u003c/td\u003e\n",
              "      \u003ctd\u003eTrue\u003c/td\u003e\n",
              "    \u003c/tr\u003e\n",
              "    \u003ctr\u003e\n",
              "      \u003cth\u003e4\u003c/th\u003e\n",
              "      \u003ctd\u003eisland\u003c/td\u003e\n",
              "      \u003ctd\u003eL_INFTY\u003c/td\u003e\n",
              "      \u003ctd\u003e0.3\u003c/td\u003e\n",
              "      \u003ctd\u003e0.042504\u003c/td\u003e\n",
              "      \u003ctd\u003eFalse\u003c/td\u003e\n",
              "    \u003c/tr\u003e\n",
              "    \u003ctr\u003e\n",
              "      \u003cth\u003e5\u003c/th\u003e\n",
              "      \u003ctd\u003esex\u003c/td\u003e\n",
              "      \u003ctd\u003eL_INFTY\u003c/td\u003e\n",
              "      \u003ctd\u003e0.3\u003c/td\u003e\n",
              "      \u003ctd\u003e0.112512\u003c/td\u003e\n",
              "      \u003ctd\u003eFalse\u003c/td\u003e\n",
              "    \u003c/tr\u003e\n",
              "  \u003c/tbody\u003e\n",
              "\u003c/table\u003e\n",
              "\u003c/div\u003e"
            ],
            "text/plain": [
              "               input                     metric  threshold     value  \\\n",
              "0        body_mass_g  JENSEN_SHANNON_DIVERGENCE        0.3  0.335210   \n",
              "1    culmen_depth_mm  JENSEN_SHANNON_DIVERGENCE        0.3  0.023026   \n",
              "2   culmen_length_mm  JENSEN_SHANNON_DIVERGENCE        0.3  0.061987   \n",
              "3  flipper_length_mm  JENSEN_SHANNON_DIVERGENCE        0.3  0.950948   \n",
              "4             island                    L_INFTY        0.3  0.042504   \n",
              "5                sex                    L_INFTY        0.3  0.112512   \n",
              "\n",
              "   is_anomaly  \n",
              "0        True  \n",
              "1       False  \n",
              "2       False  \n",
              "3        True  \n",
              "4       False  \n",
              "5       False  "
            ]
          },
          "execution_count": 37,
          "metadata": {},
          "output_type": "execute_result"
        }
      ],
      "source": [
        "%%bigquery\n",
        "SELECT *\n",
        "FROM ML.VALIDATE_DATA_DRIFT(\n",
        "    (\n",
        "        SELECT *\n",
        "        FROM `statmike-mlops-349915.bqml_model_monitoring.training_split`\n",
        "        WHERE splits = 'TRAIN'\n",
        "    ),\n",
        "    (\n",
        "        SELECT * EXCEPT(instance_timestamp, species)\n",
        "        FROM `statmike-mlops-349915.bqml_model_monitoring.serving`\n",
        "        WHERE DATE(instance_timestamp) = CURRENT_DATE() \n",
        "    )\n",
        ");"
      ]
    },
    {
      "cell_type": "markdown",
      "metadata": {
        "id": "dqDsuu2uxLVM"
      },
      "source": [
        "---\n",
        "### TensorFlow Data Validation (TFDV) In BigQuery\n",
        "\n",
        "BigQuery offers two functions that bring the power of the TensorFlow's [TFX platform](https://www.tensorflow.org/tfx) with built-in [TensorFlow Data Validation (TFDV)](https://www.tensorflow.org/tfx/data_validation/get_started) module directly inside of BigQuery.\n",
        "- [`ML.TFDV_DESCRIBE`](https://cloud.google.com/bigquery/docs/reference/standard-sql/bigqueryml-syntax-tfdv-describe) to generate descriptive statistics of any table\n",
        "- [`ML.TFDV_VALIDATE`](https://cloud.google.com/bigquery/docs/reference/standard-sql/bigqueryml-syntax-tfdv-validate) to compare statistics of two tables"
      ]
    },
    {
      "cell_type": "markdown",
      "metadata": {
        "id": "xgJXmr6rxLVM"
      },
      "source": [
        "#### Generate Statistics with `ML.TFDV_DESCRIBE`\n",
        "\n",
        "Generate statistics for any table, in this case the training data features or a timespan of serving data features.  This is like using the TensorFlow's [TFX platform](https://www.tensorflow.org/tfx) with built-in [TensorFlow Data Validation (TFDV)](https://www.tensorflow.org/tfx/data_validation/get_started) module's [`tfdv.generate_statistics_from_csv()`](https://www.tensorflow.org/tfx/data_validation/api_docs/python/tfdv/generate_statistics_from_csv) method.\n",
        "\n",
        "The descriptions can be used in comparisons for skew or drift detection with the `ML.TFDV_VALIDATE` function, covered next, as well as in the visualization tool `tfdv.visualize_statistics` also covered below."
      ]
    },
    {
      "cell_type": "code",
      "execution_count": 38,
      "metadata": {
        "tags": [],
        "id": "SYsyK-zsxLVM"
      },
      "outputs": [
        {
          "data": {
            "application/vnd.jupyter.widget-view+json": {
              "model_id": "e23cc6c2b94c406ea10df2bb575d266f",
              "version_major": 2,
              "version_minor": 0
            },
            "text/plain": [
              "Query is running:   0%|          |"
            ]
          },
          "metadata": {},
          "output_type": "display_data"
        },
        {
          "data": {
            "application/vnd.jupyter.widget-view+json": {
              "model_id": "c583d4e139ca4965949028791ccfee86",
              "version_major": 2,
              "version_minor": 0
            },
            "text/plain": [
              "Downloading:   0%|          |"
            ]
          },
          "metadata": {},
          "output_type": "display_data"
        }
      ],
      "source": [
        "%%bigquery train_describe\n",
        "SELECT *\n",
        "FROM ML.TFDV_DESCRIBE(\n",
        "    (\n",
        "        SELECT * EXCEPT(splits, species)\n",
        "        FROM `statmike-mlops-349915.bqml_model_monitoring.training_split`\n",
        "        WHERE splits = 'TRAIN'\n",
        "    )\n",
        ")"
      ]
    },
    {
      "cell_type": "code",
      "execution_count": 39,
      "metadata": {
        "tags": [],
        "id": "jBKAR3WMxLVM"
      },
      "outputs": [],
      "source": [
        "train_describe = json.loads(train_describe['dataset_feature_statistics_list'].iloc[0])"
      ]
    },
    {
      "cell_type": "code",
      "execution_count": 40,
      "metadata": {
        "tags": [],
        "id": "og7io97YxLVM"
      },
      "outputs": [
        {
          "data": {
            "text/plain": [
              "{'name': 'body_mass_g',\n",
              " 'num_stats': {'common_stats': {'avg_num_values': 1,\n",
              "   'max_num_values': '1',\n",
              "   'min_num_values': '1',\n",
              "   'num_non_missing': '237',\n",
              "   'num_values_histogram': {'buckets': [{'high_value': 1,\n",
              "      'low_value': 1,\n",
              "      'sample_count': 23.8},\n",
              "     {'high_value': 1, 'low_value': 1, 'sample_count': 23.8},\n",
              "     {'high_value': 1, 'low_value': 1, 'sample_count': 23.8},\n",
              "     {'high_value': 1, 'low_value': 1, 'sample_count': 23.8},\n",
              "     {'high_value': 1, 'low_value': 1, 'sample_count': 23.8},\n",
              "     {'high_value': 1, 'low_value': 1, 'sample_count': 23.8},\n",
              "     {'high_value': 1, 'low_value': 1, 'sample_count': 23.8},\n",
              "     {'high_value': 1, 'low_value': 1, 'sample_count': 23.8},\n",
              "     {'high_value': 1, 'low_value': 1, 'sample_count': 23.8},\n",
              "     {'high_value': 1, 'low_value': 1, 'sample_count': 23.8}],\n",
              "    'type': 'QUANTILES'},\n",
              "   'tot_num_values': '237'},\n",
              "  'histograms': [{'buckets': [{'high_value': 3275,\n",
              "      'low_value': 2850,\n",
              "      'sample_count': 23.8},\n",
              "     {'high_value': 3500, 'low_value': 3275, 'sample_count': 23.8},\n",
              "     {'high_value': 3650, 'low_value': 3500, 'sample_count': 23.8},\n",
              "     {'high_value': 3800, 'low_value': 3650, 'sample_count': 23.8},\n",
              "     {'high_value': 4050, 'low_value': 3800, 'sample_count': 23.8},\n",
              "     {'high_value': 4375, 'low_value': 4050, 'sample_count': 23.8},\n",
              "     {'high_value': 4650, 'low_value': 4375, 'sample_count': 23.8},\n",
              "     {'high_value': 4925, 'low_value': 4650, 'sample_count': 23.8},\n",
              "     {'high_value': 5400, 'low_value': 4925, 'sample_count': 23.8},\n",
              "     {'high_value': 6300, 'low_value': 5400, 'sample_count': 23.8}],\n",
              "    'type': 'QUANTILES'},\n",
              "   {'buckets': [{'high_value': 3195,\n",
              "      'low_value': 2850,\n",
              "      'sample_count': 16.136399999999977},\n",
              "     {'high_value': 3540,\n",
              "      'low_value': 3195,\n",
              "      'sample_count': 39.222399999999936},\n",
              "     {'high_value': 3885,\n",
              "      'low_value': 3540,\n",
              "      'sample_count': 48.02839999999992},\n",
              "     {'high_value': 4230,\n",
              "      'low_value': 3885,\n",
              "      'sample_count': 29.083599999999954},\n",
              "     {'high_value': 4575,\n",
              "      'low_value': 4230,\n",
              "      'sample_count': 26.03719999999996},\n",
              "     {'high_value': 4920,\n",
              "      'low_value': 4575,\n",
              "      'sample_count': 31.368399999999948},\n",
              "     {'high_value': 5265,\n",
              "      'low_value': 4920,\n",
              "      'sample_count': 17.016999999999978},\n",
              "     {'high_value': 5610,\n",
              "      'low_value': 5265,\n",
              "      'sample_count': 18.064199999999975},\n",
              "     {'high_value': 5955,\n",
              "      'low_value': 5610,\n",
              "      'sample_count': 9.972199999999988},\n",
              "     {'high_value': 6300, 'low_value': 5955, 'sample_count': 3.0702}]}],\n",
              "  'max': 6300,\n",
              "  'mean': 4197.78481012658,\n",
              "  'median': 4050,\n",
              "  'min': 2850,\n",
              "  'std_dev': 794.4280165783061},\n",
              " 'type': 'FLOAT'}"
            ]
          },
          "execution_count": 40,
          "metadata": {},
          "output_type": "execute_result"
        }
      ],
      "source": [
        "train_describe['datasets'][0]['features'][0]"
      ]
    },
    {
      "cell_type": "code",
      "execution_count": 41,
      "metadata": {
        "tags": [],
        "id": "McnPP37UxLVM"
      },
      "outputs": [
        {
          "data": {
            "application/vnd.jupyter.widget-view+json": {
              "model_id": "6c487ab6fd204bfc9a5099ef9d9c2378",
              "version_major": 2,
              "version_minor": 0
            },
            "text/plain": [
              "Query is running:   0%|          |"
            ]
          },
          "metadata": {},
          "output_type": "display_data"
        },
        {
          "data": {
            "application/vnd.jupyter.widget-view+json": {
              "model_id": "2c7202d1927644b8960308075687bf76",
              "version_major": 2,
              "version_minor": 0
            },
            "text/plain": [
              "Downloading:   0%|          |"
            ]
          },
          "metadata": {},
          "output_type": "display_data"
        }
      ],
      "source": [
        "%%bigquery today_describe\n",
        "SELECT *\n",
        "FROM ML.TFDV_DESCRIBE(\n",
        "    (\n",
        "        SELECT * EXCEPT(instance_timestamp, species)\n",
        "        FROM `statmike-mlops-349915.bqml_model_monitoring.serving`\n",
        "        WHERE DATE(instance_timestamp) = CURRENT_DATE()\n",
        "    )\n",
        ")"
      ]
    },
    {
      "cell_type": "code",
      "execution_count": 42,
      "metadata": {
        "tags": [],
        "id": "0rL8Hpv3xLVM"
      },
      "outputs": [],
      "source": [
        "today_describe = json.loads(today_describe['dataset_feature_statistics_list'].iloc[0])"
      ]
    },
    {
      "cell_type": "code",
      "execution_count": 43,
      "metadata": {
        "tags": [],
        "id": "uCyYhkT7xLVM"
      },
      "outputs": [],
      "source": [
        "#today_describe['datasets'][0]['features'][0]"
      ]
    },
    {
      "cell_type": "markdown",
      "metadata": {
        "id": "At4240OVxLVM"
      },
      "source": [
        "#### Visualize Statistics with `tfdv.visualize_statistics`\n",
        "\n",
        "Use the [`tfdv.visualize_statistics`](https://www.tensorflow.org/tfx/data_validation/api_docs/python/tfdv/visualize_statistics) tool to visualize the generated descriptions and directly compare them.  This presents visuals using [Facets Overview](https://pair-code.github.io/facets/)."
      ]
    },
    {
      "cell_type": "code",
      "execution_count": 44,
      "metadata": {
        "tags": [],
        "id": "lQOrV_q2xLVM"
      },
      "outputs": [],
      "source": [
        "import os\n",
        "os.environ['TF_CPP_MIN_LOG_LEVEL'] = '3'\n",
        "import tensorflow_data_validation as tfdv\n",
        "import tensorflow_metadata as tfmd\n",
        "from google.protobuf import json_format"
      ]
    },
    {
      "cell_type": "code",
      "execution_count": 45,
      "metadata": {
        "tags": [],
        "id": "ynrRtJ97xLVM"
      },
      "outputs": [
        {
          "data": {
            "text/html": [
              "\u003ciframe id='facets-iframe' width=\"100%\" height=\"500px\"\u003e\u003c/iframe\u003e\n",
              "        \u003cscript\u003e\n",
              "        facets_iframe = document.getElementById('facets-iframe');\n",
              "        facets_html = '\u003cscript src=\"https://cdnjs.cloudflare.com/ajax/libs/webcomponentsjs/1.3.3/webcomponents-lite.js\"\u003e\u003c\\/script\u003e\u003clink rel=\"import\" href=\"https://raw.githubusercontent.com/PAIR-code/facets/master/facets-dist/facets-jupyter.html\"\u003e\u003cfacets-overview proto-input=\"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\"\u003e\u003c/facets-overview\u003e';\n",
              "        facets_iframe.srcdoc = facets_html;\n",
              "         facets_iframe.id = \"\";\n",
              "         setTimeout(() =\u003e {\n",
              "           facets_iframe.setAttribute('height', facets_iframe.contentWindow.document.body.offsetHeight + 'px')\n",
              "         }, 1500)\n",
              "         \u003c/script\u003e"
            ],
            "text/plain": [
              "\u003cIPython.core.display.HTML object\u003e"
            ]
          },
          "metadata": {},
          "output_type": "display_data"
        }
      ],
      "source": [
        "tfdv.visualize_statistics(\n",
        "    lhs_statistics = json_format.ParseDict(train_describe, tfmd.proto.statistics_pb2.DatasetFeatureStatisticsList()),\n",
        "    rhs_statistics = json_format.ParseDict(today_describe, tfmd.proto.statistics_pb2.DatasetFeatureStatisticsList()),\n",
        "    lhs_name = 'Training Data Stats',\n",
        "    rhs_name = 'Serving Data Stats - For Today'\n",
        ")"
      ]
    },
    {
      "cell_type": "markdown",
      "metadata": {
        "id": "flmSZdZIxLVM"
      },
      "source": [
        "#### Compare And Detect Anomalies with `ML.TFDV_VALIDATE`\n",
        "\n",
        "Compare the distribution of any table to a base table and compute distance statistics to detect anomalies.  This is like using the TensorFlow's [TFX platform](https://www.tensorflow.org/tfx) with built-in [TensorFlow Data Validation (TFDV)](https://www.tensorflow.org/tfx/data_validation/get_started) module's [validate_statistics api](https://www.tensorflow.org/tfx/data_validation/api_docs/python/tfdv/validate_statistics).\n",
        "\n",
        "These comparison can be made to training data for **skew** detection or previous serving data for **drift** detection."
      ]
    },
    {
      "cell_type": "code",
      "execution_count": 46,
      "metadata": {
        "tags": [],
        "id": "MfNNlhT2xLVM"
      },
      "outputs": [
        {
          "data": {
            "application/vnd.jupyter.widget-view+json": {
              "model_id": "b38707ad9b8a49dca9cc30948fb34f1d",
              "version_major": 2,
              "version_minor": 0
            },
            "text/plain": [
              "Query is running:   0%|          |"
            ]
          },
          "metadata": {},
          "output_type": "display_data"
        },
        {
          "data": {
            "application/vnd.jupyter.widget-view+json": {
              "model_id": "0b46380263d14ce4bf0e215e13dadae9",
              "version_major": 2,
              "version_minor": 0
            },
            "text/plain": [
              "Downloading:   0%|          |"
            ]
          },
          "metadata": {},
          "output_type": "display_data"
        }
      ],
      "source": [
        "%%bigquery validate\n",
        "WITH\n",
        "    TRAIN AS (\n",
        "        SELECT * EXCEPT(splits, species)\n",
        "        FROM `statmike-mlops-349915.bqml_model_monitoring.training_split`\n",
        "        WHERE splits = 'TRAIN'\n",
        "    ),\n",
        "    SERVE AS (\n",
        "        SELECT * EXCEPT(instance_timestamp, species)\n",
        "        FROM `statmike-mlops-349915.bqml_model_monitoring.serving`\n",
        "        WHERE DATE(instance_timestamp) = CURRENT_DATE()\n",
        "    )\n",
        "SELECT ML.TFDV_VALIDATE(\n",
        "    (SELECT * FROM ML.TFDV_DESCRIBE(TABLE TRAIN)),\n",
        "    (SELECT * FROM ML.TFDV_DESCRIBE(TABLE SERVE)),\n",
        "    'SKEW'\n",
        ") as validate"
      ]
    },
    {
      "cell_type": "code",
      "execution_count": 47,
      "metadata": {
        "tags": [],
        "id": "FXSFaJyexLVM"
      },
      "outputs": [],
      "source": [
        "validate = json.loads(validate['validate'].iloc[0])"
      ]
    },
    {
      "cell_type": "code",
      "execution_count": 48,
      "metadata": {
        "tags": [],
        "id": "hdTKJFERxLVM"
      },
      "outputs": [],
      "source": [
        "#validate['anomaly_info']"
      ]
    },
    {
      "cell_type": "markdown",
      "metadata": {
        "id": "2mcMluFlxLVM"
      },
      "source": [
        "#### Display Anomalies with `tfdv.display_anomalies`\n",
        "\n",
        "Use the [`tfdv.display_anomalies`](https://www.tensorflow.org/tfx/data_validation/api_docs/python/tfdv/display_anomalies) tool to display a table of anomaly detections with descriptions."
      ]
    },
    {
      "cell_type": "code",
      "execution_count": 49,
      "metadata": {
        "tags": [],
        "id": "_XsqcG1yxLVM"
      },
      "outputs": [],
      "source": [
        "if 'generate_legacy_feature_spec' in validate['baseline'].keys():\n",
        "    del validate['baseline']['generate_legacy_feature_spec']"
      ]
    },
    {
      "cell_type": "code",
      "execution_count": 50,
      "metadata": {
        "tags": [],
        "id": "gO9o8ttKxLVM"
      },
      "outputs": [
        {
          "data": {
            "text/html": [
              "\u003cdiv\u003e\n",
              "\u003cstyle scoped\u003e\n",
              "    .dataframe tbody tr th:only-of-type {\n",
              "        vertical-align: middle;\n",
              "    }\n",
              "\n",
              "    .dataframe tbody tr th {\n",
              "        vertical-align: top;\n",
              "    }\n",
              "\n",
              "    .dataframe thead th {\n",
              "        text-align: right;\n",
              "    }\n",
              "\u003c/style\u003e\n",
              "\u003ctable border=\"1\" class=\"dataframe\"\u003e\n",
              "  \u003cthead\u003e\n",
              "    \u003ctr style=\"text-align: right;\"\u003e\n",
              "      \u003cth\u003e\u003c/th\u003e\n",
              "      \u003cth\u003eAnomaly short description\u003c/th\u003e\n",
              "      \u003cth\u003eAnomaly long description\u003c/th\u003e\n",
              "    \u003c/tr\u003e\n",
              "    \u003ctr\u003e\n",
              "      \u003cth\u003eFeature name\u003c/th\u003e\n",
              "      \u003cth\u003e\u003c/th\u003e\n",
              "      \u003cth\u003e\u003c/th\u003e\n",
              "    \u003c/tr\u003e\n",
              "  \u003c/thead\u003e\n",
              "  \u003ctbody\u003e\n",
              "    \u003ctr\u003e\n",
              "      \u003cth\u003e'flipper_length_mm'\u003c/th\u003e\n",
              "      \u003ctd\u003eHigh approximate Jensen-Shannon divergence between training and serving\u003c/td\u003e\n",
              "      \u003ctd\u003eThe approximate Jensen-Shannon divergence between training and serving is 0.950948 (up to six significant digits), above the threshold 0.3.\u003c/td\u003e\n",
              "    \u003c/tr\u003e\n",
              "    \u003ctr\u003e\n",
              "      \u003cth\u003e'body_mass_g'\u003c/th\u003e\n",
              "      \u003ctd\u003eHigh approximate Jensen-Shannon divergence between training and serving\u003c/td\u003e\n",
              "      \u003ctd\u003eThe approximate Jensen-Shannon divergence between training and serving is 0.33521 (up to six significant digits), above the threshold 0.3.\u003c/td\u003e\n",
              "    \u003c/tr\u003e\n",
              "  \u003c/tbody\u003e\n",
              "\u003c/table\u003e\n",
              "\u003c/div\u003e"
            ],
            "text/plain": [
              "                                                                   Anomaly short description  \\\n",
              "Feature name                                                                                   \n",
              "'flipper_length_mm'  High approximate Jensen-Shannon divergence between training and serving   \n",
              "'body_mass_g'        High approximate Jensen-Shannon divergence between training and serving   \n",
              "\n",
              "                                                                                                                                        Anomaly long description  \n",
              "Feature name                                                                                                                                                      \n",
              "'flipper_length_mm'  The approximate Jensen-Shannon divergence between training and serving is 0.950948 (up to six significant digits), above the threshold 0.3.  \n",
              "'body_mass_g'         The approximate Jensen-Shannon divergence between training and serving is 0.33521 (up to six significant digits), above the threshold 0.3.  "
            ]
          },
          "metadata": {},
          "output_type": "display_data"
        }
      ],
      "source": [
        "tfdv.display_anomalies(\n",
        "    anomalies = json_format.ParseDict(validate, tfmd.proto.anomalies_pb2.Anomalies())\n",
        ")"
      ]
    },
    {
      "cell_type": "markdown",
      "metadata": {
        "id": "7g3yFYYwxLVM"
      },
      "source": [
        "---\n",
        "## Understanding Monitoring Thresholds\n",
        "\n",
        "The `ML.VALIDATE_DATA_DRIFT`, `ML.VALIDATE_DATA_SKEW`, and `ML.TFDV_VALIDATE` functions use distance scores to quantify the change in the statistical distribution of features.  The methods of calculating the distance scores are:\n",
        "- [L-infinity distance](https://en.wikipedia.org/wiki/Chebyshev_distance) for categorical features\n",
        "- [Jensen-Shannon divergence](https://en.wikipedia.org/wiki/Jensen%E2%80%93Shannon_divergence) for numeric features.  Can also be use for categorical features.\n",
        "\n",
        "These methods are the same ones used by [TensorFlow Data Validation](https://www.tensorflow.org/tfx/guide/tfdv#training-serving_skew_detection) which is also used in [Vertex AI Model Monitoring](https://cloud.google.com/vertex-ai/docs/model-monitoring/overview#calculating-skew-and-drift).\n",
        "\n",
        "This section aims to provide intuition on how these two metrics work.  In the data used for this workflow the feature `island` has three possible values: `Biscoe`, `Dream`, and `Torgersen`.  The proportion of data in each of these categories forms a distribution.  This will be used to visually show how both methods of calculating distance scores work."
      ]
    },
    {
      "cell_type": "code",
      "execution_count": 51,
      "metadata": {
        "tags": [],
        "id": "-4PGw_zmxLVM"
      },
      "outputs": [],
      "source": [
        "import pandas as pd\n",
        "import numpy as np"
      ]
    },
    {
      "cell_type": "markdown",
      "metadata": {
        "id": "jJNe8w9wxLVM"
      },
      "source": [
        "### Retrieve Distributions: Training \u0026 Serving\n",
        "\n",
        "Use the `ML.TFDV_DESCRIBE` function to get the statistics for the distribution of the `island` feature at both training and for serving."
      ]
    },
    {
      "cell_type": "code",
      "execution_count": 52,
      "metadata": {
        "tags": [],
        "id": "ibkgYFgbxLVM"
      },
      "outputs": [
        {
          "data": {
            "application/vnd.jupyter.widget-view+json": {
              "model_id": "04b40806f8a3473da989efbf395c0bdd",
              "version_major": 2,
              "version_minor": 0
            },
            "text/plain": [
              "Query is running:   0%|          |"
            ]
          },
          "metadata": {},
          "output_type": "display_data"
        },
        {
          "data": {
            "application/vnd.jupyter.widget-view+json": {
              "model_id": "f84ae2ba2179483fbdf82debdf820b10",
              "version_major": 2,
              "version_minor": 0
            },
            "text/plain": [
              "Downloading:   0%|          |"
            ]
          },
          "metadata": {},
          "output_type": "display_data"
        }
      ],
      "source": [
        "%%bigquery island_train\n",
        "SELECT *\n",
        "FROM ML.TFDV_DESCRIBE(\n",
        "    (\n",
        "        SELECT island\n",
        "        FROM `statmike-mlops-349915.bqml_model_monitoring.training_split`\n",
        "        WHERE splits = 'TRAIN'\n",
        "    )\n",
        ")"
      ]
    },
    {
      "cell_type": "code",
      "execution_count": 53,
      "metadata": {
        "tags": [],
        "id": "yOngMcvoxLVM"
      },
      "outputs": [
        {
          "data": {
            "application/vnd.jupyter.widget-view+json": {
              "model_id": "619fbcc9be6a4b88a4c8c7ecdadfae9a",
              "version_major": 2,
              "version_minor": 0
            },
            "text/plain": [
              "Query is running:   0%|          |"
            ]
          },
          "metadata": {},
          "output_type": "display_data"
        },
        {
          "data": {
            "application/vnd.jupyter.widget-view+json": {
              "model_id": "ff5848c69d49492a81213a1565f5865c",
              "version_major": 2,
              "version_minor": 0
            },
            "text/plain": [
              "Downloading:   0%|          |"
            ]
          },
          "metadata": {},
          "output_type": "display_data"
        }
      ],
      "source": [
        "%%bigquery island_serve\n",
        "SELECT *\n",
        "FROM ML.TFDV_DESCRIBE(\n",
        "    (\n",
        "        SELECT island\n",
        "        FROM `statmike-mlops-349915.bqml_model_monitoring.serving`\n",
        "    )\n",
        ")"
      ]
    },
    {
      "cell_type": "code",
      "execution_count": 54,
      "metadata": {
        "tags": [],
        "id": "X739pzEXxLVM"
      },
      "outputs": [],
      "source": [
        "island_train = json.loads(island_train['dataset_feature_statistics_list'].iloc[0])\n",
        "island_serve = json.loads(island_serve['dataset_feature_statistics_list'].iloc[0])"
      ]
    },
    {
      "cell_type": "code",
      "execution_count": 55,
      "metadata": {
        "tags": [],
        "id": "ucfMedEExLVM"
      },
      "outputs": [
        {
          "data": {
            "text/plain": [
              "{'avg_length': 6.092437,\n",
              " 'common_stats': {'avg_num_values': 1,\n",
              "  'max_num_values': '1',\n",
              "  'min_num_values': '1',\n",
              "  'num_non_missing': '238',\n",
              "  'num_values_histogram': {'buckets': [{'high_value': 1,\n",
              "     'low_value': 1,\n",
              "     'sample_count': 23.8},\n",
              "    {'high_value': 1, 'low_value': 1, 'sample_count': 23.8},\n",
              "    {'high_value': 1, 'low_value': 1, 'sample_count': 23.8},\n",
              "    {'high_value': 1, 'low_value': 1, 'sample_count': 23.8},\n",
              "    {'high_value': 1, 'low_value': 1, 'sample_count': 23.8},\n",
              "    {'high_value': 1, 'low_value': 1, 'sample_count': 23.8},\n",
              "    {'high_value': 1, 'low_value': 1, 'sample_count': 23.8},\n",
              "    {'high_value': 1, 'low_value': 1, 'sample_count': 23.8},\n",
              "    {'high_value': 1, 'low_value': 1, 'sample_count': 23.8},\n",
              "    {'high_value': 1, 'low_value': 1, 'sample_count': 23.8}],\n",
              "   'type': 'QUANTILES'},\n",
              "  'tot_num_values': '238'},\n",
              " 'rank_histogram': {'buckets': [{'label': 'Biscoe', 'sample_count': 116},\n",
              "   {'high_rank': '1', 'label': 'Dream', 'low_rank': '1', 'sample_count': 86},\n",
              "   {'high_rank': '2',\n",
              "    'label': 'Torgersen',\n",
              "    'low_rank': '2',\n",
              "    'sample_count': 36}]},\n",
              " 'top_values': [{'frequency': 116, 'value': 'Biscoe'},\n",
              "  {'frequency': 86, 'value': 'Dream'},\n",
              "  {'frequency': 36, 'value': 'Torgersen'}],\n",
              " 'unique': '3'}"
            ]
          },
          "execution_count": 55,
          "metadata": {},
          "output_type": "execute_result"
        }
      ],
      "source": [
        "island_train['datasets'][0]['features'][0]['string_stats']"
      ]
    },
    {
      "cell_type": "code",
      "execution_count": 56,
      "metadata": {
        "tags": [],
        "id": "YbNGJsYXxLVM"
      },
      "outputs": [
        {
          "data": {
            "text/plain": [
              "[{'label': 'Biscoe', 'sample_count': 116},\n",
              " {'high_rank': '1', 'label': 'Dream', 'low_rank': '1', 'sample_count': 86},\n",
              " {'high_rank': '2', 'label': 'Torgersen', 'low_rank': '2', 'sample_count': 36}]"
            ]
          },
          "execution_count": 56,
          "metadata": {},
          "output_type": "execute_result"
        }
      ],
      "source": [
        "island_train_stats = island_train['datasets'][0]['features'][0]['string_stats']['rank_histogram']['buckets']\n",
        "island_train_stats"
      ]
    },
    {
      "cell_type": "code",
      "execution_count": 57,
      "metadata": {
        "tags": [],
        "id": "vX9osX7DxLVM"
      },
      "outputs": [
        {
          "data": {
            "text/plain": [
              "[{'label': 'Biscoe', 'sample_count': 1054},\n",
              " {'high_rank': '1', 'label': 'Dream', 'low_rank': '1', 'sample_count': 682},\n",
              " {'high_rank': '2',\n",
              "  'label': 'Torgersen',\n",
              "  'low_rank': '2',\n",
              "  'sample_count': 403}]"
            ]
          },
          "execution_count": 57,
          "metadata": {},
          "output_type": "execute_result"
        }
      ],
      "source": [
        "island_serve_stats = island_serve['datasets'][0]['features'][0]['string_stats']['rank_histogram']['buckets']\n",
        "island_serve_stats"
      ]
    },
    {
      "cell_type": "markdown",
      "metadata": {
        "id": "p65FpXdMxLVM"
      },
      "source": [
        "### Combine Distributions In DataFrame"
      ]
    },
    {
      "cell_type": "code",
      "execution_count": 58,
      "metadata": {
        "tags": [],
        "id": "h7UjSA8ZxLVM"
      },
      "outputs": [
        {
          "data": {
            "text/html": [
              "\u003cdiv\u003e\n",
              "\u003cstyle scoped\u003e\n",
              "    .dataframe tbody tr th:only-of-type {\n",
              "        vertical-align: middle;\n",
              "    }\n",
              "\n",
              "    .dataframe tbody tr th {\n",
              "        vertical-align: top;\n",
              "    }\n",
              "\n",
              "    .dataframe thead th {\n",
              "        text-align: right;\n",
              "    }\n",
              "\u003c/style\u003e\n",
              "\u003ctable border=\"1\" class=\"dataframe\"\u003e\n",
              "  \u003cthead\u003e\n",
              "    \u003ctr style=\"text-align: right;\"\u003e\n",
              "      \u003cth\u003e\u003c/th\u003e\n",
              "      \u003cth\u003etrain_n\u003c/th\u003e\n",
              "      \u003cth\u003eserve_n\u003c/th\u003e\n",
              "      \u003cth\u003etrain_pct\u003c/th\u003e\n",
              "      \u003cth\u003eserve_pct\u003c/th\u003e\n",
              "    \u003c/tr\u003e\n",
              "  \u003c/thead\u003e\n",
              "  \u003ctbody\u003e\n",
              "    \u003ctr\u003e\n",
              "      \u003cth\u003eBiscoe\u003c/th\u003e\n",
              "      \u003ctd\u003e116\u003c/td\u003e\n",
              "      \u003ctd\u003e1054\u003c/td\u003e\n",
              "      \u003ctd\u003e0.487395\u003c/td\u003e\n",
              "      \u003ctd\u003e0.492754\u003c/td\u003e\n",
              "    \u003c/tr\u003e\n",
              "    \u003ctr\u003e\n",
              "      \u003cth\u003eDream\u003c/th\u003e\n",
              "      \u003ctd\u003e86\u003c/td\u003e\n",
              "      \u003ctd\u003e682\u003c/td\u003e\n",
              "      \u003ctd\u003e0.361345\u003c/td\u003e\n",
              "      \u003ctd\u003e0.318841\u003c/td\u003e\n",
              "    \u003c/tr\u003e\n",
              "    \u003ctr\u003e\n",
              "      \u003cth\u003eTorgersen\u003c/th\u003e\n",
              "      \u003ctd\u003e36\u003c/td\u003e\n",
              "      \u003ctd\u003e403\u003c/td\u003e\n",
              "      \u003ctd\u003e0.151261\u003c/td\u003e\n",
              "      \u003ctd\u003e0.188406\u003c/td\u003e\n",
              "    \u003c/tr\u003e\n",
              "  \u003c/tbody\u003e\n",
              "\u003c/table\u003e\n",
              "\u003c/div\u003e"
            ],
            "text/plain": [
              "           train_n  serve_n  train_pct  serve_pct\n",
              "Biscoe         116     1054   0.487395   0.492754\n",
              "Dream           86      682   0.361345   0.318841\n",
              "Torgersen       36      403   0.151261   0.188406"
            ]
          },
          "execution_count": 58,
          "metadata": {},
          "output_type": "execute_result"
        }
      ],
      "source": [
        "index = [i['label'] for i in island_train_stats]\n",
        "train = [i['sample_count'] for i in island_train_stats]\n",
        "serve = [island_serve_stats[index.index(k)]['sample_count'] for k in [i['label'] for i in island_serve_stats]]\n",
        "stats = pd.DataFrame(\n",
        "    {\n",
        "        'train_n': train,\n",
        "        'serve_n': serve,\n",
        "        'train_pct': [x/sum(train) for x in train],\n",
        "        'serve_pct': [x/sum(serve) for x in serve]\n",
        "    },\n",
        "    index = index\n",
        ")\n",
        "stats"
      ]
    },
    {
      "cell_type": "markdown",
      "metadata": {
        "id": "fEMCienaxLVM"
      },
      "source": [
        "### Visualize Distributions"
      ]
    },
    {
      "cell_type": "code",
      "execution_count": 59,
      "metadata": {
        "tags": [],
        "id": "edBQnK5QxLVM"
      },
      "outputs": [
        {
          "data": {
            "image/png": "[encoded data removed]",
            "text/plain": [
              "\u003cFigure size 640x480 with 1 Axes\u003e"
            ]
          },
          "metadata": {},
          "output_type": "display_data"
        }
      ],
      "source": [
        "ax = stats[['train_pct', 'serve_pct']].plot.bar(rot=0)\n",
        "for container in ax.containers:\n",
        "    ax.bar_label(container)"
      ]
    },
    {
      "cell_type": "markdown",
      "metadata": {
        "id": "8VzVRNGxxLVM"
      },
      "source": [
        "### L-Infinity Distance"
      ]
    },
    {
      "cell_type": "code",
      "execution_count": 60,
      "metadata": {
        "tags": [],
        "id": "dOm0RevHxLVM"
      },
      "outputs": [
        {
          "data": {
            "text/html": [
              "\u003cdiv\u003e\n",
              "\u003cstyle scoped\u003e\n",
              "    .dataframe tbody tr th:only-of-type {\n",
              "        vertical-align: middle;\n",
              "    }\n",
              "\n",
              "    .dataframe tbody tr th {\n",
              "        vertical-align: top;\n",
              "    }\n",
              "\n",
              "    .dataframe thead th {\n",
              "        text-align: right;\n",
              "    }\n",
              "\u003c/style\u003e\n",
              "\u003ctable border=\"1\" class=\"dataframe\"\u003e\n",
              "  \u003cthead\u003e\n",
              "    \u003ctr style=\"text-align: right;\"\u003e\n",
              "      \u003cth\u003e\u003c/th\u003e\n",
              "      \u003cth\u003etrain_n\u003c/th\u003e\n",
              "      \u003cth\u003eserve_n\u003c/th\u003e\n",
              "      \u003cth\u003etrain_pct\u003c/th\u003e\n",
              "      \u003cth\u003eserve_pct\u003c/th\u003e\n",
              "      \u003cth\u003eabs_change_pct\u003c/th\u003e\n",
              "    \u003c/tr\u003e\n",
              "  \u003c/thead\u003e\n",
              "  \u003ctbody\u003e\n",
              "    \u003ctr\u003e\n",
              "      \u003cth\u003eBiscoe\u003c/th\u003e\n",
              "      \u003ctd\u003e116\u003c/td\u003e\n",
              "      \u003ctd\u003e1054\u003c/td\u003e\n",
              "      \u003ctd\u003e0.487395\u003c/td\u003e\n",
              "      \u003ctd\u003e0.492754\u003c/td\u003e\n",
              "      \u003ctd\u003e0.005359\u003c/td\u003e\n",
              "    \u003c/tr\u003e\n",
              "    \u003ctr\u003e\n",
              "      \u003cth\u003eDream\u003c/th\u003e\n",
              "      \u003ctd\u003e86\u003c/td\u003e\n",
              "      \u003ctd\u003e682\u003c/td\u003e\n",
              "      \u003ctd\u003e0.361345\u003c/td\u003e\n",
              "      \u003ctd\u003e0.318841\u003c/td\u003e\n",
              "      \u003ctd\u003e0.042504\u003c/td\u003e\n",
              "    \u003c/tr\u003e\n",
              "    \u003ctr\u003e\n",
              "      \u003cth\u003eTorgersen\u003c/th\u003e\n",
              "      \u003ctd\u003e36\u003c/td\u003e\n",
              "      \u003ctd\u003e403\u003c/td\u003e\n",
              "      \u003ctd\u003e0.151261\u003c/td\u003e\n",
              "      \u003ctd\u003e0.188406\u003c/td\u003e\n",
              "      \u003ctd\u003e0.037145\u003c/td\u003e\n",
              "    \u003c/tr\u003e\n",
              "  \u003c/tbody\u003e\n",
              "\u003c/table\u003e\n",
              "\u003c/div\u003e"
            ],
            "text/plain": [
              "           train_n  serve_n  train_pct  serve_pct  abs_change_pct\n",
              "Biscoe         116     1054   0.487395   0.492754        0.005359\n",
              "Dream           86      682   0.361345   0.318841        0.042504\n",
              "Torgersen       36      403   0.151261   0.188406        0.037145"
            ]
          },
          "execution_count": 60,
          "metadata": {},
          "output_type": "execute_result"
        }
      ],
      "source": [
        "stats['abs_change_pct'] = abs(stats['train_pct'] - stats['serve_pct'])\n",
        "stats"
      ]
    },
    {
      "cell_type": "code",
      "execution_count": 61,
      "metadata": {
        "tags": [],
        "id": "C5lrv4ncxLVM"
      },
      "outputs": [
        {
          "data": {
            "text/plain": [
              "[Text(0, 0, '0.00535867'), Text(0, 0, '0.042504'), Text(0, 0, '0.0371453')]"
            ]
          },
          "execution_count": 61,
          "metadata": {},
          "output_type": "execute_result"
        },
        {
          "data": {
            "image/png": "[encoded data removed]",
            "text/plain": [
              "\u003cFigure size 640x480 with 1 Axes\u003e"
            ]
          },
          "metadata": {},
          "output_type": "display_data"
        }
      ],
      "source": [
        "ax = stats['abs_change_pct'].plot.bar()\n",
        "ax.bar_label(ax.containers[0])"
      ]
    },
    {
      "cell_type": "code",
      "execution_count": 62,
      "metadata": {
        "tags": [],
        "id": "HVYgjvVvxLVM"
      },
      "outputs": [
        {
          "name": "stdout",
          "output_type": "stream",
          "text": [
            "The max change in percentage(L-Infinity Distance) is 0.04250395810498114\n"
          ]
        }
      ],
      "source": [
        "print(f\"The max change in percentage(L-Infinity Distance) is {max(stats['abs_change_pct'])}\")"
      ]
    },
    {
      "cell_type": "markdown",
      "metadata": {
        "id": "ehOoYfEMxLVM"
      },
      "source": [
        "### Jensen-Shannon Divergence"
      ]
    },
    {
      "cell_type": "code",
      "execution_count": 63,
      "metadata": {
        "tags": [],
        "id": "4bC9aOm7xLVM"
      },
      "outputs": [
        {
          "data": {
            "text/html": [
              "\u003cdiv\u003e\n",
              "\u003cstyle scoped\u003e\n",
              "    .dataframe tbody tr th:only-of-type {\n",
              "        vertical-align: middle;\n",
              "    }\n",
              "\n",
              "    .dataframe tbody tr th {\n",
              "        vertical-align: top;\n",
              "    }\n",
              "\n",
              "    .dataframe thead th {\n",
              "        text-align: right;\n",
              "    }\n",
              "\u003c/style\u003e\n",
              "\u003ctable border=\"1\" class=\"dataframe\"\u003e\n",
              "  \u003cthead\u003e\n",
              "    \u003ctr style=\"text-align: right;\"\u003e\n",
              "      \u003cth\u003e\u003c/th\u003e\n",
              "      \u003cth\u003etrain_n\u003c/th\u003e\n",
              "      \u003cth\u003eserve_n\u003c/th\u003e\n",
              "      \u003cth\u003etrain_pct\u003c/th\u003e\n",
              "      \u003cth\u003eserve_pct\u003c/th\u003e\n",
              "      \u003cth\u003eabs_change_pct\u003c/th\u003e\n",
              "      \u003cth\u003emix\u003c/th\u003e\n",
              "      \u003cth\u003etrain_kl\u003c/th\u003e\n",
              "      \u003cth\u003eserve_kl\u003c/th\u003e\n",
              "      \u003cth\u003eJSD\u003c/th\u003e\n",
              "    \u003c/tr\u003e\n",
              "  \u003c/thead\u003e\n",
              "  \u003ctbody\u003e\n",
              "    \u003ctr\u003e\n",
              "      \u003cth\u003eBiscoe\u003c/th\u003e\n",
              "      \u003ctd\u003e116\u003c/td\u003e\n",
              "      \u003ctd\u003e1054\u003c/td\u003e\n",
              "      \u003ctd\u003e0.487395\u003c/td\u003e\n",
              "      \u003ctd\u003e0.492754\u003c/td\u003e\n",
              "      \u003ctd\u003e0.005359\u003c/td\u003e\n",
              "      \u003ctd\u003e0.490074\u003c/td\u003e\n",
              "      \u003ctd\u003e-0.003855\u003c/td\u003e\n",
              "      \u003ctd\u003e0.003876\u003c/td\u003e\n",
              "      \u003ctd\u003e0.000011\u003c/td\u003e\n",
              "    \u003c/tr\u003e\n",
              "    \u003ctr\u003e\n",
              "      \u003cth\u003eDream\u003c/th\u003e\n",
              "      \u003ctd\u003e86\u003c/td\u003e\n",
              "      \u003ctd\u003e682\u003c/td\u003e\n",
              "      \u003ctd\u003e0.361345\u003c/td\u003e\n",
              "      \u003ctd\u003e0.318841\u003c/td\u003e\n",
              "      \u003ctd\u003e0.042504\u003c/td\u003e\n",
              "      \u003ctd\u003e0.340093\u003c/td\u003e\n",
              "      \u003ctd\u003e0.031599\u003c/td\u003e\n",
              "      \u003ctd\u003e-0.029682\u003c/td\u003e\n",
              "      \u003ctd\u003e0.000959\u003c/td\u003e\n",
              "    \u003c/tr\u003e\n",
              "    \u003ctr\u003e\n",
              "      \u003cth\u003eTorgersen\u003c/th\u003e\n",
              "      \u003ctd\u003e36\u003c/td\u003e\n",
              "      \u003ctd\u003e403\u003c/td\u003e\n",
              "      \u003ctd\u003e0.151261\u003c/td\u003e\n",
              "      \u003ctd\u003e0.188406\u003c/td\u003e\n",
              "      \u003ctd\u003e0.037145\u003c/td\u003e\n",
              "      \u003ctd\u003e0.169833\u003c/td\u003e\n",
              "      \u003ctd\u003e-0.025273\u003c/td\u003e\n",
              "      \u003ctd\u003e0.028209\u003c/td\u003e\n",
              "      \u003ctd\u003e0.001468\u003c/td\u003e\n",
              "    \u003c/tr\u003e\n",
              "  \u003c/tbody\u003e\n",
              "\u003c/table\u003e\n",
              "\u003c/div\u003e"
            ],
            "text/plain": [
              "           train_n  serve_n  train_pct  serve_pct  abs_change_pct       mix  \\\n",
              "Biscoe         116     1054   0.487395   0.492754        0.005359  0.490074   \n",
              "Dream           86      682   0.361345   0.318841        0.042504  0.340093   \n",
              "Torgersen       36      403   0.151261   0.188406        0.037145  0.169833   \n",
              "\n",
              "           train_kl  serve_kl       JSD  \n",
              "Biscoe    -0.003855  0.003876  0.000011  \n",
              "Dream      0.031599 -0.029682  0.000959  \n",
              "Torgersen -0.025273  0.028209  0.001468  "
            ]
          },
          "execution_count": 63,
          "metadata": {},
          "output_type": "execute_result"
        }
      ],
      "source": [
        "stats['mix'] = (stats['train_pct'] + stats['serve_pct']) / 2\n",
        "stats['train_kl'] = stats['train_pct'] * np.log2(stats['train_pct'] / stats['mix'])\n",
        "stats['serve_kl'] = stats['serve_pct'] * np.log2(stats['serve_pct'] / stats['mix'])\n",
        "stats['JSD'] = (stats['train_kl'] + stats['serve_kl']) / 2\n",
        "stats"
      ]
    },
    {
      "cell_type": "code",
      "execution_count": 64,
      "metadata": {
        "tags": [],
        "id": "LblWEfuRxLVM"
      },
      "outputs": [
        {
          "name": "stdout",
          "output_type": "stream",
          "text": [
            "The total for the Jansen-Shannon Divergence is 0.0024371908205822954\n"
          ]
        }
      ],
      "source": [
        "print(f\"The total for the Jansen-Shannon Divergence is {sum(stats['JSD'])}\")"
      ]
    },
    {
      "cell_type": "markdown",
      "metadata": {
        "id": "XvFEwy3PxLVM"
      },
      "source": [
        "### Verify Calculations with `ML.VALIDATE_DATA_DRIFT`"
      ]
    },
    {
      "cell_type": "code",
      "execution_count": 65,
      "metadata": {
        "tags": [],
        "id": "ESj7jrcdxLVM"
      },
      "outputs": [
        {
          "data": {
            "application/vnd.jupyter.widget-view+json": {
              "model_id": "c67a28f47e5e4fa78ff5bead7e1299b6",
              "version_major": 2,
              "version_minor": 0
            },
            "text/plain": [
              "Query is running:   0%|          |"
            ]
          },
          "metadata": {},
          "output_type": "display_data"
        },
        {
          "data": {
            "application/vnd.jupyter.widget-view+json": {
              "model_id": "7ec068d8da9c4ba59c0b6b5fe1453c61",
              "version_major": 2,
              "version_minor": 0
            },
            "text/plain": [
              "Downloading:   0%|          |"
            ]
          },
          "metadata": {},
          "output_type": "display_data"
        },
        {
          "data": {
            "text/html": [
              "\u003cdiv\u003e\n",
              "\u003cstyle scoped\u003e\n",
              "    .dataframe tbody tr th:only-of-type {\n",
              "        vertical-align: middle;\n",
              "    }\n",
              "\n",
              "    .dataframe tbody tr th {\n",
              "        vertical-align: top;\n",
              "    }\n",
              "\n",
              "    .dataframe thead th {\n",
              "        text-align: right;\n",
              "    }\n",
              "\u003c/style\u003e\n",
              "\u003ctable border=\"1\" class=\"dataframe\"\u003e\n",
              "  \u003cthead\u003e\n",
              "    \u003ctr style=\"text-align: right;\"\u003e\n",
              "      \u003cth\u003e\u003c/th\u003e\n",
              "      \u003cth\u003einput\u003c/th\u003e\n",
              "      \u003cth\u003emetric\u003c/th\u003e\n",
              "      \u003cth\u003ethreshold\u003c/th\u003e\n",
              "      \u003cth\u003evalue\u003c/th\u003e\n",
              "      \u003cth\u003eis_anomaly\u003c/th\u003e\n",
              "    \u003c/tr\u003e\n",
              "  \u003c/thead\u003e\n",
              "  \u003ctbody\u003e\n",
              "    \u003ctr\u003e\n",
              "      \u003cth\u003e0\u003c/th\u003e\n",
              "      \u003ctd\u003eisland\u003c/td\u003e\n",
              "      \u003ctd\u003eL_INFTY\u003c/td\u003e\n",
              "      \u003ctd\u003e0.3\u003c/td\u003e\n",
              "      \u003ctd\u003e0.042504\u003c/td\u003e\n",
              "      \u003ctd\u003eFalse\u003c/td\u003e\n",
              "    \u003c/tr\u003e\n",
              "  \u003c/tbody\u003e\n",
              "\u003c/table\u003e\n",
              "\u003c/div\u003e"
            ],
            "text/plain": [
              "    input   metric  threshold     value  is_anomaly\n",
              "0  island  L_INFTY        0.3  0.042504       False"
            ]
          },
          "execution_count": 65,
          "metadata": {},
          "output_type": "execute_result"
        }
      ],
      "source": [
        "%%bigquery\n",
        "SELECT *\n",
        "FROM ML.VALIDATE_DATA_DRIFT(\n",
        "    (\n",
        "        SELECT island\n",
        "        FROM `statmike-mlops-349915.bqml_model_monitoring.training_split`\n",
        "        WHERE splits = 'TRAIN'\n",
        "    ),\n",
        "    (\n",
        "        SELECT island\n",
        "        FROM `statmike-mlops-349915.bqml_model_monitoring.serving`\n",
        "    ),\n",
        "    STRUCT('L_INFTY' AS categorical_metric_type)\n",
        ")"
      ]
    },
    {
      "cell_type": "code",
      "execution_count": 66,
      "metadata": {
        "tags": [],
        "id": "_tpHjAaxxLVM"
      },
      "outputs": [
        {
          "name": "stdout",
          "output_type": "stream",
          "text": [
            "The max change in percentage(L-Infinity Distance) is 0.04250395810498114\n"
          ]
        }
      ],
      "source": [
        "print(f\"The max change in percentage(L-Infinity Distance) is {max(stats['abs_change_pct'])}\")"
      ]
    },
    {
      "cell_type": "code",
      "execution_count": 67,
      "metadata": {
        "tags": [],
        "id": "vl9yM5KaxLVM"
      },
      "outputs": [
        {
          "data": {
            "application/vnd.jupyter.widget-view+json": {
              "model_id": "35d6f95e8ea04d32b0b843a9c787d0c9",
              "version_major": 2,
              "version_minor": 0
            },
            "text/plain": [
              "Query is running:   0%|          |"
            ]
          },
          "metadata": {},
          "output_type": "display_data"
        },
        {
          "data": {
            "application/vnd.jupyter.widget-view+json": {
              "model_id": "4e50263f3cac4c38b002d282ddda5c56",
              "version_major": 2,
              "version_minor": 0
            },
            "text/plain": [
              "Downloading:   0%|          |"
            ]
          },
          "metadata": {},
          "output_type": "display_data"
        },
        {
          "data": {
            "text/html": [
              "\u003cdiv\u003e\n",
              "\u003cstyle scoped\u003e\n",
              "    .dataframe tbody tr th:only-of-type {\n",
              "        vertical-align: middle;\n",
              "    }\n",
              "\n",
              "    .dataframe tbody tr th {\n",
              "        vertical-align: top;\n",
              "    }\n",
              "\n",
              "    .dataframe thead th {\n",
              "        text-align: right;\n",
              "    }\n",
              "\u003c/style\u003e\n",
              "\u003ctable border=\"1\" class=\"dataframe\"\u003e\n",
              "  \u003cthead\u003e\n",
              "    \u003ctr style=\"text-align: right;\"\u003e\n",
              "      \u003cth\u003e\u003c/th\u003e\n",
              "      \u003cth\u003einput\u003c/th\u003e\n",
              "      \u003cth\u003emetric\u003c/th\u003e\n",
              "      \u003cth\u003ethreshold\u003c/th\u003e\n",
              "      \u003cth\u003evalue\u003c/th\u003e\n",
              "      \u003cth\u003eis_anomaly\u003c/th\u003e\n",
              "    \u003c/tr\u003e\n",
              "  \u003c/thead\u003e\n",
              "  \u003ctbody\u003e\n",
              "    \u003ctr\u003e\n",
              "      \u003cth\u003e0\u003c/th\u003e\n",
              "      \u003ctd\u003eisland\u003c/td\u003e\n",
              "      \u003ctd\u003eJENSEN_SHANNON_DIVERGENCE\u003c/td\u003e\n",
              "      \u003ctd\u003e0.3\u003c/td\u003e\n",
              "      \u003ctd\u003e0.002437\u003c/td\u003e\n",
              "      \u003ctd\u003eFalse\u003c/td\u003e\n",
              "    \u003c/tr\u003e\n",
              "  \u003c/tbody\u003e\n",
              "\u003c/table\u003e\n",
              "\u003c/div\u003e"
            ],
            "text/plain": [
              "    input                     metric  threshold     value  is_anomaly\n",
              "0  island  JENSEN_SHANNON_DIVERGENCE        0.3  0.002437       False"
            ]
          },
          "execution_count": 67,
          "metadata": {},
          "output_type": "execute_result"
        }
      ],
      "source": [
        "%%bigquery\n",
        "SELECT *\n",
        "FROM ML.VALIDATE_DATA_DRIFT(\n",
        "    (\n",
        "        SELECT island\n",
        "        FROM `statmike-mlops-349915.bqml_model_monitoring.training_split`\n",
        "        WHERE splits = 'TRAIN'\n",
        "    ),\n",
        "    (\n",
        "        SELECT island\n",
        "        FROM `statmike-mlops-349915.bqml_model_monitoring.serving`\n",
        "    ),\n",
        "    STRUCT('JENSEN_SHANNON_DIVERGENCE' AS categorical_metric_type)\n",
        ")"
      ]
    },
    {
      "cell_type": "code",
      "execution_count": 68,
      "metadata": {
        "tags": [],
        "id": "bdhhX8L4xLVM"
      },
      "outputs": [
        {
          "name": "stdout",
          "output_type": "stream",
          "text": [
            "The total for the Jansen-Shannon Divergence is 0.0024371908205822954\n"
          ]
        }
      ],
      "source": [
        "print(f\"The total for the Jansen-Shannon Divergence is {sum(stats['JSD'])}\")"
      ]
    },
    {
      "cell_type": "markdown",
      "metadata": {
        "id": "1FJ2SZ0XxLVM"
      },
      "source": [
        "---\n",
        "## More Applications For Model Monitoring"
      ]
    },
    {
      "cell_type": "markdown",
      "metadata": {
        "id": "AsFGk1nUxLVM"
      },
      "source": [
        "---\n",
        "### Monitoring Transformed Features\n",
        "\n",
        "The [`CREATE MODEL`](https://cloud.google.com/bigquery/docs/reference/standard-sql/bigqueryml-syntax-create) statement included a [`TRANSFORM`](https://cloud.google.com/bigquery/docs/reference/standard-sql/bigqueryml-syntax-create#transform).  This is available to be called directly for input data with the [`ML.TRANSFORM`](https://cloud.google.com/bigquery/docs/reference/standard-sql/bigqueryml-syntax-transform) function.  This can be useful for considering monitoring the transformed features."
      ]
    },
    {
      "cell_type": "markdown",
      "metadata": {
        "id": "s0dsoxxIxLVM"
      },
      "source": [
        "#### Transformations With `ML.TRANSFORM`"
      ]
    },
    {
      "cell_type": "code",
      "execution_count": 69,
      "metadata": {
        "tags": [],
        "id": "eAhIwFzNxLVM"
      },
      "outputs": [
        {
          "data": {
            "application/vnd.jupyter.widget-view+json": {
              "model_id": "4eaea820a9d04dea923a2a76da66ef54",
              "version_major": 2,
              "version_minor": 0
            },
            "text/plain": [
              "Query is running:   0%|          |"
            ]
          },
          "metadata": {},
          "output_type": "display_data"
        },
        {
          "data": {
            "application/vnd.jupyter.widget-view+json": {
              "model_id": "01d4242dd4f3485f898ff584f749175b",
              "version_major": 2,
              "version_minor": 0
            },
            "text/plain": [
              "Downloading:   0%|          |"
            ]
          },
          "metadata": {},
          "output_type": "display_data"
        },
        {
          "data": {
            "text/html": [
              "\u003cdiv\u003e\n",
              "\u003cstyle scoped\u003e\n",
              "    .dataframe tbody tr th:only-of-type {\n",
              "        vertical-align: middle;\n",
              "    }\n",
              "\n",
              "    .dataframe tbody tr th {\n",
              "        vertical-align: top;\n",
              "    }\n",
              "\n",
              "    .dataframe thead th {\n",
              "        text-align: right;\n",
              "    }\n",
              "\u003c/style\u003e\n",
              "\u003ctable border=\"1\" class=\"dataframe\"\u003e\n",
              "  \u003cthead\u003e\n",
              "    \u003ctr style=\"text-align: right;\"\u003e\n",
              "      \u003cth\u003e\u003c/th\u003e\n",
              "      \u003cth\u003ebody_mass_g\u003c/th\u003e\n",
              "      \u003cth\u003eculmen_length_mm\u003c/th\u003e\n",
              "      \u003cth\u003eculmen_depth_mm\u003c/th\u003e\n",
              "      \u003cth\u003eflipper_length_mm\u003c/th\u003e\n",
              "      \u003cth\u003esex\u003c/th\u003e\n",
              "      \u003cth\u003eisland\u003c/th\u003e\n",
              "      \u003cth\u003especies\u003c/th\u003e\n",
              "      \u003cth\u003einstance_timestamp\u003c/th\u003e\n",
              "    \u003c/tr\u003e\n",
              "  \u003c/thead\u003e\n",
              "  \u003ctbody\u003e\n",
              "    \u003ctr\u003e\n",
              "      \u003cth\u003e0\u003c/th\u003e\n",
              "      \u003ctd\u003e0.891275\u003c/td\u003e\n",
              "      \u003ctd\u003e0.132769\u003c/td\u003e\n",
              "      \u003ctd\u003e-1.432310\u003c/td\u003e\n",
              "      \u003ctd\u003ebin_3\u003c/td\u003e\n",
              "      \u003ctd\u003eFEMALE\u003c/td\u003e\n",
              "      \u003ctd\u003eBiscoe\u003c/td\u003e\n",
              "      \u003ctd\u003eGentoo penguin (Pygoscelis papua)\u003c/td\u003e\n",
              "      \u003ctd\u003e2024-04-18 00:00:00+00:00\u003c/td\u003e\n",
              "    \u003c/tr\u003e\n",
              "    \u003ctr\u003e\n",
              "      \u003cth\u003e1\u003c/th\u003e\n",
              "      \u003ctd\u003eNaN\u003c/td\u003e\n",
              "      \u003ctd\u003eNaN\u003c/td\u003e\n",
              "      \u003ctd\u003eNaN\u003c/td\u003e\n",
              "      \u003ctd\u003eNone\u003c/td\u003e\n",
              "      \u003ctd\u003eFEMALE\u003c/td\u003e\n",
              "      \u003ctd\u003eBiscoe\u003c/td\u003e\n",
              "      \u003ctd\u003eGentoo penguin (Pygoscelis papua)\u003c/td\u003e\n",
              "      \u003ctd\u003e2024-04-18 00:00:00+00:00\u003c/td\u003e\n",
              "    \u003c/tr\u003e\n",
              "    \u003ctr\u003e\n",
              "      \u003cth\u003e2\u003c/th\u003e\n",
              "      \u003ctd\u003e0.668453\u003c/td\u003e\n",
              "      \u003ctd\u003e-1.829147\u003c/td\u003e\n",
              "      \u003ctd\u003e0.487270\u003c/td\u003e\n",
              "      \u003ctd\u003ebin_3\u003c/td\u003e\n",
              "      \u003ctd\u003eFEMALE\u003c/td\u003e\n",
              "      \u003ctd\u003eTorgersen\u003c/td\u003e\n",
              "      \u003ctd\u003eAdelie Penguin (Pygoscelis adeliae)\u003c/td\u003e\n",
              "      \u003ctd\u003e2024-04-18 00:00:00+00:00\u003c/td\u003e\n",
              "    \u003c/tr\u003e\n",
              "    \u003ctr\u003e\n",
              "      \u003cth\u003e3\u003c/th\u003e\n",
              "      \u003ctd\u003e1.031657\u003c/td\u003e\n",
              "      \u003ctd\u003e-0.338846\u003c/td\u003e\n",
              "      \u003ctd\u003e1.548091\u003c/td\u003e\n",
              "      \u003ctd\u003ebin_3\u003c/td\u003e\n",
              "      \u003ctd\u003eFEMALE\u003c/td\u003e\n",
              "      \u003ctd\u003eTorgersen\u003c/td\u003e\n",
              "      \u003ctd\u003eAdelie Penguin (Pygoscelis adeliae)\u003c/td\u003e\n",
              "      \u003ctd\u003e2024-04-18 00:00:00+00:00\u003c/td\u003e\n",
              "    \u003c/tr\u003e\n",
              "    \u003ctr\u003e\n",
              "      \u003cth\u003e4\u003c/th\u003e\n",
              "      \u003ctd\u003e1.552640\u003c/td\u003e\n",
              "      \u003ctd\u003e1.189185\u003c/td\u003e\n",
              "      \u003ctd\u003e-1.078703\u003c/td\u003e\n",
              "      \u003ctd\u003ebin_3\u003c/td\u003e\n",
              "      \u003ctd\u003eMALE\u003c/td\u003e\n",
              "      \u003ctd\u003eBiscoe\u003c/td\u003e\n",
              "      \u003ctd\u003eGentoo penguin (Pygoscelis papua)\u003c/td\u003e\n",
              "      \u003ctd\u003e2024-04-18 00:00:00+00:00\u003c/td\u003e\n",
              "    \u003c/tr\u003e\n",
              "  \u003c/tbody\u003e\n",
              "\u003c/table\u003e\n",
              "\u003c/div\u003e"
            ],
            "text/plain": [
              "   body_mass_g  culmen_length_mm  culmen_depth_mm flipper_length_mm     sex  \\\n",
              "0     0.891275          0.132769        -1.432310             bin_3  FEMALE   \n",
              "1          NaN               NaN              NaN              None  FEMALE   \n",
              "2     0.668453         -1.829147         0.487270             bin_3  FEMALE   \n",
              "3     1.031657         -0.338846         1.548091             bin_3  FEMALE   \n",
              "4     1.552640          1.189185        -1.078703             bin_3    MALE   \n",
              "\n",
              "      island                              species        instance_timestamp  \n",
              "0     Biscoe    Gentoo penguin (Pygoscelis papua) 2024-04-18 00:00:00+00:00  \n",
              "1     Biscoe    Gentoo penguin (Pygoscelis papua) 2024-04-18 00:00:00+00:00  \n",
              "2  Torgersen  Adelie Penguin (Pygoscelis adeliae) 2024-04-18 00:00:00+00:00  \n",
              "3  Torgersen  Adelie Penguin (Pygoscelis adeliae) 2024-04-18 00:00:00+00:00  \n",
              "4     Biscoe    Gentoo penguin (Pygoscelis papua) 2024-04-18 00:00:00+00:00  "
            ]
          },
          "execution_count": 69,
          "metadata": {},
          "output_type": "execute_result"
        }
      ],
      "source": [
        "%%bigquery\n",
        "SELECT *\n",
        "FROM ML.TRANSFORM(\n",
        "    MODEL `statmike-mlops-349915.bqml_model_monitoring.classify_species_rf`,\n",
        "    (\n",
        "        SELECT *\n",
        "        FROM `statmike-mlops-349915.bqml_model_monitoring.serving`\n",
        "        LIMIT 5\n",
        "    )\n",
        ")"
      ]
    },
    {
      "cell_type": "markdown",
      "metadata": {
        "id": "btM5KOpDxLVM"
      },
      "source": [
        "#### Monitoring Skew (Manually) - As Drift from Training Data With `ML.VALIDATE_DATA_DRIFT`\n",
        "\n",
        "Compare today, or any data, to the training data by directly comparing to the the model created in BigQuery."
      ]
    },
    {
      "cell_type": "code",
      "execution_count": 70,
      "metadata": {
        "tags": [],
        "id": "ULW1asARxLVM"
      },
      "outputs": [
        {
          "data": {
            "application/vnd.jupyter.widget-view+json": {
              "model_id": "d0aa67047e624524b0258eb8291248b6",
              "version_major": 2,
              "version_minor": 0
            },
            "text/plain": [
              "Query is running:   0%|          |"
            ]
          },
          "metadata": {},
          "output_type": "display_data"
        },
        {
          "data": {
            "application/vnd.jupyter.widget-view+json": {
              "model_id": "bbe82f6836784e99a4c71fbb65733555",
              "version_major": 2,
              "version_minor": 0
            },
            "text/plain": [
              "Downloading:   0%|          |"
            ]
          },
          "metadata": {},
          "output_type": "display_data"
        },
        {
          "data": {
            "text/html": [
              "\u003cdiv\u003e\n",
              "\u003cstyle scoped\u003e\n",
              "    .dataframe tbody tr th:only-of-type {\n",
              "        vertical-align: middle;\n",
              "    }\n",
              "\n",
              "    .dataframe tbody tr th {\n",
              "        vertical-align: top;\n",
              "    }\n",
              "\n",
              "    .dataframe thead th {\n",
              "        text-align: right;\n",
              "    }\n",
              "\u003c/style\u003e\n",
              "\u003ctable border=\"1\" class=\"dataframe\"\u003e\n",
              "  \u003cthead\u003e\n",
              "    \u003ctr style=\"text-align: right;\"\u003e\n",
              "      \u003cth\u003e\u003c/th\u003e\n",
              "      \u003cth\u003einput\u003c/th\u003e\n",
              "      \u003cth\u003emetric\u003c/th\u003e\n",
              "      \u003cth\u003ethreshold\u003c/th\u003e\n",
              "      \u003cth\u003evalue\u003c/th\u003e\n",
              "      \u003cth\u003eis_anomaly\u003c/th\u003e\n",
              "    \u003c/tr\u003e\n",
              "  \u003c/thead\u003e\n",
              "  \u003ctbody\u003e\n",
              "    \u003ctr\u003e\n",
              "      \u003cth\u003e0\u003c/th\u003e\n",
              "      \u003ctd\u003ebody_mass_g\u003c/td\u003e\n",
              "      \u003ctd\u003eJENSEN_SHANNON_DIVERGENCE\u003c/td\u003e\n",
              "      \u003ctd\u003e0.3\u003c/td\u003e\n",
              "      \u003ctd\u003e0.740493\u003c/td\u003e\n",
              "      \u003ctd\u003eTrue\u003c/td\u003e\n",
              "    \u003c/tr\u003e\n",
              "    \u003ctr\u003e\n",
              "      \u003cth\u003e1\u003c/th\u003e\n",
              "      \u003ctd\u003eculmen_depth_mm\u003c/td\u003e\n",
              "      \u003ctd\u003eJENSEN_SHANNON_DIVERGENCE\u003c/td\u003e\n",
              "      \u003ctd\u003e0.3\u003c/td\u003e\n",
              "      \u003ctd\u003e0.087689\u003c/td\u003e\n",
              "      \u003ctd\u003eFalse\u003c/td\u003e\n",
              "    \u003c/tr\u003e\n",
              "    \u003ctr\u003e\n",
              "      \u003cth\u003e2\u003c/th\u003e\n",
              "      \u003ctd\u003eculmen_length_mm\u003c/td\u003e\n",
              "      \u003ctd\u003eJENSEN_SHANNON_DIVERGENCE\u003c/td\u003e\n",
              "      \u003ctd\u003e0.3\u003c/td\u003e\n",
              "      \u003ctd\u003e0.269247\u003c/td\u003e\n",
              "      \u003ctd\u003eFalse\u003c/td\u003e\n",
              "    \u003c/tr\u003e\n",
              "    \u003ctr\u003e\n",
              "      \u003cth\u003e3\u003c/th\u003e\n",
              "      \u003ctd\u003eflipper_length_mm\u003c/td\u003e\n",
              "      \u003ctd\u003eL_INFTY\u003c/td\u003e\n",
              "      \u003ctd\u003e0.3\u003c/td\u003e\n",
              "      \u003ctd\u003e0.641350\u003c/td\u003e\n",
              "      \u003ctd\u003eTrue\u003c/td\u003e\n",
              "    \u003c/tr\u003e\n",
              "    \u003ctr\u003e\n",
              "      \u003cth\u003e4\u003c/th\u003e\n",
              "      \u003ctd\u003eisland\u003c/td\u003e\n",
              "      \u003ctd\u003eL_INFTY\u003c/td\u003e\n",
              "      \u003ctd\u003e0.3\u003c/td\u003e\n",
              "      \u003ctd\u003e0.042504\u003c/td\u003e\n",
              "      \u003ctd\u003eFalse\u003c/td\u003e\n",
              "    \u003c/tr\u003e\n",
              "    \u003ctr\u003e\n",
              "      \u003cth\u003e5\u003c/th\u003e\n",
              "      \u003ctd\u003esex\u003c/td\u003e\n",
              "      \u003ctd\u003eL_INFTY\u003c/td\u003e\n",
              "      \u003ctd\u003e0.3\u003c/td\u003e\n",
              "      \u003ctd\u003e0.088540\u003c/td\u003e\n",
              "      \u003ctd\u003eFalse\u003c/td\u003e\n",
              "    \u003c/tr\u003e\n",
              "    \u003ctr\u003e\n",
              "      \u003cth\u003e6\u003c/th\u003e\n",
              "      \u003ctd\u003especies\u003c/td\u003e\n",
              "      \u003ctd\u003eL_INFTY\u003c/td\u003e\n",
              "      \u003ctd\u003e0.3\u003c/td\u003e\n",
              "      \u003ctd\u003e0.066070\u003c/td\u003e\n",
              "      \u003ctd\u003eFalse\u003c/td\u003e\n",
              "    \u003c/tr\u003e\n",
              "  \u003c/tbody\u003e\n",
              "\u003c/table\u003e\n",
              "\u003c/div\u003e"
            ],
            "text/plain": [
              "               input                     metric  threshold     value  \\\n",
              "0        body_mass_g  JENSEN_SHANNON_DIVERGENCE        0.3  0.740493   \n",
              "1    culmen_depth_mm  JENSEN_SHANNON_DIVERGENCE        0.3  0.087689   \n",
              "2   culmen_length_mm  JENSEN_SHANNON_DIVERGENCE        0.3  0.269247   \n",
              "3  flipper_length_mm                    L_INFTY        0.3  0.641350   \n",
              "4             island                    L_INFTY        0.3  0.042504   \n",
              "5                sex                    L_INFTY        0.3  0.088540   \n",
              "6            species                    L_INFTY        0.3  0.066070   \n",
              "\n",
              "   is_anomaly  \n",
              "0        True  \n",
              "1       False  \n",
              "2       False  \n",
              "3        True  \n",
              "4       False  \n",
              "5       False  \n",
              "6       False  "
            ]
          },
          "execution_count": 70,
          "metadata": {},
          "output_type": "execute_result"
        }
      ],
      "source": [
        "%%bigquery\n",
        "SELECT *\n",
        "FROM ML.VALIDATE_DATA_DRIFT(\n",
        "    (\n",
        "        SELECT *\n",
        "        FROM ML.TRANSFORM(\n",
        "            MODEL `statmike-mlops-349915.bqml_model_monitoring.classify_species_rf`,\n",
        "            (\n",
        "                SELECT *\n",
        "                FROM `statmike-mlops-349915.bqml_model_monitoring.training_split`\n",
        "                WHERE splits = 'TRAIN'\n",
        "            )\n",
        "        )\n",
        "    ),\n",
        "    (\n",
        "        SELECT *\n",
        "        FROM ML.TRANSFORM(\n",
        "            MODEL `statmike-mlops-349915.bqml_model_monitoring.classify_species_rf`,\n",
        "            (\n",
        "                SELECT *\n",
        "                FROM `statmike-mlops-349915.bqml_model_monitoring.serving`\n",
        "                WHERE DATE(instance_timestamp) \u003e= CURRENT_DATE()\n",
        "            )\n",
        "        )\n",
        "    )\n",
        ");"
      ]
    },
    {
      "cell_type": "markdown",
      "metadata": {
        "id": "UEx4YZUtxLVM"
      },
      "source": [
        "#### Monitoring Drift (Change Over Time) With `ML.VALIDATE_DATA_DRIFT`\n",
        "\n",
        "Compare today to 5 days ago and set the a lower, more sensitive, threshold of `0.03` (default is `0.3`) for all features."
      ]
    },
    {
      "cell_type": "code",
      "execution_count": 71,
      "metadata": {
        "tags": [],
        "id": "MrnUQbh4xLVM"
      },
      "outputs": [
        {
          "data": {
            "application/vnd.jupyter.widget-view+json": {
              "model_id": "3347d2e1f3f0412db64483f91b096216",
              "version_major": 2,
              "version_minor": 0
            },
            "text/plain": [
              "Query is running:   0%|          |"
            ]
          },
          "metadata": {},
          "output_type": "display_data"
        },
        {
          "data": {
            "application/vnd.jupyter.widget-view+json": {
              "model_id": "45497cfa7f77469b9fe761726b1fff9f",
              "version_major": 2,
              "version_minor": 0
            },
            "text/plain": [
              "Downloading:   0%|          |"
            ]
          },
          "metadata": {},
          "output_type": "display_data"
        },
        {
          "data": {
            "text/html": [
              "\u003cdiv\u003e\n",
              "\u003cstyle scoped\u003e\n",
              "    .dataframe tbody tr th:only-of-type {\n",
              "        vertical-align: middle;\n",
              "    }\n",
              "\n",
              "    .dataframe tbody tr th {\n",
              "        vertical-align: top;\n",
              "    }\n",
              "\n",
              "    .dataframe thead th {\n",
              "        text-align: right;\n",
              "    }\n",
              "\u003c/style\u003e\n",
              "\u003ctable border=\"1\" class=\"dataframe\"\u003e\n",
              "  \u003cthead\u003e\n",
              "    \u003ctr style=\"text-align: right;\"\u003e\n",
              "      \u003cth\u003e\u003c/th\u003e\n",
              "      \u003cth\u003einput\u003c/th\u003e\n",
              "      \u003cth\u003emetric\u003c/th\u003e\n",
              "      \u003cth\u003ethreshold\u003c/th\u003e\n",
              "      \u003cth\u003evalue\u003c/th\u003e\n",
              "      \u003cth\u003eis_anomaly\u003c/th\u003e\n",
              "    \u003c/tr\u003e\n",
              "  \u003c/thead\u003e\n",
              "  \u003ctbody\u003e\n",
              "    \u003ctr\u003e\n",
              "      \u003cth\u003e0\u003c/th\u003e\n",
              "      \u003ctd\u003ebody_mass_g\u003c/td\u003e\n",
              "      \u003ctd\u003eJENSEN_SHANNON_DIVERGENCE\u003c/td\u003e\n",
              "      \u003ctd\u003e0.03\u003c/td\u003e\n",
              "      \u003ctd\u003e0.059447\u003c/td\u003e\n",
              "      \u003ctd\u003eTrue\u003c/td\u003e\n",
              "    \u003c/tr\u003e\n",
              "    \u003ctr\u003e\n",
              "      \u003cth\u003e1\u003c/th\u003e\n",
              "      \u003ctd\u003eculmen_depth_mm\u003c/td\u003e\n",
              "      \u003ctd\u003eJENSEN_SHANNON_DIVERGENCE\u003c/td\u003e\n",
              "      \u003ctd\u003e0.03\u003c/td\u003e\n",
              "      \u003ctd\u003e0.000000\u003c/td\u003e\n",
              "      \u003ctd\u003eFalse\u003c/td\u003e\n",
              "    \u003c/tr\u003e\n",
              "    \u003ctr\u003e\n",
              "      \u003cth\u003e2\u003c/th\u003e\n",
              "      \u003ctd\u003eculmen_length_mm\u003c/td\u003e\n",
              "      \u003ctd\u003eJENSEN_SHANNON_DIVERGENCE\u003c/td\u003e\n",
              "      \u003ctd\u003e0.03\u003c/td\u003e\n",
              "      \u003ctd\u003e0.000000\u003c/td\u003e\n",
              "      \u003ctd\u003eFalse\u003c/td\u003e\n",
              "    \u003c/tr\u003e\n",
              "    \u003ctr\u003e\n",
              "      \u003cth\u003e3\u003c/th\u003e\n",
              "      \u003ctd\u003eflipper_length_mm\u003c/td\u003e\n",
              "      \u003ctd\u003eL_INFTY\u003c/td\u003e\n",
              "      \u003ctd\u003e0.03\u003c/td\u003e\n",
              "      \u003ctd\u003e0.000000\u003c/td\u003e\n",
              "      \u003ctd\u003eFalse\u003c/td\u003e\n",
              "    \u003c/tr\u003e\n",
              "    \u003ctr\u003e\n",
              "      \u003cth\u003e4\u003c/th\u003e\n",
              "      \u003ctd\u003einstance_timestamp\u003c/td\u003e\n",
              "      \u003ctd\u003eL_INFTY\u003c/td\u003e\n",
              "      \u003ctd\u003e0.03\u003c/td\u003e\n",
              "      \u003ctd\u003e1.000000\u003c/td\u003e\n",
              "      \u003ctd\u003eTrue\u003c/td\u003e\n",
              "    \u003c/tr\u003e\n",
              "    \u003ctr\u003e\n",
              "      \u003cth\u003e5\u003c/th\u003e\n",
              "      \u003ctd\u003eisland\u003c/td\u003e\n",
              "      \u003ctd\u003eL_INFTY\u003c/td\u003e\n",
              "      \u003ctd\u003e0.03\u003c/td\u003e\n",
              "      \u003ctd\u003e0.000000\u003c/td\u003e\n",
              "      \u003ctd\u003eFalse\u003c/td\u003e\n",
              "    \u003c/tr\u003e\n",
              "    \u003ctr\u003e\n",
              "      \u003cth\u003e6\u003c/th\u003e\n",
              "      \u003ctd\u003esex\u003c/td\u003e\n",
              "      \u003ctd\u003eL_INFTY\u003c/td\u003e\n",
              "      \u003ctd\u003e0.03\u003c/td\u003e\n",
              "      \u003ctd\u003e0.000000\u003c/td\u003e\n",
              "      \u003ctd\u003eFalse\u003c/td\u003e\n",
              "    \u003c/tr\u003e\n",
              "    \u003ctr\u003e\n",
              "      \u003cth\u003e7\u003c/th\u003e\n",
              "      \u003ctd\u003especies\u003c/td\u003e\n",
              "      \u003ctd\u003eL_INFTY\u003c/td\u003e\n",
              "      \u003ctd\u003e0.03\u003c/td\u003e\n",
              "      \u003ctd\u003e0.000000\u003c/td\u003e\n",
              "      \u003ctd\u003eFalse\u003c/td\u003e\n",
              "    \u003c/tr\u003e\n",
              "  \u003c/tbody\u003e\n",
              "\u003c/table\u003e\n",
              "\u003c/div\u003e"
            ],
            "text/plain": [
              "                input                     metric  threshold     value  \\\n",
              "0         body_mass_g  JENSEN_SHANNON_DIVERGENCE       0.03  0.059447   \n",
              "1     culmen_depth_mm  JENSEN_SHANNON_DIVERGENCE       0.03  0.000000   \n",
              "2    culmen_length_mm  JENSEN_SHANNON_DIVERGENCE       0.03  0.000000   \n",
              "3   flipper_length_mm                    L_INFTY       0.03  0.000000   \n",
              "4  instance_timestamp                    L_INFTY       0.03  1.000000   \n",
              "5              island                    L_INFTY       0.03  0.000000   \n",
              "6                 sex                    L_INFTY       0.03  0.000000   \n",
              "7             species                    L_INFTY       0.03  0.000000   \n",
              "\n",
              "   is_anomaly  \n",
              "0        True  \n",
              "1       False  \n",
              "2       False  \n",
              "3       False  \n",
              "4        True  \n",
              "5       False  \n",
              "6       False  \n",
              "7       False  "
            ]
          },
          "execution_count": 71,
          "metadata": {},
          "output_type": "execute_result"
        }
      ],
      "source": [
        "%%bigquery\n",
        "SELECT *\n",
        "FROM ML.VALIDATE_DATA_DRIFT(\n",
        "    (\n",
        "        SELECT *\n",
        "        FROM ML.TRANSFORM(\n",
        "            MODEL `statmike-mlops-349915.bqml_model_monitoring.classify_species_rf`,\n",
        "            (\n",
        "                SELECT *\n",
        "                FROM `statmike-mlops-349915.bqml_model_monitoring.serving`\n",
        "                WHERE DATE(instance_timestamp) = DATE_SUB(CURRENT_DATE(), INTERVAL 5 DAY)\n",
        "            )\n",
        "        )\n",
        "    ),\n",
        "    (\n",
        "        SELECT *\n",
        "        FROM ML.TRANSFORM(\n",
        "            MODEL `statmike-mlops-349915.bqml_model_monitoring.classify_species_rf`,\n",
        "            (\n",
        "                SELECT *\n",
        "                FROM `statmike-mlops-349915.bqml_model_monitoring.serving`\n",
        "                WHERE DATE(instance_timestamp) \u003e= CURRENT_DATE()\n",
        "            )\n",
        "        )\n",
        "    ),\n",
        "    STRUCT(\n",
        "        0.03 AS categorical_default_threshold,\n",
        "        0.03 AS numerical_default_threshold\n",
        "    )\n",
        ")"
      ]
    },
    {
      "cell_type": "markdown",
      "metadata": {
        "tags": [],
        "id": "6JipjqrWxLVM"
      },
      "source": [
        "---\n",
        "### Monitoring Feature Attributions\n",
        "\n",
        "BigQuery ML models, like the deep neural network classifier (`model_type = 'DNN_CLASSIFIER'`) used above, can also serve explanations using the BigQuery function [`ML.EXPLAIN_PREDICT`](https://cloud.google.com/bigquery/docs/reference/standard-sql/bigqueryml-syntax-explain-predict).  This function returns feature attributions for each feature used in the model to explain how much contribution was made to the final prediction for a given instance.\n",
        "\n",
        "**Feature Attributions**\n",
        "\n",
        "The feature attributions from `ML.EXPLAIN_PREDICT` are [local explanations](https://cloud.google.com/bigquery/docs/xai-overview#local_versus_global_explainability), specific to the instance being predicted.  The attribution values are given for each feature and they add up to the `prediction_value`. In this case the model is a classifier and the `prediction_value` is the logit value (log-odds) of the predicted class.  "
      ]
    },
    {
      "cell_type": "markdown",
      "metadata": {
        "id": "MYd9Oj4QxLVM"
      },
      "source": [
        "#### Serving Feature Attributions\n",
        "\n",
        "As an example, the following cell gets the feature attributions for a single penguin with for the latest values of the features:"
      ]
    },
    {
      "cell_type": "code",
      "execution_count": 72,
      "metadata": {
        "tags": [],
        "id": "hkvRzx2bxLVM"
      },
      "outputs": [
        {
          "data": {
            "application/vnd.jupyter.widget-view+json": {
              "model_id": "59abb1aab2874061a6315c5a36d1dc24",
              "version_major": 2,
              "version_minor": 0
            },
            "text/plain": [
              "Query is running:   0%|          |"
            ]
          },
          "metadata": {},
          "output_type": "display_data"
        },
        {
          "data": {
            "application/vnd.jupyter.widget-view+json": {
              "model_id": "5ee203344a4c48c0b681ebef90cf8c6a",
              "version_major": 2,
              "version_minor": 0
            },
            "text/plain": [
              "Downloading:   0%|          |"
            ]
          },
          "metadata": {},
          "output_type": "display_data"
        },
        {
          "data": {
            "text/html": [
              "\u003cdiv\u003e\n",
              "\u003cstyle scoped\u003e\n",
              "    .dataframe tbody tr th:only-of-type {\n",
              "        vertical-align: middle;\n",
              "    }\n",
              "\n",
              "    .dataframe tbody tr th {\n",
              "        vertical-align: top;\n",
              "    }\n",
              "\n",
              "    .dataframe thead th {\n",
              "        text-align: right;\n",
              "    }\n",
              "\u003c/style\u003e\n",
              "\u003ctable border=\"1\" class=\"dataframe\"\u003e\n",
              "  \u003cthead\u003e\n",
              "    \u003ctr style=\"text-align: right;\"\u003e\n",
              "      \u003cth\u003e\u003c/th\u003e\n",
              "      \u003cth\u003epredicted_species\u003c/th\u003e\n",
              "      \u003cth\u003eprobability\u003c/th\u003e\n",
              "      \u003cth\u003ebaseline_prediction_value\u003c/th\u003e\n",
              "      \u003cth\u003eprediction_value\u003c/th\u003e\n",
              "      \u003cth\u003eapproximation_error\u003c/th\u003e\n",
              "      \u003cth\u003efeature\u003c/th\u003e\n",
              "      \u003cth\u003eattribution\u003c/th\u003e\n",
              "    \u003c/tr\u003e\n",
              "  \u003c/thead\u003e\n",
              "  \u003ctbody\u003e\n",
              "    \u003ctr\u003e\n",
              "      \u003cth\u003e0\u003c/th\u003e\n",
              "      \u003ctd\u003eGentoo penguin (Pygoscelis papua)\u003c/td\u003e\n",
              "      \u003ctd\u003e0.814165\u003c/td\u003e\n",
              "      \u003ctd\u003e0.546813\u003c/td\u003e\n",
              "      \u003ctd\u003e1.94978\u003c/td\u003e\n",
              "      \u003ctd\u003e0.0\u003c/td\u003e\n",
              "      \u003ctd\u003eflipper_length_mm\u003c/td\u003e\n",
              "      \u003ctd\u003e0.709371\u003c/td\u003e\n",
              "    \u003c/tr\u003e\n",
              "    \u003ctr\u003e\n",
              "      \u003cth\u003e1\u003c/th\u003e\n",
              "      \u003ctd\u003eGentoo penguin (Pygoscelis papua)\u003c/td\u003e\n",
              "      \u003ctd\u003e0.814165\u003c/td\u003e\n",
              "      \u003ctd\u003e0.546813\u003c/td\u003e\n",
              "      \u003ctd\u003e1.94978\u003c/td\u003e\n",
              "      \u003ctd\u003e0.0\u003c/td\u003e\n",
              "      \u003ctd\u003eculmen_depth_mm\u003c/td\u003e\n",
              "      \u003ctd\u003e0.495780\u003c/td\u003e\n",
              "    \u003c/tr\u003e\n",
              "    \u003ctr\u003e\n",
              "      \u003cth\u003e2\u003c/th\u003e\n",
              "      \u003ctd\u003eGentoo penguin (Pygoscelis papua)\u003c/td\u003e\n",
              "      \u003ctd\u003e0.814165\u003c/td\u003e\n",
              "      \u003ctd\u003e0.546813\u003c/td\u003e\n",
              "      \u003ctd\u003e1.94978\u003c/td\u003e\n",
              "      \u003ctd\u003e0.0\u003c/td\u003e\n",
              "      \u003ctd\u003ebody_mass_g\u003c/td\u003e\n",
              "      \u003ctd\u003e0.174635\u003c/td\u003e\n",
              "    \u003c/tr\u003e\n",
              "    \u003ctr\u003e\n",
              "      \u003cth\u003e3\u003c/th\u003e\n",
              "      \u003ctd\u003eGentoo penguin (Pygoscelis papua)\u003c/td\u003e\n",
              "      \u003ctd\u003e0.814165\u003c/td\u003e\n",
              "      \u003ctd\u003e0.546813\u003c/td\u003e\n",
              "      \u003ctd\u003e1.94978\u003c/td\u003e\n",
              "      \u003ctd\u003e0.0\u003c/td\u003e\n",
              "      \u003ctd\u003eculmen_length_mm\u003c/td\u003e\n",
              "      \u003ctd\u003e0.013566\u003c/td\u003e\n",
              "    \u003c/tr\u003e\n",
              "    \u003ctr\u003e\n",
              "      \u003cth\u003e4\u003c/th\u003e\n",
              "      \u003ctd\u003eGentoo penguin (Pygoscelis papua)\u003c/td\u003e\n",
              "      \u003ctd\u003e0.814165\u003c/td\u003e\n",
              "      \u003ctd\u003e0.546813\u003c/td\u003e\n",
              "      \u003ctd\u003e1.94978\u003c/td\u003e\n",
              "      \u003ctd\u003e0.0\u003c/td\u003e\n",
              "      \u003ctd\u003eisland\u003c/td\u003e\n",
              "      \u003ctd\u003e0.009056\u003c/td\u003e\n",
              "    \u003c/tr\u003e\n",
              "    \u003ctr\u003e\n",
              "      \u003cth\u003e5\u003c/th\u003e\n",
              "      \u003ctd\u003eGentoo penguin (Pygoscelis papua)\u003c/td\u003e\n",
              "      \u003ctd\u003e0.814165\u003c/td\u003e\n",
              "      \u003ctd\u003e0.546813\u003c/td\u003e\n",
              "      \u003ctd\u003e1.94978\u003c/td\u003e\n",
              "      \u003ctd\u003e0.0\u003c/td\u003e\n",
              "      \u003ctd\u003esex\u003c/td\u003e\n",
              "      \u003ctd\u003e0.000558\u003c/td\u003e\n",
              "    \u003c/tr\u003e\n",
              "  \u003c/tbody\u003e\n",
              "\u003c/table\u003e\n",
              "\u003c/div\u003e"
            ],
            "text/plain": [
              "                   predicted_species  probability  baseline_prediction_value  \\\n",
              "0  Gentoo penguin (Pygoscelis papua)     0.814165                   0.546813   \n",
              "1  Gentoo penguin (Pygoscelis papua)     0.814165                   0.546813   \n",
              "2  Gentoo penguin (Pygoscelis papua)     0.814165                   0.546813   \n",
              "3  Gentoo penguin (Pygoscelis papua)     0.814165                   0.546813   \n",
              "4  Gentoo penguin (Pygoscelis papua)     0.814165                   0.546813   \n",
              "5  Gentoo penguin (Pygoscelis papua)     0.814165                   0.546813   \n",
              "\n",
              "   prediction_value  approximation_error            feature  attribution  \n",
              "0           1.94978                  0.0  flipper_length_mm     0.709371  \n",
              "1           1.94978                  0.0    culmen_depth_mm     0.495780  \n",
              "2           1.94978                  0.0        body_mass_g     0.174635  \n",
              "3           1.94978                  0.0   culmen_length_mm     0.013566  \n",
              "4           1.94978                  0.0             island     0.009056  \n",
              "5           1.94978                  0.0                sex     0.000558  "
            ]
          },
          "execution_count": 72,
          "metadata": {},
          "output_type": "execute_result"
        }
      ],
      "source": [
        "%%bigquery\n",
        "WITH\n",
        "    EXPLAIN AS (\n",
        "        SELECT * EXCEPT(body_mass_g, sex, island, flipper_length_mm, culmen_depth_mm, culmen_length_mm)\n",
        "        FROM ML.EXPLAIN_PREDICT(\n",
        "            MODEL `statmike-mlops-349915.bqml_model_monitoring.classify_species_rf`,\n",
        "            (\n",
        "                SELECT * EXCEPT(instance_timestamp, species)\n",
        "                FROM `statmike-mlops-349915.bqml_model_monitoring.serving`\n",
        "                WHERE DATE(instance_timestamp) = CURRENT_DATE()\n",
        "                LIMIT 1\n",
        "            ), \n",
        "            STRUCT(10 AS top_k_features)\n",
        "        )\n",
        "    ),\n",
        "    ATTRIBUTIONS AS (\n",
        "        SELECT * EXCEPT(top_feature_attributions),\n",
        "        FROM EXPLAIN\n",
        "        JOIN UNNEST(top_feature_attributions)\n",
        "    )\n",
        "SELECT * \n",
        "FROM ATTRIBUTIONS"
      ]
    },
    {
      "cell_type": "markdown",
      "metadata": {
        "id": "dBbiLejrxLVM"
      },
      "source": [
        "#### Reviewing Feature Attributions\n",
        "\n",
        "Get attributions for all penguins:"
      ]
    },
    {
      "cell_type": "code",
      "execution_count": 73,
      "metadata": {
        "tags": [],
        "id": "snFO5mowxLVM"
      },
      "outputs": [
        {
          "data": {
            "application/vnd.jupyter.widget-view+json": {
              "model_id": "d1cd977dc3e745c0a28b33b17c769c90",
              "version_major": 2,
              "version_minor": 0
            },
            "text/plain": [
              "Query is running:   0%|          |"
            ]
          },
          "metadata": {},
          "output_type": "display_data"
        },
        {
          "data": {
            "application/vnd.jupyter.widget-view+json": {
              "model_id": "e83b6a923f4b43cdaa33daf9866347db",
              "version_major": 2,
              "version_minor": 0
            },
            "text/plain": [
              "Downloading:   0%|          |"
            ]
          },
          "metadata": {},
          "output_type": "display_data"
        }
      ],
      "source": [
        "%%bigquery explain\n",
        "WITH\n",
        "    EXPLAIN AS (\n",
        "        SELECT * EXCEPT(body_mass_g, sex, island, flipper_length_mm, culmen_depth_mm, culmen_length_mm)\n",
        "        FROM ML.EXPLAIN_PREDICT(\n",
        "            MODEL `statmike-mlops-349915.bqml_model_monitoring.classify_species_rf`,\n",
        "            (\n",
        "                SELECT * EXCEPT(instance_timestamp, species)\n",
        "                FROM `statmike-mlops-349915.bqml_model_monitoring.serving`\n",
        "                WHERE DATE(instance_timestamp) = CURRENT_DATE()\n",
        "            ), \n",
        "            STRUCT(10 AS top_k_features)\n",
        "        )\n",
        "    ),\n",
        "    ATTRIBUTIONS AS (\n",
        "        SELECT * EXCEPT(top_feature_attributions),\n",
        "        FROM EXPLAIN\n",
        "        JOIN UNNEST(top_feature_attributions)\n",
        "    ),\n",
        "    PIVOT_ATTRIBUTION AS (\n",
        "        SELECT body_mass_g, sex, island, flipper_length_mm, culmen_depth_mm, culmen_length_mm\n",
        "        FROM ATTRIBUTIONS PIVOT(MAX(attribution) FOR feature IN ('body_mass_g', 'sex', 'island', 'flipper_length_mm', 'culmen_depth_mm', 'culmen_length_mm'))\n",
        "    )\n",
        "SELECT *\n",
        "FROM PIVOT_ATTRIBUTION"
      ]
    },
    {
      "cell_type": "code",
      "execution_count": 74,
      "metadata": {
        "tags": [],
        "id": "_wHnt0xGxLVM"
      },
      "outputs": [
        {
          "data": {
            "text/html": [
              "\u003cdiv\u003e\n",
              "\u003cstyle scoped\u003e\n",
              "    .dataframe tbody tr th:only-of-type {\n",
              "        vertical-align: middle;\n",
              "    }\n",
              "\n",
              "    .dataframe tbody tr th {\n",
              "        vertical-align: top;\n",
              "    }\n",
              "\n",
              "    .dataframe thead th {\n",
              "        text-align: right;\n",
              "    }\n",
              "\u003c/style\u003e\n",
              "\u003ctable border=\"1\" class=\"dataframe\"\u003e\n",
              "  \u003cthead\u003e\n",
              "    \u003ctr style=\"text-align: right;\"\u003e\n",
              "      \u003cth\u003e\u003c/th\u003e\n",
              "      \u003cth\u003ebody_mass_g\u003c/th\u003e\n",
              "      \u003cth\u003esex\u003c/th\u003e\n",
              "      \u003cth\u003eisland\u003c/th\u003e\n",
              "      \u003cth\u003eflipper_length_mm\u003c/th\u003e\n",
              "      \u003cth\u003eculmen_depth_mm\u003c/th\u003e\n",
              "      \u003cth\u003eculmen_length_mm\u003c/th\u003e\n",
              "    \u003c/tr\u003e\n",
              "  \u003c/thead\u003e\n",
              "  \u003ctbody\u003e\n",
              "    \u003ctr\u003e\n",
              "      \u003cth\u003e0\u003c/th\u003e\n",
              "      \u003ctd\u003e-0.000922\u003c/td\u003e\n",
              "      \u003ctd\u003e-0.001108\u003c/td\u003e\n",
              "      \u003ctd\u003e0.171124\u003c/td\u003e\n",
              "      \u003ctd\u003e-0.464971\u003c/td\u003e\n",
              "      \u003ctd\u003e0.176994\u003c/td\u003e\n",
              "      \u003ctd\u003e0.565229\u003c/td\u003e\n",
              "    \u003c/tr\u003e\n",
              "    \u003ctr\u003e\n",
              "      \u003cth\u003e1\u003c/th\u003e\n",
              "      \u003ctd\u003e0.226313\u003c/td\u003e\n",
              "      \u003ctd\u003e-0.000169\u003c/td\u003e\n",
              "      \u003ctd\u003e0.011402\u003c/td\u003e\n",
              "      \u003ctd\u003e0.710311\u003c/td\u003e\n",
              "      \u003ctd\u003e0.442352\u003c/td\u003e\n",
              "      \u003ctd\u003e0.013318\u003c/td\u003e\n",
              "    \u003c/tr\u003e\n",
              "    \u003ctr\u003e\n",
              "      \u003cth\u003e2\u003c/th\u003e\n",
              "      \u003ctd\u003e0.386535\u003c/td\u003e\n",
              "      \u003ctd\u003e-0.000169\u003c/td\u003e\n",
              "      \u003ctd\u003e0.026905\u003c/td\u003e\n",
              "      \u003ctd\u003e0.687082\u003c/td\u003e\n",
              "      \u003ctd\u003e-0.471522\u003c/td\u003e\n",
              "      \u003ctd\u003e0.014066\u003c/td\u003e\n",
              "    \u003c/tr\u003e\n",
              "    \u003ctr\u003e\n",
              "      \u003cth\u003e3\u003c/th\u003e\n",
              "      \u003ctd\u003e0.247754\u003c/td\u003e\n",
              "      \u003ctd\u003e-0.000169\u003c/td\u003e\n",
              "      \u003ctd\u003e0.011402\u003c/td\u003e\n",
              "      \u003ctd\u003e0.710158\u003c/td\u003e\n",
              "      \u003ctd\u003e0.420504\u003c/td\u003e\n",
              "      \u003ctd\u003e0.013318\u003c/td\u003e\n",
              "    \u003c/tr\u003e\n",
              "    \u003ctr\u003e\n",
              "      \u003cth\u003e4\u003c/th\u003e\n",
              "      \u003ctd\u003e0.247754\u003c/td\u003e\n",
              "      \u003ctd\u003e-0.000169\u003c/td\u003e\n",
              "      \u003ctd\u003e0.011402\u003c/td\u003e\n",
              "      \u003ctd\u003e0.710158\u003c/td\u003e\n",
              "      \u003ctd\u003e0.420504\u003c/td\u003e\n",
              "      \u003ctd\u003e0.013318\u003c/td\u003e\n",
              "    \u003c/tr\u003e\n",
              "  \u003c/tbody\u003e\n",
              "\u003c/table\u003e\n",
              "\u003c/div\u003e"
            ],
            "text/plain": [
              "   body_mass_g       sex    island  flipper_length_mm  culmen_depth_mm  \\\n",
              "0    -0.000922 -0.001108  0.171124          -0.464971         0.176994   \n",
              "1     0.226313 -0.000169  0.011402           0.710311         0.442352   \n",
              "2     0.386535 -0.000169  0.026905           0.687082        -0.471522   \n",
              "3     0.247754 -0.000169  0.011402           0.710158         0.420504   \n",
              "4     0.247754 -0.000169  0.011402           0.710158         0.420504   \n",
              "\n",
              "   culmen_length_mm  \n",
              "0          0.565229  \n",
              "1          0.013318  \n",
              "2          0.014066  \n",
              "3          0.013318  \n",
              "4          0.013318  "
            ]
          },
          "execution_count": 74,
          "metadata": {},
          "output_type": "execute_result"
        }
      ],
      "source": [
        "explain.head()"
      ]
    },
    {
      "cell_type": "markdown",
      "metadata": {
        "id": "wAl6WTLkxLVM"
      },
      "source": [
        "#### Monitor Feature Attributions For Drift with `ML.VALIDATE_DATA_DRIFT`\n",
        "\n",
        "Compare yesterday to 25 days ago:"
      ]
    },
    {
      "cell_type": "code",
      "execution_count": 75,
      "metadata": {
        "tags": [],
        "id": "MOJ2-yDWxLVM"
      },
      "outputs": [
        {
          "data": {
            "application/vnd.jupyter.widget-view+json": {
              "model_id": "edc215b9e1f64abb8d8943af93a4d6c0",
              "version_major": 2,
              "version_minor": 0
            },
            "text/plain": [
              "Query is running:   0%|          |"
            ]
          },
          "metadata": {},
          "output_type": "display_data"
        },
        {
          "data": {
            "application/vnd.jupyter.widget-view+json": {
              "model_id": "577a961ca0f144f3a8acc81d1fa0c603",
              "version_major": 2,
              "version_minor": 0
            },
            "text/plain": [
              "Downloading:   0%|          |"
            ]
          },
          "metadata": {},
          "output_type": "display_data"
        },
        {
          "data": {
            "text/html": [
              "\u003cdiv\u003e\n",
              "\u003cstyle scoped\u003e\n",
              "    .dataframe tbody tr th:only-of-type {\n",
              "        vertical-align: middle;\n",
              "    }\n",
              "\n",
              "    .dataframe tbody tr th {\n",
              "        vertical-align: top;\n",
              "    }\n",
              "\n",
              "    .dataframe thead th {\n",
              "        text-align: right;\n",
              "    }\n",
              "\u003c/style\u003e\n",
              "\u003ctable border=\"1\" class=\"dataframe\"\u003e\n",
              "  \u003cthead\u003e\n",
              "    \u003ctr style=\"text-align: right;\"\u003e\n",
              "      \u003cth\u003e\u003c/th\u003e\n",
              "      \u003cth\u003einput\u003c/th\u003e\n",
              "      \u003cth\u003emetric\u003c/th\u003e\n",
              "      \u003cth\u003ethreshold\u003c/th\u003e\n",
              "      \u003cth\u003evalue\u003c/th\u003e\n",
              "      \u003cth\u003eis_anomaly\u003c/th\u003e\n",
              "    \u003c/tr\u003e\n",
              "  \u003c/thead\u003e\n",
              "  \u003ctbody\u003e\n",
              "    \u003ctr\u003e\n",
              "      \u003cth\u003e0\u003c/th\u003e\n",
              "      \u003ctd\u003ebody_mass_g\u003c/td\u003e\n",
              "      \u003ctd\u003eJENSEN_SHANNON_DIVERGENCE\u003c/td\u003e\n",
              "      \u003ctd\u003e0.3\u003c/td\u003e\n",
              "      \u003ctd\u003e0.029422\u003c/td\u003e\n",
              "      \u003ctd\u003eFalse\u003c/td\u003e\n",
              "    \u003c/tr\u003e\n",
              "    \u003ctr\u003e\n",
              "      \u003cth\u003e1\u003c/th\u003e\n",
              "      \u003ctd\u003eculmen_depth_mm\u003c/td\u003e\n",
              "      \u003ctd\u003eJENSEN_SHANNON_DIVERGENCE\u003c/td\u003e\n",
              "      \u003ctd\u003e0.3\u003c/td\u003e\n",
              "      \u003ctd\u003e0.051733\u003c/td\u003e\n",
              "      \u003ctd\u003eFalse\u003c/td\u003e\n",
              "    \u003c/tr\u003e\n",
              "    \u003ctr\u003e\n",
              "      \u003cth\u003e2\u003c/th\u003e\n",
              "      \u003ctd\u003eculmen_length_mm\u003c/td\u003e\n",
              "      \u003ctd\u003eJENSEN_SHANNON_DIVERGENCE\u003c/td\u003e\n",
              "      \u003ctd\u003e0.3\u003c/td\u003e\n",
              "      \u003ctd\u003e0.094459\u003c/td\u003e\n",
              "      \u003ctd\u003eFalse\u003c/td\u003e\n",
              "    \u003c/tr\u003e\n",
              "    \u003ctr\u003e\n",
              "      \u003cth\u003e3\u003c/th\u003e\n",
              "      \u003ctd\u003eflipper_length_mm\u003c/td\u003e\n",
              "      \u003ctd\u003eJENSEN_SHANNON_DIVERGENCE\u003c/td\u003e\n",
              "      \u003ctd\u003e0.3\u003c/td\u003e\n",
              "      \u003ctd\u003e0.138318\u003c/td\u003e\n",
              "      \u003ctd\u003eFalse\u003c/td\u003e\n",
              "    \u003c/tr\u003e\n",
              "    \u003ctr\u003e\n",
              "      \u003cth\u003e4\u003c/th\u003e\n",
              "      \u003ctd\u003eisland\u003c/td\u003e\n",
              "      \u003ctd\u003eJENSEN_SHANNON_DIVERGENCE\u003c/td\u003e\n",
              "      \u003ctd\u003e0.3\u003c/td\u003e\n",
              "      \u003ctd\u003e0.076407\u003c/td\u003e\n",
              "      \u003ctd\u003eFalse\u003c/td\u003e\n",
              "    \u003c/tr\u003e\n",
              "    \u003ctr\u003e\n",
              "      \u003cth\u003e5\u003c/th\u003e\n",
              "      \u003ctd\u003esex\u003c/td\u003e\n",
              "      \u003ctd\u003eJENSEN_SHANNON_DIVERGENCE\u003c/td\u003e\n",
              "      \u003ctd\u003e0.3\u003c/td\u003e\n",
              "      \u003ctd\u003e0.605144\u003c/td\u003e\n",
              "      \u003ctd\u003eTrue\u003c/td\u003e\n",
              "    \u003c/tr\u003e\n",
              "  \u003c/tbody\u003e\n",
              "\u003c/table\u003e\n",
              "\u003c/div\u003e"
            ],
            "text/plain": [
              "               input                     metric  threshold     value  \\\n",
              "0        body_mass_g  JENSEN_SHANNON_DIVERGENCE        0.3  0.029422   \n",
              "1    culmen_depth_mm  JENSEN_SHANNON_DIVERGENCE        0.3  0.051733   \n",
              "2   culmen_length_mm  JENSEN_SHANNON_DIVERGENCE        0.3  0.094459   \n",
              "3  flipper_length_mm  JENSEN_SHANNON_DIVERGENCE        0.3  0.138318   \n",
              "4             island  JENSEN_SHANNON_DIVERGENCE        0.3  0.076407   \n",
              "5                sex  JENSEN_SHANNON_DIVERGENCE        0.3  0.605144   \n",
              "\n",
              "   is_anomaly  \n",
              "0       False  \n",
              "1       False  \n",
              "2       False  \n",
              "3       False  \n",
              "4       False  \n",
              "5        True  "
            ]
          },
          "execution_count": 75,
          "metadata": {},
          "output_type": "execute_result"
        }
      ],
      "source": [
        "%%bigquery\n",
        "WITH\n",
        "    EXPLAIN_BASE AS (\n",
        "        SELECT * EXCEPT(body_mass_g, sex, island, flipper_length_mm, culmen_depth_mm, culmen_length_mm)\n",
        "        FROM ML.EXPLAIN_PREDICT(\n",
        "            MODEL `statmike-mlops-349915.bqml_model_monitoring.classify_species_rf`,\n",
        "            (\n",
        "                SELECT * EXCEPT(instance_timestamp, species)\n",
        "                FROM `statmike-mlops-349915.bqml_model_monitoring.serving`\n",
        "                WHERE DATE(instance_timestamp) = DATE_SUB(CURRENT_DATE(), INTERVAL 25 DAY)\n",
        "            ), \n",
        "            STRUCT(10 AS top_k_features)\n",
        "        )\n",
        "    ),\n",
        "    ATTRIBUTIONS_BASE AS (\n",
        "        SELECT * EXCEPT(top_feature_attributions),\n",
        "        FROM EXPLAIN_BASE\n",
        "        JOIN UNNEST(top_feature_attributions)\n",
        "    ),\n",
        "    PIVOT_ATTRIBUTION_BASE AS (\n",
        "        SELECT body_mass_g, sex, island, flipper_length_mm, culmen_depth_mm, culmen_length_mm\n",
        "        FROM ATTRIBUTIONS_BASE PIVOT(MAX(attribution) FOR feature IN ('body_mass_g', 'sex', 'island', 'flipper_length_mm', 'culmen_depth_mm', 'culmen_length_mm'))\n",
        "    ),\n",
        "    EXPLAIN_COMP AS (\n",
        "        SELECT * EXCEPT(body_mass_g, sex, island, flipper_length_mm, culmen_depth_mm, culmen_length_mm)\n",
        "        FROM ML.EXPLAIN_PREDICT(\n",
        "            MODEL `statmike-mlops-349915.bqml_model_monitoring.classify_species_rf`,\n",
        "            (\n",
        "                SELECT * EXCEPT(instance_timestamp, species)\n",
        "                FROM `statmike-mlops-349915.bqml_model_monitoring.serving`\n",
        "                WHERE DATE(instance_timestamp) = DATE_SUB(CURRENT_DATE(), INTERVAL 1 DAY)\n",
        "            ), \n",
        "            STRUCT(10 AS top_k_features)\n",
        "        )\n",
        "    ),\n",
        "    ATTRIBUTIONS_COMP AS (\n",
        "        SELECT * EXCEPT(top_feature_attributions),\n",
        "        FROM EXPLAIN_COMP\n",
        "        JOIN UNNEST(top_feature_attributions)\n",
        "    ),\n",
        "    PIVOT_ATTRIBUTION_COMP AS (\n",
        "        SELECT body_mass_g, sex, island, flipper_length_mm, culmen_depth_mm, culmen_length_mm\n",
        "        FROM ATTRIBUTIONS_COMP PIVOT(MAX(attribution) FOR feature IN ('body_mass_g', 'sex', 'island', 'flipper_length_mm', 'culmen_depth_mm', 'culmen_length_mm'))\n",
        "    )\n",
        "SELECT *\n",
        "FROM ML.VALIDATE_DATA_DRIFT(\n",
        "    TABLE PIVOT_ATTRIBUTION_BASE,\n",
        "    TABLE PIVOT_ATTRIBUTION_COMP\n",
        ");"
      ]
    },
    {
      "cell_type": "markdown",
      "metadata": {
        "id": "vpXk4BkAxLVM"
      },
      "source": [
        "---\n",
        "## Model Monitoring For Online Inference With Vertex AI\n",
        "\n",
        "The model trained above was trained using BigQuery ML's [`CREATE MODEL` statement](https://cloud.google.com/bigquery/docs/reference/standard-sql/bigqueryml-syntax-create) along with the training option `MODEL_REGISTRY = \"vertex_ai\"` which automatically registers the model in the [Vertex AI Model Registry](https://cloud.google.com/vertex-ai/docs/model-registry/introduction).  This means the BigQuery ML models can be managed directly in Vertex AI - [more information](https://cloud.google.com/bigquery/docs/managing-models-vertex).\n",
        "\n",
        "Models in the Vertex AI Model Registry can be used to [serve batch or online predictions](https://cloud.google.com/vertex-ai/docs/predictions/get-predictions).  In this section the [Vertex AI Python SDK](https://cloud.google.com/vertex-ai/docs/start/use-vertex-ai-python-sdk) is used to [deploy the model](https://cloud.google.com/vertex-ai/docs/general/deployment) created in this workflow and [get online predictions](https://cloud.google.com/vertex-ai/docs/predictions/get-online-predictions).\n",
        "\n",
        "The deployment of the model will include an extra setting to [setup logging of prediction request and responses to BigQuery](https://cloud.google.com/vertex-ai/docs/predictions/online-prediction-logging#enabling-and-disabling).  By logging the request and responses to BigQuery we can easily use the model monitoring functions covered in this tutorial."
      ]
    },
    {
      "cell_type": "markdown",
      "metadata": {
        "id": "OnAG772_xLVM"
      },
      "source": [
        "### Setup Client"
      ]
    },
    {
      "cell_type": "code",
      "execution_count": 76,
      "metadata": {
        "tags": [],
        "id": "zjbDJ28mxLVM"
      },
      "outputs": [],
      "source": [
        "from google.cloud import aiplatform\n",
        "aiplatform.init(project = 'statmike-mlops-349915', location = 'us-central1')"
      ]
    },
    {
      "cell_type": "markdown",
      "metadata": {
        "id": "YtlAzuQsxLVM"
      },
      "source": [
        "### Get Model From Vertex AI Model Registry"
      ]
    },
    {
      "cell_type": "code",
      "execution_count": 77,
      "metadata": {
        "tags": [],
        "id": "56pABTbfxLVM"
      },
      "outputs": [
        {
          "data": {
            "text/plain": [
              "'projects/1026793852137/locations/us-central1/models/classify_species_rf@53'"
            ]
          },
          "execution_count": 77,
          "metadata": {},
          "output_type": "execute_result"
        }
      ],
      "source": [
        "model = aiplatform.Model(model_name = 'classify_species_rf')\n",
        "model.versioned_resource_name"
      ]
    },
    {
      "cell_type": "markdown",
      "metadata": {
        "id": "grXdxo86xLVM"
      },
      "source": [
        "### Deploy Model To Endpoint"
      ]
    },
    {
      "cell_type": "code",
      "execution_count": 78,
      "metadata": {
        "tags": [],
        "id": "iubcT9AbxLVM"
      },
      "outputs": [
        {
          "name": "stdout",
          "output_type": "stream",
          "text": [
            "Creating Endpoint\n",
            "Create Endpoint backing LRO: projects/1026793852137/locations/us-central1/endpoints/8376174138397556736/operations/1114944957099016192\n",
            "Endpoint created. Resource name: projects/1026793852137/locations/us-central1/endpoints/8376174138397556736\n",
            "To use this Endpoint in another session:\n",
            "endpoint = aiplatform.Endpoint('projects/1026793852137/locations/us-central1/endpoints/8376174138397556736')\n",
            "Deploying model to Endpoint : projects/1026793852137/locations/us-central1/endpoints/8376174138397556736\n",
            "Using default machine_type: n1-standard-2\n",
            "Deploy Endpoint model backing LRO: projects/1026793852137/locations/us-central1/endpoints/8376174138397556736/operations/6925591231011487744\n",
            "Endpoint model deployed. Resource name: projects/1026793852137/locations/us-central1/endpoints/8376174138397556736\n"
          ]
        }
      ],
      "source": [
        "endpoint = model.deploy()"
      ]
    },
    {
      "cell_type": "code",
      "execution_count": 79,
      "metadata": {
        "tags": [],
        "id": "akZYq1M0xLVM"
      },
      "outputs": [
        {
          "data": {
            "text/plain": [
              "'projects/1026793852137/locations/us-central1/endpoints/8376174138397556736'"
            ]
          },
          "execution_count": 79,
          "metadata": {},
          "output_type": "execute_result"
        }
      ],
      "source": [
        "endpoint.resource_name"
      ]
    },
    {
      "cell_type": "markdown",
      "metadata": {
        "id": "SQrLNu-GxLVM"
      },
      "source": [
        "### Get Data For Predictions\n",
        "\n",
        "Get a sample of data from the serving table to use as online prediction requests."
      ]
    },
    {
      "cell_type": "code",
      "execution_count": 80,
      "metadata": {
        "tags": [],
        "id": "AHITZBEHxLVM"
      },
      "outputs": [
        {
          "data": {
            "application/vnd.jupyter.widget-view+json": {
              "model_id": "ce1be3b69b0948c594009429ee0ad9b7",
              "version_major": 2,
              "version_minor": 0
            },
            "text/plain": [
              "Query is running:   0%|          |"
            ]
          },
          "metadata": {},
          "output_type": "display_data"
        },
        {
          "data": {
            "application/vnd.jupyter.widget-view+json": {
              "model_id": "c4810be7049a4d64b2c3ba5921f773aa",
              "version_major": 2,
              "version_minor": 0
            },
            "text/plain": [
              "Downloading:   0%|          |"
            ]
          },
          "metadata": {},
          "output_type": "display_data"
        }
      ],
      "source": [
        "%%bigquery online\n",
        "SELECT * EXCEPT(species, instance_timestamp)\n",
        "FROM statmike-mlops-349915.bqml_model_monitoring.serving\n",
        "WHERE RAND() \u003c 0.1"
      ]
    },
    {
      "cell_type": "code",
      "execution_count": 81,
      "metadata": {
        "tags": [],
        "id": "mcXAq3BbxLVM"
      },
      "outputs": [
        {
          "data": {
            "text/plain": [
              "{'island': 'Biscoe',\n",
              " 'culmen_length_mm': 47.8,\n",
              " 'culmen_depth_mm': 15.0,\n",
              " 'sex': 'MALE',\n",
              " 'flipper_length_mm': 264.9457340434056,\n",
              " 'body_mass_g': 6746.1164813378955}"
            ]
          },
          "execution_count": 81,
          "metadata": {},
          "output_type": "execute_result"
        }
      ],
      "source": [
        "import numpy as np\n",
        "online = online.dropna()\n",
        "online['sex'].replace(np.nan, '', inplace=True)\n",
        "online = online.to_dict(orient = 'records')\n",
        "online[0]"
      ]
    },
    {
      "cell_type": "markdown",
      "metadata": {
        "tags": [],
        "id": "wyovuazoxLVM"
      },
      "source": [
        "### Get Predictions"
      ]
    },
    {
      "cell_type": "code",
      "execution_count": 82,
      "metadata": {
        "tags": [],
        "id": "tl23FLI6xLVM"
      },
      "outputs": [
        {
          "data": {
            "text/plain": [
              "Prediction(predictions=[{'predicted_species': 'Gentoo penguin (Pygoscelis papua)', 'species_probs': [0.8151684403419495, 0.09227550774812698, 0.09255607426166534], 'species_values': ['Gentoo penguin (Pygoscelis papua)', 'Chinstrap penguin (Pygoscelis antarctica)', 'Adelie Penguin (Pygoscelis adeliae)']}], deployed_model_id='679865422849245184', metadata=None, model_version_id='53', model_resource_name='projects/1026793852137/locations/us-central1/models/classify_species_rf', explanations=None)"
            ]
          },
          "execution_count": 82,
          "metadata": {},
          "output_type": "execute_result"
        }
      ],
      "source": [
        "endpoint.predict(instances = online[0:1])"
      ]
    },
    {
      "cell_type": "markdown",
      "metadata": {
        "id": "fDjVFYD8xLVM"
      },
      "source": [
        "### Enable Prediction request-response logging To BigQuery\n",
        "\n",
        "The endpoint can be enabled for logging both the request and response for predictions.  These logs are directed to a BigQuery table.  This is enable throught the `gcloud ai endpoints update` command - [reference](https://cloud.google.com/sdk/gcloud/reference/ai/endpoints/update)."
      ]
    },
    {
      "cell_type": "code",
      "execution_count": 83,
      "metadata": {
        "tags": [],
        "id": "NSivrnxexLVM"
      },
      "outputs": [
        {
          "data": {
            "text/plain": [
              "'8376174138397556736'"
            ]
          },
          "execution_count": 83,
          "metadata": {},
          "output_type": "execute_result"
        }
      ],
      "source": [
        "endpoint.name"
      ]
    },
    {
      "cell_type": "code",
      "execution_count": 84,
      "metadata": {
        "tags": [],
        "id": "sbG1ga0SxLVM"
      },
      "outputs": [
        {
          "name": "stdout",
          "output_type": "stream",
          "text": [
            "Using endpoint [https://us-central1-aiplatform.googleapis.com/]\n",
            "Updated Vertex AI endpoint [projects/1026793852137/locations/us-central1/endpoints/8376174138397556736].\n"
          ]
        }
      ],
      "source": [
        "!gcloud ai endpoints update $endpoint.name \\\n",
        "--region=us-central1 \\\n",
        "--request-response-logging-table=bq://statmike-mlops-349915.bqml_model_monitoring.serving_online"
      ]
    },
    {
      "cell_type": "markdown",
      "metadata": {
        "id": "9SfVeN7JxLVM"
      },
      "source": [
        "### Send Prediction Requests To Endpoint\n",
        "\n",
        "These will get logged to the BigQuery table specified above."
      ]
    },
    {
      "cell_type": "code",
      "execution_count": 85,
      "metadata": {
        "tags": [],
        "id": "fy8lcGYgxLVM"
      },
      "outputs": [],
      "source": [
        "for instance in online:\n",
        "    prediction = endpoint.predict(instances = [instance])"
      ]
    },
    {
      "cell_type": "code",
      "execution_count": 86,
      "metadata": {
        "tags": [],
        "id": "uBMVLtYNxLVM"
      },
      "outputs": [
        {
          "data": {
            "application/vnd.jupyter.widget-view+json": {
              "model_id": "a6782cc7ee5e45bca64f0435258be86b",
              "version_major": 2,
              "version_minor": 0
            },
            "text/plain": [
              "Query is running:   0%|          |"
            ]
          },
          "metadata": {},
          "output_type": "display_data"
        },
        {
          "data": {
            "application/vnd.jupyter.widget-view+json": {
              "model_id": "34cdbc67415446adb19fdea496cfc0f5",
              "version_major": 2,
              "version_minor": 0
            },
            "text/plain": [
              "Downloading:   0%|          |"
            ]
          },
          "metadata": {},
          "output_type": "display_data"
        },
        {
          "data": {
            "text/html": [
              "\u003cdiv\u003e\n",
              "\u003cstyle scoped\u003e\n",
              "    .dataframe tbody tr th:only-of-type {\n",
              "        vertical-align: middle;\n",
              "    }\n",
              "\n",
              "    .dataframe tbody tr th {\n",
              "        vertical-align: top;\n",
              "    }\n",
              "\n",
              "    .dataframe thead th {\n",
              "        text-align: right;\n",
              "    }\n",
              "\u003c/style\u003e\n",
              "\u003ctable border=\"1\" class=\"dataframe\"\u003e\n",
              "  \u003cthead\u003e\n",
              "    \u003ctr style=\"text-align: right;\"\u003e\n",
              "      \u003cth\u003e\u003c/th\u003e\n",
              "      \u003cth\u003eendpoint\u003c/th\u003e\n",
              "      \u003cth\u003edeployed_model_id\u003c/th\u003e\n",
              "      \u003cth\u003elogging_time\u003c/th\u003e\n",
              "      \u003cth\u003erequest_id\u003c/th\u003e\n",
              "      \u003cth\u003erequest_payload\u003c/th\u003e\n",
              "      \u003cth\u003eresponse_payload\u003c/th\u003e\n",
              "    \u003c/tr\u003e\n",
              "  \u003c/thead\u003e\n",
              "  \u003ctbody\u003e\n",
              "    \u003ctr\u003e\n",
              "      \u003cth\u003e0\u003c/th\u003e\n",
              "      \u003ctd\u003eprojects/1026793852137/locations/us-central1/endpoints/8376174138397556736\u003c/td\u003e\n",
              "      \u003ctd\u003e679865422849245184\u003c/td\u003e\n",
              "      \u003ctd\u003e2024-04-18 12:18:11.197298+00:00\u003c/td\u003e\n",
              "      \u003ctd\u003e3672078733502561545.000000000\u003c/td\u003e\n",
              "      \u003ctd\u003e[{\"sex\":\"FEMALE\",\"culmen_length_mm\":35,\"culmen_depth_mm\":17.9,\"flipper_length_mm\":194.51871831435113,\"body_mass_g\":3800.4606022451417,\"island\":\"Biscoe\"}]\u003c/td\u003e\n",
              "      \u003ctd\u003e[{\"species_probs\":[0.096641786396503448,0.096392765641212463,0.80696547031402588],\"species_values\":[\"Gentoo penguin (Pygoscelis papua)\",\"Chinstrap penguin (Pygoscelis antarctica)\",\"Adelie Penguin (Pygoscelis adeliae)\"],\"predicted_species\":\"Adelie Penguin (Pygoscelis adeliae)\"}]\u003c/td\u003e\n",
              "    \u003c/tr\u003e\n",
              "    \u003ctr\u003e\n",
              "      \u003cth\u003e1\u003c/th\u003e\n",
              "      \u003ctd\u003eprojects/1026793852137/locations/us-central1/endpoints/8376174138397556736\u003c/td\u003e\n",
              "      \u003ctd\u003e679865422849245184\u003c/td\u003e\n",
              "      \u003ctd\u003e2024-04-18 12:18:11.748816+00:00\u003c/td\u003e\n",
              "      \u003ctd\u003e4897722793025007221.000000000\u003c/td\u003e\n",
              "      \u003ctd\u003e[{\"flipper_length_mm\":228.06072187777977,\"island\":\"Biscoe\",\"body_mass_g\":4996.1526538602338,\"culmen_length_mm\":41.3,\"culmen_depth_mm\":21.1,\"sex\":\"MALE\"}]\u003c/td\u003e\n",
              "      \u003ctd\u003e[{\"species_values\":[\"Gentoo penguin (Pygoscelis papua)\",\"Chinstrap penguin (Pygoscelis antarctica)\",\"Adelie Penguin (Pygoscelis adeliae)\"],\"predicted_species\":\"Adelie Penguin (Pygoscelis adeliae)\",\"species_probs\":[0.36388087272644037,0.12630975246429441,0.50980937480926514]}]\u003c/td\u003e\n",
              "    \u003c/tr\u003e\n",
              "    \u003ctr\u003e\n",
              "      \u003cth\u003e2\u003c/th\u003e\n",
              "      \u003ctd\u003eprojects/1026793852137/locations/us-central1/endpoints/8376174138397556736\u003c/td\u003e\n",
              "      \u003ctd\u003e679865422849245184\u003c/td\u003e\n",
              "      \u003ctd\u003e2024-04-18 12:18:11.793376+00:00\u003c/td\u003e\n",
              "      \u003ctd\u003e2532566483074682501.000000000\u003c/td\u003e\n",
              "      \u003ctd\u003e[{\"body_mass_g\":5226.7781687599345,\"sex\":\"FEMALE\",\"culmen_length_mm\":40.9,\"flipper_length_mm\":246.77387673794192,\"island\":\"Biscoe\",\"culmen_depth_mm\":13.7}]\u003c/td\u003e\n",
              "      \u003ctd\u003e[{\"species_values\":[\"Gentoo penguin (Pygoscelis papua)\",\"Chinstrap penguin (Pygoscelis antarctica)\",\"Adelie Penguin (Pygoscelis adeliae)\"],\"predicted_species\":\"Gentoo penguin (Pygoscelis papua)\",\"species_probs\":[0.74543070793151855,0.0999060869216919,0.15466322004795069]}]\u003c/td\u003e\n",
              "    \u003c/tr\u003e\n",
              "    \u003ctr\u003e\n",
              "      \u003cth\u003e3\u003c/th\u003e\n",
              "      \u003ctd\u003eprojects/1026793852137/locations/us-central1/endpoints/8376174138397556736\u003c/td\u003e\n",
              "      \u003ctd\u003e679865422849245184\u003c/td\u003e\n",
              "      \u003ctd\u003e2024-04-18 12:18:11.929502+00:00\u003c/td\u003e\n",
              "      \u003ctd\u003e3023598592391758369.000000000\u003c/td\u003e\n",
              "      \u003ctd\u003e[{\"body_mass_g\":3536.15893149333,\"sex\":\"FEMALE\",\"island\":\"Dream\",\"culmen_length_mm\":46.1,\"culmen_depth_mm\":18.2,\"flipper_length_mm\":195.83599345931358}]\u003c/td\u003e\n",
              "      \u003ctd\u003e[{\"species_probs\":[0.10982932150363919,0.76431870460510254,0.12585197389125821],\"species_values\":[\"Gentoo penguin (Pygoscelis papua)\",\"Chinstrap penguin (Pygoscelis antarctica)\",\"Adelie Penguin (Pygoscelis adeliae)\"],\"predicted_species\":\"Chinstrap penguin (Pygoscelis antarctica)\"}]\u003c/td\u003e\n",
              "    \u003c/tr\u003e\n",
              "    \u003ctr\u003e\n",
              "      \u003cth\u003e4\u003c/th\u003e\n",
              "      \u003ctd\u003eprojects/1026793852137/locations/us-central1/endpoints/8376174138397556736\u003c/td\u003e\n",
              "      \u003ctd\u003e679865422849245184\u003c/td\u003e\n",
              "      \u003ctd\u003e2024-04-18 12:18:11.991745+00:00\u003c/td\u003e\n",
              "      \u003ctd\u003e8767896355494798527.000000000\u003c/td\u003e\n",
              "      \u003ctd\u003e[{\"sex\":\"MALE\",\"culmen_depth_mm\":18.1,\"body_mass_g\":3947.9486959646842,\"culmen_length_mm\":37.8,\"flipper_length_mm\":200.89548253625452,\"island\":\"Dream\"}]\u003c/td\u003e\n",
              "      \u003ctd\u003e[{\"species_values\":[\"Gentoo penguin (Pygoscelis papua)\",\"Chinstrap penguin (Pygoscelis antarctica)\",\"Adelie Penguin (Pygoscelis adeliae)\"],\"predicted_species\":\"Adelie Penguin (Pygoscelis adeliae)\",\"species_probs\":[0.10563097149133679,0.1376055181026459,0.7567635178565979]}]\u003c/td\u003e\n",
              "    \u003c/tr\u003e\n",
              "  \u003c/tbody\u003e\n",
              "\u003c/table\u003e\n",
              "\u003c/div\u003e"
            ],
            "text/plain": [
              "                                                                     endpoint  \\\n",
              "0  projects/1026793852137/locations/us-central1/endpoints/8376174138397556736   \n",
              "1  projects/1026793852137/locations/us-central1/endpoints/8376174138397556736   \n",
              "2  projects/1026793852137/locations/us-central1/endpoints/8376174138397556736   \n",
              "3  projects/1026793852137/locations/us-central1/endpoints/8376174138397556736   \n",
              "4  projects/1026793852137/locations/us-central1/endpoints/8376174138397556736   \n",
              "\n",
              "    deployed_model_id                     logging_time  \\\n",
              "0  679865422849245184 2024-04-18 12:18:11.197298+00:00   \n",
              "1  679865422849245184 2024-04-18 12:18:11.748816+00:00   \n",
              "2  679865422849245184 2024-04-18 12:18:11.793376+00:00   \n",
              "3  679865422849245184 2024-04-18 12:18:11.929502+00:00   \n",
              "4  679865422849245184 2024-04-18 12:18:11.991745+00:00   \n",
              "\n",
              "                      request_id  \\\n",
              "0  3672078733502561545.000000000   \n",
              "1  4897722793025007221.000000000   \n",
              "2  2532566483074682501.000000000   \n",
              "3  3023598592391758369.000000000   \n",
              "4  8767896355494798527.000000000   \n",
              "\n",
              "                                                                                                                                               request_payload  \\\n",
              "0    [{\"sex\":\"FEMALE\",\"culmen_length_mm\":35,\"culmen_depth_mm\":17.9,\"flipper_length_mm\":194.51871831435113,\"body_mass_g\":3800.4606022451417,\"island\":\"Biscoe\"}]   \n",
              "1    [{\"flipper_length_mm\":228.06072187777977,\"island\":\"Biscoe\",\"body_mass_g\":4996.1526538602338,\"culmen_length_mm\":41.3,\"culmen_depth_mm\":21.1,\"sex\":\"MALE\"}]   \n",
              "2  [{\"body_mass_g\":5226.7781687599345,\"sex\":\"FEMALE\",\"culmen_length_mm\":40.9,\"flipper_length_mm\":246.77387673794192,\"island\":\"Biscoe\",\"culmen_depth_mm\":13.7}]   \n",
              "3     [{\"body_mass_g\":3536.15893149333,\"sex\":\"FEMALE\",\"island\":\"Dream\",\"culmen_length_mm\":46.1,\"culmen_depth_mm\":18.2,\"flipper_length_mm\":195.83599345931358}]   \n",
              "4     [{\"sex\":\"MALE\",\"culmen_depth_mm\":18.1,\"body_mass_g\":3947.9486959646842,\"culmen_length_mm\":37.8,\"flipper_length_mm\":200.89548253625452,\"island\":\"Dream\"}]   \n",
              "\n",
              "                                                                                                                                                                                                                                                                             response_payload  \n",
              "0      [{\"species_probs\":[0.096641786396503448,0.096392765641212463,0.80696547031402588],\"species_values\":[\"Gentoo penguin (Pygoscelis papua)\",\"Chinstrap penguin (Pygoscelis antarctica)\",\"Adelie Penguin (Pygoscelis adeliae)\"],\"predicted_species\":\"Adelie Penguin (Pygoscelis adeliae)\"}]  \n",
              "1        [{\"species_values\":[\"Gentoo penguin (Pygoscelis papua)\",\"Chinstrap penguin (Pygoscelis antarctica)\",\"Adelie Penguin (Pygoscelis adeliae)\"],\"predicted_species\":\"Adelie Penguin (Pygoscelis adeliae)\",\"species_probs\":[0.36388087272644037,0.12630975246429441,0.50980937480926514]}]  \n",
              "2           [{\"species_values\":[\"Gentoo penguin (Pygoscelis papua)\",\"Chinstrap penguin (Pygoscelis antarctica)\",\"Adelie Penguin (Pygoscelis adeliae)\"],\"predicted_species\":\"Gentoo penguin (Pygoscelis papua)\",\"species_probs\":[0.74543070793151855,0.0999060869216919,0.15466322004795069]}]  \n",
              "3  [{\"species_probs\":[0.10982932150363919,0.76431870460510254,0.12585197389125821],\"species_values\":[\"Gentoo penguin (Pygoscelis papua)\",\"Chinstrap penguin (Pygoscelis antarctica)\",\"Adelie Penguin (Pygoscelis adeliae)\"],\"predicted_species\":\"Chinstrap penguin (Pygoscelis antarctica)\"}]  \n",
              "4          [{\"species_values\":[\"Gentoo penguin (Pygoscelis papua)\",\"Chinstrap penguin (Pygoscelis antarctica)\",\"Adelie Penguin (Pygoscelis adeliae)\"],\"predicted_species\":\"Adelie Penguin (Pygoscelis adeliae)\",\"species_probs\":[0.10563097149133679,0.1376055181026459,0.7567635178565979]}]  "
            ]
          },
          "execution_count": 86,
          "metadata": {},
          "output_type": "execute_result"
        }
      ],
      "source": [
        "%%bigquery\n",
        "SELECT *\n",
        "FROM `statmike-mlops-349915.bqml_model_monitoring.serving_online`\n",
        "LIMIT 5"
      ]
    },
    {
      "cell_type": "markdown",
      "metadata": {
        "id": "75lsUH6txLVM"
      },
      "source": [
        "### Create A View Of All Serving Data\n",
        "\n",
        "Combine the batch serving data with the online serving data in a view."
      ]
    },
    {
      "cell_type": "code",
      "execution_count": 87,
      "metadata": {
        "tags": [],
        "id": "I5P_qiq7xLVM"
      },
      "outputs": [
        {
          "data": {
            "application/vnd.jupyter.widget-view+json": {
              "model_id": "612f6e9a0b6a4d98aeea71035896a51f",
              "version_major": 2,
              "version_minor": 0
            },
            "text/plain": [
              "Query is running:   0%|          |"
            ]
          },
          "metadata": {},
          "output_type": "display_data"
        },
        {
          "data": {
            "application/vnd.jupyter.widget-view+json": {
              "model_id": "5a84b93ea76f463184adebca2cc3a5fe",
              "version_major": 2,
              "version_minor": 0
            },
            "text/plain": [
              "Downloading:   0%|          |"
            ]
          },
          "metadata": {},
          "output_type": "display_data"
        },
        {
          "data": {
            "text/html": [
              "\u003cdiv\u003e\n",
              "\u003cstyle scoped\u003e\n",
              "    .dataframe tbody tr th:only-of-type {\n",
              "        vertical-align: middle;\n",
              "    }\n",
              "\n",
              "    .dataframe tbody tr th {\n",
              "        vertical-align: top;\n",
              "    }\n",
              "\n",
              "    .dataframe thead th {\n",
              "        text-align: right;\n",
              "    }\n",
              "\u003c/style\u003e\n",
              "\u003ctable border=\"1\" class=\"dataframe\"\u003e\n",
              "  \u003cthead\u003e\n",
              "    \u003ctr style=\"text-align: right;\"\u003e\n",
              "      \u003cth\u003e\u003c/th\u003e\n",
              "      \u003cth\u003einstance_timestamp\u003c/th\u003e\n",
              "      \u003cth\u003eisland\u003c/th\u003e\n",
              "      \u003cth\u003esex\u003c/th\u003e\n",
              "      \u003cth\u003eflipper_length_mm\u003c/th\u003e\n",
              "      \u003cth\u003ebody_mass_g\u003c/th\u003e\n",
              "      \u003cth\u003eculmen_length_mm\u003c/th\u003e\n",
              "      \u003cth\u003eculmen_depth_mm\u003c/th\u003e\n",
              "    \u003c/tr\u003e\n",
              "  \u003c/thead\u003e\n",
              "  \u003ctbody\u003e\n",
              "    \u003ctr\u003e\n",
              "      \u003cth\u003e0\u003c/th\u003e\n",
              "      \u003ctd\u003e2024-04-18 12:18:11.438940+00:00\u003c/td\u003e\n",
              "      \u003ctd\u003eDream\u003c/td\u003e\n",
              "      \u003ctd\u003eMALE\u003c/td\u003e\n",
              "      \u003ctd\u003e256.845386\u003c/td\u003e\n",
              "      \u003ctd\u003e5518.321747\u003c/td\u003e\n",
              "      \u003ctd\u003e53.5\u003c/td\u003e\n",
              "      \u003ctd\u003e19.9\u003c/td\u003e\n",
              "    \u003c/tr\u003e\n",
              "    \u003ctr\u003e\n",
              "      \u003cth\u003e1\u003c/th\u003e\n",
              "      \u003ctd\u003e2024-04-18 12:18:11.613571+00:00\u003c/td\u003e\n",
              "      \u003ctd\u003eDream\u003c/td\u003e\n",
              "      \u003ctd\u003eMALE\u003c/td\u003e\n",
              "      \u003ctd\u003e263.914438\u003c/td\u003e\n",
              "      \u003ctd\u003e5013.543963\u003c/td\u003e\n",
              "      \u003ctd\u003e49.0\u003c/td\u003e\n",
              "      \u003ctd\u003e19.6\u003c/td\u003e\n",
              "    \u003c/tr\u003e\n",
              "    \u003ctr\u003e\n",
              "      \u003cth\u003e2\u003c/th\u003e\n",
              "      \u003ctd\u003e2024-04-18 12:18:11.707137+00:00\u003c/td\u003e\n",
              "      \u003ctd\u003eTorgersen\u003c/td\u003e\n",
              "      \u003ctd\u003eFEMALE\u003c/td\u003e\n",
              "      \u003ctd\u003e228.776258\u003c/td\u003e\n",
              "      \u003ctd\u003e4766.420181\u003c/td\u003e\n",
              "      \u003ctd\u003e36.7\u003c/td\u003e\n",
              "      \u003ctd\u003e18.8\u003c/td\u003e\n",
              "    \u003c/tr\u003e\n",
              "    \u003ctr\u003e\n",
              "      \u003cth\u003e3\u003c/th\u003e\n",
              "      \u003ctd\u003e2024-04-18 12:18:11.908256+00:00\u003c/td\u003e\n",
              "      \u003ctd\u003eDream\u003c/td\u003e\n",
              "      \u003ctd\u003eFEMALE\u003c/td\u003e\n",
              "      \u003ctd\u003e212.195724\u003c/td\u003e\n",
              "      \u003ctd\u003e3795.663191\u003c/td\u003e\n",
              "      \u003ctd\u003e36.8\u003c/td\u003e\n",
              "      \u003ctd\u003e18.5\u003c/td\u003e\n",
              "    \u003c/tr\u003e\n",
              "    \u003ctr\u003e\n",
              "      \u003cth\u003e4\u003c/th\u003e\n",
              "      \u003ctd\u003e2024-04-18 12:18:12.143982+00:00\u003c/td\u003e\n",
              "      \u003ctd\u003eBiscoe\u003c/td\u003e\n",
              "      \u003ctd\u003eMALE\u003c/td\u003e\n",
              "      \u003ctd\u003e232.357711\u003c/td\u003e\n",
              "      \u003ctd\u003e5583.769020\u003c/td\u003e\n",
              "      \u003ctd\u003e43.2\u003c/td\u003e\n",
              "      \u003ctd\u003e19.0\u003c/td\u003e\n",
              "    \u003c/tr\u003e\n",
              "  \u003c/tbody\u003e\n",
              "\u003c/table\u003e\n",
              "\u003c/div\u003e"
            ],
            "text/plain": [
              "                instance_timestamp     island     sex  flipper_length_mm  \\\n",
              "0 2024-04-18 12:18:11.438940+00:00      Dream    MALE         256.845386   \n",
              "1 2024-04-18 12:18:11.613571+00:00      Dream    MALE         263.914438   \n",
              "2 2024-04-18 12:18:11.707137+00:00  Torgersen  FEMALE         228.776258   \n",
              "3 2024-04-18 12:18:11.908256+00:00      Dream  FEMALE         212.195724   \n",
              "4 2024-04-18 12:18:12.143982+00:00     Biscoe    MALE         232.357711   \n",
              "\n",
              "   body_mass_g  culmen_length_mm  culmen_depth_mm  \n",
              "0  5518.321747              53.5             19.9  \n",
              "1  5013.543963              49.0             19.6  \n",
              "2  4766.420181              36.7             18.8  \n",
              "3  3795.663191              36.8             18.5  \n",
              "4  5583.769020              43.2             19.0  "
            ]
          },
          "execution_count": 87,
          "metadata": {},
          "output_type": "execute_result"
        }
      ],
      "source": [
        "%%bigquery\n",
        "SELECT\n",
        "    logging_time as instance_timestamp,\n",
        "    JSON_VALUE(request, \"$.island\") as island,\n",
        "    JSON_VALUE(request, \"$.sex\") as sex,\n",
        "    CAST(JSON_VALUE(request, \"$.flipper_length_mm\") AS FLOAT64) as flipper_length_mm,\n",
        "    CAST(JSON_VALUE(request, \"$.body_mass_g\") AS FLOAT64) as body_mass_g,\n",
        "    CAST(JSON_VALUE(request, \"$.culmen_length_mm\") AS FLOAT64) as culmen_length_mm,\n",
        "    CAST(JSON_VALUE(request, \"$.culmen_depth_mm\") AS FLOAT64) as culmen_depth_mm\n",
        "FROM `statmike-mlops-349915.bqml_model_monitoring.serving_online`,\n",
        "UNNEST(request_payload) as request\n",
        "LIMIT 5"
      ]
    },
    {
      "cell_type": "code",
      "execution_count": 88,
      "metadata": {
        "tags": [],
        "id": "p7WUp_cjxLVM"
      },
      "outputs": [
        {
          "data": {
            "application/vnd.jupyter.widget-view+json": {
              "model_id": "ab26f2c638a742748ebf3b7f2ca9b758",
              "version_major": 2,
              "version_minor": 0
            },
            "text/plain": [
              "Query is running:   0%|          |"
            ]
          },
          "metadata": {},
          "output_type": "display_data"
        },
        {
          "data": {
            "text/html": [
              "\u003cdiv\u003e\n",
              "\u003cstyle scoped\u003e\n",
              "    .dataframe tbody tr th:only-of-type {\n",
              "        vertical-align: middle;\n",
              "    }\n",
              "\n",
              "    .dataframe tbody tr th {\n",
              "        vertical-align: top;\n",
              "    }\n",
              "\n",
              "    .dataframe thead th {\n",
              "        text-align: right;\n",
              "    }\n",
              "\u003c/style\u003e\n",
              "\u003ctable border=\"1\" class=\"dataframe\"\u003e\n",
              "  \u003cthead\u003e\n",
              "    \u003ctr style=\"text-align: right;\"\u003e\n",
              "      \u003cth\u003e\u003c/th\u003e\n",
              "    \u003c/tr\u003e\n",
              "  \u003c/thead\u003e\n",
              "  \u003ctbody\u003e\n",
              "  \u003c/tbody\u003e\n",
              "\u003c/table\u003e\n",
              "\u003c/div\u003e"
            ],
            "text/plain": [
              "Empty DataFrame\n",
              "Columns: []\n",
              "Index: []"
            ]
          },
          "execution_count": 88,
          "metadata": {},
          "output_type": "execute_result"
        }
      ],
      "source": [
        "%%bigquery\n",
        "CREATE OR REPLACE VIEW `statmike-mlops-349915.bqml_model_monitoring.serving_all` AS\n",
        "WITH\n",
        "    BATCH AS (\n",
        "        SELECT instance_timestamp, island, sex, flipper_length_mm, body_mass_g, culmen_length_mm, culmen_depth_mm\n",
        "        FROM `statmike-mlops-349915.bqml_model_monitoring.serving`\n",
        "    ),\n",
        "    ONLINE AS (\n",
        "        SELECT\n",
        "            logging_time as instance_timestamp,\n",
        "            JSON_VALUE(request, \"$.island\") as island,\n",
        "            JSON_VALUE(request, \"$.sex\") as sex,\n",
        "            CAST(JSON_VALUE(request, \"$.flipper_length_mm\") AS FLOAT64) as flipper_length_mm,\n",
        "            CAST(JSON_VALUE(request, \"$.body_mass_g\") AS FLOAT64) as body_mass_g,\n",
        "            CAST(JSON_VALUE(request, \"$.culmen_length_mm\") AS FLOAT64) as culmen_length_mm,\n",
        "            CAST(JSON_VALUE(request, \"$.culmen_depth_mm\") AS FLOAT64) as culmen_depth_mm\n",
        "        FROM `statmike-mlops-349915.bqml_model_monitoring.serving_online`,\n",
        "        UNNEST(request_payload) as request\n",
        "    )\n",
        "SELECT * FROM BATCH\n",
        "UNION ALL\n",
        "SELECT * FROM ONLINE\n"
      ]
    },
    {
      "cell_type": "markdown",
      "metadata": {
        "id": "oA7ISP2hxLVM"
      },
      "source": [
        "### Monitoring Skew (Change from training) With `ML.VALIDATE_DATA_SKEW`\n",
        "\n",
        "Compare today, or any data, to the training data by directly comparing to the the model created in BigQuery."
      ]
    },
    {
      "cell_type": "code",
      "execution_count": 89,
      "metadata": {
        "tags": [],
        "id": "F2CVwZ48xLVM"
      },
      "outputs": [
        {
          "data": {
            "application/vnd.jupyter.widget-view+json": {
              "model_id": "7f4038ad195548f681284d66b420e17c",
              "version_major": 2,
              "version_minor": 0
            },
            "text/plain": [
              "Query is running:   0%|          |"
            ]
          },
          "metadata": {},
          "output_type": "display_data"
        },
        {
          "data": {
            "application/vnd.jupyter.widget-view+json": {
              "model_id": "3010faf8745942bab174ef0404a6d7f2",
              "version_major": 2,
              "version_minor": 0
            },
            "text/plain": [
              "Downloading:   0%|          |"
            ]
          },
          "metadata": {},
          "output_type": "display_data"
        },
        {
          "data": {
            "text/html": [
              "\u003cdiv\u003e\n",
              "\u003cstyle scoped\u003e\n",
              "    .dataframe tbody tr th:only-of-type {\n",
              "        vertical-align: middle;\n",
              "    }\n",
              "\n",
              "    .dataframe tbody tr th {\n",
              "        vertical-align: top;\n",
              "    }\n",
              "\n",
              "    .dataframe thead th {\n",
              "        text-align: right;\n",
              "    }\n",
              "\u003c/style\u003e\n",
              "\u003ctable border=\"1\" class=\"dataframe\"\u003e\n",
              "  \u003cthead\u003e\n",
              "    \u003ctr style=\"text-align: right;\"\u003e\n",
              "      \u003cth\u003e\u003c/th\u003e\n",
              "      \u003cth\u003einput\u003c/th\u003e\n",
              "      \u003cth\u003emetric\u003c/th\u003e\n",
              "      \u003cth\u003ethreshold\u003c/th\u003e\n",
              "      \u003cth\u003evalue\u003c/th\u003e\n",
              "      \u003cth\u003eis_anomaly\u003c/th\u003e\n",
              "    \u003c/tr\u003e\n",
              "  \u003c/thead\u003e\n",
              "  \u003ctbody\u003e\n",
              "    \u003ctr\u003e\n",
              "      \u003cth\u003e0\u003c/th\u003e\n",
              "      \u003ctd\u003ebody_mass_g\u003c/td\u003e\n",
              "      \u003ctd\u003eJENSEN_SHANNON_DIVERGENCE\u003c/td\u003e\n",
              "      \u003ctd\u003e0.3\u003c/td\u003e\n",
              "      \u003ctd\u003e0.137045\u003c/td\u003e\n",
              "      \u003ctd\u003eFalse\u003c/td\u003e\n",
              "    \u003c/tr\u003e\n",
              "    \u003ctr\u003e\n",
              "      \u003cth\u003e1\u003c/th\u003e\n",
              "      \u003ctd\u003eculmen_depth_mm\u003c/td\u003e\n",
              "      \u003ctd\u003eJENSEN_SHANNON_DIVERGENCE\u003c/td\u003e\n",
              "      \u003ctd\u003e0.3\u003c/td\u003e\n",
              "      \u003ctd\u003e0.029471\u003c/td\u003e\n",
              "      \u003ctd\u003eFalse\u003c/td\u003e\n",
              "    \u003c/tr\u003e\n",
              "    \u003ctr\u003e\n",
              "      \u003cth\u003e2\u003c/th\u003e\n",
              "      \u003ctd\u003eculmen_length_mm\u003c/td\u003e\n",
              "      \u003ctd\u003eJENSEN_SHANNON_DIVERGENCE\u003c/td\u003e\n",
              "      \u003ctd\u003e0.3\u003c/td\u003e\n",
              "      \u003ctd\u003e0.058987\u003c/td\u003e\n",
              "      \u003ctd\u003eFalse\u003c/td\u003e\n",
              "    \u003c/tr\u003e\n",
              "    \u003ctr\u003e\n",
              "      \u003cth\u003e3\u003c/th\u003e\n",
              "      \u003ctd\u003eflipper_length_mm\u003c/td\u003e\n",
              "      \u003ctd\u003eJENSEN_SHANNON_DIVERGENCE\u003c/td\u003e\n",
              "      \u003ctd\u003e0.3\u003c/td\u003e\n",
              "      \u003ctd\u003e0.494604\u003c/td\u003e\n",
              "      \u003ctd\u003eTrue\u003c/td\u003e\n",
              "    \u003c/tr\u003e\n",
              "    \u003ctr\u003e\n",
              "      \u003cth\u003e4\u003c/th\u003e\n",
              "      \u003ctd\u003eisland\u003c/td\u003e\n",
              "      \u003ctd\u003eL_INFTY\u003c/td\u003e\n",
              "      \u003ctd\u003e0.3\u003c/td\u003e\n",
              "      \u003ctd\u003e0.063670\u003c/td\u003e\n",
              "      \u003ctd\u003eFalse\u003c/td\u003e\n",
              "    \u003c/tr\u003e\n",
              "    \u003ctr\u003e\n",
              "      \u003cth\u003e5\u003c/th\u003e\n",
              "      \u003ctd\u003esex\u003c/td\u003e\n",
              "      \u003ctd\u003eL_INFTY\u003c/td\u003e\n",
              "      \u003ctd\u003e0.3\u003c/td\u003e\n",
              "      \u003ctd\u003e0.077660\u003c/td\u003e\n",
              "      \u003ctd\u003eFalse\u003c/td\u003e\n",
              "    \u003c/tr\u003e\n",
              "  \u003c/tbody\u003e\n",
              "\u003c/table\u003e\n",
              "\u003c/div\u003e"
            ],
            "text/plain": [
              "               input                     metric  threshold     value  \\\n",
              "0        body_mass_g  JENSEN_SHANNON_DIVERGENCE        0.3  0.137045   \n",
              "1    culmen_depth_mm  JENSEN_SHANNON_DIVERGENCE        0.3  0.029471   \n",
              "2   culmen_length_mm  JENSEN_SHANNON_DIVERGENCE        0.3  0.058987   \n",
              "3  flipper_length_mm  JENSEN_SHANNON_DIVERGENCE        0.3  0.494604   \n",
              "4             island                    L_INFTY        0.3  0.063670   \n",
              "5                sex                    L_INFTY        0.3  0.077660   \n",
              "\n",
              "   is_anomaly  \n",
              "0       False  \n",
              "1       False  \n",
              "2       False  \n",
              "3        True  \n",
              "4       False  \n",
              "5       False  "
            ]
          },
          "execution_count": 89,
          "metadata": {},
          "output_type": "execute_result"
        }
      ],
      "source": [
        "%%bigquery\n",
        "SELECT *\n",
        "FROM ML.VALIDATE_DATA_SKEW(\n",
        "    MODEL `statmike-mlops-349915.bqml_model_monitoring.classify_species_rf`,\n",
        "    (\n",
        "        SELECT *\n",
        "        FROM `statmike-mlops-349915.bqml_model_monitoring.serving_all`\n",
        "        WHERE DATE(instance_timestamp) \u003e= CURRENT_DATE()\n",
        "    )\n",
        ");"
      ]
    },
    {
      "cell_type": "markdown",
      "metadata": {
        "id": "5H0aYsJFxLVM"
      },
      "source": [
        "### Monitoring Drift (Change Over Time) With `ML.VALIDATE_DATA_DRIFT`\n",
        "\n",
        "Compare today to 5 days ago and set the a lower, more sensitive, threshold of `0.03` (default is `0.3`) for all features."
      ]
    },
    {
      "cell_type": "code",
      "execution_count": 90,
      "metadata": {
        "tags": [],
        "id": "h079kOX5xLVM"
      },
      "outputs": [
        {
          "data": {
            "application/vnd.jupyter.widget-view+json": {
              "model_id": "3cf8273087054bd287b22eb8e642a4bc",
              "version_major": 2,
              "version_minor": 0
            },
            "text/plain": [
              "Query is running:   0%|          |"
            ]
          },
          "metadata": {},
          "output_type": "display_data"
        },
        {
          "data": {
            "application/vnd.jupyter.widget-view+json": {
              "model_id": "773617c07a724f7eada756c867fed7cc",
              "version_major": 2,
              "version_minor": 0
            },
            "text/plain": [
              "Downloading:   0%|          |"
            ]
          },
          "metadata": {},
          "output_type": "display_data"
        },
        {
          "data": {
            "text/html": [
              "\u003cdiv\u003e\n",
              "\u003cstyle scoped\u003e\n",
              "    .dataframe tbody tr th:only-of-type {\n",
              "        vertical-align: middle;\n",
              "    }\n",
              "\n",
              "    .dataframe tbody tr th {\n",
              "        vertical-align: top;\n",
              "    }\n",
              "\n",
              "    .dataframe thead th {\n",
              "        text-align: right;\n",
              "    }\n",
              "\u003c/style\u003e\n",
              "\u003ctable border=\"1\" class=\"dataframe\"\u003e\n",
              "  \u003cthead\u003e\n",
              "    \u003ctr style=\"text-align: right;\"\u003e\n",
              "      \u003cth\u003e\u003c/th\u003e\n",
              "      \u003cth\u003einput\u003c/th\u003e\n",
              "      \u003cth\u003emetric\u003c/th\u003e\n",
              "      \u003cth\u003ethreshold\u003c/th\u003e\n",
              "      \u003cth\u003evalue\u003c/th\u003e\n",
              "      \u003cth\u003eis_anomaly\u003c/th\u003e\n",
              "    \u003c/tr\u003e\n",
              "  \u003c/thead\u003e\n",
              "  \u003ctbody\u003e\n",
              "    \u003ctr\u003e\n",
              "      \u003cth\u003e0\u003c/th\u003e\n",
              "      \u003ctd\u003ebody_mass_g\u003c/td\u003e\n",
              "      \u003ctd\u003eJENSEN_SHANNON_DIVERGENCE\u003c/td\u003e\n",
              "      \u003ctd\u003e0.03\u003c/td\u003e\n",
              "      \u003ctd\u003e0.072752\u003c/td\u003e\n",
              "      \u003ctd\u003eTrue\u003c/td\u003e\n",
              "    \u003c/tr\u003e\n",
              "    \u003ctr\u003e\n",
              "      \u003cth\u003e1\u003c/th\u003e\n",
              "      \u003ctd\u003eculmen_depth_mm\u003c/td\u003e\n",
              "      \u003ctd\u003eJENSEN_SHANNON_DIVERGENCE\u003c/td\u003e\n",
              "      \u003ctd\u003e0.03\u003c/td\u003e\n",
              "      \u003ctd\u003e0.002961\u003c/td\u003e\n",
              "      \u003ctd\u003eFalse\u003c/td\u003e\n",
              "    \u003c/tr\u003e\n",
              "    \u003ctr\u003e\n",
              "      \u003cth\u003e2\u003c/th\u003e\n",
              "      \u003ctd\u003eculmen_length_mm\u003c/td\u003e\n",
              "      \u003ctd\u003eJENSEN_SHANNON_DIVERGENCE\u003c/td\u003e\n",
              "      \u003ctd\u003e0.03\u003c/td\u003e\n",
              "      \u003ctd\u003e0.000824\u003c/td\u003e\n",
              "      \u003ctd\u003eFalse\u003c/td\u003e\n",
              "    \u003c/tr\u003e\n",
              "    \u003ctr\u003e\n",
              "      \u003cth\u003e3\u003c/th\u003e\n",
              "      \u003ctd\u003eflipper_length_mm\u003c/td\u003e\n",
              "      \u003ctd\u003eJENSEN_SHANNON_DIVERGENCE\u003c/td\u003e\n",
              "      \u003ctd\u003e0.03\u003c/td\u003e\n",
              "      \u003ctd\u003e0.158921\u003c/td\u003e\n",
              "      \u003ctd\u003eTrue\u003c/td\u003e\n",
              "    \u003c/tr\u003e\n",
              "    \u003ctr\u003e\n",
              "      \u003cth\u003e4\u003c/th\u003e\n",
              "      \u003ctd\u003eisland\u003c/td\u003e\n",
              "      \u003ctd\u003eL_INFTY\u003c/td\u003e\n",
              "      \u003ctd\u003e0.03\u003c/td\u003e\n",
              "      \u003ctd\u003e0.042130\u003c/td\u003e\n",
              "      \u003ctd\u003eTrue\u003c/td\u003e\n",
              "    \u003c/tr\u003e\n",
              "    \u003ctr\u003e\n",
              "      \u003cth\u003e5\u003c/th\u003e\n",
              "      \u003ctd\u003esex\u003c/td\u003e\n",
              "      \u003ctd\u003eL_INFTY\u003c/td\u003e\n",
              "      \u003ctd\u003e0.03\u003c/td\u003e\n",
              "      \u003ctd\u003e0.034852\u003c/td\u003e\n",
              "      \u003ctd\u003eTrue\u003c/td\u003e\n",
              "    \u003c/tr\u003e\n",
              "  \u003c/tbody\u003e\n",
              "\u003c/table\u003e\n",
              "\u003c/div\u003e"
            ],
            "text/plain": [
              "               input                     metric  threshold     value  \\\n",
              "0        body_mass_g  JENSEN_SHANNON_DIVERGENCE       0.03  0.072752   \n",
              "1    culmen_depth_mm  JENSEN_SHANNON_DIVERGENCE       0.03  0.002961   \n",
              "2   culmen_length_mm  JENSEN_SHANNON_DIVERGENCE       0.03  0.000824   \n",
              "3  flipper_length_mm  JENSEN_SHANNON_DIVERGENCE       0.03  0.158921   \n",
              "4             island                    L_INFTY       0.03  0.042130   \n",
              "5                sex                    L_INFTY       0.03  0.034852   \n",
              "\n",
              "   is_anomaly  \n",
              "0        True  \n",
              "1       False  \n",
              "2       False  \n",
              "3        True  \n",
              "4        True  \n",
              "5        True  "
            ]
          },
          "execution_count": 90,
          "metadata": {},
          "output_type": "execute_result"
        }
      ],
      "source": [
        "%%bigquery\n",
        "SELECT *\n",
        "FROM ML.VALIDATE_DATA_DRIFT(\n",
        "    (\n",
        "        SELECT * EXCEPT(instance_timestamp)\n",
        "        FROM `statmike-mlops-349915.bqml_model_monitoring.serving_all`\n",
        "        WHERE DATE(instance_timestamp) = DATE_SUB(CURRENT_DATE(), INTERVAL 5 DAY)\n",
        "    ),\n",
        "    (\n",
        "        SELECT * EXCEPT(instance_timestamp)\n",
        "        FROM `statmike-mlops-349915.bqml_model_monitoring.serving_all`\n",
        "        WHERE DATE(instance_timestamp) = CURRENT_DATE() \n",
        "    ),\n",
        "    STRUCT(\n",
        "        0.03 AS categorical_default_threshold,\n",
        "        0.03 AS numerical_default_threshold\n",
        "    )\n",
        ");"
      ]
    },
    {
      "cell_type": "markdown",
      "metadata": {
        "id": "VYXdRUF9xLVM"
      },
      "source": [
        "### Remove Endpoint \n",
        "To prevent ongoing cost for this demonstration, remove the endpoint.  "
      ]
    },
    {
      "cell_type": "code",
      "execution_count": 91,
      "metadata": {
        "tags": [],
        "id": "YGdDJia9xLVM"
      },
      "outputs": [
        {
          "name": "stdout",
          "output_type": "stream",
          "text": [
            "Undeploying Endpoint model: projects/1026793852137/locations/us-central1/endpoints/8376174138397556736\n",
            "Undeploy Endpoint model backing LRO: projects/1026793852137/locations/us-central1/endpoints/8376174138397556736/operations/3796627428965613568\n",
            "Endpoint model undeployed. Resource name: projects/1026793852137/locations/us-central1/endpoints/8376174138397556736\n",
            "Deleting Endpoint : projects/1026793852137/locations/us-central1/endpoints/8376174138397556736\n",
            "Delete Endpoint  backing LRO: projects/1026793852137/locations/us-central1/operations/2956072779763417088\n",
            "Endpoint deleted. . Resource name: projects/1026793852137/locations/us-central1/endpoints/8376174138397556736\n"
          ]
        }
      ],
      "source": [
        "endpoint.delete(force = True)"
      ]
    },
    {
      "cell_type": "markdown",
      "metadata": {
        "id": "KkJVLLfJxLVM"
      },
      "source": [
        "---\n",
        "## Continous Monitoring\n",
        "\n",
        "The methods above can be combined into a job that runs both skew and drift detection.  The jobs can be scheduled or triggered to make the process of model monitoring continous - continous monitoring.  If the model quality can be evaluated with confidence then the automation can even be extended to retrain and update the model for continous training.   \n",
        "\n",
        "This section shows one of many ways to create a model monitoring job. For models created in BigQuery with BigQuery ML it also shows a retraining action as part of the job when alerts are detected.\n",
        "\n",
        "These types of jobs could be automated for continous monitoring with one of these methods:\n",
        "- [BigQuery Scheduled Queries](https://cloud.google.com/bigquery/docs/scheduling-queries)\n",
        "    - Featured below\n",
        "- [Dataform](https://cloud.google.com/dataform/docs/quickstart-create-workflow)\n",
        "- [Workflows](https://cloud.google.com/workflows/docs/tutorials/bigquery-parallel-jobs)\n",
        "- [Cloud Composer](https://cloud.google.com/composer/docs/data-analytics-googlecloud)\n",
        "- [Vertex AI Pipelines](https://cloud.google.com/vertex-ai/docs/pipelines/gcpc-list#bqml_components)\n",
        "\n",
        "This section will show how to:\n",
        "- Develop model monitoring jobs:\n",
        "    - with alterting and retraining\n",
        "- Build tables to capture continous monitoring results\n",
        "- Extend monitoring jobs to BigQuery Scheduled Queries\n",
        "- Backfill monitoring jobs for a past time period"
      ]
    },
    {
      "cell_type": "markdown",
      "metadata": {
        "id": "gfxVoF1fxLVM"
      },
      "source": [
        "### Model Monitoring Job: With Alerting And Retraining\n",
        "\n",
        "A BigQuery SQL job that uses the [procedural language](https://cloud.google.com/bigquery/docs/reference/standard-sql/procedural-language) to execute multiple statements (steps) as a single query.  In this case, monitoring skew and drift, detecting any feature level anomalies in either and reporting back the anomalies via a log note with a forced error.\n",
        "\n",
        "This job also includes retraining of the BigQuery ML model:\n",
        "In this case the example is simplified to retrain the model and directly implement it as a replacement with `CREATE OR REPLACE MODEL`.  In a production enviornment additional pre/post steps might take place as part of this workflow:\n",
        "- on skew/drift detection:\n",
        "    - Prior to retraining:\n",
        "        - ensure detection is not due to data errors, schema changes, or system changes\n",
        "    - After retrainning:\n",
        "        - evaluate the model and compare to current production version\n",
        "        - conditionally deploy the new version if it is better in any/all key metrics\n",
        "        - consider rollout strategies for the retrained model\n",
        "        - trigger human review before deployment of the replacement"
      ]
    },
    {
      "cell_type": "code",
      "execution_count": 92,
      "metadata": {
        "tags": [],
        "id": "M5b6femExLVM"
      },
      "outputs": [
        {
          "name": "stdout",
          "output_type": "stream",
          "text": [
            "Executing query with job ID: 4aed911b-fc79-430f-8a59-e70f0f55f464\n",
            "Query executing: 0.26s"
          ]
        },
        {
          "name": "stderr",
          "output_type": "stream",
          "text": [
            "\n",
            "ERROR:\n",
            " 400 Query error: \n",
            "\n",
            "Monitoring Report:\n",
            "\tNo drift detected.\n",
            "\tNo skew detected.\n",
            "\n",
            " at [142:9]\n",
            "\n",
            "Location: US\n",
            "Job ID: 4aed911b-fc79-430f-8a59-e70f0f55f464\n",
            "\n"
          ]
        }
      ],
      "source": [
        "%%bigquery\n",
        "DECLARE drift_anomalies ARRAY\u003cSTRING\u003e;\n",
        "DECLARE drift STRING;\n",
        "DECLARE skew_anomalies ARRAY\u003cSTRING\u003e;\n",
        "DECLARE skew STRING;\n",
        "\n",
        "# Monitor Drift:\n",
        "SET drift_anomalies = (\n",
        "    SELECT ARRAY_AGG(input)\n",
        "    FROM ML.VALIDATE_DATA_DRIFT(\n",
        "        (\n",
        "            SELECT * EXCEPT(species, instance_timestamp)\n",
        "            FROM `statmike-mlops-349915.bqml_model_monitoring.serving`\n",
        "            WHERE DATE(instance_timestamp) = DATE_SUB(CURRENT_DATE(), INTERVAL 30 DAY)\n",
        "        ),\n",
        "        (\n",
        "            SELECT * EXCEPT(species, instance_timestamp)\n",
        "            FROM `statmike-mlops-349915.bqml_model_monitoring.serving`\n",
        "            WHERE DATE(instance_timestamp) = DATE_SUB(CURRENT_DATE(), INTERVAL 29 DAY)\n",
        "        ),\n",
        "        STRUCT(\n",
        "            0.4 AS categorical_default_threshold,\n",
        "            0.4 AS numerical_default_threshold\n",
        "        )\n",
        "    )\n",
        "    WHERE is_anomaly = True\n",
        ");\n",
        "IF(ARRAY_LENGTH(drift_anomalies) \u003e 0) THEN\n",
        "    SET drift = CONCAT(\n",
        "        \"Found data drift (\", ARRAY_TO_STRING(drift_anomalies, \", \"), \")\"\n",
        "    );\n",
        "    ELSE SET drift = 'No drift detected.';\n",
        "END IF;\n",
        "\n",
        "# Monitor Skew\n",
        "SET skew_anomalies = (\n",
        "    SELECT ARRAY_AGG(input)\n",
        "    FROM ML.VALIDATE_DATA_SKEW(\n",
        "        MODEL `statmike-mlops-349915.bqml_model_monitoring.classify_species_rf`,\n",
        "        (\n",
        "            SELECT * EXCEPT(species, instance_timestamp)\n",
        "            FROM `statmike-mlops-349915.bqml_model_monitoring.serving`\n",
        "            WHERE DATE(instance_timestamp) = DATE_SUB(CURRENT_DATE(), INTERVAL 30 DAY)\n",
        "        )\n",
        "    )\n",
        "    WHERE is_anomaly = True\n",
        ");\n",
        "IF(ARRAY_LENGTH(skew_anomalies) \u003e 0) THEN\n",
        "    SET skew = CONCAT(\n",
        "        \"Found data skew (\", ARRAY_TO_STRING(skew_anomalies, \", \"), \")\"\n",
        "    );\n",
        "    ELSE SET skew = 'No skew detected.';\n",
        "END IF;\n",
        "\n",
        "# Prepare Alert\n",
        "IF(ARRAY_LENGTH(drift_anomalies) \u003e 0 OR ARRAY_LENGTH(skew_anomalies) \u003e 0) THEN\n",
        "    BEGIN\n",
        "        DECLARE train_accuracy FLOAT64;\n",
        "        DECLARE recent_accuracy FLOAT64;\n",
        "        DECLARE retrain_accuracy FLOAT64;\n",
        "\n",
        "        # get current models evaluation metrics: accuracy\n",
        "        SET train_accuracy = (\n",
        "            SELECT accuracy\n",
        "            FROM ML.EVALUATE (\n",
        "                MODEL `statmike-mlops-349915.bqml_model_monitoring.classify_species_rf`\n",
        "            )\n",
        "        );\n",
        "\n",
        "        # get current models recent evaluation metrics: accuracy\n",
        "        SET recent_accuracy = (\n",
        "            SELECT accuracy\n",
        "            FROM ML.EVALUATE (\n",
        "                MODEL `statmike-mlops-349915.bqml_model_monitoring.classify_species_rf`,\n",
        "                (\n",
        "                    SELECT *\n",
        "                    FROM `statmike-mlops-349915.bqml_model_monitoring.serving`\n",
        "                    WHERE DATE(instance_timestamp) = DATE_SUB(CURRENT_DATE(), INTERVAL 30 DAY) \n",
        "                )\n",
        "            )\n",
        "        );\n",
        "\n",
        "        # retrain the model\n",
        "        CREATE OR REPLACE MODEL `statmike-mlops-349915.bqml_model_monitoring.classify_species_rf`\n",
        "            TRANSFORM(\n",
        "                ML.ROBUST_SCALER(body_mass_g) OVER() AS body_mass_g,\n",
        "                ML.STANDARD_SCALER(culmen_length_mm) OVER() AS culmen_length_mm,\n",
        "                ML.STANDARD_SCALER(culmen_depth_mm) OVER() AS culmen_depth_mm,\n",
        "                ML.QUANTILE_BUCKETIZE(flipper_length_mm, 3) OVER() AS flipper_length_mm,\n",
        "                ML.IMPUTER(sex, 'most_frequent') OVER() AS sex,\n",
        "                ML.IMPUTER(island, 'most_frequent') OVER() AS island,\n",
        "                species\n",
        "            )\n",
        "            OPTIONS(\n",
        "                MODEL_TYPE = 'RANDOM_FOREST_CLASSIFIER',\n",
        "                INPUT_LABEL_COLS = ['species'],\n",
        "\n",
        "                # data specifics\n",
        "                DATA_SPLIT_METHOD = 'AUTO_SPLIT',\n",
        "\n",
        "                # model specifics\n",
        "                AUTO_CLASS_WEIGHTS = FALSE,\n",
        "                NUM_PARALLEL_TREE= 150,\n",
        "                TREE_METHOD = 'HIST',\n",
        "                SUBSAMPLE = 0.85,\n",
        "                COLSAMPLE_BYTREE = 0.9,\n",
        "                ENABLE_GLOBAL_EXPLAIN = TRUE,\n",
        "\n",
        "                # register model in Vertex AI For Online Serving\n",
        "                MODEL_REGISTRY = 'VERTEX_AI'\n",
        "            )\n",
        "        AS\n",
        "            SELECT species, island, culmen_length_mm, culmen_depth_mm, sex, flipper_length_mm, body_mass_g\n",
        "            FROM `statmike-mlops-349915.bqml_model_monitoring.training`\n",
        "            UNION ALL\n",
        "            SELECT species, island, culmen_length_mm, culmen_depth_mm, sex, flipper_length_mm, body_mass_g\n",
        "            FROM `statmike-mlops-349915.bqml_model_monitoring.serving`\n",
        "            WHERE DATE(instance_timestamp) = DATE_SUB(CURRENT_DATE(), INTERVAL 30 DAY)\n",
        "        ;\n",
        "\n",
        "        # get retrained models evaluation metrics: accuracy\n",
        "        SET retrain_accuracy = (\n",
        "            SELECT accuracy\n",
        "            FROM ML.EVALUATE (\n",
        "                MODEL `statmike-mlops-349915.bqml_model_monitoring.classify_species_rf`\n",
        "            )\n",
        "        );\n",
        "\n",
        "        SELECT ERROR(\n",
        "            CONCAT(\n",
        "                \"\\n\\nMonitoring Report:\",\n",
        "                \"\\n\\t\", drift,\n",
        "                \"\\n\\t\", skew,\n",
        "                \"\\nThe Model was retrained:\",\n",
        "                \"\\n\\taccuracy of prior model: \", train_accuracy,\n",
        "                \"\\n\\trecent accuracy of prior model: \", recent_accuracy,\n",
        "                \"\\n\\taccuracy after retraining: \", retrain_accuracy,\n",
        "                \"\\n\\n\"\n",
        "            )\n",
        "        );\n",
        "    END;\n",
        "    ELSE\n",
        "        SELECT ERROR(\n",
        "            CONCAT(\n",
        "                \"\\n\\nMonitoring Report:\",\n",
        "                \"\\n\\t\", drift,\n",
        "                \"\\n\\t\", skew,\n",
        "                \"\\n\\n\"\n",
        "            )\n",
        "        );\n",
        "END IF;"
      ]
    },
    {
      "cell_type": "markdown",
      "metadata": {
        "id": "r47M55B_xLVM"
      },
      "source": [
        "### From Job To Scheduled Query\n",
        "\n",
        "The model monitoring job created above can be modified and scheduled using [scheduled queries](https://cloud.google.com/bigquery/docs/scheduling-queries).  A key feature of the modification is making use of the parameter `@run_date` to parameterize the queries reference to dates (see [configuration options](https://cloud.google.com/bigquery/docs/scheduling-queries#configuration_options)).  This allows the query to run as though it is on different dates which will be helpful as we backfill the model monitoring runs after scheduling for today and forward.\n",
        "\n",
        "Note, the next cell is writing the content of the query to a file named `model_monitoring_job.sql`.\n",
        "Other modification to the job above:\n",
        "- Drift is set to compare the last weeks serving data to the prior week\n",
        "- Skew is set to compare the last weeks serving data to the baseline training data"
      ]
    },
    {
      "cell_type": "code",
      "execution_count": 93,
      "metadata": {
        "tags": [],
        "id": "k6V3uWxRxLVM"
      },
      "outputs": [
        {
          "name": "stdout",
          "output_type": "stream",
          "text": [
            "Overwriting model_monitoring_job.sql\n"
          ]
        }
      ],
      "source": [
        "%%writefile model_monitoring_job.sql\n",
        "DECLARE drift_anomalies ARRAY\u003cSTRING\u003e;\n",
        "DECLARE drift STRING;\n",
        "DECLARE skew_anomalies ARRAY\u003cSTRING\u003e;\n",
        "DECLARE skew STRING;\n",
        "\n",
        "# Monitor Drift\n",
        "SET drift_anomalies = (\n",
        "    SELECT ARRAY_AGG(input)\n",
        "    FROM ML.VALIDATE_DATA_DRIFT(\n",
        "        (\n",
        "            SELECT * EXCEPT(instance_timestamp)\n",
        "            FROM `statmike-mlops-349915.bqml_model_monitoring.serving_all`\n",
        "            WHERE\n",
        "                DATE(instance_timestamp) \u003e= DATE_SUB(@run_date, INTERVAL 2 WEEK)\n",
        "                AND\n",
        "                DATE(instance_timestamp) \u003c DATE_SUB(@run_date, INTERVAL 1 WEEK)\n",
        "        ),\n",
        "        (\n",
        "            SELECT * EXCEPT(instance_timestamp)\n",
        "            FROM `statmike-mlops-349915.bqml_model_monitoring.serving_all`\n",
        "            WHERE DATE(instance_timestamp) \u003e= DATE_SUB(@run_date, INTERVAL 1 WEEK)\n",
        "        ),\n",
        "        STRUCT(\n",
        "            0.4 AS categorical_default_threshold,\n",
        "            0.4 AS numerical_default_threshold\n",
        "        )\n",
        "    )\n",
        "    WHERE is_anomaly = True\n",
        ");\n",
        "IF(ARRAY_LENGTH(drift_anomalies) \u003e 0) THEN\n",
        "    SET drift = CONCAT(\n",
        "        \"Found data drift (\", ARRAY_TO_STRING(drift_anomalies, \", \"), \")\"\n",
        "    );\n",
        "    ELSE SET drift = 'No drift detected.';\n",
        "END IF;\n",
        "\n",
        "# Monitor Skew\n",
        "SET skew_anomalies = (\n",
        "    SELECT ARRAY_AGG(input)\n",
        "    FROM ML.VALIDATE_DATA_SKEW(\n",
        "        MODEL `statmike-mlops-349915.bqml_model_monitoring.classify_species_rf`,\n",
        "        (\n",
        "            SELECT * EXCEPT(instance_timestamp)\n",
        "            FROM `statmike-mlops-349915.bqml_model_monitoring.serving_all`\n",
        "            WHERE DATE(instance_timestamp) \u003e= DATE_SUB(@run_date, INTERVAL 1 WEEK)\n",
        "        )\n",
        "    )\n",
        "    WHERE is_anomaly = True\n",
        ");\n",
        "IF(ARRAY_LENGTH(skew_anomalies) \u003e 0) THEN\n",
        "    SET skew = CONCAT(\n",
        "        \"Found data skew (\", ARRAY_TO_STRING(skew_anomalies, \", \"), \")\"\n",
        "    );\n",
        "    ELSE SET skew = 'No skew detected.';\n",
        "END IF;\n",
        "\n",
        "# Prepare Alert\n",
        "IF(ARRAY_LENGTH(drift_anomalies) \u003e 0 OR ARRAY_LENGTH(skew_anomalies) \u003e 0) THEN\n",
        "    BEGIN\n",
        "        DECLARE train_accuracy FLOAT64;\n",
        "        DECLARE recent_accuracy FLOAT64;\n",
        "        DECLARE retrain_accuracy FLOAT64;\n",
        "\n",
        "        # get current models evaluation metrics: accuracy\n",
        "        SET train_accuracy = (\n",
        "            SELECT accuracy\n",
        "            FROM ML.EVALUATE (\n",
        "                MODEL `statmike-mlops-349915.bqml_model_monitoring.classify_species_rf`\n",
        "            )\n",
        "        );\n",
        "\n",
        "        # get current models recent evaluation metrics: accuracy\n",
        "        SET recent_accuracy = (\n",
        "            SELECT accuracy\n",
        "            FROM ML.EVALUATE (\n",
        "                MODEL `statmike-mlops-349915.bqml_model_monitoring.classify_species_rf`,\n",
        "                (\n",
        "                    SELECT *\n",
        "                    FROM `statmike-mlops-349915.bqml_model_monitoring.serving`\n",
        "                    WHERE DATE(instance_timestamp) \u003e= DATE_SUB(@run_date, INTERVAL 1 WEEK) \n",
        "                )\n",
        "            )\n",
        "        );\n",
        "\n",
        "        # retrain the model\n",
        "        CREATE OR REPLACE MODEL `statmike-mlops-349915.bqml_model_monitoring.classify_species_rf`\n",
        "            TRANSFORM(\n",
        "                ML.ROBUST_SCALER(body_mass_g) OVER() AS body_mass_g,\n",
        "                ML.STANDARD_SCALER(culmen_length_mm) OVER() AS culmen_length_mm,\n",
        "                ML.STANDARD_SCALER(culmen_depth_mm) OVER() AS culmen_depth_mm,\n",
        "                ML.QUANTILE_BUCKETIZE(flipper_length_mm, 3) OVER() AS flipper_length_mm,\n",
        "                ML.IMPUTER(sex, 'most_frequent') OVER() AS sex,\n",
        "                ML.IMPUTER(island, 'most_frequent') OVER() AS island,\n",
        "                species\n",
        "            )\n",
        "            OPTIONS(\n",
        "                MODEL_TYPE = 'RANDOM_FOREST_CLASSIFIER',\n",
        "                INPUT_LABEL_COLS = ['species'],\n",
        "\n",
        "                # data specifics\n",
        "                DATA_SPLIT_METHOD = 'AUTO_SPLIT',\n",
        "\n",
        "                # model specifics\n",
        "                AUTO_CLASS_WEIGHTS = FALSE,\n",
        "                NUM_PARALLEL_TREE= 150,\n",
        "                TREE_METHOD = 'HIST',\n",
        "                SUBSAMPLE = 0.85,\n",
        "                COLSAMPLE_BYTREE = 0.9,\n",
        "                ENABLE_GLOBAL_EXPLAIN = TRUE,\n",
        "\n",
        "                # register model in Vertex AI For Online Serving\n",
        "                MODEL_REGISTRY = 'VERTEX_AI'\n",
        "            )\n",
        "        AS\n",
        "            SELECT species, island, culmen_length_mm, culmen_depth_mm, sex, flipper_length_mm, body_mass_g\n",
        "            FROM `statmike-mlops-349915.bqml_model_monitoring.training_split`\n",
        "            WHERE splits = 'TRAIN'\n",
        "            UNION ALL\n",
        "            SELECT species, island, culmen_length_mm, culmen_depth_mm, sex, flipper_length_mm, body_mass_g\n",
        "            FROM `statmike-mlops-349915.bqml_model_monitoring.serving`\n",
        "            WHERE DATE(instance_timestamp) \u003c @run_date\n",
        "        ;\n",
        "\n",
        "        # get retrained models evaluation metrics: accuracy\n",
        "        SET retrain_accuracy = (\n",
        "            SELECT accuracy\n",
        "            FROM ML.EVALUATE (\n",
        "                MODEL `statmike-mlops-349915.bqml_model_monitoring.classify_species_rf`\n",
        "            )\n",
        "        );\n",
        "\n",
        "        SELECT ERROR(\n",
        "            CONCAT(\n",
        "                \"\\n\\nMonitoring Report for \", @run_date, \":\",\n",
        "                \"\\n\\t\", drift,\n",
        "                \"\\n\\t\", skew,\n",
        "                \"\\nThe Model was retrained:\",\n",
        "                \"\\n\\taccuracy of prior model: \", train_accuracy,\n",
        "                \"\\n\\trecent accuracy of prior model: \", recent_accuracy,\n",
        "                \"\\n\\taccuracy after retraining: \", retrain_accuracy,\n",
        "                \"\\n\\n\"\n",
        "            )\n",
        "        );\n",
        "    END;\n",
        "    # ELSE ... supressed alerts on runs without anomalies detected\n",
        "END IF;"
      ]
    },
    {
      "cell_type": "markdown",
      "metadata": {
        "id": "RIEeYgDmxLVM"
      },
      "source": [
        "### Schedule The Query\n",
        "\n",
        "The query can be scheduled in [a number of ways](https://cloud.google.com/bigquery/docs/scheduling-queries#set_up_scheduled_queries) including the console, bq cli, and Python. Here, the Python client will be used.\n",
        "- **References**\n",
        "    - [Python Client For BigQuery Data Transfer](https://cloud.google.com/python/docs/reference/bigquerydatatransfer/latest)\n",
        "    - [Set up schedule queries with Python client](https://cloud.google.com/bigquery/docs/scheduling-queries#python)"
      ]
    },
    {
      "cell_type": "code",
      "execution_count": 94,
      "metadata": {
        "tags": [],
        "id": "d41gcuvrxLVM"
      },
      "outputs": [],
      "source": [
        "from google.cloud import bigquery_datatransfer\n",
        "from datetime import datetime, timezone, timedelta\n",
        "import time\n",
        "transfer_client = bigquery_datatransfer.DataTransferServiceClient()"
      ]
    },
    {
      "cell_type": "code",
      "execution_count": 95,
      "metadata": {
        "tags": [],
        "id": "D_B7BJv_xLVM"
      },
      "outputs": [
        {
          "data": {
            "text/plain": [
              "datetime.datetime(2024, 4, 19, 12, 26, 56, 372673, tzinfo=datetime.timezone.utc)"
            ]
          },
          "execution_count": 95,
          "metadata": {},
          "output_type": "execute_result"
        }
      ],
      "source": [
        "start_time = datetime.now(timezone.utc) + timedelta(days=1) # start tomorrow\n",
        "start_time"
      ]
    },
    {
      "cell_type": "code",
      "execution_count": 96,
      "metadata": {
        "tags": [],
        "id": "Fif3zUIdxLVM"
      },
      "outputs": [],
      "source": [
        "with open('model_monitoring_job.sql', 'r') as file:\n",
        "    query = file.read()"
      ]
    },
    {
      "cell_type": "code",
      "execution_count": 97,
      "metadata": {
        "tags": [],
        "id": "mXDuvzE8xLVM"
      },
      "outputs": [
        {
          "data": {
            "text/plain": [
              "'projects/statmike-mlops-349915/locations/us'"
            ]
          },
          "execution_count": 97,
          "metadata": {},
          "output_type": "execute_result"
        }
      ],
      "source": [
        "transfer_client.common_location_path('statmike-mlops-349915', 'us')"
      ]
    },
    {
      "cell_type": "code",
      "execution_count": 98,
      "metadata": {
        "tags": [],
        "id": "dB5Z20a8xLVM"
      },
      "outputs": [],
      "source": [
        "scheduled_query = transfer_client.create_transfer_config(\n",
        "    #parent = transfer_client.common_project_path('statmike-mlops-349915'),\n",
        "    parent = transfer_client.common_location_path('statmike-mlops-349915', 'us'),\n",
        "    transfer_config = bigquery_datatransfer.TransferConfig(\n",
        "        display_name = 'Continous Model Monitoring',\n",
        "        data_source_id = 'scheduled_query',\n",
        "        params = {'query': query},\n",
        "        schedule = 'every 24 hours',\n",
        "        schedule_options = bigquery_datatransfer.ScheduleOptions(\n",
        "            start_time=start_time.strftime(\"%Y-%m-%dT%H:%M:%SZ\")\n",
        "        ),\n",
        "        email_preferences = bigquery_datatransfer.EmailPreferences(\n",
        "            enable_failure_email = True\n",
        "        )\n",
        "    )\n",
        ")"
      ]
    },
    {
      "cell_type": "code",
      "execution_count": 99,
      "metadata": {
        "tags": [],
        "id": "JPf_vTk4xLVM"
      },
      "outputs": [
        {
          "data": {
            "text/plain": [
              "('Continous Model Monitoring',\n",
              " 'projects/1026793852137/locations/us/transferConfigs/664bfe7b-0000-25b2-b432-582429bf87dc')"
            ]
          },
          "execution_count": 99,
          "metadata": {},
          "output_type": "execute_result"
        }
      ],
      "source": [
        "scheduled_query.display_name, scheduled_query.name"
      ]
    },
    {
      "cell_type": "code",
      "execution_count": 100,
      "metadata": {
        "tags": [],
        "id": "STVEOI4xxLVM"
      },
      "outputs": [
        {
          "data": {
            "text/plain": [
              "'2024-04-20 12:26:00.000000'"
            ]
          },
          "execution_count": 100,
          "metadata": {},
          "output_type": "execute_result"
        }
      ],
      "source": [
        "scheduled_query.next_run_time.strftime(\"%Y-%m-%d %H:%M:%S.%f\")"
      ]
    },
    {
      "cell_type": "markdown",
      "metadata": {
        "id": "SZvOLhu9xLVM"
      },
      "source": [
        "Take a moment to see the query in the console:\n",
        "- Console \u003e BigQuery \u003e Scheduled Queries"
      ]
    },
    {
      "cell_type": "markdown",
      "metadata": {
        "id": "vjz-ic-hxLVM"
      },
      "source": [
        "### Backfill History With Scheduled Query\n",
        "\n",
        "While the client can use a start and end time to run a range of backfill dates, it will runs these backwards from most recent to the earliest time.  Due to the nature of the model monitoring job it is more desirable to run these in the order from earliest to most recent.  This is accomplished by launching each days job separately in the desired order."
      ]
    },
    {
      "cell_type": "code",
      "execution_count": 101,
      "metadata": {
        "tags": [],
        "id": "9H0H0CLdxLVM"
      },
      "outputs": [],
      "source": [
        "# -30 days\n",
        "start_time = datetime.now(timezone.utc) + timedelta(days = -30)\n",
        "backfill_job = transfer_client.start_manual_transfer_runs(\n",
        "    request = bigquery_datatransfer.StartManualTransferRunsRequest(\n",
        "        parent = scheduled_query.name,\n",
        "        requested_run_time = start_time \n",
        "    )\n",
        ")"
      ]
    },
    {
      "cell_type": "code",
      "execution_count": 102,
      "metadata": {
        "tags": [],
        "id": "HFaOXRcvxLVM"
      },
      "outputs": [
        {
          "data": {
            "text/plain": [
              "'projects/1026793852137/locations/us/transferConfigs/664bfe7b-0000-25b2-b432-582429bf87dc/runs/66497d6d-0000-27c4-b08b-582429aa5714'"
            ]
          },
          "execution_count": 102,
          "metadata": {},
          "output_type": "execute_result"
        }
      ],
      "source": [
        "backfill_job.runs[0].name"
      ]
    },
    {
      "cell_type": "code",
      "execution_count": 103,
      "metadata": {
        "tags": [],
        "id": "fzrxtaQMxLVM"
      },
      "outputs": [
        {
          "data": {
            "text/plain": [
              "'RUNNING'"
            ]
          },
          "execution_count": 103,
          "metadata": {},
          "output_type": "execute_result"
        }
      ],
      "source": [
        "transfer_client.get_transfer_run(\n",
        "    name = backfill_job.runs[0].name\n",
        ").state.name"
      ]
    },
    {
      "cell_type": "markdown",
      "metadata": {
        "id": "2N7BPMXOxLVM"
      },
      "source": [
        "**NOTE:** A State of 'FAILED' is actually the correct end state as the method of using SQL ERRORS to pass the results and trigger notification emails was used. A State of 'SUCCEEDED' will represent runs without an anomaly detected.  [Read more about TrasferState](https://cloud.google.com/python/docs/reference/bigquerydatatransfer/latest/google.cloud.bigquery_datatransfer_v1.types.TransferState)."
      ]
    },
    {
      "cell_type": "code",
      "execution_count": 109,
      "metadata": {
        "tags": [],
        "id": "vFa_FuJNxLVM"
      },
      "outputs": [],
      "source": [
        "while True:\n",
        "    state = transfer_client.get_transfer_run(\n",
        "        name = backfill_job.runs[0].name\n",
        "    ).state.name\n",
        "    if state in ['FAILED', 'SUCCEEDED', 'CANCELLED']:\n",
        "        break\n",
        "    else:\n",
        "        time.sleep(30)"
      ]
    },
    {
      "cell_type": "code",
      "execution_count": 110,
      "metadata": {
        "tags": [],
        "id": "DFcEVvhIxLVM"
      },
      "outputs": [],
      "source": [
        "backfill_jobs =[backfill_job]"
      ]
    },
    {
      "cell_type": "code",
      "execution_count": 111,
      "metadata": {
        "tags": [],
        "id": "IlrBaNbpxLVM"
      },
      "outputs": [
        {
          "name": "stdout",
          "output_type": "stream",
          "text": [
            "2024-03-20 12:42:33.086478+00:00\n",
            "2024-03-21 12:47:35.168343+00:00\n",
            "2024-03-22 12:51:26.721053+00:00\n",
            "2024-03-23 12:55:18.180583+00:00\n",
            "2024-03-24 13:00:19.834230+00:00\n",
            "2024-03-25 13:06:42.190407+00:00\n",
            "2024-03-26 13:08:02.842911+00:00\n",
            "2024-03-27 13:09:23.412273+00:00\n",
            "2024-03-28 13:15:45.706222+00:00\n",
            "2024-03-29 13:17:17.508638+00:00\n",
            "2024-03-30 13:18:38.115473+00:00\n",
            "2024-03-31 13:22:29.587652+00:00\n",
            "2024-04-01 13:23:50.225386+00:00\n",
            "2024-04-02 13:25:10.789751+00:00\n",
            "2024-04-03 13:26:31.344224+00:00\n",
            "2024-04-04 13:27:51.908045+00:00\n",
            "2024-04-05 13:31:43.342797+00:00\n",
            "2024-04-06 13:33:03.922409+00:00\n",
            "2024-04-07 13:34:24.907581+00:00\n",
            "2024-04-08 13:35:45.492920+00:00\n",
            "2024-04-09 13:37:06.131821+00:00\n",
            "2024-04-10 13:38:26.779414+00:00\n",
            "2024-04-11 13:39:47.413350+00:00\n",
            "2024-04-12 13:41:07.977307+00:00\n",
            "2024-04-13 13:42:28.600386+00:00\n",
            "2024-04-14 13:43:49.166801+00:00\n",
            "2024-04-15 13:45:09.751688+00:00\n",
            "2024-04-16 13:46:30.412630+00:00\n",
            "2024-04-17 13:47:51.086130+00:00\n",
            "2024-04-18 13:49:11.652702+00:00\n"
          ]
        }
      ],
      "source": [
        "# Loop From -29 to -0 days\n",
        "for days in range(30)[::-1]:\n",
        "    start_time = datetime.now(timezone.utc) + timedelta(days = -1*days)\n",
        "    print(start_time)\n",
        "    # start job\n",
        "    backfill_jobs.append(\n",
        "        transfer_client.start_manual_transfer_runs(\n",
        "            request = bigquery_datatransfer.StartManualTransferRunsRequest(\n",
        "                parent = scheduled_query.name,\n",
        "                requested_run_time = start_time \n",
        "            )\n",
        "        )\n",
        "    )\n",
        "    # monitor job before continuing:\n",
        "    while True:\n",
        "        state = transfer_client.get_transfer_run(\n",
        "            name = backfill_jobs[-1].runs[0].name\n",
        "        ).state.name\n",
        "        if state in ['FAILED', 'SUCCEEDED', 'CANCELLED']:\n",
        "            break\n",
        "        else:\n",
        "            time.sleep(10)    "
      ]
    },
    {
      "cell_type": "code",
      "execution_count": 112,
      "metadata": {
        "tags": [],
        "id": "XkEjjBLAxLVM"
      },
      "outputs": [],
      "source": [
        "backfill_results = [transfer_client.get_transfer_run(name = j.runs[0].name) for j in backfill_jobs]"
      ]
    },
    {
      "cell_type": "code",
      "execution_count": 113,
      "metadata": {
        "tags": [],
        "id": "bf4097IVxLVM"
      },
      "outputs": [
        {
          "data": {
            "text/html": [
              "\u003cstyle type=\"text/css\"\u003e\n",
              "#T_52ea5_row0_col0, #T_52ea5_row0_col1, #T_52ea5_row1_col0, #T_52ea5_row1_col1, #T_52ea5_row2_col0, #T_52ea5_row2_col1, #T_52ea5_row3_col0, #T_52ea5_row3_col1, #T_52ea5_row4_col0, #T_52ea5_row4_col1, #T_52ea5_row5_col0, #T_52ea5_row5_col1, #T_52ea5_row6_col0, #T_52ea5_row6_col1, #T_52ea5_row7_col0, #T_52ea5_row7_col1, #T_52ea5_row8_col0, #T_52ea5_row8_col1, #T_52ea5_row9_col0, #T_52ea5_row9_col1, #T_52ea5_row10_col0, #T_52ea5_row10_col1, #T_52ea5_row11_col0, #T_52ea5_row11_col1, #T_52ea5_row12_col0, #T_52ea5_row12_col1, #T_52ea5_row13_col0, #T_52ea5_row13_col1, #T_52ea5_row14_col0, #T_52ea5_row14_col1, #T_52ea5_row15_col0, #T_52ea5_row15_col1, #T_52ea5_row16_col0, #T_52ea5_row16_col1, #T_52ea5_row17_col0, #T_52ea5_row17_col1, #T_52ea5_row18_col0, #T_52ea5_row18_col1, #T_52ea5_row19_col0, #T_52ea5_row19_col1, #T_52ea5_row20_col0, #T_52ea5_row20_col1, #T_52ea5_row21_col0, #T_52ea5_row21_col1, #T_52ea5_row22_col0, #T_52ea5_row22_col1, #T_52ea5_row23_col0, #T_52ea5_row23_col1, #T_52ea5_row24_col0, #T_52ea5_row24_col1, #T_52ea5_row25_col0, #T_52ea5_row25_col1, #T_52ea5_row26_col0, #T_52ea5_row26_col1, #T_52ea5_row27_col0, #T_52ea5_row27_col1, #T_52ea5_row28_col0, #T_52ea5_row28_col1, #T_52ea5_row29_col0, #T_52ea5_row29_col1, #T_52ea5_row30_col0, #T_52ea5_row30_col1 {\n",
              "  text-align: left;\n",
              "  white-space: pre-wrap;\n",
              "}\n",
              "\u003c/style\u003e\n",
              "\u003ctable id=\"T_52ea5\"\u003e\n",
              "  \u003cthead\u003e\n",
              "    \u003ctr\u003e\n",
              "      \u003cth class=\"blank level0\" \u003e\u0026nbsp;\u003c/th\u003e\n",
              "      \u003cth id=\"T_52ea5_level0_col0\" class=\"col_heading level0 col0\" \u003eDate\u003c/th\u003e\n",
              "      \u003cth id=\"T_52ea5_level0_col1\" class=\"col_heading level0 col1\" \u003eResult\u003c/th\u003e\n",
              "    \u003c/tr\u003e\n",
              "  \u003c/thead\u003e\n",
              "  \u003ctbody\u003e\n",
              "    \u003ctr\u003e\n",
              "      \u003cth id=\"T_52ea5_level0_row0\" class=\"row_heading level0 row0\" \u003e0\u003c/th\u003e\n",
              "      \u003ctd id=\"T_52ea5_row0_col0\" class=\"data row0 col0\" \u003e2024-03-19 12:27:40.075971+00:00\u003c/td\u003e\n",
              "      \u003ctd id=\"T_52ea5_row0_col1\" class=\"data row0 col1\" \u003eQuery error: \n",
              "\n",
              "Monitoring Report for 2024-03-19:\n",
              "\tNo drift detected.\n",
              "\tFound data skew (flipper_length_mm)\n",
              "The Model was retrained:\n",
              "\taccuracy of prior model: 1\n",
              "\trecent accuracy of prior model: 0.9270687237026648\n",
              "\taccuracy after retraining: 0.99159663865546221\n",
              "\n",
              " at [132:9]; JobID: 1026793852137:scheduled_query_66497d6d-0000-27c4-b08b-582429aa5714\u003c/td\u003e\n",
              "    \u003c/tr\u003e\n",
              "    \u003ctr\u003e\n",
              "      \u003cth id=\"T_52ea5_level0_row1\" class=\"row_heading level0 row1\" \u003e1\u003c/th\u003e\n",
              "      \u003ctd id=\"T_52ea5_row1_col0\" class=\"data row1 col0\" \u003e2024-03-20 12:42:33.086478+00:00\u003c/td\u003e\n",
              "      \u003ctd id=\"T_52ea5_row1_col1\" class=\"data row1 col1\" \u003eQuery error: \n",
              "\n",
              "Monitoring Report for 2024-03-20:\n",
              "\tNo drift detected.\n",
              "\tFound data skew (flipper_length_mm)\n",
              "The Model was retrained:\n",
              "\taccuracy of prior model: 1\n",
              "\trecent accuracy of prior model: 0.91070593735390371\n",
              "\taccuracy after retraining: 0.990228013029316\n",
              "\n",
              " at [132:9]; JobID: 1026793852137:scheduled_query_66231953-0000-2387-8e1c-14c14ef35818\u003c/td\u003e\n",
              "    \u003c/tr\u003e\n",
              "    \u003ctr\u003e\n",
              "      \u003cth id=\"T_52ea5_level0_row2\" class=\"row_heading level0 row2\" \u003e2\u003c/th\u003e\n",
              "      \u003ctd id=\"T_52ea5_row2_col0\" class=\"data row2 col0\" \u003e2024-03-21 12:47:35.168343+00:00\u003c/td\u003e\n",
              "      \u003ctd id=\"T_52ea5_row2_col1\" class=\"data row2 col1\" \u003eQuery error: \n",
              "\n",
              "Monitoring Report for 2024-03-21:\n",
              "\tNo drift detected.\n",
              "\tFound data skew (flipper_length_mm)\n",
              "The Model was retrained:\n",
              "\taccuracy of prior model: 1\n",
              "\trecent accuracy of prior model: 0.91771856007480124\n",
              "\taccuracy after retraining: 0.99734042553191493\n",
              "\n",
              " at [132:9]; JobID: 1026793852137:scheduled_query_662320bc-0000-2387-8e1c-14c14ef35818\u003c/td\u003e\n",
              "    \u003c/tr\u003e\n",
              "    \u003ctr\u003e\n",
              "      \u003cth id=\"T_52ea5_level0_row3\" class=\"row_heading level0 row3\" \u003e3\u003c/th\u003e\n",
              "      \u003ctd id=\"T_52ea5_row3_col0\" class=\"data row3 col0\" \u003e2024-03-22 12:51:26.721053+00:00\u003c/td\u003e\n",
              "      \u003ctd id=\"T_52ea5_row3_col1\" class=\"data row3 col1\" \u003eQuery error: \n",
              "\n",
              "Monitoring Report for 2024-03-22:\n",
              "\tNo drift detected.\n",
              "\tFound data skew (flipper_length_mm)\n",
              "The Model was retrained:\n",
              "\taccuracy of prior model: 1\n",
              "\trecent accuracy of prior model: 0.76110331930808783\n",
              "\taccuracy after retraining: 0.99775280898876417\n",
              "\n",
              " at [132:9]; JobID: 1026793852137:scheduled_query_66287403-0000-2082-92b0-c82add7a0624\u003c/td\u003e\n",
              "    \u003c/tr\u003e\n",
              "    \u003ctr\u003e\n",
              "      \u003cth id=\"T_52ea5_level0_row4\" class=\"row_heading level0 row4\" \u003e4\u003c/th\u003e\n",
              "      \u003ctd id=\"T_52ea5_row4_col0\" class=\"data row4 col0\" \u003e2024-03-23 12:55:18.180583+00:00\u003c/td\u003e\n",
              "      \u003ctd id=\"T_52ea5_row4_col1\" class=\"data row4 col1\" \u003eQuery error: \n",
              "\n",
              "Monitoring Report for 2024-03-23:\n",
              "\tNo drift detected.\n",
              "\tFound data skew (flipper_length_mm)\n",
              "The Model was retrained:\n",
              "\taccuracy of prior model: 1\n",
              "\trecent accuracy of prior model: 0.90416082281439913\n",
              "\taccuracy after retraining: 1\n",
              "\n",
              " at [132:9]; JobID: 1026793852137:scheduled_query_665c3b7e-0000-226e-a4f9-001a1143dbe2\u003c/td\u003e\n",
              "    \u003c/tr\u003e\n",
              "    \u003ctr\u003e\n",
              "      \u003cth id=\"T_52ea5_level0_row5\" class=\"row_heading level0 row5\" \u003e5\u003c/th\u003e\n",
              "      \u003ctd id=\"T_52ea5_row5_col0\" class=\"data row5 col0\" \u003e2024-03-24 13:00:19.834230+00:00\u003c/td\u003e\n",
              "      \u003ctd id=\"T_52ea5_row5_col1\" class=\"data row5 col1\" \u003eQuery error: \n",
              "\n",
              "Monitoring Report for 2024-03-24:\n",
              "\tNo drift detected.\n",
              "\tFound data skew (flipper_length_mm)\n",
              "The Model was retrained:\n",
              "\taccuracy of prior model: 1\n",
              "\trecent accuracy of prior model: 0.903225806451613\n",
              "\taccuracy after retraining: 0.98130841121495327\n",
              "\n",
              " at [132:9]; JobID: 1026793852137:scheduled_query_664f72c7-0000-2d79-84fa-14c14eea023c\u003c/td\u003e\n",
              "    \u003c/tr\u003e\n",
              "    \u003ctr\u003e\n",
              "      \u003cth id=\"T_52ea5_level0_row6\" class=\"row_heading level0 row6\" \u003e6\u003c/th\u003e\n",
              "      \u003ctd id=\"T_52ea5_row6_col0\" class=\"data row6 col0\" \u003e2024-03-25 13:06:42.190407+00:00\u003c/td\u003e\n",
              "      \u003ctd id=\"T_52ea5_row6_col1\" class=\"data row6 col1\" \u003e\u003c/td\u003e\n",
              "    \u003c/tr\u003e\n",
              "    \u003ctr\u003e\n",
              "      \u003cth id=\"T_52ea5_level0_row7\" class=\"row_heading level0 row7\" \u003e7\u003c/th\u003e\n",
              "      \u003ctd id=\"T_52ea5_row7_col0\" class=\"data row7 col0\" \u003e2024-03-26 13:08:02.842911+00:00\u003c/td\u003e\n",
              "      \u003ctd id=\"T_52ea5_row7_col1\" class=\"data row7 col1\" \u003e\u003c/td\u003e\n",
              "    \u003c/tr\u003e\n",
              "    \u003ctr\u003e\n",
              "      \u003cth id=\"T_52ea5_level0_row8\" class=\"row_heading level0 row8\" \u003e8\u003c/th\u003e\n",
              "      \u003ctd id=\"T_52ea5_row8_col0\" class=\"data row8 col0\" \u003e2024-03-27 13:09:23.412273+00:00\u003c/td\u003e\n",
              "      \u003ctd id=\"T_52ea5_row8_col1\" class=\"data row8 col1\" \u003eQuery error: \n",
              "\n",
              "Monitoring Report for 2024-03-27:\n",
              "\tNo drift detected.\n",
              "\tFound data skew (flipper_length_mm)\n",
              "The Model was retrained:\n",
              "\taccuracy of prior model: 1\n",
              "\trecent accuracy of prior model: 0.95265700483091775\n",
              "\taccuracy after retraining: 1\n",
              "\n",
              " at [132:9]; JobID: 1026793852137:scheduled_query_6660683f-0000-20f1-9fd9-001a1143e9ec\u003c/td\u003e\n",
              "    \u003c/tr\u003e\n",
              "    \u003ctr\u003e\n",
              "      \u003cth id=\"T_52ea5_level0_row9\" class=\"row_heading level0 row9\" \u003e9\u003c/th\u003e\n",
              "      \u003ctd id=\"T_52ea5_row9_col0\" class=\"data row9 col0\" \u003e2024-03-28 13:15:45.706222+00:00\u003c/td\u003e\n",
              "      \u003ctd id=\"T_52ea5_row9_col1\" class=\"data row9 col1\" \u003e\u003c/td\u003e\n",
              "    \u003c/tr\u003e\n",
              "    \u003ctr\u003e\n",
              "      \u003cth id=\"T_52ea5_level0_row10\" class=\"row_heading level0 row10\" \u003e10\u003c/th\u003e\n",
              "      \u003ctd id=\"T_52ea5_row10_col0\" class=\"data row10 col0\" \u003e2024-03-29 13:17:17.508638+00:00\u003c/td\u003e\n",
              "      \u003ctd id=\"T_52ea5_row10_col1\" class=\"data row10 col1\" \u003e\u003c/td\u003e\n",
              "    \u003c/tr\u003e\n",
              "    \u003ctr\u003e\n",
              "      \u003cth id=\"T_52ea5_level0_row11\" class=\"row_heading level0 row11\" \u003e11\u003c/th\u003e\n",
              "      \u003ctd id=\"T_52ea5_row11_col0\" class=\"data row11 col0\" \u003e2024-03-30 13:18:38.115473+00:00\u003c/td\u003e\n",
              "      \u003ctd id=\"T_52ea5_row11_col1\" class=\"data row11 col1\" \u003eQuery error: \n",
              "\n",
              "Monitoring Report for 2024-03-30:\n",
              "\tNo drift detected.\n",
              "\tFound data skew (flipper_length_mm)\n",
              "The Model was retrained:\n",
              "\taccuracy of prior model: 1\n",
              "\trecent accuracy of prior model: 0.99409554482018248\n",
              "\taccuracy after retraining: 0.98969072164948457\n",
              "\n",
              " at [132:9]; JobID: 1026793852137:scheduled_query_66513042-0000-24d3-80bc-d4f547f2bda4\u003c/td\u003e\n",
              "    \u003c/tr\u003e\n",
              "    \u003ctr\u003e\n",
              "      \u003cth id=\"T_52ea5_level0_row12\" class=\"row_heading level0 row12\" \u003e12\u003c/th\u003e\n",
              "      \u003ctd id=\"T_52ea5_row12_col0\" class=\"data row12 col0\" \u003e2024-03-31 13:22:29.587652+00:00\u003c/td\u003e\n",
              "      \u003ctd id=\"T_52ea5_row12_col1\" class=\"data row12 col1\" \u003e\u003c/td\u003e\n",
              "    \u003c/tr\u003e\n",
              "    \u003ctr\u003e\n",
              "      \u003cth id=\"T_52ea5_level0_row13\" class=\"row_heading level0 row13\" \u003e13\u003c/th\u003e\n",
              "      \u003ctd id=\"T_52ea5_row13_col0\" class=\"data row13 col0\" \u003e2024-04-01 13:23:50.225386+00:00\u003c/td\u003e\n",
              "      \u003ctd id=\"T_52ea5_row13_col1\" class=\"data row13 col1\" \u003e\u003c/td\u003e\n",
              "    \u003c/tr\u003e\n",
              "    \u003ctr\u003e\n",
              "      \u003cth id=\"T_52ea5_level0_row14\" class=\"row_heading level0 row14\" \u003e14\u003c/th\u003e\n",
              "      \u003ctd id=\"T_52ea5_row14_col0\" class=\"data row14 col0\" \u003e2024-04-02 13:25:10.789751+00:00\u003c/td\u003e\n",
              "      \u003ctd id=\"T_52ea5_row14_col1\" class=\"data row14 col1\" \u003e\u003c/td\u003e\n",
              "    \u003c/tr\u003e\n",
              "    \u003ctr\u003e\n",
              "      \u003cth id=\"T_52ea5_level0_row15\" class=\"row_heading level0 row15\" \u003e15\u003c/th\u003e\n",
              "      \u003ctd id=\"T_52ea5_row15_col0\" class=\"data row15 col0\" \u003e2024-04-03 13:26:31.344224+00:00\u003c/td\u003e\n",
              "      \u003ctd id=\"T_52ea5_row15_col1\" class=\"data row15 col1\" \u003e\u003c/td\u003e\n",
              "    \u003c/tr\u003e\n",
              "    \u003ctr\u003e\n",
              "      \u003cth id=\"T_52ea5_level0_row16\" class=\"row_heading level0 row16\" \u003e16\u003c/th\u003e\n",
              "      \u003ctd id=\"T_52ea5_row16_col0\" class=\"data row16 col0\" \u003e2024-04-04 13:27:51.908045+00:00\u003c/td\u003e\n",
              "      \u003ctd id=\"T_52ea5_row16_col1\" class=\"data row16 col1\" \u003eQuery error: \n",
              "\n",
              "Monitoring Report for 2024-04-04:\n",
              "\tNo drift detected.\n",
              "\tFound data skew (flipper_length_mm)\n",
              "The Model was retrained:\n",
              "\taccuracy of prior model: 1\n",
              "\trecent accuracy of prior model: 0.98550724637681164\n",
              "\taccuracy after retraining: 0.99264705882352944\n",
              "\n",
              " at [132:9]; JobID: 1026793852137:scheduled_query_66219591-0000-2690-8ea2-14c14ef21f40\u003c/td\u003e\n",
              "    \u003c/tr\u003e\n",
              "    \u003ctr\u003e\n",
              "      \u003cth id=\"T_52ea5_level0_row17\" class=\"row_heading level0 row17\" \u003e17\u003c/th\u003e\n",
              "      \u003ctd id=\"T_52ea5_row17_col0\" class=\"data row17 col0\" \u003e2024-04-05 13:31:43.342797+00:00\u003c/td\u003e\n",
              "      \u003ctd id=\"T_52ea5_row17_col1\" class=\"data row17 col1\" \u003e\u003c/td\u003e\n",
              "    \u003c/tr\u003e\n",
              "    \u003ctr\u003e\n",
              "      \u003cth id=\"T_52ea5_level0_row18\" class=\"row_heading level0 row18\" \u003e18\u003c/th\u003e\n",
              "      \u003ctd id=\"T_52ea5_row18_col0\" class=\"data row18 col0\" \u003e2024-04-06 13:33:03.922409+00:00\u003c/td\u003e\n",
              "      \u003ctd id=\"T_52ea5_row18_col1\" class=\"data row18 col1\" \u003e\u003c/td\u003e\n",
              "    \u003c/tr\u003e\n",
              "    \u003ctr\u003e\n",
              "      \u003cth id=\"T_52ea5_level0_row19\" class=\"row_heading level0 row19\" \u003e19\u003c/th\u003e\n",
              "      \u003ctd id=\"T_52ea5_row19_col0\" class=\"data row19 col0\" \u003e2024-04-07 13:34:24.907581+00:00\u003c/td\u003e\n",
              "      \u003ctd id=\"T_52ea5_row19_col1\" class=\"data row19 col1\" \u003e\u003c/td\u003e\n",
              "    \u003c/tr\u003e\n",
              "    \u003ctr\u003e\n",
              "      \u003cth id=\"T_52ea5_level0_row20\" class=\"row_heading level0 row20\" \u003e20\u003c/th\u003e\n",
              "      \u003ctd id=\"T_52ea5_row20_col0\" class=\"data row20 col0\" \u003e2024-04-08 13:35:45.492920+00:00\u003c/td\u003e\n",
              "      \u003ctd id=\"T_52ea5_row20_col1\" class=\"data row20 col1\" \u003e\u003c/td\u003e\n",
              "    \u003c/tr\u003e\n",
              "    \u003ctr\u003e\n",
              "      \u003cth id=\"T_52ea5_level0_row21\" class=\"row_heading level0 row21\" \u003e21\u003c/th\u003e\n",
              "      \u003ctd id=\"T_52ea5_row21_col0\" class=\"data row21 col0\" \u003e2024-04-09 13:37:06.131821+00:00\u003c/td\u003e\n",
              "      \u003ctd id=\"T_52ea5_row21_col1\" class=\"data row21 col1\" \u003e\u003c/td\u003e\n",
              "    \u003c/tr\u003e\n",
              "    \u003ctr\u003e\n",
              "      \u003cth id=\"T_52ea5_level0_row22\" class=\"row_heading level0 row22\" \u003e22\u003c/th\u003e\n",
              "      \u003ctd id=\"T_52ea5_row22_col0\" class=\"data row22 col0\" \u003e2024-04-10 13:38:26.779414+00:00\u003c/td\u003e\n",
              "      \u003ctd id=\"T_52ea5_row22_col1\" class=\"data row22 col1\" \u003e\u003c/td\u003e\n",
              "    \u003c/tr\u003e\n",
              "    \u003ctr\u003e\n",
              "      \u003cth id=\"T_52ea5_level0_row23\" class=\"row_heading level0 row23\" \u003e23\u003c/th\u003e\n",
              "      \u003ctd id=\"T_52ea5_row23_col0\" class=\"data row23 col0\" \u003e2024-04-11 13:39:47.413350+00:00\u003c/td\u003e\n",
              "      \u003ctd id=\"T_52ea5_row23_col1\" class=\"data row23 col1\" \u003e\u003c/td\u003e\n",
              "    \u003c/tr\u003e\n",
              "    \u003ctr\u003e\n",
              "      \u003cth id=\"T_52ea5_level0_row24\" class=\"row_heading level0 row24\" \u003e24\u003c/th\u003e\n",
              "      \u003ctd id=\"T_52ea5_row24_col0\" class=\"data row24 col0\" \u003e2024-04-12 13:41:07.977307+00:00\u003c/td\u003e\n",
              "      \u003ctd id=\"T_52ea5_row24_col1\" class=\"data row24 col1\" \u003e\u003c/td\u003e\n",
              "    \u003c/tr\u003e\n",
              "    \u003ctr\u003e\n",
              "      \u003cth id=\"T_52ea5_level0_row25\" class=\"row_heading level0 row25\" \u003e25\u003c/th\u003e\n",
              "      \u003ctd id=\"T_52ea5_row25_col0\" class=\"data row25 col0\" \u003e2024-04-13 13:42:28.600386+00:00\u003c/td\u003e\n",
              "      \u003ctd id=\"T_52ea5_row25_col1\" class=\"data row25 col1\" \u003e\u003c/td\u003e\n",
              "    \u003c/tr\u003e\n",
              "    \u003ctr\u003e\n",
              "      \u003cth id=\"T_52ea5_level0_row26\" class=\"row_heading level0 row26\" \u003e26\u003c/th\u003e\n",
              "      \u003ctd id=\"T_52ea5_row26_col0\" class=\"data row26 col0\" \u003e2024-04-14 13:43:49.166801+00:00\u003c/td\u003e\n",
              "      \u003ctd id=\"T_52ea5_row26_col1\" class=\"data row26 col1\" \u003e\u003c/td\u003e\n",
              "    \u003c/tr\u003e\n",
              "    \u003ctr\u003e\n",
              "      \u003cth id=\"T_52ea5_level0_row27\" class=\"row_heading level0 row27\" \u003e27\u003c/th\u003e\n",
              "      \u003ctd id=\"T_52ea5_row27_col0\" class=\"data row27 col0\" \u003e2024-04-15 13:45:09.751688+00:00\u003c/td\u003e\n",
              "      \u003ctd id=\"T_52ea5_row27_col1\" class=\"data row27 col1\" \u003e\u003c/td\u003e\n",
              "    \u003c/tr\u003e\n",
              "    \u003ctr\u003e\n",
              "      \u003cth id=\"T_52ea5_level0_row28\" class=\"row_heading level0 row28\" \u003e28\u003c/th\u003e\n",
              "      \u003ctd id=\"T_52ea5_row28_col0\" class=\"data row28 col0\" \u003e2024-04-16 13:46:30.412630+00:00\u003c/td\u003e\n",
              "      \u003ctd id=\"T_52ea5_row28_col1\" class=\"data row28 col1\" \u003e\u003c/td\u003e\n",
              "    \u003c/tr\u003e\n",
              "    \u003ctr\u003e\n",
              "      \u003cth id=\"T_52ea5_level0_row29\" class=\"row_heading level0 row29\" \u003e29\u003c/th\u003e\n",
              "      \u003ctd id=\"T_52ea5_row29_col0\" class=\"data row29 col0\" \u003e2024-04-17 13:47:51.086130+00:00\u003c/td\u003e\n",
              "      \u003ctd id=\"T_52ea5_row29_col1\" class=\"data row29 col1\" \u003e\u003c/td\u003e\n",
              "    \u003c/tr\u003e\n",
              "    \u003ctr\u003e\n",
              "      \u003cth id=\"T_52ea5_level0_row30\" class=\"row_heading level0 row30\" \u003e30\u003c/th\u003e\n",
              "      \u003ctd id=\"T_52ea5_row30_col0\" class=\"data row30 col0\" \u003e2024-04-18 13:49:11.652702+00:00\u003c/td\u003e\n",
              "      \u003ctd id=\"T_52ea5_row30_col1\" class=\"data row30 col1\" \u003e\u003c/td\u003e\n",
              "    \u003c/tr\u003e\n",
              "  \u003c/tbody\u003e\n",
              "\u003c/table\u003e\n"
            ],
            "text/plain": [
              "\u003cpandas.io.formats.style.Styler at 0x7faa0ba83b20\u003e"
            ]
          },
          "execution_count": 113,
          "metadata": {},
          "output_type": "execute_result"
        }
      ],
      "source": [
        "pd.DataFrame(\n",
        "    {\n",
        "        'Date':[r.run_time for r in backfill_results],\n",
        "        'Result':[r.error_status.message for r in backfill_results]\n",
        "    }\n",
        ").style.set_properties(**{'text-align': 'left', 'white-space': 'pre-wrap'})"
      ]
    },
    {
      "cell_type": "markdown",
      "metadata": {
        "id": "fFxz1FN7xLVM"
      },
      "source": [
        "---\n",
        "## More Resources\n",
        "\n",
        "Did you also check out the ['BigQuery ML (BQML) - Model Monitoring Introduction'](./bqml-model-monitoring-introduction.ipynb) for quick overview of model monitoring with BigQuery?  If not, try it out also. \n",
        "\n",
        "Read more about model monitoring in the documentation for the model monitoring functions:\n",
        "* [BigQuery ML Documentation](https://cloud.google.com/bigquery-ml/docs/)\n",
        "* [BigQuery ML Model Monitoring](https://cloud.google.com/bigquery/docs/model-monitoring-overview)\n",
        "    - [`ML.DESCRIBE_DATA`](https://cloud.google.com/bigquery/docs/reference/standard-sql/bigqueryml-syntax-describe-data)\n",
        "    - [`ML.VALIDATE_DATA_SKEW`](https://cloud.google.com/bigquery/docs/reference/standard-sql/bigqueryml-syntax-validate-data-skew)\n",
        "    - [`ML.VALIDATE_DATA_DRIFT`](https://cloud.google.com/bigquery/docs/reference/standard-sql/bigqueryml-syntax-validate-data-drift)\n",
        "    - [`ML.TFDV_DESCRIBE`](https://cloud.google.com/bigquery/docs/reference/standard-sql/bigqueryml-syntax-tfdv-describe)\n",
        "    - [`ML.TFDV_VALIDATE`](https://cloud.google.com/bigquery/docs/reference/standard-sql/bigqueryml-syntax-tfdv-validate)"
      ]
    },
    {
      "cell_type": "markdown",
      "metadata": {
        "id": "81bi8YKTxLVM"
      },
      "source": [
        "---\n",
        "## Remove Resources Created In This Notebook\n",
        "\n",
        "The content is contained within the BigQuery dataset named `bqml_model_monitoring` created above and Vertex AI (endpoint created above).\n",
        "\n",
        "The following will delete the Vertex AI and BigQuery resources created above and the BigQuery dataset if it is empty."
      ]
    },
    {
      "cell_type": "code",
      "execution_count": 145,
      "metadata": {
        "tags": [],
        "id": "Rh4Iv31oxLVM"
      },
      "outputs": [],
      "source": [
        "# to remove resources change this flag to True:\n",
        "remove = False"
      ]
    },
    {
      "cell_type": "code",
      "execution_count": 148,
      "metadata": {
        "id": "s8mkK2nMxLVM"
      },
      "outputs": [],
      "source": [
        "if remove:\n",
        "    # client for BigQuery\n",
        "    from google.cloud import bigquery\n",
        "    bq = bigquery.Client(project = 'statmike-mlops-349915')\n",
        "    \n",
        "    # delete BigQuery table(s) and model(s) created above\n",
        "    bq.delete_table('statmike-mlops-349915.bqml_model_monitoring.training_split')\n",
        "    bq.delete_table('statmike-mlops-349915.bqml_model_monitoring.serving')\n",
        "    bq.delete_table('statmike-mlops-349915.bqml_model_monitoring.serving_online')\n",
        "    bq.delete_table('statmike-mlops-349915.bqml_model_monitoring.serving_all')\n",
        "    bq.delete_model('statmike-mlops-349915.bqml_model_monitoring.classify_species_rf')\n",
        "    \n",
        "    # delete BigQuery dataset - fails if other content was in the dataset than what this notebook created\n",
        "    bq.delete_dataset('statmike-mlops-349915.bqml_model_monitoring', delete_contents = False)\n",
        "    \n",
        "    # delete the scheduled query\n",
        "    transfer_client.delete_transfer_config(\n",
        "        name = scheduled_query.name\n",
        "    )"
      ]
    }
  ],
  "metadata": {
    "colab": {
      "authorship_tag": "ABX9TyMy6GbowZC6hovxyAVQ0UWd",
      "provenance": []
    },
    "environment": {
      "kernel": "conda-root-py",
      "name": "workbench-notebooks.m119",
      "type": "gcloud",
      "uri": "us-docker.pkg.dev/deeplearning-platform-release/gcr.io/workbench-notebooks:m119"
    },
    "kernelspec": {
      "display_name": "Python 3 (ipykernel)",
      "language": "python",
      "name": "conda-root-py"
    },
    "language_info": {
      "codemirror_mode": {
        "name": "ipython",
        "version": 3
      },
      "file_extension": ".py",
      "mimetype": "text/x-python",
      "name": "python",
      "nbconvert_exporter": "python",
      "pygments_lexer": "ipython3",
      "version": "3.10.14"
    },
    "widgets": {
      "application/vnd.jupyter.widget-state+json": {
        "1109199e5b67477788dcf20b48558d41": {
          "model_module": "@jupyter-widgets/controls",
          "model_module_version": "1.5.0",
          "model_name": "HBoxModel",
          "state": {
            "_dom_classes": [],
            "_model_module": "@jupyter-widgets/controls",
            "_model_module_version": "1.5.0",
            "_model_name": "HBoxModel",
            "_view_count": null,
            "_view_module": "@jupyter-widgets/controls",
            "_view_module_version": "1.5.0",
            "_view_name": "HBoxView",
            "box_style": "",
            "children": [
              "IPY_MODEL_93f32edfd72e4a29ac69d2e202d6e14c",
              "IPY_MODEL_3da40e23ffbd47db8d1a250292255c32",
              "IPY_MODEL_bbd5c7d0941a458dbaee866da7e5366f"
            ],
            "layout": "IPY_MODEL_e2e3c77141c04fa7885bf4b4c0e314f4"
          }
        },
        "16d1acd4a3e94cf9bc3d683ff7eb1125": {
          "model_module": "@jupyter-widgets/base",
          "model_module_version": "1.2.0",
          "model_name": "LayoutModel",
          "state": {
            "_model_module": "@jupyter-widgets/base",
            "_model_module_version": "1.2.0",
            "_model_name": "LayoutModel",
            "_view_count": null,
            "_view_module": "@jupyter-widgets/base",
            "_view_module_version": "1.2.0",
            "_view_name": "LayoutView",
            "align_content": null,
            "align_items": null,
            "align_self": null,
            "border": null,
            "bottom": null,
            "display": null,
            "flex": null,
            "flex_flow": null,
            "grid_area": null,
            "grid_auto_columns": null,
            "grid_auto_flow": null,
            "grid_auto_rows": null,
            "grid_column": null,
            "grid_gap": null,
            "grid_row": null,
            "grid_template_areas": null,
            "grid_template_columns": null,
            "grid_template_rows": null,
            "height": null,
            "justify_content": null,
            "justify_items": null,
            "left": null,
            "margin": null,
            "max_height": null,
            "max_width": null,
            "min_height": null,
            "min_width": null,
            "object_fit": null,
            "object_position": null,
            "order": null,
            "overflow": null,
            "overflow_x": null,
            "overflow_y": null,
            "padding": null,
            "right": null,
            "top": null,
            "visibility": null,
            "width": null
          }
        },
        "1b76a7321f1e482e92b6725f5d120700": {
          "model_module": "@jupyter-widgets/base",
          "model_module_version": "1.2.0",
          "model_name": "LayoutModel",
          "state": {
            "_model_module": "@jupyter-widgets/base",
            "_model_module_version": "1.2.0",
            "_model_name": "LayoutModel",
            "_view_count": null,
            "_view_module": "@jupyter-widgets/base",
            "_view_module_version": "1.2.0",
            "_view_name": "LayoutView",
            "align_content": null,
            "align_items": null,
            "align_self": null,
            "border": null,
            "bottom": null,
            "display": null,
            "flex": null,
            "flex_flow": null,
            "grid_area": null,
            "grid_auto_columns": null,
            "grid_auto_flow": null,
            "grid_auto_rows": null,
            "grid_column": null,
            "grid_gap": null,
            "grid_row": null,
            "grid_template_areas": null,
            "grid_template_columns": null,
            "grid_template_rows": null,
            "height": null,
            "justify_content": null,
            "justify_items": null,
            "left": null,
            "margin": null,
            "max_height": null,
            "max_width": null,
            "min_height": null,
            "min_width": null,
            "object_fit": null,
            "object_position": null,
            "order": null,
            "overflow": null,
            "overflow_x": null,
            "overflow_y": null,
            "padding": null,
            "right": null,
            "top": null,
            "visibility": null,
            "width": null
          }
        },
        "2d65e5a9073f4b65b95c2c629255cac1": {
          "model_module": "@jupyter-widgets/controls",
          "model_module_version": "1.5.0",
          "model_name": "DescriptionStyleModel",
          "state": {
            "_model_module": "@jupyter-widgets/controls",
            "_model_module_version": "1.5.0",
            "_model_name": "DescriptionStyleModel",
            "_view_count": null,
            "_view_module": "@jupyter-widgets/base",
            "_view_module_version": "1.2.0",
            "_view_name": "StyleView",
            "description_width": ""
          }
        },
        "39a8f6a0c95342299729b62b7a818084": {
          "model_module": "@jupyter-widgets/base",
          "model_module_version": "1.2.0",
          "model_name": "LayoutModel",
          "state": {
            "_model_module": "@jupyter-widgets/base",
            "_model_module_version": "1.2.0",
            "_model_name": "LayoutModel",
            "_view_count": null,
            "_view_module": "@jupyter-widgets/base",
            "_view_module_version": "1.2.0",
            "_view_name": "LayoutView",
            "align_content": null,
            "align_items": null,
            "align_self": null,
            "border": null,
            "bottom": null,
            "display": null,
            "flex": null,
            "flex_flow": null,
            "grid_area": null,
            "grid_auto_columns": null,
            "grid_auto_flow": null,
            "grid_auto_rows": null,
            "grid_column": null,
            "grid_gap": null,
            "grid_row": null,
            "grid_template_areas": null,
            "grid_template_columns": null,
            "grid_template_rows": null,
            "height": null,
            "justify_content": null,
            "justify_items": null,
            "left": null,
            "margin": null,
            "max_height": null,
            "max_width": null,
            "min_height": null,
            "min_width": null,
            "object_fit": null,
            "object_position": null,
            "order": null,
            "overflow": null,
            "overflow_x": null,
            "overflow_y": null,
            "padding": null,
            "right": null,
            "top": null,
            "visibility": null,
            "width": null
          }
        },
        "3acd5dce7d1b4a84b1b5540ec8d37ed3": {
          "model_module": "@jupyter-widgets/controls",
          "model_module_version": "1.5.0",
          "model_name": "ProgressStyleModel",
          "state": {
            "_model_module": "@jupyter-widgets/controls",
            "_model_module_version": "1.5.0",
            "_model_name": "ProgressStyleModel",
            "_view_count": null,
            "_view_module": "@jupyter-widgets/base",
            "_view_module_version": "1.2.0",
            "_view_name": "StyleView",
            "bar_color": null,
            "description_width": ""
          }
        },
        "3da40e23ffbd47db8d1a250292255c32": {
          "model_module": "@jupyter-widgets/controls",
          "model_module_version": "1.5.0",
          "model_name": "FloatProgressModel",
          "state": {
            "_dom_classes": [],
            "_model_module": "@jupyter-widgets/controls",
            "_model_module_version": "1.5.0",
            "_model_name": "FloatProgressModel",
            "_view_count": null,
            "_view_module": "@jupyter-widgets/controls",
            "_view_module_version": "1.5.0",
            "_view_name": "ProgressView",
            "bar_style": "success",
            "description": "",
            "description_tooltip": null,
            "layout": "IPY_MODEL_1b76a7321f1e482e92b6725f5d120700",
            "max": 5,
            "min": 0,
            "orientation": "horizontal",
            "style": "IPY_MODEL_6827ef49075d48a1bb2582fb7fd52389",
            "value": 5
          }
        },
        "441b987af9044d1f9326f906d0f1d218": {
          "model_module": "@jupyter-widgets/controls",
          "model_module_version": "1.5.0",
          "model_name": "DescriptionStyleModel",
          "state": {
            "_model_module": "@jupyter-widgets/controls",
            "_model_module_version": "1.5.0",
            "_model_name": "DescriptionStyleModel",
            "_view_count": null,
            "_view_module": "@jupyter-widgets/base",
            "_view_module_version": "1.2.0",
            "_view_name": "StyleView",
            "description_width": ""
          }
        },
        "48543e1564664f73b553a0ae5bfb0843": {
          "model_module": "@jupyter-widgets/base",
          "model_module_version": "1.2.0",
          "model_name": "LayoutModel",
          "state": {
            "_model_module": "@jupyter-widgets/base",
            "_model_module_version": "1.2.0",
            "_model_name": "LayoutModel",
            "_view_count": null,
            "_view_module": "@jupyter-widgets/base",
            "_view_module_version": "1.2.0",
            "_view_name": "LayoutView",
            "align_content": null,
            "align_items": null,
            "align_self": null,
            "border": null,
            "bottom": null,
            "display": null,
            "flex": null,
            "flex_flow": null,
            "grid_area": null,
            "grid_auto_columns": null,
            "grid_auto_flow": null,
            "grid_auto_rows": null,
            "grid_column": null,
            "grid_gap": null,
            "grid_row": null,
            "grid_template_areas": null,
            "grid_template_columns": null,
            "grid_template_rows": null,
            "height": null,
            "justify_content": null,
            "justify_items": null,
            "left": null,
            "margin": null,
            "max_height": null,
            "max_width": null,
            "min_height": null,
            "min_width": null,
            "object_fit": null,
            "object_position": null,
            "order": null,
            "overflow": null,
            "overflow_x": null,
            "overflow_y": null,
            "padding": null,
            "right": null,
            "top": null,
            "visibility": null,
            "width": null
          }
        },
        "4e5a11ea456d49a8bd7563e9b2c35511": {
          "model_module": "@jupyter-widgets/controls",
          "model_module_version": "1.5.0",
          "model_name": "DescriptionStyleModel",
          "state": {
            "_model_module": "@jupyter-widgets/controls",
            "_model_module_version": "1.5.0",
            "_model_name": "DescriptionStyleModel",
            "_view_count": null,
            "_view_module": "@jupyter-widgets/base",
            "_view_module_version": "1.2.0",
            "_view_name": "StyleView",
            "description_width": ""
          }
        },
        "543a939bbf684e49ad83771418dfdd09": {
          "model_module": "@jupyter-widgets/base",
          "model_module_version": "1.2.0",
          "model_name": "LayoutModel",
          "state": {
            "_model_module": "@jupyter-widgets/base",
            "_model_module_version": "1.2.0",
            "_model_name": "LayoutModel",
            "_view_count": null,
            "_view_module": "@jupyter-widgets/base",
            "_view_module_version": "1.2.0",
            "_view_name": "LayoutView",
            "align_content": null,
            "align_items": null,
            "align_self": null,
            "border": null,
            "bottom": null,
            "display": null,
            "flex": null,
            "flex_flow": null,
            "grid_area": null,
            "grid_auto_columns": null,
            "grid_auto_flow": null,
            "grid_auto_rows": null,
            "grid_column": null,
            "grid_gap": null,
            "grid_row": null,
            "grid_template_areas": null,
            "grid_template_columns": null,
            "grid_template_rows": null,
            "height": null,
            "justify_content": null,
            "justify_items": null,
            "left": null,
            "margin": null,
            "max_height": null,
            "max_width": null,
            "min_height": null,
            "min_width": null,
            "object_fit": null,
            "object_position": null,
            "order": null,
            "overflow": null,
            "overflow_x": null,
            "overflow_y": null,
            "padding": null,
            "right": null,
            "top": null,
            "visibility": null,
            "width": null
          }
        },
        "549c9135cfbe467ebc3a60d6ad5750e6": {
          "model_module": "@jupyter-widgets/controls",
          "model_module_version": "1.5.0",
          "model_name": "HTMLModel",
          "state": {
            "_dom_classes": [],
            "_model_module": "@jupyter-widgets/controls",
            "_model_module_version": "1.5.0",
            "_model_name": "HTMLModel",
            "_view_count": null,
            "_view_module": "@jupyter-widgets/controls",
            "_view_module_version": "1.5.0",
            "_view_name": "HTMLView",
            "description": "",
            "description_tooltip": null,
            "layout": "IPY_MODEL_e0194e91019f4661a01322bbda67ac18",
            "placeholder": "​",
            "style": "IPY_MODEL_6b0ff87e15fd4ff684355a521e0f7a1f",
            "value": ""
          }
        },
        "5805c14443ec4d3ebf24ea8dda735a99": {
          "model_module": "@jupyter-widgets/base",
          "model_module_version": "1.2.0",
          "model_name": "LayoutModel",
          "state": {
            "_model_module": "@jupyter-widgets/base",
            "_model_module_version": "1.2.0",
            "_model_name": "LayoutModel",
            "_view_count": null,
            "_view_module": "@jupyter-widgets/base",
            "_view_module_version": "1.2.0",
            "_view_name": "LayoutView",
            "align_content": null,
            "align_items": null,
            "align_self": null,
            "border": null,
            "bottom": null,
            "display": null,
            "flex": null,
            "flex_flow": null,
            "grid_area": null,
            "grid_auto_columns": null,
            "grid_auto_flow": null,
            "grid_auto_rows": null,
            "grid_column": null,
            "grid_gap": null,
            "grid_row": null,
            "grid_template_areas": null,
            "grid_template_columns": null,
            "grid_template_rows": null,
            "height": null,
            "justify_content": null,
            "justify_items": null,
            "left": null,
            "margin": null,
            "max_height": null,
            "max_width": null,
            "min_height": null,
            "min_width": null,
            "object_fit": null,
            "object_position": null,
            "order": null,
            "overflow": null,
            "overflow_x": null,
            "overflow_y": null,
            "padding": null,
            "right": null,
            "top": null,
            "visibility": null,
            "width": null
          }
        },
        "6827ef49075d48a1bb2582fb7fd52389": {
          "model_module": "@jupyter-widgets/controls",
          "model_module_version": "1.5.0",
          "model_name": "ProgressStyleModel",
          "state": {
            "_model_module": "@jupyter-widgets/controls",
            "_model_module_version": "1.5.0",
            "_model_name": "ProgressStyleModel",
            "_view_count": null,
            "_view_module": "@jupyter-widgets/base",
            "_view_module_version": "1.2.0",
            "_view_name": "StyleView",
            "bar_color": null,
            "description_width": ""
          }
        },
        "6b0ff87e15fd4ff684355a521e0f7a1f": {
          "model_module": "@jupyter-widgets/controls",
          "model_module_version": "1.5.0",
          "model_name": "DescriptionStyleModel",
          "state": {
            "_model_module": "@jupyter-widgets/controls",
            "_model_module_version": "1.5.0",
            "_model_name": "DescriptionStyleModel",
            "_view_count": null,
            "_view_module": "@jupyter-widgets/base",
            "_view_module_version": "1.2.0",
            "_view_name": "StyleView",
            "description_width": ""
          }
        },
        "8930cc60223a4b56a70a17b1c5d03a93": {
          "model_module": "@jupyter-widgets/controls",
          "model_module_version": "1.5.0",
          "model_name": "FloatProgressModel",
          "state": {
            "_dom_classes": [],
            "_model_module": "@jupyter-widgets/controls",
            "_model_module_version": "1.5.0",
            "_model_name": "FloatProgressModel",
            "_view_count": null,
            "_view_module": "@jupyter-widgets/controls",
            "_view_module_version": "1.5.0",
            "_view_name": "ProgressView",
            "bar_style": "success",
            "description": "",
            "description_tooltip": null,
            "layout": "IPY_MODEL_48543e1564664f73b553a0ae5bfb0843",
            "max": 1,
            "min": 0,
            "orientation": "horizontal",
            "style": "IPY_MODEL_3acd5dce7d1b4a84b1b5540ec8d37ed3",
            "value": 1
          }
        },
        "93f32edfd72e4a29ac69d2e202d6e14c": {
          "model_module": "@jupyter-widgets/controls",
          "model_module_version": "1.5.0",
          "model_name": "HTMLModel",
          "state": {
            "_dom_classes": [],
            "_model_module": "@jupyter-widgets/controls",
            "_model_module_version": "1.5.0",
            "_model_name": "HTMLModel",
            "_view_count": null,
            "_view_module": "@jupyter-widgets/controls",
            "_view_module_version": "1.5.0",
            "_view_name": "HTMLView",
            "description": "",
            "description_tooltip": null,
            "layout": "IPY_MODEL_543a939bbf684e49ad83771418dfdd09",
            "placeholder": "​",
            "style": "IPY_MODEL_4e5a11ea456d49a8bd7563e9b2c35511",
            "value": "Downloading: 100%"
          }
        },
        "bbd5c7d0941a458dbaee866da7e5366f": {
          "model_module": "@jupyter-widgets/controls",
          "model_module_version": "1.5.0",
          "model_name": "HTMLModel",
          "state": {
            "_dom_classes": [],
            "_model_module": "@jupyter-widgets/controls",
            "_model_module_version": "1.5.0",
            "_model_name": "HTMLModel",
            "_view_count": null,
            "_view_module": "@jupyter-widgets/controls",
            "_view_module_version": "1.5.0",
            "_view_name": "HTMLView",
            "description": "",
            "description_tooltip": null,
            "layout": "IPY_MODEL_5805c14443ec4d3ebf24ea8dda735a99",
            "placeholder": "​",
            "style": "IPY_MODEL_441b987af9044d1f9326f906d0f1d218",
            "value": ""
          }
        },
        "c656f444dbc4405a915eaecde42707d5": {
          "model_module": "@jupyter-widgets/controls",
          "model_module_version": "1.5.0",
          "model_name": "HTMLModel",
          "state": {
            "_dom_classes": [],
            "_model_module": "@jupyter-widgets/controls",
            "_model_module_version": "1.5.0",
            "_model_name": "HTMLModel",
            "_view_count": null,
            "_view_module": "@jupyter-widgets/controls",
            "_view_module_version": "1.5.0",
            "_view_name": "HTMLView",
            "description": "",
            "description_tooltip": null,
            "layout": "IPY_MODEL_16d1acd4a3e94cf9bc3d683ff7eb1125",
            "placeholder": "​",
            "style": "IPY_MODEL_2d65e5a9073f4b65b95c2c629255cac1",
            "value": "Job ID a2f9486b-cfda-4aad-959b-b5485f8f5dd8 successfully executed: 100%"
          }
        },
        "ddb7ba0f48b24355b23492fcb1db5939": {
          "model_module": "@jupyter-widgets/controls",
          "model_module_version": "1.5.0",
          "model_name": "HBoxModel",
          "state": {
            "_dom_classes": [],
            "_model_module": "@jupyter-widgets/controls",
            "_model_module_version": "1.5.0",
            "_model_name": "HBoxModel",
            "_view_count": null,
            "_view_module": "@jupyter-widgets/controls",
            "_view_module_version": "1.5.0",
            "_view_name": "HBoxView",
            "box_style": "",
            "children": [
              "IPY_MODEL_c656f444dbc4405a915eaecde42707d5",
              "IPY_MODEL_8930cc60223a4b56a70a17b1c5d03a93",
              "IPY_MODEL_549c9135cfbe467ebc3a60d6ad5750e6"
            ],
            "layout": "IPY_MODEL_39a8f6a0c95342299729b62b7a818084"
          }
        },
        "e0194e91019f4661a01322bbda67ac18": {
          "model_module": "@jupyter-widgets/base",
          "model_module_version": "1.2.0",
          "model_name": "LayoutModel",
          "state": {
            "_model_module": "@jupyter-widgets/base",
            "_model_module_version": "1.2.0",
            "_model_name": "LayoutModel",
            "_view_count": null,
            "_view_module": "@jupyter-widgets/base",
            "_view_module_version": "1.2.0",
            "_view_name": "LayoutView",
            "align_content": null,
            "align_items": null,
            "align_self": null,
            "border": null,
            "bottom": null,
            "display": null,
            "flex": null,
            "flex_flow": null,
            "grid_area": null,
            "grid_auto_columns": null,
            "grid_auto_flow": null,
            "grid_auto_rows": null,
            "grid_column": null,
            "grid_gap": null,
            "grid_row": null,
            "grid_template_areas": null,
            "grid_template_columns": null,
            "grid_template_rows": null,
            "height": null,
            "justify_content": null,
            "justify_items": null,
            "left": null,
            "margin": null,
            "max_height": null,
            "max_width": null,
            "min_height": null,
            "min_width": null,
            "object_fit": null,
            "object_position": null,
            "order": null,
            "overflow": null,
            "overflow_x": null,
            "overflow_y": null,
            "padding": null,
            "right": null,
            "top": null,
            "visibility": null,
            "width": null
          }
        },
        "e2e3c77141c04fa7885bf4b4c0e314f4": {
          "model_module": "@jupyter-widgets/base",
          "model_module_version": "1.2.0",
          "model_name": "LayoutModel",
          "state": {
            "_model_module": "@jupyter-widgets/base",
            "_model_module_version": "1.2.0",
            "_model_name": "LayoutModel",
            "_view_count": null,
            "_view_module": "@jupyter-widgets/base",
            "_view_module_version": "1.2.0",
            "_view_name": "LayoutView",
            "align_content": null,
            "align_items": null,
            "align_self": null,
            "border": null,
            "bottom": null,
            "display": null,
            "flex": null,
            "flex_flow": null,
            "grid_area": null,
            "grid_auto_columns": null,
            "grid_auto_flow": null,
            "grid_auto_rows": null,
            "grid_column": null,
            "grid_gap": null,
            "grid_row": null,
            "grid_template_areas": null,
            "grid_template_columns": null,
            "grid_template_rows": null,
            "height": null,
            "justify_content": null,
            "justify_items": null,
            "left": null,
            "margin": null,
            "max_height": null,
            "max_width": null,
            "min_height": null,
            "min_width": null,
            "object_fit": null,
            "object_position": null,
            "order": null,
            "overflow": null,
            "overflow_x": null,
            "overflow_y": null,
            "padding": null,
            "right": null,
            "top": null,
            "visibility": null,
            "width": null
          }
        }
      }
    }
  },
  "nbformat": 4,
  "nbformat_minor": 4
}
