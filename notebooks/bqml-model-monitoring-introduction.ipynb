{
  "cells": [
    {
      "cell_type": "markdown",
      "id": "f54f41a7",
      "metadata": {
        "id": "BvyKY8GdwddD"
      },
      "source": [
        "\u003c!--- header table ---\u003e\n",
        "\u003ctable align=\"left\"\u003e\n",
        "  \u003ctd style=\"text-align: center\"\u003e\n",
        "    \u003ca href=\"https://colab.research.google.com/github/GoogleCloudPlatform/bigquery-ml-utils/blob/master/notebooks/bqml-model-monitoring-introduction.ipynb\"\u003e\n",
        "      \u003cimg src=\"https://cloud.google.com/ml-engine/images/colab-logo-32px.png\" alt=\"Google Colaboratory logo\"\u003e\n",
        "      \u003cbr\u003eRun in\u003cbr\u003eColab\n",
        "    \u003c/a\u003e\n",
        "  \u003c/td\u003e\n",
        "  \u003ctd style=\"text-align: center\"\u003e\n",
        "    \u003ca href=\"https://console.cloud.google.com/vertex-ai/colab/import/https%3A%2F%2Fraw.githubusercontent.com%2FGoogleCloudPlatform%2Fbigquery-ml-utils%2Fmaster%2Fnotebooks%2Fbqml-model-monitoring-introduction.ipynb\"\u003e\n",
        "      \u003cimg width=\"32px\" src=\"https://lh3.googleusercontent.com/JmcxdQi-qOpctIvWKgPtrzZdJJK-J3sWE1RsfjZNwshCFgE_9fULcNpuXYTilIR2hjwN\" alt=\"Google Cloud Colab Enterprise logo\"\u003e\n",
        "      \u003cbr\u003eRun in\u003cbr\u003eColab Enterprise\n",
        "    \u003c/a\u003e\n",
        "  \u003c/td\u003e      \n",
        "  \u003ctd style=\"text-align: center\"\u003e\n",
        "    \u003ca href=\"https://github.com/GoogleCloudPlatform/bigquery-ml-utils/blob/master/notebooks/bqml-model-monitoring-introduction.ipynb\"\u003e\n",
        "      \u003cimg src=\"https://cloud.google.com/ml-engine/images/github-logo-32px.png\" alt=\"GitHub logo\"\u003e\n",
        "      \u003cbr\u003eView on\u003cbr\u003eGitHub\n",
        "    \u003c/a\u003e\n",
        "  \u003c/td\u003e\n",
        "  \u003ctd style=\"text-align: center\"\u003e\n",
        "    \u003ca href=\"https://console.cloud.google.com/vertex-ai/workbench/deploy-notebook?download_url=https://raw.githubusercontent.com/GoogleCloudPlatform/bigquery-ml-utils/master/notebooks/bqml-model-monitoring-introduction.ipynb\"\u003e\n",
        "      \u003cimg src=\"https://lh3.googleusercontent.com/UiNooY4LUgW_oTvpsNhPpQzsstV5W8F7rYgxgGBD85cWJoLmrOzhVs_ksK_vgx40SHs7jCqkTkCk=e14-rj-sc0xffffff-h130-w32\" alt=\"Vertex AI logo\"\u003e\n",
        "      \u003cbr\u003eOpen in\u003cbr\u003eVertex AI Workbench\n",
        "    \u003c/a\u003e\n",
        "  \u003c/td\u003e\n",
        "\u003c/table\u003e"
      ]
    },
    {
      "cell_type": "markdown",
      "id": "edcf4f67-ef83-424a-94ad-b1d53326870a",
      "metadata": {
        "tags": [],
        "id": "V8E-xF-uwddD"
      },
      "source": [
        "# BigQuery ML (BQML) - Model Monitoring Introduction\n",
        "\n",
        "This is an introduction to model monitoring with BigQuery that accompanies the [blog announcing these features](link here).  You may also want to continue on to the in-depth tutorial that accompanies this introduction: ['BigQuery ML (BQML) - Model Monitoring Tutorial'](./bqml-model-monitoring-tutorial.ipynb).\n",
        "\n",
        "This notebook provides a hands-on introduction to [model monitoring with BigQuery ML](https://cloud.google.com/bigquery/docs/model-monitoring-overview). It guides you through the process of training a model, and then implementing monitoring techniques to detect data skew and drift.  An example of automating model monitoring with alerts and retraining is included.\n",
        "\n",
        "**Key Features Explored:**\n",
        "\n",
        "* **Data Understanding with [`ML.DESCRIBE_DATA`](https://cloud.google.com/bigquery/docs/reference/standard-sql/bigqueryml-syntax-describe-data):** Analyze the distribution of values in your dataset to identify potential issues and inform feature engineering decisions.\n",
        "* **Model Training with `CREATE MODEL`:** Train a machine learning model directly in BigQuery using the `CREATE MODEL` statement.\n",
        "* **Monitoring Skew with [`ML.VALIDATE_DATA_SKEW`](https://cloud.google.com/bigquery/docs/reference/standard-sql/bigqueryml-syntax-validate-data-skew):** Compare the distribution of your serving data to the training data to detect potential data skew.\n",
        "* **Monitoring Drift with [`ML.VALIDATE_DATA_DRIFT`](https://cloud.google.com/bigquery/docs/reference/standard-sql/bigqueryml-syntax-validate-data-drift):** Compare the distribution of your serving data over time to detect potential data drift.\n",
        "* **TensorFlow Data Validation (TFDV) Integration:** Leverage the power of TFDV within BigQuery to generate descriptive statistics and visualize anomalies using [`ML.TFDV_DESCRIBE`](https://cloud.google.com/bigquery/docs/reference/standard-sql/bigqueryml-syntax-tfdv-describe) and [`ML.TFDV_VALIDATE`](https://cloud.google.com/bigquery/docs/reference/standard-sql/bigqueryml-syntax-tfdv-validate).\n",
        "* **Continuous Monitoring Job:** Build a BigQuery SQL job that automates the monitoring process and triggers retraining actions when necessary.\n",
        "\n",
        "**Benefits of Using BigQuery ML Model Monitoring:**\n",
        "\n",
        "* **Early Detection of Issues:** Identify potential problems with your model's performance before they impact your business.\n",
        "* **Improved Model Accuracy:** Ensure your model remains accurate over time by detecting and addressing data skew and drift.\n",
        "* **Reduced Operational Costs:** Automate the monitoring process to save time and resources.\n",
        "* **Enhanced Decision-Making:** Gain insights into how your data is changing and make informed decisions about model retraining and deployment.\n",
        "\n",
        "**Target Audience:**\n",
        "\n",
        "This notebook is designed for data scientists, machine learning engineers, and anyone interested in learning about [model monitoring with BigQuery ML](https://cloud.google.com/bigquery/docs/model-monitoring-overview).\n",
        "\n",
        "**Getting Started:**\n",
        "\n",
        "To get started, you will need a [Google Cloud Platform](https:/cloud.google.com) account and a basic understanding of [BigQuery](https://cloud.google.com/bigquery) and SQL. \n",
        "\n",
        "**Additional Resources:**\n",
        "\n",
        "* [BigQuery ML Documentation](https://cloud.google.com/bigquery-ml/docs/)\n",
        "* [BigQuery ML Model Monitoring](https://cloud.google.com/bigquery/docs/model-monitoring-overview)\n",
        "    - [`ML.DESCRIBE_DATA`](https://cloud.google.com/bigquery/docs/reference/standard-sql/bigqueryml-syntax-describe-data)\n",
        "    - [`ML.VALIDATE_DATA_SKEW`](https://cloud.google.com/bigquery/docs/reference/standard-sql/bigqueryml-syntax-validate-data-skew)\n",
        "    - [`ML.VALIDATE_DATA_DRIFT`](https://cloud.google.com/bigquery/docs/reference/standard-sql/bigqueryml-syntax-validate-data-drift)\n",
        "    - [`ML.TFDV_DESCRIBE`](https://cloud.google.com/bigquery/docs/reference/standard-sql/bigqueryml-syntax-tfdv-describe)\n",
        "    - [`ML.TFDV_VALIDATE`](https://cloud.google.com/bigquery/docs/reference/standard-sql/bigqueryml-syntax-tfdv-validate)\n",
        "\n",
        "**Summary:**\n",
        "\n",
        "BigQuery ML model monitoring provides a powerful and efficient way to ensure the ongoing performance and accuracy of your machine learning models. By leveraging the techniques and tools covered in this notebook, you can gain valuable insights into your data, detect potential issues early on, and take corrective actions to maintain the effectiveness of your models over time.\n"
      ]
    },
    {
      "cell_type": "markdown",
      "id": "ac715ea0-269a-41d1-a0ac-c2c944e2c7f1",
      "metadata": {
        "id": "J_-1oCZ7oQe_"
      },
      "source": [
        "---\n",
        "## Colab Setup\n",
        "\n",
        "When running this notebook in [Colab](https://colab.google/) or [Colab Enterprise](https://cloud.google.com/colab/docs/introduction), this section will authenticate to GCP (follow prompts in the popup) and set the current project for the session."
      ]
    },
    {
      "cell_type": "code",
      "execution_count": 1,
      "id": "4aebd58b-5deb-48f1-b720-36c81ab55bf7",
      "metadata": {
        "executionInfo": {
          "elapsed": 178,
          "status": "ok",
          "timestamp": 1710716382256,
          "user": {
            "displayName": "Mike Henderson",
            "userId": "07691629187611687318"
          },
          "user_tz": 240
        },
        "id": "bUeb3Vz9c-cz",
        "tags": []
      },
      "outputs": [],
      "source": [
        "PROJECT_ID = 'statmike-mlops-349915' # replace with project ID"
      ]
    },
    {
      "cell_type": "code",
      "execution_count": 2,
      "id": "60bfdf5c-e988-4e0a-b613-129985779467",
      "metadata": {
        "colab": {
          "base_uri": "https://localhost:8080/"
        },
        "executionInfo": {
          "elapsed": 1769,
          "status": "ok",
          "timestamp": 1710716384851,
          "user": {
            "displayName": "Mike Henderson",
            "userId": "07691629187611687318"
          },
          "user_tz": 240
        },
        "id": "ztC0h14fc-fr",
        "outputId": "16d1144f-1671-4919-edba-31bc197ffc7b",
        "tags": []
      },
      "outputs": [
        {
          "name": "stdout",
          "output_type": "stream",
          "text": [
            "Not a Colab Environment\n"
          ]
        }
      ],
      "source": [
        "try:\n",
        "    from google.colab import auth\n",
        "    auth.authenticate_user(project_id = PROJECT_ID)\n",
        "    print('Colab authorized to GCP')\n",
        "except Exception:\n",
        "    print('Not a Colab Environment')\n",
        "    pass"
      ]
    },
    {
      "cell_type": "markdown",
      "id": "dda1ce01-3292-4863-81d0-e604e87e43b0",
      "metadata": {
        "id": "Pu82Q_qFwddD"
      },
      "source": [
        "---\n",
        "## Installs\n",
        "\n",
        "The list `packages` contains tuples of package import names and install names.  If the import name is not found then the install name is used to install quitely for the current user."
      ]
    },
    {
      "cell_type": "code",
      "execution_count": 3,
      "id": "d940c10d-7160-46bb-9fa3-dabe10db88c5",
      "metadata": {
        "tags": [],
        "id": "5YYWe_6twddD"
      },
      "outputs": [],
      "source": [
        "# tuples of (import name, install name, min_version)\n",
        "packages = [\n",
        "    ('tensorflow_data_validation', 'tensorflow-data-validation'),\n",
        "    ('tensorflow_metadata', 'tensorflow-metadata'),\n",
        "    ('google.cloud.bigquery', 'google-cloud-bigquery')\n",
        "]\n",
        "\n",
        "import importlib\n",
        "install = False\n",
        "for package in packages:\n",
        "    if not importlib.util.find_spec(package[0]):\n",
        "        print(f'installing package {package[1]}')\n",
        "        install = True\n",
        "        !pip install {package[1]} -U -q --user\n",
        "    elif len(package) == 3:\n",
        "        if importlib.metadata.version(package[0]) \u003c package[2]:\n",
        "            print(f'updating package {package[1]}')\n",
        "            install = True\n",
        "            !pip install {package[1]} -U -q --user"
      ]
    },
    {
      "cell_type": "markdown",
      "id": "641a36a1-c26c-4f3b-990e-64254a9fd1a8",
      "metadata": {
        "id": "yXNxWJfYwddD"
      },
      "source": [
        "### Restart Kernel (If Installs Occured)\n",
        "After a kernel restart the code submission can start with the next cell after this one."
      ]
    },
    {
      "cell_type": "code",
      "execution_count": 4,
      "id": "14d26af3-e34b-4d30-b5bd-97afda537ed5",
      "metadata": {
        "id": "UOAeX4rowddD"
      },
      "outputs": [],
      "source": [
        "if install:\n",
        "    import IPython\n",
        "    app = IPython.Application.instance()\n",
        "    app.kernel.do_shutdown(True)"
      ]
    },
    {
      "cell_type": "markdown",
      "id": "b9e093cd-4926-4d28-ab7d-6ad2543dee03",
      "metadata": {
        "id": "yt5uZFvRoWLp"
      },
      "source": [
        "---\n",
        "## Setup"
      ]
    },
    {
      "cell_type": "markdown",
      "id": "f978b8f9-45bc-4628-95e5-4e0e457dbb33",
      "metadata": {
        "id": "0AMlrJhVwddD"
      },
      "source": [
        "Packages:"
      ]
    },
    {
      "cell_type": "code",
      "execution_count": 5,
      "id": "2a7851f5-8e91-4d78-8575-ffc6ab10843f",
      "metadata": {
        "tags": [],
        "id": "RQajYMbEwddD"
      },
      "outputs": [],
      "source": [
        "import json"
      ]
    },
    {
      "cell_type": "markdown",
      "id": "578e625c-3e15-40fe-9fe6-8a0d521193f1",
      "metadata": {
        "id": "f2GjJ7RQwddD"
      },
      "source": [
        "Clients:"
      ]
    },
    {
      "cell_type": "code",
      "execution_count": 6,
      "id": "7f368df4-6b6a-4772-a085-6ff74978cf50",
      "metadata": {
        "colab": {
          "base_uri": "https://localhost:8080/"
        },
        "executionInfo": {
          "elapsed": 159,
          "status": "ok",
          "timestamp": 1710716582376,
          "user": {
            "displayName": "Mike Henderson",
            "userId": "07691629187611687318"
          },
          "user_tz": 240
        },
        "id": "14nUE43Oc-ip",
        "outputId": "55b2c2b1-b6ad-42cc-b3cc-d6e3afcaa071",
        "tags": []
      },
      "outputs": [
        {
          "name": "stdout",
          "output_type": "stream",
          "text": [
            "The google.cloud.bigquery extension is already loaded. To reload it, use:\n",
            "  %reload_ext google.cloud.bigquery\n"
          ]
        }
      ],
      "source": [
        "%load_ext google.cloud.bigquery"
      ]
    },
    {
      "cell_type": "markdown",
      "id": "31fac07a-34bc-4d22-8624-ab52d29695ec",
      "metadata": {
        "id": "yTM6bkELwddD"
      },
      "source": [
        "Prepare the code below for your environment.\n",
        "\n",
        "This notebook takes advantage of the [BigQuery IPython magic](https://cloud.google.com/python/docs/reference/bigquery/latest/magics) for legibility and ease of copy/pasting to BigQuery SQL editor.  If this notebook is being used from an environment that can run notebooks it needs further preparation: Colab, Colab Enterprise, Vertex AI Workbench Instances, or BigQuery Studio with a Python Notebook.  The SQL code in these cells uses the fully qualified [BigQuery table](https://cloud.google.com/bigquery/docs/tables-intro) names in the form `projectname.datasetname.tablename`.  Prepare for your environment by:\n",
        "- Edit \u003e Find\n",
        "    - Find: `statmike-mlops-349915`\n",
        "    - Replace: `\u003cyour project id\u003e`\n",
        "    - Replace All"
      ]
    },
    {
      "cell_type": "markdown",
      "id": "e50f0ccd-a43d-488d-8e47-0b3f4d46fbfc",
      "metadata": {
        "id": "iCrhuWf-wddD"
      },
      "source": [
        "---\n",
        "## BigQuery Source Data\n",
        "\n",
        "This project will uses the following data source as a tutorial.  It is good for examples like this because it is small, has few columns, but contains categorial and numerical data types.\n",
        "\n",
        "The source table is a BigQuery Public Dataset table.  The following cell uses the [BigQuery IPython magic](https://cloud.google.com/python/docs/reference/bigquery/latest/magics) to retrieve 5 rows of the table for review.  This data is known as [Palmer Penguins](https://allisonhorst.github.io/palmerpenguins/) data: \n",
        "\n",
        "```\n",
        "@Manual{,\n",
        "  title = {palmerpenguins: Palmer Archipelago (Antarctica) penguin data},\n",
        "  author = {Allison Marie Horst and Alison Presmanes Hill and Kristen B Gorman},\n",
        "  year = {2020},\n",
        "  note = {R package version 0.1.0},\n",
        "  doi = {10.5281/zenodo.3960218},\n",
        "  url = {https://allisonhorst.github.io/palmerpenguins/},\n",
        "}\n",
        "```\n",
        "\n",
        "\n",
        "There are 334 observations of 4 numerical features (culman length, culmen depth, flipper length, body mass) and 2  categorical features (island, sex) that represent 3 species of penguins."
      ]
    },
    {
      "cell_type": "code",
      "execution_count": 7,
      "id": "001fe23d-4eae-4731-ba68-c7bff0dc2898",
      "metadata": {
        "tags": [],
        "id": "js2DlH6swddD"
      },
      "outputs": [
        {
          "data": {
            "application/vnd.jupyter.widget-view+json": {
              "model_id": "a259a900c95e44c6817a8a4b924abda9",
              "version_major": 2,
              "version_minor": 0
            },
            "text/plain": [
              "Query is running:   0%|          |"
            ]
          },
          "metadata": {},
          "output_type": "display_data"
        },
        {
          "data": {
            "application/vnd.jupyter.widget-view+json": {
              "model_id": "d9fef4a58237481b973c98062373b622",
              "version_major": 2,
              "version_minor": 0
            },
            "text/plain": [
              "Downloading:   0%|          |"
            ]
          },
          "metadata": {},
          "output_type": "display_data"
        },
        {
          "data": {
            "text/html": [
              "\u003cdiv\u003e\n",
              "\u003cstyle scoped\u003e\n",
              "    .dataframe tbody tr th:only-of-type {\n",
              "        vertical-align: middle;\n",
              "    }\n",
              "\n",
              "    .dataframe tbody tr th {\n",
              "        vertical-align: top;\n",
              "    }\n",
              "\n",
              "    .dataframe thead th {\n",
              "        text-align: right;\n",
              "    }\n",
              "\u003c/style\u003e\n",
              "\u003ctable border=\"1\" class=\"dataframe\"\u003e\n",
              "  \u003cthead\u003e\n",
              "    \u003ctr style=\"text-align: right;\"\u003e\n",
              "      \u003cth\u003e\u003c/th\u003e\n",
              "      \u003cth\u003especies\u003c/th\u003e\n",
              "      \u003cth\u003eisland\u003c/th\u003e\n",
              "      \u003cth\u003eculmen_length_mm\u003c/th\u003e\n",
              "      \u003cth\u003eculmen_depth_mm\u003c/th\u003e\n",
              "      \u003cth\u003eflipper_length_mm\u003c/th\u003e\n",
              "      \u003cth\u003ebody_mass_g\u003c/th\u003e\n",
              "      \u003cth\u003esex\u003c/th\u003e\n",
              "    \u003c/tr\u003e\n",
              "  \u003c/thead\u003e\n",
              "  \u003ctbody\u003e\n",
              "    \u003ctr\u003e\n",
              "      \u003cth\u003e0\u003c/th\u003e\n",
              "      \u003ctd\u003eAdelie Penguin (Pygoscelis adeliae)\u003c/td\u003e\n",
              "      \u003ctd\u003eDream\u003c/td\u003e\n",
              "      \u003ctd\u003e36.6\u003c/td\u003e\n",
              "      \u003ctd\u003e18.4\u003c/td\u003e\n",
              "      \u003ctd\u003e184.0\u003c/td\u003e\n",
              "      \u003ctd\u003e3475.0\u003c/td\u003e\n",
              "      \u003ctd\u003eFEMALE\u003c/td\u003e\n",
              "    \u003c/tr\u003e\n",
              "    \u003ctr\u003e\n",
              "      \u003cth\u003e1\u003c/th\u003e\n",
              "      \u003ctd\u003eAdelie Penguin (Pygoscelis adeliae)\u003c/td\u003e\n",
              "      \u003ctd\u003eDream\u003c/td\u003e\n",
              "      \u003ctd\u003e39.8\u003c/td\u003e\n",
              "      \u003ctd\u003e19.1\u003c/td\u003e\n",
              "      \u003ctd\u003e184.0\u003c/td\u003e\n",
              "      \u003ctd\u003e4650.0\u003c/td\u003e\n",
              "      \u003ctd\u003eMALE\u003c/td\u003e\n",
              "    \u003c/tr\u003e\n",
              "    \u003ctr\u003e\n",
              "      \u003cth\u003e2\u003c/th\u003e\n",
              "      \u003ctd\u003eAdelie Penguin (Pygoscelis adeliae)\u003c/td\u003e\n",
              "      \u003ctd\u003eDream\u003c/td\u003e\n",
              "      \u003ctd\u003e40.9\u003c/td\u003e\n",
              "      \u003ctd\u003e18.9\u003c/td\u003e\n",
              "      \u003ctd\u003e184.0\u003c/td\u003e\n",
              "      \u003ctd\u003e3900.0\u003c/td\u003e\n",
              "      \u003ctd\u003eMALE\u003c/td\u003e\n",
              "    \u003c/tr\u003e\n",
              "    \u003ctr\u003e\n",
              "      \u003cth\u003e3\u003c/th\u003e\n",
              "      \u003ctd\u003eChinstrap penguin (Pygoscelis antarctica)\u003c/td\u003e\n",
              "      \u003ctd\u003eDream\u003c/td\u003e\n",
              "      \u003ctd\u003e46.5\u003c/td\u003e\n",
              "      \u003ctd\u003e17.9\u003c/td\u003e\n",
              "      \u003ctd\u003e192.0\u003c/td\u003e\n",
              "      \u003ctd\u003e3500.0\u003c/td\u003e\n",
              "      \u003ctd\u003eFEMALE\u003c/td\u003e\n",
              "    \u003c/tr\u003e\n",
              "    \u003ctr\u003e\n",
              "      \u003cth\u003e4\u003c/th\u003e\n",
              "      \u003ctd\u003eAdelie Penguin (Pygoscelis adeliae)\u003c/td\u003e\n",
              "      \u003ctd\u003eDream\u003c/td\u003e\n",
              "      \u003ctd\u003e37.3\u003c/td\u003e\n",
              "      \u003ctd\u003e16.8\u003c/td\u003e\n",
              "      \u003ctd\u003e192.0\u003c/td\u003e\n",
              "      \u003ctd\u003e3000.0\u003c/td\u003e\n",
              "      \u003ctd\u003eFEMALE\u003c/td\u003e\n",
              "    \u003c/tr\u003e\n",
              "  \u003c/tbody\u003e\n",
              "\u003c/table\u003e\n",
              "\u003c/div\u003e"
            ],
            "text/plain": [
              "                                     species island  culmen_length_mm  \\\n",
              "0        Adelie Penguin (Pygoscelis adeliae)  Dream              36.6   \n",
              "1        Adelie Penguin (Pygoscelis adeliae)  Dream              39.8   \n",
              "2        Adelie Penguin (Pygoscelis adeliae)  Dream              40.9   \n",
              "3  Chinstrap penguin (Pygoscelis antarctica)  Dream              46.5   \n",
              "4        Adelie Penguin (Pygoscelis adeliae)  Dream              37.3   \n",
              "\n",
              "   culmen_depth_mm  flipper_length_mm  body_mass_g     sex  \n",
              "0             18.4              184.0       3475.0  FEMALE  \n",
              "1             19.1              184.0       4650.0    MALE  \n",
              "2             18.9              184.0       3900.0    MALE  \n",
              "3             17.9              192.0       3500.0  FEMALE  \n",
              "4             16.8              192.0       3000.0  FEMALE  "
            ]
          },
          "execution_count": 7,
          "metadata": {},
          "output_type": "execute_result"
        }
      ],
      "source": [
        "%%bigquery\n",
        "SELECT *\n",
        "FROM `bigquery-public-data.ml_datasets.penguins`\n",
        "LIMIT 5"
      ]
    },
    {
      "cell_type": "markdown",
      "id": "ba1a2148-e509-486f-9595-f579adab5b13",
      "metadata": {
        "id": "oHY2Y63YwddD"
      },
      "source": [
        "---\n",
        "## **Goal: Train, Serve, And Monitor A Model**\n",
        "\n",
        "**Train A Model**\n",
        "\n",
        "In this workflow our goal is to train and operationalize a machine leanring model that can classify unidentified penguins into the correct `species` using only measurements (`culmen_length_mm`, `culmen_depth_mm`, `flipper_length_mm`, `body_mass_g`), location (`island`) and gender (`sex`).  That means serving predictions, monitoring features, and potentially retraining the model.\n",
        "\n",
        "**Operationalize The Model**\n",
        "\n",
        "Taking a trained model to production introduces challenges. The model needs to be regularly evaluated to understand it's performance once put into production. This can be challenging as actual values used to assess the accuracy of predictions may arrive later than the predictions. Continuous monitoring bridges this gap with early signals in two key ways. First, monitoring the distributions of each of the models features for shift (called **skew**) from the training data to the current data. Then, also monitoring for any gradual **drift** in the distribution over time. Setting thresholds and getting alerts for features on each of this distribution changes gives early signals that the model needs to be carefully considered for evaluation and re-training to ensure effectiveness. If the evaluation can be automated then this can even extend to **continuous training**. "
      ]
    },
    {
      "cell_type": "markdown",
      "id": "c06462a5-cec4-40c3-93a8-cb4c7fc03845",
      "metadata": {
        "id": "cXfB1_2QwddD"
      },
      "source": [
        "---\n",
        "## Data Preparation"
      ]
    },
    {
      "cell_type": "markdown",
      "id": "f1782a42-8fe6-4991-ab64-de67c3033de4",
      "metadata": {
        "tags": [],
        "id": "jx_Pr7_bwddD"
      },
      "source": [
        "### Understand The Data Source With `ML.DESCRIBE_DATA`\n",
        "\n",
        "Reviewing a few records, like above, gives a good sense of how the data is arranged. Before proceeding with machine learning techniques it is important to understand more about these raw columns.  Are they ready to use a features in a model or is some form of feature engineering needed first?  For this, the distribution of values is an important starting point.  \n",
        "\n",
        "While SQL could be used to look at the distribution, it would be a time consuming process and requires different techniques for different data types like numerical, string, boolean, dates, times, array and struct version of these, and arrays of structs.\n",
        "\n",
        "To make this process fast and simple, the new [`ML.DESCRIBE_DATA`](https://cloud.google.com/bigquery/docs/reference/standard-sql/bigqueryml-syntax-describe-data) function is used to get a single row for each column the describes the data distribution:\n",
        "- `top_k`: get the top 3 most frequent categories for string columns (default = 1)\n",
        "- `num_quantiles`: get 4 quantiles for numerical columns (default = 2)"
      ]
    },
    {
      "cell_type": "code",
      "execution_count": 8,
      "id": "8a0d999c-b1e1-41e6-98dd-e83db5777c49",
      "metadata": {
        "tags": [],
        "id": "MXdZi243wddD"
      },
      "outputs": [
        {
          "data": {
            "application/vnd.jupyter.widget-view+json": {
              "model_id": "1aa50b8f4bf4428eaa877dd1a82cfa87",
              "version_major": 2,
              "version_minor": 0
            },
            "text/plain": [
              "Query is running:   0%|          |"
            ]
          },
          "metadata": {},
          "output_type": "display_data"
        },
        {
          "data": {
            "application/vnd.jupyter.widget-view+json": {
              "model_id": "7a228c17bf7c421e8fffb4e34b846dbd",
              "version_major": 2,
              "version_minor": 0
            },
            "text/plain": [
              "Downloading:   0%|          |"
            ]
          },
          "metadata": {},
          "output_type": "display_data"
        },
        {
          "data": {
            "text/html": [
              "\u003cdiv\u003e\n",
              "\u003cstyle scoped\u003e\n",
              "    .dataframe tbody tr th:only-of-type {\n",
              "        vertical-align: middle;\n",
              "    }\n",
              "\n",
              "    .dataframe tbody tr th {\n",
              "        vertical-align: top;\n",
              "    }\n",
              "\n",
              "    .dataframe thead th {\n",
              "        text-align: right;\n",
              "    }\n",
              "\u003c/style\u003e\n",
              "\u003ctable border=\"1\" class=\"dataframe\"\u003e\n",
              "  \u003cthead\u003e\n",
              "    \u003ctr style=\"text-align: right;\"\u003e\n",
              "      \u003cth\u003e\u003c/th\u003e\n",
              "      \u003cth\u003ename\u003c/th\u003e\n",
              "      \u003cth\u003enum_rows\u003c/th\u003e\n",
              "      \u003cth\u003enum_nulls\u003c/th\u003e\n",
              "      \u003cth\u003enum_zeros\u003c/th\u003e\n",
              "      \u003cth\u003emin\u003c/th\u003e\n",
              "      \u003cth\u003emax\u003c/th\u003e\n",
              "      \u003cth\u003emean\u003c/th\u003e\n",
              "      \u003cth\u003estddev\u003c/th\u003e\n",
              "      \u003cth\u003emedian\u003c/th\u003e\n",
              "      \u003cth\u003equantiles\u003c/th\u003e\n",
              "      \u003cth\u003eunique\u003c/th\u003e\n",
              "      \u003cth\u003eavg_string_length\u003c/th\u003e\n",
              "      \u003cth\u003enum_values\u003c/th\u003e\n",
              "      \u003cth\u003etop_values\u003c/th\u003e\n",
              "      \u003cth\u003emin_array_length\u003c/th\u003e\n",
              "      \u003cth\u003emax_array_length\u003c/th\u003e\n",
              "      \u003cth\u003eavg_array_length\u003c/th\u003e\n",
              "      \u003cth\u003etotal_array_length\u003c/th\u003e\n",
              "      \u003cth\u003earray_length_quantiles\u003c/th\u003e\n",
              "      \u003cth\u003edimension\u003c/th\u003e\n",
              "    \u003c/tr\u003e\n",
              "  \u003c/thead\u003e\n",
              "  \u003ctbody\u003e\n",
              "    \u003ctr\u003e\n",
              "      \u003cth\u003e0\u003c/th\u003e\n",
              "      \u003ctd\u003ebody_mass_g\u003c/td\u003e\n",
              "      \u003ctd\u003e344\u003c/td\u003e\n",
              "      \u003ctd\u003e2\u003c/td\u003e\n",
              "      \u003ctd\u003e0\u003c/td\u003e\n",
              "      \u003ctd\u003e2700\u003c/td\u003e\n",
              "      \u003ctd\u003e6300\u003c/td\u003e\n",
              "      \u003ctd\u003e4201.754386\u003c/td\u003e\n",
              "      \u003ctd\u003e800.781229\u003c/td\u003e\n",
              "      \u003ctd\u003e4050.0\u003c/td\u003e\n",
              "      \u003ctd\u003e[2700.0, 3550.0, 4050.0, 4750.0, 6300.0]\u003c/td\u003e\n",
              "      \u003ctd\u003e\u0026lt;NA\u0026gt;\u003c/td\u003e\n",
              "      \u003ctd\u003eNaN\u003c/td\u003e\n",
              "      \u003ctd\u003e342\u003c/td\u003e\n",
              "      \u003ctd\u003e[]\u003c/td\u003e\n",
              "      \u003ctd\u003e\u0026lt;NA\u0026gt;\u003c/td\u003e\n",
              "      \u003ctd\u003e\u0026lt;NA\u0026gt;\u003c/td\u003e\n",
              "      \u003ctd\u003eNaN\u003c/td\u003e\n",
              "      \u003ctd\u003e\u0026lt;NA\u0026gt;\u003c/td\u003e\n",
              "      \u003ctd\u003e[]\u003c/td\u003e\n",
              "      \u003ctd\u003e\u0026lt;NA\u0026gt;\u003c/td\u003e\n",
              "    \u003c/tr\u003e\n",
              "    \u003ctr\u003e\n",
              "      \u003cth\u003e1\u003c/th\u003e\n",
              "      \u003ctd\u003eculmen_depth_mm\u003c/td\u003e\n",
              "      \u003ctd\u003e344\u003c/td\u003e\n",
              "      \u003ctd\u003e2\u003c/td\u003e\n",
              "      \u003ctd\u003e0\u003c/td\u003e\n",
              "      \u003ctd\u003e13.1\u003c/td\u003e\n",
              "      \u003ctd\u003e21.5\u003c/td\u003e\n",
              "      \u003ctd\u003e17.151170\u003c/td\u003e\n",
              "      \u003ctd\u003e1.971904\u003c/td\u003e\n",
              "      \u003ctd\u003e17.3\u003c/td\u003e\n",
              "      \u003ctd\u003e[13.1, 15.6, 17.3, 18.7, 21.5]\u003c/td\u003e\n",
              "      \u003ctd\u003e\u0026lt;NA\u0026gt;\u003c/td\u003e\n",
              "      \u003ctd\u003eNaN\u003c/td\u003e\n",
              "      \u003ctd\u003e342\u003c/td\u003e\n",
              "      \u003ctd\u003e[]\u003c/td\u003e\n",
              "      \u003ctd\u003e\u0026lt;NA\u0026gt;\u003c/td\u003e\n",
              "      \u003ctd\u003e\u0026lt;NA\u0026gt;\u003c/td\u003e\n",
              "      \u003ctd\u003eNaN\u003c/td\u003e\n",
              "      \u003ctd\u003e\u0026lt;NA\u0026gt;\u003c/td\u003e\n",
              "      \u003ctd\u003e[]\u003c/td\u003e\n",
              "      \u003ctd\u003e\u0026lt;NA\u0026gt;\u003c/td\u003e\n",
              "    \u003c/tr\u003e\n",
              "    \u003ctr\u003e\n",
              "      \u003cth\u003e2\u003c/th\u003e\n",
              "      \u003ctd\u003eculmen_length_mm\u003c/td\u003e\n",
              "      \u003ctd\u003e344\u003c/td\u003e\n",
              "      \u003ctd\u003e2\u003c/td\u003e\n",
              "      \u003ctd\u003e0\u003c/td\u003e\n",
              "      \u003ctd\u003e32.1\u003c/td\u003e\n",
              "      \u003ctd\u003e59.6\u003c/td\u003e\n",
              "      \u003ctd\u003e43.921930\u003c/td\u003e\n",
              "      \u003ctd\u003e5.451596\u003c/td\u003e\n",
              "      \u003ctd\u003e44.4\u003c/td\u003e\n",
              "      \u003ctd\u003e[32.1, 39.2, 44.4, 48.5, 59.6]\u003c/td\u003e\n",
              "      \u003ctd\u003e\u0026lt;NA\u0026gt;\u003c/td\u003e\n",
              "      \u003ctd\u003eNaN\u003c/td\u003e\n",
              "      \u003ctd\u003e342\u003c/td\u003e\n",
              "      \u003ctd\u003e[]\u003c/td\u003e\n",
              "      \u003ctd\u003e\u0026lt;NA\u0026gt;\u003c/td\u003e\n",
              "      \u003ctd\u003e\u0026lt;NA\u0026gt;\u003c/td\u003e\n",
              "      \u003ctd\u003eNaN\u003c/td\u003e\n",
              "      \u003ctd\u003e\u0026lt;NA\u0026gt;\u003c/td\u003e\n",
              "      \u003ctd\u003e[]\u003c/td\u003e\n",
              "      \u003ctd\u003e\u0026lt;NA\u0026gt;\u003c/td\u003e\n",
              "    \u003c/tr\u003e\n",
              "    \u003ctr\u003e\n",
              "      \u003cth\u003e3\u003c/th\u003e\n",
              "      \u003ctd\u003eflipper_length_mm\u003c/td\u003e\n",
              "      \u003ctd\u003e344\u003c/td\u003e\n",
              "      \u003ctd\u003e2\u003c/td\u003e\n",
              "      \u003ctd\u003e0\u003c/td\u003e\n",
              "      \u003ctd\u003e172\u003c/td\u003e\n",
              "      \u003ctd\u003e231\u003c/td\u003e\n",
              "      \u003ctd\u003e200.915205\u003c/td\u003e\n",
              "      \u003ctd\u003e14.041141\u003c/td\u003e\n",
              "      \u003ctd\u003e197.0\u003c/td\u003e\n",
              "      \u003ctd\u003e[172.0, 190.0, 197.0, 213.0, 231.0]\u003c/td\u003e\n",
              "      \u003ctd\u003e\u0026lt;NA\u0026gt;\u003c/td\u003e\n",
              "      \u003ctd\u003eNaN\u003c/td\u003e\n",
              "      \u003ctd\u003e342\u003c/td\u003e\n",
              "      \u003ctd\u003e[]\u003c/td\u003e\n",
              "      \u003ctd\u003e\u0026lt;NA\u0026gt;\u003c/td\u003e\n",
              "      \u003ctd\u003e\u0026lt;NA\u0026gt;\u003c/td\u003e\n",
              "      \u003ctd\u003eNaN\u003c/td\u003e\n",
              "      \u003ctd\u003e\u0026lt;NA\u0026gt;\u003c/td\u003e\n",
              "      \u003ctd\u003e[]\u003c/td\u003e\n",
              "      \u003ctd\u003e\u0026lt;NA\u0026gt;\u003c/td\u003e\n",
              "    \u003c/tr\u003e\n",
              "    \u003ctr\u003e\n",
              "      \u003cth\u003e4\u003c/th\u003e\n",
              "      \u003ctd\u003eisland\u003c/td\u003e\n",
              "      \u003ctd\u003e344\u003c/td\u003e\n",
              "      \u003ctd\u003e0\u003c/td\u003e\n",
              "      \u003ctd\u003e\u0026lt;NA\u0026gt;\u003c/td\u003e\n",
              "      \u003ctd\u003eBiscoe\u003c/td\u003e\n",
              "      \u003ctd\u003eTorgersen\u003c/td\u003e\n",
              "      \u003ctd\u003eNaN\u003c/td\u003e\n",
              "      \u003ctd\u003eNaN\u003c/td\u003e\n",
              "      \u003ctd\u003eNaN\u003c/td\u003e\n",
              "      \u003ctd\u003e[]\u003c/td\u003e\n",
              "      \u003ctd\u003e3\u003c/td\u003e\n",
              "      \u003ctd\u003e6.093023\u003c/td\u003e\n",
              "      \u003ctd\u003e344\u003c/td\u003e\n",
              "      \u003ctd\u003e[{'value': 'Biscoe', 'count': 168}, {'value': ...\u003c/td\u003e\n",
              "      \u003ctd\u003e\u0026lt;NA\u0026gt;\u003c/td\u003e\n",
              "      \u003ctd\u003e\u0026lt;NA\u0026gt;\u003c/td\u003e\n",
              "      \u003ctd\u003eNaN\u003c/td\u003e\n",
              "      \u003ctd\u003e\u0026lt;NA\u0026gt;\u003c/td\u003e\n",
              "      \u003ctd\u003e[]\u003c/td\u003e\n",
              "      \u003ctd\u003e\u0026lt;NA\u0026gt;\u003c/td\u003e\n",
              "    \u003c/tr\u003e\n",
              "    \u003ctr\u003e\n",
              "      \u003cth\u003e5\u003c/th\u003e\n",
              "      \u003ctd\u003esex\u003c/td\u003e\n",
              "      \u003ctd\u003e344\u003c/td\u003e\n",
              "      \u003ctd\u003e10\u003c/td\u003e\n",
              "      \u003ctd\u003e\u0026lt;NA\u0026gt;\u003c/td\u003e\n",
              "      \u003ctd\u003e.\u003c/td\u003e\n",
              "      \u003ctd\u003eMALE\u003c/td\u003e\n",
              "      \u003ctd\u003eNaN\u003c/td\u003e\n",
              "      \u003ctd\u003eNaN\u003c/td\u003e\n",
              "      \u003ctd\u003eNaN\u003c/td\u003e\n",
              "      \u003ctd\u003e[]\u003c/td\u003e\n",
              "      \u003ctd\u003e3\u003c/td\u003e\n",
              "      \u003ctd\u003e4.979042\u003c/td\u003e\n",
              "      \u003ctd\u003e334\u003c/td\u003e\n",
              "      \u003ctd\u003e[{'value': 'MALE', 'count': 168}, {'value': 'F...\u003c/td\u003e\n",
              "      \u003ctd\u003e\u0026lt;NA\u0026gt;\u003c/td\u003e\n",
              "      \u003ctd\u003e\u0026lt;NA\u0026gt;\u003c/td\u003e\n",
              "      \u003ctd\u003eNaN\u003c/td\u003e\n",
              "      \u003ctd\u003e\u0026lt;NA\u0026gt;\u003c/td\u003e\n",
              "      \u003ctd\u003e[]\u003c/td\u003e\n",
              "      \u003ctd\u003e\u0026lt;NA\u0026gt;\u003c/td\u003e\n",
              "    \u003c/tr\u003e\n",
              "    \u003ctr\u003e\n",
              "      \u003cth\u003e6\u003c/th\u003e\n",
              "      \u003ctd\u003especies\u003c/td\u003e\n",
              "      \u003ctd\u003e344\u003c/td\u003e\n",
              "      \u003ctd\u003e0\u003c/td\u003e\n",
              "      \u003ctd\u003e\u0026lt;NA\u0026gt;\u003c/td\u003e\n",
              "      \u003ctd\u003eAdelie Penguin (Pygoscelis adeliae)\u003c/td\u003e\n",
              "      \u003ctd\u003eGentoo penguin (Pygoscelis papua)\u003c/td\u003e\n",
              "      \u003ctd\u003eNaN\u003c/td\u003e\n",
              "      \u003ctd\u003eNaN\u003c/td\u003e\n",
              "      \u003ctd\u003eNaN\u003c/td\u003e\n",
              "      \u003ctd\u003e[]\u003c/td\u003e\n",
              "      \u003ctd\u003e3\u003c/td\u003e\n",
              "      \u003ctd\u003e35.465116\u003c/td\u003e\n",
              "      \u003ctd\u003e344\u003c/td\u003e\n",
              "      \u003ctd\u003e[{'value': 'Adelie Penguin (Pygoscelis adeliae...\u003c/td\u003e\n",
              "      \u003ctd\u003e\u0026lt;NA\u0026gt;\u003c/td\u003e\n",
              "      \u003ctd\u003e\u0026lt;NA\u0026gt;\u003c/td\u003e\n",
              "      \u003ctd\u003eNaN\u003c/td\u003e\n",
              "      \u003ctd\u003e\u0026lt;NA\u0026gt;\u003c/td\u003e\n",
              "      \u003ctd\u003e[]\u003c/td\u003e\n",
              "      \u003ctd\u003e\u0026lt;NA\u0026gt;\u003c/td\u003e\n",
              "    \u003c/tr\u003e\n",
              "  \u003c/tbody\u003e\n",
              "\u003c/table\u003e\n",
              "\u003c/div\u003e"
            ],
            "text/plain": [
              "                name  num_rows  num_nulls  num_zeros  \\\n",
              "0        body_mass_g       344          2          0   \n",
              "1    culmen_depth_mm       344          2          0   \n",
              "2   culmen_length_mm       344          2          0   \n",
              "3  flipper_length_mm       344          2          0   \n",
              "4             island       344          0       \u003cNA\u003e   \n",
              "5                sex       344         10       \u003cNA\u003e   \n",
              "6            species       344          0       \u003cNA\u003e   \n",
              "\n",
              "                                   min                                max  \\\n",
              "0                                 2700                               6300   \n",
              "1                                 13.1                               21.5   \n",
              "2                                 32.1                               59.6   \n",
              "3                                  172                                231   \n",
              "4                               Biscoe                          Torgersen   \n",
              "5                                    .                               MALE   \n",
              "6  Adelie Penguin (Pygoscelis adeliae)  Gentoo penguin (Pygoscelis papua)   \n",
              "\n",
              "          mean      stddev  median                                 quantiles  \\\n",
              "0  4201.754386  800.781229  4050.0  [2700.0, 3550.0, 4050.0, 4750.0, 6300.0]   \n",
              "1    17.151170    1.971904    17.3            [13.1, 15.6, 17.3, 18.7, 21.5]   \n",
              "2    43.921930    5.451596    44.4            [32.1, 39.2, 44.4, 48.5, 59.6]   \n",
              "3   200.915205   14.041141   197.0       [172.0, 190.0, 197.0, 213.0, 231.0]   \n",
              "4          NaN         NaN     NaN                                        []   \n",
              "5          NaN         NaN     NaN                                        []   \n",
              "6          NaN         NaN     NaN                                        []   \n",
              "\n",
              "   unique  avg_string_length  num_values  \\\n",
              "0    \u003cNA\u003e                NaN         342   \n",
              "1    \u003cNA\u003e                NaN         342   \n",
              "2    \u003cNA\u003e                NaN         342   \n",
              "3    \u003cNA\u003e                NaN         342   \n",
              "4       3           6.093023         344   \n",
              "5       3           4.979042         334   \n",
              "6       3          35.465116         344   \n",
              "\n",
              "                                          top_values  min_array_length  \\\n",
              "0                                                 []              \u003cNA\u003e   \n",
              "1                                                 []              \u003cNA\u003e   \n",
              "2                                                 []              \u003cNA\u003e   \n",
              "3                                                 []              \u003cNA\u003e   \n",
              "4  [{'value': 'Biscoe', 'count': 168}, {'value': ...              \u003cNA\u003e   \n",
              "5  [{'value': 'MALE', 'count': 168}, {'value': 'F...              \u003cNA\u003e   \n",
              "6  [{'value': 'Adelie Penguin (Pygoscelis adeliae...              \u003cNA\u003e   \n",
              "\n",
              "   max_array_length  avg_array_length  total_array_length  \\\n",
              "0              \u003cNA\u003e               NaN                \u003cNA\u003e   \n",
              "1              \u003cNA\u003e               NaN                \u003cNA\u003e   \n",
              "2              \u003cNA\u003e               NaN                \u003cNA\u003e   \n",
              "3              \u003cNA\u003e               NaN                \u003cNA\u003e   \n",
              "4              \u003cNA\u003e               NaN                \u003cNA\u003e   \n",
              "5              \u003cNA\u003e               NaN                \u003cNA\u003e   \n",
              "6              \u003cNA\u003e               NaN                \u003cNA\u003e   \n",
              "\n",
              "  array_length_quantiles  dimension  \n",
              "0                     []       \u003cNA\u003e  \n",
              "1                     []       \u003cNA\u003e  \n",
              "2                     []       \u003cNA\u003e  \n",
              "3                     []       \u003cNA\u003e  \n",
              "4                     []       \u003cNA\u003e  \n",
              "5                     []       \u003cNA\u003e  \n",
              "6                     []       \u003cNA\u003e  "
            ]
          },
          "execution_count": 8,
          "metadata": {},
          "output_type": "execute_result"
        }
      ],
      "source": [
        "%%bigquery\n",
        "SELECT *\n",
        "FROM ML.DESCRIBE_DATA(\n",
        "  TABLE `bigquery-public-data.ml_datasets.penguins`,\n",
        "    STRUCT(3 AS top_k, 4 AS num_quantiles)\n",
        ")"
      ]
    },
    {
      "cell_type": "markdown",
      "id": "8f58175c-cf15-42eb-966b-00967e8e6338",
      "metadata": {
        "id": "Z55FmOTnwddD"
      },
      "source": [
        "Some observations:\n",
        "- All columns have `num_rows` and `num_nulls`\n",
        "- Numerical columns have `min`, `max`, `stddev`, `median`, and `quantiles` showing the distribution of the data in the column\n",
        "- Categorical (string) columns have `min`, `max` values representing the class levels and a `unique` column show how many class levels\n",
        "\n",
        "Data quality observation:\n",
        "- The column `sex` has both missing values (10 indicated in `num_nulls`) as well as a `min` values of `.`.  This appears to be a data quality issue that needs fixing."
      ]
    },
    {
      "cell_type": "markdown",
      "id": "0b89a2de-1efb-42a5-86ba-674acc31c37d",
      "metadata": {
        "tags": [],
        "id": "7m3CxovAwddD"
      },
      "source": [
        "### Create A BigQuery Dataset\n",
        "\n",
        "Create a new [BigQuery Dataset](https://cloud.google.com/bigquery/docs/datasets) as a working location for this workflow:"
      ]
    },
    {
      "cell_type": "code",
      "execution_count": 9,
      "id": "ef30ccf6-88af-4f55-9b59-e5a859f8f571",
      "metadata": {
        "tags": [],
        "id": "R-xOD3l1wddD"
      },
      "outputs": [
        {
          "data": {
            "application/vnd.jupyter.widget-view+json": {
              "model_id": "37f8d281f5504476b2c7998b2c1cd5fa",
              "version_major": 2,
              "version_minor": 0
            },
            "text/plain": [
              "Query is running:   0%|          |"
            ]
          },
          "metadata": {},
          "output_type": "display_data"
        },
        {
          "data": {
            "text/html": [
              "\u003cdiv\u003e\n",
              "\u003cstyle scoped\u003e\n",
              "    .dataframe tbody tr th:only-of-type {\n",
              "        vertical-align: middle;\n",
              "    }\n",
              "\n",
              "    .dataframe tbody tr th {\n",
              "        vertical-align: top;\n",
              "    }\n",
              "\n",
              "    .dataframe thead th {\n",
              "        text-align: right;\n",
              "    }\n",
              "\u003c/style\u003e\n",
              "\u003ctable border=\"1\" class=\"dataframe\"\u003e\n",
              "  \u003cthead\u003e\n",
              "    \u003ctr style=\"text-align: right;\"\u003e\n",
              "      \u003cth\u003e\u003c/th\u003e\n",
              "    \u003c/tr\u003e\n",
              "  \u003c/thead\u003e\n",
              "  \u003ctbody\u003e\n",
              "  \u003c/tbody\u003e\n",
              "\u003c/table\u003e\n",
              "\u003c/div\u003e"
            ],
            "text/plain": [
              "Empty DataFrame\n",
              "Columns: []\n",
              "Index: []"
            ]
          },
          "execution_count": 9,
          "metadata": {},
          "output_type": "execute_result"
        }
      ],
      "source": [
        "%%bigquery\n",
        "CREATE SCHEMA IF NOT EXISTS `statmike-mlops-349915.bqml_model_monitoring`\n",
        "    OPTIONS(\n",
        "        location = 'US'\n",
        "    )"
      ]
    },
    {
      "cell_type": "markdown",
      "id": "af666b3d-54cd-442f-a8ab-d11af61fd2d3",
      "metadata": {
        "id": "9YZknZlIwddD"
      },
      "source": [
        "### Prepare The Source Data\n",
        "\n",
        "Make a copy of the table source in the new BigQuery dataset with fixes applied to the data quality issue identified for the `sex` column with values of `.`.\n",
        "\n",
        "\u003e Note: A copy is being made in this case because the source project is `bigquery-public` which is not editable."
      ]
    },
    {
      "cell_type": "code",
      "execution_count": 10,
      "id": "0f0ba60c-d0a1-4abb-947c-9049f21a23d0",
      "metadata": {
        "tags": [],
        "id": "1nCfp5SLwddD"
      },
      "outputs": [
        {
          "data": {
            "application/vnd.jupyter.widget-view+json": {
              "model_id": "3705be8a823e4a25a8ff957a2a20535d",
              "version_major": 2,
              "version_minor": 0
            },
            "text/plain": [
              "Query is running:   0%|          |"
            ]
          },
          "metadata": {},
          "output_type": "display_data"
        },
        {
          "data": {
            "text/html": [
              "\u003cdiv\u003e\n",
              "\u003cstyle scoped\u003e\n",
              "    .dataframe tbody tr th:only-of-type {\n",
              "        vertical-align: middle;\n",
              "    }\n",
              "\n",
              "    .dataframe tbody tr th {\n",
              "        vertical-align: top;\n",
              "    }\n",
              "\n",
              "    .dataframe thead th {\n",
              "        text-align: right;\n",
              "    }\n",
              "\u003c/style\u003e\n",
              "\u003ctable border=\"1\" class=\"dataframe\"\u003e\n",
              "  \u003cthead\u003e\n",
              "    \u003ctr style=\"text-align: right;\"\u003e\n",
              "      \u003cth\u003e\u003c/th\u003e\n",
              "    \u003c/tr\u003e\n",
              "  \u003c/thead\u003e\n",
              "  \u003ctbody\u003e\n",
              "  \u003c/tbody\u003e\n",
              "\u003c/table\u003e\n",
              "\u003c/div\u003e"
            ],
            "text/plain": [
              "Empty DataFrame\n",
              "Columns: []\n",
              "Index: []"
            ]
          },
          "execution_count": 10,
          "metadata": {},
          "output_type": "execute_result"
        }
      ],
      "source": [
        "%%bigquery\n",
        "CREATE OR REPLACE TABLE `statmike-mlops-349915.bqml_model_monitoring.training` AS\n",
        "    SELECT * EXCEPT(sex),\n",
        "        CASE WHEN sex = '.' THEN NULL ELSE sex END AS sex\n",
        "    FROM `bigquery-public-data.ml_datasets.penguins`"
      ]
    },
    {
      "cell_type": "markdown",
      "id": "a8f1fcff-412c-4a94-8b41-6a417bd37137",
      "metadata": {
        "id": "y-pznjjZwddD"
      },
      "source": [
        "---\n",
        "## Model Training"
      ]
    },
    {
      "cell_type": "code",
      "execution_count": 11,
      "id": "c7d4fa03-5b61-4269-8b55-30097137bb99",
      "metadata": {
        "tags": [],
        "id": "rCDt-mAIwddD"
      },
      "outputs": [
        {
          "data": {
            "application/vnd.jupyter.widget-view+json": {
              "model_id": "34881aa0580945598cc742dd5a76874d",
              "version_major": 2,
              "version_minor": 0
            },
            "text/plain": [
              "Query is running:   0%|          |"
            ]
          },
          "metadata": {},
          "output_type": "display_data"
        },
        {
          "data": {
            "text/html": [
              "\u003cdiv\u003e\n",
              "\u003cstyle scoped\u003e\n",
              "    .dataframe tbody tr th:only-of-type {\n",
              "        vertical-align: middle;\n",
              "    }\n",
              "\n",
              "    .dataframe tbody tr th {\n",
              "        vertical-align: top;\n",
              "    }\n",
              "\n",
              "    .dataframe thead th {\n",
              "        text-align: right;\n",
              "    }\n",
              "\u003c/style\u003e\n",
              "\u003ctable border=\"1\" class=\"dataframe\"\u003e\n",
              "  \u003cthead\u003e\n",
              "    \u003ctr style=\"text-align: right;\"\u003e\n",
              "      \u003cth\u003e\u003c/th\u003e\n",
              "    \u003c/tr\u003e\n",
              "  \u003c/thead\u003e\n",
              "  \u003ctbody\u003e\n",
              "  \u003c/tbody\u003e\n",
              "\u003c/table\u003e\n",
              "\u003c/div\u003e"
            ],
            "text/plain": [
              "Empty DataFrame\n",
              "Columns: []\n",
              "Index: []"
            ]
          },
          "execution_count": 11,
          "metadata": {},
          "output_type": "execute_result"
        }
      ],
      "source": [
        "%%bigquery\n",
        "CREATE OR REPLACE MODEL `statmike-mlops-349915.bqml_model_monitoring.classify_species_logistic`\n",
        "    TRANSFORM(\n",
        "        ML.ROBUST_SCALER(body_mass_g) OVER() AS body_mass_g,\n",
        "        ML.STANDARD_SCALER(culmen_length_mm) OVER() AS culmen_length_mm,\n",
        "        ML.STANDARD_SCALER(culmen_depth_mm) OVER() AS culmen_depth_mm,\n",
        "        ML.QUANTILE_BUCKETIZE(flipper_length_mm, 3) OVER() AS flipper_length_mm,\n",
        "        ML.IMPUTER(sex, 'most_frequent') OVER() AS sex,\n",
        "        ML.IMPUTER(island, 'most_frequent') OVER() AS island,\n",
        "        species\n",
        "    )\n",
        "    OPTIONS(\n",
        "        MODEL_TYPE = 'LOGISTIC_REG',\n",
        "        INPUT_LABEL_COLS = ['species'],\n",
        "        \n",
        "        # data specifics\n",
        "        DATA_SPLIT_METHOD = 'AUTO_SPLIT',\n",
        "        \n",
        "        # model specifics\n",
        "        AUTO_CLASS_WEIGHTS = TRUE\n",
        "    )\n",
        "AS\n",
        "    SELECT *\n",
        "    FROM `statmike-mlops-349915.bqml_model_monitoring.training`"
      ]
    },
    {
      "cell_type": "markdown",
      "id": "7b8952bc-ac6a-4ee7-91ee-8ed580f98321",
      "metadata": {
        "tags": [],
        "id": "YOG1CYufwddD"
      },
      "source": [
        "### Create/Train A Model\n",
        "\n",
        "Create a model trained to classify `species` for the traning records.  Here, directly in BigQuery, the [`CREATE MODEL` statement for generalized linear models models](https://cloud.google.com/bigquery/docs/reference/standard-sql/bigqueryml-syntax-create-glm) is used.  This uses the `TRANSFORM` clause within the model to embed user specified transfomations within the model for use during serving and model monitoring which will both be show later in this introduction.\n",
        "\n",
        "\n",
        "\u003e **Note:** The ['BigQuery ML (BQML) - Model Monitoring Tutorial'](./bqml-model-monitoring-tutorial.ipynb) includes training a random forest.\n",
        "\n",
        "From reviewing the training data above, the following transformations will be tried:\n",
        "- Apply [`ML.ROBUST_SCALER`](https://cloud.google.com/bigquery/docs/reference/standard-sql/bigqueryml-syntax-robust-scaler) to `body_mass_g`\n",
        "- Apply [`ML.STANDARD_SCALER`](https://cloud.google.com/bigquery/docs/reference/standard-sql/bigqueryml-syntax-standard-scaler) to `culmen_depth_mm` and `culmen_length_mm`\n",
        "- Apply [`ML.QUANTILE_BUCKATIZE`](https://cloud.google.com/bigquery/docs/reference/standard-sql/bigqueryml-syntax-quantile-bucketize) to `flipper_length_mm`\n",
        "- Apply [`ML.IMPUTER`](https://cloud.google.com/bigquery/docs/reference/standard-sql/bigqueryml-syntax-imputer) to `island`, and `sex`"
      ]
    },
    {
      "cell_type": "code",
      "execution_count": 12,
      "id": "dc893743-d8a8-4e7b-bfce-8dd4005845c7",
      "metadata": {
        "tags": [],
        "id": "GaVH9J0awddD"
      },
      "outputs": [
        {
          "data": {
            "application/vnd.jupyter.widget-view+json": {
              "model_id": "7003f34193984359812a1cfb39065f57",
              "version_major": 2,
              "version_minor": 0
            },
            "text/plain": [
              "Query is running:   0%|          |"
            ]
          },
          "metadata": {},
          "output_type": "display_data"
        },
        {
          "data": {
            "application/vnd.jupyter.widget-view+json": {
              "model_id": "36006b368d6f45c8a8e82be3eac51dd2",
              "version_major": 2,
              "version_minor": 0
            },
            "text/plain": [
              "Downloading:   0%|          |"
            ]
          },
          "metadata": {},
          "output_type": "display_data"
        }
      ],
      "source": [
        "%%bigquery history\n",
        "SELECT *\n",
        "FROM ML.TRAINING_INFO(MODEL `statmike-mlops-349915.bqml_model_monitoring.classify_species_logistic`)\n",
        "ORDER BY iteration"
      ]
    },
    {
      "cell_type": "code",
      "execution_count": 13,
      "id": "a569af60-9e77-4155-966e-3c56a537fe82",
      "metadata": {
        "tags": [],
        "id": "-js22r3EwddD"
      },
      "outputs": [
        {
          "data": {
            "text/plain": [
              "\u003cAxes: xlabel='iteration'\u003e"
            ]
          },
          "execution_count": 13,
          "metadata": {},
          "output_type": "execute_result"
        },
        {
          "data": {
            "image/png": "[encoded data removed]",
            "text/plain": [
              "\u003cFigure size 800x200 with 1 Axes\u003e"
            ]
          },
          "metadata": {},
          "output_type": "display_data"
        }
      ],
      "source": [
        "history.plot(x = 'iteration', y = ['loss','eval_loss'], figsize = (8, 2), grid = True)"
      ]
    },
    {
      "cell_type": "markdown",
      "id": "361b7bee-af29-4951-bd51-4b38f47aca44",
      "metadata": {
        "id": "ZOZdMpXdwddD"
      },
      "source": [
        "This model training could be followed by evaluation and prediction tasks using the many helpful BigQuery ML functions.  To learn more about these check out the [End-to-end user journey for each model](https://cloud.google.com/bigquery/docs/e2e-journey) type."
      ]
    },
    {
      "cell_type": "markdown",
      "id": "6f5d7b38-8d10-4aac-b2e1-e9519e8454ca",
      "metadata": {
        "tags": [],
        "id": "vfap_jnPwddD"
      },
      "source": [
        "---\n",
        "## Serving Data\n",
        "\n",
        "The data source for training and evaluation represents what is known about a system at a point-in-time.  In real world systems measurements can change for many reasons, for example:\n",
        "- training/serving skew due to measurement and data systems:\n",
        "    - the tool used for measurement may change resulting is slight shifts and variations\n",
        "    - the system reporting results might be updated and introduce errors like rearranging the order or parameters and format of the results\n",
        "    - the data processing systems might have changes that alter the calculations of measurements\n",
        "- the system, environment, or subjects being measured may:\n",
        "    - change behaviors\n",
        "    - short-term even forces change\n",
        "    - have environmental changes that impact them\n",
        "    - have seasonal changes that were not represented in the training data\n",
        "    - change in general due to upstream causes"
      ]
    },
    {
      "cell_type": "markdown",
      "id": "d1551514-7bc3-42fe-87d2-8c9e324e5e1b",
      "metadata": {
        "id": "c3kHGo1dwddD"
      },
      "source": [
        "### Introduce Changes Over Time\n",
        "\n",
        "To illustrate the impact of change over time, the following code creates a new set of data from a 20% sample of the training data.  It creates a series of changes to measurements for each of the past 30 days.  In each case, the values of the parameters `flipper_length_mm` and `body_mass_g` are allowed to slightly increase which can accumulate over the timespan. This might mimic a potential growth season for the penguins that might not have been represented in the training data.\n",
        "\n",
        "This table of serving data could be sourced form where your features are coming from.  In the case of an online model, like [Vertex AI Prediction Endpoints](https://cloud.google.com/vertex-ai/docs/predictions/overview), then [prediction request could be logged to BigQuery](https://cloud.google.com/vertex-ai/docs/predictions/online-prediction-logging#enabling-and-disabling) for use in the model monitoring tasks below.  This pattern is also covered in the accompanying ['BigQuery ML (BQML) - Model Monitoring Tutorial'](./bqml-model-monitoring-tutorial.ipynb)."
      ]
    },
    {
      "cell_type": "code",
      "execution_count": 14,
      "id": "c6603e07-7d5f-4f0a-aa06-e92fc87757e2",
      "metadata": {
        "tags": [],
        "id": "RGcr9O3OwddD"
      },
      "outputs": [
        {
          "data": {
            "application/vnd.jupyter.widget-view+json": {
              "model_id": "c8bcb0a762854c4f9ec29ba5fac6bbd2",
              "version_major": 2,
              "version_minor": 0
            },
            "text/plain": [
              "Query is running:   0%|          |"
            ]
          },
          "metadata": {},
          "output_type": "display_data"
        },
        {
          "data": {
            "text/html": [
              "\u003cdiv\u003e\n",
              "\u003cstyle scoped\u003e\n",
              "    .dataframe tbody tr th:only-of-type {\n",
              "        vertical-align: middle;\n",
              "    }\n",
              "\n",
              "    .dataframe tbody tr th {\n",
              "        vertical-align: top;\n",
              "    }\n",
              "\n",
              "    .dataframe thead th {\n",
              "        text-align: right;\n",
              "    }\n",
              "\u003c/style\u003e\n",
              "\u003ctable border=\"1\" class=\"dataframe\"\u003e\n",
              "  \u003cthead\u003e\n",
              "    \u003ctr style=\"text-align: right;\"\u003e\n",
              "      \u003cth\u003e\u003c/th\u003e\n",
              "    \u003c/tr\u003e\n",
              "  \u003c/thead\u003e\n",
              "  \u003ctbody\u003e\n",
              "  \u003c/tbody\u003e\n",
              "\u003c/table\u003e\n",
              "\u003c/div\u003e"
            ],
            "text/plain": [
              "Empty DataFrame\n",
              "Columns: []\n",
              "Index: []"
            ]
          },
          "execution_count": 14,
          "metadata": {},
          "output_type": "execute_result"
        }
      ],
      "source": [
        "%%bigquery\n",
        "DECLARE counter INT64 DEFAULT 30;\n",
        "\n",
        "# actual data as starting point - add entity_id, and feature_timestamp:\n",
        "CREATE OR REPLACE TABLE `statmike-mlops-349915.bqml_model_monitoring.serving` AS\n",
        "    SELECT * EXCEPT(flipper_length_mm, body_mass_g),\n",
        "    TIMESTAMP_SUB(TIMESTAMP(CURRENT_DATE()), INTERVAL counter DAY) AS instance_timestamp,\n",
        "    flipper_length_mm as flipper_length_mm,\n",
        "    body_mass_g as body_mass_g\n",
        "    FROM `statmike-mlops-349915.bqml_model_monitoring.training`\n",
        "    WHERE RAND() \u003c= 0.20;\n",
        "\n",
        "LOOP\n",
        "    SET counter = counter - 1;\n",
        "    IF counter \u003c 0 THEN LEAVE;\n",
        "    END IF;\n",
        "    INSERT `statmike-mlops-349915.bqml_model_monitoring.serving`\n",
        "        SELECT * EXCEPT(instance_timestamp, flipper_length_mm, body_mass_g),\n",
        "            TIMESTAMP_ADD(instance_timestamp, INTERVAL 1 DAY) AS instance_timestamp,\n",
        "            CASE\n",
        "                WHEN RAND() \u003e= 0.75 THEN flipper_length_mm\n",
        "                ELSE flipper_length_mm + 6*(RAND()-0.1)\n",
        "            END AS flipper_length_mm,\n",
        "            CASE\n",
        "                WHEN RAND() \u003e= 0.75 THEN body_mass_g\n",
        "                ELSE body_mass_g + 120*(RAND()-0.1)\n",
        "            END AS body_mass_g,\n",
        "        FROM `statmike-mlops-349915.bqml_model_monitoring.serving`\n",
        "        WHERE instance_timestamp \u003e= (SELECT MAX(instance_timestamp) FROM `statmike-mlops-349915.bqml_model_monitoring.serving`);\n",
        "END LOOP;"
      ]
    },
    {
      "cell_type": "code",
      "execution_count": 15,
      "id": "b05587c9-63b1-47ba-851e-fa31dcd10650",
      "metadata": {
        "tags": [],
        "id": "AdIqtLAVwddD"
      },
      "outputs": [
        {
          "data": {
            "application/vnd.jupyter.widget-view+json": {
              "model_id": "234ab14cf6b24a0b8c62db180a18650a",
              "version_major": 2,
              "version_minor": 0
            },
            "text/plain": [
              "Query is running:   0%|          |"
            ]
          },
          "metadata": {},
          "output_type": "display_data"
        },
        {
          "data": {
            "application/vnd.jupyter.widget-view+json": {
              "model_id": "464cef46d8184201bdf2cf49d16db176",
              "version_major": 2,
              "version_minor": 0
            },
            "text/plain": [
              "Downloading:   0%|          |"
            ]
          },
          "metadata": {},
          "output_type": "display_data"
        }
      ],
      "source": [
        "%%bigquery serve\n",
        "SELECT\n",
        "    DATE(instance_timestamp) AS DATE,\n",
        "    AVG(flipper_length_mm) AS flipper_length_mm,\n",
        "    AVG(body_mass_g) AS body_mass_g\n",
        "FROM `statmike-mlops-349915.bqml_model_monitoring.serving`\n",
        "GROUP BY DATE\n",
        "ORDER BY DATE"
      ]
    },
    {
      "cell_type": "code",
      "execution_count": 16,
      "id": "2b7385b2-05c8-43b8-bfea-3aeff6d6b1b1",
      "metadata": {
        "tags": [],
        "id": "DaycHKxDwddD"
      },
      "outputs": [],
      "source": [
        "serve.set_index('DATE', inplace = True)"
      ]
    },
    {
      "cell_type": "code",
      "execution_count": 17,
      "id": "56bcef5a-758c-4edd-aedb-57b478b9f048",
      "metadata": {
        "tags": [],
        "id": "nsSfWcj3wddD"
      },
      "outputs": [
        {
          "data": {
            "text/plain": [
              "\u003cAxes: xlabel='DATE'\u003e"
            ]
          },
          "execution_count": 17,
          "metadata": {},
          "output_type": "execute_result"
        },
        {
          "data": {
            "image/png": "[encoded data removed]",
            "text/plain": [
              "\u003cFigure size 800x400 with 1 Axes\u003e"
            ]
          },
          "metadata": {},
          "output_type": "display_data"
        }
      ],
      "source": [
        "serve['flipper_length_mm'].plot(legend = True, figsize = (8, 4))"
      ]
    },
    {
      "cell_type": "code",
      "execution_count": 18,
      "id": "31f0535a-a921-4ac3-a93f-d976ad974632",
      "metadata": {
        "tags": [],
        "id": "UHcz5zaowddD"
      },
      "outputs": [
        {
          "data": {
            "text/plain": [
              "\u003cAxes: xlabel='DATE'\u003e"
            ]
          },
          "execution_count": 18,
          "metadata": {},
          "output_type": "execute_result"
        },
        {
          "data": {
            "image/png": "[encoded data removed]",
            "text/plain": [
              "\u003cFigure size 800x400 with 1 Axes\u003e"
            ]
          },
          "metadata": {},
          "output_type": "display_data"
        }
      ],
      "source": [
        "serve['body_mass_g'].plot(legend = True, figsize = (8, 4))"
      ]
    },
    {
      "cell_type": "markdown",
      "id": "08518e09-b92f-4639-8afa-4ba46037f469",
      "metadata": {
        "id": "5OUZ57ekwddD"
      },
      "source": [
        "---\n",
        "## Model Monitoring\n",
        "\n",
        "Reviewing model evaluations over time does show a pattern of deterioration in the example above.  But at what point is it actionable?  And what if each days evaluations are relying on actual values that took hours, days, weeks, or even months to be available?  \n",
        "\n",
        "Model monitoring takes a different approach.  It goes back to the source of the model, the input features.  These features formed a distribution at the input to the model (the training data) and this can be used to compare to over time.  By setting thresholds on these comparisons to the original training data, alerts can be used to notify that a models accuracy could be in question.  This comparison to the training data is called **skew** detection.\n",
        "\n",
        "Similarly, each days values could be compared to the previous days, or weeks values.  These comparisons are referred to as **drift** detection.  \n",
        "\n",
        "Both of these types of comparisons can be done directly in BigQuery with two functions built for these tasks:\n",
        "- [`ML.VALIDATE_DATA_SKEW`](https://cloud.google.com/bigquery/docs/reference/standard-sql/bigqueryml-syntax-validate-data-skew)\n",
        "- [`ML.VALIDATE_DATA_DRIFT`](https://cloud.google.com/bigquery/docs/reference/standard-sql/bigqueryml-syntax-validate-data-drift)\n",
        "\n",
        "**NOTE:** To understand more about the metrics used for monitoring check out the accompanying ['BigQuery ML (BQML) - Model Monitoring Tutorial'](./bqml-model-monitoring-tutorial.ipynb) for this introduction."
      ]
    },
    {
      "cell_type": "markdown",
      "id": "9677a0b2-a391-4b44-a7fb-367dd9e55e8b",
      "metadata": {
        "id": "tPAr5OlbwddD"
      },
      "source": [
        "### Monitoring Skew (Change from training) With `ML.VALIDATE_DATA_SKEW`\n",
        "\n",
        "Compare today, or any data, to the training data by directly comparing to the the model created in BigQuery."
      ]
    },
    {
      "cell_type": "code",
      "execution_count": 19,
      "id": "f830e0c3-539e-41b5-802d-d37a16c3c4d3",
      "metadata": {
        "tags": [],
        "id": "mevMhB5IwddD"
      },
      "outputs": [
        {
          "data": {
            "application/vnd.jupyter.widget-view+json": {
              "model_id": "d53f48b6101949ebbda0c8c9975eabb5",
              "version_major": 2,
              "version_minor": 0
            },
            "text/plain": [
              "Query is running:   0%|          |"
            ]
          },
          "metadata": {},
          "output_type": "display_data"
        },
        {
          "data": {
            "application/vnd.jupyter.widget-view+json": {
              "model_id": "8693cc8e2bf3461aafe92874e41c267e",
              "version_major": 2,
              "version_minor": 0
            },
            "text/plain": [
              "Downloading:   0%|          |"
            ]
          },
          "metadata": {},
          "output_type": "display_data"
        },
        {
          "data": {
            "text/html": [
              "\u003cdiv\u003e\n",
              "\u003cstyle scoped\u003e\n",
              "    .dataframe tbody tr th:only-of-type {\n",
              "        vertical-align: middle;\n",
              "    }\n",
              "\n",
              "    .dataframe tbody tr th {\n",
              "        vertical-align: top;\n",
              "    }\n",
              "\n",
              "    .dataframe thead th {\n",
              "        text-align: right;\n",
              "    }\n",
              "\u003c/style\u003e\n",
              "\u003ctable border=\"1\" class=\"dataframe\"\u003e\n",
              "  \u003cthead\u003e\n",
              "    \u003ctr style=\"text-align: right;\"\u003e\n",
              "      \u003cth\u003e\u003c/th\u003e\n",
              "      \u003cth\u003einput\u003c/th\u003e\n",
              "      \u003cth\u003emetric\u003c/th\u003e\n",
              "      \u003cth\u003ethreshold\u003c/th\u003e\n",
              "      \u003cth\u003evalue\u003c/th\u003e\n",
              "      \u003cth\u003eis_anomaly\u003c/th\u003e\n",
              "    \u003c/tr\u003e\n",
              "  \u003c/thead\u003e\n",
              "  \u003ctbody\u003e\n",
              "    \u003ctr\u003e\n",
              "      \u003cth\u003e0\u003c/th\u003e\n",
              "      \u003ctd\u003ebody_mass_g\u003c/td\u003e\n",
              "      \u003ctd\u003eJENSEN_SHANNON_DIVERGENCE\u003c/td\u003e\n",
              "      \u003ctd\u003e0.3\u003c/td\u003e\n",
              "      \u003ctd\u003e0.356159\u003c/td\u003e\n",
              "      \u003ctd\u003eTrue\u003c/td\u003e\n",
              "    \u003c/tr\u003e\n",
              "    \u003ctr\u003e\n",
              "      \u003cth\u003e1\u003c/th\u003e\n",
              "      \u003ctd\u003eculmen_depth_mm\u003c/td\u003e\n",
              "      \u003ctd\u003eJENSEN_SHANNON_DIVERGENCE\u003c/td\u003e\n",
              "      \u003ctd\u003e0.3\u003c/td\u003e\n",
              "      \u003ctd\u003e0.048397\u003c/td\u003e\n",
              "      \u003ctd\u003eFalse\u003c/td\u003e\n",
              "    \u003c/tr\u003e\n",
              "    \u003ctr\u003e\n",
              "      \u003cth\u003e2\u003c/th\u003e\n",
              "      \u003ctd\u003eculmen_length_mm\u003c/td\u003e\n",
              "      \u003ctd\u003eJENSEN_SHANNON_DIVERGENCE\u003c/td\u003e\n",
              "      \u003ctd\u003e0.3\u003c/td\u003e\n",
              "      \u003ctd\u003e0.059480\u003c/td\u003e\n",
              "      \u003ctd\u003eFalse\u003c/td\u003e\n",
              "    \u003c/tr\u003e\n",
              "    \u003ctr\u003e\n",
              "      \u003cth\u003e3\u003c/th\u003e\n",
              "      \u003ctd\u003eflipper_length_mm\u003c/td\u003e\n",
              "      \u003ctd\u003eJENSEN_SHANNON_DIVERGENCE\u003c/td\u003e\n",
              "      \u003ctd\u003e0.3\u003c/td\u003e\n",
              "      \u003ctd\u003e0.917495\u003c/td\u003e\n",
              "      \u003ctd\u003eTrue\u003c/td\u003e\n",
              "    \u003c/tr\u003e\n",
              "    \u003ctr\u003e\n",
              "      \u003cth\u003e4\u003c/th\u003e\n",
              "      \u003ctd\u003eisland\u003c/td\u003e\n",
              "      \u003ctd\u003eL_INFTY\u003c/td\u003e\n",
              "      \u003ctd\u003e0.3\u003c/td\u003e\n",
              "      \u003ctd\u003e0.118041\u003c/td\u003e\n",
              "      \u003ctd\u003eFalse\u003c/td\u003e\n",
              "    \u003c/tr\u003e\n",
              "    \u003ctr\u003e\n",
              "      \u003cth\u003e5\u003c/th\u003e\n",
              "      \u003ctd\u003esex\u003c/td\u003e\n",
              "      \u003ctd\u003eL_INFTY\u003c/td\u003e\n",
              "      \u003ctd\u003e0.3\u003c/td\u003e\n",
              "      \u003ctd\u003e0.051380\u003c/td\u003e\n",
              "      \u003ctd\u003eFalse\u003c/td\u003e\n",
              "    \u003c/tr\u003e\n",
              "  \u003c/tbody\u003e\n",
              "\u003c/table\u003e\n",
              "\u003c/div\u003e"
            ],
            "text/plain": [
              "               input                     metric  threshold     value  \\\n",
              "0        body_mass_g  JENSEN_SHANNON_DIVERGENCE        0.3  0.356159   \n",
              "1    culmen_depth_mm  JENSEN_SHANNON_DIVERGENCE        0.3  0.048397   \n",
              "2   culmen_length_mm  JENSEN_SHANNON_DIVERGENCE        0.3  0.059480   \n",
              "3  flipper_length_mm  JENSEN_SHANNON_DIVERGENCE        0.3  0.917495   \n",
              "4             island                    L_INFTY        0.3  0.118041   \n",
              "5                sex                    L_INFTY        0.3  0.051380   \n",
              "\n",
              "   is_anomaly  \n",
              "0        True  \n",
              "1       False  \n",
              "2       False  \n",
              "3        True  \n",
              "4       False  \n",
              "5       False  "
            ]
          },
          "execution_count": 19,
          "metadata": {},
          "output_type": "execute_result"
        }
      ],
      "source": [
        "%%bigquery\n",
        "SELECT *\n",
        "FROM ML.VALIDATE_DATA_SKEW(\n",
        "    MODEL `statmike-mlops-349915.bqml_model_monitoring.classify_species_logistic`,\n",
        "    (\n",
        "        SELECT *\n",
        "        FROM `statmike-mlops-349915.bqml_model_monitoring.serving`\n",
        "        WHERE DATE(instance_timestamp) = CURRENT_DATE()\n",
        "    )\n",
        ")"
      ]
    },
    {
      "cell_type": "markdown",
      "id": "cfec1d8c-32a8-42f6-a4c3-aa6f4e8f04fa",
      "metadata": {
        "id": "L2VujMKZwddD"
      },
      "source": [
        "### Monitoring Drift (Change Over Time) With `ML.VALIDATE_DATA_DRIFT`\n",
        "\n",
        "Compare last 5 days to prior 5 days and set the a lower, more sensitive, threshold of `0.03` (default is `0.3`) for all features."
      ]
    },
    {
      "cell_type": "code",
      "execution_count": 20,
      "id": "2d8677f8-a644-4077-9cf5-1c7cb9b206ec",
      "metadata": {
        "tags": [],
        "id": "bvM2nnJBwddD"
      },
      "outputs": [
        {
          "data": {
            "application/vnd.jupyter.widget-view+json": {
              "model_id": "1d714ac8503543d38c6f3e12ffc0c5b3",
              "version_major": 2,
              "version_minor": 0
            },
            "text/plain": [
              "Query is running:   0%|          |"
            ]
          },
          "metadata": {},
          "output_type": "display_data"
        },
        {
          "data": {
            "application/vnd.jupyter.widget-view+json": {
              "model_id": "816d5bc827d2463daaa44469f2b5663f",
              "version_major": 2,
              "version_minor": 0
            },
            "text/plain": [
              "Downloading:   0%|          |"
            ]
          },
          "metadata": {},
          "output_type": "display_data"
        },
        {
          "data": {
            "text/html": [
              "\u003cdiv\u003e\n",
              "\u003cstyle scoped\u003e\n",
              "    .dataframe tbody tr th:only-of-type {\n",
              "        vertical-align: middle;\n",
              "    }\n",
              "\n",
              "    .dataframe tbody tr th {\n",
              "        vertical-align: top;\n",
              "    }\n",
              "\n",
              "    .dataframe thead th {\n",
              "        text-align: right;\n",
              "    }\n",
              "\u003c/style\u003e\n",
              "\u003ctable border=\"1\" class=\"dataframe\"\u003e\n",
              "  \u003cthead\u003e\n",
              "    \u003ctr style=\"text-align: right;\"\u003e\n",
              "      \u003cth\u003e\u003c/th\u003e\n",
              "      \u003cth\u003einput\u003c/th\u003e\n",
              "      \u003cth\u003emetric\u003c/th\u003e\n",
              "      \u003cth\u003ethreshold\u003c/th\u003e\n",
              "      \u003cth\u003evalue\u003c/th\u003e\n",
              "      \u003cth\u003eis_anomaly\u003c/th\u003e\n",
              "    \u003c/tr\u003e\n",
              "  \u003c/thead\u003e\n",
              "  \u003ctbody\u003e\n",
              "    \u003ctr\u003e\n",
              "      \u003cth\u003e0\u003c/th\u003e\n",
              "      \u003ctd\u003ebody_mass_g\u003c/td\u003e\n",
              "      \u003ctd\u003eJENSEN_SHANNON_DIVERGENCE\u003c/td\u003e\n",
              "      \u003ctd\u003e0.03\u003c/td\u003e\n",
              "      \u003ctd\u003e2.820300e-02\u003c/td\u003e\n",
              "      \u003ctd\u003eFalse\u003c/td\u003e\n",
              "    \u003c/tr\u003e\n",
              "    \u003ctr\u003e\n",
              "      \u003cth\u003e1\u003c/th\u003e\n",
              "      \u003ctd\u003eculmen_depth_mm\u003c/td\u003e\n",
              "      \u003ctd\u003eJENSEN_SHANNON_DIVERGENCE\u003c/td\u003e\n",
              "      \u003ctd\u003e0.03\u003c/td\u003e\n",
              "      \u003ctd\u003e1.793992e-17\u003c/td\u003e\n",
              "      \u003ctd\u003eFalse\u003c/td\u003e\n",
              "    \u003c/tr\u003e\n",
              "    \u003ctr\u003e\n",
              "      \u003cth\u003e2\u003c/th\u003e\n",
              "      \u003ctd\u003eculmen_length_mm\u003c/td\u003e\n",
              "      \u003ctd\u003eJENSEN_SHANNON_DIVERGENCE\u003c/td\u003e\n",
              "      \u003ctd\u003e0.03\u003c/td\u003e\n",
              "      \u003ctd\u003e3.424257e-17\u003c/td\u003e\n",
              "      \u003ctd\u003eFalse\u003c/td\u003e\n",
              "    \u003c/tr\u003e\n",
              "    \u003ctr\u003e\n",
              "      \u003cth\u003e3\u003c/th\u003e\n",
              "      \u003ctd\u003eflipper_length_mm\u003c/td\u003e\n",
              "      \u003ctd\u003eJENSEN_SHANNON_DIVERGENCE\u003c/td\u003e\n",
              "      \u003ctd\u003e0.03\u003c/td\u003e\n",
              "      \u003ctd\u003e1.252698e-01\u003c/td\u003e\n",
              "      \u003ctd\u003eTrue\u003c/td\u003e\n",
              "    \u003c/tr\u003e\n",
              "    \u003ctr\u003e\n",
              "      \u003cth\u003e4\u003c/th\u003e\n",
              "      \u003ctd\u003eisland\u003c/td\u003e\n",
              "      \u003ctd\u003eL_INFTY\u003c/td\u003e\n",
              "      \u003ctd\u003e0.03\u003c/td\u003e\n",
              "      \u003ctd\u003e0.000000e+00\u003c/td\u003e\n",
              "      \u003ctd\u003eFalse\u003c/td\u003e\n",
              "    \u003c/tr\u003e\n",
              "    \u003ctr\u003e\n",
              "      \u003cth\u003e5\u003c/th\u003e\n",
              "      \u003ctd\u003esex\u003c/td\u003e\n",
              "      \u003ctd\u003eL_INFTY\u003c/td\u003e\n",
              "      \u003ctd\u003e0.03\u003c/td\u003e\n",
              "      \u003ctd\u003e0.000000e+00\u003c/td\u003e\n",
              "      \u003ctd\u003eFalse\u003c/td\u003e\n",
              "    \u003c/tr\u003e\n",
              "  \u003c/tbody\u003e\n",
              "\u003c/table\u003e\n",
              "\u003c/div\u003e"
            ],
            "text/plain": [
              "               input                     metric  threshold         value  \\\n",
              "0        body_mass_g  JENSEN_SHANNON_DIVERGENCE       0.03  2.820300e-02   \n",
              "1    culmen_depth_mm  JENSEN_SHANNON_DIVERGENCE       0.03  1.793992e-17   \n",
              "2   culmen_length_mm  JENSEN_SHANNON_DIVERGENCE       0.03  3.424257e-17   \n",
              "3  flipper_length_mm  JENSEN_SHANNON_DIVERGENCE       0.03  1.252698e-01   \n",
              "4             island                    L_INFTY       0.03  0.000000e+00   \n",
              "5                sex                    L_INFTY       0.03  0.000000e+00   \n",
              "\n",
              "   is_anomaly  \n",
              "0       False  \n",
              "1       False  \n",
              "2       False  \n",
              "3        True  \n",
              "4       False  \n",
              "5       False  "
            ]
          },
          "execution_count": 20,
          "metadata": {},
          "output_type": "execute_result"
        }
      ],
      "source": [
        "%%bigquery\n",
        "SELECT *\n",
        "FROM ML.VALIDATE_DATA_DRIFT(\n",
        "    (\n",
        "        SELECT * EXCEPT(species, instance_timestamp)\n",
        "        FROM `statmike-mlops-349915.bqml_model_monitoring.serving`\n",
        "        WHERE DATE(instance_timestamp) \u003e= DATE_SUB(CURRENT_DATE(), INTERVAL 5 DAY)\n",
        "    ),\n",
        "    (\n",
        "        SELECT * EXCEPT(species, instance_timestamp)\n",
        "        FROM `statmike-mlops-349915.bqml_model_monitoring.serving`\n",
        "        WHERE DATE(instance_timestamp) \u003e= DATE_SUB(CURRENT_DATE(), INTERVAL 10 DAY)\n",
        "            AND DATE(instance_timestamp) \u003c DATE_SUB(CURRENT_DATE(), INTERVAL 5 DAY)\n",
        "    ),\n",
        "    STRUCT(\n",
        "        0.03 AS categorical_default_threshold,\n",
        "        0.03 AS numerical_default_threshold\n",
        "    )\n",
        ")"
      ]
    },
    {
      "cell_type": "markdown",
      "id": "3519ea1f-fca0-4e99-84c6-b8c9807ac6ea",
      "metadata": {
        "id": "2teFPDZvwddD"
      },
      "source": [
        "---\n",
        "### TensorFlow Data Validation (TFDV) In BigQuery\n",
        "\n",
        "BigQuery offers two functions that bring the power of the TensorFlow's [TFX platform](https://www.tensorflow.org/tfx) with built-in [TensorFlow Data Validation (TFDV)](https://www.tensorflow.org/tfx/data_validation/get_started) module directly inside of BigQuery.\n",
        "- [`ML.TFDV_DESCRIBE`](https://cloud.google.com/bigquery/docs/reference/standard-sql/bigqueryml-syntax-tfdv-describe) to generate descriptive statistics of any table\n",
        "- [`ML.TFDV_VALIDATE`](https://cloud.google.com/bigquery/docs/reference/standard-sql/bigqueryml-syntax-tfdv-validate) to compare statistics of two tables"
      ]
    },
    {
      "cell_type": "markdown",
      "id": "396e933a-45eb-4024-8ab6-08c7e5caaf00",
      "metadata": {
        "id": "utMoaAXPwddD"
      },
      "source": [
        "#### Generate Statistics with `ML.TFDV_DESCRIBE`\n",
        "\n",
        "Generate statistics for any table, in this case the training data features or a timespan of serving data features.  This is like using the TensorFlow's [TFX platform](https://www.tensorflow.org/tfx) with built-in [TensorFlow Data Validation (TFDV)](https://www.tensorflow.org/tfx/data_validation/get_started) module's [`tfdv.generate_statistics_from_csv()`](https://www.tensorflow.org/tfx/data_validation/api_docs/python/tfdv/generate_statistics_from_csv) method.\n",
        "\n",
        "The descriptions can be used in comparisons for skew or drift detection with the `ML.TFDV_VALIDATE` function, covered next, as well as in the visualization tool `tfdv.visualize_statistics` also covered below."
      ]
    },
    {
      "cell_type": "code",
      "execution_count": 21,
      "id": "e6a1483a-41d6-4da9-b66a-d57ffa17cabb",
      "metadata": {
        "tags": [],
        "id": "ps6fmtIPwddD"
      },
      "outputs": [
        {
          "data": {
            "application/vnd.jupyter.widget-view+json": {
              "model_id": "930b6ff00f8140bdad89fdaf199824eb",
              "version_major": 2,
              "version_minor": 0
            },
            "text/plain": [
              "Query is running:   0%|          |"
            ]
          },
          "metadata": {},
          "output_type": "display_data"
        },
        {
          "data": {
            "application/vnd.jupyter.widget-view+json": {
              "model_id": "526340b39f0c4774a94011a15a733ab2",
              "version_major": 2,
              "version_minor": 0
            },
            "text/plain": [
              "Downloading:   0%|          |"
            ]
          },
          "metadata": {},
          "output_type": "display_data"
        }
      ],
      "source": [
        "%%bigquery train_describe\n",
        "SELECT *\n",
        "FROM ML.TFDV_DESCRIBE(\n",
        "    (\n",
        "        SELECT * EXCEPT(species)\n",
        "        FROM `statmike-mlops-349915.bqml_model_monitoring.training`\n",
        "    )\n",
        ")"
      ]
    },
    {
      "cell_type": "code",
      "execution_count": 22,
      "id": "c4544098-9bc2-4161-98bc-4e3a89db1364",
      "metadata": {
        "tags": [],
        "id": "cGFhu8VSwddD"
      },
      "outputs": [],
      "source": [
        "train_describe = json.loads(train_describe['dataset_feature_statistics_list'].iloc[0])"
      ]
    },
    {
      "cell_type": "code",
      "execution_count": 23,
      "id": "0e70516a-afc9-44d0-903a-4d7a973ef0a7",
      "metadata": {
        "tags": [],
        "id": "kYnqRMtvwddD"
      },
      "outputs": [
        {
          "data": {
            "text/plain": [
              "{'name': 'body_mass_g',\n",
              " 'num_stats': {'common_stats': {'avg_num_values': 1,\n",
              "   'max_num_values': '1',\n",
              "   'min_num_values': '1',\n",
              "   'num_non_missing': '342',\n",
              "   'num_values_histogram': {'buckets': [{'high_value': 1,\n",
              "      'low_value': 1,\n",
              "      'sample_count': 34.4},\n",
              "     {'high_value': 1, 'low_value': 1, 'sample_count': 34.4},\n",
              "     {'high_value': 1, 'low_value': 1, 'sample_count': 34.4},\n",
              "     {'high_value': 1, 'low_value': 1, 'sample_count': 34.4},\n",
              "     {'high_value': 1, 'low_value': 1, 'sample_count': 34.4},\n",
              "     {'high_value': 1, 'low_value': 1, 'sample_count': 34.4},\n",
              "     {'high_value': 1, 'low_value': 1, 'sample_count': 34.4},\n",
              "     {'high_value': 1, 'low_value': 1, 'sample_count': 34.4},\n",
              "     {'high_value': 1, 'low_value': 1, 'sample_count': 34.4},\n",
              "     {'high_value': 1, 'low_value': 1, 'sample_count': 34.4}],\n",
              "    'type': 'QUANTILES'},\n",
              "   'tot_num_values': '342'},\n",
              "  'histograms': [{'buckets': [{'high_value': 3300,\n",
              "      'low_value': 2700,\n",
              "      'sample_count': 34.4},\n",
              "     {'high_value': 3475, 'low_value': 3300, 'sample_count': 34.4},\n",
              "     {'high_value': 3650, 'low_value': 3475, 'sample_count': 34.4},\n",
              "     {'high_value': 3800, 'low_value': 3650, 'sample_count': 34.4},\n",
              "     {'high_value': 4050, 'low_value': 3800, 'sample_count': 34.4},\n",
              "     {'high_value': 4300, 'low_value': 4050, 'sample_count': 34.4},\n",
              "     {'high_value': 4650, 'low_value': 4300, 'sample_count': 34.4},\n",
              "     {'high_value': 4950, 'low_value': 4650, 'sample_count': 34.4},\n",
              "     {'high_value': 5400, 'low_value': 4950, 'sample_count': 34.4},\n",
              "     {'high_value': 6300, 'low_value': 5400, 'sample_count': 34.4}],\n",
              "    'type': 'QUANTILES'},\n",
              "   {'buckets': [{'high_value': 3060,\n",
              "      'low_value': 2700,\n",
              "      'sample_count': 14.929599999999992},\n",
              "     {'high_value': 3420,\n",
              "      'low_value': 3060,\n",
              "      'sample_count': 43.48160000000008},\n",
              "     {'high_value': 3780,\n",
              "      'low_value': 3420,\n",
              "      'sample_count': 71.34560000000002},\n",
              "     {'high_value': 4140,\n",
              "      'low_value': 3780,\n",
              "      'sample_count': 53.526400000000116},\n",
              "     {'high_value': 4500,\n",
              "      'low_value': 4140,\n",
              "      'sample_count': 44.78880000000009},\n",
              "     {'high_value': 4860,\n",
              "      'low_value': 4500,\n",
              "      'sample_count': 38.32160000000006},\n",
              "     {'high_value': 5220,\n",
              "      'low_value': 4860,\n",
              "      'sample_count': 28.20800000000003},\n",
              "     {'high_value': 5580,\n",
              "      'low_value': 5220,\n",
              "      'sample_count': 27.244800000000026},\n",
              "     {'high_value': 5940,\n",
              "      'low_value': 5580,\n",
              "      'sample_count': 16.27119999999999},\n",
              "     {'high_value': 6300,\n",
              "      'low_value': 5940,\n",
              "      'sample_count': 5.8824000000000005}]}],\n",
              "  'max': 6300,\n",
              "  'mean': 4201.754385964916,\n",
              "  'median': 4000,\n",
              "  'min': 2700,\n",
              "  'std_dev': 800.7812292384524},\n",
              " 'type': 'FLOAT'}"
            ]
          },
          "execution_count": 23,
          "metadata": {},
          "output_type": "execute_result"
        }
      ],
      "source": [
        "train_describe['datasets'][0]['features'][0]"
      ]
    },
    {
      "cell_type": "code",
      "execution_count": 24,
      "id": "e9665a14-a17e-46c2-b9ba-479b2734df76",
      "metadata": {
        "tags": [],
        "id": "YCLygw1CwddD"
      },
      "outputs": [
        {
          "data": {
            "application/vnd.jupyter.widget-view+json": {
              "model_id": "f6bb6a8464e54da7a5ea454c5033f71d",
              "version_major": 2,
              "version_minor": 0
            },
            "text/plain": [
              "Query is running:   0%|          |"
            ]
          },
          "metadata": {},
          "output_type": "display_data"
        },
        {
          "data": {
            "application/vnd.jupyter.widget-view+json": {
              "model_id": "caebf30e11bc4f6d979797428f880ff6",
              "version_major": 2,
              "version_minor": 0
            },
            "text/plain": [
              "Downloading:   0%|          |"
            ]
          },
          "metadata": {},
          "output_type": "display_data"
        }
      ],
      "source": [
        "%%bigquery today_describe\n",
        "SELECT *\n",
        "FROM ML.TFDV_DESCRIBE(\n",
        "    (\n",
        "        SELECT * EXCEPT(species, instance_timestamp)\n",
        "        FROM `statmike-mlops-349915.bqml_model_monitoring.serving`\n",
        "        WHERE DATE(instance_timestamp) = CURRENT_DATE()\n",
        "    )\n",
        ")"
      ]
    },
    {
      "cell_type": "code",
      "execution_count": 25,
      "id": "e3ed1a61-1f0f-49cd-9add-bb2e6cb7f02d",
      "metadata": {
        "tags": [],
        "id": "jRGWotlpwddD"
      },
      "outputs": [],
      "source": [
        "today_describe = json.loads(today_describe['dataset_feature_statistics_list'].iloc[0])"
      ]
    },
    {
      "cell_type": "code",
      "execution_count": 26,
      "id": "df05c689-8db0-437a-b18f-edfba7fcd0ec",
      "metadata": {
        "tags": [],
        "id": "Z0KC4KNvwddD"
      },
      "outputs": [],
      "source": [
        "#today_describe['datasets'][0]['features'][0]"
      ]
    },
    {
      "cell_type": "markdown",
      "id": "53c00f1a-16a7-4894-9973-c9d1277e8f92",
      "metadata": {
        "id": "y9UORxXdwddD"
      },
      "source": [
        "#### Visualize Statistics with `tfdv.visualize_statistics`\n",
        "\n",
        "Use the [`tfdv.visualize_statistics`](https://www.tensorflow.org/tfx/data_validation/api_docs/python/tfdv/visualize_statistics) tool to visualize the generated descriptions and directly compare them.  This presents visuals using [Facets Overview](https://pair-code.github.io/facets/)."
      ]
    },
    {
      "cell_type": "code",
      "execution_count": 27,
      "id": "35eddf77-474e-4844-b277-186b174ecced",
      "metadata": {
        "tags": [],
        "id": "pMde_ilpwddD"
      },
      "outputs": [],
      "source": [
        "import os\n",
        "os.environ['TF_CPP_MIN_LOG_LEVEL'] = '3'\n",
        "import tensorflow_data_validation as tfdv\n",
        "import tensorflow_metadata as tfmd\n",
        "from google.protobuf import json_format"
      ]
    },
    {
      "cell_type": "code",
      "execution_count": 28,
      "id": "d3237159-ed66-4874-b297-4bb662c26f72",
      "metadata": {
        "tags": [],
        "id": "ltd_-oCMwddD"
      },
      "outputs": [
        {
          "data": {
            "text/html": [
              "\u003ciframe id='facets-iframe' width=\"100%\" height=\"500px\"\u003e\u003c/iframe\u003e\n",
              "        \u003cscript\u003e\n",
              "        facets_iframe = document.getElementById('facets-iframe');\n",
              "        facets_html = '\u003cscript src=\"https://cdnjs.cloudflare.com/ajax/libs/webcomponentsjs/1.3.3/webcomponents-lite.js\"\u003e\u003c\\/script\u003e\u003clink rel=\"import\" href=\"https://raw.githubusercontent.com/PAIR-code/facets/master/facets-dist/facets-jupyter.html\"\u003e\u003cfacets-overview proto-input=\"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\"\u003e\u003c/facets-overview\u003e';\n",
              "        facets_iframe.srcdoc = facets_html;\n",
              "         facets_iframe.id = \"\";\n",
              "         setTimeout(() =\u003e {\n",
              "           facets_iframe.setAttribute('height', facets_iframe.contentWindow.document.body.offsetHeight + 'px')\n",
              "         }, 1500)\n",
              "         \u003c/script\u003e"
            ],
            "text/plain": [
              "\u003cIPython.core.display.HTML object\u003e"
            ]
          },
          "metadata": {},
          "output_type": "display_data"
        }
      ],
      "source": [
        "tfdv.visualize_statistics(\n",
        "    lhs_statistics = json_format.ParseDict(train_describe, tfmd.proto.statistics_pb2.DatasetFeatureStatisticsList()),\n",
        "    rhs_statistics = json_format.ParseDict(today_describe, tfmd.proto.statistics_pb2.DatasetFeatureStatisticsList()),\n",
        "    lhs_name = 'Training Data Stats',\n",
        "    rhs_name = 'Serving Data Stats - For Today'\n",
        ")"
      ]
    },
    {
      "cell_type": "markdown",
      "id": "98e991b7-c97a-4778-8397-3cfdcf562d67",
      "metadata": {
        "id": "fGKFUj8_wddD"
      },
      "source": [
        "#### Compare And Detect Anomalies with `ML.TFDV_VALIDATE`\n",
        "\n",
        "Compare the distribution of any table to a base table and compute distance statistics to detect anomalies.  This is like using the TensorFlow's [TFX platform](https://www.tensorflow.org/tfx) with built-in [TensorFlow Data Validation (TFDV)](https://www.tensorflow.org/tfx/data_validation/get_started) module's [validate_statistics api](https://www.tensorflow.org/tfx/data_validation/api_docs/python/tfdv/validate_statistics).\n",
        "\n",
        "These comparison can be made to training data for **skew** detection or previous serving data for **drift** detection."
      ]
    },
    {
      "cell_type": "code",
      "execution_count": 29,
      "id": "cdb55cee-a880-4851-8412-31426012a624",
      "metadata": {
        "tags": [],
        "id": "6hOXNOjxwddD"
      },
      "outputs": [
        {
          "data": {
            "application/vnd.jupyter.widget-view+json": {
              "model_id": "0fd4a8a4fafd4ad7a5501a2d260d279f",
              "version_major": 2,
              "version_minor": 0
            },
            "text/plain": [
              "Query is running:   0%|          |"
            ]
          },
          "metadata": {},
          "output_type": "display_data"
        },
        {
          "data": {
            "application/vnd.jupyter.widget-view+json": {
              "model_id": "18fbd64c1c334f3c8266fe73505a7c86",
              "version_major": 2,
              "version_minor": 0
            },
            "text/plain": [
              "Downloading:   0%|          |"
            ]
          },
          "metadata": {},
          "output_type": "display_data"
        }
      ],
      "source": [
        "%%bigquery validate\n",
        "WITH\n",
        "    TRAIN AS (\n",
        "        SELECT * EXCEPT(species)\n",
        "        FROM `statmike-mlops-349915.bqml_model_monitoring.training`\n",
        "    ),\n",
        "    SERVE AS (\n",
        "        SELECT * EXCEPT(species, instance_timestamp)\n",
        "        FROM `statmike-mlops-349915.bqml_model_monitoring.serving`\n",
        "        WHERE DATE(instance_timestamp) = CURRENT_DATE()\n",
        "    )\n",
        "SELECT ML.TFDV_VALIDATE(\n",
        "    (SELECT * FROM ML.TFDV_DESCRIBE(TABLE TRAIN)),\n",
        "    (SELECT * FROM ML.TFDV_DESCRIBE(TABLE SERVE)),\n",
        "    'SKEW', 0.03,'L_INFTY',0.03\n",
        ") as validate"
      ]
    },
    {
      "cell_type": "code",
      "execution_count": 30,
      "id": "e77925e1-7b27-4dc8-a30d-7cd16d794065",
      "metadata": {
        "tags": [],
        "id": "-VOb0vRswddD"
      },
      "outputs": [],
      "source": [
        "validate = json.loads(validate['validate'].iloc[0])"
      ]
    },
    {
      "cell_type": "code",
      "execution_count": 31,
      "id": "5c6badfe-c8b7-42c4-9b26-453e1047b421",
      "metadata": {
        "tags": [],
        "id": "9EhtHxihwddD"
      },
      "outputs": [],
      "source": [
        "#validate"
      ]
    },
    {
      "cell_type": "markdown",
      "id": "e9480e99-950e-4c12-9256-f8f3c0076d6b",
      "metadata": {
        "id": "s9k8V-rVwddD"
      },
      "source": [
        "#### Display Anomalies with `tfdv.display_anomalies`\n",
        "\n",
        "Use the [`tfdv.display_anomalies`](https://www.tensorflow.org/tfx/data_validation/api_docs/python/tfdv/display_anomalies) tool to display a table of anomaly detections with descriptions."
      ]
    },
    {
      "cell_type": "code",
      "execution_count": 32,
      "id": "083b7a66-69a1-437e-839a-267ceeac4ba2",
      "metadata": {
        "tags": [],
        "id": "dQQmW0GdwddD"
      },
      "outputs": [],
      "source": [
        "if 'generate_legacy_feature_spec' in validate['baseline'].keys():\n",
        "    del validate['baseline']['generate_legacy_feature_spec']"
      ]
    },
    {
      "cell_type": "code",
      "execution_count": 33,
      "id": "50767585-d951-4e79-a742-c691c9d632e6",
      "metadata": {
        "tags": [],
        "id": "HbGASerCwddD"
      },
      "outputs": [
        {
          "data": {
            "text/html": [
              "\u003cdiv\u003e\n",
              "\u003cstyle scoped\u003e\n",
              "    .dataframe tbody tr th:only-of-type {\n",
              "        vertical-align: middle;\n",
              "    }\n",
              "\n",
              "    .dataframe tbody tr th {\n",
              "        vertical-align: top;\n",
              "    }\n",
              "\n",
              "    .dataframe thead th {\n",
              "        text-align: right;\n",
              "    }\n",
              "\u003c/style\u003e\n",
              "\u003ctable border=\"1\" class=\"dataframe\"\u003e\n",
              "  \u003cthead\u003e\n",
              "    \u003ctr style=\"text-align: right;\"\u003e\n",
              "      \u003cth\u003e\u003c/th\u003e\n",
              "      \u003cth\u003eAnomaly short description\u003c/th\u003e\n",
              "      \u003cth\u003eAnomaly long description\u003c/th\u003e\n",
              "    \u003c/tr\u003e\n",
              "    \u003ctr\u003e\n",
              "      \u003cth\u003eFeature name\u003c/th\u003e\n",
              "      \u003cth\u003e\u003c/th\u003e\n",
              "      \u003cth\u003e\u003c/th\u003e\n",
              "    \u003c/tr\u003e\n",
              "  \u003c/thead\u003e\n",
              "  \u003ctbody\u003e\n",
              "    \u003ctr\u003e\n",
              "      \u003cth\u003e'culmen_depth_mm'\u003c/th\u003e\n",
              "      \u003ctd\u003eHigh approximate Jensen-Shannon divergence between training and serving\u003c/td\u003e\n",
              "      \u003ctd\u003eThe approximate Jensen-Shannon divergence between training and serving is 0.0483968 (up to six significant digits), above the threshold 0.03.\u003c/td\u003e\n",
              "    \u003c/tr\u003e\n",
              "    \u003ctr\u003e\n",
              "      \u003cth\u003e'flipper_length_mm'\u003c/th\u003e\n",
              "      \u003ctd\u003eHigh approximate Jensen-Shannon divergence between training and serving\u003c/td\u003e\n",
              "      \u003ctd\u003eThe approximate Jensen-Shannon divergence between training and serving is 0.917495 (up to six significant digits), above the threshold 0.03.\u003c/td\u003e\n",
              "    \u003c/tr\u003e\n",
              "    \u003ctr\u003e\n",
              "      \u003cth\u003e'body_mass_g'\u003c/th\u003e\n",
              "      \u003ctd\u003eHigh approximate Jensen-Shannon divergence between training and serving\u003c/td\u003e\n",
              "      \u003ctd\u003eThe approximate Jensen-Shannon divergence between training and serving is 0.356159 (up to six significant digits), above the threshold 0.03.\u003c/td\u003e\n",
              "    \u003c/tr\u003e\n",
              "    \u003ctr\u003e\n",
              "      \u003cth\u003e'island'\u003c/th\u003e\n",
              "      \u003ctd\u003eHigh Linfty distance between training and serving\u003c/td\u003e\n",
              "      \u003ctd\u003eThe Linfty distance between training and serving is 0.118041 (up to six significant digits), above the threshold 0.03. The feature value with maximum difference is: Dream\u003c/td\u003e\n",
              "    \u003c/tr\u003e\n",
              "    \u003ctr\u003e\n",
              "      \u003cth\u003e'culmen_length_mm'\u003c/th\u003e\n",
              "      \u003ctd\u003eHigh approximate Jensen-Shannon divergence between training and serving\u003c/td\u003e\n",
              "      \u003ctd\u003eThe approximate Jensen-Shannon divergence between training and serving is 0.0594803 (up to six significant digits), above the threshold 0.03.\u003c/td\u003e\n",
              "    \u003c/tr\u003e\n",
              "    \u003ctr\u003e\n",
              "      \u003cth\u003e'sex'\u003c/th\u003e\n",
              "      \u003ctd\u003eHigh Linfty distance between training and serving\u003c/td\u003e\n",
              "      \u003ctd\u003eThe Linfty distance between training and serving is 0.0513795 (up to six significant digits), above the threshold 0.03. The feature value with maximum difference is: FEMALE\u003c/td\u003e\n",
              "    \u003c/tr\u003e\n",
              "  \u003c/tbody\u003e\n",
              "\u003c/table\u003e\n",
              "\u003c/div\u003e"
            ],
            "text/plain": [
              "                                                                   Anomaly short description  \\\n",
              "Feature name                                                                                   \n",
              "'culmen_depth_mm'    High approximate Jensen-Shannon divergence between training and serving   \n",
              "'flipper_length_mm'  High approximate Jensen-Shannon divergence between training and serving   \n",
              "'body_mass_g'        High approximate Jensen-Shannon divergence between training and serving   \n",
              "'island'                                   High Linfty distance between training and serving   \n",
              "'culmen_length_mm'   High approximate Jensen-Shannon divergence between training and serving   \n",
              "'sex'                                      High Linfty distance between training and serving   \n",
              "\n",
              "                                                                                                                                                                         Anomaly long description  \n",
              "Feature name                                                                                                                                                                                       \n",
              "'culmen_depth_mm'                                   The approximate Jensen-Shannon divergence between training and serving is 0.0483968 (up to six significant digits), above the threshold 0.03.  \n",
              "'flipper_length_mm'                                  The approximate Jensen-Shannon divergence between training and serving is 0.917495 (up to six significant digits), above the threshold 0.03.  \n",
              "'body_mass_g'                                        The approximate Jensen-Shannon divergence between training and serving is 0.356159 (up to six significant digits), above the threshold 0.03.  \n",
              "'island'               The Linfty distance between training and serving is 0.118041 (up to six significant digits), above the threshold 0.03. The feature value with maximum difference is: Dream  \n",
              "'culmen_length_mm'                                  The approximate Jensen-Shannon divergence between training and serving is 0.0594803 (up to six significant digits), above the threshold 0.03.  \n",
              "'sex'                The Linfty distance between training and serving is 0.0513795 (up to six significant digits), above the threshold 0.03. The feature value with maximum difference is: FEMALE  "
            ]
          },
          "metadata": {},
          "output_type": "display_data"
        }
      ],
      "source": [
        "tfdv.display_anomalies(\n",
        "    anomalies = json_format.ParseDict(validate, tfmd.proto.anomalies_pb2.Anomalies())\n",
        ")"
      ]
    },
    {
      "cell_type": "markdown",
      "id": "b3dbd2fa-57c2-4d99-b230-8b6867732dc7",
      "metadata": {
        "id": "dStMGDDTwddD"
      },
      "source": [
        "---\n",
        "## Continous Monitoring\n",
        "\n",
        "The methods above can be combined into a job that runs both skew and drift detection.  The jobs can be scheduled or triggered to make the process of model monitoring continous - continous monitoring.  If the model quality can be evaluated with confidence then the automation can even be extended to retrain and update the model for continous training.  \n",
        "\n",
        "This section shows one of many ways to create a model monitoring job. For models created in BigQuery with BigQuery ML it also shows a retraining action as part of the job when alerts are detected.\n",
        "\n",
        "These types of jobs could be automated for continous monitoring.  In the accompanying ['BigQuery ML (BQML) - Model Monitoring Tutorial'](./bqml-model-monitoring-tutorial.ipynb) the approaches to automation are discussed in more detail and the jobs is expanded with more detailed tasks and logic:\n",
        "- [BigQuery Scheduled Queries](https://cloud.google.com/bigquery/docs/scheduling-queries)\n",
        "- [Dataform](https://cloud.google.com/dataform/docs/quickstart-create-workflow)\n",
        "- [Workflows](https://cloud.google.com/workflows/docs/tutorials/bigquery-parallel-jobs)\n",
        "- [Cloud Composer](https://cloud.google.com/composer/docs/data-analytics-googlecloud)\n",
        "- [Vertex AI Pipelines](https://cloud.google.com/vertex-ai/docs/pipelines/gcpc-list#bqml_components)"
      ]
    },
    {
      "cell_type": "markdown",
      "id": "a65ead6a-879a-4afe-986a-4caeb41dffa8",
      "metadata": {
        "id": "M2LSXCvNwddD"
      },
      "source": [
        "### Model Monitoring Job: With Alerting And Retraining\n",
        "\n",
        "A BigQuery SQL job that uses the [procedural language](https://cloud.google.com/bigquery/docs/reference/standard-sql/procedural-language) to detect skew and retrain the model with updated training data while also returning an alert message.\n",
        "\n",
        "This job also includes retraining of the BigQuery ML model:\n",
        "In this case the example is simplified to retrain the model and directly implement it as a replacement with `CREATE OR REPLACE MODEL`.  In a production enviornment additional pre/post steps might take place as part of this workflow:\n",
        "- on skew/drift detection:\n",
        "    - Prior to retraining:\n",
        "        - ensure detection is not due to data errors, schema changes, or system changes\n",
        "    - After retrainning:\n",
        "        - evaluate the model and compare to current production version\n",
        "        - conditionally deploy the new version if it is better in any/all key metrics\n",
        "        - consider rollout strategies for the retrained model\n",
        "        - trigger human review before deployment of the replacement"
      ]
    },
    {
      "cell_type": "code",
      "execution_count": 34,
      "id": "07ac4afe-69b5-4e7e-9249-3d461e178790",
      "metadata": {
        "tags": [],
        "id": "WffXTQKrwddD"
      },
      "outputs": [
        {
          "name": "stdout",
          "output_type": "stream",
          "text": [
            "Executing query with job ID: 2d6e8240-bd74-48f4-9684-489b128ba0c7\n",
            "Query executing: 69.20s"
          ]
        },
        {
          "name": "stderr",
          "output_type": "stream",
          "text": [
            "\n",
            "ERROR:\n",
            " 400 Query error: \n",
            "\n",
            "Found data skew in features: body_mass_g, flipper_length_mm. Model is retrained with the latest serving data.\n",
            "\n",
            " at [48:5]\n",
            "\n",
            "Location: US\n",
            "Job ID: 2d6e8240-bd74-48f4-9684-489b128ba0c7\n",
            "\n"
          ]
        }
      ],
      "source": [
        "%%bigquery\n",
        "DECLARE skew_anomalies ARRAY\u003cSTRING\u003e;\n",
        "\n",
        "# Monitor Skew: latest serving compared to training\n",
        "SET skew_anomalies = (\n",
        "    SELECT ARRAY_AGG(input)\n",
        "    FROM ML.VALIDATE_DATA_SKEW(\n",
        "        MODEL `statmike-mlops-349915.bqml_model_monitoring.classify_species_logistic`,\n",
        "        (\n",
        "            SELECT *\n",
        "            FROM `statmike-mlops-349915.bqml_model_monitoring.serving`\n",
        "            WHERE DATE(instance_timestamp) \u003e= CURRENT_DATE()\n",
        "        )\n",
        "    )\n",
        "    WHERE is_anomaly = True\n",
        ");\n",
        "\n",
        "IF(ARRAY_LENGTH(skew_anomalies) \u003e 0) THEN\n",
        "    # retrain the model\n",
        "    CREATE OR REPLACE MODEL `statmike-mlops-349915.bqml_model_monitoring.classify_species_logistic`\n",
        "        TRANSFORM(\n",
        "            ML.ROBUST_SCALER(body_mass_g) OVER() AS body_mass_g,\n",
        "            ML.STANDARD_SCALER(culmen_length_mm) OVER() AS culmen_length_mm,\n",
        "            ML.STANDARD_SCALER(culmen_depth_mm) OVER() AS culmen_depth_mm,\n",
        "            ML.QUANTILE_BUCKETIZE(flipper_length_mm, 3) OVER() AS flipper_length_mm,\n",
        "            ML.IMPUTER(sex, 'most_frequent') OVER() AS sex,\n",
        "            ML.IMPUTER(island, 'most_frequent') OVER() AS island,\n",
        "            species\n",
        "        )\n",
        "        OPTIONS(\n",
        "            MODEL_TYPE = 'LOGISTIC_REG',\n",
        "            INPUT_LABEL_COLS = ['species'],\n",
        "\n",
        "            # data specifics\n",
        "            DATA_SPLIT_METHOD = 'AUTO_SPLIT',\n",
        "\n",
        "            # model specifics\n",
        "            AUTO_CLASS_WEIGHTS = TRUE\n",
        "        )\n",
        "    AS\n",
        "        SELECT species, island, culmen_length_mm, culmen_depth_mm, sex, flipper_length_mm, body_mass_g\n",
        "        FROM `statmike-mlops-349915.bqml_model_monitoring.training`\n",
        "        UNION ALL\n",
        "        SELECT species, island, culmen_length_mm, culmen_depth_mm, sex, flipper_length_mm, body_mass_g\n",
        "        FROM `statmike-mlops-349915.bqml_model_monitoring.serving`\n",
        "        # get serving data for which the ground truth is now known:\n",
        "        WHERE species IS NOT NULL\n",
        "\n",
        "    ;\n",
        "    \n",
        "    # force alert with message\n",
        "    SELECT ERROR(\n",
        "        CONCAT(\n",
        "            '\\n\\nFound data skew in features: ',\n",
        "            ARRAY_TO_STRING(skew_anomalies, ', '),\n",
        "            '. Model is retrained with the latest serving data.\\n\\n'\n",
        "        )\n",
        "    );\n",
        "\n",
        "    ELSE SET skew_anomalies = ['No skew detected.'];\n",
        "END IF;"
      ]
    },
    {
      "cell_type": "markdown",
      "id": "e202c718-b7b5-40c5-98e4-2658642668d2",
      "metadata": {
        "id": "5xel8OXdwddD"
      },
      "source": [
        "---\n",
        "## More Resources\n",
        "\n",
        "Continue on to the ['BigQuery ML (BQML) - Model Monitoring Tutorial'](./bqml-model-monitoring-tutorial.ipynb) for a more detailed review of model monitoring with BigQuery. \n",
        "\n",
        "Read more about model monitoring in the documentation for the model monitoring functions:\n",
        "* [BigQuery ML Documentation](https://cloud.google.com/bigquery-ml/docs/)\n",
        "* [BigQuery ML Model Monitoring](https://cloud.google.com/bigquery/docs/model-monitoring-overview)\n",
        "    - [`ML.DESCRIBE_DATA`](https://cloud.google.com/bigquery/docs/reference/standard-sql/bigqueryml-syntax-describe-data)\n",
        "    - [`ML.VALIDATE_DATA_SKEW`](https://cloud.google.com/bigquery/docs/reference/standard-sql/bigqueryml-syntax-validate-data-skew)\n",
        "    - [`ML.VALIDATE_DATA_DRIFT`](https://cloud.google.com/bigquery/docs/reference/standard-sql/bigqueryml-syntax-validate-data-drift)\n",
        "    - [`ML.TFDV_DESCRIBE`](https://cloud.google.com/bigquery/docs/reference/standard-sql/bigqueryml-syntax-tfdv-describe)\n",
        "    - [`ML.TFDV_VALIDATE`](https://cloud.google.com/bigquery/docs/reference/standard-sql/bigqueryml-syntax-tfdv-validate)"
      ]
    },
    {
      "cell_type": "markdown",
      "id": "228194a9-5c3f-4089-9af2-f17eeaa75ad5",
      "metadata": {
        "id": "xLcWDq4CwddD"
      },
      "source": [
        "---\n",
        "## Remove Resources Created In This Notebook\n",
        "\n",
        "All the content is contained within the BigQuery dataset named `bqml_model_monitoring` created above.  If you are continuing on to the tutorial then consider leaving these resources for reuse in that notebook workflow.  \n",
        "\n",
        "The following will delete the BigQuery resources created above and the dataset if it is empty."
      ]
    },
    {
      "cell_type": "code",
      "execution_count": 37,
      "id": "f3755fbc-255e-4246-923e-cc2faeeb80d3",
      "metadata": {
        "tags": [],
        "id": "YRdMwhACwddD"
      },
      "outputs": [],
      "source": [
        "# to remove resources change this flag to True:\n",
        "remove = False"
      ]
    },
    {
      "cell_type": "code",
      "execution_count": 40,
      "id": "a1f5ff57-776e-47e2-90c0-09c5c31e768a",
      "metadata": {
        "id": "Igmx74jlwddD"
      },
      "outputs": [],
      "source": [
        "if remove:\n",
        "    # client for BigQuery\n",
        "    from google.cloud import bigquery\n",
        "    bq = bigquery.Client(project = 'statmike-mlops-349915')\n",
        "    \n",
        "    # delete BigQuery table(s) and model(s) created above\n",
        "    bq.delete_table('statmike-mlops-349915.bqml_model_monitoring.training')\n",
        "    bq.delete_table('statmike-mlops-349915.bqml_model_monitoring.serving')\n",
        "    bq.delete_model('statmike-mlops-349915.bqml_model_monitoring.classify_species_logistic')\n",
        "    \n",
        "    # delete BigQuery dataset - fails if other content was in the dataset than what this notebook created\n",
        "    bq.delete_dataset('statmike-mlops-349915.bqml_model_monitoring', delete_contents = False)"
      ]
    }
  ],
  "metadata": {
    "environment": {
      "kernel": "conda-root-py",
      "name": "workbench-notebooks.m119",
      "type": "gcloud",
      "uri": "us-docker.pkg.dev/deeplearning-platform-release/gcr.io/workbench-notebooks:m119"
    },
    "kernelspec": {
      "display_name": "Python 3 (ipykernel)",
      "language": "python",
      "name": "conda-root-py"
    },
    "language_info": {
      "codemirror_mode": {
        "name": "ipython",
        "version": 3
      },
      "file_extension": ".py",
      "mimetype": "text/x-python",
      "name": "python",
      "nbconvert_exporter": "python",
      "pygments_lexer": "ipython3",
      "version": "3.10.14"
    }
  },
  "nbformat": 4,
  "nbformat_minor": 5
}
