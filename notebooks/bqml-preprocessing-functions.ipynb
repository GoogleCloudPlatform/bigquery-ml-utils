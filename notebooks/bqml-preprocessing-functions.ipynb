{
  "cells": [
   {
    "cell_type": "markdown",
    "id": "bf25348d-8228-45e5-b47e-f52ebd298e27",
    "metadata": {},
    "source": [
     "![ga4](https://www.google-analytics.com/collect?v=2&tid=G-6VDTYWLKX6&cid=1&en=page_view&sid=1&dl=statmike%2Fvertex-ai-mlops%2F03+-+BigQuery+ML+%28BQML%29&dt=BQML+Feature+Engineering+-+preprocessing+functions.ipynb)\n",
     "\n",
     "# BigQuery ML (BQML) - Feature Engineering Functions\n",
     "\n",
     "This notebook explores preparing data (preprocessing) for machine learning with BigQuery using functions that are part of BigQuery ML (BQML). \n",
     "\n",
     "When using BigQuery ML to train a model you can prepare data in advance, at the point of input (`query_statment`) of the [`CREATE MODEL` statement](https://cloud.google.com/bigquery/docs/reference/standard-sql/bigqueryml-syntax-create#create_model_syntax), or within the model for transportability by using the [`TRANSFORM` clause](https://cloud.google.com/bigquery/docs/reference/standard-sql/bigqueryml-syntax-create#transform).\n",
     "\n",
     "In each case, the use of [operators](https://cloud.google.com/bigquery/docs/reference/standard-sql/operators), [conditional expressions](https://cloud.google.com/bigquery/docs/reference/standard-sql/conditional_expressions), [mathematical functions](https://cloud.google.com/bigquery/docs/reference/standard-sql/mathematical_functions), [conversion functions](https://cloud.google.com/bigquery/docs/reference/standard-sql/conversion_functions), [string functions](https://cloud.google.com/bigquery/docs/reference/standard-sql/string_functions), [date functions](https://cloud.google.com/bigquery/docs/reference/standard-sql/date_functions), [datetime functions](https://cloud.google.com/bigquery/docs/reference/standard-sql/datetime_functions), [time functions](https://cloud.google.com/bigquery/docs/reference/standard-sql/time_functions), and [timestamp functions](https://cloud.google.com/bigquery/docs/reference/standard-sql/timestamp_functions) are all useful.  Of particular interest for machine learning are the [Manual preprocessing functions](https://cloud.google.com/bigquery/docs/manual-preprocessing) covered indepth in this notebook.\n",
     "\n",
     "**This content will accompany the blog post - TBD**\n",
     "\n",
     "---\n",
     "\n",
     "**Feature Engineering**\n",
     "\n",
     "Feature engineering, or [preprocessing](https://cloud.google.com/bigquery/docs/preprocess-overview), is part of making data ready for machine learning.  BigQuery ML [manual feature preprocessing](https://cloud.google.com/bigquery/docs/manual-preprocessing) functions are available to make this process simple within BigQuery.  \n",
     "\n",
     "Each `CREATE MODEL ...` statement will do [automatic feature preprocessing](https://cloud.google.com/bigquery/docs/auto-preprocessing) by default.  It is also possible to include manual feature preprocessing in the [`CREATE MODEL` statement](https://cloud.google.com/bigquery/docs/reference/standard-sql/bigqueryml-syntax-create#create_model_syntax) as a [`TRANSFORM` clause](https://cloud.google.com/bigquery/docs/reference/standard-sql/bigqueryml-syntax-create#transform) where it will also become part of the model serving.  Many of these functions even accompany [exported models](https://cloud.google.com/bigquery/docs/exporting-models) and models [directly registered to Vertex AI Model Registry](https://cloud.google.com/bigquery/docs/create_vertex).\n",
     "\n",
     "```SQL\n",
     "CREATE MODEL {model name} AS\n",
     "    TRANSFORM (\n",
     "        ML.{function name}() OVER() as {name},\n",
     "        ...\n",
     "    )\n",
     "    OPTIONS (\n",
     "        MODEL_TYPE = ...\n",
     "        {more options}\n",
     "    )\n",
     "    AS\n",
     "        SELECT ...\n",
     "        FROM ...\n",
     "        WHERE ...\n",
     "```\n",
     "  \n",
     "---\n",
     "\n",
     "**Getting Started With BigQuery ML**\n",
     "<p align=\"center\" width=\"100%\">\n",
     "A great place to start exploring what model types are available and the functions to help create an ML workflow with each model type is this site:\n",
     "    <center>\n",
     "        <span style=\"font-size:xx-large;\">\n",
     "        <a href=\"https://cloud.google.com/bigquery/docs/e2e-journey\">\n",
     "            End-to-end user journey for each model\n",
     "        </a>\n",
     "        </span>\n",
     "    </center>\n",
     "\n",
     "Another great resourse for getting started is the \"What is BigQuery ML?\" starting page which include a model selection guide.\n",
     "    <center>\n",
     "        <span style=\"font-size:xx-large;\">\n",
     "        <a href=\"https://cloud.google.com/bigquery/docs/bqml-introduction\">\n",
     "        What is BigQuery ML?\n",
     "        </a>\n",
     "        </span>\n",
     "    </center>\n",
     "</p>\n",
     "\n",
     "---\n",
     "\n",
     "**Prerequisites:**\n",
     "\n",
     "None\n",
     "\n",
     "**Services Used:**\n",
     "- BigQuery\n",
     "\n",
     "**Resources:**\n",
     "- [BigQuery ML (BQML) Overview](https://cloud.google.com/bigquery/docs/bqml-introduction)\n",
     "- [Overview of BQML methods and workflows](https://cloud.google.com/bigquery/docs/e2e-journey)\n",
     "- [BigQuery](https://cloud.google.com/bigquery)\n",
     "    - [Documentation:](https://cloud.google.com/bigquery/docs/query-overview)\n",
     "    - [API:](https://cloud.google.com/bigquery/docs/reference/libraries-overview)\n",
     "        - [Clients](https://cloud.google.com/bigquery/docs/reference/libraries)\n",
     "            - [Python SDK:](https://github.com/googleapis/python-bigquery)\n",
     "            - [Python Library Reference:](https://cloud.google.com/python/docs/reference/bigquery/latest)"
    ]
   },
   {
    "cell_type": "markdown",
    "id": "685dcf05-9d1e-4f5f-bbd9-2cc7359e51ac",
    "metadata": {},
    "source": [
     "---\n",
     "## Colab Setup\n",
     "\n",
     "To run this notebook in Colab click [![Open In Colab](https://colab.research.google.com/assets/colab-badge.svg)](https://colab.research.google.com/github/statmike/vertex-ai-mlops/blob/main/03%20-%20BigQuery%20ML%20(BQML)/BQML%20Feature%20Engineering%20-%20preprocessing%20functions.ipynb) and run the cells in this section.  Otherwise, skip this section."
    ]
   },
   {
    "cell_type": "code",
    "execution_count": 475,
    "id": "0c7222a4-ac60-4686-ab8c-ce9586e44206",
    "metadata": {},
    "outputs": [
     {
      "name": "stdout",
      "output_type": "stream",
      "text": [
       "Updated property [core/project].\n"
      ]
     }
    ],
    "source": [
     "PROJECT_ID = 'statmike-mlops-349915' # replace with project ID"
    ]
   },
   {
    "cell_type": "code",
    "execution_count": 473,
    "id": "3d4b61b5-dc4f-4674-8c72-52de3fbcf152",
    "metadata": {},
    "outputs": [],
    "source": [
     "try:\n",
     "    import google.colab\n",
     "    from google.colab import auth\n",
     "    auth.authenticate_user()\n",
     "    !gcloud config set project {PROJECT_ID}\n",
     "except Exception:\n",
     "    pass"
    ]
   },
   {
    "cell_type": "markdown",
    "id": "6837705c-2111-481d-9a06-ba9aa5d69d79",
    "metadata": {},
    "source": [
     "---\n",
     "## Environment Setup"
    ]
   },
   {
    "cell_type": "markdown",
    "id": "317864f4-7d17-41c2-b9db-fca7e66e1150",
    "metadata": {},
    "source": [
     "inputs:"
    ]
   },
   {
    "cell_type": "code",
    "execution_count": 7,
    "id": "126c2906-8866-4a6f-8c51-ef82639707ed",
    "metadata": {},
    "outputs": [
     {
      "data": {
       "text/plain": [
        "'statmike-mlops-349915'"
       ]
      },
      "execution_count": 7,
      "metadata": {},
      "output_type": "execute_result"
     }
    ],
    "source": [
     "project = !gcloud config get-value project\n",
     "PROJECT_ID = project[0]\n",
     "PROJECT_ID"
    ]
   },
   {
    "cell_type": "markdown",
    "id": "e3fef64b-1941-4fa9-ae0f-eacbdef35d1b",
    "metadata": {},
    "source": [
     "packages:"
    ]
   },
   {
    "cell_type": "code",
    "execution_count": 1,
    "id": "63a19e1d-5d96-4c87-94d4-6aa74330e123",
    "metadata": {},
    "outputs": [],
    "source": [
     "from google.cloud import bigquery\n",
     "\n",
     "import pandas as pd\n",
     "import numpy as np"
    ]
   },
   {
    "cell_type": "markdown",
    "id": "ba670487-75a7-4e5d-a6a6-a97f7141f744",
    "metadata": {},
    "source": [
     "clients:"
    ]
   },
   {
    "cell_type": "code",
    "execution_count": 10,
    "id": "086b9847-032e-4faf-819d-c9fdcbbd68f5",
    "metadata": {},
    "outputs": [],
    "source": [
     "bq = bigquery.Client(project=PROJECT_ID, location = 'US')"
    ]
   },
   {
    "cell_type": "markdown",
    "id": "d0c84be8-6fe8-48de-a9ce-e74ef76891de",
    "metadata": {},
    "source": [
     "---\n",
     "## Transform BigQuery columns into ML features with SQL\n",
     "\n",
     "BigQuery ML [feature preprocessing functions](https://cloud.google.com/bigquery/docs/manual-preprocessing) are usefull for converting BigQuery columns to ML features.  BigQuery ML has included a set of these for manual preprocessing and they are individually demonstrated here.\n",
     "\n",
     "These functions can be used directly in BigQuery SQL or within the [`TRANSFORM` clause](https://cloud.google.com/bigquery/docs/reference/standard-sql/bigqueryml-syntax-create#transform) of the [`CREATE MODEL` statement](https://cloud.google.com/bigquery/docs/reference/standard-sql/bigqueryml-syntax-create#create_model_syntax).  Using these inside of the `TRANSFORM` clause means they will also be automatically applied during model serving in BigQuery with the [`ML.PREDICT` function](https://cloud.google.com/bigquery/docs/reference/standard-sql/bigqueryml-syntax-predict).  Many preprocessing statements can also accompany [exported models](https://cloud.google.com/bigquery/docs/exporting-models) and models [directly registered to Vertex AI Model Registry](https://cloud.google.com/bigquery/docs/create_vertex).\n",
     "\n",
     "**NOTE:** Some of the functions require using calculations over all values in the column and make use of an empty `OVER()` clause.  See `ML.QUANTILE_BUCKETIZE`, `ML.MIN_MAX_SCALER`, `ML.STANDARD_SCALER` for examples. "
    ]
   },
   {
    "cell_type": "markdown",
    "id": "58b46e18-f81f-4ec9-b22f-21a666e44d77",
    "metadata": {},
    "source": [
     "### General Functions\n",
     "\n",
     "[General functions](https://cloud.google.com/bigquery/docs/manual-preprocessing#general_functions) for data cleanup of string or numberical expressions.  Currently, this includes the ML.IMPUTER function for imputing missing values."
    ]
   },
   {
    "cell_type": "markdown",
    "id": "158717d0-021c-409d-a960-59a6627c508f",
    "metadata": {
     "tags": []
    },
    "source": [
     "#### ML.IMPUTER\n",
     "\n",
     "Given a column, numerical or categorical (string), the function replaces `NULL` values with the value specified by the paramter `strategy`.\n",
     "- `expression` is numerical or categorial input\n",
     "- `strategy` is a string value that specifies how to replace `NULL` values:\n",
     "    - 'mean' uses the mean (only for numerical columns)\n",
     "    - 'median' uses the median (only for numerical columns)\n",
     "    - 'most_frequent' uses the mode\n",
     "- [Reference](https://cloud.google.com/bigquery/docs/reference/standard-sql/bigqueryml-syntax-imputer)\n",
     "- Is [exportable](https://cloud.google.com/bigquery/docs/exporting-models#export-transform-functions) when used in [`TRANFORM` clause](https://cloud.google.com/bigquery/docs/reference/standard-sql/bigqueryml-syntax-create#transform)."
    ]
   },
   {
    "cell_type": "code",
    "execution_count": 12,
    "id": "d07bc5cd-d9c0-4f15-82b2-06440ffa6241",
    "metadata": {},
    "outputs": [
     {
      "name": "stdout",
      "output_type": "stream",
      "text": [
       "\n",
       "    SELECT\n",
       "        num_column,\n",
       "        ML.IMPUTER(num_column, 'mean') OVER() AS num_imputed_mean,\n",
       "        ML.IMPUTER(num_column, 'median') OVER() AS num_imputed_median,\n",
       "        ML.IMPUTER(num_column, 'most_frequent') OVER() AS num_imputed_mode,\n",
       "        string_column,\n",
       "        ML.IMPUTER(string_column, 'most_frequent') OVER() AS string_imputed_mode,\n",
       "    FROM\n",
       "        UNNEST([1, 1, 2, 3, 4, 5, NULL]) AS num_column WITH OFFSET pos1,\n",
       "        UNNEST(['a', 'a', 'b', 'c', 'd', 'e', NULL]) AS string_column WITH OFFSET pos2\n",
       "    WHERE pos1 = pos2\n",
       "    ORDER BY num_column\n",
       "\n"
      ]
     }
    ],
    "source": [
     "query = f\"\"\"\n",
     "    SELECT\n",
     "        num_column,\n",
     "        ML.IMPUTER(num_column, 'mean') OVER() AS num_imputed_mean,\n",
     "        ML.IMPUTER(num_column, 'median') OVER() AS num_imputed_median,\n",
     "        ML.IMPUTER(num_column, 'most_frequent') OVER() AS num_imputed_mode,\n",
     "        string_column,\n",
     "        ML.IMPUTER(string_column, 'most_frequent') OVER() AS string_imputed_mode,\n",
     "    FROM\n",
     "        UNNEST([1, 1, 2, 3, 4, 5, NULL]) AS num_column WITH OFFSET pos1,\n",
     "        UNNEST(['a', 'a', 'b', 'c', 'd', 'e', NULL]) AS string_column WITH OFFSET pos2\n",
     "    WHERE pos1 = pos2\n",
     "    ORDER BY num_column\n",
     "\"\"\"\n",
     "print(query)"
    ]
   },
   {
    "cell_type": "code",
    "execution_count": 13,
    "id": "3ea92e71-f927-479e-8db6-f83ed2e78d8f",
    "metadata": {},
    "outputs": [
     {
      "data": {
       "text/html": [
        "<div>\n",
        "<style scoped>\n",
        "    .dataframe tbody tr th:only-of-type {\n",
        "        vertical-align: middle;\n",
        "    }\n",
        "\n",
        "    .dataframe tbody tr th {\n",
        "        vertical-align: top;\n",
        "    }\n",
        "\n",
        "    .dataframe thead th {\n",
        "        text-align: right;\n",
        "    }\n",
        "</style>\n",
        "<table border=\"1\" class=\"dataframe\">\n",
        "  <thead>\n",
        "    <tr style=\"text-align: right;\">\n",
        "      <th></th>\n",
        "      <th>num_column</th>\n",
        "      <th>num_imputed_mean</th>\n",
        "      <th>num_imputed_median</th>\n",
        "      <th>num_imputed_mode</th>\n",
        "      <th>string_column</th>\n",
        "      <th>string_imputed_mode</th>\n",
        "    </tr>\n",
        "  </thead>\n",
        "  <tbody>\n",
        "    <tr>\n",
        "      <th>0</th>\n",
        "      <td>&lt;NA&gt;</td>\n",
        "      <td>2.666667</td>\n",
        "      <td>2.0</td>\n",
        "      <td>1.0</td>\n",
        "      <td>None</td>\n",
        "      <td>a</td>\n",
        "    </tr>\n",
        "    <tr>\n",
        "      <th>1</th>\n",
        "      <td>1</td>\n",
        "      <td>1.000000</td>\n",
        "      <td>1.0</td>\n",
        "      <td>1.0</td>\n",
        "      <td>a</td>\n",
        "      <td>a</td>\n",
        "    </tr>\n",
        "    <tr>\n",
        "      <th>2</th>\n",
        "      <td>1</td>\n",
        "      <td>1.000000</td>\n",
        "      <td>1.0</td>\n",
        "      <td>1.0</td>\n",
        "      <td>a</td>\n",
        "      <td>a</td>\n",
        "    </tr>\n",
        "    <tr>\n",
        "      <th>3</th>\n",
        "      <td>2</td>\n",
        "      <td>2.000000</td>\n",
        "      <td>2.0</td>\n",
        "      <td>2.0</td>\n",
        "      <td>b</td>\n",
        "      <td>b</td>\n",
        "    </tr>\n",
        "    <tr>\n",
        "      <th>4</th>\n",
        "      <td>3</td>\n",
        "      <td>3.000000</td>\n",
        "      <td>3.0</td>\n",
        "      <td>3.0</td>\n",
        "      <td>c</td>\n",
        "      <td>c</td>\n",
        "    </tr>\n",
        "    <tr>\n",
        "      <th>5</th>\n",
        "      <td>4</td>\n",
        "      <td>4.000000</td>\n",
        "      <td>4.0</td>\n",
        "      <td>4.0</td>\n",
        "      <td>d</td>\n",
        "      <td>d</td>\n",
        "    </tr>\n",
        "    <tr>\n",
        "      <th>6</th>\n",
        "      <td>5</td>\n",
        "      <td>5.000000</td>\n",
        "      <td>5.0</td>\n",
        "      <td>5.0</td>\n",
        "      <td>e</td>\n",
        "      <td>e</td>\n",
        "    </tr>\n",
        "  </tbody>\n",
        "</table>\n",
        "</div>"
       ],
       "text/plain": [
        "   num_column  num_imputed_mean  num_imputed_median  num_imputed_mode  \\\n",
        "0        <NA>          2.666667                 2.0               1.0   \n",
        "1           1          1.000000                 1.0               1.0   \n",
        "2           1          1.000000                 1.0               1.0   \n",
        "3           2          2.000000                 2.0               2.0   \n",
        "4           3          3.000000                 3.0               3.0   \n",
        "5           4          4.000000                 4.0               4.0   \n",
        "6           5          5.000000                 5.0               5.0   \n",
        "\n",
        "  string_column string_imputed_mode  \n",
        "0          None                   a  \n",
        "1             a                   a  \n",
        "2             a                   a  \n",
        "3             b                   b  \n",
        "4             c                   c  \n",
        "5             d                   d  \n",
        "6             e                   e  "
       ]
      },
      "execution_count": 13,
      "metadata": {},
      "output_type": "execute_result"
     }
    ],
    "source": [
     "df = bq.query(query = query).to_dataframe()\n",
     "df"
    ]
   },
   {
    "cell_type": "markdown",
    "id": "cceaebe5-11ac-46da-bda8-bec7b41d6b60",
    "metadata": {},
    "source": [
     "### Categorical Functions\n",
     "\n",
     "[Categorical functions](https://cloud.google.com/bigquery/docs/manual-preprocessing#categorical_functions) for categorizing data with string expressions."
    ]
   },
   {
    "cell_type": "markdown",
    "id": "d3831535-3518-415e-b90f-6726daf56725",
    "metadata": {
     "tags": []
    },
    "source": [
     "#### ML.FEATURE_CROSS\n",
     "\n",
     "Given a STRUCT of categorial features this returns a STRUCT of all combinations up to the degree passed-in (default = 2).\n",
     "- `struct_categorical_features` is a STRUCT of string values for categorical features column names to cross\n",
     "- `degree` (optional) is the highest degree of feature combinations to create\n",
     "    - in the range of [2, 4] with default = 2\n",
     "- [Reference](https://cloud.google.com/bigquery/docs/reference/standard-sql/bigqueryml-syntax-feature-cross)\n",
     "- Is not [exportable](https://cloud.google.com/bigquery/docs/exporting-models#export-transform-functions) when used in [`TRANFORM` clause](https://cloud.google.com/bigquery/docs/reference/standard-sql/bigqueryml-syntax-create#transform)."
    ]
   },
   {
    "cell_type": "code",
    "execution_count": 12,
    "id": "cdc8acc3-920f-4691-8288-801b8dd2a233",
    "metadata": {},
    "outputs": [
     {
      "name": "stdout",
      "output_type": "stream",
      "text": [
       "\n",
       "    SELECT\n",
       "        input_column_1, input_column_2, input_column_3,\n",
       "        ML.FEATURE_CROSS(STRUCT(input_column_1, input_column_2, input_column_3)) AS feature_column\n",
       "    FROM\n",
       "        UNNEST(['a', 'b', 'c']) as input_column_1 WITH OFFSET pos1,\n",
       "        UNNEST(['A', 'B', 'C']) AS input_column_2 WITH OFFSET pos2,\n",
       "        UNNEST(['1', '2', '3']) AS input_column_3 WITH OFFSET pos3\n",
       "    WHERE\n",
       "        pos1 = pos2 AND pos2 = pos3\n",
       "\n"
      ]
     }
    ],
    "source": [
     "query = f\"\"\"\n",
     "    SELECT\n",
     "        input_column_1, input_column_2, input_column_3,\n",
     "        ML.FEATURE_CROSS(STRUCT(input_column_1, input_column_2, input_column_3)) AS feature_column\n",
     "    FROM\n",
     "        UNNEST(['a', 'b', 'c']) as input_column_1 WITH OFFSET pos1,\n",
     "        UNNEST(['A', 'B', 'C']) AS input_column_2 WITH OFFSET pos2,\n",
     "        UNNEST(['1', '2', '3']) AS input_column_3 WITH OFFSET pos3\n",
     "    WHERE\n",
     "        pos1 = pos2 AND pos2 = pos3\n",
     "\"\"\"\n",
     "print(query)"
    ]
   },
   {
    "cell_type": "code",
    "execution_count": 13,
    "id": "6c068f1a-ff9a-45c6-8771-b2550ae91d8d",
    "metadata": {},
    "outputs": [
     {
      "data": {
       "text/html": [
        "<div>\n",
        "<style scoped>\n",
        "    .dataframe tbody tr th:only-of-type {\n",
        "        vertical-align: middle;\n",
        "    }\n",
        "\n",
        "    .dataframe tbody tr th {\n",
        "        vertical-align: top;\n",
        "    }\n",
        "\n",
        "    .dataframe thead th {\n",
        "        text-align: right;\n",
        "    }\n",
        "</style>\n",
        "<table border=\"1\" class=\"dataframe\">\n",
        "  <thead>\n",
        "    <tr style=\"text-align: right;\">\n",
        "      <th></th>\n",
        "      <th>input_column_1</th>\n",
        "      <th>input_column_2</th>\n",
        "      <th>input_column_3</th>\n",
        "      <th>feature_column</th>\n",
        "    </tr>\n",
        "  </thead>\n",
        "  <tbody>\n",
        "    <tr>\n",
        "      <th>0</th>\n",
        "      <td>a</td>\n",
        "      <td>A</td>\n",
        "      <td>1</td>\n",
        "      <td>{'input_column_1_input_column_2': 'a_A', 'inpu...</td>\n",
        "    </tr>\n",
        "    <tr>\n",
        "      <th>1</th>\n",
        "      <td>b</td>\n",
        "      <td>B</td>\n",
        "      <td>2</td>\n",
        "      <td>{'input_column_1_input_column_2': 'b_B', 'inpu...</td>\n",
        "    </tr>\n",
        "    <tr>\n",
        "      <th>2</th>\n",
        "      <td>c</td>\n",
        "      <td>C</td>\n",
        "      <td>3</td>\n",
        "      <td>{'input_column_1_input_column_2': 'c_C', 'inpu...</td>\n",
        "    </tr>\n",
        "  </tbody>\n",
        "</table>\n",
        "</div>"
       ],
       "text/plain": [
        "  input_column_1 input_column_2 input_column_3  \\\n",
        "0              a              A              1   \n",
        "1              b              B              2   \n",
        "2              c              C              3   \n",
        "\n",
        "                                      feature_column  \n",
        "0  {'input_column_1_input_column_2': 'a_A', 'inpu...  \n",
        "1  {'input_column_1_input_column_2': 'b_B', 'inpu...  \n",
        "2  {'input_column_1_input_column_2': 'c_C', 'inpu...  "
       ]
      },
      "execution_count": 13,
      "metadata": {},
      "output_type": "execute_result"
     }
    ],
    "source": [
     "df = bq.query(query = query).to_dataframe()\n",
     "df"
    ]
   },
   {
    "cell_type": "code",
    "execution_count": 14,
    "id": "fdf198c4-3a06-4e57-8f76-d82efd070087",
    "metadata": {},
    "outputs": [
     {
      "data": {
       "text/plain": [
        "{'input_column_1_input_column_2': 'c_C',\n",
        " 'input_column_1_input_column_3': 'c_3',\n",
        " 'input_column_2_input_column_3': 'C_3'}"
       ]
      },
      "execution_count": 14,
      "metadata": {},
      "output_type": "execute_result"
     }
    ],
    "source": [
     "df['feature_column'].iloc[-1]"
    ]
   },
   {
    "cell_type": "markdown",
    "id": "92e747ed-1220-4f6c-a037-54c0170b8f99",
    "metadata": {
     "tags": []
    },
    "source": [
     "#### ML.HASH_BUCKATIZE\n",
     "\n",
     "Given a column of string values this function will hash the values as a new column.  If a bucket size > 0 provided it will take the mod of the hash: remainder of the hash divided by bucket size as the bucket number.\n",
     "- `string_expression` is the string for the categorical feature to bucketize\n",
     "- `hash_bucket_size` is an integer for the number of buckets to create\n",
     "    - if 0, strings are hashed without bucketizing\n",
     "- [Reference](https://cloud.google.com/bigquery/docs/reference/standard-sql/bigqueryml-syntax-hash-bucketize)\n",
     "- Is [exportable](https://cloud.google.com/bigquery/docs/exporting-models#export-transform-functions) when used in [`TRANFORM` clause](https://cloud.google.com/bigquery/docs/reference/standard-sql/bigqueryml-syntax-create#transform)."
    ]
   },
   {
    "cell_type": "code",
    "execution_count": 16,
    "id": "ac008d1e-eb0b-4e15-9f70-c75f749969e5",
    "metadata": {},
    "outputs": [
     {
      "name": "stdout",
      "output_type": "stream",
      "text": [
       "\n",
       "    SELECT\n",
       "        input_column,\n",
       "        ML.HASH_BUCKETIZE(input_column, 0) AS hash_column,\n",
       "        ML.HASH_BUCKETIZE(input_column, 3) AS feature_column\n",
       "    FROM\n",
       "        UNNEST(['a', 'b', 'c', 'd', 'e', 'f', 'g', 'h', 'i']) as input_column\n",
       "\n"
      ]
     }
    ],
    "source": [
     "query = f\"\"\"\n",
     "    SELECT\n",
     "        input_column,\n",
     "        ML.HASH_BUCKETIZE(input_column, 0) AS hash_column,\n",
     "        ML.HASH_BUCKETIZE(input_column, 3) AS feature_column\n",
     "    FROM\n",
     "        UNNEST(['a', 'b', 'c', 'd', 'e', 'f', 'g', 'h', 'i']) as input_column\n",
     "\"\"\"\n",
     "print(query)"
    ]
   },
   {
    "cell_type": "code",
    "execution_count": 17,
    "id": "17b4a69d-b844-476c-89cf-8b15c3768026",
    "metadata": {},
    "outputs": [
     {
      "data": {
       "text/html": [
        "<div>\n",
        "<style scoped>\n",
        "    .dataframe tbody tr th:only-of-type {\n",
        "        vertical-align: middle;\n",
        "    }\n",
        "\n",
        "    .dataframe tbody tr th {\n",
        "        vertical-align: top;\n",
        "    }\n",
        "\n",
        "    .dataframe thead th {\n",
        "        text-align: right;\n",
        "    }\n",
        "</style>\n",
        "<table border=\"1\" class=\"dataframe\">\n",
        "  <thead>\n",
        "    <tr style=\"text-align: right;\">\n",
        "      <th></th>\n",
        "      <th>input_column</th>\n",
        "      <th>hash_column</th>\n",
        "      <th>feature_column</th>\n",
        "    </tr>\n",
        "  </thead>\n",
        "  <tbody>\n",
        "    <tr>\n",
        "      <th>0</th>\n",
        "      <td>a</td>\n",
        "      <td>-5528939962900187677</td>\n",
        "      <td>0</td>\n",
        "    </tr>\n",
        "    <tr>\n",
        "      <th>1</th>\n",
        "      <td>b</td>\n",
        "      <td>-6651148003232386794</td>\n",
        "      <td>1</td>\n",
        "    </tr>\n",
        "    <tr>\n",
        "      <th>2</th>\n",
        "      <td>c</td>\n",
        "      <td>-7016299626566550744</td>\n",
        "      <td>1</td>\n",
        "    </tr>\n",
        "    <tr>\n",
        "      <th>3</th>\n",
        "      <td>d</td>\n",
        "      <td>4470636696479570465</td>\n",
        "      <td>2</td>\n",
        "    </tr>\n",
        "    <tr>\n",
        "      <th>4</th>\n",
        "      <td>e</td>\n",
        "      <td>-3078673838733201075</td>\n",
        "      <td>1</td>\n",
        "    </tr>\n",
        "    <tr>\n",
        "      <th>5</th>\n",
        "      <td>f</td>\n",
        "      <td>-1522288349254903624</td>\n",
        "      <td>0</td>\n",
        "    </tr>\n",
        "    <tr>\n",
        "      <th>6</th>\n",
        "      <td>g</td>\n",
        "      <td>4940667224093463419</td>\n",
        "      <td>2</td>\n",
        "    </tr>\n",
        "    <tr>\n",
        "      <th>7</th>\n",
        "      <td>h</td>\n",
        "      <td>-2585402310428948559</td>\n",
        "      <td>1</td>\n",
        "    </tr>\n",
        "    <tr>\n",
        "      <th>8</th>\n",
        "      <td>i</td>\n",
        "      <td>-9189916281559197516</td>\n",
        "      <td>1</td>\n",
        "    </tr>\n",
        "  </tbody>\n",
        "</table>\n",
        "</div>"
       ],
       "text/plain": [
        "  input_column           hash_column  feature_column\n",
        "0            a  -5528939962900187677               0\n",
        "1            b  -6651148003232386794               1\n",
        "2            c  -7016299626566550744               1\n",
        "3            d   4470636696479570465               2\n",
        "4            e  -3078673838733201075               1\n",
        "5            f  -1522288349254903624               0\n",
        "6            g   4940667224093463419               2\n",
        "7            h  -2585402310428948559               1\n",
        "8            i  -9189916281559197516               1"
       ]
      },
      "execution_count": 17,
      "metadata": {},
      "output_type": "execute_result"
     }
    ],
    "source": [
     "df = bq.query(query = query).to_dataframe()\n",
     "df"
    ]
   },
   {
    "cell_type": "markdown",
    "id": "0a70e56d-7df3-4518-ba92-df2c7eef6634",
    "metadata": {
     "tags": []
    },
    "source": [
     "#### ML.LABEL_ENCODER\n",
     "\n",
     "Given a string column the function will encode the value as integers [0, n] representing categories.  Any `NULL` or removed values will be encoded with `0`.\n",
     "- `string_expression` is the string for the catgorical feature to encode\n",
     "- `top_k` (optional) takes an integer value that specifies the limit on the number of categories to encode based on frequency\n",
     "    - default is 32,000\n",
     "    - max is 1 million\n",
     "- `frequency_threshold` (optional) takes an integer value that specifies that minimum frequency to be encoded. Categories below the threshold are encoded as 0.\n",
     "    - default = 5\n",
     "- [Reference](https://cloud.google.com/bigquery/docs/reference/standard-sql/bigqueryml-syntax-label-encoder)\n",
     "- Is [exportable](https://cloud.google.com/bigquery/docs/exporting-models#export-transform-functions) when used in [`TRANFORM` clause](https://cloud.google.com/bigquery/docs/reference/standard-sql/bigqueryml-syntax-create#transform)."
    ]
   },
   {
    "cell_type": "code",
    "execution_count": 22,
    "id": "a3562535-c56a-4cfe-87df-cb88a0178c6c",
    "metadata": {},
    "outputs": [
     {
      "name": "stdout",
      "output_type": "stream",
      "text": [
       "\n",
       "    SELECT\n",
       "        input_column,\n",
       "        ML.LABEL_ENCODER(input_column) OVER() AS labeled_all,\n",
       "        ML.LABEL_ENCODER(input_column, 3) OVER() AS labeled_top3,\n",
       "        ML.LABEL_ENCODER(input_column, 3, 3) OVER() AS labeled_top3_min3\n",
       "    FROM\n",
       "        UNNEST([NULL, 'a', 'b', 'b', 'c', 'c', 'c', 'd', 'd', 'd', 'd', 'd']) AS input_column\n",
       "    ORDER BY input_column\n",
       "\n"
      ]
     }
    ],
    "source": [
     "query = f\"\"\"\n",
     "    SELECT\n",
     "        input_column,\n",
     "        ML.LABEL_ENCODER(input_column) OVER() AS labeled_all,\n",
     "        ML.LABEL_ENCODER(input_column, 3) OVER() AS labeled_top3,\n",
     "        ML.LABEL_ENCODER(input_column, 3, 3) OVER() AS labeled_top3_min3\n",
     "    FROM\n",
     "        UNNEST([NULL, 'a', 'b', 'b', 'c', 'c', 'c', 'd', 'd', 'd', 'd', 'd']) AS input_column\n",
     "    ORDER BY input_column\n",
     "\"\"\"\n",
     "print(query)"
    ]
   },
   {
    "cell_type": "code",
    "execution_count": 23,
    "id": "95d0bfd3-f95c-483e-bf67-4cab535fb371",
    "metadata": {},
    "outputs": [
     {
      "data": {
       "text/html": [
        "<div>\n",
        "<style scoped>\n",
        "    .dataframe tbody tr th:only-of-type {\n",
        "        vertical-align: middle;\n",
        "    }\n",
        "\n",
        "    .dataframe tbody tr th {\n",
        "        vertical-align: top;\n",
        "    }\n",
        "\n",
        "    .dataframe thead th {\n",
        "        text-align: right;\n",
        "    }\n",
        "</style>\n",
        "<table border=\"1\" class=\"dataframe\">\n",
        "  <thead>\n",
        "    <tr style=\"text-align: right;\">\n",
        "      <th></th>\n",
        "      <th>input_column</th>\n",
        "      <th>labeled_all</th>\n",
        "      <th>labeled_top3</th>\n",
        "      <th>labeled_top3_min3</th>\n",
        "    </tr>\n",
        "  </thead>\n",
        "  <tbody>\n",
        "    <tr>\n",
        "      <th>0</th>\n",
        "      <td>None</td>\n",
        "      <td>0</td>\n",
        "      <td>0</td>\n",
        "      <td>0</td>\n",
        "    </tr>\n",
        "    <tr>\n",
        "      <th>1</th>\n",
        "      <td>a</td>\n",
        "      <td>0</td>\n",
        "      <td>0</td>\n",
        "      <td>0</td>\n",
        "    </tr>\n",
        "    <tr>\n",
        "      <th>2</th>\n",
        "      <td>b</td>\n",
        "      <td>0</td>\n",
        "      <td>0</td>\n",
        "      <td>0</td>\n",
        "    </tr>\n",
        "    <tr>\n",
        "      <th>3</th>\n",
        "      <td>b</td>\n",
        "      <td>0</td>\n",
        "      <td>0</td>\n",
        "      <td>0</td>\n",
        "    </tr>\n",
        "    <tr>\n",
        "      <th>4</th>\n",
        "      <td>c</td>\n",
        "      <td>0</td>\n",
        "      <td>0</td>\n",
        "      <td>1</td>\n",
        "    </tr>\n",
        "    <tr>\n",
        "      <th>5</th>\n",
        "      <td>c</td>\n",
        "      <td>0</td>\n",
        "      <td>0</td>\n",
        "      <td>1</td>\n",
        "    </tr>\n",
        "    <tr>\n",
        "      <th>6</th>\n",
        "      <td>c</td>\n",
        "      <td>0</td>\n",
        "      <td>0</td>\n",
        "      <td>1</td>\n",
        "    </tr>\n",
        "    <tr>\n",
        "      <th>7</th>\n",
        "      <td>d</td>\n",
        "      <td>1</td>\n",
        "      <td>1</td>\n",
        "      <td>2</td>\n",
        "    </tr>\n",
        "    <tr>\n",
        "      <th>8</th>\n",
        "      <td>d</td>\n",
        "      <td>1</td>\n",
        "      <td>1</td>\n",
        "      <td>2</td>\n",
        "    </tr>\n",
        "    <tr>\n",
        "      <th>9</th>\n",
        "      <td>d</td>\n",
        "      <td>1</td>\n",
        "      <td>1</td>\n",
        "      <td>2</td>\n",
        "    </tr>\n",
        "    <tr>\n",
        "      <th>10</th>\n",
        "      <td>d</td>\n",
        "      <td>1</td>\n",
        "      <td>1</td>\n",
        "      <td>2</td>\n",
        "    </tr>\n",
        "    <tr>\n",
        "      <th>11</th>\n",
        "      <td>d</td>\n",
        "      <td>1</td>\n",
        "      <td>1</td>\n",
        "      <td>2</td>\n",
        "    </tr>\n",
        "  </tbody>\n",
        "</table>\n",
        "</div>"
       ],
       "text/plain": [
        "   input_column  labeled_all  labeled_top3  labeled_top3_min3\n",
        "0          None            0             0                  0\n",
        "1             a            0             0                  0\n",
        "2             b            0             0                  0\n",
        "3             b            0             0                  0\n",
        "4             c            0             0                  1\n",
        "5             c            0             0                  1\n",
        "6             c            0             0                  1\n",
        "7             d            1             1                  2\n",
        "8             d            1             1                  2\n",
        "9             d            1             1                  2\n",
        "10            d            1             1                  2\n",
        "11            d            1             1                  2"
       ]
      },
      "execution_count": 23,
      "metadata": {},
      "output_type": "execute_result"
     }
    ],
    "source": [
     "df = bq.query(query = query).to_dataframe()\n",
     "df"
    ]
   },
   {
    "cell_type": "markdown",
    "id": "12b8a626-08d9-497a-aa45-987e99885d0a",
    "metadata": {
     "tags": []
    },
    "source": [
     "#### ML.MULTI_HOT_ENCODER\n",
     "\n",
     "Given an column with arrays of strings the function will multi-hot encode the value as integers [0, n] representing categories. This generates a separate feature for each unique element in the arrays.  Any `NULL` or removed values will be encoded with `0`.\n",
     "- `array_expression` is an ARRAY of strings to multi-hot encode\n",
     "- `top_k` (optional) takes an integer value that specifies the limit on the number of categories to encode based on frequency\n",
     "    - default is 32,000\n",
     "    - max is 1 million\n",
     "- `frequency_threshold` (optional) takes an integer value that specifies that minimum frequency to be encoded\n",
     "    - default = 5\n",
     "- [Reference](https://cloud.google.com/bigquery/docs/reference/standard-sql/bigqueryml-syntax-multi-hot-encoder)\n",
     "- Is [exportable](https://cloud.google.com/bigquery/docs/exporting-models#export-transform-functions) when used in [`TRANFORM` clause](https://cloud.google.com/bigquery/docs/reference/standard-sql/bigqueryml-syntax-create#transform)."
    ]
   },
   {
    "cell_type": "code",
    "execution_count": 57,
    "id": "74c5a57a-766b-4cad-bc40-2f608c5c5aa3",
    "metadata": {},
    "outputs": [
     {
      "name": "stdout",
      "output_type": "stream",
      "text": [
       "\n",
       "    SELECT\n",
       "        input_column,\n",
       "        ML.MULTI_HOT_ENCODER(input_column) OVER() AS labeled_all,\n",
       "        ML.MULTI_HOT_ENCODER(input_column, 1, 2) OVER() AS labeled_top1_min2,\n",
       "        ML.MULTI_HOT_ENCODER(input_column, 3, 1) OVER() AS labeled_top3_min1\n",
       "    FROM\n",
       "        (\n",
       "            SELECT ['a', 'b', 'd', 'd', 'd', 'd', 'd'] as input_column\n",
       "            UNION ALL\n",
       "            SELECT ['a', 'c', 'd', 'd', 'd', 'd', 'd'] as input_column\n",
       "        )\n",
       "    ORDER BY input_column[OFFSET(0)]\n",
       "\n"
      ]
     }
    ],
    "source": [
     "query = f\"\"\"\n",
     "    SELECT\n",
     "        input_column,\n",
     "        ML.MULTI_HOT_ENCODER(input_column) OVER() AS labeled_all,\n",
     "        ML.MULTI_HOT_ENCODER(input_column, 1, 2) OVER() AS labeled_top1_min2,\n",
     "        ML.MULTI_HOT_ENCODER(input_column, 3, 1) OVER() AS labeled_top3_min1\n",
     "    FROM\n",
     "        (\n",
     "            SELECT ['a', 'b', 'd', 'd', 'd', 'd', 'd'] as input_column\n",
     "            UNION ALL\n",
     "            SELECT ['a', 'c', 'd', 'd', 'd', 'd', 'd'] as input_column\n",
     "        )\n",
     "    ORDER BY input_column[OFFSET(0)]\n",
     "\"\"\"\n",
     "print(query)"
    ]
   },
   {
    "cell_type": "code",
    "execution_count": 58,
    "id": "c0170a32-baa3-4058-bf70-0472c869a669",
    "metadata": {},
    "outputs": [
     {
      "data": {
       "text/html": [
        "<div>\n",
        "<style scoped>\n",
        "    .dataframe tbody tr th:only-of-type {\n",
        "        vertical-align: middle;\n",
        "    }\n",
        "\n",
        "    .dataframe tbody tr th {\n",
        "        vertical-align: top;\n",
        "    }\n",
        "\n",
        "    .dataframe thead th {\n",
        "        text-align: right;\n",
        "    }\n",
        "</style>\n",
        "<table border=\"1\" class=\"dataframe\">\n",
        "  <thead>\n",
        "    <tr style=\"text-align: right;\">\n",
        "      <th></th>\n",
        "      <th>input_column</th>\n",
        "      <th>labeled_all</th>\n",
        "      <th>labeled_top1_min2</th>\n",
        "      <th>labeled_top3_min1</th>\n",
        "    </tr>\n",
        "  </thead>\n",
        "  <tbody>\n",
        "    <tr>\n",
        "      <th>0</th>\n",
        "      <td>[a, c, d, d, d, d, d]</td>\n",
        "      <td>[{'index': 0, 'value': 1.0}]</td>\n",
        "      <td>[{'index': 1, 'value': 1.0}, {'index': 0, 'val...</td>\n",
        "      <td>[{'index': 1, 'value': 1.0}, {'index': 0, 'val...</td>\n",
        "    </tr>\n",
        "    <tr>\n",
        "      <th>1</th>\n",
        "      <td>[a, b, d, d, d, d, d]</td>\n",
        "      <td>[{'index': 0, 'value': 1.0}]</td>\n",
        "      <td>[{'index': 1, 'value': 1.0}, {'index': 0, 'val...</td>\n",
        "      <td>[{'index': 1, 'value': 1.0}, {'index': 2, 'val...</td>\n",
        "    </tr>\n",
        "  </tbody>\n",
        "</table>\n",
        "</div>"
       ],
       "text/plain": [
        "            input_column                   labeled_all  \\\n",
        "0  [a, c, d, d, d, d, d]  [{'index': 0, 'value': 1.0}]   \n",
        "1  [a, b, d, d, d, d, d]  [{'index': 0, 'value': 1.0}]   \n",
        "\n",
        "                                   labeled_top1_min2  \\\n",
        "0  [{'index': 1, 'value': 1.0}, {'index': 0, 'val...   \n",
        "1  [{'index': 1, 'value': 1.0}, {'index': 0, 'val...   \n",
        "\n",
        "                                   labeled_top3_min1  \n",
        "0  [{'index': 1, 'value': 1.0}, {'index': 0, 'val...  \n",
        "1  [{'index': 1, 'value': 1.0}, {'index': 2, 'val...  "
       ]
      },
      "execution_count": 58,
      "metadata": {},
      "output_type": "execute_result"
     }
    ],
    "source": [
     "df = bq.query(query = query).to_dataframe()\n",
     "df"
    ]
   },
   {
    "cell_type": "code",
    "execution_count": 59,
    "id": "45beba93-9d7a-4686-aa06-9e0b9ed57179",
    "metadata": {},
    "outputs": [
     {
      "data": {
       "text/plain": [
        "array([{'index': 1, 'value': 1.0}, {'index': 0, 'value': 1.0}],\n",
        "      dtype=object)"
       ]
      },
      "execution_count": 59,
      "metadata": {},
      "output_type": "execute_result"
     }
    ],
    "source": [
     "df['labeled_top1_min2'].iloc[0]"
    ]
   },
   {
    "cell_type": "code",
    "execution_count": 60,
    "id": "646ad3b5-608d-4160-94e9-ee04b000c560",
    "metadata": {},
    "outputs": [
     {
      "data": {
       "text/plain": [
        "array([{'index': 1, 'value': 1.0}, {'index': 0, 'value': 1.0}],\n",
        "      dtype=object)"
       ]
      },
      "execution_count": 60,
      "metadata": {},
      "output_type": "execute_result"
     }
    ],
    "source": [
     "df['labeled_top1_min2'].iloc[1]"
    ]
   },
   {
    "cell_type": "code",
    "execution_count": 61,
    "id": "c2965703-f333-437c-b3e4-a131715dc650",
    "metadata": {},
    "outputs": [
     {
      "data": {
       "text/plain": [
        "array([{'index': 1, 'value': 1.0}, {'index': 0, 'value': 1.0},\n",
        "       {'index': 3, 'value': 1.0}], dtype=object)"
       ]
      },
      "execution_count": 61,
      "metadata": {},
      "output_type": "execute_result"
     }
    ],
    "source": [
     "df['labeled_top3_min1'].iloc[0]"
    ]
   },
   {
    "cell_type": "code",
    "execution_count": 62,
    "id": "3bfdebff-6eb4-43c2-95d2-b8d84c153af3",
    "metadata": {},
    "outputs": [
     {
      "data": {
       "text/plain": [
        "array([{'index': 1, 'value': 1.0}, {'index': 2, 'value': 1.0},\n",
        "       {'index': 3, 'value': 1.0}], dtype=object)"
       ]
      },
      "execution_count": 62,
      "metadata": {},
      "output_type": "execute_result"
     }
    ],
    "source": [
     "df['labeled_top3_min1'].iloc[-1]"
    ]
   },
   {
    "cell_type": "markdown",
    "id": "96451a38-1ceb-4387-9875-a0a303293e82",
    "metadata": {
     "tags": []
    },
    "source": [
     "#### ML.NGRAMS\n",
     "\n",
     "Given an array of strings returns an array of merged inputs strings for the ranges provided.\n",
     "- `array_input` is an ARRAY of strings that represent tokens to be merged\n",
     "- `range` is an array of integers for the sizes of n-gram to return.  A single integer (x) results in a range of [x, x].\n",
     "- `separator` (optional) is a string value the specifies the seperator for connecting adjacent token in the output.\n",
     "    - default is whitespace ` `\n",
     "- [Reference](https://cloud.google.com/bigquery/docs/reference/standard-sql/bigqueryml-syntax-ngrams)\n",
     "- Is [exportable](https://cloud.google.com/bigquery/docs/exporting-models#export-transform-functions) when used in [`TRANFORM` clause](https://cloud.google.com/bigquery/docs/reference/standard-sql/bigqueryml-syntax-create#transform)."
    ]
   },
   {
    "cell_type": "code",
    "execution_count": 63,
    "id": "552b8d96-0224-4f39-84e9-b75c50b2e322",
    "metadata": {},
    "outputs": [
     {
      "name": "stdout",
      "output_type": "stream",
      "text": [
       "\n",
       "    SELECT\n",
       "        input_column,\n",
       "        ML.NGRAMS(input_column, [2, 4]) AS ngram_column\n",
       "    FROM\n",
       "        (SELECT ['a', 'b', 'c', 'd'] as input_column)\n",
       "\n"
      ]
     }
    ],
    "source": [
     "query = f\"\"\"\n",
     "    SELECT\n",
     "        input_column,\n",
     "        ML.NGRAMS(input_column, [2, 4]) AS ngram_column\n",
     "    FROM\n",
     "        (SELECT ['a', 'b', 'c', 'd'] as input_column)\n",
     "\"\"\"\n",
     "print(query)"
    ]
   },
   {
    "cell_type": "code",
    "execution_count": 64,
    "id": "d825967d-0423-4a55-9a45-cb1e732dc2fb",
    "metadata": {},
    "outputs": [
     {
      "data": {
       "text/html": [
        "<div>\n",
        "<style scoped>\n",
        "    .dataframe tbody tr th:only-of-type {\n",
        "        vertical-align: middle;\n",
        "    }\n",
        "\n",
        "    .dataframe tbody tr th {\n",
        "        vertical-align: top;\n",
        "    }\n",
        "\n",
        "    .dataframe thead th {\n",
        "        text-align: right;\n",
        "    }\n",
        "</style>\n",
        "<table border=\"1\" class=\"dataframe\">\n",
        "  <thead>\n",
        "    <tr style=\"text-align: right;\">\n",
        "      <th></th>\n",
        "      <th>input_column</th>\n",
        "      <th>ngram_column</th>\n",
        "    </tr>\n",
        "  </thead>\n",
        "  <tbody>\n",
        "    <tr>\n",
        "      <th>0</th>\n",
        "      <td>[a, b, c, d]</td>\n",
        "      <td>[a b, a b c, a b c d, b c, b c d, c d]</td>\n",
        "    </tr>\n",
        "  </tbody>\n",
        "</table>\n",
        "</div>"
       ],
       "text/plain": [
        "   input_column                            ngram_column\n",
        "0  [a, b, c, d]  [a b, a b c, a b c d, b c, b c d, c d]"
       ]
      },
      "execution_count": 64,
      "metadata": {},
      "output_type": "execute_result"
     }
    ],
    "source": [
     "df = bq.query(query = query).to_dataframe()\n",
     "df"
    ]
   },
   {
    "cell_type": "code",
    "execution_count": 65,
    "id": "e44d4818-be70-4f03-8259-895eda08e7da",
    "metadata": {},
    "outputs": [
     {
      "data": {
       "text/plain": [
        "input_column                              [a, b, c, d]\n",
        "ngram_column    [a b, a b c, a b c d, b c, b c d, c d]\n",
        "Name: 0, dtype: object"
       ]
      },
      "execution_count": 65,
      "metadata": {},
      "output_type": "execute_result"
     }
    ],
    "source": [
     "df.iloc[-1]"
    ]
   },
   {
    "cell_type": "markdown",
    "id": "8f5df230-a2e7-4ebb-afa9-51ef31ba1fa5",
    "metadata": {
     "tags": []
    },
    "source": [
     "#### ML.ONE_HOT_ENCODER\n",
     "\n",
     "Given a string column this function will one-hot encode the values in the column after sorting alphabetically.  Any `NULL` or dropped values will be encoded with `0`.\n",
     "- `string_expression` is the string to encode\n",
     "- `drop` (optional) takes values: \n",
     "    - 'none' (default) retains all values in `string_expression`\n",
     "    - 'most_frequent' for dummy encoding, drop the most frequent category found in the `string_expression`\n",
     "- `top_k` (optional) takes an integer value that specifies the limit on the number of categories to encode based on frequency\n",
     "    - default is 32,000\n",
     "    - max is 1 million\n",
     "- `frequency_threshold` (optional) takes an integer value that specifies that minimum frequency to be encoded\n",
     "    - default = 5\n",
     "- [Reference](https://cloud.google.com/bigquery/docs/reference/standard-sql/bigqueryml-syntax-one-hot-encoder)\n",
     "- Is [exportable](https://cloud.google.com/bigquery/docs/exporting-models#export-transform-functions) when used in [`TRANFORM` clause](https://cloud.google.com/bigquery/docs/reference/standard-sql/bigqueryml-syntax-create#transform)."
    ]
   },
   {
    "cell_type": "code",
    "execution_count": 68,
    "id": "fd4645bb-c1c6-46f4-9506-40e39354c101",
    "metadata": {},
    "outputs": [
     {
      "name": "stdout",
      "output_type": "stream",
      "text": [
       "\n",
       "    SELECT\n",
       "        input_column,\n",
       "        ML.ONE_HOT_ENCODER(input_column) OVER() AS OHE_1,\n",
       "        ML.ONE_HOT_ENCODER(input_column, 'most_frequent', 100, 1) OVER() AS OHE_2,\n",
       "        ML.ONE_HOT_ENCODER(input_column, 'most_frequent', 3, 3) OVER() AS OHE_3,\n",
       "        ML.ONE_HOT_ENCODER(input_column, 'most_frequent', 3, 1) OVER() AS OHE_4\n",
       "    FROM\n",
       "        UNNEST([NULL, 'a', 'b', 'b', 'c', 'c', 'c', 'd', 'd', 'd', 'd']) AS input_column\n",
       "    ORDER BY input_column\n",
       "\n"
      ]
     }
    ],
    "source": [
     "query = f\"\"\"\n",
     "    SELECT\n",
     "        input_column,\n",
     "        ML.ONE_HOT_ENCODER(input_column) OVER() AS OHE_1,\n",
     "        ML.ONE_HOT_ENCODER(input_column, 'most_frequent', 100, 1) OVER() AS OHE_2,\n",
     "        ML.ONE_HOT_ENCODER(input_column, 'most_frequent', 3, 3) OVER() AS OHE_3,\n",
     "        ML.ONE_HOT_ENCODER(input_column, 'most_frequent', 3, 1) OVER() AS OHE_4\n",
     "    FROM\n",
     "        UNNEST([NULL, 'a', 'b', 'b', 'c', 'c', 'c', 'd', 'd', 'd', 'd']) AS input_column\n",
     "    ORDER BY input_column\n",
     "\"\"\"\n",
     "print(query)"
    ]
   },
   {
    "cell_type": "code",
    "execution_count": 69,
    "id": "3c25ab16-c2c7-4c1b-892f-fd019cc5fb51",
    "metadata": {},
    "outputs": [
     {
      "data": {
       "text/html": [
        "<div>\n",
        "<style scoped>\n",
        "    .dataframe tbody tr th:only-of-type {\n",
        "        vertical-align: middle;\n",
        "    }\n",
        "\n",
        "    .dataframe tbody tr th {\n",
        "        vertical-align: top;\n",
        "    }\n",
        "\n",
        "    .dataframe thead th {\n",
        "        text-align: right;\n",
        "    }\n",
        "</style>\n",
        "<table border=\"1\" class=\"dataframe\">\n",
        "  <thead>\n",
        "    <tr style=\"text-align: right;\">\n",
        "      <th></th>\n",
        "      <th>input_column</th>\n",
        "      <th>OHE_1</th>\n",
        "      <th>OHE_2</th>\n",
        "      <th>OHE_3</th>\n",
        "      <th>OHE_4</th>\n",
        "    </tr>\n",
        "  </thead>\n",
        "  <tbody>\n",
        "    <tr>\n",
        "      <th>0</th>\n",
        "      <td>None</td>\n",
        "      <td>[{'index': 0, 'value': 1.0}]</td>\n",
        "      <td>[{'index': 0, 'value': 1.0}]</td>\n",
        "      <td>[{'index': 0, 'value': 1.0}]</td>\n",
        "      <td>[{'index': 0, 'value': 1.0}]</td>\n",
        "    </tr>\n",
        "    <tr>\n",
        "      <th>1</th>\n",
        "      <td>a</td>\n",
        "      <td>[{'index': 0, 'value': 1.0}]</td>\n",
        "      <td>[{'index': 1, 'value': 1.0}]</td>\n",
        "      <td>[{'index': 0, 'value': 1.0}]</td>\n",
        "      <td>[{'index': 0, 'value': 1.0}]</td>\n",
        "    </tr>\n",
        "    <tr>\n",
        "      <th>2</th>\n",
        "      <td>b</td>\n",
        "      <td>[{'index': 0, 'value': 1.0}]</td>\n",
        "      <td>[{'index': 2, 'value': 1.0}]</td>\n",
        "      <td>[{'index': 0, 'value': 1.0}]</td>\n",
        "      <td>[{'index': 1, 'value': 1.0}]</td>\n",
        "    </tr>\n",
        "    <tr>\n",
        "      <th>3</th>\n",
        "      <td>b</td>\n",
        "      <td>[{'index': 0, 'value': 1.0}]</td>\n",
        "      <td>[{'index': 2, 'value': 1.0}]</td>\n",
        "      <td>[{'index': 0, 'value': 1.0}]</td>\n",
        "      <td>[{'index': 1, 'value': 1.0}]</td>\n",
        "    </tr>\n",
        "    <tr>\n",
        "      <th>4</th>\n",
        "      <td>c</td>\n",
        "      <td>[{'index': 0, 'value': 1.0}]</td>\n",
        "      <td>[{'index': 3, 'value': 1.0}]</td>\n",
        "      <td>[{'index': 1, 'value': 1.0}]</td>\n",
        "      <td>[{'index': 2, 'value': 1.0}]</td>\n",
        "    </tr>\n",
        "    <tr>\n",
        "      <th>5</th>\n",
        "      <td>c</td>\n",
        "      <td>[{'index': 0, 'value': 1.0}]</td>\n",
        "      <td>[{'index': 3, 'value': 1.0}]</td>\n",
        "      <td>[{'index': 1, 'value': 1.0}]</td>\n",
        "      <td>[{'index': 2, 'value': 1.0}]</td>\n",
        "    </tr>\n",
        "    <tr>\n",
        "      <th>6</th>\n",
        "      <td>c</td>\n",
        "      <td>[{'index': 0, 'value': 1.0}]</td>\n",
        "      <td>[{'index': 3, 'value': 1.0}]</td>\n",
        "      <td>[{'index': 1, 'value': 1.0}]</td>\n",
        "      <td>[{'index': 2, 'value': 1.0}]</td>\n",
        "    </tr>\n",
        "    <tr>\n",
        "      <th>7</th>\n",
        "      <td>d</td>\n",
        "      <td>[{'index': 0, 'value': 1.0}]</td>\n",
        "      <td>[{'index': 4, 'value': 0.0}]</td>\n",
        "      <td>[{'index': 2, 'value': 0.0}]</td>\n",
        "      <td>[{'index': 3, 'value': 0.0}]</td>\n",
        "    </tr>\n",
        "    <tr>\n",
        "      <th>8</th>\n",
        "      <td>d</td>\n",
        "      <td>[{'index': 0, 'value': 1.0}]</td>\n",
        "      <td>[{'index': 4, 'value': 0.0}]</td>\n",
        "      <td>[{'index': 2, 'value': 0.0}]</td>\n",
        "      <td>[{'index': 3, 'value': 0.0}]</td>\n",
        "    </tr>\n",
        "    <tr>\n",
        "      <th>9</th>\n",
        "      <td>d</td>\n",
        "      <td>[{'index': 0, 'value': 1.0}]</td>\n",
        "      <td>[{'index': 4, 'value': 0.0}]</td>\n",
        "      <td>[{'index': 2, 'value': 0.0}]</td>\n",
        "      <td>[{'index': 3, 'value': 0.0}]</td>\n",
        "    </tr>\n",
        "    <tr>\n",
        "      <th>10</th>\n",
        "      <td>d</td>\n",
        "      <td>[{'index': 0, 'value': 1.0}]</td>\n",
        "      <td>[{'index': 4, 'value': 0.0}]</td>\n",
        "      <td>[{'index': 2, 'value': 0.0}]</td>\n",
        "      <td>[{'index': 3, 'value': 0.0}]</td>\n",
        "    </tr>\n",
        "  </tbody>\n",
        "</table>\n",
        "</div>"
       ],
       "text/plain": [
        "   input_column                         OHE_1                         OHE_2  \\\n",
        "0          None  [{'index': 0, 'value': 1.0}]  [{'index': 0, 'value': 1.0}]   \n",
        "1             a  [{'index': 0, 'value': 1.0}]  [{'index': 1, 'value': 1.0}]   \n",
        "2             b  [{'index': 0, 'value': 1.0}]  [{'index': 2, 'value': 1.0}]   \n",
        "3             b  [{'index': 0, 'value': 1.0}]  [{'index': 2, 'value': 1.0}]   \n",
        "4             c  [{'index': 0, 'value': 1.0}]  [{'index': 3, 'value': 1.0}]   \n",
        "5             c  [{'index': 0, 'value': 1.0}]  [{'index': 3, 'value': 1.0}]   \n",
        "6             c  [{'index': 0, 'value': 1.0}]  [{'index': 3, 'value': 1.0}]   \n",
        "7             d  [{'index': 0, 'value': 1.0}]  [{'index': 4, 'value': 0.0}]   \n",
        "8             d  [{'index': 0, 'value': 1.0}]  [{'index': 4, 'value': 0.0}]   \n",
        "9             d  [{'index': 0, 'value': 1.0}]  [{'index': 4, 'value': 0.0}]   \n",
        "10            d  [{'index': 0, 'value': 1.0}]  [{'index': 4, 'value': 0.0}]   \n",
        "\n",
        "                           OHE_3                         OHE_4  \n",
        "0   [{'index': 0, 'value': 1.0}]  [{'index': 0, 'value': 1.0}]  \n",
        "1   [{'index': 0, 'value': 1.0}]  [{'index': 0, 'value': 1.0}]  \n",
        "2   [{'index': 0, 'value': 1.0}]  [{'index': 1, 'value': 1.0}]  \n",
        "3   [{'index': 0, 'value': 1.0}]  [{'index': 1, 'value': 1.0}]  \n",
        "4   [{'index': 1, 'value': 1.0}]  [{'index': 2, 'value': 1.0}]  \n",
        "5   [{'index': 1, 'value': 1.0}]  [{'index': 2, 'value': 1.0}]  \n",
        "6   [{'index': 1, 'value': 1.0}]  [{'index': 2, 'value': 1.0}]  \n",
        "7   [{'index': 2, 'value': 0.0}]  [{'index': 3, 'value': 0.0}]  \n",
        "8   [{'index': 2, 'value': 0.0}]  [{'index': 3, 'value': 0.0}]  \n",
        "9   [{'index': 2, 'value': 0.0}]  [{'index': 3, 'value': 0.0}]  \n",
        "10  [{'index': 2, 'value': 0.0}]  [{'index': 3, 'value': 0.0}]  "
       ]
      },
      "execution_count": 69,
      "metadata": {},
      "output_type": "execute_result"
     }
    ],
    "source": [
     "df = bq.query(query = query).to_dataframe()\n",
     "df"
    ]
   },
   {
    "cell_type": "markdown",
    "id": "69cd066d-1bcc-4e5b-bd88-2e4a2e49597e",
    "metadata": {},
    "source": [
     "### Numerical Functions\n",
     "\n",
     "[Numerical functions](https://cloud.google.com/bigquery/docs/manual-preprocessing#numerical_functions) for regularizing data with numerical expressions."
    ]
   },
   {
    "cell_type": "markdown",
    "id": "a62a62e7-9ad2-4349-8afb-3d5f7f766d69",
    "metadata": {
     "tags": []
    },
    "source": [
     "#### ML.BUCKETIZE\n",
     "\n",
     "Given a column of numerical values this function creates a new column with bucketed values based on a list of boundaries given as input.\n",
     "- `numerical_expression` is the numerical expression to bucketize\n",
     "- `array_split_points` is an array of numerical values that represent the points at which to split the `numerical_expression`\n",
     "- `exclude_boundaries` (optional) is a BOOL that determines where the upper and lower boundaries from `array_split_points` are used.\n",
     "    - default = FALSE\n",
     "- [Reference](https://cloud.google.com/bigquery/docs/reference/standard-sql/bigqueryml-syntax-bucketize)\n",
     "- Is [exportable](https://cloud.google.com/bigquery/docs/exporting-models#export-transform-functions) when used in [`TRANFORM` clause](https://cloud.google.com/bigquery/docs/reference/standard-sql/bigqueryml-syntax-create#transform)."
    ]
   },
   {
    "cell_type": "code",
    "execution_count": 74,
    "id": "07931db5-b52e-4c7d-a784-7c464b5caaf9",
    "metadata": {},
    "outputs": [
     {
      "name": "stdout",
      "output_type": "stream",
      "text": [
       "\n",
       "    SELECT\n",
       "        input_column,\n",
       "        ML.BUCKETIZE(input_column, [2, 5, 7]) AS feature_column,\n",
       "        ML.BUCKETIZE(input_column, [2, 5, 7], TRUE) AS feature_column_2\n",
       "    FROM\n",
       "        UNNEST([1, 2, 3, 4, 5, 6, 7, 8, 9, 10]) as input_column\n",
       "\n"
      ]
     }
    ],
    "source": [
     "query = f\"\"\"\n",
     "    SELECT\n",
     "        input_column,\n",
     "        ML.BUCKETIZE(input_column, [2, 5, 7]) AS feature_column,\n",
     "        ML.BUCKETIZE(input_column, [2, 5, 7], TRUE) AS feature_column_2\n",
     "    FROM\n",
     "        UNNEST([1, 2, 3, 4, 5, 6, 7, 8, 9, 10]) as input_column\n",
     "\"\"\"\n",
     "print(query)"
    ]
   },
   {
    "cell_type": "code",
    "execution_count": 75,
    "id": "96e3dbec-d0fc-446a-ad2e-4a3d568ce159",
    "metadata": {},
    "outputs": [
     {
      "data": {
       "text/html": [
        "<div>\n",
        "<style scoped>\n",
        "    .dataframe tbody tr th:only-of-type {\n",
        "        vertical-align: middle;\n",
        "    }\n",
        "\n",
        "    .dataframe tbody tr th {\n",
        "        vertical-align: top;\n",
        "    }\n",
        "\n",
        "    .dataframe thead th {\n",
        "        text-align: right;\n",
        "    }\n",
        "</style>\n",
        "<table border=\"1\" class=\"dataframe\">\n",
        "  <thead>\n",
        "    <tr style=\"text-align: right;\">\n",
        "      <th></th>\n",
        "      <th>input_column</th>\n",
        "      <th>feature_column</th>\n",
        "      <th>feature_column_2</th>\n",
        "    </tr>\n",
        "  </thead>\n",
        "  <tbody>\n",
        "    <tr>\n",
        "      <th>0</th>\n",
        "      <td>1</td>\n",
        "      <td>bin_1</td>\n",
        "      <td>bin_1</td>\n",
        "    </tr>\n",
        "    <tr>\n",
        "      <th>1</th>\n",
        "      <td>2</td>\n",
        "      <td>bin_2</td>\n",
        "      <td>bin_1</td>\n",
        "    </tr>\n",
        "    <tr>\n",
        "      <th>2</th>\n",
        "      <td>3</td>\n",
        "      <td>bin_2</td>\n",
        "      <td>bin_1</td>\n",
        "    </tr>\n",
        "    <tr>\n",
        "      <th>3</th>\n",
        "      <td>4</td>\n",
        "      <td>bin_2</td>\n",
        "      <td>bin_1</td>\n",
        "    </tr>\n",
        "    <tr>\n",
        "      <th>4</th>\n",
        "      <td>5</td>\n",
        "      <td>bin_3</td>\n",
        "      <td>bin_2</td>\n",
        "    </tr>\n",
        "    <tr>\n",
        "      <th>5</th>\n",
        "      <td>6</td>\n",
        "      <td>bin_3</td>\n",
        "      <td>bin_2</td>\n",
        "    </tr>\n",
        "    <tr>\n",
        "      <th>6</th>\n",
        "      <td>7</td>\n",
        "      <td>bin_4</td>\n",
        "      <td>bin_2</td>\n",
        "    </tr>\n",
        "    <tr>\n",
        "      <th>7</th>\n",
        "      <td>8</td>\n",
        "      <td>bin_4</td>\n",
        "      <td>bin_2</td>\n",
        "    </tr>\n",
        "    <tr>\n",
        "      <th>8</th>\n",
        "      <td>9</td>\n",
        "      <td>bin_4</td>\n",
        "      <td>bin_2</td>\n",
        "    </tr>\n",
        "    <tr>\n",
        "      <th>9</th>\n",
        "      <td>10</td>\n",
        "      <td>bin_4</td>\n",
        "      <td>bin_2</td>\n",
        "    </tr>\n",
        "  </tbody>\n",
        "</table>\n",
        "</div>"
       ],
       "text/plain": [
        "   input_column feature_column feature_column_2\n",
        "0             1          bin_1            bin_1\n",
        "1             2          bin_2            bin_1\n",
        "2             3          bin_2            bin_1\n",
        "3             4          bin_2            bin_1\n",
        "4             5          bin_3            bin_2\n",
        "5             6          bin_3            bin_2\n",
        "6             7          bin_4            bin_2\n",
        "7             8          bin_4            bin_2\n",
        "8             9          bin_4            bin_2\n",
        "9            10          bin_4            bin_2"
       ]
      },
      "execution_count": 75,
      "metadata": {},
      "output_type": "execute_result"
     }
    ],
    "source": [
     "df = bq.query(query = query).to_dataframe()\n",
     "df"
    ]
   },
   {
    "cell_type": "markdown",
    "id": "6a5f0546-4963-48da-8b5f-79d5fd8f5404",
    "metadata": {
     "tags": []
    },
    "source": [
     "#### ML.MAX_ABS_SCALER\n",
     "\n",
     "Given a column of numerical value this function will scale the value to the range [-1, 1] by dividing by the maximum absolute value.  This does not shift the center or change the sparcity of the data.\n",
     "- `numerical_expression` is the numerical expression to scale\n",
     "- [Reference](https://cloud.google.com/bigquery/docs/reference/standard-sql/bigqueryml-syntax-max-abs-scaler)\n",
     "- Is [exportable](https://cloud.google.com/bigquery/docs/exporting-models#export-transform-functions) when used in [`TRANFORM` clause](https://cloud.google.com/bigquery/docs/reference/standard-sql/bigqueryml-syntax-create#transform)."
    ]
   },
   {
    "cell_type": "code",
    "execution_count": 78,
    "id": "bcb419a1-312a-4a9c-b899-a9da1aecb11f",
    "metadata": {},
    "outputs": [
     {
      "name": "stdout",
      "output_type": "stream",
      "text": [
       "\n",
       "    SELECT\n",
       "        input_column,\n",
       "        ML.MAX_ABS_SCALER(input_column) OVER() AS feature_column\n",
       "    FROM\n",
       "        UNNEST([0, -1, 2, -3, 4, -5, 6, -7, 8, -9, 10]) as input_column\n",
       "    ORDER BY input_column\n",
       "\n"
      ]
     }
    ],
    "source": [
     "query = f\"\"\"\n",
     "    SELECT\n",
     "        input_column,\n",
     "        ML.MAX_ABS_SCALER(input_column) OVER() AS feature_column\n",
     "    FROM\n",
     "        UNNEST([0, -1, 2, -3, 4, -5, 6, -7, 8, -9, 10]) as input_column\n",
     "    ORDER BY input_column\n",
     "\"\"\"\n",
     "print(query)"
    ]
   },
   {
    "cell_type": "code",
    "execution_count": 79,
    "id": "9f73ee5f-f8d1-4cc6-a9db-17cbec260af7",
    "metadata": {},
    "outputs": [
     {
      "data": {
       "text/html": [
        "<div>\n",
        "<style scoped>\n",
        "    .dataframe tbody tr th:only-of-type {\n",
        "        vertical-align: middle;\n",
        "    }\n",
        "\n",
        "    .dataframe tbody tr th {\n",
        "        vertical-align: top;\n",
        "    }\n",
        "\n",
        "    .dataframe thead th {\n",
        "        text-align: right;\n",
        "    }\n",
        "</style>\n",
        "<table border=\"1\" class=\"dataframe\">\n",
        "  <thead>\n",
        "    <tr style=\"text-align: right;\">\n",
        "      <th></th>\n",
        "      <th>input_column</th>\n",
        "      <th>feature_column</th>\n",
        "    </tr>\n",
        "  </thead>\n",
        "  <tbody>\n",
        "    <tr>\n",
        "      <th>0</th>\n",
        "      <td>-9</td>\n",
        "      <td>-0.9</td>\n",
        "    </tr>\n",
        "    <tr>\n",
        "      <th>1</th>\n",
        "      <td>-7</td>\n",
        "      <td>-0.7</td>\n",
        "    </tr>\n",
        "    <tr>\n",
        "      <th>2</th>\n",
        "      <td>-5</td>\n",
        "      <td>-0.5</td>\n",
        "    </tr>\n",
        "    <tr>\n",
        "      <th>3</th>\n",
        "      <td>-3</td>\n",
        "      <td>-0.3</td>\n",
        "    </tr>\n",
        "    <tr>\n",
        "      <th>4</th>\n",
        "      <td>-1</td>\n",
        "      <td>-0.1</td>\n",
        "    </tr>\n",
        "    <tr>\n",
        "      <th>5</th>\n",
        "      <td>0</td>\n",
        "      <td>0.0</td>\n",
        "    </tr>\n",
        "    <tr>\n",
        "      <th>6</th>\n",
        "      <td>2</td>\n",
        "      <td>0.2</td>\n",
        "    </tr>\n",
        "    <tr>\n",
        "      <th>7</th>\n",
        "      <td>4</td>\n",
        "      <td>0.4</td>\n",
        "    </tr>\n",
        "    <tr>\n",
        "      <th>8</th>\n",
        "      <td>6</td>\n",
        "      <td>0.6</td>\n",
        "    </tr>\n",
        "    <tr>\n",
        "      <th>9</th>\n",
        "      <td>8</td>\n",
        "      <td>0.8</td>\n",
        "    </tr>\n",
        "    <tr>\n",
        "      <th>10</th>\n",
        "      <td>10</td>\n",
        "      <td>1.0</td>\n",
        "    </tr>\n",
        "  </tbody>\n",
        "</table>\n",
        "</div>"
       ],
       "text/plain": [
        "    input_column  feature_column\n",
        "0             -9            -0.9\n",
        "1             -7            -0.7\n",
        "2             -5            -0.5\n",
        "3             -3            -0.3\n",
        "4             -1            -0.1\n",
        "5              0             0.0\n",
        "6              2             0.2\n",
        "7              4             0.4\n",
        "8              6             0.6\n",
        "9              8             0.8\n",
        "10            10             1.0"
       ]
      },
      "execution_count": 79,
      "metadata": {},
      "output_type": "execute_result"
     }
    ],
    "source": [
     "df = bq.query(query = query).to_dataframe()\n",
     "df"
    ]
   },
   {
    "cell_type": "markdown",
    "id": "c21c9749-2ad8-43f3-8d4a-7a8ccd043be1",
    "metadata": {
     "tags": []
    },
    "source": [
     "#### ML.MIN_MAX_SCALER\n",
     "\n",
     "Given a column of numerical values this function will scale the value to the range [0, 1] and cap data at either 0 or 1.  \n",
     "- `numerical_expression` is the numerical expression to scale\n",
     "- When used with the `TRANSFORM` statement of a `CREATE MODEL` this will also apply to `ML.PREDICT` and cap inputs to 0 or 1.\n",
     "- [Reference](https://cloud.google.com/bigquery/docs/reference/standard-sql/bigqueryml-syntax-min-max-scaler)\n",
     "- Is [exportable](https://cloud.google.com/bigquery/docs/exporting-models#export-transform-functions) when used in [`TRANFORM` clause](https://cloud.google.com/bigquery/docs/reference/standard-sql/bigqueryml-syntax-create#transform)."
    ]
   },
   {
    "cell_type": "code",
    "execution_count": 80,
    "id": "02c0f96f-6cbd-4fed-adf5-3b1bb7c0e690",
    "metadata": {},
    "outputs": [
     {
      "name": "stdout",
      "output_type": "stream",
      "text": [
       "\n",
       "    SELECT\n",
       "        input_column,\n",
       "        ML.MIN_MAX_SCALER(input_column) OVER() AS feature_column\n",
       "    FROM\n",
       "        UNNEST([0, 1, 2, 3, 4, 5, 6, 7, 8, 9, 10]) as input_column\n",
       "    ORDER BY input_column\n",
       "\n"
      ]
     }
    ],
    "source": [
     "query = f\"\"\"\n",
     "    SELECT\n",
     "        input_column,\n",
     "        ML.MIN_MAX_SCALER(input_column) OVER() AS feature_column\n",
     "    FROM\n",
     "        UNNEST([0, 1, 2, 3, 4, 5, 6, 7, 8, 9, 10]) as input_column\n",
     "    ORDER BY input_column\n",
     "\"\"\"\n",
     "print(query)"
    ]
   },
   {
    "cell_type": "code",
    "execution_count": 81,
    "id": "23e91c46-0532-4002-9e56-ae923bb6245f",
    "metadata": {},
    "outputs": [
     {
      "data": {
       "text/html": [
        "<div>\n",
        "<style scoped>\n",
        "    .dataframe tbody tr th:only-of-type {\n",
        "        vertical-align: middle;\n",
        "    }\n",
        "\n",
        "    .dataframe tbody tr th {\n",
        "        vertical-align: top;\n",
        "    }\n",
        "\n",
        "    .dataframe thead th {\n",
        "        text-align: right;\n",
        "    }\n",
        "</style>\n",
        "<table border=\"1\" class=\"dataframe\">\n",
        "  <thead>\n",
        "    <tr style=\"text-align: right;\">\n",
        "      <th></th>\n",
        "      <th>input_column</th>\n",
        "      <th>feature_column</th>\n",
        "    </tr>\n",
        "  </thead>\n",
        "  <tbody>\n",
        "    <tr>\n",
        "      <th>0</th>\n",
        "      <td>0</td>\n",
        "      <td>0.0</td>\n",
        "    </tr>\n",
        "    <tr>\n",
        "      <th>1</th>\n",
        "      <td>1</td>\n",
        "      <td>0.1</td>\n",
        "    </tr>\n",
        "    <tr>\n",
        "      <th>2</th>\n",
        "      <td>2</td>\n",
        "      <td>0.2</td>\n",
        "    </tr>\n",
        "    <tr>\n",
        "      <th>3</th>\n",
        "      <td>3</td>\n",
        "      <td>0.3</td>\n",
        "    </tr>\n",
        "    <tr>\n",
        "      <th>4</th>\n",
        "      <td>4</td>\n",
        "      <td>0.4</td>\n",
        "    </tr>\n",
        "    <tr>\n",
        "      <th>5</th>\n",
        "      <td>5</td>\n",
        "      <td>0.5</td>\n",
        "    </tr>\n",
        "    <tr>\n",
        "      <th>6</th>\n",
        "      <td>6</td>\n",
        "      <td>0.6</td>\n",
        "    </tr>\n",
        "    <tr>\n",
        "      <th>7</th>\n",
        "      <td>7</td>\n",
        "      <td>0.7</td>\n",
        "    </tr>\n",
        "    <tr>\n",
        "      <th>8</th>\n",
        "      <td>8</td>\n",
        "      <td>0.8</td>\n",
        "    </tr>\n",
        "    <tr>\n",
        "      <th>9</th>\n",
        "      <td>9</td>\n",
        "      <td>0.9</td>\n",
        "    </tr>\n",
        "    <tr>\n",
        "      <th>10</th>\n",
        "      <td>10</td>\n",
        "      <td>1.0</td>\n",
        "    </tr>\n",
        "  </tbody>\n",
        "</table>\n",
        "</div>"
       ],
       "text/plain": [
        "    input_column  feature_column\n",
        "0              0             0.0\n",
        "1              1             0.1\n",
        "2              2             0.2\n",
        "3              3             0.3\n",
        "4              4             0.4\n",
        "5              5             0.5\n",
        "6              6             0.6\n",
        "7              7             0.7\n",
        "8              8             0.8\n",
        "9              9             0.9\n",
        "10            10             1.0"
       ]
      },
      "execution_count": 81,
      "metadata": {},
      "output_type": "execute_result"
     }
    ],
    "source": [
     "df = bq.query(query = query).to_dataframe()\n",
     "df"
    ]
   },
   {
    "cell_type": "markdown",
    "id": "e3f6c37e-a139-487f-a8b8-b7419f578074",
    "metadata": {
     "tags": []
    },
    "source": [
     "#### ML.NORMALIZER\n",
     "\n",
     "Given a column of numerical arrays this function will normalize the arrays to have unit norm with given p-norm (parameter `p` has default = 2 and takes values 0, +inf, >= 1.\n",
     "- `array_expression` is an array of numerical expressions to normalize\n",
     "- `p` (optional) is the p-norm for the normalization\n",
     "    - default is 2\n",
     "    - can be 0.0, >= 1 or +inf by using `CAST('+INF' AS FLOAT64)`\n",
     "- [Reference](https://cloud.google.com/bigquery/docs/reference/standard-sql/bigqueryml-syntax-normalizer)\n",
     "- Is [exportable](https://cloud.google.com/bigquery/docs/exporting-models#export-transform-functions) when used in [`TRANFORM` clause](https://cloud.google.com/bigquery/docs/reference/standard-sql/bigqueryml-syntax-create#transform)."
    ]
   },
   {
    "cell_type": "code",
    "execution_count": 82,
    "id": "985fd8dd-17fb-49f2-a27d-287e84c172f5",
    "metadata": {},
    "outputs": [
     {
      "name": "stdout",
      "output_type": "stream",
      "text": [
       "\n",
       "    SELECT\n",
       "        input_column,\n",
       "        ML.NORMALIZER(input_column, CAST('+inf' as float64)) AS norm_inf,\n",
       "        ML.NORMALIZER(input_column) AS norm_2,\n",
       "        ML.NORMALIZER(input_column, 1) AS norm_1,\n",
       "        ML.NORMALIZER(input_column, 0) AS norm_0\n",
       "    FROM\n",
       "        (SELECT [1, 2, 3, 4, 5] as input_column)\n",
       "\n"
      ]
     }
    ],
    "source": [
     "query = f\"\"\"\n",
     "    SELECT\n",
     "        input_column,\n",
     "        ML.NORMALIZER(input_column, CAST('+inf' as float64)) AS norm_inf,\n",
     "        ML.NORMALIZER(input_column) AS norm_2,\n",
     "        ML.NORMALIZER(input_column, 1) AS norm_1,\n",
     "        ML.NORMALIZER(input_column, 0) AS norm_0\n",
     "    FROM\n",
     "        (SELECT [1, 2, 3, 4, 5] as input_column)\n",
     "\"\"\"\n",
     "print(query)"
    ]
   },
   {
    "cell_type": "code",
    "execution_count": 83,
    "id": "85572d9a-edb8-409b-9f12-ee74a71a7385",
    "metadata": {},
    "outputs": [
     {
      "data": {
       "text/html": [
        "<div>\n",
        "<style scoped>\n",
        "    .dataframe tbody tr th:only-of-type {\n",
        "        vertical-align: middle;\n",
        "    }\n",
        "\n",
        "    .dataframe tbody tr th {\n",
        "        vertical-align: top;\n",
        "    }\n",
        "\n",
        "    .dataframe thead th {\n",
        "        text-align: right;\n",
        "    }\n",
        "</style>\n",
        "<table border=\"1\" class=\"dataframe\">\n",
        "  <thead>\n",
        "    <tr style=\"text-align: right;\">\n",
        "      <th></th>\n",
        "      <th>input_column</th>\n",
        "      <th>norm_inf</th>\n",
        "      <th>norm_2</th>\n",
        "      <th>norm_1</th>\n",
        "      <th>norm_0</th>\n",
        "    </tr>\n",
        "  </thead>\n",
        "  <tbody>\n",
        "    <tr>\n",
        "      <th>0</th>\n",
        "      <td>[1, 2, 3, 4, 5]</td>\n",
        "      <td>[0.2, 0.4, 0.6, 0.8, 1.0]</td>\n",
        "      <td>[0.13483997249264842, 0.26967994498529685, 0.4...</td>\n",
        "      <td>[0.06666666666666667, 0.13333333333333333, 0.2...</td>\n",
        "      <td>[0.2, 0.4, 0.6, 0.8, 1.0]</td>\n",
        "    </tr>\n",
        "  </tbody>\n",
        "</table>\n",
        "</div>"
       ],
       "text/plain": [
        "      input_column                   norm_inf  \\\n",
        "0  [1, 2, 3, 4, 5]  [0.2, 0.4, 0.6, 0.8, 1.0]   \n",
        "\n",
        "                                              norm_2  \\\n",
        "0  [0.13483997249264842, 0.26967994498529685, 0.4...   \n",
        "\n",
        "                                              norm_1  \\\n",
        "0  [0.06666666666666667, 0.13333333333333333, 0.2...   \n",
        "\n",
        "                      norm_0  \n",
        "0  [0.2, 0.4, 0.6, 0.8, 1.0]  "
       ]
      },
      "execution_count": 83,
      "metadata": {},
      "output_type": "execute_result"
     }
    ],
    "source": [
     "df = bq.query(query = query).to_dataframe()\n",
     "df"
    ]
   },
   {
    "cell_type": "markdown",
    "id": "08f67438-9c18-4f6e-a027-a2dc356b9aea",
    "metadata": {},
    "source": [
     "**Check Results** By using `np.linalg.norm` to verify the correct norm was applied:"
    ]
   },
   {
    "cell_type": "code",
    "execution_count": 85,
    "id": "797ffa7d-a4a0-4c5d-bee1-169c856e493c",
    "metadata": {},
    "outputs": [
     {
      "name": "stdout",
      "output_type": "stream",
      "text": [
       "Normalized For Unit Norm with Inf-norm: [0.2 0.4 0.6 0.8 1. ]\n",
       "L^Infinity-Norm: 1.0\n",
       "1.0\n"
      ]
     }
    ],
    "source": [
     "li = df['norm_inf'].iloc[-1]\n",
     "print('Normalized For Unit Norm with Inf-norm:', li)\n",
     "print('L^Infinity-Norm:', np.max(abs(li)))\n",
     "print(np.linalg.norm(li, np.inf))"
    ]
   },
   {
    "cell_type": "code",
    "execution_count": 86,
    "id": "7d6c75af-0cc3-4fc0-8c30-35032ffe839d",
    "metadata": {},
    "outputs": [
     {
      "name": "stdout",
      "output_type": "stream",
      "text": [
       "Normalized For Unit Norm with 2-norm: [0.13483997 0.26967994 0.40451992 0.53935989 0.67419986]\n",
       "L^2-Norm: 1.0\n",
       "1.0\n"
      ]
     }
    ],
    "source": [
     "l2 = df['norm_2'].iloc[-1]\n",
     "print('Normalized For Unit Norm with 2-norm:', l2)\n",
     "print('L^2-Norm:', np.sqrt(np.sum(l2**2)))\n",
     "print(np.linalg.norm(l2, 2))"
    ]
   },
   {
    "cell_type": "code",
    "execution_count": 87,
    "id": "347fb377-de5c-4967-a617-ffa35973d15b",
    "metadata": {},
    "outputs": [
     {
      "name": "stdout",
      "output_type": "stream",
      "text": [
       "Normalized For Unit Norm with 1-norm: [0.06666667 0.13333333 0.2        0.26666667 0.33333333]\n",
       "L^1-Norm: 1.0\n",
       "1.0\n"
      ]
     }
    ],
    "source": [
     "l1 = df['norm_1'].iloc[-1]\n",
     "print('Normalized For Unit Norm with 1-norm:', l1)\n",
     "print('L^1-Norm:', np.sum(abs(l1)))\n",
     "print(np.linalg.norm(l1, 1))"
    ]
   },
   {
    "cell_type": "code",
    "execution_count": 90,
    "id": "9f0137a9-494c-4133-a5f7-38dce09a0ea8",
    "metadata": {},
    "outputs": [
     {
      "name": "stdout",
      "output_type": "stream",
      "text": [
       "Normalized For Unit Norm with 0-norm [0.2 0.4 0.6 0.8 1. ]\n"
      ]
     }
    ],
    "source": [
     "l0 = df['norm_0'].iloc[-1]\n",
     "print('Normalized For Unit Norm with 0-norm', l0)\n",
     "#print(np.linalg.norm(l0, 0))"
    ]
   },
   {
    "cell_type": "markdown",
    "id": "dd6711f3-1075-47f1-97c0-1b2894faabdf",
    "metadata": {
     "tags": []
    },
    "source": [
     "#### ML.POLYNOMIAL_EXPAND\n",
     "\n",
     "Given a STRUCT of numerical features this returns a STRUCT of polynomial combinations up to the degree passed-in (default = 2).\n",
     "- `struct_numerical_features` is a STRUCT containing numerical input features to expand\n",
     "    - up to 10 input features without duplicates\n",
     "- `degree` (optional) is an integer that specifies the highest degree of combinations\n",
     "    - default is 2\n",
     "    - range is [1, 4]\n",
     "- [Reference](https://cloud.google.com/bigquery/docs/reference/standard-sql/bigqueryml-syntax-polynomial-expand)\n",
     "- Is not [exportable](https://cloud.google.com/bigquery/docs/exporting-models#export-transform-functions) when used in [`TRANFORM` clause](https://cloud.google.com/bigquery/docs/reference/standard-sql/bigqueryml-syntax-create#transform)."
    ]
   },
   {
    "cell_type": "code",
    "execution_count": 91,
    "id": "67ee4554-e3b4-44c8-8fad-71da1427a2f0",
    "metadata": {},
    "outputs": [
     {
      "name": "stdout",
      "output_type": "stream",
      "text": [
       "\n",
       "    SELECT\n",
       "        input_column_1, input_column_2,\n",
       "        ML.POLYNOMIAL_EXPAND(STRUCT(input_column_1, input_column_2)) AS feature_column\n",
       "    FROM\n",
       "        UNNEST([1, 2, 3, 4, 5, 6, 7, 8, 9, 10]) AS input_column_1 WITH OFFSET pos1,\n",
       "        UNNEST([0, 1, 2, 3, 4, 5, 6, 7, 8, 9]) AS input_column_2 WITH OFFSET pos2\n",
       "    WHERE\n",
       "        pos1 = pos2\n",
       "\n"
      ]
     }
    ],
    "source": [
     "query = f\"\"\"\n",
     "    SELECT\n",
     "        input_column_1, input_column_2,\n",
     "        ML.POLYNOMIAL_EXPAND(STRUCT(input_column_1, input_column_2)) AS feature_column\n",
     "    FROM\n",
     "        UNNEST([1, 2, 3, 4, 5, 6, 7, 8, 9, 10]) AS input_column_1 WITH OFFSET pos1,\n",
     "        UNNEST([0, 1, 2, 3, 4, 5, 6, 7, 8, 9]) AS input_column_2 WITH OFFSET pos2\n",
     "    WHERE\n",
     "        pos1 = pos2\n",
     "\"\"\"\n",
     "print(query)"
    ]
   },
   {
    "cell_type": "code",
    "execution_count": 92,
    "id": "b44fc35e-49f7-4dc2-ba5e-52040d7a9d12",
    "metadata": {},
    "outputs": [
     {
      "data": {
       "text/html": [
        "<div>\n",
        "<style scoped>\n",
        "    .dataframe tbody tr th:only-of-type {\n",
        "        vertical-align: middle;\n",
        "    }\n",
        "\n",
        "    .dataframe tbody tr th {\n",
        "        vertical-align: top;\n",
        "    }\n",
        "\n",
        "    .dataframe thead th {\n",
        "        text-align: right;\n",
        "    }\n",
        "</style>\n",
        "<table border=\"1\" class=\"dataframe\">\n",
        "  <thead>\n",
        "    <tr style=\"text-align: right;\">\n",
        "      <th></th>\n",
        "      <th>input_column_1</th>\n",
        "      <th>input_column_2</th>\n",
        "      <th>feature_column</th>\n",
        "    </tr>\n",
        "  </thead>\n",
        "  <tbody>\n",
        "    <tr>\n",
        "      <th>0</th>\n",
        "      <td>1</td>\n",
        "      <td>0</td>\n",
        "      <td>{'input_column_1': 1.0, 'input_column_1_input_...</td>\n",
        "    </tr>\n",
        "    <tr>\n",
        "      <th>1</th>\n",
        "      <td>2</td>\n",
        "      <td>1</td>\n",
        "      <td>{'input_column_1': 2.0, 'input_column_1_input_...</td>\n",
        "    </tr>\n",
        "    <tr>\n",
        "      <th>2</th>\n",
        "      <td>3</td>\n",
        "      <td>2</td>\n",
        "      <td>{'input_column_1': 3.0, 'input_column_1_input_...</td>\n",
        "    </tr>\n",
        "    <tr>\n",
        "      <th>3</th>\n",
        "      <td>4</td>\n",
        "      <td>3</td>\n",
        "      <td>{'input_column_1': 4.0, 'input_column_1_input_...</td>\n",
        "    </tr>\n",
        "    <tr>\n",
        "      <th>4</th>\n",
        "      <td>5</td>\n",
        "      <td>4</td>\n",
        "      <td>{'input_column_1': 5.0, 'input_column_1_input_...</td>\n",
        "    </tr>\n",
        "    <tr>\n",
        "      <th>5</th>\n",
        "      <td>6</td>\n",
        "      <td>5</td>\n",
        "      <td>{'input_column_1': 6.0, 'input_column_1_input_...</td>\n",
        "    </tr>\n",
        "    <tr>\n",
        "      <th>6</th>\n",
        "      <td>7</td>\n",
        "      <td>6</td>\n",
        "      <td>{'input_column_1': 7.0, 'input_column_1_input_...</td>\n",
        "    </tr>\n",
        "    <tr>\n",
        "      <th>7</th>\n",
        "      <td>8</td>\n",
        "      <td>7</td>\n",
        "      <td>{'input_column_1': 8.0, 'input_column_1_input_...</td>\n",
        "    </tr>\n",
        "    <tr>\n",
        "      <th>8</th>\n",
        "      <td>9</td>\n",
        "      <td>8</td>\n",
        "      <td>{'input_column_1': 9.0, 'input_column_1_input_...</td>\n",
        "    </tr>\n",
        "    <tr>\n",
        "      <th>9</th>\n",
        "      <td>10</td>\n",
        "      <td>9</td>\n",
        "      <td>{'input_column_1': 10.0, 'input_column_1_input...</td>\n",
        "    </tr>\n",
        "  </tbody>\n",
        "</table>\n",
        "</div>"
       ],
       "text/plain": [
        "   input_column_1  input_column_2  \\\n",
        "0               1               0   \n",
        "1               2               1   \n",
        "2               3               2   \n",
        "3               4               3   \n",
        "4               5               4   \n",
        "5               6               5   \n",
        "6               7               6   \n",
        "7               8               7   \n",
        "8               9               8   \n",
        "9              10               9   \n",
        "\n",
        "                                      feature_column  \n",
        "0  {'input_column_1': 1.0, 'input_column_1_input_...  \n",
        "1  {'input_column_1': 2.0, 'input_column_1_input_...  \n",
        "2  {'input_column_1': 3.0, 'input_column_1_input_...  \n",
        "3  {'input_column_1': 4.0, 'input_column_1_input_...  \n",
        "4  {'input_column_1': 5.0, 'input_column_1_input_...  \n",
        "5  {'input_column_1': 6.0, 'input_column_1_input_...  \n",
        "6  {'input_column_1': 7.0, 'input_column_1_input_...  \n",
        "7  {'input_column_1': 8.0, 'input_column_1_input_...  \n",
        "8  {'input_column_1': 9.0, 'input_column_1_input_...  \n",
        "9  {'input_column_1': 10.0, 'input_column_1_input...  "
       ]
      },
      "execution_count": 92,
      "metadata": {},
      "output_type": "execute_result"
     }
    ],
    "source": [
     "df = bq.query(query = query).to_dataframe()\n",
     "df"
    ]
   },
   {
    "cell_type": "code",
    "execution_count": 93,
    "id": "60aae448-3f7f-4799-a1b1-fa873c9b1c1a",
    "metadata": {},
    "outputs": [
     {
      "data": {
       "text/plain": [
        "{'input_column_1': 10.0,\n",
        " 'input_column_1_input_column_1': 100.0,\n",
        " 'input_column_1_input_column_2': 90.0,\n",
        " 'input_column_2': 9.0,\n",
        " 'input_column_2_input_column_2': 81.0}"
       ]
      },
      "execution_count": 93,
      "metadata": {},
      "output_type": "execute_result"
     }
    ],
    "source": [
     "df['feature_column'].iloc[-1]"
    ]
   },
   {
    "cell_type": "code",
    "execution_count": 94,
    "id": "f436fe81-37e3-4d65-9c44-4d7077b11481",
    "metadata": {},
    "outputs": [
     {
      "data": {
       "text/html": [
        "<div>\n",
        "<style scoped>\n",
        "    .dataframe tbody tr th:only-of-type {\n",
        "        vertical-align: middle;\n",
        "    }\n",
        "\n",
        "    .dataframe tbody tr th {\n",
        "        vertical-align: top;\n",
        "    }\n",
        "\n",
        "    .dataframe thead th {\n",
        "        text-align: right;\n",
        "    }\n",
        "</style>\n",
        "<table border=\"1\" class=\"dataframe\">\n",
        "  <thead>\n",
        "    <tr style=\"text-align: right;\">\n",
        "      <th></th>\n",
        "      <th>input_column_1</th>\n",
        "      <th>input_column_2</th>\n",
        "      <th>input_column_1</th>\n",
        "      <th>input_column_1_input_column_1</th>\n",
        "      <th>input_column_1_input_column_2</th>\n",
        "      <th>input_column_2</th>\n",
        "      <th>input_column_2_input_column_2</th>\n",
        "    </tr>\n",
        "  </thead>\n",
        "  <tbody>\n",
        "    <tr>\n",
        "      <th>0</th>\n",
        "      <td>1</td>\n",
        "      <td>0</td>\n",
        "      <td>1.0</td>\n",
        "      <td>1.0</td>\n",
        "      <td>0.0</td>\n",
        "      <td>0.0</td>\n",
        "      <td>0.0</td>\n",
        "    </tr>\n",
        "    <tr>\n",
        "      <th>1</th>\n",
        "      <td>2</td>\n",
        "      <td>1</td>\n",
        "      <td>2.0</td>\n",
        "      <td>4.0</td>\n",
        "      <td>2.0</td>\n",
        "      <td>1.0</td>\n",
        "      <td>1.0</td>\n",
        "    </tr>\n",
        "    <tr>\n",
        "      <th>2</th>\n",
        "      <td>3</td>\n",
        "      <td>2</td>\n",
        "      <td>3.0</td>\n",
        "      <td>9.0</td>\n",
        "      <td>6.0</td>\n",
        "      <td>2.0</td>\n",
        "      <td>4.0</td>\n",
        "    </tr>\n",
        "    <tr>\n",
        "      <th>3</th>\n",
        "      <td>4</td>\n",
        "      <td>3</td>\n",
        "      <td>4.0</td>\n",
        "      <td>16.0</td>\n",
        "      <td>12.0</td>\n",
        "      <td>3.0</td>\n",
        "      <td>9.0</td>\n",
        "    </tr>\n",
        "    <tr>\n",
        "      <th>4</th>\n",
        "      <td>5</td>\n",
        "      <td>4</td>\n",
        "      <td>5.0</td>\n",
        "      <td>25.0</td>\n",
        "      <td>20.0</td>\n",
        "      <td>4.0</td>\n",
        "      <td>16.0</td>\n",
        "    </tr>\n",
        "    <tr>\n",
        "      <th>5</th>\n",
        "      <td>6</td>\n",
        "      <td>5</td>\n",
        "      <td>6.0</td>\n",
        "      <td>36.0</td>\n",
        "      <td>30.0</td>\n",
        "      <td>5.0</td>\n",
        "      <td>25.0</td>\n",
        "    </tr>\n",
        "    <tr>\n",
        "      <th>6</th>\n",
        "      <td>7</td>\n",
        "      <td>6</td>\n",
        "      <td>7.0</td>\n",
        "      <td>49.0</td>\n",
        "      <td>42.0</td>\n",
        "      <td>6.0</td>\n",
        "      <td>36.0</td>\n",
        "    </tr>\n",
        "    <tr>\n",
        "      <th>7</th>\n",
        "      <td>8</td>\n",
        "      <td>7</td>\n",
        "      <td>8.0</td>\n",
        "      <td>64.0</td>\n",
        "      <td>56.0</td>\n",
        "      <td>7.0</td>\n",
        "      <td>49.0</td>\n",
        "    </tr>\n",
        "    <tr>\n",
        "      <th>8</th>\n",
        "      <td>9</td>\n",
        "      <td>8</td>\n",
        "      <td>9.0</td>\n",
        "      <td>81.0</td>\n",
        "      <td>72.0</td>\n",
        "      <td>8.0</td>\n",
        "      <td>64.0</td>\n",
        "    </tr>\n",
        "    <tr>\n",
        "      <th>9</th>\n",
        "      <td>10</td>\n",
        "      <td>9</td>\n",
        "      <td>10.0</td>\n",
        "      <td>100.0</td>\n",
        "      <td>90.0</td>\n",
        "      <td>9.0</td>\n",
        "      <td>81.0</td>\n",
        "    </tr>\n",
        "  </tbody>\n",
        "</table>\n",
        "</div>"
       ],
       "text/plain": [
        "   input_column_1  input_column_2  input_column_1  \\\n",
        "0               1               0             1.0   \n",
        "1               2               1             2.0   \n",
        "2               3               2             3.0   \n",
        "3               4               3             4.0   \n",
        "4               5               4             5.0   \n",
        "5               6               5             6.0   \n",
        "6               7               6             7.0   \n",
        "7               8               7             8.0   \n",
        "8               9               8             9.0   \n",
        "9              10               9            10.0   \n",
        "\n",
        "   input_column_1_input_column_1  input_column_1_input_column_2  \\\n",
        "0                            1.0                            0.0   \n",
        "1                            4.0                            2.0   \n",
        "2                            9.0                            6.0   \n",
        "3                           16.0                           12.0   \n",
        "4                           25.0                           20.0   \n",
        "5                           36.0                           30.0   \n",
        "6                           49.0                           42.0   \n",
        "7                           64.0                           56.0   \n",
        "8                           81.0                           72.0   \n",
        "9                          100.0                           90.0   \n",
        "\n",
        "   input_column_2  input_column_2_input_column_2  \n",
        "0             0.0                            0.0  \n",
        "1             1.0                            1.0  \n",
        "2             2.0                            4.0  \n",
        "3             3.0                            9.0  \n",
        "4             4.0                           16.0  \n",
        "5             5.0                           25.0  \n",
        "6             6.0                           36.0  \n",
        "7             7.0                           49.0  \n",
        "8             8.0                           64.0  \n",
        "9             9.0                           81.0  "
       ]
      },
      "execution_count": 94,
      "metadata": {},
      "output_type": "execute_result"
     }
    ],
    "source": [
     "pd.concat([df[['input_column_1', 'input_column_2']], df['feature_column'].apply(pd.Series)], axis=1)"
    ]
   },
   {
    "cell_type": "markdown",
    "id": "9a74d6d0-5c7e-4e93-995f-f169b51ec688",
    "metadata": {
     "tags": []
    },
    "source": [
     "#### ML.QUANTILE_BUCKATIZE\n",
     "\n",
     "Given a column of numerical values this function creates a new column with bucketed values named with the value of the quantile based on the input number of buckets.\n",
     "- `numerical_expression` is the numerical expression to buckatize\n",
     "- `num_buckets` is an integer that specifies the number of buckets to split the numerical expression into\n",
     "- [Reference](https://cloud.google.com/bigquery/docs/reference/standard-sql/bigqueryml-syntax-quantile-bucketize)\n",
     "- Is [exportable](https://cloud.google.com/bigquery/docs/exporting-models#export-transform-functions) when used in [`TRANFORM` clause](https://cloud.google.com/bigquery/docs/reference/standard-sql/bigqueryml-syntax-create#transform)."
    ]
   },
   {
    "cell_type": "code",
    "execution_count": 101,
    "id": "77b3f8be-1c67-4163-a229-74bc018f35bd",
    "metadata": {},
    "outputs": [
     {
      "name": "stdout",
      "output_type": "stream",
      "text": [
       "\n",
       "    SELECT\n",
       "        input_column,\n",
       "        ML.QUANTILE_BUCKETIZE(input_column, 2) OVER() AS feature_column\n",
       "    FROM\n",
       "        UNNEST([1, 1, 1, 2, 2, 3, 3, 3]) as input_column\n",
       "    ORDER BY input_column\n",
       "\n"
      ]
     }
    ],
    "source": [
     "query = f\"\"\"\n",
     "    SELECT\n",
     "        input_column,\n",
     "        ML.QUANTILE_BUCKETIZE(input_column, 2) OVER() AS feature_column\n",
     "    FROM\n",
     "        UNNEST([1, 1, 1, 2, 2, 3, 3, 3]) as input_column\n",
     "    ORDER BY input_column\n",
     "\"\"\"\n",
     "print(query)"
    ]
   },
   {
    "cell_type": "code",
    "execution_count": 102,
    "id": "95ec2cf2-a76b-4d25-bb20-edc34db5e2f0",
    "metadata": {},
    "outputs": [
     {
      "data": {
       "text/html": [
        "<div>\n",
        "<style scoped>\n",
        "    .dataframe tbody tr th:only-of-type {\n",
        "        vertical-align: middle;\n",
        "    }\n",
        "\n",
        "    .dataframe tbody tr th {\n",
        "        vertical-align: top;\n",
        "    }\n",
        "\n",
        "    .dataframe thead th {\n",
        "        text-align: right;\n",
        "    }\n",
        "</style>\n",
        "<table border=\"1\" class=\"dataframe\">\n",
        "  <thead>\n",
        "    <tr style=\"text-align: right;\">\n",
        "      <th></th>\n",
        "      <th>input_column</th>\n",
        "      <th>feature_column</th>\n",
        "    </tr>\n",
        "  </thead>\n",
        "  <tbody>\n",
        "    <tr>\n",
        "      <th>0</th>\n",
        "      <td>1</td>\n",
        "      <td>bin_1</td>\n",
        "    </tr>\n",
        "    <tr>\n",
        "      <th>1</th>\n",
        "      <td>1</td>\n",
        "      <td>bin_1</td>\n",
        "    </tr>\n",
        "    <tr>\n",
        "      <th>2</th>\n",
        "      <td>1</td>\n",
        "      <td>bin_1</td>\n",
        "    </tr>\n",
        "    <tr>\n",
        "      <th>3</th>\n",
        "      <td>2</td>\n",
        "      <td>bin_2</td>\n",
        "    </tr>\n",
        "    <tr>\n",
        "      <th>4</th>\n",
        "      <td>2</td>\n",
        "      <td>bin_2</td>\n",
        "    </tr>\n",
        "    <tr>\n",
        "      <th>5</th>\n",
        "      <td>3</td>\n",
        "      <td>bin_2</td>\n",
        "    </tr>\n",
        "    <tr>\n",
        "      <th>6</th>\n",
        "      <td>3</td>\n",
        "      <td>bin_2</td>\n",
        "    </tr>\n",
        "    <tr>\n",
        "      <th>7</th>\n",
        "      <td>3</td>\n",
        "      <td>bin_2</td>\n",
        "    </tr>\n",
        "  </tbody>\n",
        "</table>\n",
        "</div>"
       ],
       "text/plain": [
        "   input_column feature_column\n",
        "0             1          bin_1\n",
        "1             1          bin_1\n",
        "2             1          bin_1\n",
        "3             2          bin_2\n",
        "4             2          bin_2\n",
        "5             3          bin_2\n",
        "6             3          bin_2\n",
        "7             3          bin_2"
       ]
      },
      "execution_count": 102,
      "metadata": {},
      "output_type": "execute_result"
     }
    ],
    "source": [
     "df = bq.query(query = query).to_dataframe()\n",
     "df"
    ]
   },
   {
    "cell_type": "markdown",
    "id": "8fc77bf6-7968-474b-bb2b-72a76f839e34",
    "metadata": {
     "tags": []
    },
    "source": [
     "#### ML.ROBUST_SCALER\n",
     "\n",
     "Given a column of numerical value this function will scale the values to the quantile range: \n",
     "- `numerical_expression` is the numerical expression to buckatize\n",
     "- `quantile_range` (optional) is an array of two integers the specify the quantile range. \n",
     "    - default is [25, 75]\n",
     "    - min is 0, max is 100\n",
     "    - second element must be larger than the first element\n",
     "- `with_median` (optional) is a BOOL value that specifies where the data is centered by subtracting the median before scaling\n",
     "    - default is TRUE\n",
     "- `with_quantile_range` (optional) is a BOOL value that specifies if the data is scaled to the quantile range\n",
     "    - default is TRUE\n",
     "- [Reference](https://cloud.google.com/bigquery/docs/reference/standard-sql/bigqueryml-syntax-robust-scaler)\n",
     "- Is [exportable](https://cloud.google.com/bigquery/docs/exporting-models#export-transform-functions) when used in [`TRANFORM` clause](https://cloud.google.com/bigquery/docs/reference/standard-sql/bigqueryml-syntax-create#transform)."
    ]
   },
   {
    "cell_type": "code",
    "execution_count": 103,
    "id": "ccf322e9-3c7a-4135-9ad4-064c809a2599",
    "metadata": {},
    "outputs": [
     {
      "name": "stdout",
      "output_type": "stream",
      "text": [
       "\n",
       "    SELECT\n",
       "        input_column,\n",
       "        ML.ROBUST_SCALER(input_column) OVER() AS feature_column_1,\n",
       "        ML.ROBUST_SCALER(input_column, [25, 75], FALSE, TRUE) OVER() AS feature_column_2,\n",
       "        ML.ROBUST_SCALER(input_column, [25, 75], TRUE, FALSE) OVER() AS feature_column_3\n",
       "    FROM\n",
       "        UNNEST([0, 25, 50, 75, 100]) as input_column\n",
       "    ORDER BY input_column\n",
       "\n"
      ]
     }
    ],
    "source": [
     "query = f\"\"\"\n",
     "    SELECT\n",
     "        input_column,\n",
     "        ML.ROBUST_SCALER(input_column) OVER() AS feature_column_1,\n",
     "        ML.ROBUST_SCALER(input_column, [25, 75], FALSE, TRUE) OVER() AS feature_column_2,\n",
     "        ML.ROBUST_SCALER(input_column, [25, 75], TRUE, FALSE) OVER() AS feature_column_3\n",
     "    FROM\n",
     "        UNNEST([0, 25, 50, 75, 100]) as input_column\n",
     "    ORDER BY input_column\n",
     "\"\"\"\n",
     "print(query)"
    ]
   },
   {
    "cell_type": "code",
    "execution_count": 104,
    "id": "60236cd1-f295-4800-ae1d-213217e0986e",
    "metadata": {},
    "outputs": [
     {
      "data": {
       "text/html": [
        "<div>\n",
        "<style scoped>\n",
        "    .dataframe tbody tr th:only-of-type {\n",
        "        vertical-align: middle;\n",
        "    }\n",
        "\n",
        "    .dataframe tbody tr th {\n",
        "        vertical-align: top;\n",
        "    }\n",
        "\n",
        "    .dataframe thead th {\n",
        "        text-align: right;\n",
        "    }\n",
        "</style>\n",
        "<table border=\"1\" class=\"dataframe\">\n",
        "  <thead>\n",
        "    <tr style=\"text-align: right;\">\n",
        "      <th></th>\n",
        "      <th>input_column</th>\n",
        "      <th>feature_column_1</th>\n",
        "      <th>feature_column_2</th>\n",
        "      <th>feature_column_3</th>\n",
        "    </tr>\n",
        "  </thead>\n",
        "  <tbody>\n",
        "    <tr>\n",
        "      <th>0</th>\n",
        "      <td>0</td>\n",
        "      <td>-1.0</td>\n",
        "      <td>0.0</td>\n",
        "      <td>-50.0</td>\n",
        "    </tr>\n",
        "    <tr>\n",
        "      <th>1</th>\n",
        "      <td>25</td>\n",
        "      <td>-0.5</td>\n",
        "      <td>0.5</td>\n",
        "      <td>-25.0</td>\n",
        "    </tr>\n",
        "    <tr>\n",
        "      <th>2</th>\n",
        "      <td>50</td>\n",
        "      <td>0.0</td>\n",
        "      <td>1.0</td>\n",
        "      <td>0.0</td>\n",
        "    </tr>\n",
        "    <tr>\n",
        "      <th>3</th>\n",
        "      <td>75</td>\n",
        "      <td>0.5</td>\n",
        "      <td>1.5</td>\n",
        "      <td>25.0</td>\n",
        "    </tr>\n",
        "    <tr>\n",
        "      <th>4</th>\n",
        "      <td>100</td>\n",
        "      <td>1.0</td>\n",
        "      <td>2.0</td>\n",
        "      <td>50.0</td>\n",
        "    </tr>\n",
        "  </tbody>\n",
        "</table>\n",
        "</div>"
       ],
       "text/plain": [
        "   input_column  feature_column_1  feature_column_2  feature_column_3\n",
        "0             0              -1.0               0.0             -50.0\n",
        "1            25              -0.5               0.5             -25.0\n",
        "2            50               0.0               1.0               0.0\n",
        "3            75               0.5               1.5              25.0\n",
        "4           100               1.0               2.0              50.0"
       ]
      },
      "execution_count": 104,
      "metadata": {},
      "output_type": "execute_result"
     }
    ],
    "source": [
     "df = bq.query(query = query).to_dataframe()\n",
     "df"
    ]
   },
   {
    "cell_type": "markdown",
    "id": "3f30cb74-0f3a-4895-8ea6-248460025995",
    "metadata": {
     "tags": []
    },
    "source": [
     "#### ML.STANDARD_SCALER\n",
     "\n",
     "Given a column of numerical value this function will standardize the values by subtracting the `AVG` and dividing by the `STDDEV` - the [z-score](https://developers.google.com/machine-learning/data-prep/transform/normalization#z-score).\n",
     "- `numerical_expression` is the numerical expression to standardize\n",
     "- When used with the `TRANSFORM` statement of a `CREATE MODEL` this will also apply to `ML.PREDICT` and use the same values for `AVG` and `STDDEV`.\n",
     "- [Reference](https://cloud.google.com/bigquery/docs/reference/standard-sql/bigqueryml-syntax-standard-scaler)\n",
     "- Is [exportable](https://cloud.google.com/bigquery/docs/exporting-models#export-transform-functions) when used in [`TRANFORM` clause](https://cloud.google.com/bigquery/docs/reference/standard-sql/bigqueryml-syntax-create#transform)."
    ]
   },
   {
    "cell_type": "code",
    "execution_count": 105,
    "id": "ae1338f0-c5f4-4b92-acb5-7a75b60192a3",
    "metadata": {},
    "outputs": [
     {
      "name": "stdout",
      "output_type": "stream",
      "text": [
       "\n",
       "    SELECT\n",
       "        input_column,\n",
       "        CAST((input_column - AVG(input_column) OVER()) / STDDEV(input_column) OVER() AS FLOAT64) AS manual_column,\n",
       "        ML.STANDARD_SCALER(input_column) OVER() AS feature_column\n",
       "    FROM\n",
       "        UNNEST([0, 1, 2, 3, 4, 5, 6, 7, 8, 9, 10]) as input_column\n",
       "    ORDER BY input_column\n",
       "\n"
      ]
     }
    ],
    "source": [
     "query = f\"\"\"\n",
     "    SELECT\n",
     "        input_column,\n",
     "        CAST((input_column - AVG(input_column) OVER()) / STDDEV(input_column) OVER() AS FLOAT64) AS manual_column,\n",
     "        ML.STANDARD_SCALER(input_column) OVER() AS feature_column\n",
     "    FROM\n",
     "        UNNEST([0, 1, 2, 3, 4, 5, 6, 7, 8, 9, 10]) as input_column\n",
     "    ORDER BY input_column\n",
     "\"\"\"\n",
     "print(query)"
    ]
   },
   {
    "cell_type": "code",
    "execution_count": 106,
    "id": "c55933c8-6e1e-4df0-920a-8f92ff8096a5",
    "metadata": {},
    "outputs": [
     {
      "data": {
       "text/html": [
        "<div>\n",
        "<style scoped>\n",
        "    .dataframe tbody tr th:only-of-type {\n",
        "        vertical-align: middle;\n",
        "    }\n",
        "\n",
        "    .dataframe tbody tr th {\n",
        "        vertical-align: top;\n",
        "    }\n",
        "\n",
        "    .dataframe thead th {\n",
        "        text-align: right;\n",
        "    }\n",
        "</style>\n",
        "<table border=\"1\" class=\"dataframe\">\n",
        "  <thead>\n",
        "    <tr style=\"text-align: right;\">\n",
        "      <th></th>\n",
        "      <th>input_column</th>\n",
        "      <th>manual_column</th>\n",
        "      <th>feature_column</th>\n",
        "    </tr>\n",
        "  </thead>\n",
        "  <tbody>\n",
        "    <tr>\n",
        "      <th>0</th>\n",
        "      <td>0</td>\n",
        "      <td>-1.507557</td>\n",
        "      <td>-1.507557</td>\n",
        "    </tr>\n",
        "    <tr>\n",
        "      <th>1</th>\n",
        "      <td>1</td>\n",
        "      <td>-1.206045</td>\n",
        "      <td>-1.206045</td>\n",
        "    </tr>\n",
        "    <tr>\n",
        "      <th>2</th>\n",
        "      <td>2</td>\n",
        "      <td>-0.904534</td>\n",
        "      <td>-0.904534</td>\n",
        "    </tr>\n",
        "    <tr>\n",
        "      <th>3</th>\n",
        "      <td>3</td>\n",
        "      <td>-0.603023</td>\n",
        "      <td>-0.603023</td>\n",
        "    </tr>\n",
        "    <tr>\n",
        "      <th>4</th>\n",
        "      <td>4</td>\n",
        "      <td>-0.301511</td>\n",
        "      <td>-0.301511</td>\n",
        "    </tr>\n",
        "    <tr>\n",
        "      <th>5</th>\n",
        "      <td>5</td>\n",
        "      <td>0.000000</td>\n",
        "      <td>0.000000</td>\n",
        "    </tr>\n",
        "    <tr>\n",
        "      <th>6</th>\n",
        "      <td>6</td>\n",
        "      <td>0.301511</td>\n",
        "      <td>0.301511</td>\n",
        "    </tr>\n",
        "    <tr>\n",
        "      <th>7</th>\n",
        "      <td>7</td>\n",
        "      <td>0.603023</td>\n",
        "      <td>0.603023</td>\n",
        "    </tr>\n",
        "    <tr>\n",
        "      <th>8</th>\n",
        "      <td>8</td>\n",
        "      <td>0.904534</td>\n",
        "      <td>0.904534</td>\n",
        "    </tr>\n",
        "    <tr>\n",
        "      <th>9</th>\n",
        "      <td>9</td>\n",
        "      <td>1.206045</td>\n",
        "      <td>1.206045</td>\n",
        "    </tr>\n",
        "    <tr>\n",
        "      <th>10</th>\n",
        "      <td>10</td>\n",
        "      <td>1.507557</td>\n",
        "      <td>1.507557</td>\n",
        "    </tr>\n",
        "  </tbody>\n",
        "</table>\n",
        "</div>"
       ],
       "text/plain": [
        "    input_column  manual_column  feature_column\n",
        "0              0      -1.507557       -1.507557\n",
        "1              1      -1.206045       -1.206045\n",
        "2              2      -0.904534       -0.904534\n",
        "3              3      -0.603023       -0.603023\n",
        "4              4      -0.301511       -0.301511\n",
        "5              5       0.000000        0.000000\n",
        "6              6       0.301511        0.301511\n",
        "7              7       0.603023        0.603023\n",
        "8              8       0.904534        0.904534\n",
        "9              9       1.206045        1.206045\n",
        "10            10       1.507557        1.507557"
       ]
      },
      "execution_count": 106,
      "metadata": {},
      "output_type": "execute_result"
     }
    ],
    "source": [
     "df = bq.query(query = query).to_dataframe()\n",
     "df"
    ]
   },
   {
    "cell_type": "markdown",
    "id": "6bc05301-1d1f-4438-b717-8dc08a47cdfc",
    "metadata": {},
    "source": [
     "### Advanced Usage of Manual Feature Engineering\n",
     "\n",
     "There may be situations where multiple feature preprocessing functions are needed.  Here is an example of using `ML.IMPUTER` with `ML.POLYNOMIAL_EXPAND` for example.\n",
     "\n",
     "**NOTE:** An analytic function (has `OVER ()`) cannot be an argument of another analytic function, however, scaler functions can be arguments.\n",
     "\n",
     "This Example Compounds:\n",
     "- `CAST` the string values to `FLOAT64`\n",
     "- imputes missing values for the column with `ML.IMPUTER`\n",
     "- uses `ML.POLYNOMIAL_EXPAND` to create higher order terms from the imputed column"
    ]
   },
   {
    "cell_type": "code",
    "execution_count": 107,
    "id": "228ba57a-d016-47f0-988d-3185a4bfbe1c",
    "metadata": {},
    "outputs": [
     {
      "name": "stdout",
      "output_type": "stream",
      "text": [
       "\n",
       "SELECT\n",
       "    input_column,\n",
       "    ML.POLYNOMIAL_EXPAND(\n",
       "        STRUCT(\n",
       "            ML.IMPUTER(\n",
       "                CAST(input_column AS FLOAT64),\n",
       "                'mean'\n",
       "            ) OVER() AS num_imputed_mean\n",
       "        ),\n",
       "        2\n",
       "    ) AS imputed_expanded\n",
       "FROM\n",
       "    UNNEST(['1', '1', '2', '3', '4', '5', NULL]) AS input_column\n",
       "\n"
      ]
     }
    ],
    "source": [
     "query = f\"\"\"\n",
     "SELECT\n",
     "    input_column,\n",
     "    ML.POLYNOMIAL_EXPAND(\n",
     "        STRUCT(\n",
     "            ML.IMPUTER(\n",
     "                CAST(input_column AS FLOAT64),\n",
     "                'mean'\n",
     "            ) OVER() AS num_imputed_mean\n",
     "        ),\n",
     "        2\n",
     "    ) AS imputed_expanded\n",
     "FROM\n",
     "    UNNEST(['1', '1', '2', '3', '4', '5', NULL]) AS input_column\n",
     "\"\"\"\n",
     "print(query)"
    ]
   },
   {
    "cell_type": "code",
    "execution_count": 108,
    "id": "591d96de-c31f-4035-94e2-61a257898b9f",
    "metadata": {},
    "outputs": [
     {
      "data": {
       "text/html": [
        "<div>\n",
        "<style scoped>\n",
        "    .dataframe tbody tr th:only-of-type {\n",
        "        vertical-align: middle;\n",
        "    }\n",
        "\n",
        "    .dataframe tbody tr th {\n",
        "        vertical-align: top;\n",
        "    }\n",
        "\n",
        "    .dataframe thead th {\n",
        "        text-align: right;\n",
        "    }\n",
        "</style>\n",
        "<table border=\"1\" class=\"dataframe\">\n",
        "  <thead>\n",
        "    <tr style=\"text-align: right;\">\n",
        "      <th></th>\n",
        "      <th>input_column</th>\n",
        "      <th>imputed_expanded</th>\n",
        "    </tr>\n",
        "  </thead>\n",
        "  <tbody>\n",
        "    <tr>\n",
        "      <th>0</th>\n",
        "      <td>1</td>\n",
        "      <td>{'num_imputed_mean': 1.0, 'num_imputed_mean_nu...</td>\n",
        "    </tr>\n",
        "    <tr>\n",
        "      <th>1</th>\n",
        "      <td>2</td>\n",
        "      <td>{'num_imputed_mean': 2.0, 'num_imputed_mean_nu...</td>\n",
        "    </tr>\n",
        "    <tr>\n",
        "      <th>2</th>\n",
        "      <td>3</td>\n",
        "      <td>{'num_imputed_mean': 3.0, 'num_imputed_mean_nu...</td>\n",
        "    </tr>\n",
        "    <tr>\n",
        "      <th>3</th>\n",
        "      <td>None</td>\n",
        "      <td>{'num_imputed_mean': 2.666666666666667, 'num_i...</td>\n",
        "    </tr>\n",
        "    <tr>\n",
        "      <th>4</th>\n",
        "      <td>4</td>\n",
        "      <td>{'num_imputed_mean': 4.0, 'num_imputed_mean_nu...</td>\n",
        "    </tr>\n",
        "    <tr>\n",
        "      <th>5</th>\n",
        "      <td>1</td>\n",
        "      <td>{'num_imputed_mean': 1.0, 'num_imputed_mean_nu...</td>\n",
        "    </tr>\n",
        "    <tr>\n",
        "      <th>6</th>\n",
        "      <td>5</td>\n",
        "      <td>{'num_imputed_mean': 5.0, 'num_imputed_mean_nu...</td>\n",
        "    </tr>\n",
        "  </tbody>\n",
        "</table>\n",
        "</div>"
       ],
       "text/plain": [
        "  input_column                                   imputed_expanded\n",
        "0            1  {'num_imputed_mean': 1.0, 'num_imputed_mean_nu...\n",
        "1            2  {'num_imputed_mean': 2.0, 'num_imputed_mean_nu...\n",
        "2            3  {'num_imputed_mean': 3.0, 'num_imputed_mean_nu...\n",
        "3         None  {'num_imputed_mean': 2.666666666666667, 'num_i...\n",
        "4            4  {'num_imputed_mean': 4.0, 'num_imputed_mean_nu...\n",
        "5            1  {'num_imputed_mean': 1.0, 'num_imputed_mean_nu...\n",
        "6            5  {'num_imputed_mean': 5.0, 'num_imputed_mean_nu..."
       ]
      },
      "execution_count": 108,
      "metadata": {},
      "output_type": "execute_result"
     }
    ],
    "source": [
     "df = bq.query(query = query).to_dataframe()\n",
     "df"
    ]
   },
   {
    "cell_type": "code",
    "execution_count": 109,
    "id": "406d3e35-1a2a-40f2-be3d-47a1fdfcfa75",
    "metadata": {},
    "outputs": [
     {
      "data": {
       "text/html": [
        "<div>\n",
        "<style scoped>\n",
        "    .dataframe tbody tr th:only-of-type {\n",
        "        vertical-align: middle;\n",
        "    }\n",
        "\n",
        "    .dataframe tbody tr th {\n",
        "        vertical-align: top;\n",
        "    }\n",
        "\n",
        "    .dataframe thead th {\n",
        "        text-align: right;\n",
        "    }\n",
        "</style>\n",
        "<table border=\"1\" class=\"dataframe\">\n",
        "  <thead>\n",
        "    <tr style=\"text-align: right;\">\n",
        "      <th></th>\n",
        "      <th>input_column</th>\n",
        "      <th>num_imputed_mean</th>\n",
        "      <th>num_imputed_mean_num_imputed_mean</th>\n",
        "    </tr>\n",
        "  </thead>\n",
        "  <tbody>\n",
        "    <tr>\n",
        "      <th>0</th>\n",
        "      <td>1</td>\n",
        "      <td>1.000000</td>\n",
        "      <td>1.000000</td>\n",
        "    </tr>\n",
        "    <tr>\n",
        "      <th>1</th>\n",
        "      <td>2</td>\n",
        "      <td>2.000000</td>\n",
        "      <td>4.000000</td>\n",
        "    </tr>\n",
        "    <tr>\n",
        "      <th>2</th>\n",
        "      <td>3</td>\n",
        "      <td>3.000000</td>\n",
        "      <td>9.000000</td>\n",
        "    </tr>\n",
        "    <tr>\n",
        "      <th>3</th>\n",
        "      <td>None</td>\n",
        "      <td>2.666667</td>\n",
        "      <td>7.111111</td>\n",
        "    </tr>\n",
        "    <tr>\n",
        "      <th>4</th>\n",
        "      <td>4</td>\n",
        "      <td>4.000000</td>\n",
        "      <td>16.000000</td>\n",
        "    </tr>\n",
        "    <tr>\n",
        "      <th>5</th>\n",
        "      <td>1</td>\n",
        "      <td>1.000000</td>\n",
        "      <td>1.000000</td>\n",
        "    </tr>\n",
        "    <tr>\n",
        "      <th>6</th>\n",
        "      <td>5</td>\n",
        "      <td>5.000000</td>\n",
        "      <td>25.000000</td>\n",
        "    </tr>\n",
        "  </tbody>\n",
        "</table>\n",
        "</div>"
       ],
       "text/plain": [
        "  input_column  num_imputed_mean  num_imputed_mean_num_imputed_mean\n",
        "0            1          1.000000                           1.000000\n",
        "1            2          2.000000                           4.000000\n",
        "2            3          3.000000                           9.000000\n",
        "3         None          2.666667                           7.111111\n",
        "4            4          4.000000                          16.000000\n",
        "5            1          1.000000                           1.000000\n",
        "6            5          5.000000                          25.000000"
       ]
      },
      "execution_count": 109,
      "metadata": {},
      "output_type": "execute_result"
     }
    ],
    "source": [
     "pd.concat([df['input_column'], df['imputed_expanded'].apply(pd.Series)], axis=1)"
    ]
   }
  ],
  "metadata": {
   "environment": {
    "kernel": "python3",
    "name": "tf2-gpu.2-11.m104",
    "type": "gcloud",
    "uri": "gcr.io/deeplearning-platform-release/tf2-gpu.2-11:m104"
   },
   "kernelspec": {
    "display_name": "Python 3 (ipykernel)",
    "language": "python",
    "name": "python3"
   },
   "language_info": {
    "codemirror_mode": {
     "name": "ipython",
     "version": 3
    },
    "file_extension": ".py",
    "mimetype": "text/x-python",
    "name": "python",
    "nbconvert_exporter": "python",
    "pygments_lexer": "ipython3",
    "version": "3.7.12"
   }
  },
  "nbformat": 4,
  "nbformat_minor": 5
 }