{
 "cells": [
  {
   "cell_type": "markdown",
   "id": "320be11c-027a-4d79-b9a1-07c52414738f",
   "metadata": {},
   "source": [
    "<!---\n",
    "![ga4](https://www.google-analytics.com/collect?v=2&tid=G-6VDTYWLKX6&cid=1&en=page_view&sid=1&dl=statmike%2Fvertex-ai-mlops%2F03+-+BigQuery+ML+%28BQML%29&dt=BQML+Feature+Engineering.ipynb)\n",
    "-->\n",
    "![ga4](https://www.google-analytics.com/collect?v=2&tid=G-6VDTYWLKX6&cid=1&en=page_view&sid=1&dl=GoogleCloudPlatform%2Fbigquery_ml_utils%2Fnotebooks&dt=bqml-feature-engineering.ipynb)\n",
    "\n",
    "# BigQuery ML (BQML) - Advanced Feature Engineering\n",
    "\n",
    "This notebook will explore preparing data (preprocessing) for machine learning with BigQuery using functions that are part of BigQuery ML (BQML). \n",
    "\n",
    ">This content also accompanies the blog [How to use advance feature engineering to preprocess data in BigQuery ML](https://cloud.google.com/blog/products/data-analytics/preprocess-data-use-bigquery-ml):\n",
    ">- Step 1: Transform BigQuery columns into ML features with SQL\n",
    ">- Step 2: Iterate through multiple models with inline TRANSFORM functions\n",
    ">- Step 3: Manually export models from BigQuery\n",
    ">- Step 4: Register models to Vertex AI Model Registry\n",
    ">- Step 5: Create Vertex AI Prediction endpoints\n",
    ">- Step 6: Deploy models to endpoints\n",
    ">- Step 7: Request predictions from Endpoints\n",
    "\n",
    "---\n",
    "\n",
    "**BigQuery ML (BQML)**\n",
    "\n",
    "BigQuery Machine Learning allows you to use `SQL` to constuct an ML workflow.  This is a great leap in productivity and flexibility when the data source is BigQuery and users are already familiar with `SQL`. Using just `SQL` multiple techniques can be used for model training and even include hyperparameter tuning.  Predictions can be served directly in BigQuery which also include explainability. Models can be registered to Vertex AI model registry for online predictions on Vertex AI Endpoints.\n",
    "\n",
    "**If you know:**\n",
    "```SQL\n",
    "CREATE TABLE {table name}\n",
    "    AS\n",
    "        SELECT ...\n",
    "        FROM ...\n",
    "        WHERE ...\n",
    "```\n",
    "\n",
    "**Then you are ready to try:**\n",
    "```SQL\n",
    "CREATE MODEL {model name} \n",
    "    OPTIONS (\n",
    "        MODEL_TYPE = ...\n",
    "        {more options}\n",
    "    )\n",
    "    AS\n",
    "        SELECT ...\n",
    "        FROM ...\n",
    "        WHERE ...\n",
    "```\n",
    "\n",
    "**You can even use:**\n",
    "```SQL\n",
    "CREATE OR REPLACE MODEL {model name}...\n",
    "```\n",
    "\n",
    "And\n",
    "\n",
    "```SQL\n",
    "CREATE MODEL IF NOT EXISTS {model name}...\n",
    "```\n",
    "\n",
    "**Functions for your ML Workflow**\n",
    "\n",
    "Model Evaluation with `ML.EVALUTE`:\n",
    "```SQL\n",
    "SELECT *\n",
    "FROM ML.EVALUTE(\n",
    "    MODEL {model name},\n",
    "    (\n",
    "        SELECT ...\n",
    "        FROM ...\n",
    "        WHERE ...),\n",
    "    STRUCT({optional parameters})\n",
    ")\n",
    "```\n",
    "\n",
    "Prediction Using Models with `ML.PREDICT`:\n",
    "```SQL\n",
    "SELECT *\n",
    "FROM ML.PREDICT(\n",
    "    MODEL {model name},\n",
    "    (\n",
    "        SELECT ...\n",
    "        FROM ...\n",
    "        WHERE ...),\n",
    "    STRUCT({optional parameters})\n",
    ")\n",
    "```\n",
    "\n",
    "---\n",
    "\n",
    "**Feature Engineering**\n",
    "\n",
    "Feature engineering, or preprocessing, is part of making data ready for machine learning.  BigQuery ML [manual feature preprocessing](https://cloud.google.com/bigquery-ml/docs/reference/standard-sql/bigqueryml-preprocessing-functions) functions are available to make this process simple within BigQuery.  \n",
    "\n",
    "Each `CREATE MODEL ...` statement will do [automatic feature preprocessing](https://cloud.google.com/bigquery-ml/docs/reference/standard-sql/bigqueryml-auto-preprocessing) by default.  It is also possible include manual feature preprocessing in the `CREATE MODEL ...` statement as a `TRANSFORM` clause where it will also become part of the model serving.  Some of these functions even accompany the model when [exported from BigQuery](https://cloud.google.com/bigquery-ml/docs/exporting-models).\n",
    "\n",
    "```SQL\n",
    "CREATE MODEL {model name} AS\n",
    "    TRANSFORM (\n",
    "        ML.{function name}() OVER() as {name},\n",
    "        ...\n",
    "    )\n",
    "    OPTIONS (\n",
    "        MODEL_TYPE = ...\n",
    "        {more options}\n",
    "    )\n",
    "    AS\n",
    "        SELECT ...\n",
    "        FROM ...\n",
    "        WHERE ...\n",
    "```\n",
    "  \n",
    "---\n",
    "\n",
    "**Getting Started**\n",
    "<p align=\"center\" width=\"100%\">\n",
    "A great place to start exploring what model types are available and the functions to help create an ML workflow with each model type is this site:\n",
    "    <center>\n",
    "        <span style=\"font-size:xx-large;\">\n",
    "        <a href=\"https://cloud.google.com/bigquery-ml/docs/reference/standard-sql/bigqueryml-syntax-e2e-journey\">\n",
    "            End-to-end user journey for each model\n",
    "        </a>\n",
    "        </span>\n",
    "    </center>\n",
    "\n",
    "Another great resourse for getting started is the \"What is BigQuery ML?\" starting page which include a model selection guide.\n",
    "    <center>\n",
    "        <span style=\"font-size:xx-large;\">\n",
    "        <a href=\"https://cloud.google.com/bigquery-ml/docs/introduction\">\n",
    "        What is BigQuery ML?\n",
    "        </a>\n",
    "        </span>\n",
    "    </center>\n",
    "</p>\n",
    "\n",
    "---\n",
    "\n",
    "**Prerequisites:**\n",
    "\n",
    "None\n",
    "\n",
    "**Services Used:**\n",
    "- BigQuery\n",
    "- Vertex AI: Workbench (this notebook), Model Registry, Endpoints\n",
    "- GCS\n",
    "\n",
    "**Resources:**\n",
    "- [BigQuery ML (BQML) Overview](https://cloud.google.com/bigquery-ml/docs/introduction)\n",
    "- [Overview of BQML methods and workflows](https://cloud.google.com/bigquery-ml/docs/reference/standard-sql/bigqueryml-syntax-e2e-journey)\n",
    "- [BigQuery](https://cloud.google.com/bigquery)\n",
    "    - [Documentation:](https://cloud.google.com/bigquery/docs/query-overview)\n",
    "    - [API:](https://cloud.google.com/bigquery/docs/reference/libraries-overview)\n",
    "        - [Clients](https://cloud.google.com/bigquery/docs/reference/libraries)\n",
    "            - [Python SDK:](https://github.com/googleapis/python-bigquery)\n",
    "            - [Python Library Reference:](https://cloud.google.com/python/docs/reference/bigquery/latest)"
   ]
  },
  {
   "cell_type": "markdown",
   "id": "e17afa66-4bea-484e-aeba-835c6be7a393",
   "metadata": {},
   "source": [
    "---\n",
    "## Colab Setup\n",
    "\n",
    "To run this notebook in Colab click [![Open In Colab](https://colab.research.google.com/assets/colab-badge.svg)](https://colab.research.google.com/github/GoogleCloudPlatform/bigquery-ml-utils/blob/master/notebooks/bqml-feature-engineering.ipynb) and run the cells in this section.  Otherwise, skip this section."
   ]
  },
  {
   "cell_type": "code",
   "execution_count": 473,
   "id": "5e1c27de-aba9-48ea-a99a-65f2818a7fc3",
   "metadata": {},
   "outputs": [],
   "source": [
    "try:\n",
    "    import google.colab\n",
    "    !pip install --upgrade google-cloud-aiplatform -q\n",
    "    !pip install --upgrade gcsfs -q\n",
    "    !pip install --upgrade google-cloud-bigquery -q\n",
    "    !pip install --upgrade google-cloud-bigquery-storage -q\n",
    "    from google.colab import auth\n",
    "    auth.authenticate_user()\n",
    "except Exception:\n",
    "    pass"
   ]
  },
  {
   "cell_type": "markdown",
   "id": "cd0fd69e-ba8f-490c-b487-2479233c475c",
   "metadata": {},
   "source": [
    "The Next cell will restart the runtime by first stopping it and then Colab will automatically restart:"
   ]
  },
  {
   "cell_type": "code",
   "execution_count": 474,
   "id": "33d2a2be-97d3-4aae-8295-8441db9a98c4",
   "metadata": {},
   "outputs": [],
   "source": [
    "try:\n",
    "    import google.colab\n",
    "    import os\n",
    "    os.kill(os.getpid(), 9)\n",
    "except Exception:\n",
    "    pass"
   ]
  },
  {
   "cell_type": "code",
   "execution_count": 475,
   "id": "87192944-6c60-4973-9437-f7cad05917ae",
   "metadata": {},
   "outputs": [
    {
     "name": "stdout",
     "output_type": "stream",
     "text": [
      "Updated property [core/project].\n"
     ]
    }
   ],
   "source": [
    "PROJECT_ID = 'statmike-mlops-349915' # replace with project ID\n",
    "!gcloud config set project {PROJECT_ID}"
   ]
  },
  {
   "cell_type": "markdown",
   "id": "b9472481-40b9-42b5-b312-70bbe7f4424c",
   "metadata": {},
   "source": [
    "---\n",
    "## Environment Setup"
   ]
  },
  {
   "cell_type": "markdown",
   "id": "9898fe14-2759-4725-8788-44d7172c623c",
   "metadata": {},
   "source": [
    "inputs:"
   ]
  },
  {
   "cell_type": "code",
   "execution_count": 476,
   "id": "10c2e0b7-31c4-43bb-a0f3-357f1147bb46",
   "metadata": {},
   "outputs": [
    {
     "data": {
      "text/plain": [
       "'statmike-mlops-349915'"
      ]
     },
     "execution_count": 476,
     "metadata": {},
     "output_type": "execute_result"
    }
   ],
   "source": [
    "project = !gcloud config get-value project\n",
    "PROJECT_ID = project[0]\n",
    "PROJECT_ID"
   ]
  },
  {
   "cell_type": "code",
   "execution_count": 477,
   "id": "93c9f9bb-77db-4874-b5b2-50ae62d305f3",
   "metadata": {},
   "outputs": [],
   "source": [
    "REGION = 'us-central1'\n",
    "EXPERIMENT = 'feature_engineering'\n",
    "SERIES = '03'\n",
    "\n",
    "# source data\n",
    "BQ_PROJECT = PROJECT_ID\n",
    "BQ_DATASET = 'feature_engineering'\n",
    "BQ_TABLE = 'bread'"
   ]
  },
  {
   "cell_type": "markdown",
   "id": "8a61432f-3879-4047-b60c-d6866e87a83b",
   "metadata": {},
   "source": [
    "packages:"
   ]
  },
  {
   "cell_type": "code",
   "execution_count": 588,
   "id": "46dd5f64-6633-45e8-a886-5dd3c2fb8437",
   "metadata": {},
   "outputs": [],
   "source": [
    "from google.cloud import aiplatform\n",
    "from google.cloud import bigquery\n",
    "from google.cloud import storage\n",
    "\n",
    "from datetime import datetime\n",
    "import matplotlib.pyplot as plt\n",
    "from sklearn import metrics\n",
    "import numpy as np\n",
    "import pandas as pd\n",
    "import json\n",
    "\n",
    "from google.protobuf import json_format\n",
    "from google.protobuf.struct_pb2 import Value"
   ]
  },
  {
   "cell_type": "markdown",
   "id": "c96caca5-9d6a-42b9-952e-3ba9c6076d56",
   "metadata": {},
   "source": [
    "clients:"
   ]
  },
  {
   "cell_type": "code",
   "execution_count": 479,
   "id": "8e845d29-f0bb-496b-bd9a-adb85e1a5b9f",
   "metadata": {},
   "outputs": [],
   "source": [
    "aiplatform.init(project=PROJECT_ID, location=REGION)\n",
    "bq = bigquery.Client(project=PROJECT_ID, location = 'US')\n",
    "gcs = storage.Client(project = PROJECT_ID)"
   ]
  },
  {
   "cell_type": "markdown",
   "id": "edd608d4-eded-4a26-b1cd-9bf82e570632",
   "metadata": {},
   "source": [
    "environment:"
   ]
  },
  {
   "cell_type": "code",
   "execution_count": 480,
   "id": "033c6f41-43c9-43c9-9b56-a60bbf15d9f1",
   "metadata": {},
   "outputs": [],
   "source": [
    "DIR = f\"temp/{EXPERIMENT}\"\n",
    "!rm -rf {DIR}\n",
    "!mkdir -p {DIR}"
   ]
  },
  {
   "cell_type": "markdown",
   "id": "f8942499-f17d-47bf-82d5-884a2cecc5b1",
   "metadata": {},
   "source": [
    "---\n",
    "## Step 1: Transform BigQuery columns into ML features with SQL\n",
    "\n",
    "BigQuery ML [manual feature preprocessing](https://cloud.google.com/bigquery-ml/docs/reference/standard-sql/bigqueryml-preprocessing-functions) functions are usefull for converting BigQuery columns to ML features.  BigQuery ML has included a set of these for manual preprocessing and they are individually reviewed here.\n",
    "\n",
    "These functions can be used directly in BigQuery SQL or within the `TRANSFORM` clause of the `CREATE MODEL` statement.  Using these inside of the `TRANSFORM` clause means they will also be automatically applied during model serving in BigQuery with `ML.PREDICT`.  Some preprocessing statments can also accompany exported models.\n",
    "\n",
    "**NOTE:** Some of the functions require using calculations over all values in the column and make use of an empty `OVER()` clause.  See `ML.QUANTILE_BUCKETIZE`, `ML.MIN_MAX_SCALER`, `ML.STANDARD_SCALER` for examples. \n"
   ]
  },
  {
   "cell_type": "markdown",
   "id": "26d843c3-4914-4cce-8845-d3661b22042a",
   "metadata": {},
   "source": [
    "#### ML.BUCKETIZE\n",
    "\n",
    "Given a column of numerical values this function creates a new column with bucketed values based on a list of boundaries given as input.\n",
    "- [Reference](https://cloud.google.com/bigquery-ml/docs/reference/standard-sql/bigqueryml-preprocessing-functions#bucketize)\n",
    "- Is exportabled when used in `TRANFORM` clause"
   ]
  },
  {
   "cell_type": "code",
   "execution_count": 481,
   "id": "7f774cfe-f3e0-4280-bbad-7d5543d33eb3",
   "metadata": {},
   "outputs": [
    {
     "name": "stdout",
     "output_type": "stream",
     "text": [
      "\n",
      "    SELECT\n",
      "        input_column,\n",
      "        ML.BUCKETIZE(input_column, [2, 5, 7]) AS feature_column\n",
      "    FROM\n",
      "        UNNEST([1, 2, 3, 4, 5, 6, 7, 8, 9, 10]) as input_column\n",
      "\n"
     ]
    }
   ],
   "source": [
    "query = f\"\"\"\n",
    "    SELECT\n",
    "        input_column,\n",
    "        ML.BUCKETIZE(input_column, [2, 5, 7]) AS feature_column\n",
    "    FROM\n",
    "        UNNEST([1, 2, 3, 4, 5, 6, 7, 8, 9, 10]) as input_column\n",
    "\"\"\"\n",
    "print(query)"
   ]
  },
  {
   "cell_type": "code",
   "execution_count": 482,
   "id": "a0dd85f9-04f9-4159-a41a-ca17b98d4930",
   "metadata": {},
   "outputs": [
    {
     "data": {
      "text/html": [
       "<div>\n",
       "<style scoped>\n",
       "    .dataframe tbody tr th:only-of-type {\n",
       "        vertical-align: middle;\n",
       "    }\n",
       "\n",
       "    .dataframe tbody tr th {\n",
       "        vertical-align: top;\n",
       "    }\n",
       "\n",
       "    .dataframe thead th {\n",
       "        text-align: right;\n",
       "    }\n",
       "</style>\n",
       "<table border=\"1\" class=\"dataframe\">\n",
       "  <thead>\n",
       "    <tr style=\"text-align: right;\">\n",
       "      <th></th>\n",
       "      <th>input_column</th>\n",
       "      <th>feature_column</th>\n",
       "    </tr>\n",
       "  </thead>\n",
       "  <tbody>\n",
       "    <tr>\n",
       "      <th>0</th>\n",
       "      <td>1</td>\n",
       "      <td>bin_1</td>\n",
       "    </tr>\n",
       "    <tr>\n",
       "      <th>1</th>\n",
       "      <td>2</td>\n",
       "      <td>bin_2</td>\n",
       "    </tr>\n",
       "    <tr>\n",
       "      <th>2</th>\n",
       "      <td>3</td>\n",
       "      <td>bin_2</td>\n",
       "    </tr>\n",
       "    <tr>\n",
       "      <th>3</th>\n",
       "      <td>4</td>\n",
       "      <td>bin_2</td>\n",
       "    </tr>\n",
       "    <tr>\n",
       "      <th>4</th>\n",
       "      <td>5</td>\n",
       "      <td>bin_3</td>\n",
       "    </tr>\n",
       "    <tr>\n",
       "      <th>5</th>\n",
       "      <td>6</td>\n",
       "      <td>bin_3</td>\n",
       "    </tr>\n",
       "    <tr>\n",
       "      <th>6</th>\n",
       "      <td>7</td>\n",
       "      <td>bin_4</td>\n",
       "    </tr>\n",
       "    <tr>\n",
       "      <th>7</th>\n",
       "      <td>8</td>\n",
       "      <td>bin_4</td>\n",
       "    </tr>\n",
       "    <tr>\n",
       "      <th>8</th>\n",
       "      <td>9</td>\n",
       "      <td>bin_4</td>\n",
       "    </tr>\n",
       "    <tr>\n",
       "      <th>9</th>\n",
       "      <td>10</td>\n",
       "      <td>bin_4</td>\n",
       "    </tr>\n",
       "  </tbody>\n",
       "</table>\n",
       "</div>"
      ],
      "text/plain": [
       "   input_column feature_column\n",
       "0             1          bin_1\n",
       "1             2          bin_2\n",
       "2             3          bin_2\n",
       "3             4          bin_2\n",
       "4             5          bin_3\n",
       "5             6          bin_3\n",
       "6             7          bin_4\n",
       "7             8          bin_4\n",
       "8             9          bin_4\n",
       "9            10          bin_4"
      ]
     },
     "execution_count": 482,
     "metadata": {},
     "output_type": "execute_result"
    }
   ],
   "source": [
    "df = bq.query(query = query).to_dataframe()\n",
    "df"
   ]
  },
  {
   "cell_type": "markdown",
   "id": "d0b7f2af-6eb1-48e6-8460-c5a2a7f9475e",
   "metadata": {},
   "source": [
    "#### ML.POLYNOMIAL_EXPAND\n",
    "\n",
    "Given a STRUCT of numerical features this returns a STRUCT of polynomial combinations up to the degree passed-in (default = 2).\n",
    "- [Reference](https://cloud.google.com/bigquery-ml/docs/reference/standard-sql/bigqueryml-preprocessing-functions#mlpolynomial_expand)"
   ]
  },
  {
   "cell_type": "code",
   "execution_count": 634,
   "id": "74ba79b6-e4e6-42b6-bea2-0becff02929c",
   "metadata": {},
   "outputs": [
    {
     "name": "stdout",
     "output_type": "stream",
     "text": [
      "\n",
      "    SELECT\n",
      "        input_column_1, input_column_2,\n",
      "        ML.POLYNOMIAL_EXPAND(STRUCT(input_column_1, input_column_2)) AS feature_column\n",
      "    FROM\n",
      "        UNNEST([1, 2, 3, 4, 5, 6, 7, 8, 9, 10]) AS input_column_1 WITH OFFSET pos1,\n",
      "        UNNEST([0, 1, 2, 3, 4, 5, 6, 7, 8, 9]) AS input_column_2 WITH OFFSET pos2\n",
      "    WHERE\n",
      "        pos1 = pos2\n",
      "\n"
     ]
    }
   ],
   "source": [
    "query = f\"\"\"\n",
    "    SELECT\n",
    "        input_column_1, input_column_2,\n",
    "        ML.POLYNOMIAL_EXPAND(STRUCT(input_column_1, input_column_2)) AS feature_column\n",
    "    FROM\n",
    "        UNNEST([1, 2, 3, 4, 5, 6, 7, 8, 9, 10]) AS input_column_1 WITH OFFSET pos1,\n",
    "        UNNEST([0, 1, 2, 3, 4, 5, 6, 7, 8, 9]) AS input_column_2 WITH OFFSET pos2\n",
    "    WHERE\n",
    "        pos1 = pos2\n",
    "\"\"\"\n",
    "print(query)"
   ]
  },
  {
   "cell_type": "code",
   "execution_count": 635,
   "id": "f07a1944-a5c4-409e-82b1-e44eac59a40e",
   "metadata": {},
   "outputs": [
    {
     "data": {
      "text/html": [
       "<div>\n",
       "<style scoped>\n",
       "    .dataframe tbody tr th:only-of-type {\n",
       "        vertical-align: middle;\n",
       "    }\n",
       "\n",
       "    .dataframe tbody tr th {\n",
       "        vertical-align: top;\n",
       "    }\n",
       "\n",
       "    .dataframe thead th {\n",
       "        text-align: right;\n",
       "    }\n",
       "</style>\n",
       "<table border=\"1\" class=\"dataframe\">\n",
       "  <thead>\n",
       "    <tr style=\"text-align: right;\">\n",
       "      <th></th>\n",
       "      <th>input_column_1</th>\n",
       "      <th>input_column_2</th>\n",
       "      <th>feature_column</th>\n",
       "    </tr>\n",
       "  </thead>\n",
       "  <tbody>\n",
       "    <tr>\n",
       "      <th>0</th>\n",
       "      <td>1</td>\n",
       "      <td>0</td>\n",
       "      <td>{'input_column_1': 1.0, 'input_column_1_input_...</td>\n",
       "    </tr>\n",
       "    <tr>\n",
       "      <th>1</th>\n",
       "      <td>2</td>\n",
       "      <td>1</td>\n",
       "      <td>{'input_column_1': 2.0, 'input_column_1_input_...</td>\n",
       "    </tr>\n",
       "    <tr>\n",
       "      <th>2</th>\n",
       "      <td>3</td>\n",
       "      <td>2</td>\n",
       "      <td>{'input_column_1': 3.0, 'input_column_1_input_...</td>\n",
       "    </tr>\n",
       "    <tr>\n",
       "      <th>3</th>\n",
       "      <td>4</td>\n",
       "      <td>3</td>\n",
       "      <td>{'input_column_1': 4.0, 'input_column_1_input_...</td>\n",
       "    </tr>\n",
       "    <tr>\n",
       "      <th>4</th>\n",
       "      <td>5</td>\n",
       "      <td>4</td>\n",
       "      <td>{'input_column_1': 5.0, 'input_column_1_input_...</td>\n",
       "    </tr>\n",
       "    <tr>\n",
       "      <th>5</th>\n",
       "      <td>6</td>\n",
       "      <td>5</td>\n",
       "      <td>{'input_column_1': 6.0, 'input_column_1_input_...</td>\n",
       "    </tr>\n",
       "    <tr>\n",
       "      <th>6</th>\n",
       "      <td>7</td>\n",
       "      <td>6</td>\n",
       "      <td>{'input_column_1': 7.0, 'input_column_1_input_...</td>\n",
       "    </tr>\n",
       "    <tr>\n",
       "      <th>7</th>\n",
       "      <td>8</td>\n",
       "      <td>7</td>\n",
       "      <td>{'input_column_1': 8.0, 'input_column_1_input_...</td>\n",
       "    </tr>\n",
       "    <tr>\n",
       "      <th>8</th>\n",
       "      <td>9</td>\n",
       "      <td>8</td>\n",
       "      <td>{'input_column_1': 9.0, 'input_column_1_input_...</td>\n",
       "    </tr>\n",
       "    <tr>\n",
       "      <th>9</th>\n",
       "      <td>10</td>\n",
       "      <td>9</td>\n",
       "      <td>{'input_column_1': 10.0, 'input_column_1_input...</td>\n",
       "    </tr>\n",
       "  </tbody>\n",
       "</table>\n",
       "</div>"
      ],
      "text/plain": [
       "   input_column_1  input_column_2  \\\n",
       "0               1               0   \n",
       "1               2               1   \n",
       "2               3               2   \n",
       "3               4               3   \n",
       "4               5               4   \n",
       "5               6               5   \n",
       "6               7               6   \n",
       "7               8               7   \n",
       "8               9               8   \n",
       "9              10               9   \n",
       "\n",
       "                                      feature_column  \n",
       "0  {'input_column_1': 1.0, 'input_column_1_input_...  \n",
       "1  {'input_column_1': 2.0, 'input_column_1_input_...  \n",
       "2  {'input_column_1': 3.0, 'input_column_1_input_...  \n",
       "3  {'input_column_1': 4.0, 'input_column_1_input_...  \n",
       "4  {'input_column_1': 5.0, 'input_column_1_input_...  \n",
       "5  {'input_column_1': 6.0, 'input_column_1_input_...  \n",
       "6  {'input_column_1': 7.0, 'input_column_1_input_...  \n",
       "7  {'input_column_1': 8.0, 'input_column_1_input_...  \n",
       "8  {'input_column_1': 9.0, 'input_column_1_input_...  \n",
       "9  {'input_column_1': 10.0, 'input_column_1_input...  "
      ]
     },
     "execution_count": 635,
     "metadata": {},
     "output_type": "execute_result"
    }
   ],
   "source": [
    "df = bq.query(query = query).to_dataframe()\n",
    "df"
   ]
  },
  {
   "cell_type": "code",
   "execution_count": 636,
   "id": "f2811a56-a2c6-4943-a593-d50624e2f54c",
   "metadata": {},
   "outputs": [
    {
     "data": {
      "text/plain": [
       "{'input_column_1': 10.0,\n",
       " 'input_column_1_input_column_1': 100.0,\n",
       " 'input_column_1_input_column_2': 90.0,\n",
       " 'input_column_2': 9.0,\n",
       " 'input_column_2_input_column_2': 81.0}"
      ]
     },
     "execution_count": 636,
     "metadata": {},
     "output_type": "execute_result"
    }
   ],
   "source": [
    "df['feature_column'].iloc[-1]"
   ]
  },
  {
   "cell_type": "code",
   "execution_count": 637,
   "id": "5f27fb04-6365-4a8e-9ff1-03dd72a6f14d",
   "metadata": {},
   "outputs": [
    {
     "data": {
      "text/html": [
       "<div>\n",
       "<style scoped>\n",
       "    .dataframe tbody tr th:only-of-type {\n",
       "        vertical-align: middle;\n",
       "    }\n",
       "\n",
       "    .dataframe tbody tr th {\n",
       "        vertical-align: top;\n",
       "    }\n",
       "\n",
       "    .dataframe thead th {\n",
       "        text-align: right;\n",
       "    }\n",
       "</style>\n",
       "<table border=\"1\" class=\"dataframe\">\n",
       "  <thead>\n",
       "    <tr style=\"text-align: right;\">\n",
       "      <th></th>\n",
       "      <th>input_column_1</th>\n",
       "      <th>input_column_2</th>\n",
       "      <th>input_column_1</th>\n",
       "      <th>input_column_1_input_column_1</th>\n",
       "      <th>input_column_1_input_column_2</th>\n",
       "      <th>input_column_2</th>\n",
       "      <th>input_column_2_input_column_2</th>\n",
       "    </tr>\n",
       "  </thead>\n",
       "  <tbody>\n",
       "    <tr>\n",
       "      <th>0</th>\n",
       "      <td>1</td>\n",
       "      <td>0</td>\n",
       "      <td>1.0</td>\n",
       "      <td>1.0</td>\n",
       "      <td>0.0</td>\n",
       "      <td>0.0</td>\n",
       "      <td>0.0</td>\n",
       "    </tr>\n",
       "    <tr>\n",
       "      <th>1</th>\n",
       "      <td>2</td>\n",
       "      <td>1</td>\n",
       "      <td>2.0</td>\n",
       "      <td>4.0</td>\n",
       "      <td>2.0</td>\n",
       "      <td>1.0</td>\n",
       "      <td>1.0</td>\n",
       "    </tr>\n",
       "    <tr>\n",
       "      <th>2</th>\n",
       "      <td>3</td>\n",
       "      <td>2</td>\n",
       "      <td>3.0</td>\n",
       "      <td>9.0</td>\n",
       "      <td>6.0</td>\n",
       "      <td>2.0</td>\n",
       "      <td>4.0</td>\n",
       "    </tr>\n",
       "    <tr>\n",
       "      <th>3</th>\n",
       "      <td>4</td>\n",
       "      <td>3</td>\n",
       "      <td>4.0</td>\n",
       "      <td>16.0</td>\n",
       "      <td>12.0</td>\n",
       "      <td>3.0</td>\n",
       "      <td>9.0</td>\n",
       "    </tr>\n",
       "    <tr>\n",
       "      <th>4</th>\n",
       "      <td>5</td>\n",
       "      <td>4</td>\n",
       "      <td>5.0</td>\n",
       "      <td>25.0</td>\n",
       "      <td>20.0</td>\n",
       "      <td>4.0</td>\n",
       "      <td>16.0</td>\n",
       "    </tr>\n",
       "    <tr>\n",
       "      <th>5</th>\n",
       "      <td>6</td>\n",
       "      <td>5</td>\n",
       "      <td>6.0</td>\n",
       "      <td>36.0</td>\n",
       "      <td>30.0</td>\n",
       "      <td>5.0</td>\n",
       "      <td>25.0</td>\n",
       "    </tr>\n",
       "    <tr>\n",
       "      <th>6</th>\n",
       "      <td>7</td>\n",
       "      <td>6</td>\n",
       "      <td>7.0</td>\n",
       "      <td>49.0</td>\n",
       "      <td>42.0</td>\n",
       "      <td>6.0</td>\n",
       "      <td>36.0</td>\n",
       "    </tr>\n",
       "    <tr>\n",
       "      <th>7</th>\n",
       "      <td>8</td>\n",
       "      <td>7</td>\n",
       "      <td>8.0</td>\n",
       "      <td>64.0</td>\n",
       "      <td>56.0</td>\n",
       "      <td>7.0</td>\n",
       "      <td>49.0</td>\n",
       "    </tr>\n",
       "    <tr>\n",
       "      <th>8</th>\n",
       "      <td>9</td>\n",
       "      <td>8</td>\n",
       "      <td>9.0</td>\n",
       "      <td>81.0</td>\n",
       "      <td>72.0</td>\n",
       "      <td>8.0</td>\n",
       "      <td>64.0</td>\n",
       "    </tr>\n",
       "    <tr>\n",
       "      <th>9</th>\n",
       "      <td>10</td>\n",
       "      <td>9</td>\n",
       "      <td>10.0</td>\n",
       "      <td>100.0</td>\n",
       "      <td>90.0</td>\n",
       "      <td>9.0</td>\n",
       "      <td>81.0</td>\n",
       "    </tr>\n",
       "  </tbody>\n",
       "</table>\n",
       "</div>"
      ],
      "text/plain": [
       "   input_column_1  input_column_2  input_column_1  \\\n",
       "0               1               0             1.0   \n",
       "1               2               1             2.0   \n",
       "2               3               2             3.0   \n",
       "3               4               3             4.0   \n",
       "4               5               4             5.0   \n",
       "5               6               5             6.0   \n",
       "6               7               6             7.0   \n",
       "7               8               7             8.0   \n",
       "8               9               8             9.0   \n",
       "9              10               9            10.0   \n",
       "\n",
       "   input_column_1_input_column_1  input_column_1_input_column_2  \\\n",
       "0                            1.0                            0.0   \n",
       "1                            4.0                            2.0   \n",
       "2                            9.0                            6.0   \n",
       "3                           16.0                           12.0   \n",
       "4                           25.0                           20.0   \n",
       "5                           36.0                           30.0   \n",
       "6                           49.0                           42.0   \n",
       "7                           64.0                           56.0   \n",
       "8                           81.0                           72.0   \n",
       "9                          100.0                           90.0   \n",
       "\n",
       "   input_column_2  input_column_2_input_column_2  \n",
       "0             0.0                            0.0  \n",
       "1             1.0                            1.0  \n",
       "2             2.0                            4.0  \n",
       "3             3.0                            9.0  \n",
       "4             4.0                           16.0  \n",
       "5             5.0                           25.0  \n",
       "6             6.0                           36.0  \n",
       "7             7.0                           49.0  \n",
       "8             8.0                           64.0  \n",
       "9             9.0                           81.0  "
      ]
     },
     "execution_count": 637,
     "metadata": {},
     "output_type": "execute_result"
    }
   ],
   "source": [
    "pd.concat([df[['input_column_1', 'input_column_2']], df['feature_column'].apply(pd.Series)], axis=1)"
   ]
  },
  {
   "cell_type": "markdown",
   "id": "719210f5-96e3-474c-8fc3-e6e44d75d678",
   "metadata": {},
   "source": [
    "#### ML.FEATURE_CROSS\n",
    "\n",
    "Given a STRUCT of categorial features this returns a STRUCT of all combinations up to the degree passed-in (default = 2).\n",
    "- [Reference](https://cloud.google.com/bigquery-ml/docs/reference/standard-sql/bigqueryml-preprocessing-functions#mlfeature_cross)"
   ]
  },
  {
   "cell_type": "code",
   "execution_count": 491,
   "id": "3a0e4408-5557-4410-8079-da8dec625ef4",
   "metadata": {},
   "outputs": [
    {
     "name": "stdout",
     "output_type": "stream",
     "text": [
      "\n",
      "    SELECT\n",
      "        input_column_1, input_column_2, input_column_3,\n",
      "        ML.FEATURE_CROSS(STRUCT(input_column_1, input_column_2, input_column_3)) AS feature_column\n",
      "    FROM\n",
      "        UNNEST(['a', 'b', 'c']) as input_column_1 WITH OFFSET pos1,\n",
      "        UNNEST(['A', 'B', 'C']) AS input_column_2 WITH OFFSET pos2,\n",
      "        UNNEST(['1', '2', '3']) AS input_column_3 WITH OFFSET pos3\n",
      "    WHERE\n",
      "        pos1 = pos2 AND pos2 = pos3\n",
      "\n"
     ]
    }
   ],
   "source": [
    "query = f\"\"\"\n",
    "    SELECT\n",
    "        input_column_1, input_column_2, input_column_3,\n",
    "        ML.FEATURE_CROSS(STRUCT(input_column_1, input_column_2, input_column_3)) AS feature_column\n",
    "    FROM\n",
    "        UNNEST(['a', 'b', 'c']) as input_column_1 WITH OFFSET pos1,\n",
    "        UNNEST(['A', 'B', 'C']) AS input_column_2 WITH OFFSET pos2,\n",
    "        UNNEST(['1', '2', '3']) AS input_column_3 WITH OFFSET pos3\n",
    "    WHERE\n",
    "        pos1 = pos2 AND pos2 = pos3\n",
    "\"\"\"\n",
    "print(query)"
   ]
  },
  {
   "cell_type": "code",
   "execution_count": 492,
   "id": "723b5274-37e6-4a51-a7f1-a6c80b3832cf",
   "metadata": {},
   "outputs": [
    {
     "data": {
      "text/html": [
       "<div>\n",
       "<style scoped>\n",
       "    .dataframe tbody tr th:only-of-type {\n",
       "        vertical-align: middle;\n",
       "    }\n",
       "\n",
       "    .dataframe tbody tr th {\n",
       "        vertical-align: top;\n",
       "    }\n",
       "\n",
       "    .dataframe thead th {\n",
       "        text-align: right;\n",
       "    }\n",
       "</style>\n",
       "<table border=\"1\" class=\"dataframe\">\n",
       "  <thead>\n",
       "    <tr style=\"text-align: right;\">\n",
       "      <th></th>\n",
       "      <th>input_column_1</th>\n",
       "      <th>input_column_2</th>\n",
       "      <th>input_column_3</th>\n",
       "      <th>feature_column</th>\n",
       "    </tr>\n",
       "  </thead>\n",
       "  <tbody>\n",
       "    <tr>\n",
       "      <th>0</th>\n",
       "      <td>a</td>\n",
       "      <td>A</td>\n",
       "      <td>1</td>\n",
       "      <td>{'input_column_1_input_column_2': 'a_A', 'inpu...</td>\n",
       "    </tr>\n",
       "    <tr>\n",
       "      <th>1</th>\n",
       "      <td>b</td>\n",
       "      <td>B</td>\n",
       "      <td>2</td>\n",
       "      <td>{'input_column_1_input_column_2': 'b_B', 'inpu...</td>\n",
       "    </tr>\n",
       "    <tr>\n",
       "      <th>2</th>\n",
       "      <td>c</td>\n",
       "      <td>C</td>\n",
       "      <td>3</td>\n",
       "      <td>{'input_column_1_input_column_2': 'c_C', 'inpu...</td>\n",
       "    </tr>\n",
       "  </tbody>\n",
       "</table>\n",
       "</div>"
      ],
      "text/plain": [
       "  input_column_1 input_column_2 input_column_3  \\\n",
       "0              a              A              1   \n",
       "1              b              B              2   \n",
       "2              c              C              3   \n",
       "\n",
       "                                      feature_column  \n",
       "0  {'input_column_1_input_column_2': 'a_A', 'inpu...  \n",
       "1  {'input_column_1_input_column_2': 'b_B', 'inpu...  \n",
       "2  {'input_column_1_input_column_2': 'c_C', 'inpu...  "
      ]
     },
     "execution_count": 492,
     "metadata": {},
     "output_type": "execute_result"
    }
   ],
   "source": [
    "df = bq.query(query = query).to_dataframe()\n",
    "df"
   ]
  },
  {
   "cell_type": "code",
   "execution_count": 494,
   "id": "67f28780-393e-4fc9-af48-f1fea9b8f535",
   "metadata": {},
   "outputs": [
    {
     "data": {
      "text/plain": [
       "{'input_column_1_input_column_2': 'c_C',\n",
       " 'input_column_1_input_column_3': 'c_3',\n",
       " 'input_column_2_input_column_3': 'C_3'}"
      ]
     },
     "execution_count": 494,
     "metadata": {},
     "output_type": "execute_result"
    }
   ],
   "source": [
    "df['feature_column'].iloc[-1]"
   ]
  },
  {
   "cell_type": "markdown",
   "id": "d6a3da03-be5d-4729-b48a-07b4ed2debf2",
   "metadata": {},
   "source": [
    "#### ML.NGRAMS\n",
    "\n",
    "Given an array of strings returns an array of merged inputs strings for the ranges provided.\n",
    "- [Reference](https://cloud.google.com/bigquery-ml/docs/reference/standard-sql/bigqueryml-preprocessing-functions#mlngrams)\n",
    "- Is exportabled when used in `TRANFORM` clause"
   ]
  },
  {
   "cell_type": "code",
   "execution_count": 501,
   "id": "9558897f-c9ae-4f15-a06c-6d16bc3f78db",
   "metadata": {},
   "outputs": [
    {
     "name": "stdout",
     "output_type": "stream",
     "text": [
      "\n",
      "    SELECT\n",
      "        input_column,\n",
      "        ML.NGRAMS(input_column, [2, 4]) AS ngram_column\n",
      "    FROM\n",
      "        (SELECT ['a', 'b', 'c', 'd'] as input_column)\n",
      "\n"
     ]
    }
   ],
   "source": [
    "query = f\"\"\"\n",
    "    SELECT\n",
    "        input_column,\n",
    "        ML.NGRAMS(input_column, [2, 4]) AS ngram_column\n",
    "    FROM\n",
    "        (SELECT ['a', 'b', 'c', 'd'] as input_column)\n",
    "\"\"\"\n",
    "print(query)"
   ]
  },
  {
   "cell_type": "code",
   "execution_count": 502,
   "id": "dfee0cad-f37d-4959-b7dd-55208c3dced1",
   "metadata": {},
   "outputs": [
    {
     "data": {
      "text/html": [
       "<div>\n",
       "<style scoped>\n",
       "    .dataframe tbody tr th:only-of-type {\n",
       "        vertical-align: middle;\n",
       "    }\n",
       "\n",
       "    .dataframe tbody tr th {\n",
       "        vertical-align: top;\n",
       "    }\n",
       "\n",
       "    .dataframe thead th {\n",
       "        text-align: right;\n",
       "    }\n",
       "</style>\n",
       "<table border=\"1\" class=\"dataframe\">\n",
       "  <thead>\n",
       "    <tr style=\"text-align: right;\">\n",
       "      <th></th>\n",
       "      <th>input_column</th>\n",
       "      <th>ngram_column</th>\n",
       "    </tr>\n",
       "  </thead>\n",
       "  <tbody>\n",
       "    <tr>\n",
       "      <th>0</th>\n",
       "      <td>[a, b, c, d]</td>\n",
       "      <td>[a b, a b c, a b c d, b c, b c d, c d]</td>\n",
       "    </tr>\n",
       "  </tbody>\n",
       "</table>\n",
       "</div>"
      ],
      "text/plain": [
       "   input_column                            ngram_column\n",
       "0  [a, b, c, d]  [a b, a b c, a b c d, b c, b c d, c d]"
      ]
     },
     "execution_count": 502,
     "metadata": {},
     "output_type": "execute_result"
    }
   ],
   "source": [
    "df = bq.query(query = query).to_dataframe()\n",
    "df"
   ]
  },
  {
   "cell_type": "code",
   "execution_count": 503,
   "id": "a8e898aa-dba4-4126-ac9a-792dced4a41f",
   "metadata": {},
   "outputs": [
    {
     "data": {
      "text/plain": [
       "input_column                              [a, b, c, d]\n",
       "ngram_column    [a b, a b c, a b c d, b c, b c d, c d]\n",
       "Name: 0, dtype: object"
      ]
     },
     "execution_count": 503,
     "metadata": {},
     "output_type": "execute_result"
    }
   ],
   "source": [
    "df.iloc[-1]"
   ]
  },
  {
   "cell_type": "markdown",
   "id": "dfc2d3c3-519f-4536-b475-a1250d6db091",
   "metadata": {},
   "source": [
    "#### ML.QUANTILE_BUCKATIZE\n",
    "\n",
    "Given a column of numerical values this function creates a new column with bucketed values named with the value of the quantile based on the input number of buckets.\n",
    "- [Reference](https://cloud.google.com/bigquery-ml/docs/reference/standard-sql/bigqueryml-preprocessing-functions#quantile_bucketize)\n",
    "- Is exportable when used in `TRANSFORM` clause"
   ]
  },
  {
   "cell_type": "code",
   "execution_count": 510,
   "id": "7bd93b7c-2e3c-4cdf-8927-e7675a909ebc",
   "metadata": {},
   "outputs": [
    {
     "name": "stdout",
     "output_type": "stream",
     "text": [
      "\n",
      "    SELECT\n",
      "        input_column,\n",
      "        ML.QUANTILE_BUCKETIZE(input_column, 2) OVER() AS feature_column\n",
      "    FROM\n",
      "        UNNEST([1, 1, 1, 2, 2, 3, 3, 3]) as input_column\n",
      "    ORDER BY input_column\n",
      "\n"
     ]
    }
   ],
   "source": [
    "query = f\"\"\"\n",
    "    SELECT\n",
    "        input_column,\n",
    "        ML.QUANTILE_BUCKETIZE(input_column, 2) OVER() AS feature_column\n",
    "    FROM\n",
    "        UNNEST([1, 1, 1, 2, 2, 3, 3, 3]) as input_column\n",
    "    ORDER BY input_column\n",
    "\"\"\"\n",
    "print(query)"
   ]
  },
  {
   "cell_type": "code",
   "execution_count": 511,
   "id": "dc5d6ef7-cf69-4a5f-b3e9-52dacb54c0c7",
   "metadata": {},
   "outputs": [
    {
     "data": {
      "text/html": [
       "<div>\n",
       "<style scoped>\n",
       "    .dataframe tbody tr th:only-of-type {\n",
       "        vertical-align: middle;\n",
       "    }\n",
       "\n",
       "    .dataframe tbody tr th {\n",
       "        vertical-align: top;\n",
       "    }\n",
       "\n",
       "    .dataframe thead th {\n",
       "        text-align: right;\n",
       "    }\n",
       "</style>\n",
       "<table border=\"1\" class=\"dataframe\">\n",
       "  <thead>\n",
       "    <tr style=\"text-align: right;\">\n",
       "      <th></th>\n",
       "      <th>input_column</th>\n",
       "      <th>feature_column</th>\n",
       "    </tr>\n",
       "  </thead>\n",
       "  <tbody>\n",
       "    <tr>\n",
       "      <th>0</th>\n",
       "      <td>1</td>\n",
       "      <td>bin_1</td>\n",
       "    </tr>\n",
       "    <tr>\n",
       "      <th>1</th>\n",
       "      <td>1</td>\n",
       "      <td>bin_1</td>\n",
       "    </tr>\n",
       "    <tr>\n",
       "      <th>2</th>\n",
       "      <td>1</td>\n",
       "      <td>bin_1</td>\n",
       "    </tr>\n",
       "    <tr>\n",
       "      <th>3</th>\n",
       "      <td>2</td>\n",
       "      <td>bin_2</td>\n",
       "    </tr>\n",
       "    <tr>\n",
       "      <th>4</th>\n",
       "      <td>2</td>\n",
       "      <td>bin_2</td>\n",
       "    </tr>\n",
       "    <tr>\n",
       "      <th>5</th>\n",
       "      <td>3</td>\n",
       "      <td>bin_2</td>\n",
       "    </tr>\n",
       "    <tr>\n",
       "      <th>6</th>\n",
       "      <td>3</td>\n",
       "      <td>bin_2</td>\n",
       "    </tr>\n",
       "    <tr>\n",
       "      <th>7</th>\n",
       "      <td>3</td>\n",
       "      <td>bin_2</td>\n",
       "    </tr>\n",
       "  </tbody>\n",
       "</table>\n",
       "</div>"
      ],
      "text/plain": [
       "   input_column feature_column\n",
       "0             1          bin_1\n",
       "1             1          bin_1\n",
       "2             1          bin_1\n",
       "3             2          bin_2\n",
       "4             2          bin_2\n",
       "5             3          bin_2\n",
       "6             3          bin_2\n",
       "7             3          bin_2"
      ]
     },
     "execution_count": 511,
     "metadata": {},
     "output_type": "execute_result"
    }
   ],
   "source": [
    "df = bq.query(query = query).to_dataframe()\n",
    "df"
   ]
  },
  {
   "cell_type": "markdown",
   "id": "5ec75312-e315-47e5-bbad-ebca4b8cee39",
   "metadata": {},
   "source": [
    "#### ML.HASH_BUCKATIZE\n",
    "\n",
    "Given a column of string values this function will hash the values as a new column.  If a bucket size > 0 provided it will take the mod of the hash: remainder of the hash divided by bucket size as the bucket number.\n",
    "- [Reference](https://cloud.google.com/bigquery-ml/docs/reference/standard-sql/bigqueryml-preprocessing-functions#hash_bucketize)\n",
    "- Is exportabled when used in `TRANFORM` clause"
   ]
  },
  {
   "cell_type": "code",
   "execution_count": 513,
   "id": "016c70d7-be6e-4235-8700-56a76365bdde",
   "metadata": {},
   "outputs": [
    {
     "name": "stdout",
     "output_type": "stream",
     "text": [
      "\n",
      "    SELECT\n",
      "        input_column,\n",
      "        ML.HASH_BUCKETIZE(input_column, 0) AS hash_column,\n",
      "        ML.HASH_BUCKETIZE(input_column, 3) AS feature_column\n",
      "    FROM\n",
      "        UNNEST(['a', 'b', 'c', 'd', 'e', 'f', 'g', 'h', 'i']) as input_column\n",
      "\n"
     ]
    }
   ],
   "source": [
    "query = f\"\"\"\n",
    "    SELECT\n",
    "        input_column,\n",
    "        ML.HASH_BUCKETIZE(input_column, 0) AS hash_column,\n",
    "        ML.HASH_BUCKETIZE(input_column, 3) AS feature_column\n",
    "    FROM\n",
    "        UNNEST(['a', 'b', 'c', 'd', 'e', 'f', 'g', 'h', 'i']) as input_column\n",
    "\"\"\"\n",
    "print(query)"
   ]
  },
  {
   "cell_type": "code",
   "execution_count": 514,
   "id": "524d1450-1cb6-4ce3-b4fd-010b0674755f",
   "metadata": {},
   "outputs": [
    {
     "data": {
      "text/html": [
       "<div>\n",
       "<style scoped>\n",
       "    .dataframe tbody tr th:only-of-type {\n",
       "        vertical-align: middle;\n",
       "    }\n",
       "\n",
       "    .dataframe tbody tr th {\n",
       "        vertical-align: top;\n",
       "    }\n",
       "\n",
       "    .dataframe thead th {\n",
       "        text-align: right;\n",
       "    }\n",
       "</style>\n",
       "<table border=\"1\" class=\"dataframe\">\n",
       "  <thead>\n",
       "    <tr style=\"text-align: right;\">\n",
       "      <th></th>\n",
       "      <th>input_column</th>\n",
       "      <th>hash_column</th>\n",
       "      <th>feature_column</th>\n",
       "    </tr>\n",
       "  </thead>\n",
       "  <tbody>\n",
       "    <tr>\n",
       "      <th>0</th>\n",
       "      <td>a</td>\n",
       "      <td>-5528939962900187677</td>\n",
       "      <td>0</td>\n",
       "    </tr>\n",
       "    <tr>\n",
       "      <th>1</th>\n",
       "      <td>b</td>\n",
       "      <td>-6651148003232386794</td>\n",
       "      <td>1</td>\n",
       "    </tr>\n",
       "    <tr>\n",
       "      <th>2</th>\n",
       "      <td>c</td>\n",
       "      <td>-7016299626566550744</td>\n",
       "      <td>1</td>\n",
       "    </tr>\n",
       "    <tr>\n",
       "      <th>3</th>\n",
       "      <td>d</td>\n",
       "      <td>4470636696479570465</td>\n",
       "      <td>2</td>\n",
       "    </tr>\n",
       "    <tr>\n",
       "      <th>4</th>\n",
       "      <td>e</td>\n",
       "      <td>-3078673838733201075</td>\n",
       "      <td>1</td>\n",
       "    </tr>\n",
       "    <tr>\n",
       "      <th>5</th>\n",
       "      <td>f</td>\n",
       "      <td>-1522288349254903624</td>\n",
       "      <td>0</td>\n",
       "    </tr>\n",
       "    <tr>\n",
       "      <th>6</th>\n",
       "      <td>g</td>\n",
       "      <td>4940667224093463419</td>\n",
       "      <td>2</td>\n",
       "    </tr>\n",
       "    <tr>\n",
       "      <th>7</th>\n",
       "      <td>h</td>\n",
       "      <td>-2585402310428948559</td>\n",
       "      <td>1</td>\n",
       "    </tr>\n",
       "    <tr>\n",
       "      <th>8</th>\n",
       "      <td>i</td>\n",
       "      <td>-9189916281559197516</td>\n",
       "      <td>1</td>\n",
       "    </tr>\n",
       "  </tbody>\n",
       "</table>\n",
       "</div>"
      ],
      "text/plain": [
       "  input_column          hash_column  feature_column\n",
       "0            a -5528939962900187677               0\n",
       "1            b -6651148003232386794               1\n",
       "2            c -7016299626566550744               1\n",
       "3            d  4470636696479570465               2\n",
       "4            e -3078673838733201075               1\n",
       "5            f -1522288349254903624               0\n",
       "6            g  4940667224093463419               2\n",
       "7            h -2585402310428948559               1\n",
       "8            i -9189916281559197516               1"
      ]
     },
     "execution_count": 514,
     "metadata": {},
     "output_type": "execute_result"
    }
   ],
   "source": [
    "df = bq.query(query = query).to_dataframe()\n",
    "df"
   ]
  },
  {
   "cell_type": "markdown",
   "id": "39dea489-84cc-455c-9380-98467dd859e3",
   "metadata": {},
   "source": [
    "#### ML.MIN_MAX_SCALER\n",
    "\n",
    "Given a column of numerical value this function will scale the value to the range [0, 1] and cap data at either 0 or 1.  When used with the `TRANSFORM` statement of a `CREATE MODEL` this will also apply to `ML.PREDICT` and cap inputs to 0 or 1.\n",
    "- [Reference](https://cloud.google.com/bigquery-ml/docs/reference/standard-sql/bigqueryml-preprocessing-functions#mlmin_max_scaler)\n",
    "- Is exportabled when used in `TRANFORM` clause"
   ]
  },
  {
   "cell_type": "code",
   "execution_count": 519,
   "id": "841b75b5-abb2-4371-aa55-efabfdf14769",
   "metadata": {},
   "outputs": [
    {
     "name": "stdout",
     "output_type": "stream",
     "text": [
      "\n",
      "    SELECT\n",
      "        input_column,\n",
      "        ML.MIN_MAX_SCALER(input_column) OVER() AS feature_column\n",
      "    FROM\n",
      "        UNNEST([0, 1, 2, 3, 4, 5, 6, 7, 8, 9, 10]) as input_column\n",
      "    ORDER BY input_column\n",
      "\n"
     ]
    }
   ],
   "source": [
    "query = f\"\"\"\n",
    "    SELECT\n",
    "        input_column,\n",
    "        ML.MIN_MAX_SCALER(input_column) OVER() AS feature_column\n",
    "    FROM\n",
    "        UNNEST([0, 1, 2, 3, 4, 5, 6, 7, 8, 9, 10]) as input_column\n",
    "    ORDER BY input_column\n",
    "\"\"\"\n",
    "print(query)"
   ]
  },
  {
   "cell_type": "code",
   "execution_count": 520,
   "id": "f4bedad2-e0b9-4ff2-9d1f-f0b9e569a967",
   "metadata": {},
   "outputs": [
    {
     "data": {
      "text/html": [
       "<div>\n",
       "<style scoped>\n",
       "    .dataframe tbody tr th:only-of-type {\n",
       "        vertical-align: middle;\n",
       "    }\n",
       "\n",
       "    .dataframe tbody tr th {\n",
       "        vertical-align: top;\n",
       "    }\n",
       "\n",
       "    .dataframe thead th {\n",
       "        text-align: right;\n",
       "    }\n",
       "</style>\n",
       "<table border=\"1\" class=\"dataframe\">\n",
       "  <thead>\n",
       "    <tr style=\"text-align: right;\">\n",
       "      <th></th>\n",
       "      <th>input_column</th>\n",
       "      <th>feature_column</th>\n",
       "    </tr>\n",
       "  </thead>\n",
       "  <tbody>\n",
       "    <tr>\n",
       "      <th>0</th>\n",
       "      <td>0</td>\n",
       "      <td>0.0</td>\n",
       "    </tr>\n",
       "    <tr>\n",
       "      <th>1</th>\n",
       "      <td>1</td>\n",
       "      <td>0.1</td>\n",
       "    </tr>\n",
       "    <tr>\n",
       "      <th>2</th>\n",
       "      <td>2</td>\n",
       "      <td>0.2</td>\n",
       "    </tr>\n",
       "    <tr>\n",
       "      <th>3</th>\n",
       "      <td>3</td>\n",
       "      <td>0.3</td>\n",
       "    </tr>\n",
       "    <tr>\n",
       "      <th>4</th>\n",
       "      <td>4</td>\n",
       "      <td>0.4</td>\n",
       "    </tr>\n",
       "    <tr>\n",
       "      <th>5</th>\n",
       "      <td>5</td>\n",
       "      <td>0.5</td>\n",
       "    </tr>\n",
       "    <tr>\n",
       "      <th>6</th>\n",
       "      <td>6</td>\n",
       "      <td>0.6</td>\n",
       "    </tr>\n",
       "    <tr>\n",
       "      <th>7</th>\n",
       "      <td>7</td>\n",
       "      <td>0.7</td>\n",
       "    </tr>\n",
       "    <tr>\n",
       "      <th>8</th>\n",
       "      <td>8</td>\n",
       "      <td>0.8</td>\n",
       "    </tr>\n",
       "    <tr>\n",
       "      <th>9</th>\n",
       "      <td>9</td>\n",
       "      <td>0.9</td>\n",
       "    </tr>\n",
       "    <tr>\n",
       "      <th>10</th>\n",
       "      <td>10</td>\n",
       "      <td>1.0</td>\n",
       "    </tr>\n",
       "  </tbody>\n",
       "</table>\n",
       "</div>"
      ],
      "text/plain": [
       "    input_column  feature_column\n",
       "0              0             0.0\n",
       "1              1             0.1\n",
       "2              2             0.2\n",
       "3              3             0.3\n",
       "4              4             0.4\n",
       "5              5             0.5\n",
       "6              6             0.6\n",
       "7              7             0.7\n",
       "8              8             0.8\n",
       "9              9             0.9\n",
       "10            10             1.0"
      ]
     },
     "execution_count": 520,
     "metadata": {},
     "output_type": "execute_result"
    }
   ],
   "source": [
    "df = bq.query(query = query).to_dataframe()\n",
    "df"
   ]
  },
  {
   "cell_type": "markdown",
   "id": "63141a22-785d-45c0-9595-d5d31896f998",
   "metadata": {},
   "source": [
    "#### ML.STANDARD_SCALER\n",
    "\n",
    "Given a column of numerical value this function will standardize the values by subtracting the `AVG` and dividing by the `STDDEV`.  When used with the `TRANSFORM` statement of a `CREATE MODEL` this will also apply to `ML.PREDICT` and use the same values for `AVG` and `STDDEV`.\n",
    "- [Reference](https://cloud.google.com/bigquery-ml/docs/reference/standard-sql/bigqueryml-preprocessing-functions#mlstandard_scaler)\n",
    "- Is exportabled when used in `TRANFORM` clause"
   ]
  },
  {
   "cell_type": "code",
   "execution_count": 526,
   "id": "d0d77c0f-92c7-4936-940a-80fdbbdc08b2",
   "metadata": {},
   "outputs": [
    {
     "name": "stdout",
     "output_type": "stream",
     "text": [
      "\n",
      "    SELECT\n",
      "        input_column,\n",
      "        CAST((input_column - AVG(input_column) OVER()) / STDDEV(input_column) OVER() AS FLOAT64) AS manual_column,\n",
      "        ML.STANDARD_SCALER(input_column) OVER() AS feature_column\n",
      "    FROM\n",
      "        UNNEST([0, 1, 2, 3, 4, 5, 6, 7, 8, 9, 10]) as input_column\n",
      "    ORDER BY input_column\n",
      "\n"
     ]
    }
   ],
   "source": [
    "query = f\"\"\"\n",
    "    SELECT\n",
    "        input_column,\n",
    "        CAST((input_column - AVG(input_column) OVER()) / STDDEV(input_column) OVER() AS FLOAT64) AS manual_column,\n",
    "        ML.STANDARD_SCALER(input_column) OVER() AS feature_column\n",
    "    FROM\n",
    "        UNNEST([0, 1, 2, 3, 4, 5, 6, 7, 8, 9, 10]) as input_column\n",
    "    ORDER BY input_column\n",
    "\"\"\"\n",
    "print(query)"
   ]
  },
  {
   "cell_type": "code",
   "execution_count": 527,
   "id": "c5d40f4c-2b28-48a9-abd6-fd11be7e623a",
   "metadata": {},
   "outputs": [
    {
     "data": {
      "text/html": [
       "<div>\n",
       "<style scoped>\n",
       "    .dataframe tbody tr th:only-of-type {\n",
       "        vertical-align: middle;\n",
       "    }\n",
       "\n",
       "    .dataframe tbody tr th {\n",
       "        vertical-align: top;\n",
       "    }\n",
       "\n",
       "    .dataframe thead th {\n",
       "        text-align: right;\n",
       "    }\n",
       "</style>\n",
       "<table border=\"1\" class=\"dataframe\">\n",
       "  <thead>\n",
       "    <tr style=\"text-align: right;\">\n",
       "      <th></th>\n",
       "      <th>input_column</th>\n",
       "      <th>manual_column</th>\n",
       "      <th>feature_column</th>\n",
       "    </tr>\n",
       "  </thead>\n",
       "  <tbody>\n",
       "    <tr>\n",
       "      <th>0</th>\n",
       "      <td>0</td>\n",
       "      <td>-1.507557</td>\n",
       "      <td>-1.507557</td>\n",
       "    </tr>\n",
       "    <tr>\n",
       "      <th>1</th>\n",
       "      <td>1</td>\n",
       "      <td>-1.206045</td>\n",
       "      <td>-1.206045</td>\n",
       "    </tr>\n",
       "    <tr>\n",
       "      <th>2</th>\n",
       "      <td>2</td>\n",
       "      <td>-0.904534</td>\n",
       "      <td>-0.904534</td>\n",
       "    </tr>\n",
       "    <tr>\n",
       "      <th>3</th>\n",
       "      <td>3</td>\n",
       "      <td>-0.603023</td>\n",
       "      <td>-0.603023</td>\n",
       "    </tr>\n",
       "    <tr>\n",
       "      <th>4</th>\n",
       "      <td>4</td>\n",
       "      <td>-0.301511</td>\n",
       "      <td>-0.301511</td>\n",
       "    </tr>\n",
       "    <tr>\n",
       "      <th>5</th>\n",
       "      <td>5</td>\n",
       "      <td>0.000000</td>\n",
       "      <td>0.000000</td>\n",
       "    </tr>\n",
       "    <tr>\n",
       "      <th>6</th>\n",
       "      <td>6</td>\n",
       "      <td>0.301511</td>\n",
       "      <td>0.301511</td>\n",
       "    </tr>\n",
       "    <tr>\n",
       "      <th>7</th>\n",
       "      <td>7</td>\n",
       "      <td>0.603023</td>\n",
       "      <td>0.603023</td>\n",
       "    </tr>\n",
       "    <tr>\n",
       "      <th>8</th>\n",
       "      <td>8</td>\n",
       "      <td>0.904534</td>\n",
       "      <td>0.904534</td>\n",
       "    </tr>\n",
       "    <tr>\n",
       "      <th>9</th>\n",
       "      <td>9</td>\n",
       "      <td>1.206045</td>\n",
       "      <td>1.206045</td>\n",
       "    </tr>\n",
       "    <tr>\n",
       "      <th>10</th>\n",
       "      <td>10</td>\n",
       "      <td>1.507557</td>\n",
       "      <td>1.507557</td>\n",
       "    </tr>\n",
       "  </tbody>\n",
       "</table>\n",
       "</div>"
      ],
      "text/plain": [
       "    input_column  manual_column  feature_column\n",
       "0              0      -1.507557       -1.507557\n",
       "1              1      -1.206045       -1.206045\n",
       "2              2      -0.904534       -0.904534\n",
       "3              3      -0.603023       -0.603023\n",
       "4              4      -0.301511       -0.301511\n",
       "5              5       0.000000        0.000000\n",
       "6              6       0.301511        0.301511\n",
       "7              7       0.603023        0.603023\n",
       "8              8       0.904534        0.904534\n",
       "9              9       1.206045        1.206045\n",
       "10            10       1.507557        1.507557"
      ]
     },
     "execution_count": 527,
     "metadata": {},
     "output_type": "execute_result"
    }
   ],
   "source": [
    "df = bq.query(query = query).to_dataframe()\n",
    "df"
   ]
  },
  {
   "cell_type": "markdown",
   "id": "58691506-7b69-43ce-b33b-013a4f40c411",
   "metadata": {},
   "source": [
    "#### ML.MAX_ABS_SCALER\n",
    "\n",
    "Given a column of numerical value this function will scale the value to the range [-1, 1] by dividing by the maximum absolute value.\n",
    "- [Reference](https://cloud.google.com/bigquery-ml/docs/reference/standard-sql/bigqueryml-preprocessing-functions#mlmax_abs_scaler)\n",
    "- Is exportabled when used in `TRANFORM` clause"
   ]
  },
  {
   "cell_type": "code",
   "execution_count": 528,
   "id": "f961e951-7957-4dc3-9ccc-944490fd049d",
   "metadata": {},
   "outputs": [
    {
     "name": "stdout",
     "output_type": "stream",
     "text": [
      "\n",
      "    SELECT\n",
      "        input_column,\n",
      "        ML.MAX_ABS_SCALER(input_column) OVER() AS feature_column\n",
      "    FROM\n",
      "        UNNEST([0, -1, 2, -3, 4, -5, 6, -7, 8, -9, 10]) as input_column\n",
      "    ORDER BY input_column\n",
      "\n"
     ]
    }
   ],
   "source": [
    "query = f\"\"\"\n",
    "    SELECT\n",
    "        input_column,\n",
    "        ML.MAX_ABS_SCALER(input_column) OVER() AS feature_column\n",
    "    FROM\n",
    "        UNNEST([0, -1, 2, -3, 4, -5, 6, -7, 8, -9, 10]) as input_column\n",
    "    ORDER BY input_column\n",
    "\"\"\"\n",
    "print(query)"
   ]
  },
  {
   "cell_type": "code",
   "execution_count": 529,
   "id": "98c276a6-a8ac-4516-bc3b-a8b8ace3fd37",
   "metadata": {},
   "outputs": [
    {
     "data": {
      "text/html": [
       "<div>\n",
       "<style scoped>\n",
       "    .dataframe tbody tr th:only-of-type {\n",
       "        vertical-align: middle;\n",
       "    }\n",
       "\n",
       "    .dataframe tbody tr th {\n",
       "        vertical-align: top;\n",
       "    }\n",
       "\n",
       "    .dataframe thead th {\n",
       "        text-align: right;\n",
       "    }\n",
       "</style>\n",
       "<table border=\"1\" class=\"dataframe\">\n",
       "  <thead>\n",
       "    <tr style=\"text-align: right;\">\n",
       "      <th></th>\n",
       "      <th>input_column</th>\n",
       "      <th>feature_column</th>\n",
       "    </tr>\n",
       "  </thead>\n",
       "  <tbody>\n",
       "    <tr>\n",
       "      <th>0</th>\n",
       "      <td>-9</td>\n",
       "      <td>-0.9</td>\n",
       "    </tr>\n",
       "    <tr>\n",
       "      <th>1</th>\n",
       "      <td>-7</td>\n",
       "      <td>-0.7</td>\n",
       "    </tr>\n",
       "    <tr>\n",
       "      <th>2</th>\n",
       "      <td>-5</td>\n",
       "      <td>-0.5</td>\n",
       "    </tr>\n",
       "    <tr>\n",
       "      <th>3</th>\n",
       "      <td>-3</td>\n",
       "      <td>-0.3</td>\n",
       "    </tr>\n",
       "    <tr>\n",
       "      <th>4</th>\n",
       "      <td>-1</td>\n",
       "      <td>-0.1</td>\n",
       "    </tr>\n",
       "    <tr>\n",
       "      <th>5</th>\n",
       "      <td>0</td>\n",
       "      <td>0.0</td>\n",
       "    </tr>\n",
       "    <tr>\n",
       "      <th>6</th>\n",
       "      <td>2</td>\n",
       "      <td>0.2</td>\n",
       "    </tr>\n",
       "    <tr>\n",
       "      <th>7</th>\n",
       "      <td>4</td>\n",
       "      <td>0.4</td>\n",
       "    </tr>\n",
       "    <tr>\n",
       "      <th>8</th>\n",
       "      <td>6</td>\n",
       "      <td>0.6</td>\n",
       "    </tr>\n",
       "    <tr>\n",
       "      <th>9</th>\n",
       "      <td>8</td>\n",
       "      <td>0.8</td>\n",
       "    </tr>\n",
       "    <tr>\n",
       "      <th>10</th>\n",
       "      <td>10</td>\n",
       "      <td>1.0</td>\n",
       "    </tr>\n",
       "  </tbody>\n",
       "</table>\n",
       "</div>"
      ],
      "text/plain": [
       "    input_column  feature_column\n",
       "0             -9            -0.9\n",
       "1             -7            -0.7\n",
       "2             -5            -0.5\n",
       "3             -3            -0.3\n",
       "4             -1            -0.1\n",
       "5              0             0.0\n",
       "6              2             0.2\n",
       "7              4             0.4\n",
       "8              6             0.6\n",
       "9              8             0.8\n",
       "10            10             1.0"
      ]
     },
     "execution_count": 529,
     "metadata": {},
     "output_type": "execute_result"
    }
   ],
   "source": [
    "df = bq.query(query = query).to_dataframe()\n",
    "df"
   ]
  },
  {
   "cell_type": "markdown",
   "id": "c342876d-821f-4fe2-9218-f0e147b43507",
   "metadata": {},
   "source": [
    "#### ML.ROBUST_SCALER\n",
    "\n",
    "Given a column of numerical value this function will scale the values to the quantile range: \n",
    "- Specify the quantile range with parameter `quantile_range` which has a default value of `[25, 75]`.\n",
    "- Centering the data by removing (subtracing) the median with the parameter `with_median` which has default value of `TRUE` the removes median before scaling.\n",
    "- Scale to the quantile range with parameter `with_quantile_range` which as a default value of `TRUE`.\n",
    "   \n",
    "Resources:\n",
    "- [Reference](https://cloud.google.com/bigquery-ml/docs/reference/standard-sql/bigqueryml-preprocessing-functions#mlrobust_scaler)\n",
    "- Is exportabled when used in `TRANFORM` clause"
   ]
  },
  {
   "cell_type": "code",
   "execution_count": 530,
   "id": "89687505-d910-4f5a-8be5-5161fddecc16",
   "metadata": {},
   "outputs": [
    {
     "name": "stdout",
     "output_type": "stream",
     "text": [
      "\n",
      "    SELECT\n",
      "        input_column,\n",
      "        ML.ROBUST_SCALER(input_column) OVER() AS feature_column_1,\n",
      "        ML.ROBUST_SCALER(input_column, [25, 75], FALSE, TRUE) OVER() AS feature_column_2,\n",
      "        ML.ROBUST_SCALER(input_column, [25, 75], TRUE, FALSE) OVER() AS feature_column_3\n",
      "    FROM\n",
      "        UNNEST([0, 25, 50, 75, 100]) as input_column\n",
      "    ORDER BY input_column\n",
      "\n"
     ]
    }
   ],
   "source": [
    "query = f\"\"\"\n",
    "    SELECT\n",
    "        input_column,\n",
    "        ML.ROBUST_SCALER(input_column) OVER() AS feature_column_1,\n",
    "        ML.ROBUST_SCALER(input_column, [25, 75], FALSE, TRUE) OVER() AS feature_column_2,\n",
    "        ML.ROBUST_SCALER(input_column, [25, 75], TRUE, FALSE) OVER() AS feature_column_3\n",
    "    FROM\n",
    "        UNNEST([0, 25, 50, 75, 100]) as input_column\n",
    "    ORDER BY input_column\n",
    "\"\"\"\n",
    "print(query)"
   ]
  },
  {
   "cell_type": "code",
   "execution_count": 531,
   "id": "4093f73e-f1e8-4f56-afa8-4fa685a3f470",
   "metadata": {},
   "outputs": [
    {
     "data": {
      "text/html": [
       "<div>\n",
       "<style scoped>\n",
       "    .dataframe tbody tr th:only-of-type {\n",
       "        vertical-align: middle;\n",
       "    }\n",
       "\n",
       "    .dataframe tbody tr th {\n",
       "        vertical-align: top;\n",
       "    }\n",
       "\n",
       "    .dataframe thead th {\n",
       "        text-align: right;\n",
       "    }\n",
       "</style>\n",
       "<table border=\"1\" class=\"dataframe\">\n",
       "  <thead>\n",
       "    <tr style=\"text-align: right;\">\n",
       "      <th></th>\n",
       "      <th>input_column</th>\n",
       "      <th>feature_column_1</th>\n",
       "      <th>feature_column_2</th>\n",
       "      <th>feature_column_3</th>\n",
       "    </tr>\n",
       "  </thead>\n",
       "  <tbody>\n",
       "    <tr>\n",
       "      <th>0</th>\n",
       "      <td>0</td>\n",
       "      <td>-1.0</td>\n",
       "      <td>0.0</td>\n",
       "      <td>-50.0</td>\n",
       "    </tr>\n",
       "    <tr>\n",
       "      <th>1</th>\n",
       "      <td>25</td>\n",
       "      <td>-0.5</td>\n",
       "      <td>0.5</td>\n",
       "      <td>-25.0</td>\n",
       "    </tr>\n",
       "    <tr>\n",
       "      <th>2</th>\n",
       "      <td>50</td>\n",
       "      <td>0.0</td>\n",
       "      <td>1.0</td>\n",
       "      <td>0.0</td>\n",
       "    </tr>\n",
       "    <tr>\n",
       "      <th>3</th>\n",
       "      <td>75</td>\n",
       "      <td>0.5</td>\n",
       "      <td>1.5</td>\n",
       "      <td>25.0</td>\n",
       "    </tr>\n",
       "    <tr>\n",
       "      <th>4</th>\n",
       "      <td>100</td>\n",
       "      <td>1.0</td>\n",
       "      <td>2.0</td>\n",
       "      <td>50.0</td>\n",
       "    </tr>\n",
       "  </tbody>\n",
       "</table>\n",
       "</div>"
      ],
      "text/plain": [
       "   input_column  feature_column_1  feature_column_2  feature_column_3\n",
       "0             0              -1.0               0.0             -50.0\n",
       "1            25              -0.5               0.5             -25.0\n",
       "2            50               0.0               1.0               0.0\n",
       "3            75               0.5               1.5              25.0\n",
       "4           100               1.0               2.0              50.0"
      ]
     },
     "execution_count": 531,
     "metadata": {},
     "output_type": "execute_result"
    }
   ],
   "source": [
    "df = bq.query(query = query).to_dataframe()\n",
    "df"
   ]
  },
  {
   "cell_type": "markdown",
   "id": "e0af0b67-c61a-479f-ac12-9812026a9580",
   "metadata": {},
   "source": [
    "#### ML.NORMALIZER\n",
    "\n",
    "Given a column of numerical arrays this function will normalize the arrays to have unit norm with given p-norm (parameter `p` has default = 2 and takes values 0, +inf, >= 1.\n",
    "- [Reference](https://cloud.google.com/bigquery-ml/docs/reference/standard-sql/bigqueryml-preprocessing-functions#mlnormalizer)"
   ]
  },
  {
   "cell_type": "code",
   "execution_count": 599,
   "id": "4f46e5aa-bf72-4e84-8cc0-3dd62abb0d32",
   "metadata": {},
   "outputs": [
    {
     "name": "stdout",
     "output_type": "stream",
     "text": [
      "\n",
      "    SELECT\n",
      "        input_column,\n",
      "        ML.NORMALIZER(input_column, CAST('inf' as float64)) AS norm_inf,\n",
      "        ML.NORMALIZER(input_column) AS norm_2,\n",
      "        ML.NORMALIZER(input_column, 1) AS norm_1,\n",
      "        ML.NORMALIZER(input_column, 0) AS norm_0\n",
      "    FROM\n",
      "        (SELECT [1, 2, 3, 4, 5] as input_column)\n",
      "\n"
     ]
    }
   ],
   "source": [
    "query = f\"\"\"\n",
    "    SELECT\n",
    "        input_column,\n",
    "        ML.NORMALIZER(input_column, CAST('inf' as float64)) AS norm_inf,\n",
    "        ML.NORMALIZER(input_column) AS norm_2,\n",
    "        ML.NORMALIZER(input_column, 1) AS norm_1,\n",
    "        ML.NORMALIZER(input_column, 0) AS norm_0\n",
    "    FROM\n",
    "        (SELECT [1, 2, 3, 4, 5] as input_column)\n",
    "\"\"\"\n",
    "print(query)"
   ]
  },
  {
   "cell_type": "code",
   "execution_count": 600,
   "id": "d69c20f6-7612-4c70-9eb3-29e72faa0d01",
   "metadata": {},
   "outputs": [
    {
     "data": {
      "text/html": [
       "<div>\n",
       "<style scoped>\n",
       "    .dataframe tbody tr th:only-of-type {\n",
       "        vertical-align: middle;\n",
       "    }\n",
       "\n",
       "    .dataframe tbody tr th {\n",
       "        vertical-align: top;\n",
       "    }\n",
       "\n",
       "    .dataframe thead th {\n",
       "        text-align: right;\n",
       "    }\n",
       "</style>\n",
       "<table border=\"1\" class=\"dataframe\">\n",
       "  <thead>\n",
       "    <tr style=\"text-align: right;\">\n",
       "      <th></th>\n",
       "      <th>input_column</th>\n",
       "      <th>norm_inf</th>\n",
       "      <th>norm_2</th>\n",
       "      <th>norm_1</th>\n",
       "      <th>norm_0</th>\n",
       "    </tr>\n",
       "  </thead>\n",
       "  <tbody>\n",
       "    <tr>\n",
       "      <th>0</th>\n",
       "      <td>[1, 2, 3, 4, 5]</td>\n",
       "      <td>[0.2, 0.4, 0.6, 0.8, 1.0]</td>\n",
       "      <td>[0.13483997249264842, 0.26967994498529685, 0.4...</td>\n",
       "      <td>[0.06666666666666667, 0.13333333333333333, 0.2...</td>\n",
       "      <td>[0.2, 0.4, 0.6, 0.8, 1.0]</td>\n",
       "    </tr>\n",
       "  </tbody>\n",
       "</table>\n",
       "</div>"
      ],
      "text/plain": [
       "      input_column                   norm_inf  \\\n",
       "0  [1, 2, 3, 4, 5]  [0.2, 0.4, 0.6, 0.8, 1.0]   \n",
       "\n",
       "                                              norm_2  \\\n",
       "0  [0.13483997249264842, 0.26967994498529685, 0.4...   \n",
       "\n",
       "                                              norm_1  \\\n",
       "0  [0.06666666666666667, 0.13333333333333333, 0.2...   \n",
       "\n",
       "                      norm_0  \n",
       "0  [0.2, 0.4, 0.6, 0.8, 1.0]  "
      ]
     },
     "execution_count": 600,
     "metadata": {},
     "output_type": "execute_result"
    }
   ],
   "source": [
    "df = bq.query(query = query).to_dataframe()\n",
    "df"
   ]
  },
  {
   "cell_type": "code",
   "execution_count": 628,
   "id": "e2e334a8-8656-4c4b-b859-af08bc808dd7",
   "metadata": {},
   "outputs": [
    {
     "name": "stdout",
     "output_type": "stream",
     "text": [
      "Normalized For Unit Norm with Inf-norm: [0.2 0.4 0.6 0.8 1. ]\n",
      "L^Infinity-Norm: 1.0\n",
      "1.0\n"
     ]
    }
   ],
   "source": [
    "li = df['norm_inf'].iloc[-1]\n",
    "print('Normalized For Unit Norm with Inf-norm:', li)\n",
    "print('L^Infinity-Norm:', np.max(abs(li)))\n",
    "print(np.linalg.norm(li, np.inf))"
   ]
  },
  {
   "cell_type": "code",
   "execution_count": 629,
   "id": "55ae1f17-c332-4825-ae84-9c2c8c1c1a5b",
   "metadata": {},
   "outputs": [
    {
     "name": "stdout",
     "output_type": "stream",
     "text": [
      "Normalized For Unit Norm with 2-norm: [0.13483997 0.26967994 0.40451992 0.53935989 0.67419986]\n",
      "L^2-Norm: 1.0\n",
      "1.0\n"
     ]
    }
   ],
   "source": [
    "l2 = df['norm_2'].iloc[-1]\n",
    "print('Normalized For Unit Norm with 2-norm:', l2)\n",
    "print('L^2-Norm:', np.sqrt(np.sum(l2**2)))\n",
    "print(np.linalg.norm(l2, 2))"
   ]
  },
  {
   "cell_type": "code",
   "execution_count": 630,
   "id": "ed169a80-667c-49dc-b63a-9d72e339dbdd",
   "metadata": {},
   "outputs": [
    {
     "name": "stdout",
     "output_type": "stream",
     "text": [
      "Normalized For Unit Norm with 1-norm: [0.06666667 0.13333333 0.2        0.26666667 0.33333333]\n",
      "L^1-Norm: 1.0\n",
      "1.0\n"
     ]
    }
   ],
   "source": [
    "l1 = df['norm_1'].iloc[-1]\n",
    "print('Normalized For Unit Norm with 1-norm:', l1)\n",
    "print('L^1-Norm:', np.sum(abs(l1)))\n",
    "print(np.linalg.norm(l1, 1))"
   ]
  },
  {
   "cell_type": "code",
   "execution_count": 632,
   "id": "440e6324-5188-44d4-a447-8117f8c7b0c5",
   "metadata": {},
   "outputs": [
    {
     "name": "stdout",
     "output_type": "stream",
     "text": [
      "Normalized For Unit Norm with 0-norm [0.2 0.4 0.6 0.8 1. ]\n"
     ]
    }
   ],
   "source": [
    "l0 = df['norm_0'].iloc[-1]\n",
    "print('Normalized For Unit Norm with 0-norm', l0)\n",
    "#print(np.linalg.norm(l0, 0))"
   ]
  },
  {
   "cell_type": "markdown",
   "id": "a0fd9f08-7bb1-4478-beff-0b01260fbfe5",
   "metadata": {},
   "source": [
    "#### ML.IMPUTER\n",
    "\n",
    "Given a column, numerical or categorical (string), the function replaces `NULL` values with the value specified by the paramter `strategy`:\n",
    "- 'mean' uses the mean (only for numerical columns)\n",
    "- 'median' uses the median (only for numerical columns)\n",
    "- 'most_frequent' uses the mode\n",
    "\n",
    "[Reference](https://cloud.google.com/bigquery-ml/docs/reference/standard-sql/bigqueryml-preprocessing-functions#mlimputer)"
   ]
  },
  {
   "cell_type": "code",
   "execution_count": 573,
   "id": "d36ba039-db49-4c1c-b488-2faf01f89c35",
   "metadata": {},
   "outputs": [
    {
     "name": "stdout",
     "output_type": "stream",
     "text": [
      "\n",
      "    SELECT\n",
      "        num_column,\n",
      "        ML.IMPUTER(num_column, 'mean') OVER() AS num_imputed_mean,\n",
      "        ML.IMPUTER(num_column, 'median') OVER() AS num_imputed_median,\n",
      "        ML.IMPUTER(num_column, 'most_frequent') OVER() AS num_imputed_mode,\n",
      "        string_column,\n",
      "        ML.IMPUTER(string_column, 'most_frequent') OVER() AS string_imputed_mode,\n",
      "    FROM\n",
      "        UNNEST([1, 1, 2, 3, 4, 5, NULL]) AS num_column WITH OFFSET pos1,\n",
      "        UNNEST(['a', 'a', 'b', 'c', 'd', 'e', NULL]) AS string_column WITH OFFSET pos2\n",
      "    WHERE pos1 = pos2\n",
      "    ORDER BY num_column\n",
      "\n"
     ]
    }
   ],
   "source": [
    "query = f\"\"\"\n",
    "    SELECT\n",
    "        num_column,\n",
    "        ML.IMPUTER(num_column, 'mean') OVER() AS num_imputed_mean,\n",
    "        ML.IMPUTER(num_column, 'median') OVER() AS num_imputed_median,\n",
    "        ML.IMPUTER(num_column, 'most_frequent') OVER() AS num_imputed_mode,\n",
    "        string_column,\n",
    "        ML.IMPUTER(string_column, 'most_frequent') OVER() AS string_imputed_mode,\n",
    "    FROM\n",
    "        UNNEST([1, 1, 2, 3, 4, 5, NULL]) AS num_column WITH OFFSET pos1,\n",
    "        UNNEST(['a', 'a', 'b', 'c', 'd', 'e', NULL]) AS string_column WITH OFFSET pos2\n",
    "    WHERE pos1 = pos2\n",
    "    ORDER BY num_column\n",
    "\"\"\"\n",
    "print(query)"
   ]
  },
  {
   "cell_type": "code",
   "execution_count": 574,
   "id": "950b37f7-6db9-4c31-9989-16fb007bdcae",
   "metadata": {},
   "outputs": [
    {
     "data": {
      "text/html": [
       "<div>\n",
       "<style scoped>\n",
       "    .dataframe tbody tr th:only-of-type {\n",
       "        vertical-align: middle;\n",
       "    }\n",
       "\n",
       "    .dataframe tbody tr th {\n",
       "        vertical-align: top;\n",
       "    }\n",
       "\n",
       "    .dataframe thead th {\n",
       "        text-align: right;\n",
       "    }\n",
       "</style>\n",
       "<table border=\"1\" class=\"dataframe\">\n",
       "  <thead>\n",
       "    <tr style=\"text-align: right;\">\n",
       "      <th></th>\n",
       "      <th>num_column</th>\n",
       "      <th>num_imputed_mean</th>\n",
       "      <th>num_imputed_median</th>\n",
       "      <th>num_imputed_mode</th>\n",
       "      <th>string_column</th>\n",
       "      <th>string_imputed_mode</th>\n",
       "    </tr>\n",
       "  </thead>\n",
       "  <tbody>\n",
       "    <tr>\n",
       "      <th>0</th>\n",
       "      <td>NaN</td>\n",
       "      <td>2.666667</td>\n",
       "      <td>2.0</td>\n",
       "      <td>1.0</td>\n",
       "      <td>None</td>\n",
       "      <td>a</td>\n",
       "    </tr>\n",
       "    <tr>\n",
       "      <th>1</th>\n",
       "      <td>1.0</td>\n",
       "      <td>1.000000</td>\n",
       "      <td>1.0</td>\n",
       "      <td>1.0</td>\n",
       "      <td>a</td>\n",
       "      <td>a</td>\n",
       "    </tr>\n",
       "    <tr>\n",
       "      <th>2</th>\n",
       "      <td>1.0</td>\n",
       "      <td>1.000000</td>\n",
       "      <td>1.0</td>\n",
       "      <td>1.0</td>\n",
       "      <td>a</td>\n",
       "      <td>a</td>\n",
       "    </tr>\n",
       "    <tr>\n",
       "      <th>3</th>\n",
       "      <td>2.0</td>\n",
       "      <td>2.000000</td>\n",
       "      <td>2.0</td>\n",
       "      <td>2.0</td>\n",
       "      <td>b</td>\n",
       "      <td>b</td>\n",
       "    </tr>\n",
       "    <tr>\n",
       "      <th>4</th>\n",
       "      <td>3.0</td>\n",
       "      <td>3.000000</td>\n",
       "      <td>3.0</td>\n",
       "      <td>3.0</td>\n",
       "      <td>c</td>\n",
       "      <td>c</td>\n",
       "    </tr>\n",
       "    <tr>\n",
       "      <th>5</th>\n",
       "      <td>4.0</td>\n",
       "      <td>4.000000</td>\n",
       "      <td>4.0</td>\n",
       "      <td>4.0</td>\n",
       "      <td>d</td>\n",
       "      <td>d</td>\n",
       "    </tr>\n",
       "    <tr>\n",
       "      <th>6</th>\n",
       "      <td>5.0</td>\n",
       "      <td>5.000000</td>\n",
       "      <td>5.0</td>\n",
       "      <td>5.0</td>\n",
       "      <td>e</td>\n",
       "      <td>e</td>\n",
       "    </tr>\n",
       "  </tbody>\n",
       "</table>\n",
       "</div>"
      ],
      "text/plain": [
       "   num_column  num_imputed_mean  num_imputed_median  num_imputed_mode  \\\n",
       "0         NaN          2.666667                 2.0               1.0   \n",
       "1         1.0          1.000000                 1.0               1.0   \n",
       "2         1.0          1.000000                 1.0               1.0   \n",
       "3         2.0          2.000000                 2.0               2.0   \n",
       "4         3.0          3.000000                 3.0               3.0   \n",
       "5         4.0          4.000000                 4.0               4.0   \n",
       "6         5.0          5.000000                 5.0               5.0   \n",
       "\n",
       "  string_column string_imputed_mode  \n",
       "0          None                   a  \n",
       "1             a                   a  \n",
       "2             a                   a  \n",
       "3             b                   b  \n",
       "4             c                   c  \n",
       "5             d                   d  \n",
       "6             e                   e  "
      ]
     },
     "execution_count": 574,
     "metadata": {},
     "output_type": "execute_result"
    }
   ],
   "source": [
    "df = bq.query(query = query).to_dataframe()\n",
    "df"
   ]
  },
  {
   "cell_type": "markdown",
   "id": "6488f90b-82a6-4dea-ae92-768138eee81a",
   "metadata": {},
   "source": [
    "#### ML.ONE_HOT_ENCODER\n",
    "\n",
    "Given a string column this function will one-hot encode the values in the column after sorting alphabetically.  Any `NULL` or dropped values will be encoded with `0`.\n",
    "- `drop` takes values 'most_frequent' for dummy encoding or 'none' (default)\n",
    "- `top_k` takes an integer value that specifies the limit on the number of categories to encode based on frequency (default is 1 million, also the max).\n",
    "- `frequency_threshold` takes an integer value that specifies that minimum frequency to be encoded (default = 0)\n",
    "\n",
    "[Reference](https://cloud.google.com/bigquery-ml/docs/reference/standard-sql/bigqueryml-preprocessing-functions#mlone_hot_encoder)"
   ]
  },
  {
   "cell_type": "code",
   "execution_count": 593,
   "id": "95712145-ab1b-44e3-9e3f-d2b7cc5ddc4d",
   "metadata": {},
   "outputs": [
    {
     "name": "stdout",
     "output_type": "stream",
     "text": [
      "\n",
      "    SELECT\n",
      "        input_column,\n",
      "        ML.ONE_HOT_ENCODER(input_column) OVER() AS OHE_1,\n",
      "        ML.ONE_HOT_ENCODER(input_column, 'most_frequent') OVER() AS OHE_2,\n",
      "        ML.ONE_HOT_ENCODER(input_column, 'most_frequent', 3) OVER() AS OHE_3,\n",
      "        ML.ONE_HOT_ENCODER(input_column, 'most_frequent', 3, 3) OVER() AS OHE_4\n",
      "    FROM\n",
      "        UNNEST([NULL, 'a', 'b', 'b', 'c', 'c', 'c', 'd', 'd', 'd', 'd']) AS input_column\n",
      "    ORDER BY input_column\n",
      "\n"
     ]
    }
   ],
   "source": [
    "query = f\"\"\"\n",
    "    SELECT\n",
    "        input_column,\n",
    "        ML.ONE_HOT_ENCODER(input_column) OVER() AS OHE_1,\n",
    "        ML.ONE_HOT_ENCODER(input_column, 'most_frequent') OVER() AS OHE_2,\n",
    "        ML.ONE_HOT_ENCODER(input_column, 'most_frequent', 3) OVER() AS OHE_3,\n",
    "        ML.ONE_HOT_ENCODER(input_column, 'most_frequent', 3, 3) OVER() AS OHE_4\n",
    "    FROM\n",
    "        UNNEST([NULL, 'a', 'b', 'b', 'c', 'c', 'c', 'd', 'd', 'd', 'd']) AS input_column\n",
    "    ORDER BY input_column\n",
    "\"\"\"\n",
    "print(query)"
   ]
  },
  {
   "cell_type": "code",
   "execution_count": 594,
   "id": "505e8594-0f92-4d2e-b89c-ccfa81c246d2",
   "metadata": {},
   "outputs": [
    {
     "data": {
      "text/html": [
       "<div>\n",
       "<style scoped>\n",
       "    .dataframe tbody tr th:only-of-type {\n",
       "        vertical-align: middle;\n",
       "    }\n",
       "\n",
       "    .dataframe tbody tr th {\n",
       "        vertical-align: top;\n",
       "    }\n",
       "\n",
       "    .dataframe thead th {\n",
       "        text-align: right;\n",
       "    }\n",
       "</style>\n",
       "<table border=\"1\" class=\"dataframe\">\n",
       "  <thead>\n",
       "    <tr style=\"text-align: right;\">\n",
       "      <th></th>\n",
       "      <th>input_column</th>\n",
       "      <th>OHE_1</th>\n",
       "      <th>OHE_2</th>\n",
       "      <th>OHE_3</th>\n",
       "      <th>OHE_4</th>\n",
       "    </tr>\n",
       "  </thead>\n",
       "  <tbody>\n",
       "    <tr>\n",
       "      <th>0</th>\n",
       "      <td>None</td>\n",
       "      <td>[{'index': 0, 'value': 1.0}]</td>\n",
       "      <td>[{'index': 0, 'value': 1.0}]</td>\n",
       "      <td>[{'index': 0, 'value': 1.0}]</td>\n",
       "      <td>[{'index': 0, 'value': 1.0}]</td>\n",
       "    </tr>\n",
       "    <tr>\n",
       "      <th>1</th>\n",
       "      <td>a</td>\n",
       "      <td>[{'index': 1, 'value': 1.0}]</td>\n",
       "      <td>[{'index': 1, 'value': 1.0}]</td>\n",
       "      <td>[{'index': 0, 'value': 1.0}]</td>\n",
       "      <td>[{'index': 0, 'value': 1.0}]</td>\n",
       "    </tr>\n",
       "    <tr>\n",
       "      <th>2</th>\n",
       "      <td>b</td>\n",
       "      <td>[{'index': 2, 'value': 1.0}]</td>\n",
       "      <td>[{'index': 2, 'value': 1.0}]</td>\n",
       "      <td>[{'index': 1, 'value': 1.0}]</td>\n",
       "      <td>[{'index': 0, 'value': 1.0}]</td>\n",
       "    </tr>\n",
       "    <tr>\n",
       "      <th>3</th>\n",
       "      <td>b</td>\n",
       "      <td>[{'index': 2, 'value': 1.0}]</td>\n",
       "      <td>[{'index': 2, 'value': 1.0}]</td>\n",
       "      <td>[{'index': 1, 'value': 1.0}]</td>\n",
       "      <td>[{'index': 0, 'value': 1.0}]</td>\n",
       "    </tr>\n",
       "    <tr>\n",
       "      <th>4</th>\n",
       "      <td>c</td>\n",
       "      <td>[{'index': 3, 'value': 1.0}]</td>\n",
       "      <td>[{'index': 3, 'value': 1.0}]</td>\n",
       "      <td>[{'index': 2, 'value': 1.0}]</td>\n",
       "      <td>[{'index': 1, 'value': 1.0}]</td>\n",
       "    </tr>\n",
       "    <tr>\n",
       "      <th>5</th>\n",
       "      <td>c</td>\n",
       "      <td>[{'index': 3, 'value': 1.0}]</td>\n",
       "      <td>[{'index': 3, 'value': 1.0}]</td>\n",
       "      <td>[{'index': 2, 'value': 1.0}]</td>\n",
       "      <td>[{'index': 1, 'value': 1.0}]</td>\n",
       "    </tr>\n",
       "    <tr>\n",
       "      <th>6</th>\n",
       "      <td>c</td>\n",
       "      <td>[{'index': 3, 'value': 1.0}]</td>\n",
       "      <td>[{'index': 3, 'value': 1.0}]</td>\n",
       "      <td>[{'index': 2, 'value': 1.0}]</td>\n",
       "      <td>[{'index': 1, 'value': 1.0}]</td>\n",
       "    </tr>\n",
       "    <tr>\n",
       "      <th>7</th>\n",
       "      <td>d</td>\n",
       "      <td>[{'index': 4, 'value': 1.0}]</td>\n",
       "      <td>[{'index': 4, 'value': 0.0}]</td>\n",
       "      <td>[{'index': 3, 'value': 0.0}]</td>\n",
       "      <td>[{'index': 2, 'value': 0.0}]</td>\n",
       "    </tr>\n",
       "    <tr>\n",
       "      <th>8</th>\n",
       "      <td>d</td>\n",
       "      <td>[{'index': 4, 'value': 1.0}]</td>\n",
       "      <td>[{'index': 4, 'value': 0.0}]</td>\n",
       "      <td>[{'index': 3, 'value': 0.0}]</td>\n",
       "      <td>[{'index': 2, 'value': 0.0}]</td>\n",
       "    </tr>\n",
       "    <tr>\n",
       "      <th>9</th>\n",
       "      <td>d</td>\n",
       "      <td>[{'index': 4, 'value': 1.0}]</td>\n",
       "      <td>[{'index': 4, 'value': 0.0}]</td>\n",
       "      <td>[{'index': 3, 'value': 0.0}]</td>\n",
       "      <td>[{'index': 2, 'value': 0.0}]</td>\n",
       "    </tr>\n",
       "    <tr>\n",
       "      <th>10</th>\n",
       "      <td>d</td>\n",
       "      <td>[{'index': 4, 'value': 1.0}]</td>\n",
       "      <td>[{'index': 4, 'value': 0.0}]</td>\n",
       "      <td>[{'index': 3, 'value': 0.0}]</td>\n",
       "      <td>[{'index': 2, 'value': 0.0}]</td>\n",
       "    </tr>\n",
       "  </tbody>\n",
       "</table>\n",
       "</div>"
      ],
      "text/plain": [
       "   input_column                         OHE_1                         OHE_2  \\\n",
       "0          None  [{'index': 0, 'value': 1.0}]  [{'index': 0, 'value': 1.0}]   \n",
       "1             a  [{'index': 1, 'value': 1.0}]  [{'index': 1, 'value': 1.0}]   \n",
       "2             b  [{'index': 2, 'value': 1.0}]  [{'index': 2, 'value': 1.0}]   \n",
       "3             b  [{'index': 2, 'value': 1.0}]  [{'index': 2, 'value': 1.0}]   \n",
       "4             c  [{'index': 3, 'value': 1.0}]  [{'index': 3, 'value': 1.0}]   \n",
       "5             c  [{'index': 3, 'value': 1.0}]  [{'index': 3, 'value': 1.0}]   \n",
       "6             c  [{'index': 3, 'value': 1.0}]  [{'index': 3, 'value': 1.0}]   \n",
       "7             d  [{'index': 4, 'value': 1.0}]  [{'index': 4, 'value': 0.0}]   \n",
       "8             d  [{'index': 4, 'value': 1.0}]  [{'index': 4, 'value': 0.0}]   \n",
       "9             d  [{'index': 4, 'value': 1.0}]  [{'index': 4, 'value': 0.0}]   \n",
       "10            d  [{'index': 4, 'value': 1.0}]  [{'index': 4, 'value': 0.0}]   \n",
       "\n",
       "                           OHE_3                         OHE_4  \n",
       "0   [{'index': 0, 'value': 1.0}]  [{'index': 0, 'value': 1.0}]  \n",
       "1   [{'index': 0, 'value': 1.0}]  [{'index': 0, 'value': 1.0}]  \n",
       "2   [{'index': 1, 'value': 1.0}]  [{'index': 0, 'value': 1.0}]  \n",
       "3   [{'index': 1, 'value': 1.0}]  [{'index': 0, 'value': 1.0}]  \n",
       "4   [{'index': 2, 'value': 1.0}]  [{'index': 1, 'value': 1.0}]  \n",
       "5   [{'index': 2, 'value': 1.0}]  [{'index': 1, 'value': 1.0}]  \n",
       "6   [{'index': 2, 'value': 1.0}]  [{'index': 1, 'value': 1.0}]  \n",
       "7   [{'index': 3, 'value': 0.0}]  [{'index': 2, 'value': 0.0}]  \n",
       "8   [{'index': 3, 'value': 0.0}]  [{'index': 2, 'value': 0.0}]  \n",
       "9   [{'index': 3, 'value': 0.0}]  [{'index': 2, 'value': 0.0}]  \n",
       "10  [{'index': 3, 'value': 0.0}]  [{'index': 2, 'value': 0.0}]  "
      ]
     },
     "execution_count": 594,
     "metadata": {},
     "output_type": "execute_result"
    }
   ],
   "source": [
    "df = bq.query(query = query).to_dataframe()\n",
    "df"
   ]
  },
  {
   "cell_type": "markdown",
   "id": "6f0a4032-6396-465f-9a2d-69d8e4317263",
   "metadata": {},
   "source": [
    "#### ML.LABEL_ENCODER\n",
    "\n",
    "Given a string column the function will encode the value as integers [0, n] representing categories.  Any `NULL` or removed values will be encoded with `0`.\n",
    "- `top_k` takes an integer value that specifies the limit on the number of categories to encode based on frequency (default is 1 milion, also the max)\n",
    "- `frequency_threshold` takes an integer value that specifies that minimum frequency to be encoded (default = 0)\n",
    "\n",
    "[Reference](https://cloud.google.com/bigquery-ml/docs/reference/standard-sql/bigqueryml-preprocessing-functions#mllabel_encoder)"
   ]
  },
  {
   "cell_type": "code",
   "execution_count": 579,
   "id": "2cc0b9c3-4016-4f5c-bd7c-ac5f07611f6f",
   "metadata": {},
   "outputs": [
    {
     "name": "stdout",
     "output_type": "stream",
     "text": [
      "\n",
      "    SELECT\n",
      "        input_column,\n",
      "        ML.LABEL_ENCODER(input_column) OVER() AS labeled_all,\n",
      "        ML.LABEL_ENCODER(input_column, 3) OVER() AS labeled_top3,\n",
      "        ML.LABEL_ENCODER(input_column, 3, 3) OVER() AS labeled_top3_min3\n",
      "    FROM\n",
      "        UNNEST([NULL, 'a', 'b', 'b', 'c', 'c', 'c', 'd', 'd', 'd', 'd']) AS input_column\n",
      "    ORDER BY input_column\n",
      "\n"
     ]
    }
   ],
   "source": [
    "query = f\"\"\"\n",
    "    SELECT\n",
    "        input_column,\n",
    "        ML.LABEL_ENCODER(input_column) OVER() AS labeled_all,\n",
    "        ML.LABEL_ENCODER(input_column, 3) OVER() AS labeled_top3,\n",
    "        ML.LABEL_ENCODER(input_column, 3, 3) OVER() AS labeled_top3_min3\n",
    "    FROM\n",
    "        UNNEST([NULL, 'a', 'b', 'b', 'c', 'c', 'c', 'd', 'd', 'd', 'd']) AS input_column\n",
    "    ORDER BY input_column\n",
    "\"\"\"\n",
    "print(query)"
   ]
  },
  {
   "cell_type": "code",
   "execution_count": 580,
   "id": "5dc9b855-91da-4642-8669-dfd626aae391",
   "metadata": {},
   "outputs": [
    {
     "data": {
      "text/html": [
       "<div>\n",
       "<style scoped>\n",
       "    .dataframe tbody tr th:only-of-type {\n",
       "        vertical-align: middle;\n",
       "    }\n",
       "\n",
       "    .dataframe tbody tr th {\n",
       "        vertical-align: top;\n",
       "    }\n",
       "\n",
       "    .dataframe thead th {\n",
       "        text-align: right;\n",
       "    }\n",
       "</style>\n",
       "<table border=\"1\" class=\"dataframe\">\n",
       "  <thead>\n",
       "    <tr style=\"text-align: right;\">\n",
       "      <th></th>\n",
       "      <th>input_column</th>\n",
       "      <th>labeled_all</th>\n",
       "      <th>labeled_top3</th>\n",
       "      <th>labeled_top3_min3</th>\n",
       "    </tr>\n",
       "  </thead>\n",
       "  <tbody>\n",
       "    <tr>\n",
       "      <th>0</th>\n",
       "      <td>None</td>\n",
       "      <td>0</td>\n",
       "      <td>0</td>\n",
       "      <td>0</td>\n",
       "    </tr>\n",
       "    <tr>\n",
       "      <th>1</th>\n",
       "      <td>a</td>\n",
       "      <td>1</td>\n",
       "      <td>0</td>\n",
       "      <td>0</td>\n",
       "    </tr>\n",
       "    <tr>\n",
       "      <th>2</th>\n",
       "      <td>b</td>\n",
       "      <td>2</td>\n",
       "      <td>1</td>\n",
       "      <td>0</td>\n",
       "    </tr>\n",
       "    <tr>\n",
       "      <th>3</th>\n",
       "      <td>b</td>\n",
       "      <td>2</td>\n",
       "      <td>1</td>\n",
       "      <td>0</td>\n",
       "    </tr>\n",
       "    <tr>\n",
       "      <th>4</th>\n",
       "      <td>c</td>\n",
       "      <td>3</td>\n",
       "      <td>2</td>\n",
       "      <td>1</td>\n",
       "    </tr>\n",
       "    <tr>\n",
       "      <th>5</th>\n",
       "      <td>c</td>\n",
       "      <td>3</td>\n",
       "      <td>2</td>\n",
       "      <td>1</td>\n",
       "    </tr>\n",
       "    <tr>\n",
       "      <th>6</th>\n",
       "      <td>c</td>\n",
       "      <td>3</td>\n",
       "      <td>2</td>\n",
       "      <td>1</td>\n",
       "    </tr>\n",
       "    <tr>\n",
       "      <th>7</th>\n",
       "      <td>d</td>\n",
       "      <td>4</td>\n",
       "      <td>3</td>\n",
       "      <td>2</td>\n",
       "    </tr>\n",
       "    <tr>\n",
       "      <th>8</th>\n",
       "      <td>d</td>\n",
       "      <td>4</td>\n",
       "      <td>3</td>\n",
       "      <td>2</td>\n",
       "    </tr>\n",
       "    <tr>\n",
       "      <th>9</th>\n",
       "      <td>d</td>\n",
       "      <td>4</td>\n",
       "      <td>3</td>\n",
       "      <td>2</td>\n",
       "    </tr>\n",
       "    <tr>\n",
       "      <th>10</th>\n",
       "      <td>d</td>\n",
       "      <td>4</td>\n",
       "      <td>3</td>\n",
       "      <td>2</td>\n",
       "    </tr>\n",
       "  </tbody>\n",
       "</table>\n",
       "</div>"
      ],
      "text/plain": [
       "   input_column  labeled_all  labeled_top3  labeled_top3_min3\n",
       "0          None            0             0                  0\n",
       "1             a            1             0                  0\n",
       "2             b            2             1                  0\n",
       "3             b            2             1                  0\n",
       "4             c            3             2                  1\n",
       "5             c            3             2                  1\n",
       "6             c            3             2                  1\n",
       "7             d            4             3                  2\n",
       "8             d            4             3                  2\n",
       "9             d            4             3                  2\n",
       "10            d            4             3                  2"
      ]
     },
     "execution_count": 580,
     "metadata": {},
     "output_type": "execute_result"
    }
   ],
   "source": [
    "df = bq.query(query = query).to_dataframe()\n",
    "df"
   ]
  },
  {
   "cell_type": "markdown",
   "id": "797d7c6b-d406-4b2f-b513-b7b245b24313",
   "metadata": {},
   "source": [
    "### Advanced Usage of Manual Feature Engineering\n",
    "\n",
    "There may be situations where multiple feature preprocessing functions are needed.  Here is an example of using `ML.IMPUTER` with `ML.POLYNOMIAL_EXPAND` for example.\n",
    "\n",
    "**NOTE:** A analytic function (has `OVER ()`)cannot be an argument of another analytic function, however, scaler functions can be arguments.\n",
    "\n",
    "This Example Compounds:\n",
    "- `CAST` the string values to `FLOAT64`\n",
    "- imputes missing values for the column with `ML.IMPUTER`\n",
    "- uses `ML.POLYNOMIAL_EXPAND` to create higher order terms from the imputed column"
   ]
  },
  {
   "cell_type": "code",
   "execution_count": 581,
   "id": "f6d333b0-dd81-4d6c-a858-4fff553931d2",
   "metadata": {},
   "outputs": [
    {
     "name": "stdout",
     "output_type": "stream",
     "text": [
      "\n",
      "SELECT\n",
      "    input_column,\n",
      "    ML.POLYNOMIAL_EXPAND(\n",
      "        STRUCT(\n",
      "            ML.IMPUTER(\n",
      "                CAST(input_column AS FLOAT64),\n",
      "                'mean'\n",
      "            ) OVER() AS num_imputed_mean\n",
      "        ),\n",
      "        2\n",
      "    ) AS imputed_expanded\n",
      "FROM\n",
      "    UNNEST(['1', '1', '2', '3', '4', '5', NULL]) AS input_column\n",
      "\n"
     ]
    }
   ],
   "source": [
    "query = f\"\"\"\n",
    "SELECT\n",
    "    input_column,\n",
    "    ML.POLYNOMIAL_EXPAND(\n",
    "        STRUCT(\n",
    "            ML.IMPUTER(\n",
    "                CAST(input_column AS FLOAT64),\n",
    "                'mean'\n",
    "            ) OVER() AS num_imputed_mean\n",
    "        ),\n",
    "        2\n",
    "    ) AS imputed_expanded\n",
    "FROM\n",
    "    UNNEST(['1', '1', '2', '3', '4', '5', NULL]) AS input_column\n",
    "\"\"\"\n",
    "print(query)"
   ]
  },
  {
   "cell_type": "code",
   "execution_count": 582,
   "id": "b32f5293-fc54-4e69-976a-f11b56e60a99",
   "metadata": {},
   "outputs": [
    {
     "data": {
      "text/html": [
       "<div>\n",
       "<style scoped>\n",
       "    .dataframe tbody tr th:only-of-type {\n",
       "        vertical-align: middle;\n",
       "    }\n",
       "\n",
       "    .dataframe tbody tr th {\n",
       "        vertical-align: top;\n",
       "    }\n",
       "\n",
       "    .dataframe thead th {\n",
       "        text-align: right;\n",
       "    }\n",
       "</style>\n",
       "<table border=\"1\" class=\"dataframe\">\n",
       "  <thead>\n",
       "    <tr style=\"text-align: right;\">\n",
       "      <th></th>\n",
       "      <th>input_column</th>\n",
       "      <th>imputed_expanded</th>\n",
       "    </tr>\n",
       "  </thead>\n",
       "  <tbody>\n",
       "    <tr>\n",
       "      <th>0</th>\n",
       "      <td>1</td>\n",
       "      <td>{'num_imputed_mean': 1.0, 'num_imputed_mean_nu...</td>\n",
       "    </tr>\n",
       "    <tr>\n",
       "      <th>1</th>\n",
       "      <td>1</td>\n",
       "      <td>{'num_imputed_mean': 1.0, 'num_imputed_mean_nu...</td>\n",
       "    </tr>\n",
       "    <tr>\n",
       "      <th>2</th>\n",
       "      <td>4</td>\n",
       "      <td>{'num_imputed_mean': 4.0, 'num_imputed_mean_nu...</td>\n",
       "    </tr>\n",
       "    <tr>\n",
       "      <th>3</th>\n",
       "      <td>None</td>\n",
       "      <td>{'num_imputed_mean': 2.6666666666666665, 'num_...</td>\n",
       "    </tr>\n",
       "    <tr>\n",
       "      <th>4</th>\n",
       "      <td>3</td>\n",
       "      <td>{'num_imputed_mean': 3.0, 'num_imputed_mean_nu...</td>\n",
       "    </tr>\n",
       "    <tr>\n",
       "      <th>5</th>\n",
       "      <td>2</td>\n",
       "      <td>{'num_imputed_mean': 2.0, 'num_imputed_mean_nu...</td>\n",
       "    </tr>\n",
       "    <tr>\n",
       "      <th>6</th>\n",
       "      <td>5</td>\n",
       "      <td>{'num_imputed_mean': 5.0, 'num_imputed_mean_nu...</td>\n",
       "    </tr>\n",
       "  </tbody>\n",
       "</table>\n",
       "</div>"
      ],
      "text/plain": [
       "  input_column                                   imputed_expanded\n",
       "0            1  {'num_imputed_mean': 1.0, 'num_imputed_mean_nu...\n",
       "1            1  {'num_imputed_mean': 1.0, 'num_imputed_mean_nu...\n",
       "2            4  {'num_imputed_mean': 4.0, 'num_imputed_mean_nu...\n",
       "3         None  {'num_imputed_mean': 2.6666666666666665, 'num_...\n",
       "4            3  {'num_imputed_mean': 3.0, 'num_imputed_mean_nu...\n",
       "5            2  {'num_imputed_mean': 2.0, 'num_imputed_mean_nu...\n",
       "6            5  {'num_imputed_mean': 5.0, 'num_imputed_mean_nu..."
      ]
     },
     "execution_count": 582,
     "metadata": {},
     "output_type": "execute_result"
    }
   ],
   "source": [
    "df = bq.query(query = query).to_dataframe()\n",
    "df"
   ]
  },
  {
   "cell_type": "code",
   "execution_count": 591,
   "id": "a2ae1a53-0305-4dd8-98c7-77b6e23de04d",
   "metadata": {},
   "outputs": [
    {
     "data": {
      "text/html": [
       "<div>\n",
       "<style scoped>\n",
       "    .dataframe tbody tr th:only-of-type {\n",
       "        vertical-align: middle;\n",
       "    }\n",
       "\n",
       "    .dataframe tbody tr th {\n",
       "        vertical-align: top;\n",
       "    }\n",
       "\n",
       "    .dataframe thead th {\n",
       "        text-align: right;\n",
       "    }\n",
       "</style>\n",
       "<table border=\"1\" class=\"dataframe\">\n",
       "  <thead>\n",
       "    <tr style=\"text-align: right;\">\n",
       "      <th></th>\n",
       "      <th>input_column</th>\n",
       "      <th>num_imputed_mean</th>\n",
       "      <th>num_imputed_mean_num_imputed_mean</th>\n",
       "    </tr>\n",
       "  </thead>\n",
       "  <tbody>\n",
       "    <tr>\n",
       "      <th>0</th>\n",
       "      <td>1</td>\n",
       "      <td>1.000000</td>\n",
       "      <td>1.000000</td>\n",
       "    </tr>\n",
       "    <tr>\n",
       "      <th>1</th>\n",
       "      <td>1</td>\n",
       "      <td>1.000000</td>\n",
       "      <td>1.000000</td>\n",
       "    </tr>\n",
       "    <tr>\n",
       "      <th>2</th>\n",
       "      <td>4</td>\n",
       "      <td>4.000000</td>\n",
       "      <td>16.000000</td>\n",
       "    </tr>\n",
       "    <tr>\n",
       "      <th>3</th>\n",
       "      <td>None</td>\n",
       "      <td>2.666667</td>\n",
       "      <td>7.111111</td>\n",
       "    </tr>\n",
       "    <tr>\n",
       "      <th>4</th>\n",
       "      <td>3</td>\n",
       "      <td>3.000000</td>\n",
       "      <td>9.000000</td>\n",
       "    </tr>\n",
       "    <tr>\n",
       "      <th>5</th>\n",
       "      <td>2</td>\n",
       "      <td>2.000000</td>\n",
       "      <td>4.000000</td>\n",
       "    </tr>\n",
       "    <tr>\n",
       "      <th>6</th>\n",
       "      <td>5</td>\n",
       "      <td>5.000000</td>\n",
       "      <td>25.000000</td>\n",
       "    </tr>\n",
       "  </tbody>\n",
       "</table>\n",
       "</div>"
      ],
      "text/plain": [
       "  input_column  num_imputed_mean  num_imputed_mean_num_imputed_mean\n",
       "0            1          1.000000                           1.000000\n",
       "1            1          1.000000                           1.000000\n",
       "2            4          4.000000                          16.000000\n",
       "3         None          2.666667                           7.111111\n",
       "4            3          3.000000                           9.000000\n",
       "5            2          2.000000                           4.000000\n",
       "6            5          5.000000                          25.000000"
      ]
     },
     "execution_count": 591,
     "metadata": {},
     "output_type": "execute_result"
    }
   ],
   "source": [
    "pd.concat([df['input_column'], df['imputed_expanded'].apply(pd.Series)], axis=1)"
   ]
  },
  {
   "cell_type": "markdown",
   "id": "04e0f8e7-960d-4448-9096-19bedddc7bf2",
   "metadata": {},
   "source": [
    "---\n",
    "# Data Source: BigQuery"
   ]
  },
  {
   "cell_type": "markdown",
   "id": "90b1ef9f-2d9a-4c39-b3a5-d2c433e67f49",
   "metadata": {
    "tags": []
   },
   "source": [
    "## Create BigQuery Dataset\n",
    "\n",
    "Datasets are like folders, they hold items like tables, models, views.  Datasets are regional resources."
   ]
  },
  {
   "cell_type": "markdown",
   "id": "fe47315f-bc92-4900-8399-7a51cc810301",
   "metadata": {},
   "source": [
    "Create the dataset if missing:"
   ]
  },
  {
   "cell_type": "code",
   "execution_count": 299,
   "id": "1ea2c1e6-836c-40de-a53f-10fb195d27bb",
   "metadata": {},
   "outputs": [],
   "source": [
    "ds = bigquery.Dataset(f\"{BQ_PROJECT}.{BQ_DATASET}\")\n",
    "ds.location = 'us'\n",
    "ds.labels = {'experiment': f'{EXPERIMENT}'}\n",
    "ds = bq.create_dataset(dataset = ds, exists_ok = True)"
   ]
  },
  {
   "cell_type": "markdown",
   "id": "77659610-1f1b-4b96-add1-a08eb0ef8ee5",
   "metadata": {},
   "source": [
    "List BigQuery datasets in the project:"
   ]
  },
  {
   "cell_type": "code",
   "execution_count": 300,
   "id": "ccf621f1-d5b8-4e12-85b1-318ecaab57db",
   "metadata": {},
   "outputs": [
    {
     "name": "stdout",
     "output_type": "stream",
     "text": [
      "applied_forecasting\n",
      "explained_columns\n",
      "feature_engineering\n",
      "forecasting_8_tournament\n",
      "fraud\n",
      "github_api\n",
      "model_deployment_monitoring_1961322035766362112\n"
     ]
    }
   ],
   "source": [
    "datasets = list(bq.list_datasets())\n",
    "for d in datasets:\n",
    "    print(d.dataset_id)"
   ]
  },
  {
   "cell_type": "markdown",
   "id": "77ba4fa7-1dd5-4dba-b519-77dbdf7109c2",
   "metadata": {},
   "source": [
    "Review dataset attributes:"
   ]
  },
  {
   "cell_type": "code",
   "execution_count": 301,
   "id": "1b0f396d-c857-440f-a9ae-f21a0acee0f2",
   "metadata": {},
   "outputs": [
    {
     "data": {
      "text/plain": [
       "'feature_engineering'"
      ]
     },
     "execution_count": 301,
     "metadata": {},
     "output_type": "execute_result"
    }
   ],
   "source": [
    "ds.dataset_id"
   ]
  },
  {
   "cell_type": "code",
   "execution_count": 302,
   "id": "d8fbeff7-06c9-4355-bfd1-743ba3c12b57",
   "metadata": {},
   "outputs": [
    {
     "data": {
      "text/plain": [
       "'statmike-mlops-349915'"
      ]
     },
     "execution_count": 302,
     "metadata": {},
     "output_type": "execute_result"
    }
   ],
   "source": [
    "ds.project"
   ]
  },
  {
   "cell_type": "code",
   "execution_count": 303,
   "id": "cea1bb57-1254-4088-90a3-4397e499bc28",
   "metadata": {},
   "outputs": [
    {
     "data": {
      "text/plain": [
       "'statmike-mlops-349915:feature_engineering'"
      ]
     },
     "execution_count": 303,
     "metadata": {},
     "output_type": "execute_result"
    }
   ],
   "source": [
    "ds.full_dataset_id"
   ]
  },
  {
   "cell_type": "code",
   "execution_count": 304,
   "id": "6e79c339-dade-415a-9d73-6e2da208a52b",
   "metadata": {},
   "outputs": [
    {
     "data": {
      "text/plain": [
       "'/projects/statmike-mlops-349915/datasets/feature_engineering'"
      ]
     },
     "execution_count": 304,
     "metadata": {},
     "output_type": "execute_result"
    }
   ],
   "source": [
    "ds.path"
   ]
  },
  {
   "cell_type": "code",
   "execution_count": 305,
   "id": "98711e82-fdbf-4d10-9175-8b9aabd839d9",
   "metadata": {},
   "outputs": [
    {
     "data": {
      "text/plain": [
       "'US'"
      ]
     },
     "execution_count": 305,
     "metadata": {},
     "output_type": "execute_result"
    }
   ],
   "source": [
    "ds.location"
   ]
  },
  {
   "cell_type": "markdown",
   "id": "87c08b26-6696-4773-bf83-ebec0b22dbaf",
   "metadata": {},
   "source": [
    "---\n",
    "## Create BigQuery Table\n",
    "\n",
    "Familiar with the [Great British Bake Off](https://en.wikipedia.org/wiki/The_Great_British_Bake_Off)? Or maybe just familiar with intricate nature of [baking bread](https://en.wikipedia.org/wiki/Bread)?  The code below generates 2000 different bread recipes along with multiple judges ratings of the resulting bread.  These are designed to be a lot like [Ciabatta](https://en.wikipedia.org/wiki/Ciabatta).\n",
    "\n",
    "This SQL makes heavy use of [GENERATE_ARRAY()](https://cloud.google.com/bigquery/docs/reference/standard-sql/arrays#generating_arrays_of_integers) to create sequences of numbers.  The [RAND() function](https://cloud.google.com/bigquery/docs/reference/standard-sql/mathematical_functions#rand) is the primary mechanism for generating random data but it is uniform `[0, 1)` only. To generate random normal data with MEAN=0 and SD=1 the [Box-Muller Transformation](https://en.wikipedia.org/wiki/Box%E2%80%93Muller_transform) is implemented in SQL using two `RAND()` values as inputs.  \n",
    "\n",
    "> Given two random uniform variable, $u_1$ and $u_2$, the following Box-Muller transformation generates two random normal(0, 1) variables:\n",
    ">\n",
    "> $\\sqrt{-2\\ln(u_1)}\\sin(2\\pi u_2)$ OR $\\sqrt{-2\\ln(u_1)}\\cos(2\\pi u_2)$\n",
    "\n",
    "Expressing these as SQL:\n",
    "```SQL\n",
    "# ACOS(-1) = PI\n",
    "SQRT(-2*LN(RAND()))*SIN(2*ACOS(-1)*RAND())\n",
    "\n",
    "SQRT(-2*LN(RAND()))*COS(2*ACOS(-1)*RAND())\n",
    "```\n",
    "\n",
    "**Note** When simulating data with BigQuery and using [CTEs (WITH statement)](https://cloud.google.com/bigquery/docs/reference/standard-sql/query-syntax#with_clause) it is important to note that each CTE will be called once per reference.  That means that using the `RAND()` function could generate different data on each reference.\n"
   ]
  },
  {
   "cell_type": "code",
   "execution_count": 306,
   "id": "82814d3e-513b-4d37-8736-a838a311fc06",
   "metadata": {},
   "outputs": [
    {
     "name": "stdout",
     "output_type": "stream",
     "text": [
      "\n",
      "CREATE OR REPLACE TABLE `statmike-mlops-349915.feature_engineering.bread` AS \n",
      "WITH\n",
      "    STEP_1 AS (\n",
      "        SELECT\n",
      "            pos as Recipe,\n",
      "            * EXCEPT(pos)\n",
      "        FROM (SELECT *, ROW_NUMBER() OVER() pos FROM UNNEST(ARRAY((SELECT 500+10*SQRT(-2*LN(RAND()))*COS(2*ACOS(-1)*RAND()) FROM UNNEST(GENERATE_ARRAY(1, 2000))))) AS flourAmt)\n",
      "        JOIN (SELECT *, ROW_NUMBER() OVER() pos FROM UNNEST(ARRAY((SELECT CAST(8+4*RAND() AS INT64) FROM UNNEST(GENERATE_ARRAY(1, 2000))))) AS saltAmt) USING(pos)\n",
      "        JOIN (SELECT *, ROW_NUMBER() OVER() pos FROM UNNEST(ARRAY((SELECT CAST(8+4*RAND() AS INT64) FROM UNNEST(GENERATE_ARRAY(1, 2000))))) AS yeastAmt) USING(pos)\n",
      "        JOIN (SELECT *, ROW_NUMBER() OVER() pos FROM UNNEST(ARRAY((SELECT CAST(5+1*SQRT(-2*LN(RAND()))*COS(2*ACOS(-1)*RAND()) AS INT64) FROM UNNEST(GENERATE_ARRAY(1, 2000))))) AS mix1Time) USING(pos)\n",
      "        JOIN (SELECT *, ROW_NUMBER() OVER() pos FROM UNNEST(ARRAY((SELECT CAST(2+3*RAND() AS INT64) FROM UNNEST(GENERATE_ARRAY(1, 2000))))) AS mix1Speed) USING(pos)\n",
      "        JOIN (SELECT *, ROW_NUMBER() OVER() pos FROM UNNEST(ARRAY((SELECT CAST(4+4*RAND() AS INT64) FROM UNNEST(GENERATE_ARRAY(1, 2000))))) AS mix2Time) USING(pos)\n",
      "        JOIN (SELECT *, ROW_NUMBER() OVER() pos FROM UNNEST(ARRAY((SELECT CAST(4+2*RAND() AS INT64) FROM UNNEST(GENERATE_ARRAY(1, 2000))))) AS mix2Speed) USING(pos)\n",
      "        JOIN (SELECT *, ROW_NUMBER() OVER() pos FROM UNNEST(ARRAY((SELECT 330+20*SQRT(-2*LN(RAND()))*COS(2*ACOS(-1)*RAND()) FROM UNNEST(GENERATE_ARRAY(1, 2000))))) AS water1Amt) USING(pos)\n",
      "        JOIN (SELECT *, ROW_NUMBER() OVER() pos FROM UNNEST(ARRAY((SELECT 110+20*SQRT(-2*LN(RAND()))*COS(2*ACOS(-1)*RAND()) FROM UNNEST(GENERATE_ARRAY(1, 2000))))) AS water2Amt) USING(pos)\n",
      "        JOIN (SELECT *, ROW_NUMBER() OVER() pos FROM UNNEST(ARRAY((SELECT CAST(40+10*RAND() AS INT64) FROM UNNEST(GENERATE_ARRAY(1, 2000))))) AS waterTemp) USING(pos)\n",
      "        JOIN (SELECT *, ROW_NUMBER() OVER() pos FROM UNNEST(ARRAY((SELECT 100+5*SQRT(-2*LN(RAND()))*COS(2*ACOS(-1)*RAND()) FROM UNNEST(GENERATE_ARRAY(1, 2000))))) AS proveTime) USING(pos)\n",
      "        JOIN (SELECT *, ROW_NUMBER() OVER() pos FROM UNNEST(ARRAY((SELECT CAST(35+10*RAND() AS INT64) FROM UNNEST(GENERATE_ARRAY(1, 2000))))) AS restTime) USING(pos)\n",
      "        JOIN (SELECT *, ROW_NUMBER() OVER() pos FROM UNNEST(ARRAY((SELECT CAST(20+10*RAND() AS INT64) FROM UNNEST(GENERATE_ARRAY(1, 2000))))) AS bakeTime) USING(pos)\n",
      "        JOIN (SELECT *, ROW_NUMBER() OVER() pos FROM UNNEST(ARRAY((SELECT 425+15*SQRT(-2*LN(RAND()))*COS(2*ACOS(-1)*RAND()) FROM UNNEST(GENERATE_ARRAY(1, 2000))))) AS bakeTemp) USING(pos)\n",
      "        JOIN (SELECT *, ROW_NUMBER() OVER() pos FROM UNNEST(ARRAY((SELECT 60+10*SQRT(-2*LN(RAND()))*COS(2*ACOS(-1)*RAND()) FROM UNNEST(GENERATE_ARRAY(1, 2000))))) AS ambTemp) USING(pos)\n",
      "        JOIN (SELECT *, ROW_NUMBER() OVER() pos FROM UNNEST(ARRAY((SELECT 50+10*SQRT(-2*LN(RAND()))*COS(2*ACOS(-1)*RAND()) FROM UNNEST(GENERATE_ARRAY(1, 2000))))) AS ambHumidity) USING(pos)\n",
      "    ),\n",
      "    STEP_2 AS (\n",
      "        SELECT *,\n",
      "            CASE \n",
      "                WHEN flourAmt-500 > 0 THEN 0.3*(flourAmt-500)\n",
      "                ELSE -0.3*(flourAmt-500)\n",
      "            END AS A,\n",
      "            CASE \n",
      "                WHEN saltAmt-10 > 0 THEN 2*(saltAmt-10)/2\n",
      "                ELSE -0.5*(saltAmt-10)/2\n",
      "            END AS B,\n",
      "            CASE \n",
      "                WHEN yeastAmt-10 > 0 THEN 5*(yeastAmt-10)/2\n",
      "                ELSE -5*(yeastAmt-10)/2\n",
      "            END AS C,\n",
      "            CASE \n",
      "                WHEN mix1Time-5 > 0 THEN 2*(mix1Time-5)\n",
      "                ELSE -2*(mix1Time-5)\n",
      "            END AS D,\n",
      "            CASE \n",
      "                WHEN mix1Speed-3.5 > 0 THEN 0.1*(mix1Speed-3.5)/1.5\n",
      "                ELSE -0.1*(mix1Speed-3.5)/1.5\n",
      "            END AS E,\n",
      "            CASE \n",
      "                WHEN mix2Time-6 > 0 THEN (mix2Time-6)/2\n",
      "                ELSE -2*(mix2Time-6)\n",
      "            END AS F,\n",
      "            CASE \n",
      "                WHEN mix2Speed-5 > 0 THEN 2*(mix2Speed-5)\n",
      "                ELSE -2*(mix2Speed-5)/2\n",
      "            END AS G,\n",
      "            CASE \n",
      "                WHEN water1Amt-330 > 0 THEN (water1Amt-330)/20\n",
      "                ELSE -1*(water1Amt-330)/20\n",
      "            END AS H,\n",
      "            CASE \n",
      "                WHEN water2Amt-110 > 0 THEN 6*(water2Amt-110)/20\n",
      "                ELSE -6*(water2Amt-110)/20\n",
      "            END AS I,\n",
      "            CASE \n",
      "                WHEN restTime-40 > 0 THEN 3*(restTime-40)/5\n",
      "                ELSE -3*(restTime-40)/5\n",
      "            END AS J,\n",
      "            CASE \n",
      "                WHEN bakeTime-25 > 0 THEN 6*(bakeTime-25)/5\n",
      "                ELSE -6*(bakeTime-25)/5\n",
      "            END AS K,\n",
      "            CASE \n",
      "                WHEN bakeTemp-425 > 0 THEN 15*(bakeTemp-425)/15\n",
      "                ELSE -10*(bakeTemp-425)/15\n",
      "            END AS L,\n",
      "            -1*((425-bakeTemp)*(bakeTime-25))/25 AS M\n",
      "        FROM STEP_1\n",
      "    ),\n",
      "    STEP_3 AS (\n",
      "        SELECT * EXCEPT(A, B, C, D, E, F, G, H, I ,J, K, L, M),\n",
      "            CASE\n",
      "                WHEN 100-(0+A+B+C+D+E+F+G+H+I+J+K+L+M)+4 < 0 THEN 0\n",
      "                WHEN 100-(0+A+B+C+D+E+F+G+H+I+J+K+L+M)+4 > 100 THEN 100\n",
      "                ELSE ROUND(100-(0+A+B+C+D+E+F+G+H+I+J+K+L+M)+4)\n",
      "            END AS JUDGE_A,\n",
      "            CASE\n",
      "                WHEN 5-26*(90/69)+(90/69)*(100-(0+A+B+C+D+E+F+G+H+I+J+K+L+M)+4)-5 < 0 THEN 0\n",
      "                WHEN 5-26*(90/69)+(90/69)*(100-(0+A+B+C+D+E+F+G+H+I+J+K+L+M)+4)-5 > 100 THEN 100\n",
      "                ELSE ROUND(5-26*(90/69)+(90/69)*(100-(0+A+B+C+D+E+F+G+H+I+J+K+L+M)+4)-5)\n",
      "            END AS JUDGE_B\n",
      "        FROM STEP_2\n",
      "    )\n",
      "SELECT *\n",
      "FROM STEP_3\n",
      "\n"
     ]
    }
   ],
   "source": [
    "n = 2000\n",
    "\n",
    "query = f\"\"\"\n",
    "CREATE OR REPLACE TABLE `{BQ_PROJECT}.{BQ_DATASET}.{BQ_TABLE}` AS \n",
    "WITH\n",
    "    STEP_1 AS (\n",
    "        SELECT\n",
    "            pos as Recipe,\n",
    "            * EXCEPT(pos)\n",
    "        FROM (SELECT *, ROW_NUMBER() OVER() pos FROM UNNEST(ARRAY((SELECT 500+10*SQRT(-2*LN(RAND()))*COS(2*ACOS(-1)*RAND()) FROM UNNEST(GENERATE_ARRAY(1, {n}))))) AS flourAmt)\n",
    "        JOIN (SELECT *, ROW_NUMBER() OVER() pos FROM UNNEST(ARRAY((SELECT CAST(8+4*RAND() AS INT64) FROM UNNEST(GENERATE_ARRAY(1, {n}))))) AS saltAmt) USING(pos)\n",
    "        JOIN (SELECT *, ROW_NUMBER() OVER() pos FROM UNNEST(ARRAY((SELECT CAST(8+4*RAND() AS INT64) FROM UNNEST(GENERATE_ARRAY(1, {n}))))) AS yeastAmt) USING(pos)\n",
    "        JOIN (SELECT *, ROW_NUMBER() OVER() pos FROM UNNEST(ARRAY((SELECT CAST(5+1*SQRT(-2*LN(RAND()))*COS(2*ACOS(-1)*RAND()) AS INT64) FROM UNNEST(GENERATE_ARRAY(1, {n}))))) AS mix1Time) USING(pos)\n",
    "        JOIN (SELECT *, ROW_NUMBER() OVER() pos FROM UNNEST(ARRAY((SELECT CAST(2+3*RAND() AS INT64) FROM UNNEST(GENERATE_ARRAY(1, {n}))))) AS mix1Speed) USING(pos)\n",
    "        JOIN (SELECT *, ROW_NUMBER() OVER() pos FROM UNNEST(ARRAY((SELECT CAST(4+4*RAND() AS INT64) FROM UNNEST(GENERATE_ARRAY(1, {n}))))) AS mix2Time) USING(pos)\n",
    "        JOIN (SELECT *, ROW_NUMBER() OVER() pos FROM UNNEST(ARRAY((SELECT CAST(4+2*RAND() AS INT64) FROM UNNEST(GENERATE_ARRAY(1, {n}))))) AS mix2Speed) USING(pos)\n",
    "        JOIN (SELECT *, ROW_NUMBER() OVER() pos FROM UNNEST(ARRAY((SELECT 330+20*SQRT(-2*LN(RAND()))*COS(2*ACOS(-1)*RAND()) FROM UNNEST(GENERATE_ARRAY(1, {n}))))) AS water1Amt) USING(pos)\n",
    "        JOIN (SELECT *, ROW_NUMBER() OVER() pos FROM UNNEST(ARRAY((SELECT 110+20*SQRT(-2*LN(RAND()))*COS(2*ACOS(-1)*RAND()) FROM UNNEST(GENERATE_ARRAY(1, {n}))))) AS water2Amt) USING(pos)\n",
    "        JOIN (SELECT *, ROW_NUMBER() OVER() pos FROM UNNEST(ARRAY((SELECT CAST(40+10*RAND() AS INT64) FROM UNNEST(GENERATE_ARRAY(1, {n}))))) AS waterTemp) USING(pos)\n",
    "        JOIN (SELECT *, ROW_NUMBER() OVER() pos FROM UNNEST(ARRAY((SELECT 100+5*SQRT(-2*LN(RAND()))*COS(2*ACOS(-1)*RAND()) FROM UNNEST(GENERATE_ARRAY(1, {n}))))) AS proveTime) USING(pos)\n",
    "        JOIN (SELECT *, ROW_NUMBER() OVER() pos FROM UNNEST(ARRAY((SELECT CAST(35+10*RAND() AS INT64) FROM UNNEST(GENERATE_ARRAY(1, {n}))))) AS restTime) USING(pos)\n",
    "        JOIN (SELECT *, ROW_NUMBER() OVER() pos FROM UNNEST(ARRAY((SELECT CAST(20+10*RAND() AS INT64) FROM UNNEST(GENERATE_ARRAY(1, {n}))))) AS bakeTime) USING(pos)\n",
    "        JOIN (SELECT *, ROW_NUMBER() OVER() pos FROM UNNEST(ARRAY((SELECT 425+15*SQRT(-2*LN(RAND()))*COS(2*ACOS(-1)*RAND()) FROM UNNEST(GENERATE_ARRAY(1, {n}))))) AS bakeTemp) USING(pos)\n",
    "        JOIN (SELECT *, ROW_NUMBER() OVER() pos FROM UNNEST(ARRAY((SELECT 60+10*SQRT(-2*LN(RAND()))*COS(2*ACOS(-1)*RAND()) FROM UNNEST(GENERATE_ARRAY(1, {n}))))) AS ambTemp) USING(pos)\n",
    "        JOIN (SELECT *, ROW_NUMBER() OVER() pos FROM UNNEST(ARRAY((SELECT 50+10*SQRT(-2*LN(RAND()))*COS(2*ACOS(-1)*RAND()) FROM UNNEST(GENERATE_ARRAY(1, {n}))))) AS ambHumidity) USING(pos)\n",
    "    ),\n",
    "    STEP_2 AS (\n",
    "        SELECT *,\n",
    "            CASE \n",
    "                WHEN flourAmt-500 > 0 THEN 0.3*(flourAmt-500)\n",
    "                ELSE -0.3*(flourAmt-500)\n",
    "            END AS A,\n",
    "            CASE \n",
    "                WHEN saltAmt-10 > 0 THEN 2*(saltAmt-10)/2\n",
    "                ELSE -0.5*(saltAmt-10)/2\n",
    "            END AS B,\n",
    "            CASE \n",
    "                WHEN yeastAmt-10 > 0 THEN 5*(yeastAmt-10)/2\n",
    "                ELSE -5*(yeastAmt-10)/2\n",
    "            END AS C,\n",
    "            CASE \n",
    "                WHEN mix1Time-5 > 0 THEN 2*(mix1Time-5)\n",
    "                ELSE -2*(mix1Time-5)\n",
    "            END AS D,\n",
    "            CASE \n",
    "                WHEN mix1Speed-3.5 > 0 THEN 0.1*(mix1Speed-3.5)/1.5\n",
    "                ELSE -0.1*(mix1Speed-3.5)/1.5\n",
    "            END AS E,\n",
    "            CASE \n",
    "                WHEN mix2Time-6 > 0 THEN (mix2Time-6)/2\n",
    "                ELSE -2*(mix2Time-6)\n",
    "            END AS F,\n",
    "            CASE \n",
    "                WHEN mix2Speed-5 > 0 THEN 2*(mix2Speed-5)\n",
    "                ELSE -2*(mix2Speed-5)/2\n",
    "            END AS G,\n",
    "            CASE \n",
    "                WHEN water1Amt-330 > 0 THEN (water1Amt-330)/20\n",
    "                ELSE -1*(water1Amt-330)/20\n",
    "            END AS H,\n",
    "            CASE \n",
    "                WHEN water2Amt-110 > 0 THEN 6*(water2Amt-110)/20\n",
    "                ELSE -6*(water2Amt-110)/20\n",
    "            END AS I,\n",
    "            CASE \n",
    "                WHEN restTime-40 > 0 THEN 3*(restTime-40)/5\n",
    "                ELSE -3*(restTime-40)/5\n",
    "            END AS J,\n",
    "            CASE \n",
    "                WHEN bakeTime-25 > 0 THEN 6*(bakeTime-25)/5\n",
    "                ELSE -6*(bakeTime-25)/5\n",
    "            END AS K,\n",
    "            CASE \n",
    "                WHEN bakeTemp-425 > 0 THEN 15*(bakeTemp-425)/15\n",
    "                ELSE -10*(bakeTemp-425)/15\n",
    "            END AS L,\n",
    "            -1*((425-bakeTemp)*(bakeTime-25))/25 AS M\n",
    "        FROM STEP_1\n",
    "    ),\n",
    "    STEP_3 AS (\n",
    "        SELECT * EXCEPT(A, B, C, D, E, F, G, H, I ,J, K, L, M),\n",
    "            CASE\n",
    "                WHEN 100-(0+A+B+C+D+E+F+G+H+I+J+K+L+M)+4 < 0 THEN 0\n",
    "                WHEN 100-(0+A+B+C+D+E+F+G+H+I+J+K+L+M)+4 > 100 THEN 100\n",
    "                ELSE ROUND(100-(0+A+B+C+D+E+F+G+H+I+J+K+L+M)+4)\n",
    "            END AS JUDGE_A,\n",
    "            CASE\n",
    "                WHEN 5-26*(90/69)+(90/69)*(100-(0+A+B+C+D+E+F+G+H+I+J+K+L+M)+4)-5 < 0 THEN 0\n",
    "                WHEN 5-26*(90/69)+(90/69)*(100-(0+A+B+C+D+E+F+G+H+I+J+K+L+M)+4)-5 > 100 THEN 100\n",
    "                ELSE ROUND(5-26*(90/69)+(90/69)*(100-(0+A+B+C+D+E+F+G+H+I+J+K+L+M)+4)-5)\n",
    "            END AS JUDGE_B\n",
    "        FROM STEP_2\n",
    "    )\n",
    "SELECT *\n",
    "FROM STEP_3\n",
    "\"\"\"\n",
    "print(query)"
   ]
  },
  {
   "cell_type": "code",
   "execution_count": 307,
   "id": "c82edbf1-9522-4658-9d41-f3a9288e7730",
   "metadata": {},
   "outputs": [
    {
     "data": {
      "text/plain": [
       "2.994"
      ]
     },
     "execution_count": 307,
     "metadata": {},
     "output_type": "execute_result"
    }
   ],
   "source": [
    "job = bq.query(query = query)\n",
    "job.result()\n",
    "(job.ended-job.started).total_seconds()"
   ]
  },
  {
   "cell_type": "code",
   "execution_count": 308,
   "id": "e9eeb116-702d-410b-a729-ae010834a84b",
   "metadata": {},
   "outputs": [
    {
     "data": {
      "text/plain": [
       "0"
      ]
     },
     "execution_count": 308,
     "metadata": {},
     "output_type": "execute_result"
    }
   ],
   "source": [
    "job.total_bytes_processed"
   ]
  },
  {
   "cell_type": "markdown",
   "id": "25d017cd-b5dc-4a5d-bf45-508ce60d128f",
   "metadata": {},
   "source": [
    "### Check out this table in BigQuery Console:\n",
    "- Click: https://console.cloud.google.com/bigquery\n",
    "- Make sure project selected is the one from this notebook\n",
    "- Under Explore, expand this project and review the dataset and table"
   ]
  },
  {
   "cell_type": "code",
   "execution_count": 309,
   "id": "209246e6-e917-44f4-98e4-8d5e50299cf2",
   "metadata": {},
   "outputs": [
    {
     "name": "stdout",
     "output_type": "stream",
     "text": [
      "Direct Link To This Project In BigQuery:\n",
      "https://console.cloud.google.com/bigquery?project=statmike-mlops-349915&ws=!1m5!1m4!4m3!1sstatmike-mlops-349915!2sfeature_engineering!3sbread\n"
     ]
    }
   ],
   "source": [
    "print(f\"Direct Link To This Project In BigQuery:\\nhttps://console.cloud.google.com/bigquery?project={BQ_PROJECT}&ws=!1m5!1m4!4m3!1s{BQ_PROJECT}!2s{BQ_DATASET}!3s{BQ_TABLE}\")"
   ]
  },
  {
   "cell_type": "markdown",
   "id": "876654f3-7c48-4b23-8e27-52bd6ddf4564",
   "metadata": {},
   "source": [
    "---\n",
    "## Review Data From BigQuery\n",
    "Additional SQL queries could be used to review the data.  This section shows moving the table to a Pandas dataframe for local review in Python:\n",
    "\n",
    "> **Note:** <p>This query only selects one column.  This means BigQuery scans less data as it does not process the other columns.  </p>"
   ]
  },
  {
   "cell_type": "code",
   "execution_count": 310,
   "id": "c66fd4c0-36aa-4f57-8e1e-916f443d5216",
   "metadata": {},
   "outputs": [],
   "source": [
    "query = f\"\"\"\n",
    "    SELECT JUDGE_A, JUDGE_B\n",
    "    FROM `{BQ_PROJECT}.{BQ_DATASET}.{BQ_TABLE}`\n",
    "\"\"\"\n",
    "df = bq.query(query = query).to_dataframe()"
   ]
  },
  {
   "cell_type": "code",
   "execution_count": 311,
   "id": "befab8f1-f708-4039-b043-75ae62efe665",
   "metadata": {},
   "outputs": [
    {
     "name": "stdout",
     "output_type": "stream",
     "text": [
      "\n",
      "    SELECT JUDGE_A, JUDGE_B\n",
      "    FROM `statmike-mlops-349915.feature_engineering.bread`\n",
      "\n"
     ]
    }
   ],
   "source": [
    "print(query)"
   ]
  },
  {
   "cell_type": "code",
   "execution_count": 312,
   "id": "d103c7b4-68a5-4e43-8398-0e7ab64afab7",
   "metadata": {},
   "outputs": [
    {
     "data": {
      "text/html": [
       "<div>\n",
       "<style scoped>\n",
       "    .dataframe tbody tr th:only-of-type {\n",
       "        vertical-align: middle;\n",
       "    }\n",
       "\n",
       "    .dataframe tbody tr th {\n",
       "        vertical-align: top;\n",
       "    }\n",
       "\n",
       "    .dataframe thead th {\n",
       "        text-align: right;\n",
       "    }\n",
       "</style>\n",
       "<table border=\"1\" class=\"dataframe\">\n",
       "  <thead>\n",
       "    <tr style=\"text-align: right;\">\n",
       "      <th></th>\n",
       "      <th>JUDGE_A</th>\n",
       "      <th>JUDGE_B</th>\n",
       "    </tr>\n",
       "  </thead>\n",
       "  <tbody>\n",
       "    <tr>\n",
       "      <th>count</th>\n",
       "      <td>2000.000000</td>\n",
       "      <td>2000.000000</td>\n",
       "    </tr>\n",
       "    <tr>\n",
       "      <th>mean</th>\n",
       "      <td>74.494500</td>\n",
       "      <td>63.254500</td>\n",
       "    </tr>\n",
       "    <tr>\n",
       "      <th>std</th>\n",
       "      <td>9.947937</td>\n",
       "      <td>12.946449</td>\n",
       "    </tr>\n",
       "    <tr>\n",
       "      <th>min</th>\n",
       "      <td>19.000000</td>\n",
       "      <td>0.000000</td>\n",
       "    </tr>\n",
       "    <tr>\n",
       "      <th>25%</th>\n",
       "      <td>69.000000</td>\n",
       "      <td>56.000000</td>\n",
       "    </tr>\n",
       "    <tr>\n",
       "      <th>50%</th>\n",
       "      <td>76.000000</td>\n",
       "      <td>65.000000</td>\n",
       "    </tr>\n",
       "    <tr>\n",
       "      <th>75%</th>\n",
       "      <td>81.000000</td>\n",
       "      <td>72.000000</td>\n",
       "    </tr>\n",
       "    <tr>\n",
       "      <th>max</th>\n",
       "      <td>98.000000</td>\n",
       "      <td>94.000000</td>\n",
       "    </tr>\n",
       "  </tbody>\n",
       "</table>\n",
       "</div>"
      ],
      "text/plain": [
       "           JUDGE_A      JUDGE_B\n",
       "count  2000.000000  2000.000000\n",
       "mean     74.494500    63.254500\n",
       "std       9.947937    12.946449\n",
       "min      19.000000     0.000000\n",
       "25%      69.000000    56.000000\n",
       "50%      76.000000    65.000000\n",
       "75%      81.000000    72.000000\n",
       "max      98.000000    94.000000"
      ]
     },
     "execution_count": 312,
     "metadata": {},
     "output_type": "execute_result"
    }
   ],
   "source": [
    "df.describe()"
   ]
  },
  {
   "cell_type": "markdown",
   "id": "f52bad64-1b0b-48d1-84f2-59d559f47e27",
   "metadata": {},
   "source": [
    "It looks like Judge A is not as harsh as Judge B!"
   ]
  },
  {
   "cell_type": "markdown",
   "id": "e71194a7-b4c2-44d8-a737-9f7e97c60f95",
   "metadata": {},
   "source": [
    "---\n",
    "# GOAL: Predicting Judges Ratings\n",
    "\n",
    "Each row of the BigQuery table has all the parameters of a bread recipe and the rating for the resulting bake by two judges.  The goal of the this ML project is to predict the judges rating from the recipe and understand which parameters of the recipe where most important overall ([global explainability](https://cloud.google.com/bigquery-ml/docs/reference/standard-sql/bigqueryml-syntax-global-explain)) and for each recipe ([local explainability](https://cloud.google.com/bigquery-ml/docs/reference/standard-sql/bigqueryml-syntax-explain-predict)). BigQuery models include AI Explanation functions to assist with this [explainable AI](https://cloud.google.com/bigquery-ml/docs/reference/standard-sql/bigqueryml-syntax-xai-overview)!"
   ]
  },
  {
   "cell_type": "markdown",
   "id": "98df598e-dca5-4893-95df-b79e424499da",
   "metadata": {},
   "source": [
    "---\n",
    "# Automatic Feature Engineering"
   ]
  },
  {
   "cell_type": "markdown",
   "id": "3c6b56cc-85f3-40d2-a03a-4b1bd8a1944e",
   "metadata": {},
   "source": [
    "## Train Model\n",
    "\n",
    "Use BigQuery ML to train a linear regression model:\n",
    "- [Linear Regression](https://cloud.google.com/bigquery-ml/docs/reference/standard-sql/bigqueryml-syntax-create-glm) with BigQuery ML (BQML)\n",
    "\n",
    "Without specifying a [TRANFORM](https://cloud.google.com/bigquery-ml/docs/reference/standard-sql/bigqueryml-syntax-create#transform) clause in the `CREATE MODEL` statement, BigQuery will apply [automatic preprocessing](https://cloud.google.com/bigquery-ml/docs/reference/standard-sql/bigqueryml-auto-preprocessing) for feature engineering. This includes [imputation](https://cloud.google.com/bigquery-ml/docs/reference/standard-sql/bigqueryml-auto-preprocessing#imputation) and [feature transformation](https://cloud.google.com/bigquery-ml/docs/reference/standard-sql/bigqueryml-auto-preprocessing#feature-transform) based on the input columns data type.\n",
    "\n",
    "This example includes the [training options](https://cloud.google.com/bigquery-ml/docs/create_vertex) to register the resulting model in the [Vertex AI Model Registry](https://cloud.google.com/vertex-ai/docs/model-registry/introduction)."
   ]
  },
  {
   "cell_type": "code",
   "execution_count": 313,
   "id": "ca9a996a-18fa-4c30-97cc-9c79a325e42c",
   "metadata": {},
   "outputs": [],
   "source": [
    "TIMESTAMP = datetime.now().strftime(\"%Y%m%d%H%M%S\")\n",
    "RUN_NAME = f'run-{TIMESTAMP}'\n",
    "BQ_MODEL_AUTO = f'{SERIES}_{EXPERIMENT}_auto'"
   ]
  },
  {
   "cell_type": "code",
   "execution_count": 314,
   "id": "8ec35834",
   "metadata": {},
   "outputs": [
    {
     "name": "stdout",
     "output_type": "stream",
     "text": [
      "\n",
      "CREATE OR REPLACE MODEL `statmike-mlops-349915.feature_engineering.03_feature_engineering_auto`\n",
      "OPTIONS (\n",
      "        model_type = 'LINEAR_REG',\n",
      "        input_label_cols = ['JUDGE_A'],\n",
      "        enable_global_explain = TRUE,\n",
      "        data_split_method = 'AUTO_SPLIT',\n",
      "        MODEL_REGISTRY = 'VERTEX_AI',\n",
      "        VERTEX_AI_MODEL_ID = 'bqml_03_feature_engineering_auto',\n",
      "        VERTEX_AI_MODEL_VERSION_ALIASES = ['run-20230112232755']\n",
      "    ) AS\n",
      "SELECT * EXCEPT(Recipe, JUDGE_B)\n",
      "FROM `statmike-mlops-349915.feature_engineering.bread`\n",
      "\n"
     ]
    }
   ],
   "source": [
    "query = f\"\"\"\n",
    "CREATE OR REPLACE MODEL `{BQ_PROJECT}.{BQ_DATASET}.{BQ_MODEL_AUTO}`\n",
    "OPTIONS (\n",
    "        model_type = 'LINEAR_REG',\n",
    "        input_label_cols = ['JUDGE_A'],\n",
    "        enable_global_explain = TRUE,\n",
    "        data_split_method = 'AUTO_SPLIT',\n",
    "        MODEL_REGISTRY = 'VERTEX_AI',\n",
    "        VERTEX_AI_MODEL_ID = 'bqml_{BQ_MODEL_AUTO}',\n",
    "        VERTEX_AI_MODEL_VERSION_ALIASES = ['{RUN_NAME}']\n",
    "    ) AS\n",
    "SELECT * EXCEPT(Recipe, JUDGE_B)\n",
    "FROM `{BQ_PROJECT}.{BQ_DATASET}.{BQ_TABLE}`\n",
    "\"\"\"\n",
    "print(query)"
   ]
  },
  {
   "cell_type": "code",
   "execution_count": 315,
   "id": "b1a3640e-843d-44c7-ab15-e05845cc070e",
   "metadata": {},
   "outputs": [
    {
     "data": {
      "text/plain": [
       "19.587"
      ]
     },
     "execution_count": 315,
     "metadata": {},
     "output_type": "execute_result"
    }
   ],
   "source": [
    "job = bq.query(query = query)\n",
    "job.result()\n",
    "(job.ended-job.started).total_seconds()"
   ]
  },
  {
   "cell_type": "code",
   "execution_count": 316,
   "id": "6867ee90-60d0-4413-8e39-38cecc7e8d81",
   "metadata": {},
   "outputs": [
    {
     "data": {
      "text/plain": [
       "272000"
      ]
     },
     "execution_count": 316,
     "metadata": {},
     "output_type": "execute_result"
    }
   ],
   "source": [
    "job.total_bytes_processed"
   ]
  },
  {
   "cell_type": "markdown",
   "id": "bf6209c9-5e45-4da2-a4fc-ec7c759c8bbb",
   "metadata": {},
   "source": [
    "Add labels to the model in BigQuery:"
   ]
  },
  {
   "cell_type": "code",
   "execution_count": 317,
   "id": "13d696f2-a277-422c-9cb0-f2ea8b5b242f",
   "metadata": {},
   "outputs": [],
   "source": [
    "bqml_model_auto = bq.get_model(f'{BQ_PROJECT}.{BQ_DATASET}.{BQ_MODEL_AUTO}')\n",
    "bqml_model_auto.labels = {'series' : f'{SERIES}', 'experiment' : f'{EXPERIMENT}'}\n",
    "bqml_model_auto = bq.update_model(bqml_model_auto, ['labels'])"
   ]
  },
  {
   "cell_type": "markdown",
   "id": "2b2757a2-26f1-4efe-8982-c18b5934a1f5",
   "metadata": {},
   "source": [
    "### Feature and Training Review"
   ]
  },
  {
   "cell_type": "markdown",
   "id": "76bec6dc-7312-4676-8018-fd1b9b842dc0",
   "metadata": {},
   "source": [
    "Review the Model Inputs, the feature information before preprocessing, with [ML.FEATURE_INFO](https://cloud.google.com/bigquery-ml/docs/reference/standard-sql/bigqueryml-syntax-feature):"
   ]
  },
  {
   "cell_type": "code",
   "execution_count": 318,
   "id": "1100435a-f279-4ebe-9fd0-85d6eb88b225",
   "metadata": {},
   "outputs": [
    {
     "name": "stdout",
     "output_type": "stream",
     "text": [
      "\n",
      "    SELECT *\n",
      "    FROM ML.FEATURE_INFO(MODEL `statmike-mlops-349915.feature_engineering.03_feature_engineering_auto`)\n",
      "\n"
     ]
    }
   ],
   "source": [
    "query = f\"\"\"\n",
    "    SELECT *\n",
    "    FROM ML.FEATURE_INFO(MODEL `{BQ_PROJECT}.{BQ_DATASET}.{BQ_MODEL_AUTO}`)\n",
    "\"\"\"\n",
    "print(query)"
   ]
  },
  {
   "cell_type": "code",
   "execution_count": 319,
   "id": "b829e860-d977-41c4-a2f6-9b841d6892fa",
   "metadata": {},
   "outputs": [
    {
     "data": {
      "text/html": [
       "<div>\n",
       "<style scoped>\n",
       "    .dataframe tbody tr th:only-of-type {\n",
       "        vertical-align: middle;\n",
       "    }\n",
       "\n",
       "    .dataframe tbody tr th {\n",
       "        vertical-align: top;\n",
       "    }\n",
       "\n",
       "    .dataframe thead th {\n",
       "        text-align: right;\n",
       "    }\n",
       "</style>\n",
       "<table border=\"1\" class=\"dataframe\">\n",
       "  <thead>\n",
       "    <tr style=\"text-align: right;\">\n",
       "      <th></th>\n",
       "      <th>input</th>\n",
       "      <th>min</th>\n",
       "      <th>max</th>\n",
       "      <th>mean</th>\n",
       "      <th>median</th>\n",
       "      <th>stddev</th>\n",
       "      <th>category_count</th>\n",
       "      <th>null_count</th>\n",
       "      <th>dimension</th>\n",
       "    </tr>\n",
       "  </thead>\n",
       "  <tbody>\n",
       "    <tr>\n",
       "      <th>0</th>\n",
       "      <td>flourAmt</td>\n",
       "      <td>464.544075</td>\n",
       "      <td>531.503637</td>\n",
       "      <td>499.823098</td>\n",
       "      <td>499.597109</td>\n",
       "      <td>10.158442</td>\n",
       "      <td>NaN</td>\n",
       "      <td>0</td>\n",
       "      <td>NaN</td>\n",
       "    </tr>\n",
       "    <tr>\n",
       "      <th>1</th>\n",
       "      <td>saltAmt</td>\n",
       "      <td>8.000000</td>\n",
       "      <td>12.000000</td>\n",
       "      <td>9.976861</td>\n",
       "      <td>10.000000</td>\n",
       "      <td>1.227589</td>\n",
       "      <td>NaN</td>\n",
       "      <td>0</td>\n",
       "      <td>NaN</td>\n",
       "    </tr>\n",
       "    <tr>\n",
       "      <th>2</th>\n",
       "      <td>yeastAmt</td>\n",
       "      <td>8.000000</td>\n",
       "      <td>12.000000</td>\n",
       "      <td>10.028768</td>\n",
       "      <td>10.000000</td>\n",
       "      <td>1.238382</td>\n",
       "      <td>NaN</td>\n",
       "      <td>0</td>\n",
       "      <td>NaN</td>\n",
       "    </tr>\n",
       "    <tr>\n",
       "      <th>3</th>\n",
       "      <td>mix1Time</td>\n",
       "      <td>1.000000</td>\n",
       "      <td>9.000000</td>\n",
       "      <td>5.008130</td>\n",
       "      <td>5.000000</td>\n",
       "      <td>1.068052</td>\n",
       "      <td>NaN</td>\n",
       "      <td>0</td>\n",
       "      <td>NaN</td>\n",
       "    </tr>\n",
       "    <tr>\n",
       "      <th>4</th>\n",
       "      <td>mix1Speed</td>\n",
       "      <td>2.000000</td>\n",
       "      <td>5.000000</td>\n",
       "      <td>3.474046</td>\n",
       "      <td>3.000000</td>\n",
       "      <td>0.954101</td>\n",
       "      <td>NaN</td>\n",
       "      <td>0</td>\n",
       "      <td>NaN</td>\n",
       "    </tr>\n",
       "    <tr>\n",
       "      <th>5</th>\n",
       "      <td>mix2Time</td>\n",
       "      <td>4.000000</td>\n",
       "      <td>8.000000</td>\n",
       "      <td>5.998124</td>\n",
       "      <td>6.000000</td>\n",
       "      <td>1.212419</td>\n",
       "      <td>NaN</td>\n",
       "      <td>0</td>\n",
       "      <td>NaN</td>\n",
       "    </tr>\n",
       "    <tr>\n",
       "      <th>6</th>\n",
       "      <td>mix2Speed</td>\n",
       "      <td>4.000000</td>\n",
       "      <td>6.000000</td>\n",
       "      <td>5.013133</td>\n",
       "      <td>5.000000</td>\n",
       "      <td>0.711397</td>\n",
       "      <td>NaN</td>\n",
       "      <td>0</td>\n",
       "      <td>NaN</td>\n",
       "    </tr>\n",
       "    <tr>\n",
       "      <th>7</th>\n",
       "      <td>water1Amt</td>\n",
       "      <td>264.754476</td>\n",
       "      <td>402.056413</td>\n",
       "      <td>329.606586</td>\n",
       "      <td>329.066253</td>\n",
       "      <td>19.604805</td>\n",
       "      <td>NaN</td>\n",
       "      <td>0</td>\n",
       "      <td>NaN</td>\n",
       "    </tr>\n",
       "    <tr>\n",
       "      <th>8</th>\n",
       "      <td>water2Amt</td>\n",
       "      <td>40.532389</td>\n",
       "      <td>165.672778</td>\n",
       "      <td>110.498739</td>\n",
       "      <td>110.498907</td>\n",
       "      <td>20.423847</td>\n",
       "      <td>NaN</td>\n",
       "      <td>0</td>\n",
       "      <td>NaN</td>\n",
       "    </tr>\n",
       "    <tr>\n",
       "      <th>9</th>\n",
       "      <td>waterTemp</td>\n",
       "      <td>40.000000</td>\n",
       "      <td>50.000000</td>\n",
       "      <td>45.043152</td>\n",
       "      <td>45.000000</td>\n",
       "      <td>2.913009</td>\n",
       "      <td>NaN</td>\n",
       "      <td>0</td>\n",
       "      <td>NaN</td>\n",
       "    </tr>\n",
       "    <tr>\n",
       "      <th>10</th>\n",
       "      <td>proveTime</td>\n",
       "      <td>85.231731</td>\n",
       "      <td>118.753490</td>\n",
       "      <td>100.005715</td>\n",
       "      <td>99.819079</td>\n",
       "      <td>5.032139</td>\n",
       "      <td>NaN</td>\n",
       "      <td>0</td>\n",
       "      <td>NaN</td>\n",
       "    </tr>\n",
       "    <tr>\n",
       "      <th>11</th>\n",
       "      <td>restTime</td>\n",
       "      <td>35.000000</td>\n",
       "      <td>45.000000</td>\n",
       "      <td>40.053784</td>\n",
       "      <td>40.000000</td>\n",
       "      <td>2.943925</td>\n",
       "      <td>NaN</td>\n",
       "      <td>0</td>\n",
       "      <td>NaN</td>\n",
       "    </tr>\n",
       "    <tr>\n",
       "      <th>12</th>\n",
       "      <td>bakeTime</td>\n",
       "      <td>20.000000</td>\n",
       "      <td>30.000000</td>\n",
       "      <td>24.996248</td>\n",
       "      <td>25.000000</td>\n",
       "      <td>2.910855</td>\n",
       "      <td>NaN</td>\n",
       "      <td>0</td>\n",
       "      <td>NaN</td>\n",
       "    </tr>\n",
       "    <tr>\n",
       "      <th>13</th>\n",
       "      <td>bakeTemp</td>\n",
       "      <td>376.287186</td>\n",
       "      <td>476.818499</td>\n",
       "      <td>425.496193</td>\n",
       "      <td>425.095991</td>\n",
       "      <td>14.987706</td>\n",
       "      <td>NaN</td>\n",
       "      <td>0</td>\n",
       "      <td>NaN</td>\n",
       "    </tr>\n",
       "    <tr>\n",
       "      <th>14</th>\n",
       "      <td>ambTemp</td>\n",
       "      <td>20.425525</td>\n",
       "      <td>95.632699</td>\n",
       "      <td>60.136301</td>\n",
       "      <td>60.175952</td>\n",
       "      <td>10.081356</td>\n",
       "      <td>NaN</td>\n",
       "      <td>0</td>\n",
       "      <td>NaN</td>\n",
       "    </tr>\n",
       "    <tr>\n",
       "      <th>15</th>\n",
       "      <td>ambHumidity</td>\n",
       "      <td>17.113365</td>\n",
       "      <td>82.451559</td>\n",
       "      <td>49.644121</td>\n",
       "      <td>49.738105</td>\n",
       "      <td>9.839682</td>\n",
       "      <td>NaN</td>\n",
       "      <td>0</td>\n",
       "      <td>NaN</td>\n",
       "    </tr>\n",
       "  </tbody>\n",
       "</table>\n",
       "</div>"
      ],
      "text/plain": [
       "          input         min         max        mean      median     stddev  \\\n",
       "0      flourAmt  464.544075  531.503637  499.823098  499.597109  10.158442   \n",
       "1       saltAmt    8.000000   12.000000    9.976861   10.000000   1.227589   \n",
       "2      yeastAmt    8.000000   12.000000   10.028768   10.000000   1.238382   \n",
       "3      mix1Time    1.000000    9.000000    5.008130    5.000000   1.068052   \n",
       "4     mix1Speed    2.000000    5.000000    3.474046    3.000000   0.954101   \n",
       "5      mix2Time    4.000000    8.000000    5.998124    6.000000   1.212419   \n",
       "6     mix2Speed    4.000000    6.000000    5.013133    5.000000   0.711397   \n",
       "7     water1Amt  264.754476  402.056413  329.606586  329.066253  19.604805   \n",
       "8     water2Amt   40.532389  165.672778  110.498739  110.498907  20.423847   \n",
       "9     waterTemp   40.000000   50.000000   45.043152   45.000000   2.913009   \n",
       "10    proveTime   85.231731  118.753490  100.005715   99.819079   5.032139   \n",
       "11     restTime   35.000000   45.000000   40.053784   40.000000   2.943925   \n",
       "12     bakeTime   20.000000   30.000000   24.996248   25.000000   2.910855   \n",
       "13     bakeTemp  376.287186  476.818499  425.496193  425.095991  14.987706   \n",
       "14      ambTemp   20.425525   95.632699   60.136301   60.175952  10.081356   \n",
       "15  ambHumidity   17.113365   82.451559   49.644121   49.738105   9.839682   \n",
       "\n",
       "    category_count  null_count  dimension  \n",
       "0              NaN           0        NaN  \n",
       "1              NaN           0        NaN  \n",
       "2              NaN           0        NaN  \n",
       "3              NaN           0        NaN  \n",
       "4              NaN           0        NaN  \n",
       "5              NaN           0        NaN  \n",
       "6              NaN           0        NaN  \n",
       "7              NaN           0        NaN  \n",
       "8              NaN           0        NaN  \n",
       "9              NaN           0        NaN  \n",
       "10             NaN           0        NaN  \n",
       "11             NaN           0        NaN  \n",
       "12             NaN           0        NaN  \n",
       "13             NaN           0        NaN  \n",
       "14             NaN           0        NaN  \n",
       "15             NaN           0        NaN  "
      ]
     },
     "execution_count": 319,
     "metadata": {},
     "output_type": "execute_result"
    }
   ],
   "source": [
    "bq.query(query = query).to_dataframe()"
   ]
  },
  {
   "cell_type": "markdown",
   "id": "321078f6-393a-4abd-9d5e-b2068a795068",
   "metadata": {},
   "source": [
    "Review the iterations from training with [ML.TRAINING_INFO](https://cloud.google.com/bigquery-ml/docs/reference/standard-sql/bigqueryml-syntax-train):"
   ]
  },
  {
   "cell_type": "code",
   "execution_count": 320,
   "id": "30eb40bd-3488-42de-b218-809d8f97bf83",
   "metadata": {},
   "outputs": [
    {
     "name": "stdout",
     "output_type": "stream",
     "text": [
      "\n",
      "    SELECT *\n",
      "    FROM ML.TRAINING_INFO(MODEL `statmike-mlops-349915.feature_engineering.03_feature_engineering_auto`)\n",
      "    ORDER BY iteration\n",
      "\n"
     ]
    }
   ],
   "source": [
    "query = f\"\"\"\n",
    "    SELECT *\n",
    "    FROM ML.TRAINING_INFO(MODEL `{BQ_PROJECT}.{BQ_DATASET}.{BQ_MODEL_AUTO}`)\n",
    "    ORDER BY iteration\n",
    "\"\"\"\n",
    "print(query)"
   ]
  },
  {
   "cell_type": "code",
   "execution_count": 321,
   "id": "14d2757d",
   "metadata": {},
   "outputs": [
    {
     "data": {
      "text/html": [
       "<div>\n",
       "<style scoped>\n",
       "    .dataframe tbody tr th:only-of-type {\n",
       "        vertical-align: middle;\n",
       "    }\n",
       "\n",
       "    .dataframe tbody tr th {\n",
       "        vertical-align: top;\n",
       "    }\n",
       "\n",
       "    .dataframe thead th {\n",
       "        text-align: right;\n",
       "    }\n",
       "</style>\n",
       "<table border=\"1\" class=\"dataframe\">\n",
       "  <thead>\n",
       "    <tr style=\"text-align: right;\">\n",
       "      <th></th>\n",
       "      <th>training_run</th>\n",
       "      <th>iteration</th>\n",
       "      <th>loss</th>\n",
       "      <th>eval_loss</th>\n",
       "      <th>learning_rate</th>\n",
       "      <th>duration_ms</th>\n",
       "    </tr>\n",
       "  </thead>\n",
       "  <tbody>\n",
       "    <tr>\n",
       "      <th>0</th>\n",
       "      <td>0</td>\n",
       "      <td>0</td>\n",
       "      <td>88.160108</td>\n",
       "      <td>100.717042</td>\n",
       "      <td>NaN</td>\n",
       "      <td>2555</td>\n",
       "    </tr>\n",
       "  </tbody>\n",
       "</table>\n",
       "</div>"
      ],
      "text/plain": [
       "   training_run  iteration       loss   eval_loss  learning_rate  duration_ms\n",
       "0             0          0  88.160108  100.717042            NaN         2555"
      ]
     },
     "execution_count": 321,
     "metadata": {},
     "output_type": "execute_result"
    }
   ],
   "source": [
    "bq.query(query = query).to_dataframe()"
   ]
  },
  {
   "cell_type": "markdown",
   "id": "596380c5-83ac-41d5-9519-f4df0c35886c",
   "metadata": {},
   "source": [
    "### Model Metrics Review\n",
    "\n",
    "Review the model evaluation statistics with [ML.EVALUATE](https://cloud.google.com/bigquery-ml/docs/reference/standard-sql/bigqueryml-syntax-evaluate):"
   ]
  },
  {
   "cell_type": "code",
   "execution_count": 322,
   "id": "eb26a15e-0c6b-477b-b04d-c669aa77cd27",
   "metadata": {},
   "outputs": [
    {
     "name": "stdout",
     "output_type": "stream",
     "text": [
      "\n",
      "    SELECT * FROM ML.EVALUATE(MODEL `statmike-mlops-349915.feature_engineering.03_feature_engineering_auto`)\n",
      "\n"
     ]
    }
   ],
   "source": [
    "query = f\"\"\"\n",
    "    SELECT * FROM ML.EVALUATE(MODEL `{BQ_PROJECT}.{BQ_DATASET}.{BQ_MODEL_AUTO}`)\n",
    "\"\"\"\n",
    "print(query)"
   ]
  },
  {
   "cell_type": "code",
   "execution_count": 323,
   "id": "d1cffa5b-42e4-4960-a55f-1ccade693b89",
   "metadata": {},
   "outputs": [
    {
     "data": {
      "text/html": [
       "<div>\n",
       "<style scoped>\n",
       "    .dataframe tbody tr th:only-of-type {\n",
       "        vertical-align: middle;\n",
       "    }\n",
       "\n",
       "    .dataframe tbody tr th {\n",
       "        vertical-align: top;\n",
       "    }\n",
       "\n",
       "    .dataframe thead th {\n",
       "        text-align: right;\n",
       "    }\n",
       "</style>\n",
       "<table border=\"1\" class=\"dataframe\">\n",
       "  <thead>\n",
       "    <tr style=\"text-align: right;\">\n",
       "      <th></th>\n",
       "      <th>mean_absolute_error</th>\n",
       "      <th>mean_squared_error</th>\n",
       "      <th>mean_squared_log_error</th>\n",
       "      <th>median_absolute_error</th>\n",
       "      <th>r2_score</th>\n",
       "      <th>explained_variance</th>\n",
       "    </tr>\n",
       "  </thead>\n",
       "  <tbody>\n",
       "    <tr>\n",
       "      <th>0</th>\n",
       "      <td>7.782854</td>\n",
       "      <td>100.717042</td>\n",
       "      <td>0.023195</td>\n",
       "      <td>6.943565</td>\n",
       "      <td>0.000694</td>\n",
       "      <td>0.011133</td>\n",
       "    </tr>\n",
       "  </tbody>\n",
       "</table>\n",
       "</div>"
      ],
      "text/plain": [
       "   mean_absolute_error  mean_squared_error  mean_squared_log_error  \\\n",
       "0             7.782854          100.717042                0.023195   \n",
       "\n",
       "   median_absolute_error  r2_score  explained_variance  \n",
       "0               6.943565  0.000694            0.011133  "
      ]
     },
     "execution_count": 323,
     "metadata": {},
     "output_type": "execute_result"
    }
   ],
   "source": [
    "bq.query(query = query).to_dataframe()"
   ]
  },
  {
   "cell_type": "markdown",
   "id": "3d5bafb8-a1b2-41cf-9620-0bff64a96379",
   "metadata": {},
   "source": [
    "### Global Explainability - What is important to Judges?\n",
    "\n",
    "Retrieve the influence of each feature on the model with [ML.GLOBAL_EXPLAIN](https://cloud.google.com/bigquery-ml/docs/reference/standard-sql/bigqueryml-syntax-global-explain).  "
   ]
  },
  {
   "cell_type": "code",
   "execution_count": 324,
   "id": "dcb5576e-d0b7-464d-a2f0-8b566d41b18c",
   "metadata": {},
   "outputs": [
    {
     "name": "stdout",
     "output_type": "stream",
     "text": [
      "\n",
      "    SELECT *\n",
      "    FROM ML.GLOBAL_EXPLAIN (MODEL `statmike-mlops-349915.feature_engineering.03_feature_engineering_auto`)\n",
      "\n"
     ]
    }
   ],
   "source": [
    "query = f\"\"\"\n",
    "    SELECT *\n",
    "    FROM ML.GLOBAL_EXPLAIN (MODEL `{BQ_PROJECT}.{BQ_DATASET}.{BQ_MODEL_AUTO}`)\n",
    "\"\"\"\n",
    "print(query)"
   ]
  },
  {
   "cell_type": "code",
   "execution_count": 325,
   "id": "e14d4341-75b8-4cb9-a80b-bb2d9b15daae",
   "metadata": {},
   "outputs": [
    {
     "data": {
      "text/html": [
       "<div>\n",
       "<style scoped>\n",
       "    .dataframe tbody tr th:only-of-type {\n",
       "        vertical-align: middle;\n",
       "    }\n",
       "\n",
       "    .dataframe tbody tr th {\n",
       "        vertical-align: top;\n",
       "    }\n",
       "\n",
       "    .dataframe thead th {\n",
       "        text-align: right;\n",
       "    }\n",
       "</style>\n",
       "<table border=\"1\" class=\"dataframe\">\n",
       "  <thead>\n",
       "    <tr style=\"text-align: right;\">\n",
       "      <th></th>\n",
       "      <th>feature</th>\n",
       "      <th>attribution</th>\n",
       "    </tr>\n",
       "  </thead>\n",
       "  <tbody>\n",
       "    <tr>\n",
       "      <th>0</th>\n",
       "      <td>bakeTemp</td>\n",
       "      <td>2.394582</td>\n",
       "    </tr>\n",
       "    <tr>\n",
       "      <th>1</th>\n",
       "      <td>mix2Time</td>\n",
       "      <td>0.872880</td>\n",
       "    </tr>\n",
       "    <tr>\n",
       "      <th>2</th>\n",
       "      <td>saltAmt</td>\n",
       "      <td>0.430852</td>\n",
       "    </tr>\n",
       "    <tr>\n",
       "      <th>3</th>\n",
       "      <td>flourAmt</td>\n",
       "      <td>0.314419</td>\n",
       "    </tr>\n",
       "    <tr>\n",
       "      <th>4</th>\n",
       "      <td>mix2Speed</td>\n",
       "      <td>0.312317</td>\n",
       "    </tr>\n",
       "    <tr>\n",
       "      <th>5</th>\n",
       "      <td>bakeTime</td>\n",
       "      <td>0.249525</td>\n",
       "    </tr>\n",
       "    <tr>\n",
       "      <th>6</th>\n",
       "      <td>waterTemp</td>\n",
       "      <td>0.185143</td>\n",
       "    </tr>\n",
       "    <tr>\n",
       "      <th>7</th>\n",
       "      <td>water1Amt</td>\n",
       "      <td>0.130179</td>\n",
       "    </tr>\n",
       "    <tr>\n",
       "      <th>8</th>\n",
       "      <td>proveTime</td>\n",
       "      <td>0.130037</td>\n",
       "    </tr>\n",
       "    <tr>\n",
       "      <th>9</th>\n",
       "      <td>ambHumidity</td>\n",
       "      <td>0.125837</td>\n",
       "    </tr>\n",
       "    <tr>\n",
       "      <th>10</th>\n",
       "      <td>ambTemp</td>\n",
       "      <td>0.109617</td>\n",
       "    </tr>\n",
       "    <tr>\n",
       "      <th>11</th>\n",
       "      <td>mix1Speed</td>\n",
       "      <td>0.109046</td>\n",
       "    </tr>\n",
       "    <tr>\n",
       "      <th>12</th>\n",
       "      <td>restTime</td>\n",
       "      <td>0.103344</td>\n",
       "    </tr>\n",
       "    <tr>\n",
       "      <th>13</th>\n",
       "      <td>yeastAmt</td>\n",
       "      <td>0.085018</td>\n",
       "    </tr>\n",
       "    <tr>\n",
       "      <th>14</th>\n",
       "      <td>water2Amt</td>\n",
       "      <td>0.060971</td>\n",
       "    </tr>\n",
       "    <tr>\n",
       "      <th>15</th>\n",
       "      <td>mix1Time</td>\n",
       "      <td>0.043299</td>\n",
       "    </tr>\n",
       "  </tbody>\n",
       "</table>\n",
       "</div>"
      ],
      "text/plain": [
       "        feature  attribution\n",
       "0      bakeTemp     2.394582\n",
       "1      mix2Time     0.872880\n",
       "2       saltAmt     0.430852\n",
       "3      flourAmt     0.314419\n",
       "4     mix2Speed     0.312317\n",
       "5      bakeTime     0.249525\n",
       "6     waterTemp     0.185143\n",
       "7     water1Amt     0.130179\n",
       "8     proveTime     0.130037\n",
       "9   ambHumidity     0.125837\n",
       "10      ambTemp     0.109617\n",
       "11    mix1Speed     0.109046\n",
       "12     restTime     0.103344\n",
       "13     yeastAmt     0.085018\n",
       "14    water2Amt     0.060971\n",
       "15     mix1Time     0.043299"
      ]
     },
     "execution_count": 325,
     "metadata": {},
     "output_type": "execute_result"
    }
   ],
   "source": [
    "gexplain = bq.query(query = query).to_dataframe()\n",
    "gexplain"
   ]
  },
  {
   "cell_type": "markdown",
   "id": "3f2564d7-d386-4176-9d55-d6fa477eda19",
   "metadata": {},
   "source": [
    "Plot the attribution:"
   ]
  },
  {
   "cell_type": "code",
   "execution_count": 326,
   "id": "6cbc28ff-f088-4b80-a78e-75f4322c4655",
   "metadata": {},
   "outputs": [
    {
     "data": {
      "image/png": "[encoded data removed]",
      "text/plain": [
       "<Figure size 1080x576 with 1 Axes>"
      ]
     },
     "metadata": {
      "needs_background": "light"
     },
     "output_type": "display_data"
    }
   ],
   "source": [
    "plt.figure(figsize=(15,8))\n",
    "plt.barh(gexplain['feature'], gexplain['attribution'])\n",
    "plt.title('Global Influence')\n",
    "plt.xlabel('Attribution')\n",
    "#plt.ylabel('Feature')\n",
    "plt.show()"
   ]
  },
  {
   "cell_type": "markdown",
   "id": "1eaffa75-66b8-4f5a-a302-7a5dd8a92750",
   "metadata": {},
   "source": [
    "### Predictions With BigQuery ML (BQML)\n",
    "\n",
    "Create a pandas dataframe with retrieved predictions for the test data (first 10 recipes) in the table using [ML.PREDICT](https://cloud.google.com/bigquery-ml/docs/reference/standard-sql/bigqueryml-syntax-predict):"
   ]
  },
  {
   "cell_type": "code",
   "execution_count": 327,
   "id": "c1026525-9173-4a89-b055-c49ad6216a48",
   "metadata": {},
   "outputs": [
    {
     "name": "stdout",
     "output_type": "stream",
     "text": [
      "\n",
      "    SELECT Recipe, JUDGE_A, predicted_JUDGE_A, JUDGE_A-predicted_JUDGE_A as Error\n",
      "    FROM ML.PREDICT (MODEL `statmike-mlops-349915.feature_engineering.03_feature_engineering_auto`,(\n",
      "        SELECT *\n",
      "        FROM `statmike-mlops-349915.feature_engineering.bread`\n",
      "        WHERE Recipe <= 10)\n",
      "    )\n",
      "    ORDER BY Recipe\n",
      "\n"
     ]
    }
   ],
   "source": [
    "query = f\"\"\"\n",
    "    SELECT Recipe, JUDGE_A, predicted_JUDGE_A, JUDGE_A-predicted_JUDGE_A as Error\n",
    "    FROM ML.PREDICT (MODEL `{BQ_PROJECT}.{BQ_DATASET}.{BQ_MODEL_AUTO}`,(\n",
    "        SELECT *\n",
    "        FROM `{BQ_PROJECT}.{BQ_DATASET}.{BQ_TABLE}`\n",
    "        WHERE Recipe <= 10)\n",
    "    )\n",
    "    ORDER BY Recipe\n",
    "\"\"\"\n",
    "print(query)"
   ]
  },
  {
   "cell_type": "code",
   "execution_count": 328,
   "id": "1810030f-a492-429c-8730-1833b1d7a6f9",
   "metadata": {},
   "outputs": [
    {
     "data": {
      "text/html": [
       "<div>\n",
       "<style scoped>\n",
       "    .dataframe tbody tr th:only-of-type {\n",
       "        vertical-align: middle;\n",
       "    }\n",
       "\n",
       "    .dataframe tbody tr th {\n",
       "        vertical-align: top;\n",
       "    }\n",
       "\n",
       "    .dataframe thead th {\n",
       "        text-align: right;\n",
       "    }\n",
       "</style>\n",
       "<table border=\"1\" class=\"dataframe\">\n",
       "  <thead>\n",
       "    <tr style=\"text-align: right;\">\n",
       "      <th></th>\n",
       "      <th>Recipe</th>\n",
       "      <th>JUDGE_A</th>\n",
       "      <th>predicted_JUDGE_A</th>\n",
       "      <th>Error</th>\n",
       "    </tr>\n",
       "  </thead>\n",
       "  <tbody>\n",
       "    <tr>\n",
       "      <th>0</th>\n",
       "      <td>1</td>\n",
       "      <td>41.0</td>\n",
       "      <td>68.767657</td>\n",
       "      <td>-27.767657</td>\n",
       "    </tr>\n",
       "    <tr>\n",
       "      <th>1</th>\n",
       "      <td>2</td>\n",
       "      <td>75.0</td>\n",
       "      <td>76.200429</td>\n",
       "      <td>-1.200429</td>\n",
       "    </tr>\n",
       "    <tr>\n",
       "      <th>2</th>\n",
       "      <td>3</td>\n",
       "      <td>75.0</td>\n",
       "      <td>80.882181</td>\n",
       "      <td>-5.882181</td>\n",
       "    </tr>\n",
       "    <tr>\n",
       "      <th>3</th>\n",
       "      <td>4</td>\n",
       "      <td>78.0</td>\n",
       "      <td>74.389256</td>\n",
       "      <td>3.610744</td>\n",
       "    </tr>\n",
       "    <tr>\n",
       "      <th>4</th>\n",
       "      <td>5</td>\n",
       "      <td>82.0</td>\n",
       "      <td>76.123129</td>\n",
       "      <td>5.876871</td>\n",
       "    </tr>\n",
       "    <tr>\n",
       "      <th>5</th>\n",
       "      <td>6</td>\n",
       "      <td>79.0</td>\n",
       "      <td>75.761039</td>\n",
       "      <td>3.238961</td>\n",
       "    </tr>\n",
       "    <tr>\n",
       "      <th>6</th>\n",
       "      <td>7</td>\n",
       "      <td>75.0</td>\n",
       "      <td>74.046637</td>\n",
       "      <td>0.953363</td>\n",
       "    </tr>\n",
       "    <tr>\n",
       "      <th>7</th>\n",
       "      <td>8</td>\n",
       "      <td>80.0</td>\n",
       "      <td>76.901529</td>\n",
       "      <td>3.098471</td>\n",
       "    </tr>\n",
       "    <tr>\n",
       "      <th>8</th>\n",
       "      <td>9</td>\n",
       "      <td>80.0</td>\n",
       "      <td>75.363747</td>\n",
       "      <td>4.636253</td>\n",
       "    </tr>\n",
       "    <tr>\n",
       "      <th>9</th>\n",
       "      <td>10</td>\n",
       "      <td>68.0</td>\n",
       "      <td>75.024258</td>\n",
       "      <td>-7.024258</td>\n",
       "    </tr>\n",
       "  </tbody>\n",
       "</table>\n",
       "</div>"
      ],
      "text/plain": [
       "   Recipe  JUDGE_A  predicted_JUDGE_A      Error\n",
       "0       1     41.0          68.767657 -27.767657\n",
       "1       2     75.0          76.200429  -1.200429\n",
       "2       3     75.0          80.882181  -5.882181\n",
       "3       4     78.0          74.389256   3.610744\n",
       "4       5     82.0          76.123129   5.876871\n",
       "5       6     79.0          75.761039   3.238961\n",
       "6       7     75.0          74.046637   0.953363\n",
       "7       8     80.0          76.901529   3.098471\n",
       "8       9     80.0          75.363747   4.636253\n",
       "9      10     68.0          75.024258  -7.024258"
      ]
     },
     "execution_count": 328,
     "metadata": {},
     "output_type": "execute_result"
    }
   ],
   "source": [
    "bq.query(query = query).to_dataframe()"
   ]
  },
  {
   "cell_type": "markdown",
   "id": "a7e2e696-8c53-4fde-9e81-a105779b9a1d",
   "metadata": {},
   "source": [
    "### Local Explainability - What impacted the judges rating?\n",
    "\n",
    "Retrieve feature attribution values to interpret each features contribution to a prediction relative to the baseline prediction using [ML.EXPLAIN_PREDICT](https://cloud.google.com/bigquery-ml/docs/reference/standard-sql/bigqueryml-syntax-explain-predict)."
   ]
  },
  {
   "cell_type": "code",
   "execution_count": 329,
   "id": "65f4d5d9-7ff7-4017-82a9-c256482e6bee",
   "metadata": {},
   "outputs": [
    {
     "name": "stdout",
     "output_type": "stream",
     "text": [
      "\n",
      "    SELECT *\n",
      "    FROM ML.EXPLAIN_PREDICT (MODEL `statmike-mlops-349915.feature_engineering.03_feature_engineering_auto`,(\n",
      "        SELECT *\n",
      "        FROM `statmike-mlops-349915.feature_engineering.bread`\n",
      "        WHERE Recipe <= 10)\n",
      "    )\n",
      "    ORDER BY Recipe\n",
      "\n"
     ]
    }
   ],
   "source": [
    "query = f\"\"\"\n",
    "    SELECT *\n",
    "    FROM ML.EXPLAIN_PREDICT (MODEL `{BQ_PROJECT}.{BQ_DATASET}.{BQ_MODEL_AUTO}`,(\n",
    "        SELECT *\n",
    "        FROM `{BQ_PROJECT}.{BQ_DATASET}.{BQ_TABLE}`\n",
    "        WHERE Recipe <= 10)\n",
    "    )\n",
    "    ORDER BY Recipe\n",
    "\"\"\"\n",
    "print(query)"
   ]
  },
  {
   "cell_type": "code",
   "execution_count": 330,
   "id": "953ff88f-244a-44f4-8a1f-a9be77b79ee3",
   "metadata": {},
   "outputs": [
    {
     "data": {
      "text/html": [
       "<div>\n",
       "<style scoped>\n",
       "    .dataframe tbody tr th:only-of-type {\n",
       "        vertical-align: middle;\n",
       "    }\n",
       "\n",
       "    .dataframe tbody tr th {\n",
       "        vertical-align: top;\n",
       "    }\n",
       "\n",
       "    .dataframe thead th {\n",
       "        text-align: right;\n",
       "    }\n",
       "</style>\n",
       "<table border=\"1\" class=\"dataframe\">\n",
       "  <thead>\n",
       "    <tr style=\"text-align: right;\">\n",
       "      <th></th>\n",
       "      <th>predicted_JUDGE_A</th>\n",
       "      <th>top_feature_attributions</th>\n",
       "      <th>baseline_prediction_value</th>\n",
       "      <th>prediction_value</th>\n",
       "      <th>approximation_error</th>\n",
       "      <th>Recipe</th>\n",
       "      <th>flourAmt</th>\n",
       "      <th>saltAmt</th>\n",
       "      <th>yeastAmt</th>\n",
       "      <th>mix1Time</th>\n",
       "      <th>...</th>\n",
       "      <th>water2Amt</th>\n",
       "      <th>waterTemp</th>\n",
       "      <th>proveTime</th>\n",
       "      <th>restTime</th>\n",
       "      <th>bakeTime</th>\n",
       "      <th>bakeTemp</th>\n",
       "      <th>ambTemp</th>\n",
       "      <th>ambHumidity</th>\n",
       "      <th>JUDGE_A</th>\n",
       "      <th>JUDGE_B</th>\n",
       "    </tr>\n",
       "  </thead>\n",
       "  <tbody>\n",
       "    <tr>\n",
       "      <th>0</th>\n",
       "      <td>68.767657</td>\n",
       "      <td>[{'feature': 'bakeTemp', 'attribution': -6.948...</td>\n",
       "      <td>74.644778</td>\n",
       "      <td>68.767657</td>\n",
       "      <td>0.0</td>\n",
       "      <td>1</td>\n",
       "      <td>511.216954</td>\n",
       "      <td>9</td>\n",
       "      <td>11</td>\n",
       "      <td>6</td>\n",
       "      <td>...</td>\n",
       "      <td>105.439552</td>\n",
       "      <td>48</td>\n",
       "      <td>92.277551</td>\n",
       "      <td>43</td>\n",
       "      <td>29</td>\n",
       "      <td>462.140285</td>\n",
       "      <td>38.205729</td>\n",
       "      <td>63.778364</td>\n",
       "      <td>41.0</td>\n",
       "      <td>20.0</td>\n",
       "    </tr>\n",
       "    <tr>\n",
       "      <th>1</th>\n",
       "      <td>76.200429</td>\n",
       "      <td>[{'feature': 'bakeTemp', 'attribution': 1.9311...</td>\n",
       "      <td>74.644778</td>\n",
       "      <td>76.200429</td>\n",
       "      <td>0.0</td>\n",
       "      <td>2</td>\n",
       "      <td>504.027379</td>\n",
       "      <td>12</td>\n",
       "      <td>11</td>\n",
       "      <td>7</td>\n",
       "      <td>...</td>\n",
       "      <td>109.383889</td>\n",
       "      <td>47</td>\n",
       "      <td>107.171485</td>\n",
       "      <td>45</td>\n",
       "      <td>28</td>\n",
       "      <td>415.312146</td>\n",
       "      <td>69.999552</td>\n",
       "      <td>46.117891</td>\n",
       "      <td>75.0</td>\n",
       "      <td>64.0</td>\n",
       "    </tr>\n",
       "    <tr>\n",
       "      <th>2</th>\n",
       "      <td>80.882181</td>\n",
       "      <td>[{'feature': 'bakeTemp', 'attribution': 3.8628...</td>\n",
       "      <td>74.644778</td>\n",
       "      <td>80.882181</td>\n",
       "      <td>0.0</td>\n",
       "      <td>3</td>\n",
       "      <td>506.413722</td>\n",
       "      <td>10</td>\n",
       "      <td>11</td>\n",
       "      <td>4</td>\n",
       "      <td>...</td>\n",
       "      <td>115.693323</td>\n",
       "      <td>42</td>\n",
       "      <td>99.872264</td>\n",
       "      <td>35</td>\n",
       "      <td>24</td>\n",
       "      <td>405.124881</td>\n",
       "      <td>45.326810</td>\n",
       "      <td>43.961578</td>\n",
       "      <td>75.0</td>\n",
       "      <td>64.0</td>\n",
       "    </tr>\n",
       "    <tr>\n",
       "      <th>3</th>\n",
       "      <td>74.389256</td>\n",
       "      <td>[{'feature': 'bakeTemp', 'attribution': -1.945...</td>\n",
       "      <td>74.644778</td>\n",
       "      <td>74.389256</td>\n",
       "      <td>0.0</td>\n",
       "      <td>4</td>\n",
       "      <td>507.602584</td>\n",
       "      <td>9</td>\n",
       "      <td>9</td>\n",
       "      <td>3</td>\n",
       "      <td>...</td>\n",
       "      <td>108.322366</td>\n",
       "      <td>42</td>\n",
       "      <td>102.966628</td>\n",
       "      <td>44</td>\n",
       "      <td>22</td>\n",
       "      <td>435.755052</td>\n",
       "      <td>42.543597</td>\n",
       "      <td>40.270958</td>\n",
       "      <td>78.0</td>\n",
       "      <td>68.0</td>\n",
       "    </tr>\n",
       "    <tr>\n",
       "      <th>4</th>\n",
       "      <td>76.123129</td>\n",
       "      <td>[{'feature': 'mix2Time', 'attribution': 1.6918...</td>\n",
       "      <td>74.644778</td>\n",
       "      <td>76.123129</td>\n",
       "      <td>0.0</td>\n",
       "      <td>5</td>\n",
       "      <td>486.277476</td>\n",
       "      <td>11</td>\n",
       "      <td>12</td>\n",
       "      <td>5</td>\n",
       "      <td>...</td>\n",
       "      <td>90.759381</td>\n",
       "      <td>43</td>\n",
       "      <td>100.725626</td>\n",
       "      <td>43</td>\n",
       "      <td>25</td>\n",
       "      <td>421.587535</td>\n",
       "      <td>53.086075</td>\n",
       "      <td>54.744809</td>\n",
       "      <td>82.0</td>\n",
       "      <td>73.0</td>\n",
       "    </tr>\n",
       "    <tr>\n",
       "      <th>5</th>\n",
       "      <td>75.761039</td>\n",
       "      <td>[{'feature': 'bakeTemp', 'attribution': 1.6982...</td>\n",
       "      <td>74.644778</td>\n",
       "      <td>75.761039</td>\n",
       "      <td>0.0</td>\n",
       "      <td>6</td>\n",
       "      <td>500.812862</td>\n",
       "      <td>11</td>\n",
       "      <td>11</td>\n",
       "      <td>3</td>\n",
       "      <td>...</td>\n",
       "      <td>124.672542</td>\n",
       "      <td>45</td>\n",
       "      <td>109.903886</td>\n",
       "      <td>36</td>\n",
       "      <td>24</td>\n",
       "      <td>416.540411</td>\n",
       "      <td>51.267701</td>\n",
       "      <td>35.815610</td>\n",
       "      <td>79.0</td>\n",
       "      <td>70.0</td>\n",
       "    </tr>\n",
       "    <tr>\n",
       "      <th>6</th>\n",
       "      <td>74.046637</td>\n",
       "      <td>[{'feature': 'mix2Time', 'attribution': 0.8467...</td>\n",
       "      <td>74.644778</td>\n",
       "      <td>74.046637</td>\n",
       "      <td>0.0</td>\n",
       "      <td>7</td>\n",
       "      <td>502.851477</td>\n",
       "      <td>12</td>\n",
       "      <td>12</td>\n",
       "      <td>6</td>\n",
       "      <td>...</td>\n",
       "      <td>139.302933</td>\n",
       "      <td>42</td>\n",
       "      <td>101.408681</td>\n",
       "      <td>36</td>\n",
       "      <td>23</td>\n",
       "      <td>428.752728</td>\n",
       "      <td>57.342281</td>\n",
       "      <td>44.121910</td>\n",
       "      <td>75.0</td>\n",
       "      <td>65.0</td>\n",
       "    </tr>\n",
       "    <tr>\n",
       "      <th>7</th>\n",
       "      <td>76.901529</td>\n",
       "      <td>[{'feature': 'mix2Time', 'attribution': -0.843...</td>\n",
       "      <td>74.644778</td>\n",
       "      <td>76.901529</td>\n",
       "      <td>0.0</td>\n",
       "      <td>8</td>\n",
       "      <td>520.064115</td>\n",
       "      <td>8</td>\n",
       "      <td>9</td>\n",
       "      <td>4</td>\n",
       "      <td>...</td>\n",
       "      <td>127.303650</td>\n",
       "      <td>44</td>\n",
       "      <td>106.827472</td>\n",
       "      <td>38</td>\n",
       "      <td>27</td>\n",
       "      <td>423.945867</td>\n",
       "      <td>42.812792</td>\n",
       "      <td>46.539498</td>\n",
       "      <td>80.0</td>\n",
       "      <td>71.0</td>\n",
       "    </tr>\n",
       "    <tr>\n",
       "      <th>8</th>\n",
       "      <td>75.363747</td>\n",
       "      <td>[{'feature': 'bakeTemp', 'attribution': 2.3331...</td>\n",
       "      <td>74.644778</td>\n",
       "      <td>75.363747</td>\n",
       "      <td>0.0</td>\n",
       "      <td>9</td>\n",
       "      <td>506.150124</td>\n",
       "      <td>12</td>\n",
       "      <td>11</td>\n",
       "      <td>5</td>\n",
       "      <td>...</td>\n",
       "      <td>125.086484</td>\n",
       "      <td>41</td>\n",
       "      <td>100.957520</td>\n",
       "      <td>40</td>\n",
       "      <td>23</td>\n",
       "      <td>413.192045</td>\n",
       "      <td>54.195141</td>\n",
       "      <td>40.067980</td>\n",
       "      <td>80.0</td>\n",
       "      <td>70.0</td>\n",
       "    </tr>\n",
       "    <tr>\n",
       "      <th>9</th>\n",
       "      <td>75.024258</td>\n",
       "      <td>[{'feature': 'mix2Speed', 'attribution': 0.611...</td>\n",
       "      <td>74.644778</td>\n",
       "      <td>75.024258</td>\n",
       "      <td>0.0</td>\n",
       "      <td>10</td>\n",
       "      <td>513.812340</td>\n",
       "      <td>11</td>\n",
       "      <td>9</td>\n",
       "      <td>8</td>\n",
       "      <td>...</td>\n",
       "      <td>151.097931</td>\n",
       "      <td>46</td>\n",
       "      <td>102.585934</td>\n",
       "      <td>35</td>\n",
       "      <td>23</td>\n",
       "      <td>428.643665</td>\n",
       "      <td>55.011774</td>\n",
       "      <td>60.119775</td>\n",
       "      <td>68.0</td>\n",
       "      <td>54.0</td>\n",
       "    </tr>\n",
       "  </tbody>\n",
       "</table>\n",
       "<p>10 rows × 24 columns</p>\n",
       "</div>"
      ],
      "text/plain": [
       "   predicted_JUDGE_A                           top_feature_attributions  \\\n",
       "0          68.767657  [{'feature': 'bakeTemp', 'attribution': -6.948...   \n",
       "1          76.200429  [{'feature': 'bakeTemp', 'attribution': 1.9311...   \n",
       "2          80.882181  [{'feature': 'bakeTemp', 'attribution': 3.8628...   \n",
       "3          74.389256  [{'feature': 'bakeTemp', 'attribution': -1.945...   \n",
       "4          76.123129  [{'feature': 'mix2Time', 'attribution': 1.6918...   \n",
       "5          75.761039  [{'feature': 'bakeTemp', 'attribution': 1.6982...   \n",
       "6          74.046637  [{'feature': 'mix2Time', 'attribution': 0.8467...   \n",
       "7          76.901529  [{'feature': 'mix2Time', 'attribution': -0.843...   \n",
       "8          75.363747  [{'feature': 'bakeTemp', 'attribution': 2.3331...   \n",
       "9          75.024258  [{'feature': 'mix2Speed', 'attribution': 0.611...   \n",
       "\n",
       "   baseline_prediction_value  prediction_value  approximation_error  Recipe  \\\n",
       "0                  74.644778         68.767657                  0.0       1   \n",
       "1                  74.644778         76.200429                  0.0       2   \n",
       "2                  74.644778         80.882181                  0.0       3   \n",
       "3                  74.644778         74.389256                  0.0       4   \n",
       "4                  74.644778         76.123129                  0.0       5   \n",
       "5                  74.644778         75.761039                  0.0       6   \n",
       "6                  74.644778         74.046637                  0.0       7   \n",
       "7                  74.644778         76.901529                  0.0       8   \n",
       "8                  74.644778         75.363747                  0.0       9   \n",
       "9                  74.644778         75.024258                  0.0      10   \n",
       "\n",
       "     flourAmt  saltAmt  yeastAmt  mix1Time  ...   water2Amt  waterTemp  \\\n",
       "0  511.216954        9        11         6  ...  105.439552         48   \n",
       "1  504.027379       12        11         7  ...  109.383889         47   \n",
       "2  506.413722       10        11         4  ...  115.693323         42   \n",
       "3  507.602584        9         9         3  ...  108.322366         42   \n",
       "4  486.277476       11        12         5  ...   90.759381         43   \n",
       "5  500.812862       11        11         3  ...  124.672542         45   \n",
       "6  502.851477       12        12         6  ...  139.302933         42   \n",
       "7  520.064115        8         9         4  ...  127.303650         44   \n",
       "8  506.150124       12        11         5  ...  125.086484         41   \n",
       "9  513.812340       11         9         8  ...  151.097931         46   \n",
       "\n",
       "    proveTime  restTime  bakeTime    bakeTemp    ambTemp  ambHumidity  \\\n",
       "0   92.277551        43        29  462.140285  38.205729    63.778364   \n",
       "1  107.171485        45        28  415.312146  69.999552    46.117891   \n",
       "2   99.872264        35        24  405.124881  45.326810    43.961578   \n",
       "3  102.966628        44        22  435.755052  42.543597    40.270958   \n",
       "4  100.725626        43        25  421.587535  53.086075    54.744809   \n",
       "5  109.903886        36        24  416.540411  51.267701    35.815610   \n",
       "6  101.408681        36        23  428.752728  57.342281    44.121910   \n",
       "7  106.827472        38        27  423.945867  42.812792    46.539498   \n",
       "8  100.957520        40        23  413.192045  54.195141    40.067980   \n",
       "9  102.585934        35        23  428.643665  55.011774    60.119775   \n",
       "\n",
       "   JUDGE_A  JUDGE_B  \n",
       "0     41.0     20.0  \n",
       "1     75.0     64.0  \n",
       "2     75.0     64.0  \n",
       "3     78.0     68.0  \n",
       "4     82.0     73.0  \n",
       "5     79.0     70.0  \n",
       "6     75.0     65.0  \n",
       "7     80.0     71.0  \n",
       "8     80.0     70.0  \n",
       "9     68.0     54.0  \n",
       "\n",
       "[10 rows x 24 columns]"
      ]
     },
     "execution_count": 330,
     "metadata": {},
     "output_type": "execute_result"
    }
   ],
   "source": [
    "explain = bq.query(query = query).to_dataframe()\n",
    "explain"
   ]
  },
  {
   "cell_type": "markdown",
   "id": "5ce8efde-7ef7-447b-bf69-5fb5b918f674",
   "metadata": {},
   "source": [
    "Create a plot of feature attributions for a single prediction:"
   ]
  },
  {
   "cell_type": "code",
   "execution_count": 331,
   "id": "d9d6f625-5d5b-4017-b7b0-ccb59148ee62",
   "metadata": {},
   "outputs": [],
   "source": [
    "recipe = 1\n",
    "explanation = explain.iloc[recipe-1]['top_feature_attributions']"
   ]
  },
  {
   "cell_type": "code",
   "execution_count": 332,
   "id": "3645d9e5-b411-40f2-953a-c45a2c160664",
   "metadata": {},
   "outputs": [
    {
     "data": {
      "image/png": "[encoded data removed]",
      "text/plain": [
       "<Figure size 1080x360 with 1 Axes>"
      ]
     },
     "metadata": {
      "needs_background": "light"
     },
     "output_type": "display_data"
    }
   ],
   "source": [
    "features = []\n",
    "scores = []\n",
    "for k in explanation:\n",
    "    features.append(k['feature'])\n",
    "    scores.append(k['attribution'])\n",
    "features = [x for _, x in sorted(zip(scores, features))]\n",
    "scores = sorted(scores)\n",
    "\n",
    "plt.figure(figsize=(15,5))\n",
    "plt.barh(features, scores)\n",
    "plt.title(f'Feature Attribution for Prediction - Recipe {recipe}')\n",
    "plt.show()"
   ]
  },
  {
   "cell_type": "markdown",
   "id": "01705331-bb4a-48b0-93eb-e352623afd21",
   "metadata": {},
   "source": [
    "### Check out this model in the BigQuery Console:\n",
    "- Make sure project selected is the one from this notebook\n",
    "- Under Explore, expand this project and dataset\n",
    "- Expand Models and select the model create here"
   ]
  },
  {
   "cell_type": "code",
   "execution_count": 333,
   "id": "a70136c5-da05-4083-b45e-1c19d4a32c3c",
   "metadata": {},
   "outputs": [
    {
     "name": "stdout",
     "output_type": "stream",
     "text": [
      "Direct link to the model in BigQuery:\n",
      "https://console.cloud.google.com/bigquery?project=statmike-mlops-349915&ws=!1m5!1m4!5m3!1sstatmike-mlops-349915!2sfeature_engineering!3s03_feature_engineering_auto\n"
     ]
    }
   ],
   "source": [
    "print(f'Direct link to the model in BigQuery:\\nhttps://console.cloud.google.com/bigquery?project={PROJECT_ID}&ws=!1m5!1m4!5m3!1s{PROJECT_ID}!2s{BQ_DATASET}!3s{BQ_MODEL_AUTO}')"
   ]
  },
  {
   "cell_type": "markdown",
   "id": "553756fc-8889-4311-8b03-b20a6f9bec87",
   "metadata": {},
   "source": [
    "### Check out this model in the Vertex AI Console:\n",
    "- Make sure project selected is the one from this notebook\n",
    "- Make sure the region is `europe-west4` (default when BQ is `EU` multiregion)"
   ]
  },
  {
   "cell_type": "code",
   "execution_count": 334,
   "id": "54f34a5a-f5e4-43af-b68b-76c95cba0860",
   "metadata": {},
   "outputs": [
    {
     "name": "stdout",
     "output_type": "stream",
     "text": [
      "View the model in the Vertex AI Console:\n",
      "https://console.cloud.google.com/vertex-ai/locations/us-central1/models/bqml_03_feature_engineering_auto?project=statmike-mlops-349915\n"
     ]
    }
   ],
   "source": [
    "print(f\"View the model in the Vertex AI Console:\\nhttps://console.cloud.google.com/vertex-ai/locations/{REGION}/models/bqml_{BQ_MODEL_AUTO}?project={PROJECT_ID}\")"
   ]
  },
  {
   "cell_type": "markdown",
   "id": "1e35e1f2-9c88-4fd5-a3eb-26f0f1091153",
   "metadata": {},
   "source": [
    "## Serving"
   ]
  },
  {
   "cell_type": "markdown",
   "id": "eafa108d-2086-4f1a-8040-1786f032cf6f",
   "metadata": {},
   "source": [
    "### Vertex AI Model Registry - Get Model\n",
    "\n",
    "References:\n",
    "- [aiplatform.Model()](https://cloud.google.com/python/docs/reference/aiplatform/latest/google.cloud.aiplatform.Model)"
   ]
  },
  {
   "cell_type": "code",
   "execution_count": 335,
   "id": "fe110d88-c652-45f7-8e80-9d1a95411ec7",
   "metadata": {},
   "outputs": [
    {
     "data": {
      "text/plain": [
       "'projects/1026793852137/locations/us-central1/models/bqml_03_feature_engineering_auto'"
      ]
     },
     "execution_count": 335,
     "metadata": {},
     "output_type": "execute_result"
    }
   ],
   "source": [
    "vertex_model_auto = aiplatform.Model(model_name = f'bqml_{BQ_MODEL_AUTO}')\n",
    "vertex_model_auto.resource_name"
   ]
  },
  {
   "cell_type": "code",
   "execution_count": 336,
   "id": "180524f1-4775-47a3-9727-3f23643a9c1b",
   "metadata": {},
   "outputs": [
    {
     "data": {
      "text/plain": [
       "'projects/1026793852137/locations/us-central1/models/bqml_03_feature_engineering_auto@1/evaluations/1624566157031768064'"
      ]
     },
     "execution_count": 336,
     "metadata": {},
     "output_type": "execute_result"
    }
   ],
   "source": [
    "evaluation_name = vertex_model_auto.get_model_evaluation().resource_name\n",
    "evaluation_name"
   ]
  },
  {
   "cell_type": "code",
   "execution_count": 337,
   "id": "ad80b61c-754d-4239-94c3-07da0e4266fc",
   "metadata": {},
   "outputs": [
    {
     "data": {
      "text/plain": [
       "{'name': 'projects/1026793852137/locations/us-central1/models/bqml_03_feature_engineering_auto@1/evaluations/1624566157031768064',\n",
       " 'metricsSchemaUri': 'gs://google-cloud-aiplatform/schema/modelevaluation/regression_metrics_1.0.0.yaml',\n",
       " 'metrics': {'rSquared': 0.00069446367,\n",
       "  'rootMeanSquaredLogError': 0.15229958,\n",
       "  'rootMeanSquaredError': 10.035789,\n",
       "  'meanAbsoluteError': 7.7828536},\n",
       " 'createTime': '2023-01-12T23:28:18.730104Z'}"
      ]
     },
     "execution_count": 337,
     "metadata": {},
     "output_type": "execute_result"
    }
   ],
   "source": [
    "aiplatform.ModelEvaluation(evaluation_name = evaluation_name).to_dict()"
   ]
  },
  {
   "cell_type": "code",
   "execution_count": 338,
   "id": "43c32d59-3f26-4863-9fa7-64da9de9927f",
   "metadata": {},
   "outputs": [],
   "source": [
    "vertex_model_auto.uri"
   ]
  },
  {
   "cell_type": "markdown",
   "id": "9847e51b-ce8f-4669-8cd1-4e357bd5dee2",
   "metadata": {},
   "source": [
    "### Vertex AI Endpoint - Create or Retrieve\n",
    "\n",
    "References:\n",
    "- [aiplatform.Endpoint()](https://cloud.google.com/python/docs/reference/aiplatform/latest/google.cloud.aiplatform.Endpoint)"
   ]
  },
  {
   "cell_type": "code",
   "execution_count": 339,
   "id": "ef60f0eb-16fc-4fa5-a560-7a4fb31538e2",
   "metadata": {},
   "outputs": [
    {
     "name": "stdout",
     "output_type": "stream",
     "text": [
      "Creating Endpoint\n",
      "Create Endpoint backing LRO: projects/1026793852137/locations/us-central1/endpoints/4513543610532102144/operations/4961146891459887104\n",
      "Endpoint created. Resource name: projects/1026793852137/locations/us-central1/endpoints/4513543610532102144\n",
      "To use this Endpoint in another session:\n",
      "endpoint = aiplatform.Endpoint('projects/1026793852137/locations/us-central1/endpoints/4513543610532102144')\n",
      "Endpoint Created: 03_feature_engineering_auto\n"
     ]
    }
   ],
   "source": [
    "if not aiplatform.Endpoint.list(filter = f\"display_name={SERIES}_{EXPERIMENT}_auto\"):\n",
    "    endpoint_auto = aiplatform.Endpoint.create(\n",
    "        display_name = f\"{SERIES}_{EXPERIMENT}_auto\",\n",
    "        labels = {'series' : f\"{SERIES}\"}\n",
    "    )\n",
    "    print(f\"Endpoint Created: {endpoint_auto.display_name}\")\n",
    "else: endpoint_auto = aiplatform.Endpoint.list(filter = f\"display_name={SERIES}_{EXPERIMENT}_auto\")[0]"
   ]
  },
  {
   "cell_type": "code",
   "execution_count": 340,
   "id": "4dd9c585-072e-4c30-93a1-d05161c96790",
   "metadata": {},
   "outputs": [
    {
     "data": {
      "text/plain": [
       "'03_feature_engineering_auto'"
      ]
     },
     "execution_count": 340,
     "metadata": {},
     "output_type": "execute_result"
    }
   ],
   "source": [
    "endpoint_auto.display_name"
   ]
  },
  {
   "cell_type": "code",
   "execution_count": 341,
   "id": "651874e0-ccf4-4513-9b19-081f762b35f8",
   "metadata": {},
   "outputs": [
    {
     "data": {
      "text/plain": [
       "{}"
      ]
     },
     "execution_count": 341,
     "metadata": {},
     "output_type": "execute_result"
    }
   ],
   "source": [
    "endpoint_auto.traffic_split"
   ]
  },
  {
   "cell_type": "code",
   "execution_count": 342,
   "id": "ef19c7dc-1b96-4b47-b9ba-1ab5c6fc7036",
   "metadata": {},
   "outputs": [
    {
     "data": {
      "text/plain": [
       "[]"
      ]
     },
     "execution_count": 342,
     "metadata": {},
     "output_type": "execute_result"
    }
   ],
   "source": [
    "deployed_models = endpoint_auto.list_models()\n",
    "deployed_models"
   ]
  },
  {
   "cell_type": "markdown",
   "id": "5f5c2424-b8f5-4e04-b8ae-bff0756241af",
   "metadata": {},
   "source": [
    "### Deploy Model To Vertex AI Endpoint"
   ]
  },
  {
   "cell_type": "code",
   "execution_count": 343,
   "id": "8d71a090-00c2-4382-93ec-5cb043168452",
   "metadata": {},
   "outputs": [
    {
     "name": "stdout",
     "output_type": "stream",
     "text": [
      "Deploying Model projects/1026793852137/locations/us-central1/models/bqml_03_feature_engineering_auto to Endpoint : projects/1026793852137/locations/us-central1/endpoints/4513543610532102144\n",
      "Deploy Endpoint model backing LRO: projects/1026793852137/locations/us-central1/endpoints/4513543610532102144/operations/4492209580259934208\n",
      "Endpoint model deployed. Resource name: projects/1026793852137/locations/us-central1/endpoints/4513543610532102144\n"
     ]
    }
   ],
   "source": [
    "endpoint_auto.deploy(\n",
    "    model = vertex_model_auto,\n",
    "    deployed_model_display_name = vertex_model_auto.display_name,\n",
    "    traffic_percentage = 100,\n",
    "    machine_type = 'n1-standard-2',\n",
    "    min_replica_count = 1,\n",
    "    max_replica_count = 1\n",
    ")"
   ]
  },
  {
   "cell_type": "code",
   "execution_count": 344,
   "id": "60432495-0913-4b8f-9ee6-f95631790ea8",
   "metadata": {},
   "outputs": [
    {
     "data": {
      "text/plain": [
       "[id: \"6763680962636152832\"\n",
       " model: \"projects/1026793852137/locations/us-central1/models/bqml_03_feature_engineering_auto\"\n",
       " display_name: \"bqml_03_feature_engineering_auto\"\n",
       " create_time {\n",
       "   seconds: 1673566314\n",
       "   nanos: 471733000\n",
       " }\n",
       " dedicated_resources {\n",
       "   machine_spec {\n",
       "     machine_type: \"n1-standard-2\"\n",
       "   }\n",
       "   min_replica_count: 1\n",
       "   max_replica_count: 1\n",
       " }\n",
       " disable_container_logging: true\n",
       " model_version_id: \"1\"]"
      ]
     },
     "execution_count": 344,
     "metadata": {},
     "output_type": "execute_result"
    }
   ],
   "source": [
    "endpoint_auto.list_models()"
   ]
  },
  {
   "cell_type": "markdown",
   "id": "3faf9935-b37a-4fe2-a376-711d9de6b76c",
   "metadata": {},
   "source": [
    "---\n",
    "## Prediction"
   ]
  },
  {
   "cell_type": "markdown",
   "id": "5cc22a93-07f3-438e-b270-d58e89e6d572",
   "metadata": {},
   "source": [
    "### Retrieve Records For Prediction\n",
    "The first 10 recipes."
   ]
  },
  {
   "cell_type": "code",
   "execution_count": 351,
   "id": "af0cf745-67de-4c8a-9652-70df6213bd66",
   "metadata": {},
   "outputs": [],
   "source": [
    "n = 10\n",
    "pred = bq.query(\n",
    "    query = f\"\"\"\n",
    "        SELECT * EXCEPT(JUDGE_B)\n",
    "        FROM {BQ_PROJECT}.{BQ_DATASET}.{BQ_TABLE}\n",
    "        WHERE Recipe <= 10\n",
    "        ORDER BY Recipe\n",
    "    \"\"\"\n",
    ").to_dataframe()"
   ]
  },
  {
   "cell_type": "code",
   "execution_count": 352,
   "id": "e46fa724-adb3-4b51-bcb1-2a85df16a409",
   "metadata": {},
   "outputs": [
    {
     "data": {
      "text/html": [
       "<div>\n",
       "<style scoped>\n",
       "    .dataframe tbody tr th:only-of-type {\n",
       "        vertical-align: middle;\n",
       "    }\n",
       "\n",
       "    .dataframe tbody tr th {\n",
       "        vertical-align: top;\n",
       "    }\n",
       "\n",
       "    .dataframe thead th {\n",
       "        text-align: right;\n",
       "    }\n",
       "</style>\n",
       "<table border=\"1\" class=\"dataframe\">\n",
       "  <thead>\n",
       "    <tr style=\"text-align: right;\">\n",
       "      <th></th>\n",
       "      <th>Recipe</th>\n",
       "      <th>flourAmt</th>\n",
       "      <th>saltAmt</th>\n",
       "      <th>yeastAmt</th>\n",
       "      <th>mix1Time</th>\n",
       "      <th>mix1Speed</th>\n",
       "      <th>mix2Time</th>\n",
       "      <th>mix2Speed</th>\n",
       "      <th>water1Amt</th>\n",
       "      <th>water2Amt</th>\n",
       "      <th>waterTemp</th>\n",
       "      <th>proveTime</th>\n",
       "      <th>restTime</th>\n",
       "      <th>bakeTime</th>\n",
       "      <th>bakeTemp</th>\n",
       "      <th>ambTemp</th>\n",
       "      <th>ambHumidity</th>\n",
       "      <th>JUDGE_A</th>\n",
       "    </tr>\n",
       "  </thead>\n",
       "  <tbody>\n",
       "    <tr>\n",
       "      <th>0</th>\n",
       "      <td>1</td>\n",
       "      <td>511.216954</td>\n",
       "      <td>9</td>\n",
       "      <td>11</td>\n",
       "      <td>6</td>\n",
       "      <td>4</td>\n",
       "      <td>5</td>\n",
       "      <td>4</td>\n",
       "      <td>338.398918</td>\n",
       "      <td>105.439552</td>\n",
       "      <td>48</td>\n",
       "      <td>92.277551</td>\n",
       "      <td>43</td>\n",
       "      <td>29</td>\n",
       "      <td>462.140285</td>\n",
       "      <td>38.205729</td>\n",
       "      <td>63.778364</td>\n",
       "      <td>41.0</td>\n",
       "    </tr>\n",
       "    <tr>\n",
       "      <th>1</th>\n",
       "      <td>2</td>\n",
       "      <td>504.027379</td>\n",
       "      <td>12</td>\n",
       "      <td>11</td>\n",
       "      <td>7</td>\n",
       "      <td>2</td>\n",
       "      <td>4</td>\n",
       "      <td>4</td>\n",
       "      <td>368.983414</td>\n",
       "      <td>109.383889</td>\n",
       "      <td>47</td>\n",
       "      <td>107.171485</td>\n",
       "      <td>45</td>\n",
       "      <td>28</td>\n",
       "      <td>415.312146</td>\n",
       "      <td>69.999552</td>\n",
       "      <td>46.117891</td>\n",
       "      <td>75.0</td>\n",
       "    </tr>\n",
       "    <tr>\n",
       "      <th>2</th>\n",
       "      <td>3</td>\n",
       "      <td>506.413722</td>\n",
       "      <td>10</td>\n",
       "      <td>11</td>\n",
       "      <td>4</td>\n",
       "      <td>3</td>\n",
       "      <td>8</td>\n",
       "      <td>4</td>\n",
       "      <td>343.204086</td>\n",
       "      <td>115.693323</td>\n",
       "      <td>42</td>\n",
       "      <td>99.872264</td>\n",
       "      <td>35</td>\n",
       "      <td>24</td>\n",
       "      <td>405.124881</td>\n",
       "      <td>45.326810</td>\n",
       "      <td>43.961578</td>\n",
       "      <td>75.0</td>\n",
       "    </tr>\n",
       "    <tr>\n",
       "      <th>3</th>\n",
       "      <td>4</td>\n",
       "      <td>507.602584</td>\n",
       "      <td>9</td>\n",
       "      <td>9</td>\n",
       "      <td>3</td>\n",
       "      <td>4</td>\n",
       "      <td>7</td>\n",
       "      <td>5</td>\n",
       "      <td>343.275109</td>\n",
       "      <td>108.322366</td>\n",
       "      <td>42</td>\n",
       "      <td>102.966628</td>\n",
       "      <td>44</td>\n",
       "      <td>22</td>\n",
       "      <td>435.755052</td>\n",
       "      <td>42.543597</td>\n",
       "      <td>40.270958</td>\n",
       "      <td>78.0</td>\n",
       "    </tr>\n",
       "    <tr>\n",
       "      <th>4</th>\n",
       "      <td>5</td>\n",
       "      <td>486.277476</td>\n",
       "      <td>11</td>\n",
       "      <td>12</td>\n",
       "      <td>5</td>\n",
       "      <td>3</td>\n",
       "      <td>8</td>\n",
       "      <td>5</td>\n",
       "      <td>347.715464</td>\n",
       "      <td>90.759381</td>\n",
       "      <td>43</td>\n",
       "      <td>100.725626</td>\n",
       "      <td>43</td>\n",
       "      <td>25</td>\n",
       "      <td>421.587535</td>\n",
       "      <td>53.086075</td>\n",
       "      <td>54.744809</td>\n",
       "      <td>82.0</td>\n",
       "    </tr>\n",
       "    <tr>\n",
       "      <th>5</th>\n",
       "      <td>6</td>\n",
       "      <td>500.812862</td>\n",
       "      <td>11</td>\n",
       "      <td>11</td>\n",
       "      <td>3</td>\n",
       "      <td>2</td>\n",
       "      <td>5</td>\n",
       "      <td>5</td>\n",
       "      <td>346.318863</td>\n",
       "      <td>124.672542</td>\n",
       "      <td>45</td>\n",
       "      <td>109.903886</td>\n",
       "      <td>36</td>\n",
       "      <td>24</td>\n",
       "      <td>416.540411</td>\n",
       "      <td>51.267701</td>\n",
       "      <td>35.815610</td>\n",
       "      <td>79.0</td>\n",
       "    </tr>\n",
       "    <tr>\n",
       "      <th>6</th>\n",
       "      <td>7</td>\n",
       "      <td>502.851477</td>\n",
       "      <td>12</td>\n",
       "      <td>12</td>\n",
       "      <td>6</td>\n",
       "      <td>3</td>\n",
       "      <td>7</td>\n",
       "      <td>5</td>\n",
       "      <td>352.255800</td>\n",
       "      <td>139.302933</td>\n",
       "      <td>42</td>\n",
       "      <td>101.408681</td>\n",
       "      <td>36</td>\n",
       "      <td>23</td>\n",
       "      <td>428.752728</td>\n",
       "      <td>57.342281</td>\n",
       "      <td>44.121910</td>\n",
       "      <td>75.0</td>\n",
       "    </tr>\n",
       "    <tr>\n",
       "      <th>7</th>\n",
       "      <td>8</td>\n",
       "      <td>520.064115</td>\n",
       "      <td>8</td>\n",
       "      <td>9</td>\n",
       "      <td>4</td>\n",
       "      <td>4</td>\n",
       "      <td>5</td>\n",
       "      <td>4</td>\n",
       "      <td>336.043833</td>\n",
       "      <td>127.303650</td>\n",
       "      <td>44</td>\n",
       "      <td>106.827472</td>\n",
       "      <td>38</td>\n",
       "      <td>27</td>\n",
       "      <td>423.945867</td>\n",
       "      <td>42.812792</td>\n",
       "      <td>46.539498</td>\n",
       "      <td>80.0</td>\n",
       "    </tr>\n",
       "    <tr>\n",
       "      <th>8</th>\n",
       "      <td>9</td>\n",
       "      <td>506.150124</td>\n",
       "      <td>12</td>\n",
       "      <td>11</td>\n",
       "      <td>5</td>\n",
       "      <td>5</td>\n",
       "      <td>6</td>\n",
       "      <td>6</td>\n",
       "      <td>325.747781</td>\n",
       "      <td>125.086484</td>\n",
       "      <td>41</td>\n",
       "      <td>100.957520</td>\n",
       "      <td>40</td>\n",
       "      <td>23</td>\n",
       "      <td>413.192045</td>\n",
       "      <td>54.195141</td>\n",
       "      <td>40.067980</td>\n",
       "      <td>80.0</td>\n",
       "    </tr>\n",
       "    <tr>\n",
       "      <th>9</th>\n",
       "      <td>10</td>\n",
       "      <td>513.812340</td>\n",
       "      <td>11</td>\n",
       "      <td>9</td>\n",
       "      <td>8</td>\n",
       "      <td>3</td>\n",
       "      <td>6</td>\n",
       "      <td>4</td>\n",
       "      <td>339.673230</td>\n",
       "      <td>151.097931</td>\n",
       "      <td>46</td>\n",
       "      <td>102.585934</td>\n",
       "      <td>35</td>\n",
       "      <td>23</td>\n",
       "      <td>428.643665</td>\n",
       "      <td>55.011774</td>\n",
       "      <td>60.119775</td>\n",
       "      <td>68.0</td>\n",
       "    </tr>\n",
       "  </tbody>\n",
       "</table>\n",
       "</div>"
      ],
      "text/plain": [
       "   Recipe    flourAmt  saltAmt  yeastAmt  mix1Time  mix1Speed  mix2Time  \\\n",
       "0       1  511.216954        9        11         6          4         5   \n",
       "1       2  504.027379       12        11         7          2         4   \n",
       "2       3  506.413722       10        11         4          3         8   \n",
       "3       4  507.602584        9         9         3          4         7   \n",
       "4       5  486.277476       11        12         5          3         8   \n",
       "5       6  500.812862       11        11         3          2         5   \n",
       "6       7  502.851477       12        12         6          3         7   \n",
       "7       8  520.064115        8         9         4          4         5   \n",
       "8       9  506.150124       12        11         5          5         6   \n",
       "9      10  513.812340       11         9         8          3         6   \n",
       "\n",
       "   mix2Speed   water1Amt   water2Amt  waterTemp   proveTime  restTime  \\\n",
       "0          4  338.398918  105.439552         48   92.277551        43   \n",
       "1          4  368.983414  109.383889         47  107.171485        45   \n",
       "2          4  343.204086  115.693323         42   99.872264        35   \n",
       "3          5  343.275109  108.322366         42  102.966628        44   \n",
       "4          5  347.715464   90.759381         43  100.725626        43   \n",
       "5          5  346.318863  124.672542         45  109.903886        36   \n",
       "6          5  352.255800  139.302933         42  101.408681        36   \n",
       "7          4  336.043833  127.303650         44  106.827472        38   \n",
       "8          6  325.747781  125.086484         41  100.957520        40   \n",
       "9          4  339.673230  151.097931         46  102.585934        35   \n",
       "\n",
       "   bakeTime    bakeTemp    ambTemp  ambHumidity  JUDGE_A  \n",
       "0        29  462.140285  38.205729    63.778364     41.0  \n",
       "1        28  415.312146  69.999552    46.117891     75.0  \n",
       "2        24  405.124881  45.326810    43.961578     75.0  \n",
       "3        22  435.755052  42.543597    40.270958     78.0  \n",
       "4        25  421.587535  53.086075    54.744809     82.0  \n",
       "5        24  416.540411  51.267701    35.815610     79.0  \n",
       "6        23  428.752728  57.342281    44.121910     75.0  \n",
       "7        27  423.945867  42.812792    46.539498     80.0  \n",
       "8        23  413.192045  54.195141    40.067980     80.0  \n",
       "9        23  428.643665  55.011774    60.119775     68.0  "
      ]
     },
     "execution_count": 352,
     "metadata": {},
     "output_type": "execute_result"
    }
   ],
   "source": [
    "pred"
   ]
  },
  {
   "cell_type": "markdown",
   "id": "89e27fce-5b91-4f24-aa22-56f8be69f959",
   "metadata": {},
   "source": [
    "Shape as instances: dictionaries of key:value pairs for only features used in model"
   ]
  },
  {
   "cell_type": "code",
   "execution_count": 353,
   "id": "d20e73f4-093c-4b1c-8b3f-c079e4904938",
   "metadata": {},
   "outputs": [],
   "source": [
    "newobs = pred[pred.columns[~pred.columns.isin(['JUDGE_A', 'Recipe'])]].to_dict(orient='records')"
   ]
  },
  {
   "cell_type": "code",
   "execution_count": 354,
   "id": "ff63bd2d-ad28-4314-bc3e-3227846a20cb",
   "metadata": {},
   "outputs": [
    {
     "data": {
      "text/plain": [
       "{'flourAmt': 511.21695405324624,\n",
       " 'saltAmt': 9,\n",
       " 'yeastAmt': 11,\n",
       " 'mix1Time': 6,\n",
       " 'mix1Speed': 4,\n",
       " 'mix2Time': 5,\n",
       " 'mix2Speed': 4,\n",
       " 'water1Amt': 338.3989183746999,\n",
       " 'water2Amt': 105.43955159464981,\n",
       " 'waterTemp': 48,\n",
       " 'proveTime': 92.27755071811586,\n",
       " 'restTime': 43,\n",
       " 'bakeTime': 29,\n",
       " 'bakeTemp': 462.14028505497805,\n",
       " 'ambTemp': 38.20572852497746,\n",
       " 'ambHumidity': 63.77836403396154}"
      ]
     },
     "execution_count": 354,
     "metadata": {},
     "output_type": "execute_result"
    }
   ],
   "source": [
    "newobs[0]"
   ]
  },
  {
   "cell_type": "code",
   "execution_count": 355,
   "id": "a3502a66-1c57-4133-aae8-7269d79b979e",
   "metadata": {},
   "outputs": [],
   "source": [
    "instances = [json_format.ParseDict(newob, Value()) for newob in newobs]"
   ]
  },
  {
   "cell_type": "code",
   "execution_count": 356,
   "id": "45ec3862-1447-4fa7-b94e-54f79c3aa699",
   "metadata": {},
   "outputs": [
    {
     "data": {
      "text/plain": [
       "10"
      ]
     },
     "execution_count": 356,
     "metadata": {},
     "output_type": "execute_result"
    }
   ],
   "source": [
    "len(instances)"
   ]
  },
  {
   "cell_type": "markdown",
   "id": "2702515c-3706-4843-832a-a9c84637478f",
   "metadata": {},
   "source": [
    "### Get Predictions: Python Client"
   ]
  },
  {
   "cell_type": "code",
   "execution_count": 357,
   "id": "00288958-b7f6-4cc0-8d09-986da1e8d11d",
   "metadata": {},
   "outputs": [
    {
     "data": {
      "text/plain": [
       "[68.76765614764965]"
      ]
     },
     "execution_count": 357,
     "metadata": {},
     "output_type": "execute_result"
    }
   ],
   "source": [
    "prediction = endpoint_auto.predict(instances = instances)\n",
    "prediction.predictions[0]"
   ]
  },
  {
   "cell_type": "code",
   "execution_count": 358,
   "id": "03f75af7-0b6a-44d1-9264-6890ac791784",
   "metadata": {},
   "outputs": [
    {
     "data": {
      "text/plain": [
       "[[68.76765614764965],\n",
       " [76.2004309249522],\n",
       " [80.88218158817308],\n",
       " [74.38925321526713],\n",
       " [76.12313005183707],\n",
       " [75.76104028237455],\n",
       " [74.04663956161158],\n",
       " [76.90152883286608],\n",
       " [75.36374669051045],\n",
       " [75.02425484119092]]"
      ]
     },
     "execution_count": 358,
     "metadata": {},
     "output_type": "execute_result"
    }
   ],
   "source": [
    "prediction.predictions"
   ]
  },
  {
   "cell_type": "markdown",
   "id": "4d59c566-55eb-4fff-98b3-522d1cb0a6ed",
   "metadata": {},
   "source": [
    "#### Compare to BigQuery ML.PREDICT Results:"
   ]
  },
  {
   "cell_type": "code",
   "execution_count": 359,
   "id": "10d8f8b7-e6a5-4c02-9669-98c0d512ec83",
   "metadata": {},
   "outputs": [
    {
     "data": {
      "text/html": [
       "<div>\n",
       "<style scoped>\n",
       "    .dataframe tbody tr th:only-of-type {\n",
       "        vertical-align: middle;\n",
       "    }\n",
       "\n",
       "    .dataframe tbody tr th {\n",
       "        vertical-align: top;\n",
       "    }\n",
       "\n",
       "    .dataframe thead th {\n",
       "        text-align: right;\n",
       "    }\n",
       "</style>\n",
       "<table border=\"1\" class=\"dataframe\">\n",
       "  <thead>\n",
       "    <tr style=\"text-align: right;\">\n",
       "      <th></th>\n",
       "      <th>Recipe</th>\n",
       "      <th>JUDGE_A</th>\n",
       "      <th>predicted_JUDGE_A</th>\n",
       "      <th>Error</th>\n",
       "    </tr>\n",
       "  </thead>\n",
       "  <tbody>\n",
       "    <tr>\n",
       "      <th>0</th>\n",
       "      <td>1</td>\n",
       "      <td>41.0</td>\n",
       "      <td>68.767657</td>\n",
       "      <td>-27.767657</td>\n",
       "    </tr>\n",
       "    <tr>\n",
       "      <th>1</th>\n",
       "      <td>2</td>\n",
       "      <td>75.0</td>\n",
       "      <td>76.200429</td>\n",
       "      <td>-1.200429</td>\n",
       "    </tr>\n",
       "    <tr>\n",
       "      <th>2</th>\n",
       "      <td>3</td>\n",
       "      <td>75.0</td>\n",
       "      <td>80.882181</td>\n",
       "      <td>-5.882181</td>\n",
       "    </tr>\n",
       "    <tr>\n",
       "      <th>3</th>\n",
       "      <td>4</td>\n",
       "      <td>78.0</td>\n",
       "      <td>74.389256</td>\n",
       "      <td>3.610744</td>\n",
       "    </tr>\n",
       "    <tr>\n",
       "      <th>4</th>\n",
       "      <td>5</td>\n",
       "      <td>82.0</td>\n",
       "      <td>76.123129</td>\n",
       "      <td>5.876871</td>\n",
       "    </tr>\n",
       "    <tr>\n",
       "      <th>5</th>\n",
       "      <td>6</td>\n",
       "      <td>79.0</td>\n",
       "      <td>75.761039</td>\n",
       "      <td>3.238961</td>\n",
       "    </tr>\n",
       "    <tr>\n",
       "      <th>6</th>\n",
       "      <td>7</td>\n",
       "      <td>75.0</td>\n",
       "      <td>74.046637</td>\n",
       "      <td>0.953363</td>\n",
       "    </tr>\n",
       "    <tr>\n",
       "      <th>7</th>\n",
       "      <td>8</td>\n",
       "      <td>80.0</td>\n",
       "      <td>76.901529</td>\n",
       "      <td>3.098471</td>\n",
       "    </tr>\n",
       "    <tr>\n",
       "      <th>8</th>\n",
       "      <td>9</td>\n",
       "      <td>80.0</td>\n",
       "      <td>75.363747</td>\n",
       "      <td>4.636253</td>\n",
       "    </tr>\n",
       "    <tr>\n",
       "      <th>9</th>\n",
       "      <td>10</td>\n",
       "      <td>68.0</td>\n",
       "      <td>75.024258</td>\n",
       "      <td>-7.024258</td>\n",
       "    </tr>\n",
       "  </tbody>\n",
       "</table>\n",
       "</div>"
      ],
      "text/plain": [
       "   Recipe  JUDGE_A  predicted_JUDGE_A      Error\n",
       "0       1     41.0          68.767657 -27.767657\n",
       "1       2     75.0          76.200429  -1.200429\n",
       "2       3     75.0          80.882181  -5.882181\n",
       "3       4     78.0          74.389256   3.610744\n",
       "4       5     82.0          76.123129   5.876871\n",
       "5       6     79.0          75.761039   3.238961\n",
       "6       7     75.0          74.046637   0.953363\n",
       "7       8     80.0          76.901529   3.098471\n",
       "8       9     80.0          75.363747   4.636253\n",
       "9      10     68.0          75.024258  -7.024258"
      ]
     },
     "execution_count": 359,
     "metadata": {},
     "output_type": "execute_result"
    }
   ],
   "source": [
    "query = f\"\"\"\n",
    "    SELECT Recipe, JUDGE_A, predicted_JUDGE_A, JUDGE_A-predicted_JUDGE_A as Error\n",
    "    FROM ML.PREDICT (MODEL `{BQ_PROJECT}.{BQ_DATASET}.{BQ_MODEL_AUTO}`,(\n",
    "        SELECT *\n",
    "        FROM `{BQ_PROJECT}.{BQ_DATASET}.{BQ_TABLE}`\n",
    "        WHERE Recipe <= 10)\n",
    "    )\n",
    "    ORDER BY Recipe\n",
    "\"\"\"\n",
    "bq.query(query = query).to_dataframe()"
   ]
  },
  {
   "cell_type": "markdown",
   "id": "c9810a49-de0d-471e-b2b0-ed791cc88763",
   "metadata": {},
   "source": [
    "---\n",
    "# Step 2: Iterate through multiple models with inline TRANSFORM functions"
   ]
  },
  {
   "cell_type": "markdown",
   "id": "a68c4750-d30b-4ba3-8c01-2455a9446a8d",
   "metadata": {},
   "source": [
    "## Step 2a: Train Model\n",
    "\n",
    "Use BigQuery ML to train a boosted tree:\n",
    "- [Linear Regression](https://cloud.google.com/bigquery-ml/docs/reference/standard-sql/bigqueryml-syntax-create-glm) with BigQuery ML (BQML)\n",
    "\n",
    "Feature preprocessing with the `TRANSFORM` statement:\n",
    "- [TRANSFORM](https://cloud.google.com/bigquery-ml/docs/reference/standard-sql/bigqueryml-syntax-create#transform)\n",
    "\n",
    "Register the model to Vertex AI Model Registry:\n",
    "- `MODEL_REGISTRY` [training options](https://cloud.google.com/bigquery-ml/docs/create_vertex) to register the resulting model in the [Vertex AI Model Registry](https://cloud.google.com/vertex-ai/docs/model-registry/introduction)."
   ]
  },
  {
   "cell_type": "code",
   "execution_count": 360,
   "id": "262d914e-71fe-4399-8401-34e1a34fa7a4",
   "metadata": {},
   "outputs": [],
   "source": [
    "TIMESTAMP = datetime.now().strftime(\"%Y%m%d%H%M%S\")\n",
    "RUN_NAME = f'run-{TIMESTAMP}'\n",
    "BQ_MODEL_2A = f'{SERIES}_{EXPERIMENT}_2a'"
   ]
  },
  {
   "cell_type": "code",
   "execution_count": 361,
   "id": "d1097a3d-1b6c-45ef-9157-1fc4428d9601",
   "metadata": {},
   "outputs": [
    {
     "name": "stdout",
     "output_type": "stream",
     "text": [
      "\n",
      "CREATE OR REPLACE MODEL `statmike-mlops-349915.feature_engineering.03_feature_engineering_2a`\n",
      "TRANSFORM (\n",
      "    JUDGE_A,\n",
      "\n",
      "    ML.MIN_MAX_SCALER(flourAmt) OVER() as scale_flourAmt, \n",
      "    ML.ROBUST_SCALER(saltAmt) OVER() as scale_saltAmt,\n",
      "    ML.MAX_ABS_SCALER(yeastAmt) OVER() as scale_yeastAmt,\n",
      "    ML.STANDARD_SCALER(water1Amt) OVER() as scale_water1Amt,\n",
      "    ML.STANDARD_SCALER(water2Amt) OVER() as scale_water2Amt,\n",
      "\n",
      "    ML.STANDARD_SCALER(waterTemp) OVER() as scale_waterTemp,\n",
      "    ML.ROBUST_SCALER(bakeTemp) OVER() as scale_bakeTemp,\n",
      "    ML.MIN_MAX_SCALER(ambTemp) OVER() as scale_ambTemp,\n",
      "    ML.MAX_ABS_SCALER(ambHumidity) OVER() as scale_ambHumidity,\n",
      "\n",
      "    ML.ROBUST_SCALER(mix1Time) OVER() as scale_mix1Time,\n",
      "    ML.ROBUST_SCALER(mix2Time) OVER() as scale_mix2Time,\n",
      "    ML.ROBUST_SCALER(mix1Speed) OVER() as scale_mix1Speed,\n",
      "    ML.ROBUST_SCALER(mix2Speed) OVER() as scale_mix2Speed,\n",
      "    ML.STANDARD_SCALER(proveTime) OVER() as scale_proveTime,\n",
      "    ML.MAX_ABS_SCALER(restTime) OVER() as scale_restTime,\n",
      "    ML.MAX_ABS_SCALER(bakeTime) OVER() as scale_bakeTime\n",
      ")\n",
      "OPTIONS (\n",
      "        model_type = 'LINEAR_REG',\n",
      "        input_label_cols = ['JUDGE_A'],\n",
      "        enable_global_explain = TRUE,\n",
      "        data_split_method = 'AUTO_SPLIT',\n",
      "        MODEL_REGISTRY = 'VERTEX_AI',\n",
      "        VERTEX_AI_MODEL_ID = 'bqml_03_feature_engineering_2a',\n",
      "        VERTEX_AI_MODEL_VERSION_ALIASES = ['run-20230112234821']\n",
      "    ) AS\n",
      "SELECT * EXCEPT(Recipe, JUDGE_B)\n",
      "FROM `statmike-mlops-349915.feature_engineering.bread`\n",
      "\n"
     ]
    }
   ],
   "source": [
    "query = f\"\"\"\n",
    "CREATE OR REPLACE MODEL `{BQ_PROJECT}.{BQ_DATASET}.{BQ_MODEL_2A}`\n",
    "TRANSFORM (\n",
    "    JUDGE_A,\n",
    "\n",
    "    ML.MIN_MAX_SCALER(flourAmt) OVER() as scale_flourAmt, \n",
    "    ML.ROBUST_SCALER(saltAmt) OVER() as scale_saltAmt,\n",
    "    ML.MAX_ABS_SCALER(yeastAmt) OVER() as scale_yeastAmt,\n",
    "    ML.STANDARD_SCALER(water1Amt) OVER() as scale_water1Amt,\n",
    "    ML.STANDARD_SCALER(water2Amt) OVER() as scale_water2Amt,\n",
    "\n",
    "    ML.STANDARD_SCALER(waterTemp) OVER() as scale_waterTemp,\n",
    "    ML.ROBUST_SCALER(bakeTemp) OVER() as scale_bakeTemp,\n",
    "    ML.MIN_MAX_SCALER(ambTemp) OVER() as scale_ambTemp,\n",
    "    ML.MAX_ABS_SCALER(ambHumidity) OVER() as scale_ambHumidity,\n",
    "\n",
    "    ML.ROBUST_SCALER(mix1Time) OVER() as scale_mix1Time,\n",
    "    ML.ROBUST_SCALER(mix2Time) OVER() as scale_mix2Time,\n",
    "    ML.ROBUST_SCALER(mix1Speed) OVER() as scale_mix1Speed,\n",
    "    ML.ROBUST_SCALER(mix2Speed) OVER() as scale_mix2Speed,\n",
    "    ML.STANDARD_SCALER(proveTime) OVER() as scale_proveTime,\n",
    "    ML.MAX_ABS_SCALER(restTime) OVER() as scale_restTime,\n",
    "    ML.MAX_ABS_SCALER(bakeTime) OVER() as scale_bakeTime\n",
    ")\n",
    "OPTIONS (\n",
    "        model_type = 'LINEAR_REG',\n",
    "        input_label_cols = ['JUDGE_A'],\n",
    "        enable_global_explain = TRUE,\n",
    "        data_split_method = 'AUTO_SPLIT',\n",
    "        MODEL_REGISTRY = 'VERTEX_AI',\n",
    "        VERTEX_AI_MODEL_ID = 'bqml_{BQ_MODEL_2A}',\n",
    "        VERTEX_AI_MODEL_VERSION_ALIASES = ['{RUN_NAME}']\n",
    "    ) AS\n",
    "SELECT * EXCEPT(Recipe, JUDGE_B)\n",
    "FROM `{BQ_PROJECT}.{BQ_DATASET}.{BQ_TABLE}`\n",
    "\"\"\"\n",
    "print(query)"
   ]
  },
  {
   "cell_type": "code",
   "execution_count": 362,
   "id": "b492b1a9-5301-4ef2-9d1e-c1455ff06bc8",
   "metadata": {},
   "outputs": [
    {
     "data": {
      "text/plain": [
       "21.245"
      ]
     },
     "execution_count": 362,
     "metadata": {},
     "output_type": "execute_result"
    }
   ],
   "source": [
    "job = bq.query(query = query)\n",
    "job.result()\n",
    "(job.ended-job.started).total_seconds()"
   ]
  },
  {
   "cell_type": "code",
   "execution_count": 363,
   "id": "bb681aca-8538-48fa-8d03-90fb23ee4aed",
   "metadata": {},
   "outputs": [
    {
     "data": {
      "text/plain": [
       "272000"
      ]
     },
     "execution_count": 363,
     "metadata": {},
     "output_type": "execute_result"
    }
   ],
   "source": [
    "job.total_bytes_processed"
   ]
  },
  {
   "cell_type": "markdown",
   "id": "1e9fbc45-5b36-4823-8845-3d6281ad8052",
   "metadata": {},
   "source": [
    "Add labels to the model in BigQuery:"
   ]
  },
  {
   "cell_type": "code",
   "execution_count": 364,
   "id": "2f1221d3-4231-4fd0-a3d0-394de23a76b5",
   "metadata": {},
   "outputs": [],
   "source": [
    "bqml_model_2a = bq.get_model(f'{BQ_PROJECT}.{BQ_DATASET}.{BQ_MODEL_2A}')\n",
    "bqml_model_2a.labels = {'series' : f'{SERIES}', 'experiment' : f'{EXPERIMENT}'}\n",
    "bqml_model_2a = bq.update_model(bqml_model_2a, ['labels'])"
   ]
  },
  {
   "cell_type": "markdown",
   "id": "7cd99837-9abd-4672-a684-dec388b6814b",
   "metadata": {},
   "source": [
    "### Feature and Training Review"
   ]
  },
  {
   "cell_type": "markdown",
   "id": "1382ca75-3b9d-4e65-af36-2d0a1ee8a9b8",
   "metadata": {},
   "source": [
    "Review the Model Inputs, the feature information before preprocessing, with [ML.FEATURE_INFO](https://cloud.google.com/bigquery-ml/docs/reference/standard-sql/bigqueryml-syntax-feature):"
   ]
  },
  {
   "cell_type": "code",
   "execution_count": 365,
   "id": "caebbaec-95e7-4313-8021-9930477e3c32",
   "metadata": {},
   "outputs": [
    {
     "name": "stdout",
     "output_type": "stream",
     "text": [
      "\n",
      "    SELECT *\n",
      "    FROM ML.FEATURE_INFO(MODEL `statmike-mlops-349915.feature_engineering.03_feature_engineering_2a`)\n",
      "\n"
     ]
    }
   ],
   "source": [
    "query = f\"\"\"\n",
    "    SELECT *\n",
    "    FROM ML.FEATURE_INFO(MODEL `{BQ_PROJECT}.{BQ_DATASET}.{BQ_MODEL_2A}`)\n",
    "\"\"\"\n",
    "print(query)"
   ]
  },
  {
   "cell_type": "code",
   "execution_count": 366,
   "id": "662b89a9-72cc-4ef0-b07d-906033de7ec5",
   "metadata": {},
   "outputs": [
    {
     "data": {
      "text/html": [
       "<div>\n",
       "<style scoped>\n",
       "    .dataframe tbody tr th:only-of-type {\n",
       "        vertical-align: middle;\n",
       "    }\n",
       "\n",
       "    .dataframe tbody tr th {\n",
       "        vertical-align: top;\n",
       "    }\n",
       "\n",
       "    .dataframe thead th {\n",
       "        text-align: right;\n",
       "    }\n",
       "</style>\n",
       "<table border=\"1\" class=\"dataframe\">\n",
       "  <thead>\n",
       "    <tr style=\"text-align: right;\">\n",
       "      <th></th>\n",
       "      <th>input</th>\n",
       "      <th>min</th>\n",
       "      <th>max</th>\n",
       "      <th>mean</th>\n",
       "      <th>median</th>\n",
       "      <th>stddev</th>\n",
       "      <th>category_count</th>\n",
       "      <th>null_count</th>\n",
       "      <th>dimension</th>\n",
       "    </tr>\n",
       "  </thead>\n",
       "  <tbody>\n",
       "    <tr>\n",
       "      <th>0</th>\n",
       "      <td>ambHumidity</td>\n",
       "      <td>17.113365</td>\n",
       "      <td>82.451559</td>\n",
       "      <td>49.644121</td>\n",
       "      <td>49.843963</td>\n",
       "      <td>9.839682</td>\n",
       "      <td>NaN</td>\n",
       "      <td>0</td>\n",
       "      <td>NaN</td>\n",
       "    </tr>\n",
       "    <tr>\n",
       "      <th>1</th>\n",
       "      <td>water1Amt</td>\n",
       "      <td>264.754476</td>\n",
       "      <td>402.056413</td>\n",
       "      <td>329.606586</td>\n",
       "      <td>328.998865</td>\n",
       "      <td>19.604805</td>\n",
       "      <td>NaN</td>\n",
       "      <td>0</td>\n",
       "      <td>NaN</td>\n",
       "    </tr>\n",
       "    <tr>\n",
       "      <th>2</th>\n",
       "      <td>waterTemp</td>\n",
       "      <td>40.000000</td>\n",
       "      <td>50.000000</td>\n",
       "      <td>45.043152</td>\n",
       "      <td>45.000000</td>\n",
       "      <td>2.913009</td>\n",
       "      <td>NaN</td>\n",
       "      <td>0</td>\n",
       "      <td>NaN</td>\n",
       "    </tr>\n",
       "    <tr>\n",
       "      <th>3</th>\n",
       "      <td>bakeTime</td>\n",
       "      <td>20.000000</td>\n",
       "      <td>30.000000</td>\n",
       "      <td>24.996248</td>\n",
       "      <td>25.000000</td>\n",
       "      <td>2.910855</td>\n",
       "      <td>NaN</td>\n",
       "      <td>0</td>\n",
       "      <td>NaN</td>\n",
       "    </tr>\n",
       "    <tr>\n",
       "      <th>4</th>\n",
       "      <td>mix2Time</td>\n",
       "      <td>4.000000</td>\n",
       "      <td>8.000000</td>\n",
       "      <td>5.998124</td>\n",
       "      <td>6.000000</td>\n",
       "      <td>1.212419</td>\n",
       "      <td>NaN</td>\n",
       "      <td>0</td>\n",
       "      <td>NaN</td>\n",
       "    </tr>\n",
       "    <tr>\n",
       "      <th>5</th>\n",
       "      <td>mix1Speed</td>\n",
       "      <td>2.000000</td>\n",
       "      <td>5.000000</td>\n",
       "      <td>3.474046</td>\n",
       "      <td>3.000000</td>\n",
       "      <td>0.954101</td>\n",
       "      <td>NaN</td>\n",
       "      <td>0</td>\n",
       "      <td>NaN</td>\n",
       "    </tr>\n",
       "    <tr>\n",
       "      <th>6</th>\n",
       "      <td>saltAmt</td>\n",
       "      <td>8.000000</td>\n",
       "      <td>12.000000</td>\n",
       "      <td>9.976861</td>\n",
       "      <td>10.000000</td>\n",
       "      <td>1.227589</td>\n",
       "      <td>NaN</td>\n",
       "      <td>0</td>\n",
       "      <td>NaN</td>\n",
       "    </tr>\n",
       "    <tr>\n",
       "      <th>7</th>\n",
       "      <td>water2Amt</td>\n",
       "      <td>40.532389</td>\n",
       "      <td>165.672778</td>\n",
       "      <td>110.498739</td>\n",
       "      <td>110.420483</td>\n",
       "      <td>20.423847</td>\n",
       "      <td>NaN</td>\n",
       "      <td>0</td>\n",
       "      <td>NaN</td>\n",
       "    </tr>\n",
       "    <tr>\n",
       "      <th>8</th>\n",
       "      <td>mix1Time</td>\n",
       "      <td>1.000000</td>\n",
       "      <td>9.000000</td>\n",
       "      <td>5.008130</td>\n",
       "      <td>5.000000</td>\n",
       "      <td>1.068052</td>\n",
       "      <td>NaN</td>\n",
       "      <td>0</td>\n",
       "      <td>NaN</td>\n",
       "    </tr>\n",
       "    <tr>\n",
       "      <th>9</th>\n",
       "      <td>yeastAmt</td>\n",
       "      <td>8.000000</td>\n",
       "      <td>12.000000</td>\n",
       "      <td>10.028768</td>\n",
       "      <td>10.000000</td>\n",
       "      <td>1.238382</td>\n",
       "      <td>NaN</td>\n",
       "      <td>0</td>\n",
       "      <td>NaN</td>\n",
       "    </tr>\n",
       "    <tr>\n",
       "      <th>10</th>\n",
       "      <td>restTime</td>\n",
       "      <td>35.000000</td>\n",
       "      <td>45.000000</td>\n",
       "      <td>40.053784</td>\n",
       "      <td>40.000000</td>\n",
       "      <td>2.943925</td>\n",
       "      <td>NaN</td>\n",
       "      <td>0</td>\n",
       "      <td>NaN</td>\n",
       "    </tr>\n",
       "    <tr>\n",
       "      <th>11</th>\n",
       "      <td>ambTemp</td>\n",
       "      <td>20.425525</td>\n",
       "      <td>95.632699</td>\n",
       "      <td>60.136301</td>\n",
       "      <td>60.146795</td>\n",
       "      <td>10.081356</td>\n",
       "      <td>NaN</td>\n",
       "      <td>0</td>\n",
       "      <td>NaN</td>\n",
       "    </tr>\n",
       "    <tr>\n",
       "      <th>12</th>\n",
       "      <td>flourAmt</td>\n",
       "      <td>464.544075</td>\n",
       "      <td>531.503637</td>\n",
       "      <td>499.823098</td>\n",
       "      <td>499.915982</td>\n",
       "      <td>10.158442</td>\n",
       "      <td>NaN</td>\n",
       "      <td>0</td>\n",
       "      <td>NaN</td>\n",
       "    </tr>\n",
       "    <tr>\n",
       "      <th>13</th>\n",
       "      <td>proveTime</td>\n",
       "      <td>85.231731</td>\n",
       "      <td>118.753490</td>\n",
       "      <td>100.005715</td>\n",
       "      <td>100.018026</td>\n",
       "      <td>5.032139</td>\n",
       "      <td>NaN</td>\n",
       "      <td>0</td>\n",
       "      <td>NaN</td>\n",
       "    </tr>\n",
       "    <tr>\n",
       "      <th>14</th>\n",
       "      <td>bakeTemp</td>\n",
       "      <td>376.287186</td>\n",
       "      <td>476.818499</td>\n",
       "      <td>425.496193</td>\n",
       "      <td>425.095991</td>\n",
       "      <td>14.987706</td>\n",
       "      <td>NaN</td>\n",
       "      <td>0</td>\n",
       "      <td>NaN</td>\n",
       "    </tr>\n",
       "    <tr>\n",
       "      <th>15</th>\n",
       "      <td>mix2Speed</td>\n",
       "      <td>4.000000</td>\n",
       "      <td>6.000000</td>\n",
       "      <td>5.013133</td>\n",
       "      <td>5.000000</td>\n",
       "      <td>0.711397</td>\n",
       "      <td>NaN</td>\n",
       "      <td>0</td>\n",
       "      <td>NaN</td>\n",
       "    </tr>\n",
       "  </tbody>\n",
       "</table>\n",
       "</div>"
      ],
      "text/plain": [
       "          input         min         max        mean      median     stddev  \\\n",
       "0   ambHumidity   17.113365   82.451559   49.644121   49.843963   9.839682   \n",
       "1     water1Amt  264.754476  402.056413  329.606586  328.998865  19.604805   \n",
       "2     waterTemp   40.000000   50.000000   45.043152   45.000000   2.913009   \n",
       "3      bakeTime   20.000000   30.000000   24.996248   25.000000   2.910855   \n",
       "4      mix2Time    4.000000    8.000000    5.998124    6.000000   1.212419   \n",
       "5     mix1Speed    2.000000    5.000000    3.474046    3.000000   0.954101   \n",
       "6       saltAmt    8.000000   12.000000    9.976861   10.000000   1.227589   \n",
       "7     water2Amt   40.532389  165.672778  110.498739  110.420483  20.423847   \n",
       "8      mix1Time    1.000000    9.000000    5.008130    5.000000   1.068052   \n",
       "9      yeastAmt    8.000000   12.000000   10.028768   10.000000   1.238382   \n",
       "10     restTime   35.000000   45.000000   40.053784   40.000000   2.943925   \n",
       "11      ambTemp   20.425525   95.632699   60.136301   60.146795  10.081356   \n",
       "12     flourAmt  464.544075  531.503637  499.823098  499.915982  10.158442   \n",
       "13    proveTime   85.231731  118.753490  100.005715  100.018026   5.032139   \n",
       "14     bakeTemp  376.287186  476.818499  425.496193  425.095991  14.987706   \n",
       "15    mix2Speed    4.000000    6.000000    5.013133    5.000000   0.711397   \n",
       "\n",
       "    category_count  null_count  dimension  \n",
       "0              NaN           0        NaN  \n",
       "1              NaN           0        NaN  \n",
       "2              NaN           0        NaN  \n",
       "3              NaN           0        NaN  \n",
       "4              NaN           0        NaN  \n",
       "5              NaN           0        NaN  \n",
       "6              NaN           0        NaN  \n",
       "7              NaN           0        NaN  \n",
       "8              NaN           0        NaN  \n",
       "9              NaN           0        NaN  \n",
       "10             NaN           0        NaN  \n",
       "11             NaN           0        NaN  \n",
       "12             NaN           0        NaN  \n",
       "13             NaN           0        NaN  \n",
       "14             NaN           0        NaN  \n",
       "15             NaN           0        NaN  "
      ]
     },
     "execution_count": 366,
     "metadata": {},
     "output_type": "execute_result"
    }
   ],
   "source": [
    "bq.query(query = query).to_dataframe()"
   ]
  },
  {
   "cell_type": "markdown",
   "id": "45862298-0bec-402a-96ef-a80f30e82aca",
   "metadata": {},
   "source": [
    "Review the iterations from training with [ML.TRAINING_INFO](https://cloud.google.com/bigquery-ml/docs/reference/standard-sql/bigqueryml-syntax-train):"
   ]
  },
  {
   "cell_type": "code",
   "execution_count": 367,
   "id": "0b7cb9aa-0aca-4cdf-960d-657d7463fad3",
   "metadata": {},
   "outputs": [
    {
     "name": "stdout",
     "output_type": "stream",
     "text": [
      "\n",
      "    SELECT *\n",
      "    FROM ML.TRAINING_INFO(MODEL `statmike-mlops-349915.feature_engineering.03_feature_engineering_2a`)\n",
      "    ORDER BY iteration\n",
      "\n"
     ]
    }
   ],
   "source": [
    "query = f\"\"\"\n",
    "    SELECT *\n",
    "    FROM ML.TRAINING_INFO(MODEL `{BQ_PROJECT}.{BQ_DATASET}.{BQ_MODEL_2A}`)\n",
    "    ORDER BY iteration\n",
    "\"\"\"\n",
    "print(query)"
   ]
  },
  {
   "cell_type": "code",
   "execution_count": 368,
   "id": "c81bf314-3d11-4be4-a8c8-2caaa4920c9d",
   "metadata": {},
   "outputs": [
    {
     "data": {
      "text/html": [
       "<div>\n",
       "<style scoped>\n",
       "    .dataframe tbody tr th:only-of-type {\n",
       "        vertical-align: middle;\n",
       "    }\n",
       "\n",
       "    .dataframe tbody tr th {\n",
       "        vertical-align: top;\n",
       "    }\n",
       "\n",
       "    .dataframe thead th {\n",
       "        text-align: right;\n",
       "    }\n",
       "</style>\n",
       "<table border=\"1\" class=\"dataframe\">\n",
       "  <thead>\n",
       "    <tr style=\"text-align: right;\">\n",
       "      <th></th>\n",
       "      <th>training_run</th>\n",
       "      <th>iteration</th>\n",
       "      <th>loss</th>\n",
       "      <th>eval_loss</th>\n",
       "      <th>learning_rate</th>\n",
       "      <th>duration_ms</th>\n",
       "    </tr>\n",
       "  </thead>\n",
       "  <tbody>\n",
       "    <tr>\n",
       "      <th>0</th>\n",
       "      <td>0</td>\n",
       "      <td>0</td>\n",
       "      <td>88.160108</td>\n",
       "      <td>100.129851</td>\n",
       "      <td>NaN</td>\n",
       "      <td>2582</td>\n",
       "    </tr>\n",
       "  </tbody>\n",
       "</table>\n",
       "</div>"
      ],
      "text/plain": [
       "   training_run  iteration       loss   eval_loss  learning_rate  duration_ms\n",
       "0             0          0  88.160108  100.129851            NaN         2582"
      ]
     },
     "execution_count": 368,
     "metadata": {},
     "output_type": "execute_result"
    }
   ],
   "source": [
    "history = bq.query(query = query).to_dataframe()\n",
    "history"
   ]
  },
  {
   "cell_type": "markdown",
   "id": "36303174-18e1-4a3a-9caf-03d13359b4a6",
   "metadata": {},
   "source": [
    "### Model Metrics Review\n",
    "\n",
    "Review the model evaluation statistics with [ML.EVALUATE](https://cloud.google.com/bigquery-ml/docs/reference/standard-sql/bigqueryml-syntax-evaluate):"
   ]
  },
  {
   "cell_type": "code",
   "execution_count": 369,
   "id": "8de62e23-8eba-4a09-8e44-7365aba04e49",
   "metadata": {},
   "outputs": [
    {
     "name": "stdout",
     "output_type": "stream",
     "text": [
      "\n",
      "    SELECT * FROM ML.EVALUATE(MODEL `statmike-mlops-349915.feature_engineering.03_feature_engineering_2a`)\n",
      "\n"
     ]
    }
   ],
   "source": [
    "query = f\"\"\"\n",
    "    SELECT * FROM ML.EVALUATE(MODEL `{BQ_PROJECT}.{BQ_DATASET}.{BQ_MODEL_2A}`)\n",
    "\"\"\"\n",
    "print(query)"
   ]
  },
  {
   "cell_type": "code",
   "execution_count": 370,
   "id": "2274ff2d-5037-41d0-b099-6625eac6e149",
   "metadata": {},
   "outputs": [
    {
     "data": {
      "text/html": [
       "<div>\n",
       "<style scoped>\n",
       "    .dataframe tbody tr th:only-of-type {\n",
       "        vertical-align: middle;\n",
       "    }\n",
       "\n",
       "    .dataframe tbody tr th {\n",
       "        vertical-align: top;\n",
       "    }\n",
       "\n",
       "    .dataframe thead th {\n",
       "        text-align: right;\n",
       "    }\n",
       "</style>\n",
       "<table border=\"1\" class=\"dataframe\">\n",
       "  <thead>\n",
       "    <tr style=\"text-align: right;\">\n",
       "      <th></th>\n",
       "      <th>mean_absolute_error</th>\n",
       "      <th>mean_squared_error</th>\n",
       "      <th>mean_squared_log_error</th>\n",
       "      <th>median_absolute_error</th>\n",
       "      <th>r2_score</th>\n",
       "      <th>explained_variance</th>\n",
       "    </tr>\n",
       "  </thead>\n",
       "  <tbody>\n",
       "    <tr>\n",
       "      <th>0</th>\n",
       "      <td>7.782854</td>\n",
       "      <td>100.717183</td>\n",
       "      <td>0.023195</td>\n",
       "      <td>6.943499</td>\n",
       "      <td>0.000693</td>\n",
       "      <td>0.011133</td>\n",
       "    </tr>\n",
       "  </tbody>\n",
       "</table>\n",
       "</div>"
      ],
      "text/plain": [
       "   mean_absolute_error  mean_squared_error  mean_squared_log_error  \\\n",
       "0             7.782854          100.717183                0.023195   \n",
       "\n",
       "   median_absolute_error  r2_score  explained_variance  \n",
       "0               6.943499  0.000693            0.011133  "
      ]
     },
     "execution_count": 370,
     "metadata": {},
     "output_type": "execute_result"
    }
   ],
   "source": [
    "bq.query(query = query).to_dataframe()"
   ]
  },
  {
   "cell_type": "markdown",
   "id": "e9f1d4bd-928d-4e4b-a4f4-dffe88e36670",
   "metadata": {},
   "source": [
    "### Comparing Metrics Between Automatic and Manual Feature Engineering\n",
    "\n",
    "The query here loads the metrics with `ML.EVALUATE` for both models."
   ]
  },
  {
   "cell_type": "code",
   "execution_count": 371,
   "id": "2bb61659-19a1-4639-a101-ffc075ea7223",
   "metadata": {},
   "outputs": [
    {
     "name": "stdout",
     "output_type": "stream",
     "text": [
      "\n",
      "    SELECT 'Automatic Feature Engineering' as Approach, * FROM ML.EVALUATE(MODEL `statmike-mlops-349915.feature_engineering.03_feature_engineering_auto`)\n",
      "    UNION ALL\n",
      "    SELECT 'Manual Feature Engineering - 2A' as Approach, * FROM ML.EVALUATE(MODEL `statmike-mlops-349915.feature_engineering.03_feature_engineering_2a`)\n",
      "\n"
     ]
    }
   ],
   "source": [
    "query = f\"\"\"\n",
    "    SELECT 'Automatic Feature Engineering' as Approach, * FROM ML.EVALUATE(MODEL `{BQ_PROJECT}.{BQ_DATASET}.{BQ_MODEL_AUTO}`)\n",
    "    UNION ALL\n",
    "    SELECT 'Manual Feature Engineering - 2A' as Approach, * FROM ML.EVALUATE(MODEL `{BQ_PROJECT}.{BQ_DATASET}.{BQ_MODEL_2A}`)\n",
    "\"\"\"\n",
    "print(query)"
   ]
  },
  {
   "cell_type": "code",
   "execution_count": 372,
   "id": "f980aa7e-b608-4604-b5a7-8d49c3b773a7",
   "metadata": {},
   "outputs": [
    {
     "data": {
      "text/html": [
       "<div>\n",
       "<style scoped>\n",
       "    .dataframe tbody tr th:only-of-type {\n",
       "        vertical-align: middle;\n",
       "    }\n",
       "\n",
       "    .dataframe tbody tr th {\n",
       "        vertical-align: top;\n",
       "    }\n",
       "\n",
       "    .dataframe thead th {\n",
       "        text-align: right;\n",
       "    }\n",
       "</style>\n",
       "<table border=\"1\" class=\"dataframe\">\n",
       "  <thead>\n",
       "    <tr style=\"text-align: right;\">\n",
       "      <th></th>\n",
       "      <th>Approach</th>\n",
       "      <th>mean_absolute_error</th>\n",
       "      <th>mean_squared_error</th>\n",
       "      <th>mean_squared_log_error</th>\n",
       "      <th>median_absolute_error</th>\n",
       "      <th>r2_score</th>\n",
       "      <th>explained_variance</th>\n",
       "    </tr>\n",
       "  </thead>\n",
       "  <tbody>\n",
       "    <tr>\n",
       "      <th>0</th>\n",
       "      <td>Automatic Feature Engineering</td>\n",
       "      <td>7.782854</td>\n",
       "      <td>100.717042</td>\n",
       "      <td>0.023195</td>\n",
       "      <td>6.943565</td>\n",
       "      <td>0.000694</td>\n",
       "      <td>0.011133</td>\n",
       "    </tr>\n",
       "    <tr>\n",
       "      <th>1</th>\n",
       "      <td>Manual Feature Engineering - 2A</td>\n",
       "      <td>7.782854</td>\n",
       "      <td>100.717183</td>\n",
       "      <td>0.023195</td>\n",
       "      <td>6.943499</td>\n",
       "      <td>0.000693</td>\n",
       "      <td>0.011133</td>\n",
       "    </tr>\n",
       "  </tbody>\n",
       "</table>\n",
       "</div>"
      ],
      "text/plain": [
       "                          Approach  mean_absolute_error  mean_squared_error  \\\n",
       "0    Automatic Feature Engineering             7.782854          100.717042   \n",
       "1  Manual Feature Engineering - 2A             7.782854          100.717183   \n",
       "\n",
       "   mean_squared_log_error  median_absolute_error  r2_score  explained_variance  \n",
       "0                0.023195               6.943565  0.000694            0.011133  \n",
       "1                0.023195               6.943499  0.000693            0.011133  "
      ]
     },
     "execution_count": 372,
     "metadata": {},
     "output_type": "execute_result"
    }
   ],
   "source": [
    "bq.query(query = query).to_dataframe()"
   ]
  },
  {
   "cell_type": "markdown",
   "id": "c2ed977d-05d6-4593-a296-1d6e6d96c266",
   "metadata": {},
   "source": [
    "These results show a very similar outcome across all metrics.  This is because the manual TRANSFORM step is normalizing the numerical inputs in very similar ways to how the automatic feature preprocessing did."
   ]
  },
  {
   "cell_type": "markdown",
   "id": "de9dbba1-503b-47c2-a9d8-7ed405735f28",
   "metadata": {},
   "source": [
    "### Global Explainability - What is important to Judges?\n",
    "\n",
    "Retrieve the influence of each feature on the model with [ML.GLOBAL_EXPLAIN](https://cloud.google.com/bigquery-ml/docs/reference/standard-sql/bigqueryml-syntax-global-explain).  "
   ]
  },
  {
   "cell_type": "code",
   "execution_count": 373,
   "id": "13d88b1b-9607-4e47-b8aa-6e9dfe215c96",
   "metadata": {},
   "outputs": [
    {
     "name": "stdout",
     "output_type": "stream",
     "text": [
      "\n",
      "    SELECT *\n",
      "    FROM ML.GLOBAL_EXPLAIN (MODEL `statmike-mlops-349915.feature_engineering.03_feature_engineering_2a`)\n",
      "\n"
     ]
    }
   ],
   "source": [
    "query = f\"\"\"\n",
    "    SELECT *\n",
    "    FROM ML.GLOBAL_EXPLAIN (MODEL `{BQ_PROJECT}.{BQ_DATASET}.{BQ_MODEL_2A}`)\n",
    "\"\"\"\n",
    "print(query)"
   ]
  },
  {
   "cell_type": "code",
   "execution_count": 374,
   "id": "c3e94656-131c-4ee3-95d2-fc7274fe5e18",
   "metadata": {},
   "outputs": [
    {
     "data": {
      "text/html": [
       "<div>\n",
       "<style scoped>\n",
       "    .dataframe tbody tr th:only-of-type {\n",
       "        vertical-align: middle;\n",
       "    }\n",
       "\n",
       "    .dataframe tbody tr th {\n",
       "        vertical-align: top;\n",
       "    }\n",
       "\n",
       "    .dataframe thead th {\n",
       "        text-align: right;\n",
       "    }\n",
       "</style>\n",
       "<table border=\"1\" class=\"dataframe\">\n",
       "  <thead>\n",
       "    <tr style=\"text-align: right;\">\n",
       "      <th></th>\n",
       "      <th>feature</th>\n",
       "      <th>attribution</th>\n",
       "    </tr>\n",
       "  </thead>\n",
       "  <tbody>\n",
       "    <tr>\n",
       "      <th>0</th>\n",
       "      <td>scale_bakeTemp</td>\n",
       "      <td>2.394592</td>\n",
       "    </tr>\n",
       "    <tr>\n",
       "      <th>1</th>\n",
       "      <td>scale_mix2Time</td>\n",
       "      <td>0.872880</td>\n",
       "    </tr>\n",
       "    <tr>\n",
       "      <th>2</th>\n",
       "      <td>scale_saltAmt</td>\n",
       "      <td>0.430852</td>\n",
       "    </tr>\n",
       "    <tr>\n",
       "      <th>3</th>\n",
       "      <td>scale_flourAmt</td>\n",
       "      <td>0.314417</td>\n",
       "    </tr>\n",
       "    <tr>\n",
       "      <th>4</th>\n",
       "      <td>scale_mix2Speed</td>\n",
       "      <td>0.312317</td>\n",
       "    </tr>\n",
       "    <tr>\n",
       "      <th>5</th>\n",
       "      <td>scale_bakeTime</td>\n",
       "      <td>0.249525</td>\n",
       "    </tr>\n",
       "    <tr>\n",
       "      <th>6</th>\n",
       "      <td>scale_waterTemp</td>\n",
       "      <td>0.185143</td>\n",
       "    </tr>\n",
       "    <tr>\n",
       "      <th>7</th>\n",
       "      <td>scale_water1Amt</td>\n",
       "      <td>0.130179</td>\n",
       "    </tr>\n",
       "    <tr>\n",
       "      <th>8</th>\n",
       "      <td>scale_proveTime</td>\n",
       "      <td>0.130037</td>\n",
       "    </tr>\n",
       "    <tr>\n",
       "      <th>9</th>\n",
       "      <td>scale_ambHumidity</td>\n",
       "      <td>0.125837</td>\n",
       "    </tr>\n",
       "    <tr>\n",
       "      <th>10</th>\n",
       "      <td>scale_ambTemp</td>\n",
       "      <td>0.109617</td>\n",
       "    </tr>\n",
       "    <tr>\n",
       "      <th>11</th>\n",
       "      <td>scale_mix1Speed</td>\n",
       "      <td>0.109046</td>\n",
       "    </tr>\n",
       "    <tr>\n",
       "      <th>12</th>\n",
       "      <td>scale_restTime</td>\n",
       "      <td>0.103344</td>\n",
       "    </tr>\n",
       "    <tr>\n",
       "      <th>13</th>\n",
       "      <td>scale_yeastAmt</td>\n",
       "      <td>0.085018</td>\n",
       "    </tr>\n",
       "    <tr>\n",
       "      <th>14</th>\n",
       "      <td>scale_water2Amt</td>\n",
       "      <td>0.060971</td>\n",
       "    </tr>\n",
       "    <tr>\n",
       "      <th>15</th>\n",
       "      <td>scale_mix1Time</td>\n",
       "      <td>0.043299</td>\n",
       "    </tr>\n",
       "  </tbody>\n",
       "</table>\n",
       "</div>"
      ],
      "text/plain": [
       "              feature  attribution\n",
       "0      scale_bakeTemp     2.394592\n",
       "1      scale_mix2Time     0.872880\n",
       "2       scale_saltAmt     0.430852\n",
       "3      scale_flourAmt     0.314417\n",
       "4     scale_mix2Speed     0.312317\n",
       "5      scale_bakeTime     0.249525\n",
       "6     scale_waterTemp     0.185143\n",
       "7     scale_water1Amt     0.130179\n",
       "8     scale_proveTime     0.130037\n",
       "9   scale_ambHumidity     0.125837\n",
       "10      scale_ambTemp     0.109617\n",
       "11    scale_mix1Speed     0.109046\n",
       "12     scale_restTime     0.103344\n",
       "13     scale_yeastAmt     0.085018\n",
       "14    scale_water2Amt     0.060971\n",
       "15     scale_mix1Time     0.043299"
      ]
     },
     "execution_count": 374,
     "metadata": {},
     "output_type": "execute_result"
    }
   ],
   "source": [
    "gexplain = bq.query(query = query).to_dataframe()\n",
    "gexplain"
   ]
  },
  {
   "cell_type": "markdown",
   "id": "7a43ec61-caf9-4715-b29b-cba73764f296",
   "metadata": {},
   "source": [
    "Plot the attribution:"
   ]
  },
  {
   "cell_type": "code",
   "execution_count": 375,
   "id": "9b68270e-3235-4f5b-8dec-b33332332751",
   "metadata": {},
   "outputs": [
    {
     "data": {
      "image/png": "[encoded data removed]",
      "text/plain": [
       "<Figure size 1080x576 with 1 Axes>"
      ]
     },
     "metadata": {
      "needs_background": "light"
     },
     "output_type": "display_data"
    }
   ],
   "source": [
    "plt.figure(figsize=(15,8))\n",
    "plt.barh(gexplain['feature'], gexplain['attribution'])\n",
    "plt.title('Global Influence')\n",
    "plt.xlabel('Attribution')\n",
    "#plt.ylabel('Feature')\n",
    "plt.show()"
   ]
  },
  {
   "cell_type": "markdown",
   "id": "29db2b35-8e61-477b-a18e-a5260f8cbcef",
   "metadata": {},
   "source": [
    "### Predictions With BigQuery ML (BQML)\n",
    "\n",
    "Create a pandas dataframe with retrieved predictions for the test data in the table using [ML.PREDICT](https://cloud.google.com/bigquery-ml/docs/reference/standard-sql/bigqueryml-syntax-predict):"
   ]
  },
  {
   "cell_type": "code",
   "execution_count": 376,
   "id": "dde4bedd-428a-4c93-9982-6e2bd87d3d70",
   "metadata": {},
   "outputs": [
    {
     "name": "stdout",
     "output_type": "stream",
     "text": [
      "\n",
      "    SELECT Recipe, JUDGE_A, predicted_JUDGE_A, JUDGE_A-predicted_JUDGE_A as Error\n",
      "    FROM ML.PREDICT (MODEL `statmike-mlops-349915.feature_engineering.03_feature_engineering_2a`,(\n",
      "        SELECT *\n",
      "        FROM `statmike-mlops-349915.feature_engineering.bread`\n",
      "        WHERE Recipe <= 10)\n",
      "    )\n",
      "    ORDER BY Recipe\n",
      "\n"
     ]
    }
   ],
   "source": [
    "query = f\"\"\"\n",
    "    SELECT Recipe, JUDGE_A, predicted_JUDGE_A, JUDGE_A-predicted_JUDGE_A as Error\n",
    "    FROM ML.PREDICT (MODEL `{BQ_PROJECT}.{BQ_DATASET}.{BQ_MODEL_2A}`,(\n",
    "        SELECT *\n",
    "        FROM `{BQ_PROJECT}.{BQ_DATASET}.{BQ_TABLE}`\n",
    "        WHERE Recipe <= 10)\n",
    "    )\n",
    "    ORDER BY Recipe\n",
    "\"\"\"\n",
    "print(query)"
   ]
  },
  {
   "cell_type": "code",
   "execution_count": 377,
   "id": "3ce9f658-8bd7-48c7-b1a9-c71112d79425",
   "metadata": {},
   "outputs": [
    {
     "data": {
      "text/html": [
       "<div>\n",
       "<style scoped>\n",
       "    .dataframe tbody tr th:only-of-type {\n",
       "        vertical-align: middle;\n",
       "    }\n",
       "\n",
       "    .dataframe tbody tr th {\n",
       "        vertical-align: top;\n",
       "    }\n",
       "\n",
       "    .dataframe thead th {\n",
       "        text-align: right;\n",
       "    }\n",
       "</style>\n",
       "<table border=\"1\" class=\"dataframe\">\n",
       "  <thead>\n",
       "    <tr style=\"text-align: right;\">\n",
       "      <th></th>\n",
       "      <th>Recipe</th>\n",
       "      <th>JUDGE_A</th>\n",
       "      <th>predicted_JUDGE_A</th>\n",
       "      <th>Error</th>\n",
       "    </tr>\n",
       "  </thead>\n",
       "  <tbody>\n",
       "    <tr>\n",
       "      <th>0</th>\n",
       "      <td>1</td>\n",
       "      <td>41.0</td>\n",
       "      <td>68.767707</td>\n",
       "      <td>-27.767707</td>\n",
       "    </tr>\n",
       "    <tr>\n",
       "      <th>1</th>\n",
       "      <td>2</td>\n",
       "      <td>75.0</td>\n",
       "      <td>76.200496</td>\n",
       "      <td>-1.200496</td>\n",
       "    </tr>\n",
       "    <tr>\n",
       "      <th>2</th>\n",
       "      <td>3</td>\n",
       "      <td>75.0</td>\n",
       "      <td>80.882252</td>\n",
       "      <td>-5.882252</td>\n",
       "    </tr>\n",
       "    <tr>\n",
       "      <th>3</th>\n",
       "      <td>4</td>\n",
       "      <td>78.0</td>\n",
       "      <td>74.389316</td>\n",
       "      <td>3.610684</td>\n",
       "    </tr>\n",
       "    <tr>\n",
       "      <th>4</th>\n",
       "      <td>5</td>\n",
       "      <td>82.0</td>\n",
       "      <td>76.123198</td>\n",
       "      <td>5.876802</td>\n",
       "    </tr>\n",
       "    <tr>\n",
       "      <th>5</th>\n",
       "      <td>6</td>\n",
       "      <td>79.0</td>\n",
       "      <td>75.761107</td>\n",
       "      <td>3.238893</td>\n",
       "    </tr>\n",
       "    <tr>\n",
       "      <th>6</th>\n",
       "      <td>7</td>\n",
       "      <td>75.0</td>\n",
       "      <td>74.046701</td>\n",
       "      <td>0.953299</td>\n",
       "    </tr>\n",
       "    <tr>\n",
       "      <th>7</th>\n",
       "      <td>8</td>\n",
       "      <td>80.0</td>\n",
       "      <td>76.901590</td>\n",
       "      <td>3.098410</td>\n",
       "    </tr>\n",
       "    <tr>\n",
       "      <th>8</th>\n",
       "      <td>9</td>\n",
       "      <td>80.0</td>\n",
       "      <td>75.363815</td>\n",
       "      <td>4.636185</td>\n",
       "    </tr>\n",
       "    <tr>\n",
       "      <th>9</th>\n",
       "      <td>10</td>\n",
       "      <td>68.0</td>\n",
       "      <td>75.024319</td>\n",
       "      <td>-7.024319</td>\n",
       "    </tr>\n",
       "  </tbody>\n",
       "</table>\n",
       "</div>"
      ],
      "text/plain": [
       "   Recipe  JUDGE_A  predicted_JUDGE_A      Error\n",
       "0       1     41.0          68.767707 -27.767707\n",
       "1       2     75.0          76.200496  -1.200496\n",
       "2       3     75.0          80.882252  -5.882252\n",
       "3       4     78.0          74.389316   3.610684\n",
       "4       5     82.0          76.123198   5.876802\n",
       "5       6     79.0          75.761107   3.238893\n",
       "6       7     75.0          74.046701   0.953299\n",
       "7       8     80.0          76.901590   3.098410\n",
       "8       9     80.0          75.363815   4.636185\n",
       "9      10     68.0          75.024319  -7.024319"
      ]
     },
     "execution_count": 377,
     "metadata": {},
     "output_type": "execute_result"
    }
   ],
   "source": [
    "bq.query(query = query).to_dataframe()"
   ]
  },
  {
   "cell_type": "markdown",
   "id": "3e1d68cd-ec7f-4ec8-92c6-9f525c30c69c",
   "metadata": {},
   "source": [
    "### Local Explainability - What impacted the judges rating?\n",
    "\n",
    "Retrieve feature attribution values to interpret each features contribution to a prediction relative to the baseline prediction using [ML.EXPLAIN_PREDICT](https://cloud.google.com/bigquery-ml/docs/reference/standard-sql/bigqueryml-syntax-explain-predict)."
   ]
  },
  {
   "cell_type": "code",
   "execution_count": 378,
   "id": "f878a919-91b0-48e0-9322-a3d4654437bb",
   "metadata": {},
   "outputs": [
    {
     "name": "stdout",
     "output_type": "stream",
     "text": [
      "\n",
      "    SELECT *\n",
      "    FROM ML.EXPLAIN_PREDICT (MODEL `statmike-mlops-349915.feature_engineering.03_feature_engineering_2a`,(\n",
      "        SELECT *\n",
      "        FROM `statmike-mlops-349915.feature_engineering.bread`\n",
      "        WHERE Recipe <= 10)\n",
      "    )\n",
      "    ORDER BY Recipe\n",
      "\n"
     ]
    }
   ],
   "source": [
    "query = f\"\"\"\n",
    "    SELECT *\n",
    "    FROM ML.EXPLAIN_PREDICT (MODEL `{BQ_PROJECT}.{BQ_DATASET}.{BQ_MODEL_2A}`,(\n",
    "        SELECT *\n",
    "        FROM `{BQ_PROJECT}.{BQ_DATASET}.{BQ_TABLE}`\n",
    "        WHERE Recipe <= 10)\n",
    "    )\n",
    "    ORDER BY Recipe\n",
    "\"\"\"\n",
    "print(query)"
   ]
  },
  {
   "cell_type": "code",
   "execution_count": 379,
   "id": "6c7c4376-7b45-4c3d-b45d-34334d4acd33",
   "metadata": {},
   "outputs": [
    {
     "data": {
      "text/html": [
       "<div>\n",
       "<style scoped>\n",
       "    .dataframe tbody tr th:only-of-type {\n",
       "        vertical-align: middle;\n",
       "    }\n",
       "\n",
       "    .dataframe tbody tr th {\n",
       "        vertical-align: top;\n",
       "    }\n",
       "\n",
       "    .dataframe thead th {\n",
       "        text-align: right;\n",
       "    }\n",
       "</style>\n",
       "<table border=\"1\" class=\"dataframe\">\n",
       "  <thead>\n",
       "    <tr style=\"text-align: right;\">\n",
       "      <th></th>\n",
       "      <th>predicted_JUDGE_A</th>\n",
       "      <th>top_feature_attributions</th>\n",
       "      <th>baseline_prediction_value</th>\n",
       "      <th>prediction_value</th>\n",
       "      <th>approximation_error</th>\n",
       "      <th>Recipe</th>\n",
       "      <th>flourAmt</th>\n",
       "      <th>saltAmt</th>\n",
       "      <th>yeastAmt</th>\n",
       "      <th>mix1Time</th>\n",
       "      <th>...</th>\n",
       "      <th>water2Amt</th>\n",
       "      <th>waterTemp</th>\n",
       "      <th>proveTime</th>\n",
       "      <th>restTime</th>\n",
       "      <th>bakeTime</th>\n",
       "      <th>bakeTemp</th>\n",
       "      <th>ambTemp</th>\n",
       "      <th>ambHumidity</th>\n",
       "      <th>JUDGE_A</th>\n",
       "      <th>JUDGE_B</th>\n",
       "    </tr>\n",
       "  </thead>\n",
       "  <tbody>\n",
       "    <tr>\n",
       "      <th>0</th>\n",
       "      <td>68.767707</td>\n",
       "      <td>[{'feature': 'scale_bakeTemp', 'attribution': ...</td>\n",
       "      <td>74.644778</td>\n",
       "      <td>68.767707</td>\n",
       "      <td>0.0</td>\n",
       "      <td>1</td>\n",
       "      <td>511.216954</td>\n",
       "      <td>9</td>\n",
       "      <td>11</td>\n",
       "      <td>6</td>\n",
       "      <td>...</td>\n",
       "      <td>105.439552</td>\n",
       "      <td>48</td>\n",
       "      <td>92.277551</td>\n",
       "      <td>43</td>\n",
       "      <td>29</td>\n",
       "      <td>462.140285</td>\n",
       "      <td>38.205729</td>\n",
       "      <td>63.778364</td>\n",
       "      <td>41.0</td>\n",
       "      <td>20.0</td>\n",
       "    </tr>\n",
       "    <tr>\n",
       "      <th>1</th>\n",
       "      <td>76.200496</td>\n",
       "      <td>[{'feature': 'scale_bakeTemp', 'attribution': ...</td>\n",
       "      <td>74.644778</td>\n",
       "      <td>76.200496</td>\n",
       "      <td>0.0</td>\n",
       "      <td>2</td>\n",
       "      <td>504.027379</td>\n",
       "      <td>12</td>\n",
       "      <td>11</td>\n",
       "      <td>7</td>\n",
       "      <td>...</td>\n",
       "      <td>109.383889</td>\n",
       "      <td>47</td>\n",
       "      <td>107.171485</td>\n",
       "      <td>45</td>\n",
       "      <td>28</td>\n",
       "      <td>415.312146</td>\n",
       "      <td>69.999552</td>\n",
       "      <td>46.117891</td>\n",
       "      <td>75.0</td>\n",
       "      <td>64.0</td>\n",
       "    </tr>\n",
       "    <tr>\n",
       "      <th>2</th>\n",
       "      <td>80.882252</td>\n",
       "      <td>[{'feature': 'scale_bakeTemp', 'attribution': ...</td>\n",
       "      <td>74.644778</td>\n",
       "      <td>80.882252</td>\n",
       "      <td>0.0</td>\n",
       "      <td>3</td>\n",
       "      <td>506.413722</td>\n",
       "      <td>10</td>\n",
       "      <td>11</td>\n",
       "      <td>4</td>\n",
       "      <td>...</td>\n",
       "      <td>115.693323</td>\n",
       "      <td>42</td>\n",
       "      <td>99.872264</td>\n",
       "      <td>35</td>\n",
       "      <td>24</td>\n",
       "      <td>405.124881</td>\n",
       "      <td>45.326810</td>\n",
       "      <td>43.961578</td>\n",
       "      <td>75.0</td>\n",
       "      <td>64.0</td>\n",
       "    </tr>\n",
       "    <tr>\n",
       "      <th>3</th>\n",
       "      <td>74.389316</td>\n",
       "      <td>[{'feature': 'scale_bakeTemp', 'attribution': ...</td>\n",
       "      <td>74.644778</td>\n",
       "      <td>74.389316</td>\n",
       "      <td>0.0</td>\n",
       "      <td>4</td>\n",
       "      <td>507.602584</td>\n",
       "      <td>9</td>\n",
       "      <td>9</td>\n",
       "      <td>3</td>\n",
       "      <td>...</td>\n",
       "      <td>108.322366</td>\n",
       "      <td>42</td>\n",
       "      <td>102.966628</td>\n",
       "      <td>44</td>\n",
       "      <td>22</td>\n",
       "      <td>435.755052</td>\n",
       "      <td>42.543597</td>\n",
       "      <td>40.270958</td>\n",
       "      <td>78.0</td>\n",
       "      <td>68.0</td>\n",
       "    </tr>\n",
       "    <tr>\n",
       "      <th>4</th>\n",
       "      <td>76.123198</td>\n",
       "      <td>[{'feature': 'scale_mix2Time', 'attribution': ...</td>\n",
       "      <td>74.644778</td>\n",
       "      <td>76.123198</td>\n",
       "      <td>0.0</td>\n",
       "      <td>5</td>\n",
       "      <td>486.277476</td>\n",
       "      <td>11</td>\n",
       "      <td>12</td>\n",
       "      <td>5</td>\n",
       "      <td>...</td>\n",
       "      <td>90.759381</td>\n",
       "      <td>43</td>\n",
       "      <td>100.725626</td>\n",
       "      <td>43</td>\n",
       "      <td>25</td>\n",
       "      <td>421.587535</td>\n",
       "      <td>53.086075</td>\n",
       "      <td>54.744809</td>\n",
       "      <td>82.0</td>\n",
       "      <td>73.0</td>\n",
       "    </tr>\n",
       "    <tr>\n",
       "      <th>5</th>\n",
       "      <td>75.761107</td>\n",
       "      <td>[{'feature': 'scale_bakeTemp', 'attribution': ...</td>\n",
       "      <td>74.644778</td>\n",
       "      <td>75.761107</td>\n",
       "      <td>0.0</td>\n",
       "      <td>6</td>\n",
       "      <td>500.812862</td>\n",
       "      <td>11</td>\n",
       "      <td>11</td>\n",
       "      <td>3</td>\n",
       "      <td>...</td>\n",
       "      <td>124.672542</td>\n",
       "      <td>45</td>\n",
       "      <td>109.903886</td>\n",
       "      <td>36</td>\n",
       "      <td>24</td>\n",
       "      <td>416.540411</td>\n",
       "      <td>51.267701</td>\n",
       "      <td>35.815610</td>\n",
       "      <td>79.0</td>\n",
       "      <td>70.0</td>\n",
       "    </tr>\n",
       "    <tr>\n",
       "      <th>6</th>\n",
       "      <td>74.046701</td>\n",
       "      <td>[{'feature': 'scale_mix2Time', 'attribution': ...</td>\n",
       "      <td>74.644778</td>\n",
       "      <td>74.046701</td>\n",
       "      <td>0.0</td>\n",
       "      <td>7</td>\n",
       "      <td>502.851477</td>\n",
       "      <td>12</td>\n",
       "      <td>12</td>\n",
       "      <td>6</td>\n",
       "      <td>...</td>\n",
       "      <td>139.302933</td>\n",
       "      <td>42</td>\n",
       "      <td>101.408681</td>\n",
       "      <td>36</td>\n",
       "      <td>23</td>\n",
       "      <td>428.752728</td>\n",
       "      <td>57.342281</td>\n",
       "      <td>44.121910</td>\n",
       "      <td>75.0</td>\n",
       "      <td>65.0</td>\n",
       "    </tr>\n",
       "    <tr>\n",
       "      <th>7</th>\n",
       "      <td>76.901590</td>\n",
       "      <td>[{'feature': 'scale_mix2Time', 'attribution': ...</td>\n",
       "      <td>74.644778</td>\n",
       "      <td>76.901590</td>\n",
       "      <td>0.0</td>\n",
       "      <td>8</td>\n",
       "      <td>520.064115</td>\n",
       "      <td>8</td>\n",
       "      <td>9</td>\n",
       "      <td>4</td>\n",
       "      <td>...</td>\n",
       "      <td>127.303650</td>\n",
       "      <td>44</td>\n",
       "      <td>106.827472</td>\n",
       "      <td>38</td>\n",
       "      <td>27</td>\n",
       "      <td>423.945867</td>\n",
       "      <td>42.812792</td>\n",
       "      <td>46.539498</td>\n",
       "      <td>80.0</td>\n",
       "      <td>71.0</td>\n",
       "    </tr>\n",
       "    <tr>\n",
       "      <th>8</th>\n",
       "      <td>75.363815</td>\n",
       "      <td>[{'feature': 'scale_bakeTemp', 'attribution': ...</td>\n",
       "      <td>74.644778</td>\n",
       "      <td>75.363815</td>\n",
       "      <td>0.0</td>\n",
       "      <td>9</td>\n",
       "      <td>506.150124</td>\n",
       "      <td>12</td>\n",
       "      <td>11</td>\n",
       "      <td>5</td>\n",
       "      <td>...</td>\n",
       "      <td>125.086484</td>\n",
       "      <td>41</td>\n",
       "      <td>100.957520</td>\n",
       "      <td>40</td>\n",
       "      <td>23</td>\n",
       "      <td>413.192045</td>\n",
       "      <td>54.195141</td>\n",
       "      <td>40.067980</td>\n",
       "      <td>80.0</td>\n",
       "      <td>70.0</td>\n",
       "    </tr>\n",
       "    <tr>\n",
       "      <th>9</th>\n",
       "      <td>75.024319</td>\n",
       "      <td>[{'feature': 'scale_mix2Speed', 'attribution':...</td>\n",
       "      <td>74.644778</td>\n",
       "      <td>75.024319</td>\n",
       "      <td>0.0</td>\n",
       "      <td>10</td>\n",
       "      <td>513.812340</td>\n",
       "      <td>11</td>\n",
       "      <td>9</td>\n",
       "      <td>8</td>\n",
       "      <td>...</td>\n",
       "      <td>151.097931</td>\n",
       "      <td>46</td>\n",
       "      <td>102.585934</td>\n",
       "      <td>35</td>\n",
       "      <td>23</td>\n",
       "      <td>428.643665</td>\n",
       "      <td>55.011774</td>\n",
       "      <td>60.119775</td>\n",
       "      <td>68.0</td>\n",
       "      <td>54.0</td>\n",
       "    </tr>\n",
       "  </tbody>\n",
       "</table>\n",
       "<p>10 rows × 24 columns</p>\n",
       "</div>"
      ],
      "text/plain": [
       "   predicted_JUDGE_A                           top_feature_attributions  \\\n",
       "0          68.767707  [{'feature': 'scale_bakeTemp', 'attribution': ...   \n",
       "1          76.200496  [{'feature': 'scale_bakeTemp', 'attribution': ...   \n",
       "2          80.882252  [{'feature': 'scale_bakeTemp', 'attribution': ...   \n",
       "3          74.389316  [{'feature': 'scale_bakeTemp', 'attribution': ...   \n",
       "4          76.123198  [{'feature': 'scale_mix2Time', 'attribution': ...   \n",
       "5          75.761107  [{'feature': 'scale_bakeTemp', 'attribution': ...   \n",
       "6          74.046701  [{'feature': 'scale_mix2Time', 'attribution': ...   \n",
       "7          76.901590  [{'feature': 'scale_mix2Time', 'attribution': ...   \n",
       "8          75.363815  [{'feature': 'scale_bakeTemp', 'attribution': ...   \n",
       "9          75.024319  [{'feature': 'scale_mix2Speed', 'attribution':...   \n",
       "\n",
       "   baseline_prediction_value  prediction_value  approximation_error  Recipe  \\\n",
       "0                  74.644778         68.767707                  0.0       1   \n",
       "1                  74.644778         76.200496                  0.0       2   \n",
       "2                  74.644778         80.882252                  0.0       3   \n",
       "3                  74.644778         74.389316                  0.0       4   \n",
       "4                  74.644778         76.123198                  0.0       5   \n",
       "5                  74.644778         75.761107                  0.0       6   \n",
       "6                  74.644778         74.046701                  0.0       7   \n",
       "7                  74.644778         76.901590                  0.0       8   \n",
       "8                  74.644778         75.363815                  0.0       9   \n",
       "9                  74.644778         75.024319                  0.0      10   \n",
       "\n",
       "     flourAmt  saltAmt  yeastAmt  mix1Time  ...   water2Amt  waterTemp  \\\n",
       "0  511.216954        9        11         6  ...  105.439552         48   \n",
       "1  504.027379       12        11         7  ...  109.383889         47   \n",
       "2  506.413722       10        11         4  ...  115.693323         42   \n",
       "3  507.602584        9         9         3  ...  108.322366         42   \n",
       "4  486.277476       11        12         5  ...   90.759381         43   \n",
       "5  500.812862       11        11         3  ...  124.672542         45   \n",
       "6  502.851477       12        12         6  ...  139.302933         42   \n",
       "7  520.064115        8         9         4  ...  127.303650         44   \n",
       "8  506.150124       12        11         5  ...  125.086484         41   \n",
       "9  513.812340       11         9         8  ...  151.097931         46   \n",
       "\n",
       "    proveTime  restTime  bakeTime    bakeTemp    ambTemp  ambHumidity  \\\n",
       "0   92.277551        43        29  462.140285  38.205729    63.778364   \n",
       "1  107.171485        45        28  415.312146  69.999552    46.117891   \n",
       "2   99.872264        35        24  405.124881  45.326810    43.961578   \n",
       "3  102.966628        44        22  435.755052  42.543597    40.270958   \n",
       "4  100.725626        43        25  421.587535  53.086075    54.744809   \n",
       "5  109.903886        36        24  416.540411  51.267701    35.815610   \n",
       "6  101.408681        36        23  428.752728  57.342281    44.121910   \n",
       "7  106.827472        38        27  423.945867  42.812792    46.539498   \n",
       "8  100.957520        40        23  413.192045  54.195141    40.067980   \n",
       "9  102.585934        35        23  428.643665  55.011774    60.119775   \n",
       "\n",
       "   JUDGE_A  JUDGE_B  \n",
       "0     41.0     20.0  \n",
       "1     75.0     64.0  \n",
       "2     75.0     64.0  \n",
       "3     78.0     68.0  \n",
       "4     82.0     73.0  \n",
       "5     79.0     70.0  \n",
       "6     75.0     65.0  \n",
       "7     80.0     71.0  \n",
       "8     80.0     70.0  \n",
       "9     68.0     54.0  \n",
       "\n",
       "[10 rows x 24 columns]"
      ]
     },
     "execution_count": 379,
     "metadata": {},
     "output_type": "execute_result"
    }
   ],
   "source": [
    "explain = bq.query(query = query).to_dataframe()\n",
    "explain"
   ]
  },
  {
   "cell_type": "markdown",
   "id": "dac2d375-a719-4c9c-ab9c-7f3807de2bc0",
   "metadata": {},
   "source": [
    "Create a plot of feature attributions for a single prediction:"
   ]
  },
  {
   "cell_type": "code",
   "execution_count": 380,
   "id": "10394d34-0406-44a2-aa1c-8764c1523c5d",
   "metadata": {},
   "outputs": [],
   "source": [
    "recipe = 1\n",
    "explanation = explain.iloc[recipe-1]['top_feature_attributions']"
   ]
  },
  {
   "cell_type": "code",
   "execution_count": 381,
   "id": "0f193f2f-e656-47cc-b186-9114c01c359b",
   "metadata": {},
   "outputs": [
    {
     "data": {
      "image/png": "[encoded data removed]",
      "text/plain": [
       "<Figure size 1080x360 with 1 Axes>"
      ]
     },
     "metadata": {
      "needs_background": "light"
     },
     "output_type": "display_data"
    }
   ],
   "source": [
    "features = []\n",
    "scores = []\n",
    "for k in explanation:\n",
    "    features.append(k['feature'])\n",
    "    scores.append(k['attribution'])\n",
    "features = [x for _, x in sorted(zip(scores, features))]\n",
    "scores = sorted(scores)\n",
    "\n",
    "plt.figure(figsize=(15,5))\n",
    "plt.barh(features, scores)\n",
    "plt.title(f'Feature Attribution for Prediction - Recipe {recipe}')\n",
    "plt.show()"
   ]
  },
  {
   "cell_type": "markdown",
   "id": "40147787-e773-401b-ac90-591ff32c2e1d",
   "metadata": {},
   "source": [
    "### Check out this model in the BigQuery Console:\n",
    "- Make sure project selected is the one from this notebook\n",
    "- Under Explore, expand this project and dataset\n",
    "- Expand Models and select the model create here"
   ]
  },
  {
   "cell_type": "code",
   "execution_count": 382,
   "id": "5c9cf641-5982-41a3-a1d5-b9ddbb8b0a9a",
   "metadata": {},
   "outputs": [
    {
     "name": "stdout",
     "output_type": "stream",
     "text": [
      "Direct link to the model in BigQuery:\n",
      "https://console.cloud.google.com/bigquery?project=statmike-mlops-349915&ws=!1m5!1m4!5m3!1sstatmike-mlops-349915!2sfeature_engineering!3s03_feature_engineering_2a\n"
     ]
    }
   ],
   "source": [
    "print(f'Direct link to the model in BigQuery:\\nhttps://console.cloud.google.com/bigquery?project={PROJECT_ID}&ws=!1m5!1m4!5m3!1s{PROJECT_ID}!2s{BQ_DATASET}!3s{BQ_MODEL_2A}')"
   ]
  },
  {
   "cell_type": "markdown",
   "id": "e7f1037b-4010-4631-9dc4-de8b06a5bddc",
   "metadata": {},
   "source": [
    "### Check out this model in the Vertex AI Console:\n",
    "- Make sure project selected is the one from this notebook\n",
    "- Make sure the region is `europe-west4` (default when BQ is `EU` multiregion)"
   ]
  },
  {
   "cell_type": "code",
   "execution_count": 383,
   "id": "91e8994b-9f8f-4e65-a61d-96936e04f0cf",
   "metadata": {},
   "outputs": [
    {
     "name": "stdout",
     "output_type": "stream",
     "text": [
      "View the model in the Vertex AI Console:\n",
      "https://console.cloud.google.com/vertex-ai/locations/us-central1/models/bqml_03_feature_engineering_2a?project=statmike-mlops-349915\n"
     ]
    }
   ],
   "source": [
    "print(f\"View the model in the Vertex AI Console:\\nhttps://console.cloud.google.com/vertex-ai/locations/{REGION}/models/bqml_{BQ_MODEL_2A}?project={PROJECT_ID}\")"
   ]
  },
  {
   "cell_type": "markdown",
   "id": "780ff15a-9af1-4842-95ff-0afc33c2e86b",
   "metadata": {},
   "source": [
    "---\n",
    "## Step 2b: Train Model\n",
    "\n",
    "Use BigQuery ML to train a boosted tree:\n",
    "- [Boosted Tree](https://cloud.google.com/bigquery-ml/docs/reference/standard-sql/bigqueryml-syntax-create-boosted-tree) with BigQuery ML (BQML)\n",
    "\n",
    "Feature preprocessing with the `TRANSFORM` statement:\n",
    "- [TRANSFORM](https://cloud.google.com/bigquery-ml/docs/reference/standard-sql/bigqueryml-syntax-create#transform)\n",
    "\n",
    "Register the model to Vertex AI Model Registry:\n",
    "- `MODEL_REGISTRY` [training options](https://cloud.google.com/bigquery-ml/docs/create_vertex) to register the resulting model in the [Vertex AI Model Registry](https://cloud.google.com/vertex-ai/docs/model-registry/introduction)."
   ]
  },
  {
   "cell_type": "code",
   "execution_count": 384,
   "id": "b66e4328-543d-4296-a7da-d1297bee07bf",
   "metadata": {},
   "outputs": [],
   "source": [
    "TIMESTAMP = datetime.now().strftime(\"%Y%m%d%H%M%S\")\n",
    "RUN_NAME = f'run-{TIMESTAMP}'\n",
    "BQ_MODEL_2B = f'{SERIES}_{EXPERIMENT}_2b'"
   ]
  },
  {
   "cell_type": "code",
   "execution_count": 385,
   "id": "ea86eef8-c9a9-4c37-86d7-183d634fa203",
   "metadata": {},
   "outputs": [
    {
     "name": "stdout",
     "output_type": "stream",
     "text": [
      "\n",
      "CREATE OR REPLACE MODEL `statmike-mlops-349915.feature_engineering.03_feature_engineering_2b`\n",
      "TRANSFORM (\n",
      "    JUDGE_A,\n",
      "\n",
      "    ML.MIN_MAX_SCALER(flourAmt) OVER() as scale_flourAmt, \n",
      "    ML.ROBUST_SCALER(saltAmt) OVER() as scale_saltAmt,\n",
      "    ML.MAX_ABS_SCALER(yeastAmt) OVER() as scale_yeastAmt,\n",
      "    ML.STANDARD_SCALER(water1Amt) OVER() as scale_water1Amt,\n",
      "    ML.STANDARD_SCALER(water2Amt) OVER() as scale_water2Amt,\n",
      "\n",
      "    ML.STANDARD_SCALER(waterTemp) OVER() as scale_waterTemp,\n",
      "    ML.ROBUST_SCALER(bakeTemp) OVER() as scale_bakeTemp,\n",
      "    ML.MIN_MAX_SCALER(ambTemp) OVER() as scale_ambTemp,\n",
      "    ML.MAX_ABS_SCALER(ambHumidity) OVER() as scale_ambHumidity,\n",
      "\n",
      "    ML.ROBUST_SCALER(mix1Time) OVER() as scale_mix1Time,\n",
      "    ML.ROBUST_SCALER(mix2Time) OVER() as scale_mix2Time,\n",
      "    ML.ROBUST_SCALER(mix1Speed) OVER() as scale_mix1Speed,\n",
      "    ML.ROBUST_SCALER(mix2Speed) OVER() as scale_mix2Speed,\n",
      "    ML.STANDARD_SCALER(proveTime) OVER() as scale_proveTime,\n",
      "    ML.MAX_ABS_SCALER(restTime) OVER() as scale_restTime,\n",
      "    ML.MAX_ABS_SCALER(bakeTime) OVER() as scale_bakeTime\n",
      ")\n",
      "OPTIONS (\n",
      "        model_type = 'BOOSTED_TREE_REGRESSOR',\n",
      "        booster_type = 'GBTREE',\n",
      "        num_parallel_tree = 1,\n",
      "        max_iterations = 30,\n",
      "        early_stop = TRUE,\n",
      "        min_rel_progress = 0.01,\n",
      "        tree_method = 'HIST',\n",
      "        subsample = 0.85,\n",
      "        #model_type = 'LINEAR_REG',        \n",
      "        input_label_cols = ['JUDGE_A'],\n",
      "        enable_global_explain = TRUE,\n",
      "        data_split_method = 'AUTO_SPLIT',\n",
      "        l1_reg = 10,\n",
      "        l2_reg = 10,\n",
      "        MODEL_REGISTRY = 'VERTEX_AI',\n",
      "        VERTEX_AI_MODEL_ID = 'bqml_03_feature_engineering_2b',\n",
      "        VERTEX_AI_MODEL_VERSION_ALIASES = ['run-20230112234926']\n",
      "    ) AS\n",
      "SELECT * EXCEPT(Recipe, JUDGE_B)\n",
      "FROM `statmike-mlops-349915.feature_engineering.bread`\n",
      "\n"
     ]
    }
   ],
   "source": [
    "query = f\"\"\"\n",
    "CREATE OR REPLACE MODEL `{BQ_PROJECT}.{BQ_DATASET}.{BQ_MODEL_2B}`\n",
    "TRANSFORM (\n",
    "    JUDGE_A,\n",
    "\n",
    "    ML.MIN_MAX_SCALER(flourAmt) OVER() as scale_flourAmt, \n",
    "    ML.ROBUST_SCALER(saltAmt) OVER() as scale_saltAmt,\n",
    "    ML.MAX_ABS_SCALER(yeastAmt) OVER() as scale_yeastAmt,\n",
    "    ML.STANDARD_SCALER(water1Amt) OVER() as scale_water1Amt,\n",
    "    ML.STANDARD_SCALER(water2Amt) OVER() as scale_water2Amt,\n",
    "\n",
    "    ML.STANDARD_SCALER(waterTemp) OVER() as scale_waterTemp,\n",
    "    ML.ROBUST_SCALER(bakeTemp) OVER() as scale_bakeTemp,\n",
    "    ML.MIN_MAX_SCALER(ambTemp) OVER() as scale_ambTemp,\n",
    "    ML.MAX_ABS_SCALER(ambHumidity) OVER() as scale_ambHumidity,\n",
    "\n",
    "    ML.ROBUST_SCALER(mix1Time) OVER() as scale_mix1Time,\n",
    "    ML.ROBUST_SCALER(mix2Time) OVER() as scale_mix2Time,\n",
    "    ML.ROBUST_SCALER(mix1Speed) OVER() as scale_mix1Speed,\n",
    "    ML.ROBUST_SCALER(mix2Speed) OVER() as scale_mix2Speed,\n",
    "    ML.STANDARD_SCALER(proveTime) OVER() as scale_proveTime,\n",
    "    ML.MAX_ABS_SCALER(restTime) OVER() as scale_restTime,\n",
    "    ML.MAX_ABS_SCALER(bakeTime) OVER() as scale_bakeTime\n",
    ")\n",
    "OPTIONS (\n",
    "        model_type = 'BOOSTED_TREE_REGRESSOR',\n",
    "        booster_type = 'GBTREE',\n",
    "        num_parallel_tree = 1,\n",
    "        max_iterations = 30,\n",
    "        early_stop = TRUE,\n",
    "        min_rel_progress = 0.01,\n",
    "        tree_method = 'HIST',\n",
    "        subsample = 0.85,\n",
    "        #model_type = 'LINEAR_REG',        \n",
    "        input_label_cols = ['JUDGE_A'],\n",
    "        enable_global_explain = TRUE,\n",
    "        data_split_method = 'AUTO_SPLIT',\n",
    "        l1_reg = 10,\n",
    "        l2_reg = 10,\n",
    "        MODEL_REGISTRY = 'VERTEX_AI',\n",
    "        VERTEX_AI_MODEL_ID = 'bqml_{BQ_MODEL_2B}',\n",
    "        VERTEX_AI_MODEL_VERSION_ALIASES = ['{RUN_NAME}']\n",
    "    ) AS\n",
    "SELECT * EXCEPT(Recipe, JUDGE_B)\n",
    "FROM `{BQ_PROJECT}.{BQ_DATASET}.{BQ_TABLE}`\n",
    "\"\"\"\n",
    "print(query)"
   ]
  },
  {
   "cell_type": "code",
   "execution_count": 386,
   "id": "810adc92-f1a7-4676-ab23-da88375dc1e7",
   "metadata": {},
   "outputs": [
    {
     "data": {
      "text/plain": [
       "524.2"
      ]
     },
     "execution_count": 386,
     "metadata": {},
     "output_type": "execute_result"
    }
   ],
   "source": [
    "job = bq.query(query = query)\n",
    "job.result()\n",
    "(job.ended-job.started).total_seconds()"
   ]
  },
  {
   "cell_type": "code",
   "execution_count": 387,
   "id": "eab37574-0613-4781-9aba-57a6ff95cd25",
   "metadata": {},
   "outputs": [
    {
     "data": {
      "text/plain": [
       "34718213906"
      ]
     },
     "execution_count": 387,
     "metadata": {},
     "output_type": "execute_result"
    }
   ],
   "source": [
    "job.total_bytes_processed"
   ]
  },
  {
   "cell_type": "markdown",
   "id": "9d5225ba-7030-4ebd-9841-d9c11d19edb2",
   "metadata": {},
   "source": [
    "Add labels to the model in BigQuery:"
   ]
  },
  {
   "cell_type": "code",
   "execution_count": 388,
   "id": "f39f906c-de1b-4a16-be8d-e8aa2f21ff10",
   "metadata": {},
   "outputs": [],
   "source": [
    "bqml_model_2b = bq.get_model(f'{BQ_PROJECT}.{BQ_DATASET}.{BQ_MODEL_2B}')\n",
    "bqml_model_2b.labels = {'series' : f'{SERIES}', 'experiment' : f'{EXPERIMENT}'}\n",
    "bqml_model_2b = bq.update_model(bqml_model_2b, ['labels'])"
   ]
  },
  {
   "cell_type": "markdown",
   "id": "4e05eb2f-1a1e-4649-968b-7fd92014c6dd",
   "metadata": {},
   "source": [
    "### Feature and Training Review"
   ]
  },
  {
   "cell_type": "markdown",
   "id": "669b207f-8a01-47fb-8281-9bf2904dbc92",
   "metadata": {},
   "source": [
    "Review the Model Inputs, the feature information before preprocessing, with [ML.FEATURE_INFO](https://cloud.google.com/bigquery-ml/docs/reference/standard-sql/bigqueryml-syntax-feature):"
   ]
  },
  {
   "cell_type": "code",
   "execution_count": 389,
   "id": "39e25006-13e6-42dd-8f97-ccd19da7bd85",
   "metadata": {},
   "outputs": [
    {
     "name": "stdout",
     "output_type": "stream",
     "text": [
      "\n",
      "    SELECT *\n",
      "    FROM ML.FEATURE_INFO(MODEL `statmike-mlops-349915.feature_engineering.03_feature_engineering_2b`)\n",
      "\n"
     ]
    }
   ],
   "source": [
    "query = f\"\"\"\n",
    "    SELECT *\n",
    "    FROM ML.FEATURE_INFO(MODEL `{BQ_PROJECT}.{BQ_DATASET}.{BQ_MODEL_2B}`)\n",
    "\"\"\"\n",
    "print(query)"
   ]
  },
  {
   "cell_type": "code",
   "execution_count": 390,
   "id": "3d9c7d4b-7198-49e1-93c9-7e00a57b0d04",
   "metadata": {},
   "outputs": [
    {
     "data": {
      "text/html": [
       "<div>\n",
       "<style scoped>\n",
       "    .dataframe tbody tr th:only-of-type {\n",
       "        vertical-align: middle;\n",
       "    }\n",
       "\n",
       "    .dataframe tbody tr th {\n",
       "        vertical-align: top;\n",
       "    }\n",
       "\n",
       "    .dataframe thead th {\n",
       "        text-align: right;\n",
       "    }\n",
       "</style>\n",
       "<table border=\"1\" class=\"dataframe\">\n",
       "  <thead>\n",
       "    <tr style=\"text-align: right;\">\n",
       "      <th></th>\n",
       "      <th>input</th>\n",
       "      <th>min</th>\n",
       "      <th>max</th>\n",
       "      <th>mean</th>\n",
       "      <th>median</th>\n",
       "      <th>stddev</th>\n",
       "      <th>category_count</th>\n",
       "      <th>null_count</th>\n",
       "      <th>dimension</th>\n",
       "    </tr>\n",
       "  </thead>\n",
       "  <tbody>\n",
       "    <tr>\n",
       "      <th>0</th>\n",
       "      <td>mix2Speed</td>\n",
       "      <td>4.000000</td>\n",
       "      <td>6.000000</td>\n",
       "      <td>5.013133</td>\n",
       "      <td>5.000000</td>\n",
       "      <td>0.711397</td>\n",
       "      <td>NaN</td>\n",
       "      <td>0</td>\n",
       "      <td>NaN</td>\n",
       "    </tr>\n",
       "    <tr>\n",
       "      <th>1</th>\n",
       "      <td>ambHumidity</td>\n",
       "      <td>17.113365</td>\n",
       "      <td>82.451559</td>\n",
       "      <td>49.644121</td>\n",
       "      <td>49.791719</td>\n",
       "      <td>9.839682</td>\n",
       "      <td>NaN</td>\n",
       "      <td>0</td>\n",
       "      <td>NaN</td>\n",
       "    </tr>\n",
       "    <tr>\n",
       "      <th>2</th>\n",
       "      <td>restTime</td>\n",
       "      <td>35.000000</td>\n",
       "      <td>45.000000</td>\n",
       "      <td>40.053784</td>\n",
       "      <td>40.000000</td>\n",
       "      <td>2.943925</td>\n",
       "      <td>NaN</td>\n",
       "      <td>0</td>\n",
       "      <td>NaN</td>\n",
       "    </tr>\n",
       "    <tr>\n",
       "      <th>3</th>\n",
       "      <td>yeastAmt</td>\n",
       "      <td>8.000000</td>\n",
       "      <td>12.000000</td>\n",
       "      <td>10.028768</td>\n",
       "      <td>10.000000</td>\n",
       "      <td>1.238382</td>\n",
       "      <td>NaN</td>\n",
       "      <td>0</td>\n",
       "      <td>NaN</td>\n",
       "    </tr>\n",
       "    <tr>\n",
       "      <th>4</th>\n",
       "      <td>water2Amt</td>\n",
       "      <td>40.532389</td>\n",
       "      <td>165.672778</td>\n",
       "      <td>110.498739</td>\n",
       "      <td>110.801432</td>\n",
       "      <td>20.423847</td>\n",
       "      <td>NaN</td>\n",
       "      <td>0</td>\n",
       "      <td>NaN</td>\n",
       "    </tr>\n",
       "    <tr>\n",
       "      <th>5</th>\n",
       "      <td>flourAmt</td>\n",
       "      <td>464.544075</td>\n",
       "      <td>531.503637</td>\n",
       "      <td>499.823098</td>\n",
       "      <td>499.927641</td>\n",
       "      <td>10.158442</td>\n",
       "      <td>NaN</td>\n",
       "      <td>0</td>\n",
       "      <td>NaN</td>\n",
       "    </tr>\n",
       "    <tr>\n",
       "      <th>6</th>\n",
       "      <td>ambTemp</td>\n",
       "      <td>20.425525</td>\n",
       "      <td>95.632699</td>\n",
       "      <td>60.136301</td>\n",
       "      <td>59.963593</td>\n",
       "      <td>10.081356</td>\n",
       "      <td>NaN</td>\n",
       "      <td>0</td>\n",
       "      <td>NaN</td>\n",
       "    </tr>\n",
       "    <tr>\n",
       "      <th>7</th>\n",
       "      <td>proveTime</td>\n",
       "      <td>85.231731</td>\n",
       "      <td>118.753490</td>\n",
       "      <td>100.005715</td>\n",
       "      <td>99.979820</td>\n",
       "      <td>5.032139</td>\n",
       "      <td>NaN</td>\n",
       "      <td>0</td>\n",
       "      <td>NaN</td>\n",
       "    </tr>\n",
       "    <tr>\n",
       "      <th>8</th>\n",
       "      <td>bakeTime</td>\n",
       "      <td>20.000000</td>\n",
       "      <td>30.000000</td>\n",
       "      <td>24.996248</td>\n",
       "      <td>25.000000</td>\n",
       "      <td>2.910855</td>\n",
       "      <td>NaN</td>\n",
       "      <td>0</td>\n",
       "      <td>NaN</td>\n",
       "    </tr>\n",
       "    <tr>\n",
       "      <th>9</th>\n",
       "      <td>bakeTemp</td>\n",
       "      <td>376.287186</td>\n",
       "      <td>476.818499</td>\n",
       "      <td>425.496193</td>\n",
       "      <td>425.105386</td>\n",
       "      <td>14.987706</td>\n",
       "      <td>NaN</td>\n",
       "      <td>0</td>\n",
       "      <td>NaN</td>\n",
       "    </tr>\n",
       "    <tr>\n",
       "      <th>10</th>\n",
       "      <td>mix2Time</td>\n",
       "      <td>4.000000</td>\n",
       "      <td>8.000000</td>\n",
       "      <td>5.998124</td>\n",
       "      <td>6.000000</td>\n",
       "      <td>1.212419</td>\n",
       "      <td>NaN</td>\n",
       "      <td>0</td>\n",
       "      <td>NaN</td>\n",
       "    </tr>\n",
       "    <tr>\n",
       "      <th>11</th>\n",
       "      <td>water1Amt</td>\n",
       "      <td>264.754476</td>\n",
       "      <td>402.056413</td>\n",
       "      <td>329.606586</td>\n",
       "      <td>329.133835</td>\n",
       "      <td>19.604805</td>\n",
       "      <td>NaN</td>\n",
       "      <td>0</td>\n",
       "      <td>NaN</td>\n",
       "    </tr>\n",
       "    <tr>\n",
       "      <th>12</th>\n",
       "      <td>saltAmt</td>\n",
       "      <td>8.000000</td>\n",
       "      <td>12.000000</td>\n",
       "      <td>9.976861</td>\n",
       "      <td>10.000000</td>\n",
       "      <td>1.227589</td>\n",
       "      <td>NaN</td>\n",
       "      <td>0</td>\n",
       "      <td>NaN</td>\n",
       "    </tr>\n",
       "    <tr>\n",
       "      <th>13</th>\n",
       "      <td>waterTemp</td>\n",
       "      <td>40.000000</td>\n",
       "      <td>50.000000</td>\n",
       "      <td>45.043152</td>\n",
       "      <td>45.000000</td>\n",
       "      <td>2.913009</td>\n",
       "      <td>NaN</td>\n",
       "      <td>0</td>\n",
       "      <td>NaN</td>\n",
       "    </tr>\n",
       "    <tr>\n",
       "      <th>14</th>\n",
       "      <td>mix1Time</td>\n",
       "      <td>1.000000</td>\n",
       "      <td>9.000000</td>\n",
       "      <td>5.008130</td>\n",
       "      <td>5.000000</td>\n",
       "      <td>1.068052</td>\n",
       "      <td>NaN</td>\n",
       "      <td>0</td>\n",
       "      <td>NaN</td>\n",
       "    </tr>\n",
       "    <tr>\n",
       "      <th>15</th>\n",
       "      <td>mix1Speed</td>\n",
       "      <td>2.000000</td>\n",
       "      <td>5.000000</td>\n",
       "      <td>3.474046</td>\n",
       "      <td>3.000000</td>\n",
       "      <td>0.954101</td>\n",
       "      <td>NaN</td>\n",
       "      <td>0</td>\n",
       "      <td>NaN</td>\n",
       "    </tr>\n",
       "  </tbody>\n",
       "</table>\n",
       "</div>"
      ],
      "text/plain": [
       "          input         min         max        mean      median     stddev  \\\n",
       "0     mix2Speed    4.000000    6.000000    5.013133    5.000000   0.711397   \n",
       "1   ambHumidity   17.113365   82.451559   49.644121   49.791719   9.839682   \n",
       "2      restTime   35.000000   45.000000   40.053784   40.000000   2.943925   \n",
       "3      yeastAmt    8.000000   12.000000   10.028768   10.000000   1.238382   \n",
       "4     water2Amt   40.532389  165.672778  110.498739  110.801432  20.423847   \n",
       "5      flourAmt  464.544075  531.503637  499.823098  499.927641  10.158442   \n",
       "6       ambTemp   20.425525   95.632699   60.136301   59.963593  10.081356   \n",
       "7     proveTime   85.231731  118.753490  100.005715   99.979820   5.032139   \n",
       "8      bakeTime   20.000000   30.000000   24.996248   25.000000   2.910855   \n",
       "9      bakeTemp  376.287186  476.818499  425.496193  425.105386  14.987706   \n",
       "10     mix2Time    4.000000    8.000000    5.998124    6.000000   1.212419   \n",
       "11    water1Amt  264.754476  402.056413  329.606586  329.133835  19.604805   \n",
       "12      saltAmt    8.000000   12.000000    9.976861   10.000000   1.227589   \n",
       "13    waterTemp   40.000000   50.000000   45.043152   45.000000   2.913009   \n",
       "14     mix1Time    1.000000    9.000000    5.008130    5.000000   1.068052   \n",
       "15    mix1Speed    2.000000    5.000000    3.474046    3.000000   0.954101   \n",
       "\n",
       "    category_count  null_count  dimension  \n",
       "0              NaN           0        NaN  \n",
       "1              NaN           0        NaN  \n",
       "2              NaN           0        NaN  \n",
       "3              NaN           0        NaN  \n",
       "4              NaN           0        NaN  \n",
       "5              NaN           0        NaN  \n",
       "6              NaN           0        NaN  \n",
       "7              NaN           0        NaN  \n",
       "8              NaN           0        NaN  \n",
       "9              NaN           0        NaN  \n",
       "10             NaN           0        NaN  \n",
       "11             NaN           0        NaN  \n",
       "12             NaN           0        NaN  \n",
       "13             NaN           0        NaN  \n",
       "14             NaN           0        NaN  \n",
       "15             NaN           0        NaN  "
      ]
     },
     "execution_count": 390,
     "metadata": {},
     "output_type": "execute_result"
    }
   ],
   "source": [
    "bq.query(query = query).to_dataframe()"
   ]
  },
  {
   "cell_type": "markdown",
   "id": "f2b4815e-58da-4416-8ddc-f3922c5eabae",
   "metadata": {},
   "source": [
    "Review the iterations from training with [ML.TRAINING_INFO](https://cloud.google.com/bigquery-ml/docs/reference/standard-sql/bigqueryml-syntax-train):"
   ]
  },
  {
   "cell_type": "code",
   "execution_count": 391,
   "id": "00ef993b-0e37-4955-b8dc-be011fd55334",
   "metadata": {},
   "outputs": [
    {
     "name": "stdout",
     "output_type": "stream",
     "text": [
      "\n",
      "    SELECT *\n",
      "    FROM ML.TRAINING_INFO(MODEL `statmike-mlops-349915.feature_engineering.03_feature_engineering_2b`)\n",
      "    ORDER BY iteration\n",
      "\n"
     ]
    }
   ],
   "source": [
    "query = f\"\"\"\n",
    "    SELECT *\n",
    "    FROM ML.TRAINING_INFO(MODEL `{BQ_PROJECT}.{BQ_DATASET}.{BQ_MODEL_2B}`)\n",
    "    ORDER BY iteration\n",
    "\"\"\"\n",
    "print(query)"
   ]
  },
  {
   "cell_type": "code",
   "execution_count": 392,
   "id": "b6c3520b-c8d3-4da9-a01e-667196703db5",
   "metadata": {},
   "outputs": [
    {
     "data": {
      "text/html": [
       "<div>\n",
       "<style scoped>\n",
       "    .dataframe tbody tr th:only-of-type {\n",
       "        vertical-align: middle;\n",
       "    }\n",
       "\n",
       "    .dataframe tbody tr th {\n",
       "        vertical-align: top;\n",
       "    }\n",
       "\n",
       "    .dataframe thead th {\n",
       "        text-align: right;\n",
       "    }\n",
       "</style>\n",
       "<table border=\"1\" class=\"dataframe\">\n",
       "  <thead>\n",
       "    <tr style=\"text-align: right;\">\n",
       "      <th></th>\n",
       "      <th>training_run</th>\n",
       "      <th>iteration</th>\n",
       "      <th>loss</th>\n",
       "      <th>eval_loss</th>\n",
       "      <th>learning_rate</th>\n",
       "      <th>duration_ms</th>\n",
       "    </tr>\n",
       "  </thead>\n",
       "  <tbody>\n",
       "    <tr>\n",
       "      <th>0</th>\n",
       "      <td>0</td>\n",
       "      <td>1</td>\n",
       "      <td>52.97010</td>\n",
       "      <td>52.17350</td>\n",
       "      <td>0.3</td>\n",
       "      <td>91955</td>\n",
       "    </tr>\n",
       "    <tr>\n",
       "      <th>1</th>\n",
       "      <td>0</td>\n",
       "      <td>2</td>\n",
       "      <td>37.60130</td>\n",
       "      <td>36.77370</td>\n",
       "      <td>0.3</td>\n",
       "      <td>87</td>\n",
       "    </tr>\n",
       "    <tr>\n",
       "      <th>2</th>\n",
       "      <td>0</td>\n",
       "      <td>3</td>\n",
       "      <td>26.92520</td>\n",
       "      <td>26.14420</td>\n",
       "      <td>0.3</td>\n",
       "      <td>64</td>\n",
       "    </tr>\n",
       "    <tr>\n",
       "      <th>3</th>\n",
       "      <td>0</td>\n",
       "      <td>4</td>\n",
       "      <td>19.46700</td>\n",
       "      <td>18.75470</td>\n",
       "      <td>0.3</td>\n",
       "      <td>112</td>\n",
       "    </tr>\n",
       "    <tr>\n",
       "      <th>4</th>\n",
       "      <td>0</td>\n",
       "      <td>5</td>\n",
       "      <td>14.24800</td>\n",
       "      <td>13.64550</td>\n",
       "      <td>0.3</td>\n",
       "      <td>95</td>\n",
       "    </tr>\n",
       "    <tr>\n",
       "      <th>5</th>\n",
       "      <td>0</td>\n",
       "      <td>6</td>\n",
       "      <td>10.66180</td>\n",
       "      <td>10.24110</td>\n",
       "      <td>0.3</td>\n",
       "      <td>85</td>\n",
       "    </tr>\n",
       "    <tr>\n",
       "      <th>6</th>\n",
       "      <td>0</td>\n",
       "      <td>7</td>\n",
       "      <td>8.18310</td>\n",
       "      <td>8.11287</td>\n",
       "      <td>0.3</td>\n",
       "      <td>74</td>\n",
       "    </tr>\n",
       "    <tr>\n",
       "      <th>7</th>\n",
       "      <td>0</td>\n",
       "      <td>8</td>\n",
       "      <td>6.46972</td>\n",
       "      <td>6.72774</td>\n",
       "      <td>0.3</td>\n",
       "      <td>61</td>\n",
       "    </tr>\n",
       "    <tr>\n",
       "      <th>8</th>\n",
       "      <td>0</td>\n",
       "      <td>9</td>\n",
       "      <td>5.29712</td>\n",
       "      <td>5.80888</td>\n",
       "      <td>0.3</td>\n",
       "      <td>68</td>\n",
       "    </tr>\n",
       "    <tr>\n",
       "      <th>9</th>\n",
       "      <td>0</td>\n",
       "      <td>10</td>\n",
       "      <td>4.39462</td>\n",
       "      <td>5.19043</td>\n",
       "      <td>0.3</td>\n",
       "      <td>91</td>\n",
       "    </tr>\n",
       "    <tr>\n",
       "      <th>10</th>\n",
       "      <td>0</td>\n",
       "      <td>11</td>\n",
       "      <td>3.76590</td>\n",
       "      <td>4.80443</td>\n",
       "      <td>0.3</td>\n",
       "      <td>86</td>\n",
       "    </tr>\n",
       "    <tr>\n",
       "      <th>11</th>\n",
       "      <td>0</td>\n",
       "      <td>12</td>\n",
       "      <td>3.35132</td>\n",
       "      <td>4.61319</td>\n",
       "      <td>0.3</td>\n",
       "      <td>73</td>\n",
       "    </tr>\n",
       "    <tr>\n",
       "      <th>12</th>\n",
       "      <td>0</td>\n",
       "      <td>13</td>\n",
       "      <td>3.03784</td>\n",
       "      <td>4.45555</td>\n",
       "      <td>0.3</td>\n",
       "      <td>25243</td>\n",
       "    </tr>\n",
       "    <tr>\n",
       "      <th>13</th>\n",
       "      <td>0</td>\n",
       "      <td>14</td>\n",
       "      <td>2.74349</td>\n",
       "      <td>4.30973</td>\n",
       "      <td>0.3</td>\n",
       "      <td>78</td>\n",
       "    </tr>\n",
       "    <tr>\n",
       "      <th>14</th>\n",
       "      <td>0</td>\n",
       "      <td>15</td>\n",
       "      <td>2.51835</td>\n",
       "      <td>4.19831</td>\n",
       "      <td>0.3</td>\n",
       "      <td>126</td>\n",
       "    </tr>\n",
       "    <tr>\n",
       "      <th>15</th>\n",
       "      <td>0</td>\n",
       "      <td>16</td>\n",
       "      <td>2.36074</td>\n",
       "      <td>4.15430</td>\n",
       "      <td>0.3</td>\n",
       "      <td>75</td>\n",
       "    </tr>\n",
       "    <tr>\n",
       "      <th>16</th>\n",
       "      <td>0</td>\n",
       "      <td>17</td>\n",
       "      <td>2.23291</td>\n",
       "      <td>4.09611</td>\n",
       "      <td>0.3</td>\n",
       "      <td>81</td>\n",
       "    </tr>\n",
       "    <tr>\n",
       "      <th>17</th>\n",
       "      <td>0</td>\n",
       "      <td>18</td>\n",
       "      <td>2.08505</td>\n",
       "      <td>4.01953</td>\n",
       "      <td>0.3</td>\n",
       "      <td>125</td>\n",
       "    </tr>\n",
       "    <tr>\n",
       "      <th>18</th>\n",
       "      <td>0</td>\n",
       "      <td>19</td>\n",
       "      <td>1.99810</td>\n",
       "      <td>3.99749</td>\n",
       "      <td>0.3</td>\n",
       "      <td>99</td>\n",
       "    </tr>\n",
       "  </tbody>\n",
       "</table>\n",
       "</div>"
      ],
      "text/plain": [
       "    training_run  iteration      loss  eval_loss  learning_rate  duration_ms\n",
       "0              0          1  52.97010   52.17350            0.3        91955\n",
       "1              0          2  37.60130   36.77370            0.3           87\n",
       "2              0          3  26.92520   26.14420            0.3           64\n",
       "3              0          4  19.46700   18.75470            0.3          112\n",
       "4              0          5  14.24800   13.64550            0.3           95\n",
       "5              0          6  10.66180   10.24110            0.3           85\n",
       "6              0          7   8.18310    8.11287            0.3           74\n",
       "7              0          8   6.46972    6.72774            0.3           61\n",
       "8              0          9   5.29712    5.80888            0.3           68\n",
       "9              0         10   4.39462    5.19043            0.3           91\n",
       "10             0         11   3.76590    4.80443            0.3           86\n",
       "11             0         12   3.35132    4.61319            0.3           73\n",
       "12             0         13   3.03784    4.45555            0.3        25243\n",
       "13             0         14   2.74349    4.30973            0.3           78\n",
       "14             0         15   2.51835    4.19831            0.3          126\n",
       "15             0         16   2.36074    4.15430            0.3           75\n",
       "16             0         17   2.23291    4.09611            0.3           81\n",
       "17             0         18   2.08505    4.01953            0.3          125\n",
       "18             0         19   1.99810    3.99749            0.3           99"
      ]
     },
     "execution_count": 392,
     "metadata": {},
     "output_type": "execute_result"
    }
   ],
   "source": [
    "history = bq.query(query = query).to_dataframe()\n",
    "history"
   ]
  },
  {
   "cell_type": "markdown",
   "id": "e317366d-af3a-459a-972b-81d37f1d3e32",
   "metadata": {},
   "source": [
    "Plot the loss history:"
   ]
  },
  {
   "cell_type": "code",
   "execution_count": 393,
   "id": "3199388c-0e5a-4bb3-8a4c-db2377f4a117",
   "metadata": {},
   "outputs": [
    {
     "data": {
      "text/plain": [
       "<AxesSubplot:xlabel='iteration'>"
      ]
     },
     "execution_count": 393,
     "metadata": {},
     "output_type": "execute_result"
    },
    {
     "data": {
      "image/png": "[encoded data removed]",
      "text/plain": [
       "<Figure size 720x360 with 1 Axes>"
      ]
     },
     "metadata": {
      "needs_background": "light"
     },
     "output_type": "display_data"
    }
   ],
   "source": [
    "history.plot(x = 'iteration', y = ['loss','eval_loss'], figsize = (10, 5), grid = True)"
   ]
  },
  {
   "cell_type": "markdown",
   "id": "f4643080-23ad-41ea-a18f-0b6b19a47dc1",
   "metadata": {},
   "source": [
    "### Model Metrics Review\n",
    "\n",
    "Review the model evaluation statistics with [ML.EVALUATE](https://cloud.google.com/bigquery-ml/docs/reference/standard-sql/bigqueryml-syntax-evaluate):"
   ]
  },
  {
   "cell_type": "code",
   "execution_count": 394,
   "id": "4e0a904f-76a0-4e23-bdfe-bab341c3348e",
   "metadata": {},
   "outputs": [
    {
     "name": "stdout",
     "output_type": "stream",
     "text": [
      "\n",
      "    SELECT * FROM ML.EVALUATE(MODEL `statmike-mlops-349915.feature_engineering.03_feature_engineering_2b`)\n",
      "\n"
     ]
    }
   ],
   "source": [
    "query = f\"\"\"\n",
    "    SELECT * FROM ML.EVALUATE(MODEL `{BQ_PROJECT}.{BQ_DATASET}.{BQ_MODEL_2B}`)\n",
    "\"\"\"\n",
    "print(query)"
   ]
  },
  {
   "cell_type": "code",
   "execution_count": 395,
   "id": "6227af2f-5849-4a49-973a-d5a233a6c94b",
   "metadata": {},
   "outputs": [
    {
     "data": {
      "text/html": [
       "<div>\n",
       "<style scoped>\n",
       "    .dataframe tbody tr th:only-of-type {\n",
       "        vertical-align: middle;\n",
       "    }\n",
       "\n",
       "    .dataframe tbody tr th {\n",
       "        vertical-align: top;\n",
       "    }\n",
       "\n",
       "    .dataframe thead th {\n",
       "        text-align: right;\n",
       "    }\n",
       "</style>\n",
       "<table border=\"1\" class=\"dataframe\">\n",
       "  <thead>\n",
       "    <tr style=\"text-align: right;\">\n",
       "      <th></th>\n",
       "      <th>mean_absolute_error</th>\n",
       "      <th>mean_squared_error</th>\n",
       "      <th>mean_squared_log_error</th>\n",
       "      <th>median_absolute_error</th>\n",
       "      <th>r2_score</th>\n",
       "      <th>explained_variance</th>\n",
       "    </tr>\n",
       "  </thead>\n",
       "  <tbody>\n",
       "    <tr>\n",
       "      <th>0</th>\n",
       "      <td>2.517194</td>\n",
       "      <td>12.058977</td>\n",
       "      <td>0.004034</td>\n",
       "      <td>1.982536</td>\n",
       "      <td>0.880352</td>\n",
       "      <td>0.881395</td>\n",
       "    </tr>\n",
       "  </tbody>\n",
       "</table>\n",
       "</div>"
      ],
      "text/plain": [
       "   mean_absolute_error  mean_squared_error  mean_squared_log_error  \\\n",
       "0             2.517194           12.058977                0.004034   \n",
       "\n",
       "   median_absolute_error  r2_score  explained_variance  \n",
       "0               1.982536  0.880352            0.881395  "
      ]
     },
     "execution_count": 395,
     "metadata": {},
     "output_type": "execute_result"
    }
   ],
   "source": [
    "bq.query(query = query).to_dataframe()"
   ]
  },
  {
   "cell_type": "markdown",
   "id": "cab0580d-3c93-4aa1-ba2c-7d1325d5cdcb",
   "metadata": {},
   "source": [
    "### Comparing Metrics Between Automatic and Manual Feature Engineering\n",
    "\n",
    "The query here loads the metrics with `ML.EVALUATE` for both models."
   ]
  },
  {
   "cell_type": "code",
   "execution_count": 396,
   "id": "1dada407-a567-4ad6-a56a-d847ce62fea2",
   "metadata": {},
   "outputs": [
    {
     "name": "stdout",
     "output_type": "stream",
     "text": [
      "\n",
      "    SELECT 'Automatic Feature Engineering' as Approach, * FROM ML.EVALUATE(MODEL `statmike-mlops-349915.feature_engineering.03_feature_engineering_auto`)\n",
      "    UNION ALL\n",
      "    SELECT 'Manual Feature Engineering - 2A' as Approach, * FROM ML.EVALUATE(MODEL `statmike-mlops-349915.feature_engineering.03_feature_engineering_2a`)\n",
      "    UNION ALL\n",
      "    SELECT 'Manual Feature Engineering - 2B' as Approach, * FROM ML.EVALUATE(MODEL `statmike-mlops-349915.feature_engineering.03_feature_engineering_2b`)\n",
      "\n"
     ]
    }
   ],
   "source": [
    "query = f\"\"\"\n",
    "    SELECT 'Automatic Feature Engineering' as Approach, * FROM ML.EVALUATE(MODEL `{BQ_PROJECT}.{BQ_DATASET}.{BQ_MODEL_AUTO}`)\n",
    "    UNION ALL\n",
    "    SELECT 'Manual Feature Engineering - 2A' as Approach, * FROM ML.EVALUATE(MODEL `{BQ_PROJECT}.{BQ_DATASET}.{BQ_MODEL_2A}`)\n",
    "    UNION ALL\n",
    "    SELECT 'Manual Feature Engineering - 2B' as Approach, * FROM ML.EVALUATE(MODEL `{BQ_PROJECT}.{BQ_DATASET}.{BQ_MODEL_2B}`)\n",
    "\"\"\"\n",
    "print(query)"
   ]
  },
  {
   "cell_type": "code",
   "execution_count": 397,
   "id": "4b707bf2-8a1d-471c-87ff-8f50eae739d8",
   "metadata": {},
   "outputs": [
    {
     "data": {
      "text/html": [
       "<div>\n",
       "<style scoped>\n",
       "    .dataframe tbody tr th:only-of-type {\n",
       "        vertical-align: middle;\n",
       "    }\n",
       "\n",
       "    .dataframe tbody tr th {\n",
       "        vertical-align: top;\n",
       "    }\n",
       "\n",
       "    .dataframe thead th {\n",
       "        text-align: right;\n",
       "    }\n",
       "</style>\n",
       "<table border=\"1\" class=\"dataframe\">\n",
       "  <thead>\n",
       "    <tr style=\"text-align: right;\">\n",
       "      <th></th>\n",
       "      <th>Approach</th>\n",
       "      <th>mean_absolute_error</th>\n",
       "      <th>mean_squared_error</th>\n",
       "      <th>mean_squared_log_error</th>\n",
       "      <th>median_absolute_error</th>\n",
       "      <th>r2_score</th>\n",
       "      <th>explained_variance</th>\n",
       "    </tr>\n",
       "  </thead>\n",
       "  <tbody>\n",
       "    <tr>\n",
       "      <th>0</th>\n",
       "      <td>Automatic Feature Engineering</td>\n",
       "      <td>7.782854</td>\n",
       "      <td>100.717042</td>\n",
       "      <td>0.023195</td>\n",
       "      <td>6.943565</td>\n",
       "      <td>0.000694</td>\n",
       "      <td>0.011133</td>\n",
       "    </tr>\n",
       "    <tr>\n",
       "      <th>1</th>\n",
       "      <td>Manual Feature Engineering - 2A</td>\n",
       "      <td>7.782854</td>\n",
       "      <td>100.717183</td>\n",
       "      <td>0.023195</td>\n",
       "      <td>6.943499</td>\n",
       "      <td>0.000693</td>\n",
       "      <td>0.011133</td>\n",
       "    </tr>\n",
       "    <tr>\n",
       "      <th>2</th>\n",
       "      <td>Manual Feature Engineering - 2B</td>\n",
       "      <td>2.517194</td>\n",
       "      <td>12.058977</td>\n",
       "      <td>0.004034</td>\n",
       "      <td>1.982536</td>\n",
       "      <td>0.880352</td>\n",
       "      <td>0.881395</td>\n",
       "    </tr>\n",
       "  </tbody>\n",
       "</table>\n",
       "</div>"
      ],
      "text/plain": [
       "                          Approach  mean_absolute_error  mean_squared_error  \\\n",
       "0    Automatic Feature Engineering             7.782854          100.717042   \n",
       "1  Manual Feature Engineering - 2A             7.782854          100.717183   \n",
       "2  Manual Feature Engineering - 2B             2.517194           12.058977   \n",
       "\n",
       "   mean_squared_log_error  median_absolute_error  r2_score  explained_variance  \n",
       "0                0.023195               6.943565  0.000694            0.011133  \n",
       "1                0.023195               6.943499  0.000693            0.011133  \n",
       "2                0.004034               1.982536  0.880352            0.881395  "
      ]
     },
     "execution_count": 397,
     "metadata": {},
     "output_type": "execute_result"
    }
   ],
   "source": [
    "bq.query(query = query).to_dataframe()"
   ]
  },
  {
   "cell_type": "markdown",
   "id": "11c85bfd-2e0a-47de-8d8b-c02083244a61",
   "metadata": {},
   "source": [
    "The results show a vast improvement in all metrics.  This is mostly because the relationship between the features and the target was created to have covariance that is best explained by higher order terms.  Fitting the model with a non-linear approach, like a boosted tree (`model_type = BOOSTED_TREE_REGRESSOR`), would also better understand the relationships in these data."
   ]
  },
  {
   "cell_type": "markdown",
   "id": "b48570b0-1d93-473a-bf47-d6fd9b289bff",
   "metadata": {},
   "source": [
    "### Feature Importance\n",
    "\n",
    "Retrieve the [XGBoost feature importances](https://xgboost.readthedocs.io/en/latest/python/python_api.html#xgboost.XGBRegressor.feature_importances_) for the model using [ML.FEATURE_IMPORTANCE](https://cloud.google.com/bigquery-ml/docs/reference/standard-sql/bigqueryml-syntax-importance).\n",
    "- importance_weight: the number of splits the feature was used in across all trees\n",
    "- importance_gain: the improvement in accuracy due to splits using the feature\n",
    "- importance_cover: the number of rows of data covered by splits using the feature"
   ]
  },
  {
   "cell_type": "code",
   "execution_count": 398,
   "id": "6ee976b5-6bc1-4c82-818c-9e34d62790d5",
   "metadata": {},
   "outputs": [
    {
     "name": "stdout",
     "output_type": "stream",
     "text": [
      "\n",
      "    SELECT *\n",
      "    FROM ML.FEATURE_IMPORTANCE (MODEL `statmike-mlops-349915.feature_engineering.03_feature_engineering_2b`)\n",
      "    ORDER BY importance_gain DESC\n",
      "\n"
     ]
    }
   ],
   "source": [
    "query = f\"\"\"\n",
    "    SELECT *\n",
    "    FROM ML.FEATURE_IMPORTANCE (MODEL `{BQ_PROJECT}.{BQ_DATASET}.{BQ_MODEL_2B}`)\n",
    "    ORDER BY importance_gain DESC\n",
    "\"\"\"\n",
    "print(query)"
   ]
  },
  {
   "cell_type": "code",
   "execution_count": 399,
   "id": "153489af-58dc-48b7-a7f9-9fce646df468",
   "metadata": {},
   "outputs": [
    {
     "data": {
      "text/html": [
       "<div>\n",
       "<style scoped>\n",
       "    .dataframe tbody tr th:only-of-type {\n",
       "        vertical-align: middle;\n",
       "    }\n",
       "\n",
       "    .dataframe tbody tr th {\n",
       "        vertical-align: top;\n",
       "    }\n",
       "\n",
       "    .dataframe thead th {\n",
       "        text-align: right;\n",
       "    }\n",
       "</style>\n",
       "<table border=\"1\" class=\"dataframe\">\n",
       "  <thead>\n",
       "    <tr style=\"text-align: right;\">\n",
       "      <th></th>\n",
       "      <th>feature</th>\n",
       "      <th>importance_weight</th>\n",
       "      <th>importance_gain</th>\n",
       "      <th>importance_cover</th>\n",
       "    </tr>\n",
       "  </thead>\n",
       "  <tbody>\n",
       "    <tr>\n",
       "      <th>0</th>\n",
       "      <td>scale_bakeTemp</td>\n",
       "      <td>102</td>\n",
       "      <td>580.544834</td>\n",
       "      <td>300.558824</td>\n",
       "    </tr>\n",
       "    <tr>\n",
       "      <th>1</th>\n",
       "      <td>scale_water2Amt</td>\n",
       "      <td>96</td>\n",
       "      <td>229.286047</td>\n",
       "      <td>246.656250</td>\n",
       "    </tr>\n",
       "    <tr>\n",
       "      <th>2</th>\n",
       "      <td>scale_bakeTime</td>\n",
       "      <td>57</td>\n",
       "      <td>114.349533</td>\n",
       "      <td>183.789474</td>\n",
       "    </tr>\n",
       "    <tr>\n",
       "      <th>3</th>\n",
       "      <td>scale_yeastAmt</td>\n",
       "      <td>42</td>\n",
       "      <td>108.690497</td>\n",
       "      <td>259.619048</td>\n",
       "    </tr>\n",
       "    <tr>\n",
       "      <th>4</th>\n",
       "      <td>scale_mix2Time</td>\n",
       "      <td>19</td>\n",
       "      <td>107.604644</td>\n",
       "      <td>385.473684</td>\n",
       "    </tr>\n",
       "    <tr>\n",
       "      <th>5</th>\n",
       "      <td>scale_mix2Speed</td>\n",
       "      <td>8</td>\n",
       "      <td>97.283513</td>\n",
       "      <td>381.750000</td>\n",
       "    </tr>\n",
       "    <tr>\n",
       "      <th>6</th>\n",
       "      <td>scale_flourAmt</td>\n",
       "      <td>82</td>\n",
       "      <td>84.793993</td>\n",
       "      <td>172.768293</td>\n",
       "    </tr>\n",
       "    <tr>\n",
       "      <th>7</th>\n",
       "      <td>scale_mix1Time</td>\n",
       "      <td>45</td>\n",
       "      <td>73.265115</td>\n",
       "      <td>212.444444</td>\n",
       "    </tr>\n",
       "    <tr>\n",
       "      <th>8</th>\n",
       "      <td>scale_restTime</td>\n",
       "      <td>29</td>\n",
       "      <td>66.089149</td>\n",
       "      <td>164.551724</td>\n",
       "    </tr>\n",
       "    <tr>\n",
       "      <th>9</th>\n",
       "      <td>scale_saltAmt</td>\n",
       "      <td>22</td>\n",
       "      <td>33.671604</td>\n",
       "      <td>161.409091</td>\n",
       "    </tr>\n",
       "    <tr>\n",
       "      <th>10</th>\n",
       "      <td>scale_water1Amt</td>\n",
       "      <td>40</td>\n",
       "      <td>29.259160</td>\n",
       "      <td>93.500000</td>\n",
       "    </tr>\n",
       "    <tr>\n",
       "      <th>11</th>\n",
       "      <td>scale_mix1Speed</td>\n",
       "      <td>10</td>\n",
       "      <td>20.379379</td>\n",
       "      <td>54.900000</td>\n",
       "    </tr>\n",
       "    <tr>\n",
       "      <th>12</th>\n",
       "      <td>scale_ambHumidity</td>\n",
       "      <td>43</td>\n",
       "      <td>15.374958</td>\n",
       "      <td>65.790698</td>\n",
       "    </tr>\n",
       "    <tr>\n",
       "      <th>13</th>\n",
       "      <td>scale_proveTime</td>\n",
       "      <td>25</td>\n",
       "      <td>11.253184</td>\n",
       "      <td>50.680000</td>\n",
       "    </tr>\n",
       "    <tr>\n",
       "      <th>14</th>\n",
       "      <td>scale_ambTemp</td>\n",
       "      <td>39</td>\n",
       "      <td>9.919075</td>\n",
       "      <td>54.564103</td>\n",
       "    </tr>\n",
       "    <tr>\n",
       "      <th>15</th>\n",
       "      <td>scale_waterTemp</td>\n",
       "      <td>21</td>\n",
       "      <td>9.803837</td>\n",
       "      <td>29.428571</td>\n",
       "    </tr>\n",
       "  </tbody>\n",
       "</table>\n",
       "</div>"
      ],
      "text/plain": [
       "              feature  importance_weight  importance_gain  importance_cover\n",
       "0      scale_bakeTemp                102       580.544834        300.558824\n",
       "1     scale_water2Amt                 96       229.286047        246.656250\n",
       "2      scale_bakeTime                 57       114.349533        183.789474\n",
       "3      scale_yeastAmt                 42       108.690497        259.619048\n",
       "4      scale_mix2Time                 19       107.604644        385.473684\n",
       "5     scale_mix2Speed                  8        97.283513        381.750000\n",
       "6      scale_flourAmt                 82        84.793993        172.768293\n",
       "7      scale_mix1Time                 45        73.265115        212.444444\n",
       "8      scale_restTime                 29        66.089149        164.551724\n",
       "9       scale_saltAmt                 22        33.671604        161.409091\n",
       "10    scale_water1Amt                 40        29.259160         93.500000\n",
       "11    scale_mix1Speed                 10        20.379379         54.900000\n",
       "12  scale_ambHumidity                 43        15.374958         65.790698\n",
       "13    scale_proveTime                 25        11.253184         50.680000\n",
       "14      scale_ambTemp                 39         9.919075         54.564103\n",
       "15    scale_waterTemp                 21         9.803837         29.428571"
      ]
     },
     "execution_count": 399,
     "metadata": {},
     "output_type": "execute_result"
    }
   ],
   "source": [
    "feature_importance = bq.query(query = query).to_dataframe()\n",
    "feature_importance"
   ]
  },
  {
   "cell_type": "markdown",
   "id": "12187eb7-2edc-4bdf-87c8-fa3354e2aca4",
   "metadata": {},
   "source": [
    "### Global Explainability - What is important to Judges?\n",
    "\n",
    "Retrieve the influence of each feature on the model with [ML.GLOBAL_EXPLAIN](https://cloud.google.com/bigquery-ml/docs/reference/standard-sql/bigqueryml-syntax-global-explain).  "
   ]
  },
  {
   "cell_type": "code",
   "execution_count": 400,
   "id": "6068d2c1-5323-4870-a925-c7413627485c",
   "metadata": {},
   "outputs": [
    {
     "name": "stdout",
     "output_type": "stream",
     "text": [
      "\n",
      "    SELECT *\n",
      "    FROM ML.GLOBAL_EXPLAIN (MODEL `statmike-mlops-349915.feature_engineering.03_feature_engineering_2b`)\n",
      "\n"
     ]
    }
   ],
   "source": [
    "query = f\"\"\"\n",
    "    SELECT *\n",
    "    FROM ML.GLOBAL_EXPLAIN (MODEL `{BQ_PROJECT}.{BQ_DATASET}.{BQ_MODEL_2B}`)\n",
    "\"\"\"\n",
    "print(query)"
   ]
  },
  {
   "cell_type": "code",
   "execution_count": 401,
   "id": "7ab6413a-7069-457e-b043-9d897d5f35d6",
   "metadata": {},
   "outputs": [
    {
     "data": {
      "text/html": [
       "<div>\n",
       "<style scoped>\n",
       "    .dataframe tbody tr th:only-of-type {\n",
       "        vertical-align: middle;\n",
       "    }\n",
       "\n",
       "    .dataframe tbody tr th {\n",
       "        vertical-align: top;\n",
       "    }\n",
       "\n",
       "    .dataframe thead th {\n",
       "        text-align: right;\n",
       "    }\n",
       "</style>\n",
       "<table border=\"1\" class=\"dataframe\">\n",
       "  <thead>\n",
       "    <tr style=\"text-align: right;\">\n",
       "      <th></th>\n",
       "      <th>feature</th>\n",
       "      <th>attribution</th>\n",
       "    </tr>\n",
       "  </thead>\n",
       "  <tbody>\n",
       "    <tr>\n",
       "      <th>0</th>\n",
       "      <td>scale_bakeTemp</td>\n",
       "      <td>5.718652</td>\n",
       "    </tr>\n",
       "    <tr>\n",
       "      <th>1</th>\n",
       "      <td>scale_water2Amt</td>\n",
       "      <td>2.282757</td>\n",
       "    </tr>\n",
       "    <tr>\n",
       "      <th>2</th>\n",
       "      <td>scale_flourAmt</td>\n",
       "      <td>1.103655</td>\n",
       "    </tr>\n",
       "    <tr>\n",
       "      <th>3</th>\n",
       "      <td>scale_bakeTime</td>\n",
       "      <td>0.957910</td>\n",
       "    </tr>\n",
       "    <tr>\n",
       "      <th>4</th>\n",
       "      <td>scale_yeastAmt</td>\n",
       "      <td>0.743459</td>\n",
       "    </tr>\n",
       "    <tr>\n",
       "      <th>5</th>\n",
       "      <td>scale_mix2Time</td>\n",
       "      <td>0.634965</td>\n",
       "    </tr>\n",
       "    <tr>\n",
       "      <th>6</th>\n",
       "      <td>scale_mix1Time</td>\n",
       "      <td>0.549986</td>\n",
       "    </tr>\n",
       "    <tr>\n",
       "      <th>7</th>\n",
       "      <td>scale_mix2Speed</td>\n",
       "      <td>0.330729</td>\n",
       "    </tr>\n",
       "    <tr>\n",
       "      <th>8</th>\n",
       "      <td>scale_restTime</td>\n",
       "      <td>0.264580</td>\n",
       "    </tr>\n",
       "    <tr>\n",
       "      <th>9</th>\n",
       "      <td>scale_saltAmt</td>\n",
       "      <td>0.245337</td>\n",
       "    </tr>\n",
       "    <tr>\n",
       "      <th>10</th>\n",
       "      <td>scale_water1Amt</td>\n",
       "      <td>0.177585</td>\n",
       "    </tr>\n",
       "    <tr>\n",
       "      <th>11</th>\n",
       "      <td>scale_ambHumidity</td>\n",
       "      <td>0.060466</td>\n",
       "    </tr>\n",
       "    <tr>\n",
       "      <th>12</th>\n",
       "      <td>scale_ambTemp</td>\n",
       "      <td>0.044683</td>\n",
       "    </tr>\n",
       "    <tr>\n",
       "      <th>13</th>\n",
       "      <td>scale_mix1Speed</td>\n",
       "      <td>0.038228</td>\n",
       "    </tr>\n",
       "    <tr>\n",
       "      <th>14</th>\n",
       "      <td>scale_proveTime</td>\n",
       "      <td>0.030995</td>\n",
       "    </tr>\n",
       "    <tr>\n",
       "      <th>15</th>\n",
       "      <td>scale_waterTemp</td>\n",
       "      <td>0.018058</td>\n",
       "    </tr>\n",
       "  </tbody>\n",
       "</table>\n",
       "</div>"
      ],
      "text/plain": [
       "              feature  attribution\n",
       "0      scale_bakeTemp     5.718652\n",
       "1     scale_water2Amt     2.282757\n",
       "2      scale_flourAmt     1.103655\n",
       "3      scale_bakeTime     0.957910\n",
       "4      scale_yeastAmt     0.743459\n",
       "5      scale_mix2Time     0.634965\n",
       "6      scale_mix1Time     0.549986\n",
       "7     scale_mix2Speed     0.330729\n",
       "8      scale_restTime     0.264580\n",
       "9       scale_saltAmt     0.245337\n",
       "10    scale_water1Amt     0.177585\n",
       "11  scale_ambHumidity     0.060466\n",
       "12      scale_ambTemp     0.044683\n",
       "13    scale_mix1Speed     0.038228\n",
       "14    scale_proveTime     0.030995\n",
       "15    scale_waterTemp     0.018058"
      ]
     },
     "execution_count": 401,
     "metadata": {},
     "output_type": "execute_result"
    }
   ],
   "source": [
    "gexplain = bq.query(query = query).to_dataframe()\n",
    "gexplain"
   ]
  },
  {
   "cell_type": "markdown",
   "id": "1d428863-5f93-4331-bf79-9fd2756c8d9c",
   "metadata": {},
   "source": [
    "Plot the attribution:"
   ]
  },
  {
   "cell_type": "code",
   "execution_count": 402,
   "id": "29389f1a-4926-4be6-9d36-d3794afb3b4e",
   "metadata": {},
   "outputs": [
    {
     "data": {
      "image/png": "[encoded data removed]",
      "text/plain": [
       "<Figure size 1080x576 with 1 Axes>"
      ]
     },
     "metadata": {
      "needs_background": "light"
     },
     "output_type": "display_data"
    }
   ],
   "source": [
    "plt.figure(figsize=(15,8))\n",
    "plt.barh(gexplain['feature'], gexplain['attribution'])\n",
    "plt.title('Global Influence')\n",
    "plt.xlabel('Attribution')\n",
    "#plt.ylabel('Feature')\n",
    "plt.show()"
   ]
  },
  {
   "cell_type": "markdown",
   "id": "f32300de-89f1-4415-bf15-8830629ddb3e",
   "metadata": {},
   "source": [
    "### Predictions With BigQuery ML (BQML)\n",
    "\n",
    "Create a pandas dataframe with retrieved predictions for the test data in the table using [ML.PREDICT](https://cloud.google.com/bigquery-ml/docs/reference/standard-sql/bigqueryml-syntax-predict):"
   ]
  },
  {
   "cell_type": "code",
   "execution_count": 403,
   "id": "025797c5-7a21-49f9-b536-2e08fa7f434a",
   "metadata": {},
   "outputs": [
    {
     "name": "stdout",
     "output_type": "stream",
     "text": [
      "\n",
      "    SELECT Recipe, JUDGE_A, predicted_JUDGE_A, JUDGE_A-predicted_JUDGE_A as Error\n",
      "    FROM ML.PREDICT (MODEL `statmike-mlops-349915.feature_engineering.03_feature_engineering_2b`,(\n",
      "        SELECT *\n",
      "        FROM `statmike-mlops-349915.feature_engineering.bread`\n",
      "        WHERE Recipe <= 10)\n",
      "    )\n",
      "    ORDER BY Recipe\n",
      "\n"
     ]
    }
   ],
   "source": [
    "query = f\"\"\"\n",
    "    SELECT Recipe, JUDGE_A, predicted_JUDGE_A, JUDGE_A-predicted_JUDGE_A as Error\n",
    "    FROM ML.PREDICT (MODEL `{BQ_PROJECT}.{BQ_DATASET}.{BQ_MODEL_2B}`,(\n",
    "        SELECT *\n",
    "        FROM `{BQ_PROJECT}.{BQ_DATASET}.{BQ_TABLE}`\n",
    "        WHERE Recipe <= 10)\n",
    "    )\n",
    "    ORDER BY Recipe\n",
    "\"\"\"\n",
    "print(query)"
   ]
  },
  {
   "cell_type": "code",
   "execution_count": 404,
   "id": "d290ac39-0cee-4fd2-b2c3-14c2cf8cde22",
   "metadata": {},
   "outputs": [
    {
     "data": {
      "text/html": [
       "<div>\n",
       "<style scoped>\n",
       "    .dataframe tbody tr th:only-of-type {\n",
       "        vertical-align: middle;\n",
       "    }\n",
       "\n",
       "    .dataframe tbody tr th {\n",
       "        vertical-align: top;\n",
       "    }\n",
       "\n",
       "    .dataframe thead th {\n",
       "        text-align: right;\n",
       "    }\n",
       "</style>\n",
       "<table border=\"1\" class=\"dataframe\">\n",
       "  <thead>\n",
       "    <tr style=\"text-align: right;\">\n",
       "      <th></th>\n",
       "      <th>Recipe</th>\n",
       "      <th>JUDGE_A</th>\n",
       "      <th>predicted_JUDGE_A</th>\n",
       "      <th>Error</th>\n",
       "    </tr>\n",
       "  </thead>\n",
       "  <tbody>\n",
       "    <tr>\n",
       "      <th>0</th>\n",
       "      <td>1</td>\n",
       "      <td>41.0</td>\n",
       "      <td>47.192387</td>\n",
       "      <td>-6.192387</td>\n",
       "    </tr>\n",
       "    <tr>\n",
       "      <th>1</th>\n",
       "      <td>2</td>\n",
       "      <td>75.0</td>\n",
       "      <td>78.304611</td>\n",
       "      <td>-3.304611</td>\n",
       "    </tr>\n",
       "    <tr>\n",
       "      <th>2</th>\n",
       "      <td>3</td>\n",
       "      <td>75.0</td>\n",
       "      <td>76.599228</td>\n",
       "      <td>-1.599228</td>\n",
       "    </tr>\n",
       "    <tr>\n",
       "      <th>3</th>\n",
       "      <td>4</td>\n",
       "      <td>78.0</td>\n",
       "      <td>77.487663</td>\n",
       "      <td>0.512337</td>\n",
       "    </tr>\n",
       "    <tr>\n",
       "      <th>4</th>\n",
       "      <td>5</td>\n",
       "      <td>82.0</td>\n",
       "      <td>77.749008</td>\n",
       "      <td>4.250992</td>\n",
       "    </tr>\n",
       "    <tr>\n",
       "      <th>5</th>\n",
       "      <td>6</td>\n",
       "      <td>79.0</td>\n",
       "      <td>79.584328</td>\n",
       "      <td>-0.584328</td>\n",
       "    </tr>\n",
       "    <tr>\n",
       "      <th>6</th>\n",
       "      <td>7</td>\n",
       "      <td>75.0</td>\n",
       "      <td>73.458015</td>\n",
       "      <td>1.541985</td>\n",
       "    </tr>\n",
       "    <tr>\n",
       "      <th>7</th>\n",
       "      <td>8</td>\n",
       "      <td>80.0</td>\n",
       "      <td>78.875359</td>\n",
       "      <td>1.124641</td>\n",
       "    </tr>\n",
       "    <tr>\n",
       "      <th>8</th>\n",
       "      <td>9</td>\n",
       "      <td>80.0</td>\n",
       "      <td>76.554764</td>\n",
       "      <td>3.445236</td>\n",
       "    </tr>\n",
       "    <tr>\n",
       "      <th>9</th>\n",
       "      <td>10</td>\n",
       "      <td>68.0</td>\n",
       "      <td>74.804291</td>\n",
       "      <td>-6.804291</td>\n",
       "    </tr>\n",
       "  </tbody>\n",
       "</table>\n",
       "</div>"
      ],
      "text/plain": [
       "   Recipe  JUDGE_A  predicted_JUDGE_A     Error\n",
       "0       1     41.0          47.192387 -6.192387\n",
       "1       2     75.0          78.304611 -3.304611\n",
       "2       3     75.0          76.599228 -1.599228\n",
       "3       4     78.0          77.487663  0.512337\n",
       "4       5     82.0          77.749008  4.250992\n",
       "5       6     79.0          79.584328 -0.584328\n",
       "6       7     75.0          73.458015  1.541985\n",
       "7       8     80.0          78.875359  1.124641\n",
       "8       9     80.0          76.554764  3.445236\n",
       "9      10     68.0          74.804291 -6.804291"
      ]
     },
     "execution_count": 404,
     "metadata": {},
     "output_type": "execute_result"
    }
   ],
   "source": [
    "bq.query(query = query).to_dataframe()"
   ]
  },
  {
   "cell_type": "markdown",
   "id": "7a70a685-6cb7-4b59-8ef6-1267d9c07daf",
   "metadata": {},
   "source": [
    "### Local Explainability - What impacted the judges rating?\n",
    "\n",
    "Retrieve feature attribution values to interpret each features contribution to a prediction relative to the baseline prediction using [ML.EXPLAIN_PREDICT](https://cloud.google.com/bigquery-ml/docs/reference/standard-sql/bigqueryml-syntax-explain-predict)."
   ]
  },
  {
   "cell_type": "code",
   "execution_count": 405,
   "id": "91fe8acb-d8b3-4e37-bad8-c0eba2173ad9",
   "metadata": {},
   "outputs": [
    {
     "name": "stdout",
     "output_type": "stream",
     "text": [
      "\n",
      "    SELECT *\n",
      "    FROM ML.EXPLAIN_PREDICT (MODEL `statmike-mlops-349915.feature_engineering.03_feature_engineering_2b`,(\n",
      "        SELECT *\n",
      "        FROM `statmike-mlops-349915.feature_engineering.bread`\n",
      "        WHERE Recipe <= 10)\n",
      "    )\n",
      "    ORDER BY Recipe\n",
      "\n"
     ]
    }
   ],
   "source": [
    "query = f\"\"\"\n",
    "    SELECT *\n",
    "    FROM ML.EXPLAIN_PREDICT (MODEL `{BQ_PROJECT}.{BQ_DATASET}.{BQ_MODEL_2B}`,(\n",
    "        SELECT *\n",
    "        FROM `{BQ_PROJECT}.{BQ_DATASET}.{BQ_TABLE}`\n",
    "        WHERE Recipe <= 10)\n",
    "    )\n",
    "    ORDER BY Recipe\n",
    "\"\"\"\n",
    "print(query)"
   ]
  },
  {
   "cell_type": "code",
   "execution_count": 406,
   "id": "e423d524-f912-443f-b0ad-26c96fb8ec46",
   "metadata": {},
   "outputs": [
    {
     "data": {
      "text/html": [
       "<div>\n",
       "<style scoped>\n",
       "    .dataframe tbody tr th:only-of-type {\n",
       "        vertical-align: middle;\n",
       "    }\n",
       "\n",
       "    .dataframe tbody tr th {\n",
       "        vertical-align: top;\n",
       "    }\n",
       "\n",
       "    .dataframe thead th {\n",
       "        text-align: right;\n",
       "    }\n",
       "</style>\n",
       "<table border=\"1\" class=\"dataframe\">\n",
       "  <thead>\n",
       "    <tr style=\"text-align: right;\">\n",
       "      <th></th>\n",
       "      <th>predicted_JUDGE_A</th>\n",
       "      <th>top_feature_attributions</th>\n",
       "      <th>baseline_prediction_value</th>\n",
       "      <th>prediction_value</th>\n",
       "      <th>approximation_error</th>\n",
       "      <th>Recipe</th>\n",
       "      <th>flourAmt</th>\n",
       "      <th>saltAmt</th>\n",
       "      <th>yeastAmt</th>\n",
       "      <th>mix1Time</th>\n",
       "      <th>...</th>\n",
       "      <th>water2Amt</th>\n",
       "      <th>waterTemp</th>\n",
       "      <th>proveTime</th>\n",
       "      <th>restTime</th>\n",
       "      <th>bakeTime</th>\n",
       "      <th>bakeTemp</th>\n",
       "      <th>ambTemp</th>\n",
       "      <th>ambHumidity</th>\n",
       "      <th>JUDGE_A</th>\n",
       "      <th>JUDGE_B</th>\n",
       "    </tr>\n",
       "  </thead>\n",
       "  <tbody>\n",
       "    <tr>\n",
       "      <th>0</th>\n",
       "      <td>47.192387</td>\n",
       "      <td>[{'feature': 'scale_bakeTemp', 'attribution': ...</td>\n",
       "      <td>74.519791</td>\n",
       "      <td>47.192370</td>\n",
       "      <td>0.0</td>\n",
       "      <td>1</td>\n",
       "      <td>511.216954</td>\n",
       "      <td>9</td>\n",
       "      <td>11</td>\n",
       "      <td>6</td>\n",
       "      <td>...</td>\n",
       "      <td>105.439552</td>\n",
       "      <td>48</td>\n",
       "      <td>92.277551</td>\n",
       "      <td>43</td>\n",
       "      <td>29</td>\n",
       "      <td>462.140285</td>\n",
       "      <td>38.205729</td>\n",
       "      <td>63.778364</td>\n",
       "      <td>41.0</td>\n",
       "      <td>20.0</td>\n",
       "    </tr>\n",
       "    <tr>\n",
       "      <th>1</th>\n",
       "      <td>78.304611</td>\n",
       "      <td>[{'feature': 'scale_bakeTemp', 'attribution': ...</td>\n",
       "      <td>74.519791</td>\n",
       "      <td>78.304609</td>\n",
       "      <td>0.0</td>\n",
       "      <td>2</td>\n",
       "      <td>504.027379</td>\n",
       "      <td>12</td>\n",
       "      <td>11</td>\n",
       "      <td>7</td>\n",
       "      <td>...</td>\n",
       "      <td>109.383889</td>\n",
       "      <td>47</td>\n",
       "      <td>107.171485</td>\n",
       "      <td>45</td>\n",
       "      <td>28</td>\n",
       "      <td>415.312146</td>\n",
       "      <td>69.999552</td>\n",
       "      <td>46.117891</td>\n",
       "      <td>75.0</td>\n",
       "      <td>64.0</td>\n",
       "    </tr>\n",
       "    <tr>\n",
       "      <th>2</th>\n",
       "      <td>76.599228</td>\n",
       "      <td>[{'feature': 'scale_bakeTemp', 'attribution': ...</td>\n",
       "      <td>74.519791</td>\n",
       "      <td>76.599221</td>\n",
       "      <td>0.0</td>\n",
       "      <td>3</td>\n",
       "      <td>506.413722</td>\n",
       "      <td>10</td>\n",
       "      <td>11</td>\n",
       "      <td>4</td>\n",
       "      <td>...</td>\n",
       "      <td>115.693323</td>\n",
       "      <td>42</td>\n",
       "      <td>99.872264</td>\n",
       "      <td>35</td>\n",
       "      <td>24</td>\n",
       "      <td>405.124881</td>\n",
       "      <td>45.326810</td>\n",
       "      <td>43.961578</td>\n",
       "      <td>75.0</td>\n",
       "      <td>64.0</td>\n",
       "    </tr>\n",
       "    <tr>\n",
       "      <th>3</th>\n",
       "      <td>77.487663</td>\n",
       "      <td>[{'feature': 'scale_water2Amt', 'attribution':...</td>\n",
       "      <td>74.519791</td>\n",
       "      <td>77.487644</td>\n",
       "      <td>0.0</td>\n",
       "      <td>4</td>\n",
       "      <td>507.602584</td>\n",
       "      <td>9</td>\n",
       "      <td>9</td>\n",
       "      <td>3</td>\n",
       "      <td>...</td>\n",
       "      <td>108.322366</td>\n",
       "      <td>42</td>\n",
       "      <td>102.966628</td>\n",
       "      <td>44</td>\n",
       "      <td>22</td>\n",
       "      <td>435.755052</td>\n",
       "      <td>42.543597</td>\n",
       "      <td>40.270958</td>\n",
       "      <td>78.0</td>\n",
       "      <td>68.0</td>\n",
       "    </tr>\n",
       "    <tr>\n",
       "      <th>4</th>\n",
       "      <td>77.749008</td>\n",
       "      <td>[{'feature': 'scale_bakeTemp', 'attribution': ...</td>\n",
       "      <td>74.519791</td>\n",
       "      <td>77.749008</td>\n",
       "      <td>0.0</td>\n",
       "      <td>5</td>\n",
       "      <td>486.277476</td>\n",
       "      <td>11</td>\n",
       "      <td>12</td>\n",
       "      <td>5</td>\n",
       "      <td>...</td>\n",
       "      <td>90.759381</td>\n",
       "      <td>43</td>\n",
       "      <td>100.725626</td>\n",
       "      <td>43</td>\n",
       "      <td>25</td>\n",
       "      <td>421.587535</td>\n",
       "      <td>53.086075</td>\n",
       "      <td>54.744809</td>\n",
       "      <td>82.0</td>\n",
       "      <td>73.0</td>\n",
       "    </tr>\n",
       "    <tr>\n",
       "      <th>5</th>\n",
       "      <td>79.584328</td>\n",
       "      <td>[{'feature': 'scale_bakeTemp', 'attribution': ...</td>\n",
       "      <td>74.519791</td>\n",
       "      <td>79.584316</td>\n",
       "      <td>0.0</td>\n",
       "      <td>6</td>\n",
       "      <td>500.812862</td>\n",
       "      <td>11</td>\n",
       "      <td>11</td>\n",
       "      <td>3</td>\n",
       "      <td>...</td>\n",
       "      <td>124.672542</td>\n",
       "      <td>45</td>\n",
       "      <td>109.903886</td>\n",
       "      <td>36</td>\n",
       "      <td>24</td>\n",
       "      <td>416.540411</td>\n",
       "      <td>51.267701</td>\n",
       "      <td>35.815610</td>\n",
       "      <td>79.0</td>\n",
       "      <td>70.0</td>\n",
       "    </tr>\n",
       "    <tr>\n",
       "      <th>6</th>\n",
       "      <td>73.458015</td>\n",
       "      <td>[{'feature': 'scale_bakeTemp', 'attribution': ...</td>\n",
       "      <td>74.519791</td>\n",
       "      <td>73.457998</td>\n",
       "      <td>0.0</td>\n",
       "      <td>7</td>\n",
       "      <td>502.851477</td>\n",
       "      <td>12</td>\n",
       "      <td>12</td>\n",
       "      <td>6</td>\n",
       "      <td>...</td>\n",
       "      <td>139.302933</td>\n",
       "      <td>42</td>\n",
       "      <td>101.408681</td>\n",
       "      <td>36</td>\n",
       "      <td>23</td>\n",
       "      <td>428.752728</td>\n",
       "      <td>57.342281</td>\n",
       "      <td>44.121910</td>\n",
       "      <td>75.0</td>\n",
       "      <td>65.0</td>\n",
       "    </tr>\n",
       "    <tr>\n",
       "      <th>7</th>\n",
       "      <td>78.875359</td>\n",
       "      <td>[{'feature': 'scale_bakeTemp', 'attribution': ...</td>\n",
       "      <td>74.519791</td>\n",
       "      <td>78.875341</td>\n",
       "      <td>0.0</td>\n",
       "      <td>8</td>\n",
       "      <td>520.064115</td>\n",
       "      <td>8</td>\n",
       "      <td>9</td>\n",
       "      <td>4</td>\n",
       "      <td>...</td>\n",
       "      <td>127.303650</td>\n",
       "      <td>44</td>\n",
       "      <td>106.827472</td>\n",
       "      <td>38</td>\n",
       "      <td>27</td>\n",
       "      <td>423.945867</td>\n",
       "      <td>42.812792</td>\n",
       "      <td>46.539498</td>\n",
       "      <td>80.0</td>\n",
       "      <td>71.0</td>\n",
       "    </tr>\n",
       "    <tr>\n",
       "      <th>8</th>\n",
       "      <td>76.554764</td>\n",
       "      <td>[{'feature': 'scale_bakeTemp', 'attribution': ...</td>\n",
       "      <td>74.519791</td>\n",
       "      <td>76.554756</td>\n",
       "      <td>0.0</td>\n",
       "      <td>9</td>\n",
       "      <td>506.150124</td>\n",
       "      <td>12</td>\n",
       "      <td>11</td>\n",
       "      <td>5</td>\n",
       "      <td>...</td>\n",
       "      <td>125.086484</td>\n",
       "      <td>41</td>\n",
       "      <td>100.957520</td>\n",
       "      <td>40</td>\n",
       "      <td>23</td>\n",
       "      <td>413.192045</td>\n",
       "      <td>54.195141</td>\n",
       "      <td>40.067980</td>\n",
       "      <td>80.0</td>\n",
       "      <td>70.0</td>\n",
       "    </tr>\n",
       "    <tr>\n",
       "      <th>9</th>\n",
       "      <td>74.804291</td>\n",
       "      <td>[{'feature': 'scale_bakeTemp', 'attribution': ...</td>\n",
       "      <td>74.519791</td>\n",
       "      <td>74.804287</td>\n",
       "      <td>0.0</td>\n",
       "      <td>10</td>\n",
       "      <td>513.812340</td>\n",
       "      <td>11</td>\n",
       "      <td>9</td>\n",
       "      <td>8</td>\n",
       "      <td>...</td>\n",
       "      <td>151.097931</td>\n",
       "      <td>46</td>\n",
       "      <td>102.585934</td>\n",
       "      <td>35</td>\n",
       "      <td>23</td>\n",
       "      <td>428.643665</td>\n",
       "      <td>55.011774</td>\n",
       "      <td>60.119775</td>\n",
       "      <td>68.0</td>\n",
       "      <td>54.0</td>\n",
       "    </tr>\n",
       "  </tbody>\n",
       "</table>\n",
       "<p>10 rows × 24 columns</p>\n",
       "</div>"
      ],
      "text/plain": [
       "   predicted_JUDGE_A                           top_feature_attributions  \\\n",
       "0          47.192387  [{'feature': 'scale_bakeTemp', 'attribution': ...   \n",
       "1          78.304611  [{'feature': 'scale_bakeTemp', 'attribution': ...   \n",
       "2          76.599228  [{'feature': 'scale_bakeTemp', 'attribution': ...   \n",
       "3          77.487663  [{'feature': 'scale_water2Amt', 'attribution':...   \n",
       "4          77.749008  [{'feature': 'scale_bakeTemp', 'attribution': ...   \n",
       "5          79.584328  [{'feature': 'scale_bakeTemp', 'attribution': ...   \n",
       "6          73.458015  [{'feature': 'scale_bakeTemp', 'attribution': ...   \n",
       "7          78.875359  [{'feature': 'scale_bakeTemp', 'attribution': ...   \n",
       "8          76.554764  [{'feature': 'scale_bakeTemp', 'attribution': ...   \n",
       "9          74.804291  [{'feature': 'scale_bakeTemp', 'attribution': ...   \n",
       "\n",
       "   baseline_prediction_value  prediction_value  approximation_error  Recipe  \\\n",
       "0                  74.519791         47.192370                  0.0       1   \n",
       "1                  74.519791         78.304609                  0.0       2   \n",
       "2                  74.519791         76.599221                  0.0       3   \n",
       "3                  74.519791         77.487644                  0.0       4   \n",
       "4                  74.519791         77.749008                  0.0       5   \n",
       "5                  74.519791         79.584316                  0.0       6   \n",
       "6                  74.519791         73.457998                  0.0       7   \n",
       "7                  74.519791         78.875341                  0.0       8   \n",
       "8                  74.519791         76.554756                  0.0       9   \n",
       "9                  74.519791         74.804287                  0.0      10   \n",
       "\n",
       "     flourAmt  saltAmt  yeastAmt  mix1Time  ...   water2Amt  waterTemp  \\\n",
       "0  511.216954        9        11         6  ...  105.439552         48   \n",
       "1  504.027379       12        11         7  ...  109.383889         47   \n",
       "2  506.413722       10        11         4  ...  115.693323         42   \n",
       "3  507.602584        9         9         3  ...  108.322366         42   \n",
       "4  486.277476       11        12         5  ...   90.759381         43   \n",
       "5  500.812862       11        11         3  ...  124.672542         45   \n",
       "6  502.851477       12        12         6  ...  139.302933         42   \n",
       "7  520.064115        8         9         4  ...  127.303650         44   \n",
       "8  506.150124       12        11         5  ...  125.086484         41   \n",
       "9  513.812340       11         9         8  ...  151.097931         46   \n",
       "\n",
       "    proveTime  restTime  bakeTime    bakeTemp    ambTemp  ambHumidity  \\\n",
       "0   92.277551        43        29  462.140285  38.205729    63.778364   \n",
       "1  107.171485        45        28  415.312146  69.999552    46.117891   \n",
       "2   99.872264        35        24  405.124881  45.326810    43.961578   \n",
       "3  102.966628        44        22  435.755052  42.543597    40.270958   \n",
       "4  100.725626        43        25  421.587535  53.086075    54.744809   \n",
       "5  109.903886        36        24  416.540411  51.267701    35.815610   \n",
       "6  101.408681        36        23  428.752728  57.342281    44.121910   \n",
       "7  106.827472        38        27  423.945867  42.812792    46.539498   \n",
       "8  100.957520        40        23  413.192045  54.195141    40.067980   \n",
       "9  102.585934        35        23  428.643665  55.011774    60.119775   \n",
       "\n",
       "   JUDGE_A  JUDGE_B  \n",
       "0     41.0     20.0  \n",
       "1     75.0     64.0  \n",
       "2     75.0     64.0  \n",
       "3     78.0     68.0  \n",
       "4     82.0     73.0  \n",
       "5     79.0     70.0  \n",
       "6     75.0     65.0  \n",
       "7     80.0     71.0  \n",
       "8     80.0     70.0  \n",
       "9     68.0     54.0  \n",
       "\n",
       "[10 rows x 24 columns]"
      ]
     },
     "execution_count": 406,
     "metadata": {},
     "output_type": "execute_result"
    }
   ],
   "source": [
    "explain = bq.query(query = query).to_dataframe()\n",
    "explain"
   ]
  },
  {
   "cell_type": "markdown",
   "id": "9bebf83d-077b-4c2c-9593-d15f4dce42c8",
   "metadata": {},
   "source": [
    "Create a plot of feature attributions for a single prediction:"
   ]
  },
  {
   "cell_type": "code",
   "execution_count": 407,
   "id": "bba5463c-8a94-4baa-9d88-c2fe5419c383",
   "metadata": {},
   "outputs": [],
   "source": [
    "recipe = 1\n",
    "explanation = explain.iloc[recipe-1]['top_feature_attributions']"
   ]
  },
  {
   "cell_type": "code",
   "execution_count": 408,
   "id": "46a76ebc-cdad-4db0-9e14-ea25b2de56d9",
   "metadata": {},
   "outputs": [
    {
     "data": {
      "image/png": "[encoded data removed]",
      "text/plain": [
       "<Figure size 1080x360 with 1 Axes>"
      ]
     },
     "metadata": {
      "needs_background": "light"
     },
     "output_type": "display_data"
    }
   ],
   "source": [
    "features = []\n",
    "scores = []\n",
    "for k in explanation:\n",
    "    features.append(k['feature'])\n",
    "    scores.append(k['attribution'])\n",
    "features = [x for _, x in sorted(zip(scores, features))]\n",
    "scores = sorted(scores)\n",
    "\n",
    "plt.figure(figsize=(15,5))\n",
    "plt.barh(features, scores)\n",
    "plt.title(f'Feature Attribution for Prediction - Recipe {recipe}')\n",
    "plt.show()"
   ]
  },
  {
   "cell_type": "markdown",
   "id": "e0992a1a-f8d7-471b-b56a-fed4efa214b8",
   "metadata": {},
   "source": [
    "### Check out this model in the BigQuery Console:\n",
    "- Make sure project selected is the one from this notebook\n",
    "- Under Explore, expand this project and dataset\n",
    "- Expand Models and select the model create here"
   ]
  },
  {
   "cell_type": "code",
   "execution_count": 409,
   "id": "e0855079-2994-4f92-852e-c10de2b8bd9b",
   "metadata": {},
   "outputs": [
    {
     "name": "stdout",
     "output_type": "stream",
     "text": [
      "Direct link to the model in BigQuery:\n",
      "https://console.cloud.google.com/bigquery?project=statmike-mlops-349915&ws=!1m5!1m4!5m3!1sstatmike-mlops-349915!2sfeature_engineering!3s03_feature_engineering_2b\n"
     ]
    }
   ],
   "source": [
    "print(f'Direct link to the model in BigQuery:\\nhttps://console.cloud.google.com/bigquery?project={PROJECT_ID}&ws=!1m5!1m4!5m3!1s{PROJECT_ID}!2s{BQ_DATASET}!3s{BQ_MODEL_2B}')"
   ]
  },
  {
   "cell_type": "markdown",
   "id": "35df9456-499b-4a42-ae52-b29977f89088",
   "metadata": {},
   "source": [
    "### Check out this model in the Vertex AI Console:\n",
    "- Make sure project selected is the one from this notebook\n",
    "- Make sure the region is `europe-west4` (default when BQ is `EU` multiregion)"
   ]
  },
  {
   "cell_type": "code",
   "execution_count": 410,
   "id": "a3801c09-f8e4-4dda-871a-2289cbf428d6",
   "metadata": {},
   "outputs": [
    {
     "name": "stdout",
     "output_type": "stream",
     "text": [
      "View the model in the Vertex AI Console:\n",
      "https://console.cloud.google.com/vertex-ai/locations/us-central1/models/bqml_03_feature_engineering_2b?project=statmike-mlops-349915\n"
     ]
    }
   ],
   "source": [
    "print(f\"View the model in the Vertex AI Console:\\nhttps://console.cloud.google.com/vertex-ai/locations/{REGION}/models/bqml_{BQ_MODEL_2B}?project={PROJECT_ID}\")"
   ]
  },
  {
   "cell_type": "markdown",
   "id": "b1dd1061-fecd-40e0-bb41-715a6ad5106f",
   "metadata": {},
   "source": [
    "---\n",
    "## Serving - Models 2a and 2b\n",
    "\n",
    "**Notes on Serving With Manual Feature Engineering**\n",
    "\n",
    "When this model was trained it did register to Vertex AI Model Registry.  At this point in time (November 2022), the resulting model is not directly servable because it is actually 2 models, a preprocessing model that represents the `TRANSFORM` clause, and a model that serves responses from the inputs shaped by the preprocessing.\n",
    "\n",
    "It is still very possible and advantageous to serve online predictions with Vertex AI.  In this case we can register both models (preprocessing and the model). Serving predictions with these two models could be done in several ways with Vertex AI:\n",
    "- Create 2 Endpoints for each model: retrieve responses from the preprocessing model to pass to the model (example below)\n",
    "    - Share resources between the endpoints by cohosting them with a [Deployment Resource Pool](https://cloud.google.com/vertex-ai/docs/predictions/model-co-hosting)\n",
    "- Combine the models in a single serving container with a [Custom Prediction Routine](https://cloud.google.com/vertex-ai/docs/predictions/custom-prediction-routines)\n",
    "- Serve the models separately or in a pipeline using [NVIDIA Triton for Vertex AI Endpoints](https://cloud.google.com/vertex-ai/docs/predictions/using-nvidia-triton)"
   ]
  },
  {
   "cell_type": "markdown",
   "id": "983ec89b-cfb3-482b-976b-26901f54795b",
   "metadata": {},
   "source": [
    "### Vertex AI Model Registry - Get Models\n",
    "\n",
    "When these modes were trained in BigQuery ML they included options for registration in Vertex AI Model Registry.  This section shows how to retrieve the information from the model unsing Vetex AI.\n",
    "\n",
    "References:\n",
    "- [aiplatform.Model()](https://cloud.google.com/python/docs/reference/aiplatform/latest/google.cloud.aiplatform.Model)"
   ]
  },
  {
   "cell_type": "code",
   "execution_count": 411,
   "id": "cb1a70f4-9dfa-4a6e-81ca-521840a28107",
   "metadata": {},
   "outputs": [
    {
     "data": {
      "text/plain": [
       "('projects/1026793852137/locations/us-central1/models/bqml_03_feature_engineering_2a',\n",
       " 'projects/1026793852137/locations/us-central1/models/bqml_03_feature_engineering_2b')"
      ]
     },
     "execution_count": 411,
     "metadata": {},
     "output_type": "execute_result"
    }
   ],
   "source": [
    "vertex_model_2a = aiplatform.Model(model_name = f'bqml_{BQ_MODEL_2A}')\n",
    "vertex_model_2b = aiplatform.Model(model_name = f'bqml_{BQ_MODEL_2B}')\n",
    "vertex_model_2a.resource_name, vertex_model_2b.resource_name"
   ]
  },
  {
   "cell_type": "code",
   "execution_count": 412,
   "id": "61e981d2-dc91-462f-9ec6-e3085070dd91",
   "metadata": {},
   "outputs": [
    {
     "data": {
      "text/plain": [
       "{'name': 'projects/1026793852137/locations/us-central1/models/bqml_03_feature_engineering_2a@1/evaluations/4085075267901456384',\n",
       " 'metricsSchemaUri': 'gs://google-cloud-aiplatform/schema/modelevaluation/regression_metrics_1.0.0.yaml',\n",
       " 'metrics': {'rootMeanSquaredError': 10.035795,\n",
       "  'rSquared': 0.0006930598,\n",
       "  'rootMeanSquaredLogError': 0.15229972,\n",
       "  'meanAbsoluteError': 7.7828536},\n",
       " 'createTime': '2023-01-12T23:48:45.736035Z'}"
      ]
     },
     "execution_count": 412,
     "metadata": {},
     "output_type": "execute_result"
    }
   ],
   "source": [
    "aiplatform.ModelEvaluation(\n",
    "    evaluation_name = vertex_model_2a.get_model_evaluation().resource_name\n",
    ").to_dict()"
   ]
  },
  {
   "cell_type": "code",
   "execution_count": 413,
   "id": "134763d1-29b8-4b7f-80aa-8751a6fe907e",
   "metadata": {},
   "outputs": [
    {
     "data": {
      "text/plain": [
       "{'name': 'projects/1026793852137/locations/us-central1/models/bqml_03_feature_engineering_2b@1/evaluations/6427602383064268800',\n",
       " 'metricsSchemaUri': 'gs://google-cloud-aiplatform/schema/modelevaluation/regression_metrics_1.0.0.yaml',\n",
       " 'metrics': {'rootMeanSquaredError': 3.4726038,\n",
       "  'meanAbsoluteError': 2.517194,\n",
       "  'rootMeanSquaredLogError': 0.06351711,\n",
       "  'rSquared': 0.8803519},\n",
       " 'createTime': '2023-01-12T23:58:14.218420Z'}"
      ]
     },
     "execution_count": 413,
     "metadata": {},
     "output_type": "execute_result"
    }
   ],
   "source": [
    "aiplatform.ModelEvaluation(\n",
    "    evaluation_name = vertex_model_2b.get_model_evaluation().resource_name\n",
    ").to_dict()"
   ]
  },
  {
   "cell_type": "code",
   "execution_count": 414,
   "id": "df736369-1aea-4faf-abb3-64aca3432b40",
   "metadata": {},
   "outputs": [],
   "source": [
    "# note: this is blank since the model is in two parts, continue to export below:\n",
    "vertex_model_2a.uri "
   ]
  },
  {
   "cell_type": "markdown",
   "id": "711b0a42-c363-45b3-a2af-fa6d576f9b08",
   "metadata": {},
   "source": [
    "### Step 3: Manually export models from BigQuery\n",
    "\n",
    "The models built in Step 2a and Step 2b are exported from BigQuery to GCS:\n",
    "\n",
    "- [Exporting Models](https://cloud.google.com/bigquery-ml/docs/exporting-models)\n"
   ]
  },
  {
   "cell_type": "code",
   "execution_count": 417,
   "id": "7a15e685-7e15-4ff6-8824-b2932978ec42",
   "metadata": {},
   "outputs": [],
   "source": [
    "BUCKET = f'{PROJECT_ID}-{REGION}-bqml-exports'"
   ]
  },
  {
   "cell_type": "code",
   "execution_count": 418,
   "id": "e6072575-e4fd-44c4-9f68-50e90f6fa528",
   "metadata": {},
   "outputs": [
    {
     "name": "stdout",
     "output_type": "stream",
     "text": [
      "Created Bucket: statmike-mlops-349915-us-central1-bqml-exports\n"
     ]
    }
   ],
   "source": [
    "if not gcs.lookup_bucket(BUCKET):\n",
    "    bucketDef = gcs.bucket(BUCKET)\n",
    "    bucketDef = gcs.create_bucket(bucketDef, project=PROJECT_ID, location=REGION)\n",
    "    print(f'Created Bucket: {gcs.lookup_bucket(BUCKET).name}')\n",
    "else:\n",
    "    bucketDef = gcs.bucket(BUCKET)\n",
    "    print(f'Bucket already exist: {bucketDef.name}')"
   ]
  },
  {
   "cell_type": "code",
   "execution_count": 419,
   "id": "cb418e5a-b7d9-4688-8038-0252efc76ede",
   "metadata": {},
   "outputs": [
    {
     "name": "stdout",
     "output_type": "stream",
     "text": [
      "Review the storage bucket in the console here:\n",
      "https://console.cloud.google.com/storage/browser/statmike-mlops-349915-us-central1-bqml-exports;tab=objects&project=statmike-mlops-349915\n"
     ]
    }
   ],
   "source": [
    "print(f'Review the storage bucket in the console here:\\nhttps://console.cloud.google.com/storage/browser/{BUCKET};tab=objects&project={PROJECT_ID}')"
   ]
  },
  {
   "cell_type": "code",
   "execution_count": 420,
   "id": "9d5beec2-3594-4db8-8516-a2baaf36637e",
   "metadata": {},
   "outputs": [
    {
     "name": "stdout",
     "output_type": "stream",
     "text": [
      "\n",
      "    EXPORT MODEL `statmike-mlops-349915.feature_engineering.03_feature_engineering_2a`\n",
      "        OPTIONS (URI = 'gs://statmike-mlops-349915-us-central1-bqml-exports/03/2a/model');\n",
      "    EXPORT MODEL `statmike-mlops-349915.feature_engineering.03_feature_engineering_2b`\n",
      "        OPTIONS (URI = 'gs://statmike-mlops-349915-us-central1-bqml-exports/03/2b/model');\n",
      "\n"
     ]
    }
   ],
   "source": [
    "query = f\"\"\"\n",
    "    EXPORT MODEL `{BQ_PROJECT}.{BQ_DATASET}.{BQ_MODEL_2A}`\n",
    "        OPTIONS (URI = 'gs://{BUCKET}/{SERIES}/2a/model');\n",
    "    EXPORT MODEL `{BQ_PROJECT}.{BQ_DATASET}.{BQ_MODEL_2B}`\n",
    "        OPTIONS (URI = 'gs://{BUCKET}/{SERIES}/2b/model');\n",
    "\"\"\"\n",
    "print(query)"
   ]
  },
  {
   "cell_type": "code",
   "execution_count": 421,
   "id": "c4150227-ebad-4eab-93de-3468da656d36",
   "metadata": {},
   "outputs": [
    {
     "data": {
      "text/plain": [
       "87.534"
      ]
     },
     "execution_count": 421,
     "metadata": {},
     "output_type": "execute_result"
    }
   ],
   "source": [
    "export = bq.query(query = query)\n",
    "export.result()\n",
    "(export.ended - export.started).total_seconds()"
   ]
  },
  {
   "cell_type": "code",
   "execution_count": 422,
   "id": "b20447b5-97b8-46c6-92d9-2eb81b7e7db5",
   "metadata": {},
   "outputs": [
    {
     "data": {
      "text/plain": [
       "[<Blob: statmike-mlops-349915-us-central1-bqml-exports, 03/2a/, 1673568060147359>,\n",
       " <Blob: statmike-mlops-349915-us-central1-bqml-exports, 03/2a/model/, 1673568060570832>,\n",
       " <Blob: statmike-mlops-349915-us-central1-bqml-exports, 03/2a/model/explanation_metadata.json, 1673568081335601>,\n",
       " <Blob: statmike-mlops-349915-us-central1-bqml-exports, 03/2a/model/saved_model.pb, 1673568081465937>,\n",
       " <Blob: statmike-mlops-349915-us-central1-bqml-exports, 03/2a/model/transform/, 1673568061038889>,\n",
       " <Blob: statmike-mlops-349915-us-central1-bqml-exports, 03/2a/model/transform/assets/, 1673568062985630>,\n",
       " <Blob: statmike-mlops-349915-us-central1-bqml-exports, 03/2a/model/transform/fingerprint.pb, 1673568063140199>,\n",
       " <Blob: statmike-mlops-349915-us-central1-bqml-exports, 03/2a/model/transform/saved_model.pb, 1673568063383327>,\n",
       " <Blob: statmike-mlops-349915-us-central1-bqml-exports, 03/2a/model/transform/variables/, 1673568062538235>,\n",
       " <Blob: statmike-mlops-349915-us-central1-bqml-exports, 03/2a/model/transform/variables/variables.data-00000-of-00001, 1673568063573502>,\n",
       " <Blob: statmike-mlops-349915-us-central1-bqml-exports, 03/2a/model/transform/variables/variables.index, 1673568063723043>,\n",
       " <Blob: statmike-mlops-349915-us-central1-bqml-exports, 03/2a/model/variables/, 1673568081203776>,\n",
       " <Blob: statmike-mlops-349915-us-central1-bqml-exports, 03/2a/model/variables/variables.data-00000-of-00001, 1673568081598410>,\n",
       " <Blob: statmike-mlops-349915-us-central1-bqml-exports, 03/2a/model/variables/variables.index, 1673568081730861>,\n",
       " <Blob: statmike-mlops-349915-us-central1-bqml-exports, 03/2b/, 1673568106287693>,\n",
       " <Blob: statmike-mlops-349915-us-central1-bqml-exports, 03/2b/model/, 1673568106660342>,\n",
       " <Blob: statmike-mlops-349915-us-central1-bqml-exports, 03/2b/model/assets/model_metadata.json, 1673568111216775>,\n",
       " <Blob: statmike-mlops-349915-us-central1-bqml-exports, 03/2b/model/main.py, 1673568111023979>,\n",
       " <Blob: statmike-mlops-349915-us-central1-bqml-exports, 03/2b/model/model.bst, 1673568110725449>,\n",
       " <Blob: statmike-mlops-349915-us-central1-bqml-exports, 03/2b/model/transform/, 1673568107095862>,\n",
       " <Blob: statmike-mlops-349915-us-central1-bqml-exports, 03/2b/model/transform/assets/, 1673568108413643>,\n",
       " <Blob: statmike-mlops-349915-us-central1-bqml-exports, 03/2b/model/transform/fingerprint.pb, 1673568108523699>,\n",
       " <Blob: statmike-mlops-349915-us-central1-bqml-exports, 03/2b/model/transform/saved_model.pb, 1673568108643147>,\n",
       " <Blob: statmike-mlops-349915-us-central1-bqml-exports, 03/2b/model/transform/variables/, 1673568107960271>,\n",
       " <Blob: statmike-mlops-349915-us-central1-bqml-exports, 03/2b/model/transform/variables/variables.data-00000-of-00001, 1673568108780002>,\n",
       " <Blob: statmike-mlops-349915-us-central1-bqml-exports, 03/2b/model/transform/variables/variables.index, 1673568108909196>,\n",
       " <Blob: statmike-mlops-349915-us-central1-bqml-exports, 03/2b/model/xgboost_predictor-0.1.tar.gz, 1673568110870640>]"
      ]
     },
     "execution_count": 422,
     "metadata": {},
     "output_type": "execute_result"
    }
   ],
   "source": [
    "list(bucketDef.list_blobs(prefix = f'{SERIES}/2'))"
   ]
  },
  {
   "cell_type": "code",
   "execution_count": 423,
   "id": "09c67439-6be2-4bee-90b0-fb5b747aa7b0",
   "metadata": {},
   "outputs": [
    {
     "name": "stdout",
     "output_type": "stream",
     "text": [
      "Review the models in the storage bucket with the console here:\n",
      "https://console.cloud.google.com/storage/browser/statmike-mlops-349915-us-central1-bqml-exports/03;tab=objects&project=statmike-mlops-349915\n"
     ]
    }
   ],
   "source": [
    "print(f'Review the models in the storage bucket with the console here:\\nhttps://console.cloud.google.com/storage/browser/{BUCKET}/{SERIES};tab=objects&project={PROJECT_ID}')"
   ]
  },
  {
   "cell_type": "markdown",
   "id": "ad1734f0-a559-4fe7-b07d-7ca97f59d3ea",
   "metadata": {},
   "source": [
    "### Step 4: Register models to Vertex AI Model Registry\n",
    "\n",
    "Registering models to the Vertex AI Model Registry requires knowing the path the the model save file and a URI for a container that can serve the model.\n",
    "- Vertex AI Pre-built containers for [prediction and explanation](https://cloud.google.com/vertex-ai/docs/predictions/pre-built-containers)\n",
    "- BigQuery ML Containers for Serving:\n",
    "    - Exporting Models How-To Guide: [Model Deployment](https://cloud.google.com/bigquery-ml/docs/exporting-models#model-deployment)\n",
    "    - For serving XGBoost models see the note on provided pre-built containers in [Exporting a BigQuery ML model for online prediction](https://cloud.google.com/bigquery-ml/docs/export-model-tutorial#online_deployment_and_serving_2)\n"
   ]
  },
  {
   "cell_type": "code",
   "execution_count": 424,
   "id": "1cf4d5d6-1c07-4fff-ab21-56aaa4b824c1",
   "metadata": {},
   "outputs": [],
   "source": [
    "# WORK IN PROGRESS - IGNORE THIS CELL\n",
    "#!gcloud container images add-tag us-docker.pkg.dev/vertex-ai/bigquery-ml/xgboost-cpu.1-0:latest us-docker.pkg.dev/$PROJECT_ID/bigquery-ml/xgboost-cpu.1-0:latest --quiet"
   ]
  },
  {
   "cell_type": "markdown",
   "id": "89023f5f-13a6-4010-b5d5-b0c76e373640",
   "metadata": {},
   "source": [
    "#### Register Models 2a and 2b"
   ]
  },
  {
   "cell_type": "code",
   "execution_count": 425,
   "id": "313f4679-c5f4-4c1b-96f2-7309187530d3",
   "metadata": {},
   "outputs": [
    {
     "name": "stdout",
     "output_type": "stream",
     "text": [
      "Creating Model\n",
      "Create Model backing LRO: projects/1026793852137/locations/us-central1/models/gcs_03_feature_engineering_2a/operations/6114068396066734080\n",
      "Model created. Resource name: projects/1026793852137/locations/us-central1/models/gcs_03_feature_engineering_2a@1\n",
      "To use this Model in another session:\n",
      "model = aiplatform.Model('projects/1026793852137/locations/us-central1/models/gcs_03_feature_engineering_2a@1')\n"
     ]
    }
   ],
   "source": [
    "vertex_model_2a_gcs = aiplatform.Model.upload(\n",
    "    display_name = f'gcs_{SERIES}_{EXPERIMENT}_2a',\n",
    "    model_id = f'gcs_{SERIES}_{EXPERIMENT}_2a',\n",
    "    serving_container_image_uri = 'us-docker.pkg.dev/vertex-ai/prediction/tf2-cpu.2-10:latest',\n",
    "    artifact_uri = f\"gs://{BUCKET}/{SERIES}/2a/model\",\n",
    "    is_default_version = True,\n",
    "    labels = {'series' : f'{SERIES}', 'experiment' : f'{EXPERIMENT}'}\n",
    ") "
   ]
  },
  {
   "cell_type": "code",
   "execution_count": 427,
   "id": "ad5f3169-ef8a-4513-bc09-2385b8eb8c29",
   "metadata": {},
   "outputs": [
    {
     "name": "stdout",
     "output_type": "stream",
     "text": [
      "Creating Model\n",
      "Create Model backing LRO: projects/1026793852137/locations/us-central1/models/gcs_03_feature_engineering_2b/operations/7500614131343425536\n",
      "Model created. Resource name: projects/1026793852137/locations/us-central1/models/gcs_03_feature_engineering_2b@1\n",
      "To use this Model in another session:\n",
      "model = aiplatform.Model('projects/1026793852137/locations/us-central1/models/gcs_03_feature_engineering_2b@1')\n"
     ]
    }
   ],
   "source": [
    "vertex_model_2b_gcs = aiplatform.Model.upload(\n",
    "    display_name = f'gcs_{SERIES}_{EXPERIMENT}_2b',\n",
    "    model_id = f'gcs_{SERIES}_{EXPERIMENT}_2b',\n",
    "    serving_container_image_uri = 'us-docker.pkg.dev/vertex-ai/prediction/xgboost-cpu.1-1:latest',\n",
    "    artifact_uri = f\"gs://{BUCKET}/{SERIES}/2b/model\",\n",
    "    is_default_version = True,\n",
    "    labels = {'series' : f'{SERIES}', 'experiment' : f'{EXPERIMENT}'}\n",
    ")"
   ]
  },
  {
   "cell_type": "code",
   "execution_count": 428,
   "id": "e3903037-2506-4387-b3d8-2783bd39edcd",
   "metadata": {},
   "outputs": [
    {
     "name": "stdout",
     "output_type": "stream",
     "text": [
      "Model 2A:\n",
      "Display Name: gcs_03_feature_engineering_2a\n",
      "Name: gcs_03_feature_engineering_2a\n",
      "Resource Name: projects/1026793852137/locations/us-central1/models/gcs_03_feature_engineering_2a\n"
     ]
    }
   ],
   "source": [
    "print(f\"\"\"Model 2A:\n",
    "Display Name: {vertex_model_2a_gcs.display_name}\n",
    "Name: {vertex_model_2a_gcs.name}\n",
    "Resource Name: {vertex_model_2a_gcs.resource_name}\"\"\")"
   ]
  },
  {
   "cell_type": "code",
   "execution_count": 429,
   "id": "fb1a0282-c744-4afa-8cb1-6489e0c8fb0f",
   "metadata": {},
   "outputs": [
    {
     "name": "stdout",
     "output_type": "stream",
     "text": [
      "Model 2b:\n",
      "Display Name: gcs_03_feature_engineering_2b\n",
      "Name: gcs_03_feature_engineering_2b\n",
      "Resource Name: projects/1026793852137/locations/us-central1/models/gcs_03_feature_engineering_2b\n"
     ]
    }
   ],
   "source": [
    "print(f\"\"\"Model 2b:\n",
    "Display Name: {vertex_model_2b_gcs.display_name}\n",
    "Name: {vertex_model_2b_gcs.name}\n",
    "Resource Name: {vertex_model_2b_gcs.resource_name}\"\"\")"
   ]
  },
  {
   "cell_type": "code",
   "execution_count": 430,
   "id": "83dfd1ae-8f38-4550-96a5-a49c3b979348",
   "metadata": {},
   "outputs": [
    {
     "name": "stdout",
     "output_type": "stream",
     "text": [
      "View the models in the Vertex AI Console:\n",
      "https://console.cloud.google.com/vertex-ai/models?project=statmike-mlops-349915\n"
     ]
    }
   ],
   "source": [
    "print(f\"View the models in the Vertex AI Console:\\nhttps://console.cloud.google.com/vertex-ai/models?project={PROJECT_ID}\")"
   ]
  },
  {
   "cell_type": "markdown",
   "id": "d300367f-c8a2-40f5-9bcc-ef85a8692e26",
   "metadata": {},
   "source": [
    "#### Register Preprocessing Models 2a and 2b"
   ]
  },
  {
   "cell_type": "code",
   "execution_count": 436,
   "id": "d5f2c9de-db8f-4940-a379-dd8f3c4c068e",
   "metadata": {},
   "outputs": [
    {
     "name": "stdout",
     "output_type": "stream",
     "text": [
      "Creating Model\n",
      "Create Model backing LRO: projects/1026793852137/locations/us-central1/models/gcs_03_feature_engineering_2a_preprocess/operations/4022709319106560000\n",
      "Model created. Resource name: projects/1026793852137/locations/us-central1/models/gcs_03_feature_engineering_2a_preprocess@1\n",
      "To use this Model in another session:\n",
      "model = aiplatform.Model('projects/1026793852137/locations/us-central1/models/gcs_03_feature_engineering_2a_preprocess@1')\n"
     ]
    }
   ],
   "source": [
    "vertex_model_2a_gcs_preprocess = aiplatform.Model.upload(\n",
    "    display_name = f'gcs_{SERIES}_{EXPERIMENT}_2a_preprocess',\n",
    "    model_id = f'gcs_{SERIES}_{EXPERIMENT}_2a_preprocess',\n",
    "    serving_container_image_uri = 'us-docker.pkg.dev/vertex-ai/prediction/tf2-cpu.2-10:latest',\n",
    "    artifact_uri = f\"gs://{BUCKET}/{SERIES}/2a/model/transform\",\n",
    "    is_default_version = True,\n",
    "    labels = {'series' : f'{SERIES}', 'experiment' : f'{EXPERIMENT}'}\n",
    ") "
   ]
  },
  {
   "cell_type": "code",
   "execution_count": 437,
   "id": "5f47c22f-39ef-45e3-889e-efbaa193fb74",
   "metadata": {},
   "outputs": [
    {
     "name": "stdout",
     "output_type": "stream",
     "text": [
      "Creating Model\n",
      "Create Model backing LRO: projects/1026793852137/locations/us-central1/models/gcs_03_feature_engineering_2b_preprocess/operations/6939915977735798784\n",
      "Model created. Resource name: projects/1026793852137/locations/us-central1/models/gcs_03_feature_engineering_2b_preprocess@1\n",
      "To use this Model in another session:\n",
      "model = aiplatform.Model('projects/1026793852137/locations/us-central1/models/gcs_03_feature_engineering_2b_preprocess@1')\n"
     ]
    }
   ],
   "source": [
    "vertex_model_2b_gcs_preprocess = aiplatform.Model.upload(\n",
    "    display_name = f'gcs_{SERIES}_{EXPERIMENT}_2b_preprocess',\n",
    "    model_id = f'gcs_{SERIES}_{EXPERIMENT}_2b_preprocess',\n",
    "    serving_container_image_uri = 'us-docker.pkg.dev/vertex-ai/prediction/tf2-cpu.2-10:latest',\n",
    "    artifact_uri = f\"gs://{BUCKET}/{SERIES}/2b/model/transform\",\n",
    "    is_default_version = True,\n",
    "    labels = {'series' : f'{SERIES}', 'experiment' : f'{EXPERIMENT}'}\n",
    ")"
   ]
  },
  {
   "cell_type": "code",
   "execution_count": 438,
   "id": "4ae48f87-759f-4995-8219-09371f89e14e",
   "metadata": {},
   "outputs": [
    {
     "name": "stdout",
     "output_type": "stream",
     "text": [
      "Model 2A Preprocessing:\n",
      "Display Name: gcs_03_feature_engineering_2a_preprocess\n",
      "Name: gcs_03_feature_engineering_2a_preprocess\n",
      "Resource Name: projects/1026793852137/locations/us-central1/models/gcs_03_feature_engineering_2a_preprocess\n"
     ]
    }
   ],
   "source": [
    "print(f\"\"\"Model 2A Preprocessing:\n",
    "Display Name: {vertex_model_2a_gcs_preprocess.display_name}\n",
    "Name: {vertex_model_2a_gcs_preprocess.name}\n",
    "Resource Name: {vertex_model_2a_gcs_preprocess.resource_name}\"\"\")"
   ]
  },
  {
   "cell_type": "code",
   "execution_count": 439,
   "id": "9b6a3e59-3647-49f5-83a4-becdd30a04ee",
   "metadata": {},
   "outputs": [
    {
     "name": "stdout",
     "output_type": "stream",
     "text": [
      "Model 2B Preprocessing:\n",
      "Display Name: gcs_03_feature_engineering_2b_preprocess\n",
      "Name: gcs_03_feature_engineering_2b\n",
      "Resource Name: projects/1026793852137/locations/us-central1/models/gcs_03_feature_engineering_2b_preprocess\n"
     ]
    }
   ],
   "source": [
    "print(f\"\"\"Model 2B Preprocessing:\n",
    "Display Name: {vertex_model_2b_gcs_preprocess.display_name}\n",
    "Name: {vertex_model_2b_gcs.name}\n",
    "Resource Name: {vertex_model_2b_gcs_preprocess.resource_name}\"\"\")"
   ]
  },
  {
   "cell_type": "code",
   "execution_count": 440,
   "id": "7f8bbbfe-f451-4389-aed5-6945c4e57617",
   "metadata": {},
   "outputs": [
    {
     "name": "stdout",
     "output_type": "stream",
     "text": [
      "View the models in the Vertex AI Console:\n",
      "https://console.cloud.google.com/vertex-ai/models?project=statmike-mlops-349915\n"
     ]
    }
   ],
   "source": [
    "print(f\"View the models in the Vertex AI Console:\\nhttps://console.cloud.google.com/vertex-ai/models?project={PROJECT_ID}\")"
   ]
  },
  {
   "cell_type": "markdown",
   "id": "3bada8c1-17e6-4d5f-a89c-aab19c1a64ec",
   "metadata": {},
   "source": [
    "### Step 5: Create Vertex AI Prediction endpoints\n",
    "\n",
    "This example will create four endpoints for demonstration purposes: one for each model and each preprocessing model"
   ]
  },
  {
   "cell_type": "code",
   "execution_count": 441,
   "id": "34148c1d-5ccf-4bfa-a4ce-87f0f98e3255",
   "metadata": {},
   "outputs": [
    {
     "name": "stdout",
     "output_type": "stream",
     "text": [
      "Creating Endpoint\n",
      "Create Endpoint backing LRO: projects/1026793852137/locations/us-central1/endpoints/8238020502367502336/operations/3006021703227670528\n",
      "Endpoint created. Resource name: projects/1026793852137/locations/us-central1/endpoints/8238020502367502336\n",
      "To use this Endpoint in another session:\n",
      "endpoint = aiplatform.Endpoint('projects/1026793852137/locations/us-central1/endpoints/8238020502367502336')\n",
      "Endpoint Created: 03_feature_engineering_manual_2b\n",
      "Creating Endpoint\n",
      "Create Endpoint backing LRO: projects/1026793852137/locations/us-central1/endpoints/85097801943351296/operations/292602927736946688\n",
      "Endpoint created. Resource name: projects/1026793852137/locations/us-central1/endpoints/85097801943351296\n",
      "To use this Endpoint in another session:\n",
      "endpoint = aiplatform.Endpoint('projects/1026793852137/locations/us-central1/endpoints/85097801943351296')\n",
      "Endpoint Created: 03_feature_engineering_manual_2a_preprocess\n",
      "Creating Endpoint\n",
      "Create Endpoint backing LRO: projects/1026793852137/locations/us-central1/endpoints/4357606473434398720/operations/4576652073273131008\n",
      "Endpoint created. Resource name: projects/1026793852137/locations/us-central1/endpoints/4357606473434398720\n",
      "To use this Endpoint in another session:\n",
      "endpoint = aiplatform.Endpoint('projects/1026793852137/locations/us-central1/endpoints/4357606473434398720')\n",
      "Endpoint Created: 03_feature_engineering_manual_2b_preprocess\n"
     ]
    }
   ],
   "source": [
    "# For model 2a\n",
    "if not aiplatform.Endpoint.list(filter = f\"display_name={SERIES}_{EXPERIMENT}_manual_2a\"):\n",
    "    endpoint_manual_2a = aiplatform.Endpoint.create(\n",
    "        display_name = f\"{SERIES}_{EXPERIMENT}_manual_2a\",\n",
    "        labels = {'series' : f\"{SERIES}\"}\n",
    "    )\n",
    "    print(f\"Endpoint Created: {endpoint_manual_2a.display_name}\")\n",
    "else: endpoint_manual_2a = aiplatform.Endpoint.list(filter = f\"display_name={SERIES}_{EXPERIMENT}_manual_2a\")[0]\n",
    "\n",
    "# For model 2b\n",
    "if not aiplatform.Endpoint.list(filter = f\"display_name={SERIES}_{EXPERIMENT}_manual_2b\"):\n",
    "    endpoint_manual_2b = aiplatform.Endpoint.create(\n",
    "        display_name = f\"{SERIES}_{EXPERIMENT}_manual_2b\",\n",
    "        labels = {'series' : f\"{SERIES}\"}\n",
    "    )\n",
    "    print(f\"Endpoint Created: {endpoint_manual_2b.display_name}\")\n",
    "else: endpoint_manual_2b = aiplatform.Endpoint.list(filter = f\"display_name={SERIES}_{EXPERIMENT}_manual_2b\")[0]\n",
    "    \n",
    "# For model 2a preprocessing\n",
    "if not aiplatform.Endpoint.list(filter = f\"display_name={SERIES}_{EXPERIMENT}_manual_2a_preprocess\"):\n",
    "    endpoint_manual_2a_preprocess = aiplatform.Endpoint.create(\n",
    "        display_name = f\"{SERIES}_{EXPERIMENT}_manual_2a_preprocess\",\n",
    "        labels = {'series' : f\"{SERIES}\"}\n",
    "    )\n",
    "    print(f\"Endpoint Created: {endpoint_manual_2a_preprocess.display_name}\")\n",
    "else: endpoint_manual_2a_preprocess = aiplatform.Endpoint.list(filter = f\"display_name={SERIES}_{EXPERIMENT}_manual_2a_preprocess\")[0]\n",
    "    \n",
    "# For model 2b prerpocessing\n",
    "if not aiplatform.Endpoint.list(filter = f\"display_name={SERIES}_{EXPERIMENT}_manual_2b_preprocess\"):\n",
    "    endpoint_manual_2b_preprocess = aiplatform.Endpoint.create(\n",
    "        display_name = f\"{SERIES}_{EXPERIMENT}_manual_2b_preprocess\",\n",
    "        labels = {'series' : f\"{SERIES}\"}\n",
    "    )\n",
    "    print(f\"Endpoint Created: {endpoint_manual_2b_preprocess.display_name}\")\n",
    "else: endpoint_manual_2b_preprocess = aiplatform.Endpoint.list(filter = f\"display_name={SERIES}_{EXPERIMENT}_manual_2b_preprocess\")[0]"
   ]
  },
  {
   "cell_type": "code",
   "execution_count": 442,
   "id": "f004deeb-7d45-45c2-8742-029dccc06d5b",
   "metadata": {},
   "outputs": [
    {
     "name": "stdout",
     "output_type": "stream",
     "text": [
      "Review the Endpoints in the Console:\n",
      "https://console.cloud.google.com/vertex-ai/endpoints?project=statmike-mlops-349915&region=us-central1\n"
     ]
    }
   ],
   "source": [
    "print(f'Review the Endpoints in the Console:\\nhttps://console.cloud.google.com/vertex-ai/endpoints?project={PROJECT_ID}&region={REGION}')"
   ]
  },
  {
   "cell_type": "markdown",
   "id": "437ded12-486b-4f99-b3e5-208f658e6311",
   "metadata": {},
   "source": [
    "### Step 6: Deploy models to endpoints"
   ]
  },
  {
   "cell_type": "markdown",
   "id": "e09ba563-6009-42b9-9452-d17dd8f0a4b0",
   "metadata": {},
   "source": [
    "#### Deploy Models 2a And 2b"
   ]
  },
  {
   "cell_type": "code",
   "execution_count": 443,
   "id": "6d3da258-4213-4ef6-9f01-cb6071603122",
   "metadata": {},
   "outputs": [
    {
     "name": "stdout",
     "output_type": "stream",
     "text": [
      "Deploying Model projects/1026793852137/locations/us-central1/models/gcs_03_feature_engineering_2a to Endpoint : projects/1026793852137/locations/us-central1/endpoints/4530150634158030848\n",
      "Deploy Endpoint model backing LRO: projects/1026793852137/locations/us-central1/endpoints/4530150634158030848/operations/2987444354764767232\n",
      "Endpoint model deployed. Resource name: projects/1026793852137/locations/us-central1/endpoints/4530150634158030848\n"
     ]
    }
   ],
   "source": [
    "endpoint_manual_2a.deploy(\n",
    "    model = vertex_model_2a_gcs,\n",
    "    deployed_model_display_name = vertex_model_2a_gcs.display_name,\n",
    "    traffic_percentage = 100,\n",
    "    machine_type = 'n1-standard-2',\n",
    "    min_replica_count = 1,\n",
    "    max_replica_count = 1\n",
    ")"
   ]
  },
  {
   "cell_type": "code",
   "execution_count": 444,
   "id": "f0817836-b241-4757-9c6b-34b3f8f236ef",
   "metadata": {},
   "outputs": [
    {
     "name": "stdout",
     "output_type": "stream",
     "text": [
      "Deploying Model projects/1026793852137/locations/us-central1/models/gcs_03_feature_engineering_2b to Endpoint : projects/1026793852137/locations/us-central1/endpoints/8238020502367502336\n",
      "Deploy Endpoint model backing LRO: projects/1026793852137/locations/us-central1/endpoints/8238020502367502336/operations/5802757071824748544\n",
      "Endpoint model deployed. Resource name: projects/1026793852137/locations/us-central1/endpoints/8238020502367502336\n"
     ]
    }
   ],
   "source": [
    "endpoint_manual_2b.deploy(\n",
    "    model = vertex_model_2b_gcs,\n",
    "    deployed_model_display_name = vertex_model_2b_gcs.display_name,\n",
    "    traffic_percentage = 100,\n",
    "    machine_type = 'n1-standard-2',\n",
    "    min_replica_count = 1,\n",
    "    max_replica_count = 1\n",
    ")"
   ]
  },
  {
   "cell_type": "markdown",
   "id": "dd621de5-c263-4e48-bb07-38bf8efe79e1",
   "metadata": {},
   "source": [
    "#### Deploy Preprocessing From Model 2a And 2b"
   ]
  },
  {
   "cell_type": "code",
   "execution_count": 445,
   "id": "34842461-28b4-4e2a-af07-edd06f6f6f90",
   "metadata": {},
   "outputs": [
    {
     "name": "stdout",
     "output_type": "stream",
     "text": [
      "Deploying Model projects/1026793852137/locations/us-central1/models/gcs_03_feature_engineering_2a_preprocess to Endpoint : projects/1026793852137/locations/us-central1/endpoints/85097801943351296\n",
      "Deploy Endpoint model backing LRO: projects/1026793852137/locations/us-central1/endpoints/85097801943351296/operations/8653535635950272512\n",
      "Endpoint model deployed. Resource name: projects/1026793852137/locations/us-central1/endpoints/85097801943351296\n"
     ]
    }
   ],
   "source": [
    "endpoint_manual_2a_preprocess.deploy(\n",
    "    model = vertex_model_2a_gcs_preprocess,\n",
    "    deployed_model_display_name = vertex_model_2a_gcs_preprocess.display_name,\n",
    "    traffic_percentage = 100,\n",
    "    machine_type = 'n1-standard-2',\n",
    "    min_replica_count = 1,\n",
    "    max_replica_count = 1\n",
    ")"
   ]
  },
  {
   "cell_type": "code",
   "execution_count": 446,
   "id": "588afb93-2bf4-45bf-b036-aee34bb40f64",
   "metadata": {},
   "outputs": [
    {
     "name": "stdout",
     "output_type": "stream",
     "text": [
      "Deploying Model projects/1026793852137/locations/us-central1/models/gcs_03_feature_engineering_2b_preprocess to Endpoint : projects/1026793852137/locations/us-central1/endpoints/4357606473434398720\n",
      "Deploy Endpoint model backing LRO: projects/1026793852137/locations/us-central1/endpoints/4357606473434398720/operations/3516617310980800512\n",
      "Endpoint model deployed. Resource name: projects/1026793852137/locations/us-central1/endpoints/4357606473434398720\n"
     ]
    }
   ],
   "source": [
    "endpoint_manual_2b_preprocess.deploy(\n",
    "    model = vertex_model_2b_gcs_preprocess,\n",
    "    deployed_model_display_name = vertex_model_2b_gcs_preprocess.display_name,\n",
    "    traffic_percentage = 100,\n",
    "    machine_type = 'n1-standard-2',\n",
    "    min_replica_count = 1,\n",
    "    max_replica_count = 1\n",
    ")"
   ]
  },
  {
   "cell_type": "markdown",
   "id": "6e0bc6eb-0dab-421c-9a5e-a639e4696119",
   "metadata": {},
   "source": [
    "---\n",
    "## Step 7: Request predictions from Endpoints"
   ]
  },
  {
   "cell_type": "markdown",
   "id": "b7fcdbe4-ea3f-49cb-90d2-49573f59b061",
   "metadata": {},
   "source": [
    "### Retrieve Records For Prediction\n",
    "Retrieve the first 10 recipes from the training data."
   ]
  },
  {
   "cell_type": "code",
   "execution_count": 453,
   "id": "35788642-edb3-4322-b93a-32e8fa2be145",
   "metadata": {},
   "outputs": [],
   "source": [
    "n = 10\n",
    "pred = bq.query(\n",
    "    query = f\"\"\"\n",
    "        SELECT * EXCEPT(JUDGE_B)\n",
    "        FROM {BQ_PROJECT}.{BQ_DATASET}.{BQ_TABLE}\n",
    "        WHERE Recipe <= 10\n",
    "        ORDER BY Recipe\n",
    "    \"\"\"\n",
    ").to_dataframe()"
   ]
  },
  {
   "cell_type": "code",
   "execution_count": 454,
   "id": "bd13fc69-8b04-4b23-86eb-9fd76103054a",
   "metadata": {},
   "outputs": [
    {
     "data": {
      "text/html": [
       "<div>\n",
       "<style scoped>\n",
       "    .dataframe tbody tr th:only-of-type {\n",
       "        vertical-align: middle;\n",
       "    }\n",
       "\n",
       "    .dataframe tbody tr th {\n",
       "        vertical-align: top;\n",
       "    }\n",
       "\n",
       "    .dataframe thead th {\n",
       "        text-align: right;\n",
       "    }\n",
       "</style>\n",
       "<table border=\"1\" class=\"dataframe\">\n",
       "  <thead>\n",
       "    <tr style=\"text-align: right;\">\n",
       "      <th></th>\n",
       "      <th>Recipe</th>\n",
       "      <th>flourAmt</th>\n",
       "      <th>saltAmt</th>\n",
       "      <th>yeastAmt</th>\n",
       "      <th>mix1Time</th>\n",
       "      <th>mix1Speed</th>\n",
       "      <th>mix2Time</th>\n",
       "      <th>mix2Speed</th>\n",
       "      <th>water1Amt</th>\n",
       "      <th>water2Amt</th>\n",
       "      <th>waterTemp</th>\n",
       "      <th>proveTime</th>\n",
       "      <th>restTime</th>\n",
       "      <th>bakeTime</th>\n",
       "      <th>bakeTemp</th>\n",
       "      <th>ambTemp</th>\n",
       "      <th>ambHumidity</th>\n",
       "      <th>JUDGE_A</th>\n",
       "    </tr>\n",
       "  </thead>\n",
       "  <tbody>\n",
       "    <tr>\n",
       "      <th>0</th>\n",
       "      <td>1</td>\n",
       "      <td>511.216954</td>\n",
       "      <td>9</td>\n",
       "      <td>11</td>\n",
       "      <td>6</td>\n",
       "      <td>4</td>\n",
       "      <td>5</td>\n",
       "      <td>4</td>\n",
       "      <td>338.398918</td>\n",
       "      <td>105.439552</td>\n",
       "      <td>48</td>\n",
       "      <td>92.277551</td>\n",
       "      <td>43</td>\n",
       "      <td>29</td>\n",
       "      <td>462.140285</td>\n",
       "      <td>38.205729</td>\n",
       "      <td>63.778364</td>\n",
       "      <td>41.0</td>\n",
       "    </tr>\n",
       "    <tr>\n",
       "      <th>1</th>\n",
       "      <td>2</td>\n",
       "      <td>504.027379</td>\n",
       "      <td>12</td>\n",
       "      <td>11</td>\n",
       "      <td>7</td>\n",
       "      <td>2</td>\n",
       "      <td>4</td>\n",
       "      <td>4</td>\n",
       "      <td>368.983414</td>\n",
       "      <td>109.383889</td>\n",
       "      <td>47</td>\n",
       "      <td>107.171485</td>\n",
       "      <td>45</td>\n",
       "      <td>28</td>\n",
       "      <td>415.312146</td>\n",
       "      <td>69.999552</td>\n",
       "      <td>46.117891</td>\n",
       "      <td>75.0</td>\n",
       "    </tr>\n",
       "    <tr>\n",
       "      <th>2</th>\n",
       "      <td>3</td>\n",
       "      <td>506.413722</td>\n",
       "      <td>10</td>\n",
       "      <td>11</td>\n",
       "      <td>4</td>\n",
       "      <td>3</td>\n",
       "      <td>8</td>\n",
       "      <td>4</td>\n",
       "      <td>343.204086</td>\n",
       "      <td>115.693323</td>\n",
       "      <td>42</td>\n",
       "      <td>99.872264</td>\n",
       "      <td>35</td>\n",
       "      <td>24</td>\n",
       "      <td>405.124881</td>\n",
       "      <td>45.326810</td>\n",
       "      <td>43.961578</td>\n",
       "      <td>75.0</td>\n",
       "    </tr>\n",
       "    <tr>\n",
       "      <th>3</th>\n",
       "      <td>4</td>\n",
       "      <td>507.602584</td>\n",
       "      <td>9</td>\n",
       "      <td>9</td>\n",
       "      <td>3</td>\n",
       "      <td>4</td>\n",
       "      <td>7</td>\n",
       "      <td>5</td>\n",
       "      <td>343.275109</td>\n",
       "      <td>108.322366</td>\n",
       "      <td>42</td>\n",
       "      <td>102.966628</td>\n",
       "      <td>44</td>\n",
       "      <td>22</td>\n",
       "      <td>435.755052</td>\n",
       "      <td>42.543597</td>\n",
       "      <td>40.270958</td>\n",
       "      <td>78.0</td>\n",
       "    </tr>\n",
       "    <tr>\n",
       "      <th>4</th>\n",
       "      <td>5</td>\n",
       "      <td>486.277476</td>\n",
       "      <td>11</td>\n",
       "      <td>12</td>\n",
       "      <td>5</td>\n",
       "      <td>3</td>\n",
       "      <td>8</td>\n",
       "      <td>5</td>\n",
       "      <td>347.715464</td>\n",
       "      <td>90.759381</td>\n",
       "      <td>43</td>\n",
       "      <td>100.725626</td>\n",
       "      <td>43</td>\n",
       "      <td>25</td>\n",
       "      <td>421.587535</td>\n",
       "      <td>53.086075</td>\n",
       "      <td>54.744809</td>\n",
       "      <td>82.0</td>\n",
       "    </tr>\n",
       "    <tr>\n",
       "      <th>5</th>\n",
       "      <td>6</td>\n",
       "      <td>500.812862</td>\n",
       "      <td>11</td>\n",
       "      <td>11</td>\n",
       "      <td>3</td>\n",
       "      <td>2</td>\n",
       "      <td>5</td>\n",
       "      <td>5</td>\n",
       "      <td>346.318863</td>\n",
       "      <td>124.672542</td>\n",
       "      <td>45</td>\n",
       "      <td>109.903886</td>\n",
       "      <td>36</td>\n",
       "      <td>24</td>\n",
       "      <td>416.540411</td>\n",
       "      <td>51.267701</td>\n",
       "      <td>35.815610</td>\n",
       "      <td>79.0</td>\n",
       "    </tr>\n",
       "    <tr>\n",
       "      <th>6</th>\n",
       "      <td>7</td>\n",
       "      <td>502.851477</td>\n",
       "      <td>12</td>\n",
       "      <td>12</td>\n",
       "      <td>6</td>\n",
       "      <td>3</td>\n",
       "      <td>7</td>\n",
       "      <td>5</td>\n",
       "      <td>352.255800</td>\n",
       "      <td>139.302933</td>\n",
       "      <td>42</td>\n",
       "      <td>101.408681</td>\n",
       "      <td>36</td>\n",
       "      <td>23</td>\n",
       "      <td>428.752728</td>\n",
       "      <td>57.342281</td>\n",
       "      <td>44.121910</td>\n",
       "      <td>75.0</td>\n",
       "    </tr>\n",
       "    <tr>\n",
       "      <th>7</th>\n",
       "      <td>8</td>\n",
       "      <td>520.064115</td>\n",
       "      <td>8</td>\n",
       "      <td>9</td>\n",
       "      <td>4</td>\n",
       "      <td>4</td>\n",
       "      <td>5</td>\n",
       "      <td>4</td>\n",
       "      <td>336.043833</td>\n",
       "      <td>127.303650</td>\n",
       "      <td>44</td>\n",
       "      <td>106.827472</td>\n",
       "      <td>38</td>\n",
       "      <td>27</td>\n",
       "      <td>423.945867</td>\n",
       "      <td>42.812792</td>\n",
       "      <td>46.539498</td>\n",
       "      <td>80.0</td>\n",
       "    </tr>\n",
       "    <tr>\n",
       "      <th>8</th>\n",
       "      <td>9</td>\n",
       "      <td>506.150124</td>\n",
       "      <td>12</td>\n",
       "      <td>11</td>\n",
       "      <td>5</td>\n",
       "      <td>5</td>\n",
       "      <td>6</td>\n",
       "      <td>6</td>\n",
       "      <td>325.747781</td>\n",
       "      <td>125.086484</td>\n",
       "      <td>41</td>\n",
       "      <td>100.957520</td>\n",
       "      <td>40</td>\n",
       "      <td>23</td>\n",
       "      <td>413.192045</td>\n",
       "      <td>54.195141</td>\n",
       "      <td>40.067980</td>\n",
       "      <td>80.0</td>\n",
       "    </tr>\n",
       "    <tr>\n",
       "      <th>9</th>\n",
       "      <td>10</td>\n",
       "      <td>513.812340</td>\n",
       "      <td>11</td>\n",
       "      <td>9</td>\n",
       "      <td>8</td>\n",
       "      <td>3</td>\n",
       "      <td>6</td>\n",
       "      <td>4</td>\n",
       "      <td>339.673230</td>\n",
       "      <td>151.097931</td>\n",
       "      <td>46</td>\n",
       "      <td>102.585934</td>\n",
       "      <td>35</td>\n",
       "      <td>23</td>\n",
       "      <td>428.643665</td>\n",
       "      <td>55.011774</td>\n",
       "      <td>60.119775</td>\n",
       "      <td>68.0</td>\n",
       "    </tr>\n",
       "  </tbody>\n",
       "</table>\n",
       "</div>"
      ],
      "text/plain": [
       "   Recipe    flourAmt  saltAmt  yeastAmt  mix1Time  mix1Speed  mix2Time  \\\n",
       "0       1  511.216954        9        11         6          4         5   \n",
       "1       2  504.027379       12        11         7          2         4   \n",
       "2       3  506.413722       10        11         4          3         8   \n",
       "3       4  507.602584        9         9         3          4         7   \n",
       "4       5  486.277476       11        12         5          3         8   \n",
       "5       6  500.812862       11        11         3          2         5   \n",
       "6       7  502.851477       12        12         6          3         7   \n",
       "7       8  520.064115        8         9         4          4         5   \n",
       "8       9  506.150124       12        11         5          5         6   \n",
       "9      10  513.812340       11         9         8          3         6   \n",
       "\n",
       "   mix2Speed   water1Amt   water2Amt  waterTemp   proveTime  restTime  \\\n",
       "0          4  338.398918  105.439552         48   92.277551        43   \n",
       "1          4  368.983414  109.383889         47  107.171485        45   \n",
       "2          4  343.204086  115.693323         42   99.872264        35   \n",
       "3          5  343.275109  108.322366         42  102.966628        44   \n",
       "4          5  347.715464   90.759381         43  100.725626        43   \n",
       "5          5  346.318863  124.672542         45  109.903886        36   \n",
       "6          5  352.255800  139.302933         42  101.408681        36   \n",
       "7          4  336.043833  127.303650         44  106.827472        38   \n",
       "8          6  325.747781  125.086484         41  100.957520        40   \n",
       "9          4  339.673230  151.097931         46  102.585934        35   \n",
       "\n",
       "   bakeTime    bakeTemp    ambTemp  ambHumidity  JUDGE_A  \n",
       "0        29  462.140285  38.205729    63.778364     41.0  \n",
       "1        28  415.312146  69.999552    46.117891     75.0  \n",
       "2        24  405.124881  45.326810    43.961578     75.0  \n",
       "3        22  435.755052  42.543597    40.270958     78.0  \n",
       "4        25  421.587535  53.086075    54.744809     82.0  \n",
       "5        24  416.540411  51.267701    35.815610     79.0  \n",
       "6        23  428.752728  57.342281    44.121910     75.0  \n",
       "7        27  423.945867  42.812792    46.539498     80.0  \n",
       "8        23  413.192045  54.195141    40.067980     80.0  \n",
       "9        23  428.643665  55.011774    60.119775     68.0  "
      ]
     },
     "execution_count": 454,
     "metadata": {},
     "output_type": "execute_result"
    }
   ],
   "source": [
    "pred"
   ]
  },
  {
   "cell_type": "markdown",
   "id": "442a5c05-df59-4684-99dd-9d3359f56086",
   "metadata": {},
   "source": [
    "Shape as instances: dictionaries of key:value pairs for only features used in model"
   ]
  },
  {
   "cell_type": "code",
   "execution_count": 455,
   "id": "f0d5868a-c1f1-4294-b857-e97179ce0deb",
   "metadata": {},
   "outputs": [],
   "source": [
    "newobs = pred[pred.columns[~pred.columns.isin(['JUDGE_A', 'Recipe'])]].to_dict(orient='records')"
   ]
  },
  {
   "cell_type": "code",
   "execution_count": 456,
   "id": "fd96049e-482e-43cf-8087-94b19a7bede1",
   "metadata": {},
   "outputs": [
    {
     "data": {
      "text/plain": [
       "{'flourAmt': 511.21695405324624,\n",
       " 'saltAmt': 9,\n",
       " 'yeastAmt': 11,\n",
       " 'mix1Time': 6,\n",
       " 'mix1Speed': 4,\n",
       " 'mix2Time': 5,\n",
       " 'mix2Speed': 4,\n",
       " 'water1Amt': 338.3989183746999,\n",
       " 'water2Amt': 105.43955159464981,\n",
       " 'waterTemp': 48,\n",
       " 'proveTime': 92.27755071811586,\n",
       " 'restTime': 43,\n",
       " 'bakeTime': 29,\n",
       " 'bakeTemp': 462.14028505497805,\n",
       " 'ambTemp': 38.20572852497746,\n",
       " 'ambHumidity': 63.77836403396154}"
      ]
     },
     "execution_count": 456,
     "metadata": {},
     "output_type": "execute_result"
    }
   ],
   "source": [
    "newobs[0]"
   ]
  },
  {
   "cell_type": "code",
   "execution_count": 457,
   "id": "2b908fcc-0b73-4373-858d-d0856caa722c",
   "metadata": {},
   "outputs": [],
   "source": [
    "instances = [json_format.ParseDict(newob, Value()) for newob in newobs]"
   ]
  },
  {
   "cell_type": "code",
   "execution_count": 458,
   "id": "aebd462f-351e-4d49-adcf-080cfe80fe49",
   "metadata": {},
   "outputs": [
    {
     "data": {
      "text/plain": [
       "10"
      ]
     },
     "execution_count": 458,
     "metadata": {},
     "output_type": "execute_result"
    }
   ],
   "source": [
    "len(instances)"
   ]
  },
  {
   "cell_type": "markdown",
   "id": "2368f782-d5e8-45cf-ab70-6973389a8f03",
   "metadata": {},
   "source": [
    "### Get Predictions: Python Client\n",
    "\n",
    "There is a preprocessing model for each of the manual preprocessing models built: 2a and 2b.  The preprocessing was the same for each because they had identical TRANSFORM statements.  Passing the instances to each preprocessing model for prediction should result in the same scaled/transformed values:\n"
   ]
  },
  {
   "cell_type": "code",
   "execution_count": 459,
   "id": "573f2fbf-fba2-4572-982c-0d2a4d773f47",
   "metadata": {},
   "outputs": [
    {
     "data": {
      "text/plain": [
       "{'scale_bakeTemp': 1.90657115372507,\n",
       " 'scale_proveTime': -1.535817620710898,\n",
       " 'scale_restTime': 0.9555555555555556,\n",
       " 'scale_mix2Time': -0.5,\n",
       " 'scale_water1Amt': 0.448457437704026,\n",
       " 'scale_waterTemp': 1.015032560821968,\n",
       " 'scale_mix2Speed': -1.0,\n",
       " 'scale_bakeTime': 0.9666666666666667,\n",
       " 'scale_mix1Speed': 1.0,\n",
       " 'scale_ambTemp': 0.2364165734793671,\n",
       " 'scale_ambHumidity': 0.7735248804627386,\n",
       " 'scale_yeastAmt': 0.9166666666666666,\n",
       " 'scale_saltAmt': -0.5,\n",
       " 'scale_mix1Time': 0.5,\n",
       " 'scale_flourAmt': 0.6970273902814542,\n",
       " 'scale_water2Amt': -0.2477231663720853}"
      ]
     },
     "execution_count": 459,
     "metadata": {},
     "output_type": "execute_result"
    }
   ],
   "source": [
    "model_2a_preprocess = endpoint_manual_2a_preprocess.predict(instances = instances)\n",
    "model_2a_preprocess.predictions[0]"
   ]
  },
  {
   "cell_type": "code",
   "execution_count": 460,
   "id": "69223666-2042-41e1-a97f-5ea357da3ac6",
   "metadata": {},
   "outputs": [
    {
     "data": {
      "text/plain": [
       "{'scale_yeastAmt': 0.9166666666666666,\n",
       " 'scale_bakeTemp': 1.90657115372507,\n",
       " 'scale_saltAmt': -0.5,\n",
       " 'scale_ambHumidity': 0.7735248804627386,\n",
       " 'scale_mix2Time': -0.5,\n",
       " 'scale_bakeTime': 0.9666666666666667,\n",
       " 'scale_ambTemp': 0.2364165734793671,\n",
       " 'scale_mix1Time': 0.5,\n",
       " 'scale_restTime': 0.9555555555555556,\n",
       " 'scale_water1Amt': 0.448457437704026,\n",
       " 'scale_mix2Speed': -1.0,\n",
       " 'scale_water2Amt': -0.2477231663720853,\n",
       " 'scale_flourAmt': 0.6970273902814542,\n",
       " 'scale_proveTime': -1.535817620710898,\n",
       " 'scale_waterTemp': 1.015032560821968,\n",
       " 'scale_mix1Speed': 1.0}"
      ]
     },
     "execution_count": 460,
     "metadata": {},
     "output_type": "execute_result"
    }
   ],
   "source": [
    "model_2b_preprocess = endpoint_manual_2b_preprocess.predict(instances = instances)\n",
    "model_2b_preprocess.predictions[0]"
   ]
  },
  {
   "cell_type": "markdown",
   "id": "52caf6b1-82f0-40d4-900e-7526a57b3d90",
   "metadata": {},
   "source": [
    "Both preprocessing model created idential output!\n",
    "\n",
    "Now, pass the preprocessed values on to the models for prediction."
   ]
  },
  {
   "cell_type": "markdown",
   "id": "5556721d-7c00-4abe-b813-acec123aae17",
   "metadata": {},
   "source": [
    "### Prediction Using Model 2a:\n",
    "This was a linear regression in BQML which is exported as a Tensorflow SavedModel ([detail here](https://cloud.google.com/bigquery-ml/docs/exporting-models)).  Pass the output of preprocessing on to the model for prediction: "
   ]
  },
  {
   "cell_type": "code",
   "execution_count": 461,
   "id": "71bb5afc-d26c-4aea-b3e4-eb9e2bd46a2e",
   "metadata": {},
   "outputs": [
    {
     "data": {
      "text/plain": [
       "[[68.76770643294199],\n",
       " [76.20049625422565],\n",
       " [80.88225168543201],\n",
       " [74.38931590154438],\n",
       " [76.123198471408],\n",
       " [75.7611068144391],\n",
       " [74.04670094774481],\n",
       " [76.90158954269276],\n",
       " [75.36381525649375],\n",
       " [75.024318931219]]"
      ]
     },
     "execution_count": 461,
     "metadata": {},
     "output_type": "execute_result"
    }
   ],
   "source": [
    "model_2a_prediction = endpoint_manual_2a.predict(instances = model_2a_preprocess.predictions)\n",
    "model_2a_prediction.predictions"
   ]
  },
  {
   "cell_type": "markdown",
   "id": "4ba99d94-1803-447b-a838-9d2aeeea756d",
   "metadata": {},
   "source": [
    "#### Compare to BigQuery ML.PREDICT Results:"
   ]
  },
  {
   "cell_type": "code",
   "execution_count": 462,
   "id": "a4f102ce-339a-4d36-b245-b26920536211",
   "metadata": {},
   "outputs": [
    {
     "data": {
      "text/html": [
       "<div>\n",
       "<style scoped>\n",
       "    .dataframe tbody tr th:only-of-type {\n",
       "        vertical-align: middle;\n",
       "    }\n",
       "\n",
       "    .dataframe tbody tr th {\n",
       "        vertical-align: top;\n",
       "    }\n",
       "\n",
       "    .dataframe thead th {\n",
       "        text-align: right;\n",
       "    }\n",
       "</style>\n",
       "<table border=\"1\" class=\"dataframe\">\n",
       "  <thead>\n",
       "    <tr style=\"text-align: right;\">\n",
       "      <th></th>\n",
       "      <th>Recipe</th>\n",
       "      <th>JUDGE_A</th>\n",
       "      <th>predicted_JUDGE_A</th>\n",
       "      <th>Error</th>\n",
       "    </tr>\n",
       "  </thead>\n",
       "  <tbody>\n",
       "    <tr>\n",
       "      <th>0</th>\n",
       "      <td>1</td>\n",
       "      <td>41.0</td>\n",
       "      <td>68.767707</td>\n",
       "      <td>-27.767707</td>\n",
       "    </tr>\n",
       "    <tr>\n",
       "      <th>1</th>\n",
       "      <td>2</td>\n",
       "      <td>75.0</td>\n",
       "      <td>76.200496</td>\n",
       "      <td>-1.200496</td>\n",
       "    </tr>\n",
       "    <tr>\n",
       "      <th>2</th>\n",
       "      <td>3</td>\n",
       "      <td>75.0</td>\n",
       "      <td>80.882252</td>\n",
       "      <td>-5.882252</td>\n",
       "    </tr>\n",
       "    <tr>\n",
       "      <th>3</th>\n",
       "      <td>4</td>\n",
       "      <td>78.0</td>\n",
       "      <td>74.389316</td>\n",
       "      <td>3.610684</td>\n",
       "    </tr>\n",
       "    <tr>\n",
       "      <th>4</th>\n",
       "      <td>5</td>\n",
       "      <td>82.0</td>\n",
       "      <td>76.123198</td>\n",
       "      <td>5.876802</td>\n",
       "    </tr>\n",
       "    <tr>\n",
       "      <th>5</th>\n",
       "      <td>6</td>\n",
       "      <td>79.0</td>\n",
       "      <td>75.761107</td>\n",
       "      <td>3.238893</td>\n",
       "    </tr>\n",
       "    <tr>\n",
       "      <th>6</th>\n",
       "      <td>7</td>\n",
       "      <td>75.0</td>\n",
       "      <td>74.046701</td>\n",
       "      <td>0.953299</td>\n",
       "    </tr>\n",
       "    <tr>\n",
       "      <th>7</th>\n",
       "      <td>8</td>\n",
       "      <td>80.0</td>\n",
       "      <td>76.901590</td>\n",
       "      <td>3.098410</td>\n",
       "    </tr>\n",
       "    <tr>\n",
       "      <th>8</th>\n",
       "      <td>9</td>\n",
       "      <td>80.0</td>\n",
       "      <td>75.363815</td>\n",
       "      <td>4.636185</td>\n",
       "    </tr>\n",
       "    <tr>\n",
       "      <th>9</th>\n",
       "      <td>10</td>\n",
       "      <td>68.0</td>\n",
       "      <td>75.024319</td>\n",
       "      <td>-7.024319</td>\n",
       "    </tr>\n",
       "  </tbody>\n",
       "</table>\n",
       "</div>"
      ],
      "text/plain": [
       "   Recipe  JUDGE_A  predicted_JUDGE_A      Error\n",
       "0       1     41.0          68.767707 -27.767707\n",
       "1       2     75.0          76.200496  -1.200496\n",
       "2       3     75.0          80.882252  -5.882252\n",
       "3       4     78.0          74.389316   3.610684\n",
       "4       5     82.0          76.123198   5.876802\n",
       "5       6     79.0          75.761107   3.238893\n",
       "6       7     75.0          74.046701   0.953299\n",
       "7       8     80.0          76.901590   3.098410\n",
       "8       9     80.0          75.363815   4.636185\n",
       "9      10     68.0          75.024319  -7.024319"
      ]
     },
     "execution_count": 462,
     "metadata": {},
     "output_type": "execute_result"
    }
   ],
   "source": [
    "query = f\"\"\"\n",
    "    SELECT Recipe, JUDGE_A, predicted_JUDGE_A, JUDGE_A-predicted_JUDGE_A as Error\n",
    "    FROM ML.PREDICT (MODEL `{BQ_PROJECT}.{BQ_DATASET}.{BQ_MODEL_2A}`,(\n",
    "        SELECT *\n",
    "        FROM `{BQ_PROJECT}.{BQ_DATASET}.{BQ_TABLE}`\n",
    "        WHERE Recipe <= 10)\n",
    "    )\n",
    "    ORDER BY Recipe\n",
    "\"\"\"\n",
    "bq.query(query = query).to_dataframe()"
   ]
  },
  {
   "cell_type": "markdown",
   "id": "fae4c0c2-87b3-4672-b135-cd7491ac7749",
   "metadata": {},
   "source": [
    "### Prediction Using Model 2b:\n",
    "\n",
    "This was boosted tree model which is exported as a Booster file from XGBoost ([detail here](https://cloud.google.com/bigquery-ml/docs/exporting-models)).  This means the model export folder contains a subfolder named 'assets' which in turn has a 'model_metadata.json' file.  This JSON file has a list named 'feature_names' that has the expected input features by name in the order the model expects them.  This is important because the inputs are provided as a list and the order of the list must be the expected order of features. \n",
    "\n",
    "The code in the following cell will read the metadata JSON and extract the feature order:"
   ]
  },
  {
   "cell_type": "code",
   "execution_count": 463,
   "id": "9dde1ff6-0881-4c8d-bfba-82beb55245ea",
   "metadata": {},
   "outputs": [
    {
     "name": "stdout",
     "output_type": "stream",
     "text": [
      "['scale_flourAmt', 'scale_saltAmt', 'scale_yeastAmt', 'scale_water1Amt', 'scale_water2Amt', 'scale_waterTemp', 'scale_bakeTemp', 'scale_ambTemp', 'scale_ambHumidity', 'scale_mix1Time', 'scale_mix2Time', 'scale_mix1Speed', 'scale_mix2Speed', 'scale_proveTime', 'scale_restTime', 'scale_bakeTime']\n"
     ]
    }
   ],
   "source": [
    "import gcsfs\n",
    "import tensorflow as tf\n",
    "\n",
    "file = f'{aiplatform.Model(model_name = endpoint_manual_2b.list_models()[0].model).uri}/assets/model_metadata.json'\n",
    "if tf.io.gfile.exists(file):\n",
    "    gcs = gcsfs.GCSFileSystem(project = PROJECT_ID)\n",
    "    with gcs.open(file) as fp:\n",
    "        features = json.load(fp)['feature_names']\n",
    "else:\n",
    "    print('error')\n",
    "    features = list(newobs[0].keys())\n",
    "    \n",
    "print(features)"
   ]
  },
  {
   "cell_type": "markdown",
   "id": "da3abbec-2172-4573-9463-6706f575b68f",
   "metadata": {},
   "source": [
    "Setup the instances for model 2 using the list of feature names loaded above:"
   ]
  },
  {
   "cell_type": "code",
   "execution_count": 464,
   "id": "ce52c9ca-fed3-4288-aa50-16541b02796e",
   "metadata": {},
   "outputs": [
    {
     "data": {
      "text/plain": [
       "[[0.6970273902814542,\n",
       "  -0.5,\n",
       "  0.9166666666666666,\n",
       "  0.448457437704026,\n",
       "  -0.2477231663720853,\n",
       "  1.015032560821968,\n",
       "  1.90657115372507,\n",
       "  0.2364165734793671,\n",
       "  0.7735248804627386,\n",
       "  0.5,\n",
       "  -0.5,\n",
       "  1.0,\n",
       "  -1.0,\n",
       "  -1.535817620710898,\n",
       "  0.9555555555555556,\n",
       "  0.9666666666666667]]"
      ]
     },
     "execution_count": 464,
     "metadata": {},
     "output_type": "execute_result"
    }
   ],
   "source": [
    "model_2b_instances = [[instance[feature] for feature in features] for instance in model_2b_preprocess.predictions]\n",
    "model_2b_instances[0:1]"
   ]
  },
  {
   "cell_type": "markdown",
   "id": "52ef2b8f-0727-4af6-a4b9-45d0d2967d49",
   "metadata": {},
   "source": [
    "Now, pass the prepared instances (correctly ordered preprocessed features) on to model 2 for prediction:"
   ]
  },
  {
   "cell_type": "code",
   "execution_count": 465,
   "id": "15868721-cb38-4cc6-8eb3-ccaea65a65e6",
   "metadata": {},
   "outputs": [
    {
     "data": {
      "text/plain": [
       "[47.19238662719727,\n",
       " 78.30461120605469,\n",
       " 76.59922790527344,\n",
       " 77.48766326904297,\n",
       " 77.74900817871094,\n",
       " 79.5843276977539,\n",
       " 73.45801544189453,\n",
       " 78.87535858154297,\n",
       " 76.55477905273438,\n",
       " 74.80429077148438]"
      ]
     },
     "execution_count": 465,
     "metadata": {},
     "output_type": "execute_result"
    }
   ],
   "source": [
    "model_2b_prediction = endpoint_manual_2b.predict(instances = model_2b_instances)\n",
    "model_2b_prediction.predictions"
   ]
  },
  {
   "cell_type": "markdown",
   "id": "71bff26e-24e7-4b0f-bef4-9810c71b971d",
   "metadata": {},
   "source": [
    "#### Compare to BigQuery ML.PREDICT Results:"
   ]
  },
  {
   "cell_type": "code",
   "execution_count": 466,
   "id": "973dbe8f-4ea7-4e5b-95e1-2583e179a024",
   "metadata": {},
   "outputs": [
    {
     "data": {
      "text/html": [
       "<div>\n",
       "<style scoped>\n",
       "    .dataframe tbody tr th:only-of-type {\n",
       "        vertical-align: middle;\n",
       "    }\n",
       "\n",
       "    .dataframe tbody tr th {\n",
       "        vertical-align: top;\n",
       "    }\n",
       "\n",
       "    .dataframe thead th {\n",
       "        text-align: right;\n",
       "    }\n",
       "</style>\n",
       "<table border=\"1\" class=\"dataframe\">\n",
       "  <thead>\n",
       "    <tr style=\"text-align: right;\">\n",
       "      <th></th>\n",
       "      <th>Recipe</th>\n",
       "      <th>JUDGE_A</th>\n",
       "      <th>predicted_JUDGE_A</th>\n",
       "      <th>Error</th>\n",
       "    </tr>\n",
       "  </thead>\n",
       "  <tbody>\n",
       "    <tr>\n",
       "      <th>0</th>\n",
       "      <td>1</td>\n",
       "      <td>41.0</td>\n",
       "      <td>47.192387</td>\n",
       "      <td>-6.192387</td>\n",
       "    </tr>\n",
       "    <tr>\n",
       "      <th>1</th>\n",
       "      <td>2</td>\n",
       "      <td>75.0</td>\n",
       "      <td>78.304611</td>\n",
       "      <td>-3.304611</td>\n",
       "    </tr>\n",
       "    <tr>\n",
       "      <th>2</th>\n",
       "      <td>3</td>\n",
       "      <td>75.0</td>\n",
       "      <td>76.599228</td>\n",
       "      <td>-1.599228</td>\n",
       "    </tr>\n",
       "    <tr>\n",
       "      <th>3</th>\n",
       "      <td>4</td>\n",
       "      <td>78.0</td>\n",
       "      <td>77.487663</td>\n",
       "      <td>0.512337</td>\n",
       "    </tr>\n",
       "    <tr>\n",
       "      <th>4</th>\n",
       "      <td>5</td>\n",
       "      <td>82.0</td>\n",
       "      <td>77.749008</td>\n",
       "      <td>4.250992</td>\n",
       "    </tr>\n",
       "    <tr>\n",
       "      <th>5</th>\n",
       "      <td>6</td>\n",
       "      <td>79.0</td>\n",
       "      <td>79.584328</td>\n",
       "      <td>-0.584328</td>\n",
       "    </tr>\n",
       "    <tr>\n",
       "      <th>6</th>\n",
       "      <td>7</td>\n",
       "      <td>75.0</td>\n",
       "      <td>73.458015</td>\n",
       "      <td>1.541985</td>\n",
       "    </tr>\n",
       "    <tr>\n",
       "      <th>7</th>\n",
       "      <td>8</td>\n",
       "      <td>80.0</td>\n",
       "      <td>78.875359</td>\n",
       "      <td>1.124641</td>\n",
       "    </tr>\n",
       "    <tr>\n",
       "      <th>8</th>\n",
       "      <td>9</td>\n",
       "      <td>80.0</td>\n",
       "      <td>76.554764</td>\n",
       "      <td>3.445236</td>\n",
       "    </tr>\n",
       "    <tr>\n",
       "      <th>9</th>\n",
       "      <td>10</td>\n",
       "      <td>68.0</td>\n",
       "      <td>74.804291</td>\n",
       "      <td>-6.804291</td>\n",
       "    </tr>\n",
       "  </tbody>\n",
       "</table>\n",
       "</div>"
      ],
      "text/plain": [
       "   Recipe  JUDGE_A  predicted_JUDGE_A     Error\n",
       "0       1     41.0          47.192387 -6.192387\n",
       "1       2     75.0          78.304611 -3.304611\n",
       "2       3     75.0          76.599228 -1.599228\n",
       "3       4     78.0          77.487663  0.512337\n",
       "4       5     82.0          77.749008  4.250992\n",
       "5       6     79.0          79.584328 -0.584328\n",
       "6       7     75.0          73.458015  1.541985\n",
       "7       8     80.0          78.875359  1.124641\n",
       "8       9     80.0          76.554764  3.445236\n",
       "9      10     68.0          74.804291 -6.804291"
      ]
     },
     "execution_count": 466,
     "metadata": {},
     "output_type": "execute_result"
    }
   ],
   "source": [
    "query = f\"\"\"\n",
    "    SELECT Recipe, JUDGE_A, predicted_JUDGE_A, JUDGE_A-predicted_JUDGE_A as Error\n",
    "    FROM ML.PREDICT (MODEL `{BQ_PROJECT}.{BQ_DATASET}.{BQ_MODEL_2B}`,(\n",
    "        SELECT *\n",
    "        FROM `{BQ_PROJECT}.{BQ_DATASET}.{BQ_TABLE}`\n",
    "        WHERE Recipe <= 10)\n",
    "    )\n",
    "    ORDER BY Recipe\n",
    "\"\"\"\n",
    "bq.query(query = query).to_dataframe()"
   ]
  },
  {
   "cell_type": "markdown",
   "id": "ce80147e-638c-4b1f-8258-4dc206fea6e4",
   "metadata": {},
   "source": [
    "---\n",
    "## Remove Resources\n",
    "It is important to remove the resources created for this demonstration to prevent ongoing cost associated with storage (GCS, BigQuery) and Vertex AI Endpoints.  The code below removes all the resources created by this notebook.\n",
    "- gcs bucket delete (contains model exports)\n",
    "- endpoints (need to undeploy any models in use)\n",
    "- bq_model (delete these first, before the dataset.  This also removes them from Vertex AI)\n",
    "- bq_dataset"
   ]
  },
  {
   "cell_type": "code",
   "execution_count": 467,
   "id": "4c5e260c-d784-4161-bb1e-82cfc602dd64",
   "metadata": {},
   "outputs": [],
   "source": [
    "# delete gcs bucket\n",
    "bucketDef.delete(force = True)"
   ]
  },
  {
   "cell_type": "code",
   "execution_count": 468,
   "id": "20fb4823-fd55-404e-b4ae-0aa4d0a86b01",
   "metadata": {},
   "outputs": [
    {
     "name": "stdout",
     "output_type": "stream",
     "text": [
      "Undeploying Endpoint model: projects/1026793852137/locations/us-central1/endpoints/4513543610532102144\n",
      "Undeploy Endpoint model backing LRO: projects/1026793852137/locations/us-central1/endpoints/4513543610532102144/operations/6075224849280663552\n",
      "Endpoint model undeployed. Resource name: projects/1026793852137/locations/us-central1/endpoints/4513543610532102144\n",
      "Deleting Endpoint : projects/1026793852137/locations/us-central1/endpoints/4513543610532102144\n",
      "Delete Endpoint  backing LRO: projects/1026793852137/locations/us-central1/operations/14505650746818560\n",
      "Endpoint deleted. . Resource name: projects/1026793852137/locations/us-central1/endpoints/4513543610532102144\n",
      "Undeploying Endpoint model: projects/1026793852137/locations/us-central1/endpoints/4530150634158030848\n",
      "Undeploy Endpoint model backing LRO: projects/1026793852137/locations/us-central1/endpoints/4530150634158030848/operations/4419026086315163648\n",
      "Endpoint model undeployed. Resource name: projects/1026793852137/locations/us-central1/endpoints/4530150634158030848\n",
      "Deleting Endpoint : projects/1026793852137/locations/us-central1/endpoints/4530150634158030848\n",
      "Delete Endpoint  backing LRO: projects/1026793852137/locations/us-central1/operations/6898257681182621696\n",
      "Endpoint deleted. . Resource name: projects/1026793852137/locations/us-central1/endpoints/4530150634158030848\n",
      "Undeploying Endpoint model: projects/1026793852137/locations/us-central1/endpoints/85097801943351296\n",
      "Undeploy Endpoint model backing LRO: projects/1026793852137/locations/us-central1/endpoints/85097801943351296/operations/107392393061335040\n",
      "Endpoint model undeployed. Resource name: projects/1026793852137/locations/us-central1/endpoints/85097801943351296\n",
      "Deleting Endpoint : projects/1026793852137/locations/us-central1/endpoints/85097801943351296\n",
      "Delete Endpoint  backing LRO: projects/1026793852137/locations/us-central1/operations/1525463325729619968\n",
      "Endpoint deleted. . Resource name: projects/1026793852137/locations/us-central1/endpoints/85097801943351296\n",
      "Undeploying Endpoint model: projects/1026793852137/locations/us-central1/endpoints/8238020502367502336\n",
      "Undeploy Endpoint model backing LRO: projects/1026793852137/locations/us-central1/endpoints/8238020502367502336/operations/4719078411488722944\n",
      "Endpoint model undeployed. Resource name: projects/1026793852137/locations/us-central1/endpoints/8238020502367502336\n",
      "Deleting Endpoint : projects/1026793852137/locations/us-central1/endpoints/8238020502367502336\n",
      "Delete Endpoint  backing LRO: projects/1026793852137/locations/us-central1/operations/4142054709231878144\n",
      "Endpoint deleted. . Resource name: projects/1026793852137/locations/us-central1/endpoints/8238020502367502336\n",
      "Undeploying Endpoint model: projects/1026793852137/locations/us-central1/endpoints/4357606473434398720\n",
      "Undeploy Endpoint model backing LRO: projects/1026793852137/locations/us-central1/endpoints/4357606473434398720/operations/4315443294885642240\n",
      "Endpoint model undeployed. Resource name: projects/1026793852137/locations/us-central1/endpoints/4357606473434398720\n",
      "Deleting Endpoint : projects/1026793852137/locations/us-central1/endpoints/4357606473434398720\n",
      "Delete Endpoint  backing LRO: projects/1026793852137/locations/us-central1/operations/6249739334841270272\n",
      "Endpoint deleted. . Resource name: projects/1026793852137/locations/us-central1/endpoints/4357606473434398720\n"
     ]
    }
   ],
   "source": [
    "# delete endpoint, use `force` incase models are deployed or undeploy them first\n",
    "endpoint_auto.delete(force = True)\n",
    "endpoint_manual_2a.undeploy_all(sync = True)\n",
    "endpoint_manual_2a.delete(force = True)\n",
    "endpoint_manual_2a_preprocess.undeploy_all(sync = True)\n",
    "endpoint_manual_2a_preprocess.delete(force = True)\n",
    "endpoint_manual_2b.undeploy_all(sync = True)\n",
    "endpoint_manual_2b.delete(force = True)\n",
    "endpoint_manual_2b_preprocess.undeploy_all(sync = True)\n",
    "endpoint_manual_2b_preprocess.delete(force = True)"
   ]
  },
  {
   "cell_type": "code",
   "execution_count": 469,
   "id": "4faa91fe-a63b-4616-abf5-af837a4579df",
   "metadata": {},
   "outputs": [],
   "source": [
    "# delete models created in BQ with BQML - this also removes them from Vertex AI Model Registry\n",
    "bq.delete_model(bqml_model_auto)\n",
    "bq.delete_model(bqml_model_2a)\n",
    "bq.delete_model(bqml_model_2b)"
   ]
  },
  {
   "cell_type": "code",
   "execution_count": 470,
   "id": "075f77d5-3e42-40dd-909a-7465fb995201",
   "metadata": {},
   "outputs": [
    {
     "name": "stdout",
     "output_type": "stream",
     "text": [
      "Deleting Model : projects/1026793852137/locations/us-central1/models/gcs_03_feature_engineering_2a\n",
      "Delete Model  backing LRO: projects/1026793852137/locations/us-central1/operations/8789206574724808704\n",
      "Model deleted. . Resource name: projects/1026793852137/locations/us-central1/models/gcs_03_feature_engineering_2a\n",
      "Deleting Model : projects/1026793852137/locations/us-central1/models/gcs_03_feature_engineering_2a_preprocess\n",
      "Delete Model  backing LRO: projects/1026793852137/locations/us-central1/operations/1897573244941107200\n",
      "Model deleted. . Resource name: projects/1026793852137/locations/us-central1/models/gcs_03_feature_engineering_2a_preprocess\n",
      "Deleting Model : projects/1026793852137/locations/us-central1/models/gcs_03_feature_engineering_2b\n",
      "Delete Model  backing LRO: projects/1026793852137/locations/us-central1/operations/5590524939384913920\n",
      "Model deleted. . Resource name: projects/1026793852137/locations/us-central1/models/gcs_03_feature_engineering_2b\n",
      "Deleting Model : projects/1026793852137/locations/us-central1/models/gcs_03_feature_engineering_2b_preprocess\n",
      "Delete Model  backing LRO: projects/1026793852137/locations/us-central1/operations/1452279831784849408\n",
      "Model deleted. . Resource name: projects/1026793852137/locations/us-central1/models/gcs_03_feature_engineering_2b_preprocess\n"
     ]
    }
   ],
   "source": [
    "# delete vertexai models\n",
    "vertex_model_2a_gcs.delete()\n",
    "vertex_model_2a_gcs_preprocess.delete()\n",
    "vertex_model_2b_gcs.delete()\n",
    "vertex_model_2b_gcs_preprocess.delete()"
   ]
  },
  {
   "cell_type": "code",
   "execution_count": 471,
   "id": "1cb4ba7d-ff75-484f-8a78-d308fca6c297",
   "metadata": {},
   "outputs": [],
   "source": [
    "# remove the BQ dataset created for this notebook\n",
    "bq.delete_dataset(ds, delete_contents = True)"
   ]
  },
  {
   "cell_type": "code",
   "execution_count": null,
   "id": "6a3f9e78-f00e-49b7-832c-7deea033ba52",
   "metadata": {},
   "outputs": [],
   "source": []
  }
 ],
 "metadata": {
  "environment": {
   "kernel": "python3",
   "name": "tf2-gpu.2-3.m94",
   "type": "gcloud",
   "uri": "gcr.io/deeplearning-platform-release/tf2-gpu.2-3:m94"
  },
  "kernelspec": {
   "display_name": "Python 3",
   "language": "python",
   "name": "python3"
  },
  "language_info": {
   "codemirror_mode": {
    "name": "ipython",
    "version": 3
   },
   "file_extension": ".py",
   "mimetype": "text/x-python",
   "name": "python",
   "nbconvert_exporter": "python",
   "pygments_lexer": "ipython3",
   "version": "3.7.12"
  }
 },
 "nbformat": 4,
 "nbformat_minor": 5
}
